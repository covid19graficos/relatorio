{
  "nbformat": 4,
  "nbformat_minor": 0,
  "metadata": {
    "colab": {
      "name": "2020-05-18-corona-brasil-estados.ipynb",
      "provenance": [],
      "collapsed_sections": []
    },
    "kernelspec": {
      "name": "python3",
      "display_name": "Python 3"
    }
  },
  "cells": [
    {
      "cell_type": "markdown",
      "metadata": {
        "id": "X8_dETEeREdU",
        "colab_type": "text"
      },
      "source": [
        "# Brasil - Comparações entre Regiões e estados\n",
        "> Gráficos e análises dos estados brasileiros\n",
        "\n",
        "- toc: false\n",
        "- branch: master\n",
        "- badges: false\n",
        "- comments: true\n",
        "- author: Vinicius Bastos Gomes & Fernando Wittmann\n",
        "- categories: [coronavirus]\n",
        "\n"
      ]
    },
    {
      "cell_type": "markdown",
      "metadata": {
        "id": "4AMMxtRKcjz3",
        "colab_type": "text"
      },
      "source": [
        "Fonte (estados):https://covid.saude.gov.br/\n",
        "(cidades) https://data.brasil.io/dataset/covid19/caso.csv.gz\n"
      ]
    },
    {
      "cell_type": "code",
      "metadata": {
        "id": "gEwg7y0MFjW4",
        "colab_type": "code",
        "colab": {}
      },
      "source": [
        "#hide\n",
        "# Imports\n",
        "import warnings\n",
        "warnings.filterwarnings('ignore')\n",
        "import gzip\n",
        "import shutil\n",
        "import pandas as pd\n",
        "import matplotlib.pyplot as plt\n",
        "import seaborn as sns\n",
        "from datetime import date, timedelta\n",
        "sns.set(style=\"ticks\", rc={\"lines.linewidth\": 1.6})\n",
        "sns.set_palette('dark')"
      ],
      "execution_count": 0,
      "outputs": []
    },
    {
      "cell_type": "code",
      "metadata": {
        "id": "k8dliZ-uJl-H",
        "colab_type": "code",
        "colab": {}
      },
      "source": [
        "#hide\n",
        "# Functions\n",
        "def sigla_nome(x):\n",
        "    return dic[x]\n",
        "\n",
        "def populacao(x):\n",
        "    return popu[x]"
      ],
      "execution_count": 0,
      "outputs": []
    },
    {
      "cell_type": "code",
      "metadata": {
        "id": "CtRfXe9u89cw",
        "colab_type": "code",
        "outputId": "7b3552a3-d944-4714-8614-3d43183691af",
        "colab": {
          "base_uri": "https://localhost:8080/",
          "height": 207
        }
      },
      "source": [
        "#hide\n",
        "\n",
        "!pip install plotly --upgrade"
      ],
      "execution_count": 3,
      "outputs": [
        {
          "output_type": "stream",
          "text": [
            "Collecting plotly\n",
            "\u001b[?25l  Downloading https://files.pythonhosted.org/packages/d7/78/eb6cbe96c8379c54819592bb228c58ed7386fcc60a55eca7db99432fdf14/plotly-4.7.1-py2.py3-none-any.whl (11.5MB)\n",
            "\u001b[K     |████████████████████████████████| 11.5MB 8.7MB/s \n",
            "\u001b[?25hRequirement already satisfied, skipping upgrade: retrying>=1.3.3 in /usr/local/lib/python3.6/dist-packages (from plotly) (1.3.3)\n",
            "Requirement already satisfied, skipping upgrade: six in /usr/local/lib/python3.6/dist-packages (from plotly) (1.12.0)\n",
            "Installing collected packages: plotly\n",
            "  Found existing installation: plotly 4.4.1\n",
            "    Uninstalling plotly-4.4.1:\n",
            "      Successfully uninstalled plotly-4.4.1\n",
            "Successfully installed plotly-4.7.1\n"
          ],
          "name": "stdout"
        }
      ]
    },
    {
      "cell_type": "code",
      "metadata": {
        "id": "DNsMDOOBRYaN",
        "colab_type": "code",
        "outputId": "1a52f362-db48-4d2c-a252-6283e21e50c8",
        "colab": {
          "base_uri": "https://localhost:8080/",
          "height": 122
        }
      },
      "source": [
        "#hide\n",
        "# Montar Google Drive\n",
        "from google.colab import drive\n",
        "drive.mount('/content/drive')"
      ],
      "execution_count": 4,
      "outputs": [
        {
          "output_type": "stream",
          "text": [
            "Go to this URL in a browser: https://accounts.google.com/o/oauth2/auth?client_id=947318989803-6bn6qk8qdgf4n4g3pfee6491hc0brc4i.apps.googleusercontent.com&redirect_uri=urn%3aietf%3awg%3aoauth%3a2.0%3aoob&response_type=code&scope=email%20https%3a%2f%2fwww.googleapis.com%2fauth%2fdocs.test%20https%3a%2f%2fwww.googleapis.com%2fauth%2fdrive%20https%3a%2f%2fwww.googleapis.com%2fauth%2fdrive.photos.readonly%20https%3a%2f%2fwww.googleapis.com%2fauth%2fpeopleapi.readonly\n",
            "\n",
            "Enter your authorization code:\n",
            "··········\n",
            "Mounted at /content/drive\n"
          ],
          "name": "stdout"
        }
      ]
    },
    {
      "cell_type": "code",
      "metadata": {
        "id": "nGQnYH2bRn-A",
        "colab_type": "code",
        "outputId": "f8251be9-5167-45d9-922f-67908c20f17a",
        "colab": {
          "base_uri": "https://localhost:8080/",
          "height": 34
        }
      },
      "source": [
        "#hide\n",
        "# Abrir pasta com os arquivos\n",
        "%cd \"/content/drive/My Drive/CoronaVirus Brasil\""
      ],
      "execution_count": 5,
      "outputs": [
        {
          "output_type": "stream",
          "text": [
            "/content/drive/My Drive/CoronaVirus Brasil\n"
          ],
          "name": "stdout"
        }
      ]
    },
    {
      "cell_type": "code",
      "metadata": {
        "id": "HgTEpBSGJ87Q",
        "colab_type": "code",
        "colab": {}
      },
      "source": [
        "#hide\n",
        "#dictionaries\n",
        "\n",
        "dic = {'AC': \"Acre\",  'AL': \"Alagoas\",  'AM': \"Amazonas\", 'AP': \"Amapá\", 'BA': \"Bahia\", 'CE': \"Ceará\", 'DF': \"Distrito Federal\",'ES': \"Espírito Santo\",'GO': \"Goiás\",'MA': \"Maranhão\",'MG': \"Minas Gerais\",'MS': \"Mato Grosso do Sul\",'MT': \"Mato Grosso\",'PA': \"Pará\",'PB': \"Paraíba\",'PE': \"Pernambuco\",'PI': \"Piauí\",'PR': \"Paraná\",'RJ': \"Rio de Janeiro\",'RN': \"Rio Grande do Norte\",'RO': \"Rondônia\",'RR': \"Roraima\",'RS': \"Rio Grande do Sul\",'SC': \"Santa Catarina\",'SE': \"Sergipe\",'SP': \"São Paulo\",'TO': \"Tocantins\"} \n",
        "popu ={'AC': 881935,'AL': 3337357,'AM': 4144597,'AP': 845731,'BA': 14873064,'CE': 9132078,'DF': 3015268,'ES': 4018650,'GO': 7018354,'MA': 7075181,'MG': 21168791,'MS': 2778986,'MT': 3484466,'PA': 8602865,'PB': 4018127,'PE': 9557071,'PI': 3273227,'PR': 11433957,'RJ': 17264943,'RN': 3506853,'RO': 1777225,'RR': 605761,'RS': 11377239,'SC': 7164788,'SE': 2298696,'SP': 45919049,'TO': 1572866}"
      ],
      "execution_count": 0,
      "outputs": []
    },
    {
      "cell_type": "code",
      "metadata": {
        "id": "qe1yq_cpfqLm",
        "colab_type": "code",
        "outputId": "51cdc992-ca2a-41fb-8d74-a299a181ec4a",
        "colab": {
          "base_uri": "https://localhost:8080/",
          "height": 34
        }
      },
      "source": [
        "#hide\n",
        "!rm teste.xlsx"
      ],
      "execution_count": 7,
      "outputs": [
        {
          "output_type": "stream",
          "text": [
            "rm: cannot remove 'teste.xlsx': No such file or directory\n"
          ],
          "name": "stdout"
        }
      ]
    },
    {
      "cell_type": "code",
      "metadata": {
        "id": "2lYS7sE5M_Q5",
        "colab_type": "code",
        "outputId": "d3109b87-0667-4e6d-cf94-65d71b38b37b",
        "colab": {
          "base_uri": "https://localhost:8080/",
          "height": 34
        }
      },
      "source": [
        "#hide\n",
        "#manipulating datetime\n",
        "todei = date.today()\n",
        "today = todei.strftime(\"%d-%m-%Y\")\n",
        "today_us = todei.strftime(\"%Y-%m-%d\")\n",
        "today_us\n",
        "yesterdei = date.today() - timedelta(days=1)\n",
        "yesterday = yesterdei.strftime('%Y-%m-%d')\n",
        "yesterday_us = yesterdei.strftime(\"%Y%m%d\")\n",
        "yesterday_us"
      ],
      "execution_count": 8,
      "outputs": [
        {
          "output_type": "execute_result",
          "data": {
            "text/plain": [
              "'20200517'"
            ]
          },
          "metadata": {
            "tags": []
          },
          "execution_count": 8
        }
      ]
    },
    {
      "cell_type": "code",
      "metadata": {
        "id": "4rHdQWPwfky-",
        "colab_type": "code",
        "colab": {}
      },
      "source": [
        "#hide\n",
        "#url = 'https://mobileapps.saude.gov.br/esus-vepi/files/unAFkcaNDeXajurGB7LChj8SgQYS2ptm/da9f9b20efa9e70c900d0def1d9f69e6_DT_PAINEL_COVIDBR_{}.xlsx'.format(yesterday_us)\n",
        "#url = 'https://mobileapps.saude.gov.br/esus-vepi/files/unAFkcaNDeXajurGB7LChj8SgQYS2ptm/da9f9b20efa9e70c900d0def1d9f69e6_DT_PAINEL_COVIDBR_20200511.xlsx'\n",
        "#url = https://mobileapps.saude.gov.br/esus-vepi/files/unAFkcaNDeXajurGB7LChj8SgQYS2ptm/ec8b61e396938e3c1753ec332a8cb0db_DT1_PAINEL_COVIDBR_20200512.xlsx"
      ],
      "execution_count": 0,
      "outputs": []
    },
    {
      "cell_type": "code",
      "metadata": {
        "id": "7ewRYdXdQMU5",
        "colab_type": "code",
        "outputId": "591784b7-130f-46e8-cf56-04d90a7ade4e",
        "colab": {
          "base_uri": "https://localhost:8080/",
          "height": 391
        }
      },
      "source": [
        "#hide\n",
        "!ls\n"
      ],
      "execution_count": 10,
      "outputs": [
        {
          "output_type": "stream",
          "text": [
            " 2020-04-16-masks4all.ipynb\n",
            " 2020-05-01_imapaprendere_-_Base_de_Dados.csv\n",
            " 2020-05-17-corona-brasil-cidades.ipynb\n",
            " 2020-05-17-corona-brasil-estados.ipynb\n",
            " 2020-05-17-corona-mundo-interativo.ipynb\n",
            " ANO_MES_DIA_projecao_brasil.ipynb\n",
            " ANO_MES_DIA_projecao_mundo.ipynb\n",
            "'ARIMA MUNDO corona-mundo-interativo.ipynb'\n",
            " arquivo_geral.csv\n",
            "'arquivo_srag (1).csv'\n",
            " caso.csv\n",
            " caso.csv.gz\n",
            " caso.csv.gz.1\n",
            " cidades.csv\n",
            "'Cópia de 2020-04-12-corona-mundo-interativo.ipynb'\n",
            " dados.csv\n",
            " graficovid\n",
            " HIST_PAINEL_COVIDBR_20200517.xlsx\n",
            "'Notebooks velhos'\n",
            " plots\n",
            " test.xlsx\n",
            " Untitled0.ipynb\n"
          ],
          "name": "stdout"
        }
      ]
    },
    {
      "cell_type": "code",
      "metadata": {
        "id": "bkD6jwIhzHjq",
        "colab_type": "code",
        "colab": {}
      },
      "source": [
        "#hide\n",
        "#casos = pd.read_csv('arquivo_geral.csv',sep=';',encoding = \"ISO-8859-1\",parse_dates=['data'],dayfirst=True)\n",
        "#casos.columns = ['regiao',\t'estado',\t'data',\t'casosNovos',\t'casosAcumulados',\t'obitosNovos',\t'obitosAcumulados']\n",
        "#casos.tail()\n"
      ],
      "execution_count": 0,
      "outputs": []
    },
    {
      "cell_type": "code",
      "metadata": {
        "id": "7VgW5jlc2MLY",
        "colab_type": "code",
        "outputId": "4287ced6-e5cf-474b-ca2b-aa7cc1704262",
        "colab": {
          "base_uri": "https://localhost:8080/",
          "height": 609
        }
      },
      "source": [
        "#hide\n",
        "file = 'HIST_PAINEL_COVIDBR_{}.xlsx'.format(yesterday_us)\n",
        "casos = pd.read_excel(file)\n",
        "casos"
      ],
      "execution_count": 12,
      "outputs": [
        {
          "output_type": "execute_result",
          "data": {
            "text/html": [
              "<div>\n",
              "<style scoped>\n",
              "    .dataframe tbody tr th:only-of-type {\n",
              "        vertical-align: middle;\n",
              "    }\n",
              "\n",
              "    .dataframe tbody tr th {\n",
              "        vertical-align: top;\n",
              "    }\n",
              "\n",
              "    .dataframe thead th {\n",
              "        text-align: right;\n",
              "    }\n",
              "</style>\n",
              "<table border=\"1\" class=\"dataframe\">\n",
              "  <thead>\n",
              "    <tr style=\"text-align: right;\">\n",
              "      <th></th>\n",
              "      <th>regiao</th>\n",
              "      <th>estado</th>\n",
              "      <th>municipio</th>\n",
              "      <th>coduf</th>\n",
              "      <th>codmun</th>\n",
              "      <th>codRegiaoSaude</th>\n",
              "      <th>nomeRegiaoSaude</th>\n",
              "      <th>data</th>\n",
              "      <th>semanaEpi</th>\n",
              "      <th>populacaoTCU2019</th>\n",
              "      <th>casosAcumulado</th>\n",
              "      <th>obitosAcumulado</th>\n",
              "      <th>Recuperadosnovos</th>\n",
              "      <th>emAcompanhamentoNovos</th>\n",
              "    </tr>\n",
              "  </thead>\n",
              "  <tbody>\n",
              "    <tr>\n",
              "      <th>0</th>\n",
              "      <td>Brasil</td>\n",
              "      <td>NaN</td>\n",
              "      <td>NaN</td>\n",
              "      <td>76</td>\n",
              "      <td>NaN</td>\n",
              "      <td>NaN</td>\n",
              "      <td>NaN</td>\n",
              "      <td>2020-02-26</td>\n",
              "      <td>9</td>\n",
              "      <td>210147125.0</td>\n",
              "      <td>1</td>\n",
              "      <td>0</td>\n",
              "      <td>NaN</td>\n",
              "      <td>NaN</td>\n",
              "    </tr>\n",
              "    <tr>\n",
              "      <th>1</th>\n",
              "      <td>Brasil</td>\n",
              "      <td>NaN</td>\n",
              "      <td>NaN</td>\n",
              "      <td>76</td>\n",
              "      <td>NaN</td>\n",
              "      <td>NaN</td>\n",
              "      <td>NaN</td>\n",
              "      <td>2020-02-27</td>\n",
              "      <td>9</td>\n",
              "      <td>210147125.0</td>\n",
              "      <td>1</td>\n",
              "      <td>0</td>\n",
              "      <td>NaN</td>\n",
              "      <td>NaN</td>\n",
              "    </tr>\n",
              "    <tr>\n",
              "      <th>2</th>\n",
              "      <td>Brasil</td>\n",
              "      <td>NaN</td>\n",
              "      <td>NaN</td>\n",
              "      <td>76</td>\n",
              "      <td>NaN</td>\n",
              "      <td>NaN</td>\n",
              "      <td>NaN</td>\n",
              "      <td>2020-02-28</td>\n",
              "      <td>9</td>\n",
              "      <td>210147125.0</td>\n",
              "      <td>1</td>\n",
              "      <td>0</td>\n",
              "      <td>NaN</td>\n",
              "      <td>NaN</td>\n",
              "    </tr>\n",
              "    <tr>\n",
              "      <th>3</th>\n",
              "      <td>Brasil</td>\n",
              "      <td>NaN</td>\n",
              "      <td>NaN</td>\n",
              "      <td>76</td>\n",
              "      <td>NaN</td>\n",
              "      <td>NaN</td>\n",
              "      <td>NaN</td>\n",
              "      <td>2020-02-29</td>\n",
              "      <td>9</td>\n",
              "      <td>210147125.0</td>\n",
              "      <td>2</td>\n",
              "      <td>0</td>\n",
              "      <td>NaN</td>\n",
              "      <td>NaN</td>\n",
              "    </tr>\n",
              "    <tr>\n",
              "      <th>4</th>\n",
              "      <td>Brasil</td>\n",
              "      <td>NaN</td>\n",
              "      <td>NaN</td>\n",
              "      <td>76</td>\n",
              "      <td>NaN</td>\n",
              "      <td>NaN</td>\n",
              "      <td>NaN</td>\n",
              "      <td>2020-03-01</td>\n",
              "      <td>10</td>\n",
              "      <td>210147125.0</td>\n",
              "      <td>2</td>\n",
              "      <td>0</td>\n",
              "      <td>NaN</td>\n",
              "      <td>NaN</td>\n",
              "    </tr>\n",
              "    <tr>\n",
              "      <th>...</th>\n",
              "      <td>...</td>\n",
              "      <td>...</td>\n",
              "      <td>...</td>\n",
              "      <td>...</td>\n",
              "      <td>...</td>\n",
              "      <td>...</td>\n",
              "      <td>...</td>\n",
              "      <td>...</td>\n",
              "      <td>...</td>\n",
              "      <td>...</td>\n",
              "      <td>...</td>\n",
              "      <td>...</td>\n",
              "      <td>...</td>\n",
              "      <td>...</td>\n",
              "    </tr>\n",
              "    <tr>\n",
              "      <th>85588</th>\n",
              "      <td>Sul</td>\n",
              "      <td>RS</td>\n",
              "      <td>NaN</td>\n",
              "      <td>43</td>\n",
              "      <td>NaN</td>\n",
              "      <td>NaN</td>\n",
              "      <td>NaN</td>\n",
              "      <td>2020-05-13</td>\n",
              "      <td>20</td>\n",
              "      <td>11377239.0</td>\n",
              "      <td>2917</td>\n",
              "      <td>111</td>\n",
              "      <td>NaN</td>\n",
              "      <td>NaN</td>\n",
              "    </tr>\n",
              "    <tr>\n",
              "      <th>85589</th>\n",
              "      <td>Sul</td>\n",
              "      <td>RS</td>\n",
              "      <td>NaN</td>\n",
              "      <td>43</td>\n",
              "      <td>NaN</td>\n",
              "      <td>NaN</td>\n",
              "      <td>NaN</td>\n",
              "      <td>2020-05-14</td>\n",
              "      <td>20</td>\n",
              "      <td>11377239.0</td>\n",
              "      <td>2997</td>\n",
              "      <td>120</td>\n",
              "      <td>NaN</td>\n",
              "      <td>NaN</td>\n",
              "    </tr>\n",
              "    <tr>\n",
              "      <th>85590</th>\n",
              "      <td>Sul</td>\n",
              "      <td>RS</td>\n",
              "      <td>NaN</td>\n",
              "      <td>43</td>\n",
              "      <td>NaN</td>\n",
              "      <td>NaN</td>\n",
              "      <td>NaN</td>\n",
              "      <td>2020-05-15</td>\n",
              "      <td>20</td>\n",
              "      <td>11377239.0</td>\n",
              "      <td>3597</td>\n",
              "      <td>126</td>\n",
              "      <td>NaN</td>\n",
              "      <td>NaN</td>\n",
              "    </tr>\n",
              "    <tr>\n",
              "      <th>85591</th>\n",
              "      <td>Sul</td>\n",
              "      <td>RS</td>\n",
              "      <td>NaN</td>\n",
              "      <td>43</td>\n",
              "      <td>NaN</td>\n",
              "      <td>NaN</td>\n",
              "      <td>NaN</td>\n",
              "      <td>2020-05-16</td>\n",
              "      <td>20</td>\n",
              "      <td>11377239.0</td>\n",
              "      <td>3695</td>\n",
              "      <td>132</td>\n",
              "      <td>NaN</td>\n",
              "      <td>NaN</td>\n",
              "    </tr>\n",
              "    <tr>\n",
              "      <th>85592</th>\n",
              "      <td>Sul</td>\n",
              "      <td>RS</td>\n",
              "      <td>NaN</td>\n",
              "      <td>43</td>\n",
              "      <td>NaN</td>\n",
              "      <td>NaN</td>\n",
              "      <td>NaN</td>\n",
              "      <td>2020-05-17</td>\n",
              "      <td>21</td>\n",
              "      <td>11377239.0</td>\n",
              "      <td>3735</td>\n",
              "      <td>142</td>\n",
              "      <td>NaN</td>\n",
              "      <td>NaN</td>\n",
              "    </tr>\n",
              "  </tbody>\n",
              "</table>\n",
              "<p>85593 rows × 14 columns</p>\n",
              "</div>"
            ],
            "text/plain": [
              "       regiao estado  ... Recuperadosnovos  emAcompanhamentoNovos\n",
              "0      Brasil    NaN  ...              NaN                    NaN\n",
              "1      Brasil    NaN  ...              NaN                    NaN\n",
              "2      Brasil    NaN  ...              NaN                    NaN\n",
              "3      Brasil    NaN  ...              NaN                    NaN\n",
              "4      Brasil    NaN  ...              NaN                    NaN\n",
              "...       ...    ...  ...              ...                    ...\n",
              "85588     Sul     RS  ...              NaN                    NaN\n",
              "85589     Sul     RS  ...              NaN                    NaN\n",
              "85590     Sul     RS  ...              NaN                    NaN\n",
              "85591     Sul     RS  ...              NaN                    NaN\n",
              "85592     Sul     RS  ...              NaN                    NaN\n",
              "\n",
              "[85593 rows x 14 columns]"
            ]
          },
          "metadata": {
            "tags": []
          },
          "execution_count": 12
        }
      ]
    },
    {
      "cell_type": "code",
      "metadata": {
        "id": "IOoEV1-vqFnN",
        "colab_type": "code",
        "colab": {}
      },
      "source": [
        "#hide\n",
        "# Removendo manualmente ultimas linhas sem relação\n",
        "#casos=casos.iloc[:2322]"
      ],
      "execution_count": 0,
      "outputs": []
    },
    {
      "cell_type": "code",
      "metadata": {
        "id": "_SFBlPTYky7v",
        "colab_type": "code",
        "outputId": "1f4c8ee0-0453-4a92-febc-886db2a782e6",
        "colab": {
          "base_uri": "https://localhost:8080/",
          "height": 102
        }
      },
      "source": [
        "#hide\n",
        "# adding a relative approach column\n",
        "casos1 = casos[casos['regiao']!='Brasil']\n",
        "casos1.head(4)\n",
        "casos1.columns"
      ],
      "execution_count": 14,
      "outputs": [
        {
          "output_type": "execute_result",
          "data": {
            "text/plain": [
              "Index(['regiao', 'estado', 'municipio', 'coduf', 'codmun', 'codRegiaoSaude',\n",
              "       'nomeRegiaoSaude', 'data', 'semanaEpi', 'populacaoTCU2019',\n",
              "       'casosAcumulado', 'obitosAcumulado', 'Recuperadosnovos',\n",
              "       'emAcompanhamentoNovos'],\n",
              "      dtype='object')"
            ]
          },
          "metadata": {
            "tags": []
          },
          "execution_count": 14
        }
      ]
    },
    {
      "cell_type": "code",
      "metadata": {
        "id": "VO0oxtcIsvYS",
        "colab_type": "code",
        "outputId": "de2b7156-c78c-42d5-fd2a-a7245dec44df",
        "colab": {
          "base_uri": "https://localhost:8080/",
          "height": 419
        }
      },
      "source": [
        "#hide\n",
        "casos = casos1.groupby(['data', 'estado','regiao']).sum()[['casosAcumulado','obitosAcumulado','populacaoTCU2019','emAcompanhamentoNovos']]\n",
        "casos = casos.reset_index(level=[0,1,2])\n",
        "casos['Relativa'] = 10000*(casos['casosAcumulado'].astype(float)/casos['populacaoTCU2019']) #a cada 10 mil\n",
        "casos"
      ],
      "execution_count": 15,
      "outputs": [
        {
          "output_type": "execute_result",
          "data": {
            "text/html": [
              "<div>\n",
              "<style scoped>\n",
              "    .dataframe tbody tr th:only-of-type {\n",
              "        vertical-align: middle;\n",
              "    }\n",
              "\n",
              "    .dataframe tbody tr th {\n",
              "        vertical-align: top;\n",
              "    }\n",
              "\n",
              "    .dataframe thead th {\n",
              "        text-align: right;\n",
              "    }\n",
              "</style>\n",
              "<table border=\"1\" class=\"dataframe\">\n",
              "  <thead>\n",
              "    <tr style=\"text-align: right;\">\n",
              "      <th></th>\n",
              "      <th>data</th>\n",
              "      <th>estado</th>\n",
              "      <th>regiao</th>\n",
              "      <th>casosAcumulado</th>\n",
              "      <th>obitosAcumulado</th>\n",
              "      <th>populacaoTCU2019</th>\n",
              "      <th>emAcompanhamentoNovos</th>\n",
              "      <th>Relativa</th>\n",
              "    </tr>\n",
              "  </thead>\n",
              "  <tbody>\n",
              "    <tr>\n",
              "      <th>0</th>\n",
              "      <td>2020-02-26</td>\n",
              "      <td>SP</td>\n",
              "      <td>Sudeste</td>\n",
              "      <td>1</td>\n",
              "      <td>0</td>\n",
              "      <td>45919049.0</td>\n",
              "      <td>0.0</td>\n",
              "      <td>0.000218</td>\n",
              "    </tr>\n",
              "    <tr>\n",
              "      <th>1</th>\n",
              "      <td>2020-02-27</td>\n",
              "      <td>SP</td>\n",
              "      <td>Sudeste</td>\n",
              "      <td>1</td>\n",
              "      <td>0</td>\n",
              "      <td>45919049.0</td>\n",
              "      <td>0.0</td>\n",
              "      <td>0.000218</td>\n",
              "    </tr>\n",
              "    <tr>\n",
              "      <th>2</th>\n",
              "      <td>2020-02-28</td>\n",
              "      <td>SP</td>\n",
              "      <td>Sudeste</td>\n",
              "      <td>1</td>\n",
              "      <td>0</td>\n",
              "      <td>45919049.0</td>\n",
              "      <td>0.0</td>\n",
              "      <td>0.000218</td>\n",
              "    </tr>\n",
              "    <tr>\n",
              "      <th>3</th>\n",
              "      <td>2020-02-29</td>\n",
              "      <td>SP</td>\n",
              "      <td>Sudeste</td>\n",
              "      <td>2</td>\n",
              "      <td>0</td>\n",
              "      <td>45919049.0</td>\n",
              "      <td>0.0</td>\n",
              "      <td>0.000436</td>\n",
              "    </tr>\n",
              "    <tr>\n",
              "      <th>4</th>\n",
              "      <td>2020-03-01</td>\n",
              "      <td>SP</td>\n",
              "      <td>Sudeste</td>\n",
              "      <td>2</td>\n",
              "      <td>0</td>\n",
              "      <td>45919049.0</td>\n",
              "      <td>0.0</td>\n",
              "      <td>0.000436</td>\n",
              "    </tr>\n",
              "    <tr>\n",
              "      <th>...</th>\n",
              "      <td>...</td>\n",
              "      <td>...</td>\n",
              "      <td>...</td>\n",
              "      <td>...</td>\n",
              "      <td>...</td>\n",
              "      <td>...</td>\n",
              "      <td>...</td>\n",
              "      <td>...</td>\n",
              "    </tr>\n",
              "    <tr>\n",
              "      <th>1756</th>\n",
              "      <td>2020-05-17</td>\n",
              "      <td>RS</td>\n",
              "      <td>Sul</td>\n",
              "      <td>7470</td>\n",
              "      <td>284</td>\n",
              "      <td>20997476.0</td>\n",
              "      <td>0.0</td>\n",
              "      <td>3.557570</td>\n",
              "    </tr>\n",
              "    <tr>\n",
              "      <th>1757</th>\n",
              "      <td>2020-05-17</td>\n",
              "      <td>SC</td>\n",
              "      <td>Sul</td>\n",
              "      <td>9552</td>\n",
              "      <td>166</td>\n",
              "      <td>13469046.0</td>\n",
              "      <td>0.0</td>\n",
              "      <td>7.091816</td>\n",
              "    </tr>\n",
              "    <tr>\n",
              "      <th>1758</th>\n",
              "      <td>2020-05-17</td>\n",
              "      <td>SE</td>\n",
              "      <td>Nordeste</td>\n",
              "      <td>6686</td>\n",
              "      <td>114</td>\n",
              "      <td>4525335.0</td>\n",
              "      <td>0.0</td>\n",
              "      <td>14.774597</td>\n",
              "    </tr>\n",
              "    <tr>\n",
              "      <th>1759</th>\n",
              "      <td>2020-05-17</td>\n",
              "      <td>SP</td>\n",
              "      <td>Sudeste</td>\n",
              "      <td>124690</td>\n",
              "      <td>9564</td>\n",
              "      <td>90583953.0</td>\n",
              "      <td>0.0</td>\n",
              "      <td>13.765131</td>\n",
              "    </tr>\n",
              "    <tr>\n",
              "      <th>1760</th>\n",
              "      <td>2020-05-17</td>\n",
              "      <td>TO</td>\n",
              "      <td>Norte</td>\n",
              "      <td>2764</td>\n",
              "      <td>62</td>\n",
              "      <td>2761613.0</td>\n",
              "      <td>0.0</td>\n",
              "      <td>10.008643</td>\n",
              "    </tr>\n",
              "  </tbody>\n",
              "</table>\n",
              "<p>1761 rows × 8 columns</p>\n",
              "</div>"
            ],
            "text/plain": [
              "            data estado  ... emAcompanhamentoNovos   Relativa\n",
              "0     2020-02-26     SP  ...                   0.0   0.000218\n",
              "1     2020-02-27     SP  ...                   0.0   0.000218\n",
              "2     2020-02-28     SP  ...                   0.0   0.000218\n",
              "3     2020-02-29     SP  ...                   0.0   0.000436\n",
              "4     2020-03-01     SP  ...                   0.0   0.000436\n",
              "...          ...    ...  ...                   ...        ...\n",
              "1756  2020-05-17     RS  ...                   0.0   3.557570\n",
              "1757  2020-05-17     SC  ...                   0.0   7.091816\n",
              "1758  2020-05-17     SE  ...                   0.0  14.774597\n",
              "1759  2020-05-17     SP  ...                   0.0  13.765131\n",
              "1760  2020-05-17     TO  ...                   0.0  10.008643\n",
              "\n",
              "[1761 rows x 8 columns]"
            ]
          },
          "metadata": {
            "tags": []
          },
          "execution_count": 15
        }
      ]
    },
    {
      "cell_type": "code",
      "metadata": {
        "id": "KLaI6vQk8YDH",
        "colab_type": "code",
        "outputId": "fa14abf4-b4c1-49e2-d2b6-e73023c51c4f",
        "colab": {
          "base_uri": "https://localhost:8080/",
          "height": 419
        }
      },
      "source": [
        "#hide\n",
        "casos"
      ],
      "execution_count": 16,
      "outputs": [
        {
          "output_type": "execute_result",
          "data": {
            "text/html": [
              "<div>\n",
              "<style scoped>\n",
              "    .dataframe tbody tr th:only-of-type {\n",
              "        vertical-align: middle;\n",
              "    }\n",
              "\n",
              "    .dataframe tbody tr th {\n",
              "        vertical-align: top;\n",
              "    }\n",
              "\n",
              "    .dataframe thead th {\n",
              "        text-align: right;\n",
              "    }\n",
              "</style>\n",
              "<table border=\"1\" class=\"dataframe\">\n",
              "  <thead>\n",
              "    <tr style=\"text-align: right;\">\n",
              "      <th></th>\n",
              "      <th>data</th>\n",
              "      <th>estado</th>\n",
              "      <th>regiao</th>\n",
              "      <th>casosAcumulado</th>\n",
              "      <th>obitosAcumulado</th>\n",
              "      <th>populacaoTCU2019</th>\n",
              "      <th>emAcompanhamentoNovos</th>\n",
              "      <th>Relativa</th>\n",
              "    </tr>\n",
              "  </thead>\n",
              "  <tbody>\n",
              "    <tr>\n",
              "      <th>0</th>\n",
              "      <td>2020-02-26</td>\n",
              "      <td>SP</td>\n",
              "      <td>Sudeste</td>\n",
              "      <td>1</td>\n",
              "      <td>0</td>\n",
              "      <td>45919049.0</td>\n",
              "      <td>0.0</td>\n",
              "      <td>0.000218</td>\n",
              "    </tr>\n",
              "    <tr>\n",
              "      <th>1</th>\n",
              "      <td>2020-02-27</td>\n",
              "      <td>SP</td>\n",
              "      <td>Sudeste</td>\n",
              "      <td>1</td>\n",
              "      <td>0</td>\n",
              "      <td>45919049.0</td>\n",
              "      <td>0.0</td>\n",
              "      <td>0.000218</td>\n",
              "    </tr>\n",
              "    <tr>\n",
              "      <th>2</th>\n",
              "      <td>2020-02-28</td>\n",
              "      <td>SP</td>\n",
              "      <td>Sudeste</td>\n",
              "      <td>1</td>\n",
              "      <td>0</td>\n",
              "      <td>45919049.0</td>\n",
              "      <td>0.0</td>\n",
              "      <td>0.000218</td>\n",
              "    </tr>\n",
              "    <tr>\n",
              "      <th>3</th>\n",
              "      <td>2020-02-29</td>\n",
              "      <td>SP</td>\n",
              "      <td>Sudeste</td>\n",
              "      <td>2</td>\n",
              "      <td>0</td>\n",
              "      <td>45919049.0</td>\n",
              "      <td>0.0</td>\n",
              "      <td>0.000436</td>\n",
              "    </tr>\n",
              "    <tr>\n",
              "      <th>4</th>\n",
              "      <td>2020-03-01</td>\n",
              "      <td>SP</td>\n",
              "      <td>Sudeste</td>\n",
              "      <td>2</td>\n",
              "      <td>0</td>\n",
              "      <td>45919049.0</td>\n",
              "      <td>0.0</td>\n",
              "      <td>0.000436</td>\n",
              "    </tr>\n",
              "    <tr>\n",
              "      <th>...</th>\n",
              "      <td>...</td>\n",
              "      <td>...</td>\n",
              "      <td>...</td>\n",
              "      <td>...</td>\n",
              "      <td>...</td>\n",
              "      <td>...</td>\n",
              "      <td>...</td>\n",
              "      <td>...</td>\n",
              "    </tr>\n",
              "    <tr>\n",
              "      <th>1756</th>\n",
              "      <td>2020-05-17</td>\n",
              "      <td>RS</td>\n",
              "      <td>Sul</td>\n",
              "      <td>7470</td>\n",
              "      <td>284</td>\n",
              "      <td>20997476.0</td>\n",
              "      <td>0.0</td>\n",
              "      <td>3.557570</td>\n",
              "    </tr>\n",
              "    <tr>\n",
              "      <th>1757</th>\n",
              "      <td>2020-05-17</td>\n",
              "      <td>SC</td>\n",
              "      <td>Sul</td>\n",
              "      <td>9552</td>\n",
              "      <td>166</td>\n",
              "      <td>13469046.0</td>\n",
              "      <td>0.0</td>\n",
              "      <td>7.091816</td>\n",
              "    </tr>\n",
              "    <tr>\n",
              "      <th>1758</th>\n",
              "      <td>2020-05-17</td>\n",
              "      <td>SE</td>\n",
              "      <td>Nordeste</td>\n",
              "      <td>6686</td>\n",
              "      <td>114</td>\n",
              "      <td>4525335.0</td>\n",
              "      <td>0.0</td>\n",
              "      <td>14.774597</td>\n",
              "    </tr>\n",
              "    <tr>\n",
              "      <th>1759</th>\n",
              "      <td>2020-05-17</td>\n",
              "      <td>SP</td>\n",
              "      <td>Sudeste</td>\n",
              "      <td>124690</td>\n",
              "      <td>9564</td>\n",
              "      <td>90583953.0</td>\n",
              "      <td>0.0</td>\n",
              "      <td>13.765131</td>\n",
              "    </tr>\n",
              "    <tr>\n",
              "      <th>1760</th>\n",
              "      <td>2020-05-17</td>\n",
              "      <td>TO</td>\n",
              "      <td>Norte</td>\n",
              "      <td>2764</td>\n",
              "      <td>62</td>\n",
              "      <td>2761613.0</td>\n",
              "      <td>0.0</td>\n",
              "      <td>10.008643</td>\n",
              "    </tr>\n",
              "  </tbody>\n",
              "</table>\n",
              "<p>1761 rows × 8 columns</p>\n",
              "</div>"
            ],
            "text/plain": [
              "            data estado  ... emAcompanhamentoNovos   Relativa\n",
              "0     2020-02-26     SP  ...                   0.0   0.000218\n",
              "1     2020-02-27     SP  ...                   0.0   0.000218\n",
              "2     2020-02-28     SP  ...                   0.0   0.000218\n",
              "3     2020-02-29     SP  ...                   0.0   0.000436\n",
              "4     2020-03-01     SP  ...                   0.0   0.000436\n",
              "...          ...    ...  ...                   ...        ...\n",
              "1756  2020-05-17     RS  ...                   0.0   3.557570\n",
              "1757  2020-05-17     SC  ...                   0.0   7.091816\n",
              "1758  2020-05-17     SE  ...                   0.0  14.774597\n",
              "1759  2020-05-17     SP  ...                   0.0  13.765131\n",
              "1760  2020-05-17     TO  ...                   0.0  10.008643\n",
              "\n",
              "[1761 rows x 8 columns]"
            ]
          },
          "metadata": {
            "tags": []
          },
          "execution_count": 16
        }
      ]
    },
    {
      "cell_type": "code",
      "metadata": {
        "id": "QIlBMpQMNxjr",
        "colab_type": "code",
        "colab": {}
      },
      "source": [
        "#hide\n",
        "# Change states` names\n",
        "\n",
        "casos['estado'] = casos['estado'].apply(sigla_nome)\n"
      ],
      "execution_count": 0,
      "outputs": []
    },
    {
      "cell_type": "markdown",
      "metadata": {
        "id": "UrPdwx9HSkym",
        "colab_type": "text"
      },
      "source": [
        "<center> <h2> Gráficos de contaminação </h2> </center>\n"
      ]
    },
    {
      "cell_type": "markdown",
      "metadata": {
        "id": "HS5mDvI48OqI",
        "colab_type": "text"
      },
      "source": [
        "Casos novos no país."
      ]
    },
    {
      "cell_type": "code",
      "metadata": {
        "id": "QPU9sv729Jhp",
        "colab_type": "code",
        "outputId": "339023c1-c0d1-4dd3-d009-c7d98f72ff6f",
        "colab": {
          "base_uri": "https://localhost:8080/",
          "height": 68
        }
      },
      "source": [
        "#hide\n",
        "casos.columns"
      ],
      "execution_count": 18,
      "outputs": [
        {
          "output_type": "execute_result",
          "data": {
            "text/plain": [
              "Index(['data', 'estado', 'regiao', 'casosAcumulado', 'obitosAcumulado',\n",
              "       'populacaoTCU2019', 'emAcompanhamentoNovos', 'Relativa'],\n",
              "      dtype='object')"
            ]
          },
          "metadata": {
            "tags": []
          },
          "execution_count": 18
        }
      ]
    },
    {
      "cell_type": "code",
      "metadata": {
        "id": "1y-wftbqL4Cq",
        "colab_type": "code",
        "outputId": "96f32e0c-6d67-43c5-971b-bbb0cda1f426",
        "colab": {
          "base_uri": "https://localhost:8080/",
          "height": 173
        }
      },
      "source": [
        "#hide\n",
        "casos_mar5 = casos[casos['data']>='2020-03-05']#[casos['data']>='2020-03-05']\n",
        "casos_mar5.tail(4)"
      ],
      "execution_count": 19,
      "outputs": [
        {
          "output_type": "execute_result",
          "data": {
            "text/html": [
              "<div>\n",
              "<style scoped>\n",
              "    .dataframe tbody tr th:only-of-type {\n",
              "        vertical-align: middle;\n",
              "    }\n",
              "\n",
              "    .dataframe tbody tr th {\n",
              "        vertical-align: top;\n",
              "    }\n",
              "\n",
              "    .dataframe thead th {\n",
              "        text-align: right;\n",
              "    }\n",
              "</style>\n",
              "<table border=\"1\" class=\"dataframe\">\n",
              "  <thead>\n",
              "    <tr style=\"text-align: right;\">\n",
              "      <th></th>\n",
              "      <th>data</th>\n",
              "      <th>estado</th>\n",
              "      <th>regiao</th>\n",
              "      <th>casosAcumulado</th>\n",
              "      <th>obitosAcumulado</th>\n",
              "      <th>populacaoTCU2019</th>\n",
              "      <th>emAcompanhamentoNovos</th>\n",
              "      <th>Relativa</th>\n",
              "    </tr>\n",
              "  </thead>\n",
              "  <tbody>\n",
              "    <tr>\n",
              "      <th>1757</th>\n",
              "      <td>2020-05-17</td>\n",
              "      <td>Santa Catarina</td>\n",
              "      <td>Sul</td>\n",
              "      <td>9552</td>\n",
              "      <td>166</td>\n",
              "      <td>13469046.0</td>\n",
              "      <td>0.0</td>\n",
              "      <td>7.091816</td>\n",
              "    </tr>\n",
              "    <tr>\n",
              "      <th>1758</th>\n",
              "      <td>2020-05-17</td>\n",
              "      <td>Sergipe</td>\n",
              "      <td>Nordeste</td>\n",
              "      <td>6686</td>\n",
              "      <td>114</td>\n",
              "      <td>4525335.0</td>\n",
              "      <td>0.0</td>\n",
              "      <td>14.774597</td>\n",
              "    </tr>\n",
              "    <tr>\n",
              "      <th>1759</th>\n",
              "      <td>2020-05-17</td>\n",
              "      <td>São Paulo</td>\n",
              "      <td>Sudeste</td>\n",
              "      <td>124690</td>\n",
              "      <td>9564</td>\n",
              "      <td>90583953.0</td>\n",
              "      <td>0.0</td>\n",
              "      <td>13.765131</td>\n",
              "    </tr>\n",
              "    <tr>\n",
              "      <th>1760</th>\n",
              "      <td>2020-05-17</td>\n",
              "      <td>Tocantins</td>\n",
              "      <td>Norte</td>\n",
              "      <td>2764</td>\n",
              "      <td>62</td>\n",
              "      <td>2761613.0</td>\n",
              "      <td>0.0</td>\n",
              "      <td>10.008643</td>\n",
              "    </tr>\n",
              "  </tbody>\n",
              "</table>\n",
              "</div>"
            ],
            "text/plain": [
              "            data          estado  ... emAcompanhamentoNovos   Relativa\n",
              "1757  2020-05-17  Santa Catarina  ...                   0.0   7.091816\n",
              "1758  2020-05-17         Sergipe  ...                   0.0  14.774597\n",
              "1759  2020-05-17       São Paulo  ...                   0.0  13.765131\n",
              "1760  2020-05-17       Tocantins  ...                   0.0  10.008643\n",
              "\n",
              "[4 rows x 8 columns]"
            ]
          },
          "metadata": {
            "tags": []
          },
          "execution_count": 19
        }
      ]
    },
    {
      "cell_type": "code",
      "metadata": {
        "id": "W1sRVXwx3-MU",
        "colab_type": "code",
        "outputId": "cca60fb2-84b1-457c-9d8a-cb8ccbdaa60d",
        "colab": {
          "base_uri": "https://localhost:8080/",
          "height": 375
        }
      },
      "source": [
        "#hide\n",
        "\n",
        "#df_last.sort_values('Casos')\n",
        "brasiltotal = casos_mar5.groupby('data').sum()[['casosNovos','obitosNovos']]\n",
        "brasiltotal['Data']=brasiltotal.index\n",
        "\n",
        "import plotly.graph_objects as go\n",
        "fig = go.Figure()\n",
        "fig.add_trace(go.Bar(x=brasiltotal['Data'], y=brasiltotal['casosNovos'], name='Casos novos no Brasil'))\n",
        "fig.add_trace(go.Scatter(x=brasiltotal['Data'], y=brasiltotal['casosNovos'].rolling(4).mean(),mode='lines' ,name='Média móvel (4 períodos)'))\n",
        "fig.add_trace(go.Scatter(x=brasiltotal['Data'], y=brasiltotal['casosNovos'].rolling(7).mean(),mode='lines' ,name='Média móvel (7 períodos)'))\n",
        "\n",
        "fig.update_xaxes(tickangle=90, tickfont=dict(size=10),nticks=20)\n",
        "\n",
        "fig.update_layout(title='Casos novos no Brasil', xaxis_title='Data',yaxis_title='Casos',legend={'font':{'size': 7}})\n",
        "fig.update_layout(legend=dict(x=0,y=1,traceorder=\"normal\",font=dict(\n",
        "    family=\"sans-serif\",size=9,color=\"black\"),bgcolor=\"rgba(0,0,0,0)\"))"
      ],
      "execution_count": 20,
      "outputs": [
        {
          "output_type": "error",
          "ename": "KeyError",
          "evalue": "ignored",
          "traceback": [
            "\u001b[0;31m---------------------------------------------------------------------------\u001b[0m",
            "\u001b[0;31mKeyError\u001b[0m                                  Traceback (most recent call last)",
            "\u001b[0;32m<ipython-input-20-901983490919>\u001b[0m in \u001b[0;36m<module>\u001b[0;34m()\u001b[0m\n\u001b[1;32m      2\u001b[0m \u001b[0;34m\u001b[0m\u001b[0m\n\u001b[1;32m      3\u001b[0m \u001b[0;31m#df_last.sort_values('Casos')\u001b[0m\u001b[0;34m\u001b[0m\u001b[0;34m\u001b[0m\u001b[0;34m\u001b[0m\u001b[0m\n\u001b[0;32m----> 4\u001b[0;31m \u001b[0mbrasiltotal\u001b[0m \u001b[0;34m=\u001b[0m \u001b[0mcasos_mar5\u001b[0m\u001b[0;34m.\u001b[0m\u001b[0mgroupby\u001b[0m\u001b[0;34m(\u001b[0m\u001b[0;34m'data'\u001b[0m\u001b[0;34m)\u001b[0m\u001b[0;34m.\u001b[0m\u001b[0msum\u001b[0m\u001b[0;34m(\u001b[0m\u001b[0;34m)\u001b[0m\u001b[0;34m[\u001b[0m\u001b[0;34m[\u001b[0m\u001b[0;34m'casosNovos'\u001b[0m\u001b[0;34m,\u001b[0m\u001b[0;34m'obitosNovos'\u001b[0m\u001b[0;34m]\u001b[0m\u001b[0;34m]\u001b[0m\u001b[0;34m\u001b[0m\u001b[0;34m\u001b[0m\u001b[0m\n\u001b[0m\u001b[1;32m      5\u001b[0m \u001b[0mbrasiltotal\u001b[0m\u001b[0;34m[\u001b[0m\u001b[0;34m'Data'\u001b[0m\u001b[0;34m]\u001b[0m\u001b[0;34m=\u001b[0m\u001b[0mbrasiltotal\u001b[0m\u001b[0;34m.\u001b[0m\u001b[0mindex\u001b[0m\u001b[0;34m\u001b[0m\u001b[0;34m\u001b[0m\u001b[0m\n\u001b[1;32m      6\u001b[0m \u001b[0;34m\u001b[0m\u001b[0m\n",
            "\u001b[0;32m/usr/local/lib/python3.6/dist-packages/pandas/core/frame.py\u001b[0m in \u001b[0;36m__getitem__\u001b[0;34m(self, key)\u001b[0m\n\u001b[1;32m   2804\u001b[0m             \u001b[0;32mif\u001b[0m \u001b[0mis_iterator\u001b[0m\u001b[0;34m(\u001b[0m\u001b[0mkey\u001b[0m\u001b[0;34m)\u001b[0m\u001b[0;34m:\u001b[0m\u001b[0;34m\u001b[0m\u001b[0;34m\u001b[0m\u001b[0m\n\u001b[1;32m   2805\u001b[0m                 \u001b[0mkey\u001b[0m \u001b[0;34m=\u001b[0m \u001b[0mlist\u001b[0m\u001b[0;34m(\u001b[0m\u001b[0mkey\u001b[0m\u001b[0;34m)\u001b[0m\u001b[0;34m\u001b[0m\u001b[0;34m\u001b[0m\u001b[0m\n\u001b[0;32m-> 2806\u001b[0;31m             \u001b[0mindexer\u001b[0m \u001b[0;34m=\u001b[0m \u001b[0mself\u001b[0m\u001b[0;34m.\u001b[0m\u001b[0mloc\u001b[0m\u001b[0;34m.\u001b[0m\u001b[0m_get_listlike_indexer\u001b[0m\u001b[0;34m(\u001b[0m\u001b[0mkey\u001b[0m\u001b[0;34m,\u001b[0m \u001b[0maxis\u001b[0m\u001b[0;34m=\u001b[0m\u001b[0;36m1\u001b[0m\u001b[0;34m,\u001b[0m \u001b[0mraise_missing\u001b[0m\u001b[0;34m=\u001b[0m\u001b[0;32mTrue\u001b[0m\u001b[0;34m)\u001b[0m\u001b[0;34m[\u001b[0m\u001b[0;36m1\u001b[0m\u001b[0;34m]\u001b[0m\u001b[0;34m\u001b[0m\u001b[0;34m\u001b[0m\u001b[0m\n\u001b[0m\u001b[1;32m   2807\u001b[0m \u001b[0;34m\u001b[0m\u001b[0m\n\u001b[1;32m   2808\u001b[0m         \u001b[0;31m# take() does not accept boolean indexers\u001b[0m\u001b[0;34m\u001b[0m\u001b[0;34m\u001b[0m\u001b[0;34m\u001b[0m\u001b[0m\n",
            "\u001b[0;32m/usr/local/lib/python3.6/dist-packages/pandas/core/indexing.py\u001b[0m in \u001b[0;36m_get_listlike_indexer\u001b[0;34m(self, key, axis, raise_missing)\u001b[0m\n\u001b[1;32m   1551\u001b[0m \u001b[0;34m\u001b[0m\u001b[0m\n\u001b[1;32m   1552\u001b[0m         self._validate_read_indexer(\n\u001b[0;32m-> 1553\u001b[0;31m             \u001b[0mkeyarr\u001b[0m\u001b[0;34m,\u001b[0m \u001b[0mindexer\u001b[0m\u001b[0;34m,\u001b[0m \u001b[0mo\u001b[0m\u001b[0;34m.\u001b[0m\u001b[0m_get_axis_number\u001b[0m\u001b[0;34m(\u001b[0m\u001b[0maxis\u001b[0m\u001b[0;34m)\u001b[0m\u001b[0;34m,\u001b[0m \u001b[0mraise_missing\u001b[0m\u001b[0;34m=\u001b[0m\u001b[0mraise_missing\u001b[0m\u001b[0;34m\u001b[0m\u001b[0;34m\u001b[0m\u001b[0m\n\u001b[0m\u001b[1;32m   1554\u001b[0m         )\n\u001b[1;32m   1555\u001b[0m         \u001b[0;32mreturn\u001b[0m \u001b[0mkeyarr\u001b[0m\u001b[0;34m,\u001b[0m \u001b[0mindexer\u001b[0m\u001b[0;34m\u001b[0m\u001b[0;34m\u001b[0m\u001b[0m\n",
            "\u001b[0;32m/usr/local/lib/python3.6/dist-packages/pandas/core/indexing.py\u001b[0m in \u001b[0;36m_validate_read_indexer\u001b[0;34m(self, key, indexer, axis, raise_missing)\u001b[0m\n\u001b[1;32m   1638\u001b[0m             \u001b[0;32mif\u001b[0m \u001b[0mmissing\u001b[0m \u001b[0;34m==\u001b[0m \u001b[0mlen\u001b[0m\u001b[0;34m(\u001b[0m\u001b[0mindexer\u001b[0m\u001b[0;34m)\u001b[0m\u001b[0;34m:\u001b[0m\u001b[0;34m\u001b[0m\u001b[0;34m\u001b[0m\u001b[0m\n\u001b[1;32m   1639\u001b[0m                 \u001b[0maxis_name\u001b[0m \u001b[0;34m=\u001b[0m \u001b[0mself\u001b[0m\u001b[0;34m.\u001b[0m\u001b[0mobj\u001b[0m\u001b[0;34m.\u001b[0m\u001b[0m_get_axis_name\u001b[0m\u001b[0;34m(\u001b[0m\u001b[0maxis\u001b[0m\u001b[0;34m)\u001b[0m\u001b[0;34m\u001b[0m\u001b[0;34m\u001b[0m\u001b[0m\n\u001b[0;32m-> 1640\u001b[0;31m                 \u001b[0;32mraise\u001b[0m \u001b[0mKeyError\u001b[0m\u001b[0;34m(\u001b[0m\u001b[0;34mf\"None of [{key}] are in the [{axis_name}]\"\u001b[0m\u001b[0;34m)\u001b[0m\u001b[0;34m\u001b[0m\u001b[0;34m\u001b[0m\u001b[0m\n\u001b[0m\u001b[1;32m   1641\u001b[0m \u001b[0;34m\u001b[0m\u001b[0m\n\u001b[1;32m   1642\u001b[0m             \u001b[0;31m# We (temporarily) allow for some missing keys with .loc, except in\u001b[0m\u001b[0;34m\u001b[0m\u001b[0;34m\u001b[0m\u001b[0;34m\u001b[0m\u001b[0m\n",
            "\u001b[0;31mKeyError\u001b[0m: \"None of [Index(['casosNovos', 'obitosNovos'], dtype='object')] are in the [columns]\""
          ]
        }
      ]
    },
    {
      "cell_type": "markdown",
      "metadata": {
        "id": "p8DwOH6ZvCw7",
        "colab_type": "text"
      },
      "source": [
        "Os gráficos a seguir apresentam curvas de contaminação dos estados brasileiros.  É importante notar que as curvas de contaminação estão amplamente relacionadas à quantidade de testes que os países tem realizado.\n",
        "Até o momento estarão apenas na escala aritmética."
      ]
    },
    {
      "cell_type": "code",
      "metadata": {
        "id": "7i6JXxJxCmAD",
        "colab_type": "code",
        "colab": {}
      },
      "source": [
        "\n",
        "#hide_input\n",
        "\n",
        "import plotly.express as px\n",
        "\n",
        "fig = px.line(casos_mar5[casos_mar5['data']>='2020-03-15'], x=\"data\", y=\"casosAcumulado\", title='COVID-19 - Casos confirmados - {}'.format(today),\n",
        "              color='estado',color_discrete_sequence=px.colors.qualitative.Dark24)\n",
        "fig.update_xaxes(tickangle=45, tickfont=dict(size=10))\n",
        "\n",
        "fig.update_layout(legend= {'borderwidth':0,'orientation':'v','yanchor':'top','font':{'size':8}})\n",
        "fig.update_layout(title='Curvas dos estados brasileiros', xaxis_title='Data',yaxis_title='Casos',legend={'font':{'size': 7}})\n",
        "fig.update_layout(legend=dict(x=0,y=1,traceorder=\"normal\",font=dict(\n",
        "    family=\"sans-serif\",size=9,color=\"black\"),bgcolor=\"rgba(1,10,1,0.05)\"))\n",
        "fig.show()"
      ],
      "execution_count": 0,
      "outputs": []
    },
    {
      "cell_type": "markdown",
      "metadata": {
        "id": "AVq-m20eweDT",
        "colab_type": "text"
      },
      "source": [
        "Essa seção conta com gráficos em que o número de casos é dívidido pela população dos estados para que se tenha uma ideia da proporção de infectados por país."
      ]
    },
    {
      "cell_type": "code",
      "metadata": {
        "id": "iAWhbboNL0WG",
        "colab_type": "code",
        "colab": {}
      },
      "source": [
        "#hide_input\n",
        "\n",
        "fig = px.line(casos_mar5[casos_mar5['data']>='2020-03-15'], x=\"data\", y=\"Relativa\", title='COVID-19 Brasil \\n Crescimento por estado a cada 10 mil habitatnes  {}'.format(today),\n",
        "              color='estado',color_discrete_sequence=px.colors.qualitative.Alphabet)\n",
        "fig.update_layout(legend= {'borderwidth':0,'orientation':'v','yanchor':'top','font':{'size':8}})\n",
        "fig.show()"
      ],
      "execution_count": 0,
      "outputs": []
    },
    {
      "cell_type": "code",
      "metadata": {
        "id": "uHGrirKqLRtP",
        "colab_type": "code",
        "colab": {}
      },
      "source": [
        "#hide\n",
        "x = casos_mar5['data'].max()\n",
        "casos_mar5[casos_mar5['data']==x].tail(4)"
      ],
      "execution_count": 0,
      "outputs": []
    },
    {
      "cell_type": "code",
      "metadata": {
        "id": "kY5SSPA4tPoA",
        "colab_type": "code",
        "colab": {}
      },
      "source": [
        "#hide\n",
        "x = casos_mar5.iloc[-1,0]\n",
        "df_last = casos_mar5[casos_mar5['data']==x]\n",
        "df_last.tail(3)\n",
        "df_last.sort_values(\"casosAcumulado\",ascending=False)\n",
        "df_last.tail(4)"
      ],
      "execution_count": 0,
      "outputs": []
    },
    {
      "cell_type": "markdown",
      "metadata": {
        "id": "UzX6fS5uwwu7",
        "colab_type": "text"
      },
      "source": [
        "O gráfico a seguir é um comparativo de casos totais por estado no Brasil.\n"
      ]
    },
    {
      "cell_type": "code",
      "metadata": {
        "id": "z8hl8Wxk2OHl",
        "colab_type": "code",
        "colab": {}
      },
      "source": [
        "#hide_input\n",
        "\n",
        "df_last.sort_values('casosAcumulado',ascending=False,inplace=True)\n",
        "\n",
        "fig = px.bar(df_last,x=\"casosAcumulado\", y='estado', color='estado',orientation='h',height=800,\n",
        "             color_discrete_sequence=px.colors.qualitative.Dark24,title='COVID-19 Brasil \\n Casos totais por estado - {}'.format(today))#.update_yaxes(categoryorder='total dscending')\n",
        "\n",
        "fig.update_layout(showlegend=True)"
      ],
      "execution_count": 0,
      "outputs": []
    },
    {
      "cell_type": "markdown",
      "metadata": {
        "id": "9j2StrNzw3_V",
        "colab_type": "text"
      },
      "source": [
        "O gráfico a seguir é um comparativo a proporção de habitantes infectados por estado no Brasil.\n"
      ]
    },
    {
      "cell_type": "code",
      "metadata": {
        "id": "KzC2MLfWqS6Q",
        "colab_type": "code",
        "colab": {}
      },
      "source": [
        "#hide_input\n",
        "\n",
        "\n",
        "#df_last.sort_values('Casos')\n",
        "df_last.sort_values('Relativa',ascending=False,inplace=True)\n",
        "fig = px.bar(df_last,x=\"Relativa\", y='estado', color='estado',orientation='h',height=800,\n",
        "             color_discrete_sequence=px.colors.qualitative.Dark24,title='COVID-19 Brasil \\n Casos a cada 10 mil habitantes (por estado) - {}'.format(today))#.update_yaxes(categoryorder='total dscending')\n",
        "\n",
        "fig.update_layout(legend= {'borderwidth':0,'orientation':'v','yanchor':'top','font':{'size':8}})\n"
      ],
      "execution_count": 0,
      "outputs": []
    },
    {
      "cell_type": "code",
      "metadata": {
        "id": "glCQbDidoQcz",
        "colab_type": "code",
        "colab": {}
      },
      "source": [
        "#hide\n",
        "#casos_mar5 = casos_mar5[casos_mar5['data']>='2020-03-12']"
      ],
      "execution_count": 0,
      "outputs": []
    },
    {
      "cell_type": "code",
      "metadata": {
        "id": "WzvJez2aoUBq",
        "colab_type": "code",
        "colab": {}
      },
      "source": [
        "#hide\n",
        "regioes = casos_mar5.groupby(['data','regiao']).sum()[['casosAcumulado','obitosAcumulado']]\n",
        "regioes.reset_index(level=[0,1],inplace=True)\n",
        "regioes.tail(3)"
      ],
      "execution_count": 0,
      "outputs": []
    },
    {
      "cell_type": "code",
      "metadata": {
        "id": "wGYxn2T3r7sp",
        "colab_type": "code",
        "colab": {}
      },
      "source": [
        "#hide\n",
        "sul = casos_mar5[(casos_mar5['estado']=='Paraná') | (casos_mar5['estado']=='Santa Catarina') | (casos_mar5['estado']=='Rio Grande do Sul')]"
      ],
      "execution_count": 0,
      "outputs": []
    },
    {
      "cell_type": "code",
      "metadata": {
        "id": "TH1e2XDEs0D5",
        "colab_type": "code",
        "colab": {}
      },
      "source": [
        "#hide\n",
        "sudeste = casos_mar5[(casos_mar5['estado']=='São Paulo') | (casos_mar5['estado']=='Minas Gerais') | (casos_mar5['estado']=='Rio de Janeiro') | (casos_mar5['estado']=='Espírito Santo')]"
      ],
      "execution_count": 0,
      "outputs": []
    },
    {
      "cell_type": "code",
      "metadata": {
        "id": "zZAlUxcauWCx",
        "colab_type": "code",
        "colab": {}
      },
      "source": [
        "#hide\n",
        "centroeste =  casos_mar5[(casos_mar5['estado']=='Goiás') | (casos_mar5['estado']=='Mato Grosso') | (casos_mar5['estado']=='Mato Grosso do Sul')| (casos_mar5['estado']=='Distrito Federal')]"
      ],
      "execution_count": 0,
      "outputs": []
    },
    {
      "cell_type": "code",
      "metadata": {
        "id": "hMZaqJaNv4C6",
        "colab_type": "code",
        "colab": {}
      },
      "source": [
        "#hide\n",
        "norte = casos_mar5[(casos_mar5['estado']=='Acre') | (casos_mar5['estado']=='Amapá') | (casos_mar5['estado']=='Amazonas') | (casos_mar5['estado']=='Pará') | (casos_mar5['estado']=='Rondônia')| (casos_mar5['estado']=='Roraima')| (casos_mar5['estado']=='Tocantins')]"
      ],
      "execution_count": 0,
      "outputs": []
    },
    {
      "cell_type": "code",
      "metadata": {
        "id": "HudMUpjqzsyC",
        "colab_type": "code",
        "colab": {}
      },
      "source": [
        "#hide\n",
        "nordeste = casos_mar5[(casos_mar5['estado']=='Alagoas') | (casos_mar5['estado']=='Bahia') | (casos_mar5['estado']=='Ceará') | (casos_mar5['estado']=='Maranhão') | (casos_mar5['estado']=='Paraíba')| (casos_mar5['estado']=='Pernambuco')| (casos_mar5['estado']=='Piauí')| (casos_mar5['estado']=='Rio Grande do Norte')| (casos_mar5['estado']=='Piauí')| (casos_mar5['estado']=='Sergipe')]"
      ],
      "execution_count": 0,
      "outputs": []
    },
    {
      "cell_type": "markdown",
      "metadata": {
        "id": "WWBuQaB2TNnw",
        "colab_type": "text"
      },
      "source": [
        "<center> <h2> Curvas de contaminação por regiões</h2> </center>\n"
      ]
    },
    {
      "cell_type": "markdown",
      "metadata": {
        "id": "4FCUqPbuxbki",
        "colab_type": "text"
      },
      "source": [
        "Comparações entre as regiões do Brasil. Primeiramente uma soma dos casos por regiões e, posteriormente, uma comparação entre os estados das regiões.\n",
        "\n"
      ]
    },
    {
      "cell_type": "code",
      "metadata": {
        "id": "1L678mIyf7A1",
        "colab_type": "code",
        "colab": {}
      },
      "source": [
        "#hide_input\n",
        "fig = px.line(regioes[regioes['data']>='2020-03-15'], x=\"data\", y=\"casosAcumulado\", title='COVID-19 Brasil - Regiões - {}'.format(today),\n",
        "              color='regiao',color_discrete_sequence=[ \"blue\",'green',\"darkmagenta\",\"gray\",\"brown\",\"orange\",\"magenta\",'red',\"darkblue\",\"lightgreen\",'coral','lightblue'])\n",
        "fig.update_layout(legend= {'borderwidth':0,'orientation':'v','yanchor':'top','font':{'size':8}})\n",
        "fig.show()"
      ],
      "execution_count": 0,
      "outputs": []
    },
    {
      "cell_type": "code",
      "metadata": {
        "id": "uQSXQ5rk3oSW",
        "colab_type": "code",
        "colab": {}
      },
      "source": [
        "#hide_input\n",
        "\n",
        "\n",
        "fig = px.line(sudeste[sudeste['data']>='2020-03-15'], x=\"data\", y=\"casosAcumulado\", title='COVID-19 Brasil - Sudeste - {}'.format(today),\n",
        "              color='estado',color_discrete_sequence=[ \"blue\",'green',\"darkmagenta\",\"gray\",\"brown\",\"orange\",\"magenta\",'red',\"darkblue\",\"lightgreen\",'coral','lightblue'])\n",
        "fig.update_layout(legend= {'borderwidth':0,'orientation':'v','yanchor':'top','font':{'size':8}})\n",
        "fig.show()"
      ],
      "execution_count": 0,
      "outputs": []
    },
    {
      "cell_type": "code",
      "metadata": {
        "id": "cxgrkVNK7gUK",
        "colab_type": "code",
        "colab": {}
      },
      "source": [
        "#hide_input\n",
        "#sudeste relativa\n",
        "#sudeste.sort_values('Relativa',ascending=False,inplace=True)\n",
        "#plt.figure(figsize=(15,8))\n",
        "#sns.lineplot(x='Dia',y='Relativa',data=sudeste,hue='Estado',size=\"Estado\")\n",
        "#plt.title('COVID-19 Brasil - Sudeste - {}\\n Contaminados a cada 10 mil habitantes'.format(today))\n",
        "#plt.grid(color='black', linestyle='--', linewidth=0.17)\n",
        "#plt.xlabel('Data')\n",
        "#plt.ylabel('Contaminação relativa')\n",
        "#plt.savefig(\"plots/19_sudeste_relativa.png\",bbox_inches = 'tight')\n",
        "\n",
        "fig = px.line(sudeste[sudeste['data']>='2020-03-15'], x=\"data\", y=\"Relativa\", title='COVID-19 Brasil - Sudeste - {}\\n Contaminados a cada 10 mil habitantes'.format(today),\n",
        "              color='estado',color_discrete_sequence=[ \"blue\",'green',\"darkmagenta\",\"gray\",\"brown\",\"orange\",\"magenta\",'red',\"darkblue\",\"lightgreen\",'coral','lightblue'])\n",
        "fig.update_layout(legend= {'borderwidth':0,'orientation':'v','yanchor':'top','font':{'size':8}})\n",
        "fig.show()"
      ],
      "execution_count": 0,
      "outputs": []
    },
    {
      "cell_type": "code",
      "metadata": {
        "id": "dhGRedaF3zk3",
        "colab_type": "code",
        "colab": {}
      },
      "source": [
        "#hide_input\n",
        "#sul absoluta\n",
        "#sul.sort_values('Casos',ascending=False,inplace=True)\n",
        "#plt.figure(figsize=(15,8))\n",
        "#sns.lineplot(x='Dia',y='Casos',data=sul,hue='Estado',size=\"Estado\")\n",
        "#plt.title('COVID-19 Brasil - Sul - {}'.format(today))\n",
        "#plt.grid(color='black', linestyle='--', linewidth=0.17)\n",
        "#plt.xlabel('Data')\n",
        "#plt.ylabel('Casos')\n",
        "#plt.savefig(\"plots/20_sul_absoluta.png\",bbox_inches = 'tight')\n",
        "\n",
        "fig = px.line(sul[sul['data']>='2020-03-15'], x=\"data\", y=\"casosAcumulado\", title='COVID-19 Brasil - Sul - {}'.format(today),\n",
        "              color='estado',color_discrete_sequence=[ \"blue\",'green',\"darkmagenta\",\"gray\",\"brown\",\"orange\",\"magenta\",'red',\"darkblue\",\"lightgreen\",'coral','lightblue'])\n",
        "fig.update_layout(legend= {'borderwidth':0,'orientation':'v','yanchor':'top','font':{'size':8}})\n",
        "fig.show()"
      ],
      "execution_count": 0,
      "outputs": []
    },
    {
      "cell_type": "code",
      "metadata": {
        "id": "1ujVUSELSl4N",
        "colab_type": "code",
        "colab": {}
      },
      "source": [
        "#hide_input\n",
        "#sul relativa\n",
        "#sul.sort_values('Relativa',ascending=False,inplace=True)\n",
        "#plt.figure(figsize=(15,8))\n",
        "#sns.lineplot(x='Dia',y='Relativa',data=sul,hue='Estado',size=\"Estado\")\n",
        "#plt.title('COVID-19 Brasil - Sul - {}\\n Contaminados a cada 10 mil habitantes'.format(today))\n",
        "#plt.grid(color='black', linestyle='--', linewidth=0.17)\n",
        "#plt.xlabel('Data')\n",
        "#plt.ylabel('Contaminação relativa')\n",
        "#plt.savefig(\"plots/21_sul_relativa.png\",bbox_inches = 'tight')\n",
        "\n",
        "fig = px.line(sul[sul['data']>='2020-03-15'], x=\"data\", y=\"Relativa\", title='COVID-19 Brasil - Sul - {}\\n Contaminados a cada 10 mil habitantes'.format(today),\n",
        "              color='estado',color_discrete_sequence=[ \"blue\",'green',\"darkmagenta\",\"gray\",\"brown\",\"orange\",\"magenta\",'red',\"darkblue\",\"lightgreen\",'coral','lightblue'])\n",
        "fig.update_layout(legend= {'borderwidth':0,'orientation':'v','yanchor':'top','font':{'size':8}})\n",
        "fig.show()"
      ],
      "execution_count": 0,
      "outputs": []
    },
    {
      "cell_type": "code",
      "metadata": {
        "id": "NiXDOn5ES1AL",
        "colab_type": "code",
        "colab": {}
      },
      "source": [
        "#hide_input\n",
        "#nordeste absoluta\n",
        "#nordeste.sort_values('Casos',ascending=False,inplace=True)\n",
        "#plt.figure(figsize=(15,8))\n",
        "#sns.lineplot(x='Dia',y='Casos',data=nordeste,hue='Estado',size=\"Estado\")\n",
        "#plt.title('COVID-19 Brasil - Nordeste - {}'.format(today))\n",
        "#plt.grid(color='black', linestyle='--', linewidth=0.17)\n",
        "#plt.xlabel('Data')\n",
        "#plt.ylabel('Casos')\n",
        "#plt.savefig(\"plots/22_nordeste_absoluta.png\",bbox_inches = 'tight')\n",
        "fig = px.line(nordeste[nordeste['data']>='2020-03-15'], x=\"data\", y=\"casosAcumulado\", title='COVID-19 Brasil - Nordeste - {}'.format(today),\n",
        "              color='estado',color_discrete_sequence=[ \"blue\",'green',\"darkmagenta\",\"gray\",\"brown\",\"orange\",'red',\"darkblue\",\"lightgreen\",'coral','lightblue'])\n",
        "fig.update_layout(legend= {'borderwidth':0,'orientation':'v','yanchor':'top','font':{'size':8}})\n",
        "fig.show()"
      ],
      "execution_count": 0,
      "outputs": []
    },
    {
      "cell_type": "code",
      "metadata": {
        "id": "zFCrKwcn4YWy",
        "colab_type": "code",
        "colab": {}
      },
      "source": [
        "#hide_input\n",
        "#nordeste relativa\n",
        "#nordeste.sort_values('Relativa',ascending=False,inplace=True)\n",
        "#plt.figure(figsize=(15,8))\n",
        "#sns.lineplot(x='Dia',y='Relativa',data=nordeste,hue='Estado',size=\"Estado\")\n",
        "#plt.title('COVID-19 Brasil - Nordeste - {}\\n Contaminados a cada 10 mil habitantes'.format(today))\n",
        "#plt.grid(color='black', linestyle='--', linewidth=0.17)\n",
        "#plt.xlabel('Data')\n",
        "#plt.ylabel('Contaminação relativa')\n",
        "#plt.savefig(\"plots/23_brasil_curva_relativa.png\",bbox_inches = 'tight')\n",
        "\n",
        "\n",
        "fig = px.line(nordeste[nordeste['data']>='2020-03-15'], x=\"data\", y=\"Relativa\", title='COVID-19 Brasil - Nordeste - {}\\n Contaminados a cada 10 mil habitantes'.format(today),\n",
        "              color='estado',color_discrete_sequence=[ \"blue\",'green',\"darkmagenta\",\"gray\",\"brown\",\"orange\",'red',\"darkblue\",\"lightgreen\",'coral','lightblue'])\n",
        "fig.update_layout(legend= {'borderwidth':0,'orientation':'v','yanchor':'top','font':{'size':8}})\n",
        "fig.show()"
      ],
      "execution_count": 0,
      "outputs": []
    },
    {
      "cell_type": "code",
      "metadata": {
        "id": "L5TxPTfb4e2b",
        "colab_type": "code",
        "colab": {}
      },
      "source": [
        "#hide_input\n",
        "#norte absoluta\n",
        "#norte.sort_values('Casos',ascending=False,inplace=True)\n",
        "#plt.figure(figsize=(15,8))\n",
        "#sns.lineplot(x='Dia',y='Casos',data=norte,hue='Estado',size=\"Estado\")\n",
        "#plt.title('COVID-19 Brasil - Norte - {}'.format(today))\n",
        "#plt.grid(color='black', linestyle='--', linewidth=0.17)\n",
        "#plt.xlabel('Data')\n",
        "#plt.ylabel('Casos')\n",
        "#plt.savefig(\"plots/24_norte_absoluta.png\",bbox_inches = 'tight')\n",
        "\n",
        "fig = px.line(norte[norte['data']>='2020-03-15'], x=\"data\", y=\"casosAcumulado\", title='COVID-19 Brasil - Norte - {}'.format(today),\n",
        "              color='estado',color_discrete_sequence=[ \"blue\",'green',\"darkmagenta\",\"gray\",\"orange\",'red',\"darkblue\",\"lightgreen\",'coral','lightblue'])\n",
        "fig.update_layout(legend= {'borderwidth':0,'orientation':'v','yanchor':'top','font':{'size':8}})\n",
        "fig.show()"
      ],
      "execution_count": 0,
      "outputs": []
    },
    {
      "cell_type": "code",
      "metadata": {
        "id": "XqjQ8d5yTA9S",
        "colab_type": "code",
        "colab": {}
      },
      "source": [
        "#hide_input\n",
        "#norte relativa\n",
        "#norte.sort_values('Relativa',ascending=False,inplace=True)\n",
        "#plt.figure(figsize=(15,8))\n",
        "#sns.lineplot(x='Dia',y='Relativa',data=norte,hue='Estado',size=\"Estado\")\n",
        "#plt.title('COVID-19 Brasil - Norte - {}\\n Contaminados a cada 10 mil habitantes'.format(today))\n",
        "#plt.grid(color='black', linestyle='--', linewidth=0.17)\n",
        "#plt.xlabel('Data')\n",
        "#plt.ylabel('Contaminação relativa')\n",
        "#plt.savefig(\"plots/25_norte_relativa.png\",bbox_inches = 'tight')\n",
        "fig = px.line(norte[norte['data']>='2020-03-15'], x=\"data\", y=\"Relativa\", title='COVID-19 Brasil - Norte - {}\\n Contaminados a cada 10 mil habitantes'.format(today),\n",
        "              color='estado',color_discrete_sequence=[ \"blue\",'green',\"darkmagenta\",\"gray\",\"orange\",'red',\"darkblue\",\"lightgreen\",'coral','lightblue'])\n",
        "fig.update_layout(legend= {'borderwidth':0,'orientation':'v','yanchor':'top','font':{'size':8}})\n",
        "fig.show()"
      ],
      "execution_count": 0,
      "outputs": []
    },
    {
      "cell_type": "code",
      "metadata": {
        "id": "3QH50Fbr4k_4",
        "colab_type": "code",
        "colab": {}
      },
      "source": [
        "#hide_input\n",
        "#centroste absoluta\n",
        "#plt.figure(figsize=(15,8))\n",
        "#sns.lineplot(x='Dia',y='Casos',data=centroeste,hue='Estado',size=\"Estado\")\n",
        "#plt.title('COVID-19 Brasil - Centro Oeste - {}'.format(today))\n",
        "#plt.grid(color='black', linestyle='--', linewidth=0.17)\n",
        "#plt.xlabel('Data')\n",
        "#plt.ylabel('Casos')\n",
        "#plt.savefig(\"plots/26_centroeste_absoluta.png\",bbox_inches = 'tight')\n",
        "\n",
        "fig = px.line(centroeste[centroeste['data']>='2020-03-15'], x=\"data\", y=\"casosAcumulado\", title='COVID-19 Brasil - Centro Oeste - {}'.format(today),\n",
        "              color='estado',color_discrete_sequence=[ 'green',\"darkmagenta\",\"orange\",'red',\"darkblue\",\"lightgreen\",'coral','lightblue'])\n",
        "fig.update_layout(legend= {'borderwidth':0,'orientation':'v','yanchor':'top','font':{'size':8}})\n",
        "fig.show()"
      ],
      "execution_count": 0,
      "outputs": []
    },
    {
      "cell_type": "code",
      "metadata": {
        "id": "uaPBg0voTNUJ",
        "colab_type": "code",
        "colab": {}
      },
      "source": [
        "#hide_input\n",
        "#centroeste relativa\n",
        "#centroeste.sort_values('Relativa',ascending=False,inplace=True)\n",
        "#plt.figure(figsize=(15,8))\n",
        "#sns.lineplot(x='Dia',y='Relativa',data=centroeste,hue='Estado',size=\"Estado\")\n",
        "#plt.title('COVID-19 Brasil - Centro Oeste - {}\\n Contaminados a cada 10 mil habitantes'.format(today))\n",
        "#plt.grid(color='black', linestyle='--', linewidth=0.17)\n",
        "#plt.xlabel('Data')\n",
        "#plt.ylabel('Contaminação relativa')\n",
        "#plt.savefig(\"plots/27_centroeste_relativa.png\",bbox_inches = 'tight')\n",
        "\n",
        "fig = px.line(centroeste[centroeste['data']>='2020-03-15'], x=\"data\", y=\"Relativa\", title='COVID-19 Brasil - Centro Oeste - {}\\n Contaminados a cada 10 mil habitantes'.format(today),\n",
        "              color='estado',color_discrete_sequence=[ 'green',\"darkmagenta\",\"orange\",'red',\"darkblue\",\"lightgreen\",'coral','lightblue'])\n",
        "fig.update_layout(legend= {'borderwidth':0,'orientation':'v','yanchor':'top','font':{'size':8}})\n",
        "fig.show()"
      ],
      "execution_count": 0,
      "outputs": []
    },
    {
      "cell_type": "markdown",
      "metadata": {
        "id": "MEVqQYlthRrG",
        "colab_type": "text"
      },
      "source": [
        "<center> <h2> Óbitos </h2> </center>\n"
      ]
    },
    {
      "cell_type": "code",
      "metadata": {
        "id": "JRKB2Kp78Xbg",
        "colab_type": "code",
        "colab": {}
      },
      "source": [
        "\n",
        "#hide\n",
        "\n",
        "#df_last.sort_values('Casos')\n",
        "brasiltotal = casos_mar5.groupby('data').sum()[['casosNovos','obitosNovos']]\n",
        "brasiltotal['Data']=brasiltotal.index\n",
        "import plotly.graph_objects as go\n",
        "fig = go.Figure()\n",
        "fig.add_trace(go.Bar(x=brasiltotal['Data'], y=brasiltotal['obitosNovos'], name='Casos novos',textfont={'size': 2}))\n",
        "fig.add_trace(go.Scatter(x=brasiltotal['Data'], y=brasiltotal['obitosNovos'].rolling(4).mean(),mode='lines' ,name='Média móvel (4 períodos)'))\n",
        "fig.add_trace(go.Scatter(x=brasiltotal['Data'], y=brasiltotal['obitosNovos'].rolling(7).mean(),mode='lines' ,name='Média móvel (7 períodos)'))\n",
        "                    \n",
        "fig.update_xaxes(tickangle=90, tickfont=dict(size=10),nticks=20)\n",
        "\n",
        "\n",
        "fig.update_layout(title='Óbitos novos no Brasil',\n",
        "                   xaxis_title='Data',\n",
        "                   yaxis_title='Óbitos',legend={'font':{'size': 7}})"
      ],
      "execution_count": 0,
      "outputs": []
    },
    {
      "cell_type": "markdown",
      "metadata": {
        "id": "4K3DZXdDy4pC",
        "colab_type": "text"
      },
      "source": [
        "Comparações entre as regiões do Brasil. Primeiramente uma soma dos casos por regiões e, posteriormente, uma comparação entre os estados das regiões."
      ]
    },
    {
      "cell_type": "code",
      "metadata": {
        "id": "2EKxz5IkhQQb",
        "colab_type": "code",
        "colab": {}
      },
      "source": [
        "#hide_input\n",
        "\n",
        "\n",
        "fig = px.line(casos_mar5[casos_mar5['data']>='2020-03-15'], x=\"data\", y=\"obitosAcumulado\", title='COVID-19 Brasil \\n Linhas de óbitos por estado - {} '.format(today),\n",
        "              color='estado',color_discrete_sequence=px.colors.qualitative.Dark24)\n",
        "fig.update_layout(legend= {'borderwidth':0,'orientation':'v','yanchor':'top','font':{'size':8}})\n",
        "fig.show()\n"
      ],
      "execution_count": 0,
      "outputs": []
    },
    {
      "cell_type": "markdown",
      "metadata": {
        "id": "pPaw_jT5r-r1",
        "colab_type": "text"
      },
      "source": [
        "<center> <h2> Óbitos por regiões </h2> </center>\n"
      ]
    },
    {
      "cell_type": "code",
      "metadata": {
        "id": "pJpXY5ELyrbF",
        "colab_type": "code",
        "colab": {}
      },
      "source": [
        "#hide_input\n",
        "\n",
        "fig = px.line(regioes, x=\"data\", y=\"obitosAcumulado\", title='COVID-19 Brasil - Sudeste - {}'.format(today),\n",
        "              color='regiao',color_discrete_sequence=[ \"blue\",'green',\"darkmagenta\",\"gray\",\"brown\",\"orange\",\"magenta\",'red',\"darkblue\",\"lightgreen\",'coral','lightblue'])\n",
        "fig.update_layout(legend= {'borderwidth':0,'orientation':'v','yanchor':'top','font':{'size':8}})\n",
        "fig.show()"
      ],
      "execution_count": 0,
      "outputs": []
    },
    {
      "cell_type": "code",
      "metadata": {
        "id": "NinuOhNpr9iB",
        "colab_type": "code",
        "colab": {}
      },
      "source": [
        "#hide_input\n",
        "\n",
        "\n",
        "fig = px.line(sudeste, x=\"data\", y=\"obitosAcumulado\", title='COVID-19 Brasil (Óbitos) - Sudeste - {}'.format(today),\n",
        "              color='estado',color_discrete_sequence=[ 'green',\"darkmagenta\",\"orange\",'red',\"darkblue\",\"lightgreen\",'coral','lightblue'])\n",
        "fig.update_layout(legend= {'borderwidth':0,'orientation':'v','yanchor':'top','font':{'size':8}})\n",
        "fig.show()"
      ],
      "execution_count": 0,
      "outputs": []
    },
    {
      "cell_type": "code",
      "metadata": {
        "id": "VMVe31kssYWz",
        "colab_type": "code",
        "colab": {}
      },
      "source": [
        "#hide_input\n",
        "#Sul absoluta\n",
        "\n",
        "#sul.sort_values('Mortes',ascending=False,inplace=True)\n",
        "#plt.figure(figsize=(15,8))\n",
        "#sns.lineplot(x='Dia',y='Mortes',data=sul,hue='Estado',size=\"Estado\")\n",
        "#plt.title('COVID-19 Brasil (Óbitos) - Sul - {}'.format(today))\n",
        "#plt.grid(color='black', linestyle='--', linewidth=0.17)\n",
        "#plt.xlabel('Data')\n",
        "#plt.ylabel('Óbitos')\n",
        "#plt.savefig(\"plots/18_sudeste_absoluta.png\",bbox_inches = 'tight')\n",
        "\n",
        "fig = px.line(sul, x=\"data\", y=\"obitosAcumulado\", title='COVID-19 Brasil (Óbitos) - Sul - {}'.format(today),\n",
        "              color='estado',color_discrete_sequence=[ 'green',\"darkmagenta\",\"orange\",'red',\"darkblue\",\"lightgreen\",'coral','lightblue'])\n",
        "fig.update_layout(legend= {'borderwidth':0,'orientation':'v','yanchor':'top','font':{'size':8}})\n",
        "fig.show()"
      ],
      "execution_count": 0,
      "outputs": []
    },
    {
      "cell_type": "code",
      "metadata": {
        "id": "3ICk98Yss2sR",
        "colab_type": "code",
        "colab": {}
      },
      "source": [
        "#hide_input\n",
        "#nordeste absoluta\n",
        "\n",
        "#nordeste.sort_values('Mortes',ascending=False,inplace=True)\n",
        "#plt.figure(figsize=(15,8))\n",
        "#sns.lineplot(x='Dia',y='Mortes',data=nordeste,hue='Estado',size=\"Estado\")\n",
        "#plt.title('COVID-19 Brasil (Óbitos) - Nordeste - {}'.format(today))\n",
        "#plt.grid(color='black', linestyle='--', linewidth=0.17)\n",
        "#plt.xlabel('Data')\n",
        "#plt.ylabel('Óbitos')\n",
        "#plt.savefig(\"plots/18_sudeste_absoluta.png\",bbox_inches = 'tight')\n",
        "\n",
        "fig = px.line(nordeste, x=\"data\", y=\"obitosAcumulado\", title='COVID-19 Brasil (Óbitos) - Nordeste - {}'.format(today),\n",
        "              color='estado',color_discrete_sequence=[ 'green',\"darkmagenta\",\"orange\",'red',\"darkblue\",\"lightgreen\",'coral','black'])\n",
        "fig.update_layout(legend= {'borderwidth':0,'orientation':'v','yanchor':'top','font':{'size':8}})\n",
        "fig.show()"
      ],
      "execution_count": 0,
      "outputs": []
    },
    {
      "cell_type": "code",
      "metadata": {
        "id": "iNKiVAzitGau",
        "colab_type": "code",
        "colab": {}
      },
      "source": [
        "#hide_input\n",
        "#centroeste absoluta\n",
        "\n",
        "#centroeste.sort_values('Mortes',ascending=False,inplace=True)\n",
        "#plt.figure(figsize=(15,8))\n",
        "#sns.lineplot(x='Dia',y='Mortes',data=centroeste,hue='Estado',size=\"Estado\")\n",
        "#plt.title('COVID-19 Brasil (Óbitos) - Centro Oeste - {}'.format(today))\n",
        "#plt.grid(color='black', linestyle='--', linewidth=0.17)\n",
        "#plt.xlabel('Data')\n",
        "#plt.ylabel('Óbitos')\n",
        "#plt.savefig(\"plots/18_sudeste_absoluta.png\",bbox_inches = 'tight')\n",
        "\n",
        "fig = px.line(centroeste, x=\"data\", y=\"obitosAcumulado\", title='COVID-19 Brasil (Óbitos) - Centro Oeste - {}'.format(today),\n",
        "              color='estado',color_discrete_sequence=[ 'green',\"darkmagenta\",\"orange\",'red',\"darkblue\",\"lightgreen\",'coral','lightblue'])\n",
        "fig.update_layout(legend= {'borderwidth':0,'orientation':'v','yanchor':'top','font':{'size':8}})\n",
        "fig.show()"
      ],
      "execution_count": 0,
      "outputs": []
    },
    {
      "cell_type": "code",
      "metadata": {
        "id": "WXekTgvCtNrP",
        "colab_type": "code",
        "colab": {}
      },
      "source": [
        "#hide_input\n",
        "#norte absoluta\n",
        "\n",
        "#nordeste.sort_values('Mortes',ascending=False,inplace=True)\n",
        "#plt.figure(figsize=(15,8))\n",
        "#sns.lineplot(x='Dia',y='Mortes',data=norte,hue='Estado',size=\"Estado\")\n",
        "#plt.title('COVID-19 Brasil (Óbitos) - Norte - {}'.format(today))\n",
        "#plt.grid(color='black', linestyle='--', linewidth=0.17)\n",
        "#plt.xlabel('Data')\n",
        "#plt.ylabel('Óbitos')\n",
        "#plt.savefig(\"plots/18_sudeste_absoluta.png\",bbox_inches = 'tight')\n",
        "\n",
        "fig = px.line(norte, x=\"data\", y=\"obitosAcumulado\", title='COVID-19 Brasil (Óbitos) - Norte - {}'.format(today),\n",
        "              color='estado',color_discrete_sequence=[ 'green',\"darkmagenta\",\"orange\",'red',\"darkblue\",\"lightgreen\",'coral','lightblue'])\n",
        "fig.update_layout(legend= {'borderwidth':0,'orientation':'v','yanchor':'top','font':{'size':8}})\n",
        "fig.show()"
      ],
      "execution_count": 0,
      "outputs": []
    },
    {
      "cell_type": "code",
      "metadata": {
        "id": "NQ7Z2uDMo0PK",
        "colab_type": "code",
        "colab": {}
      },
      "source": [
        "#hide\n",
        "df_last['letalidade'] = df_last['obitosAcumulado']/df_last['casosAcumulado']*100\n",
        "df_last.tail(3)"
      ],
      "execution_count": 0,
      "outputs": []
    },
    {
      "cell_type": "code",
      "metadata": {
        "id": "B_UGO38Q08kc",
        "colab_type": "code",
        "colab": {}
      },
      "source": [
        "#hide\n",
        "casos_mar5['letalidade'] = casos_mar5['obitosAcumulado']/casos_mar5['casosAcumulado']*100\n",
        "casos_mar5.tail(3)"
      ],
      "execution_count": 0,
      "outputs": []
    },
    {
      "cell_type": "markdown",
      "metadata": {
        "id": "vWleim1MpWI0",
        "colab_type": "text"
      },
      "source": [
        "<center> <h2> Letalidade por estado brasileiro </h2> </center>\n"
      ]
    },
    {
      "cell_type": "markdown",
      "metadata": {
        "id": "ogIvoUaGiScn",
        "colab_type": "text"
      },
      "source": [
        "O gráfco a seguir aponta o número de mortes dividido pelo número de casos confirmados. É **importantíssimo** notar a grande dependência desses números da quantidade de testes disponíveis. Quanto mais testes realizados, mais confiáveis os dados."
      ]
    },
    {
      "cell_type": "code",
      "metadata": {
        "id": "Ap_YGNJIpXAW",
        "colab_type": "code",
        "colab": {}
      },
      "source": [
        "#hide_input\n",
        "#df_last.sort_values('Casos')\n",
        "df_last.sort_values('letalidade',ascending=False,inplace=True)\n",
        "fig = px.bar(df_last,x=\"letalidade\", y='estado', color='estado',orientation='h',height=800,\n",
        "             color_discrete_sequence=px.colors.qualitative.Dark24,title='COVID-19 Brasil - Letalidade (por estado) - {}'.format(today))#.update_yaxes(categoryorder='total dscending')\n",
        "\n",
        "fig.update_layout(legend= {'borderwidth':0,'orientation':'v','yanchor':'top','font':{'size':8}})"
      ],
      "execution_count": 0,
      "outputs": []
    },
    {
      "cell_type": "markdown",
      "metadata": {
        "id": "ikY68eK2iakq",
        "colab_type": "text"
      },
      "source": [
        "O gráfico a seguir apresenta a curva de letalidade dos estados. Novamente reiteramos que: mais do que de fato apresentar uma flutuação da letalidade do vírus, que muito provavelmente não varia tão abruptamente, esses gráficos demonstram, por exemplo, um aumento na quantidade de testes (quando a taxa de letalidade cai), uma mudança na forma de contabilizar os óbitos, entre outros.\n"
      ]
    },
    {
      "cell_type": "code",
      "metadata": {
        "id": "lnISG73H06fV",
        "colab_type": "code",
        "colab": {}
      },
      "source": [
        "#hide_input\n",
        "\n",
        "fig = px.line(casos_mar5[casos_mar5['data']>='2020-03-15'], x=\"data\", y=\"letalidade\", title='COVID-19 Brasil -Linhas de letalidade por estado  {}'.format(today),\n",
        "              color='estado',color_discrete_sequence=px.colors.qualitative.Dark24)\n",
        "fig.update_layout(legend= {'borderwidth':0,'orientation':'v','yanchor':'top','font':{'size':8}})\n",
        "fig.show()"
      ],
      "execution_count": 0,
      "outputs": []
    },
    {
      "cell_type": "code",
      "metadata": {
        "id": "J0H82l2j5Txo",
        "colab_type": "code",
        "colab": {}
      },
      "source": [
        "#hide\n",
        "url = 'https://mobileapps.saude.gov.br/esus-vepi/files/unAFkcaNDeXajurGB7LChj8SgQYS2ptm/ec8b61e396938e3c1753ec332a8cb0db_DT1_PAINEL_COVIDBR_20200512.xlsx'"
      ],
      "execution_count": 0,
      "outputs": []
    },
    {
      "cell_type": "code",
      "metadata": {
        "id": "_kQzdCwS5r6n",
        "colab_type": "code",
        "colab": {}
      },
      "source": [
        "#hide\n",
        "import requests\n",
        "dls = \"http://www.muellerindustries.com/uploads/pdf/UW SPD0114.xls\"\n",
        "resp = requests.get(url)\n",
        "with open('test.xlsx', 'wb') as output:\n",
        "    output.write(resp.content)"
      ],
      "execution_count": 0,
      "outputs": []
    },
    {
      "cell_type": "code",
      "metadata": {
        "id": "R_fdkU-x538Y",
        "colab_type": "code",
        "colab": {}
      },
      "source": [
        "#hide\n",
        "x = pd.read_excel('test.xlsx')\n",
        "x"
      ],
      "execution_count": 0,
      "outputs": []
    },
    {
      "cell_type": "code",
      "metadata": {
        "id": "VqGiEGC-6DOL",
        "colab_type": "code",
        "colab": {}
      },
      "source": [
        ""
      ],
      "execution_count": 0,
      "outputs": []
    }
  ]
}