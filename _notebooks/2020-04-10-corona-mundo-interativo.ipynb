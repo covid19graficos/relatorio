{
  "nbformat": 4,
  "nbformat_minor": 0,
  "metadata": {
    "colab": {
      "name": "2020-04-10-corona-mundo-interativo.ipynb",
      "provenance": [],
      "collapsed_sections": []
    },
    "kernelspec": {
      "display_name": "Python 3",
      "language": "python",
      "name": "python3"
    },
    "language_info": {
      "codemirror_mode": {
        "name": "ipython",
        "version": 3
      },
      "file_extension": ".py",
      "mimetype": "text/x-python",
      "name": "python",
      "nbconvert_exporter": "python",
      "pygments_lexer": "ipython3",
      "version": "3.6.5"
    }
  },
  "cells": [
    {
      "cell_type": "markdown",
      "metadata": {
        "id": "i3R7_8aSTqPD",
        "colab_type": "text"
      },
      "source": [
        "# Coronavirus Brasil vs Mundo - Gráficos Interativos\n",
        "> Gráficos e análises com comparações entre Brasil e países específicos\n",
        "\n",
        "- toc: false\n",
        "- branch: master\n",
        "- badges: false\n",
        "- comments: false\n",
        "- author: Vinicius Bastos Gomes & Fernando Wittmann\n",
        "- categories: [coronavirus]\n"
      ]
    },
    {
      "cell_type": "markdown",
      "metadata": {
        "id": "6Qdx6Lw_vcDr",
        "colab_type": "text"
      },
      "source": [
        "Fonte:  https://opendata.ecdc.europa.eu/covid19/casedistribution/csv\n"
      ]
    },
    {
      "cell_type": "code",
      "metadata": {
        "id": "5Gy6Po5a4_Zs",
        "colab_type": "code",
        "outputId": "07310c71-4ea2-4109-f371-95bf5878f3a0",
        "colab": {
          "base_uri": "https://localhost:8080/",
          "height": 187
        }
      },
      "source": [
        "#hide\n",
        "!pip install plotly --upgrade"
      ],
      "execution_count": 1,
      "outputs": [
        {
          "output_type": "stream",
          "text": [
            "Collecting plotly\n",
            "\u001b[?25l  Downloading https://files.pythonhosted.org/packages/15/90/918bccb0ca60dc6d126d921e2c67126d75949f5da777e6b18c51fb12603d/plotly-4.6.0-py2.py3-none-any.whl (7.1MB)\n",
            "\u001b[K     |████████████████████████████████| 7.2MB 2.8MB/s \n",
            "\u001b[?25hRequirement already satisfied, skipping upgrade: six in /usr/local/lib/python3.6/dist-packages (from plotly) (1.12.0)\n",
            "Requirement already satisfied, skipping upgrade: retrying>=1.3.3 in /usr/local/lib/python3.6/dist-packages (from plotly) (1.3.3)\n",
            "Installing collected packages: plotly\n",
            "  Found existing installation: plotly 4.4.1\n",
            "    Uninstalling plotly-4.4.1:\n",
            "      Successfully uninstalled plotly-4.4.1\n",
            "Successfully installed plotly-4.6.0\n"
          ],
          "name": "stdout"
        }
      ]
    },
    {
      "cell_type": "code",
      "metadata": {
        "colab_type": "code",
        "id": "Q-8UV5O_Y6lN",
        "colab": {}
      },
      "source": [
        "#hide_input\n",
        "#Imports\n",
        "import warnings\n",
        "warnings.filterwarnings('ignore')\n",
        "import matplotlib.pyplot as plt\n",
        "%matplotlib inline\n",
        "import matplotlib.ticker as ticker\n",
        "import numpy as np; np.random.seed(1)\n",
        "import seaborn as sns\n",
        "sns.set(style=\"ticks\", rc={\"lines.linewidth\": 1.6})\n",
        "sns.set_palette('bright')\n",
        "import pandas as pd\n",
        "from datetime import date\n",
        "import io\n",
        "\n",
        "# Montar google drive e exportar imagens\n",
        "MONTAR_GDRIVE = True\n"
      ],
      "execution_count": 0,
      "outputs": []
    },
    {
      "cell_type": "code",
      "metadata": {
        "id": "w4A3tPKfdXbK",
        "colab_type": "code",
        "colab": {}
      },
      "source": [
        "#hide\n",
        "#URL = \"https://opendata.ecdc.europa.eu/covid19/casedistribution/csv\"\n",
        "\n",
        "#requests.get(URL)"
      ],
      "execution_count": 0,
      "outputs": []
    },
    {
      "cell_type": "code",
      "metadata": {
        "id": "GCFkwV5puwmq",
        "colab_type": "code",
        "outputId": "0b2b2806-3759-49d7-defb-9ad3c5943238",
        "colab": {
          "base_uri": "https://localhost:8080/",
          "height": 122
        }
      },
      "source": [
        "#hide\n",
        "if MONTAR_GDRIVE:\n",
        "    # Montar Google Drive\n",
        "    from google.colab import drive\n",
        "    drive.mount('/content/drive')"
      ],
      "execution_count": 4,
      "outputs": [
        {
          "output_type": "stream",
          "text": [
            "Go to this URL in a browser: https://accounts.google.com/o/oauth2/auth?client_id=947318989803-6bn6qk8qdgf4n4g3pfee6491hc0brc4i.apps.googleusercontent.com&redirect_uri=urn%3aietf%3awg%3aoauth%3a2.0%3aoob&response_type=code&scope=email%20https%3a%2f%2fwww.googleapis.com%2fauth%2fdocs.test%20https%3a%2f%2fwww.googleapis.com%2fauth%2fdrive%20https%3a%2f%2fwww.googleapis.com%2fauth%2fdrive.photos.readonly%20https%3a%2f%2fwww.googleapis.com%2fauth%2fpeopleapi.readonly\n",
            "\n",
            "Enter your authorization code:\n",
            "··········\n",
            "Mounted at /content/drive\n"
          ],
          "name": "stdout"
        }
      ]
    },
    {
      "cell_type": "code",
      "metadata": {
        "id": "IEySD1DR7TpD",
        "colab_type": "code",
        "colab": {}
      },
      "source": [
        ""
      ],
      "execution_count": 0,
      "outputs": []
    },
    {
      "cell_type": "code",
      "metadata": {
        "id": "67m1J6q1u4bt",
        "colab_type": "code",
        "outputId": "7705d5ba-382b-4192-e35c-7a22acb0ce43",
        "colab": {
          "base_uri": "https://localhost:8080/",
          "height": 34
        }
      },
      "source": [
        "#hide\n",
        "if MONTAR_GDRIVE:\n",
        "    # Abrir pasta com os arquivos\n",
        "    %cd \"/content/drive/My Drive/CoronaVirus Brasil\""
      ],
      "execution_count": 5,
      "outputs": [
        {
          "output_type": "stream",
          "text": [
            "/content/drive/My Drive/CoronaVirus Brasil\n"
          ],
          "name": "stdout"
        }
      ]
    },
    {
      "cell_type": "code",
      "metadata": {
        "id": "pEUjkscson4Y",
        "colab_type": "code",
        "colab": {}
      },
      "source": [
        "#hide\n",
        "!rm dados.csv"
      ],
      "execution_count": 0,
      "outputs": []
    },
    {
      "cell_type": "code",
      "metadata": {
        "id": "qLtKAiWZjsqV",
        "colab_type": "code",
        "outputId": "9831655f-d965-47a5-8a8d-c987a684bca6",
        "colab": {
          "base_uri": "https://localhost:8080/",
          "height": 272
        }
      },
      "source": [
        "#hide\n",
        "!wget https://opendata.ecdc.europa.eu/covid19/casedistribution/csv -O dados.csv"
      ],
      "execution_count": 7,
      "outputs": [
        {
          "output_type": "stream",
          "text": [
            "--2020-04-10 11:27:22--  https://opendata.ecdc.europa.eu/covid19/casedistribution/csv\n",
            "Resolving opendata.ecdc.europa.eu (opendata.ecdc.europa.eu)... 212.181.0.63\n",
            "Connecting to opendata.ecdc.europa.eu (opendata.ecdc.europa.eu)|212.181.0.63|:443... connected.\n",
            "HTTP request sent, awaiting response... 301 Moved Permanently\n",
            "Location: https://opendata.ecdc.europa.eu/covid19/casedistribution/csv/ [following]\n",
            "--2020-04-10 11:27:23--  https://opendata.ecdc.europa.eu/covid19/casedistribution/csv/\n",
            "Reusing existing connection to opendata.ecdc.europa.eu:443.\n",
            "HTTP request sent, awaiting response... 200 OK\n",
            "Length: 507393 (496K) [application/octet-stream]\n",
            "Saving to: ‘dados.csv’\n",
            "\n",
            "dados.csv           100%[===================>] 495.50K   480KB/s    in 1.0s    \n",
            "\n",
            "2020-04-10 11:27:24 (480 KB/s) - ‘dados.csv’ saved [507393/507393]\n",
            "\n"
          ],
          "name": "stdout"
        }
      ]
    },
    {
      "cell_type": "code",
      "metadata": {
        "id": "dx-DKRjjTqPV",
        "colab_type": "code",
        "outputId": "a54ef417-ec48-47d5-ad1f-3a45c450fdf4",
        "colab": {
          "base_uri": "https://localhost:8080/",
          "height": 34
        }
      },
      "source": [
        "#hide\n",
        "#datetime operations\n",
        "todei = date.today()\n",
        "today = todei.strftime(\"%d-%m-%Y\")\n",
        "today_us = todei.strftime(\"%Y-%m-%d\")\n",
        "today_us"
      ],
      "execution_count": 8,
      "outputs": [
        {
          "output_type": "execute_result",
          "data": {
            "text/plain": [
              "'2020-04-10'"
            ]
          },
          "metadata": {
            "tags": []
          },
          "execution_count": 8
        }
      ]
    },
    {
      "cell_type": "code",
      "metadata": {
        "id": "iXHBUftGTqPc",
        "colab_type": "code",
        "colab": {}
      },
      "source": [
        "#hide\n",
        "\n",
        "#url = 'https://www.ecdc.europa.eu/sites/default/files/documents/COVID-19-geographic-disbtribution-worldwide-{}.xlsx'.format(today_us)\n",
        "#url = 'https://www.ecdc.europa.eu/sites/default/files/documents/COVID-19-geographic-disbtribution-worldwide-{}.xlsx'.format(today_us)"
      ],
      "execution_count": 0,
      "outputs": []
    },
    {
      "cell_type": "code",
      "metadata": {
        "id": "Gj7ktV6BFC2G",
        "colab_type": "code",
        "colab": {}
      },
      "source": [
        "#hide\n",
        "\n",
        "#url = 'https://opendata.ecdc.europa.eu/covid19/casedistribution/csv'"
      ],
      "execution_count": 0,
      "outputs": []
    },
    {
      "cell_type": "code",
      "metadata": {
        "scrolled": true,
        "id": "doLyY9GdTqPk",
        "colab_type": "code",
        "colab": {}
      },
      "source": [
        "#hide\n",
        "data = pd.read_csv('dados.csv', encoding='latin-1',error_bad_lines=False,parse_dates=['dateRep'],dayfirst=True)\n"
      ],
      "execution_count": 0,
      "outputs": []
    },
    {
      "cell_type": "code",
      "metadata": {
        "colab_type": "code",
        "id": "QNC2xLFQXXE4",
        "outputId": "96925746-9b7e-4d70-db6f-adeb94477954",
        "colab": {
          "base_uri": "https://localhost:8080/",
          "height": 359
        }
      },
      "source": [
        "#hide\n",
        "data2 = data[data['countriesAndTerritories'].isin(['Brazil','Italy','United_States_of_America','France','South_Korea', 'Japan','United_Kingdom','China','Spain','Argentina','India','Mexico','Germany','Czechia'])]\n",
        "data2.head(10)"
      ],
      "execution_count": 12,
      "outputs": [
        {
          "output_type": "execute_result",
          "data": {
            "text/html": [
              "<div>\n",
              "<style scoped>\n",
              "    .dataframe tbody tr th:only-of-type {\n",
              "        vertical-align: middle;\n",
              "    }\n",
              "\n",
              "    .dataframe tbody tr th {\n",
              "        vertical-align: top;\n",
              "    }\n",
              "\n",
              "    .dataframe thead th {\n",
              "        text-align: right;\n",
              "    }\n",
              "</style>\n",
              "<table border=\"1\" class=\"dataframe\">\n",
              "  <thead>\n",
              "    <tr style=\"text-align: right;\">\n",
              "      <th></th>\n",
              "      <th>dateRep</th>\n",
              "      <th>day</th>\n",
              "      <th>month</th>\n",
              "      <th>year</th>\n",
              "      <th>cases</th>\n",
              "      <th>deaths</th>\n",
              "      <th>countriesAndTerritories</th>\n",
              "      <th>geoId</th>\n",
              "      <th>countryterritoryCode</th>\n",
              "      <th>popData2018</th>\n",
              "    </tr>\n",
              "  </thead>\n",
              "  <tbody>\n",
              "    <tr>\n",
              "      <th>307</th>\n",
              "      <td>2020-04-10</td>\n",
              "      <td>10</td>\n",
              "      <td>4</td>\n",
              "      <td>2020</td>\n",
              "      <td>99</td>\n",
              "      <td>14</td>\n",
              "      <td>Argentina</td>\n",
              "      <td>AR</td>\n",
              "      <td>ARG</td>\n",
              "      <td>44494502.0</td>\n",
              "    </tr>\n",
              "    <tr>\n",
              "      <th>308</th>\n",
              "      <td>2020-04-09</td>\n",
              "      <td>9</td>\n",
              "      <td>4</td>\n",
              "      <td>2020</td>\n",
              "      <td>80</td>\n",
              "      <td>5</td>\n",
              "      <td>Argentina</td>\n",
              "      <td>AR</td>\n",
              "      <td>ARG</td>\n",
              "      <td>44494502.0</td>\n",
              "    </tr>\n",
              "    <tr>\n",
              "      <th>309</th>\n",
              "      <td>2020-04-08</td>\n",
              "      <td>8</td>\n",
              "      <td>4</td>\n",
              "      <td>2020</td>\n",
              "      <td>87</td>\n",
              "      <td>7</td>\n",
              "      <td>Argentina</td>\n",
              "      <td>AR</td>\n",
              "      <td>ARG</td>\n",
              "      <td>44494502.0</td>\n",
              "    </tr>\n",
              "    <tr>\n",
              "      <th>310</th>\n",
              "      <td>2020-04-07</td>\n",
              "      <td>7</td>\n",
              "      <td>4</td>\n",
              "      <td>2020</td>\n",
              "      <td>74</td>\n",
              "      <td>7</td>\n",
              "      <td>Argentina</td>\n",
              "      <td>AR</td>\n",
              "      <td>ARG</td>\n",
              "      <td>44494502.0</td>\n",
              "    </tr>\n",
              "    <tr>\n",
              "      <th>311</th>\n",
              "      <td>2020-04-06</td>\n",
              "      <td>6</td>\n",
              "      <td>4</td>\n",
              "      <td>2020</td>\n",
              "      <td>103</td>\n",
              "      <td>3</td>\n",
              "      <td>Argentina</td>\n",
              "      <td>AR</td>\n",
              "      <td>ARG</td>\n",
              "      <td>44494502.0</td>\n",
              "    </tr>\n",
              "    <tr>\n",
              "      <th>312</th>\n",
              "      <td>2020-04-05</td>\n",
              "      <td>5</td>\n",
              "      <td>4</td>\n",
              "      <td>2020</td>\n",
              "      <td>186</td>\n",
              "      <td>6</td>\n",
              "      <td>Argentina</td>\n",
              "      <td>AR</td>\n",
              "      <td>ARG</td>\n",
              "      <td>44494502.0</td>\n",
              "    </tr>\n",
              "    <tr>\n",
              "      <th>313</th>\n",
              "      <td>2020-04-04</td>\n",
              "      <td>4</td>\n",
              "      <td>4</td>\n",
              "      <td>2020</td>\n",
              "      <td>132</td>\n",
              "      <td>3</td>\n",
              "      <td>Argentina</td>\n",
              "      <td>AR</td>\n",
              "      <td>ARG</td>\n",
              "      <td>44494502.0</td>\n",
              "    </tr>\n",
              "    <tr>\n",
              "      <th>314</th>\n",
              "      <td>2020-04-03</td>\n",
              "      <td>3</td>\n",
              "      <td>4</td>\n",
              "      <td>2020</td>\n",
              "      <td>0</td>\n",
              "      <td>3</td>\n",
              "      <td>Argentina</td>\n",
              "      <td>AR</td>\n",
              "      <td>ARG</td>\n",
              "      <td>44494502.0</td>\n",
              "    </tr>\n",
              "    <tr>\n",
              "      <th>315</th>\n",
              "      <td>2020-04-02</td>\n",
              "      <td>2</td>\n",
              "      <td>4</td>\n",
              "      <td>2020</td>\n",
              "      <td>167</td>\n",
              "      <td>7</td>\n",
              "      <td>Argentina</td>\n",
              "      <td>AR</td>\n",
              "      <td>ARG</td>\n",
              "      <td>44494502.0</td>\n",
              "    </tr>\n",
              "    <tr>\n",
              "      <th>316</th>\n",
              "      <td>2020-04-01</td>\n",
              "      <td>1</td>\n",
              "      <td>4</td>\n",
              "      <td>2020</td>\n",
              "      <td>0</td>\n",
              "      <td>0</td>\n",
              "      <td>Argentina</td>\n",
              "      <td>AR</td>\n",
              "      <td>ARG</td>\n",
              "      <td>44494502.0</td>\n",
              "    </tr>\n",
              "  </tbody>\n",
              "</table>\n",
              "</div>"
            ],
            "text/plain": [
              "       dateRep  day  month  ...  geoId  countryterritoryCode  popData2018\n",
              "307 2020-04-10   10      4  ...     AR                   ARG   44494502.0\n",
              "308 2020-04-09    9      4  ...     AR                   ARG   44494502.0\n",
              "309 2020-04-08    8      4  ...     AR                   ARG   44494502.0\n",
              "310 2020-04-07    7      4  ...     AR                   ARG   44494502.0\n",
              "311 2020-04-06    6      4  ...     AR                   ARG   44494502.0\n",
              "312 2020-04-05    5      4  ...     AR                   ARG   44494502.0\n",
              "313 2020-04-04    4      4  ...     AR                   ARG   44494502.0\n",
              "314 2020-04-03    3      4  ...     AR                   ARG   44494502.0\n",
              "315 2020-04-02    2      4  ...     AR                   ARG   44494502.0\n",
              "316 2020-04-01    1      4  ...     AR                   ARG   44494502.0\n",
              "\n",
              "[10 rows x 10 columns]"
            ]
          },
          "metadata": {
            "tags": []
          },
          "execution_count": 12
        }
      ]
    },
    {
      "cell_type": "code",
      "metadata": {
        "colab_type": "code",
        "id": "PdWFUM-_YsZb",
        "colab": {}
      },
      "source": [
        "#hide\n",
        "data3 = data2[['dateRep','cases','countriesAndTerritories']]\n",
        "data3.columns = ['dateRep','cases','countriesAndTerritories']"
      ],
      "execution_count": 0,
      "outputs": []
    },
    {
      "cell_type": "code",
      "metadata": {
        "id": "_ktuhUMhTqPz",
        "colab_type": "code",
        "colab": {}
      },
      "source": [
        "#hide \n",
        "#por 10 mil\n",
        "\n",
        "pop_br = 209300000/10000\n",
        "pop_it = 60590000/10000\n",
        "pop_eua = 325700000/10000\n",
        "pop_uk = 66040000/10000\n",
        "pop_sk = 51470000/10000\n",
        "pop_fr = 66770000/10000\n",
        "pop_jp = 126800000/10000\n",
        "pop_esp = 46530000/10000\n",
        "pop_ar = 44270000/10000\n",
        "pop_mex = 129200000/10000\n",
        "pop_ind = 1339000000/10000\n",
        "pop_ger = 82520000/10000\n",
        "pop_rc = 10641000/10000\n",
        "pop_ch = 1386000000/10000"
      ],
      "execution_count": 0,
      "outputs": []
    },
    {
      "cell_type": "code",
      "metadata": {
        "id": "9Ukrlooki-YK",
        "colab_type": "code",
        "colab": {}
      },
      "source": [
        "#hide\n",
        "china = data3[data3['countriesAndTerritories']=='China']\n",
        "china.sort_index(ascending=False,inplace=True)\n",
        "china['Cumulativo'] = china['cases'].cumsum()\n",
        "china['Relativo'] = china['Cumulativo']/pop_ch\n",
        "china = china[china['Cumulativo']>=50]\n",
        "china.reset_index(drop=True, inplace=True)\n",
        "china.drop(['cases','dateRep'],axis=1,inplace=True)"
      ],
      "execution_count": 0,
      "outputs": []
    },
    {
      "cell_type": "code",
      "metadata": {
        "id": "h-_RJoerTqP7",
        "colab_type": "code",
        "colab": {}
      },
      "source": [
        "#hide\n",
        "germany = data3[data3['countriesAndTerritories']=='Germany']\n",
        "germany.sort_index(ascending=False,inplace=True)\n",
        "germany['Cumulativo'] = germany['cases'].cumsum()\n",
        "germany['Relativo'] = germany['Cumulativo']/pop_ger\n",
        "germany = germany[germany['Cumulativo']>=50]\n",
        "germany.reset_index(drop=True, inplace=True)\n",
        "germany.drop(['cases','dateRep'],axis=1,inplace=True)\n"
      ],
      "execution_count": 0,
      "outputs": []
    },
    {
      "cell_type": "code",
      "metadata": {
        "colab_type": "code",
        "id": "jjRl_0vWGsEG",
        "colab": {}
      },
      "source": [
        "#hide\n",
        "italy = data3[data3['countriesAndTerritories']=='Italy']\n",
        "italy.sort_index(ascending=False,inplace=True)\n",
        "italy['Cumulativo'] = italy['cases'].cumsum()\n",
        "italy['Relativo'] = italy['Cumulativo']/pop_it\n",
        "italy = italy[italy['Cumulativo']>=50]\n",
        "italy.reset_index(drop=True, inplace=True)\n",
        "italy.drop(['cases','dateRep'],axis=1,inplace=True)\n",
        "\n"
      ],
      "execution_count": 0,
      "outputs": []
    },
    {
      "cell_type": "code",
      "metadata": {
        "colab_type": "code",
        "id": "AY22Z511MaOT",
        "colab": {}
      },
      "source": [
        "#hide\n",
        "brazil = data3[data3['countriesAndTerritories']=='Brazil']\n",
        "brazil.sort_index(ascending=False,inplace=True)\n",
        "brazil['Cumulativo'] = brazil['cases'].cumsum()\n",
        "brazil['Relativo'] = brazil['Cumulativo']/pop_br\n",
        "brazil = brazil[brazil['Cumulativo']>=50]\n",
        "brazil.reset_index(drop=True, inplace=True)\n",
        "brazil.drop(['cases','dateRep'],axis=1,inplace=True)\n",
        "\n",
        "\n",
        "\n"
      ],
      "execution_count": 0,
      "outputs": []
    },
    {
      "cell_type": "code",
      "metadata": {
        "colab_type": "code",
        "id": "PUdhI0JWdbN3",
        "colab": {}
      },
      "source": [
        "#hide\n",
        "argentina = data3[data3['countriesAndTerritories']=='Argentina']\n",
        "argentina.sort_index(ascending=False,inplace=True)\n",
        "argentina['Cumulativo'] = argentina['cases'].cumsum()\n",
        "argentina['Relativo'] = argentina['Cumulativo']/pop_ar\n",
        "argentina = argentina[argentina['Cumulativo']>=50]\n",
        "argentina.reset_index(drop=True, inplace=True)\n",
        "argentina.drop(['cases','dateRep'],axis=1,inplace=True)\n"
      ],
      "execution_count": 0,
      "outputs": []
    },
    {
      "cell_type": "code",
      "metadata": {
        "colab_type": "code",
        "id": "Qi4mDAAvH5TB",
        "colab": {}
      },
      "source": [
        "#hide\n",
        "japan = data3[data3['countriesAndTerritories']=='Japan']\n",
        "japan.sort_index(ascending=False,inplace=True)\n",
        "japan['Cumulativo'] = japan['cases'].cumsum()\n",
        "japan['Relativo'] = japan['Cumulativo']/pop_jp\n",
        "japan = japan[japan['Cumulativo']>=50]\n",
        "japan.reset_index(drop=True, inplace=True)\n",
        "japan.drop(['cases','dateRep'],axis=1,inplace=True)\n"
      ],
      "execution_count": 0,
      "outputs": []
    },
    {
      "cell_type": "code",
      "metadata": {
        "colab_type": "code",
        "id": "LDkrnXhbNETA",
        "colab": {}
      },
      "source": [
        "#hide\n",
        "france = data3[data3['countriesAndTerritories']=='France']\n",
        "france.sort_index(ascending=False,inplace=True)\n",
        "france['Cumulativo'] = france['cases'].cumsum()\n",
        "france['Relativo'] = france['Cumulativo']/pop_fr\n",
        "france = france[france['Cumulativo']>=50]\n",
        "france.reset_index(drop=True, inplace=True)\n",
        "france.drop(['cases','dateRep'],axis=1,inplace=True)\n"
      ],
      "execution_count": 0,
      "outputs": []
    },
    {
      "cell_type": "code",
      "metadata": {
        "colab_type": "code",
        "id": "3FajbHTRNTSj",
        "colab": {}
      },
      "source": [
        "#hide\n",
        "south_korea = data3[data3['countriesAndTerritories']=='South_Korea']\n",
        "south_korea.sort_index(ascending=False,inplace=True)\n",
        "south_korea['Cumulativo'] = south_korea['cases'].cumsum()\n",
        "south_korea['Relativo'] = south_korea['Cumulativo']/pop_sk\n",
        "south_korea = south_korea[south_korea['Cumulativo']>=50]\n",
        "south_korea.reset_index(drop=True, inplace=True)\n",
        "south_korea.drop(['cases','dateRep'],axis=1,inplace=True)\n"
      ],
      "execution_count": 0,
      "outputs": []
    },
    {
      "cell_type": "code",
      "metadata": {
        "colab_type": "code",
        "id": "JH7QajuHNsR9",
        "colab": {}
      },
      "source": [
        "#hide\n",
        "us = data3[data3['countriesAndTerritories']=='United_States_of_America']\n",
        "us.sort_index(ascending=False,inplace=True)\n",
        "us['Cumulativo'] = us['cases'].cumsum()\n",
        "us['Relativo'] = us['Cumulativo']/pop_eua\n",
        "us = us[us['Cumulativo']>=50]\n",
        "us.reset_index(drop=True, inplace=True)\n",
        "us.drop(['cases','dateRep'],axis=1,inplace=True)\n"
      ],
      "execution_count": 0,
      "outputs": []
    },
    {
      "cell_type": "code",
      "metadata": {
        "colab_type": "code",
        "id": "UNN3G5BFNtbh",
        "colab": {}
      },
      "source": [
        "#hide\n",
        "uk = data3[data3['countriesAndTerritories']=='United_Kingdom']\n",
        "uk.sort_index(ascending=False,inplace=True)\n",
        "uk['Cumulativo'] = uk['cases'].cumsum()\n",
        "uk['Relativo'] = uk['Cumulativo']/pop_uk\n",
        "uk = uk[uk['Cumulativo']>=50]\n",
        "uk.reset_index(drop=True, inplace=True)\n",
        "uk.drop(['cases','dateRep'],axis=1,inplace=True)\n"
      ],
      "execution_count": 0,
      "outputs": []
    },
    {
      "cell_type": "code",
      "metadata": {
        "colab_type": "code",
        "id": "_Mk5FHKTHkr5",
        "colab": {}
      },
      "source": [
        "#hide\n",
        "spain = data3[data3['countriesAndTerritories']=='Spain']\n",
        "spain.sort_index(ascending=False,inplace=True)\n",
        "spain['Cumulativo'] = spain['cases'].cumsum()\n",
        "spain['Relativo'] = spain['Cumulativo']/pop_esp\n",
        "spain = spain[spain['Cumulativo']>=50]\n",
        "spain.reset_index(drop=True, inplace=True)\n",
        "spain.drop(['cases','dateRep'],axis=1,inplace=True)\n"
      ],
      "execution_count": 0,
      "outputs": []
    },
    {
      "cell_type": "code",
      "metadata": {
        "id": "K0FWQKj0TqQi",
        "colab_type": "code",
        "colab": {}
      },
      "source": [
        "#hide\n",
        "mexico = data3[data3['countriesAndTerritories']=='Mexico']\n",
        "mexico.sort_index(ascending=False,inplace=True)\n",
        "mexico['Cumulativo'] = mexico['cases'].cumsum()\n",
        "mexico['Relativo'] = mexico['Cumulativo']/pop_esp\n",
        "mexico = mexico[mexico['Cumulativo']>=50]\n",
        "mexico.reset_index(drop=True, inplace=True)\n",
        "mexico.drop(['cases','dateRep'],axis=1,inplace=True)\n"
      ],
      "execution_count": 0,
      "outputs": []
    },
    {
      "cell_type": "code",
      "metadata": {
        "id": "UtA-oCu5TqQn",
        "colab_type": "code",
        "colab": {}
      },
      "source": [
        "#hide\n",
        "india = data3[data3['countriesAndTerritories']=='India']\n",
        "india.sort_index(ascending=False,inplace=True)\n",
        "india['Cumulativo'] = india['cases'].cumsum()\n",
        "india['Relativo'] = india['Cumulativo']/pop_ind\n",
        "india = india[india['Cumulativo']>=50]\n",
        "india.reset_index(drop=True, inplace=True)\n",
        "india.drop(['cases','dateRep'],axis=1,inplace=True)\n"
      ],
      "execution_count": 0,
      "outputs": []
    },
    {
      "cell_type": "code",
      "metadata": {
        "id": "vV9GJcZ3TqQq",
        "colab_type": "code",
        "colab": {}
      },
      "source": [
        "#hide\n",
        "czech_Republic = data3[data3['countriesAndTerritories']=='Czechia']\n",
        "czech_Republic.sort_index(ascending=False,inplace=True)\n",
        "czech_Republic['Cumulativo'] = czech_Republic['cases'].cumsum()\n",
        "czech_Republic['Relativo'] = czech_Republic['Cumulativo']/pop_rc\n",
        "czech_Republic = czech_Republic[czech_Republic['Cumulativo']>=50]\n",
        "czech_Republic.reset_index(drop=True, inplace=True)\n",
        "czech_Republic.drop(['cases','dateRep'],axis=1,inplace=True)\n"
      ],
      "execution_count": 0,
      "outputs": []
    },
    {
      "cell_type": "code",
      "metadata": {
        "colab_type": "code",
        "id": "L3HY0S0YPoyR",
        "colab": {}
      },
      "source": [
        "#hide\n",
        "#tabela final\n",
        "final_data=pd.concat([brazil,italy,japan,uk,us,france,south_korea,spain,argentina,india,mexico,germany,czech_Republic,china],axis=0)\n",
        "final_data['Dias']=final_data.index\n",
        "final_data.columns = ['Países e territórios','Casos acumulados','Relativa','Dias desde o caso número 50']\n"
      ],
      "execution_count": 0,
      "outputs": []
    },
    {
      "cell_type": "code",
      "metadata": {
        "id": "Z1NB_GlETqQ5",
        "colab_type": "code",
        "colab": {}
      },
      "source": [
        "#hide\n",
        "#add pct\n",
        "brazil_dupl = brazil\n",
        "brazil_dupl['razao']= brazil_dupl['Cumulativo'].pct_change()\n",
        "brazil_dupl['razao']=(brazil_dupl['razao']*100).round(2)\n",
        "brazil_dupl['dias']= brazil_dupl.index\n"
      ],
      "execution_count": 0,
      "outputs": []
    },
    {
      "cell_type": "code",
      "metadata": {
        "colab_type": "code",
        "id": "gFey0PPjXgbx",
        "colab": {}
      },
      "source": [
        "#hide\n",
        "zoom = final_data[final_data['Casos acumulados']<=2500]"
      ],
      "execution_count": 0,
      "outputs": []
    },
    {
      "cell_type": "markdown",
      "metadata": {
        "id": "CttI71tOTqRA",
        "colab_type": "text"
      },
      "source": [
        "<center> <h2> Gráficos de contaminação </h2> </center>\n",
        "\n",
        "\n"
      ]
    },
    {
      "cell_type": "code",
      "metadata": {
        "colab_type": "code",
        "id": "PJlpKA-ZXRH1",
        "colab": {}
      },
      "source": [
        "#hide\n",
        "meio_zoom = final_data[final_data['Casos acumulados']<=5000]"
      ],
      "execution_count": 0,
      "outputs": []
    },
    {
      "cell_type": "markdown",
      "metadata": {
        "id": "BapU1v4hqOkg",
        "colab_type": "text"
      },
      "source": [
        "Os gráficos a seguir apresentam curvas de contaminação de diversos países. Foram criados com o intuito de comparar estratégias de combate à disseminação do vírus. É importante notar que as curvas de contaminação estão amplamente relacionadas à quantidade de testes que os países tem realizado.\n",
        "A seção contem duas aproximações e duas versões do gáfico completo: nas escalas aritmética e logarítmica. "
      ]
    },
    {
      "cell_type": "code",
      "metadata": {
        "colab_type": "code",
        "id": "EvCbs19KaAt4",
        "outputId": "2acab880-5c87-4ec0-b185-8d2b21704e0c",
        "colab": {
          "base_uri": "https://localhost:8080/",
          "height": 542
        }
      },
      "source": [
        "#hide\n",
        "import plotly.express as px\n",
        "\n",
        "fig = px.line(zoom, x=\"Dias desde o caso número 50\", y=\"Casos acumulados\", title='COVID-19 - Casos confirmados - {} \\n Zoom até 2500 casos'.format(today),hover_data=['Países e territórios','Casos acumulados'],\n",
        "              color='Países e territórios',color_discrete_sequence=[\"black\", \"blue\",'green',\"darkmagenta\",\"gray\",\"brown\",\"orange\",\"magenta\",'red',\"darkblue\",\"lightgreen\",'coral','lightblue'])\n",
        "annotations= []\n",
        "annotations.append(dict(xref='paper', yref='paper', x=0.0, y=1.05, xanchor='left', yanchor='bottom'))\n",
        "\n",
        "fig.update_layout(legend= {'title':'País','borderwidth':0,'orientation':'v','yanchor':'top','font':{'size':8}})\n",
        "fig.show()\n",
        "#fig.write_html(\"plots/11_letalidade.html\")"
      ],
      "execution_count": 33,
      "outputs": [
        {
          "output_type": "display_data",
          "data": {
            "text/html": [
              "<html>\n",
              "<head><meta charset=\"utf-8\" /></head>\n",
              "<body>\n",
              "    <div>\n",
              "            <script src=\"https://cdnjs.cloudflare.com/ajax/libs/mathjax/2.7.5/MathJax.js?config=TeX-AMS-MML_SVG\"></script><script type=\"text/javascript\">if (window.MathJax) {MathJax.Hub.Config({SVG: {font: \"STIX-Web\"}});}</script>\n",
              "                <script type=\"text/javascript\">window.PlotlyConfig = {MathJaxConfig: 'local'};</script>\n",
              "        <script src=\"https://cdn.plot.ly/plotly-latest.min.js\"></script>    \n",
              "            <div id=\"ff8e7523-2952-4f5a-b523-da1c45453a08\" class=\"plotly-graph-div\" style=\"height:525px; width:100%;\"></div>\n",
              "            <script type=\"text/javascript\">\n",
              "                \n",
              "                    window.PLOTLYENV=window.PLOTLYENV || {};\n",
              "                    \n",
              "                if (document.getElementById(\"ff8e7523-2952-4f5a-b523-da1c45453a08\")) {\n",
              "                    Plotly.newPlot(\n",
              "                        'ff8e7523-2952-4f5a-b523-da1c45453a08',\n",
              "                        [{\"customdata\": [[\"Brazil\", 52], [\"Brazil\", 77], [\"Brazil\", 98], [\"Brazil\", 121], [\"Brazil\", 200], [\"Brazil\", 234], [\"Brazil\", 291], [\"Brazil\", 428], [\"Brazil\", 621], [\"Brazil\", 904], [\"Brazil\", 1128], [\"Brazil\", 1546], [\"Brazil\", 1891], [\"Brazil\", 2201], [\"Brazil\", 2433]], \"hovertemplate\": \"Pa\\u00edses e territ\\u00f3rios=%{customdata[0]}<br>Dias desde o caso n\\u00famero 50=%{x}<br>Casos acumulados=%{customdata[1]}<extra></extra>\", \"legendgroup\": \"Brazil\", \"line\": {\"color\": \"black\", \"dash\": \"solid\"}, \"mode\": \"lines\", \"name\": \"Brazil\", \"showlegend\": true, \"type\": \"scatter\", \"x\": [0, 1, 2, 3, 4, 5, 6, 7, 8, 9, 10, 11, 12, 13, 14], \"xaxis\": \"x\", \"y\": [52, 77, 98, 121, 200, 234, 291, 428, 621, 904, 1128, 1546, 1891, 2201, 2433], \"yaxis\": \"y\"}, {\"customdata\": [[\"Italy\", 79], [\"Italy\", 132], [\"Italy\", 229], [\"Italy\", 322], [\"Italy\", 400], [\"Italy\", 650], [\"Italy\", 888], [\"Italy\", 1128], [\"Italy\", 1689], [\"Italy\", 2036]], \"hovertemplate\": \"Pa\\u00edses e territ\\u00f3rios=%{customdata[0]}<br>Dias desde o caso n\\u00famero 50=%{x}<br>Casos acumulados=%{customdata[1]}<extra></extra>\", \"legendgroup\": \"Italy\", \"line\": {\"color\": \"blue\", \"dash\": \"solid\"}, \"mode\": \"lines\", \"name\": \"Italy\", \"showlegend\": true, \"type\": \"scatter\", \"x\": [0, 1, 2, 3, 4, 5, 6, 7, 8, 9], \"xaxis\": \"x\", \"y\": [79, 132, 229, 322, 400, 650, 888, 1128, 1689, 2036], \"yaxis\": \"y\"}, {\"customdata\": [[\"Japan\", 52], [\"Japan\", 59], [\"Japan\", 59], [\"Japan\", 66], [\"Japan\", 84], [\"Japan\", 93], [\"Japan\", 105], [\"Japan\", 132], [\"Japan\", 144], [\"Japan\", 144], [\"Japan\", 164], [\"Japan\", 186], [\"Japan\", 210], [\"Japan\", 230], [\"Japan\", 239], [\"Japan\", 254], [\"Japan\", 254], [\"Japan\", 268], [\"Japan\", 317], [\"Japan\", 349], [\"Japan\", 408], [\"Japan\", 455], [\"Japan\", 488], [\"Japan\", 514], [\"Japan\", 568], [\"Japan\", 619], [\"Japan\", 675], [\"Japan\", 737], [\"Japan\", 780], [\"Japan\", 814], [\"Japan\", 824], [\"Japan\", 829], [\"Japan\", 873], [\"Japan\", 950], [\"Japan\", 1007], [\"Japan\", 1046], [\"Japan\", 1089], [\"Japan\", 1128], [\"Japan\", 1193], [\"Japan\", 1268], [\"Japan\", 1364], [\"Japan\", 1499], [\"Japan\", 1693], [\"Japan\", 1866], [\"Japan\", 1953], [\"Japan\", 1953], [\"Japan\", 2178]], \"hovertemplate\": \"Pa\\u00edses e territ\\u00f3rios=%{customdata[0]}<br>Dias desde o caso n\\u00famero 50=%{x}<br>Casos acumulados=%{customdata[1]}<extra></extra>\", \"legendgroup\": \"Japan\", \"line\": {\"color\": \"green\", \"dash\": \"solid\"}, \"mode\": \"lines\", \"name\": \"Japan\", \"showlegend\": true, \"type\": \"scatter\", \"x\": [0, 1, 2, 3, 4, 5, 6, 7, 8, 9, 10, 11, 12, 13, 14, 15, 16, 17, 18, 19, 20, 21, 22, 23, 24, 25, 26, 27, 28, 29, 30, 31, 32, 33, 34, 35, 36, 37, 38, 39, 40, 41, 42, 43, 44, 45, 46], \"xaxis\": \"x\", \"y\": [52, 59, 59, 66, 84, 93, 105, 132, 144, 144, 164, 186, 210, 230, 239, 254, 254, 268, 317, 349, 408, 455, 488, 514, 568, 619, 675, 737, 780, 814, 824, 829, 873, 950, 1007, 1046, 1089, 1128, 1193, 1268, 1364, 1499, 1693, 1866, 1953, 1953, 2178], \"yaxis\": \"y\"}, {\"customdata\": [[\"United_Kingdom\", 51], [\"United_Kingdom\", 85], [\"United_Kingdom\", 115], [\"United_Kingdom\", 163], [\"United_Kingdom\", 206], [\"United_Kingdom\", 273], [\"United_Kingdom\", 321], [\"United_Kingdom\", 373], [\"United_Kingdom\", 456], [\"United_Kingdom\", 590], [\"United_Kingdom\", 707], [\"United_Kingdom\", 1140], [\"United_Kingdom\", 1391], [\"United_Kingdom\", 1543], [\"United_Kingdom\", 1950]], \"hovertemplate\": \"Pa\\u00edses e territ\\u00f3rios=%{customdata[0]}<br>Dias desde o caso n\\u00famero 50=%{x}<br>Casos acumulados=%{customdata[1]}<extra></extra>\", \"legendgroup\": \"United_Kingdom\", \"line\": {\"color\": \"darkmagenta\", \"dash\": \"solid\"}, \"mode\": \"lines\", \"name\": \"United_Kingdom\", \"showlegend\": true, \"type\": \"scatter\", \"x\": [0, 1, 2, 3, 4, 5, 6, 7, 8, 9, 10, 11, 12, 13, 14], \"xaxis\": \"x\", \"y\": [51, 85, 115, 163, 206, 273, 321, 373, 456, 590, 707, 1140, 1391, 1543, 1950], \"yaxis\": \"y\"}, {\"customdata\": [[\"United_States_of_America\", 53], [\"United_States_of_America\", 53], [\"United_States_of_America\", 59], [\"United_States_of_America\", 60], [\"United_States_of_America\", 66], [\"United_States_of_America\", 69], [\"United_States_of_America\", 89], [\"United_States_of_America\", 103], [\"United_States_of_America\", 125], [\"United_States_of_America\", 159], [\"United_States_of_America\", 233], [\"United_States_of_America\", 338], [\"United_States_of_America\", 433], [\"United_States_of_America\", 554], [\"United_States_of_America\", 754], [\"United_States_of_America\", 1025], [\"United_States_of_America\", 1312], [\"United_States_of_America\", 1663], [\"United_States_of_America\", 2174]], \"hovertemplate\": \"Pa\\u00edses e territ\\u00f3rios=%{customdata[0]}<br>Dias desde o caso n\\u00famero 50=%{x}<br>Casos acumulados=%{customdata[1]}<extra></extra>\", \"legendgroup\": \"United_States_of_America\", \"line\": {\"color\": \"gray\", \"dash\": \"solid\"}, \"mode\": \"lines\", \"name\": \"United_States_of_America\", \"showlegend\": true, \"type\": \"scatter\", \"x\": [0, 1, 2, 3, 4, 5, 6, 7, 8, 9, 10, 11, 12, 13, 14, 15, 16, 17, 18], \"xaxis\": \"x\", \"y\": [53, 53, 59, 60, 66, 69, 89, 103, 125, 159, 233, 338, 433, 554, 754, 1025, 1312, 1663, 2174], \"yaxis\": \"y\"}, {\"customdata\": [[\"France\", 57], [\"France\", 100], [\"France\", 130], [\"France\", 178], [\"France\", 212], [\"France\", 285], [\"France\", 423], [\"France\", 613], [\"France\", 716], [\"France\", 1126], [\"France\", 1412], [\"France\", 1784], [\"France\", 2281]], \"hovertemplate\": \"Pa\\u00edses e territ\\u00f3rios=%{customdata[0]}<br>Dias desde o caso n\\u00famero 50=%{x}<br>Casos acumulados=%{customdata[1]}<extra></extra>\", \"legendgroup\": \"France\", \"line\": {\"color\": \"brown\", \"dash\": \"solid\"}, \"mode\": \"lines\", \"name\": \"France\", \"showlegend\": true, \"type\": \"scatter\", \"x\": [0, 1, 2, 3, 4, 5, 6, 7, 8, 9, 10, 11, 12], \"xaxis\": \"x\", \"y\": [57, 100, 130, 178, 212, 285, 423, 613, 716, 1126, 1412, 1784, 2281], \"yaxis\": \"y\"}, {\"customdata\": [[\"South_Korea\", 80], [\"South_Korea\", 155], [\"South_Korea\", 345], [\"South_Korea\", 601], [\"South_Korea\", 762], [\"South_Korea\", 892], [\"South_Korea\", 1146], [\"South_Korea\", 1595], [\"South_Korea\", 2022]], \"hovertemplate\": \"Pa\\u00edses e territ\\u00f3rios=%{customdata[0]}<br>Dias desde o caso n\\u00famero 50=%{x}<br>Casos acumulados=%{customdata[1]}<extra></extra>\", \"legendgroup\": \"South_Korea\", \"line\": {\"color\": \"orange\", \"dash\": \"solid\"}, \"mode\": \"lines\", \"name\": \"South_Korea\", \"showlegend\": true, \"type\": \"scatter\", \"x\": [0, 1, 2, 3, 4, 5, 6, 7, 8], \"xaxis\": \"x\", \"y\": [80, 155, 345, 601, 762, 892, 1146, 1595, 2022], \"yaxis\": \"y\"}, {\"customdata\": [[\"Spain\", 66], [\"Spain\", 83], [\"Spain\", 114], [\"Spain\", 151], [\"Spain\", 200], [\"Spain\", 261], [\"Spain\", 374], [\"Spain\", 430], [\"Spain\", 589], [\"Spain\", 1204], [\"Spain\", 1639], [\"Spain\", 2140]], \"hovertemplate\": \"Pa\\u00edses e territ\\u00f3rios=%{customdata[0]}<br>Dias desde o caso n\\u00famero 50=%{x}<br>Casos acumulados=%{customdata[1]}<extra></extra>\", \"legendgroup\": \"Spain\", \"line\": {\"color\": \"magenta\", \"dash\": \"solid\"}, \"mode\": \"lines\", \"name\": \"Spain\", \"showlegend\": true, \"type\": \"scatter\", \"x\": [0, 1, 2, 3, 4, 5, 6, 7, 8, 9, 10, 11], \"xaxis\": \"x\", \"y\": [66, 83, 114, 151, 200, 261, 374, 430, 589, 1204, 1639, 2140], \"yaxis\": \"y\"}, {\"customdata\": [[\"Argentina\", 56], [\"Argentina\", 65], [\"Argentina\", 79], [\"Argentina\", 97], [\"Argentina\", 128], [\"Argentina\", 158], [\"Argentina\", 225], [\"Argentina\", 266], [\"Argentina\", 301], [\"Argentina\", 387], [\"Argentina\", 502], [\"Argentina\", 589], [\"Argentina\", 690], [\"Argentina\", 745], [\"Argentina\", 820], [\"Argentina\", 966], [\"Argentina\", 966], [\"Argentina\", 1133], [\"Argentina\", 1133], [\"Argentina\", 1265], [\"Argentina\", 1451], [\"Argentina\", 1554], [\"Argentina\", 1628], [\"Argentina\", 1715], [\"Argentina\", 1795], [\"Argentina\", 1894]], \"hovertemplate\": \"Pa\\u00edses e territ\\u00f3rios=%{customdata[0]}<br>Dias desde o caso n\\u00famero 50=%{x}<br>Casos acumulados=%{customdata[1]}<extra></extra>\", \"legendgroup\": \"Argentina\", \"line\": {\"color\": \"red\", \"dash\": \"solid\"}, \"mode\": \"lines\", \"name\": \"Argentina\", \"showlegend\": true, \"type\": \"scatter\", \"x\": [0, 1, 2, 3, 4, 5, 6, 7, 8, 9, 10, 11, 12, 13, 14, 15, 16, 17, 18, 19, 20, 21, 22, 23, 24, 25], \"xaxis\": \"x\", \"y\": [56, 65, 79, 97, 128, 158, 225, 266, 301, 387, 502, 589, 690, 745, 820, 966, 966, 1133, 1133, 1265, 1451, 1554, 1628, 1715, 1795, 1894], \"yaxis\": \"y\"}, {\"customdata\": [[\"India\", 50], [\"India\", 73], [\"India\", 75], [\"India\", 83], [\"India\", 90], [\"India\", 93], [\"India\", 125], [\"India\", 137], [\"India\", 165], [\"India\", 191], [\"India\", 231], [\"India\", 320], [\"India\", 439], [\"India\", 492], [\"India\", 562], [\"India\", 649], [\"India\", 724], [\"India\", 873], [\"India\", 979], [\"India\", 1071], [\"India\", 1251], [\"India\", 1397], [\"India\", 1965], [\"India\", 2301]], \"hovertemplate\": \"Pa\\u00edses e territ\\u00f3rios=%{customdata[0]}<br>Dias desde o caso n\\u00famero 50=%{x}<br>Casos acumulados=%{customdata[1]}<extra></extra>\", \"legendgroup\": \"India\", \"line\": {\"color\": \"darkblue\", \"dash\": \"solid\"}, \"mode\": \"lines\", \"name\": \"India\", \"showlegend\": true, \"type\": \"scatter\", \"x\": [0, 1, 2, 3, 4, 5, 6, 7, 8, 9, 10, 11, 12, 13, 14, 15, 16, 17, 18, 19, 20, 21, 22, 23], \"xaxis\": \"x\", \"y\": [50, 73, 75, 83, 90, 93, 125, 137, 165, 191, 231, 320, 439, 492, 562, 649, 724, 873, 979, 1071, 1251, 1397, 1965, 2301], \"yaxis\": \"y\"}, {\"customdata\": [[\"Mexico\", 53], [\"Mexico\", 82], [\"Mexico\", 93], [\"Mexico\", 118], [\"Mexico\", 164], [\"Mexico\", 203], [\"Mexico\", 251], [\"Mexico\", 316], [\"Mexico\", 367], [\"Mexico\", 405], [\"Mexico\", 475], [\"Mexico\", 585], [\"Mexico\", 717], [\"Mexico\", 848], [\"Mexico\", 993], [\"Mexico\", 1094], [\"Mexico\", 1215], [\"Mexico\", 1378], [\"Mexico\", 1510], [\"Mexico\", 1688], [\"Mexico\", 1890], [\"Mexico\", 2143], [\"Mexico\", 2439]], \"hovertemplate\": \"Pa\\u00edses e territ\\u00f3rios=%{customdata[0]}<br>Dias desde o caso n\\u00famero 50=%{x}<br>Casos acumulados=%{customdata[1]}<extra></extra>\", \"legendgroup\": \"Mexico\", \"line\": {\"color\": \"lightgreen\", \"dash\": \"solid\"}, \"mode\": \"lines\", \"name\": \"Mexico\", \"showlegend\": true, \"type\": \"scatter\", \"x\": [0, 1, 2, 3, 4, 5, 6, 7, 8, 9, 10, 11, 12, 13, 14, 15, 16, 17, 18, 19, 20, 21, 22], \"xaxis\": \"x\", \"y\": [53, 82, 93, 118, 164, 203, 251, 316, 367, 405, 475, 585, 717, 848, 993, 1094, 1215, 1378, 1510, 1688, 1890, 2143, 2439], \"yaxis\": \"y\"}, {\"customdata\": [[\"Germany\", 57], [\"Germany\", 111], [\"Germany\", 129], [\"Germany\", 157], [\"Germany\", 196], [\"Germany\", 262], [\"Germany\", 400], [\"Germany\", 684], [\"Germany\", 847], [\"Germany\", 902], [\"Germany\", 1139], [\"Germany\", 1296], [\"Germany\", 1567], [\"Germany\", 2369]], \"hovertemplate\": \"Pa\\u00edses e territ\\u00f3rios=%{customdata[0]}<br>Dias desde o caso n\\u00famero 50=%{x}<br>Casos acumulados=%{customdata[1]}<extra></extra>\", \"legendgroup\": \"Germany\", \"line\": {\"color\": \"coral\", \"dash\": \"solid\"}, \"mode\": \"lines\", \"name\": \"Germany\", \"showlegend\": true, \"type\": \"scatter\", \"x\": [0, 1, 2, 3, 4, 5, 6, 7, 8, 9, 10, 11, 12, 13], \"xaxis\": \"x\", \"y\": [57, 111, 129, 157, 196, 262, 400, 684, 847, 902, 1139, 1296, 1567, 2369], \"yaxis\": \"y\"}, {\"customdata\": [[\"Czechia\", 63], [\"Czechia\", 94], [\"Czechia\", 116], [\"Czechia\", 150], [\"Czechia\", 214], [\"Czechia\", 298], [\"Czechia\", 344], [\"Czechia\", 434], [\"Czechia\", 522], [\"Czechia\", 694], [\"Czechia\", 904], [\"Czechia\", 995], [\"Czechia\", 1165], [\"Czechia\", 1236], [\"Czechia\", 1394], [\"Czechia\", 1654], [\"Czechia\", 2062], [\"Czechia\", 2279]], \"hovertemplate\": \"Pa\\u00edses e territ\\u00f3rios=%{customdata[0]}<br>Dias desde o caso n\\u00famero 50=%{x}<br>Casos acumulados=%{customdata[1]}<extra></extra>\", \"legendgroup\": \"Czechia\", \"line\": {\"color\": \"lightblue\", \"dash\": \"solid\"}, \"mode\": \"lines\", \"name\": \"Czechia\", \"showlegend\": true, \"type\": \"scatter\", \"x\": [0, 1, 2, 3, 4, 5, 6, 7, 8, 9, 10, 11, 12, 13, 14, 15, 16, 17], \"xaxis\": \"x\", \"y\": [63, 94, 116, 150, 214, 298, 344, 434, 522, 694, 904, 995, 1165, 1236, 1394, 1654, 2062, 2279], \"yaxis\": \"y\"}, {\"customdata\": [[\"China\", 59], [\"China\", 59], [\"China\", 59], [\"China\", 59], [\"China\", 59], [\"China\", 59], [\"China\", 59], [\"China\", 59], [\"China\", 59], [\"China\", 59], [\"China\", 59], [\"China\", 59], [\"China\", 63], [\"China\", 80], [\"China\", 216], [\"China\", 235], [\"China\", 386], [\"China\", 526], [\"China\", 623], [\"China\", 882], [\"China\", 1323], [\"China\", 1988]], \"hovertemplate\": \"Pa\\u00edses e territ\\u00f3rios=%{customdata[0]}<br>Dias desde o caso n\\u00famero 50=%{x}<br>Casos acumulados=%{customdata[1]}<extra></extra>\", \"legendgroup\": \"China\", \"line\": {\"color\": \"black\", \"dash\": \"solid\"}, \"mode\": \"lines\", \"name\": \"China\", \"showlegend\": true, \"type\": \"scatter\", \"x\": [0, 1, 2, 3, 4, 5, 6, 7, 8, 9, 10, 11, 12, 13, 14, 15, 16, 17, 18, 19, 20, 21], \"xaxis\": \"x\", \"y\": [59, 59, 59, 59, 59, 59, 59, 59, 59, 59, 59, 59, 63, 80, 216, 235, 386, 526, 623, 882, 1323, 1988], \"yaxis\": \"y\"}],\n",
              "                        {\"legend\": {\"borderwidth\": 0, \"font\": {\"size\": 8}, \"orientation\": \"v\", \"title\": {\"text\": \"Pa\\u00eds\"}, \"tracegroupgap\": 0, \"yanchor\": \"top\"}, \"template\": {\"data\": {\"bar\": [{\"error_x\": {\"color\": \"#2a3f5f\"}, \"error_y\": {\"color\": \"#2a3f5f\"}, \"marker\": {\"line\": {\"color\": \"#E5ECF6\", \"width\": 0.5}}, \"type\": \"bar\"}], \"barpolar\": [{\"marker\": {\"line\": {\"color\": \"#E5ECF6\", \"width\": 0.5}}, \"type\": \"barpolar\"}], \"carpet\": [{\"aaxis\": {\"endlinecolor\": \"#2a3f5f\", \"gridcolor\": \"white\", \"linecolor\": \"white\", \"minorgridcolor\": \"white\", \"startlinecolor\": \"#2a3f5f\"}, \"baxis\": {\"endlinecolor\": \"#2a3f5f\", \"gridcolor\": \"white\", \"linecolor\": \"white\", \"minorgridcolor\": \"white\", \"startlinecolor\": \"#2a3f5f\"}, \"type\": \"carpet\"}], \"choropleth\": [{\"colorbar\": {\"outlinewidth\": 0, \"ticks\": \"\"}, \"type\": \"choropleth\"}], \"contour\": [{\"colorbar\": {\"outlinewidth\": 0, \"ticks\": \"\"}, \"colorscale\": [[0.0, \"#0d0887\"], [0.1111111111111111, \"#46039f\"], [0.2222222222222222, \"#7201a8\"], [0.3333333333333333, \"#9c179e\"], [0.4444444444444444, \"#bd3786\"], [0.5555555555555556, \"#d8576b\"], [0.6666666666666666, \"#ed7953\"], [0.7777777777777778, \"#fb9f3a\"], [0.8888888888888888, \"#fdca26\"], [1.0, \"#f0f921\"]], \"type\": \"contour\"}], \"contourcarpet\": [{\"colorbar\": {\"outlinewidth\": 0, \"ticks\": \"\"}, \"type\": \"contourcarpet\"}], \"heatmap\": [{\"colorbar\": {\"outlinewidth\": 0, \"ticks\": \"\"}, \"colorscale\": [[0.0, \"#0d0887\"], [0.1111111111111111, \"#46039f\"], [0.2222222222222222, \"#7201a8\"], [0.3333333333333333, \"#9c179e\"], [0.4444444444444444, \"#bd3786\"], [0.5555555555555556, \"#d8576b\"], [0.6666666666666666, \"#ed7953\"], [0.7777777777777778, \"#fb9f3a\"], [0.8888888888888888, \"#fdca26\"], [1.0, \"#f0f921\"]], \"type\": \"heatmap\"}], \"heatmapgl\": [{\"colorbar\": {\"outlinewidth\": 0, \"ticks\": \"\"}, \"colorscale\": [[0.0, \"#0d0887\"], [0.1111111111111111, \"#46039f\"], [0.2222222222222222, \"#7201a8\"], [0.3333333333333333, \"#9c179e\"], [0.4444444444444444, \"#bd3786\"], [0.5555555555555556, \"#d8576b\"], [0.6666666666666666, \"#ed7953\"], [0.7777777777777778, \"#fb9f3a\"], [0.8888888888888888, \"#fdca26\"], [1.0, \"#f0f921\"]], \"type\": \"heatmapgl\"}], \"histogram\": [{\"marker\": {\"colorbar\": {\"outlinewidth\": 0, \"ticks\": \"\"}}, \"type\": \"histogram\"}], \"histogram2d\": [{\"colorbar\": {\"outlinewidth\": 0, \"ticks\": \"\"}, \"colorscale\": [[0.0, \"#0d0887\"], [0.1111111111111111, \"#46039f\"], [0.2222222222222222, \"#7201a8\"], [0.3333333333333333, \"#9c179e\"], [0.4444444444444444, \"#bd3786\"], [0.5555555555555556, \"#d8576b\"], [0.6666666666666666, \"#ed7953\"], [0.7777777777777778, \"#fb9f3a\"], [0.8888888888888888, \"#fdca26\"], [1.0, \"#f0f921\"]], \"type\": \"histogram2d\"}], \"histogram2dcontour\": [{\"colorbar\": {\"outlinewidth\": 0, \"ticks\": \"\"}, \"colorscale\": [[0.0, \"#0d0887\"], [0.1111111111111111, \"#46039f\"], [0.2222222222222222, \"#7201a8\"], [0.3333333333333333, \"#9c179e\"], [0.4444444444444444, \"#bd3786\"], [0.5555555555555556, \"#d8576b\"], [0.6666666666666666, \"#ed7953\"], [0.7777777777777778, \"#fb9f3a\"], [0.8888888888888888, \"#fdca26\"], [1.0, \"#f0f921\"]], \"type\": \"histogram2dcontour\"}], \"mesh3d\": [{\"colorbar\": {\"outlinewidth\": 0, \"ticks\": \"\"}, \"type\": \"mesh3d\"}], \"parcoords\": [{\"line\": {\"colorbar\": {\"outlinewidth\": 0, \"ticks\": \"\"}}, \"type\": \"parcoords\"}], \"pie\": [{\"automargin\": true, \"type\": \"pie\"}], \"scatter\": [{\"marker\": {\"colorbar\": {\"outlinewidth\": 0, \"ticks\": \"\"}}, \"type\": \"scatter\"}], \"scatter3d\": [{\"line\": {\"colorbar\": {\"outlinewidth\": 0, \"ticks\": \"\"}}, \"marker\": {\"colorbar\": {\"outlinewidth\": 0, \"ticks\": \"\"}}, \"type\": \"scatter3d\"}], \"scattercarpet\": [{\"marker\": {\"colorbar\": {\"outlinewidth\": 0, \"ticks\": \"\"}}, \"type\": \"scattercarpet\"}], \"scattergeo\": [{\"marker\": {\"colorbar\": {\"outlinewidth\": 0, \"ticks\": \"\"}}, \"type\": \"scattergeo\"}], \"scattergl\": [{\"marker\": {\"colorbar\": {\"outlinewidth\": 0, \"ticks\": \"\"}}, \"type\": \"scattergl\"}], \"scattermapbox\": [{\"marker\": {\"colorbar\": {\"outlinewidth\": 0, \"ticks\": \"\"}}, \"type\": \"scattermapbox\"}], \"scatterpolar\": [{\"marker\": {\"colorbar\": {\"outlinewidth\": 0, \"ticks\": \"\"}}, \"type\": \"scatterpolar\"}], \"scatterpolargl\": [{\"marker\": {\"colorbar\": {\"outlinewidth\": 0, \"ticks\": \"\"}}, \"type\": \"scatterpolargl\"}], \"scatterternary\": [{\"marker\": {\"colorbar\": {\"outlinewidth\": 0, \"ticks\": \"\"}}, \"type\": \"scatterternary\"}], \"surface\": [{\"colorbar\": {\"outlinewidth\": 0, \"ticks\": \"\"}, \"colorscale\": [[0.0, \"#0d0887\"], [0.1111111111111111, \"#46039f\"], [0.2222222222222222, \"#7201a8\"], [0.3333333333333333, \"#9c179e\"], [0.4444444444444444, \"#bd3786\"], [0.5555555555555556, \"#d8576b\"], [0.6666666666666666, \"#ed7953\"], [0.7777777777777778, \"#fb9f3a\"], [0.8888888888888888, \"#fdca26\"], [1.0, \"#f0f921\"]], \"type\": \"surface\"}], \"table\": [{\"cells\": {\"fill\": {\"color\": \"#EBF0F8\"}, \"line\": {\"color\": \"white\"}}, \"header\": {\"fill\": {\"color\": \"#C8D4E3\"}, \"line\": {\"color\": \"white\"}}, \"type\": \"table\"}]}, \"layout\": {\"annotationdefaults\": {\"arrowcolor\": \"#2a3f5f\", \"arrowhead\": 0, \"arrowwidth\": 1}, \"coloraxis\": {\"colorbar\": {\"outlinewidth\": 0, \"ticks\": \"\"}}, \"colorscale\": {\"diverging\": [[0, \"#8e0152\"], [0.1, \"#c51b7d\"], [0.2, \"#de77ae\"], [0.3, \"#f1b6da\"], [0.4, \"#fde0ef\"], [0.5, \"#f7f7f7\"], [0.6, \"#e6f5d0\"], [0.7, \"#b8e186\"], [0.8, \"#7fbc41\"], [0.9, \"#4d9221\"], [1, \"#276419\"]], \"sequential\": [[0.0, \"#0d0887\"], [0.1111111111111111, \"#46039f\"], [0.2222222222222222, \"#7201a8\"], [0.3333333333333333, \"#9c179e\"], [0.4444444444444444, \"#bd3786\"], [0.5555555555555556, \"#d8576b\"], [0.6666666666666666, \"#ed7953\"], [0.7777777777777778, \"#fb9f3a\"], [0.8888888888888888, \"#fdca26\"], [1.0, \"#f0f921\"]], \"sequentialminus\": [[0.0, \"#0d0887\"], [0.1111111111111111, \"#46039f\"], [0.2222222222222222, \"#7201a8\"], [0.3333333333333333, \"#9c179e\"], [0.4444444444444444, \"#bd3786\"], [0.5555555555555556, \"#d8576b\"], [0.6666666666666666, \"#ed7953\"], [0.7777777777777778, \"#fb9f3a\"], [0.8888888888888888, \"#fdca26\"], [1.0, \"#f0f921\"]]}, \"colorway\": [\"#636efa\", \"#EF553B\", \"#00cc96\", \"#ab63fa\", \"#FFA15A\", \"#19d3f3\", \"#FF6692\", \"#B6E880\", \"#FF97FF\", \"#FECB52\"], \"font\": {\"color\": \"#2a3f5f\"}, \"geo\": {\"bgcolor\": \"white\", \"lakecolor\": \"white\", \"landcolor\": \"#E5ECF6\", \"showlakes\": true, \"showland\": true, \"subunitcolor\": \"white\"}, \"hoverlabel\": {\"align\": \"left\"}, \"hovermode\": \"closest\", \"mapbox\": {\"style\": \"light\"}, \"paper_bgcolor\": \"white\", \"plot_bgcolor\": \"#E5ECF6\", \"polar\": {\"angularaxis\": {\"gridcolor\": \"white\", \"linecolor\": \"white\", \"ticks\": \"\"}, \"bgcolor\": \"#E5ECF6\", \"radialaxis\": {\"gridcolor\": \"white\", \"linecolor\": \"white\", \"ticks\": \"\"}}, \"scene\": {\"xaxis\": {\"backgroundcolor\": \"#E5ECF6\", \"gridcolor\": \"white\", \"gridwidth\": 2, \"linecolor\": \"white\", \"showbackground\": true, \"ticks\": \"\", \"zerolinecolor\": \"white\"}, \"yaxis\": {\"backgroundcolor\": \"#E5ECF6\", \"gridcolor\": \"white\", \"gridwidth\": 2, \"linecolor\": \"white\", \"showbackground\": true, \"ticks\": \"\", \"zerolinecolor\": \"white\"}, \"zaxis\": {\"backgroundcolor\": \"#E5ECF6\", \"gridcolor\": \"white\", \"gridwidth\": 2, \"linecolor\": \"white\", \"showbackground\": true, \"ticks\": \"\", \"zerolinecolor\": \"white\"}}, \"shapedefaults\": {\"line\": {\"color\": \"#2a3f5f\"}}, \"ternary\": {\"aaxis\": {\"gridcolor\": \"white\", \"linecolor\": \"white\", \"ticks\": \"\"}, \"baxis\": {\"gridcolor\": \"white\", \"linecolor\": \"white\", \"ticks\": \"\"}, \"bgcolor\": \"#E5ECF6\", \"caxis\": {\"gridcolor\": \"white\", \"linecolor\": \"white\", \"ticks\": \"\"}}, \"title\": {\"x\": 0.05}, \"xaxis\": {\"automargin\": true, \"gridcolor\": \"white\", \"linecolor\": \"white\", \"ticks\": \"\", \"title\": {\"standoff\": 15}, \"zerolinecolor\": \"white\", \"zerolinewidth\": 2}, \"yaxis\": {\"automargin\": true, \"gridcolor\": \"white\", \"linecolor\": \"white\", \"ticks\": \"\", \"title\": {\"standoff\": 15}, \"zerolinecolor\": \"white\", \"zerolinewidth\": 2}}}, \"title\": {\"text\": \"COVID-19 - Casos confirmados - 10-04-2020 \\n Zoom at\\u00e9 2500 casos\"}, \"xaxis\": {\"anchor\": \"y\", \"domain\": [0.0, 1.0], \"title\": {\"text\": \"Dias desde o caso n\\u00famero 50\"}}, \"yaxis\": {\"anchor\": \"x\", \"domain\": [0.0, 1.0], \"title\": {\"text\": \"Casos acumulados\"}}},\n",
              "                        {\"responsive\": true}\n",
              "                    ).then(function(){\n",
              "                            \n",
              "var gd = document.getElementById('ff8e7523-2952-4f5a-b523-da1c45453a08');\n",
              "var x = new MutationObserver(function (mutations, observer) {{\n",
              "        var display = window.getComputedStyle(gd).display;\n",
              "        if (!display || display === 'none') {{\n",
              "            console.log([gd, 'removed!']);\n",
              "            Plotly.purge(gd);\n",
              "            observer.disconnect();\n",
              "        }}\n",
              "}});\n",
              "\n",
              "// Listen for the removal of the full notebook cells\n",
              "var notebookContainer = gd.closest('#notebook-container');\n",
              "if (notebookContainer) {{\n",
              "    x.observe(notebookContainer, {childList: true});\n",
              "}}\n",
              "\n",
              "// Listen for the clearing of the current output cell\n",
              "var outputEl = gd.closest('.output');\n",
              "if (outputEl) {{\n",
              "    x.observe(outputEl, {childList: true});\n",
              "}}\n",
              "\n",
              "                        })\n",
              "                };\n",
              "                \n",
              "            </script>\n",
              "        </div>\n",
              "</body>\n",
              "</html>"
            ]
          },
          "metadata": {
            "tags": []
          }
        }
      ]
    },
    {
      "cell_type": "code",
      "metadata": {
        "colab_type": "code",
        "id": "d5nOTnJwYHNo",
        "outputId": "7a702506-3e94-48c7-a984-ed23de9911a2",
        "colab": {
          "base_uri": "https://localhost:8080/",
          "height": 542
        }
      },
      "source": [
        "#hide\n",
        "\n",
        "fig = px.line(meio_zoom, x=\"Dias desde o caso número 50\", y=\"Casos acumulados\", title='COVID-19 - Casos confirmados - {} \\n Zoom até 5000 casos'.format(today),\n",
        "              color='Países e territórios',color_discrete_sequence=[\"black\", \"blue\",'green',\"darkmagenta\",\"gray\",\"brown\",\"orange\",\"magenta\",'red',\"darkblue\",\"lightgreen\",'coral','lightblue'])\n",
        "fig.update_layout(legend= {'title':'País','borderwidth':0,'orientation':'v','yanchor':'top','font':{'size':8}})\n",
        "fig.show()\n",
        "#fig.write_html(\"plots/11_letalidade.html\")"
      ],
      "execution_count": 34,
      "outputs": [
        {
          "output_type": "display_data",
          "data": {
            "text/html": [
              "<html>\n",
              "<head><meta charset=\"utf-8\" /></head>\n",
              "<body>\n",
              "    <div>\n",
              "            <script src=\"https://cdnjs.cloudflare.com/ajax/libs/mathjax/2.7.5/MathJax.js?config=TeX-AMS-MML_SVG\"></script><script type=\"text/javascript\">if (window.MathJax) {MathJax.Hub.Config({SVG: {font: \"STIX-Web\"}});}</script>\n",
              "                <script type=\"text/javascript\">window.PlotlyConfig = {MathJaxConfig: 'local'};</script>\n",
              "        <script src=\"https://cdn.plot.ly/plotly-latest.min.js\"></script>    \n",
              "            <div id=\"cad66f46-2349-42a4-9cd9-d6a76eeb0624\" class=\"plotly-graph-div\" style=\"height:525px; width:100%;\"></div>\n",
              "            <script type=\"text/javascript\">\n",
              "                \n",
              "                    window.PLOTLYENV=window.PLOTLYENV || {};\n",
              "                    \n",
              "                if (document.getElementById(\"cad66f46-2349-42a4-9cd9-d6a76eeb0624\")) {\n",
              "                    Plotly.newPlot(\n",
              "                        'cad66f46-2349-42a4-9cd9-d6a76eeb0624',\n",
              "                        [{\"hovertemplate\": \"Pa\\u00edses e territ\\u00f3rios=Brazil<br>Dias desde o caso n\\u00famero 50=%{x}<br>Casos acumulados=%{y}<extra></extra>\", \"legendgroup\": \"Brazil\", \"line\": {\"color\": \"black\", \"dash\": \"solid\"}, \"mode\": \"lines\", \"name\": \"Brazil\", \"showlegend\": true, \"type\": \"scatter\", \"x\": [0, 1, 2, 3, 4, 5, 6, 7, 8, 9, 10, 11, 12, 13, 14, 15, 16, 17, 18, 19], \"xaxis\": \"x\", \"y\": [52, 77, 98, 121, 200, 234, 291, 428, 621, 904, 1128, 1546, 1891, 2201, 2433, 2915, 3417, 3904, 4256, 4579], \"yaxis\": \"y\"}, {\"hovertemplate\": \"Pa\\u00edses e territ\\u00f3rios=Italy<br>Dias desde o caso n\\u00famero 50=%{x}<br>Casos acumulados=%{y}<extra></extra>\", \"legendgroup\": \"Italy\", \"line\": {\"color\": \"blue\", \"dash\": \"solid\"}, \"mode\": \"lines\", \"name\": \"Italy\", \"showlegend\": true, \"type\": \"scatter\", \"x\": [0, 1, 2, 3, 4, 5, 6, 7, 8, 9, 10, 11, 12, 13], \"xaxis\": \"x\", \"y\": [79, 132, 229, 322, 400, 650, 888, 1128, 1689, 2036, 2502, 3089, 3858, 4636], \"yaxis\": \"y\"}, {\"hovertemplate\": \"Pa\\u00edses e territ\\u00f3rios=Japan<br>Dias desde o caso n\\u00famero 50=%{x}<br>Casos acumulados=%{y}<extra></extra>\", \"legendgroup\": \"Japan\", \"line\": {\"color\": \"green\", \"dash\": \"solid\"}, \"mode\": \"lines\", \"name\": \"Japan\", \"showlegend\": true, \"type\": \"scatter\", \"x\": [0, 1, 2, 3, 4, 5, 6, 7, 8, 9, 10, 11, 12, 13, 14, 15, 16, 17, 18, 19, 20, 21, 22, 23, 24, 25, 26, 27, 28, 29, 30, 31, 32, 33, 34, 35, 36, 37, 38, 39, 40, 41, 42, 43, 44, 45, 46, 47, 48, 49, 50, 51, 52, 53, 54], \"xaxis\": \"x\", \"y\": [52, 59, 59, 66, 84, 93, 105, 132, 144, 144, 164, 186, 210, 230, 239, 254, 254, 268, 317, 349, 408, 455, 488, 514, 568, 619, 675, 737, 780, 814, 824, 829, 873, 950, 1007, 1046, 1089, 1128, 1193, 1268, 1364, 1499, 1693, 1866, 1953, 1953, 2178, 2617, 2935, 3271, 3654, 3817, 3906, 4257, 4667], \"yaxis\": \"y\"}, {\"hovertemplate\": \"Pa\\u00edses e territ\\u00f3rios=United_Kingdom<br>Dias desde o caso n\\u00famero 50=%{x}<br>Casos acumulados=%{y}<extra></extra>\", \"legendgroup\": \"United_Kingdom\", \"line\": {\"color\": \"darkmagenta\", \"dash\": \"solid\"}, \"mode\": \"lines\", \"name\": \"United_Kingdom\", \"showlegend\": true, \"type\": \"scatter\", \"x\": [0, 1, 2, 3, 4, 5, 6, 7, 8, 9, 10, 11, 12, 13, 14, 15, 16, 17], \"xaxis\": \"x\", \"y\": [51, 85, 115, 163, 206, 273, 321, 373, 456, 590, 707, 1140, 1391, 1543, 1950, 2630, 3277, 3983], \"yaxis\": \"y\"}, {\"hovertemplate\": \"Pa\\u00edses e territ\\u00f3rios=United_States_of_America<br>Dias desde o caso n\\u00famero 50=%{x}<br>Casos acumulados=%{y}<extra></extra>\", \"legendgroup\": \"United_States_of_America\", \"line\": {\"color\": \"gray\", \"dash\": \"solid\"}, \"mode\": \"lines\", \"name\": \"United_States_of_America\", \"showlegend\": true, \"type\": \"scatter\", \"x\": [0, 1, 2, 3, 4, 5, 6, 7, 8, 9, 10, 11, 12, 13, 14, 15, 16, 17, 18, 19, 20, 21], \"xaxis\": \"x\", \"y\": [53, 53, 59, 60, 66, 69, 89, 103, 125, 159, 233, 338, 433, 554, 754, 1025, 1312, 1663, 2174, 2951, 3774, 4661], \"yaxis\": \"y\"}, {\"hovertemplate\": \"Pa\\u00edses e territ\\u00f3rios=France<br>Dias desde o caso n\\u00famero 50=%{x}<br>Casos acumulados=%{y}<extra></extra>\", \"legendgroup\": \"France\", \"line\": {\"color\": \"brown\", \"dash\": \"solid\"}, \"mode\": \"lines\", \"name\": \"France\", \"showlegend\": true, \"type\": \"scatter\", \"x\": [0, 1, 2, 3, 4, 5, 6, 7, 8, 9, 10, 11, 12, 13, 14, 15], \"xaxis\": \"x\", \"y\": [57, 100, 130, 178, 212, 285, 423, 613, 716, 1126, 1412, 1784, 2281, 2876, 3661, 4499], \"yaxis\": \"y\"}, {\"hovertemplate\": \"Pa\\u00edses e territ\\u00f3rios=South_Korea<br>Dias desde o caso n\\u00famero 50=%{x}<br>Casos acumulados=%{y}<extra></extra>\", \"legendgroup\": \"South_Korea\", \"line\": {\"color\": \"orange\", \"dash\": \"solid\"}, \"mode\": \"lines\", \"name\": \"South_Korea\", \"showlegend\": true, \"type\": \"scatter\", \"x\": [0, 1, 2, 3, 4, 5, 6, 7, 8, 9, 10, 11, 12], \"xaxis\": \"x\", \"y\": [80, 155, 345, 601, 762, 892, 1146, 1595, 2022, 2931, 3526, 4212, 4812], \"yaxis\": \"y\"}, {\"hovertemplate\": \"Pa\\u00edses e territ\\u00f3rios=Spain<br>Dias desde o caso n\\u00famero 50=%{x}<br>Casos acumulados=%{y}<extra></extra>\", \"legendgroup\": \"Spain\", \"line\": {\"color\": \"magenta\", \"dash\": \"solid\"}, \"mode\": \"lines\", \"name\": \"Spain\", \"showlegend\": true, \"type\": \"scatter\", \"x\": [0, 1, 2, 3, 4, 5, 6, 7, 8, 9, 10, 11, 12, 13], \"xaxis\": \"x\", \"y\": [66, 83, 114, 151, 200, 261, 374, 430, 589, 1204, 1639, 2140, 3004, 4231], \"yaxis\": \"y\"}, {\"hovertemplate\": \"Pa\\u00edses e territ\\u00f3rios=Argentina<br>Dias desde o caso n\\u00famero 50=%{x}<br>Casos acumulados=%{y}<extra></extra>\", \"legendgroup\": \"Argentina\", \"line\": {\"color\": \"red\", \"dash\": \"solid\"}, \"mode\": \"lines\", \"name\": \"Argentina\", \"showlegend\": true, \"type\": \"scatter\", \"x\": [0, 1, 2, 3, 4, 5, 6, 7, 8, 9, 10, 11, 12, 13, 14, 15, 16, 17, 18, 19, 20, 21, 22, 23, 24, 25], \"xaxis\": \"x\", \"y\": [56, 65, 79, 97, 128, 158, 225, 266, 301, 387, 502, 589, 690, 745, 820, 966, 966, 1133, 1133, 1265, 1451, 1554, 1628, 1715, 1795, 1894], \"yaxis\": \"y\"}, {\"hovertemplate\": \"Pa\\u00edses e territ\\u00f3rios=India<br>Dias desde o caso n\\u00famero 50=%{x}<br>Casos acumulados=%{y}<extra></extra>\", \"legendgroup\": \"India\", \"line\": {\"color\": \"darkblue\", \"dash\": \"solid\"}, \"mode\": \"lines\", \"name\": \"India\", \"showlegend\": true, \"type\": \"scatter\", \"x\": [0, 1, 2, 3, 4, 5, 6, 7, 8, 9, 10, 11, 12, 13, 14, 15, 16, 17, 18, 19, 20, 21, 22, 23, 24, 25, 26, 27], \"xaxis\": \"x\", \"y\": [50, 73, 75, 83, 90, 93, 125, 137, 165, 191, 231, 320, 439, 492, 562, 649, 724, 873, 979, 1071, 1251, 1397, 1965, 2301, 2902, 3374, 4067, 4421], \"yaxis\": \"y\"}, {\"hovertemplate\": \"Pa\\u00edses e territ\\u00f3rios=Mexico<br>Dias desde o caso n\\u00famero 50=%{x}<br>Casos acumulados=%{y}<extra></extra>\", \"legendgroup\": \"Mexico\", \"line\": {\"color\": \"lightgreen\", \"dash\": \"solid\"}, \"mode\": \"lines\", \"name\": \"Mexico\", \"showlegend\": true, \"type\": \"scatter\", \"x\": [0, 1, 2, 3, 4, 5, 6, 7, 8, 9, 10, 11, 12, 13, 14, 15, 16, 17, 18, 19, 20, 21, 22, 23, 24, 25], \"xaxis\": \"x\", \"y\": [53, 82, 93, 118, 164, 203, 251, 316, 367, 405, 475, 585, 717, 848, 993, 1094, 1215, 1378, 1510, 1688, 1890, 2143, 2439, 2785, 3181, 3441], \"yaxis\": \"y\"}, {\"hovertemplate\": \"Pa\\u00edses e territ\\u00f3rios=Germany<br>Dias desde o caso n\\u00famero 50=%{x}<br>Casos acumulados=%{y}<extra></extra>\", \"legendgroup\": \"Germany\", \"line\": {\"color\": \"coral\", \"dash\": \"solid\"}, \"mode\": \"lines\", \"name\": \"Germany\", \"showlegend\": true, \"type\": \"scatter\", \"x\": [0, 1, 2, 3, 4, 5, 6, 7, 8, 9, 10, 11, 12, 13, 14, 15, 16], \"xaxis\": \"x\", \"y\": [57, 111, 129, 157, 196, 262, 400, 684, 847, 902, 1139, 1296, 1567, 2369, 3062, 3795, 4838], \"yaxis\": \"y\"}, {\"hovertemplate\": \"Pa\\u00edses e territ\\u00f3rios=Czechia<br>Dias desde o caso n\\u00famero 50=%{x}<br>Casos acumulados=%{y}<extra></extra>\", \"legendgroup\": \"Czechia\", \"line\": {\"color\": \"lightblue\", \"dash\": \"solid\"}, \"mode\": \"lines\", \"name\": \"Czechia\", \"showlegend\": true, \"type\": \"scatter\", \"x\": [0, 1, 2, 3, 4, 5, 6, 7, 8, 9, 10, 11, 12, 13, 14, 15, 16, 17, 18, 19, 20, 21, 22, 23, 24, 25, 26, 27], \"xaxis\": \"x\", \"y\": [63, 94, 116, 150, 214, 298, 344, 434, 522, 694, 904, 995, 1165, 1236, 1394, 1654, 2062, 2279, 2663, 2829, 3002, 3308, 3589, 3858, 4190, 4472, 4587, 4822], \"yaxis\": \"y\"}, {\"hovertemplate\": \"Pa\\u00edses e territ\\u00f3rios=China<br>Dias desde o caso n\\u00famero 50=%{x}<br>Casos acumulados=%{y}<extra></extra>\", \"legendgroup\": \"China\", \"line\": {\"color\": \"black\", \"dash\": \"solid\"}, \"mode\": \"lines\", \"name\": \"China\", \"showlegend\": true, \"type\": \"scatter\", \"x\": [0, 1, 2, 3, 4, 5, 6, 7, 8, 9, 10, 11, 12, 13, 14, 15, 16, 17, 18, 19, 20, 21, 22, 23], \"xaxis\": \"x\", \"y\": [59, 59, 59, 59, 59, 59, 59, 59, 59, 59, 59, 59, 63, 80, 216, 235, 386, 526, 623, 882, 1323, 1988, 2775, 4528], \"yaxis\": \"y\"}],\n",
              "                        {\"legend\": {\"borderwidth\": 0, \"font\": {\"size\": 8}, \"orientation\": \"v\", \"title\": {\"text\": \"Pa\\u00eds\"}, \"tracegroupgap\": 0, \"yanchor\": \"top\"}, \"template\": {\"data\": {\"bar\": [{\"error_x\": {\"color\": \"#2a3f5f\"}, \"error_y\": {\"color\": \"#2a3f5f\"}, \"marker\": {\"line\": {\"color\": \"#E5ECF6\", \"width\": 0.5}}, \"type\": \"bar\"}], \"barpolar\": [{\"marker\": {\"line\": {\"color\": \"#E5ECF6\", \"width\": 0.5}}, \"type\": \"barpolar\"}], \"carpet\": [{\"aaxis\": {\"endlinecolor\": \"#2a3f5f\", \"gridcolor\": \"white\", \"linecolor\": \"white\", \"minorgridcolor\": \"white\", \"startlinecolor\": \"#2a3f5f\"}, \"baxis\": {\"endlinecolor\": \"#2a3f5f\", \"gridcolor\": \"white\", \"linecolor\": \"white\", \"minorgridcolor\": \"white\", \"startlinecolor\": \"#2a3f5f\"}, \"type\": \"carpet\"}], \"choropleth\": [{\"colorbar\": {\"outlinewidth\": 0, \"ticks\": \"\"}, \"type\": \"choropleth\"}], \"contour\": [{\"colorbar\": {\"outlinewidth\": 0, \"ticks\": \"\"}, \"colorscale\": [[0.0, \"#0d0887\"], [0.1111111111111111, \"#46039f\"], [0.2222222222222222, \"#7201a8\"], [0.3333333333333333, \"#9c179e\"], [0.4444444444444444, \"#bd3786\"], [0.5555555555555556, \"#d8576b\"], [0.6666666666666666, \"#ed7953\"], [0.7777777777777778, \"#fb9f3a\"], [0.8888888888888888, \"#fdca26\"], [1.0, \"#f0f921\"]], \"type\": \"contour\"}], \"contourcarpet\": [{\"colorbar\": {\"outlinewidth\": 0, \"ticks\": \"\"}, \"type\": \"contourcarpet\"}], \"heatmap\": [{\"colorbar\": {\"outlinewidth\": 0, \"ticks\": \"\"}, \"colorscale\": [[0.0, \"#0d0887\"], [0.1111111111111111, \"#46039f\"], [0.2222222222222222, \"#7201a8\"], [0.3333333333333333, \"#9c179e\"], [0.4444444444444444, \"#bd3786\"], [0.5555555555555556, \"#d8576b\"], [0.6666666666666666, \"#ed7953\"], [0.7777777777777778, \"#fb9f3a\"], [0.8888888888888888, \"#fdca26\"], [1.0, \"#f0f921\"]], \"type\": \"heatmap\"}], \"heatmapgl\": [{\"colorbar\": {\"outlinewidth\": 0, \"ticks\": \"\"}, \"colorscale\": [[0.0, \"#0d0887\"], [0.1111111111111111, \"#46039f\"], [0.2222222222222222, \"#7201a8\"], [0.3333333333333333, \"#9c179e\"], [0.4444444444444444, \"#bd3786\"], [0.5555555555555556, \"#d8576b\"], [0.6666666666666666, \"#ed7953\"], [0.7777777777777778, \"#fb9f3a\"], [0.8888888888888888, \"#fdca26\"], [1.0, \"#f0f921\"]], \"type\": \"heatmapgl\"}], \"histogram\": [{\"marker\": {\"colorbar\": {\"outlinewidth\": 0, \"ticks\": \"\"}}, \"type\": \"histogram\"}], \"histogram2d\": [{\"colorbar\": {\"outlinewidth\": 0, \"ticks\": \"\"}, \"colorscale\": [[0.0, \"#0d0887\"], [0.1111111111111111, \"#46039f\"], [0.2222222222222222, \"#7201a8\"], [0.3333333333333333, \"#9c179e\"], [0.4444444444444444, \"#bd3786\"], [0.5555555555555556, \"#d8576b\"], [0.6666666666666666, \"#ed7953\"], [0.7777777777777778, \"#fb9f3a\"], [0.8888888888888888, \"#fdca26\"], [1.0, \"#f0f921\"]], \"type\": \"histogram2d\"}], \"histogram2dcontour\": [{\"colorbar\": {\"outlinewidth\": 0, \"ticks\": \"\"}, \"colorscale\": [[0.0, \"#0d0887\"], [0.1111111111111111, \"#46039f\"], [0.2222222222222222, \"#7201a8\"], [0.3333333333333333, \"#9c179e\"], [0.4444444444444444, \"#bd3786\"], [0.5555555555555556, \"#d8576b\"], [0.6666666666666666, \"#ed7953\"], [0.7777777777777778, \"#fb9f3a\"], [0.8888888888888888, \"#fdca26\"], [1.0, \"#f0f921\"]], \"type\": \"histogram2dcontour\"}], \"mesh3d\": [{\"colorbar\": {\"outlinewidth\": 0, \"ticks\": \"\"}, \"type\": \"mesh3d\"}], \"parcoords\": [{\"line\": {\"colorbar\": {\"outlinewidth\": 0, \"ticks\": \"\"}}, \"type\": \"parcoords\"}], \"pie\": [{\"automargin\": true, \"type\": \"pie\"}], \"scatter\": [{\"marker\": {\"colorbar\": {\"outlinewidth\": 0, \"ticks\": \"\"}}, \"type\": \"scatter\"}], \"scatter3d\": [{\"line\": {\"colorbar\": {\"outlinewidth\": 0, \"ticks\": \"\"}}, \"marker\": {\"colorbar\": {\"outlinewidth\": 0, \"ticks\": \"\"}}, \"type\": \"scatter3d\"}], \"scattercarpet\": [{\"marker\": {\"colorbar\": {\"outlinewidth\": 0, \"ticks\": \"\"}}, \"type\": \"scattercarpet\"}], \"scattergeo\": [{\"marker\": {\"colorbar\": {\"outlinewidth\": 0, \"ticks\": \"\"}}, \"type\": \"scattergeo\"}], \"scattergl\": [{\"marker\": {\"colorbar\": {\"outlinewidth\": 0, \"ticks\": \"\"}}, \"type\": \"scattergl\"}], \"scattermapbox\": [{\"marker\": {\"colorbar\": {\"outlinewidth\": 0, \"ticks\": \"\"}}, \"type\": \"scattermapbox\"}], \"scatterpolar\": [{\"marker\": {\"colorbar\": {\"outlinewidth\": 0, \"ticks\": \"\"}}, \"type\": \"scatterpolar\"}], \"scatterpolargl\": [{\"marker\": {\"colorbar\": {\"outlinewidth\": 0, \"ticks\": \"\"}}, \"type\": \"scatterpolargl\"}], \"scatterternary\": [{\"marker\": {\"colorbar\": {\"outlinewidth\": 0, \"ticks\": \"\"}}, \"type\": \"scatterternary\"}], \"surface\": [{\"colorbar\": {\"outlinewidth\": 0, \"ticks\": \"\"}, \"colorscale\": [[0.0, \"#0d0887\"], [0.1111111111111111, \"#46039f\"], [0.2222222222222222, \"#7201a8\"], [0.3333333333333333, \"#9c179e\"], [0.4444444444444444, \"#bd3786\"], [0.5555555555555556, \"#d8576b\"], [0.6666666666666666, \"#ed7953\"], [0.7777777777777778, \"#fb9f3a\"], [0.8888888888888888, \"#fdca26\"], [1.0, \"#f0f921\"]], \"type\": \"surface\"}], \"table\": [{\"cells\": {\"fill\": {\"color\": \"#EBF0F8\"}, \"line\": {\"color\": \"white\"}}, \"header\": {\"fill\": {\"color\": \"#C8D4E3\"}, \"line\": {\"color\": \"white\"}}, \"type\": \"table\"}]}, \"layout\": {\"annotationdefaults\": {\"arrowcolor\": \"#2a3f5f\", \"arrowhead\": 0, \"arrowwidth\": 1}, \"coloraxis\": {\"colorbar\": {\"outlinewidth\": 0, \"ticks\": \"\"}}, \"colorscale\": {\"diverging\": [[0, \"#8e0152\"], [0.1, \"#c51b7d\"], [0.2, \"#de77ae\"], [0.3, \"#f1b6da\"], [0.4, \"#fde0ef\"], [0.5, \"#f7f7f7\"], [0.6, \"#e6f5d0\"], [0.7, \"#b8e186\"], [0.8, \"#7fbc41\"], [0.9, \"#4d9221\"], [1, \"#276419\"]], \"sequential\": [[0.0, \"#0d0887\"], [0.1111111111111111, \"#46039f\"], [0.2222222222222222, \"#7201a8\"], [0.3333333333333333, \"#9c179e\"], [0.4444444444444444, \"#bd3786\"], [0.5555555555555556, \"#d8576b\"], [0.6666666666666666, \"#ed7953\"], [0.7777777777777778, \"#fb9f3a\"], [0.8888888888888888, \"#fdca26\"], [1.0, \"#f0f921\"]], \"sequentialminus\": [[0.0, \"#0d0887\"], [0.1111111111111111, \"#46039f\"], [0.2222222222222222, \"#7201a8\"], [0.3333333333333333, \"#9c179e\"], [0.4444444444444444, \"#bd3786\"], [0.5555555555555556, \"#d8576b\"], [0.6666666666666666, \"#ed7953\"], [0.7777777777777778, \"#fb9f3a\"], [0.8888888888888888, \"#fdca26\"], [1.0, \"#f0f921\"]]}, \"colorway\": [\"#636efa\", \"#EF553B\", \"#00cc96\", \"#ab63fa\", \"#FFA15A\", \"#19d3f3\", \"#FF6692\", \"#B6E880\", \"#FF97FF\", \"#FECB52\"], \"font\": {\"color\": \"#2a3f5f\"}, \"geo\": {\"bgcolor\": \"white\", \"lakecolor\": \"white\", \"landcolor\": \"#E5ECF6\", \"showlakes\": true, \"showland\": true, \"subunitcolor\": \"white\"}, \"hoverlabel\": {\"align\": \"left\"}, \"hovermode\": \"closest\", \"mapbox\": {\"style\": \"light\"}, \"paper_bgcolor\": \"white\", \"plot_bgcolor\": \"#E5ECF6\", \"polar\": {\"angularaxis\": {\"gridcolor\": \"white\", \"linecolor\": \"white\", \"ticks\": \"\"}, \"bgcolor\": \"#E5ECF6\", \"radialaxis\": {\"gridcolor\": \"white\", \"linecolor\": \"white\", \"ticks\": \"\"}}, \"scene\": {\"xaxis\": {\"backgroundcolor\": \"#E5ECF6\", \"gridcolor\": \"white\", \"gridwidth\": 2, \"linecolor\": \"white\", \"showbackground\": true, \"ticks\": \"\", \"zerolinecolor\": \"white\"}, \"yaxis\": {\"backgroundcolor\": \"#E5ECF6\", \"gridcolor\": \"white\", \"gridwidth\": 2, \"linecolor\": \"white\", \"showbackground\": true, \"ticks\": \"\", \"zerolinecolor\": \"white\"}, \"zaxis\": {\"backgroundcolor\": \"#E5ECF6\", \"gridcolor\": \"white\", \"gridwidth\": 2, \"linecolor\": \"white\", \"showbackground\": true, \"ticks\": \"\", \"zerolinecolor\": \"white\"}}, \"shapedefaults\": {\"line\": {\"color\": \"#2a3f5f\"}}, \"ternary\": {\"aaxis\": {\"gridcolor\": \"white\", \"linecolor\": \"white\", \"ticks\": \"\"}, \"baxis\": {\"gridcolor\": \"white\", \"linecolor\": \"white\", \"ticks\": \"\"}, \"bgcolor\": \"#E5ECF6\", \"caxis\": {\"gridcolor\": \"white\", \"linecolor\": \"white\", \"ticks\": \"\"}}, \"title\": {\"x\": 0.05}, \"xaxis\": {\"automargin\": true, \"gridcolor\": \"white\", \"linecolor\": \"white\", \"ticks\": \"\", \"title\": {\"standoff\": 15}, \"zerolinecolor\": \"white\", \"zerolinewidth\": 2}, \"yaxis\": {\"automargin\": true, \"gridcolor\": \"white\", \"linecolor\": \"white\", \"ticks\": \"\", \"title\": {\"standoff\": 15}, \"zerolinecolor\": \"white\", \"zerolinewidth\": 2}}}, \"title\": {\"text\": \"COVID-19 - Casos confirmados - 10-04-2020 \\n Zoom at\\u00e9 5000 casos\"}, \"xaxis\": {\"anchor\": \"y\", \"domain\": [0.0, 1.0], \"title\": {\"text\": \"Dias desde o caso n\\u00famero 50\"}}, \"yaxis\": {\"anchor\": \"x\", \"domain\": [0.0, 1.0], \"title\": {\"text\": \"Casos acumulados\"}}},\n",
              "                        {\"responsive\": true}\n",
              "                    ).then(function(){\n",
              "                            \n",
              "var gd = document.getElementById('cad66f46-2349-42a4-9cd9-d6a76eeb0624');\n",
              "var x = new MutationObserver(function (mutations, observer) {{\n",
              "        var display = window.getComputedStyle(gd).display;\n",
              "        if (!display || display === 'none') {{\n",
              "            console.log([gd, 'removed!']);\n",
              "            Plotly.purge(gd);\n",
              "            observer.disconnect();\n",
              "        }}\n",
              "}});\n",
              "\n",
              "// Listen for the removal of the full notebook cells\n",
              "var notebookContainer = gd.closest('#notebook-container');\n",
              "if (notebookContainer) {{\n",
              "    x.observe(notebookContainer, {childList: true});\n",
              "}}\n",
              "\n",
              "// Listen for the clearing of the current output cell\n",
              "var outputEl = gd.closest('.output');\n",
              "if (outputEl) {{\n",
              "    x.observe(outputEl, {childList: true});\n",
              "}}\n",
              "\n",
              "                        })\n",
              "                };\n",
              "                \n",
              "            </script>\n",
              "        </div>\n",
              "</body>\n",
              "</html>"
            ]
          },
          "metadata": {
            "tags": []
          }
        }
      ]
    },
    {
      "cell_type": "code",
      "metadata": {
        "colab_type": "code",
        "id": "vCTjw96BfhG_",
        "outputId": "5c788770-2240-4ab2-85d2-5a03598c4694",
        "colab": {
          "base_uri": "https://localhost:8080/",
          "height": 542
        }
      },
      "source": [
        "#hide_input\n",
        "\n",
        "fig = px.line(final_data, x=\"Dias desde o caso número 50\", y=\"Casos acumulados\", title='COVID-19 - Casos confirmados - {} \\n Escala aritmética'.format(today),\n",
        "              color=final_data['Países e territórios'].values,color_discrete_sequence=[\"black\", \"blue\",'green',\"darkmagenta\",\"gray\",\"brown\",\"orange\",\"magenta\",'red',\"darkblue\",\"lightgreen\",'coral','lightblue'])\n",
        "fig.update_layout(legend= {'title':'País','borderwidth':0,'orientation':'v','yanchor':'top','font':{'size':8}})\n",
        "fig.show()\n",
        "#fig.write_html(\"plots/11_letalidade.html\")\n"
      ],
      "execution_count": 35,
      "outputs": [
        {
          "output_type": "display_data",
          "data": {
            "text/html": [
              "<html>\n",
              "<head><meta charset=\"utf-8\" /></head>\n",
              "<body>\n",
              "    <div>\n",
              "            <script src=\"https://cdnjs.cloudflare.com/ajax/libs/mathjax/2.7.5/MathJax.js?config=TeX-AMS-MML_SVG\"></script><script type=\"text/javascript\">if (window.MathJax) {MathJax.Hub.Config({SVG: {font: \"STIX-Web\"}});}</script>\n",
              "                <script type=\"text/javascript\">window.PlotlyConfig = {MathJaxConfig: 'local'};</script>\n",
              "        <script src=\"https://cdn.plot.ly/plotly-latest.min.js\"></script>    \n",
              "            <div id=\"f75a34db-9fe9-410c-b38c-c18336075c1e\" class=\"plotly-graph-div\" style=\"height:525px; width:100%;\"></div>\n",
              "            <script type=\"text/javascript\">\n",
              "                \n",
              "                    window.PLOTLYENV=window.PLOTLYENV || {};\n",
              "                    \n",
              "                if (document.getElementById(\"f75a34db-9fe9-410c-b38c-c18336075c1e\")) {\n",
              "                    Plotly.newPlot(\n",
              "                        'f75a34db-9fe9-410c-b38c-c18336075c1e',\n",
              "                        [{\"hovertemplate\": \"color=Brazil<br>Dias desde o caso n\\u00famero 50=%{x}<br>Casos acumulados=%{y}<extra></extra>\", \"legendgroup\": \"Brazil\", \"line\": {\"color\": \"black\", \"dash\": \"solid\"}, \"mode\": \"lines\", \"name\": \"Brazil\", \"showlegend\": true, \"type\": \"scatter\", \"x\": [0, 1, 2, 3, 4, 5, 6, 7, 8, 9, 10, 11, 12, 13, 14, 15, 16, 17, 18, 19, 20, 21, 22, 23, 24, 25, 26, 27, 28, 29], \"xaxis\": \"x\", \"y\": [52, 77, 98, 121, 200, 234, 291, 428, 621, 904, 1128, 1546, 1891, 2201, 2433, 2915, 3417, 3904, 4256, 4579, 5717, 6836, 7910, 9056, 10278, 11130, 12056, 13717, 15927, 17857], \"yaxis\": \"y\"}, {\"hovertemplate\": \"color=Italy<br>Dias desde o caso n\\u00famero 50=%{x}<br>Casos acumulados=%{y}<extra></extra>\", \"legendgroup\": \"Italy\", \"line\": {\"color\": \"blue\", \"dash\": \"solid\"}, \"mode\": \"lines\", \"name\": \"Italy\", \"showlegend\": true, \"type\": \"scatter\", \"x\": [0, 1, 2, 3, 4, 5, 6, 7, 8, 9, 10, 11, 12, 13, 14, 15, 16, 17, 18, 19, 20, 21, 22, 23, 24, 25, 26, 27, 28, 29, 30, 31, 32, 33, 34, 35, 36, 37, 38, 39, 40, 41, 42, 43, 44, 45, 46, 47], \"xaxis\": \"x\", \"y\": [79, 132, 229, 322, 400, 650, 888, 1128, 1689, 2036, 2502, 3089, 3858, 4636, 5883, 7375, 9172, 10149, 12462, 15113, 17660, 21157, 23980, 27980, 31506, 35713, 41035, 47021, 53578, 59138, 63927, 69176, 74386, 80539, 86498, 92472, 97689, 101739, 105792, 110574, 115242, 119827, 124632, 128948, 132547, 135586, 139422, 143626], \"yaxis\": \"y\"}, {\"hovertemplate\": \"color=Japan<br>Dias desde o caso n\\u00famero 50=%{x}<br>Casos acumulados=%{y}<extra></extra>\", \"legendgroup\": \"Japan\", \"line\": {\"color\": \"green\", \"dash\": \"solid\"}, \"mode\": \"lines\", \"name\": \"Japan\", \"showlegend\": true, \"type\": \"scatter\", \"x\": [0, 1, 2, 3, 4, 5, 6, 7, 8, 9, 10, 11, 12, 13, 14, 15, 16, 17, 18, 19, 20, 21, 22, 23, 24, 25, 26, 27, 28, 29, 30, 31, 32, 33, 34, 35, 36, 37, 38, 39, 40, 41, 42, 43, 44, 45, 46, 47, 48, 49, 50, 51, 52, 53, 54], \"xaxis\": \"x\", \"y\": [52, 59, 59, 66, 84, 93, 105, 132, 144, 144, 164, 186, 210, 230, 239, 254, 254, 268, 317, 349, 408, 455, 488, 514, 568, 619, 675, 737, 780, 814, 824, 829, 873, 950, 1007, 1046, 1089, 1128, 1193, 1268, 1364, 1499, 1693, 1866, 1953, 1953, 2178, 2617, 2935, 3271, 3654, 3817, 3906, 4257, 4667], \"yaxis\": \"y\"}, {\"hovertemplate\": \"color=United_Kingdom<br>Dias desde o caso n\\u00famero 50=%{x}<br>Casos acumulados=%{y}<extra></extra>\", \"legendgroup\": \"United_Kingdom\", \"line\": {\"color\": \"darkmagenta\", \"dash\": \"solid\"}, \"mode\": \"lines\", \"name\": \"United_Kingdom\", \"showlegend\": true, \"type\": \"scatter\", \"x\": [0, 1, 2, 3, 4, 5, 6, 7, 8, 9, 10, 11, 12, 13, 14, 15, 16, 17, 18, 19, 20, 21, 22, 23, 24, 25, 26, 27, 28, 29, 30, 31, 32, 33, 34, 35, 36, 37], \"xaxis\": \"x\", \"y\": [51, 85, 115, 163, 206, 273, 321, 373, 456, 590, 707, 1140, 1391, 1543, 1950, 2630, 3277, 3983, 5018, 5683, 6650, 8077, 9529, 11658, 14543, 17089, 19522, 22141, 25150, 29474, 33718, 38168, 41903, 47806, 51608, 55242, 60733, 65077], \"yaxis\": \"y\"}, {\"hovertemplate\": \"color=United_States_of_America<br>Dias desde o caso n\\u00famero 50=%{x}<br>Casos acumulados=%{y}<extra></extra>\", \"legendgroup\": \"United_States_of_America\", \"line\": {\"color\": \"gray\", \"dash\": \"solid\"}, \"mode\": \"lines\", \"name\": \"United_States_of_America\", \"showlegend\": true, \"type\": \"scatter\", \"x\": [0, 1, 2, 3, 4, 5, 6, 7, 8, 9, 10, 11, 12, 13, 14, 15, 16, 17, 18, 19, 20, 21, 22, 23, 24, 25, 26, 27, 28, 29, 30, 31, 32, 33, 34, 35, 36, 37, 38, 39, 40, 41, 42, 43, 44, 45], \"xaxis\": \"x\", \"y\": [53, 53, 59, 60, 66, 69, 89, 103, 125, 159, 233, 338, 433, 554, 754, 1025, 1312, 1663, 2174, 2951, 3774, 4661, 6427, 9415, 14250, 19624, 26747, 35206, 46442, 55231, 69194, 85991, 104686, 124665, 143025, 164620, 189618, 216721, 245540, 277965, 312237, 337635, 368196, 398809, 432132, 466033], \"yaxis\": \"y\"}, {\"hovertemplate\": \"color=France<br>Dias desde o caso n\\u00famero 50=%{x}<br>Casos acumulados=%{y}<extra></extra>\", \"legendgroup\": \"France\", \"line\": {\"color\": \"brown\", \"dash\": \"solid\"}, \"mode\": \"lines\", \"name\": \"France\", \"showlegend\": true, \"type\": \"scatter\", \"x\": [0, 1, 2, 3, 4, 5, 6, 7, 8, 9, 10, 11, 12, 13, 14, 15, 16, 17, 18, 19, 20, 21, 22, 23, 24, 25, 26, 27, 28, 29, 30, 31, 32, 33, 34, 35, 36, 37, 38, 39, 40, 41], \"xaxis\": \"x\", \"y\": [57, 100, 130, 178, 212, 285, 423, 613, 716, 1126, 1412, 1784, 2281, 2876, 3661, 4499, 5423, 6633, 7730, 9134, 10995, 12612, 14459, 16018, 19856, 22302, 25233, 29155, 32964, 37575, 40174, 44550, 52128, 56989, 59105, 64338, 68605, 70478, 74390, 78167, 82048, 86334], \"yaxis\": \"y\"}, {\"hovertemplate\": \"color=South_Korea<br>Dias desde o caso n\\u00famero 50=%{x}<br>Casos acumulados=%{y}<extra></extra>\", \"legendgroup\": \"South_Korea\", \"line\": {\"color\": \"orange\", \"dash\": \"solid\"}, \"mode\": \"lines\", \"name\": \"South_Korea\", \"showlegend\": true, \"type\": \"scatter\", \"x\": [0, 1, 2, 3, 4, 5, 6, 7, 8, 9, 10, 11, 12, 13, 14, 15, 16, 17, 18, 19, 20, 21, 22, 23, 24, 25, 26, 27, 28, 29, 30, 31, 32, 33, 34, 35, 36, 37, 38, 39, 40, 41, 42, 43, 44, 45, 46, 47, 48, 49, 50], \"xaxis\": \"x\", \"y\": [80, 155, 345, 601, 762, 892, 1146, 1595, 2022, 2931, 3526, 4212, 4812, 5328, 5766, 6284, 6767, 7134, 7382, 7513, 7755, 7869, 7979, 8086, 8162, 8236, 8320, 8413, 8565, 8652, 8799, 8897, 8961, 9037, 9137, 9241, 9332, 9478, 9583, 9661, 9786, 9786, 9976, 10062, 10156, 10237, 10284, 10331, 10384, 10423, 10450], \"yaxis\": \"y\"}, {\"hovertemplate\": \"color=Spain<br>Dias desde o caso n\\u00famero 50=%{x}<br>Casos acumulados=%{y}<extra></extra>\", \"legendgroup\": \"Spain\", \"line\": {\"color\": \"magenta\", \"dash\": \"solid\"}, \"mode\": \"lines\", \"name\": \"Spain\", \"showlegend\": true, \"type\": \"scatter\", \"x\": [0, 1, 2, 3, 4, 5, 6, 7, 8, 9, 10, 11, 12, 13, 14, 15, 16, 17, 18, 19, 20, 21, 22, 23, 24, 25, 26, 27, 28, 29, 30, 31, 32, 33, 34, 35, 36, 37, 38, 39, 40], \"xaxis\": \"x\", \"y\": [66, 83, 114, 151, 200, 261, 374, 430, 589, 1204, 1639, 2140, 3004, 4231, 5753, 7753, 9191, 11178, 13716, 17147, 19980, 24926, 28572, 33089, 39673, 47610, 56188, 64059, 72248, 78797, 85195, 94417, 102136, 110238, 117710, 124736, 130759, 135032, 140510, 146690, 152446], \"yaxis\": \"y\"}, {\"hovertemplate\": \"color=Argentina<br>Dias desde o caso n\\u00famero 50=%{x}<br>Casos acumulados=%{y}<extra></extra>\", \"legendgroup\": \"Argentina\", \"line\": {\"color\": \"red\", \"dash\": \"solid\"}, \"mode\": \"lines\", \"name\": \"Argentina\", \"showlegend\": true, \"type\": \"scatter\", \"x\": [0, 1, 2, 3, 4, 5, 6, 7, 8, 9, 10, 11, 12, 13, 14, 15, 16, 17, 18, 19, 20, 21, 22, 23, 24, 25], \"xaxis\": \"x\", \"y\": [56, 65, 79, 97, 128, 158, 225, 266, 301, 387, 502, 589, 690, 745, 820, 966, 966, 1133, 1133, 1265, 1451, 1554, 1628, 1715, 1795, 1894], \"yaxis\": \"y\"}, {\"hovertemplate\": \"color=India<br>Dias desde o caso n\\u00famero 50=%{x}<br>Casos acumulados=%{y}<extra></extra>\", \"legendgroup\": \"India\", \"line\": {\"color\": \"darkblue\", \"dash\": \"solid\"}, \"mode\": \"lines\", \"name\": \"India\", \"showlegend\": true, \"type\": \"scatter\", \"x\": [0, 1, 2, 3, 4, 5, 6, 7, 8, 9, 10, 11, 12, 13, 14, 15, 16, 17, 18, 19, 20, 21, 22, 23, 24, 25, 26, 27, 28, 29, 30], \"xaxis\": \"x\", \"y\": [50, 73, 75, 83, 90, 93, 125, 137, 165, 191, 231, 320, 439, 492, 562, 649, 724, 873, 979, 1071, 1251, 1397, 1965, 2301, 2902, 3374, 4067, 4421, 5194, 5734, 6412], \"yaxis\": \"y\"}, {\"hovertemplate\": \"color=Mexico<br>Dias desde o caso n\\u00famero 50=%{x}<br>Casos acumulados=%{y}<extra></extra>\", \"legendgroup\": \"Mexico\", \"line\": {\"color\": \"lightgreen\", \"dash\": \"solid\"}, \"mode\": \"lines\", \"name\": \"Mexico\", \"showlegend\": true, \"type\": \"scatter\", \"x\": [0, 1, 2, 3, 4, 5, 6, 7, 8, 9, 10, 11, 12, 13, 14, 15, 16, 17, 18, 19, 20, 21, 22, 23, 24, 25], \"xaxis\": \"x\", \"y\": [53, 82, 93, 118, 164, 203, 251, 316, 367, 405, 475, 585, 717, 848, 993, 1094, 1215, 1378, 1510, 1688, 1890, 2143, 2439, 2785, 3181, 3441], \"yaxis\": \"y\"}, {\"hovertemplate\": \"color=Germany<br>Dias desde o caso n\\u00famero 50=%{x}<br>Casos acumulados=%{y}<extra></extra>\", \"legendgroup\": \"Germany\", \"line\": {\"color\": \"coral\", \"dash\": \"solid\"}, \"mode\": \"lines\", \"name\": \"Germany\", \"showlegend\": true, \"type\": \"scatter\", \"x\": [0, 1, 2, 3, 4, 5, 6, 7, 8, 9, 10, 11, 12, 13, 14, 15, 16, 17, 18, 19, 20, 21, 22, 23, 24, 25, 26, 27, 28, 29, 30, 31, 32, 33, 34, 35, 36, 37, 38, 39, 40, 41], \"xaxis\": \"x\", \"y\": [57, 111, 129, 157, 196, 262, 400, 684, 847, 902, 1139, 1296, 1567, 2369, 3062, 3795, 4838, 6012, 7156, 8198, 14138, 18187, 21463, 24774, 29212, 31554, 36508, 42288, 48582, 52547, 57298, 61913, 67366, 73522, 79696, 85778, 91714, 95391, 99225, 103228, 108202, 113525], \"yaxis\": \"y\"}, {\"hovertemplate\": \"color=Czechia<br>Dias desde o caso n\\u00famero 50=%{x}<br>Casos acumulados=%{y}<extra></extra>\", \"legendgroup\": \"Czechia\", \"line\": {\"color\": \"lightblue\", \"dash\": \"solid\"}, \"mode\": \"lines\", \"name\": \"Czechia\", \"showlegend\": true, \"type\": \"scatter\", \"x\": [0, 1, 2, 3, 4, 5, 6, 7, 8, 9, 10, 11, 12, 13, 14, 15, 16, 17, 18, 19, 20, 21, 22, 23, 24, 25, 26, 27, 28, 29, 30], \"xaxis\": \"x\", \"y\": [63, 94, 116, 150, 214, 298, 344, 434, 522, 694, 904, 995, 1165, 1236, 1394, 1654, 2062, 2279, 2663, 2829, 3002, 3308, 3589, 3858, 4190, 4472, 4587, 4822, 5017, 5312, 5569], \"yaxis\": \"y\"}, {\"hovertemplate\": \"color=China<br>Dias desde o caso n\\u00famero 50=%{x}<br>Casos acumulados=%{y}<extra></extra>\", \"legendgroup\": \"China\", \"line\": {\"color\": \"black\", \"dash\": \"solid\"}, \"mode\": \"lines\", \"name\": \"China\", \"showlegend\": true, \"type\": \"scatter\", \"x\": [0, 1, 2, 3, 4, 5, 6, 7, 8, 9, 10, 11, 12, 13, 14, 15, 16, 17, 18, 19, 20, 21, 22, 23, 24, 25, 26, 27, 28, 29, 30, 31, 32, 33, 34, 35, 36, 37, 38, 39, 40, 41, 42, 43, 44, 45, 46, 47, 48, 49, 50, 51, 52, 53, 54, 55, 56, 57, 58, 59, 60, 61, 62, 63, 64, 65, 66, 67, 68, 69, 70, 71, 72, 73, 74, 75, 76, 77, 78, 79, 80, 81, 82, 83, 84, 85, 86, 87, 88, 89, 90, 91, 92, 93, 94, 95, 96], \"xaxis\": \"x\", \"y\": [59, 59, 59, 59, 59, 59, 59, 59, 59, 59, 59, 59, 63, 80, 216, 235, 386, 526, 623, 882, 1323, 1988, 2775, 4528, 5994, 7734, 9714, 11809, 14399, 17211, 20448, 24320, 28047, 31207, 34625, 37232, 40206, 42696, 44724, 59865, 64021, 66559, 68566, 70618, 72508, 74258, 74652, 75543, 76369, 77016, 77234, 77749, 78159, 78598, 78927, 79355, 79929, 80134, 80261, 80380, 80497, 80667, 80768, 80814, 80859, 80879, 80908, 80932, 80954, 80973, 80995, 81020, 81063, 81086, 81130, 81229, 81281, 81346, 81484, 81553, 81631, 81733, 81827, 81946, 82059, 82157, 82241, 82295, 82395, 82465, 82527, 82575, 82642, 82698, 82784, 82870, 82925], \"yaxis\": \"y\"}],\n",
              "                        {\"legend\": {\"borderwidth\": 0, \"font\": {\"size\": 8}, \"orientation\": \"v\", \"title\": {\"text\": \"Pa\\u00eds\"}, \"tracegroupgap\": 0, \"yanchor\": \"top\"}, \"template\": {\"data\": {\"bar\": [{\"error_x\": {\"color\": \"#2a3f5f\"}, \"error_y\": {\"color\": \"#2a3f5f\"}, \"marker\": {\"line\": {\"color\": \"#E5ECF6\", \"width\": 0.5}}, \"type\": \"bar\"}], \"barpolar\": [{\"marker\": {\"line\": {\"color\": \"#E5ECF6\", \"width\": 0.5}}, \"type\": \"barpolar\"}], \"carpet\": [{\"aaxis\": {\"endlinecolor\": \"#2a3f5f\", \"gridcolor\": \"white\", \"linecolor\": \"white\", \"minorgridcolor\": \"white\", \"startlinecolor\": \"#2a3f5f\"}, \"baxis\": {\"endlinecolor\": \"#2a3f5f\", \"gridcolor\": \"white\", \"linecolor\": \"white\", \"minorgridcolor\": \"white\", \"startlinecolor\": \"#2a3f5f\"}, \"type\": \"carpet\"}], \"choropleth\": [{\"colorbar\": {\"outlinewidth\": 0, \"ticks\": \"\"}, \"type\": \"choropleth\"}], \"contour\": [{\"colorbar\": {\"outlinewidth\": 0, \"ticks\": \"\"}, \"colorscale\": [[0.0, \"#0d0887\"], [0.1111111111111111, \"#46039f\"], [0.2222222222222222, \"#7201a8\"], [0.3333333333333333, \"#9c179e\"], [0.4444444444444444, \"#bd3786\"], [0.5555555555555556, \"#d8576b\"], [0.6666666666666666, \"#ed7953\"], [0.7777777777777778, \"#fb9f3a\"], [0.8888888888888888, \"#fdca26\"], [1.0, \"#f0f921\"]], \"type\": \"contour\"}], \"contourcarpet\": [{\"colorbar\": {\"outlinewidth\": 0, \"ticks\": \"\"}, \"type\": \"contourcarpet\"}], \"heatmap\": [{\"colorbar\": {\"outlinewidth\": 0, \"ticks\": \"\"}, \"colorscale\": [[0.0, \"#0d0887\"], [0.1111111111111111, \"#46039f\"], [0.2222222222222222, \"#7201a8\"], [0.3333333333333333, \"#9c179e\"], [0.4444444444444444, \"#bd3786\"], [0.5555555555555556, \"#d8576b\"], [0.6666666666666666, \"#ed7953\"], [0.7777777777777778, \"#fb9f3a\"], [0.8888888888888888, \"#fdca26\"], [1.0, \"#f0f921\"]], \"type\": \"heatmap\"}], \"heatmapgl\": [{\"colorbar\": {\"outlinewidth\": 0, \"ticks\": \"\"}, \"colorscale\": [[0.0, \"#0d0887\"], [0.1111111111111111, \"#46039f\"], [0.2222222222222222, \"#7201a8\"], [0.3333333333333333, \"#9c179e\"], [0.4444444444444444, \"#bd3786\"], [0.5555555555555556, \"#d8576b\"], [0.6666666666666666, \"#ed7953\"], [0.7777777777777778, \"#fb9f3a\"], [0.8888888888888888, \"#fdca26\"], [1.0, \"#f0f921\"]], \"type\": \"heatmapgl\"}], \"histogram\": [{\"marker\": {\"colorbar\": {\"outlinewidth\": 0, \"ticks\": \"\"}}, \"type\": \"histogram\"}], \"histogram2d\": [{\"colorbar\": {\"outlinewidth\": 0, \"ticks\": \"\"}, \"colorscale\": [[0.0, \"#0d0887\"], [0.1111111111111111, \"#46039f\"], [0.2222222222222222, \"#7201a8\"], [0.3333333333333333, \"#9c179e\"], [0.4444444444444444, \"#bd3786\"], [0.5555555555555556, \"#d8576b\"], [0.6666666666666666, \"#ed7953\"], [0.7777777777777778, \"#fb9f3a\"], [0.8888888888888888, \"#fdca26\"], [1.0, \"#f0f921\"]], \"type\": \"histogram2d\"}], \"histogram2dcontour\": [{\"colorbar\": {\"outlinewidth\": 0, \"ticks\": \"\"}, \"colorscale\": [[0.0, \"#0d0887\"], [0.1111111111111111, \"#46039f\"], [0.2222222222222222, \"#7201a8\"], [0.3333333333333333, \"#9c179e\"], [0.4444444444444444, \"#bd3786\"], [0.5555555555555556, \"#d8576b\"], [0.6666666666666666, \"#ed7953\"], [0.7777777777777778, \"#fb9f3a\"], [0.8888888888888888, \"#fdca26\"], [1.0, \"#f0f921\"]], \"type\": \"histogram2dcontour\"}], \"mesh3d\": [{\"colorbar\": {\"outlinewidth\": 0, \"ticks\": \"\"}, \"type\": \"mesh3d\"}], \"parcoords\": [{\"line\": {\"colorbar\": {\"outlinewidth\": 0, \"ticks\": \"\"}}, \"type\": \"parcoords\"}], \"pie\": [{\"automargin\": true, \"type\": \"pie\"}], \"scatter\": [{\"marker\": {\"colorbar\": {\"outlinewidth\": 0, \"ticks\": \"\"}}, \"type\": \"scatter\"}], \"scatter3d\": [{\"line\": {\"colorbar\": {\"outlinewidth\": 0, \"ticks\": \"\"}}, \"marker\": {\"colorbar\": {\"outlinewidth\": 0, \"ticks\": \"\"}}, \"type\": \"scatter3d\"}], \"scattercarpet\": [{\"marker\": {\"colorbar\": {\"outlinewidth\": 0, \"ticks\": \"\"}}, \"type\": \"scattercarpet\"}], \"scattergeo\": [{\"marker\": {\"colorbar\": {\"outlinewidth\": 0, \"ticks\": \"\"}}, \"type\": \"scattergeo\"}], \"scattergl\": [{\"marker\": {\"colorbar\": {\"outlinewidth\": 0, \"ticks\": \"\"}}, \"type\": \"scattergl\"}], \"scattermapbox\": [{\"marker\": {\"colorbar\": {\"outlinewidth\": 0, \"ticks\": \"\"}}, \"type\": \"scattermapbox\"}], \"scatterpolar\": [{\"marker\": {\"colorbar\": {\"outlinewidth\": 0, \"ticks\": \"\"}}, \"type\": \"scatterpolar\"}], \"scatterpolargl\": [{\"marker\": {\"colorbar\": {\"outlinewidth\": 0, \"ticks\": \"\"}}, \"type\": \"scatterpolargl\"}], \"scatterternary\": [{\"marker\": {\"colorbar\": {\"outlinewidth\": 0, \"ticks\": \"\"}}, \"type\": \"scatterternary\"}], \"surface\": [{\"colorbar\": {\"outlinewidth\": 0, \"ticks\": \"\"}, \"colorscale\": [[0.0, \"#0d0887\"], [0.1111111111111111, \"#46039f\"], [0.2222222222222222, \"#7201a8\"], [0.3333333333333333, \"#9c179e\"], [0.4444444444444444, \"#bd3786\"], [0.5555555555555556, \"#d8576b\"], [0.6666666666666666, \"#ed7953\"], [0.7777777777777778, \"#fb9f3a\"], [0.8888888888888888, \"#fdca26\"], [1.0, \"#f0f921\"]], \"type\": \"surface\"}], \"table\": [{\"cells\": {\"fill\": {\"color\": \"#EBF0F8\"}, \"line\": {\"color\": \"white\"}}, \"header\": {\"fill\": {\"color\": \"#C8D4E3\"}, \"line\": {\"color\": \"white\"}}, \"type\": \"table\"}]}, \"layout\": {\"annotationdefaults\": {\"arrowcolor\": \"#2a3f5f\", \"arrowhead\": 0, \"arrowwidth\": 1}, \"coloraxis\": {\"colorbar\": {\"outlinewidth\": 0, \"ticks\": \"\"}}, \"colorscale\": {\"diverging\": [[0, \"#8e0152\"], [0.1, \"#c51b7d\"], [0.2, \"#de77ae\"], [0.3, \"#f1b6da\"], [0.4, \"#fde0ef\"], [0.5, \"#f7f7f7\"], [0.6, \"#e6f5d0\"], [0.7, \"#b8e186\"], [0.8, \"#7fbc41\"], [0.9, \"#4d9221\"], [1, \"#276419\"]], \"sequential\": [[0.0, \"#0d0887\"], [0.1111111111111111, \"#46039f\"], [0.2222222222222222, \"#7201a8\"], [0.3333333333333333, \"#9c179e\"], [0.4444444444444444, \"#bd3786\"], [0.5555555555555556, \"#d8576b\"], [0.6666666666666666, \"#ed7953\"], [0.7777777777777778, \"#fb9f3a\"], [0.8888888888888888, \"#fdca26\"], [1.0, \"#f0f921\"]], \"sequentialminus\": [[0.0, \"#0d0887\"], [0.1111111111111111, \"#46039f\"], [0.2222222222222222, \"#7201a8\"], [0.3333333333333333, \"#9c179e\"], [0.4444444444444444, \"#bd3786\"], [0.5555555555555556, \"#d8576b\"], [0.6666666666666666, \"#ed7953\"], [0.7777777777777778, \"#fb9f3a\"], [0.8888888888888888, \"#fdca26\"], [1.0, \"#f0f921\"]]}, \"colorway\": [\"#636efa\", \"#EF553B\", \"#00cc96\", \"#ab63fa\", \"#FFA15A\", \"#19d3f3\", \"#FF6692\", \"#B6E880\", \"#FF97FF\", \"#FECB52\"], \"font\": {\"color\": \"#2a3f5f\"}, \"geo\": {\"bgcolor\": \"white\", \"lakecolor\": \"white\", \"landcolor\": \"#E5ECF6\", \"showlakes\": true, \"showland\": true, \"subunitcolor\": \"white\"}, \"hoverlabel\": {\"align\": \"left\"}, \"hovermode\": \"closest\", \"mapbox\": {\"style\": \"light\"}, \"paper_bgcolor\": \"white\", \"plot_bgcolor\": \"#E5ECF6\", \"polar\": {\"angularaxis\": {\"gridcolor\": \"white\", \"linecolor\": \"white\", \"ticks\": \"\"}, \"bgcolor\": \"#E5ECF6\", \"radialaxis\": {\"gridcolor\": \"white\", \"linecolor\": \"white\", \"ticks\": \"\"}}, \"scene\": {\"xaxis\": {\"backgroundcolor\": \"#E5ECF6\", \"gridcolor\": \"white\", \"gridwidth\": 2, \"linecolor\": \"white\", \"showbackground\": true, \"ticks\": \"\", \"zerolinecolor\": \"white\"}, \"yaxis\": {\"backgroundcolor\": \"#E5ECF6\", \"gridcolor\": \"white\", \"gridwidth\": 2, \"linecolor\": \"white\", \"showbackground\": true, \"ticks\": \"\", \"zerolinecolor\": \"white\"}, \"zaxis\": {\"backgroundcolor\": \"#E5ECF6\", \"gridcolor\": \"white\", \"gridwidth\": 2, \"linecolor\": \"white\", \"showbackground\": true, \"ticks\": \"\", \"zerolinecolor\": \"white\"}}, \"shapedefaults\": {\"line\": {\"color\": \"#2a3f5f\"}}, \"ternary\": {\"aaxis\": {\"gridcolor\": \"white\", \"linecolor\": \"white\", \"ticks\": \"\"}, \"baxis\": {\"gridcolor\": \"white\", \"linecolor\": \"white\", \"ticks\": \"\"}, \"bgcolor\": \"#E5ECF6\", \"caxis\": {\"gridcolor\": \"white\", \"linecolor\": \"white\", \"ticks\": \"\"}}, \"title\": {\"x\": 0.05}, \"xaxis\": {\"automargin\": true, \"gridcolor\": \"white\", \"linecolor\": \"white\", \"ticks\": \"\", \"title\": {\"standoff\": 15}, \"zerolinecolor\": \"white\", \"zerolinewidth\": 2}, \"yaxis\": {\"automargin\": true, \"gridcolor\": \"white\", \"linecolor\": \"white\", \"ticks\": \"\", \"title\": {\"standoff\": 15}, \"zerolinecolor\": \"white\", \"zerolinewidth\": 2}}}, \"title\": {\"text\": \"COVID-19 - Casos confirmados - 10-04-2020 \\n Escala aritm\\u00e9tica\"}, \"xaxis\": {\"anchor\": \"y\", \"domain\": [0.0, 1.0], \"title\": {\"text\": \"Dias desde o caso n\\u00famero 50\"}}, \"yaxis\": {\"anchor\": \"x\", \"domain\": [0.0, 1.0], \"title\": {\"text\": \"Casos acumulados\"}}},\n",
              "                        {\"responsive\": true}\n",
              "                    ).then(function(){\n",
              "                            \n",
              "var gd = document.getElementById('f75a34db-9fe9-410c-b38c-c18336075c1e');\n",
              "var x = new MutationObserver(function (mutations, observer) {{\n",
              "        var display = window.getComputedStyle(gd).display;\n",
              "        if (!display || display === 'none') {{\n",
              "            console.log([gd, 'removed!']);\n",
              "            Plotly.purge(gd);\n",
              "            observer.disconnect();\n",
              "        }}\n",
              "}});\n",
              "\n",
              "// Listen for the removal of the full notebook cells\n",
              "var notebookContainer = gd.closest('#notebook-container');\n",
              "if (notebookContainer) {{\n",
              "    x.observe(notebookContainer, {childList: true});\n",
              "}}\n",
              "\n",
              "// Listen for the clearing of the current output cell\n",
              "var outputEl = gd.closest('.output');\n",
              "if (outputEl) {{\n",
              "    x.observe(outputEl, {childList: true});\n",
              "}}\n",
              "\n",
              "                        })\n",
              "                };\n",
              "                \n",
              "            </script>\n",
              "        </div>\n",
              "</body>\n",
              "</html>"
            ]
          },
          "metadata": {
            "tags": []
          }
        }
      ]
    },
    {
      "cell_type": "code",
      "metadata": {
        "colab_type": "code",
        "id": "cYkkCCpLYM1J",
        "outputId": "3449ddec-4147-435f-ee92-30c327ad418b",
        "colab": {
          "base_uri": "https://localhost:8080/",
          "height": 542
        }
      },
      "source": [
        "#hide_input\n",
        "\n",
        "fig = px.line(final_data, x=\"Dias desde o caso número 50\", y=\"Casos acumulados\", title='COVID-19 - Casos totais confirmados - {} \\n Escala Logarítmica'.format(today),\n",
        "              color='Países e territórios',color_discrete_sequence=[\"black\", \"blue\",'green',\"darkmagenta\",\"gray\",\"brown\",\"orange\",\"magenta\",'red',\"darkblue\",\"lightgreen\",'coral','lightblue'])\n",
        "fig.update_layout(legend= {'title':'País','borderwidth':0,'orientation':'v','yanchor':'top','font':{'size':8}})\n",
        "\n",
        "fig.update_layout( yaxis_type=\"log\")\n",
        "fig.show()"
      ],
      "execution_count": 36,
      "outputs": [
        {
          "output_type": "display_data",
          "data": {
            "text/html": [
              "<html>\n",
              "<head><meta charset=\"utf-8\" /></head>\n",
              "<body>\n",
              "    <div>\n",
              "            <script src=\"https://cdnjs.cloudflare.com/ajax/libs/mathjax/2.7.5/MathJax.js?config=TeX-AMS-MML_SVG\"></script><script type=\"text/javascript\">if (window.MathJax) {MathJax.Hub.Config({SVG: {font: \"STIX-Web\"}});}</script>\n",
              "                <script type=\"text/javascript\">window.PlotlyConfig = {MathJaxConfig: 'local'};</script>\n",
              "        <script src=\"https://cdn.plot.ly/plotly-latest.min.js\"></script>    \n",
              "            <div id=\"d3c33408-0067-4aac-8d7a-1f85c3e8c001\" class=\"plotly-graph-div\" style=\"height:525px; width:100%;\"></div>\n",
              "            <script type=\"text/javascript\">\n",
              "                \n",
              "                    window.PLOTLYENV=window.PLOTLYENV || {};\n",
              "                    \n",
              "                if (document.getElementById(\"d3c33408-0067-4aac-8d7a-1f85c3e8c001\")) {\n",
              "                    Plotly.newPlot(\n",
              "                        'd3c33408-0067-4aac-8d7a-1f85c3e8c001',\n",
              "                        [{\"hovertemplate\": \"Pa\\u00edses e territ\\u00f3rios=Brazil<br>Dias desde o caso n\\u00famero 50=%{x}<br>Casos acumulados=%{y}<extra></extra>\", \"legendgroup\": \"Brazil\", \"line\": {\"color\": \"black\", \"dash\": \"solid\"}, \"mode\": \"lines\", \"name\": \"Brazil\", \"showlegend\": true, \"type\": \"scatter\", \"x\": [0, 1, 2, 3, 4, 5, 6, 7, 8, 9, 10, 11, 12, 13, 14, 15, 16, 17, 18, 19, 20, 21, 22, 23, 24, 25, 26, 27, 28, 29], \"xaxis\": \"x\", \"y\": [52, 77, 98, 121, 200, 234, 291, 428, 621, 904, 1128, 1546, 1891, 2201, 2433, 2915, 3417, 3904, 4256, 4579, 5717, 6836, 7910, 9056, 10278, 11130, 12056, 13717, 15927, 17857], \"yaxis\": \"y\"}, {\"hovertemplate\": \"Pa\\u00edses e territ\\u00f3rios=Italy<br>Dias desde o caso n\\u00famero 50=%{x}<br>Casos acumulados=%{y}<extra></extra>\", \"legendgroup\": \"Italy\", \"line\": {\"color\": \"blue\", \"dash\": \"solid\"}, \"mode\": \"lines\", \"name\": \"Italy\", \"showlegend\": true, \"type\": \"scatter\", \"x\": [0, 1, 2, 3, 4, 5, 6, 7, 8, 9, 10, 11, 12, 13, 14, 15, 16, 17, 18, 19, 20, 21, 22, 23, 24, 25, 26, 27, 28, 29, 30, 31, 32, 33, 34, 35, 36, 37, 38, 39, 40, 41, 42, 43, 44, 45, 46, 47], \"xaxis\": \"x\", \"y\": [79, 132, 229, 322, 400, 650, 888, 1128, 1689, 2036, 2502, 3089, 3858, 4636, 5883, 7375, 9172, 10149, 12462, 15113, 17660, 21157, 23980, 27980, 31506, 35713, 41035, 47021, 53578, 59138, 63927, 69176, 74386, 80539, 86498, 92472, 97689, 101739, 105792, 110574, 115242, 119827, 124632, 128948, 132547, 135586, 139422, 143626], \"yaxis\": \"y\"}, {\"hovertemplate\": \"Pa\\u00edses e territ\\u00f3rios=Japan<br>Dias desde o caso n\\u00famero 50=%{x}<br>Casos acumulados=%{y}<extra></extra>\", \"legendgroup\": \"Japan\", \"line\": {\"color\": \"green\", \"dash\": \"solid\"}, \"mode\": \"lines\", \"name\": \"Japan\", \"showlegend\": true, \"type\": \"scatter\", \"x\": [0, 1, 2, 3, 4, 5, 6, 7, 8, 9, 10, 11, 12, 13, 14, 15, 16, 17, 18, 19, 20, 21, 22, 23, 24, 25, 26, 27, 28, 29, 30, 31, 32, 33, 34, 35, 36, 37, 38, 39, 40, 41, 42, 43, 44, 45, 46, 47, 48, 49, 50, 51, 52, 53, 54], \"xaxis\": \"x\", \"y\": [52, 59, 59, 66, 84, 93, 105, 132, 144, 144, 164, 186, 210, 230, 239, 254, 254, 268, 317, 349, 408, 455, 488, 514, 568, 619, 675, 737, 780, 814, 824, 829, 873, 950, 1007, 1046, 1089, 1128, 1193, 1268, 1364, 1499, 1693, 1866, 1953, 1953, 2178, 2617, 2935, 3271, 3654, 3817, 3906, 4257, 4667], \"yaxis\": \"y\"}, {\"hovertemplate\": \"Pa\\u00edses e territ\\u00f3rios=United_Kingdom<br>Dias desde o caso n\\u00famero 50=%{x}<br>Casos acumulados=%{y}<extra></extra>\", \"legendgroup\": \"United_Kingdom\", \"line\": {\"color\": \"darkmagenta\", \"dash\": \"solid\"}, \"mode\": \"lines\", \"name\": \"United_Kingdom\", \"showlegend\": true, \"type\": \"scatter\", \"x\": [0, 1, 2, 3, 4, 5, 6, 7, 8, 9, 10, 11, 12, 13, 14, 15, 16, 17, 18, 19, 20, 21, 22, 23, 24, 25, 26, 27, 28, 29, 30, 31, 32, 33, 34, 35, 36, 37], \"xaxis\": \"x\", \"y\": [51, 85, 115, 163, 206, 273, 321, 373, 456, 590, 707, 1140, 1391, 1543, 1950, 2630, 3277, 3983, 5018, 5683, 6650, 8077, 9529, 11658, 14543, 17089, 19522, 22141, 25150, 29474, 33718, 38168, 41903, 47806, 51608, 55242, 60733, 65077], \"yaxis\": \"y\"}, {\"hovertemplate\": \"Pa\\u00edses e territ\\u00f3rios=United_States_of_America<br>Dias desde o caso n\\u00famero 50=%{x}<br>Casos acumulados=%{y}<extra></extra>\", \"legendgroup\": \"United_States_of_America\", \"line\": {\"color\": \"gray\", \"dash\": \"solid\"}, \"mode\": \"lines\", \"name\": \"United_States_of_America\", \"showlegend\": true, \"type\": \"scatter\", \"x\": [0, 1, 2, 3, 4, 5, 6, 7, 8, 9, 10, 11, 12, 13, 14, 15, 16, 17, 18, 19, 20, 21, 22, 23, 24, 25, 26, 27, 28, 29, 30, 31, 32, 33, 34, 35, 36, 37, 38, 39, 40, 41, 42, 43, 44, 45], \"xaxis\": \"x\", \"y\": [53, 53, 59, 60, 66, 69, 89, 103, 125, 159, 233, 338, 433, 554, 754, 1025, 1312, 1663, 2174, 2951, 3774, 4661, 6427, 9415, 14250, 19624, 26747, 35206, 46442, 55231, 69194, 85991, 104686, 124665, 143025, 164620, 189618, 216721, 245540, 277965, 312237, 337635, 368196, 398809, 432132, 466033], \"yaxis\": \"y\"}, {\"hovertemplate\": \"Pa\\u00edses e territ\\u00f3rios=France<br>Dias desde o caso n\\u00famero 50=%{x}<br>Casos acumulados=%{y}<extra></extra>\", \"legendgroup\": \"France\", \"line\": {\"color\": \"brown\", \"dash\": \"solid\"}, \"mode\": \"lines\", \"name\": \"France\", \"showlegend\": true, \"type\": \"scatter\", \"x\": [0, 1, 2, 3, 4, 5, 6, 7, 8, 9, 10, 11, 12, 13, 14, 15, 16, 17, 18, 19, 20, 21, 22, 23, 24, 25, 26, 27, 28, 29, 30, 31, 32, 33, 34, 35, 36, 37, 38, 39, 40, 41], \"xaxis\": \"x\", \"y\": [57, 100, 130, 178, 212, 285, 423, 613, 716, 1126, 1412, 1784, 2281, 2876, 3661, 4499, 5423, 6633, 7730, 9134, 10995, 12612, 14459, 16018, 19856, 22302, 25233, 29155, 32964, 37575, 40174, 44550, 52128, 56989, 59105, 64338, 68605, 70478, 74390, 78167, 82048, 86334], \"yaxis\": \"y\"}, {\"hovertemplate\": \"Pa\\u00edses e territ\\u00f3rios=South_Korea<br>Dias desde o caso n\\u00famero 50=%{x}<br>Casos acumulados=%{y}<extra></extra>\", \"legendgroup\": \"South_Korea\", \"line\": {\"color\": \"orange\", \"dash\": \"solid\"}, \"mode\": \"lines\", \"name\": \"South_Korea\", \"showlegend\": true, \"type\": \"scatter\", \"x\": [0, 1, 2, 3, 4, 5, 6, 7, 8, 9, 10, 11, 12, 13, 14, 15, 16, 17, 18, 19, 20, 21, 22, 23, 24, 25, 26, 27, 28, 29, 30, 31, 32, 33, 34, 35, 36, 37, 38, 39, 40, 41, 42, 43, 44, 45, 46, 47, 48, 49, 50], \"xaxis\": \"x\", \"y\": [80, 155, 345, 601, 762, 892, 1146, 1595, 2022, 2931, 3526, 4212, 4812, 5328, 5766, 6284, 6767, 7134, 7382, 7513, 7755, 7869, 7979, 8086, 8162, 8236, 8320, 8413, 8565, 8652, 8799, 8897, 8961, 9037, 9137, 9241, 9332, 9478, 9583, 9661, 9786, 9786, 9976, 10062, 10156, 10237, 10284, 10331, 10384, 10423, 10450], \"yaxis\": \"y\"}, {\"hovertemplate\": \"Pa\\u00edses e territ\\u00f3rios=Spain<br>Dias desde o caso n\\u00famero 50=%{x}<br>Casos acumulados=%{y}<extra></extra>\", \"legendgroup\": \"Spain\", \"line\": {\"color\": \"magenta\", \"dash\": \"solid\"}, \"mode\": \"lines\", \"name\": \"Spain\", \"showlegend\": true, \"type\": \"scatter\", \"x\": [0, 1, 2, 3, 4, 5, 6, 7, 8, 9, 10, 11, 12, 13, 14, 15, 16, 17, 18, 19, 20, 21, 22, 23, 24, 25, 26, 27, 28, 29, 30, 31, 32, 33, 34, 35, 36, 37, 38, 39, 40], \"xaxis\": \"x\", \"y\": [66, 83, 114, 151, 200, 261, 374, 430, 589, 1204, 1639, 2140, 3004, 4231, 5753, 7753, 9191, 11178, 13716, 17147, 19980, 24926, 28572, 33089, 39673, 47610, 56188, 64059, 72248, 78797, 85195, 94417, 102136, 110238, 117710, 124736, 130759, 135032, 140510, 146690, 152446], \"yaxis\": \"y\"}, {\"hovertemplate\": \"Pa\\u00edses e territ\\u00f3rios=Argentina<br>Dias desde o caso n\\u00famero 50=%{x}<br>Casos acumulados=%{y}<extra></extra>\", \"legendgroup\": \"Argentina\", \"line\": {\"color\": \"red\", \"dash\": \"solid\"}, \"mode\": \"lines\", \"name\": \"Argentina\", \"showlegend\": true, \"type\": \"scatter\", \"x\": [0, 1, 2, 3, 4, 5, 6, 7, 8, 9, 10, 11, 12, 13, 14, 15, 16, 17, 18, 19, 20, 21, 22, 23, 24, 25], \"xaxis\": \"x\", \"y\": [56, 65, 79, 97, 128, 158, 225, 266, 301, 387, 502, 589, 690, 745, 820, 966, 966, 1133, 1133, 1265, 1451, 1554, 1628, 1715, 1795, 1894], \"yaxis\": \"y\"}, {\"hovertemplate\": \"Pa\\u00edses e territ\\u00f3rios=India<br>Dias desde o caso n\\u00famero 50=%{x}<br>Casos acumulados=%{y}<extra></extra>\", \"legendgroup\": \"India\", \"line\": {\"color\": \"darkblue\", \"dash\": \"solid\"}, \"mode\": \"lines\", \"name\": \"India\", \"showlegend\": true, \"type\": \"scatter\", \"x\": [0, 1, 2, 3, 4, 5, 6, 7, 8, 9, 10, 11, 12, 13, 14, 15, 16, 17, 18, 19, 20, 21, 22, 23, 24, 25, 26, 27, 28, 29, 30], \"xaxis\": \"x\", \"y\": [50, 73, 75, 83, 90, 93, 125, 137, 165, 191, 231, 320, 439, 492, 562, 649, 724, 873, 979, 1071, 1251, 1397, 1965, 2301, 2902, 3374, 4067, 4421, 5194, 5734, 6412], \"yaxis\": \"y\"}, {\"hovertemplate\": \"Pa\\u00edses e territ\\u00f3rios=Mexico<br>Dias desde o caso n\\u00famero 50=%{x}<br>Casos acumulados=%{y}<extra></extra>\", \"legendgroup\": \"Mexico\", \"line\": {\"color\": \"lightgreen\", \"dash\": \"solid\"}, \"mode\": \"lines\", \"name\": \"Mexico\", \"showlegend\": true, \"type\": \"scatter\", \"x\": [0, 1, 2, 3, 4, 5, 6, 7, 8, 9, 10, 11, 12, 13, 14, 15, 16, 17, 18, 19, 20, 21, 22, 23, 24, 25], \"xaxis\": \"x\", \"y\": [53, 82, 93, 118, 164, 203, 251, 316, 367, 405, 475, 585, 717, 848, 993, 1094, 1215, 1378, 1510, 1688, 1890, 2143, 2439, 2785, 3181, 3441], \"yaxis\": \"y\"}, {\"hovertemplate\": \"Pa\\u00edses e territ\\u00f3rios=Germany<br>Dias desde o caso n\\u00famero 50=%{x}<br>Casos acumulados=%{y}<extra></extra>\", \"legendgroup\": \"Germany\", \"line\": {\"color\": \"coral\", \"dash\": \"solid\"}, \"mode\": \"lines\", \"name\": \"Germany\", \"showlegend\": true, \"type\": \"scatter\", \"x\": [0, 1, 2, 3, 4, 5, 6, 7, 8, 9, 10, 11, 12, 13, 14, 15, 16, 17, 18, 19, 20, 21, 22, 23, 24, 25, 26, 27, 28, 29, 30, 31, 32, 33, 34, 35, 36, 37, 38, 39, 40, 41], \"xaxis\": \"x\", \"y\": [57, 111, 129, 157, 196, 262, 400, 684, 847, 902, 1139, 1296, 1567, 2369, 3062, 3795, 4838, 6012, 7156, 8198, 14138, 18187, 21463, 24774, 29212, 31554, 36508, 42288, 48582, 52547, 57298, 61913, 67366, 73522, 79696, 85778, 91714, 95391, 99225, 103228, 108202, 113525], \"yaxis\": \"y\"}, {\"hovertemplate\": \"Pa\\u00edses e territ\\u00f3rios=Czechia<br>Dias desde o caso n\\u00famero 50=%{x}<br>Casos acumulados=%{y}<extra></extra>\", \"legendgroup\": \"Czechia\", \"line\": {\"color\": \"lightblue\", \"dash\": \"solid\"}, \"mode\": \"lines\", \"name\": \"Czechia\", \"showlegend\": true, \"type\": \"scatter\", \"x\": [0, 1, 2, 3, 4, 5, 6, 7, 8, 9, 10, 11, 12, 13, 14, 15, 16, 17, 18, 19, 20, 21, 22, 23, 24, 25, 26, 27, 28, 29, 30], \"xaxis\": \"x\", \"y\": [63, 94, 116, 150, 214, 298, 344, 434, 522, 694, 904, 995, 1165, 1236, 1394, 1654, 2062, 2279, 2663, 2829, 3002, 3308, 3589, 3858, 4190, 4472, 4587, 4822, 5017, 5312, 5569], \"yaxis\": \"y\"}, {\"hovertemplate\": \"Pa\\u00edses e territ\\u00f3rios=China<br>Dias desde o caso n\\u00famero 50=%{x}<br>Casos acumulados=%{y}<extra></extra>\", \"legendgroup\": \"China\", \"line\": {\"color\": \"black\", \"dash\": \"solid\"}, \"mode\": \"lines\", \"name\": \"China\", \"showlegend\": true, \"type\": \"scatter\", \"x\": [0, 1, 2, 3, 4, 5, 6, 7, 8, 9, 10, 11, 12, 13, 14, 15, 16, 17, 18, 19, 20, 21, 22, 23, 24, 25, 26, 27, 28, 29, 30, 31, 32, 33, 34, 35, 36, 37, 38, 39, 40, 41, 42, 43, 44, 45, 46, 47, 48, 49, 50, 51, 52, 53, 54, 55, 56, 57, 58, 59, 60, 61, 62, 63, 64, 65, 66, 67, 68, 69, 70, 71, 72, 73, 74, 75, 76, 77, 78, 79, 80, 81, 82, 83, 84, 85, 86, 87, 88, 89, 90, 91, 92, 93, 94, 95, 96], \"xaxis\": \"x\", \"y\": [59, 59, 59, 59, 59, 59, 59, 59, 59, 59, 59, 59, 63, 80, 216, 235, 386, 526, 623, 882, 1323, 1988, 2775, 4528, 5994, 7734, 9714, 11809, 14399, 17211, 20448, 24320, 28047, 31207, 34625, 37232, 40206, 42696, 44724, 59865, 64021, 66559, 68566, 70618, 72508, 74258, 74652, 75543, 76369, 77016, 77234, 77749, 78159, 78598, 78927, 79355, 79929, 80134, 80261, 80380, 80497, 80667, 80768, 80814, 80859, 80879, 80908, 80932, 80954, 80973, 80995, 81020, 81063, 81086, 81130, 81229, 81281, 81346, 81484, 81553, 81631, 81733, 81827, 81946, 82059, 82157, 82241, 82295, 82395, 82465, 82527, 82575, 82642, 82698, 82784, 82870, 82925], \"yaxis\": \"y\"}],\n",
              "                        {\"legend\": {\"borderwidth\": 0, \"font\": {\"size\": 8}, \"orientation\": \"v\", \"title\": {\"text\": \"Pa\\u00eds\"}, \"tracegroupgap\": 0, \"yanchor\": \"top\"}, \"template\": {\"data\": {\"bar\": [{\"error_x\": {\"color\": \"#2a3f5f\"}, \"error_y\": {\"color\": \"#2a3f5f\"}, \"marker\": {\"line\": {\"color\": \"#E5ECF6\", \"width\": 0.5}}, \"type\": \"bar\"}], \"barpolar\": [{\"marker\": {\"line\": {\"color\": \"#E5ECF6\", \"width\": 0.5}}, \"type\": \"barpolar\"}], \"carpet\": [{\"aaxis\": {\"endlinecolor\": \"#2a3f5f\", \"gridcolor\": \"white\", \"linecolor\": \"white\", \"minorgridcolor\": \"white\", \"startlinecolor\": \"#2a3f5f\"}, \"baxis\": {\"endlinecolor\": \"#2a3f5f\", \"gridcolor\": \"white\", \"linecolor\": \"white\", \"minorgridcolor\": \"white\", \"startlinecolor\": \"#2a3f5f\"}, \"type\": \"carpet\"}], \"choropleth\": [{\"colorbar\": {\"outlinewidth\": 0, \"ticks\": \"\"}, \"type\": \"choropleth\"}], \"contour\": [{\"colorbar\": {\"outlinewidth\": 0, \"ticks\": \"\"}, \"colorscale\": [[0.0, \"#0d0887\"], [0.1111111111111111, \"#46039f\"], [0.2222222222222222, \"#7201a8\"], [0.3333333333333333, \"#9c179e\"], [0.4444444444444444, \"#bd3786\"], [0.5555555555555556, \"#d8576b\"], [0.6666666666666666, \"#ed7953\"], [0.7777777777777778, \"#fb9f3a\"], [0.8888888888888888, \"#fdca26\"], [1.0, \"#f0f921\"]], \"type\": \"contour\"}], \"contourcarpet\": [{\"colorbar\": {\"outlinewidth\": 0, \"ticks\": \"\"}, \"type\": \"contourcarpet\"}], \"heatmap\": [{\"colorbar\": {\"outlinewidth\": 0, \"ticks\": \"\"}, \"colorscale\": [[0.0, \"#0d0887\"], [0.1111111111111111, \"#46039f\"], [0.2222222222222222, \"#7201a8\"], [0.3333333333333333, \"#9c179e\"], [0.4444444444444444, \"#bd3786\"], [0.5555555555555556, \"#d8576b\"], [0.6666666666666666, \"#ed7953\"], [0.7777777777777778, \"#fb9f3a\"], [0.8888888888888888, \"#fdca26\"], [1.0, \"#f0f921\"]], \"type\": \"heatmap\"}], \"heatmapgl\": [{\"colorbar\": {\"outlinewidth\": 0, \"ticks\": \"\"}, \"colorscale\": [[0.0, \"#0d0887\"], [0.1111111111111111, \"#46039f\"], [0.2222222222222222, \"#7201a8\"], [0.3333333333333333, \"#9c179e\"], [0.4444444444444444, \"#bd3786\"], [0.5555555555555556, \"#d8576b\"], [0.6666666666666666, \"#ed7953\"], [0.7777777777777778, \"#fb9f3a\"], [0.8888888888888888, \"#fdca26\"], [1.0, \"#f0f921\"]], \"type\": \"heatmapgl\"}], \"histogram\": [{\"marker\": {\"colorbar\": {\"outlinewidth\": 0, \"ticks\": \"\"}}, \"type\": \"histogram\"}], \"histogram2d\": [{\"colorbar\": {\"outlinewidth\": 0, \"ticks\": \"\"}, \"colorscale\": [[0.0, \"#0d0887\"], [0.1111111111111111, \"#46039f\"], [0.2222222222222222, \"#7201a8\"], [0.3333333333333333, \"#9c179e\"], [0.4444444444444444, \"#bd3786\"], [0.5555555555555556, \"#d8576b\"], [0.6666666666666666, \"#ed7953\"], [0.7777777777777778, \"#fb9f3a\"], [0.8888888888888888, \"#fdca26\"], [1.0, \"#f0f921\"]], \"type\": \"histogram2d\"}], \"histogram2dcontour\": [{\"colorbar\": {\"outlinewidth\": 0, \"ticks\": \"\"}, \"colorscale\": [[0.0, \"#0d0887\"], [0.1111111111111111, \"#46039f\"], [0.2222222222222222, \"#7201a8\"], [0.3333333333333333, \"#9c179e\"], [0.4444444444444444, \"#bd3786\"], [0.5555555555555556, \"#d8576b\"], [0.6666666666666666, \"#ed7953\"], [0.7777777777777778, \"#fb9f3a\"], [0.8888888888888888, \"#fdca26\"], [1.0, \"#f0f921\"]], \"type\": \"histogram2dcontour\"}], \"mesh3d\": [{\"colorbar\": {\"outlinewidth\": 0, \"ticks\": \"\"}, \"type\": \"mesh3d\"}], \"parcoords\": [{\"line\": {\"colorbar\": {\"outlinewidth\": 0, \"ticks\": \"\"}}, \"type\": \"parcoords\"}], \"pie\": [{\"automargin\": true, \"type\": \"pie\"}], \"scatter\": [{\"marker\": {\"colorbar\": {\"outlinewidth\": 0, \"ticks\": \"\"}}, \"type\": \"scatter\"}], \"scatter3d\": [{\"line\": {\"colorbar\": {\"outlinewidth\": 0, \"ticks\": \"\"}}, \"marker\": {\"colorbar\": {\"outlinewidth\": 0, \"ticks\": \"\"}}, \"type\": \"scatter3d\"}], \"scattercarpet\": [{\"marker\": {\"colorbar\": {\"outlinewidth\": 0, \"ticks\": \"\"}}, \"type\": \"scattercarpet\"}], \"scattergeo\": [{\"marker\": {\"colorbar\": {\"outlinewidth\": 0, \"ticks\": \"\"}}, \"type\": \"scattergeo\"}], \"scattergl\": [{\"marker\": {\"colorbar\": {\"outlinewidth\": 0, \"ticks\": \"\"}}, \"type\": \"scattergl\"}], \"scattermapbox\": [{\"marker\": {\"colorbar\": {\"outlinewidth\": 0, \"ticks\": \"\"}}, \"type\": \"scattermapbox\"}], \"scatterpolar\": [{\"marker\": {\"colorbar\": {\"outlinewidth\": 0, \"ticks\": \"\"}}, \"type\": \"scatterpolar\"}], \"scatterpolargl\": [{\"marker\": {\"colorbar\": {\"outlinewidth\": 0, \"ticks\": \"\"}}, \"type\": \"scatterpolargl\"}], \"scatterternary\": [{\"marker\": {\"colorbar\": {\"outlinewidth\": 0, \"ticks\": \"\"}}, \"type\": \"scatterternary\"}], \"surface\": [{\"colorbar\": {\"outlinewidth\": 0, \"ticks\": \"\"}, \"colorscale\": [[0.0, \"#0d0887\"], [0.1111111111111111, \"#46039f\"], [0.2222222222222222, \"#7201a8\"], [0.3333333333333333, \"#9c179e\"], [0.4444444444444444, \"#bd3786\"], [0.5555555555555556, \"#d8576b\"], [0.6666666666666666, \"#ed7953\"], [0.7777777777777778, \"#fb9f3a\"], [0.8888888888888888, \"#fdca26\"], [1.0, \"#f0f921\"]], \"type\": \"surface\"}], \"table\": [{\"cells\": {\"fill\": {\"color\": \"#EBF0F8\"}, \"line\": {\"color\": \"white\"}}, \"header\": {\"fill\": {\"color\": \"#C8D4E3\"}, \"line\": {\"color\": \"white\"}}, \"type\": \"table\"}]}, \"layout\": {\"annotationdefaults\": {\"arrowcolor\": \"#2a3f5f\", \"arrowhead\": 0, \"arrowwidth\": 1}, \"coloraxis\": {\"colorbar\": {\"outlinewidth\": 0, \"ticks\": \"\"}}, \"colorscale\": {\"diverging\": [[0, \"#8e0152\"], [0.1, \"#c51b7d\"], [0.2, \"#de77ae\"], [0.3, \"#f1b6da\"], [0.4, \"#fde0ef\"], [0.5, \"#f7f7f7\"], [0.6, \"#e6f5d0\"], [0.7, \"#b8e186\"], [0.8, \"#7fbc41\"], [0.9, \"#4d9221\"], [1, \"#276419\"]], \"sequential\": [[0.0, \"#0d0887\"], [0.1111111111111111, \"#46039f\"], [0.2222222222222222, \"#7201a8\"], [0.3333333333333333, \"#9c179e\"], [0.4444444444444444, \"#bd3786\"], [0.5555555555555556, \"#d8576b\"], [0.6666666666666666, \"#ed7953\"], [0.7777777777777778, \"#fb9f3a\"], [0.8888888888888888, \"#fdca26\"], [1.0, \"#f0f921\"]], \"sequentialminus\": [[0.0, \"#0d0887\"], [0.1111111111111111, \"#46039f\"], [0.2222222222222222, \"#7201a8\"], [0.3333333333333333, \"#9c179e\"], [0.4444444444444444, \"#bd3786\"], [0.5555555555555556, \"#d8576b\"], [0.6666666666666666, \"#ed7953\"], [0.7777777777777778, \"#fb9f3a\"], [0.8888888888888888, \"#fdca26\"], [1.0, \"#f0f921\"]]}, \"colorway\": [\"#636efa\", \"#EF553B\", \"#00cc96\", \"#ab63fa\", \"#FFA15A\", \"#19d3f3\", \"#FF6692\", \"#B6E880\", \"#FF97FF\", \"#FECB52\"], \"font\": {\"color\": \"#2a3f5f\"}, \"geo\": {\"bgcolor\": \"white\", \"lakecolor\": \"white\", \"landcolor\": \"#E5ECF6\", \"showlakes\": true, \"showland\": true, \"subunitcolor\": \"white\"}, \"hoverlabel\": {\"align\": \"left\"}, \"hovermode\": \"closest\", \"mapbox\": {\"style\": \"light\"}, \"paper_bgcolor\": \"white\", \"plot_bgcolor\": \"#E5ECF6\", \"polar\": {\"angularaxis\": {\"gridcolor\": \"white\", \"linecolor\": \"white\", \"ticks\": \"\"}, \"bgcolor\": \"#E5ECF6\", \"radialaxis\": {\"gridcolor\": \"white\", \"linecolor\": \"white\", \"ticks\": \"\"}}, \"scene\": {\"xaxis\": {\"backgroundcolor\": \"#E5ECF6\", \"gridcolor\": \"white\", \"gridwidth\": 2, \"linecolor\": \"white\", \"showbackground\": true, \"ticks\": \"\", \"zerolinecolor\": \"white\"}, \"yaxis\": {\"backgroundcolor\": \"#E5ECF6\", \"gridcolor\": \"white\", \"gridwidth\": 2, \"linecolor\": \"white\", \"showbackground\": true, \"ticks\": \"\", \"zerolinecolor\": \"white\"}, \"zaxis\": {\"backgroundcolor\": \"#E5ECF6\", \"gridcolor\": \"white\", \"gridwidth\": 2, \"linecolor\": \"white\", \"showbackground\": true, \"ticks\": \"\", \"zerolinecolor\": \"white\"}}, \"shapedefaults\": {\"line\": {\"color\": \"#2a3f5f\"}}, \"ternary\": {\"aaxis\": {\"gridcolor\": \"white\", \"linecolor\": \"white\", \"ticks\": \"\"}, \"baxis\": {\"gridcolor\": \"white\", \"linecolor\": \"white\", \"ticks\": \"\"}, \"bgcolor\": \"#E5ECF6\", \"caxis\": {\"gridcolor\": \"white\", \"linecolor\": \"white\", \"ticks\": \"\"}}, \"title\": {\"x\": 0.05}, \"xaxis\": {\"automargin\": true, \"gridcolor\": \"white\", \"linecolor\": \"white\", \"ticks\": \"\", \"title\": {\"standoff\": 15}, \"zerolinecolor\": \"white\", \"zerolinewidth\": 2}, \"yaxis\": {\"automargin\": true, \"gridcolor\": \"white\", \"linecolor\": \"white\", \"ticks\": \"\", \"title\": {\"standoff\": 15}, \"zerolinecolor\": \"white\", \"zerolinewidth\": 2}}}, \"title\": {\"text\": \"COVID-19 - Casos totais confirmados - 10-04-2020 \\n Escala Logar\\u00edtmica\"}, \"xaxis\": {\"anchor\": \"y\", \"domain\": [0.0, 1.0], \"title\": {\"text\": \"Dias desde o caso n\\u00famero 50\"}}, \"yaxis\": {\"anchor\": \"x\", \"domain\": [0.0, 1.0], \"title\": {\"text\": \"Casos acumulados\"}, \"type\": \"log\"}},\n",
              "                        {\"responsive\": true}\n",
              "                    ).then(function(){\n",
              "                            \n",
              "var gd = document.getElementById('d3c33408-0067-4aac-8d7a-1f85c3e8c001');\n",
              "var x = new MutationObserver(function (mutations, observer) {{\n",
              "        var display = window.getComputedStyle(gd).display;\n",
              "        if (!display || display === 'none') {{\n",
              "            console.log([gd, 'removed!']);\n",
              "            Plotly.purge(gd);\n",
              "            observer.disconnect();\n",
              "        }}\n",
              "}});\n",
              "\n",
              "// Listen for the removal of the full notebook cells\n",
              "var notebookContainer = gd.closest('#notebook-container');\n",
              "if (notebookContainer) {{\n",
              "    x.observe(notebookContainer, {childList: true});\n",
              "}}\n",
              "\n",
              "// Listen for the clearing of the current output cell\n",
              "var outputEl = gd.closest('.output');\n",
              "if (outputEl) {{\n",
              "    x.observe(outputEl, {childList: true});\n",
              "}}\n",
              "\n",
              "                        })\n",
              "                };\n",
              "                \n",
              "            </script>\n",
              "        </div>\n",
              "</body>\n",
              "</html>"
            ]
          },
          "metadata": {
            "tags": []
          }
        }
      ]
    },
    {
      "cell_type": "markdown",
      "metadata": {
        "id": "1pR_Low5TqS9",
        "colab_type": "text"
      },
      "source": [
        "<center> <h2> Contaminação Relativa </h2> </center>\n",
        "\n"
      ]
    },
    {
      "cell_type": "markdown",
      "metadata": {
        "id": "BGsl_L9-sQJl",
        "colab_type": "text"
      },
      "source": [
        "Essa seção conta com gráficos em que o número de casos é dívidido pela população dos países para que se tenha uma ideia da proporção de infectados por país."
      ]
    },
    {
      "cell_type": "code",
      "metadata": {
        "id": "LvdcRZ4RTqTC",
        "colab_type": "code",
        "outputId": "d941cd78-ef78-40f9-d17b-be9150831a4e",
        "colab": {
          "base_uri": "https://localhost:8080/",
          "height": 542
        }
      },
      "source": [
        "#hide_input\n",
        "\n",
        "fig = px.line(final_data, x=\"Dias desde o caso número 50\", y=\"Relativa\", title='COVID-19 - Contaminação relativa  {} \\nCasos a cada 10 mil habitantes - E. Aritmética' .format(today),\n",
        "              color='Países e territórios',color_discrete_sequence=[\"black\", \"blue\",'green',\"darkmagenta\",\"gray\",\"brown\",\"orange\",\"magenta\",'red',\"darkblue\",\"lightgreen\",'coral','lightblue'])\n",
        "fig.update_layout(legend= {'title':'País','borderwidth':0,'orientation':'v','yanchor':'top','font':{'size':8}})\n",
        "\n",
        "fig.update_layout()\n",
        "fig.show()"
      ],
      "execution_count": 37,
      "outputs": [
        {
          "output_type": "display_data",
          "data": {
            "text/html": [
              "<html>\n",
              "<head><meta charset=\"utf-8\" /></head>\n",
              "<body>\n",
              "    <div>\n",
              "            <script src=\"https://cdnjs.cloudflare.com/ajax/libs/mathjax/2.7.5/MathJax.js?config=TeX-AMS-MML_SVG\"></script><script type=\"text/javascript\">if (window.MathJax) {MathJax.Hub.Config({SVG: {font: \"STIX-Web\"}});}</script>\n",
              "                <script type=\"text/javascript\">window.PlotlyConfig = {MathJaxConfig: 'local'};</script>\n",
              "        <script src=\"https://cdn.plot.ly/plotly-latest.min.js\"></script>    \n",
              "            <div id=\"d37655d3-0ff8-423f-8525-e7104d7da00c\" class=\"plotly-graph-div\" style=\"height:525px; width:100%;\"></div>\n",
              "            <script type=\"text/javascript\">\n",
              "                \n",
              "                    window.PLOTLYENV=window.PLOTLYENV || {};\n",
              "                    \n",
              "                if (document.getElementById(\"d37655d3-0ff8-423f-8525-e7104d7da00c\")) {\n",
              "                    Plotly.newPlot(\n",
              "                        'd37655d3-0ff8-423f-8525-e7104d7da00c',\n",
              "                        [{\"hovertemplate\": \"Pa\\u00edses e territ\\u00f3rios=Brazil<br>Dias desde o caso n\\u00famero 50=%{x}<br>Relativa=%{y}<extra></extra>\", \"legendgroup\": \"Brazil\", \"line\": {\"color\": \"black\", \"dash\": \"solid\"}, \"mode\": \"lines\", \"name\": \"Brazil\", \"showlegend\": true, \"type\": \"scatter\", \"x\": [0, 1, 2, 3, 4, 5, 6, 7, 8, 9, 10, 11, 12, 13, 14, 15, 16, 17, 18, 19, 20, 21, 22, 23, 24, 25, 26, 27, 28, 29], \"xaxis\": \"x\", \"y\": [0.002484472049689441, 0.0036789297658862876, 0.0046822742474916385, 0.005781175346392738, 0.009555661729574774, 0.011180124223602485, 0.013903487816531295, 0.020449116101290014, 0.02967032967032967, 0.04319159101767797, 0.05389393215480172, 0.07386526516961299, 0.09034878165312948, 0.10516005733397038, 0.11624462494027711, 0.13927376970855232, 0.163258480649785, 0.18652651696129957, 0.20334448160535118, 0.21877687529861442, 0.2731485905398949, 0.32661251791686574, 0.3779264214046823, 0.43268036311514574, 0.4910654562828476, 0.5317725752508361, 0.5760152890587673, 0.6553750597228858, 0.760965121834687, 0.8531772575250837], \"yaxis\": \"y\"}, {\"hovertemplate\": \"Pa\\u00edses e territ\\u00f3rios=Italy<br>Dias desde o caso n\\u00famero 50=%{x}<br>Relativa=%{y}<extra></extra>\", \"legendgroup\": \"Italy\", \"line\": {\"color\": \"blue\", \"dash\": \"solid\"}, \"mode\": \"lines\", \"name\": \"Italy\", \"showlegend\": true, \"type\": \"scatter\", \"x\": [0, 1, 2, 3, 4, 5, 6, 7, 8, 9, 10, 11, 12, 13, 14, 15, 16, 17, 18, 19, 20, 21, 22, 23, 24, 25, 26, 27, 28, 29, 30, 31, 32, 33, 34, 35, 36, 37, 38, 39, 40, 41, 42, 43, 44, 45, 46, 47], \"xaxis\": \"x\", \"y\": [0.013038455190625516, 0.021785773229905925, 0.03779501567915498, 0.05314408318204324, 0.06601749463607856, 0.10727842878362766, 0.1465588380920944, 0.18616933487374154, 0.27875887110084174, 0.33602904769763986, 0.4129394289486714, 0.5098201023271167, 0.6367387357649777, 0.7651427628321505, 0.9709523023601254, 1.2171975573526985, 1.5137811520052813, 1.6750288826539033, 2.0567750453870275, 2.4943059910876384, 2.9146723881828684, 3.4918303350387854, 3.9577488034329096, 4.617923749793695, 5.199867965010728, 5.894206964845684, 6.772569730978709, 7.760521538207625, 8.842713319029542, 9.760356494471035, 10.550750949001486, 11.417065522363426, 12.27694338999835, 13.292457501237829, 14.27595312757881, 15.26192440996864, 16.122957583759696, 16.79138471694999, 17.460306981350058, 18.249546129724376, 19.019970292127415, 19.776695824393464, 20.56973097870936, 21.282059745832644, 21.876052153820762, 22.377620069318368, 23.010727842878364, 23.704571711503547], \"yaxis\": \"y\"}, {\"hovertemplate\": \"Pa\\u00edses e territ\\u00f3rios=Japan<br>Dias desde o caso n\\u00famero 50=%{x}<br>Relativa=%{y}<extra></extra>\", \"legendgroup\": \"Japan\", \"line\": {\"color\": \"green\", \"dash\": \"solid\"}, \"mode\": \"lines\", \"name\": \"Japan\", \"showlegend\": true, \"type\": \"scatter\", \"x\": [0, 1, 2, 3, 4, 5, 6, 7, 8, 9, 10, 11, 12, 13, 14, 15, 16, 17, 18, 19, 20, 21, 22, 23, 24, 25, 26, 27, 28, 29, 30, 31, 32, 33, 34, 35, 36, 37, 38, 39, 40, 41, 42, 43, 44, 45, 46, 47, 48, 49, 50, 51, 52, 53, 54], \"xaxis\": \"x\", \"y\": [0.004100946372239748, 0.004652996845425868, 0.004652996845425868, 0.0052050473186119875, 0.006624605678233439, 0.007334384858044164, 0.008280757097791799, 0.010410094637223975, 0.011356466876971609, 0.011356466876971609, 0.012933753943217666, 0.014668769716088327, 0.016561514195583597, 0.018138801261829655, 0.018848580441640377, 0.02003154574132492, 0.02003154574132492, 0.02113564668769716, 0.025, 0.02752365930599369, 0.032176656151419555, 0.03588328075709779, 0.038485804416403785, 0.04053627760252366, 0.044794952681388014, 0.04881703470031546, 0.05323343848580442, 0.05812302839116719, 0.061514195583596214, 0.06419558359621451, 0.06498422712933755, 0.06537854889589906, 0.06884858044164038, 0.0749211356466877, 0.07941640378548896, 0.08249211356466878, 0.0858832807570978, 0.08895899053627761, 0.09408517350157729, 0.1, 0.10757097791798108, 0.11821766561514195, 0.1335173501577287, 0.1471608832807571, 0.15402208201892745, 0.15402208201892745, 0.1717665615141956, 0.20638801261829653, 0.23146687697160884, 0.25796529968454257, 0.2881703470031546, 0.30102523659305996, 0.3080441640378549, 0.33572555205047316, 0.36805993690851735], \"yaxis\": \"y\"}, {\"hovertemplate\": \"Pa\\u00edses e territ\\u00f3rios=United_Kingdom<br>Dias desde o caso n\\u00famero 50=%{x}<br>Relativa=%{y}<extra></extra>\", \"legendgroup\": \"United_Kingdom\", \"line\": {\"color\": \"darkmagenta\", \"dash\": \"solid\"}, \"mode\": \"lines\", \"name\": \"United_Kingdom\", \"showlegend\": true, \"type\": \"scatter\", \"x\": [0, 1, 2, 3, 4, 5, 6, 7, 8, 9, 10, 11, 12, 13, 14, 15, 16, 17, 18, 19, 20, 21, 22, 23, 24, 25, 26, 27, 28, 29, 30, 31, 32, 33, 34, 35, 36, 37], \"xaxis\": \"x\", \"y\": [0.007722592368261659, 0.0128709872804361, 0.017413688673531193, 0.024682010902483342, 0.03119321623258631, 0.04133858267716536, 0.04860690490611751, 0.056480920654149, 0.06904906117504543, 0.08933979406420352, 0.10705632949727438, 0.17262265293761356, 0.2106299212598425, 0.23364627498485765, 0.2952755905511811, 0.3982434887946699, 0.49621441550575407, 0.6031193216232587, 0.7598425196850394, 0.8605390672319806, 1.0069654754694124, 1.223046638400969, 1.4429133858267718, 1.7652937613567534, 2.202150211992732, 2.5876741368867355, 2.9560872198667476, 3.352665051483949, 3.808298001211387, 4.46305269533616, 5.105693519079346, 5.7795275590551185, 6.3450938824954575, 7.238946093276802, 7.81465778316172, 8.364930345245305, 9.196396123561478, 9.854179285281647], \"yaxis\": \"y\"}, {\"hovertemplate\": \"Pa\\u00edses e territ\\u00f3rios=United_States_of_America<br>Dias desde o caso n\\u00famero 50=%{x}<br>Relativa=%{y}<extra></extra>\", \"legendgroup\": \"United_States_of_America\", \"line\": {\"color\": \"gray\", \"dash\": \"solid\"}, \"mode\": \"lines\", \"name\": \"United_States_of_America\", \"showlegend\": true, \"type\": \"scatter\", \"x\": [0, 1, 2, 3, 4, 5, 6, 7, 8, 9, 10, 11, 12, 13, 14, 15, 16, 17, 18, 19, 20, 21, 22, 23, 24, 25, 26, 27, 28, 29, 30, 31, 32, 33, 34, 35, 36, 37, 38, 39, 40, 41, 42, 43, 44, 45], \"xaxis\": \"x\", \"y\": [0.0016272643536997236, 0.0016272643536997236, 0.0018114829597789376, 0.00184218606079214, 0.002026404666871354, 0.002118513969910961, 0.0027325759901750076, 0.0031624194043598404, 0.003837887626650292, 0.004881793061099171, 0.007153822536076143, 0.010377648142462389, 0.01329444273871661, 0.017009517961314093, 0.02315013816395456, 0.031470678538532394, 0.040282468529321463, 0.05105925698495548, 0.06674854160270187, 0.09060485108996008, 0.1158735032238256, 0.14310715382253608, 0.1973288302118514, 0.2890696960393, 0.4375191894381332, 0.6025176542830826, 0.8212158428001228, 1.0809333742708014, 1.4259134172551429, 1.6957629720601781, 2.124470371507522, 2.6401903592262816, 3.2141848326680993, 3.827602087810869, 4.391311022413264, 5.054344488793368, 5.8218606079214, 6.654006754682223, 7.538839422781701, 8.534387473134787, 9.586644151059257, 10.36644151059257, 11.304758980657047, 12.244673011974209, 13.26779244703715, 14.308658274485722], \"yaxis\": \"y\"}, {\"hovertemplate\": \"Pa\\u00edses e territ\\u00f3rios=France<br>Dias desde o caso n\\u00famero 50=%{x}<br>Relativa=%{y}<extra></extra>\", \"legendgroup\": \"France\", \"line\": {\"color\": \"brown\", \"dash\": \"solid\"}, \"mode\": \"lines\", \"name\": \"France\", \"showlegend\": true, \"type\": \"scatter\", \"x\": [0, 1, 2, 3, 4, 5, 6, 7, 8, 9, 10, 11, 12, 13, 14, 15, 16, 17, 18, 19, 20, 21, 22, 23, 24, 25, 26, 27, 28, 29, 30, 31, 32, 33, 34, 35, 36, 37, 38, 39, 40, 41], \"xaxis\": \"x\", \"y\": [0.008536768009585144, 0.014976785981728321, 0.01946982177624682, 0.026658679047476413, 0.03175078628126404, 0.04268384004792571, 0.0633518047027108, 0.0918076980679946, 0.10723378762917478, 0.1686386101542609, 0.2114722180620039, 0.26718586191403326, 0.341620488243223, 0.4307323648345065, 0.5483001347910739, 0.6738056013179572, 0.8121911037891268, 0.9934102141680395, 1.1577055563875993, 1.3679796315710648, 1.646697618691029, 1.888872248015576, 2.165493485098098, 2.3989815785532427, 2.9737906245319756, 3.34012280964505, 3.7790924067695073, 4.366481952972892, 4.936947731016923, 5.627527332634417, 6.016774000299535, 6.672158154859967, 7.8070989965553395, 8.535120563127153, 8.852029354500525, 9.635764564924367, 10.274824022764715, 10.555339224202486, 11.141231091807699, 11.706904298337577, 12.288153362288453, 12.930058409465328], \"yaxis\": \"y\"}, {\"hovertemplate\": \"Pa\\u00edses e territ\\u00f3rios=South_Korea<br>Dias desde o caso n\\u00famero 50=%{x}<br>Relativa=%{y}<extra></extra>\", \"legendgroup\": \"South_Korea\", \"line\": {\"color\": \"orange\", \"dash\": \"solid\"}, \"mode\": \"lines\", \"name\": \"South_Korea\", \"showlegend\": true, \"type\": \"scatter\", \"x\": [0, 1, 2, 3, 4, 5, 6, 7, 8, 9, 10, 11, 12, 13, 14, 15, 16, 17, 18, 19, 20, 21, 22, 23, 24, 25, 26, 27, 28, 29, 30, 31, 32, 33, 34, 35, 36, 37, 38, 39, 40, 41, 42, 43, 44, 45, 46, 47, 48, 49, 50], \"xaxis\": \"x\", \"y\": [0.015543034777540314, 0.030114629881484358, 0.0670293374781426, 0.11676704876627161, 0.1480474062560715, 0.1733048377695745, 0.22265397318826502, 0.30988925587721, 0.39285020400233145, 0.5694579366621333, 0.6850592578200894, 0.8183407810374975, 0.93491354186905, 1.035166116184185, 1.1202642315912181, 1.2209053817757918, 1.3147464542451914, 1.3860501262871576, 1.4342335340975325, 1.4596852535457547, 1.5067029337478142, 1.5288517583058092, 1.5502234311249272, 1.5710122401398874, 1.5857781231785506, 1.6001554303477754, 1.6164756168641927, 1.6345443947930833, 1.66407616087041, 1.6809792111909851, 1.7095395375947153, 1.7285797551972022, 1.7410141830192345, 1.7557800660578977, 1.7752088595298232, 1.7954148047406255, 1.8130950068000777, 1.8414610452690887, 1.8618612784146105, 1.8770157373227123, 1.901301729162619, 1.901301729162619, 1.9382164367592774, 1.954925199145133, 1.973188265008743, 1.9889255877210026, 1.9980571206528075, 2.0071886535846124, 2.017485914124733, 2.025063143578784, 2.0303089178162037], \"yaxis\": \"y\"}, {\"hovertemplate\": \"Pa\\u00edses e territ\\u00f3rios=Spain<br>Dias desde o caso n\\u00famero 50=%{x}<br>Relativa=%{y}<extra></extra>\", \"legendgroup\": \"Spain\", \"line\": {\"color\": \"magenta\", \"dash\": \"solid\"}, \"mode\": \"lines\", \"name\": \"Spain\", \"showlegend\": true, \"type\": \"scatter\", \"x\": [0, 1, 2, 3, 4, 5, 6, 7, 8, 9, 10, 11, 12, 13, 14, 15, 16, 17, 18, 19, 20, 21, 22, 23, 24, 25, 26, 27, 28, 29, 30, 31, 32, 33, 34, 35, 36, 37, 38, 39, 40], \"xaxis\": \"x\", \"y\": [0.014184397163120567, 0.017837954008166772, 0.024500322372662798, 0.032452181388351604, 0.04298302170642596, 0.05609284332688588, 0.08037825059101655, 0.09241349666881582, 0.12658499892542446, 0.2587577906726843, 0.35224586288416077, 0.4599183322587578, 0.645604986030518, 0.9093058241994412, 1.2364066193853427, 1.6662368364496023, 1.975284762518805, 2.402321083172147, 2.9477756286266925, 3.68514936600043, 4.294003868471954, 5.356973995271868, 6.140554480980013, 7.111326026219643, 8.526327100795186, 10.232108317214701, 12.07565011820331, 13.767246937459703, 15.527186761229315, 16.934665807006233, 18.3096926713948, 20.2916398022781, 21.95056952503761, 23.691811734364926, 25.297657425317, 26.807650977863744, 28.10208467655276, 29.020416935310553, 30.197721899849558, 31.52589727057812, 32.762948635289064], \"yaxis\": \"y\"}, {\"hovertemplate\": \"Pa\\u00edses e territ\\u00f3rios=Argentina<br>Dias desde o caso n\\u00famero 50=%{x}<br>Relativa=%{y}<extra></extra>\", \"legendgroup\": \"Argentina\", \"line\": {\"color\": \"red\", \"dash\": \"solid\"}, \"mode\": \"lines\", \"name\": \"Argentina\", \"showlegend\": true, \"type\": \"scatter\", \"x\": [0, 1, 2, 3, 4, 5, 6, 7, 8, 9, 10, 11, 12, 13, 14, 15, 16, 17, 18, 19, 20, 21, 22, 23, 24, 25], \"xaxis\": \"x\", \"y\": [0.012649649875762368, 0.01468262932008132, 0.01784504178902191, 0.021911000677659814, 0.02891348543031398, 0.03569008357804382, 0.0508244861079738, 0.060085836909871244, 0.06799186808222273, 0.08741811610571493, 0.11339507567201265, 0.13304721030042918, 0.15586175739778632, 0.16828552066862434, 0.18522701603794894, 0.21820646035690083, 0.21820646035690083, 0.2559295233792636, 0.2559295233792636, 0.2857465552292749, 0.32776146374519993, 0.3510277840524057, 0.36774339281680596, 0.3873955274452225, 0.40546645583916874, 0.4278292297266772], \"yaxis\": \"y\"}, {\"hovertemplate\": \"Pa\\u00edses e territ\\u00f3rios=India<br>Dias desde o caso n\\u00famero 50=%{x}<br>Relativa=%{y}<extra></extra>\", \"legendgroup\": \"India\", \"line\": {\"color\": \"darkblue\", \"dash\": \"solid\"}, \"mode\": \"lines\", \"name\": \"India\", \"showlegend\": true, \"type\": \"scatter\", \"x\": [0, 1, 2, 3, 4, 5, 6, 7, 8, 9, 10, 11, 12, 13, 14, 15, 16, 17, 18, 19, 20, 21, 22, 23, 24, 25, 26, 27, 28, 29, 30], \"xaxis\": \"x\", \"y\": [0.0003734129947722181, 0.0005451829723674384, 0.0005601194921583271, 0.000619865571321882, 0.0006721433905899926, 0.0006945481702763256, 0.0009335324869305452, 0.0010231516056758774, 0.0012322628827483196, 0.001426437640029873, 0.0017251680358476476, 0.002389843166542196, 0.0032785660941000746, 0.003674383868558626, 0.004197162061239731, 0.004846900672143391, 0.005407020164301717, 0.006519790888722928, 0.0073114264376400295, 0.007998506348020911, 0.009342793129200897, 0.010433159073935773, 0.01467513069454817, 0.017184466019417477, 0.021672890216579536, 0.025197908887229274, 0.03037341299477222, 0.03301717699775952, 0.03879014189693801, 0.04282300224047797, 0.04788648244958925], \"yaxis\": \"y\"}, {\"hovertemplate\": \"Pa\\u00edses e territ\\u00f3rios=Mexico<br>Dias desde o caso n\\u00famero 50=%{x}<br>Relativa=%{y}<extra></extra>\", \"legendgroup\": \"Mexico\", \"line\": {\"color\": \"lightgreen\", \"dash\": \"solid\"}, \"mode\": \"lines\", \"name\": \"Mexico\", \"showlegend\": true, \"type\": \"scatter\", \"x\": [0, 1, 2, 3, 4, 5, 6, 7, 8, 9, 10, 11, 12, 13, 14, 15, 16, 17, 18, 19, 20, 21, 22, 23, 24, 25], \"xaxis\": \"x\", \"y\": [0.01139050075220288, 0.017623038899634645, 0.019987105093488073, 0.025359982806791317, 0.03524607779926929, 0.04362776703202235, 0.05394369224156458, 0.06791317429615303, 0.07887384483129165, 0.08704061895551257, 0.10208467655276166, 0.12572533849129594, 0.15409413281753706, 0.18224801203524607, 0.2134107027724049, 0.23511712873415, 0.2611218568665377, 0.29615301955727485, 0.32452181388351603, 0.3627767032022351, 0.40618955512572535, 0.46056307758435416, 0.5241779497098646, 0.5985385772619816, 0.6836449602407049, 0.7395228884590587], \"yaxis\": \"y\"}, {\"hovertemplate\": \"Pa\\u00edses e territ\\u00f3rios=Germany<br>Dias desde o caso n\\u00famero 50=%{x}<br>Relativa=%{y}<extra></extra>\", \"legendgroup\": \"Germany\", \"line\": {\"color\": \"coral\", \"dash\": \"solid\"}, \"mode\": \"lines\", \"name\": \"Germany\", \"showlegend\": true, \"type\": \"scatter\", \"x\": [0, 1, 2, 3, 4, 5, 6, 7, 8, 9, 10, 11, 12, 13, 14, 15, 16, 17, 18, 19, 20, 21, 22, 23, 24, 25, 26, 27, 28, 29, 30, 31, 32, 33, 34, 35, 36, 37, 38, 39, 40, 41], \"xaxis\": \"x\", \"y\": [0.006907416383906932, 0.01345128453708192, 0.015632573921473582, 0.01902569074163839, 0.02375181774115366, 0.031749878817256424, 0.048473097430925836, 0.08288899660688318, 0.10264178380998545, 0.10930683470673776, 0.1380271449345613, 0.1570528356761997, 0.18989335918565195, 0.2870819195346583, 0.37106156083373726, 0.45988851187590885, 0.586282113427048, 0.7285506543868153, 0.8671837130392632, 0.993456131846825, 1.7132816286960737, 2.2039505574406206, 2.600945225399903, 3.0021812893843918, 3.5399903053805137, 3.8238002908385846, 4.424139602520601, 5.12457586039748, 5.887300048473097, 6.367789626757149, 6.943528841492971, 7.502787203102279, 8.163596703829375, 8.909597673291323, 9.657779932137663, 10.394813378574892, 11.11415414444983, 11.559743092583616, 12.024357731459041, 12.509452253999031, 13.112215220552594, 13.757270964614639], \"yaxis\": \"y\"}, {\"hovertemplate\": \"Pa\\u00edses e territ\\u00f3rios=Czechia<br>Dias desde o caso n\\u00famero 50=%{x}<br>Relativa=%{y}<extra></extra>\", \"legendgroup\": \"Czechia\", \"line\": {\"color\": \"lightblue\", \"dash\": \"solid\"}, \"mode\": \"lines\", \"name\": \"Czechia\", \"showlegend\": true, \"type\": \"scatter\", \"x\": [0, 1, 2, 3, 4, 5, 6, 7, 8, 9, 10, 11, 12, 13, 14, 15, 16, 17, 18, 19, 20, 21, 22, 23, 24, 25, 26, 27, 28, 29, 30], \"xaxis\": \"x\", \"y\": [0.05920496193966733, 0.08833756225918618, 0.10901231087303825, 0.14096419509444602, 0.20110891833474298, 0.28004886758763275, 0.3232778874165962, 0.4078564044732638, 0.49055539892867217, 0.6521943426369703, 0.8495442157691947, 0.935062494126492, 1.0948219152335308, 1.1615449675782352, 1.3100272530777184, 1.554365191241425, 1.937787801898318, 2.14171600413495, 2.5025843435767317, 2.658584719481252, 2.8211634244901798, 3.10873038248285, 3.3728033079597783, 3.6255990978291517, 3.9375998496381923, 4.202612536415751, 4.310685085988159, 4.531528991636125, 4.714782445258905, 4.992012028944648, 5.233530683206466], \"yaxis\": \"y\"}, {\"hovertemplate\": \"Pa\\u00edses e territ\\u00f3rios=China<br>Dias desde o caso n\\u00famero 50=%{x}<br>Relativa=%{y}<extra></extra>\", \"legendgroup\": \"China\", \"line\": {\"color\": \"black\", \"dash\": \"solid\"}, \"mode\": \"lines\", \"name\": \"China\", \"showlegend\": true, \"type\": \"scatter\", \"x\": [0, 1, 2, 3, 4, 5, 6, 7, 8, 9, 10, 11, 12, 13, 14, 15, 16, 17, 18, 19, 20, 21, 22, 23, 24, 25, 26, 27, 28, 29, 30, 31, 32, 33, 34, 35, 36, 37, 38, 39, 40, 41, 42, 43, 44, 45, 46, 47, 48, 49, 50, 51, 52, 53, 54, 55, 56, 57, 58, 59, 60, 61, 62, 63, 64, 65, 66, 67, 68, 69, 70, 71, 72, 73, 74, 75, 76, 77, 78, 79, 80, 81, 82, 83, 84, 85, 86, 87, 88, 89, 90, 91, 92, 93, 94, 95, 96], \"xaxis\": \"x\", \"y\": [0.0004256854256854257, 0.0004256854256854257, 0.0004256854256854257, 0.0004256854256854257, 0.0004256854256854257, 0.0004256854256854257, 0.0004256854256854257, 0.0004256854256854257, 0.0004256854256854257, 0.0004256854256854257, 0.0004256854256854257, 0.0004256854256854257, 0.00045454545454545455, 0.0005772005772005772, 0.0015584415584415584, 0.0016955266955266956, 0.002784992784992785, 0.0037950937950937953, 0.004494949494949495, 0.006363636363636364, 0.009545454545454546, 0.014343434343434344, 0.02002164502164502, 0.03266955266955267, 0.04324675324675325, 0.0558008658008658, 0.07008658008658009, 0.0852020202020202, 0.10388888888888889, 0.12417748917748918, 0.14753246753246754, 0.17546897546897547, 0.20235930735930735, 0.22515873015873017, 0.24981962481962483, 0.2686291486291486, 0.29008658008658006, 0.3080519480519481, 0.3226839826839827, 0.43192640692640694, 0.4619119769119769, 0.4802236652236652, 0.4947041847041847, 0.5095093795093795, 0.5231457431457431, 0.5357720057720058, 0.5386147186147187, 0.54504329004329, 0.551002886002886, 0.5556709956709956, 0.5572438672438672, 0.560959595959596, 0.5639177489177489, 0.5670851370851371, 0.5694588744588744, 0.5725468975468976, 0.5766883116883117, 0.5781673881673882, 0.5790836940836941, 0.57994227994228, 0.5807864357864357, 0.582012987012987, 0.5827417027417028, 0.5830735930735931, 0.5833982683982684, 0.5835425685425686, 0.5837518037518038, 0.583924963924964, 0.5840836940836941, 0.5842207792207792, 0.5843795093795093, 0.5845598845598846, 0.5848701298701299, 0.585036075036075, 0.5853535353535354, 0.5860678210678211, 0.5864430014430014, 0.5869119769119769, 0.5879076479076479, 0.5884054834054834, 0.5889682539682539, 0.5897041847041847, 0.5903823953823953, 0.5912409812409812, 0.5920562770562771, 0.5927633477633477, 0.5933694083694083, 0.5937590187590187, 0.5944805194805195, 0.59498556998557, 0.5954329004329004, 0.5957792207792207, 0.5962626262626263, 0.5966666666666667, 0.5972871572871573, 0.5979076479076479, 0.5983044733044733], \"yaxis\": \"y\"}],\n",
              "                        {\"legend\": {\"borderwidth\": 0, \"font\": {\"size\": 8}, \"orientation\": \"v\", \"title\": {\"text\": \"Pa\\u00eds\"}, \"tracegroupgap\": 0, \"yanchor\": \"top\"}, \"template\": {\"data\": {\"bar\": [{\"error_x\": {\"color\": \"#2a3f5f\"}, \"error_y\": {\"color\": \"#2a3f5f\"}, \"marker\": {\"line\": {\"color\": \"#E5ECF6\", \"width\": 0.5}}, \"type\": \"bar\"}], \"barpolar\": [{\"marker\": {\"line\": {\"color\": \"#E5ECF6\", \"width\": 0.5}}, \"type\": \"barpolar\"}], \"carpet\": [{\"aaxis\": {\"endlinecolor\": \"#2a3f5f\", \"gridcolor\": \"white\", \"linecolor\": \"white\", \"minorgridcolor\": \"white\", \"startlinecolor\": \"#2a3f5f\"}, \"baxis\": {\"endlinecolor\": \"#2a3f5f\", \"gridcolor\": \"white\", \"linecolor\": \"white\", \"minorgridcolor\": \"white\", \"startlinecolor\": \"#2a3f5f\"}, \"type\": \"carpet\"}], \"choropleth\": [{\"colorbar\": {\"outlinewidth\": 0, \"ticks\": \"\"}, \"type\": \"choropleth\"}], \"contour\": [{\"colorbar\": {\"outlinewidth\": 0, \"ticks\": \"\"}, \"colorscale\": [[0.0, \"#0d0887\"], [0.1111111111111111, \"#46039f\"], [0.2222222222222222, \"#7201a8\"], [0.3333333333333333, \"#9c179e\"], [0.4444444444444444, \"#bd3786\"], [0.5555555555555556, \"#d8576b\"], [0.6666666666666666, \"#ed7953\"], [0.7777777777777778, \"#fb9f3a\"], [0.8888888888888888, \"#fdca26\"], [1.0, \"#f0f921\"]], \"type\": \"contour\"}], \"contourcarpet\": [{\"colorbar\": {\"outlinewidth\": 0, \"ticks\": \"\"}, \"type\": \"contourcarpet\"}], \"heatmap\": [{\"colorbar\": {\"outlinewidth\": 0, \"ticks\": \"\"}, \"colorscale\": [[0.0, \"#0d0887\"], [0.1111111111111111, \"#46039f\"], [0.2222222222222222, \"#7201a8\"], [0.3333333333333333, \"#9c179e\"], [0.4444444444444444, \"#bd3786\"], [0.5555555555555556, \"#d8576b\"], [0.6666666666666666, \"#ed7953\"], [0.7777777777777778, \"#fb9f3a\"], [0.8888888888888888, \"#fdca26\"], [1.0, \"#f0f921\"]], \"type\": \"heatmap\"}], \"heatmapgl\": [{\"colorbar\": {\"outlinewidth\": 0, \"ticks\": \"\"}, \"colorscale\": [[0.0, \"#0d0887\"], [0.1111111111111111, \"#46039f\"], [0.2222222222222222, \"#7201a8\"], [0.3333333333333333, \"#9c179e\"], [0.4444444444444444, \"#bd3786\"], [0.5555555555555556, \"#d8576b\"], [0.6666666666666666, \"#ed7953\"], [0.7777777777777778, \"#fb9f3a\"], [0.8888888888888888, \"#fdca26\"], [1.0, \"#f0f921\"]], \"type\": \"heatmapgl\"}], \"histogram\": [{\"marker\": {\"colorbar\": {\"outlinewidth\": 0, \"ticks\": \"\"}}, \"type\": \"histogram\"}], \"histogram2d\": [{\"colorbar\": {\"outlinewidth\": 0, \"ticks\": \"\"}, \"colorscale\": [[0.0, \"#0d0887\"], [0.1111111111111111, \"#46039f\"], [0.2222222222222222, \"#7201a8\"], [0.3333333333333333, \"#9c179e\"], [0.4444444444444444, \"#bd3786\"], [0.5555555555555556, \"#d8576b\"], [0.6666666666666666, \"#ed7953\"], [0.7777777777777778, \"#fb9f3a\"], [0.8888888888888888, \"#fdca26\"], [1.0, \"#f0f921\"]], \"type\": \"histogram2d\"}], \"histogram2dcontour\": [{\"colorbar\": {\"outlinewidth\": 0, \"ticks\": \"\"}, \"colorscale\": [[0.0, \"#0d0887\"], [0.1111111111111111, \"#46039f\"], [0.2222222222222222, \"#7201a8\"], [0.3333333333333333, \"#9c179e\"], [0.4444444444444444, \"#bd3786\"], [0.5555555555555556, \"#d8576b\"], [0.6666666666666666, \"#ed7953\"], [0.7777777777777778, \"#fb9f3a\"], [0.8888888888888888, \"#fdca26\"], [1.0, \"#f0f921\"]], \"type\": \"histogram2dcontour\"}], \"mesh3d\": [{\"colorbar\": {\"outlinewidth\": 0, \"ticks\": \"\"}, \"type\": \"mesh3d\"}], \"parcoords\": [{\"line\": {\"colorbar\": {\"outlinewidth\": 0, \"ticks\": \"\"}}, \"type\": \"parcoords\"}], \"pie\": [{\"automargin\": true, \"type\": \"pie\"}], \"scatter\": [{\"marker\": {\"colorbar\": {\"outlinewidth\": 0, \"ticks\": \"\"}}, \"type\": \"scatter\"}], \"scatter3d\": [{\"line\": {\"colorbar\": {\"outlinewidth\": 0, \"ticks\": \"\"}}, \"marker\": {\"colorbar\": {\"outlinewidth\": 0, \"ticks\": \"\"}}, \"type\": \"scatter3d\"}], \"scattercarpet\": [{\"marker\": {\"colorbar\": {\"outlinewidth\": 0, \"ticks\": \"\"}}, \"type\": \"scattercarpet\"}], \"scattergeo\": [{\"marker\": {\"colorbar\": {\"outlinewidth\": 0, \"ticks\": \"\"}}, \"type\": \"scattergeo\"}], \"scattergl\": [{\"marker\": {\"colorbar\": {\"outlinewidth\": 0, \"ticks\": \"\"}}, \"type\": \"scattergl\"}], \"scattermapbox\": [{\"marker\": {\"colorbar\": {\"outlinewidth\": 0, \"ticks\": \"\"}}, \"type\": \"scattermapbox\"}], \"scatterpolar\": [{\"marker\": {\"colorbar\": {\"outlinewidth\": 0, \"ticks\": \"\"}}, \"type\": \"scatterpolar\"}], \"scatterpolargl\": [{\"marker\": {\"colorbar\": {\"outlinewidth\": 0, \"ticks\": \"\"}}, \"type\": \"scatterpolargl\"}], \"scatterternary\": [{\"marker\": {\"colorbar\": {\"outlinewidth\": 0, \"ticks\": \"\"}}, \"type\": \"scatterternary\"}], \"surface\": [{\"colorbar\": {\"outlinewidth\": 0, \"ticks\": \"\"}, \"colorscale\": [[0.0, \"#0d0887\"], [0.1111111111111111, \"#46039f\"], [0.2222222222222222, \"#7201a8\"], [0.3333333333333333, \"#9c179e\"], [0.4444444444444444, \"#bd3786\"], [0.5555555555555556, \"#d8576b\"], [0.6666666666666666, \"#ed7953\"], [0.7777777777777778, \"#fb9f3a\"], [0.8888888888888888, \"#fdca26\"], [1.0, \"#f0f921\"]], \"type\": \"surface\"}], \"table\": [{\"cells\": {\"fill\": {\"color\": \"#EBF0F8\"}, \"line\": {\"color\": \"white\"}}, \"header\": {\"fill\": {\"color\": \"#C8D4E3\"}, \"line\": {\"color\": \"white\"}}, \"type\": \"table\"}]}, \"layout\": {\"annotationdefaults\": {\"arrowcolor\": \"#2a3f5f\", \"arrowhead\": 0, \"arrowwidth\": 1}, \"coloraxis\": {\"colorbar\": {\"outlinewidth\": 0, \"ticks\": \"\"}}, \"colorscale\": {\"diverging\": [[0, \"#8e0152\"], [0.1, \"#c51b7d\"], [0.2, \"#de77ae\"], [0.3, \"#f1b6da\"], [0.4, \"#fde0ef\"], [0.5, \"#f7f7f7\"], [0.6, \"#e6f5d0\"], [0.7, \"#b8e186\"], [0.8, \"#7fbc41\"], [0.9, \"#4d9221\"], [1, \"#276419\"]], \"sequential\": [[0.0, \"#0d0887\"], [0.1111111111111111, \"#46039f\"], [0.2222222222222222, \"#7201a8\"], [0.3333333333333333, \"#9c179e\"], [0.4444444444444444, \"#bd3786\"], [0.5555555555555556, \"#d8576b\"], [0.6666666666666666, \"#ed7953\"], [0.7777777777777778, \"#fb9f3a\"], [0.8888888888888888, \"#fdca26\"], [1.0, \"#f0f921\"]], \"sequentialminus\": [[0.0, \"#0d0887\"], [0.1111111111111111, \"#46039f\"], [0.2222222222222222, \"#7201a8\"], [0.3333333333333333, \"#9c179e\"], [0.4444444444444444, \"#bd3786\"], [0.5555555555555556, \"#d8576b\"], [0.6666666666666666, \"#ed7953\"], [0.7777777777777778, \"#fb9f3a\"], [0.8888888888888888, \"#fdca26\"], [1.0, \"#f0f921\"]]}, \"colorway\": [\"#636efa\", \"#EF553B\", \"#00cc96\", \"#ab63fa\", \"#FFA15A\", \"#19d3f3\", \"#FF6692\", \"#B6E880\", \"#FF97FF\", \"#FECB52\"], \"font\": {\"color\": \"#2a3f5f\"}, \"geo\": {\"bgcolor\": \"white\", \"lakecolor\": \"white\", \"landcolor\": \"#E5ECF6\", \"showlakes\": true, \"showland\": true, \"subunitcolor\": \"white\"}, \"hoverlabel\": {\"align\": \"left\"}, \"hovermode\": \"closest\", \"mapbox\": {\"style\": \"light\"}, \"paper_bgcolor\": \"white\", \"plot_bgcolor\": \"#E5ECF6\", \"polar\": {\"angularaxis\": {\"gridcolor\": \"white\", \"linecolor\": \"white\", \"ticks\": \"\"}, \"bgcolor\": \"#E5ECF6\", \"radialaxis\": {\"gridcolor\": \"white\", \"linecolor\": \"white\", \"ticks\": \"\"}}, \"scene\": {\"xaxis\": {\"backgroundcolor\": \"#E5ECF6\", \"gridcolor\": \"white\", \"gridwidth\": 2, \"linecolor\": \"white\", \"showbackground\": true, \"ticks\": \"\", \"zerolinecolor\": \"white\"}, \"yaxis\": {\"backgroundcolor\": \"#E5ECF6\", \"gridcolor\": \"white\", \"gridwidth\": 2, \"linecolor\": \"white\", \"showbackground\": true, \"ticks\": \"\", \"zerolinecolor\": \"white\"}, \"zaxis\": {\"backgroundcolor\": \"#E5ECF6\", \"gridcolor\": \"white\", \"gridwidth\": 2, \"linecolor\": \"white\", \"showbackground\": true, \"ticks\": \"\", \"zerolinecolor\": \"white\"}}, \"shapedefaults\": {\"line\": {\"color\": \"#2a3f5f\"}}, \"ternary\": {\"aaxis\": {\"gridcolor\": \"white\", \"linecolor\": \"white\", \"ticks\": \"\"}, \"baxis\": {\"gridcolor\": \"white\", \"linecolor\": \"white\", \"ticks\": \"\"}, \"bgcolor\": \"#E5ECF6\", \"caxis\": {\"gridcolor\": \"white\", \"linecolor\": \"white\", \"ticks\": \"\"}}, \"title\": {\"x\": 0.05}, \"xaxis\": {\"automargin\": true, \"gridcolor\": \"white\", \"linecolor\": \"white\", \"ticks\": \"\", \"title\": {\"standoff\": 15}, \"zerolinecolor\": \"white\", \"zerolinewidth\": 2}, \"yaxis\": {\"automargin\": true, \"gridcolor\": \"white\", \"linecolor\": \"white\", \"ticks\": \"\", \"title\": {\"standoff\": 15}, \"zerolinecolor\": \"white\", \"zerolinewidth\": 2}}}, \"title\": {\"text\": \"COVID-19 - Contamina\\u00e7\\u00e3o relativa  10-04-2020 \\nCasos a cada 10 mil habitantes - E. Aritm\\u00e9tica\"}, \"xaxis\": {\"anchor\": \"y\", \"domain\": [0.0, 1.0], \"title\": {\"text\": \"Dias desde o caso n\\u00famero 50\"}}, \"yaxis\": {\"anchor\": \"x\", \"domain\": [0.0, 1.0], \"title\": {\"text\": \"Relativa\"}}},\n",
              "                        {\"responsive\": true}\n",
              "                    ).then(function(){\n",
              "                            \n",
              "var gd = document.getElementById('d37655d3-0ff8-423f-8525-e7104d7da00c');\n",
              "var x = new MutationObserver(function (mutations, observer) {{\n",
              "        var display = window.getComputedStyle(gd).display;\n",
              "        if (!display || display === 'none') {{\n",
              "            console.log([gd, 'removed!']);\n",
              "            Plotly.purge(gd);\n",
              "            observer.disconnect();\n",
              "        }}\n",
              "}});\n",
              "\n",
              "// Listen for the removal of the full notebook cells\n",
              "var notebookContainer = gd.closest('#notebook-container');\n",
              "if (notebookContainer) {{\n",
              "    x.observe(notebookContainer, {childList: true});\n",
              "}}\n",
              "\n",
              "// Listen for the clearing of the current output cell\n",
              "var outputEl = gd.closest('.output');\n",
              "if (outputEl) {{\n",
              "    x.observe(outputEl, {childList: true});\n",
              "}}\n",
              "\n",
              "                        })\n",
              "                };\n",
              "                \n",
              "            </script>\n",
              "        </div>\n",
              "</body>\n",
              "</html>"
            ]
          },
          "metadata": {
            "tags": []
          }
        }
      ]
    },
    {
      "cell_type": "code",
      "metadata": {
        "colab_type": "code",
        "id": "OXJ4Z-SOEubU",
        "outputId": "c513bdc0-49eb-48b7-9ab0-9b56b256031f",
        "colab": {
          "base_uri": "https://localhost:8080/",
          "height": 542
        }
      },
      "source": [
        "#hide_input\n",
        "\n",
        "fig = px.line(final_data, x=\"Dias desde o caso número 50\", y=\"Relativa\", color='Países e territórios',title='COVID-19 - Contaminação relativa  {} \\nCasos a cada 10 mil habitantes - E. Logarítmica'.format(today),\n",
        "              color_discrete_sequence=[\"black\", \"blue\",'green',\"darkmagenta\",\"gray\",\"brown\",\"orange\",\"magenta\",'red',\"darkblue\",\"lightgreen\",'coral','lightblue'])\n",
        "fig.update_layout(legend= {'title':'País','borderwidth':0,'orientation':'v','yanchor':'top','font':{'size':8}})\n",
        "\n",
        "fig.update_layout(yaxis_type=\"log\")\n",
        "fig.show()"
      ],
      "execution_count": 38,
      "outputs": [
        {
          "output_type": "display_data",
          "data": {
            "text/html": [
              "<html>\n",
              "<head><meta charset=\"utf-8\" /></head>\n",
              "<body>\n",
              "    <div>\n",
              "            <script src=\"https://cdnjs.cloudflare.com/ajax/libs/mathjax/2.7.5/MathJax.js?config=TeX-AMS-MML_SVG\"></script><script type=\"text/javascript\">if (window.MathJax) {MathJax.Hub.Config({SVG: {font: \"STIX-Web\"}});}</script>\n",
              "                <script type=\"text/javascript\">window.PlotlyConfig = {MathJaxConfig: 'local'};</script>\n",
              "        <script src=\"https://cdn.plot.ly/plotly-latest.min.js\"></script>    \n",
              "            <div id=\"902e5d1c-318d-4cb9-9252-e5fad232e5df\" class=\"plotly-graph-div\" style=\"height:525px; width:100%;\"></div>\n",
              "            <script type=\"text/javascript\">\n",
              "                \n",
              "                    window.PLOTLYENV=window.PLOTLYENV || {};\n",
              "                    \n",
              "                if (document.getElementById(\"902e5d1c-318d-4cb9-9252-e5fad232e5df\")) {\n",
              "                    Plotly.newPlot(\n",
              "                        '902e5d1c-318d-4cb9-9252-e5fad232e5df',\n",
              "                        [{\"hovertemplate\": \"Pa\\u00edses e territ\\u00f3rios=Brazil<br>Dias desde o caso n\\u00famero 50=%{x}<br>Relativa=%{y}<extra></extra>\", \"legendgroup\": \"Brazil\", \"line\": {\"color\": \"black\", \"dash\": \"solid\"}, \"mode\": \"lines\", \"name\": \"Brazil\", \"showlegend\": true, \"type\": \"scatter\", \"x\": [0, 1, 2, 3, 4, 5, 6, 7, 8, 9, 10, 11, 12, 13, 14, 15, 16, 17, 18, 19, 20, 21, 22, 23, 24, 25, 26, 27, 28, 29], \"xaxis\": \"x\", \"y\": [0.002484472049689441, 0.0036789297658862876, 0.0046822742474916385, 0.005781175346392738, 0.009555661729574774, 0.011180124223602485, 0.013903487816531295, 0.020449116101290014, 0.02967032967032967, 0.04319159101767797, 0.05389393215480172, 0.07386526516961299, 0.09034878165312948, 0.10516005733397038, 0.11624462494027711, 0.13927376970855232, 0.163258480649785, 0.18652651696129957, 0.20334448160535118, 0.21877687529861442, 0.2731485905398949, 0.32661251791686574, 0.3779264214046823, 0.43268036311514574, 0.4910654562828476, 0.5317725752508361, 0.5760152890587673, 0.6553750597228858, 0.760965121834687, 0.8531772575250837], \"yaxis\": \"y\"}, {\"hovertemplate\": \"Pa\\u00edses e territ\\u00f3rios=Italy<br>Dias desde o caso n\\u00famero 50=%{x}<br>Relativa=%{y}<extra></extra>\", \"legendgroup\": \"Italy\", \"line\": {\"color\": \"blue\", \"dash\": \"solid\"}, \"mode\": \"lines\", \"name\": \"Italy\", \"showlegend\": true, \"type\": \"scatter\", \"x\": [0, 1, 2, 3, 4, 5, 6, 7, 8, 9, 10, 11, 12, 13, 14, 15, 16, 17, 18, 19, 20, 21, 22, 23, 24, 25, 26, 27, 28, 29, 30, 31, 32, 33, 34, 35, 36, 37, 38, 39, 40, 41, 42, 43, 44, 45, 46, 47], \"xaxis\": \"x\", \"y\": [0.013038455190625516, 0.021785773229905925, 0.03779501567915498, 0.05314408318204324, 0.06601749463607856, 0.10727842878362766, 0.1465588380920944, 0.18616933487374154, 0.27875887110084174, 0.33602904769763986, 0.4129394289486714, 0.5098201023271167, 0.6367387357649777, 0.7651427628321505, 0.9709523023601254, 1.2171975573526985, 1.5137811520052813, 1.6750288826539033, 2.0567750453870275, 2.4943059910876384, 2.9146723881828684, 3.4918303350387854, 3.9577488034329096, 4.617923749793695, 5.199867965010728, 5.894206964845684, 6.772569730978709, 7.760521538207625, 8.842713319029542, 9.760356494471035, 10.550750949001486, 11.417065522363426, 12.27694338999835, 13.292457501237829, 14.27595312757881, 15.26192440996864, 16.122957583759696, 16.79138471694999, 17.460306981350058, 18.249546129724376, 19.019970292127415, 19.776695824393464, 20.56973097870936, 21.282059745832644, 21.876052153820762, 22.377620069318368, 23.010727842878364, 23.704571711503547], \"yaxis\": \"y\"}, {\"hovertemplate\": \"Pa\\u00edses e territ\\u00f3rios=Japan<br>Dias desde o caso n\\u00famero 50=%{x}<br>Relativa=%{y}<extra></extra>\", \"legendgroup\": \"Japan\", \"line\": {\"color\": \"green\", \"dash\": \"solid\"}, \"mode\": \"lines\", \"name\": \"Japan\", \"showlegend\": true, \"type\": \"scatter\", \"x\": [0, 1, 2, 3, 4, 5, 6, 7, 8, 9, 10, 11, 12, 13, 14, 15, 16, 17, 18, 19, 20, 21, 22, 23, 24, 25, 26, 27, 28, 29, 30, 31, 32, 33, 34, 35, 36, 37, 38, 39, 40, 41, 42, 43, 44, 45, 46, 47, 48, 49, 50, 51, 52, 53, 54], \"xaxis\": \"x\", \"y\": [0.004100946372239748, 0.004652996845425868, 0.004652996845425868, 0.0052050473186119875, 0.006624605678233439, 0.007334384858044164, 0.008280757097791799, 0.010410094637223975, 0.011356466876971609, 0.011356466876971609, 0.012933753943217666, 0.014668769716088327, 0.016561514195583597, 0.018138801261829655, 0.018848580441640377, 0.02003154574132492, 0.02003154574132492, 0.02113564668769716, 0.025, 0.02752365930599369, 0.032176656151419555, 0.03588328075709779, 0.038485804416403785, 0.04053627760252366, 0.044794952681388014, 0.04881703470031546, 0.05323343848580442, 0.05812302839116719, 0.061514195583596214, 0.06419558359621451, 0.06498422712933755, 0.06537854889589906, 0.06884858044164038, 0.0749211356466877, 0.07941640378548896, 0.08249211356466878, 0.0858832807570978, 0.08895899053627761, 0.09408517350157729, 0.1, 0.10757097791798108, 0.11821766561514195, 0.1335173501577287, 0.1471608832807571, 0.15402208201892745, 0.15402208201892745, 0.1717665615141956, 0.20638801261829653, 0.23146687697160884, 0.25796529968454257, 0.2881703470031546, 0.30102523659305996, 0.3080441640378549, 0.33572555205047316, 0.36805993690851735], \"yaxis\": \"y\"}, {\"hovertemplate\": \"Pa\\u00edses e territ\\u00f3rios=United_Kingdom<br>Dias desde o caso n\\u00famero 50=%{x}<br>Relativa=%{y}<extra></extra>\", \"legendgroup\": \"United_Kingdom\", \"line\": {\"color\": \"darkmagenta\", \"dash\": \"solid\"}, \"mode\": \"lines\", \"name\": \"United_Kingdom\", \"showlegend\": true, \"type\": \"scatter\", \"x\": [0, 1, 2, 3, 4, 5, 6, 7, 8, 9, 10, 11, 12, 13, 14, 15, 16, 17, 18, 19, 20, 21, 22, 23, 24, 25, 26, 27, 28, 29, 30, 31, 32, 33, 34, 35, 36, 37], \"xaxis\": \"x\", \"y\": [0.007722592368261659, 0.0128709872804361, 0.017413688673531193, 0.024682010902483342, 0.03119321623258631, 0.04133858267716536, 0.04860690490611751, 0.056480920654149, 0.06904906117504543, 0.08933979406420352, 0.10705632949727438, 0.17262265293761356, 0.2106299212598425, 0.23364627498485765, 0.2952755905511811, 0.3982434887946699, 0.49621441550575407, 0.6031193216232587, 0.7598425196850394, 0.8605390672319806, 1.0069654754694124, 1.223046638400969, 1.4429133858267718, 1.7652937613567534, 2.202150211992732, 2.5876741368867355, 2.9560872198667476, 3.352665051483949, 3.808298001211387, 4.46305269533616, 5.105693519079346, 5.7795275590551185, 6.3450938824954575, 7.238946093276802, 7.81465778316172, 8.364930345245305, 9.196396123561478, 9.854179285281647], \"yaxis\": \"y\"}, {\"hovertemplate\": \"Pa\\u00edses e territ\\u00f3rios=United_States_of_America<br>Dias desde o caso n\\u00famero 50=%{x}<br>Relativa=%{y}<extra></extra>\", \"legendgroup\": \"United_States_of_America\", \"line\": {\"color\": \"gray\", \"dash\": \"solid\"}, \"mode\": \"lines\", \"name\": \"United_States_of_America\", \"showlegend\": true, \"type\": \"scatter\", \"x\": [0, 1, 2, 3, 4, 5, 6, 7, 8, 9, 10, 11, 12, 13, 14, 15, 16, 17, 18, 19, 20, 21, 22, 23, 24, 25, 26, 27, 28, 29, 30, 31, 32, 33, 34, 35, 36, 37, 38, 39, 40, 41, 42, 43, 44, 45], \"xaxis\": \"x\", \"y\": [0.0016272643536997236, 0.0016272643536997236, 0.0018114829597789376, 0.00184218606079214, 0.002026404666871354, 0.002118513969910961, 0.0027325759901750076, 0.0031624194043598404, 0.003837887626650292, 0.004881793061099171, 0.007153822536076143, 0.010377648142462389, 0.01329444273871661, 0.017009517961314093, 0.02315013816395456, 0.031470678538532394, 0.040282468529321463, 0.05105925698495548, 0.06674854160270187, 0.09060485108996008, 0.1158735032238256, 0.14310715382253608, 0.1973288302118514, 0.2890696960393, 0.4375191894381332, 0.6025176542830826, 0.8212158428001228, 1.0809333742708014, 1.4259134172551429, 1.6957629720601781, 2.124470371507522, 2.6401903592262816, 3.2141848326680993, 3.827602087810869, 4.391311022413264, 5.054344488793368, 5.8218606079214, 6.654006754682223, 7.538839422781701, 8.534387473134787, 9.586644151059257, 10.36644151059257, 11.304758980657047, 12.244673011974209, 13.26779244703715, 14.308658274485722], \"yaxis\": \"y\"}, {\"hovertemplate\": \"Pa\\u00edses e territ\\u00f3rios=France<br>Dias desde o caso n\\u00famero 50=%{x}<br>Relativa=%{y}<extra></extra>\", \"legendgroup\": \"France\", \"line\": {\"color\": \"brown\", \"dash\": \"solid\"}, \"mode\": \"lines\", \"name\": \"France\", \"showlegend\": true, \"type\": \"scatter\", \"x\": [0, 1, 2, 3, 4, 5, 6, 7, 8, 9, 10, 11, 12, 13, 14, 15, 16, 17, 18, 19, 20, 21, 22, 23, 24, 25, 26, 27, 28, 29, 30, 31, 32, 33, 34, 35, 36, 37, 38, 39, 40, 41], \"xaxis\": \"x\", \"y\": [0.008536768009585144, 0.014976785981728321, 0.01946982177624682, 0.026658679047476413, 0.03175078628126404, 0.04268384004792571, 0.0633518047027108, 0.0918076980679946, 0.10723378762917478, 0.1686386101542609, 0.2114722180620039, 0.26718586191403326, 0.341620488243223, 0.4307323648345065, 0.5483001347910739, 0.6738056013179572, 0.8121911037891268, 0.9934102141680395, 1.1577055563875993, 1.3679796315710648, 1.646697618691029, 1.888872248015576, 2.165493485098098, 2.3989815785532427, 2.9737906245319756, 3.34012280964505, 3.7790924067695073, 4.366481952972892, 4.936947731016923, 5.627527332634417, 6.016774000299535, 6.672158154859967, 7.8070989965553395, 8.535120563127153, 8.852029354500525, 9.635764564924367, 10.274824022764715, 10.555339224202486, 11.141231091807699, 11.706904298337577, 12.288153362288453, 12.930058409465328], \"yaxis\": \"y\"}, {\"hovertemplate\": \"Pa\\u00edses e territ\\u00f3rios=South_Korea<br>Dias desde o caso n\\u00famero 50=%{x}<br>Relativa=%{y}<extra></extra>\", \"legendgroup\": \"South_Korea\", \"line\": {\"color\": \"orange\", \"dash\": \"solid\"}, \"mode\": \"lines\", \"name\": \"South_Korea\", \"showlegend\": true, \"type\": \"scatter\", \"x\": [0, 1, 2, 3, 4, 5, 6, 7, 8, 9, 10, 11, 12, 13, 14, 15, 16, 17, 18, 19, 20, 21, 22, 23, 24, 25, 26, 27, 28, 29, 30, 31, 32, 33, 34, 35, 36, 37, 38, 39, 40, 41, 42, 43, 44, 45, 46, 47, 48, 49, 50], \"xaxis\": \"x\", \"y\": [0.015543034777540314, 0.030114629881484358, 0.0670293374781426, 0.11676704876627161, 0.1480474062560715, 0.1733048377695745, 0.22265397318826502, 0.30988925587721, 0.39285020400233145, 0.5694579366621333, 0.6850592578200894, 0.8183407810374975, 0.93491354186905, 1.035166116184185, 1.1202642315912181, 1.2209053817757918, 1.3147464542451914, 1.3860501262871576, 1.4342335340975325, 1.4596852535457547, 1.5067029337478142, 1.5288517583058092, 1.5502234311249272, 1.5710122401398874, 1.5857781231785506, 1.6001554303477754, 1.6164756168641927, 1.6345443947930833, 1.66407616087041, 1.6809792111909851, 1.7095395375947153, 1.7285797551972022, 1.7410141830192345, 1.7557800660578977, 1.7752088595298232, 1.7954148047406255, 1.8130950068000777, 1.8414610452690887, 1.8618612784146105, 1.8770157373227123, 1.901301729162619, 1.901301729162619, 1.9382164367592774, 1.954925199145133, 1.973188265008743, 1.9889255877210026, 1.9980571206528075, 2.0071886535846124, 2.017485914124733, 2.025063143578784, 2.0303089178162037], \"yaxis\": \"y\"}, {\"hovertemplate\": \"Pa\\u00edses e territ\\u00f3rios=Spain<br>Dias desde o caso n\\u00famero 50=%{x}<br>Relativa=%{y}<extra></extra>\", \"legendgroup\": \"Spain\", \"line\": {\"color\": \"magenta\", \"dash\": \"solid\"}, \"mode\": \"lines\", \"name\": \"Spain\", \"showlegend\": true, \"type\": \"scatter\", \"x\": [0, 1, 2, 3, 4, 5, 6, 7, 8, 9, 10, 11, 12, 13, 14, 15, 16, 17, 18, 19, 20, 21, 22, 23, 24, 25, 26, 27, 28, 29, 30, 31, 32, 33, 34, 35, 36, 37, 38, 39, 40], \"xaxis\": \"x\", \"y\": [0.014184397163120567, 0.017837954008166772, 0.024500322372662798, 0.032452181388351604, 0.04298302170642596, 0.05609284332688588, 0.08037825059101655, 0.09241349666881582, 0.12658499892542446, 0.2587577906726843, 0.35224586288416077, 0.4599183322587578, 0.645604986030518, 0.9093058241994412, 1.2364066193853427, 1.6662368364496023, 1.975284762518805, 2.402321083172147, 2.9477756286266925, 3.68514936600043, 4.294003868471954, 5.356973995271868, 6.140554480980013, 7.111326026219643, 8.526327100795186, 10.232108317214701, 12.07565011820331, 13.767246937459703, 15.527186761229315, 16.934665807006233, 18.3096926713948, 20.2916398022781, 21.95056952503761, 23.691811734364926, 25.297657425317, 26.807650977863744, 28.10208467655276, 29.020416935310553, 30.197721899849558, 31.52589727057812, 32.762948635289064], \"yaxis\": \"y\"}, {\"hovertemplate\": \"Pa\\u00edses e territ\\u00f3rios=Argentina<br>Dias desde o caso n\\u00famero 50=%{x}<br>Relativa=%{y}<extra></extra>\", \"legendgroup\": \"Argentina\", \"line\": {\"color\": \"red\", \"dash\": \"solid\"}, \"mode\": \"lines\", \"name\": \"Argentina\", \"showlegend\": true, \"type\": \"scatter\", \"x\": [0, 1, 2, 3, 4, 5, 6, 7, 8, 9, 10, 11, 12, 13, 14, 15, 16, 17, 18, 19, 20, 21, 22, 23, 24, 25], \"xaxis\": \"x\", \"y\": [0.012649649875762368, 0.01468262932008132, 0.01784504178902191, 0.021911000677659814, 0.02891348543031398, 0.03569008357804382, 0.0508244861079738, 0.060085836909871244, 0.06799186808222273, 0.08741811610571493, 0.11339507567201265, 0.13304721030042918, 0.15586175739778632, 0.16828552066862434, 0.18522701603794894, 0.21820646035690083, 0.21820646035690083, 0.2559295233792636, 0.2559295233792636, 0.2857465552292749, 0.32776146374519993, 0.3510277840524057, 0.36774339281680596, 0.3873955274452225, 0.40546645583916874, 0.4278292297266772], \"yaxis\": \"y\"}, {\"hovertemplate\": \"Pa\\u00edses e territ\\u00f3rios=India<br>Dias desde o caso n\\u00famero 50=%{x}<br>Relativa=%{y}<extra></extra>\", \"legendgroup\": \"India\", \"line\": {\"color\": \"darkblue\", \"dash\": \"solid\"}, \"mode\": \"lines\", \"name\": \"India\", \"showlegend\": true, \"type\": \"scatter\", \"x\": [0, 1, 2, 3, 4, 5, 6, 7, 8, 9, 10, 11, 12, 13, 14, 15, 16, 17, 18, 19, 20, 21, 22, 23, 24, 25, 26, 27, 28, 29, 30], \"xaxis\": \"x\", \"y\": [0.0003734129947722181, 0.0005451829723674384, 0.0005601194921583271, 0.000619865571321882, 0.0006721433905899926, 0.0006945481702763256, 0.0009335324869305452, 0.0010231516056758774, 0.0012322628827483196, 0.001426437640029873, 0.0017251680358476476, 0.002389843166542196, 0.0032785660941000746, 0.003674383868558626, 0.004197162061239731, 0.004846900672143391, 0.005407020164301717, 0.006519790888722928, 0.0073114264376400295, 0.007998506348020911, 0.009342793129200897, 0.010433159073935773, 0.01467513069454817, 0.017184466019417477, 0.021672890216579536, 0.025197908887229274, 0.03037341299477222, 0.03301717699775952, 0.03879014189693801, 0.04282300224047797, 0.04788648244958925], \"yaxis\": \"y\"}, {\"hovertemplate\": \"Pa\\u00edses e territ\\u00f3rios=Mexico<br>Dias desde o caso n\\u00famero 50=%{x}<br>Relativa=%{y}<extra></extra>\", \"legendgroup\": \"Mexico\", \"line\": {\"color\": \"lightgreen\", \"dash\": \"solid\"}, \"mode\": \"lines\", \"name\": \"Mexico\", \"showlegend\": true, \"type\": \"scatter\", \"x\": [0, 1, 2, 3, 4, 5, 6, 7, 8, 9, 10, 11, 12, 13, 14, 15, 16, 17, 18, 19, 20, 21, 22, 23, 24, 25], \"xaxis\": \"x\", \"y\": [0.01139050075220288, 0.017623038899634645, 0.019987105093488073, 0.025359982806791317, 0.03524607779926929, 0.04362776703202235, 0.05394369224156458, 0.06791317429615303, 0.07887384483129165, 0.08704061895551257, 0.10208467655276166, 0.12572533849129594, 0.15409413281753706, 0.18224801203524607, 0.2134107027724049, 0.23511712873415, 0.2611218568665377, 0.29615301955727485, 0.32452181388351603, 0.3627767032022351, 0.40618955512572535, 0.46056307758435416, 0.5241779497098646, 0.5985385772619816, 0.6836449602407049, 0.7395228884590587], \"yaxis\": \"y\"}, {\"hovertemplate\": \"Pa\\u00edses e territ\\u00f3rios=Germany<br>Dias desde o caso n\\u00famero 50=%{x}<br>Relativa=%{y}<extra></extra>\", \"legendgroup\": \"Germany\", \"line\": {\"color\": \"coral\", \"dash\": \"solid\"}, \"mode\": \"lines\", \"name\": \"Germany\", \"showlegend\": true, \"type\": \"scatter\", \"x\": [0, 1, 2, 3, 4, 5, 6, 7, 8, 9, 10, 11, 12, 13, 14, 15, 16, 17, 18, 19, 20, 21, 22, 23, 24, 25, 26, 27, 28, 29, 30, 31, 32, 33, 34, 35, 36, 37, 38, 39, 40, 41], \"xaxis\": \"x\", \"y\": [0.006907416383906932, 0.01345128453708192, 0.015632573921473582, 0.01902569074163839, 0.02375181774115366, 0.031749878817256424, 0.048473097430925836, 0.08288899660688318, 0.10264178380998545, 0.10930683470673776, 0.1380271449345613, 0.1570528356761997, 0.18989335918565195, 0.2870819195346583, 0.37106156083373726, 0.45988851187590885, 0.586282113427048, 0.7285506543868153, 0.8671837130392632, 0.993456131846825, 1.7132816286960737, 2.2039505574406206, 2.600945225399903, 3.0021812893843918, 3.5399903053805137, 3.8238002908385846, 4.424139602520601, 5.12457586039748, 5.887300048473097, 6.367789626757149, 6.943528841492971, 7.502787203102279, 8.163596703829375, 8.909597673291323, 9.657779932137663, 10.394813378574892, 11.11415414444983, 11.559743092583616, 12.024357731459041, 12.509452253999031, 13.112215220552594, 13.757270964614639], \"yaxis\": \"y\"}, {\"hovertemplate\": \"Pa\\u00edses e territ\\u00f3rios=Czechia<br>Dias desde o caso n\\u00famero 50=%{x}<br>Relativa=%{y}<extra></extra>\", \"legendgroup\": \"Czechia\", \"line\": {\"color\": \"lightblue\", \"dash\": \"solid\"}, \"mode\": \"lines\", \"name\": \"Czechia\", \"showlegend\": true, \"type\": \"scatter\", \"x\": [0, 1, 2, 3, 4, 5, 6, 7, 8, 9, 10, 11, 12, 13, 14, 15, 16, 17, 18, 19, 20, 21, 22, 23, 24, 25, 26, 27, 28, 29, 30], \"xaxis\": \"x\", \"y\": [0.05920496193966733, 0.08833756225918618, 0.10901231087303825, 0.14096419509444602, 0.20110891833474298, 0.28004886758763275, 0.3232778874165962, 0.4078564044732638, 0.49055539892867217, 0.6521943426369703, 0.8495442157691947, 0.935062494126492, 1.0948219152335308, 1.1615449675782352, 1.3100272530777184, 1.554365191241425, 1.937787801898318, 2.14171600413495, 2.5025843435767317, 2.658584719481252, 2.8211634244901798, 3.10873038248285, 3.3728033079597783, 3.6255990978291517, 3.9375998496381923, 4.202612536415751, 4.310685085988159, 4.531528991636125, 4.714782445258905, 4.992012028944648, 5.233530683206466], \"yaxis\": \"y\"}, {\"hovertemplate\": \"Pa\\u00edses e territ\\u00f3rios=China<br>Dias desde o caso n\\u00famero 50=%{x}<br>Relativa=%{y}<extra></extra>\", \"legendgroup\": \"China\", \"line\": {\"color\": \"black\", \"dash\": \"solid\"}, \"mode\": \"lines\", \"name\": \"China\", \"showlegend\": true, \"type\": \"scatter\", \"x\": [0, 1, 2, 3, 4, 5, 6, 7, 8, 9, 10, 11, 12, 13, 14, 15, 16, 17, 18, 19, 20, 21, 22, 23, 24, 25, 26, 27, 28, 29, 30, 31, 32, 33, 34, 35, 36, 37, 38, 39, 40, 41, 42, 43, 44, 45, 46, 47, 48, 49, 50, 51, 52, 53, 54, 55, 56, 57, 58, 59, 60, 61, 62, 63, 64, 65, 66, 67, 68, 69, 70, 71, 72, 73, 74, 75, 76, 77, 78, 79, 80, 81, 82, 83, 84, 85, 86, 87, 88, 89, 90, 91, 92, 93, 94, 95, 96], \"xaxis\": \"x\", \"y\": [0.0004256854256854257, 0.0004256854256854257, 0.0004256854256854257, 0.0004256854256854257, 0.0004256854256854257, 0.0004256854256854257, 0.0004256854256854257, 0.0004256854256854257, 0.0004256854256854257, 0.0004256854256854257, 0.0004256854256854257, 0.0004256854256854257, 0.00045454545454545455, 0.0005772005772005772, 0.0015584415584415584, 0.0016955266955266956, 0.002784992784992785, 0.0037950937950937953, 0.004494949494949495, 0.006363636363636364, 0.009545454545454546, 0.014343434343434344, 0.02002164502164502, 0.03266955266955267, 0.04324675324675325, 0.0558008658008658, 0.07008658008658009, 0.0852020202020202, 0.10388888888888889, 0.12417748917748918, 0.14753246753246754, 0.17546897546897547, 0.20235930735930735, 0.22515873015873017, 0.24981962481962483, 0.2686291486291486, 0.29008658008658006, 0.3080519480519481, 0.3226839826839827, 0.43192640692640694, 0.4619119769119769, 0.4802236652236652, 0.4947041847041847, 0.5095093795093795, 0.5231457431457431, 0.5357720057720058, 0.5386147186147187, 0.54504329004329, 0.551002886002886, 0.5556709956709956, 0.5572438672438672, 0.560959595959596, 0.5639177489177489, 0.5670851370851371, 0.5694588744588744, 0.5725468975468976, 0.5766883116883117, 0.5781673881673882, 0.5790836940836941, 0.57994227994228, 0.5807864357864357, 0.582012987012987, 0.5827417027417028, 0.5830735930735931, 0.5833982683982684, 0.5835425685425686, 0.5837518037518038, 0.583924963924964, 0.5840836940836941, 0.5842207792207792, 0.5843795093795093, 0.5845598845598846, 0.5848701298701299, 0.585036075036075, 0.5853535353535354, 0.5860678210678211, 0.5864430014430014, 0.5869119769119769, 0.5879076479076479, 0.5884054834054834, 0.5889682539682539, 0.5897041847041847, 0.5903823953823953, 0.5912409812409812, 0.5920562770562771, 0.5927633477633477, 0.5933694083694083, 0.5937590187590187, 0.5944805194805195, 0.59498556998557, 0.5954329004329004, 0.5957792207792207, 0.5962626262626263, 0.5966666666666667, 0.5972871572871573, 0.5979076479076479, 0.5983044733044733], \"yaxis\": \"y\"}],\n",
              "                        {\"legend\": {\"borderwidth\": 0, \"font\": {\"size\": 8}, \"orientation\": \"v\", \"title\": {\"text\": \"Pa\\u00eds\"}, \"tracegroupgap\": 0, \"yanchor\": \"top\"}, \"template\": {\"data\": {\"bar\": [{\"error_x\": {\"color\": \"#2a3f5f\"}, \"error_y\": {\"color\": \"#2a3f5f\"}, \"marker\": {\"line\": {\"color\": \"#E5ECF6\", \"width\": 0.5}}, \"type\": \"bar\"}], \"barpolar\": [{\"marker\": {\"line\": {\"color\": \"#E5ECF6\", \"width\": 0.5}}, \"type\": \"barpolar\"}], \"carpet\": [{\"aaxis\": {\"endlinecolor\": \"#2a3f5f\", \"gridcolor\": \"white\", \"linecolor\": \"white\", \"minorgridcolor\": \"white\", \"startlinecolor\": \"#2a3f5f\"}, \"baxis\": {\"endlinecolor\": \"#2a3f5f\", \"gridcolor\": \"white\", \"linecolor\": \"white\", \"minorgridcolor\": \"white\", \"startlinecolor\": \"#2a3f5f\"}, \"type\": \"carpet\"}], \"choropleth\": [{\"colorbar\": {\"outlinewidth\": 0, \"ticks\": \"\"}, \"type\": \"choropleth\"}], \"contour\": [{\"colorbar\": {\"outlinewidth\": 0, \"ticks\": \"\"}, \"colorscale\": [[0.0, \"#0d0887\"], [0.1111111111111111, \"#46039f\"], [0.2222222222222222, \"#7201a8\"], [0.3333333333333333, \"#9c179e\"], [0.4444444444444444, \"#bd3786\"], [0.5555555555555556, \"#d8576b\"], [0.6666666666666666, \"#ed7953\"], [0.7777777777777778, \"#fb9f3a\"], [0.8888888888888888, \"#fdca26\"], [1.0, \"#f0f921\"]], \"type\": \"contour\"}], \"contourcarpet\": [{\"colorbar\": {\"outlinewidth\": 0, \"ticks\": \"\"}, \"type\": \"contourcarpet\"}], \"heatmap\": [{\"colorbar\": {\"outlinewidth\": 0, \"ticks\": \"\"}, \"colorscale\": [[0.0, \"#0d0887\"], [0.1111111111111111, \"#46039f\"], [0.2222222222222222, \"#7201a8\"], [0.3333333333333333, \"#9c179e\"], [0.4444444444444444, \"#bd3786\"], [0.5555555555555556, \"#d8576b\"], [0.6666666666666666, \"#ed7953\"], [0.7777777777777778, \"#fb9f3a\"], [0.8888888888888888, \"#fdca26\"], [1.0, \"#f0f921\"]], \"type\": \"heatmap\"}], \"heatmapgl\": [{\"colorbar\": {\"outlinewidth\": 0, \"ticks\": \"\"}, \"colorscale\": [[0.0, \"#0d0887\"], [0.1111111111111111, \"#46039f\"], [0.2222222222222222, \"#7201a8\"], [0.3333333333333333, \"#9c179e\"], [0.4444444444444444, \"#bd3786\"], [0.5555555555555556, \"#d8576b\"], [0.6666666666666666, \"#ed7953\"], [0.7777777777777778, \"#fb9f3a\"], [0.8888888888888888, \"#fdca26\"], [1.0, \"#f0f921\"]], \"type\": \"heatmapgl\"}], \"histogram\": [{\"marker\": {\"colorbar\": {\"outlinewidth\": 0, \"ticks\": \"\"}}, \"type\": \"histogram\"}], \"histogram2d\": [{\"colorbar\": {\"outlinewidth\": 0, \"ticks\": \"\"}, \"colorscale\": [[0.0, \"#0d0887\"], [0.1111111111111111, \"#46039f\"], [0.2222222222222222, \"#7201a8\"], [0.3333333333333333, \"#9c179e\"], [0.4444444444444444, \"#bd3786\"], [0.5555555555555556, \"#d8576b\"], [0.6666666666666666, \"#ed7953\"], [0.7777777777777778, \"#fb9f3a\"], [0.8888888888888888, \"#fdca26\"], [1.0, \"#f0f921\"]], \"type\": \"histogram2d\"}], \"histogram2dcontour\": [{\"colorbar\": {\"outlinewidth\": 0, \"ticks\": \"\"}, \"colorscale\": [[0.0, \"#0d0887\"], [0.1111111111111111, \"#46039f\"], [0.2222222222222222, \"#7201a8\"], [0.3333333333333333, \"#9c179e\"], [0.4444444444444444, \"#bd3786\"], [0.5555555555555556, \"#d8576b\"], [0.6666666666666666, \"#ed7953\"], [0.7777777777777778, \"#fb9f3a\"], [0.8888888888888888, \"#fdca26\"], [1.0, \"#f0f921\"]], \"type\": \"histogram2dcontour\"}], \"mesh3d\": [{\"colorbar\": {\"outlinewidth\": 0, \"ticks\": \"\"}, \"type\": \"mesh3d\"}], \"parcoords\": [{\"line\": {\"colorbar\": {\"outlinewidth\": 0, \"ticks\": \"\"}}, \"type\": \"parcoords\"}], \"pie\": [{\"automargin\": true, \"type\": \"pie\"}], \"scatter\": [{\"marker\": {\"colorbar\": {\"outlinewidth\": 0, \"ticks\": \"\"}}, \"type\": \"scatter\"}], \"scatter3d\": [{\"line\": {\"colorbar\": {\"outlinewidth\": 0, \"ticks\": \"\"}}, \"marker\": {\"colorbar\": {\"outlinewidth\": 0, \"ticks\": \"\"}}, \"type\": \"scatter3d\"}], \"scattercarpet\": [{\"marker\": {\"colorbar\": {\"outlinewidth\": 0, \"ticks\": \"\"}}, \"type\": \"scattercarpet\"}], \"scattergeo\": [{\"marker\": {\"colorbar\": {\"outlinewidth\": 0, \"ticks\": \"\"}}, \"type\": \"scattergeo\"}], \"scattergl\": [{\"marker\": {\"colorbar\": {\"outlinewidth\": 0, \"ticks\": \"\"}}, \"type\": \"scattergl\"}], \"scattermapbox\": [{\"marker\": {\"colorbar\": {\"outlinewidth\": 0, \"ticks\": \"\"}}, \"type\": \"scattermapbox\"}], \"scatterpolar\": [{\"marker\": {\"colorbar\": {\"outlinewidth\": 0, \"ticks\": \"\"}}, \"type\": \"scatterpolar\"}], \"scatterpolargl\": [{\"marker\": {\"colorbar\": {\"outlinewidth\": 0, \"ticks\": \"\"}}, \"type\": \"scatterpolargl\"}], \"scatterternary\": [{\"marker\": {\"colorbar\": {\"outlinewidth\": 0, \"ticks\": \"\"}}, \"type\": \"scatterternary\"}], \"surface\": [{\"colorbar\": {\"outlinewidth\": 0, \"ticks\": \"\"}, \"colorscale\": [[0.0, \"#0d0887\"], [0.1111111111111111, \"#46039f\"], [0.2222222222222222, \"#7201a8\"], [0.3333333333333333, \"#9c179e\"], [0.4444444444444444, \"#bd3786\"], [0.5555555555555556, \"#d8576b\"], [0.6666666666666666, \"#ed7953\"], [0.7777777777777778, \"#fb9f3a\"], [0.8888888888888888, \"#fdca26\"], [1.0, \"#f0f921\"]], \"type\": \"surface\"}], \"table\": [{\"cells\": {\"fill\": {\"color\": \"#EBF0F8\"}, \"line\": {\"color\": \"white\"}}, \"header\": {\"fill\": {\"color\": \"#C8D4E3\"}, \"line\": {\"color\": \"white\"}}, \"type\": \"table\"}]}, \"layout\": {\"annotationdefaults\": {\"arrowcolor\": \"#2a3f5f\", \"arrowhead\": 0, \"arrowwidth\": 1}, \"coloraxis\": {\"colorbar\": {\"outlinewidth\": 0, \"ticks\": \"\"}}, \"colorscale\": {\"diverging\": [[0, \"#8e0152\"], [0.1, \"#c51b7d\"], [0.2, \"#de77ae\"], [0.3, \"#f1b6da\"], [0.4, \"#fde0ef\"], [0.5, \"#f7f7f7\"], [0.6, \"#e6f5d0\"], [0.7, \"#b8e186\"], [0.8, \"#7fbc41\"], [0.9, \"#4d9221\"], [1, \"#276419\"]], \"sequential\": [[0.0, \"#0d0887\"], [0.1111111111111111, \"#46039f\"], [0.2222222222222222, \"#7201a8\"], [0.3333333333333333, \"#9c179e\"], [0.4444444444444444, \"#bd3786\"], [0.5555555555555556, \"#d8576b\"], [0.6666666666666666, \"#ed7953\"], [0.7777777777777778, \"#fb9f3a\"], [0.8888888888888888, \"#fdca26\"], [1.0, \"#f0f921\"]], \"sequentialminus\": [[0.0, \"#0d0887\"], [0.1111111111111111, \"#46039f\"], [0.2222222222222222, \"#7201a8\"], [0.3333333333333333, \"#9c179e\"], [0.4444444444444444, \"#bd3786\"], [0.5555555555555556, \"#d8576b\"], [0.6666666666666666, \"#ed7953\"], [0.7777777777777778, \"#fb9f3a\"], [0.8888888888888888, \"#fdca26\"], [1.0, \"#f0f921\"]]}, \"colorway\": [\"#636efa\", \"#EF553B\", \"#00cc96\", \"#ab63fa\", \"#FFA15A\", \"#19d3f3\", \"#FF6692\", \"#B6E880\", \"#FF97FF\", \"#FECB52\"], \"font\": {\"color\": \"#2a3f5f\"}, \"geo\": {\"bgcolor\": \"white\", \"lakecolor\": \"white\", \"landcolor\": \"#E5ECF6\", \"showlakes\": true, \"showland\": true, \"subunitcolor\": \"white\"}, \"hoverlabel\": {\"align\": \"left\"}, \"hovermode\": \"closest\", \"mapbox\": {\"style\": \"light\"}, \"paper_bgcolor\": \"white\", \"plot_bgcolor\": \"#E5ECF6\", \"polar\": {\"angularaxis\": {\"gridcolor\": \"white\", \"linecolor\": \"white\", \"ticks\": \"\"}, \"bgcolor\": \"#E5ECF6\", \"radialaxis\": {\"gridcolor\": \"white\", \"linecolor\": \"white\", \"ticks\": \"\"}}, \"scene\": {\"xaxis\": {\"backgroundcolor\": \"#E5ECF6\", \"gridcolor\": \"white\", \"gridwidth\": 2, \"linecolor\": \"white\", \"showbackground\": true, \"ticks\": \"\", \"zerolinecolor\": \"white\"}, \"yaxis\": {\"backgroundcolor\": \"#E5ECF6\", \"gridcolor\": \"white\", \"gridwidth\": 2, \"linecolor\": \"white\", \"showbackground\": true, \"ticks\": \"\", \"zerolinecolor\": \"white\"}, \"zaxis\": {\"backgroundcolor\": \"#E5ECF6\", \"gridcolor\": \"white\", \"gridwidth\": 2, \"linecolor\": \"white\", \"showbackground\": true, \"ticks\": \"\", \"zerolinecolor\": \"white\"}}, \"shapedefaults\": {\"line\": {\"color\": \"#2a3f5f\"}}, \"ternary\": {\"aaxis\": {\"gridcolor\": \"white\", \"linecolor\": \"white\", \"ticks\": \"\"}, \"baxis\": {\"gridcolor\": \"white\", \"linecolor\": \"white\", \"ticks\": \"\"}, \"bgcolor\": \"#E5ECF6\", \"caxis\": {\"gridcolor\": \"white\", \"linecolor\": \"white\", \"ticks\": \"\"}}, \"title\": {\"x\": 0.05}, \"xaxis\": {\"automargin\": true, \"gridcolor\": \"white\", \"linecolor\": \"white\", \"ticks\": \"\", \"title\": {\"standoff\": 15}, \"zerolinecolor\": \"white\", \"zerolinewidth\": 2}, \"yaxis\": {\"automargin\": true, \"gridcolor\": \"white\", \"linecolor\": \"white\", \"ticks\": \"\", \"title\": {\"standoff\": 15}, \"zerolinecolor\": \"white\", \"zerolinewidth\": 2}}}, \"title\": {\"text\": \"COVID-19 - Contamina\\u00e7\\u00e3o relativa  10-04-2020 \\nCasos a cada 10 mil habitantes - E. Logar\\u00edtmica\"}, \"xaxis\": {\"anchor\": \"y\", \"domain\": [0.0, 1.0], \"title\": {\"text\": \"Dias desde o caso n\\u00famero 50\"}}, \"yaxis\": {\"anchor\": \"x\", \"domain\": [0.0, 1.0], \"title\": {\"text\": \"Relativa\"}, \"type\": \"log\"}},\n",
              "                        {\"responsive\": true}\n",
              "                    ).then(function(){\n",
              "                            \n",
              "var gd = document.getElementById('902e5d1c-318d-4cb9-9252-e5fad232e5df');\n",
              "var x = new MutationObserver(function (mutations, observer) {{\n",
              "        var display = window.getComputedStyle(gd).display;\n",
              "        if (!display || display === 'none') {{\n",
              "            console.log([gd, 'removed!']);\n",
              "            Plotly.purge(gd);\n",
              "            observer.disconnect();\n",
              "        }}\n",
              "}});\n",
              "\n",
              "// Listen for the removal of the full notebook cells\n",
              "var notebookContainer = gd.closest('#notebook-container');\n",
              "if (notebookContainer) {{\n",
              "    x.observe(notebookContainer, {childList: true});\n",
              "}}\n",
              "\n",
              "// Listen for the clearing of the current output cell\n",
              "var outputEl = gd.closest('.output');\n",
              "if (outputEl) {{\n",
              "    x.observe(outputEl, {childList: true});\n",
              "}}\n",
              "\n",
              "                        })\n",
              "                };\n",
              "                \n",
              "            </script>\n",
              "        </div>\n",
              "</body>\n",
              "</html>"
            ]
          },
          "metadata": {
            "tags": []
          }
        }
      ]
    },
    {
      "cell_type": "markdown",
      "metadata": {
        "colab_type": "text",
        "id": "Lus3_NdWU6m3"
      },
      "source": [
        "<center> <h2> Mortes </h2> </center>"
      ]
    },
    {
      "cell_type": "code",
      "metadata": {
        "colab_type": "code",
        "id": "u3K9s3bWkBsx",
        "colab": {}
      },
      "source": [
        "#hide\n",
        "mortos = data2[['dateRep','deaths','countriesAndTerritories']]\n",
        "mortos.columns = ['dateRep','deaths','countriesAndTerritories']"
      ],
      "execution_count": 0,
      "outputs": []
    },
    {
      "cell_type": "code",
      "metadata": {
        "id": "IV_wNDtKTqRZ",
        "colab_type": "code",
        "colab": {}
      },
      "source": [
        "#hide\n",
        "mgermany = mortos[mortos['countriesAndTerritories']=='Germany']\n",
        "mgermany.sort_index(ascending=False,inplace=True)\n",
        "mgermany['Cumulativo'] = mgermany['deaths'].cumsum()\n",
        "mgermany = mgermany[mgermany['Cumulativo']>=1]\n",
        "mgermany.reset_index(drop=True, inplace=True)\n",
        "mgermany.drop(['deaths','dateRep'],axis=1,inplace=True)\n"
      ],
      "execution_count": 0,
      "outputs": []
    },
    {
      "cell_type": "code",
      "metadata": {
        "colab_type": "code",
        "id": "5G4iWsHGLOuT",
        "colab": {}
      },
      "source": [
        "#hide\n",
        "mitaly = mortos[mortos['countriesAndTerritories']=='Italy']\n",
        "mitaly.sort_index(ascending=False,inplace=True)\n",
        "mitaly['Cumulativo'] = mitaly['deaths'].cumsum()\n",
        "mitaly = mitaly[mitaly['Cumulativo']>=1]\n",
        "mitaly.reset_index(drop=True, inplace=True)\n",
        "mitaly.drop(['deaths','dateRep'],axis=1,inplace=True)\n"
      ],
      "execution_count": 0,
      "outputs": []
    },
    {
      "cell_type": "code",
      "metadata": {
        "colab_type": "code",
        "id": "8B_wTGnzi_Gb",
        "colab": {}
      },
      "source": [
        "#hide\n",
        "margentina = mortos[mortos['countriesAndTerritories']=='Argentina']\n",
        "margentina.sort_index(ascending=False,inplace=True)\n",
        "margentina['Cumulativo'] = margentina['deaths'].cumsum()\n",
        "margentina = margentina[margentina['Cumulativo']>=1]\n",
        "margentina.reset_index(drop=True, inplace=True)\n",
        "margentina.drop(['deaths','dateRep'],axis=1,inplace=True)\n"
      ],
      "execution_count": 0,
      "outputs": []
    },
    {
      "cell_type": "code",
      "metadata": {
        "colab_type": "code",
        "id": "Kit8VB9MNFjS",
        "colab": {}
      },
      "source": [
        "#hide\n",
        "mbrazil = mortos[mortos['countriesAndTerritories']=='Brazil']\n",
        "mbrazil.sort_index(ascending=False,inplace=True)\n",
        "mbrazil['Cumulativo'] = mbrazil['deaths'].cumsum()\n",
        "mbrazil = mbrazil[mbrazil['Cumulativo']>=1]\n",
        "mbrazil.reset_index(drop=True, inplace=True)\n",
        "mbrazil.drop(['deaths','dateRep'],axis=1,inplace=True)\n"
      ],
      "execution_count": 0,
      "outputs": []
    },
    {
      "cell_type": "code",
      "metadata": {
        "colab_type": "code",
        "id": "Xf-wtyPAOoCq",
        "colab": {}
      },
      "source": [
        "#hide\n",
        "mjapan = mortos[mortos['countriesAndTerritories']=='Japan']\n",
        "mjapan.sort_index(ascending=False,inplace=True)\n",
        "mjapan['Cumulativo'] = mjapan['deaths'].cumsum()\n",
        "mjapan = mjapan[mjapan['Cumulativo']>=1]\n",
        "mjapan.reset_index(drop=True, inplace=True)\n",
        "mjapan.drop(['deaths','dateRep'],axis=1,inplace=True)\n"
      ],
      "execution_count": 0,
      "outputs": []
    },
    {
      "cell_type": "code",
      "metadata": {
        "colab_type": "code",
        "id": "X26cfdS3Ou0_",
        "colab": {}
      },
      "source": [
        "#hide\n",
        "msouth_korea = mortos[mortos['countriesAndTerritories']=='South_Korea']\n",
        "msouth_korea.sort_index(ascending=False,inplace=True)\n",
        "msouth_korea['Cumulativo'] = msouth_korea['deaths'].cumsum()\n",
        "msouth_korea = msouth_korea[msouth_korea['Cumulativo']>=1]\n",
        "msouth_korea.reset_index(drop=True, inplace=True)\n",
        "msouth_korea.drop(['deaths','dateRep'],axis=1,inplace=True)\n"
      ],
      "execution_count": 0,
      "outputs": []
    },
    {
      "cell_type": "code",
      "metadata": {
        "colab_type": "code",
        "id": "HDIuPzsvOvBF",
        "colab": {}
      },
      "source": [
        "#hide\n",
        "mus = mortos[mortos['countriesAndTerritories']=='United_States_of_America']\n",
        "mus.sort_index(ascending=False,inplace=True)\n",
        "mus['Cumulativo'] = mus['deaths'].cumsum()\n",
        "mus = mus[mus['Cumulativo']>=1]\n",
        "mus.reset_index(drop=True, inplace=True)\n",
        "mus.drop(['deaths','dateRep'],axis=1,inplace=True)\n"
      ],
      "execution_count": 0,
      "outputs": []
    },
    {
      "cell_type": "code",
      "metadata": {
        "colab_type": "code",
        "id": "Lf632oDcRAW0",
        "colab": {}
      },
      "source": [
        "#hide\n",
        "mfrance = mortos[mortos['countriesAndTerritories']=='France']\n",
        "mfrance.sort_index(ascending=False,inplace=True)\n",
        "mfrance['Cumulativo'] = mfrance['deaths'].cumsum()\n",
        "mfrance = mfrance[mfrance['Cumulativo']>=1]\n",
        "mfrance.reset_index(drop=True, inplace=True)\n",
        "mfrance.drop(['deaths','dateRep'],axis=1,inplace=True)\n"
      ],
      "execution_count": 0,
      "outputs": []
    },
    {
      "cell_type": "code",
      "metadata": {
        "colab_type": "code",
        "id": "4bw0YRwTOvLG",
        "colab": {}
      },
      "source": [
        "#hide\n",
        "muk = mortos[mortos['countriesAndTerritories']=='United_Kingdom']\n",
        "muk.sort_index(ascending=False,inplace=True)\n",
        "muk['Cumulativo'] = muk['deaths'].cumsum()\n",
        "muk = muk[muk['Cumulativo']>=1]\n",
        "muk.reset_index(drop=True, inplace=True)\n",
        "muk.drop(['deaths','dateRep'],axis=1,inplace=True)\n"
      ],
      "execution_count": 0,
      "outputs": []
    },
    {
      "cell_type": "code",
      "metadata": {
        "colab_type": "code",
        "id": "6E5oiuDIc60l",
        "colab": {}
      },
      "source": [
        "#hide\n",
        "mchina = mortos[mortos['countriesAndTerritories']=='China']\n",
        "mchina.sort_index(ascending=False,inplace=True)\n",
        "mchina['Cumulativo'] = mchina['deaths'].cumsum()\n",
        "mchina = mchina[mchina['Cumulativo']>=1]\n",
        "mchina.reset_index(drop=True, inplace=True)\n",
        "mchina.drop(['deaths','dateRep'],axis=1,inplace=True)\n"
      ],
      "execution_count": 0,
      "outputs": []
    },
    {
      "cell_type": "code",
      "metadata": {
        "colab_type": "code",
        "id": "a-Ty0E_xI2Kr",
        "colab": {}
      },
      "source": [
        "#hide\n",
        "mspain = mortos[mortos['countriesAndTerritories']=='Spain']\n",
        "mspain.sort_index(ascending=False,inplace=True)\n",
        "mspain['Cumulativo'] = mspain['deaths'].cumsum()\n",
        "mspain = mspain[mspain['Cumulativo']>=1]\n",
        "mspain.reset_index(drop=True, inplace=True)\n",
        "mspain.drop(['deaths','dateRep'],axis=1,inplace=True)\n"
      ],
      "execution_count": 0,
      "outputs": []
    },
    {
      "cell_type": "code",
      "metadata": {
        "id": "6kcW9cDHTqSK",
        "colab_type": "code",
        "colab": {}
      },
      "source": [
        "#hide\n",
        "mindia = mortos[mortos['countriesAndTerritories']=='India']\n",
        "mindia.sort_index(ascending=False,inplace=True)\n",
        "mindia['Cumulativo'] = mindia['deaths'].cumsum()\n",
        "mindia = mindia[mindia['Cumulativo']>=1]\n",
        "mindia.reset_index(drop=True, inplace=True)\n",
        "mindia.drop(['deaths','dateRep'],axis=1,inplace=True)\n"
      ],
      "execution_count": 0,
      "outputs": []
    },
    {
      "cell_type": "code",
      "metadata": {
        "scrolled": true,
        "id": "rc4ccUpsTqSO",
        "colab_type": "code",
        "colab": {}
      },
      "source": [
        "#hide\n",
        "mczech = mortos[mortos['countriesAndTerritories']=='Czechia']\n",
        "mczech.sort_index(ascending=False,inplace=True)\n",
        "mczech['Cumulativo'] = mczech['deaths'].cumsum()\n",
        "mczech = mczech[mczech['Cumulativo']>=1]\n",
        "mczech.reset_index(drop=True, inplace=True)\n",
        "mczech.drop(['deaths','dateRep'],axis=1,inplace=True)\n"
      ],
      "execution_count": 0,
      "outputs": []
    },
    {
      "cell_type": "code",
      "metadata": {
        "colab_type": "code",
        "id": "rYUKX75ZOvUg",
        "colab": {}
      },
      "source": [
        "#hide\n",
        "# Tabela final de mortes\n",
        "mfinal_data=pd.concat([mbrazil,mitaly,mjapan,muk,mus,msouth_korea,mfrance,mchina,mspain,margentina,mindia,mgermany,mczech],axis=0)\n",
        "mfinal_data['Dias']=mfinal_data.index\n",
        "mfinal_data.columns = ['Países e territórios','Mortes', 'Dias desde a primeira morte']\n"
      ],
      "execution_count": 0,
      "outputs": []
    },
    {
      "cell_type": "code",
      "metadata": {
        "colab_type": "code",
        "id": "qVGKMMffOvcs",
        "colab": {}
      },
      "source": [
        "#hide\n",
        "mzoom = mfinal_data[mfinal_data['Mortes']<=100]"
      ],
      "execution_count": 0,
      "outputs": []
    },
    {
      "cell_type": "code",
      "metadata": {
        "colab_type": "code",
        "id": "OeL3tjqXOvmN",
        "colab": {}
      },
      "source": [
        "#hide\n",
        "mmeio_zoom = mfinal_data[mfinal_data['Mortes']<=500]"
      ],
      "execution_count": 0,
      "outputs": []
    },
    {
      "cell_type": "code",
      "metadata": {
        "colab_type": "code",
        "id": "wUSdAFVATC4J",
        "outputId": "9d5e23d0-33c4-4647-abbb-1e6113e6f3ee",
        "colab": {
          "base_uri": "https://localhost:8080/",
          "height": 542
        }
      },
      "source": [
        "#hide\n",
        "\n",
        "\n",
        "fig = px.line(mzoom, x=\"Dias desde a primeira morte\", y=\"Mortes\",title='COVID-19 - Mortes {} \\n Zoom até 100'.format(today), \n",
        "              color='Países e territórios',color_discrete_sequence=[\"black\", \"blue\",'green',\"darkmagenta\",\"gray\",\"brown\",\"orange\",\"magenta\",'red',\"darkblue\",\"lightgreen\",'coral','lightblue'])\n",
        "fig.update_layout(legend= {'title':'País','borderwidth':0,'orientation':'v','yanchor':'top','font':{'size':8}})\n",
        "\n",
        "fig.update_layout()\n",
        "fig.show()"
      ],
      "execution_count": 56,
      "outputs": [
        {
          "output_type": "display_data",
          "data": {
            "text/html": [
              "<html>\n",
              "<head><meta charset=\"utf-8\" /></head>\n",
              "<body>\n",
              "    <div>\n",
              "            <script src=\"https://cdnjs.cloudflare.com/ajax/libs/mathjax/2.7.5/MathJax.js?config=TeX-AMS-MML_SVG\"></script><script type=\"text/javascript\">if (window.MathJax) {MathJax.Hub.Config({SVG: {font: \"STIX-Web\"}});}</script>\n",
              "                <script type=\"text/javascript\">window.PlotlyConfig = {MathJaxConfig: 'local'};</script>\n",
              "        <script src=\"https://cdn.plot.ly/plotly-latest.min.js\"></script>    \n",
              "            <div id=\"1ea2926b-1bb6-4551-b521-2091371b21df\" class=\"plotly-graph-div\" style=\"height:525px; width:100%;\"></div>\n",
              "            <script type=\"text/javascript\">\n",
              "                \n",
              "                    window.PLOTLYENV=window.PLOTLYENV || {};\n",
              "                    \n",
              "                if (document.getElementById(\"1ea2926b-1bb6-4551-b521-2091371b21df\")) {\n",
              "                    Plotly.newPlot(\n",
              "                        '1ea2926b-1bb6-4551-b521-2091371b21df',\n",
              "                        [{\"hovertemplate\": \"Pa\\u00edses e territ\\u00f3rios=Brazil<br>Dias desde a primeira morte=%{x}<br>Mortes=%{y}<extra></extra>\", \"legendgroup\": \"Brazil\", \"line\": {\"color\": \"black\", \"dash\": \"solid\"}, \"mode\": \"lines\", \"name\": \"Brazil\", \"showlegend\": true, \"type\": \"scatter\", \"x\": [0, 1, 2, 3, 4, 5, 6, 7, 8, 9, 10], \"xaxis\": \"x\", \"y\": [1, 4, 6, 11, 18, 25, 34, 46, 57, 77, 92], \"yaxis\": \"y\"}, {\"hovertemplate\": \"Pa\\u00edses e territ\\u00f3rios=Italy<br>Dias desde a primeira morte=%{x}<br>Mortes=%{y}<extra></extra>\", \"legendgroup\": \"Italy\", \"line\": {\"color\": \"blue\", \"dash\": \"solid\"}, \"mode\": \"lines\", \"name\": \"Italy\", \"showlegend\": true, \"type\": \"scatter\", \"x\": [0, 1, 2, 3, 4, 5, 6, 7, 8, 9, 10], \"xaxis\": \"x\", \"y\": [2, 2, 6, 11, 12, 17, 21, 29, 35, 52, 80], \"yaxis\": \"y\"}, {\"hovertemplate\": \"Pa\\u00edses e territ\\u00f3rios=Japan<br>Dias desde a primeira morte=%{x}<br>Mortes=%{y}<extra></extra>\", \"legendgroup\": \"Japan\", \"line\": {\"color\": \"green\", \"dash\": \"solid\"}, \"mode\": \"lines\", \"name\": \"Japan\", \"showlegend\": true, \"type\": \"scatter\", \"x\": [0, 1, 2, 3, 4, 5, 6, 7, 8, 9, 10, 11, 12, 13, 14, 15, 16, 17, 18, 19, 20, 21, 22, 23, 24, 25, 26, 27, 28, 29, 30, 31, 32, 33, 34, 35, 36, 37, 38, 39, 40, 41, 42, 43, 44, 45, 46, 47, 48, 49, 50, 51, 52, 53, 54, 55, 56, 57], \"xaxis\": \"x\", \"y\": [1, 1, 1, 1, 1, 1, 1, 1, 1, 1, 1, 1, 1, 1, 3, 3, 3, 5, 6, 6, 6, 6, 6, 6, 6, 7, 9, 12, 15, 19, 21, 22, 24, 28, 28, 29, 33, 35, 36, 41, 42, 43, 45, 46, 49, 52, 54, 56, 56, 57, 63, 69, 70, 73, 80, 80, 81, 85], \"yaxis\": \"y\"}, {\"hovertemplate\": \"Pa\\u00edses e territ\\u00f3rios=United_Kingdom<br>Dias desde a primeira morte=%{x}<br>Mortes=%{y}<extra></extra>\", \"legendgroup\": \"United_Kingdom\", \"line\": {\"color\": \"darkmagenta\", \"dash\": \"solid\"}, \"mode\": \"lines\", \"name\": \"United_Kingdom\", \"showlegend\": true, \"type\": \"scatter\", \"x\": [0, 1, 2, 3, 4, 5, 6, 7, 8, 9, 10, 11, 12], \"xaxis\": \"x\", \"y\": [1, 1, 2, 3, 5, 6, 6, 10, 10, 21, 35, 55, 60], \"yaxis\": \"y\"}, {\"hovertemplate\": \"Pa\\u00edses e territ\\u00f3rios=United_States_of_America<br>Dias desde a primeira morte=%{x}<br>Mortes=%{y}<extra></extra>\", \"legendgroup\": \"United_States_of_America\", \"line\": {\"color\": \"gray\", \"dash\": \"solid\"}, \"mode\": \"lines\", \"name\": \"United_States_of_America\", \"showlegend\": true, \"type\": \"scatter\", \"x\": [0, 1, 2, 3, 4, 5, 6, 7, 8, 9, 10, 11, 12, 13, 14, 15, 16], \"xaxis\": \"x\", \"y\": [1, 2, 6, 9, 11, 12, 14, 17, 21, 26, 28, 30, 40, 47, 57, 69, 85], \"yaxis\": \"y\"}, {\"hovertemplate\": \"Pa\\u00edses e territ\\u00f3rios=South_Korea<br>Dias desde a primeira morte=%{x}<br>Mortes=%{y}<extra></extra>\", \"legendgroup\": \"South_Korea\", \"line\": {\"color\": \"brown\", \"dash\": \"solid\"}, \"mode\": \"lines\", \"name\": \"South_Korea\", \"showlegend\": true, \"type\": \"scatter\", \"x\": [0, 1, 2, 3, 4, 5, 6, 7, 8, 9, 10, 11, 12, 13, 14, 15, 16, 17, 18, 19, 20, 21, 22, 23, 24, 25, 26, 27, 28], \"xaxis\": \"x\", \"y\": [1, 2, 5, 7, 8, 11, 12, 13, 16, 17, 22, 28, 32, 35, 42, 44, 50, 51, 54, 60, 66, 67, 72, 75, 75, 81, 86, 91, 100], \"yaxis\": \"y\"}, {\"hovertemplate\": \"Pa\\u00edses e territ\\u00f3rios=France<br>Dias desde a primeira morte=%{x}<br>Mortes=%{y}<extra></extra>\", \"legendgroup\": \"France\", \"line\": {\"color\": \"orange\", \"dash\": \"solid\"}, \"mode\": \"lines\", \"name\": \"France\", \"showlegend\": true, \"type\": \"scatter\", \"x\": [0, 1, 2, 3, 4, 5, 6, 7, 8, 9, 10, 11, 12, 13, 14, 15, 16, 17, 18, 19, 20, 21, 22, 23, 24, 25, 26, 27, 28, 29], \"xaxis\": \"x\", \"y\": [1, 1, 1, 1, 1, 1, 1, 1, 1, 1, 1, 1, 2, 2, 2, 2, 2, 3, 4, 4, 7, 9, 10, 19, 30, 33, 48, 61, 79, 91], \"yaxis\": \"y\"}, {\"hovertemplate\": \"Pa\\u00edses e territ\\u00f3rios=China<br>Dias desde a primeira morte=%{x}<br>Mortes=%{y}<extra></extra>\", \"legendgroup\": \"China\", \"line\": {\"color\": \"magenta\", \"dash\": \"solid\"}, \"mode\": \"lines\", \"name\": \"China\", \"showlegend\": true, \"type\": \"scatter\", \"x\": [0, 1, 2, 3, 4, 5, 6, 7, 8, 9, 10, 11, 12, 13, 14, 15, 16], \"xaxis\": \"x\", \"y\": [1, 1, 1, 1, 2, 2, 2, 2, 3, 3, 6, 17, 17, 26, 41, 56, 81], \"yaxis\": \"y\"}, {\"hovertemplate\": \"Pa\\u00edses e territ\\u00f3rios=Spain<br>Dias desde a primeira morte=%{x}<br>Mortes=%{y}<extra></extra>\", \"legendgroup\": \"Spain\", \"line\": {\"color\": \"red\", \"dash\": \"solid\"}, \"mode\": \"lines\", \"name\": \"Spain\", \"showlegend\": true, \"type\": \"scatter\", \"x\": [0, 1, 2, 3, 4, 5, 6, 7, 8], \"xaxis\": \"x\", \"y\": [1, 3, 5, 5, 5, 28, 35, 47, 84], \"yaxis\": \"y\"}, {\"hovertemplate\": \"Pa\\u00edses e territ\\u00f3rios=Argentina<br>Dias desde a primeira morte=%{x}<br>Mortes=%{y}<extra></extra>\", \"legendgroup\": \"Argentina\", \"line\": {\"color\": \"darkblue\", \"dash\": \"solid\"}, \"mode\": \"lines\", \"name\": \"Argentina\", \"showlegend\": true, \"type\": \"scatter\", \"x\": [0, 1, 2, 3, 4, 5, 6, 7, 8, 9, 10, 11, 12, 13, 14, 15, 16, 17, 18, 19, 20, 21, 22, 23, 24, 25, 26, 27, 28, 29, 30, 31], \"xaxis\": \"x\", \"y\": [1, 1, 1, 1, 2, 2, 2, 2, 2, 2, 3, 3, 4, 4, 4, 6, 8, 12, 17, 19, 20, 24, 24, 31, 34, 37, 43, 46, 53, 60, 65, 79], \"yaxis\": \"y\"}, {\"hovertemplate\": \"Pa\\u00edses e territ\\u00f3rios=India<br>Dias desde a primeira morte=%{x}<br>Mortes=%{y}<extra></extra>\", \"legendgroup\": \"India\", \"line\": {\"color\": \"lightgreen\", \"dash\": \"solid\"}, \"mode\": \"lines\", \"name\": \"India\", \"showlegend\": true, \"type\": \"scatter\", \"x\": [0, 1, 2, 3, 4, 5, 6, 7, 8, 9, 10, 11, 12, 13, 14, 15, 16, 17, 18, 19, 20, 21, 22, 23], \"xaxis\": \"x\", \"y\": [1, 2, 2, 2, 3, 3, 3, 4, 4, 4, 7, 9, 9, 13, 17, 19, 25, 29, 32, 35, 50, 56, 68, 77], \"yaxis\": \"y\"}, {\"hovertemplate\": \"Pa\\u00edses e territ\\u00f3rios=Germany<br>Dias desde a primeira morte=%{x}<br>Mortes=%{y}<extra></extra>\", \"legendgroup\": \"Germany\", \"line\": {\"color\": \"coral\", \"dash\": \"solid\"}, \"mode\": \"lines\", \"name\": \"Germany\", \"showlegend\": true, \"type\": \"scatter\", \"x\": [0, 1, 2, 3, 4, 5, 6, 7, 8, 9, 10, 11, 12, 13], \"xaxis\": \"x\", \"y\": [2, 2, 3, 5, 5, 8, 12, 13, 13, 13, 43, 45, 67, 94], \"yaxis\": \"y\"}, {\"hovertemplate\": \"Pa\\u00edses e territ\\u00f3rios=Czechia<br>Dias desde a primeira morte=%{x}<br>Mortes=%{y}<extra></extra>\", \"legendgroup\": \"Czechia\", \"line\": {\"color\": \"lightblue\", \"dash\": \"solid\"}, \"mode\": \"lines\", \"name\": \"Czechia\", \"showlegend\": true, \"type\": \"scatter\", \"x\": [0, 1, 2, 3, 4, 5, 6, 7, 8, 9, 10, 11, 12, 13, 14, 15, 16, 17], \"xaxis\": \"x\", \"y\": [1, 1, 3, 6, 9, 9, 11, 16, 24, 31, 39, 44, 53, 59, 67, 78, 88, 99], \"yaxis\": \"y\"}],\n",
              "                        {\"legend\": {\"borderwidth\": 0, \"font\": {\"size\": 8}, \"orientation\": \"v\", \"title\": {\"text\": \"Pa\\u00eds\"}, \"tracegroupgap\": 0, \"yanchor\": \"top\"}, \"template\": {\"data\": {\"bar\": [{\"error_x\": {\"color\": \"#2a3f5f\"}, \"error_y\": {\"color\": \"#2a3f5f\"}, \"marker\": {\"line\": {\"color\": \"#E5ECF6\", \"width\": 0.5}}, \"type\": \"bar\"}], \"barpolar\": [{\"marker\": {\"line\": {\"color\": \"#E5ECF6\", \"width\": 0.5}}, \"type\": \"barpolar\"}], \"carpet\": [{\"aaxis\": {\"endlinecolor\": \"#2a3f5f\", \"gridcolor\": \"white\", \"linecolor\": \"white\", \"minorgridcolor\": \"white\", \"startlinecolor\": \"#2a3f5f\"}, \"baxis\": {\"endlinecolor\": \"#2a3f5f\", \"gridcolor\": \"white\", \"linecolor\": \"white\", \"minorgridcolor\": \"white\", \"startlinecolor\": \"#2a3f5f\"}, \"type\": \"carpet\"}], \"choropleth\": [{\"colorbar\": {\"outlinewidth\": 0, \"ticks\": \"\"}, \"type\": \"choropleth\"}], \"contour\": [{\"colorbar\": {\"outlinewidth\": 0, \"ticks\": \"\"}, \"colorscale\": [[0.0, \"#0d0887\"], [0.1111111111111111, \"#46039f\"], [0.2222222222222222, \"#7201a8\"], [0.3333333333333333, \"#9c179e\"], [0.4444444444444444, \"#bd3786\"], [0.5555555555555556, \"#d8576b\"], [0.6666666666666666, \"#ed7953\"], [0.7777777777777778, \"#fb9f3a\"], [0.8888888888888888, \"#fdca26\"], [1.0, \"#f0f921\"]], \"type\": \"contour\"}], \"contourcarpet\": [{\"colorbar\": {\"outlinewidth\": 0, \"ticks\": \"\"}, \"type\": \"contourcarpet\"}], \"heatmap\": [{\"colorbar\": {\"outlinewidth\": 0, \"ticks\": \"\"}, \"colorscale\": [[0.0, \"#0d0887\"], [0.1111111111111111, \"#46039f\"], [0.2222222222222222, \"#7201a8\"], [0.3333333333333333, \"#9c179e\"], [0.4444444444444444, \"#bd3786\"], [0.5555555555555556, \"#d8576b\"], [0.6666666666666666, \"#ed7953\"], [0.7777777777777778, \"#fb9f3a\"], [0.8888888888888888, \"#fdca26\"], [1.0, \"#f0f921\"]], \"type\": \"heatmap\"}], \"heatmapgl\": [{\"colorbar\": {\"outlinewidth\": 0, \"ticks\": \"\"}, \"colorscale\": [[0.0, \"#0d0887\"], [0.1111111111111111, \"#46039f\"], [0.2222222222222222, \"#7201a8\"], [0.3333333333333333, \"#9c179e\"], [0.4444444444444444, \"#bd3786\"], [0.5555555555555556, \"#d8576b\"], [0.6666666666666666, \"#ed7953\"], [0.7777777777777778, \"#fb9f3a\"], [0.8888888888888888, \"#fdca26\"], [1.0, \"#f0f921\"]], \"type\": \"heatmapgl\"}], \"histogram\": [{\"marker\": {\"colorbar\": {\"outlinewidth\": 0, \"ticks\": \"\"}}, \"type\": \"histogram\"}], \"histogram2d\": [{\"colorbar\": {\"outlinewidth\": 0, \"ticks\": \"\"}, \"colorscale\": [[0.0, \"#0d0887\"], [0.1111111111111111, \"#46039f\"], [0.2222222222222222, \"#7201a8\"], [0.3333333333333333, \"#9c179e\"], [0.4444444444444444, \"#bd3786\"], [0.5555555555555556, \"#d8576b\"], [0.6666666666666666, \"#ed7953\"], [0.7777777777777778, \"#fb9f3a\"], [0.8888888888888888, \"#fdca26\"], [1.0, \"#f0f921\"]], \"type\": \"histogram2d\"}], \"histogram2dcontour\": [{\"colorbar\": {\"outlinewidth\": 0, \"ticks\": \"\"}, \"colorscale\": [[0.0, \"#0d0887\"], [0.1111111111111111, \"#46039f\"], [0.2222222222222222, \"#7201a8\"], [0.3333333333333333, \"#9c179e\"], [0.4444444444444444, \"#bd3786\"], [0.5555555555555556, \"#d8576b\"], [0.6666666666666666, \"#ed7953\"], [0.7777777777777778, \"#fb9f3a\"], [0.8888888888888888, \"#fdca26\"], [1.0, \"#f0f921\"]], \"type\": \"histogram2dcontour\"}], \"mesh3d\": [{\"colorbar\": {\"outlinewidth\": 0, \"ticks\": \"\"}, \"type\": \"mesh3d\"}], \"parcoords\": [{\"line\": {\"colorbar\": {\"outlinewidth\": 0, \"ticks\": \"\"}}, \"type\": \"parcoords\"}], \"pie\": [{\"automargin\": true, \"type\": \"pie\"}], \"scatter\": [{\"marker\": {\"colorbar\": {\"outlinewidth\": 0, \"ticks\": \"\"}}, \"type\": \"scatter\"}], \"scatter3d\": [{\"line\": {\"colorbar\": {\"outlinewidth\": 0, \"ticks\": \"\"}}, \"marker\": {\"colorbar\": {\"outlinewidth\": 0, \"ticks\": \"\"}}, \"type\": \"scatter3d\"}], \"scattercarpet\": [{\"marker\": {\"colorbar\": {\"outlinewidth\": 0, \"ticks\": \"\"}}, \"type\": \"scattercarpet\"}], \"scattergeo\": [{\"marker\": {\"colorbar\": {\"outlinewidth\": 0, \"ticks\": \"\"}}, \"type\": \"scattergeo\"}], \"scattergl\": [{\"marker\": {\"colorbar\": {\"outlinewidth\": 0, \"ticks\": \"\"}}, \"type\": \"scattergl\"}], \"scattermapbox\": [{\"marker\": {\"colorbar\": {\"outlinewidth\": 0, \"ticks\": \"\"}}, \"type\": \"scattermapbox\"}], \"scatterpolar\": [{\"marker\": {\"colorbar\": {\"outlinewidth\": 0, \"ticks\": \"\"}}, \"type\": \"scatterpolar\"}], \"scatterpolargl\": [{\"marker\": {\"colorbar\": {\"outlinewidth\": 0, \"ticks\": \"\"}}, \"type\": \"scatterpolargl\"}], \"scatterternary\": [{\"marker\": {\"colorbar\": {\"outlinewidth\": 0, \"ticks\": \"\"}}, \"type\": \"scatterternary\"}], \"surface\": [{\"colorbar\": {\"outlinewidth\": 0, \"ticks\": \"\"}, \"colorscale\": [[0.0, \"#0d0887\"], [0.1111111111111111, \"#46039f\"], [0.2222222222222222, \"#7201a8\"], [0.3333333333333333, \"#9c179e\"], [0.4444444444444444, \"#bd3786\"], [0.5555555555555556, \"#d8576b\"], [0.6666666666666666, \"#ed7953\"], [0.7777777777777778, \"#fb9f3a\"], [0.8888888888888888, \"#fdca26\"], [1.0, \"#f0f921\"]], \"type\": \"surface\"}], \"table\": [{\"cells\": {\"fill\": {\"color\": \"#EBF0F8\"}, \"line\": {\"color\": \"white\"}}, \"header\": {\"fill\": {\"color\": \"#C8D4E3\"}, \"line\": {\"color\": \"white\"}}, \"type\": \"table\"}]}, \"layout\": {\"annotationdefaults\": {\"arrowcolor\": \"#2a3f5f\", \"arrowhead\": 0, \"arrowwidth\": 1}, \"coloraxis\": {\"colorbar\": {\"outlinewidth\": 0, \"ticks\": \"\"}}, \"colorscale\": {\"diverging\": [[0, \"#8e0152\"], [0.1, \"#c51b7d\"], [0.2, \"#de77ae\"], [0.3, \"#f1b6da\"], [0.4, \"#fde0ef\"], [0.5, \"#f7f7f7\"], [0.6, \"#e6f5d0\"], [0.7, \"#b8e186\"], [0.8, \"#7fbc41\"], [0.9, \"#4d9221\"], [1, \"#276419\"]], \"sequential\": [[0.0, \"#0d0887\"], [0.1111111111111111, \"#46039f\"], [0.2222222222222222, \"#7201a8\"], [0.3333333333333333, \"#9c179e\"], [0.4444444444444444, \"#bd3786\"], [0.5555555555555556, \"#d8576b\"], [0.6666666666666666, \"#ed7953\"], [0.7777777777777778, \"#fb9f3a\"], [0.8888888888888888, \"#fdca26\"], [1.0, \"#f0f921\"]], \"sequentialminus\": [[0.0, \"#0d0887\"], [0.1111111111111111, \"#46039f\"], [0.2222222222222222, \"#7201a8\"], [0.3333333333333333, \"#9c179e\"], [0.4444444444444444, \"#bd3786\"], [0.5555555555555556, \"#d8576b\"], [0.6666666666666666, \"#ed7953\"], [0.7777777777777778, \"#fb9f3a\"], [0.8888888888888888, \"#fdca26\"], [1.0, \"#f0f921\"]]}, \"colorway\": [\"#636efa\", \"#EF553B\", \"#00cc96\", \"#ab63fa\", \"#FFA15A\", \"#19d3f3\", \"#FF6692\", \"#B6E880\", \"#FF97FF\", \"#FECB52\"], \"font\": {\"color\": \"#2a3f5f\"}, \"geo\": {\"bgcolor\": \"white\", \"lakecolor\": \"white\", \"landcolor\": \"#E5ECF6\", \"showlakes\": true, \"showland\": true, \"subunitcolor\": \"white\"}, \"hoverlabel\": {\"align\": \"left\"}, \"hovermode\": \"closest\", \"mapbox\": {\"style\": \"light\"}, \"paper_bgcolor\": \"white\", \"plot_bgcolor\": \"#E5ECF6\", \"polar\": {\"angularaxis\": {\"gridcolor\": \"white\", \"linecolor\": \"white\", \"ticks\": \"\"}, \"bgcolor\": \"#E5ECF6\", \"radialaxis\": {\"gridcolor\": \"white\", \"linecolor\": \"white\", \"ticks\": \"\"}}, \"scene\": {\"xaxis\": {\"backgroundcolor\": \"#E5ECF6\", \"gridcolor\": \"white\", \"gridwidth\": 2, \"linecolor\": \"white\", \"showbackground\": true, \"ticks\": \"\", \"zerolinecolor\": \"white\"}, \"yaxis\": {\"backgroundcolor\": \"#E5ECF6\", \"gridcolor\": \"white\", \"gridwidth\": 2, \"linecolor\": \"white\", \"showbackground\": true, \"ticks\": \"\", \"zerolinecolor\": \"white\"}, \"zaxis\": {\"backgroundcolor\": \"#E5ECF6\", \"gridcolor\": \"white\", \"gridwidth\": 2, \"linecolor\": \"white\", \"showbackground\": true, \"ticks\": \"\", \"zerolinecolor\": \"white\"}}, \"shapedefaults\": {\"line\": {\"color\": \"#2a3f5f\"}}, \"ternary\": {\"aaxis\": {\"gridcolor\": \"white\", \"linecolor\": \"white\", \"ticks\": \"\"}, \"baxis\": {\"gridcolor\": \"white\", \"linecolor\": \"white\", \"ticks\": \"\"}, \"bgcolor\": \"#E5ECF6\", \"caxis\": {\"gridcolor\": \"white\", \"linecolor\": \"white\", \"ticks\": \"\"}}, \"title\": {\"x\": 0.05}, \"xaxis\": {\"automargin\": true, \"gridcolor\": \"white\", \"linecolor\": \"white\", \"ticks\": \"\", \"title\": {\"standoff\": 15}, \"zerolinecolor\": \"white\", \"zerolinewidth\": 2}, \"yaxis\": {\"automargin\": true, \"gridcolor\": \"white\", \"linecolor\": \"white\", \"ticks\": \"\", \"title\": {\"standoff\": 15}, \"zerolinecolor\": \"white\", \"zerolinewidth\": 2}}}, \"title\": {\"text\": \"COVID-19 - Mortes 10-04-2020 \\n Zoom at\\u00e9 100\"}, \"xaxis\": {\"anchor\": \"y\", \"domain\": [0.0, 1.0], \"title\": {\"text\": \"Dias desde a primeira morte\"}}, \"yaxis\": {\"anchor\": \"x\", \"domain\": [0.0, 1.0], \"title\": {\"text\": \"Mortes\"}}},\n",
              "                        {\"responsive\": true}\n",
              "                    ).then(function(){\n",
              "                            \n",
              "var gd = document.getElementById('1ea2926b-1bb6-4551-b521-2091371b21df');\n",
              "var x = new MutationObserver(function (mutations, observer) {{\n",
              "        var display = window.getComputedStyle(gd).display;\n",
              "        if (!display || display === 'none') {{\n",
              "            console.log([gd, 'removed!']);\n",
              "            Plotly.purge(gd);\n",
              "            observer.disconnect();\n",
              "        }}\n",
              "}});\n",
              "\n",
              "// Listen for the removal of the full notebook cells\n",
              "var notebookContainer = gd.closest('#notebook-container');\n",
              "if (notebookContainer) {{\n",
              "    x.observe(notebookContainer, {childList: true});\n",
              "}}\n",
              "\n",
              "// Listen for the clearing of the current output cell\n",
              "var outputEl = gd.closest('.output');\n",
              "if (outputEl) {{\n",
              "    x.observe(outputEl, {childList: true});\n",
              "}}\n",
              "\n",
              "                        })\n",
              "                };\n",
              "                \n",
              "            </script>\n",
              "        </div>\n",
              "</body>\n",
              "</html>"
            ]
          },
          "metadata": {
            "tags": []
          }
        }
      ]
    },
    {
      "cell_type": "markdown",
      "metadata": {
        "id": "F6TFUSW9sr2k",
        "colab_type": "text"
      },
      "source": [
        "Aqui, os gráficos das curvas de mortes em uma aproximação de até 500 e, posteriormente, os completos, nas escalas aritmética e logarítmica. "
      ]
    },
    {
      "cell_type": "code",
      "metadata": {
        "colab_type": "code",
        "id": "Is8_bYPCSrYq",
        "outputId": "f25ef5ca-61a1-4991-8a3e-48ce527ca834",
        "colab": {
          "base_uri": "https://localhost:8080/",
          "height": 542
        }
      },
      "source": [
        "#hide_input\n",
        "\n",
        "\n",
        "fig = px.line(mmeio_zoom, x=\"Dias desde a primeira morte\", y=\"Mortes\", title='COVID-19 - Mortes {} \\n Zoom até 500'.format(today),\n",
        "              color='Países e territórios',color_discrete_sequence=[\"black\", \"blue\",'green',\"darkmagenta\",\"gray\",\"brown\",\"orange\",\"magenta\",'red',\"darkblue\",\"lightgreen\",'coral','lightblue'])\n",
        "fig.update_layout(legend= {'title':'País','borderwidth':0,'orientation':'v','yanchor':'top','font':{'size':8}})\n",
        "\n",
        "fig.update_layout()\n",
        "fig.show()"
      ],
      "execution_count": 57,
      "outputs": [
        {
          "output_type": "display_data",
          "data": {
            "text/html": [
              "<html>\n",
              "<head><meta charset=\"utf-8\" /></head>\n",
              "<body>\n",
              "    <div>\n",
              "            <script src=\"https://cdnjs.cloudflare.com/ajax/libs/mathjax/2.7.5/MathJax.js?config=TeX-AMS-MML_SVG\"></script><script type=\"text/javascript\">if (window.MathJax) {MathJax.Hub.Config({SVG: {font: \"STIX-Web\"}});}</script>\n",
              "                <script type=\"text/javascript\">window.PlotlyConfig = {MathJaxConfig: 'local'};</script>\n",
              "        <script src=\"https://cdn.plot.ly/plotly-latest.min.js\"></script>    \n",
              "            <div id=\"52b2acf9-e410-40b8-8080-556b0157caba\" class=\"plotly-graph-div\" style=\"height:525px; width:100%;\"></div>\n",
              "            <script type=\"text/javascript\">\n",
              "                \n",
              "                    window.PLOTLYENV=window.PLOTLYENV || {};\n",
              "                    \n",
              "                if (document.getElementById(\"52b2acf9-e410-40b8-8080-556b0157caba\")) {\n",
              "                    Plotly.newPlot(\n",
              "                        '52b2acf9-e410-40b8-8080-556b0157caba',\n",
              "                        [{\"hovertemplate\": \"Pa\\u00edses e territ\\u00f3rios=Brazil<br>Dias desde a primeira morte=%{x}<br>Mortes=%{y}<extra></extra>\", \"legendgroup\": \"Brazil\", \"line\": {\"color\": \"black\", \"dash\": \"solid\"}, \"mode\": \"lines\", \"name\": \"Brazil\", \"showlegend\": true, \"type\": \"scatter\", \"x\": [0, 1, 2, 3, 4, 5, 6, 7, 8, 9, 10, 11, 12, 13, 14, 15, 16, 17, 18, 19], \"xaxis\": \"x\", \"y\": [1, 4, 6, 11, 18, 25, 34, 46, 57, 77, 92, 114, 136, 159, 201, 241, 299, 359, 432, 486], \"yaxis\": \"y\"}, {\"hovertemplate\": \"Pa\\u00edses e territ\\u00f3rios=Italy<br>Dias desde a primeira morte=%{x}<br>Mortes=%{y}<extra></extra>\", \"legendgroup\": \"Italy\", \"line\": {\"color\": \"blue\", \"dash\": \"solid\"}, \"mode\": \"lines\", \"name\": \"Italy\", \"showlegend\": true, \"type\": \"scatter\", \"x\": [0, 1, 2, 3, 4, 5, 6, 7, 8, 9, 10, 11, 12, 13, 14, 15, 16], \"xaxis\": \"x\", \"y\": [2, 2, 6, 11, 12, 17, 21, 29, 35, 52, 80, 107, 148, 197, 233, 366, 464], \"yaxis\": \"y\"}, {\"hovertemplate\": \"Pa\\u00edses e territ\\u00f3rios=Japan<br>Dias desde a primeira morte=%{x}<br>Mortes=%{y}<extra></extra>\", \"legendgroup\": \"Japan\", \"line\": {\"color\": \"green\", \"dash\": \"solid\"}, \"mode\": \"lines\", \"name\": \"Japan\", \"showlegend\": true, \"type\": \"scatter\", \"x\": [0, 1, 2, 3, 4, 5, 6, 7, 8, 9, 10, 11, 12, 13, 14, 15, 16, 17, 18, 19, 20, 21, 22, 23, 24, 25, 26, 27, 28, 29, 30, 31, 32, 33, 34, 35, 36, 37, 38, 39, 40, 41, 42, 43, 44, 45, 46, 47, 48, 49, 50, 51, 52, 53, 54, 55, 56, 57], \"xaxis\": \"x\", \"y\": [1, 1, 1, 1, 1, 1, 1, 1, 1, 1, 1, 1, 1, 1, 3, 3, 3, 5, 6, 6, 6, 6, 6, 6, 6, 7, 9, 12, 15, 19, 21, 22, 24, 28, 28, 29, 33, 35, 36, 41, 42, 43, 45, 46, 49, 52, 54, 56, 56, 57, 63, 69, 70, 73, 80, 80, 81, 85], \"yaxis\": \"y\"}, {\"hovertemplate\": \"Pa\\u00edses e territ\\u00f3rios=United_Kingdom<br>Dias desde a primeira morte=%{x}<br>Mortes=%{y}<extra></extra>\", \"legendgroup\": \"United_Kingdom\", \"line\": {\"color\": \"darkmagenta\", \"dash\": \"solid\"}, \"mode\": \"lines\", \"name\": \"United_Kingdom\", \"showlegend\": true, \"type\": \"scatter\", \"x\": [0, 1, 2, 3, 4, 5, 6, 7, 8, 9, 10, 11, 12, 13, 14, 15, 16, 17, 18, 19, 20], \"xaxis\": \"x\", \"y\": [1, 1, 2, 3, 5, 6, 6, 10, 10, 21, 35, 55, 60, 103, 144, 177, 233, 281, 335, 422, 463], \"yaxis\": \"y\"}, {\"hovertemplate\": \"Pa\\u00edses e territ\\u00f3rios=United_States_of_America<br>Dias desde a primeira morte=%{x}<br>Mortes=%{y}<extra></extra>\", \"legendgroup\": \"United_States_of_America\", \"line\": {\"color\": \"gray\", \"dash\": \"solid\"}, \"mode\": \"lines\", \"name\": \"United_States_of_America\", \"showlegend\": true, \"type\": \"scatter\", \"x\": [0, 1, 2, 3, 4, 5, 6, 7, 8, 9, 10, 11, 12, 13, 14, 15, 16, 17, 18, 19, 20, 21, 22], \"xaxis\": \"x\", \"y\": [1, 2, 6, 9, 11, 12, 14, 17, 21, 26, 28, 30, 40, 47, 57, 69, 85, 108, 150, 150, 260, 340, 471], \"yaxis\": \"y\"}, {\"hovertemplate\": \"Pa\\u00edses e territ\\u00f3rios=South_Korea<br>Dias desde a primeira morte=%{x}<br>Mortes=%{y}<extra></extra>\", \"legendgroup\": \"South_Korea\", \"line\": {\"color\": \"brown\", \"dash\": \"solid\"}, \"mode\": \"lines\", \"name\": \"South_Korea\", \"showlegend\": true, \"type\": \"scatter\", \"x\": [0, 1, 2, 3, 4, 5, 6, 7, 8, 9, 10, 11, 12, 13, 14, 15, 16, 17, 18, 19, 20, 21, 22, 23, 24, 25, 26, 27, 28, 29, 30, 31, 32, 33, 34, 35, 36, 37, 38, 39, 40, 41, 42, 43, 44, 45, 46, 47, 48, 49], \"xaxis\": \"x\", \"y\": [1, 2, 5, 7, 8, 11, 12, 13, 16, 17, 22, 28, 32, 35, 42, 44, 50, 51, 54, 60, 66, 67, 72, 75, 75, 81, 86, 91, 100, 103, 104, 113, 120, 126, 131, 139, 144, 152, 158, 163, 163, 169, 174, 177, 183, 186, 192, 200, 204, 208], \"yaxis\": \"y\"}, {\"hovertemplate\": \"Pa\\u00edses e territ\\u00f3rios=France<br>Dias desde a primeira morte=%{x}<br>Mortes=%{y}<extra></extra>\", \"legendgroup\": \"France\", \"line\": {\"color\": \"orange\", \"dash\": \"solid\"}, \"mode\": \"lines\", \"name\": \"France\", \"showlegend\": true, \"type\": \"scatter\", \"x\": [0, 1, 2, 3, 4, 5, 6, 7, 8, 9, 10, 11, 12, 13, 14, 15, 16, 17, 18, 19, 20, 21, 22, 23, 24, 25, 26, 27, 28, 29, 30, 31, 32, 33, 34, 35], \"xaxis\": \"x\", \"y\": [1, 1, 1, 1, 1, 1, 1, 1, 1, 1, 1, 1, 2, 2, 2, 2, 2, 3, 4, 4, 7, 9, 10, 19, 30, 33, 48, 61, 79, 91, 127, 148, 175, 244, 372, 450], \"yaxis\": \"y\"}, {\"hovertemplate\": \"Pa\\u00edses e territ\\u00f3rios=China<br>Dias desde a primeira morte=%{x}<br>Mortes=%{y}<extra></extra>\", \"legendgroup\": \"China\", \"line\": {\"color\": \"magenta\", \"dash\": \"solid\"}, \"mode\": \"lines\", \"name\": \"China\", \"showlegend\": true, \"type\": \"scatter\", \"x\": [0, 1, 2, 3, 4, 5, 6, 7, 8, 9, 10, 11, 12, 13, 14, 15, 16, 17, 18, 19, 20, 21, 22, 23, 24, 25], \"xaxis\": \"x\", \"y\": [1, 1, 1, 1, 2, 2, 2, 2, 3, 3, 6, 17, 17, 26, 41, 56, 81, 106, 132, 170, 213, 259, 304, 361, 426, 492], \"yaxis\": \"y\"}, {\"hovertemplate\": \"Pa\\u00edses e territ\\u00f3rios=Spain<br>Dias desde a primeira morte=%{x}<br>Mortes=%{y}<extra></extra>\", \"legendgroup\": \"Spain\", \"line\": {\"color\": \"red\", \"dash\": \"solid\"}, \"mode\": \"lines\", \"name\": \"Spain\", \"showlegend\": true, \"type\": \"scatter\", \"x\": [0, 1, 2, 3, 4, 5, 6, 7, 8, 9, 10, 11, 12, 13], \"xaxis\": \"x\", \"y\": [1, 3, 5, 5, 5, 28, 35, 47, 84, 121, 136, 288, 309, 491], \"yaxis\": \"y\"}, {\"hovertemplate\": \"Pa\\u00edses e territ\\u00f3rios=Argentina<br>Dias desde a primeira morte=%{x}<br>Mortes=%{y}<extra></extra>\", \"legendgroup\": \"Argentina\", \"line\": {\"color\": \"darkblue\", \"dash\": \"solid\"}, \"mode\": \"lines\", \"name\": \"Argentina\", \"showlegend\": true, \"type\": \"scatter\", \"x\": [0, 1, 2, 3, 4, 5, 6, 7, 8, 9, 10, 11, 12, 13, 14, 15, 16, 17, 18, 19, 20, 21, 22, 23, 24, 25, 26, 27, 28, 29, 30, 31], \"xaxis\": \"x\", \"y\": [1, 1, 1, 1, 2, 2, 2, 2, 2, 2, 3, 3, 4, 4, 4, 6, 8, 12, 17, 19, 20, 24, 24, 31, 34, 37, 43, 46, 53, 60, 65, 79], \"yaxis\": \"y\"}, {\"hovertemplate\": \"Pa\\u00edses e territ\\u00f3rios=India<br>Dias desde a primeira morte=%{x}<br>Mortes=%{y}<extra></extra>\", \"legendgroup\": \"India\", \"line\": {\"color\": \"lightgreen\", \"dash\": \"solid\"}, \"mode\": \"lines\", \"name\": \"India\", \"showlegend\": true, \"type\": \"scatter\", \"x\": [0, 1, 2, 3, 4, 5, 6, 7, 8, 9, 10, 11, 12, 13, 14, 15, 16, 17, 18, 19, 20, 21, 22, 23, 24, 25, 26, 27, 28], \"xaxis\": \"x\", \"y\": [1, 2, 2, 2, 3, 3, 3, 4, 4, 4, 7, 9, 9, 13, 17, 19, 25, 29, 32, 35, 50, 56, 68, 77, 109, 114, 149, 166, 199], \"yaxis\": \"y\"}, {\"hovertemplate\": \"Pa\\u00edses e territ\\u00f3rios=Germany<br>Dias desde a primeira morte=%{x}<br>Mortes=%{y}<extra></extra>\", \"legendgroup\": \"Germany\", \"line\": {\"color\": \"coral\", \"dash\": \"solid\"}, \"mode\": \"lines\", \"name\": \"Germany\", \"showlegend\": true, \"type\": \"scatter\", \"x\": [0, 1, 2, 3, 4, 5, 6, 7, 8, 9, 10, 11, 12, 13, 14, 15, 16, 17, 18, 19, 20], \"xaxis\": \"x\", \"y\": [2, 2, 3, 5, 5, 8, 12, 13, 13, 13, 43, 45, 67, 94, 126, 149, 198, 253, 325, 389, 455], \"yaxis\": \"y\"}, {\"hovertemplate\": \"Pa\\u00edses e territ\\u00f3rios=Czechia<br>Dias desde a primeira morte=%{x}<br>Mortes=%{y}<extra></extra>\", \"legendgroup\": \"Czechia\", \"line\": {\"color\": \"lightblue\", \"dash\": \"solid\"}, \"mode\": \"lines\", \"name\": \"Czechia\", \"showlegend\": true, \"type\": \"scatter\", \"x\": [0, 1, 2, 3, 4, 5, 6, 7, 8, 9, 10, 11, 12, 13, 14, 15, 16, 17, 18], \"xaxis\": \"x\", \"y\": [1, 1, 3, 6, 9, 9, 11, 16, 24, 31, 39, 44, 53, 59, 67, 78, 88, 99, 112], \"yaxis\": \"y\"}],\n",
              "                        {\"legend\": {\"borderwidth\": 0, \"font\": {\"size\": 8}, \"orientation\": \"v\", \"title\": {\"text\": \"Pa\\u00eds\"}, \"tracegroupgap\": 0, \"yanchor\": \"top\"}, \"template\": {\"data\": {\"bar\": [{\"error_x\": {\"color\": \"#2a3f5f\"}, \"error_y\": {\"color\": \"#2a3f5f\"}, \"marker\": {\"line\": {\"color\": \"#E5ECF6\", \"width\": 0.5}}, \"type\": \"bar\"}], \"barpolar\": [{\"marker\": {\"line\": {\"color\": \"#E5ECF6\", \"width\": 0.5}}, \"type\": \"barpolar\"}], \"carpet\": [{\"aaxis\": {\"endlinecolor\": \"#2a3f5f\", \"gridcolor\": \"white\", \"linecolor\": \"white\", \"minorgridcolor\": \"white\", \"startlinecolor\": \"#2a3f5f\"}, \"baxis\": {\"endlinecolor\": \"#2a3f5f\", \"gridcolor\": \"white\", \"linecolor\": \"white\", \"minorgridcolor\": \"white\", \"startlinecolor\": \"#2a3f5f\"}, \"type\": \"carpet\"}], \"choropleth\": [{\"colorbar\": {\"outlinewidth\": 0, \"ticks\": \"\"}, \"type\": \"choropleth\"}], \"contour\": [{\"colorbar\": {\"outlinewidth\": 0, \"ticks\": \"\"}, \"colorscale\": [[0.0, \"#0d0887\"], [0.1111111111111111, \"#46039f\"], [0.2222222222222222, \"#7201a8\"], [0.3333333333333333, \"#9c179e\"], [0.4444444444444444, \"#bd3786\"], [0.5555555555555556, \"#d8576b\"], [0.6666666666666666, \"#ed7953\"], [0.7777777777777778, \"#fb9f3a\"], [0.8888888888888888, \"#fdca26\"], [1.0, \"#f0f921\"]], \"type\": \"contour\"}], \"contourcarpet\": [{\"colorbar\": {\"outlinewidth\": 0, \"ticks\": \"\"}, \"type\": \"contourcarpet\"}], \"heatmap\": [{\"colorbar\": {\"outlinewidth\": 0, \"ticks\": \"\"}, \"colorscale\": [[0.0, \"#0d0887\"], [0.1111111111111111, \"#46039f\"], [0.2222222222222222, \"#7201a8\"], [0.3333333333333333, \"#9c179e\"], [0.4444444444444444, \"#bd3786\"], [0.5555555555555556, \"#d8576b\"], [0.6666666666666666, \"#ed7953\"], [0.7777777777777778, \"#fb9f3a\"], [0.8888888888888888, \"#fdca26\"], [1.0, \"#f0f921\"]], \"type\": \"heatmap\"}], \"heatmapgl\": [{\"colorbar\": {\"outlinewidth\": 0, \"ticks\": \"\"}, \"colorscale\": [[0.0, \"#0d0887\"], [0.1111111111111111, \"#46039f\"], [0.2222222222222222, \"#7201a8\"], [0.3333333333333333, \"#9c179e\"], [0.4444444444444444, \"#bd3786\"], [0.5555555555555556, \"#d8576b\"], [0.6666666666666666, \"#ed7953\"], [0.7777777777777778, \"#fb9f3a\"], [0.8888888888888888, \"#fdca26\"], [1.0, \"#f0f921\"]], \"type\": \"heatmapgl\"}], \"histogram\": [{\"marker\": {\"colorbar\": {\"outlinewidth\": 0, \"ticks\": \"\"}}, \"type\": \"histogram\"}], \"histogram2d\": [{\"colorbar\": {\"outlinewidth\": 0, \"ticks\": \"\"}, \"colorscale\": [[0.0, \"#0d0887\"], [0.1111111111111111, \"#46039f\"], [0.2222222222222222, \"#7201a8\"], [0.3333333333333333, \"#9c179e\"], [0.4444444444444444, \"#bd3786\"], [0.5555555555555556, \"#d8576b\"], [0.6666666666666666, \"#ed7953\"], [0.7777777777777778, \"#fb9f3a\"], [0.8888888888888888, \"#fdca26\"], [1.0, \"#f0f921\"]], \"type\": \"histogram2d\"}], \"histogram2dcontour\": [{\"colorbar\": {\"outlinewidth\": 0, \"ticks\": \"\"}, \"colorscale\": [[0.0, \"#0d0887\"], [0.1111111111111111, \"#46039f\"], [0.2222222222222222, \"#7201a8\"], [0.3333333333333333, \"#9c179e\"], [0.4444444444444444, \"#bd3786\"], [0.5555555555555556, \"#d8576b\"], [0.6666666666666666, \"#ed7953\"], [0.7777777777777778, \"#fb9f3a\"], [0.8888888888888888, \"#fdca26\"], [1.0, \"#f0f921\"]], \"type\": \"histogram2dcontour\"}], \"mesh3d\": [{\"colorbar\": {\"outlinewidth\": 0, \"ticks\": \"\"}, \"type\": \"mesh3d\"}], \"parcoords\": [{\"line\": {\"colorbar\": {\"outlinewidth\": 0, \"ticks\": \"\"}}, \"type\": \"parcoords\"}], \"pie\": [{\"automargin\": true, \"type\": \"pie\"}], \"scatter\": [{\"marker\": {\"colorbar\": {\"outlinewidth\": 0, \"ticks\": \"\"}}, \"type\": \"scatter\"}], \"scatter3d\": [{\"line\": {\"colorbar\": {\"outlinewidth\": 0, \"ticks\": \"\"}}, \"marker\": {\"colorbar\": {\"outlinewidth\": 0, \"ticks\": \"\"}}, \"type\": \"scatter3d\"}], \"scattercarpet\": [{\"marker\": {\"colorbar\": {\"outlinewidth\": 0, \"ticks\": \"\"}}, \"type\": \"scattercarpet\"}], \"scattergeo\": [{\"marker\": {\"colorbar\": {\"outlinewidth\": 0, \"ticks\": \"\"}}, \"type\": \"scattergeo\"}], \"scattergl\": [{\"marker\": {\"colorbar\": {\"outlinewidth\": 0, \"ticks\": \"\"}}, \"type\": \"scattergl\"}], \"scattermapbox\": [{\"marker\": {\"colorbar\": {\"outlinewidth\": 0, \"ticks\": \"\"}}, \"type\": \"scattermapbox\"}], \"scatterpolar\": [{\"marker\": {\"colorbar\": {\"outlinewidth\": 0, \"ticks\": \"\"}}, \"type\": \"scatterpolar\"}], \"scatterpolargl\": [{\"marker\": {\"colorbar\": {\"outlinewidth\": 0, \"ticks\": \"\"}}, \"type\": \"scatterpolargl\"}], \"scatterternary\": [{\"marker\": {\"colorbar\": {\"outlinewidth\": 0, \"ticks\": \"\"}}, \"type\": \"scatterternary\"}], \"surface\": [{\"colorbar\": {\"outlinewidth\": 0, \"ticks\": \"\"}, \"colorscale\": [[0.0, \"#0d0887\"], [0.1111111111111111, \"#46039f\"], [0.2222222222222222, \"#7201a8\"], [0.3333333333333333, \"#9c179e\"], [0.4444444444444444, \"#bd3786\"], [0.5555555555555556, \"#d8576b\"], [0.6666666666666666, \"#ed7953\"], [0.7777777777777778, \"#fb9f3a\"], [0.8888888888888888, \"#fdca26\"], [1.0, \"#f0f921\"]], \"type\": \"surface\"}], \"table\": [{\"cells\": {\"fill\": {\"color\": \"#EBF0F8\"}, \"line\": {\"color\": \"white\"}}, \"header\": {\"fill\": {\"color\": \"#C8D4E3\"}, \"line\": {\"color\": \"white\"}}, \"type\": \"table\"}]}, \"layout\": {\"annotationdefaults\": {\"arrowcolor\": \"#2a3f5f\", \"arrowhead\": 0, \"arrowwidth\": 1}, \"coloraxis\": {\"colorbar\": {\"outlinewidth\": 0, \"ticks\": \"\"}}, \"colorscale\": {\"diverging\": [[0, \"#8e0152\"], [0.1, \"#c51b7d\"], [0.2, \"#de77ae\"], [0.3, \"#f1b6da\"], [0.4, \"#fde0ef\"], [0.5, \"#f7f7f7\"], [0.6, \"#e6f5d0\"], [0.7, \"#b8e186\"], [0.8, \"#7fbc41\"], [0.9, \"#4d9221\"], [1, \"#276419\"]], \"sequential\": [[0.0, \"#0d0887\"], [0.1111111111111111, \"#46039f\"], [0.2222222222222222, \"#7201a8\"], [0.3333333333333333, \"#9c179e\"], [0.4444444444444444, \"#bd3786\"], [0.5555555555555556, \"#d8576b\"], [0.6666666666666666, \"#ed7953\"], [0.7777777777777778, \"#fb9f3a\"], [0.8888888888888888, \"#fdca26\"], [1.0, \"#f0f921\"]], \"sequentialminus\": [[0.0, \"#0d0887\"], [0.1111111111111111, \"#46039f\"], [0.2222222222222222, \"#7201a8\"], [0.3333333333333333, \"#9c179e\"], [0.4444444444444444, \"#bd3786\"], [0.5555555555555556, \"#d8576b\"], [0.6666666666666666, \"#ed7953\"], [0.7777777777777778, \"#fb9f3a\"], [0.8888888888888888, \"#fdca26\"], [1.0, \"#f0f921\"]]}, \"colorway\": [\"#636efa\", \"#EF553B\", \"#00cc96\", \"#ab63fa\", \"#FFA15A\", \"#19d3f3\", \"#FF6692\", \"#B6E880\", \"#FF97FF\", \"#FECB52\"], \"font\": {\"color\": \"#2a3f5f\"}, \"geo\": {\"bgcolor\": \"white\", \"lakecolor\": \"white\", \"landcolor\": \"#E5ECF6\", \"showlakes\": true, \"showland\": true, \"subunitcolor\": \"white\"}, \"hoverlabel\": {\"align\": \"left\"}, \"hovermode\": \"closest\", \"mapbox\": {\"style\": \"light\"}, \"paper_bgcolor\": \"white\", \"plot_bgcolor\": \"#E5ECF6\", \"polar\": {\"angularaxis\": {\"gridcolor\": \"white\", \"linecolor\": \"white\", \"ticks\": \"\"}, \"bgcolor\": \"#E5ECF6\", \"radialaxis\": {\"gridcolor\": \"white\", \"linecolor\": \"white\", \"ticks\": \"\"}}, \"scene\": {\"xaxis\": {\"backgroundcolor\": \"#E5ECF6\", \"gridcolor\": \"white\", \"gridwidth\": 2, \"linecolor\": \"white\", \"showbackground\": true, \"ticks\": \"\", \"zerolinecolor\": \"white\"}, \"yaxis\": {\"backgroundcolor\": \"#E5ECF6\", \"gridcolor\": \"white\", \"gridwidth\": 2, \"linecolor\": \"white\", \"showbackground\": true, \"ticks\": \"\", \"zerolinecolor\": \"white\"}, \"zaxis\": {\"backgroundcolor\": \"#E5ECF6\", \"gridcolor\": \"white\", \"gridwidth\": 2, \"linecolor\": \"white\", \"showbackground\": true, \"ticks\": \"\", \"zerolinecolor\": \"white\"}}, \"shapedefaults\": {\"line\": {\"color\": \"#2a3f5f\"}}, \"ternary\": {\"aaxis\": {\"gridcolor\": \"white\", \"linecolor\": \"white\", \"ticks\": \"\"}, \"baxis\": {\"gridcolor\": \"white\", \"linecolor\": \"white\", \"ticks\": \"\"}, \"bgcolor\": \"#E5ECF6\", \"caxis\": {\"gridcolor\": \"white\", \"linecolor\": \"white\", \"ticks\": \"\"}}, \"title\": {\"x\": 0.05}, \"xaxis\": {\"automargin\": true, \"gridcolor\": \"white\", \"linecolor\": \"white\", \"ticks\": \"\", \"title\": {\"standoff\": 15}, \"zerolinecolor\": \"white\", \"zerolinewidth\": 2}, \"yaxis\": {\"automargin\": true, \"gridcolor\": \"white\", \"linecolor\": \"white\", \"ticks\": \"\", \"title\": {\"standoff\": 15}, \"zerolinecolor\": \"white\", \"zerolinewidth\": 2}}}, \"title\": {\"text\": \"COVID-19 - Mortes 10-04-2020 \\n Zoom at\\u00e9 500\"}, \"xaxis\": {\"anchor\": \"y\", \"domain\": [0.0, 1.0], \"title\": {\"text\": \"Dias desde a primeira morte\"}}, \"yaxis\": {\"anchor\": \"x\", \"domain\": [0.0, 1.0], \"title\": {\"text\": \"Mortes\"}}},\n",
              "                        {\"responsive\": true}\n",
              "                    ).then(function(){\n",
              "                            \n",
              "var gd = document.getElementById('52b2acf9-e410-40b8-8080-556b0157caba');\n",
              "var x = new MutationObserver(function (mutations, observer) {{\n",
              "        var display = window.getComputedStyle(gd).display;\n",
              "        if (!display || display === 'none') {{\n",
              "            console.log([gd, 'removed!']);\n",
              "            Plotly.purge(gd);\n",
              "            observer.disconnect();\n",
              "        }}\n",
              "}});\n",
              "\n",
              "// Listen for the removal of the full notebook cells\n",
              "var notebookContainer = gd.closest('#notebook-container');\n",
              "if (notebookContainer) {{\n",
              "    x.observe(notebookContainer, {childList: true});\n",
              "}}\n",
              "\n",
              "// Listen for the clearing of the current output cell\n",
              "var outputEl = gd.closest('.output');\n",
              "if (outputEl) {{\n",
              "    x.observe(outputEl, {childList: true});\n",
              "}}\n",
              "\n",
              "                        })\n",
              "                };\n",
              "                \n",
              "            </script>\n",
              "        </div>\n",
              "</body>\n",
              "</html>"
            ]
          },
          "metadata": {
            "tags": []
          }
        }
      ]
    },
    {
      "cell_type": "code",
      "metadata": {
        "colab_type": "code",
        "id": "GpDxQSaqngDf",
        "outputId": "8f97346a-5106-4d43-bd31-b2536722d465",
        "colab": {
          "base_uri": "https://localhost:8080/",
          "height": 542
        }
      },
      "source": [
        "#hide_input\n",
        "\n",
        "\n",
        "fig = px.line(mfinal_data, x=\"Dias desde a primeira morte\", y=\"Mortes\", color='Países e territórios',title='COVID-19 - Mortes  - {} \\n Escala Aritmética'.format(today),\n",
        "              color_discrete_sequence=[\"black\", \"blue\",'green',\"darkmagenta\",\"gray\",\"brown\",\"orange\",\"magenta\",'red',\"darkblue\",\"lightgreen\",'coral','lightblue'])\n",
        "fig.update_layout(legend= {'title':'País','borderwidth':0,'orientation':'v','yanchor':'top','font':{'size':8}})\n",
        "\n",
        "fig.show()"
      ],
      "execution_count": 58,
      "outputs": [
        {
          "output_type": "display_data",
          "data": {
            "text/html": [
              "<html>\n",
              "<head><meta charset=\"utf-8\" /></head>\n",
              "<body>\n",
              "    <div>\n",
              "            <script src=\"https://cdnjs.cloudflare.com/ajax/libs/mathjax/2.7.5/MathJax.js?config=TeX-AMS-MML_SVG\"></script><script type=\"text/javascript\">if (window.MathJax) {MathJax.Hub.Config({SVG: {font: \"STIX-Web\"}});}</script>\n",
              "                <script type=\"text/javascript\">window.PlotlyConfig = {MathJaxConfig: 'local'};</script>\n",
              "        <script src=\"https://cdn.plot.ly/plotly-latest.min.js\"></script>    \n",
              "            <div id=\"431662ec-3a62-4976-88f0-0c26efd69695\" class=\"plotly-graph-div\" style=\"height:525px; width:100%;\"></div>\n",
              "            <script type=\"text/javascript\">\n",
              "                \n",
              "                    window.PLOTLYENV=window.PLOTLYENV || {};\n",
              "                    \n",
              "                if (document.getElementById(\"431662ec-3a62-4976-88f0-0c26efd69695\")) {\n",
              "                    Plotly.newPlot(\n",
              "                        '431662ec-3a62-4976-88f0-0c26efd69695',\n",
              "                        [{\"hovertemplate\": \"Pa\\u00edses e territ\\u00f3rios=Brazil<br>Dias desde a primeira morte=%{x}<br>Mortes=%{y}<extra></extra>\", \"legendgroup\": \"Brazil\", \"line\": {\"color\": \"black\", \"dash\": \"solid\"}, \"mode\": \"lines\", \"name\": \"Brazil\", \"showlegend\": true, \"type\": \"scatter\", \"x\": [0, 1, 2, 3, 4, 5, 6, 7, 8, 9, 10, 11, 12, 13, 14, 15, 16, 17, 18, 19, 20, 21, 22, 23], \"xaxis\": \"x\", \"y\": [1, 4, 6, 11, 18, 25, 34, 46, 57, 77, 92, 114, 136, 159, 201, 241, 299, 359, 432, 486, 553, 667, 800, 941], \"yaxis\": \"y\"}, {\"hovertemplate\": \"Pa\\u00edses e territ\\u00f3rios=Italy<br>Dias desde a primeira morte=%{x}<br>Mortes=%{y}<extra></extra>\", \"legendgroup\": \"Italy\", \"line\": {\"color\": \"blue\", \"dash\": \"solid\"}, \"mode\": \"lines\", \"name\": \"Italy\", \"showlegend\": true, \"type\": \"scatter\", \"x\": [0, 1, 2, 3, 4, 5, 6, 7, 8, 9, 10, 11, 12, 13, 14, 15, 16, 17, 18, 19, 20, 21, 22, 23, 24, 25, 26, 27, 28, 29, 30, 31, 32, 33, 34, 35, 36, 37, 38, 39, 40, 41, 42, 43, 44, 45, 46, 47], \"xaxis\": \"x\", \"y\": [2, 2, 6, 11, 12, 17, 21, 29, 35, 52, 80, 107, 148, 197, 233, 366, 464, 631, 827, 1016, 1268, 1441, 1811, 2158, 2505, 2978, 3407, 4032, 4827, 5476, 6077, 6820, 7505, 8165, 9136, 10023, 10781, 11591, 12430, 13157, 13917, 14681, 15362, 15889, 16525, 17129, 17669, 18281], \"yaxis\": \"y\"}, {\"hovertemplate\": \"Pa\\u00edses e territ\\u00f3rios=Japan<br>Dias desde a primeira morte=%{x}<br>Mortes=%{y}<extra></extra>\", \"legendgroup\": \"Japan\", \"line\": {\"color\": \"green\", \"dash\": \"solid\"}, \"mode\": \"lines\", \"name\": \"Japan\", \"showlegend\": true, \"type\": \"scatter\", \"x\": [0, 1, 2, 3, 4, 5, 6, 7, 8, 9, 10, 11, 12, 13, 14, 15, 16, 17, 18, 19, 20, 21, 22, 23, 24, 25, 26, 27, 28, 29, 30, 31, 32, 33, 34, 35, 36, 37, 38, 39, 40, 41, 42, 43, 44, 45, 46, 47, 48, 49, 50, 51, 52, 53, 54, 55, 56, 57], \"xaxis\": \"x\", \"y\": [1, 1, 1, 1, 1, 1, 1, 1, 1, 1, 1, 1, 1, 1, 3, 3, 3, 5, 6, 6, 6, 6, 6, 6, 6, 7, 9, 12, 15, 19, 21, 22, 24, 28, 28, 29, 33, 35, 36, 41, 42, 43, 45, 46, 49, 52, 54, 56, 56, 57, 63, 69, 70, 73, 80, 80, 81, 85], \"yaxis\": \"y\"}, {\"hovertemplate\": \"Pa\\u00edses e territ\\u00f3rios=United_Kingdom<br>Dias desde a primeira morte=%{x}<br>Mortes=%{y}<extra></extra>\", \"legendgroup\": \"United_Kingdom\", \"line\": {\"color\": \"darkmagenta\", \"dash\": \"solid\"}, \"mode\": \"lines\", \"name\": \"United_Kingdom\", \"showlegend\": true, \"type\": \"scatter\", \"x\": [0, 1, 2, 3, 4, 5, 6, 7, 8, 9, 10, 11, 12, 13, 14, 15, 16, 17, 18, 19, 20, 21, 22, 23, 24, 25, 26, 27, 28, 29, 30, 31, 32, 33, 34, 35], \"xaxis\": \"x\", \"y\": [1, 1, 2, 3, 5, 6, 6, 10, 10, 21, 35, 55, 60, 103, 144, 177, 233, 281, 335, 422, 463, 578, 759, 1019, 1228, 1408, 1789, 2532, 2921, 3605, 4313, 4934, 5373, 6159, 7097, 7978], \"yaxis\": \"y\"}, {\"hovertemplate\": \"Pa\\u00edses e territ\\u00f3rios=United_States_of_America<br>Dias desde a primeira morte=%{x}<br>Mortes=%{y}<extra></extra>\", \"legendgroup\": \"United_States_of_America\", \"line\": {\"color\": \"gray\", \"dash\": \"solid\"}, \"mode\": \"lines\", \"name\": \"United_States_of_America\", \"showlegend\": true, \"type\": \"scatter\", \"x\": [0, 1, 2, 3, 4, 5, 6, 7, 8, 9, 10, 11, 12, 13, 14, 15, 16, 17, 18, 19, 20, 21, 22, 23, 24, 25, 26, 27, 28, 29, 30, 31, 32, 33, 34, 35, 36, 37, 38, 39, 40], \"xaxis\": \"x\", \"y\": [1, 2, 6, 9, 11, 12, 14, 17, 21, 26, 28, 30, 40, 47, 57, 69, 85, 108, 150, 150, 260, 340, 471, 590, 801, 1050, 1296, 1707, 2191, 2509, 3170, 4079, 5138, 6053, 7157, 8501, 9647, 10989, 12895, 14817, 16690], \"yaxis\": \"y\"}, {\"hovertemplate\": \"Pa\\u00edses e territ\\u00f3rios=South_Korea<br>Dias desde a primeira morte=%{x}<br>Mortes=%{y}<extra></extra>\", \"legendgroup\": \"South_Korea\", \"line\": {\"color\": \"brown\", \"dash\": \"solid\"}, \"mode\": \"lines\", \"name\": \"South_Korea\", \"showlegend\": true, \"type\": \"scatter\", \"x\": [0, 1, 2, 3, 4, 5, 6, 7, 8, 9, 10, 11, 12, 13, 14, 15, 16, 17, 18, 19, 20, 21, 22, 23, 24, 25, 26, 27, 28, 29, 30, 31, 32, 33, 34, 35, 36, 37, 38, 39, 40, 41, 42, 43, 44, 45, 46, 47, 48, 49], \"xaxis\": \"x\", \"y\": [1, 2, 5, 7, 8, 11, 12, 13, 16, 17, 22, 28, 32, 35, 42, 44, 50, 51, 54, 60, 66, 67, 72, 75, 75, 81, 86, 91, 100, 103, 104, 113, 120, 126, 131, 139, 144, 152, 158, 163, 163, 169, 174, 177, 183, 186, 192, 200, 204, 208], \"yaxis\": \"y\"}, {\"hovertemplate\": \"Pa\\u00edses e territ\\u00f3rios=France<br>Dias desde a primeira morte=%{x}<br>Mortes=%{y}<extra></extra>\", \"legendgroup\": \"France\", \"line\": {\"color\": \"orange\", \"dash\": \"solid\"}, \"mode\": \"lines\", \"name\": \"France\", \"showlegend\": true, \"type\": \"scatter\", \"x\": [0, 1, 2, 3, 4, 5, 6, 7, 8, 9, 10, 11, 12, 13, 14, 15, 16, 17, 18, 19, 20, 21, 22, 23, 24, 25, 26, 27, 28, 29, 30, 31, 32, 33, 34, 35, 36, 37, 38, 39, 40, 41, 42, 43, 44, 45, 46, 47, 48, 49, 50, 51, 52, 53, 54, 55], \"xaxis\": \"x\", \"y\": [1, 1, 1, 1, 1, 1, 1, 1, 1, 1, 1, 1, 2, 2, 2, 2, 2, 3, 4, 4, 7, 9, 10, 19, 30, 33, 48, 61, 79, 91, 127, 148, 175, 244, 372, 450, 562, 674, 860, 1100, 1331, 1696, 1995, 2314, 2606, 3024, 3523, 4032, 4503, 6507, 7560, 8078, 8911, 10328, 10869, 12210], \"yaxis\": \"y\"}, {\"hovertemplate\": \"Pa\\u00edses e territ\\u00f3rios=China<br>Dias desde a primeira morte=%{x}<br>Mortes=%{y}<extra></extra>\", \"legendgroup\": \"China\", \"line\": {\"color\": \"magenta\", \"dash\": \"solid\"}, \"mode\": \"lines\", \"name\": \"China\", \"showlegend\": true, \"type\": \"scatter\", \"x\": [0, 1, 2, 3, 4, 5, 6, 7, 8, 9, 10, 11, 12, 13, 14, 15, 16, 17, 18, 19, 20, 21, 22, 23, 24, 25, 26, 27, 28, 29, 30, 31, 32, 33, 34, 35, 36, 37, 38, 39, 40, 41, 42, 43, 44, 45, 46, 47, 48, 49, 50, 51, 52, 53, 54, 55, 56, 57, 58, 59, 60, 61, 62, 63, 64, 65, 66, 67, 68, 69, 70, 71, 72, 73, 74, 75, 76, 77, 78, 79, 80, 81, 82, 83, 84, 85, 86, 87, 88, 89, 90], \"xaxis\": \"x\", \"y\": [1, 1, 1, 1, 2, 2, 2, 2, 3, 3, 6, 17, 17, 26, 41, 56, 81, 106, 132, 170, 213, 259, 304, 361, 426, 492, 564, 637, 723, 812, 909, 1017, 1114, 1368, 1381, 1524, 1666, 1771, 1869, 2008, 2120, 2238, 2347, 2445, 2595, 2665, 2717, 2746, 2790, 2837, 2872, 2914, 2946, 2983, 3014, 3044, 3072, 3099, 3122, 3139, 3161, 3172, 3179, 3194, 3203, 3216, 3225, 3241, 3249, 3253, 3259, 3265, 3274, 3281, 3285, 3291, 3296, 3299, 3304, 3306, 3309, 3310, 3316, 3326, 3330, 3333, 3335, 3335, 3337, 3339, 3340], \"yaxis\": \"y\"}, {\"hovertemplate\": \"Pa\\u00edses e territ\\u00f3rios=Spain<br>Dias desde a primeira morte=%{x}<br>Mortes=%{y}<extra></extra>\", \"legendgroup\": \"Spain\", \"line\": {\"color\": \"red\", \"dash\": \"solid\"}, \"mode\": \"lines\", \"name\": \"Spain\", \"showlegend\": true, \"type\": \"scatter\", \"x\": [0, 1, 2, 3, 4, 5, 6, 7, 8, 9, 10, 11, 12, 13, 14, 15, 16, 17, 18, 19, 20, 21, 22, 23, 24, 25, 26, 27, 28, 29, 30, 31, 32, 33, 34, 35, 36], \"xaxis\": \"x\", \"y\": [1, 3, 5, 5, 5, 28, 35, 47, 84, 121, 136, 288, 309, 491, 598, 767, 1002, 1326, 1720, 2182, 2696, 3434, 4089, 4858, 5690, 6528, 7340, 8189, 9053, 10003, 10935, 11744, 12418, 13055, 13798, 14555, 15238], \"yaxis\": \"y\"}, {\"hovertemplate\": \"Pa\\u00edses e territ\\u00f3rios=Argentina<br>Dias desde a primeira morte=%{x}<br>Mortes=%{y}<extra></extra>\", \"legendgroup\": \"Argentina\", \"line\": {\"color\": \"darkblue\", \"dash\": \"solid\"}, \"mode\": \"lines\", \"name\": \"Argentina\", \"showlegend\": true, \"type\": \"scatter\", \"x\": [0, 1, 2, 3, 4, 5, 6, 7, 8, 9, 10, 11, 12, 13, 14, 15, 16, 17, 18, 19, 20, 21, 22, 23, 24, 25, 26, 27, 28, 29, 30, 31], \"xaxis\": \"x\", \"y\": [1, 1, 1, 1, 2, 2, 2, 2, 2, 2, 3, 3, 4, 4, 4, 6, 8, 12, 17, 19, 20, 24, 24, 31, 34, 37, 43, 46, 53, 60, 65, 79], \"yaxis\": \"y\"}, {\"hovertemplate\": \"Pa\\u00edses e territ\\u00f3rios=India<br>Dias desde a primeira morte=%{x}<br>Mortes=%{y}<extra></extra>\", \"legendgroup\": \"India\", \"line\": {\"color\": \"lightgreen\", \"dash\": \"solid\"}, \"mode\": \"lines\", \"name\": \"India\", \"showlegend\": true, \"type\": \"scatter\", \"x\": [0, 1, 2, 3, 4, 5, 6, 7, 8, 9, 10, 11, 12, 13, 14, 15, 16, 17, 18, 19, 20, 21, 22, 23, 24, 25, 26, 27, 28], \"xaxis\": \"x\", \"y\": [1, 2, 2, 2, 3, 3, 3, 4, 4, 4, 7, 9, 9, 13, 17, 19, 25, 29, 32, 35, 50, 56, 68, 77, 109, 114, 149, 166, 199], \"yaxis\": \"y\"}, {\"hovertemplate\": \"Pa\\u00edses e territ\\u00f3rios=Germany<br>Dias desde a primeira morte=%{x}<br>Mortes=%{y}<extra></extra>\", \"legendgroup\": \"Germany\", \"line\": {\"color\": \"coral\", \"dash\": \"solid\"}, \"mode\": \"lines\", \"name\": \"Germany\", \"showlegend\": true, \"type\": \"scatter\", \"x\": [0, 1, 2, 3, 4, 5, 6, 7, 8, 9, 10, 11, 12, 13, 14, 15, 16, 17, 18, 19, 20, 21, 22, 23, 24, 25, 26, 27, 28, 29, 30, 31], \"xaxis\": \"x\", \"y\": [2, 2, 3, 5, 5, 8, 12, 13, 13, 13, 43, 45, 67, 94, 126, 149, 198, 253, 325, 389, 455, 583, 732, 872, 1017, 1158, 1342, 1434, 1607, 1861, 2107, 2373], \"yaxis\": \"y\"}, {\"hovertemplate\": \"Pa\\u00edses e territ\\u00f3rios=Czechia<br>Dias desde a primeira morte=%{x}<br>Mortes=%{y}<extra></extra>\", \"legendgroup\": \"Czechia\", \"line\": {\"color\": \"lightblue\", \"dash\": \"solid\"}, \"mode\": \"lines\", \"name\": \"Czechia\", \"showlegend\": true, \"type\": \"scatter\", \"x\": [0, 1, 2, 3, 4, 5, 6, 7, 8, 9, 10, 11, 12, 13, 14, 15, 16, 17, 18], \"xaxis\": \"x\", \"y\": [1, 1, 3, 6, 9, 9, 11, 16, 24, 31, 39, 44, 53, 59, 67, 78, 88, 99, 112], \"yaxis\": \"y\"}],\n",
              "                        {\"legend\": {\"borderwidth\": 0, \"font\": {\"size\": 8}, \"orientation\": \"v\", \"title\": {\"text\": \"Pa\\u00eds\"}, \"tracegroupgap\": 0, \"yanchor\": \"top\"}, \"template\": {\"data\": {\"bar\": [{\"error_x\": {\"color\": \"#2a3f5f\"}, \"error_y\": {\"color\": \"#2a3f5f\"}, \"marker\": {\"line\": {\"color\": \"#E5ECF6\", \"width\": 0.5}}, \"type\": \"bar\"}], \"barpolar\": [{\"marker\": {\"line\": {\"color\": \"#E5ECF6\", \"width\": 0.5}}, \"type\": \"barpolar\"}], \"carpet\": [{\"aaxis\": {\"endlinecolor\": \"#2a3f5f\", \"gridcolor\": \"white\", \"linecolor\": \"white\", \"minorgridcolor\": \"white\", \"startlinecolor\": \"#2a3f5f\"}, \"baxis\": {\"endlinecolor\": \"#2a3f5f\", \"gridcolor\": \"white\", \"linecolor\": \"white\", \"minorgridcolor\": \"white\", \"startlinecolor\": \"#2a3f5f\"}, \"type\": \"carpet\"}], \"choropleth\": [{\"colorbar\": {\"outlinewidth\": 0, \"ticks\": \"\"}, \"type\": \"choropleth\"}], \"contour\": [{\"colorbar\": {\"outlinewidth\": 0, \"ticks\": \"\"}, \"colorscale\": [[0.0, \"#0d0887\"], [0.1111111111111111, \"#46039f\"], [0.2222222222222222, \"#7201a8\"], [0.3333333333333333, \"#9c179e\"], [0.4444444444444444, \"#bd3786\"], [0.5555555555555556, \"#d8576b\"], [0.6666666666666666, \"#ed7953\"], [0.7777777777777778, \"#fb9f3a\"], [0.8888888888888888, \"#fdca26\"], [1.0, \"#f0f921\"]], \"type\": \"contour\"}], \"contourcarpet\": [{\"colorbar\": {\"outlinewidth\": 0, \"ticks\": \"\"}, \"type\": \"contourcarpet\"}], \"heatmap\": [{\"colorbar\": {\"outlinewidth\": 0, \"ticks\": \"\"}, \"colorscale\": [[0.0, \"#0d0887\"], [0.1111111111111111, \"#46039f\"], [0.2222222222222222, \"#7201a8\"], [0.3333333333333333, \"#9c179e\"], [0.4444444444444444, \"#bd3786\"], [0.5555555555555556, \"#d8576b\"], [0.6666666666666666, \"#ed7953\"], [0.7777777777777778, \"#fb9f3a\"], [0.8888888888888888, \"#fdca26\"], [1.0, \"#f0f921\"]], \"type\": \"heatmap\"}], \"heatmapgl\": [{\"colorbar\": {\"outlinewidth\": 0, \"ticks\": \"\"}, \"colorscale\": [[0.0, \"#0d0887\"], [0.1111111111111111, \"#46039f\"], [0.2222222222222222, \"#7201a8\"], [0.3333333333333333, \"#9c179e\"], [0.4444444444444444, \"#bd3786\"], [0.5555555555555556, \"#d8576b\"], [0.6666666666666666, \"#ed7953\"], [0.7777777777777778, \"#fb9f3a\"], [0.8888888888888888, \"#fdca26\"], [1.0, \"#f0f921\"]], \"type\": \"heatmapgl\"}], \"histogram\": [{\"marker\": {\"colorbar\": {\"outlinewidth\": 0, \"ticks\": \"\"}}, \"type\": \"histogram\"}], \"histogram2d\": [{\"colorbar\": {\"outlinewidth\": 0, \"ticks\": \"\"}, \"colorscale\": [[0.0, \"#0d0887\"], [0.1111111111111111, \"#46039f\"], [0.2222222222222222, \"#7201a8\"], [0.3333333333333333, \"#9c179e\"], [0.4444444444444444, \"#bd3786\"], [0.5555555555555556, \"#d8576b\"], [0.6666666666666666, \"#ed7953\"], [0.7777777777777778, \"#fb9f3a\"], [0.8888888888888888, \"#fdca26\"], [1.0, \"#f0f921\"]], \"type\": \"histogram2d\"}], \"histogram2dcontour\": [{\"colorbar\": {\"outlinewidth\": 0, \"ticks\": \"\"}, \"colorscale\": [[0.0, \"#0d0887\"], [0.1111111111111111, \"#46039f\"], [0.2222222222222222, \"#7201a8\"], [0.3333333333333333, \"#9c179e\"], [0.4444444444444444, \"#bd3786\"], [0.5555555555555556, \"#d8576b\"], [0.6666666666666666, \"#ed7953\"], [0.7777777777777778, \"#fb9f3a\"], [0.8888888888888888, \"#fdca26\"], [1.0, \"#f0f921\"]], \"type\": \"histogram2dcontour\"}], \"mesh3d\": [{\"colorbar\": {\"outlinewidth\": 0, \"ticks\": \"\"}, \"type\": \"mesh3d\"}], \"parcoords\": [{\"line\": {\"colorbar\": {\"outlinewidth\": 0, \"ticks\": \"\"}}, \"type\": \"parcoords\"}], \"pie\": [{\"automargin\": true, \"type\": \"pie\"}], \"scatter\": [{\"marker\": {\"colorbar\": {\"outlinewidth\": 0, \"ticks\": \"\"}}, \"type\": \"scatter\"}], \"scatter3d\": [{\"line\": {\"colorbar\": {\"outlinewidth\": 0, \"ticks\": \"\"}}, \"marker\": {\"colorbar\": {\"outlinewidth\": 0, \"ticks\": \"\"}}, \"type\": \"scatter3d\"}], \"scattercarpet\": [{\"marker\": {\"colorbar\": {\"outlinewidth\": 0, \"ticks\": \"\"}}, \"type\": \"scattercarpet\"}], \"scattergeo\": [{\"marker\": {\"colorbar\": {\"outlinewidth\": 0, \"ticks\": \"\"}}, \"type\": \"scattergeo\"}], \"scattergl\": [{\"marker\": {\"colorbar\": {\"outlinewidth\": 0, \"ticks\": \"\"}}, \"type\": \"scattergl\"}], \"scattermapbox\": [{\"marker\": {\"colorbar\": {\"outlinewidth\": 0, \"ticks\": \"\"}}, \"type\": \"scattermapbox\"}], \"scatterpolar\": [{\"marker\": {\"colorbar\": {\"outlinewidth\": 0, \"ticks\": \"\"}}, \"type\": \"scatterpolar\"}], \"scatterpolargl\": [{\"marker\": {\"colorbar\": {\"outlinewidth\": 0, \"ticks\": \"\"}}, \"type\": \"scatterpolargl\"}], \"scatterternary\": [{\"marker\": {\"colorbar\": {\"outlinewidth\": 0, \"ticks\": \"\"}}, \"type\": \"scatterternary\"}], \"surface\": [{\"colorbar\": {\"outlinewidth\": 0, \"ticks\": \"\"}, \"colorscale\": [[0.0, \"#0d0887\"], [0.1111111111111111, \"#46039f\"], [0.2222222222222222, \"#7201a8\"], [0.3333333333333333, \"#9c179e\"], [0.4444444444444444, \"#bd3786\"], [0.5555555555555556, \"#d8576b\"], [0.6666666666666666, \"#ed7953\"], [0.7777777777777778, \"#fb9f3a\"], [0.8888888888888888, \"#fdca26\"], [1.0, \"#f0f921\"]], \"type\": \"surface\"}], \"table\": [{\"cells\": {\"fill\": {\"color\": \"#EBF0F8\"}, \"line\": {\"color\": \"white\"}}, \"header\": {\"fill\": {\"color\": \"#C8D4E3\"}, \"line\": {\"color\": \"white\"}}, \"type\": \"table\"}]}, \"layout\": {\"annotationdefaults\": {\"arrowcolor\": \"#2a3f5f\", \"arrowhead\": 0, \"arrowwidth\": 1}, \"coloraxis\": {\"colorbar\": {\"outlinewidth\": 0, \"ticks\": \"\"}}, \"colorscale\": {\"diverging\": [[0, \"#8e0152\"], [0.1, \"#c51b7d\"], [0.2, \"#de77ae\"], [0.3, \"#f1b6da\"], [0.4, \"#fde0ef\"], [0.5, \"#f7f7f7\"], [0.6, \"#e6f5d0\"], [0.7, \"#b8e186\"], [0.8, \"#7fbc41\"], [0.9, \"#4d9221\"], [1, \"#276419\"]], \"sequential\": [[0.0, \"#0d0887\"], [0.1111111111111111, \"#46039f\"], [0.2222222222222222, \"#7201a8\"], [0.3333333333333333, \"#9c179e\"], [0.4444444444444444, \"#bd3786\"], [0.5555555555555556, \"#d8576b\"], [0.6666666666666666, \"#ed7953\"], [0.7777777777777778, \"#fb9f3a\"], [0.8888888888888888, \"#fdca26\"], [1.0, \"#f0f921\"]], \"sequentialminus\": [[0.0, \"#0d0887\"], [0.1111111111111111, \"#46039f\"], [0.2222222222222222, \"#7201a8\"], [0.3333333333333333, \"#9c179e\"], [0.4444444444444444, \"#bd3786\"], [0.5555555555555556, \"#d8576b\"], [0.6666666666666666, \"#ed7953\"], [0.7777777777777778, \"#fb9f3a\"], [0.8888888888888888, \"#fdca26\"], [1.0, \"#f0f921\"]]}, \"colorway\": [\"#636efa\", \"#EF553B\", \"#00cc96\", \"#ab63fa\", \"#FFA15A\", \"#19d3f3\", \"#FF6692\", \"#B6E880\", \"#FF97FF\", \"#FECB52\"], \"font\": {\"color\": \"#2a3f5f\"}, \"geo\": {\"bgcolor\": \"white\", \"lakecolor\": \"white\", \"landcolor\": \"#E5ECF6\", \"showlakes\": true, \"showland\": true, \"subunitcolor\": \"white\"}, \"hoverlabel\": {\"align\": \"left\"}, \"hovermode\": \"closest\", \"mapbox\": {\"style\": \"light\"}, \"paper_bgcolor\": \"white\", \"plot_bgcolor\": \"#E5ECF6\", \"polar\": {\"angularaxis\": {\"gridcolor\": \"white\", \"linecolor\": \"white\", \"ticks\": \"\"}, \"bgcolor\": \"#E5ECF6\", \"radialaxis\": {\"gridcolor\": \"white\", \"linecolor\": \"white\", \"ticks\": \"\"}}, \"scene\": {\"xaxis\": {\"backgroundcolor\": \"#E5ECF6\", \"gridcolor\": \"white\", \"gridwidth\": 2, \"linecolor\": \"white\", \"showbackground\": true, \"ticks\": \"\", \"zerolinecolor\": \"white\"}, \"yaxis\": {\"backgroundcolor\": \"#E5ECF6\", \"gridcolor\": \"white\", \"gridwidth\": 2, \"linecolor\": \"white\", \"showbackground\": true, \"ticks\": \"\", \"zerolinecolor\": \"white\"}, \"zaxis\": {\"backgroundcolor\": \"#E5ECF6\", \"gridcolor\": \"white\", \"gridwidth\": 2, \"linecolor\": \"white\", \"showbackground\": true, \"ticks\": \"\", \"zerolinecolor\": \"white\"}}, \"shapedefaults\": {\"line\": {\"color\": \"#2a3f5f\"}}, \"ternary\": {\"aaxis\": {\"gridcolor\": \"white\", \"linecolor\": \"white\", \"ticks\": \"\"}, \"baxis\": {\"gridcolor\": \"white\", \"linecolor\": \"white\", \"ticks\": \"\"}, \"bgcolor\": \"#E5ECF6\", \"caxis\": {\"gridcolor\": \"white\", \"linecolor\": \"white\", \"ticks\": \"\"}}, \"title\": {\"x\": 0.05}, \"xaxis\": {\"automargin\": true, \"gridcolor\": \"white\", \"linecolor\": \"white\", \"ticks\": \"\", \"title\": {\"standoff\": 15}, \"zerolinecolor\": \"white\", \"zerolinewidth\": 2}, \"yaxis\": {\"automargin\": true, \"gridcolor\": \"white\", \"linecolor\": \"white\", \"ticks\": \"\", \"title\": {\"standoff\": 15}, \"zerolinecolor\": \"white\", \"zerolinewidth\": 2}}}, \"title\": {\"text\": \"COVID-19 - Mortes  - 10-04-2020 \\n Escala Aritm\\u00e9tica\"}, \"xaxis\": {\"anchor\": \"y\", \"domain\": [0.0, 1.0], \"title\": {\"text\": \"Dias desde a primeira morte\"}}, \"yaxis\": {\"anchor\": \"x\", \"domain\": [0.0, 1.0], \"title\": {\"text\": \"Mortes\"}}},\n",
              "                        {\"responsive\": true}\n",
              "                    ).then(function(){\n",
              "                            \n",
              "var gd = document.getElementById('431662ec-3a62-4976-88f0-0c26efd69695');\n",
              "var x = new MutationObserver(function (mutations, observer) {{\n",
              "        var display = window.getComputedStyle(gd).display;\n",
              "        if (!display || display === 'none') {{\n",
              "            console.log([gd, 'removed!']);\n",
              "            Plotly.purge(gd);\n",
              "            observer.disconnect();\n",
              "        }}\n",
              "}});\n",
              "\n",
              "// Listen for the removal of the full notebook cells\n",
              "var notebookContainer = gd.closest('#notebook-container');\n",
              "if (notebookContainer) {{\n",
              "    x.observe(notebookContainer, {childList: true});\n",
              "}}\n",
              "\n",
              "// Listen for the clearing of the current output cell\n",
              "var outputEl = gd.closest('.output');\n",
              "if (outputEl) {{\n",
              "    x.observe(outputEl, {childList: true});\n",
              "}}\n",
              "\n",
              "                        })\n",
              "                };\n",
              "                \n",
              "            </script>\n",
              "        </div>\n",
              "</body>\n",
              "</html>"
            ]
          },
          "metadata": {
            "tags": []
          }
        }
      ]
    },
    {
      "cell_type": "code",
      "metadata": {
        "colab_type": "code",
        "id": "1cJZAe_1SBsP",
        "outputId": "0e4eb7d9-a611-4fa5-fce0-8c9fc475f5d4",
        "colab": {
          "base_uri": "https://localhost:8080/",
          "height": 542
        }
      },
      "source": [
        "#hide_input\n",
        "\n",
        "\n",
        "fig = px.line(mfinal_data, x=\"Dias desde a primeira morte\", y=\"Mortes\", title='COVID-19 - Mortes  {} \\n Escala Logarítmica'.format(today),\n",
        "              color='Países e territórios',color_discrete_sequence=[\"black\", \"blue\",'green',\"darkmagenta\",\"gray\",\"brown\",\"orange\",\"magenta\",'red',\"darkblue\",\"lightgreen\",'coral','lightblue'])\n",
        "fig.update_layout(legend= {'title':'País','borderwidth':0,'orientation':'v','yanchor':'top','font':{'size':8}})\n",
        "\n",
        "fig.update_layout( yaxis_type=\"log\")\n",
        "fig.show()"
      ],
      "execution_count": 59,
      "outputs": [
        {
          "output_type": "display_data",
          "data": {
            "text/html": [
              "<html>\n",
              "<head><meta charset=\"utf-8\" /></head>\n",
              "<body>\n",
              "    <div>\n",
              "            <script src=\"https://cdnjs.cloudflare.com/ajax/libs/mathjax/2.7.5/MathJax.js?config=TeX-AMS-MML_SVG\"></script><script type=\"text/javascript\">if (window.MathJax) {MathJax.Hub.Config({SVG: {font: \"STIX-Web\"}});}</script>\n",
              "                <script type=\"text/javascript\">window.PlotlyConfig = {MathJaxConfig: 'local'};</script>\n",
              "        <script src=\"https://cdn.plot.ly/plotly-latest.min.js\"></script>    \n",
              "            <div id=\"9665ca18-2d6f-465d-b200-376a28cb33a4\" class=\"plotly-graph-div\" style=\"height:525px; width:100%;\"></div>\n",
              "            <script type=\"text/javascript\">\n",
              "                \n",
              "                    window.PLOTLYENV=window.PLOTLYENV || {};\n",
              "                    \n",
              "                if (document.getElementById(\"9665ca18-2d6f-465d-b200-376a28cb33a4\")) {\n",
              "                    Plotly.newPlot(\n",
              "                        '9665ca18-2d6f-465d-b200-376a28cb33a4',\n",
              "                        [{\"hovertemplate\": \"Pa\\u00edses e territ\\u00f3rios=Brazil<br>Dias desde a primeira morte=%{x}<br>Mortes=%{y}<extra></extra>\", \"legendgroup\": \"Brazil\", \"line\": {\"color\": \"black\", \"dash\": \"solid\"}, \"mode\": \"lines\", \"name\": \"Brazil\", \"showlegend\": true, \"type\": \"scatter\", \"x\": [0, 1, 2, 3, 4, 5, 6, 7, 8, 9, 10, 11, 12, 13, 14, 15, 16, 17, 18, 19, 20, 21, 22, 23], \"xaxis\": \"x\", \"y\": [1, 4, 6, 11, 18, 25, 34, 46, 57, 77, 92, 114, 136, 159, 201, 241, 299, 359, 432, 486, 553, 667, 800, 941], \"yaxis\": \"y\"}, {\"hovertemplate\": \"Pa\\u00edses e territ\\u00f3rios=Italy<br>Dias desde a primeira morte=%{x}<br>Mortes=%{y}<extra></extra>\", \"legendgroup\": \"Italy\", \"line\": {\"color\": \"blue\", \"dash\": \"solid\"}, \"mode\": \"lines\", \"name\": \"Italy\", \"showlegend\": true, \"type\": \"scatter\", \"x\": [0, 1, 2, 3, 4, 5, 6, 7, 8, 9, 10, 11, 12, 13, 14, 15, 16, 17, 18, 19, 20, 21, 22, 23, 24, 25, 26, 27, 28, 29, 30, 31, 32, 33, 34, 35, 36, 37, 38, 39, 40, 41, 42, 43, 44, 45, 46, 47], \"xaxis\": \"x\", \"y\": [2, 2, 6, 11, 12, 17, 21, 29, 35, 52, 80, 107, 148, 197, 233, 366, 464, 631, 827, 1016, 1268, 1441, 1811, 2158, 2505, 2978, 3407, 4032, 4827, 5476, 6077, 6820, 7505, 8165, 9136, 10023, 10781, 11591, 12430, 13157, 13917, 14681, 15362, 15889, 16525, 17129, 17669, 18281], \"yaxis\": \"y\"}, {\"hovertemplate\": \"Pa\\u00edses e territ\\u00f3rios=Japan<br>Dias desde a primeira morte=%{x}<br>Mortes=%{y}<extra></extra>\", \"legendgroup\": \"Japan\", \"line\": {\"color\": \"green\", \"dash\": \"solid\"}, \"mode\": \"lines\", \"name\": \"Japan\", \"showlegend\": true, \"type\": \"scatter\", \"x\": [0, 1, 2, 3, 4, 5, 6, 7, 8, 9, 10, 11, 12, 13, 14, 15, 16, 17, 18, 19, 20, 21, 22, 23, 24, 25, 26, 27, 28, 29, 30, 31, 32, 33, 34, 35, 36, 37, 38, 39, 40, 41, 42, 43, 44, 45, 46, 47, 48, 49, 50, 51, 52, 53, 54, 55, 56, 57], \"xaxis\": \"x\", \"y\": [1, 1, 1, 1, 1, 1, 1, 1, 1, 1, 1, 1, 1, 1, 3, 3, 3, 5, 6, 6, 6, 6, 6, 6, 6, 7, 9, 12, 15, 19, 21, 22, 24, 28, 28, 29, 33, 35, 36, 41, 42, 43, 45, 46, 49, 52, 54, 56, 56, 57, 63, 69, 70, 73, 80, 80, 81, 85], \"yaxis\": \"y\"}, {\"hovertemplate\": \"Pa\\u00edses e territ\\u00f3rios=United_Kingdom<br>Dias desde a primeira morte=%{x}<br>Mortes=%{y}<extra></extra>\", \"legendgroup\": \"United_Kingdom\", \"line\": {\"color\": \"darkmagenta\", \"dash\": \"solid\"}, \"mode\": \"lines\", \"name\": \"United_Kingdom\", \"showlegend\": true, \"type\": \"scatter\", \"x\": [0, 1, 2, 3, 4, 5, 6, 7, 8, 9, 10, 11, 12, 13, 14, 15, 16, 17, 18, 19, 20, 21, 22, 23, 24, 25, 26, 27, 28, 29, 30, 31, 32, 33, 34, 35], \"xaxis\": \"x\", \"y\": [1, 1, 2, 3, 5, 6, 6, 10, 10, 21, 35, 55, 60, 103, 144, 177, 233, 281, 335, 422, 463, 578, 759, 1019, 1228, 1408, 1789, 2532, 2921, 3605, 4313, 4934, 5373, 6159, 7097, 7978], \"yaxis\": \"y\"}, {\"hovertemplate\": \"Pa\\u00edses e territ\\u00f3rios=United_States_of_America<br>Dias desde a primeira morte=%{x}<br>Mortes=%{y}<extra></extra>\", \"legendgroup\": \"United_States_of_America\", \"line\": {\"color\": \"gray\", \"dash\": \"solid\"}, \"mode\": \"lines\", \"name\": \"United_States_of_America\", \"showlegend\": true, \"type\": \"scatter\", \"x\": [0, 1, 2, 3, 4, 5, 6, 7, 8, 9, 10, 11, 12, 13, 14, 15, 16, 17, 18, 19, 20, 21, 22, 23, 24, 25, 26, 27, 28, 29, 30, 31, 32, 33, 34, 35, 36, 37, 38, 39, 40], \"xaxis\": \"x\", \"y\": [1, 2, 6, 9, 11, 12, 14, 17, 21, 26, 28, 30, 40, 47, 57, 69, 85, 108, 150, 150, 260, 340, 471, 590, 801, 1050, 1296, 1707, 2191, 2509, 3170, 4079, 5138, 6053, 7157, 8501, 9647, 10989, 12895, 14817, 16690], \"yaxis\": \"y\"}, {\"hovertemplate\": \"Pa\\u00edses e territ\\u00f3rios=South_Korea<br>Dias desde a primeira morte=%{x}<br>Mortes=%{y}<extra></extra>\", \"legendgroup\": \"South_Korea\", \"line\": {\"color\": \"brown\", \"dash\": \"solid\"}, \"mode\": \"lines\", \"name\": \"South_Korea\", \"showlegend\": true, \"type\": \"scatter\", \"x\": [0, 1, 2, 3, 4, 5, 6, 7, 8, 9, 10, 11, 12, 13, 14, 15, 16, 17, 18, 19, 20, 21, 22, 23, 24, 25, 26, 27, 28, 29, 30, 31, 32, 33, 34, 35, 36, 37, 38, 39, 40, 41, 42, 43, 44, 45, 46, 47, 48, 49], \"xaxis\": \"x\", \"y\": [1, 2, 5, 7, 8, 11, 12, 13, 16, 17, 22, 28, 32, 35, 42, 44, 50, 51, 54, 60, 66, 67, 72, 75, 75, 81, 86, 91, 100, 103, 104, 113, 120, 126, 131, 139, 144, 152, 158, 163, 163, 169, 174, 177, 183, 186, 192, 200, 204, 208], \"yaxis\": \"y\"}, {\"hovertemplate\": \"Pa\\u00edses e territ\\u00f3rios=France<br>Dias desde a primeira morte=%{x}<br>Mortes=%{y}<extra></extra>\", \"legendgroup\": \"France\", \"line\": {\"color\": \"orange\", \"dash\": \"solid\"}, \"mode\": \"lines\", \"name\": \"France\", \"showlegend\": true, \"type\": \"scatter\", \"x\": [0, 1, 2, 3, 4, 5, 6, 7, 8, 9, 10, 11, 12, 13, 14, 15, 16, 17, 18, 19, 20, 21, 22, 23, 24, 25, 26, 27, 28, 29, 30, 31, 32, 33, 34, 35, 36, 37, 38, 39, 40, 41, 42, 43, 44, 45, 46, 47, 48, 49, 50, 51, 52, 53, 54, 55], \"xaxis\": \"x\", \"y\": [1, 1, 1, 1, 1, 1, 1, 1, 1, 1, 1, 1, 2, 2, 2, 2, 2, 3, 4, 4, 7, 9, 10, 19, 30, 33, 48, 61, 79, 91, 127, 148, 175, 244, 372, 450, 562, 674, 860, 1100, 1331, 1696, 1995, 2314, 2606, 3024, 3523, 4032, 4503, 6507, 7560, 8078, 8911, 10328, 10869, 12210], \"yaxis\": \"y\"}, {\"hovertemplate\": \"Pa\\u00edses e territ\\u00f3rios=China<br>Dias desde a primeira morte=%{x}<br>Mortes=%{y}<extra></extra>\", \"legendgroup\": \"China\", \"line\": {\"color\": \"magenta\", \"dash\": \"solid\"}, \"mode\": \"lines\", \"name\": \"China\", \"showlegend\": true, \"type\": \"scatter\", \"x\": [0, 1, 2, 3, 4, 5, 6, 7, 8, 9, 10, 11, 12, 13, 14, 15, 16, 17, 18, 19, 20, 21, 22, 23, 24, 25, 26, 27, 28, 29, 30, 31, 32, 33, 34, 35, 36, 37, 38, 39, 40, 41, 42, 43, 44, 45, 46, 47, 48, 49, 50, 51, 52, 53, 54, 55, 56, 57, 58, 59, 60, 61, 62, 63, 64, 65, 66, 67, 68, 69, 70, 71, 72, 73, 74, 75, 76, 77, 78, 79, 80, 81, 82, 83, 84, 85, 86, 87, 88, 89, 90], \"xaxis\": \"x\", \"y\": [1, 1, 1, 1, 2, 2, 2, 2, 3, 3, 6, 17, 17, 26, 41, 56, 81, 106, 132, 170, 213, 259, 304, 361, 426, 492, 564, 637, 723, 812, 909, 1017, 1114, 1368, 1381, 1524, 1666, 1771, 1869, 2008, 2120, 2238, 2347, 2445, 2595, 2665, 2717, 2746, 2790, 2837, 2872, 2914, 2946, 2983, 3014, 3044, 3072, 3099, 3122, 3139, 3161, 3172, 3179, 3194, 3203, 3216, 3225, 3241, 3249, 3253, 3259, 3265, 3274, 3281, 3285, 3291, 3296, 3299, 3304, 3306, 3309, 3310, 3316, 3326, 3330, 3333, 3335, 3335, 3337, 3339, 3340], \"yaxis\": \"y\"}, {\"hovertemplate\": \"Pa\\u00edses e territ\\u00f3rios=Spain<br>Dias desde a primeira morte=%{x}<br>Mortes=%{y}<extra></extra>\", \"legendgroup\": \"Spain\", \"line\": {\"color\": \"red\", \"dash\": \"solid\"}, \"mode\": \"lines\", \"name\": \"Spain\", \"showlegend\": true, \"type\": \"scatter\", \"x\": [0, 1, 2, 3, 4, 5, 6, 7, 8, 9, 10, 11, 12, 13, 14, 15, 16, 17, 18, 19, 20, 21, 22, 23, 24, 25, 26, 27, 28, 29, 30, 31, 32, 33, 34, 35, 36], \"xaxis\": \"x\", \"y\": [1, 3, 5, 5, 5, 28, 35, 47, 84, 121, 136, 288, 309, 491, 598, 767, 1002, 1326, 1720, 2182, 2696, 3434, 4089, 4858, 5690, 6528, 7340, 8189, 9053, 10003, 10935, 11744, 12418, 13055, 13798, 14555, 15238], \"yaxis\": \"y\"}, {\"hovertemplate\": \"Pa\\u00edses e territ\\u00f3rios=Argentina<br>Dias desde a primeira morte=%{x}<br>Mortes=%{y}<extra></extra>\", \"legendgroup\": \"Argentina\", \"line\": {\"color\": \"darkblue\", \"dash\": \"solid\"}, \"mode\": \"lines\", \"name\": \"Argentina\", \"showlegend\": true, \"type\": \"scatter\", \"x\": [0, 1, 2, 3, 4, 5, 6, 7, 8, 9, 10, 11, 12, 13, 14, 15, 16, 17, 18, 19, 20, 21, 22, 23, 24, 25, 26, 27, 28, 29, 30, 31], \"xaxis\": \"x\", \"y\": [1, 1, 1, 1, 2, 2, 2, 2, 2, 2, 3, 3, 4, 4, 4, 6, 8, 12, 17, 19, 20, 24, 24, 31, 34, 37, 43, 46, 53, 60, 65, 79], \"yaxis\": \"y\"}, {\"hovertemplate\": \"Pa\\u00edses e territ\\u00f3rios=India<br>Dias desde a primeira morte=%{x}<br>Mortes=%{y}<extra></extra>\", \"legendgroup\": \"India\", \"line\": {\"color\": \"lightgreen\", \"dash\": \"solid\"}, \"mode\": \"lines\", \"name\": \"India\", \"showlegend\": true, \"type\": \"scatter\", \"x\": [0, 1, 2, 3, 4, 5, 6, 7, 8, 9, 10, 11, 12, 13, 14, 15, 16, 17, 18, 19, 20, 21, 22, 23, 24, 25, 26, 27, 28], \"xaxis\": \"x\", \"y\": [1, 2, 2, 2, 3, 3, 3, 4, 4, 4, 7, 9, 9, 13, 17, 19, 25, 29, 32, 35, 50, 56, 68, 77, 109, 114, 149, 166, 199], \"yaxis\": \"y\"}, {\"hovertemplate\": \"Pa\\u00edses e territ\\u00f3rios=Germany<br>Dias desde a primeira morte=%{x}<br>Mortes=%{y}<extra></extra>\", \"legendgroup\": \"Germany\", \"line\": {\"color\": \"coral\", \"dash\": \"solid\"}, \"mode\": \"lines\", \"name\": \"Germany\", \"showlegend\": true, \"type\": \"scatter\", \"x\": [0, 1, 2, 3, 4, 5, 6, 7, 8, 9, 10, 11, 12, 13, 14, 15, 16, 17, 18, 19, 20, 21, 22, 23, 24, 25, 26, 27, 28, 29, 30, 31], \"xaxis\": \"x\", \"y\": [2, 2, 3, 5, 5, 8, 12, 13, 13, 13, 43, 45, 67, 94, 126, 149, 198, 253, 325, 389, 455, 583, 732, 872, 1017, 1158, 1342, 1434, 1607, 1861, 2107, 2373], \"yaxis\": \"y\"}, {\"hovertemplate\": \"Pa\\u00edses e territ\\u00f3rios=Czechia<br>Dias desde a primeira morte=%{x}<br>Mortes=%{y}<extra></extra>\", \"legendgroup\": \"Czechia\", \"line\": {\"color\": \"lightblue\", \"dash\": \"solid\"}, \"mode\": \"lines\", \"name\": \"Czechia\", \"showlegend\": true, \"type\": \"scatter\", \"x\": [0, 1, 2, 3, 4, 5, 6, 7, 8, 9, 10, 11, 12, 13, 14, 15, 16, 17, 18], \"xaxis\": \"x\", \"y\": [1, 1, 3, 6, 9, 9, 11, 16, 24, 31, 39, 44, 53, 59, 67, 78, 88, 99, 112], \"yaxis\": \"y\"}],\n",
              "                        {\"legend\": {\"borderwidth\": 0, \"font\": {\"size\": 8}, \"orientation\": \"v\", \"title\": {\"text\": \"Pa\\u00eds\"}, \"tracegroupgap\": 0, \"yanchor\": \"top\"}, \"template\": {\"data\": {\"bar\": [{\"error_x\": {\"color\": \"#2a3f5f\"}, \"error_y\": {\"color\": \"#2a3f5f\"}, \"marker\": {\"line\": {\"color\": \"#E5ECF6\", \"width\": 0.5}}, \"type\": \"bar\"}], \"barpolar\": [{\"marker\": {\"line\": {\"color\": \"#E5ECF6\", \"width\": 0.5}}, \"type\": \"barpolar\"}], \"carpet\": [{\"aaxis\": {\"endlinecolor\": \"#2a3f5f\", \"gridcolor\": \"white\", \"linecolor\": \"white\", \"minorgridcolor\": \"white\", \"startlinecolor\": \"#2a3f5f\"}, \"baxis\": {\"endlinecolor\": \"#2a3f5f\", \"gridcolor\": \"white\", \"linecolor\": \"white\", \"minorgridcolor\": \"white\", \"startlinecolor\": \"#2a3f5f\"}, \"type\": \"carpet\"}], \"choropleth\": [{\"colorbar\": {\"outlinewidth\": 0, \"ticks\": \"\"}, \"type\": \"choropleth\"}], \"contour\": [{\"colorbar\": {\"outlinewidth\": 0, \"ticks\": \"\"}, \"colorscale\": [[0.0, \"#0d0887\"], [0.1111111111111111, \"#46039f\"], [0.2222222222222222, \"#7201a8\"], [0.3333333333333333, \"#9c179e\"], [0.4444444444444444, \"#bd3786\"], [0.5555555555555556, \"#d8576b\"], [0.6666666666666666, \"#ed7953\"], [0.7777777777777778, \"#fb9f3a\"], [0.8888888888888888, \"#fdca26\"], [1.0, \"#f0f921\"]], \"type\": \"contour\"}], \"contourcarpet\": [{\"colorbar\": {\"outlinewidth\": 0, \"ticks\": \"\"}, \"type\": \"contourcarpet\"}], \"heatmap\": [{\"colorbar\": {\"outlinewidth\": 0, \"ticks\": \"\"}, \"colorscale\": [[0.0, \"#0d0887\"], [0.1111111111111111, \"#46039f\"], [0.2222222222222222, \"#7201a8\"], [0.3333333333333333, \"#9c179e\"], [0.4444444444444444, \"#bd3786\"], [0.5555555555555556, \"#d8576b\"], [0.6666666666666666, \"#ed7953\"], [0.7777777777777778, \"#fb9f3a\"], [0.8888888888888888, \"#fdca26\"], [1.0, \"#f0f921\"]], \"type\": \"heatmap\"}], \"heatmapgl\": [{\"colorbar\": {\"outlinewidth\": 0, \"ticks\": \"\"}, \"colorscale\": [[0.0, \"#0d0887\"], [0.1111111111111111, \"#46039f\"], [0.2222222222222222, \"#7201a8\"], [0.3333333333333333, \"#9c179e\"], [0.4444444444444444, \"#bd3786\"], [0.5555555555555556, \"#d8576b\"], [0.6666666666666666, \"#ed7953\"], [0.7777777777777778, \"#fb9f3a\"], [0.8888888888888888, \"#fdca26\"], [1.0, \"#f0f921\"]], \"type\": \"heatmapgl\"}], \"histogram\": [{\"marker\": {\"colorbar\": {\"outlinewidth\": 0, \"ticks\": \"\"}}, \"type\": \"histogram\"}], \"histogram2d\": [{\"colorbar\": {\"outlinewidth\": 0, \"ticks\": \"\"}, \"colorscale\": [[0.0, \"#0d0887\"], [0.1111111111111111, \"#46039f\"], [0.2222222222222222, \"#7201a8\"], [0.3333333333333333, \"#9c179e\"], [0.4444444444444444, \"#bd3786\"], [0.5555555555555556, \"#d8576b\"], [0.6666666666666666, \"#ed7953\"], [0.7777777777777778, \"#fb9f3a\"], [0.8888888888888888, \"#fdca26\"], [1.0, \"#f0f921\"]], \"type\": \"histogram2d\"}], \"histogram2dcontour\": [{\"colorbar\": {\"outlinewidth\": 0, \"ticks\": \"\"}, \"colorscale\": [[0.0, \"#0d0887\"], [0.1111111111111111, \"#46039f\"], [0.2222222222222222, \"#7201a8\"], [0.3333333333333333, \"#9c179e\"], [0.4444444444444444, \"#bd3786\"], [0.5555555555555556, \"#d8576b\"], [0.6666666666666666, \"#ed7953\"], [0.7777777777777778, \"#fb9f3a\"], [0.8888888888888888, \"#fdca26\"], [1.0, \"#f0f921\"]], \"type\": \"histogram2dcontour\"}], \"mesh3d\": [{\"colorbar\": {\"outlinewidth\": 0, \"ticks\": \"\"}, \"type\": \"mesh3d\"}], \"parcoords\": [{\"line\": {\"colorbar\": {\"outlinewidth\": 0, \"ticks\": \"\"}}, \"type\": \"parcoords\"}], \"pie\": [{\"automargin\": true, \"type\": \"pie\"}], \"scatter\": [{\"marker\": {\"colorbar\": {\"outlinewidth\": 0, \"ticks\": \"\"}}, \"type\": \"scatter\"}], \"scatter3d\": [{\"line\": {\"colorbar\": {\"outlinewidth\": 0, \"ticks\": \"\"}}, \"marker\": {\"colorbar\": {\"outlinewidth\": 0, \"ticks\": \"\"}}, \"type\": \"scatter3d\"}], \"scattercarpet\": [{\"marker\": {\"colorbar\": {\"outlinewidth\": 0, \"ticks\": \"\"}}, \"type\": \"scattercarpet\"}], \"scattergeo\": [{\"marker\": {\"colorbar\": {\"outlinewidth\": 0, \"ticks\": \"\"}}, \"type\": \"scattergeo\"}], \"scattergl\": [{\"marker\": {\"colorbar\": {\"outlinewidth\": 0, \"ticks\": \"\"}}, \"type\": \"scattergl\"}], \"scattermapbox\": [{\"marker\": {\"colorbar\": {\"outlinewidth\": 0, \"ticks\": \"\"}}, \"type\": \"scattermapbox\"}], \"scatterpolar\": [{\"marker\": {\"colorbar\": {\"outlinewidth\": 0, \"ticks\": \"\"}}, \"type\": \"scatterpolar\"}], \"scatterpolargl\": [{\"marker\": {\"colorbar\": {\"outlinewidth\": 0, \"ticks\": \"\"}}, \"type\": \"scatterpolargl\"}], \"scatterternary\": [{\"marker\": {\"colorbar\": {\"outlinewidth\": 0, \"ticks\": \"\"}}, \"type\": \"scatterternary\"}], \"surface\": [{\"colorbar\": {\"outlinewidth\": 0, \"ticks\": \"\"}, \"colorscale\": [[0.0, \"#0d0887\"], [0.1111111111111111, \"#46039f\"], [0.2222222222222222, \"#7201a8\"], [0.3333333333333333, \"#9c179e\"], [0.4444444444444444, \"#bd3786\"], [0.5555555555555556, \"#d8576b\"], [0.6666666666666666, \"#ed7953\"], [0.7777777777777778, \"#fb9f3a\"], [0.8888888888888888, \"#fdca26\"], [1.0, \"#f0f921\"]], \"type\": \"surface\"}], \"table\": [{\"cells\": {\"fill\": {\"color\": \"#EBF0F8\"}, \"line\": {\"color\": \"white\"}}, \"header\": {\"fill\": {\"color\": \"#C8D4E3\"}, \"line\": {\"color\": \"white\"}}, \"type\": \"table\"}]}, \"layout\": {\"annotationdefaults\": {\"arrowcolor\": \"#2a3f5f\", \"arrowhead\": 0, \"arrowwidth\": 1}, \"coloraxis\": {\"colorbar\": {\"outlinewidth\": 0, \"ticks\": \"\"}}, \"colorscale\": {\"diverging\": [[0, \"#8e0152\"], [0.1, \"#c51b7d\"], [0.2, \"#de77ae\"], [0.3, \"#f1b6da\"], [0.4, \"#fde0ef\"], [0.5, \"#f7f7f7\"], [0.6, \"#e6f5d0\"], [0.7, \"#b8e186\"], [0.8, \"#7fbc41\"], [0.9, \"#4d9221\"], [1, \"#276419\"]], \"sequential\": [[0.0, \"#0d0887\"], [0.1111111111111111, \"#46039f\"], [0.2222222222222222, \"#7201a8\"], [0.3333333333333333, \"#9c179e\"], [0.4444444444444444, \"#bd3786\"], [0.5555555555555556, \"#d8576b\"], [0.6666666666666666, \"#ed7953\"], [0.7777777777777778, \"#fb9f3a\"], [0.8888888888888888, \"#fdca26\"], [1.0, \"#f0f921\"]], \"sequentialminus\": [[0.0, \"#0d0887\"], [0.1111111111111111, \"#46039f\"], [0.2222222222222222, \"#7201a8\"], [0.3333333333333333, \"#9c179e\"], [0.4444444444444444, \"#bd3786\"], [0.5555555555555556, \"#d8576b\"], [0.6666666666666666, \"#ed7953\"], [0.7777777777777778, \"#fb9f3a\"], [0.8888888888888888, \"#fdca26\"], [1.0, \"#f0f921\"]]}, \"colorway\": [\"#636efa\", \"#EF553B\", \"#00cc96\", \"#ab63fa\", \"#FFA15A\", \"#19d3f3\", \"#FF6692\", \"#B6E880\", \"#FF97FF\", \"#FECB52\"], \"font\": {\"color\": \"#2a3f5f\"}, \"geo\": {\"bgcolor\": \"white\", \"lakecolor\": \"white\", \"landcolor\": \"#E5ECF6\", \"showlakes\": true, \"showland\": true, \"subunitcolor\": \"white\"}, \"hoverlabel\": {\"align\": \"left\"}, \"hovermode\": \"closest\", \"mapbox\": {\"style\": \"light\"}, \"paper_bgcolor\": \"white\", \"plot_bgcolor\": \"#E5ECF6\", \"polar\": {\"angularaxis\": {\"gridcolor\": \"white\", \"linecolor\": \"white\", \"ticks\": \"\"}, \"bgcolor\": \"#E5ECF6\", \"radialaxis\": {\"gridcolor\": \"white\", \"linecolor\": \"white\", \"ticks\": \"\"}}, \"scene\": {\"xaxis\": {\"backgroundcolor\": \"#E5ECF6\", \"gridcolor\": \"white\", \"gridwidth\": 2, \"linecolor\": \"white\", \"showbackground\": true, \"ticks\": \"\", \"zerolinecolor\": \"white\"}, \"yaxis\": {\"backgroundcolor\": \"#E5ECF6\", \"gridcolor\": \"white\", \"gridwidth\": 2, \"linecolor\": \"white\", \"showbackground\": true, \"ticks\": \"\", \"zerolinecolor\": \"white\"}, \"zaxis\": {\"backgroundcolor\": \"#E5ECF6\", \"gridcolor\": \"white\", \"gridwidth\": 2, \"linecolor\": \"white\", \"showbackground\": true, \"ticks\": \"\", \"zerolinecolor\": \"white\"}}, \"shapedefaults\": {\"line\": {\"color\": \"#2a3f5f\"}}, \"ternary\": {\"aaxis\": {\"gridcolor\": \"white\", \"linecolor\": \"white\", \"ticks\": \"\"}, \"baxis\": {\"gridcolor\": \"white\", \"linecolor\": \"white\", \"ticks\": \"\"}, \"bgcolor\": \"#E5ECF6\", \"caxis\": {\"gridcolor\": \"white\", \"linecolor\": \"white\", \"ticks\": \"\"}}, \"title\": {\"x\": 0.05}, \"xaxis\": {\"automargin\": true, \"gridcolor\": \"white\", \"linecolor\": \"white\", \"ticks\": \"\", \"title\": {\"standoff\": 15}, \"zerolinecolor\": \"white\", \"zerolinewidth\": 2}, \"yaxis\": {\"automargin\": true, \"gridcolor\": \"white\", \"linecolor\": \"white\", \"ticks\": \"\", \"title\": {\"standoff\": 15}, \"zerolinecolor\": \"white\", \"zerolinewidth\": 2}}}, \"title\": {\"text\": \"COVID-19 - Mortes  10-04-2020 \\n Escala Logar\\u00edtmica\"}, \"xaxis\": {\"anchor\": \"y\", \"domain\": [0.0, 1.0], \"title\": {\"text\": \"Dias desde a primeira morte\"}}, \"yaxis\": {\"anchor\": \"x\", \"domain\": [0.0, 1.0], \"title\": {\"text\": \"Mortes\"}, \"type\": \"log\"}},\n",
              "                        {\"responsive\": true}\n",
              "                    ).then(function(){\n",
              "                            \n",
              "var gd = document.getElementById('9665ca18-2d6f-465d-b200-376a28cb33a4');\n",
              "var x = new MutationObserver(function (mutations, observer) {{\n",
              "        var display = window.getComputedStyle(gd).display;\n",
              "        if (!display || display === 'none') {{\n",
              "            console.log([gd, 'removed!']);\n",
              "            Plotly.purge(gd);\n",
              "            observer.disconnect();\n",
              "        }}\n",
              "}});\n",
              "\n",
              "// Listen for the removal of the full notebook cells\n",
              "var notebookContainer = gd.closest('#notebook-container');\n",
              "if (notebookContainer) {{\n",
              "    x.observe(notebookContainer, {childList: true});\n",
              "}}\n",
              "\n",
              "// Listen for the clearing of the current output cell\n",
              "var outputEl = gd.closest('.output');\n",
              "if (outputEl) {{\n",
              "    x.observe(outputEl, {childList: true});\n",
              "}}\n",
              "\n",
              "                        })\n",
              "                };\n",
              "                \n",
              "            </script>\n",
              "        </div>\n",
              "</body>\n",
              "</html>"
            ]
          },
          "metadata": {
            "tags": []
          }
        }
      ]
    },
    {
      "cell_type": "code",
      "metadata": {
        "colab_type": "code",
        "id": "h3B6Y7QzntzV",
        "outputId": "ffb699ad-892e-4ac7-d1d2-635a75dc849e",
        "colab": {
          "base_uri": "https://localhost:8080/",
          "height": 204
        }
      },
      "source": [
        "#hide\n",
        "brazil['razao']= brazil['Cumulativo'].pct_change()\n",
        "brazil['razao']=(brazil['razao']*100).round(2)\n",
        "brazil['dias']= brazil.index\n",
        "brazil.tail(5)"
      ],
      "execution_count": 60,
      "outputs": [
        {
          "output_type": "execute_result",
          "data": {
            "text/html": [
              "<div>\n",
              "<style scoped>\n",
              "    .dataframe tbody tr th:only-of-type {\n",
              "        vertical-align: middle;\n",
              "    }\n",
              "\n",
              "    .dataframe tbody tr th {\n",
              "        vertical-align: top;\n",
              "    }\n",
              "\n",
              "    .dataframe thead th {\n",
              "        text-align: right;\n",
              "    }\n",
              "</style>\n",
              "<table border=\"1\" class=\"dataframe\">\n",
              "  <thead>\n",
              "    <tr style=\"text-align: right;\">\n",
              "      <th></th>\n",
              "      <th>countriesAndTerritories</th>\n",
              "      <th>Cumulativo</th>\n",
              "      <th>Relativo</th>\n",
              "      <th>razao</th>\n",
              "      <th>dias</th>\n",
              "    </tr>\n",
              "  </thead>\n",
              "  <tbody>\n",
              "    <tr>\n",
              "      <th>25</th>\n",
              "      <td>Brazil</td>\n",
              "      <td>11130</td>\n",
              "      <td>0.531773</td>\n",
              "      <td>8.29</td>\n",
              "      <td>25</td>\n",
              "    </tr>\n",
              "    <tr>\n",
              "      <th>26</th>\n",
              "      <td>Brazil</td>\n",
              "      <td>12056</td>\n",
              "      <td>0.576015</td>\n",
              "      <td>8.32</td>\n",
              "      <td>26</td>\n",
              "    </tr>\n",
              "    <tr>\n",
              "      <th>27</th>\n",
              "      <td>Brazil</td>\n",
              "      <td>13717</td>\n",
              "      <td>0.655375</td>\n",
              "      <td>13.78</td>\n",
              "      <td>27</td>\n",
              "    </tr>\n",
              "    <tr>\n",
              "      <th>28</th>\n",
              "      <td>Brazil</td>\n",
              "      <td>15927</td>\n",
              "      <td>0.760965</td>\n",
              "      <td>16.11</td>\n",
              "      <td>28</td>\n",
              "    </tr>\n",
              "    <tr>\n",
              "      <th>29</th>\n",
              "      <td>Brazil</td>\n",
              "      <td>17857</td>\n",
              "      <td>0.853177</td>\n",
              "      <td>12.12</td>\n",
              "      <td>29</td>\n",
              "    </tr>\n",
              "  </tbody>\n",
              "</table>\n",
              "</div>"
            ],
            "text/plain": [
              "   countriesAndTerritories  Cumulativo  Relativo  razao  dias\n",
              "25                  Brazil       11130  0.531773   8.29    25\n",
              "26                  Brazil       12056  0.576015   8.32    26\n",
              "27                  Brazil       13717  0.655375  13.78    27\n",
              "28                  Brazil       15927  0.760965  16.11    28\n",
              "29                  Brazil       17857  0.853177  12.12    29"
            ]
          },
          "metadata": {
            "tags": []
          },
          "execution_count": 60
        }
      ]
    },
    {
      "cell_type": "code",
      "metadata": {
        "colab_type": "code",
        "id": "rdnl82gz1f6k",
        "outputId": "aa73338c-0997-48a1-8b2e-52c338bd2fc3",
        "colab": {
          "base_uri": "https://localhost:8080/",
          "height": 360
        }
      },
      "source": [
        "#hide\n",
        "plt.figure(figsize=(10,5))\n",
        "plt.yticks([25,50,75,100])\n",
        "plt.ylim(0,100)\n",
        "sns.lineplot(x='dias',y='razao',data=brazil,color='black',linewidth=4,label='Brasil')\n",
        "plt.plot(brazil['razao'].rolling(2).mean(),label= 'MA 2 days')\n",
        "plt.plot(brazil['razao'].rolling(5).mean(),label= 'MA 5 days')\n",
        "\n",
        "#plt.savefig(\"plots/pct_change.png\")\n"
      ],
      "execution_count": 61,
      "outputs": [
        {
          "output_type": "execute_result",
          "data": {
            "text/plain": [
              "[<matplotlib.lines.Line2D at 0x7f49f5667c18>]"
            ]
          },
          "metadata": {
            "tags": []
          },
          "execution_count": 61
        },
        {
          "output_type": "display_data",
          "data": {
            "image/png": "[encoded data removed]",
            "text/plain": [
              "<Figure size 720x360 with 1 Axes>"
            ]
          },
          "metadata": {
            "tags": []
          }
        }
      ]
    },
    {
      "cell_type": "markdown",
      "metadata": {
        "id": "cYi0f2alTqSz",
        "colab_type": "text"
      },
      "source": [
        "<center> <h2> Letalidade </h2> </center>"
      ]
    },
    {
      "cell_type": "markdown",
      "metadata": {
        "id": "WRzRwgpjtfeN",
        "colab_type": "text"
      },
      "source": [
        "O gráfco a seguir aponta o número de mortes dividido pelo número de casos confirmados. É importantíssimo notar a grande dependência desses números da quantidade de testes disponíveis. Quanto mais testes realizados, mais confiáveis os dados."
      ]
    },
    {
      "cell_type": "code",
      "metadata": {
        "colab_type": "code",
        "id": "eAxU8uOIEJh4",
        "colab": {}
      },
      "source": [
        "#hide\n",
        "let_brazil =((mbrazil['Cumulativo'].values[-1]/brazil['Cumulativo'].values[-1])*100).round(2)\n",
        "let_us = ((mus['Cumulativo'].values[-1]/us['Cumulativo'].values[-1])*100).round(2)\n",
        "let_uk = ((muk['Cumulativo'].values[-1]/uk['Cumulativo'].values[-1])*100).round(2)\n",
        "let_italy = ((mitaly['Cumulativo'].values[-1]/italy['Cumulativo'].values[-1])*100).round(2)\n",
        "let_spain = ((mspain['Cumulativo'].values[-1]/spain['Cumulativo'].values[-1])*100).round(2)\n",
        "let_japan = ((mjapan['Cumulativo'].values[-1]/japan['Cumulativo'].values[-1])*100).round(2)\n",
        "let_arg = ((margentina['Cumulativo'].values[-1]/argentina['Cumulativo'].values[-1])*100).round(2)\n",
        "let_fran = ((mfrance['Cumulativo'].values[-1]/france['Cumulativo'].values[-1])*100).round(2)\n",
        "let_ind = ((mindia['Cumulativo'].values[-1]/india['Cumulativo'].values[-1])*100).round(2)\n",
        "let_rc = ((mczech['Cumulativo'].values[-1]/czech_Republic['Cumulativo'].values[-1])*100).round(2)\n",
        "let_ger = ((mgermany['Cumulativo'].values[-1]/germany['Cumulativo'].values[-1])*100).round(2)\n",
        "let_ch = ((mchina['Cumulativo'].values[-1]/china['Cumulativo'].values[-1])*100).round(2)\n",
        "\n",
        "\n",
        "let= [let_brazil,let_us,let_uk,let_italy,let_spain,let_fran,let_japan,let_arg,let_ind,let_ger,let_ch,let_rc]\n",
        "paises = ['Brasil','EUA', 'Reino Unido','Itália','Espanha','França','Japão','Argentina','Índia','Alemanha','China','República Tcheca']\n"
      ],
      "execution_count": 0,
      "outputs": []
    },
    {
      "cell_type": "code",
      "metadata": {
        "colab_type": "code",
        "id": "9pHCVj1P_lfI",
        "outputId": "50437217-c002-4e35-c3e9-b5d605ffdc7e",
        "colab": {
          "base_uri": "https://localhost:8080/",
          "height": 142
        }
      },
      "source": [
        "#hide\n",
        "letality = pd.DataFrame()\n",
        "letality['Países'] = paises\n",
        "letality['Letalidade %'] = let\n",
        "letality.tail(3)\n"
      ],
      "execution_count": 63,
      "outputs": [
        {
          "output_type": "execute_result",
          "data": {
            "text/html": [
              "<div>\n",
              "<style scoped>\n",
              "    .dataframe tbody tr th:only-of-type {\n",
              "        vertical-align: middle;\n",
              "    }\n",
              "\n",
              "    .dataframe tbody tr th {\n",
              "        vertical-align: top;\n",
              "    }\n",
              "\n",
              "    .dataframe thead th {\n",
              "        text-align: right;\n",
              "    }\n",
              "</style>\n",
              "<table border=\"1\" class=\"dataframe\">\n",
              "  <thead>\n",
              "    <tr style=\"text-align: right;\">\n",
              "      <th></th>\n",
              "      <th>Países</th>\n",
              "      <th>Letalidade %</th>\n",
              "    </tr>\n",
              "  </thead>\n",
              "  <tbody>\n",
              "    <tr>\n",
              "      <th>9</th>\n",
              "      <td>Alemanha</td>\n",
              "      <td>2.09</td>\n",
              "    </tr>\n",
              "    <tr>\n",
              "      <th>10</th>\n",
              "      <td>China</td>\n",
              "      <td>4.03</td>\n",
              "    </tr>\n",
              "    <tr>\n",
              "      <th>11</th>\n",
              "      <td>República Tcheca</td>\n",
              "      <td>2.01</td>\n",
              "    </tr>\n",
              "  </tbody>\n",
              "</table>\n",
              "</div>"
            ],
            "text/plain": [
              "              Países  Letalidade %\n",
              "9           Alemanha          2.09\n",
              "10             China          4.03\n",
              "11  República Tcheca          2.01"
            ]
          },
          "metadata": {
            "tags": []
          },
          "execution_count": 63
        }
      ]
    },
    {
      "cell_type": "code",
      "metadata": {
        "colab_type": "code",
        "id": "6o33lNAoCImC",
        "outputId": "c38e0911-4aa7-490a-f10c-9548c6fa0cd1",
        "colab": {
          "base_uri": "https://localhost:8080/",
          "height": 542
        }
      },
      "source": [
        "#hide_input\n",
        "\n",
        "fig = px.bar(letality,x=\"Letalidade %\", y='Países', color='Países',orientation='h',\n",
        "             color_discrete_sequence=px.colors.qualitative.G10,title=\"Letalidade - {}\".format(today))#.update_yaxes(categoryorder='total dscending')\n",
        "fig.update_layout(yaxis_type = 'category',)\n",
        "fig.update_layout(legend= {'title':'País','borderwidth':0,'orientation':'v','yanchor':'top','font':{'size':8}})\n",
        "\n",
        "\n"
      ],
      "execution_count": 64,
      "outputs": [
        {
          "output_type": "display_data",
          "data": {
            "text/html": [
              "<html>\n",
              "<head><meta charset=\"utf-8\" /></head>\n",
              "<body>\n",
              "    <div>\n",
              "            <script src=\"https://cdnjs.cloudflare.com/ajax/libs/mathjax/2.7.5/MathJax.js?config=TeX-AMS-MML_SVG\"></script><script type=\"text/javascript\">if (window.MathJax) {MathJax.Hub.Config({SVG: {font: \"STIX-Web\"}});}</script>\n",
              "                <script type=\"text/javascript\">window.PlotlyConfig = {MathJaxConfig: 'local'};</script>\n",
              "        <script src=\"https://cdn.plot.ly/plotly-latest.min.js\"></script>    \n",
              "            <div id=\"f65eddb8-71ed-4f51-91c5-7a431865be55\" class=\"plotly-graph-div\" style=\"height:525px; width:100%;\"></div>\n",
              "            <script type=\"text/javascript\">\n",
              "                \n",
              "                    window.PLOTLYENV=window.PLOTLYENV || {};\n",
              "                    \n",
              "                if (document.getElementById(\"f65eddb8-71ed-4f51-91c5-7a431865be55\")) {\n",
              "                    Plotly.newPlot(\n",
              "                        'f65eddb8-71ed-4f51-91c5-7a431865be55',\n",
              "                        [{\"alignmentgroup\": \"True\", \"hovertemplate\": \"Pa\\u00edses=%{y}<br>Letalidade %=%{x}<extra></extra>\", \"legendgroup\": \"Brasil\", \"marker\": {\"color\": \"#3366CC\"}, \"name\": \"Brasil\", \"offsetgroup\": \"Brasil\", \"orientation\": \"h\", \"showlegend\": true, \"textposition\": \"auto\", \"type\": \"bar\", \"x\": [5.27], \"xaxis\": \"x\", \"y\": [\"Brasil\"], \"yaxis\": \"y\"}, {\"alignmentgroup\": \"True\", \"hovertemplate\": \"Pa\\u00edses=%{y}<br>Letalidade %=%{x}<extra></extra>\", \"legendgroup\": \"EUA\", \"marker\": {\"color\": \"#DC3912\"}, \"name\": \"EUA\", \"offsetgroup\": \"EUA\", \"orientation\": \"h\", \"showlegend\": true, \"textposition\": \"auto\", \"type\": \"bar\", \"x\": [3.58], \"xaxis\": \"x\", \"y\": [\"EUA\"], \"yaxis\": \"y\"}, {\"alignmentgroup\": \"True\", \"hovertemplate\": \"Pa\\u00edses=%{y}<br>Letalidade %=%{x}<extra></extra>\", \"legendgroup\": \"Reino Unido\", \"marker\": {\"color\": \"#FF9900\"}, \"name\": \"Reino Unido\", \"offsetgroup\": \"Reino Unido\", \"orientation\": \"h\", \"showlegend\": true, \"textposition\": \"auto\", \"type\": \"bar\", \"x\": [12.26], \"xaxis\": \"x\", \"y\": [\"Reino Unido\"], \"yaxis\": \"y\"}, {\"alignmentgroup\": \"True\", \"hovertemplate\": \"Pa\\u00edses=%{y}<br>Letalidade %=%{x}<extra></extra>\", \"legendgroup\": \"It\\u00e1lia\", \"marker\": {\"color\": \"#109618\"}, \"name\": \"It\\u00e1lia\", \"offsetgroup\": \"It\\u00e1lia\", \"orientation\": \"h\", \"showlegend\": true, \"textposition\": \"auto\", \"type\": \"bar\", \"x\": [12.73], \"xaxis\": \"x\", \"y\": [\"It\\u00e1lia\"], \"yaxis\": \"y\"}, {\"alignmentgroup\": \"True\", \"hovertemplate\": \"Pa\\u00edses=%{y}<br>Letalidade %=%{x}<extra></extra>\", \"legendgroup\": \"Espanha\", \"marker\": {\"color\": \"#990099\"}, \"name\": \"Espanha\", \"offsetgroup\": \"Espanha\", \"orientation\": \"h\", \"showlegend\": true, \"textposition\": \"auto\", \"type\": \"bar\", \"x\": [10.0], \"xaxis\": \"x\", \"y\": [\"Espanha\"], \"yaxis\": \"y\"}, {\"alignmentgroup\": \"True\", \"hovertemplate\": \"Pa\\u00edses=%{y}<br>Letalidade %=%{x}<extra></extra>\", \"legendgroup\": \"Fran\\u00e7a\", \"marker\": {\"color\": \"#0099C6\"}, \"name\": \"Fran\\u00e7a\", \"offsetgroup\": \"Fran\\u00e7a\", \"orientation\": \"h\", \"showlegend\": true, \"textposition\": \"auto\", \"type\": \"bar\", \"x\": [14.14], \"xaxis\": \"x\", \"y\": [\"Fran\\u00e7a\"], \"yaxis\": \"y\"}, {\"alignmentgroup\": \"True\", \"hovertemplate\": \"Pa\\u00edses=%{y}<br>Letalidade %=%{x}<extra></extra>\", \"legendgroup\": \"Jap\\u00e3o\", \"marker\": {\"color\": \"#DD4477\"}, \"name\": \"Jap\\u00e3o\", \"offsetgroup\": \"Jap\\u00e3o\", \"orientation\": \"h\", \"showlegend\": true, \"textposition\": \"auto\", \"type\": \"bar\", \"x\": [1.82], \"xaxis\": \"x\", \"y\": [\"Jap\\u00e3o\"], \"yaxis\": \"y\"}, {\"alignmentgroup\": \"True\", \"hovertemplate\": \"Pa\\u00edses=%{y}<br>Letalidade %=%{x}<extra></extra>\", \"legendgroup\": \"Argentina\", \"marker\": {\"color\": \"#66AA00\"}, \"name\": \"Argentina\", \"offsetgroup\": \"Argentina\", \"orientation\": \"h\", \"showlegend\": true, \"textposition\": \"auto\", \"type\": \"bar\", \"x\": [4.17], \"xaxis\": \"x\", \"y\": [\"Argentina\"], \"yaxis\": \"y\"}, {\"alignmentgroup\": \"True\", \"hovertemplate\": \"Pa\\u00edses=%{y}<br>Letalidade %=%{x}<extra></extra>\", \"legendgroup\": \"\\u00cdndia\", \"marker\": {\"color\": \"#B82E2E\"}, \"name\": \"\\u00cdndia\", \"offsetgroup\": \"\\u00cdndia\", \"orientation\": \"h\", \"showlegend\": true, \"textposition\": \"auto\", \"type\": \"bar\", \"x\": [3.1], \"xaxis\": \"x\", \"y\": [\"\\u00cdndia\"], \"yaxis\": \"y\"}, {\"alignmentgroup\": \"True\", \"hovertemplate\": \"Pa\\u00edses=%{y}<br>Letalidade %=%{x}<extra></extra>\", \"legendgroup\": \"Alemanha\", \"marker\": {\"color\": \"#316395\"}, \"name\": \"Alemanha\", \"offsetgroup\": \"Alemanha\", \"orientation\": \"h\", \"showlegend\": true, \"textposition\": \"auto\", \"type\": \"bar\", \"x\": [2.09], \"xaxis\": \"x\", \"y\": [\"Alemanha\"], \"yaxis\": \"y\"}, {\"alignmentgroup\": \"True\", \"hovertemplate\": \"Pa\\u00edses=%{y}<br>Letalidade %=%{x}<extra></extra>\", \"legendgroup\": \"China\", \"marker\": {\"color\": \"#3366CC\"}, \"name\": \"China\", \"offsetgroup\": \"China\", \"orientation\": \"h\", \"showlegend\": true, \"textposition\": \"auto\", \"type\": \"bar\", \"x\": [4.03], \"xaxis\": \"x\", \"y\": [\"China\"], \"yaxis\": \"y\"}, {\"alignmentgroup\": \"True\", \"hovertemplate\": \"Pa\\u00edses=%{y}<br>Letalidade %=%{x}<extra></extra>\", \"legendgroup\": \"Rep\\u00fablica Tcheca\", \"marker\": {\"color\": \"#DC3912\"}, \"name\": \"Rep\\u00fablica Tcheca\", \"offsetgroup\": \"Rep\\u00fablica Tcheca\", \"orientation\": \"h\", \"showlegend\": true, \"textposition\": \"auto\", \"type\": \"bar\", \"x\": [2.01], \"xaxis\": \"x\", \"y\": [\"Rep\\u00fablica Tcheca\"], \"yaxis\": \"y\"}],\n",
              "                        {\"barmode\": \"relative\", \"legend\": {\"borderwidth\": 0, \"font\": {\"size\": 8}, \"orientation\": \"v\", \"title\": {\"text\": \"Pa\\u00eds\"}, \"tracegroupgap\": 0, \"yanchor\": \"top\"}, \"template\": {\"data\": {\"bar\": [{\"error_x\": {\"color\": \"#2a3f5f\"}, \"error_y\": {\"color\": \"#2a3f5f\"}, \"marker\": {\"line\": {\"color\": \"#E5ECF6\", \"width\": 0.5}}, \"type\": \"bar\"}], \"barpolar\": [{\"marker\": {\"line\": {\"color\": \"#E5ECF6\", \"width\": 0.5}}, \"type\": \"barpolar\"}], \"carpet\": [{\"aaxis\": {\"endlinecolor\": \"#2a3f5f\", \"gridcolor\": \"white\", \"linecolor\": \"white\", \"minorgridcolor\": \"white\", \"startlinecolor\": \"#2a3f5f\"}, \"baxis\": {\"endlinecolor\": \"#2a3f5f\", \"gridcolor\": \"white\", \"linecolor\": \"white\", \"minorgridcolor\": \"white\", \"startlinecolor\": \"#2a3f5f\"}, \"type\": \"carpet\"}], \"choropleth\": [{\"colorbar\": {\"outlinewidth\": 0, \"ticks\": \"\"}, \"type\": \"choropleth\"}], \"contour\": [{\"colorbar\": {\"outlinewidth\": 0, \"ticks\": \"\"}, \"colorscale\": [[0.0, \"#0d0887\"], [0.1111111111111111, \"#46039f\"], [0.2222222222222222, \"#7201a8\"], [0.3333333333333333, \"#9c179e\"], [0.4444444444444444, \"#bd3786\"], [0.5555555555555556, \"#d8576b\"], [0.6666666666666666, \"#ed7953\"], [0.7777777777777778, \"#fb9f3a\"], [0.8888888888888888, \"#fdca26\"], [1.0, \"#f0f921\"]], \"type\": \"contour\"}], \"contourcarpet\": [{\"colorbar\": {\"outlinewidth\": 0, \"ticks\": \"\"}, \"type\": \"contourcarpet\"}], \"heatmap\": [{\"colorbar\": {\"outlinewidth\": 0, \"ticks\": \"\"}, \"colorscale\": [[0.0, \"#0d0887\"], [0.1111111111111111, \"#46039f\"], [0.2222222222222222, \"#7201a8\"], [0.3333333333333333, \"#9c179e\"], [0.4444444444444444, \"#bd3786\"], [0.5555555555555556, \"#d8576b\"], [0.6666666666666666, \"#ed7953\"], [0.7777777777777778, \"#fb9f3a\"], [0.8888888888888888, \"#fdca26\"], [1.0, \"#f0f921\"]], \"type\": \"heatmap\"}], \"heatmapgl\": [{\"colorbar\": {\"outlinewidth\": 0, \"ticks\": \"\"}, \"colorscale\": [[0.0, \"#0d0887\"], [0.1111111111111111, \"#46039f\"], [0.2222222222222222, \"#7201a8\"], [0.3333333333333333, \"#9c179e\"], [0.4444444444444444, \"#bd3786\"], [0.5555555555555556, \"#d8576b\"], [0.6666666666666666, \"#ed7953\"], [0.7777777777777778, \"#fb9f3a\"], [0.8888888888888888, \"#fdca26\"], [1.0, \"#f0f921\"]], \"type\": \"heatmapgl\"}], \"histogram\": [{\"marker\": {\"colorbar\": {\"outlinewidth\": 0, \"ticks\": \"\"}}, \"type\": \"histogram\"}], \"histogram2d\": [{\"colorbar\": {\"outlinewidth\": 0, \"ticks\": \"\"}, \"colorscale\": [[0.0, \"#0d0887\"], [0.1111111111111111, \"#46039f\"], [0.2222222222222222, \"#7201a8\"], [0.3333333333333333, \"#9c179e\"], [0.4444444444444444, \"#bd3786\"], [0.5555555555555556, \"#d8576b\"], [0.6666666666666666, \"#ed7953\"], [0.7777777777777778, \"#fb9f3a\"], [0.8888888888888888, \"#fdca26\"], [1.0, \"#f0f921\"]], \"type\": \"histogram2d\"}], \"histogram2dcontour\": [{\"colorbar\": {\"outlinewidth\": 0, \"ticks\": \"\"}, \"colorscale\": [[0.0, \"#0d0887\"], [0.1111111111111111, \"#46039f\"], [0.2222222222222222, \"#7201a8\"], [0.3333333333333333, \"#9c179e\"], [0.4444444444444444, \"#bd3786\"], [0.5555555555555556, \"#d8576b\"], [0.6666666666666666, \"#ed7953\"], [0.7777777777777778, \"#fb9f3a\"], [0.8888888888888888, \"#fdca26\"], [1.0, \"#f0f921\"]], \"type\": \"histogram2dcontour\"}], \"mesh3d\": [{\"colorbar\": {\"outlinewidth\": 0, \"ticks\": \"\"}, \"type\": \"mesh3d\"}], \"parcoords\": [{\"line\": {\"colorbar\": {\"outlinewidth\": 0, \"ticks\": \"\"}}, \"type\": \"parcoords\"}], \"pie\": [{\"automargin\": true, \"type\": \"pie\"}], \"scatter\": [{\"marker\": {\"colorbar\": {\"outlinewidth\": 0, \"ticks\": \"\"}}, \"type\": \"scatter\"}], \"scatter3d\": [{\"line\": {\"colorbar\": {\"outlinewidth\": 0, \"ticks\": \"\"}}, \"marker\": {\"colorbar\": {\"outlinewidth\": 0, \"ticks\": \"\"}}, \"type\": \"scatter3d\"}], \"scattercarpet\": [{\"marker\": {\"colorbar\": {\"outlinewidth\": 0, \"ticks\": \"\"}}, \"type\": \"scattercarpet\"}], \"scattergeo\": [{\"marker\": {\"colorbar\": {\"outlinewidth\": 0, \"ticks\": \"\"}}, \"type\": \"scattergeo\"}], \"scattergl\": [{\"marker\": {\"colorbar\": {\"outlinewidth\": 0, \"ticks\": \"\"}}, \"type\": \"scattergl\"}], \"scattermapbox\": [{\"marker\": {\"colorbar\": {\"outlinewidth\": 0, \"ticks\": \"\"}}, \"type\": \"scattermapbox\"}], \"scatterpolar\": [{\"marker\": {\"colorbar\": {\"outlinewidth\": 0, \"ticks\": \"\"}}, \"type\": \"scatterpolar\"}], \"scatterpolargl\": [{\"marker\": {\"colorbar\": {\"outlinewidth\": 0, \"ticks\": \"\"}}, \"type\": \"scatterpolargl\"}], \"scatterternary\": [{\"marker\": {\"colorbar\": {\"outlinewidth\": 0, \"ticks\": \"\"}}, \"type\": \"scatterternary\"}], \"surface\": [{\"colorbar\": {\"outlinewidth\": 0, \"ticks\": \"\"}, \"colorscale\": [[0.0, \"#0d0887\"], [0.1111111111111111, \"#46039f\"], [0.2222222222222222, \"#7201a8\"], [0.3333333333333333, \"#9c179e\"], [0.4444444444444444, \"#bd3786\"], [0.5555555555555556, \"#d8576b\"], [0.6666666666666666, \"#ed7953\"], [0.7777777777777778, \"#fb9f3a\"], [0.8888888888888888, \"#fdca26\"], [1.0, \"#f0f921\"]], \"type\": \"surface\"}], \"table\": [{\"cells\": {\"fill\": {\"color\": \"#EBF0F8\"}, \"line\": {\"color\": \"white\"}}, \"header\": {\"fill\": {\"color\": \"#C8D4E3\"}, \"line\": {\"color\": \"white\"}}, \"type\": \"table\"}]}, \"layout\": {\"annotationdefaults\": {\"arrowcolor\": \"#2a3f5f\", \"arrowhead\": 0, \"arrowwidth\": 1}, \"coloraxis\": {\"colorbar\": {\"outlinewidth\": 0, \"ticks\": \"\"}}, \"colorscale\": {\"diverging\": [[0, \"#8e0152\"], [0.1, \"#c51b7d\"], [0.2, \"#de77ae\"], [0.3, \"#f1b6da\"], [0.4, \"#fde0ef\"], [0.5, \"#f7f7f7\"], [0.6, \"#e6f5d0\"], [0.7, \"#b8e186\"], [0.8, \"#7fbc41\"], [0.9, \"#4d9221\"], [1, \"#276419\"]], \"sequential\": [[0.0, \"#0d0887\"], [0.1111111111111111, \"#46039f\"], [0.2222222222222222, \"#7201a8\"], [0.3333333333333333, \"#9c179e\"], [0.4444444444444444, \"#bd3786\"], [0.5555555555555556, \"#d8576b\"], [0.6666666666666666, \"#ed7953\"], [0.7777777777777778, \"#fb9f3a\"], [0.8888888888888888, \"#fdca26\"], [1.0, \"#f0f921\"]], \"sequentialminus\": [[0.0, \"#0d0887\"], [0.1111111111111111, \"#46039f\"], [0.2222222222222222, \"#7201a8\"], [0.3333333333333333, \"#9c179e\"], [0.4444444444444444, \"#bd3786\"], [0.5555555555555556, \"#d8576b\"], [0.6666666666666666, \"#ed7953\"], [0.7777777777777778, \"#fb9f3a\"], [0.8888888888888888, \"#fdca26\"], [1.0, \"#f0f921\"]]}, \"colorway\": [\"#636efa\", \"#EF553B\", \"#00cc96\", \"#ab63fa\", \"#FFA15A\", \"#19d3f3\", \"#FF6692\", \"#B6E880\", \"#FF97FF\", \"#FECB52\"], \"font\": {\"color\": \"#2a3f5f\"}, \"geo\": {\"bgcolor\": \"white\", \"lakecolor\": \"white\", \"landcolor\": \"#E5ECF6\", \"showlakes\": true, \"showland\": true, \"subunitcolor\": \"white\"}, \"hoverlabel\": {\"align\": \"left\"}, \"hovermode\": \"closest\", \"mapbox\": {\"style\": \"light\"}, \"paper_bgcolor\": \"white\", \"plot_bgcolor\": \"#E5ECF6\", \"polar\": {\"angularaxis\": {\"gridcolor\": \"white\", \"linecolor\": \"white\", \"ticks\": \"\"}, \"bgcolor\": \"#E5ECF6\", \"radialaxis\": {\"gridcolor\": \"white\", \"linecolor\": \"white\", \"ticks\": \"\"}}, \"scene\": {\"xaxis\": {\"backgroundcolor\": \"#E5ECF6\", \"gridcolor\": \"white\", \"gridwidth\": 2, \"linecolor\": \"white\", \"showbackground\": true, \"ticks\": \"\", \"zerolinecolor\": \"white\"}, \"yaxis\": {\"backgroundcolor\": \"#E5ECF6\", \"gridcolor\": \"white\", \"gridwidth\": 2, \"linecolor\": \"white\", \"showbackground\": true, \"ticks\": \"\", \"zerolinecolor\": \"white\"}, \"zaxis\": {\"backgroundcolor\": \"#E5ECF6\", \"gridcolor\": \"white\", \"gridwidth\": 2, \"linecolor\": \"white\", \"showbackground\": true, \"ticks\": \"\", \"zerolinecolor\": \"white\"}}, \"shapedefaults\": {\"line\": {\"color\": \"#2a3f5f\"}}, \"ternary\": {\"aaxis\": {\"gridcolor\": \"white\", \"linecolor\": \"white\", \"ticks\": \"\"}, \"baxis\": {\"gridcolor\": \"white\", \"linecolor\": \"white\", \"ticks\": \"\"}, \"bgcolor\": \"#E5ECF6\", \"caxis\": {\"gridcolor\": \"white\", \"linecolor\": \"white\", \"ticks\": \"\"}}, \"title\": {\"x\": 0.05}, \"xaxis\": {\"automargin\": true, \"gridcolor\": \"white\", \"linecolor\": \"white\", \"ticks\": \"\", \"title\": {\"standoff\": 15}, \"zerolinecolor\": \"white\", \"zerolinewidth\": 2}, \"yaxis\": {\"automargin\": true, \"gridcolor\": \"white\", \"linecolor\": \"white\", \"ticks\": \"\", \"title\": {\"standoff\": 15}, \"zerolinecolor\": \"white\", \"zerolinewidth\": 2}}}, \"title\": {\"text\": \"Letalidade - 10-04-2020\"}, \"xaxis\": {\"anchor\": \"y\", \"domain\": [0.0, 1.0], \"title\": {\"text\": \"Letalidade %\"}}, \"yaxis\": {\"anchor\": \"x\", \"categoryarray\": [\"Rep\\u00fablica Tcheca\", \"China\", \"Alemanha\", \"\\u00cdndia\", \"Argentina\", \"Jap\\u00e3o\", \"Fran\\u00e7a\", \"Espanha\", \"It\\u00e1lia\", \"Reino Unido\", \"EUA\", \"Brasil\"], \"categoryorder\": \"array\", \"domain\": [0.0, 1.0], \"title\": {\"text\": \"Pa\\u00edses\"}, \"type\": \"category\"}},\n",
              "                        {\"responsive\": true}\n",
              "                    ).then(function(){\n",
              "                            \n",
              "var gd = document.getElementById('f65eddb8-71ed-4f51-91c5-7a431865be55');\n",
              "var x = new MutationObserver(function (mutations, observer) {{\n",
              "        var display = window.getComputedStyle(gd).display;\n",
              "        if (!display || display === 'none') {{\n",
              "            console.log([gd, 'removed!']);\n",
              "            Plotly.purge(gd);\n",
              "            observer.disconnect();\n",
              "        }}\n",
              "}});\n",
              "\n",
              "// Listen for the removal of the full notebook cells\n",
              "var notebookContainer = gd.closest('#notebook-container');\n",
              "if (notebookContainer) {{\n",
              "    x.observe(notebookContainer, {childList: true});\n",
              "}}\n",
              "\n",
              "// Listen for the clearing of the current output cell\n",
              "var outputEl = gd.closest('.output');\n",
              "if (outputEl) {{\n",
              "    x.observe(outputEl, {childList: true});\n",
              "}}\n",
              "\n",
              "                        })\n",
              "                };\n",
              "                \n",
              "            </script>\n",
              "        </div>\n",
              "</body>\n",
              "</html>"
            ]
          },
          "metadata": {
            "tags": []
          }
        }
      ]
    },
    {
      "cell_type": "code",
      "metadata": {
        "id": "stK7iA7aU5up",
        "colab_type": "code",
        "outputId": "69cb3e25-6b56-4c4d-e206-28fd81f34aec",
        "colab": {
          "base_uri": "https://localhost:8080/",
          "height": 173
        }
      },
      "source": [
        "#hide\n",
        "pro_bra = data2[data2['countriesAndTerritories']=='Brazil']\n",
        "pro_bra['dateRep'] = pd.to_datetime(pro_bra['dateRep'],infer_datetime_format=True)\n",
        "pro_bra.sort_values('dateRep',inplace=True)\n",
        "\n",
        "pro_bra['death_cum'] = pro_bra['deaths'].cumsum()\n",
        "pro_bra['case_cum'] = pro_bra['cases'].cumsum()\n",
        "\n",
        "pro_bra.drop(['day', 'month','year',\"geoId\",'countryterritoryCode',\"popData2018\",'countriesAndTerritories'], axis = 1,inplace=True)\n",
        "pro_bra.tail(4)"
      ],
      "execution_count": 65,
      "outputs": [
        {
          "output_type": "execute_result",
          "data": {
            "text/html": [
              "<div>\n",
              "<style scoped>\n",
              "    .dataframe tbody tr th:only-of-type {\n",
              "        vertical-align: middle;\n",
              "    }\n",
              "\n",
              "    .dataframe tbody tr th {\n",
              "        vertical-align: top;\n",
              "    }\n",
              "\n",
              "    .dataframe thead th {\n",
              "        text-align: right;\n",
              "    }\n",
              "</style>\n",
              "<table border=\"1\" class=\"dataframe\">\n",
              "  <thead>\n",
              "    <tr style=\"text-align: right;\">\n",
              "      <th></th>\n",
              "      <th>dateRep</th>\n",
              "      <th>cases</th>\n",
              "      <th>deaths</th>\n",
              "      <th>death_cum</th>\n",
              "      <th>case_cum</th>\n",
              "    </tr>\n",
              "  </thead>\n",
              "  <tbody>\n",
              "    <tr>\n",
              "      <th>1298</th>\n",
              "      <td>2020-04-07</td>\n",
              "      <td>926</td>\n",
              "      <td>67</td>\n",
              "      <td>553</td>\n",
              "      <td>12056</td>\n",
              "    </tr>\n",
              "    <tr>\n",
              "      <th>1297</th>\n",
              "      <td>2020-04-08</td>\n",
              "      <td>1661</td>\n",
              "      <td>114</td>\n",
              "      <td>667</td>\n",
              "      <td>13717</td>\n",
              "    </tr>\n",
              "    <tr>\n",
              "      <th>1296</th>\n",
              "      <td>2020-04-09</td>\n",
              "      <td>2210</td>\n",
              "      <td>133</td>\n",
              "      <td>800</td>\n",
              "      <td>15927</td>\n",
              "    </tr>\n",
              "    <tr>\n",
              "      <th>1295</th>\n",
              "      <td>2020-04-10</td>\n",
              "      <td>1930</td>\n",
              "      <td>141</td>\n",
              "      <td>941</td>\n",
              "      <td>17857</td>\n",
              "    </tr>\n",
              "  </tbody>\n",
              "</table>\n",
              "</div>"
            ],
            "text/plain": [
              "        dateRep  cases  deaths  death_cum  case_cum\n",
              "1298 2020-04-07    926      67        553     12056\n",
              "1297 2020-04-08   1661     114        667     13717\n",
              "1296 2020-04-09   2210     133        800     15927\n",
              "1295 2020-04-10   1930     141        941     17857"
            ]
          },
          "metadata": {
            "tags": []
          },
          "execution_count": 65
        }
      ]
    },
    {
      "cell_type": "code",
      "metadata": {
        "id": "DbuqNT4UVwbl",
        "colab_type": "code",
        "outputId": "6511c188-bb46-4ed8-cb10-ed4f26f3d3e0",
        "colab": {
          "base_uri": "https://localhost:8080/",
          "height": 142
        }
      },
      "source": [
        "#hide\n",
        "pro_bra['Alemanha'] = pro_bra['death_cum']/let_ger*100\n",
        "pro_bra = pro_bra[pro_bra['dateRep']>='2020-03-17']\n",
        "pro_bra = pro_bra[pro_bra['dateRep']<=today]\n",
        "\n",
        "pro_bra.sort_values('dateRep',ascending=False)\n",
        "pro_bra.tail(3)"
      ],
      "execution_count": 66,
      "outputs": [
        {
          "output_type": "execute_result",
          "data": {
            "text/html": [
              "<div>\n",
              "<style scoped>\n",
              "    .dataframe tbody tr th:only-of-type {\n",
              "        vertical-align: middle;\n",
              "    }\n",
              "\n",
              "    .dataframe tbody tr th {\n",
              "        vertical-align: top;\n",
              "    }\n",
              "\n",
              "    .dataframe thead th {\n",
              "        text-align: right;\n",
              "    }\n",
              "</style>\n",
              "<table border=\"1\" class=\"dataframe\">\n",
              "  <thead>\n",
              "    <tr style=\"text-align: right;\">\n",
              "      <th></th>\n",
              "      <th>dateRep</th>\n",
              "      <th>cases</th>\n",
              "      <th>deaths</th>\n",
              "      <th>death_cum</th>\n",
              "      <th>case_cum</th>\n",
              "      <th>Alemanha</th>\n",
              "    </tr>\n",
              "  </thead>\n",
              "  <tbody>\n",
              "    <tr>\n",
              "      <th>1297</th>\n",
              "      <td>2020-04-08</td>\n",
              "      <td>1661</td>\n",
              "      <td>114</td>\n",
              "      <td>667</td>\n",
              "      <td>13717</td>\n",
              "      <td>31913.875598</td>\n",
              "    </tr>\n",
              "    <tr>\n",
              "      <th>1296</th>\n",
              "      <td>2020-04-09</td>\n",
              "      <td>2210</td>\n",
              "      <td>133</td>\n",
              "      <td>800</td>\n",
              "      <td>15927</td>\n",
              "      <td>38277.511962</td>\n",
              "    </tr>\n",
              "    <tr>\n",
              "      <th>1295</th>\n",
              "      <td>2020-04-10</td>\n",
              "      <td>1930</td>\n",
              "      <td>141</td>\n",
              "      <td>941</td>\n",
              "      <td>17857</td>\n",
              "      <td>45023.923445</td>\n",
              "    </tr>\n",
              "  </tbody>\n",
              "</table>\n",
              "</div>"
            ],
            "text/plain": [
              "        dateRep  cases  deaths  death_cum  case_cum      Alemanha\n",
              "1297 2020-04-08   1661     114        667     13717  31913.875598\n",
              "1296 2020-04-09   2210     133        800     15927  38277.511962\n",
              "1295 2020-04-10   1930     141        941     17857  45023.923445"
            ]
          },
          "metadata": {
            "tags": []
          },
          "execution_count": 66
        }
      ]
    },
    {
      "cell_type": "markdown",
      "metadata": {
        "id": "ayDTpGd2XAcS",
        "colab_type": "text"
      },
      "source": [
        "O gráfico abaixo representa uma estimativa simples da quantidade de casos atualmente no Brasil. Uma vez que a baixa quantidade de testes tem levado os números a uma subnotificação, o cálculo foi realizado com base no número de óbitos registrados por COVID-19 no Brasil e na taxa da Alemanha, país que tem testado massivamente sua população. Desse modo os números são os seguintes:\n"
      ]
    },
    {
      "cell_type": "code",
      "metadata": {
        "id": "xsMegz3oXF1e",
        "colab_type": "code",
        "outputId": "d71c5b12-0c08-4765-9b1d-06a79d4dc1dd",
        "colab": {
          "base_uri": "https://localhost:8080/",
          "height": 68
        }
      },
      "source": [
        "#hide_input\n",
        "print(\"Número atual de casos registrados no Brasil hoje: \"+ str(pro_bra.iloc[-1,-3])  )\n",
        "print(\"Estimativa de casos no Brasil hoje caso a letalidade seja próxima à da Alemanha: \"+ str(int(pro_bra.iloc[-1,-2]))  )\n",
        "print(\"Estimativa de casos no Brasil hoje caso a letalidade seja próxima à da Coréia do Sul: \"+ str(int(pro_bra.iloc[-1,-1]))  )"
      ],
      "execution_count": 67,
      "outputs": [
        {
          "output_type": "stream",
          "text": [
            "Número atual de casos registrados no Brasil hoje: 941\n",
            "Estimativa de casos no Brasil hoje caso a letalidade seja próxima à da Alemanha: 17857\n",
            "Estimativa de casos no Brasil hoje caso a letalidade seja próxima à da Coréia do Sul: 45023\n"
          ],
          "name": "stdout"
        }
      ]
    },
    {
      "cell_type": "code",
      "metadata": {
        "id": "sxDWbBilJNkw",
        "colab_type": "code",
        "outputId": "3209984c-0c32-4ea1-db03-ba6f5516eb8d",
        "colab": {
          "base_uri": "https://localhost:8080/",
          "height": 80
        }
      },
      "source": [
        "#hide\n",
        "pro_bra.tail(1)"
      ],
      "execution_count": 68,
      "outputs": [
        {
          "output_type": "execute_result",
          "data": {
            "text/html": [
              "<div>\n",
              "<style scoped>\n",
              "    .dataframe tbody tr th:only-of-type {\n",
              "        vertical-align: middle;\n",
              "    }\n",
              "\n",
              "    .dataframe tbody tr th {\n",
              "        vertical-align: top;\n",
              "    }\n",
              "\n",
              "    .dataframe thead th {\n",
              "        text-align: right;\n",
              "    }\n",
              "</style>\n",
              "<table border=\"1\" class=\"dataframe\">\n",
              "  <thead>\n",
              "    <tr style=\"text-align: right;\">\n",
              "      <th></th>\n",
              "      <th>dateRep</th>\n",
              "      <th>cases</th>\n",
              "      <th>deaths</th>\n",
              "      <th>death_cum</th>\n",
              "      <th>case_cum</th>\n",
              "      <th>Alemanha</th>\n",
              "    </tr>\n",
              "  </thead>\n",
              "  <tbody>\n",
              "    <tr>\n",
              "      <th>1295</th>\n",
              "      <td>2020-04-10</td>\n",
              "      <td>1930</td>\n",
              "      <td>141</td>\n",
              "      <td>941</td>\n",
              "      <td>17857</td>\n",
              "      <td>45023.923445</td>\n",
              "    </tr>\n",
              "  </tbody>\n",
              "</table>\n",
              "</div>"
            ],
            "text/plain": [
              "        dateRep  cases  deaths  death_cum  case_cum      Alemanha\n",
              "1295 2020-04-10   1930     141        941     17857  45023.923445"
            ]
          },
          "metadata": {
            "tags": []
          },
          "execution_count": 68
        }
      ]
    },
    {
      "cell_type": "code",
      "metadata": {
        "id": "o6tcaHJ-ZnBU",
        "colab_type": "code",
        "outputId": "0082ee07-a02c-4aa7-ff80-bb00202f8bc1",
        "colab": {
          "base_uri": "https://localhost:8080/",
          "height": 542
        }
      },
      "source": [
        "#hide_input\n",
        "import plotly.graph_objects as go\n",
        "pro_bra = pro_bra[pro_bra['dateRep']<=today_us]\n",
        "fig = go.Figure()\n",
        "fig.add_trace(go.Scatter(x=pro_bra['dateRep'], y=pro_bra['case_cum'], name='Brasil registrado',\n",
        "                         line=dict(color='firebrick', width=4)))\n",
        "fig.add_trace(go.Scatter(x=pro_bra['dateRep'], y=pro_bra['Alemanha'], name='Projeção Alemanha',\n",
        "                         line=dict(color='blue', width=2)))\n",
        "\n",
        "\n",
        "fig.update_layout(title='Projeção de casos no Brasil baseados nas taxas de letalidade da Alemanha',\n",
        "                   xaxis_title='Data',\n",
        "                   yaxis_title='Projeção')"
      ],
      "execution_count": 69,
      "outputs": [
        {
          "output_type": "display_data",
          "data": {
            "text/html": [
              "<html>\n",
              "<head><meta charset=\"utf-8\" /></head>\n",
              "<body>\n",
              "    <div>\n",
              "            <script src=\"https://cdnjs.cloudflare.com/ajax/libs/mathjax/2.7.5/MathJax.js?config=TeX-AMS-MML_SVG\"></script><script type=\"text/javascript\">if (window.MathJax) {MathJax.Hub.Config({SVG: {font: \"STIX-Web\"}});}</script>\n",
              "                <script type=\"text/javascript\">window.PlotlyConfig = {MathJaxConfig: 'local'};</script>\n",
              "        <script src=\"https://cdn.plot.ly/plotly-latest.min.js\"></script>    \n",
              "            <div id=\"d2551f21-c037-4406-9239-1e98f8d016f1\" class=\"plotly-graph-div\" style=\"height:525px; width:100%;\"></div>\n",
              "            <script type=\"text/javascript\">\n",
              "                \n",
              "                    window.PLOTLYENV=window.PLOTLYENV || {};\n",
              "                    \n",
              "                if (document.getElementById(\"d2551f21-c037-4406-9239-1e98f8d016f1\")) {\n",
              "                    Plotly.newPlot(\n",
              "                        'd2551f21-c037-4406-9239-1e98f8d016f1',\n",
              "                        [{\"line\": {\"color\": \"firebrick\", \"width\": 4}, \"name\": \"Brasil registrado\", \"type\": \"scatter\", \"x\": [\"2020-03-17T00:00:00\", \"2020-03-18T00:00:00\", \"2020-03-19T00:00:00\", \"2020-03-20T00:00:00\", \"2020-03-21T00:00:00\", \"2020-03-22T00:00:00\", \"2020-03-23T00:00:00\", \"2020-03-24T00:00:00\", \"2020-03-25T00:00:00\", \"2020-03-26T00:00:00\", \"2020-03-27T00:00:00\", \"2020-03-28T00:00:00\", \"2020-03-29T00:00:00\", \"2020-03-30T00:00:00\", \"2020-03-31T00:00:00\", \"2020-04-01T00:00:00\", \"2020-04-02T00:00:00\", \"2020-04-03T00:00:00\", \"2020-04-04T00:00:00\", \"2020-04-05T00:00:00\", \"2020-04-06T00:00:00\", \"2020-04-07T00:00:00\", \"2020-04-08T00:00:00\", \"2020-04-09T00:00:00\", \"2020-04-10T00:00:00\"], \"y\": [234, 291, 428, 621, 904, 1128, 1546, 1891, 2201, 2433, 2915, 3417, 3904, 4256, 4579, 5717, 6836, 7910, 9056, 10278, 11130, 12056, 13717, 15927, 17857]}, {\"line\": {\"color\": \"blue\", \"width\": 2}, \"name\": \"Proje\\u00e7\\u00e3o Alemanha\", \"type\": \"scatter\", \"x\": [\"2020-03-17T00:00:00\", \"2020-03-18T00:00:00\", \"2020-03-19T00:00:00\", \"2020-03-20T00:00:00\", \"2020-03-21T00:00:00\", \"2020-03-22T00:00:00\", \"2020-03-23T00:00:00\", \"2020-03-24T00:00:00\", \"2020-03-25T00:00:00\", \"2020-03-26T00:00:00\", \"2020-03-27T00:00:00\", \"2020-03-28T00:00:00\", \"2020-03-29T00:00:00\", \"2020-03-30T00:00:00\", \"2020-03-31T00:00:00\", \"2020-04-01T00:00:00\", \"2020-04-02T00:00:00\", \"2020-04-03T00:00:00\", \"2020-04-04T00:00:00\", \"2020-04-05T00:00:00\", \"2020-04-06T00:00:00\", \"2020-04-07T00:00:00\", \"2020-04-08T00:00:00\", \"2020-04-09T00:00:00\", \"2020-04-10T00:00:00\"], \"y\": [0.0, 47.84688995215311, 191.38755980861245, 287.0813397129187, 526.3157894736843, 861.2440191387561, 1196.1722488038279, 1626.7942583732058, 2200.956937799043, 2727.2727272727275, 3684.2105263157896, 4401.913875598086, 5454.545454545455, 6507.177033492823, 7607.655502392345, 9617.224880382775, 11531.100478468901, 14306.22009569378, 17177.033492822968, 20669.856459330145, 23253.588516746415, 26459.330143540672, 31913.875598086128, 38277.51196172249, 45023.92344497608]}],\n",
              "                        {\"template\": {\"data\": {\"bar\": [{\"error_x\": {\"color\": \"#2a3f5f\"}, \"error_y\": {\"color\": \"#2a3f5f\"}, \"marker\": {\"line\": {\"color\": \"#E5ECF6\", \"width\": 0.5}}, \"type\": \"bar\"}], \"barpolar\": [{\"marker\": {\"line\": {\"color\": \"#E5ECF6\", \"width\": 0.5}}, \"type\": \"barpolar\"}], \"carpet\": [{\"aaxis\": {\"endlinecolor\": \"#2a3f5f\", \"gridcolor\": \"white\", \"linecolor\": \"white\", \"minorgridcolor\": \"white\", \"startlinecolor\": \"#2a3f5f\"}, \"baxis\": {\"endlinecolor\": \"#2a3f5f\", \"gridcolor\": \"white\", \"linecolor\": \"white\", \"minorgridcolor\": \"white\", \"startlinecolor\": \"#2a3f5f\"}, \"type\": \"carpet\"}], \"choropleth\": [{\"colorbar\": {\"outlinewidth\": 0, \"ticks\": \"\"}, \"type\": \"choropleth\"}], \"contour\": [{\"colorbar\": {\"outlinewidth\": 0, \"ticks\": \"\"}, \"colorscale\": [[0.0, \"#0d0887\"], [0.1111111111111111, \"#46039f\"], [0.2222222222222222, \"#7201a8\"], [0.3333333333333333, \"#9c179e\"], [0.4444444444444444, \"#bd3786\"], [0.5555555555555556, \"#d8576b\"], [0.6666666666666666, \"#ed7953\"], [0.7777777777777778, \"#fb9f3a\"], [0.8888888888888888, \"#fdca26\"], [1.0, \"#f0f921\"]], \"type\": \"contour\"}], \"contourcarpet\": [{\"colorbar\": {\"outlinewidth\": 0, \"ticks\": \"\"}, \"type\": \"contourcarpet\"}], \"heatmap\": [{\"colorbar\": {\"outlinewidth\": 0, \"ticks\": \"\"}, \"colorscale\": [[0.0, \"#0d0887\"], [0.1111111111111111, \"#46039f\"], [0.2222222222222222, \"#7201a8\"], [0.3333333333333333, \"#9c179e\"], [0.4444444444444444, \"#bd3786\"], [0.5555555555555556, \"#d8576b\"], [0.6666666666666666, \"#ed7953\"], [0.7777777777777778, \"#fb9f3a\"], [0.8888888888888888, \"#fdca26\"], [1.0, \"#f0f921\"]], \"type\": \"heatmap\"}], \"heatmapgl\": [{\"colorbar\": {\"outlinewidth\": 0, \"ticks\": \"\"}, \"colorscale\": [[0.0, \"#0d0887\"], [0.1111111111111111, \"#46039f\"], [0.2222222222222222, \"#7201a8\"], [0.3333333333333333, \"#9c179e\"], [0.4444444444444444, \"#bd3786\"], [0.5555555555555556, \"#d8576b\"], [0.6666666666666666, \"#ed7953\"], [0.7777777777777778, \"#fb9f3a\"], [0.8888888888888888, \"#fdca26\"], [1.0, \"#f0f921\"]], \"type\": \"heatmapgl\"}], \"histogram\": [{\"marker\": {\"colorbar\": {\"outlinewidth\": 0, \"ticks\": \"\"}}, \"type\": \"histogram\"}], \"histogram2d\": [{\"colorbar\": {\"outlinewidth\": 0, \"ticks\": \"\"}, \"colorscale\": [[0.0, \"#0d0887\"], [0.1111111111111111, \"#46039f\"], [0.2222222222222222, \"#7201a8\"], [0.3333333333333333, \"#9c179e\"], [0.4444444444444444, \"#bd3786\"], [0.5555555555555556, \"#d8576b\"], [0.6666666666666666, \"#ed7953\"], [0.7777777777777778, \"#fb9f3a\"], [0.8888888888888888, \"#fdca26\"], [1.0, \"#f0f921\"]], \"type\": \"histogram2d\"}], \"histogram2dcontour\": [{\"colorbar\": {\"outlinewidth\": 0, \"ticks\": \"\"}, \"colorscale\": [[0.0, \"#0d0887\"], [0.1111111111111111, \"#46039f\"], [0.2222222222222222, \"#7201a8\"], [0.3333333333333333, \"#9c179e\"], [0.4444444444444444, \"#bd3786\"], [0.5555555555555556, \"#d8576b\"], [0.6666666666666666, \"#ed7953\"], [0.7777777777777778, \"#fb9f3a\"], [0.8888888888888888, \"#fdca26\"], [1.0, \"#f0f921\"]], \"type\": \"histogram2dcontour\"}], \"mesh3d\": [{\"colorbar\": {\"outlinewidth\": 0, \"ticks\": \"\"}, \"type\": \"mesh3d\"}], \"parcoords\": [{\"line\": {\"colorbar\": {\"outlinewidth\": 0, \"ticks\": \"\"}}, \"type\": \"parcoords\"}], \"pie\": [{\"automargin\": true, \"type\": \"pie\"}], \"scatter\": [{\"marker\": {\"colorbar\": {\"outlinewidth\": 0, \"ticks\": \"\"}}, \"type\": \"scatter\"}], \"scatter3d\": [{\"line\": {\"colorbar\": {\"outlinewidth\": 0, \"ticks\": \"\"}}, \"marker\": {\"colorbar\": {\"outlinewidth\": 0, \"ticks\": \"\"}}, \"type\": \"scatter3d\"}], \"scattercarpet\": [{\"marker\": {\"colorbar\": {\"outlinewidth\": 0, \"ticks\": \"\"}}, \"type\": \"scattercarpet\"}], \"scattergeo\": [{\"marker\": {\"colorbar\": {\"outlinewidth\": 0, \"ticks\": \"\"}}, \"type\": \"scattergeo\"}], \"scattergl\": [{\"marker\": {\"colorbar\": {\"outlinewidth\": 0, \"ticks\": \"\"}}, \"type\": \"scattergl\"}], \"scattermapbox\": [{\"marker\": {\"colorbar\": {\"outlinewidth\": 0, \"ticks\": \"\"}}, \"type\": \"scattermapbox\"}], \"scatterpolar\": [{\"marker\": {\"colorbar\": {\"outlinewidth\": 0, \"ticks\": \"\"}}, \"type\": \"scatterpolar\"}], \"scatterpolargl\": [{\"marker\": {\"colorbar\": {\"outlinewidth\": 0, \"ticks\": \"\"}}, \"type\": \"scatterpolargl\"}], \"scatterternary\": [{\"marker\": {\"colorbar\": {\"outlinewidth\": 0, \"ticks\": \"\"}}, \"type\": \"scatterternary\"}], \"surface\": [{\"colorbar\": {\"outlinewidth\": 0, \"ticks\": \"\"}, \"colorscale\": [[0.0, \"#0d0887\"], [0.1111111111111111, \"#46039f\"], [0.2222222222222222, \"#7201a8\"], [0.3333333333333333, \"#9c179e\"], [0.4444444444444444, \"#bd3786\"], [0.5555555555555556, \"#d8576b\"], [0.6666666666666666, \"#ed7953\"], [0.7777777777777778, \"#fb9f3a\"], [0.8888888888888888, \"#fdca26\"], [1.0, \"#f0f921\"]], \"type\": \"surface\"}], \"table\": [{\"cells\": {\"fill\": {\"color\": \"#EBF0F8\"}, \"line\": {\"color\": \"white\"}}, \"header\": {\"fill\": {\"color\": \"#C8D4E3\"}, \"line\": {\"color\": \"white\"}}, \"type\": \"table\"}]}, \"layout\": {\"annotationdefaults\": {\"arrowcolor\": \"#2a3f5f\", \"arrowhead\": 0, \"arrowwidth\": 1}, \"coloraxis\": {\"colorbar\": {\"outlinewidth\": 0, \"ticks\": \"\"}}, \"colorscale\": {\"diverging\": [[0, \"#8e0152\"], [0.1, \"#c51b7d\"], [0.2, \"#de77ae\"], [0.3, \"#f1b6da\"], [0.4, \"#fde0ef\"], [0.5, \"#f7f7f7\"], [0.6, \"#e6f5d0\"], [0.7, \"#b8e186\"], [0.8, \"#7fbc41\"], [0.9, \"#4d9221\"], [1, \"#276419\"]], \"sequential\": [[0.0, \"#0d0887\"], [0.1111111111111111, \"#46039f\"], [0.2222222222222222, \"#7201a8\"], [0.3333333333333333, \"#9c179e\"], [0.4444444444444444, \"#bd3786\"], [0.5555555555555556, \"#d8576b\"], [0.6666666666666666, \"#ed7953\"], [0.7777777777777778, \"#fb9f3a\"], [0.8888888888888888, \"#fdca26\"], [1.0, \"#f0f921\"]], \"sequentialminus\": [[0.0, \"#0d0887\"], [0.1111111111111111, \"#46039f\"], [0.2222222222222222, \"#7201a8\"], [0.3333333333333333, \"#9c179e\"], [0.4444444444444444, \"#bd3786\"], [0.5555555555555556, \"#d8576b\"], [0.6666666666666666, \"#ed7953\"], [0.7777777777777778, \"#fb9f3a\"], [0.8888888888888888, \"#fdca26\"], [1.0, \"#f0f921\"]]}, \"colorway\": [\"#636efa\", \"#EF553B\", \"#00cc96\", \"#ab63fa\", \"#FFA15A\", \"#19d3f3\", \"#FF6692\", \"#B6E880\", \"#FF97FF\", \"#FECB52\"], \"font\": {\"color\": \"#2a3f5f\"}, \"geo\": {\"bgcolor\": \"white\", \"lakecolor\": \"white\", \"landcolor\": \"#E5ECF6\", \"showlakes\": true, \"showland\": true, \"subunitcolor\": \"white\"}, \"hoverlabel\": {\"align\": \"left\"}, \"hovermode\": \"closest\", \"mapbox\": {\"style\": \"light\"}, \"paper_bgcolor\": \"white\", \"plot_bgcolor\": \"#E5ECF6\", \"polar\": {\"angularaxis\": {\"gridcolor\": \"white\", \"linecolor\": \"white\", \"ticks\": \"\"}, \"bgcolor\": \"#E5ECF6\", \"radialaxis\": {\"gridcolor\": \"white\", \"linecolor\": \"white\", \"ticks\": \"\"}}, \"scene\": {\"xaxis\": {\"backgroundcolor\": \"#E5ECF6\", \"gridcolor\": \"white\", \"gridwidth\": 2, \"linecolor\": \"white\", \"showbackground\": true, \"ticks\": \"\", \"zerolinecolor\": \"white\"}, \"yaxis\": {\"backgroundcolor\": \"#E5ECF6\", \"gridcolor\": \"white\", \"gridwidth\": 2, \"linecolor\": \"white\", \"showbackground\": true, \"ticks\": \"\", \"zerolinecolor\": \"white\"}, \"zaxis\": {\"backgroundcolor\": \"#E5ECF6\", \"gridcolor\": \"white\", \"gridwidth\": 2, \"linecolor\": \"white\", \"showbackground\": true, \"ticks\": \"\", \"zerolinecolor\": \"white\"}}, \"shapedefaults\": {\"line\": {\"color\": \"#2a3f5f\"}}, \"ternary\": {\"aaxis\": {\"gridcolor\": \"white\", \"linecolor\": \"white\", \"ticks\": \"\"}, \"baxis\": {\"gridcolor\": \"white\", \"linecolor\": \"white\", \"ticks\": \"\"}, \"bgcolor\": \"#E5ECF6\", \"caxis\": {\"gridcolor\": \"white\", \"linecolor\": \"white\", \"ticks\": \"\"}}, \"title\": {\"x\": 0.05}, \"xaxis\": {\"automargin\": true, \"gridcolor\": \"white\", \"linecolor\": \"white\", \"ticks\": \"\", \"title\": {\"standoff\": 15}, \"zerolinecolor\": \"white\", \"zerolinewidth\": 2}, \"yaxis\": {\"automargin\": true, \"gridcolor\": \"white\", \"linecolor\": \"white\", \"ticks\": \"\", \"title\": {\"standoff\": 15}, \"zerolinecolor\": \"white\", \"zerolinewidth\": 2}}}, \"title\": {\"text\": \"Proje\\u00e7\\u00e3o de casos no Brasil baseados nas taxas de letalidade da Alemanha\"}, \"xaxis\": {\"title\": {\"text\": \"Data\"}}, \"yaxis\": {\"title\": {\"text\": \"Proje\\u00e7\\u00e3o\"}}},\n",
              "                        {\"responsive\": true}\n",
              "                    ).then(function(){\n",
              "                            \n",
              "var gd = document.getElementById('d2551f21-c037-4406-9239-1e98f8d016f1');\n",
              "var x = new MutationObserver(function (mutations, observer) {{\n",
              "        var display = window.getComputedStyle(gd).display;\n",
              "        if (!display || display === 'none') {{\n",
              "            console.log([gd, 'removed!']);\n",
              "            Plotly.purge(gd);\n",
              "            observer.disconnect();\n",
              "        }}\n",
              "}});\n",
              "\n",
              "// Listen for the removal of the full notebook cells\n",
              "var notebookContainer = gd.closest('#notebook-container');\n",
              "if (notebookContainer) {{\n",
              "    x.observe(notebookContainer, {childList: true});\n",
              "}}\n",
              "\n",
              "// Listen for the clearing of the current output cell\n",
              "var outputEl = gd.closest('.output');\n",
              "if (outputEl) {{\n",
              "    x.observe(outputEl, {childList: true});\n",
              "}}\n",
              "\n",
              "                        })\n",
              "                };\n",
              "                \n",
              "            </script>\n",
              "        </div>\n",
              "</body>\n",
              "</html>"
            ]
          },
          "metadata": {
            "tags": []
          }
        }
      ]
    },
    {
      "cell_type": "code",
      "metadata": {
        "id": "PTF6VKhK6m4v",
        "colab_type": "code",
        "outputId": "21d30c53-4fe9-4b56-a913-3187221dec21",
        "colab": {
          "base_uri": "https://localhost:8080/",
          "height": 51
        }
      },
      "source": [
        "#hide\n",
        "from statsmodels.tsa.stattools import adfuller\n",
        "from numpy import log\n",
        "result = adfuller(italy.Cumulativo.dropna())\n",
        "print('ADF Statistic: %f' % result[0])\n",
        "print('p-value: %f' % result[1])\n"
      ],
      "execution_count": 70,
      "outputs": [
        {
          "output_type": "stream",
          "text": [
            "ADF Statistic: 0.723219\n",
            "p-value: 0.990290\n"
          ],
          "name": "stdout"
        }
      ]
    },
    {
      "cell_type": "code",
      "metadata": {
        "id": "SDqi2NA_6h5H",
        "colab_type": "code",
        "outputId": "534076c8-44f4-4578-f7a1-f1479653062e",
        "colab": {
          "base_uri": "https://localhost:8080/",
          "height": 734
        }
      },
      "source": [
        "#hide\n",
        "import numpy as np, pandas as pd\n",
        "from statsmodels.graphics.tsaplots import plot_acf, plot_pacf\n",
        "import matplotlib.pyplot as plt\n",
        "plt.rcParams.update({'figure.figsize':(9,7), 'figure.dpi':120})\n",
        "\n",
        "# Import data\n",
        "df =italy\n",
        "\n",
        "# Original Series\n",
        "fig, axes = plt.subplots(3, 2, sharex=True)\n",
        "axes[0, 0].plot(italy.Cumulativo); axes[0, 0].set_title('Original Series')\n",
        "plot_acf(italy.Cumulativo, ax=axes[0, 1])\n",
        "\n",
        "# 1st Differencing\n",
        "axes[1, 0].plot(italy.Cumulativo.diff()); axes[1, 0].set_title('1st Order Differencing')\n",
        "plot_acf(italy.Cumulativo.diff().dropna(), ax=axes[1, 1])\n",
        "\n",
        "# 2nd Differencing\n",
        "axes[2, 0].plot(italy.Cumulativo.diff().diff()); axes[2, 0].set_title('2nd Order Differencing')\n",
        "plot_acf(italy.Cumulativo.diff().diff().dropna(), ax=axes[2, 1])\n",
        "\n",
        "plt.show()"
      ],
      "execution_count": 71,
      "outputs": [
        {
          "output_type": "display_data",
          "data": {
            "image/png": "[encoded data removed]",
            "text/plain": [
              "<Figure size 1080x840 with 6 Axes>"
            ]
          },
          "metadata": {
            "tags": []
          }
        }
      ]
    },
    {
      "cell_type": "code",
      "metadata": {
        "id": "jxjvVHXJOolQ",
        "colab_type": "code",
        "outputId": "71c3b1ab-d3eb-4176-8242-b511fa11dd1b",
        "colab": {
          "base_uri": "https://localhost:8080/",
          "height": 425
        }
      },
      "source": [
        "#hide\n",
        "from statsmodels.tsa.arima_model import ARIMA\n",
        "\n",
        "# 1,1,2 ARIMA Model\n",
        "model = ARIMA(italy.Cumulativo.astype(float), order=(1,1,2))\n",
        "model_fit = model.fit(disp=0)\n",
        "print(model_fit.summary())\n"
      ],
      "execution_count": 72,
      "outputs": [
        {
          "output_type": "stream",
          "text": [
            "                             ARIMA Model Results                              \n",
            "==============================================================================\n",
            "Dep. Variable:           D.Cumulativo   No. Observations:                   47\n",
            "Model:                 ARIMA(1, 1, 2)   Log Likelihood                -366.847\n",
            "Method:                       css-mle   S.D. of innovations            577.173\n",
            "Date:                Fri, 10 Apr 2020   AIC                            743.693\n",
            "Time:                        11:27:34   BIC                            752.944\n",
            "Sample:                             1   HQIC                           747.174\n",
            "                                                                              \n",
            "======================================================================================\n",
            "                         coef    std err          z      P>|z|      [0.025      0.975]\n",
            "--------------------------------------------------------------------------------------\n",
            "const               2674.8396   1491.215      1.794      0.080    -247.887    5597.567\n",
            "ar.L1.D.Cumulativo     0.9514      0.047     20.375      0.000       0.860       1.043\n",
            "ma.L1.D.Cumulativo     0.0303      0.168      0.180      0.858      -0.299       0.359\n",
            "ma.L2.D.Cumulativo     0.1220      0.213      0.573      0.570      -0.296       0.540\n",
            "                                    Roots                                    \n",
            "=============================================================================\n",
            "                  Real          Imaginary           Modulus         Frequency\n",
            "-----------------------------------------------------------------------------\n",
            "AR.1            1.0511           +0.0000j            1.0511            0.0000\n",
            "MA.1           -0.1241           -2.8603j            2.8630           -0.2569\n",
            "MA.2           -0.1241           +2.8603j            2.8630            0.2569\n",
            "-----------------------------------------------------------------------------\n"
          ],
          "name": "stdout"
        }
      ]
    },
    {
      "cell_type": "code",
      "metadata": {
        "id": "1APXWGz9MIty",
        "colab_type": "code",
        "outputId": "f4d93dd8-5a93-4433-a4d4-ae59c81b635c",
        "colab": {
          "base_uri": "https://localhost:8080/",
          "height": 391
        }
      },
      "source": [
        "#hide\n",
        "# 1,1,1 ARIMA Model\n",
        "model = ARIMA(italy.Cumulativo.astype(float), order=(1,1,1))\n",
        "model_fit = model.fit(disp=0)\n",
        "print(model_fit.summary())"
      ],
      "execution_count": 73,
      "outputs": [
        {
          "output_type": "stream",
          "text": [
            "                             ARIMA Model Results                              \n",
            "==============================================================================\n",
            "Dep. Variable:           D.Cumulativo   No. Observations:                   47\n",
            "Model:                 ARIMA(1, 1, 1)   Log Likelihood                -367.003\n",
            "Method:                       css-mle   S.D. of innovations            579.356\n",
            "Date:                Fri, 10 Apr 2020   AIC                            742.007\n",
            "Time:                        11:27:34   BIC                            749.407\n",
            "Sample:                             1   HQIC                           744.792\n",
            "                                                                              \n",
            "======================================================================================\n",
            "                         coef    std err          z      P>|z|      [0.025      0.975]\n",
            "--------------------------------------------------------------------------------------\n",
            "const               2566.9500   1577.786      1.627      0.111    -525.455    5659.355\n",
            "ar.L1.D.Cumulativo     0.9632      0.034     28.516      0.000       0.897       1.029\n",
            "ma.L1.D.Cumulativo    -0.0107      0.144     -0.075      0.941      -0.293       0.271\n",
            "                                    Roots                                    \n",
            "=============================================================================\n",
            "                  Real          Imaginary           Modulus         Frequency\n",
            "-----------------------------------------------------------------------------\n",
            "AR.1            1.0382           +0.0000j            1.0382            0.0000\n",
            "MA.1           93.1763           +0.0000j           93.1763            0.0000\n",
            "-----------------------------------------------------------------------------\n"
          ],
          "name": "stdout"
        }
      ]
    },
    {
      "cell_type": "code",
      "metadata": {
        "id": "DyqryoMxTqTF",
        "colab_type": "code",
        "outputId": "fe06070f-1e6d-47be-bc55-aa675f118179",
        "colab": {
          "base_uri": "https://localhost:8080/",
          "height": 734
        }
      },
      "source": [
        "#hide\n",
        "# Plot residual errors\n",
        "residuals = pd.DataFrame(model_fit.resid)\n",
        "fig, ax = plt.subplots(1,2)\n",
        "residuals.plot(title=\"Residuals\", ax=ax[0])\n",
        "residuals.plot(kind='kde', title='Density', ax=ax[1])\n",
        "plt.show()"
      ],
      "execution_count": 74,
      "outputs": [
        {
          "output_type": "display_data",
          "data": {
            "image/png": "[encoded data removed]",
            "text/plain": [
              "<Figure size 1080x840 with 2 Axes>"
            ]
          },
          "metadata": {
            "tags": []
          }
        }
      ]
    },
    {
      "cell_type": "code",
      "metadata": {
        "id": "KZPil6wRYxE8",
        "colab_type": "code",
        "outputId": "5677a3e2-d7f7-43ce-fe8f-99995b1e1e12",
        "colab": {
          "base_uri": "https://localhost:8080/",
          "height": 709
        }
      },
      "source": [
        "#hide\n",
        "# Actual vs Fitted\n",
        "model_fit.plot_predict(dynamic=False)\n",
        "plt.show()"
      ],
      "execution_count": 75,
      "outputs": [
        {
          "output_type": "display_data",
          "data": {
            "image/png": "[encoded data removed]",
            "text/plain": [
              "<Figure size 1080x840 with 1 Axes>"
            ]
          },
          "metadata": {
            "tags": []
          }
        }
      ]
    },
    {
      "cell_type": "code",
      "metadata": {
        "id": "WWaA3Lq-DxgL",
        "colab_type": "code",
        "outputId": "364f0342-b06e-4a54-e160-8a8633cd9bc3",
        "colab": {
          "base_uri": "https://localhost:8080/",
          "height": 578
        }
      },
      "source": [
        "#hide\n",
        "from statsmodels.tsa.stattools import acf\n",
        "\n",
        "# Create Training and Test\n",
        "train = china.Cumulativo[:20]\n",
        "test = china.Cumulativo[21:]\n",
        "print(train)\n",
        "print(test)"
      ],
      "execution_count": 76,
      "outputs": [
        {
          "output_type": "stream",
          "text": [
            "0      59\n",
            "1      59\n",
            "2      59\n",
            "3      59\n",
            "4      59\n",
            "5      59\n",
            "6      59\n",
            "7      59\n",
            "8      59\n",
            "9      59\n",
            "10     59\n",
            "11     59\n",
            "12     63\n",
            "13     80\n",
            "14    216\n",
            "15    235\n",
            "16    386\n",
            "17    526\n",
            "18    623\n",
            "19    882\n",
            "Name: Cumulativo, dtype: int64\n",
            "21     1988\n",
            "22     2775\n",
            "23     4528\n",
            "24     5994\n",
            "25     7734\n",
            "      ...  \n",
            "92    82642\n",
            "93    82698\n",
            "94    82784\n",
            "95    82870\n",
            "96    82925\n",
            "Name: Cumulativo, Length: 76, dtype: int64\n"
          ],
          "name": "stdout"
        }
      ]
    },
    {
      "cell_type": "code",
      "metadata": {
        "id": "vFO_ZJnwCMtw",
        "colab_type": "code",
        "outputId": "02661bab-5557-4230-adca-18237a663bd8",
        "colab": {
          "base_uri": "https://localhost:8080/",
          "height": 306
        }
      },
      "source": [
        "#hide\n",
        "\n",
        "!pip install pmdarima"
      ],
      "execution_count": 77,
      "outputs": [
        {
          "output_type": "stream",
          "text": [
            "Collecting pmdarima\n",
            "\u001b[?25l  Downloading https://files.pythonhosted.org/packages/83/aa/feb76414043592c3149059ab772a51de03fbf7544a8e19237f229a50a949/pmdarima-1.5.3-cp36-cp36m-manylinux1_x86_64.whl (1.5MB)\n",
            "\r\u001b[K     |▎                               | 10kB 16.6MB/s eta 0:00:01\r\u001b[K     |▌                               | 20kB 1.8MB/s eta 0:00:01\r\u001b[K     |▊                               | 30kB 2.3MB/s eta 0:00:01\r\u001b[K     |█                               | 40kB 1.7MB/s eta 0:00:01\r\u001b[K     |█▏                              | 51kB 1.9MB/s eta 0:00:01\r\u001b[K     |█▍                              | 61kB 2.3MB/s eta 0:00:01\r\u001b[K     |█▋                              | 71kB 2.5MB/s eta 0:00:01\r\u001b[K     |█▉                              | 81kB 2.6MB/s eta 0:00:01\r\u001b[K     |██                              | 92kB 2.9MB/s eta 0:00:01\r\u001b[K     |██▎                             | 102kB 2.9MB/s eta 0:00:01\r\u001b[K     |██▌                             | 112kB 2.9MB/s eta 0:00:01\r\u001b[K     |██▊                             | 122kB 2.9MB/s eta 0:00:01\r\u001b[K     |███                             | 133kB 2.9MB/s eta 0:00:01\r\u001b[K     |███▏                            | 143kB 2.9MB/s eta 0:00:01\r\u001b[K     |███▍                            | 153kB 2.9MB/s eta 0:00:01\r\u001b[K     |███▋                            | 163kB 2.9MB/s eta 0:00:01\r\u001b[K     |███▉                            | 174kB 2.9MB/s eta 0:00:01\r\u001b[K     |████                            | 184kB 2.9MB/s eta 0:00:01\r\u001b[K     |████▎                           | 194kB 2.9MB/s eta 0:00:01\r\u001b[K     |████▌                           | 204kB 2.9MB/s eta 0:00:01\r\u001b[K     |████▊                           | 215kB 2.9MB/s eta 0:00:01\r\u001b[K     |█████                           | 225kB 2.9MB/s eta 0:00:01\r\u001b[K     |█████▏                          | 235kB 2.9MB/s eta 0:00:01\r\u001b[K     |█████▍                          | 245kB 2.9MB/s eta 0:00:01\r\u001b[K     |█████▋                          | 256kB 2.9MB/s eta 0:00:01\r\u001b[K     |█████▉                          | 266kB 2.9MB/s eta 0:00:01\r\u001b[K     |██████                          | 276kB 2.9MB/s eta 0:00:01\r\u001b[K     |██████▎                         | 286kB 2.9MB/s eta 0:00:01\r\u001b[K     |██████▌                         | 296kB 2.9MB/s eta 0:00:01\r\u001b[K     |██████▊                         | 307kB 2.9MB/s eta 0:00:01\r\u001b[K     |███████                         | 317kB 2.9MB/s eta 0:00:01\r\u001b[K     |███████▏                        | 327kB 2.9MB/s eta 0:00:01\r\u001b[K     |███████▍                        | 337kB 2.9MB/s eta 0:00:01\r\u001b[K     |███████▋                        | 348kB 2.9MB/s eta 0:00:01\r\u001b[K     |███████▉                        | 358kB 2.9MB/s eta 0:00:01\r\u001b[K     |████████                        | 368kB 2.9MB/s eta 0:00:01\r\u001b[K     |████████▍                       | 378kB 2.9MB/s eta 0:00:01\r\u001b[K     |████████▋                       | 389kB 2.9MB/s eta 0:00:01\r\u001b[K     |████████▉                       | 399kB 2.9MB/s eta 0:00:01\r\u001b[K     |█████████                       | 409kB 2.9MB/s eta 0:00:01\r\u001b[K     |█████████▎                      | 419kB 2.9MB/s eta 0:00:01\r\u001b[K     |█████████▌                      | 430kB 2.9MB/s eta 0:00:01\r\u001b[K     |█████████▊                      | 440kB 2.9MB/s eta 0:00:01\r\u001b[K     |██████████                      | 450kB 2.9MB/s eta 0:00:01\r\u001b[K     |██████████▏                     | 460kB 2.9MB/s eta 0:00:01\r\u001b[K     |██████████▍                     | 471kB 2.9MB/s eta 0:00:01\r\u001b[K     |██████████▋                     | 481kB 2.9MB/s eta 0:00:01\r\u001b[K     |██████████▉                     | 491kB 2.9MB/s eta 0:00:01\r\u001b[K     |███████████                     | 501kB 2.9MB/s eta 0:00:01\r\u001b[K     |███████████▎                    | 512kB 2.9MB/s eta 0:00:01\r\u001b[K     |███████████▌                    | 522kB 2.9MB/s eta 0:00:01\r\u001b[K     |███████████▊                    | 532kB 2.9MB/s eta 0:00:01\r\u001b[K     |████████████                    | 542kB 2.9MB/s eta 0:00:01\r\u001b[K     |████████████▏                   | 552kB 2.9MB/s eta 0:00:01\r\u001b[K     |████████████▍                   | 563kB 2.9MB/s eta 0:00:01\r\u001b[K     |████████████▋                   | 573kB 2.9MB/s eta 0:00:01\r\u001b[K     |████████████▉                   | 583kB 2.9MB/s eta 0:00:01\r\u001b[K     |█████████████                   | 593kB 2.9MB/s eta 0:00:01\r\u001b[K     |█████████████▎                  | 604kB 2.9MB/s eta 0:00:01\r\u001b[K     |█████████████▌                  | 614kB 2.9MB/s eta 0:00:01\r\u001b[K     |█████████████▊                  | 624kB 2.9MB/s eta 0:00:01\r\u001b[K     |██████████████                  | 634kB 2.9MB/s eta 0:00:01\r\u001b[K     |██████████████▏                 | 645kB 2.9MB/s eta 0:00:01\r\u001b[K     |██████████████▍                 | 655kB 2.9MB/s eta 0:00:01\r\u001b[K     |██████████████▋                 | 665kB 2.9MB/s eta 0:00:01\r\u001b[K     |██████████████▉                 | 675kB 2.9MB/s eta 0:00:01\r\u001b[K     |███████████████                 | 686kB 2.9MB/s eta 0:00:01\r\u001b[K     |███████████████▎                | 696kB 2.9MB/s eta 0:00:01\r\u001b[K     |███████████████▌                | 706kB 2.9MB/s eta 0:00:01\r\u001b[K     |███████████████▊                | 716kB 2.9MB/s eta 0:00:01\r\u001b[K     |████████████████                | 727kB 2.9MB/s eta 0:00:01\r\u001b[K     |████████████████▏               | 737kB 2.9MB/s eta 0:00:01\r\u001b[K     |████████████████▍               | 747kB 2.9MB/s eta 0:00:01\r\u001b[K     |████████████████▊               | 757kB 2.9MB/s eta 0:00:01\r\u001b[K     |█████████████████               | 768kB 2.9MB/s eta 0:00:01\r\u001b[K     |█████████████████▏              | 778kB 2.9MB/s eta 0:00:01\r\u001b[K     |█████████████████▍              | 788kB 2.9MB/s eta 0:00:01\r\u001b[K     |█████████████████▋              | 798kB 2.9MB/s eta 0:00:01\r\u001b[K     |█████████████████▉              | 808kB 2.9MB/s eta 0:00:01\r\u001b[K     |██████████████████              | 819kB 2.9MB/s eta 0:00:01\r\u001b[K     |██████████████████▎             | 829kB 2.9MB/s eta 0:00:01\r\u001b[K     |██████████████████▌             | 839kB 2.9MB/s eta 0:00:01\r\u001b[K     |██████████████████▊             | 849kB 2.9MB/s eta 0:00:01\r\u001b[K     |███████████████████             | 860kB 2.9MB/s eta 0:00:01\r\u001b[K     |███████████████████▏            | 870kB 2.9MB/s eta 0:00:01\r\u001b[K     |███████████████████▍            | 880kB 2.9MB/s eta 0:00:01\r\u001b[K     |███████████████████▋            | 890kB 2.9MB/s eta 0:00:01\r\u001b[K     |███████████████████▉            | 901kB 2.9MB/s eta 0:00:01\r\u001b[K     |████████████████████            | 911kB 2.9MB/s eta 0:00:01\r\u001b[K     |████████████████████▎           | 921kB 2.9MB/s eta 0:00:01\r\u001b[K     |████████████████████▌           | 931kB 2.9MB/s eta 0:00:01\r\u001b[K     |████████████████████▊           | 942kB 2.9MB/s eta 0:00:01\r\u001b[K     |█████████████████████           | 952kB 2.9MB/s eta 0:00:01\r\u001b[K     |█████████████████████▏          | 962kB 2.9MB/s eta 0:00:01\r\u001b[K     |█████████████████████▍          | 972kB 2.9MB/s eta 0:00:01\r\u001b[K     |█████████████████████▋          | 983kB 2.9MB/s eta 0:00:01\r\u001b[K     |█████████████████████▉          | 993kB 2.9MB/s eta 0:00:01\r\u001b[K     |██████████████████████          | 1.0MB 2.9MB/s eta 0:00:01\r\u001b[K     |██████████████████████▎         | 1.0MB 2.9MB/s eta 0:00:01\r\u001b[K     |██████████████████████▌         | 1.0MB 2.9MB/s eta 0:00:01\r\u001b[K     |██████████████████████▊         | 1.0MB 2.9MB/s eta 0:00:01\r\u001b[K     |███████████████████████         | 1.0MB 2.9MB/s eta 0:00:01\r\u001b[K     |███████████████████████▏        | 1.1MB 2.9MB/s eta 0:00:01\r\u001b[K     |███████████████████████▍        | 1.1MB 2.9MB/s eta 0:00:01\r\u001b[K     |███████████████████████▋        | 1.1MB 2.9MB/s eta 0:00:01\r\u001b[K     |███████████████████████▉        | 1.1MB 2.9MB/s eta 0:00:01\r\u001b[K     |████████████████████████        | 1.1MB 2.9MB/s eta 0:00:01\r\u001b[K     |████████████████████████▎       | 1.1MB 2.9MB/s eta 0:00:01\r\u001b[K     |████████████████████████▌       | 1.1MB 2.9MB/s eta 0:00:01\r\u001b[K     |████████████████████████▉       | 1.1MB 2.9MB/s eta 0:00:01\r\u001b[K     |█████████████████████████       | 1.1MB 2.9MB/s eta 0:00:01\r\u001b[K     |█████████████████████████▎      | 1.1MB 2.9MB/s eta 0:00:01\r\u001b[K     |█████████████████████████▌      | 1.2MB 2.9MB/s eta 0:00:01\r\u001b[K     |█████████████████████████▊      | 1.2MB 2.9MB/s eta 0:00:01\r\u001b[K     |██████████████████████████      | 1.2MB 2.9MB/s eta 0:00:01\r\u001b[K     |██████████████████████████▏     | 1.2MB 2.9MB/s eta 0:00:01\r\u001b[K     |██████████████████████████▍     | 1.2MB 2.9MB/s eta 0:00:01\r\u001b[K     |██████████████████████████▋     | 1.2MB 2.9MB/s eta 0:00:01\r\u001b[K     |██████████████████████████▉     | 1.2MB 2.9MB/s eta 0:00:01\r\u001b[K     |███████████████████████████     | 1.2MB 2.9MB/s eta 0:00:01\r\u001b[K     |███████████████████████████▎    | 1.2MB 2.9MB/s eta 0:00:01\r\u001b[K     |███████████████████████████▌    | 1.2MB 2.9MB/s eta 0:00:01\r\u001b[K     |███████████████████████████▊    | 1.3MB 2.9MB/s eta 0:00:01\r\u001b[K     |████████████████████████████    | 1.3MB 2.9MB/s eta 0:00:01\r\u001b[K     |████████████████████████████▏   | 1.3MB 2.9MB/s eta 0:00:01\r\u001b[K     |████████████████████████████▍   | 1.3MB 2.9MB/s eta 0:00:01\r\u001b[K     |████████████████████████████▋   | 1.3MB 2.9MB/s eta 0:00:01\r\u001b[K     |████████████████████████████▉   | 1.3MB 2.9MB/s eta 0:00:01\r\u001b[K     |█████████████████████████████   | 1.3MB 2.9MB/s eta 0:00:01\r\u001b[K     |█████████████████████████████▎  | 1.3MB 2.9MB/s eta 0:00:01\r\u001b[K     |█████████████████████████████▌  | 1.3MB 2.9MB/s eta 0:00:01\r\u001b[K     |█████████████████████████████▊  | 1.4MB 2.9MB/s eta 0:00:01\r\u001b[K     |██████████████████████████████  | 1.4MB 2.9MB/s eta 0:00:01\r\u001b[K     |██████████████████████████████▏ | 1.4MB 2.9MB/s eta 0:00:01\r\u001b[K     |██████████████████████████████▍ | 1.4MB 2.9MB/s eta 0:00:01\r\u001b[K     |██████████████████████████████▋ | 1.4MB 2.9MB/s eta 0:00:01\r\u001b[K     |██████████████████████████████▉ | 1.4MB 2.9MB/s eta 0:00:01\r\u001b[K     |███████████████████████████████ | 1.4MB 2.9MB/s eta 0:00:01\r\u001b[K     |███████████████████████████████▎| 1.4MB 2.9MB/s eta 0:00:01\r\u001b[K     |███████████████████████████████▌| 1.4MB 2.9MB/s eta 0:00:01\r\u001b[K     |███████████████████████████████▊| 1.4MB 2.9MB/s eta 0:00:01\r\u001b[K     |████████████████████████████████| 1.5MB 2.9MB/s eta 0:00:01\r\u001b[K     |████████████████████████████████| 1.5MB 2.9MB/s \n",
            "\u001b[?25hRequirement already satisfied: scikit-learn>=0.22 in /usr/local/lib/python3.6/dist-packages (from pmdarima) (0.22.2.post1)\n",
            "Requirement already satisfied: statsmodels>=0.10.2 in /usr/local/lib/python3.6/dist-packages (from pmdarima) (0.10.2)\n",
            "Requirement already satisfied: scipy>=1.3.2 in /usr/local/lib/python3.6/dist-packages (from pmdarima) (1.4.1)\n",
            "Requirement already satisfied: urllib3 in /usr/local/lib/python3.6/dist-packages (from pmdarima) (1.24.3)\n",
            "Requirement already satisfied: Cython>=0.29 in /usr/local/lib/python3.6/dist-packages (from pmdarima) (0.29.16)\n",
            "Requirement already satisfied: numpy>=1.17.3 in /usr/local/lib/python3.6/dist-packages (from pmdarima) (1.18.2)\n",
            "Requirement already satisfied: joblib>=0.11 in /usr/local/lib/python3.6/dist-packages (from pmdarima) (0.14.1)\n",
            "Requirement already satisfied: pandas>=0.19 in /usr/local/lib/python3.6/dist-packages (from pmdarima) (1.0.3)\n",
            "Requirement already satisfied: patsy>=0.4.0 in /usr/local/lib/python3.6/dist-packages (from statsmodels>=0.10.2->pmdarima) (0.5.1)\n",
            "Requirement already satisfied: pytz>=2017.2 in /usr/local/lib/python3.6/dist-packages (from pandas>=0.19->pmdarima) (2018.9)\n",
            "Requirement already satisfied: python-dateutil>=2.6.1 in /usr/local/lib/python3.6/dist-packages (from pandas>=0.19->pmdarima) (2.8.1)\n",
            "Requirement already satisfied: six in /usr/local/lib/python3.6/dist-packages (from patsy>=0.4.0->statsmodels>=0.10.2->pmdarima) (1.12.0)\n",
            "Installing collected packages: pmdarima\n",
            "Successfully installed pmdarima-1.5.3\n"
          ],
          "name": "stdout"
        }
      ]
    },
    {
      "cell_type": "code",
      "metadata": {
        "id": "8kfflI81CmJc",
        "colab_type": "code",
        "colab": {}
      },
      "source": [
        "#hide\n",
        "\n",
        "df = data3[data3['countriesAndTerritories']=='Brazil']\n",
        "\n",
        "df= df[df['dateRep']>='2020-03-01']\n",
        "df['cumsum']= df['cases'].cumsum()\n",
        "\n",
        "df.sort_values('dateRep',ascending=True,inplace=True)\n",
        "df.index = df['dateRep']\n",
        "\n"
      ],
      "execution_count": 0,
      "outputs": []
    },
    {
      "cell_type": "code",
      "metadata": {
        "id": "-kMy5sklCBok",
        "colab_type": "code",
        "colab": {}
      },
      "source": [
        "#hide\n",
        "\n",
        "from statsmodels.tsa.arima_model import ARMA,ARMAResults,ARIMA,ARIMAResults\n",
        "from statsmodels.graphics.tsaplots import plot_acf,plot_pacf # for determining (p,q) orders\n",
        "from pmdarima import auto_arima # for determining ARIMA orders"
      ],
      "execution_count": 0,
      "outputs": []
    },
    {
      "cell_type": "code",
      "metadata": {
        "id": "SMo16tpdCWg7",
        "colab_type": "code",
        "outputId": "6792332e-8246-471b-ff15-efc977ca0682",
        "colab": {
          "base_uri": "https://localhost:8080/",
          "height": 334
        }
      },
      "source": [
        "#hide\n",
        "\n",
        "from statsmodels.tsa.seasonal import seasonal_decompose\n",
        "\n",
        "result = seasonal_decompose(df['cumsum'], model='additive')  # model='add' also works\n",
        "result.plot()"
      ],
      "execution_count": 80,
      "outputs": [
        {
          "output_type": "error",
          "ename": "ValueError",
          "evalue": "ignored",
          "traceback": [
            "\u001b[0;31m---------------------------------------------------------------------------\u001b[0m",
            "\u001b[0;31mValueError\u001b[0m                                Traceback (most recent call last)",
            "\u001b[0;32m<ipython-input-80-e214e3e4f284>\u001b[0m in \u001b[0;36m<module>\u001b[0;34m()\u001b[0m\n\u001b[1;32m      2\u001b[0m \u001b[0;32mfrom\u001b[0m \u001b[0mstatsmodels\u001b[0m\u001b[0;34m.\u001b[0m\u001b[0mtsa\u001b[0m\u001b[0;34m.\u001b[0m\u001b[0mseasonal\u001b[0m \u001b[0;32mimport\u001b[0m \u001b[0mseasonal_decompose\u001b[0m\u001b[0;34m\u001b[0m\u001b[0;34m\u001b[0m\u001b[0m\n\u001b[1;32m      3\u001b[0m \u001b[0;34m\u001b[0m\u001b[0m\n\u001b[0;32m----> 4\u001b[0;31m \u001b[0mresult\u001b[0m \u001b[0;34m=\u001b[0m \u001b[0mseasonal_decompose\u001b[0m\u001b[0;34m(\u001b[0m\u001b[0mdf\u001b[0m\u001b[0;34m[\u001b[0m\u001b[0;34m'cumsum'\u001b[0m\u001b[0;34m]\u001b[0m\u001b[0;34m,\u001b[0m \u001b[0mmodel\u001b[0m\u001b[0;34m=\u001b[0m\u001b[0;34m'additive'\u001b[0m\u001b[0;34m)\u001b[0m  \u001b[0;31m# model='add' also works\u001b[0m\u001b[0;34m\u001b[0m\u001b[0;34m\u001b[0m\u001b[0m\n\u001b[0m\u001b[1;32m      5\u001b[0m \u001b[0mresult\u001b[0m\u001b[0;34m.\u001b[0m\u001b[0mplot\u001b[0m\u001b[0;34m(\u001b[0m\u001b[0;34m)\u001b[0m\u001b[0;34m\u001b[0m\u001b[0;34m\u001b[0m\u001b[0m\n",
            "\u001b[0;32m/usr/local/lib/python3.6/dist-packages/statsmodels/tsa/seasonal.py\u001b[0m in \u001b[0;36mseasonal_decompose\u001b[0;34m(x, model, filt, freq, two_sided, extrapolate_trend)\u001b[0m\n\u001b[1;32m    125\u001b[0m             \u001b[0mfreq\u001b[0m \u001b[0;34m=\u001b[0m \u001b[0mpfreq\u001b[0m\u001b[0;34m\u001b[0m\u001b[0;34m\u001b[0m\u001b[0m\n\u001b[1;32m    126\u001b[0m         \u001b[0;32melse\u001b[0m\u001b[0;34m:\u001b[0m\u001b[0;34m\u001b[0m\u001b[0;34m\u001b[0m\u001b[0m\n\u001b[0;32m--> 127\u001b[0;31m             raise ValueError(\"You must specify a freq or x must be a \"\n\u001b[0m\u001b[1;32m    128\u001b[0m                              \u001b[0;34m\"pandas object with a timeseries index with \"\u001b[0m\u001b[0;34m\u001b[0m\u001b[0;34m\u001b[0m\u001b[0m\n\u001b[1;32m    129\u001b[0m                              \"a freq not set to None\")\n",
            "\u001b[0;31mValueError\u001b[0m: You must specify a freq or x must be a pandas object with a timeseries index with a freq not set to None"
          ]
        }
      ]
    },
    {
      "cell_type": "code",
      "metadata": {
        "id": "CWzzTg7aEegb",
        "colab_type": "code",
        "colab": {}
      },
      "source": [
        "#hide\n",
        "\n",
        "title = 'Autocorrelation: Real Manufacturing and Trade Inventories'\n",
        "lags = 10\n",
        "plot_acf(df['cumsum'],title=title,lags=lags);"
      ],
      "execution_count": 0,
      "outputs": []
    },
    {
      "cell_type": "code",
      "metadata": {
        "id": "5uI38wAOEm98",
        "colab_type": "code",
        "colab": {}
      },
      "source": [
        "#hide\n",
        "\n",
        "stepwise_fit = auto_arima(df['cumsum'], start_p=0, start_q=0,\n",
        "                          max_p=2, max_q=2, m=12,\n",
        "                          seasonal=False,\n",
        "                          d=None, trace=True,\n",
        "                          error_action='ignore',   # we don't want to know if an order does not work\n",
        "                          suppress_warnings=True,  # we don't want convergence warnings\n",
        "                          stepwise=True)           # set to stepwise\n",
        "\n",
        "stepwise_fit.summary()"
      ],
      "execution_count": 0,
      "outputs": []
    },
    {
      "cell_type": "code",
      "metadata": {
        "id": "6bH24rfOM2D2",
        "colab_type": "code",
        "colab": {}
      },
      "source": [
        "#hide\n",
        "\n",
        "len(df)"
      ],
      "execution_count": 0,
      "outputs": []
    },
    {
      "cell_type": "code",
      "metadata": {
        "id": "0Rz_bUXMEtnW",
        "colab_type": "code",
        "colab": {}
      },
      "source": [
        "#hide\n",
        "\n",
        "train = df.iloc[:30]\n",
        "test = df.iloc[30:]"
      ],
      "execution_count": 0,
      "outputs": []
    },
    {
      "cell_type": "code",
      "metadata": {
        "id": "LEfl5WlAE8d3",
        "colab_type": "code",
        "colab": {}
      },
      "source": [
        "#hide\n",
        "\n",
        "model = ARIMA(train['cumsum'],order=(1,1,1))\n",
        "results = model.fit()\n",
        "results.summary()"
      ],
      "execution_count": 0,
      "outputs": []
    },
    {
      "cell_type": "code",
      "metadata": {
        "id": "GhjCmHBMFF5F",
        "colab_type": "code",
        "colab": {}
      },
      "source": [
        "#hide\n",
        "\n",
        "# Obtain predicted values\n",
        "start=len(train)\n",
        "end=len(train)+len(test)-1\n",
        "predictions = results.predict(start=start, end=end, dynamic=False, typ='levels').rename('ARIMA(1,1,1) Predictions')"
      ],
      "execution_count": 0,
      "outputs": []
    },
    {
      "cell_type": "code",
      "metadata": {
        "id": "StAUO4KbFLae",
        "colab_type": "code",
        "colab": {}
      },
      "source": [
        "#hide\n",
        "\n",
        "# Compare predictions to expected values\n",
        "for i in range(len(predictions)):\n",
        "    print(f\"predicted={predictions[i]:<11.10}, expected={test['cumsum'][i]}\")"
      ],
      "execution_count": 0,
      "outputs": []
    },
    {
      "cell_type": "code",
      "metadata": {
        "id": "2ea3uCqkNI9A",
        "colab_type": "code",
        "colab": {}
      },
      "source": [
        "#hide\n",
        "\n",
        "# Plot predictions against known values\n",
        "title = 'Real Manufacturing and Trade Inventories'\n",
        "ylabel='Chained 2012 Dollars'\n",
        "xlabel='' # we don't really need a label here\n",
        "\n",
        "ax = test['cumsum'].plot(legend=True,figsize=(12,6),title=title)\n",
        "predictions.plot(legend=True)\n",
        "ax.autoscale(axis='x',tight=True)\n",
        "ax.set(xlabel=xlabel, ylabel=ylabel)\n"
      ],
      "execution_count": 0,
      "outputs": []
    },
    {
      "cell_type": "code",
      "metadata": {
        "id": "9HB6fpdUOWKf",
        "colab_type": "code",
        "colab": {}
      },
      "source": [
        "#hide\n",
        "\n",
        "from sklearn.metrics import mean_squared_error\n",
        "\n",
        "error = mean_squared_error(test['cumsum'], predictions)\n",
        "print(f'ARIMA(1,1,1) MSE Error: {error:11.10}')"
      ],
      "execution_count": 0,
      "outputs": []
    },
    {
      "cell_type": "code",
      "metadata": {
        "id": "hz7EyT-GOcM4",
        "colab_type": "code",
        "colab": {}
      },
      "source": [
        "#hide\n",
        "\n",
        "from statsmodels.tools.eval_measures import rmse\n",
        "\n",
        "error = rmse(test['cumsum'], predictions)\n",
        "print(f'ARIMA(1,1,1) RMSE Error: {error:11.10}')"
      ],
      "execution_count": 0,
      "outputs": []
    },
    {
      "cell_type": "code",
      "metadata": {
        "id": "d9jK0iwaOjK4",
        "colab_type": "code",
        "colab": {}
      },
      "source": [
        "#hide\n",
        "\n",
        "model = ARIMA(df['cumsum'],order=(1,1,1))\n",
        "results = model.fit()\n",
        "fcast = results.predict(len(df),len(df)+11,typ='levels').rename('ARIMA(1,1,1) Forecast')"
      ],
      "execution_count": 0,
      "outputs": []
    },
    {
      "cell_type": "code",
      "metadata": {
        "id": "JauM8NO0OrGv",
        "colab_type": "code",
        "colab": {}
      },
      "source": [
        "#hide\n",
        "\n",
        "# Plot predictions against known values\n",
        "title = 'Real Manufacturing and Trade Inventories'\n",
        "ylabel='Chained 2012 Dollars'\n",
        "xlabel='' # we don't really need a label here\n",
        "\n",
        "ax = df['cumsum'].plot(legend=True,figsize=(12,6),title=title)\n",
        "fcast.plot(legend=True)\n",
        "ax.autoscale(axis='x',tight=True)\n",
        "ax.set(xlabel=xlabel, ylabel=ylabel)\n"
      ],
      "execution_count": 0,
      "outputs": []
    },
    {
      "cell_type": "code",
      "metadata": {
        "id": "HZkE8lxJvaFm",
        "colab_type": "code",
        "colab": {}
      },
      "source": [
        "#hide\n",
        "# model = ARIMA(train, order=(3,2,1))  \n",
        "model = ARIMA(train.astype(float), order=(12, 2, 5))  \n",
        "fitted = model.fit(disp=-1)  \n",
        "\n",
        "# Forecast\n",
        "fc, se, conf = fitted.forecast(5, alpha=0.05)  # 95% conf\n",
        "\n",
        "# Make as pandas series\n",
        "fc_series = pd.Series(fc, index=test.index)\n",
        "lower_series = pd.Series(conf[:, 0], index=test.index)\n",
        "upper_series = pd.Series(conf[:, 1], index=test.index)\n",
        "\n",
        "# Plot\n",
        "plt.figure(figsize=(12,5), dpi=100)\n",
        "plt.plot(train, label='training')\n",
        "plt.plot(test, label='actual')\n",
        "plt.plot(fc_series, label='forecast')\n",
        "plt.fill_between(lower_series.index, lower_series, upper_series, \n",
        "                 color='k', alpha=.15)\n",
        "plt.title('Forecast vs Actuals')\n",
        "plt.legend(loc='upper left', fontsize=8)\n",
        "plt.show()"
      ],
      "execution_count": 0,
      "outputs": []
    },
    {
      "cell_type": "code",
      "metadata": {
        "id": "Ug_78Ieivz2X",
        "colab_type": "code",
        "colab": {}
      },
      "source": [
        "#hide\n",
        "italy['Shifted'] = x['Cumulativo']"
      ],
      "execution_count": 0,
      "outputs": []
    },
    {
      "cell_type": "code",
      "metadata": {
        "id": "xX0J-pD5Q98S",
        "colab_type": "code",
        "colab": {}
      },
      "source": [
        "#hide\n",
        "brasil = list(brazil['Cumulativo'])\n",
        "x = list(mbrazil['Cumulativo'])\n",
        "y = list(mbrazil.index)\n",
        "print(x)\n",
        "print(y)\n",
        "print(brasil)"
      ],
      "execution_count": 0,
      "outputs": []
    },
    {
      "cell_type": "code",
      "metadata": {
        "id": "l-Xx1PvwwSCm",
        "colab_type": "code",
        "colab": {}
      },
      "source": [
        "#hide\n",
        "\n",
        "data2"
      ],
      "execution_count": 0,
      "outputs": []
    },
    {
      "cell_type": "code",
      "metadata": {
        "id": "tL1n_fDFDACK",
        "colab_type": "code",
        "colab": {}
      },
      "source": [
        "#hide\n",
        "data2.sort_values(['dateRep','countriesAndTerritories'],inplace=True)\n"
      ],
      "execution_count": 0,
      "outputs": []
    },
    {
      "cell_type": "code",
      "metadata": {
        "id": "V_qHedh4DarW",
        "colab_type": "code",
        "colab": {}
      },
      "source": [
        "#hide\n",
        "data2['dateRep'] = pd.to_datetime(data2['dateRep'],dayfirst=True)\n"
      ],
      "execution_count": 0,
      "outputs": []
    },
    {
      "cell_type": "code",
      "metadata": {
        "id": "3xHa_QW2EIkv",
        "colab_type": "code",
        "colab": {}
      },
      "source": [
        "#hide\n",
        "datax = data2.groupby(['countriesAndTerritories','dateRep']).agg({'deaths': 'sum'})\n",
        "datax"
      ],
      "execution_count": 0,
      "outputs": []
    },
    {
      "cell_type": "code",
      "metadata": {
        "id": "6K3t-Nn5FBAt",
        "colab_type": "code",
        "colab": {}
      },
      "source": [
        "#hide\n",
        "datax.reset_index(level=[0,1],inplace=True)\n",
        "datax"
      ],
      "execution_count": 0,
      "outputs": []
    },
    {
      "cell_type": "code",
      "metadata": {
        "id": "MTU-UlMcGwyR",
        "colab_type": "code",
        "colab": {}
      },
      "source": [
        "#hide\n",
        "datax['dateRep'] = datax['dateRep'].dt.strftime('%Y-%m-%d')\n",
        "datax"
      ],
      "execution_count": 0,
      "outputs": []
    },
    {
      "cell_type": "code",
      "metadata": {
        "id": "9BKPpQ7iHFMF",
        "colab_type": "code",
        "colab": {}
      },
      "source": [
        "#hide\n",
        "datax.sort_values(['dateRep','countriesAndTerritories'],inplace=True)"
      ],
      "execution_count": 0,
      "outputs": []
    },
    {
      "cell_type": "code",
      "metadata": {
        "id": "s4qbXu0sDOTo",
        "colab_type": "code",
        "colab": {}
      },
      "source": [
        "#hide\n",
        "fig = px.bar(datax, x='countriesAndTerritories', y=\"deaths\", color=\"countriesAndTerritories\",\n",
        "  animation_frame=\"dateRep\", animation_group=\"countriesAndTerritories\", range_y=[0,4000])\n",
        "fig.show()"
      ],
      "execution_count": 0,
      "outputs": []
    }
  ]
}