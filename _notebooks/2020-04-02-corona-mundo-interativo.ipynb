{
  "nbformat": 4,
  "nbformat_minor": 0,
  "metadata": {
    "colab": {
      "name": "2020-04-02-corona-mundo-interativo.ipynb",
      "provenance": [],
      "collapsed_sections": []
    },
    "kernelspec": {
      "display_name": "Python 3",
      "language": "python",
      "name": "python3"
    },
    "language_info": {
      "codemirror_mode": {
        "name": "ipython",
        "version": 3
      },
      "file_extension": ".py",
      "mimetype": "text/x-python",
      "name": "python",
      "nbconvert_exporter": "python",
      "pygments_lexer": "ipython3",
      "version": "3.6.5"
    }
  },
  "cells": [
    {
      "cell_type": "markdown",
      "metadata": {
        "id": "i3R7_8aSTqPD",
        "colab_type": "text"
      },
      "source": [
        "# Coronavirus Brasil vs Mundo - Gráficos Interativos\n",
        "> Gráficos e análises com comparações entre Brasil e países específicos\n",
        "\n",
        "- toc: false\n",
        "- branch: master\n",
        "- badges: false\n",
        "- comments: false\n",
        "- author: Vinicius Bastos Gomes & Fernando Wittmann\n",
        "- categories: [coronavirus]\n"
      ]
    },
    {
      "cell_type": "markdown",
      "metadata": {
        "id": "6Qdx6Lw_vcDr",
        "colab_type": "text"
      },
      "source": [
        "Fonte:  https://opendata.ecdc.europa.eu/covid19/casedistribution/csv\n"
      ]
    },
    {
      "cell_type": "code",
      "metadata": {
        "id": "5Gy6Po5a4_Zs",
        "colab_type": "code",
        "outputId": "8b7975bc-4c96-409d-f65e-7d56a28b15bf",
        "colab": {
          "base_uri": "https://localhost:8080/",
          "height": 68
        }
      },
      "source": [
        "#hide\n",
        "pip install plotly --upgrade"
      ],
      "execution_count": 150,
      "outputs": [
        {
          "output_type": "stream",
          "text": [
            "Requirement already up-to-date: plotly in /usr/local/lib/python3.6/dist-packages (4.6.0)\n",
            "Requirement already satisfied, skipping upgrade: retrying>=1.3.3 in /usr/local/lib/python3.6/dist-packages (from plotly) (1.3.3)\n",
            "Requirement already satisfied, skipping upgrade: six in /usr/local/lib/python3.6/dist-packages (from plotly) (1.12.0)\n"
          ],
          "name": "stdout"
        }
      ]
    },
    {
      "cell_type": "code",
      "metadata": {
        "colab_type": "code",
        "id": "Q-8UV5O_Y6lN",
        "colab": {}
      },
      "source": [
        "#hide_input\n",
        "#Imports\n",
        "import warnings\n",
        "warnings.filterwarnings('ignore')\n",
        "import matplotlib.pyplot as plt\n",
        "%matplotlib inline\n",
        "import matplotlib.ticker as ticker\n",
        "import numpy as np; np.random.seed(1)\n",
        "import seaborn as sns\n",
        "sns.set(style=\"ticks\", rc={\"lines.linewidth\": 1.6})\n",
        "sns.set_palette('bright')\n",
        "import pandas as pd\n",
        "from datetime import date\n",
        "import io\n",
        "\n",
        "# Montar google drive e exportar imagens\n",
        "MONTAR_GDRIVE = True\n"
      ],
      "execution_count": 0,
      "outputs": []
    },
    {
      "cell_type": "code",
      "metadata": {
        "id": "w4A3tPKfdXbK",
        "colab_type": "code",
        "colab": {}
      },
      "source": [
        "#hide\n",
        "#URL = \"https://opendata.ecdc.europa.eu/covid19/casedistribution/csv\"\n",
        "\n",
        "#requests.get(URL)"
      ],
      "execution_count": 0,
      "outputs": []
    },
    {
      "cell_type": "code",
      "metadata": {
        "id": "GCFkwV5puwmq",
        "colab_type": "code",
        "colab": {
          "base_uri": "https://localhost:8080/",
          "height": 34
        },
        "outputId": "2a60d3fc-843d-4a5e-9b8d-4542f6061dbe"
      },
      "source": [
        "#hide\n",
        "if MONTAR_GDRIVE:\n",
        "    # Montar Google Drive\n",
        "    from google.colab import drive\n",
        "    drive.mount('/content/drive')"
      ],
      "execution_count": 153,
      "outputs": [
        {
          "output_type": "stream",
          "text": [
            "Drive already mounted at /content/drive; to attempt to forcibly remount, call drive.mount(\"/content/drive\", force_remount=True).\n"
          ],
          "name": "stdout"
        }
      ]
    },
    {
      "cell_type": "code",
      "metadata": {
        "id": "67m1J6q1u4bt",
        "colab_type": "code",
        "colab": {
          "base_uri": "https://localhost:8080/",
          "height": 34
        },
        "outputId": "4cb9e654-c7fe-4e32-b5af-dbc3d96d7c90"
      },
      "source": [
        "#hide\n",
        "if MONTAR_GDRIVE:\n",
        "    # Abrir pasta com os arquivos\n",
        "    %cd \"/content/drive/My Drive/CoronaVirus Brasil\""
      ],
      "execution_count": 154,
      "outputs": [
        {
          "output_type": "stream",
          "text": [
            "/content/drive/My Drive/CoronaVirus Brasil\n"
          ],
          "name": "stdout"
        }
      ]
    },
    {
      "cell_type": "code",
      "metadata": {
        "id": "pEUjkscson4Y",
        "colab_type": "code",
        "colab": {}
      },
      "source": [
        "#hide\n",
        "!rm dados.csv"
      ],
      "execution_count": 0,
      "outputs": []
    },
    {
      "cell_type": "code",
      "metadata": {
        "id": "qLtKAiWZjsqV",
        "colab_type": "code",
        "outputId": "c1ad15a2-47e1-4c2b-ae67-48e6abb8d876",
        "colab": {
          "base_uri": "https://localhost:8080/",
          "height": 272
        }
      },
      "source": [
        "#hide\n",
        "!wget https://opendata.ecdc.europa.eu/covid19/casedistribution/csv -O dados.csv"
      ],
      "execution_count": 156,
      "outputs": [
        {
          "output_type": "stream",
          "text": [
            "--2020-04-02 13:37:35--  https://opendata.ecdc.europa.eu/covid19/casedistribution/csv\n",
            "Resolving opendata.ecdc.europa.eu (opendata.ecdc.europa.eu)... 212.181.0.63\n",
            "Connecting to opendata.ecdc.europa.eu (opendata.ecdc.europa.eu)|212.181.0.63|:443... connected.\n",
            "HTTP request sent, awaiting response... 301 Moved Permanently\n",
            "Location: https://opendata.ecdc.europa.eu/covid19/casedistribution/csv/ [following]\n",
            "--2020-04-02 13:37:35--  https://opendata.ecdc.europa.eu/covid19/casedistribution/csv/\n",
            "Reusing existing connection to opendata.ecdc.europa.eu:443.\n",
            "HTTP request sent, awaiting response... 200 OK\n",
            "Length: 426136 (416K) [application/octet-stream]\n",
            "Saving to: ‘dados.csv’\n",
            "\n",
            "dados.csv           100%[===================>] 416.15K   477KB/s    in 0.9s    \n",
            "\n",
            "2020-04-02 13:37:36 (477 KB/s) - ‘dados.csv’ saved [426136/426136]\n",
            "\n"
          ],
          "name": "stdout"
        }
      ]
    },
    {
      "cell_type": "code",
      "metadata": {
        "id": "dx-DKRjjTqPV",
        "colab_type": "code",
        "outputId": "9cf13dc5-63e8-4f16-f5a4-c3b529be9247",
        "colab": {
          "base_uri": "https://localhost:8080/",
          "height": 34
        }
      },
      "source": [
        "#hide\n",
        "#datetime operations\n",
        "todei = date.today()\n",
        "today = todei.strftime(\"%d-%m-%Y\")\n",
        "today_us = todei.strftime(\"%Y-%m-%d\")\n",
        "today_us"
      ],
      "execution_count": 157,
      "outputs": [
        {
          "output_type": "execute_result",
          "data": {
            "text/plain": [
              "'2020-04-02'"
            ]
          },
          "metadata": {
            "tags": []
          },
          "execution_count": 157
        }
      ]
    },
    {
      "cell_type": "code",
      "metadata": {
        "id": "iXHBUftGTqPc",
        "colab_type": "code",
        "colab": {}
      },
      "source": [
        "#hide\n",
        "\n",
        "#url = 'https://www.ecdc.europa.eu/sites/default/files/documents/COVID-19-geographic-disbtribution-worldwide-{}.xlsx'.format(today_us)\n",
        "#url = 'https://www.ecdc.europa.eu/sites/default/files/documents/COVID-19-geographic-disbtribution-worldwide-{}.xlsx'.format(today_us)"
      ],
      "execution_count": 0,
      "outputs": []
    },
    {
      "cell_type": "code",
      "metadata": {
        "id": "Gj7ktV6BFC2G",
        "colab_type": "code",
        "colab": {}
      },
      "source": [
        "#hide\n",
        "\n",
        "#url = 'https://opendata.ecdc.europa.eu/covid19/casedistribution/csv'"
      ],
      "execution_count": 0,
      "outputs": []
    },
    {
      "cell_type": "code",
      "metadata": {
        "scrolled": true,
        "id": "doLyY9GdTqPk",
        "colab_type": "code",
        "colab": {}
      },
      "source": [
        "#hide\n",
        "data = pd.read_csv('dados.csv', encoding='latin-1',error_bad_lines=False)\n"
      ],
      "execution_count": 0,
      "outputs": []
    },
    {
      "cell_type": "code",
      "metadata": {
        "colab_type": "code",
        "id": "QNC2xLFQXXE4",
        "outputId": "368cc062-f0a6-44ac-ad20-a0a42f050f7e",
        "colab": {
          "base_uri": "https://localhost:8080/",
          "height": 359
        }
      },
      "source": [
        "#hide\n",
        "data2 = data[data['countriesAndTerritories'].isin(['Brazil','Italy','United_States_of_America','France','South_Korea', 'Japan','United_Kingdom','China','Spain','Argentina','India','Mexico','Germany','Czech_Republic'])]\n",
        "data2.head(10)"
      ],
      "execution_count": 161,
      "outputs": [
        {
          "output_type": "execute_result",
          "data": {
            "text/html": [
              "<div>\n",
              "<style scoped>\n",
              "    .dataframe tbody tr th:only-of-type {\n",
              "        vertical-align: middle;\n",
              "    }\n",
              "\n",
              "    .dataframe tbody tr th {\n",
              "        vertical-align: top;\n",
              "    }\n",
              "\n",
              "    .dataframe thead th {\n",
              "        text-align: right;\n",
              "    }\n",
              "</style>\n",
              "<table border=\"1\" class=\"dataframe\">\n",
              "  <thead>\n",
              "    <tr style=\"text-align: right;\">\n",
              "      <th></th>\n",
              "      <th>dateRep</th>\n",
              "      <th>day</th>\n",
              "      <th>month</th>\n",
              "      <th>year</th>\n",
              "      <th>cases</th>\n",
              "      <th>deaths</th>\n",
              "      <th>countriesAndTerritories</th>\n",
              "      <th>geoId</th>\n",
              "      <th>countryterritoryCode</th>\n",
              "      <th>popData2018</th>\n",
              "    </tr>\n",
              "  </thead>\n",
              "  <tbody>\n",
              "    <tr>\n",
              "      <th>251</th>\n",
              "      <td>02/04/2020</td>\n",
              "      <td>2</td>\n",
              "      <td>4</td>\n",
              "      <td>2020</td>\n",
              "      <td>167</td>\n",
              "      <td>7</td>\n",
              "      <td>Argentina</td>\n",
              "      <td>AR</td>\n",
              "      <td>ARG</td>\n",
              "      <td>44494502.0</td>\n",
              "    </tr>\n",
              "    <tr>\n",
              "      <th>252</th>\n",
              "      <td>01/04/2020</td>\n",
              "      <td>1</td>\n",
              "      <td>4</td>\n",
              "      <td>2020</td>\n",
              "      <td>0</td>\n",
              "      <td>0</td>\n",
              "      <td>Argentina</td>\n",
              "      <td>AR</td>\n",
              "      <td>ARG</td>\n",
              "      <td>44494502.0</td>\n",
              "    </tr>\n",
              "    <tr>\n",
              "      <th>253</th>\n",
              "      <td>31/03/2020</td>\n",
              "      <td>31</td>\n",
              "      <td>3</td>\n",
              "      <td>2020</td>\n",
              "      <td>146</td>\n",
              "      <td>4</td>\n",
              "      <td>Argentina</td>\n",
              "      <td>AR</td>\n",
              "      <td>ARG</td>\n",
              "      <td>44494502.0</td>\n",
              "    </tr>\n",
              "    <tr>\n",
              "      <th>254</th>\n",
              "      <td>30/03/2020</td>\n",
              "      <td>30</td>\n",
              "      <td>3</td>\n",
              "      <td>2020</td>\n",
              "      <td>75</td>\n",
              "      <td>1</td>\n",
              "      <td>Argentina</td>\n",
              "      <td>AR</td>\n",
              "      <td>ARG</td>\n",
              "      <td>44494502.0</td>\n",
              "    </tr>\n",
              "    <tr>\n",
              "      <th>255</th>\n",
              "      <td>29/03/2020</td>\n",
              "      <td>29</td>\n",
              "      <td>3</td>\n",
              "      <td>2020</td>\n",
              "      <td>55</td>\n",
              "      <td>2</td>\n",
              "      <td>Argentina</td>\n",
              "      <td>AR</td>\n",
              "      <td>ARG</td>\n",
              "      <td>44494502.0</td>\n",
              "    </tr>\n",
              "    <tr>\n",
              "      <th>256</th>\n",
              "      <td>28/03/2020</td>\n",
              "      <td>28</td>\n",
              "      <td>3</td>\n",
              "      <td>2020</td>\n",
              "      <td>101</td>\n",
              "      <td>5</td>\n",
              "      <td>Argentina</td>\n",
              "      <td>AR</td>\n",
              "      <td>ARG</td>\n",
              "      <td>44494502.0</td>\n",
              "    </tr>\n",
              "    <tr>\n",
              "      <th>257</th>\n",
              "      <td>27/03/2020</td>\n",
              "      <td>27</td>\n",
              "      <td>3</td>\n",
              "      <td>2020</td>\n",
              "      <td>87</td>\n",
              "      <td>4</td>\n",
              "      <td>Argentina</td>\n",
              "      <td>AR</td>\n",
              "      <td>ARG</td>\n",
              "      <td>44494502.0</td>\n",
              "    </tr>\n",
              "    <tr>\n",
              "      <th>258</th>\n",
              "      <td>26/03/2020</td>\n",
              "      <td>26</td>\n",
              "      <td>3</td>\n",
              "      <td>2020</td>\n",
              "      <td>115</td>\n",
              "      <td>2</td>\n",
              "      <td>Argentina</td>\n",
              "      <td>AR</td>\n",
              "      <td>ARG</td>\n",
              "      <td>44494502.0</td>\n",
              "    </tr>\n",
              "    <tr>\n",
              "      <th>259</th>\n",
              "      <td>25/03/2020</td>\n",
              "      <td>25</td>\n",
              "      <td>3</td>\n",
              "      <td>2020</td>\n",
              "      <td>86</td>\n",
              "      <td>2</td>\n",
              "      <td>Argentina</td>\n",
              "      <td>AR</td>\n",
              "      <td>ARG</td>\n",
              "      <td>44494502.0</td>\n",
              "    </tr>\n",
              "    <tr>\n",
              "      <th>260</th>\n",
              "      <td>24/03/2020</td>\n",
              "      <td>24</td>\n",
              "      <td>3</td>\n",
              "      <td>2020</td>\n",
              "      <td>35</td>\n",
              "      <td>0</td>\n",
              "      <td>Argentina</td>\n",
              "      <td>AR</td>\n",
              "      <td>ARG</td>\n",
              "      <td>44494502.0</td>\n",
              "    </tr>\n",
              "  </tbody>\n",
              "</table>\n",
              "</div>"
            ],
            "text/plain": [
              "        dateRep  day  month  ...  geoId  countryterritoryCode  popData2018\n",
              "251  02/04/2020    2      4  ...     AR                   ARG   44494502.0\n",
              "252  01/04/2020    1      4  ...     AR                   ARG   44494502.0\n",
              "253  31/03/2020   31      3  ...     AR                   ARG   44494502.0\n",
              "254  30/03/2020   30      3  ...     AR                   ARG   44494502.0\n",
              "255  29/03/2020   29      3  ...     AR                   ARG   44494502.0\n",
              "256  28/03/2020   28      3  ...     AR                   ARG   44494502.0\n",
              "257  27/03/2020   27      3  ...     AR                   ARG   44494502.0\n",
              "258  26/03/2020   26      3  ...     AR                   ARG   44494502.0\n",
              "259  25/03/2020   25      3  ...     AR                   ARG   44494502.0\n",
              "260  24/03/2020   24      3  ...     AR                   ARG   44494502.0\n",
              "\n",
              "[10 rows x 10 columns]"
            ]
          },
          "metadata": {
            "tags": []
          },
          "execution_count": 161
        }
      ]
    },
    {
      "cell_type": "code",
      "metadata": {
        "colab_type": "code",
        "id": "PdWFUM-_YsZb",
        "colab": {}
      },
      "source": [
        "#hide\n",
        "data3 = data2[['dateRep','cases','countriesAndTerritories']]\n",
        "data3.columns = ['dateRep','cases','countriesAndTerritories']"
      ],
      "execution_count": 0,
      "outputs": []
    },
    {
      "cell_type": "code",
      "metadata": {
        "id": "_ktuhUMhTqPz",
        "colab_type": "code",
        "colab": {}
      },
      "source": [
        "#hide \n",
        "#por 10 mil\n",
        "\n",
        "pop_br = 209300000/10000\n",
        "pop_it = 60590000/10000\n",
        "pop_eua = 325700000/10000\n",
        "pop_uk = 66040000/10000\n",
        "pop_sk = 51470000/10000\n",
        "pop_fr = 66770000/10000\n",
        "pop_jp = 126800000/10000\n",
        "pop_esp = 46530000/10000\n",
        "pop_ar = 44270000/10000\n",
        "pop_mex = 129200000/10000\n",
        "pop_ind = 1339000000/10000\n",
        "pop_ger = 82520000/10000\n",
        "pop_rc = 10641000/10000\n",
        "pop_ch = 1386000000/10000"
      ],
      "execution_count": 0,
      "outputs": []
    },
    {
      "cell_type": "code",
      "metadata": {
        "id": "9Ukrlooki-YK",
        "colab_type": "code",
        "colab": {}
      },
      "source": [
        "#hide\n",
        "china = data3[data3['countriesAndTerritories']=='China']\n",
        "china.sort_index(ascending=False,inplace=True)\n",
        "china['Cumulativo'] = china['cases'].cumsum()\n",
        "china['Relativo'] = china['Cumulativo']/pop_ch\n",
        "china = china[china['Cumulativo']>=50]\n",
        "china.reset_index(drop=True, inplace=True)\n",
        "china.drop(['cases','dateRep'],axis=1,inplace=True)"
      ],
      "execution_count": 0,
      "outputs": []
    },
    {
      "cell_type": "code",
      "metadata": {
        "id": "h-_RJoerTqP7",
        "colab_type": "code",
        "colab": {}
      },
      "source": [
        "#hide\n",
        "germany = data3[data3['countriesAndTerritories']=='Germany']\n",
        "germany.sort_index(ascending=False,inplace=True)\n",
        "germany['Cumulativo'] = germany['cases'].cumsum()\n",
        "germany['Relativo'] = germany['Cumulativo']/pop_ger\n",
        "germany = germany[germany['Cumulativo']>=50]\n",
        "germany.reset_index(drop=True, inplace=True)\n",
        "germany.drop(['cases','dateRep'],axis=1,inplace=True)\n"
      ],
      "execution_count": 0,
      "outputs": []
    },
    {
      "cell_type": "code",
      "metadata": {
        "colab_type": "code",
        "id": "jjRl_0vWGsEG",
        "colab": {}
      },
      "source": [
        "#hide\n",
        "italy = data3[data3['countriesAndTerritories']=='Italy']\n",
        "italy.sort_index(ascending=False,inplace=True)\n",
        "italy['Cumulativo'] = italy['cases'].cumsum()\n",
        "italy['Relativo'] = italy['Cumulativo']/pop_it\n",
        "italy = italy[italy['Cumulativo']>=50]\n",
        "italy.reset_index(drop=True, inplace=True)\n",
        "italy.drop(['cases','dateRep'],axis=1,inplace=True)\n",
        "\n"
      ],
      "execution_count": 0,
      "outputs": []
    },
    {
      "cell_type": "code",
      "metadata": {
        "colab_type": "code",
        "id": "AY22Z511MaOT",
        "colab": {}
      },
      "source": [
        "#hide\n",
        "brazil = data3[data3['countriesAndTerritories']=='Brazil']\n",
        "brazil.sort_index(ascending=False,inplace=True)\n",
        "brazil['Cumulativo'] = brazil['cases'].cumsum()\n",
        "brazil['Relativo'] = brazil['Cumulativo']/pop_br\n",
        "brazil = brazil[brazil['Cumulativo']>=50]\n",
        "brazil.reset_index(drop=True, inplace=True)\n",
        "brazil.drop(['cases','dateRep'],axis=1,inplace=True)\n",
        "\n",
        "\n",
        "\n"
      ],
      "execution_count": 0,
      "outputs": []
    },
    {
      "cell_type": "code",
      "metadata": {
        "colab_type": "code",
        "id": "PUdhI0JWdbN3",
        "colab": {}
      },
      "source": [
        "#hide\n",
        "argentina = data3[data3['countriesAndTerritories']=='Argentina']\n",
        "argentina.sort_index(ascending=False,inplace=True)\n",
        "argentina['Cumulativo'] = argentina['cases'].cumsum()\n",
        "argentina['Relativo'] = argentina['Cumulativo']/pop_ar\n",
        "argentina = argentina[argentina['Cumulativo']>=50]\n",
        "argentina.reset_index(drop=True, inplace=True)\n",
        "argentina.drop(['cases','dateRep'],axis=1,inplace=True)\n"
      ],
      "execution_count": 0,
      "outputs": []
    },
    {
      "cell_type": "code",
      "metadata": {
        "colab_type": "code",
        "id": "Qi4mDAAvH5TB",
        "colab": {}
      },
      "source": [
        "#hide\n",
        "japan = data3[data3['countriesAndTerritories']=='Japan']\n",
        "japan.sort_index(ascending=False,inplace=True)\n",
        "japan['Cumulativo'] = japan['cases'].cumsum()\n",
        "japan['Relativo'] = japan['Cumulativo']/pop_jp\n",
        "japan = japan[japan['Cumulativo']>=50]\n",
        "japan.reset_index(drop=True, inplace=True)\n",
        "japan.drop(['cases','dateRep'],axis=1,inplace=True)\n"
      ],
      "execution_count": 0,
      "outputs": []
    },
    {
      "cell_type": "code",
      "metadata": {
        "colab_type": "code",
        "id": "LDkrnXhbNETA",
        "colab": {}
      },
      "source": [
        "#hide\n",
        "france = data3[data3['countriesAndTerritories']=='France']\n",
        "france.sort_index(ascending=False,inplace=True)\n",
        "france['Cumulativo'] = france['cases'].cumsum()\n",
        "france['Relativo'] = france['Cumulativo']/pop_fr\n",
        "france = france[france['Cumulativo']>=50]\n",
        "france.reset_index(drop=True, inplace=True)\n",
        "france.drop(['cases','dateRep'],axis=1,inplace=True)\n"
      ],
      "execution_count": 0,
      "outputs": []
    },
    {
      "cell_type": "code",
      "metadata": {
        "colab_type": "code",
        "id": "3FajbHTRNTSj",
        "colab": {}
      },
      "source": [
        "#hide\n",
        "south_korea = data3[data3['countriesAndTerritories']=='South_Korea']\n",
        "south_korea.sort_index(ascending=False,inplace=True)\n",
        "south_korea['Cumulativo'] = south_korea['cases'].cumsum()\n",
        "south_korea['Relativo'] = south_korea['Cumulativo']/pop_sk\n",
        "south_korea = south_korea[south_korea['Cumulativo']>=50]\n",
        "south_korea.reset_index(drop=True, inplace=True)\n",
        "south_korea.drop(['cases','dateRep'],axis=1,inplace=True)\n"
      ],
      "execution_count": 0,
      "outputs": []
    },
    {
      "cell_type": "code",
      "metadata": {
        "colab_type": "code",
        "id": "JH7QajuHNsR9",
        "colab": {}
      },
      "source": [
        "#hide\n",
        "us = data3[data3['countriesAndTerritories']=='United_States_of_America']\n",
        "us.sort_index(ascending=False,inplace=True)\n",
        "us['Cumulativo'] = us['cases'].cumsum()\n",
        "us['Relativo'] = us['Cumulativo']/pop_eua\n",
        "us = us[us['Cumulativo']>=50]\n",
        "us.reset_index(drop=True, inplace=True)\n",
        "us.drop(['cases','dateRep'],axis=1,inplace=True)\n"
      ],
      "execution_count": 0,
      "outputs": []
    },
    {
      "cell_type": "code",
      "metadata": {
        "colab_type": "code",
        "id": "UNN3G5BFNtbh",
        "colab": {}
      },
      "source": [
        "#hide\n",
        "uk = data3[data3['countriesAndTerritories']=='United_Kingdom']\n",
        "uk.sort_index(ascending=False,inplace=True)\n",
        "uk['Cumulativo'] = uk['cases'].cumsum()\n",
        "uk['Relativo'] = uk['Cumulativo']/pop_uk\n",
        "uk = uk[uk['Cumulativo']>=50]\n",
        "uk.reset_index(drop=True, inplace=True)\n",
        "uk.drop(['cases','dateRep'],axis=1,inplace=True)\n"
      ],
      "execution_count": 0,
      "outputs": []
    },
    {
      "cell_type": "code",
      "metadata": {
        "colab_type": "code",
        "id": "_Mk5FHKTHkr5",
        "colab": {}
      },
      "source": [
        "#hide\n",
        "spain = data3[data3['countriesAndTerritories']=='Spain']\n",
        "spain.sort_index(ascending=False,inplace=True)\n",
        "spain['Cumulativo'] = spain['cases'].cumsum()\n",
        "spain['Relativo'] = spain['Cumulativo']/pop_esp\n",
        "spain = spain[spain['Cumulativo']>=50]\n",
        "spain.reset_index(drop=True, inplace=True)\n",
        "spain.drop(['cases','dateRep'],axis=1,inplace=True)\n"
      ],
      "execution_count": 0,
      "outputs": []
    },
    {
      "cell_type": "code",
      "metadata": {
        "id": "K0FWQKj0TqQi",
        "colab_type": "code",
        "colab": {}
      },
      "source": [
        "#hide\n",
        "mexico = data3[data3['countriesAndTerritories']=='Mexico']\n",
        "mexico.sort_index(ascending=False,inplace=True)\n",
        "mexico['Cumulativo'] = mexico['cases'].cumsum()\n",
        "mexico['Relativo'] = mexico['Cumulativo']/pop_esp\n",
        "mexico = mexico[mexico['Cumulativo']>=50]\n",
        "mexico.reset_index(drop=True, inplace=True)\n",
        "mexico.drop(['cases','dateRep'],axis=1,inplace=True)\n"
      ],
      "execution_count": 0,
      "outputs": []
    },
    {
      "cell_type": "code",
      "metadata": {
        "id": "UtA-oCu5TqQn",
        "colab_type": "code",
        "colab": {}
      },
      "source": [
        "#hide\n",
        "india = data3[data3['countriesAndTerritories']=='India']\n",
        "india.sort_index(ascending=False,inplace=True)\n",
        "india['Cumulativo'] = india['cases'].cumsum()\n",
        "india['Relativo'] = india['Cumulativo']/pop_ind\n",
        "india = india[india['Cumulativo']>=50]\n",
        "india.reset_index(drop=True, inplace=True)\n",
        "india.drop(['cases','dateRep'],axis=1,inplace=True)\n"
      ],
      "execution_count": 0,
      "outputs": []
    },
    {
      "cell_type": "code",
      "metadata": {
        "id": "vV9GJcZ3TqQq",
        "colab_type": "code",
        "colab": {}
      },
      "source": [
        "#hide\n",
        "czech_Republic = data3[data3['countriesAndTerritories']=='Czech_Republic']\n",
        "czech_Republic.sort_index(ascending=False,inplace=True)\n",
        "czech_Republic['Cumulativo'] = czech_Republic['cases'].cumsum()\n",
        "czech_Republic['Relativo'] = czech_Republic['Cumulativo']/pop_rc\n",
        "czech_Republic = czech_Republic[czech_Republic['Cumulativo']>=50]\n",
        "czech_Republic.reset_index(drop=True, inplace=True)\n",
        "czech_Republic.drop(['cases','dateRep'],axis=1,inplace=True)\n"
      ],
      "execution_count": 0,
      "outputs": []
    },
    {
      "cell_type": "code",
      "metadata": {
        "colab_type": "code",
        "id": "L3HY0S0YPoyR",
        "colab": {}
      },
      "source": [
        "#hide\n",
        "#tabela final\n",
        "final_data=pd.concat([brazil,italy,japan,uk,us,france,south_korea,spain,argentina,india,mexico,germany,czech_Republic,china],axis=0)\n",
        "final_data['Dias']=final_data.index\n",
        "final_data.columns = ['Países e territórios','Casos acumulados','Relativa','Dias desde o caso número 50']\n"
      ],
      "execution_count": 0,
      "outputs": []
    },
    {
      "cell_type": "code",
      "metadata": {
        "id": "Z1NB_GlETqQ5",
        "colab_type": "code",
        "colab": {}
      },
      "source": [
        "#hide\n",
        "#add pct\n",
        "brazil_dupl = brazil\n",
        "brazil_dupl['razao']= brazil_dupl['Cumulativo'].pct_change()\n",
        "brazil_dupl['razao']=(brazil_dupl['razao']*100).round(2)\n",
        "brazil_dupl['dias']= brazil_dupl.index\n"
      ],
      "execution_count": 0,
      "outputs": []
    },
    {
      "cell_type": "code",
      "metadata": {
        "colab_type": "code",
        "id": "gFey0PPjXgbx",
        "colab": {}
      },
      "source": [
        "#hide\n",
        "zoom = final_data[final_data['Casos acumulados']<=2500]"
      ],
      "execution_count": 0,
      "outputs": []
    },
    {
      "cell_type": "markdown",
      "metadata": {
        "id": "CttI71tOTqRA",
        "colab_type": "text"
      },
      "source": [
        "<center> <h2> Gráficos de contaminação </h2> </center>\n",
        "\n",
        "\n"
      ]
    },
    {
      "cell_type": "code",
      "metadata": {
        "colab_type": "code",
        "id": "PJlpKA-ZXRH1",
        "colab": {}
      },
      "source": [
        "#hide\n",
        "meio_zoom = final_data[final_data['Casos acumulados']<=5000]"
      ],
      "execution_count": 0,
      "outputs": []
    },
    {
      "cell_type": "code",
      "metadata": {
        "colab_type": "code",
        "id": "EvCbs19KaAt4",
        "outputId": "017cb63b-b666-4bb8-bb4a-b241680c7812",
        "colab": {
          "base_uri": "https://localhost:8080/",
          "height": 542
        }
      },
      "source": [
        "#hide_input\n",
        "#plt.figure(figsize=(6.5,8))\n",
        "#\n",
        "#sns.lineplot(x='Dias desde o caso número 50',y='Casos acumulados',data=zoom[zoom['Países e territórios']=='Brazil'],color='black',linewidth=5,label='Brasil')\n",
        "#sns.lineplot(x='Dias desde o caso número 50',y='Casos acumulados',data=zoom[zoom['Países e territórios']=='Italy'],label='Itália')\n",
        "#sns.lineplot(x='Dias desde o caso número 50',y='Casos acumulados',data=zoom[zoom['Países e territórios']=='United_States_of_America'],label='Estados Unidos')\n",
        "#sns.lineplot(x='Dias desde o caso número 50',y='Casos acumulados',data=zoom[zoom['Países e territórios']=='United_Kingdom'],label='Reino Unido')\n",
        "#sns.lineplot(x='Dias desde o caso número 50',y='Casos acumulados',data=zoom[zoom['Países e territórios']=='South_Korea'],label= \"Coréia do Sul\")\n",
        "#sns.lineplot(x='Dias desde o caso número 50',y='Casos acumulados',data=zoom[zoom['Países e territórios']=='France'],label='França')\n",
        "#sns.lineplot(x='Dias desde o caso número 50',y='Casos acumulados',data=zoom[zoom['Países e territórios']=='Japan'],label='Japão')\n",
        "#sns.lineplot(x='Dias desde o caso número 50',y='Casos acumulados',data=zoom[zoom['Países e territórios']=='Spain'],label='Espanha')\n",
        "#sns.lineplot(x='Dias desde o caso número 50',y='Casos acumulados',data=zoom[zoom['Países e territórios']=='Argentina'],label='Argentina')\n",
        "#sns.lineplot(x='Dias desde o caso número 50',y='Casos acumulados',data=zoom[zoom['Países e territórios']=='India'],label='Índia')\n",
        "#sns.lineplot(x='Dias desde o caso número 50',y='Casos acumulados',data=zoom[zoom['Países e territórios']=='Germany'],label='Alemanha')\n",
        "#sns.lineplot(x='Dias desde o caso número 50',y='Casos acumulados',data=zoom[zoom['Países e territórios']=='Czech_Republic'],label='República Tcheca',color=\"#660033\")\n",
        "#\n",
        "#\n",
        "#razao = brazil_dupl['razao'].values[-1]\n",
        "#texto = 'Aumento de casos no último dia: '+ str(razao)+'%'\n",
        "#plt.text(11, 0,texto,fontsize=10)\n",
        "#plt.grid(color='black', linestyle='--', linewidth=0.17)\n",
        "#\n",
        "#plt.xticks(np.arange(0,46,2))\n",
        "#plt.title('COVID-19 - Casos confirmados - {} \\n Zoom até 2500 casos'.format(today))\n",
        "#\n",
        "#plt.savefig(\"plots/01_corona_zoom.png\")\n",
        "#plt.show()\n",
        "\n",
        "#hide\n",
        "import plotly.express as px\n",
        "\n",
        "fig = px.line(zoom, x=\"Dias desde o caso número 50\", y=\"Casos acumulados\", title='COVID-19 - Casos confirmados - {} \\n Zoom até 2500 casos'.format(today),\n",
        "              color='Países e territórios',color_discrete_sequence=[\"black\", \"blue\",'green',\"darkmagenta\",\"gray\",\"brown\",\"orange\",\"magenta\",'red',\"darkblue\",\"lightgreen\",'coral','lightblue'])\n",
        "fig.update_layout(legend= {'title':'País','borderwidth':0,'orientation':'v','yanchor':'top','font':{'size':8}})\n",
        "fig.show()\n",
        "#fig.write_html(\"plots/11_letalidade.html\")"
      ],
      "execution_count": 182,
      "outputs": [
        {
          "output_type": "display_data",
          "data": {
            "text/html": [
              "<html>\n",
              "<head><meta charset=\"utf-8\" /></head>\n",
              "<body>\n",
              "    <div>\n",
              "            <script src=\"https://cdnjs.cloudflare.com/ajax/libs/mathjax/2.7.5/MathJax.js?config=TeX-AMS-MML_SVG\"></script><script type=\"text/javascript\">if (window.MathJax) {MathJax.Hub.Config({SVG: {font: \"STIX-Web\"}});}</script>\n",
              "                <script type=\"text/javascript\">window.PlotlyConfig = {MathJaxConfig: 'local'};</script>\n",
              "        <script src=\"https://cdn.plot.ly/plotly-latest.min.js\"></script>    \n",
              "            <div id=\"397e8d0a-f0ae-4272-9db4-19e7539f3c94\" class=\"plotly-graph-div\" style=\"height:525px; width:100%;\"></div>\n",
              "            <script type=\"text/javascript\">\n",
              "                \n",
              "                    window.PLOTLYENV=window.PLOTLYENV || {};\n",
              "                    \n",
              "                if (document.getElementById(\"397e8d0a-f0ae-4272-9db4-19e7539f3c94\")) {\n",
              "                    Plotly.newPlot(\n",
              "                        '397e8d0a-f0ae-4272-9db4-19e7539f3c94',\n",
              "                        [{\"hovertemplate\": \"Pa\\u00edses e territ\\u00f3rios=Brazil<br>Dias desde o caso n\\u00famero 50=%{x}<br>Casos acumulados=%{y}<extra></extra>\", \"legendgroup\": \"Brazil\", \"line\": {\"color\": \"black\", \"dash\": \"solid\"}, \"mode\": \"lines\", \"name\": \"Brazil\", \"showlegend\": true, \"type\": \"scatter\", \"x\": [0, 1, 2, 3, 4, 5, 6, 7, 8, 9, 10, 11, 12, 13, 14], \"xaxis\": \"x\", \"y\": [52, 77, 98, 121, 200, 234, 291, 428, 621, 904, 1128, 1546, 1891, 2201, 2433], \"yaxis\": \"y\"}, {\"hovertemplate\": \"Pa\\u00edses e territ\\u00f3rios=Italy<br>Dias desde o caso n\\u00famero 50=%{x}<br>Casos acumulados=%{y}<extra></extra>\", \"legendgroup\": \"Italy\", \"line\": {\"color\": \"blue\", \"dash\": \"solid\"}, \"mode\": \"lines\", \"name\": \"Italy\", \"showlegend\": true, \"type\": \"scatter\", \"x\": [0, 1, 2, 3, 4, 5, 6, 7, 8, 9], \"xaxis\": \"x\", \"y\": [79, 132, 229, 322, 400, 650, 888, 1128, 1689, 1835], \"yaxis\": \"y\"}, {\"hovertemplate\": \"Pa\\u00edses e territ\\u00f3rios=Japan<br>Dias desde o caso n\\u00famero 50=%{x}<br>Casos acumulados=%{y}<extra></extra>\", \"legendgroup\": \"Japan\", \"line\": {\"color\": \"green\", \"dash\": \"solid\"}, \"mode\": \"lines\", \"name\": \"Japan\", \"showlegend\": true, \"type\": \"scatter\", \"x\": [0, 1, 2, 3, 4, 5, 6, 7, 8, 9, 10, 11, 12, 13, 14, 15, 16, 17, 18, 19, 20, 21, 22, 23, 24, 25, 26, 27, 28, 29, 30, 31, 32, 33, 34, 35, 36, 37, 38, 39, 40, 41, 42, 43, 44, 45, 46], \"xaxis\": \"x\", \"y\": [52, 59, 59, 66, 84, 93, 105, 132, 144, 144, 164, 186, 210, 230, 239, 254, 254, 268, 317, 349, 408, 455, 488, 514, 568, 619, 675, 737, 780, 814, 824, 829, 873, 950, 1007, 1046, 1089, 1128, 1193, 1268, 1364, 1499, 1693, 1866, 1953, 1953, 2178], \"yaxis\": \"y\"}, {\"hovertemplate\": \"Pa\\u00edses e territ\\u00f3rios=United_Kingdom<br>Dias desde o caso n\\u00famero 50=%{x}<br>Casos acumulados=%{y}<extra></extra>\", \"legendgroup\": \"United_Kingdom\", \"line\": {\"color\": \"darkmagenta\", \"dash\": \"solid\"}, \"mode\": \"lines\", \"name\": \"United_Kingdom\", \"showlegend\": true, \"type\": \"scatter\", \"x\": [0, 1, 2, 3, 4, 5, 6, 7, 8, 9, 10, 11, 12, 13, 14], \"xaxis\": \"x\", \"y\": [51, 85, 115, 163, 206, 273, 321, 373, 456, 590, 707, 1140, 1391, 1543, 1950], \"yaxis\": \"y\"}, {\"hovertemplate\": \"Pa\\u00edses e territ\\u00f3rios=United_States_of_America<br>Dias desde o caso n\\u00famero 50=%{x}<br>Casos acumulados=%{y}<extra></extra>\", \"legendgroup\": \"United_States_of_America\", \"line\": {\"color\": \"gray\", \"dash\": \"solid\"}, \"mode\": \"lines\", \"name\": \"United_States_of_America\", \"showlegend\": true, \"type\": \"scatter\", \"x\": [0, 1, 2, 3, 4, 5, 6, 7, 8, 9, 10, 11, 12, 13, 14, 15, 16, 17, 18], \"xaxis\": \"x\", \"y\": [53, 53, 59, 60, 66, 69, 89, 103, 125, 159, 233, 338, 433, 554, 754, 1025, 1312, 1663, 2174], \"yaxis\": \"y\"}, {\"hovertemplate\": \"Pa\\u00edses e territ\\u00f3rios=France<br>Dias desde o caso n\\u00famero 50=%{x}<br>Casos acumulados=%{y}<extra></extra>\", \"legendgroup\": \"France\", \"line\": {\"color\": \"brown\", \"dash\": \"solid\"}, \"mode\": \"lines\", \"name\": \"France\", \"showlegend\": true, \"type\": \"scatter\", \"x\": [0, 1, 2, 3, 4, 5, 6, 7, 8, 9, 10, 11, 12], \"xaxis\": \"x\", \"y\": [57, 100, 130, 178, 212, 285, 423, 613, 716, 1126, 1412, 1784, 2281], \"yaxis\": \"y\"}, {\"hovertemplate\": \"Pa\\u00edses e territ\\u00f3rios=South_Korea<br>Dias desde o caso n\\u00famero 50=%{x}<br>Casos acumulados=%{y}<extra></extra>\", \"legendgroup\": \"South_Korea\", \"line\": {\"color\": \"orange\", \"dash\": \"solid\"}, \"mode\": \"lines\", \"name\": \"South_Korea\", \"showlegend\": true, \"type\": \"scatter\", \"x\": [0, 1, 2, 3, 4, 5, 6, 7, 8], \"xaxis\": \"x\", \"y\": [80, 155, 345, 601, 762, 892, 1146, 1595, 2022], \"yaxis\": \"y\"}, {\"hovertemplate\": \"Pa\\u00edses e territ\\u00f3rios=Spain<br>Dias desde o caso n\\u00famero 50=%{x}<br>Casos acumulados=%{y}<extra></extra>\", \"legendgroup\": \"Spain\", \"line\": {\"color\": \"magenta\", \"dash\": \"solid\"}, \"mode\": \"lines\", \"name\": \"Spain\", \"showlegend\": true, \"type\": \"scatter\", \"x\": [0, 1, 2, 3, 4, 5, 6, 7, 8, 9, 10, 11], \"xaxis\": \"x\", \"y\": [66, 83, 114, 151, 200, 261, 374, 430, 589, 1204, 1639, 2140], \"yaxis\": \"y\"}, {\"hovertemplate\": \"Pa\\u00edses e territ\\u00f3rios=Argentina<br>Dias desde o caso n\\u00famero 50=%{x}<br>Casos acumulados=%{y}<extra></extra>\", \"legendgroup\": \"Argentina\", \"line\": {\"color\": \"red\", \"dash\": \"solid\"}, \"mode\": \"lines\", \"name\": \"Argentina\", \"showlegend\": true, \"type\": \"scatter\", \"x\": [0, 1, 2, 3, 4, 5, 6, 7, 8, 9, 10, 11, 12, 13, 14, 15, 16, 17], \"xaxis\": \"x\", \"y\": [56, 65, 79, 97, 128, 158, 225, 266, 301, 387, 502, 589, 690, 745, 820, 966, 966, 1133], \"yaxis\": \"y\"}, {\"hovertemplate\": \"Pa\\u00edses e territ\\u00f3rios=India<br>Dias desde o caso n\\u00famero 50=%{x}<br>Casos acumulados=%{y}<extra></extra>\", \"legendgroup\": \"India\", \"line\": {\"color\": \"darkblue\", \"dash\": \"solid\"}, \"mode\": \"lines\", \"name\": \"India\", \"showlegend\": true, \"type\": \"scatter\", \"x\": [0, 1, 2, 3, 4, 5, 6, 7, 8, 9, 10, 11, 12, 13, 14, 15, 16, 17, 18, 19, 20, 21, 22], \"xaxis\": \"x\", \"y\": [50, 73, 75, 83, 90, 93, 125, 137, 165, 191, 231, 320, 439, 492, 562, 649, 724, 873, 979, 1071, 1251, 1397, 1965], \"yaxis\": \"y\"}, {\"hovertemplate\": \"Pa\\u00edses e territ\\u00f3rios=Mexico<br>Dias desde o caso n\\u00famero 50=%{x}<br>Casos acumulados=%{y}<extra></extra>\", \"legendgroup\": \"Mexico\", \"line\": {\"color\": \"lightgreen\", \"dash\": \"solid\"}, \"mode\": \"lines\", \"name\": \"Mexico\", \"showlegend\": true, \"type\": \"scatter\", \"x\": [0, 1, 2, 3, 4, 5, 6, 7, 8, 9, 10, 11, 12, 13, 14, 15, 16, 17], \"xaxis\": \"x\", \"y\": [53, 82, 93, 118, 164, 203, 251, 316, 367, 405, 475, 585, 717, 848, 993, 1094, 1215, 1378], \"yaxis\": \"y\"}, {\"hovertemplate\": \"Pa\\u00edses e territ\\u00f3rios=Germany<br>Dias desde o caso n\\u00famero 50=%{x}<br>Casos acumulados=%{y}<extra></extra>\", \"legendgroup\": \"Germany\", \"line\": {\"color\": \"coral\", \"dash\": \"solid\"}, \"mode\": \"lines\", \"name\": \"Germany\", \"showlegend\": true, \"type\": \"scatter\", \"x\": [0, 1, 2, 3, 4, 5, 6, 7, 8, 9, 10, 11, 12, 13], \"xaxis\": \"x\", \"y\": [57, 111, 129, 157, 196, 262, 400, 684, 847, 902, 1139, 1296, 1567, 2369], \"yaxis\": \"y\"}, {\"hovertemplate\": \"Pa\\u00edses e territ\\u00f3rios=Czech_Republic<br>Dias desde o caso n\\u00famero 50=%{x}<br>Casos acumulados=%{y}<extra></extra>\", \"legendgroup\": \"Czech_Republic\", \"line\": {\"color\": \"lightblue\", \"dash\": \"solid\"}, \"mode\": \"lines\", \"name\": \"Czech_Republic\", \"showlegend\": true, \"type\": \"scatter\", \"x\": [0, 1, 2, 3, 4, 5, 6, 7, 8, 9, 10, 11, 12, 13, 14, 15, 16, 17], \"xaxis\": \"x\", \"y\": [63, 94, 116, 150, 214, 298, 344, 434, 522, 694, 904, 995, 1165, 1236, 1394, 1654, 2062, 2279], \"yaxis\": \"y\"}, {\"hovertemplate\": \"Pa\\u00edses e territ\\u00f3rios=China<br>Dias desde o caso n\\u00famero 50=%{x}<br>Casos acumulados=%{y}<extra></extra>\", \"legendgroup\": \"China\", \"line\": {\"color\": \"black\", \"dash\": \"solid\"}, \"mode\": \"lines\", \"name\": \"China\", \"showlegend\": true, \"type\": \"scatter\", \"x\": [0, 1, 2, 3, 4, 5, 6, 7, 8, 9, 10, 11, 12, 13, 14, 15, 16, 17, 18, 19, 20, 21], \"xaxis\": \"x\", \"y\": [59, 59, 59, 59, 59, 59, 59, 59, 59, 59, 59, 59, 63, 80, 216, 235, 386, 526, 623, 882, 1323, 1988], \"yaxis\": \"y\"}],\n",
              "                        {\"legend\": {\"borderwidth\": 0, \"font\": {\"size\": 8}, \"orientation\": \"v\", \"title\": {\"text\": \"Pa\\u00eds\"}, \"tracegroupgap\": 0, \"yanchor\": \"top\"}, \"template\": {\"data\": {\"bar\": [{\"error_x\": {\"color\": \"#2a3f5f\"}, \"error_y\": {\"color\": \"#2a3f5f\"}, \"marker\": {\"line\": {\"color\": \"#E5ECF6\", \"width\": 0.5}}, \"type\": \"bar\"}], \"barpolar\": [{\"marker\": {\"line\": {\"color\": \"#E5ECF6\", \"width\": 0.5}}, \"type\": \"barpolar\"}], \"carpet\": [{\"aaxis\": {\"endlinecolor\": \"#2a3f5f\", \"gridcolor\": \"white\", \"linecolor\": \"white\", \"minorgridcolor\": \"white\", \"startlinecolor\": \"#2a3f5f\"}, \"baxis\": {\"endlinecolor\": \"#2a3f5f\", \"gridcolor\": \"white\", \"linecolor\": \"white\", \"minorgridcolor\": \"white\", \"startlinecolor\": \"#2a3f5f\"}, \"type\": \"carpet\"}], \"choropleth\": [{\"colorbar\": {\"outlinewidth\": 0, \"ticks\": \"\"}, \"type\": \"choropleth\"}], \"contour\": [{\"colorbar\": {\"outlinewidth\": 0, \"ticks\": \"\"}, \"colorscale\": [[0.0, \"#0d0887\"], [0.1111111111111111, \"#46039f\"], [0.2222222222222222, \"#7201a8\"], [0.3333333333333333, \"#9c179e\"], [0.4444444444444444, \"#bd3786\"], [0.5555555555555556, \"#d8576b\"], [0.6666666666666666, \"#ed7953\"], [0.7777777777777778, \"#fb9f3a\"], [0.8888888888888888, \"#fdca26\"], [1.0, \"#f0f921\"]], \"type\": \"contour\"}], \"contourcarpet\": [{\"colorbar\": {\"outlinewidth\": 0, \"ticks\": \"\"}, \"type\": \"contourcarpet\"}], \"heatmap\": [{\"colorbar\": {\"outlinewidth\": 0, \"ticks\": \"\"}, \"colorscale\": [[0.0, \"#0d0887\"], [0.1111111111111111, \"#46039f\"], [0.2222222222222222, \"#7201a8\"], [0.3333333333333333, \"#9c179e\"], [0.4444444444444444, \"#bd3786\"], [0.5555555555555556, \"#d8576b\"], [0.6666666666666666, \"#ed7953\"], [0.7777777777777778, \"#fb9f3a\"], [0.8888888888888888, \"#fdca26\"], [1.0, \"#f0f921\"]], \"type\": \"heatmap\"}], \"heatmapgl\": [{\"colorbar\": {\"outlinewidth\": 0, \"ticks\": \"\"}, \"colorscale\": [[0.0, \"#0d0887\"], [0.1111111111111111, \"#46039f\"], [0.2222222222222222, \"#7201a8\"], [0.3333333333333333, \"#9c179e\"], [0.4444444444444444, \"#bd3786\"], [0.5555555555555556, \"#d8576b\"], [0.6666666666666666, \"#ed7953\"], [0.7777777777777778, \"#fb9f3a\"], [0.8888888888888888, \"#fdca26\"], [1.0, \"#f0f921\"]], \"type\": \"heatmapgl\"}], \"histogram\": [{\"marker\": {\"colorbar\": {\"outlinewidth\": 0, \"ticks\": \"\"}}, \"type\": \"histogram\"}], \"histogram2d\": [{\"colorbar\": {\"outlinewidth\": 0, \"ticks\": \"\"}, \"colorscale\": [[0.0, \"#0d0887\"], [0.1111111111111111, \"#46039f\"], [0.2222222222222222, \"#7201a8\"], [0.3333333333333333, \"#9c179e\"], [0.4444444444444444, \"#bd3786\"], [0.5555555555555556, \"#d8576b\"], [0.6666666666666666, \"#ed7953\"], [0.7777777777777778, \"#fb9f3a\"], [0.8888888888888888, \"#fdca26\"], [1.0, \"#f0f921\"]], \"type\": \"histogram2d\"}], \"histogram2dcontour\": [{\"colorbar\": {\"outlinewidth\": 0, \"ticks\": \"\"}, \"colorscale\": [[0.0, \"#0d0887\"], [0.1111111111111111, \"#46039f\"], [0.2222222222222222, \"#7201a8\"], [0.3333333333333333, \"#9c179e\"], [0.4444444444444444, \"#bd3786\"], [0.5555555555555556, \"#d8576b\"], [0.6666666666666666, \"#ed7953\"], [0.7777777777777778, \"#fb9f3a\"], [0.8888888888888888, \"#fdca26\"], [1.0, \"#f0f921\"]], \"type\": \"histogram2dcontour\"}], \"mesh3d\": [{\"colorbar\": {\"outlinewidth\": 0, \"ticks\": \"\"}, \"type\": \"mesh3d\"}], \"parcoords\": [{\"line\": {\"colorbar\": {\"outlinewidth\": 0, \"ticks\": \"\"}}, \"type\": \"parcoords\"}], \"pie\": [{\"automargin\": true, \"type\": \"pie\"}], \"scatter\": [{\"marker\": {\"colorbar\": {\"outlinewidth\": 0, \"ticks\": \"\"}}, \"type\": \"scatter\"}], \"scatter3d\": [{\"line\": {\"colorbar\": {\"outlinewidth\": 0, \"ticks\": \"\"}}, \"marker\": {\"colorbar\": {\"outlinewidth\": 0, \"ticks\": \"\"}}, \"type\": \"scatter3d\"}], \"scattercarpet\": [{\"marker\": {\"colorbar\": {\"outlinewidth\": 0, \"ticks\": \"\"}}, \"type\": \"scattercarpet\"}], \"scattergeo\": [{\"marker\": {\"colorbar\": {\"outlinewidth\": 0, \"ticks\": \"\"}}, \"type\": \"scattergeo\"}], \"scattergl\": [{\"marker\": {\"colorbar\": {\"outlinewidth\": 0, \"ticks\": \"\"}}, \"type\": \"scattergl\"}], \"scattermapbox\": [{\"marker\": {\"colorbar\": {\"outlinewidth\": 0, \"ticks\": \"\"}}, \"type\": \"scattermapbox\"}], \"scatterpolar\": [{\"marker\": {\"colorbar\": {\"outlinewidth\": 0, \"ticks\": \"\"}}, \"type\": \"scatterpolar\"}], \"scatterpolargl\": [{\"marker\": {\"colorbar\": {\"outlinewidth\": 0, \"ticks\": \"\"}}, \"type\": \"scatterpolargl\"}], \"scatterternary\": [{\"marker\": {\"colorbar\": {\"outlinewidth\": 0, \"ticks\": \"\"}}, \"type\": \"scatterternary\"}], \"surface\": [{\"colorbar\": {\"outlinewidth\": 0, \"ticks\": \"\"}, \"colorscale\": [[0.0, \"#0d0887\"], [0.1111111111111111, \"#46039f\"], [0.2222222222222222, \"#7201a8\"], [0.3333333333333333, \"#9c179e\"], [0.4444444444444444, \"#bd3786\"], [0.5555555555555556, \"#d8576b\"], [0.6666666666666666, \"#ed7953\"], [0.7777777777777778, \"#fb9f3a\"], [0.8888888888888888, \"#fdca26\"], [1.0, \"#f0f921\"]], \"type\": \"surface\"}], \"table\": [{\"cells\": {\"fill\": {\"color\": \"#EBF0F8\"}, \"line\": {\"color\": \"white\"}}, \"header\": {\"fill\": {\"color\": \"#C8D4E3\"}, \"line\": {\"color\": \"white\"}}, \"type\": \"table\"}]}, \"layout\": {\"annotationdefaults\": {\"arrowcolor\": \"#2a3f5f\", \"arrowhead\": 0, \"arrowwidth\": 1}, \"coloraxis\": {\"colorbar\": {\"outlinewidth\": 0, \"ticks\": \"\"}}, \"colorscale\": {\"diverging\": [[0, \"#8e0152\"], [0.1, \"#c51b7d\"], [0.2, \"#de77ae\"], [0.3, \"#f1b6da\"], [0.4, \"#fde0ef\"], [0.5, \"#f7f7f7\"], [0.6, \"#e6f5d0\"], [0.7, \"#b8e186\"], [0.8, \"#7fbc41\"], [0.9, \"#4d9221\"], [1, \"#276419\"]], \"sequential\": [[0.0, \"#0d0887\"], [0.1111111111111111, \"#46039f\"], [0.2222222222222222, \"#7201a8\"], [0.3333333333333333, \"#9c179e\"], [0.4444444444444444, \"#bd3786\"], [0.5555555555555556, \"#d8576b\"], [0.6666666666666666, \"#ed7953\"], [0.7777777777777778, \"#fb9f3a\"], [0.8888888888888888, \"#fdca26\"], [1.0, \"#f0f921\"]], \"sequentialminus\": [[0.0, \"#0d0887\"], [0.1111111111111111, \"#46039f\"], [0.2222222222222222, \"#7201a8\"], [0.3333333333333333, \"#9c179e\"], [0.4444444444444444, \"#bd3786\"], [0.5555555555555556, \"#d8576b\"], [0.6666666666666666, \"#ed7953\"], [0.7777777777777778, \"#fb9f3a\"], [0.8888888888888888, \"#fdca26\"], [1.0, \"#f0f921\"]]}, \"colorway\": [\"#636efa\", \"#EF553B\", \"#00cc96\", \"#ab63fa\", \"#FFA15A\", \"#19d3f3\", \"#FF6692\", \"#B6E880\", \"#FF97FF\", \"#FECB52\"], \"font\": {\"color\": \"#2a3f5f\"}, \"geo\": {\"bgcolor\": \"white\", \"lakecolor\": \"white\", \"landcolor\": \"#E5ECF6\", \"showlakes\": true, \"showland\": true, \"subunitcolor\": \"white\"}, \"hoverlabel\": {\"align\": \"left\"}, \"hovermode\": \"closest\", \"mapbox\": {\"style\": \"light\"}, \"paper_bgcolor\": \"white\", \"plot_bgcolor\": \"#E5ECF6\", \"polar\": {\"angularaxis\": {\"gridcolor\": \"white\", \"linecolor\": \"white\", \"ticks\": \"\"}, \"bgcolor\": \"#E5ECF6\", \"radialaxis\": {\"gridcolor\": \"white\", \"linecolor\": \"white\", \"ticks\": \"\"}}, \"scene\": {\"xaxis\": {\"backgroundcolor\": \"#E5ECF6\", \"gridcolor\": \"white\", \"gridwidth\": 2, \"linecolor\": \"white\", \"showbackground\": true, \"ticks\": \"\", \"zerolinecolor\": \"white\"}, \"yaxis\": {\"backgroundcolor\": \"#E5ECF6\", \"gridcolor\": \"white\", \"gridwidth\": 2, \"linecolor\": \"white\", \"showbackground\": true, \"ticks\": \"\", \"zerolinecolor\": \"white\"}, \"zaxis\": {\"backgroundcolor\": \"#E5ECF6\", \"gridcolor\": \"white\", \"gridwidth\": 2, \"linecolor\": \"white\", \"showbackground\": true, \"ticks\": \"\", \"zerolinecolor\": \"white\"}}, \"shapedefaults\": {\"line\": {\"color\": \"#2a3f5f\"}}, \"ternary\": {\"aaxis\": {\"gridcolor\": \"white\", \"linecolor\": \"white\", \"ticks\": \"\"}, \"baxis\": {\"gridcolor\": \"white\", \"linecolor\": \"white\", \"ticks\": \"\"}, \"bgcolor\": \"#E5ECF6\", \"caxis\": {\"gridcolor\": \"white\", \"linecolor\": \"white\", \"ticks\": \"\"}}, \"title\": {\"x\": 0.05}, \"xaxis\": {\"automargin\": true, \"gridcolor\": \"white\", \"linecolor\": \"white\", \"ticks\": \"\", \"title\": {\"standoff\": 15}, \"zerolinecolor\": \"white\", \"zerolinewidth\": 2}, \"yaxis\": {\"automargin\": true, \"gridcolor\": \"white\", \"linecolor\": \"white\", \"ticks\": \"\", \"title\": {\"standoff\": 15}, \"zerolinecolor\": \"white\", \"zerolinewidth\": 2}}}, \"title\": {\"text\": \"COVID-19 - Casos confirmados - 02-04-2020 \\n Zoom at\\u00e9 2500 casos\"}, \"xaxis\": {\"anchor\": \"y\", \"domain\": [0.0, 1.0], \"title\": {\"text\": \"Dias desde o caso n\\u00famero 50\"}}, \"yaxis\": {\"anchor\": \"x\", \"domain\": [0.0, 1.0], \"title\": {\"text\": \"Casos acumulados\"}}},\n",
              "                        {\"responsive\": true}\n",
              "                    ).then(function(){\n",
              "                            \n",
              "var gd = document.getElementById('397e8d0a-f0ae-4272-9db4-19e7539f3c94');\n",
              "var x = new MutationObserver(function (mutations, observer) {{\n",
              "        var display = window.getComputedStyle(gd).display;\n",
              "        if (!display || display === 'none') {{\n",
              "            console.log([gd, 'removed!']);\n",
              "            Plotly.purge(gd);\n",
              "            observer.disconnect();\n",
              "        }}\n",
              "}});\n",
              "\n",
              "// Listen for the removal of the full notebook cells\n",
              "var notebookContainer = gd.closest('#notebook-container');\n",
              "if (notebookContainer) {{\n",
              "    x.observe(notebookContainer, {childList: true});\n",
              "}}\n",
              "\n",
              "// Listen for the clearing of the current output cell\n",
              "var outputEl = gd.closest('.output');\n",
              "if (outputEl) {{\n",
              "    x.observe(outputEl, {childList: true});\n",
              "}}\n",
              "\n",
              "                        })\n",
              "                };\n",
              "                \n",
              "            </script>\n",
              "        </div>\n",
              "</body>\n",
              "</html>"
            ]
          },
          "metadata": {
            "tags": []
          }
        }
      ]
    },
    {
      "cell_type": "code",
      "metadata": {
        "colab_type": "code",
        "id": "d5nOTnJwYHNo",
        "outputId": "1182abfb-c134-4d67-c250-9b6b95eb9f5c",
        "colab": {
          "base_uri": "https://localhost:8080/",
          "height": 542
        }
      },
      "source": [
        "#hide_input\n",
        "#plt.figure(figsize=(6.5,8))\n",
        "#\n",
        "#sns.lineplot(x='Dias desde o caso número 50',y='Casos acumulados',data=meio_zoom[meio_zoom['Países e territórios']=='Brazil'],color='black',linewidth=4,label='Brasil')\n",
        "#sns.lineplot(x='Dias desde o caso número 50',y='Casos acumulados',data=meio_zoom[meio_zoom['Países e territórios']=='Italy'],label='Itália')\n",
        "#sns.lineplot(x='Dias desde o caso número 50',y='Casos acumulados',data=meio_zoom[meio_zoom['Países e territórios']=='United_States_of_America'],label='Estados Unidos')\n",
        "#sns.lineplot(x='Dias desde o caso número 50',y='Casos acumulados',data=meio_zoom[meio_zoom['Países e territórios']=='United_Kingdom'],label='Reino Unido')\n",
        "#sns.lineplot(x='Dias desde o caso número 50',y='Casos acumulados',data=meio_zoom[meio_zoom['Países e territórios']=='South_Korea'],label= \"Coréia do Sul\")\n",
        "#sns.lineplot(x='Dias desde o caso número 50',y='Casos acumulados',data=meio_zoom[meio_zoom['Países e territórios']=='France'],label='França')\n",
        "#sns.lineplot(x='Dias desde o caso número 50',y='Casos acumulados',data=meio_zoom[meio_zoom['Países e territórios']=='Japan'],label='Japão')\n",
        "#sns.lineplot(x='Dias desde o caso número 50',y='Casos acumulados',data=meio_zoom[meio_zoom['Países e territórios']=='Spain'],label='Espanha')\n",
        "#sns.lineplot(x='Dias desde o caso número 50',y='Casos acumulados',data=meio_zoom[meio_zoom['Países e territórios']=='Argentina'],label='Argentina')\n",
        "#sns.lineplot(x='Dias desde o caso número 50',y='Casos acumulados',data=meio_zoom[meio_zoom['Países e territórios']=='India'],label='Índia')\n",
        "#sns.lineplot(x='Dias desde o caso número 50',y='Casos acumulados',data=meio_zoom[meio_zoom['Países e territórios']=='Germany'],label='Alemanha')\n",
        "#sns.lineplot(x='Dias desde o caso número 50',y='Casos acumulados',data=meio_zoom[meio_zoom['Países e territórios']=='Czech_Republic'],label='República Tcheca',color=\"#660033\")\n",
        "#\n",
        "#plt.grid(color='black', linestyle='--', linewidth=0.17)\n",
        "#\n",
        "#plt.text(11,0,texto,fontsize=10)\n",
        "#plt.xticks(np.arange(0,46,2))\n",
        "#plt.title('COVID-19 - Casos confirmados - {} \\n Zoom até 5000 casos'.format(today))\n",
        "#plt.savefig(\"plots/02_corona_meio_zoom.png\")\n",
        "#plt.show()\n",
        "\n",
        "fig = px.line(meio_zoom, x=\"Dias desde o caso número 50\", y=\"Casos acumulados\", title='COVID-19 - Casos confirmados - {} \\n Zoom até 5000 casos'.format(today),\n",
        "              color='Países e territórios',color_discrete_sequence=[\"black\", \"blue\",'green',\"darkmagenta\",\"gray\",\"brown\",\"orange\",\"magenta\",'red',\"darkblue\",\"lightgreen\",'coral','lightblue'])\n",
        "fig.update_layout(legend= {'title':'País','borderwidth':0,'orientation':'v','yanchor':'top','font':{'size':8}})\n",
        "fig.show()\n",
        "#fig.write_html(\"plots/11_letalidade.html\")"
      ],
      "execution_count": 183,
      "outputs": [
        {
          "output_type": "display_data",
          "data": {
            "text/html": [
              "<html>\n",
              "<head><meta charset=\"utf-8\" /></head>\n",
              "<body>\n",
              "    <div>\n",
              "            <script src=\"https://cdnjs.cloudflare.com/ajax/libs/mathjax/2.7.5/MathJax.js?config=TeX-AMS-MML_SVG\"></script><script type=\"text/javascript\">if (window.MathJax) {MathJax.Hub.Config({SVG: {font: \"STIX-Web\"}});}</script>\n",
              "                <script type=\"text/javascript\">window.PlotlyConfig = {MathJaxConfig: 'local'};</script>\n",
              "        <script src=\"https://cdn.plot.ly/plotly-latest.min.js\"></script>    \n",
              "            <div id=\"ae9b1ee7-4e52-4dc0-9737-5de9db68ed5d\" class=\"plotly-graph-div\" style=\"height:525px; width:100%;\"></div>\n",
              "            <script type=\"text/javascript\">\n",
              "                \n",
              "                    window.PLOTLYENV=window.PLOTLYENV || {};\n",
              "                    \n",
              "                if (document.getElementById(\"ae9b1ee7-4e52-4dc0-9737-5de9db68ed5d\")) {\n",
              "                    Plotly.newPlot(\n",
              "                        'ae9b1ee7-4e52-4dc0-9737-5de9db68ed5d',\n",
              "                        [{\"hovertemplate\": \"Pa\\u00edses e territ\\u00f3rios=Brazil<br>Dias desde o caso n\\u00famero 50=%{x}<br>Casos acumulados=%{y}<extra></extra>\", \"legendgroup\": \"Brazil\", \"line\": {\"color\": \"black\", \"dash\": \"solid\"}, \"mode\": \"lines\", \"name\": \"Brazil\", \"showlegend\": true, \"type\": \"scatter\", \"x\": [0, 1, 2, 3, 4, 5, 6, 7, 8, 9, 10, 11, 12, 13, 14, 15, 16, 17, 18, 19], \"xaxis\": \"x\", \"y\": [52, 77, 98, 121, 200, 234, 291, 428, 621, 904, 1128, 1546, 1891, 2201, 2433, 2915, 3417, 3904, 4256, 4579], \"yaxis\": \"y\"}, {\"hovertemplate\": \"Pa\\u00edses e territ\\u00f3rios=Italy<br>Dias desde o caso n\\u00famero 50=%{x}<br>Casos acumulados=%{y}<extra></extra>\", \"legendgroup\": \"Italy\", \"line\": {\"color\": \"blue\", \"dash\": \"solid\"}, \"mode\": \"lines\", \"name\": \"Italy\", \"showlegend\": true, \"type\": \"scatter\", \"x\": [0, 1, 2, 3, 4, 5, 6, 7, 8, 9, 10, 11, 12, 13], \"xaxis\": \"x\", \"y\": [79, 132, 229, 322, 400, 650, 888, 1128, 1689, 1835, 2502, 3089, 3858, 4636], \"yaxis\": \"y\"}, {\"hovertemplate\": \"Pa\\u00edses e territ\\u00f3rios=Japan<br>Dias desde o caso n\\u00famero 50=%{x}<br>Casos acumulados=%{y}<extra></extra>\", \"legendgroup\": \"Japan\", \"line\": {\"color\": \"green\", \"dash\": \"solid\"}, \"mode\": \"lines\", \"name\": \"Japan\", \"showlegend\": true, \"type\": \"scatter\", \"x\": [0, 1, 2, 3, 4, 5, 6, 7, 8, 9, 10, 11, 12, 13, 14, 15, 16, 17, 18, 19, 20, 21, 22, 23, 24, 25, 26, 27, 28, 29, 30, 31, 32, 33, 34, 35, 36, 37, 38, 39, 40, 41, 42, 43, 44, 45, 46], \"xaxis\": \"x\", \"y\": [52, 59, 59, 66, 84, 93, 105, 132, 144, 144, 164, 186, 210, 230, 239, 254, 254, 268, 317, 349, 408, 455, 488, 514, 568, 619, 675, 737, 780, 814, 824, 829, 873, 950, 1007, 1046, 1089, 1128, 1193, 1268, 1364, 1499, 1693, 1866, 1953, 1953, 2178], \"yaxis\": \"y\"}, {\"hovertemplate\": \"Pa\\u00edses e territ\\u00f3rios=United_Kingdom<br>Dias desde o caso n\\u00famero 50=%{x}<br>Casos acumulados=%{y}<extra></extra>\", \"legendgroup\": \"United_Kingdom\", \"line\": {\"color\": \"darkmagenta\", \"dash\": \"solid\"}, \"mode\": \"lines\", \"name\": \"United_Kingdom\", \"showlegend\": true, \"type\": \"scatter\", \"x\": [0, 1, 2, 3, 4, 5, 6, 7, 8, 9, 10, 11, 12, 13, 14, 15, 16, 17], \"xaxis\": \"x\", \"y\": [51, 85, 115, 163, 206, 273, 321, 373, 456, 590, 707, 1140, 1391, 1543, 1950, 2630, 3277, 3983], \"yaxis\": \"y\"}, {\"hovertemplate\": \"Pa\\u00edses e territ\\u00f3rios=United_States_of_America<br>Dias desde o caso n\\u00famero 50=%{x}<br>Casos acumulados=%{y}<extra></extra>\", \"legendgroup\": \"United_States_of_America\", \"line\": {\"color\": \"gray\", \"dash\": \"solid\"}, \"mode\": \"lines\", \"name\": \"United_States_of_America\", \"showlegend\": true, \"type\": \"scatter\", \"x\": [0, 1, 2, 3, 4, 5, 6, 7, 8, 9, 10, 11, 12, 13, 14, 15, 16, 17, 18, 19, 20, 21], \"xaxis\": \"x\", \"y\": [53, 53, 59, 60, 66, 69, 89, 103, 125, 159, 233, 338, 433, 554, 754, 1025, 1312, 1663, 2174, 2951, 3774, 4661], \"yaxis\": \"y\"}, {\"hovertemplate\": \"Pa\\u00edses e territ\\u00f3rios=France<br>Dias desde o caso n\\u00famero 50=%{x}<br>Casos acumulados=%{y}<extra></extra>\", \"legendgroup\": \"France\", \"line\": {\"color\": \"brown\", \"dash\": \"solid\"}, \"mode\": \"lines\", \"name\": \"France\", \"showlegend\": true, \"type\": \"scatter\", \"x\": [0, 1, 2, 3, 4, 5, 6, 7, 8, 9, 10, 11, 12, 13, 14, 15], \"xaxis\": \"x\", \"y\": [57, 100, 130, 178, 212, 285, 423, 613, 716, 1126, 1412, 1784, 2281, 2876, 3661, 4499], \"yaxis\": \"y\"}, {\"hovertemplate\": \"Pa\\u00edses e territ\\u00f3rios=South_Korea<br>Dias desde o caso n\\u00famero 50=%{x}<br>Casos acumulados=%{y}<extra></extra>\", \"legendgroup\": \"South_Korea\", \"line\": {\"color\": \"orange\", \"dash\": \"solid\"}, \"mode\": \"lines\", \"name\": \"South_Korea\", \"showlegend\": true, \"type\": \"scatter\", \"x\": [0, 1, 2, 3, 4, 5, 6, 7, 8, 9, 10, 11, 12], \"xaxis\": \"x\", \"y\": [80, 155, 345, 601, 762, 892, 1146, 1595, 2022, 2931, 3526, 4212, 4812], \"yaxis\": \"y\"}, {\"hovertemplate\": \"Pa\\u00edses e territ\\u00f3rios=Spain<br>Dias desde o caso n\\u00famero 50=%{x}<br>Casos acumulados=%{y}<extra></extra>\", \"legendgroup\": \"Spain\", \"line\": {\"color\": \"magenta\", \"dash\": \"solid\"}, \"mode\": \"lines\", \"name\": \"Spain\", \"showlegend\": true, \"type\": \"scatter\", \"x\": [0, 1, 2, 3, 4, 5, 6, 7, 8, 9, 10, 11, 12, 13], \"xaxis\": \"x\", \"y\": [66, 83, 114, 151, 200, 261, 374, 430, 589, 1204, 1639, 2140, 3004, 4231], \"yaxis\": \"y\"}, {\"hovertemplate\": \"Pa\\u00edses e territ\\u00f3rios=Argentina<br>Dias desde o caso n\\u00famero 50=%{x}<br>Casos acumulados=%{y}<extra></extra>\", \"legendgroup\": \"Argentina\", \"line\": {\"color\": \"red\", \"dash\": \"solid\"}, \"mode\": \"lines\", \"name\": \"Argentina\", \"showlegend\": true, \"type\": \"scatter\", \"x\": [0, 1, 2, 3, 4, 5, 6, 7, 8, 9, 10, 11, 12, 13, 14, 15, 16, 17], \"xaxis\": \"x\", \"y\": [56, 65, 79, 97, 128, 158, 225, 266, 301, 387, 502, 589, 690, 745, 820, 966, 966, 1133], \"yaxis\": \"y\"}, {\"hovertemplate\": \"Pa\\u00edses e territ\\u00f3rios=India<br>Dias desde o caso n\\u00famero 50=%{x}<br>Casos acumulados=%{y}<extra></extra>\", \"legendgroup\": \"India\", \"line\": {\"color\": \"darkblue\", \"dash\": \"solid\"}, \"mode\": \"lines\", \"name\": \"India\", \"showlegend\": true, \"type\": \"scatter\", \"x\": [0, 1, 2, 3, 4, 5, 6, 7, 8, 9, 10, 11, 12, 13, 14, 15, 16, 17, 18, 19, 20, 21, 22], \"xaxis\": \"x\", \"y\": [50, 73, 75, 83, 90, 93, 125, 137, 165, 191, 231, 320, 439, 492, 562, 649, 724, 873, 979, 1071, 1251, 1397, 1965], \"yaxis\": \"y\"}, {\"hovertemplate\": \"Pa\\u00edses e territ\\u00f3rios=Mexico<br>Dias desde o caso n\\u00famero 50=%{x}<br>Casos acumulados=%{y}<extra></extra>\", \"legendgroup\": \"Mexico\", \"line\": {\"color\": \"lightgreen\", \"dash\": \"solid\"}, \"mode\": \"lines\", \"name\": \"Mexico\", \"showlegend\": true, \"type\": \"scatter\", \"x\": [0, 1, 2, 3, 4, 5, 6, 7, 8, 9, 10, 11, 12, 13, 14, 15, 16, 17], \"xaxis\": \"x\", \"y\": [53, 82, 93, 118, 164, 203, 251, 316, 367, 405, 475, 585, 717, 848, 993, 1094, 1215, 1378], \"yaxis\": \"y\"}, {\"hovertemplate\": \"Pa\\u00edses e territ\\u00f3rios=Germany<br>Dias desde o caso n\\u00famero 50=%{x}<br>Casos acumulados=%{y}<extra></extra>\", \"legendgroup\": \"Germany\", \"line\": {\"color\": \"coral\", \"dash\": \"solid\"}, \"mode\": \"lines\", \"name\": \"Germany\", \"showlegend\": true, \"type\": \"scatter\", \"x\": [0, 1, 2, 3, 4, 5, 6, 7, 8, 9, 10, 11, 12, 13, 14, 15, 16], \"xaxis\": \"x\", \"y\": [57, 111, 129, 157, 196, 262, 400, 684, 847, 902, 1139, 1296, 1567, 2369, 3062, 3795, 4838], \"yaxis\": \"y\"}, {\"hovertemplate\": \"Pa\\u00edses e territ\\u00f3rios=Czech_Republic<br>Dias desde o caso n\\u00famero 50=%{x}<br>Casos acumulados=%{y}<extra></extra>\", \"legendgroup\": \"Czech_Republic\", \"line\": {\"color\": \"lightblue\", \"dash\": \"solid\"}, \"mode\": \"lines\", \"name\": \"Czech_Republic\", \"showlegend\": true, \"type\": \"scatter\", \"x\": [0, 1, 2, 3, 4, 5, 6, 7, 8, 9, 10, 11, 12, 13, 14, 15, 16, 17, 18, 19, 20, 21, 22], \"xaxis\": \"x\", \"y\": [63, 94, 116, 150, 214, 298, 344, 434, 522, 694, 904, 995, 1165, 1236, 1394, 1654, 2062, 2279, 2663, 2829, 3002, 3308, 3589], \"yaxis\": \"y\"}, {\"hovertemplate\": \"Pa\\u00edses e territ\\u00f3rios=China<br>Dias desde o caso n\\u00famero 50=%{x}<br>Casos acumulados=%{y}<extra></extra>\", \"legendgroup\": \"China\", \"line\": {\"color\": \"black\", \"dash\": \"solid\"}, \"mode\": \"lines\", \"name\": \"China\", \"showlegend\": true, \"type\": \"scatter\", \"x\": [0, 1, 2, 3, 4, 5, 6, 7, 8, 9, 10, 11, 12, 13, 14, 15, 16, 17, 18, 19, 20, 21, 22, 23], \"xaxis\": \"x\", \"y\": [59, 59, 59, 59, 59, 59, 59, 59, 59, 59, 59, 59, 63, 80, 216, 235, 386, 526, 623, 882, 1323, 1988, 2775, 4528], \"yaxis\": \"y\"}],\n",
              "                        {\"legend\": {\"borderwidth\": 0, \"font\": {\"size\": 8}, \"orientation\": \"v\", \"title\": {\"text\": \"Pa\\u00eds\"}, \"tracegroupgap\": 0, \"yanchor\": \"top\"}, \"template\": {\"data\": {\"bar\": [{\"error_x\": {\"color\": \"#2a3f5f\"}, \"error_y\": {\"color\": \"#2a3f5f\"}, \"marker\": {\"line\": {\"color\": \"#E5ECF6\", \"width\": 0.5}}, \"type\": \"bar\"}], \"barpolar\": [{\"marker\": {\"line\": {\"color\": \"#E5ECF6\", \"width\": 0.5}}, \"type\": \"barpolar\"}], \"carpet\": [{\"aaxis\": {\"endlinecolor\": \"#2a3f5f\", \"gridcolor\": \"white\", \"linecolor\": \"white\", \"minorgridcolor\": \"white\", \"startlinecolor\": \"#2a3f5f\"}, \"baxis\": {\"endlinecolor\": \"#2a3f5f\", \"gridcolor\": \"white\", \"linecolor\": \"white\", \"minorgridcolor\": \"white\", \"startlinecolor\": \"#2a3f5f\"}, \"type\": \"carpet\"}], \"choropleth\": [{\"colorbar\": {\"outlinewidth\": 0, \"ticks\": \"\"}, \"type\": \"choropleth\"}], \"contour\": [{\"colorbar\": {\"outlinewidth\": 0, \"ticks\": \"\"}, \"colorscale\": [[0.0, \"#0d0887\"], [0.1111111111111111, \"#46039f\"], [0.2222222222222222, \"#7201a8\"], [0.3333333333333333, \"#9c179e\"], [0.4444444444444444, \"#bd3786\"], [0.5555555555555556, \"#d8576b\"], [0.6666666666666666, \"#ed7953\"], [0.7777777777777778, \"#fb9f3a\"], [0.8888888888888888, \"#fdca26\"], [1.0, \"#f0f921\"]], \"type\": \"contour\"}], \"contourcarpet\": [{\"colorbar\": {\"outlinewidth\": 0, \"ticks\": \"\"}, \"type\": \"contourcarpet\"}], \"heatmap\": [{\"colorbar\": {\"outlinewidth\": 0, \"ticks\": \"\"}, \"colorscale\": [[0.0, \"#0d0887\"], [0.1111111111111111, \"#46039f\"], [0.2222222222222222, \"#7201a8\"], [0.3333333333333333, \"#9c179e\"], [0.4444444444444444, \"#bd3786\"], [0.5555555555555556, \"#d8576b\"], [0.6666666666666666, \"#ed7953\"], [0.7777777777777778, \"#fb9f3a\"], [0.8888888888888888, \"#fdca26\"], [1.0, \"#f0f921\"]], \"type\": \"heatmap\"}], \"heatmapgl\": [{\"colorbar\": {\"outlinewidth\": 0, \"ticks\": \"\"}, \"colorscale\": [[0.0, \"#0d0887\"], [0.1111111111111111, \"#46039f\"], [0.2222222222222222, \"#7201a8\"], [0.3333333333333333, \"#9c179e\"], [0.4444444444444444, \"#bd3786\"], [0.5555555555555556, \"#d8576b\"], [0.6666666666666666, \"#ed7953\"], [0.7777777777777778, \"#fb9f3a\"], [0.8888888888888888, \"#fdca26\"], [1.0, \"#f0f921\"]], \"type\": \"heatmapgl\"}], \"histogram\": [{\"marker\": {\"colorbar\": {\"outlinewidth\": 0, \"ticks\": \"\"}}, \"type\": \"histogram\"}], \"histogram2d\": [{\"colorbar\": {\"outlinewidth\": 0, \"ticks\": \"\"}, \"colorscale\": [[0.0, \"#0d0887\"], [0.1111111111111111, \"#46039f\"], [0.2222222222222222, \"#7201a8\"], [0.3333333333333333, \"#9c179e\"], [0.4444444444444444, \"#bd3786\"], [0.5555555555555556, \"#d8576b\"], [0.6666666666666666, \"#ed7953\"], [0.7777777777777778, \"#fb9f3a\"], [0.8888888888888888, \"#fdca26\"], [1.0, \"#f0f921\"]], \"type\": \"histogram2d\"}], \"histogram2dcontour\": [{\"colorbar\": {\"outlinewidth\": 0, \"ticks\": \"\"}, \"colorscale\": [[0.0, \"#0d0887\"], [0.1111111111111111, \"#46039f\"], [0.2222222222222222, \"#7201a8\"], [0.3333333333333333, \"#9c179e\"], [0.4444444444444444, \"#bd3786\"], [0.5555555555555556, \"#d8576b\"], [0.6666666666666666, \"#ed7953\"], [0.7777777777777778, \"#fb9f3a\"], [0.8888888888888888, \"#fdca26\"], [1.0, \"#f0f921\"]], \"type\": \"histogram2dcontour\"}], \"mesh3d\": [{\"colorbar\": {\"outlinewidth\": 0, \"ticks\": \"\"}, \"type\": \"mesh3d\"}], \"parcoords\": [{\"line\": {\"colorbar\": {\"outlinewidth\": 0, \"ticks\": \"\"}}, \"type\": \"parcoords\"}], \"pie\": [{\"automargin\": true, \"type\": \"pie\"}], \"scatter\": [{\"marker\": {\"colorbar\": {\"outlinewidth\": 0, \"ticks\": \"\"}}, \"type\": \"scatter\"}], \"scatter3d\": [{\"line\": {\"colorbar\": {\"outlinewidth\": 0, \"ticks\": \"\"}}, \"marker\": {\"colorbar\": {\"outlinewidth\": 0, \"ticks\": \"\"}}, \"type\": \"scatter3d\"}], \"scattercarpet\": [{\"marker\": {\"colorbar\": {\"outlinewidth\": 0, \"ticks\": \"\"}}, \"type\": \"scattercarpet\"}], \"scattergeo\": [{\"marker\": {\"colorbar\": {\"outlinewidth\": 0, \"ticks\": \"\"}}, \"type\": \"scattergeo\"}], \"scattergl\": [{\"marker\": {\"colorbar\": {\"outlinewidth\": 0, \"ticks\": \"\"}}, \"type\": \"scattergl\"}], \"scattermapbox\": [{\"marker\": {\"colorbar\": {\"outlinewidth\": 0, \"ticks\": \"\"}}, \"type\": \"scattermapbox\"}], \"scatterpolar\": [{\"marker\": {\"colorbar\": {\"outlinewidth\": 0, \"ticks\": \"\"}}, \"type\": \"scatterpolar\"}], \"scatterpolargl\": [{\"marker\": {\"colorbar\": {\"outlinewidth\": 0, \"ticks\": \"\"}}, \"type\": \"scatterpolargl\"}], \"scatterternary\": [{\"marker\": {\"colorbar\": {\"outlinewidth\": 0, \"ticks\": \"\"}}, \"type\": \"scatterternary\"}], \"surface\": [{\"colorbar\": {\"outlinewidth\": 0, \"ticks\": \"\"}, \"colorscale\": [[0.0, \"#0d0887\"], [0.1111111111111111, \"#46039f\"], [0.2222222222222222, \"#7201a8\"], [0.3333333333333333, \"#9c179e\"], [0.4444444444444444, \"#bd3786\"], [0.5555555555555556, \"#d8576b\"], [0.6666666666666666, \"#ed7953\"], [0.7777777777777778, \"#fb9f3a\"], [0.8888888888888888, \"#fdca26\"], [1.0, \"#f0f921\"]], \"type\": \"surface\"}], \"table\": [{\"cells\": {\"fill\": {\"color\": \"#EBF0F8\"}, \"line\": {\"color\": \"white\"}}, \"header\": {\"fill\": {\"color\": \"#C8D4E3\"}, \"line\": {\"color\": \"white\"}}, \"type\": \"table\"}]}, \"layout\": {\"annotationdefaults\": {\"arrowcolor\": \"#2a3f5f\", \"arrowhead\": 0, \"arrowwidth\": 1}, \"coloraxis\": {\"colorbar\": {\"outlinewidth\": 0, \"ticks\": \"\"}}, \"colorscale\": {\"diverging\": [[0, \"#8e0152\"], [0.1, \"#c51b7d\"], [0.2, \"#de77ae\"], [0.3, \"#f1b6da\"], [0.4, \"#fde0ef\"], [0.5, \"#f7f7f7\"], [0.6, \"#e6f5d0\"], [0.7, \"#b8e186\"], [0.8, \"#7fbc41\"], [0.9, \"#4d9221\"], [1, \"#276419\"]], \"sequential\": [[0.0, \"#0d0887\"], [0.1111111111111111, \"#46039f\"], [0.2222222222222222, \"#7201a8\"], [0.3333333333333333, \"#9c179e\"], [0.4444444444444444, \"#bd3786\"], [0.5555555555555556, \"#d8576b\"], [0.6666666666666666, \"#ed7953\"], [0.7777777777777778, \"#fb9f3a\"], [0.8888888888888888, \"#fdca26\"], [1.0, \"#f0f921\"]], \"sequentialminus\": [[0.0, \"#0d0887\"], [0.1111111111111111, \"#46039f\"], [0.2222222222222222, \"#7201a8\"], [0.3333333333333333, \"#9c179e\"], [0.4444444444444444, \"#bd3786\"], [0.5555555555555556, \"#d8576b\"], [0.6666666666666666, \"#ed7953\"], [0.7777777777777778, \"#fb9f3a\"], [0.8888888888888888, \"#fdca26\"], [1.0, \"#f0f921\"]]}, \"colorway\": [\"#636efa\", \"#EF553B\", \"#00cc96\", \"#ab63fa\", \"#FFA15A\", \"#19d3f3\", \"#FF6692\", \"#B6E880\", \"#FF97FF\", \"#FECB52\"], \"font\": {\"color\": \"#2a3f5f\"}, \"geo\": {\"bgcolor\": \"white\", \"lakecolor\": \"white\", \"landcolor\": \"#E5ECF6\", \"showlakes\": true, \"showland\": true, \"subunitcolor\": \"white\"}, \"hoverlabel\": {\"align\": \"left\"}, \"hovermode\": \"closest\", \"mapbox\": {\"style\": \"light\"}, \"paper_bgcolor\": \"white\", \"plot_bgcolor\": \"#E5ECF6\", \"polar\": {\"angularaxis\": {\"gridcolor\": \"white\", \"linecolor\": \"white\", \"ticks\": \"\"}, \"bgcolor\": \"#E5ECF6\", \"radialaxis\": {\"gridcolor\": \"white\", \"linecolor\": \"white\", \"ticks\": \"\"}}, \"scene\": {\"xaxis\": {\"backgroundcolor\": \"#E5ECF6\", \"gridcolor\": \"white\", \"gridwidth\": 2, \"linecolor\": \"white\", \"showbackground\": true, \"ticks\": \"\", \"zerolinecolor\": \"white\"}, \"yaxis\": {\"backgroundcolor\": \"#E5ECF6\", \"gridcolor\": \"white\", \"gridwidth\": 2, \"linecolor\": \"white\", \"showbackground\": true, \"ticks\": \"\", \"zerolinecolor\": \"white\"}, \"zaxis\": {\"backgroundcolor\": \"#E5ECF6\", \"gridcolor\": \"white\", \"gridwidth\": 2, \"linecolor\": \"white\", \"showbackground\": true, \"ticks\": \"\", \"zerolinecolor\": \"white\"}}, \"shapedefaults\": {\"line\": {\"color\": \"#2a3f5f\"}}, \"ternary\": {\"aaxis\": {\"gridcolor\": \"white\", \"linecolor\": \"white\", \"ticks\": \"\"}, \"baxis\": {\"gridcolor\": \"white\", \"linecolor\": \"white\", \"ticks\": \"\"}, \"bgcolor\": \"#E5ECF6\", \"caxis\": {\"gridcolor\": \"white\", \"linecolor\": \"white\", \"ticks\": \"\"}}, \"title\": {\"x\": 0.05}, \"xaxis\": {\"automargin\": true, \"gridcolor\": \"white\", \"linecolor\": \"white\", \"ticks\": \"\", \"title\": {\"standoff\": 15}, \"zerolinecolor\": \"white\", \"zerolinewidth\": 2}, \"yaxis\": {\"automargin\": true, \"gridcolor\": \"white\", \"linecolor\": \"white\", \"ticks\": \"\", \"title\": {\"standoff\": 15}, \"zerolinecolor\": \"white\", \"zerolinewidth\": 2}}}, \"title\": {\"text\": \"COVID-19 - Casos confirmados - 02-04-2020 \\n Zoom at\\u00e9 5000 casos\"}, \"xaxis\": {\"anchor\": \"y\", \"domain\": [0.0, 1.0], \"title\": {\"text\": \"Dias desde o caso n\\u00famero 50\"}}, \"yaxis\": {\"anchor\": \"x\", \"domain\": [0.0, 1.0], \"title\": {\"text\": \"Casos acumulados\"}}},\n",
              "                        {\"responsive\": true}\n",
              "                    ).then(function(){\n",
              "                            \n",
              "var gd = document.getElementById('ae9b1ee7-4e52-4dc0-9737-5de9db68ed5d');\n",
              "var x = new MutationObserver(function (mutations, observer) {{\n",
              "        var display = window.getComputedStyle(gd).display;\n",
              "        if (!display || display === 'none') {{\n",
              "            console.log([gd, 'removed!']);\n",
              "            Plotly.purge(gd);\n",
              "            observer.disconnect();\n",
              "        }}\n",
              "}});\n",
              "\n",
              "// Listen for the removal of the full notebook cells\n",
              "var notebookContainer = gd.closest('#notebook-container');\n",
              "if (notebookContainer) {{\n",
              "    x.observe(notebookContainer, {childList: true});\n",
              "}}\n",
              "\n",
              "// Listen for the clearing of the current output cell\n",
              "var outputEl = gd.closest('.output');\n",
              "if (outputEl) {{\n",
              "    x.observe(outputEl, {childList: true});\n",
              "}}\n",
              "\n",
              "                        })\n",
              "                };\n",
              "                \n",
              "            </script>\n",
              "        </div>\n",
              "</body>\n",
              "</html>"
            ]
          },
          "metadata": {
            "tags": []
          }
        }
      ]
    },
    {
      "cell_type": "code",
      "metadata": {
        "colab_type": "code",
        "id": "vCTjw96BfhG_",
        "outputId": "ef5c58c6-2892-46b1-c326-906aa8918e2b",
        "colab": {
          "base_uri": "https://localhost:8080/",
          "height": 542
        }
      },
      "source": [
        "#hide_input\n",
        "#plt.figure(figsize=(6.5,8))\n",
        "#\n",
        "#sns.lineplot(x='Dias desde o caso número 50',y='Casos acumulados',data=final_data[final_data['Países e territórios']=='Brazil'],color='black',linewidth=7,label='Brasil')\n",
        "#sns.lineplot(x='Dias desde o caso número 50',y='Casos acumulados',data=final_data[final_data['Países e territórios']=='Italy'],label='Itália')\n",
        "#sns.lineplot(x='Dias desde o caso número 50',y='Casos acumulados',data=final_data[final_data['Países e territórios']=='United_States_of_America'],label='Estados Unidos')\n",
        "#sns.lineplot(x='Dias desde o caso número 50',y='Casos acumulados',data=final_data[final_data['Países e territórios']=='United_Kingdom'],label='Reino Unido')\n",
        "#sns.lineplot(x='Dias desde o caso número 50',y='Casos acumulados',data=final_data[final_data['Países e territórios']=='South_Korea'],label= \"Coréia do Sul\")\n",
        "#sns.lineplot(x='Dias desde o caso número 50',y='Casos acumulados',data=final_data[final_data['Países e territórios']=='France'],label='França')\n",
        "#sns.lineplot(x='Dias desde o caso número 50',y='Casos acumulados',data=final_data[final_data['Países e territórios']=='Japan'],label='Japão')\n",
        "#sns.lineplot(x='Dias desde o caso número 50',y='Casos acumulados',data=final_data[final_data['Países e territórios']=='Spain'],label='Espanha')\n",
        "#sns.lineplot(x='Dias desde o caso número 50',y='Casos acumulados',data=final_data[final_data['Países e territórios']=='Argentina'],label='Argentina')\n",
        "#sns.lineplot(x='Dias desde o caso número 50',y='Casos acumulados',data=final_data[final_data['Países e territórios']=='India'],label='Índia')\n",
        "#sns.lineplot(x='Dias desde o caso número 50',y='Casos acumulados',data=final_data[final_data['Países e territórios']=='Germany'],label='Alemanha')\n",
        "#sns.lineplot(x='Dias desde o caso número 50',y='Casos acumulados',data=final_data[final_data['Países e territórios']=='Czech_Republic'],label='República Tcheca',color=\"#660033\")\n",
        "#\n",
        "#\n",
        "#plt.grid(color='black', linestyle='--', linewidth=0.17)\n",
        "#\n",
        "#\n",
        "#plt.text(0,70000,texto,fontsize=10)\n",
        "#\n",
        "#plt.yticks([1000,1000,5000,10000,20000,30000,40000,50000,60000,70000,80000,90000,100000,110000,120000,130000,140000] )\n",
        "#plt.xticks(np.arange(0,46,2))\n",
        "#plt.title('COVID-19 - Casos confirmados - {} \\n Escala aritmética'.format(today))\n",
        "#\n",
        "#plt.savefig(\"plots/04_corona_grafico_art.png\")\n",
        "#plt.show()\n",
        "\n",
        "fig = px.line(final_data, x=\"Dias desde o caso número 50\", y=\"Casos acumulados\", title='COVID-19 - Casos confirmados - {} \\n Escala aritmética'.format(today),\n",
        "              color=final_data['Países e territórios'].values,color_discrete_sequence=[\"black\", \"blue\",'green',\"darkmagenta\",\"gray\",\"brown\",\"orange\",\"magenta\",'red',\"darkblue\",\"lightgreen\",'coral','lightblue'])\n",
        "fig.update_layout(legend= {'title':'País','borderwidth':0,'orientation':'v','yanchor':'top','font':{'size':8}})\n",
        "fig.show()\n",
        "#fig.write_html(\"plots/11_letalidade.html\")\n"
      ],
      "execution_count": 184,
      "outputs": [
        {
          "output_type": "display_data",
          "data": {
            "text/html": [
              "<html>\n",
              "<head><meta charset=\"utf-8\" /></head>\n",
              "<body>\n",
              "    <div>\n",
              "            <script src=\"https://cdnjs.cloudflare.com/ajax/libs/mathjax/2.7.5/MathJax.js?config=TeX-AMS-MML_SVG\"></script><script type=\"text/javascript\">if (window.MathJax) {MathJax.Hub.Config({SVG: {font: \"STIX-Web\"}});}</script>\n",
              "                <script type=\"text/javascript\">window.PlotlyConfig = {MathJaxConfig: 'local'};</script>\n",
              "        <script src=\"https://cdn.plot.ly/plotly-latest.min.js\"></script>    \n",
              "            <div id=\"276f8c66-f55b-4ff3-aa0b-a19b0953d894\" class=\"plotly-graph-div\" style=\"height:525px; width:100%;\"></div>\n",
              "            <script type=\"text/javascript\">\n",
              "                \n",
              "                    window.PLOTLYENV=window.PLOTLYENV || {};\n",
              "                    \n",
              "                if (document.getElementById(\"276f8c66-f55b-4ff3-aa0b-a19b0953d894\")) {\n",
              "                    Plotly.newPlot(\n",
              "                        '276f8c66-f55b-4ff3-aa0b-a19b0953d894',\n",
              "                        [{\"hovertemplate\": \"color=Brazil<br>Dias desde o caso n\\u00famero 50=%{x}<br>Casos acumulados=%{y}<extra></extra>\", \"legendgroup\": \"Brazil\", \"line\": {\"color\": \"black\", \"dash\": \"solid\"}, \"mode\": \"lines\", \"name\": \"Brazil\", \"showlegend\": true, \"type\": \"scatter\", \"x\": [0, 1, 2, 3, 4, 5, 6, 7, 8, 9, 10, 11, 12, 13, 14, 15, 16, 17, 18, 19, 20, 21], \"xaxis\": \"x\", \"y\": [52, 77, 98, 121, 200, 234, 291, 428, 621, 904, 1128, 1546, 1891, 2201, 2433, 2915, 3417, 3904, 4256, 4579, 5717, 6836], \"yaxis\": \"y\"}, {\"hovertemplate\": \"color=Italy<br>Dias desde o caso n\\u00famero 50=%{x}<br>Casos acumulados=%{y}<extra></extra>\", \"legendgroup\": \"Italy\", \"line\": {\"color\": \"blue\", \"dash\": \"solid\"}, \"mode\": \"lines\", \"name\": \"Italy\", \"showlegend\": true, \"type\": \"scatter\", \"x\": [0, 1, 2, 3, 4, 5, 6, 7, 8, 9, 10, 11, 12, 13, 14, 15, 16, 17, 18, 19, 20, 21, 22, 23, 24, 25, 26, 27, 28, 29, 30, 31, 32, 33, 34, 35, 36, 37, 38, 39], \"xaxis\": \"x\", \"y\": [79, 132, 229, 322, 400, 650, 888, 1128, 1689, 1835, 2502, 3089, 3858, 4636, 5883, 7375, 9172, 10149, 12462, 15113, 17660, 17750, 23980, 27980, 31506, 35713, 41035, 47021, 53578, 59138, 63927, 69176, 74386, 80539, 86498, 92472, 97689, 101739, 105792, 110574], \"yaxis\": \"y\"}, {\"hovertemplate\": \"color=Japan<br>Dias desde o caso n\\u00famero 50=%{x}<br>Casos acumulados=%{y}<extra></extra>\", \"legendgroup\": \"Japan\", \"line\": {\"color\": \"green\", \"dash\": \"solid\"}, \"mode\": \"lines\", \"name\": \"Japan\", \"showlegend\": true, \"type\": \"scatter\", \"x\": [0, 1, 2, 3, 4, 5, 6, 7, 8, 9, 10, 11, 12, 13, 14, 15, 16, 17, 18, 19, 20, 21, 22, 23, 24, 25, 26, 27, 28, 29, 30, 31, 32, 33, 34, 35, 36, 37, 38, 39, 40, 41, 42, 43, 44, 45, 46], \"xaxis\": \"x\", \"y\": [52, 59, 59, 66, 84, 93, 105, 132, 144, 144, 164, 186, 210, 230, 239, 254, 254, 268, 317, 349, 408, 455, 488, 514, 568, 619, 675, 737, 780, 814, 824, 829, 873, 950, 1007, 1046, 1089, 1128, 1193, 1268, 1364, 1499, 1693, 1866, 1953, 1953, 2178], \"yaxis\": \"y\"}, {\"hovertemplate\": \"color=United_Kingdom<br>Dias desde o caso n\\u00famero 50=%{x}<br>Casos acumulados=%{y}<extra></extra>\", \"legendgroup\": \"United_Kingdom\", \"line\": {\"color\": \"darkmagenta\", \"dash\": \"solid\"}, \"mode\": \"lines\", \"name\": \"United_Kingdom\", \"showlegend\": true, \"type\": \"scatter\", \"x\": [0, 1, 2, 3, 4, 5, 6, 7, 8, 9, 10, 11, 12, 13, 14, 15, 16, 17, 18, 19, 20, 21, 22, 23, 24, 25, 26, 27, 28, 29], \"xaxis\": \"x\", \"y\": [51, 85, 115, 163, 206, 273, 321, 373, 456, 590, 707, 1140, 1391, 1543, 1950, 2630, 3277, 3983, 5018, 5683, 6650, 8077, 9529, 11658, 14543, 17089, 19522, 22141, 25150, 29474], \"yaxis\": \"y\"}, {\"hovertemplate\": \"color=United_States_of_America<br>Dias desde o caso n\\u00famero 50=%{x}<br>Casos acumulados=%{y}<extra></extra>\", \"legendgroup\": \"United_States_of_America\", \"line\": {\"color\": \"gray\", \"dash\": \"solid\"}, \"mode\": \"lines\", \"name\": \"United_States_of_America\", \"showlegend\": true, \"type\": \"scatter\", \"x\": [0, 1, 2, 3, 4, 5, 6, 7, 8, 9, 10, 11, 12, 13, 14, 15, 16, 17, 18, 19, 20, 21, 22, 23, 24, 25, 26, 27, 28, 29, 30, 31, 32, 33, 34, 35, 36, 37], \"xaxis\": \"x\", \"y\": [53, 53, 59, 60, 66, 69, 89, 103, 125, 159, 233, 338, 433, 554, 754, 1025, 1312, 1663, 2174, 2951, 3774, 4661, 6427, 9415, 14250, 19624, 26747, 35206, 46442, 55231, 69194, 85991, 104686, 124665, 143025, 164620, 189618, 216721], \"yaxis\": \"y\"}, {\"hovertemplate\": \"color=France<br>Dias desde o caso n\\u00famero 50=%{x}<br>Casos acumulados=%{y}<extra></extra>\", \"legendgroup\": \"France\", \"line\": {\"color\": \"brown\", \"dash\": \"solid\"}, \"mode\": \"lines\", \"name\": \"France\", \"showlegend\": true, \"type\": \"scatter\", \"x\": [0, 1, 2, 3, 4, 5, 6, 7, 8, 9, 10, 11, 12, 13, 14, 15, 16, 17, 18, 19, 20, 21, 22, 23, 24, 25, 26, 27, 28, 29, 30, 31, 32, 33], \"xaxis\": \"x\", \"y\": [57, 100, 130, 178, 212, 285, 423, 613, 716, 1126, 1412, 1784, 2281, 2876, 3661, 4499, 5423, 6633, 7730, 9134, 10995, 12612, 14459, 16018, 19856, 22302, 25233, 29155, 32964, 37575, 40174, 44550, 52128, 56989], \"yaxis\": \"y\"}, {\"hovertemplate\": \"color=South_Korea<br>Dias desde o caso n\\u00famero 50=%{x}<br>Casos acumulados=%{y}<extra></extra>\", \"legendgroup\": \"South_Korea\", \"line\": {\"color\": \"orange\", \"dash\": \"solid\"}, \"mode\": \"lines\", \"name\": \"South_Korea\", \"showlegend\": true, \"type\": \"scatter\", \"x\": [0, 1, 2, 3, 4, 5, 6, 7, 8, 9, 10, 11, 12, 13, 14, 15, 16, 17, 18, 19, 20, 21, 22, 23, 24, 25, 26, 27, 28, 29, 30, 31, 32, 33, 34, 35, 36, 37, 38, 39, 40, 41, 42], \"xaxis\": \"x\", \"y\": [80, 155, 345, 601, 762, 892, 1146, 1595, 2022, 2931, 3526, 4212, 4812, 5328, 5766, 6284, 6767, 7134, 7382, 7513, 7755, 7869, 7979, 8086, 8162, 8236, 8320, 8413, 8565, 8652, 8799, 8897, 8961, 9037, 9137, 9241, 9332, 9478, 9583, 9661, 9786, 9786, 9976], \"yaxis\": \"y\"}, {\"hovertemplate\": \"color=Spain<br>Dias desde o caso n\\u00famero 50=%{x}<br>Casos acumulados=%{y}<extra></extra>\", \"legendgroup\": \"Spain\", \"line\": {\"color\": \"magenta\", \"dash\": \"solid\"}, \"mode\": \"lines\", \"name\": \"Spain\", \"showlegend\": true, \"type\": \"scatter\", \"x\": [0, 1, 2, 3, 4, 5, 6, 7, 8, 9, 10, 11, 12, 13, 14, 15, 16, 17, 18, 19, 20, 21, 22, 23, 24, 25, 26, 27, 28, 29, 30, 31, 32], \"xaxis\": \"x\", \"y\": [66, 83, 114, 151, 200, 261, 374, 430, 589, 1204, 1639, 2140, 3004, 4231, 5753, 7753, 9191, 11178, 13716, 17147, 19980, 24926, 28572, 33089, 39673, 47610, 56188, 64059, 72248, 78797, 85195, 94417, 102136], \"yaxis\": \"y\"}, {\"hovertemplate\": \"color=Argentina<br>Dias desde o caso n\\u00famero 50=%{x}<br>Casos acumulados=%{y}<extra></extra>\", \"legendgroup\": \"Argentina\", \"line\": {\"color\": \"red\", \"dash\": \"solid\"}, \"mode\": \"lines\", \"name\": \"Argentina\", \"showlegend\": true, \"type\": \"scatter\", \"x\": [0, 1, 2, 3, 4, 5, 6, 7, 8, 9, 10, 11, 12, 13, 14, 15, 16, 17], \"xaxis\": \"x\", \"y\": [56, 65, 79, 97, 128, 158, 225, 266, 301, 387, 502, 589, 690, 745, 820, 966, 966, 1133], \"yaxis\": \"y\"}, {\"hovertemplate\": \"color=India<br>Dias desde o caso n\\u00famero 50=%{x}<br>Casos acumulados=%{y}<extra></extra>\", \"legendgroup\": \"India\", \"line\": {\"color\": \"darkblue\", \"dash\": \"solid\"}, \"mode\": \"lines\", \"name\": \"India\", \"showlegend\": true, \"type\": \"scatter\", \"x\": [0, 1, 2, 3, 4, 5, 6, 7, 8, 9, 10, 11, 12, 13, 14, 15, 16, 17, 18, 19, 20, 21, 22], \"xaxis\": \"x\", \"y\": [50, 73, 75, 83, 90, 93, 125, 137, 165, 191, 231, 320, 439, 492, 562, 649, 724, 873, 979, 1071, 1251, 1397, 1965], \"yaxis\": \"y\"}, {\"hovertemplate\": \"color=Mexico<br>Dias desde o caso n\\u00famero 50=%{x}<br>Casos acumulados=%{y}<extra></extra>\", \"legendgroup\": \"Mexico\", \"line\": {\"color\": \"lightgreen\", \"dash\": \"solid\"}, \"mode\": \"lines\", \"name\": \"Mexico\", \"showlegend\": true, \"type\": \"scatter\", \"x\": [0, 1, 2, 3, 4, 5, 6, 7, 8, 9, 10, 11, 12, 13, 14, 15, 16, 17], \"xaxis\": \"x\", \"y\": [53, 82, 93, 118, 164, 203, 251, 316, 367, 405, 475, 585, 717, 848, 993, 1094, 1215, 1378], \"yaxis\": \"y\"}, {\"hovertemplate\": \"color=Germany<br>Dias desde o caso n\\u00famero 50=%{x}<br>Casos acumulados=%{y}<extra></extra>\", \"legendgroup\": \"Germany\", \"line\": {\"color\": \"coral\", \"dash\": \"solid\"}, \"mode\": \"lines\", \"name\": \"Germany\", \"showlegend\": true, \"type\": \"scatter\", \"x\": [0, 1, 2, 3, 4, 5, 6, 7, 8, 9, 10, 11, 12, 13, 14, 15, 16, 17, 18, 19, 20, 21, 22, 23, 24, 25, 26, 27, 28, 29, 30, 31, 32, 33], \"xaxis\": \"x\", \"y\": [57, 111, 129, 157, 196, 262, 400, 684, 847, 902, 1139, 1296, 1567, 2369, 3062, 3795, 4838, 6012, 7156, 8198, 14138, 18187, 21463, 24774, 29212, 31554, 36508, 42288, 48582, 52547, 57298, 61913, 67366, 73522], \"yaxis\": \"y\"}, {\"hovertemplate\": \"color=Czech_Republic<br>Dias desde o caso n\\u00famero 50=%{x}<br>Casos acumulados=%{y}<extra></extra>\", \"legendgroup\": \"Czech_Republic\", \"line\": {\"color\": \"lightblue\", \"dash\": \"solid\"}, \"mode\": \"lines\", \"name\": \"Czech_Republic\", \"showlegend\": true, \"type\": \"scatter\", \"x\": [0, 1, 2, 3, 4, 5, 6, 7, 8, 9, 10, 11, 12, 13, 14, 15, 16, 17, 18, 19, 20, 21, 22], \"xaxis\": \"x\", \"y\": [63, 94, 116, 150, 214, 298, 344, 434, 522, 694, 904, 995, 1165, 1236, 1394, 1654, 2062, 2279, 2663, 2829, 3002, 3308, 3589], \"yaxis\": \"y\"}, {\"hovertemplate\": \"color=China<br>Dias desde o caso n\\u00famero 50=%{x}<br>Casos acumulados=%{y}<extra></extra>\", \"legendgroup\": \"China\", \"line\": {\"color\": \"black\", \"dash\": \"solid\"}, \"mode\": \"lines\", \"name\": \"China\", \"showlegend\": true, \"type\": \"scatter\", \"x\": [0, 1, 2, 3, 4, 5, 6, 7, 8, 9, 10, 11, 12, 13, 14, 15, 16, 17, 18, 19, 20, 21, 22, 23, 24, 25, 26, 27, 28, 29, 30, 31, 32, 33, 34, 35, 36, 37, 38, 39, 40, 41, 42, 43, 44, 45, 46, 47, 48, 49, 50, 51, 52, 53, 54, 55, 56, 57, 58, 59, 60, 61, 62, 63, 64, 65, 66, 67, 68, 69, 70, 71, 72, 73, 74, 75, 76, 77, 78, 79, 80, 81, 82, 83, 84, 85, 86, 87, 88], \"xaxis\": \"x\", \"y\": [59, 59, 59, 59, 59, 59, 59, 59, 59, 59, 59, 59, 63, 80, 216, 235, 386, 526, 623, 882, 1323, 1988, 2775, 4528, 5994, 7734, 9714, 11809, 14399, 17211, 20448, 24320, 28047, 31207, 34625, 37232, 40206, 42696, 44724, 59865, 64021, 66559, 68566, 70618, 72508, 74258, 74652, 75543, 76369, 77016, 77234, 77749, 78159, 78598, 78927, 79355, 79929, 80134, 80261, 80380, 80497, 80667, 80768, 80814, 80859, 80879, 80908, 80932, 80954, 80973, 80995, 81020, 81063, 81086, 81130, 81229, 81281, 81346, 81484, 81553, 81631, 81733, 81827, 81946, 82059, 82157, 82241, 82295, 82395], \"yaxis\": \"y\"}],\n",
              "                        {\"legend\": {\"borderwidth\": 0, \"font\": {\"size\": 8}, \"orientation\": \"v\", \"title\": {\"text\": \"Pa\\u00eds\"}, \"tracegroupgap\": 0, \"yanchor\": \"top\"}, \"template\": {\"data\": {\"bar\": [{\"error_x\": {\"color\": \"#2a3f5f\"}, \"error_y\": {\"color\": \"#2a3f5f\"}, \"marker\": {\"line\": {\"color\": \"#E5ECF6\", \"width\": 0.5}}, \"type\": \"bar\"}], \"barpolar\": [{\"marker\": {\"line\": {\"color\": \"#E5ECF6\", \"width\": 0.5}}, \"type\": \"barpolar\"}], \"carpet\": [{\"aaxis\": {\"endlinecolor\": \"#2a3f5f\", \"gridcolor\": \"white\", \"linecolor\": \"white\", \"minorgridcolor\": \"white\", \"startlinecolor\": \"#2a3f5f\"}, \"baxis\": {\"endlinecolor\": \"#2a3f5f\", \"gridcolor\": \"white\", \"linecolor\": \"white\", \"minorgridcolor\": \"white\", \"startlinecolor\": \"#2a3f5f\"}, \"type\": \"carpet\"}], \"choropleth\": [{\"colorbar\": {\"outlinewidth\": 0, \"ticks\": \"\"}, \"type\": \"choropleth\"}], \"contour\": [{\"colorbar\": {\"outlinewidth\": 0, \"ticks\": \"\"}, \"colorscale\": [[0.0, \"#0d0887\"], [0.1111111111111111, \"#46039f\"], [0.2222222222222222, \"#7201a8\"], [0.3333333333333333, \"#9c179e\"], [0.4444444444444444, \"#bd3786\"], [0.5555555555555556, \"#d8576b\"], [0.6666666666666666, \"#ed7953\"], [0.7777777777777778, \"#fb9f3a\"], [0.8888888888888888, \"#fdca26\"], [1.0, \"#f0f921\"]], \"type\": \"contour\"}], \"contourcarpet\": [{\"colorbar\": {\"outlinewidth\": 0, \"ticks\": \"\"}, \"type\": \"contourcarpet\"}], \"heatmap\": [{\"colorbar\": {\"outlinewidth\": 0, \"ticks\": \"\"}, \"colorscale\": [[0.0, \"#0d0887\"], [0.1111111111111111, \"#46039f\"], [0.2222222222222222, \"#7201a8\"], [0.3333333333333333, \"#9c179e\"], [0.4444444444444444, \"#bd3786\"], [0.5555555555555556, \"#d8576b\"], [0.6666666666666666, \"#ed7953\"], [0.7777777777777778, \"#fb9f3a\"], [0.8888888888888888, \"#fdca26\"], [1.0, \"#f0f921\"]], \"type\": \"heatmap\"}], \"heatmapgl\": [{\"colorbar\": {\"outlinewidth\": 0, \"ticks\": \"\"}, \"colorscale\": [[0.0, \"#0d0887\"], [0.1111111111111111, \"#46039f\"], [0.2222222222222222, \"#7201a8\"], [0.3333333333333333, \"#9c179e\"], [0.4444444444444444, \"#bd3786\"], [0.5555555555555556, \"#d8576b\"], [0.6666666666666666, \"#ed7953\"], [0.7777777777777778, \"#fb9f3a\"], [0.8888888888888888, \"#fdca26\"], [1.0, \"#f0f921\"]], \"type\": \"heatmapgl\"}], \"histogram\": [{\"marker\": {\"colorbar\": {\"outlinewidth\": 0, \"ticks\": \"\"}}, \"type\": \"histogram\"}], \"histogram2d\": [{\"colorbar\": {\"outlinewidth\": 0, \"ticks\": \"\"}, \"colorscale\": [[0.0, \"#0d0887\"], [0.1111111111111111, \"#46039f\"], [0.2222222222222222, \"#7201a8\"], [0.3333333333333333, \"#9c179e\"], [0.4444444444444444, \"#bd3786\"], [0.5555555555555556, \"#d8576b\"], [0.6666666666666666, \"#ed7953\"], [0.7777777777777778, \"#fb9f3a\"], [0.8888888888888888, \"#fdca26\"], [1.0, \"#f0f921\"]], \"type\": \"histogram2d\"}], \"histogram2dcontour\": [{\"colorbar\": {\"outlinewidth\": 0, \"ticks\": \"\"}, \"colorscale\": [[0.0, \"#0d0887\"], [0.1111111111111111, \"#46039f\"], [0.2222222222222222, \"#7201a8\"], [0.3333333333333333, \"#9c179e\"], [0.4444444444444444, \"#bd3786\"], [0.5555555555555556, \"#d8576b\"], [0.6666666666666666, \"#ed7953\"], [0.7777777777777778, \"#fb9f3a\"], [0.8888888888888888, \"#fdca26\"], [1.0, \"#f0f921\"]], \"type\": \"histogram2dcontour\"}], \"mesh3d\": [{\"colorbar\": {\"outlinewidth\": 0, \"ticks\": \"\"}, \"type\": \"mesh3d\"}], \"parcoords\": [{\"line\": {\"colorbar\": {\"outlinewidth\": 0, \"ticks\": \"\"}}, \"type\": \"parcoords\"}], \"pie\": [{\"automargin\": true, \"type\": \"pie\"}], \"scatter\": [{\"marker\": {\"colorbar\": {\"outlinewidth\": 0, \"ticks\": \"\"}}, \"type\": \"scatter\"}], \"scatter3d\": [{\"line\": {\"colorbar\": {\"outlinewidth\": 0, \"ticks\": \"\"}}, \"marker\": {\"colorbar\": {\"outlinewidth\": 0, \"ticks\": \"\"}}, \"type\": \"scatter3d\"}], \"scattercarpet\": [{\"marker\": {\"colorbar\": {\"outlinewidth\": 0, \"ticks\": \"\"}}, \"type\": \"scattercarpet\"}], \"scattergeo\": [{\"marker\": {\"colorbar\": {\"outlinewidth\": 0, \"ticks\": \"\"}}, \"type\": \"scattergeo\"}], \"scattergl\": [{\"marker\": {\"colorbar\": {\"outlinewidth\": 0, \"ticks\": \"\"}}, \"type\": \"scattergl\"}], \"scattermapbox\": [{\"marker\": {\"colorbar\": {\"outlinewidth\": 0, \"ticks\": \"\"}}, \"type\": \"scattermapbox\"}], \"scatterpolar\": [{\"marker\": {\"colorbar\": {\"outlinewidth\": 0, \"ticks\": \"\"}}, \"type\": \"scatterpolar\"}], \"scatterpolargl\": [{\"marker\": {\"colorbar\": {\"outlinewidth\": 0, \"ticks\": \"\"}}, \"type\": \"scatterpolargl\"}], \"scatterternary\": [{\"marker\": {\"colorbar\": {\"outlinewidth\": 0, \"ticks\": \"\"}}, \"type\": \"scatterternary\"}], \"surface\": [{\"colorbar\": {\"outlinewidth\": 0, \"ticks\": \"\"}, \"colorscale\": [[0.0, \"#0d0887\"], [0.1111111111111111, \"#46039f\"], [0.2222222222222222, \"#7201a8\"], [0.3333333333333333, \"#9c179e\"], [0.4444444444444444, \"#bd3786\"], [0.5555555555555556, \"#d8576b\"], [0.6666666666666666, \"#ed7953\"], [0.7777777777777778, \"#fb9f3a\"], [0.8888888888888888, \"#fdca26\"], [1.0, \"#f0f921\"]], \"type\": \"surface\"}], \"table\": [{\"cells\": {\"fill\": {\"color\": \"#EBF0F8\"}, \"line\": {\"color\": \"white\"}}, \"header\": {\"fill\": {\"color\": \"#C8D4E3\"}, \"line\": {\"color\": \"white\"}}, \"type\": \"table\"}]}, \"layout\": {\"annotationdefaults\": {\"arrowcolor\": \"#2a3f5f\", \"arrowhead\": 0, \"arrowwidth\": 1}, \"coloraxis\": {\"colorbar\": {\"outlinewidth\": 0, \"ticks\": \"\"}}, \"colorscale\": {\"diverging\": [[0, \"#8e0152\"], [0.1, \"#c51b7d\"], [0.2, \"#de77ae\"], [0.3, \"#f1b6da\"], [0.4, \"#fde0ef\"], [0.5, \"#f7f7f7\"], [0.6, \"#e6f5d0\"], [0.7, \"#b8e186\"], [0.8, \"#7fbc41\"], [0.9, \"#4d9221\"], [1, \"#276419\"]], \"sequential\": [[0.0, \"#0d0887\"], [0.1111111111111111, \"#46039f\"], [0.2222222222222222, \"#7201a8\"], [0.3333333333333333, \"#9c179e\"], [0.4444444444444444, \"#bd3786\"], [0.5555555555555556, \"#d8576b\"], [0.6666666666666666, \"#ed7953\"], [0.7777777777777778, \"#fb9f3a\"], [0.8888888888888888, \"#fdca26\"], [1.0, \"#f0f921\"]], \"sequentialminus\": [[0.0, \"#0d0887\"], [0.1111111111111111, \"#46039f\"], [0.2222222222222222, \"#7201a8\"], [0.3333333333333333, \"#9c179e\"], [0.4444444444444444, \"#bd3786\"], [0.5555555555555556, \"#d8576b\"], [0.6666666666666666, \"#ed7953\"], [0.7777777777777778, \"#fb9f3a\"], [0.8888888888888888, \"#fdca26\"], [1.0, \"#f0f921\"]]}, \"colorway\": [\"#636efa\", \"#EF553B\", \"#00cc96\", \"#ab63fa\", \"#FFA15A\", \"#19d3f3\", \"#FF6692\", \"#B6E880\", \"#FF97FF\", \"#FECB52\"], \"font\": {\"color\": \"#2a3f5f\"}, \"geo\": {\"bgcolor\": \"white\", \"lakecolor\": \"white\", \"landcolor\": \"#E5ECF6\", \"showlakes\": true, \"showland\": true, \"subunitcolor\": \"white\"}, \"hoverlabel\": {\"align\": \"left\"}, \"hovermode\": \"closest\", \"mapbox\": {\"style\": \"light\"}, \"paper_bgcolor\": \"white\", \"plot_bgcolor\": \"#E5ECF6\", \"polar\": {\"angularaxis\": {\"gridcolor\": \"white\", \"linecolor\": \"white\", \"ticks\": \"\"}, \"bgcolor\": \"#E5ECF6\", \"radialaxis\": {\"gridcolor\": \"white\", \"linecolor\": \"white\", \"ticks\": \"\"}}, \"scene\": {\"xaxis\": {\"backgroundcolor\": \"#E5ECF6\", \"gridcolor\": \"white\", \"gridwidth\": 2, \"linecolor\": \"white\", \"showbackground\": true, \"ticks\": \"\", \"zerolinecolor\": \"white\"}, \"yaxis\": {\"backgroundcolor\": \"#E5ECF6\", \"gridcolor\": \"white\", \"gridwidth\": 2, \"linecolor\": \"white\", \"showbackground\": true, \"ticks\": \"\", \"zerolinecolor\": \"white\"}, \"zaxis\": {\"backgroundcolor\": \"#E5ECF6\", \"gridcolor\": \"white\", \"gridwidth\": 2, \"linecolor\": \"white\", \"showbackground\": true, \"ticks\": \"\", \"zerolinecolor\": \"white\"}}, \"shapedefaults\": {\"line\": {\"color\": \"#2a3f5f\"}}, \"ternary\": {\"aaxis\": {\"gridcolor\": \"white\", \"linecolor\": \"white\", \"ticks\": \"\"}, \"baxis\": {\"gridcolor\": \"white\", \"linecolor\": \"white\", \"ticks\": \"\"}, \"bgcolor\": \"#E5ECF6\", \"caxis\": {\"gridcolor\": \"white\", \"linecolor\": \"white\", \"ticks\": \"\"}}, \"title\": {\"x\": 0.05}, \"xaxis\": {\"automargin\": true, \"gridcolor\": \"white\", \"linecolor\": \"white\", \"ticks\": \"\", \"title\": {\"standoff\": 15}, \"zerolinecolor\": \"white\", \"zerolinewidth\": 2}, \"yaxis\": {\"automargin\": true, \"gridcolor\": \"white\", \"linecolor\": \"white\", \"ticks\": \"\", \"title\": {\"standoff\": 15}, \"zerolinecolor\": \"white\", \"zerolinewidth\": 2}}}, \"title\": {\"text\": \"COVID-19 - Casos confirmados - 02-04-2020 \\n Escala aritm\\u00e9tica\"}, \"xaxis\": {\"anchor\": \"y\", \"domain\": [0.0, 1.0], \"title\": {\"text\": \"Dias desde o caso n\\u00famero 50\"}}, \"yaxis\": {\"anchor\": \"x\", \"domain\": [0.0, 1.0], \"title\": {\"text\": \"Casos acumulados\"}}},\n",
              "                        {\"responsive\": true}\n",
              "                    ).then(function(){\n",
              "                            \n",
              "var gd = document.getElementById('276f8c66-f55b-4ff3-aa0b-a19b0953d894');\n",
              "var x = new MutationObserver(function (mutations, observer) {{\n",
              "        var display = window.getComputedStyle(gd).display;\n",
              "        if (!display || display === 'none') {{\n",
              "            console.log([gd, 'removed!']);\n",
              "            Plotly.purge(gd);\n",
              "            observer.disconnect();\n",
              "        }}\n",
              "}});\n",
              "\n",
              "// Listen for the removal of the full notebook cells\n",
              "var notebookContainer = gd.closest('#notebook-container');\n",
              "if (notebookContainer) {{\n",
              "    x.observe(notebookContainer, {childList: true});\n",
              "}}\n",
              "\n",
              "// Listen for the clearing of the current output cell\n",
              "var outputEl = gd.closest('.output');\n",
              "if (outputEl) {{\n",
              "    x.observe(outputEl, {childList: true});\n",
              "}}\n",
              "\n",
              "                        })\n",
              "                };\n",
              "                \n",
              "            </script>\n",
              "        </div>\n",
              "</body>\n",
              "</html>"
            ]
          },
          "metadata": {
            "tags": []
          }
        }
      ]
    },
    {
      "cell_type": "code",
      "metadata": {
        "id": "l6WD0lo2wmJo",
        "colab_type": "code",
        "colab": {}
      },
      "source": [
        "#hide\n",
        "#import plotly.graph_objects as go\n",
        "#fig = go.Figure(\n",
        "#    data=[go.Line(x=[, y=[1, 3, 2])],\n",
        "#    layout=go.Layout(\n",
        "#        title=go.layout.Title(text=\"A Bar Chart\")\n",
        "#    )\n",
        "#)\n",
        "#fig.show()"
      ],
      "execution_count": 0,
      "outputs": []
    },
    {
      "cell_type": "code",
      "metadata": {
        "colab_type": "code",
        "id": "cYkkCCpLYM1J",
        "outputId": "67003e45-7dd7-4013-a39a-b6f5789dd91c",
        "colab": {
          "base_uri": "https://localhost:8080/",
          "height": 542
        }
      },
      "source": [
        "#hide_input\n",
        "#plt.figure(figsize=(6.5,8))\n",
        "#\n",
        "#sns.lineplot(x='Dias desde o caso número 50',y='Casos acumulados',data=final_data[final_data['Países e territórios']=='Brazil'],color='black',linewidth=6,label='Brasil')\n",
        "#sns.lineplot(x='Dias desde o caso número 50',y='Casos acumulados',data=final_data[final_data['Países e territórios']=='Italy'],label='Itália',)\n",
        "#sns.lineplot(x='Dias desde o caso número 50',y='Casos acumulados',data=final_data[final_data['Países e territórios']=='United_States_of_America'],label='Estados Unidos')\n",
        "#sns.lineplot(x='Dias desde o caso número 50',y='Casos acumulados',data=final_data[final_data['Países e territórios']=='United_Kingdom'],label='Reino Unido')\n",
        "#sns.lineplot(x='Dias desde o caso número 50',y='Casos acumulados',data=final_data[final_data['Países e territórios']=='South_Korea'],label= \"Coréia do Sul\")\n",
        "#sns.lineplot(x='Dias desde o caso número 50',y='Casos acumulados',data=final_data[final_data['Países e territórios']=='France'],label='França')\n",
        "#sns.lineplot(x='Dias desde o caso número 50',y='Casos acumulados',data=final_data[final_data['Países e territórios']=='Japan'],label='Japão')\n",
        "#sns.lineplot(x='Dias desde o caso número 50',y='Casos acumulados',data=final_data[final_data['Países e territórios']=='Spain'],label='Espanha')\n",
        "#sns.lineplot(x='Dias desde o caso número 50',y='Casos acumulados',data=final_data[final_data['Países e territórios']=='Argentina'],label='Argentina')\n",
        "#sns.lineplot(x='Dias desde o caso número 50',y='Casos acumulados',data=final_data[final_data['Países e territórios']=='India'],label='Índia')\n",
        "#sns.lineplot(x='Dias desde o caso número 50',y='Casos acumulados',data=final_data[final_data['Países e territórios']=='Germany'],label='Alemanha')\n",
        "#sns.lineplot(x='Dias desde o caso número 50',y='Casos acumulados',data=final_data[final_data['Países e territórios']=='Czech_Republic'],label='República Tcheca',color=\"#660033\")\n",
        "#\n",
        "#\n",
        "#plt.grid(color='black', linestyle='--', linewidth=0.17)\n",
        "#plt.yscale('log')\n",
        "#\n",
        "#\n",
        "#plt.yticks([100,300,500,1000,5000,10000,20000,30000,40000] )\n",
        "#plt.xticks(np.arange(0,46,2))\n",
        "#plt.title('COVID-19 - Casos totais confirmados - {} \\n Escala Logarítmica'.format(today))\n",
        "#plt.text(0,60000,texto,fontsize=10)\n",
        "#\n",
        "#plt.savefig(\"plots/03_corona_grafico.png\")\n",
        "#plt.show()\n",
        "\n",
        "\n",
        "fig = px.line(final_data, x=\"Dias desde o caso número 50\", y=\"Casos acumulados\", title='COVID-19 - Casos totais confirmados - {} \\n Escala Logarítmica'.format(today),\n",
        "              color='Países e territórios',color_discrete_sequence=[\"black\", \"blue\",'green',\"darkmagenta\",\"gray\",\"brown\",\"orange\",\"magenta\",'red',\"darkblue\",\"lightgreen\",'coral','lightblue'])\n",
        "fig.update_layout(legend= {'title':'País','borderwidth':0,'orientation':'v','yanchor':'top','font':{'size':8}})\n",
        "\n",
        "fig.update_layout( yaxis_type=\"log\")\n",
        "fig.show()"
      ],
      "execution_count": 186,
      "outputs": [
        {
          "output_type": "display_data",
          "data": {
            "text/html": [
              "<html>\n",
              "<head><meta charset=\"utf-8\" /></head>\n",
              "<body>\n",
              "    <div>\n",
              "            <script src=\"https://cdnjs.cloudflare.com/ajax/libs/mathjax/2.7.5/MathJax.js?config=TeX-AMS-MML_SVG\"></script><script type=\"text/javascript\">if (window.MathJax) {MathJax.Hub.Config({SVG: {font: \"STIX-Web\"}});}</script>\n",
              "                <script type=\"text/javascript\">window.PlotlyConfig = {MathJaxConfig: 'local'};</script>\n",
              "        <script src=\"https://cdn.plot.ly/plotly-latest.min.js\"></script>    \n",
              "            <div id=\"f5046097-25ef-4f26-bba2-bd2d88bce07b\" class=\"plotly-graph-div\" style=\"height:525px; width:100%;\"></div>\n",
              "            <script type=\"text/javascript\">\n",
              "                \n",
              "                    window.PLOTLYENV=window.PLOTLYENV || {};\n",
              "                    \n",
              "                if (document.getElementById(\"f5046097-25ef-4f26-bba2-bd2d88bce07b\")) {\n",
              "                    Plotly.newPlot(\n",
              "                        'f5046097-25ef-4f26-bba2-bd2d88bce07b',\n",
              "                        [{\"hovertemplate\": \"Pa\\u00edses e territ\\u00f3rios=Brazil<br>Dias desde o caso n\\u00famero 50=%{x}<br>Casos acumulados=%{y}<extra></extra>\", \"legendgroup\": \"Brazil\", \"line\": {\"color\": \"black\", \"dash\": \"solid\"}, \"mode\": \"lines\", \"name\": \"Brazil\", \"showlegend\": true, \"type\": \"scatter\", \"x\": [0, 1, 2, 3, 4, 5, 6, 7, 8, 9, 10, 11, 12, 13, 14, 15, 16, 17, 18, 19, 20, 21], \"xaxis\": \"x\", \"y\": [52, 77, 98, 121, 200, 234, 291, 428, 621, 904, 1128, 1546, 1891, 2201, 2433, 2915, 3417, 3904, 4256, 4579, 5717, 6836], \"yaxis\": \"y\"}, {\"hovertemplate\": \"Pa\\u00edses e territ\\u00f3rios=Italy<br>Dias desde o caso n\\u00famero 50=%{x}<br>Casos acumulados=%{y}<extra></extra>\", \"legendgroup\": \"Italy\", \"line\": {\"color\": \"blue\", \"dash\": \"solid\"}, \"mode\": \"lines\", \"name\": \"Italy\", \"showlegend\": true, \"type\": \"scatter\", \"x\": [0, 1, 2, 3, 4, 5, 6, 7, 8, 9, 10, 11, 12, 13, 14, 15, 16, 17, 18, 19, 20, 21, 22, 23, 24, 25, 26, 27, 28, 29, 30, 31, 32, 33, 34, 35, 36, 37, 38, 39], \"xaxis\": \"x\", \"y\": [79, 132, 229, 322, 400, 650, 888, 1128, 1689, 1835, 2502, 3089, 3858, 4636, 5883, 7375, 9172, 10149, 12462, 15113, 17660, 17750, 23980, 27980, 31506, 35713, 41035, 47021, 53578, 59138, 63927, 69176, 74386, 80539, 86498, 92472, 97689, 101739, 105792, 110574], \"yaxis\": \"y\"}, {\"hovertemplate\": \"Pa\\u00edses e territ\\u00f3rios=Japan<br>Dias desde o caso n\\u00famero 50=%{x}<br>Casos acumulados=%{y}<extra></extra>\", \"legendgroup\": \"Japan\", \"line\": {\"color\": \"green\", \"dash\": \"solid\"}, \"mode\": \"lines\", \"name\": \"Japan\", \"showlegend\": true, \"type\": \"scatter\", \"x\": [0, 1, 2, 3, 4, 5, 6, 7, 8, 9, 10, 11, 12, 13, 14, 15, 16, 17, 18, 19, 20, 21, 22, 23, 24, 25, 26, 27, 28, 29, 30, 31, 32, 33, 34, 35, 36, 37, 38, 39, 40, 41, 42, 43, 44, 45, 46], \"xaxis\": \"x\", \"y\": [52, 59, 59, 66, 84, 93, 105, 132, 144, 144, 164, 186, 210, 230, 239, 254, 254, 268, 317, 349, 408, 455, 488, 514, 568, 619, 675, 737, 780, 814, 824, 829, 873, 950, 1007, 1046, 1089, 1128, 1193, 1268, 1364, 1499, 1693, 1866, 1953, 1953, 2178], \"yaxis\": \"y\"}, {\"hovertemplate\": \"Pa\\u00edses e territ\\u00f3rios=United_Kingdom<br>Dias desde o caso n\\u00famero 50=%{x}<br>Casos acumulados=%{y}<extra></extra>\", \"legendgroup\": \"United_Kingdom\", \"line\": {\"color\": \"darkmagenta\", \"dash\": \"solid\"}, \"mode\": \"lines\", \"name\": \"United_Kingdom\", \"showlegend\": true, \"type\": \"scatter\", \"x\": [0, 1, 2, 3, 4, 5, 6, 7, 8, 9, 10, 11, 12, 13, 14, 15, 16, 17, 18, 19, 20, 21, 22, 23, 24, 25, 26, 27, 28, 29], \"xaxis\": \"x\", \"y\": [51, 85, 115, 163, 206, 273, 321, 373, 456, 590, 707, 1140, 1391, 1543, 1950, 2630, 3277, 3983, 5018, 5683, 6650, 8077, 9529, 11658, 14543, 17089, 19522, 22141, 25150, 29474], \"yaxis\": \"y\"}, {\"hovertemplate\": \"Pa\\u00edses e territ\\u00f3rios=United_States_of_America<br>Dias desde o caso n\\u00famero 50=%{x}<br>Casos acumulados=%{y}<extra></extra>\", \"legendgroup\": \"United_States_of_America\", \"line\": {\"color\": \"gray\", \"dash\": \"solid\"}, \"mode\": \"lines\", \"name\": \"United_States_of_America\", \"showlegend\": true, \"type\": \"scatter\", \"x\": [0, 1, 2, 3, 4, 5, 6, 7, 8, 9, 10, 11, 12, 13, 14, 15, 16, 17, 18, 19, 20, 21, 22, 23, 24, 25, 26, 27, 28, 29, 30, 31, 32, 33, 34, 35, 36, 37], \"xaxis\": \"x\", \"y\": [53, 53, 59, 60, 66, 69, 89, 103, 125, 159, 233, 338, 433, 554, 754, 1025, 1312, 1663, 2174, 2951, 3774, 4661, 6427, 9415, 14250, 19624, 26747, 35206, 46442, 55231, 69194, 85991, 104686, 124665, 143025, 164620, 189618, 216721], \"yaxis\": \"y\"}, {\"hovertemplate\": \"Pa\\u00edses e territ\\u00f3rios=France<br>Dias desde o caso n\\u00famero 50=%{x}<br>Casos acumulados=%{y}<extra></extra>\", \"legendgroup\": \"France\", \"line\": {\"color\": \"brown\", \"dash\": \"solid\"}, \"mode\": \"lines\", \"name\": \"France\", \"showlegend\": true, \"type\": \"scatter\", \"x\": [0, 1, 2, 3, 4, 5, 6, 7, 8, 9, 10, 11, 12, 13, 14, 15, 16, 17, 18, 19, 20, 21, 22, 23, 24, 25, 26, 27, 28, 29, 30, 31, 32, 33], \"xaxis\": \"x\", \"y\": [57, 100, 130, 178, 212, 285, 423, 613, 716, 1126, 1412, 1784, 2281, 2876, 3661, 4499, 5423, 6633, 7730, 9134, 10995, 12612, 14459, 16018, 19856, 22302, 25233, 29155, 32964, 37575, 40174, 44550, 52128, 56989], \"yaxis\": \"y\"}, {\"hovertemplate\": \"Pa\\u00edses e territ\\u00f3rios=South_Korea<br>Dias desde o caso n\\u00famero 50=%{x}<br>Casos acumulados=%{y}<extra></extra>\", \"legendgroup\": \"South_Korea\", \"line\": {\"color\": \"orange\", \"dash\": \"solid\"}, \"mode\": \"lines\", \"name\": \"South_Korea\", \"showlegend\": true, \"type\": \"scatter\", \"x\": [0, 1, 2, 3, 4, 5, 6, 7, 8, 9, 10, 11, 12, 13, 14, 15, 16, 17, 18, 19, 20, 21, 22, 23, 24, 25, 26, 27, 28, 29, 30, 31, 32, 33, 34, 35, 36, 37, 38, 39, 40, 41, 42], \"xaxis\": \"x\", \"y\": [80, 155, 345, 601, 762, 892, 1146, 1595, 2022, 2931, 3526, 4212, 4812, 5328, 5766, 6284, 6767, 7134, 7382, 7513, 7755, 7869, 7979, 8086, 8162, 8236, 8320, 8413, 8565, 8652, 8799, 8897, 8961, 9037, 9137, 9241, 9332, 9478, 9583, 9661, 9786, 9786, 9976], \"yaxis\": \"y\"}, {\"hovertemplate\": \"Pa\\u00edses e territ\\u00f3rios=Spain<br>Dias desde o caso n\\u00famero 50=%{x}<br>Casos acumulados=%{y}<extra></extra>\", \"legendgroup\": \"Spain\", \"line\": {\"color\": \"magenta\", \"dash\": \"solid\"}, \"mode\": \"lines\", \"name\": \"Spain\", \"showlegend\": true, \"type\": \"scatter\", \"x\": [0, 1, 2, 3, 4, 5, 6, 7, 8, 9, 10, 11, 12, 13, 14, 15, 16, 17, 18, 19, 20, 21, 22, 23, 24, 25, 26, 27, 28, 29, 30, 31, 32], \"xaxis\": \"x\", \"y\": [66, 83, 114, 151, 200, 261, 374, 430, 589, 1204, 1639, 2140, 3004, 4231, 5753, 7753, 9191, 11178, 13716, 17147, 19980, 24926, 28572, 33089, 39673, 47610, 56188, 64059, 72248, 78797, 85195, 94417, 102136], \"yaxis\": \"y\"}, {\"hovertemplate\": \"Pa\\u00edses e territ\\u00f3rios=Argentina<br>Dias desde o caso n\\u00famero 50=%{x}<br>Casos acumulados=%{y}<extra></extra>\", \"legendgroup\": \"Argentina\", \"line\": {\"color\": \"red\", \"dash\": \"solid\"}, \"mode\": \"lines\", \"name\": \"Argentina\", \"showlegend\": true, \"type\": \"scatter\", \"x\": [0, 1, 2, 3, 4, 5, 6, 7, 8, 9, 10, 11, 12, 13, 14, 15, 16, 17], \"xaxis\": \"x\", \"y\": [56, 65, 79, 97, 128, 158, 225, 266, 301, 387, 502, 589, 690, 745, 820, 966, 966, 1133], \"yaxis\": \"y\"}, {\"hovertemplate\": \"Pa\\u00edses e territ\\u00f3rios=India<br>Dias desde o caso n\\u00famero 50=%{x}<br>Casos acumulados=%{y}<extra></extra>\", \"legendgroup\": \"India\", \"line\": {\"color\": \"darkblue\", \"dash\": \"solid\"}, \"mode\": \"lines\", \"name\": \"India\", \"showlegend\": true, \"type\": \"scatter\", \"x\": [0, 1, 2, 3, 4, 5, 6, 7, 8, 9, 10, 11, 12, 13, 14, 15, 16, 17, 18, 19, 20, 21, 22], \"xaxis\": \"x\", \"y\": [50, 73, 75, 83, 90, 93, 125, 137, 165, 191, 231, 320, 439, 492, 562, 649, 724, 873, 979, 1071, 1251, 1397, 1965], \"yaxis\": \"y\"}, {\"hovertemplate\": \"Pa\\u00edses e territ\\u00f3rios=Mexico<br>Dias desde o caso n\\u00famero 50=%{x}<br>Casos acumulados=%{y}<extra></extra>\", \"legendgroup\": \"Mexico\", \"line\": {\"color\": \"lightgreen\", \"dash\": \"solid\"}, \"mode\": \"lines\", \"name\": \"Mexico\", \"showlegend\": true, \"type\": \"scatter\", \"x\": [0, 1, 2, 3, 4, 5, 6, 7, 8, 9, 10, 11, 12, 13, 14, 15, 16, 17], \"xaxis\": \"x\", \"y\": [53, 82, 93, 118, 164, 203, 251, 316, 367, 405, 475, 585, 717, 848, 993, 1094, 1215, 1378], \"yaxis\": \"y\"}, {\"hovertemplate\": \"Pa\\u00edses e territ\\u00f3rios=Germany<br>Dias desde o caso n\\u00famero 50=%{x}<br>Casos acumulados=%{y}<extra></extra>\", \"legendgroup\": \"Germany\", \"line\": {\"color\": \"coral\", \"dash\": \"solid\"}, \"mode\": \"lines\", \"name\": \"Germany\", \"showlegend\": true, \"type\": \"scatter\", \"x\": [0, 1, 2, 3, 4, 5, 6, 7, 8, 9, 10, 11, 12, 13, 14, 15, 16, 17, 18, 19, 20, 21, 22, 23, 24, 25, 26, 27, 28, 29, 30, 31, 32, 33], \"xaxis\": \"x\", \"y\": [57, 111, 129, 157, 196, 262, 400, 684, 847, 902, 1139, 1296, 1567, 2369, 3062, 3795, 4838, 6012, 7156, 8198, 14138, 18187, 21463, 24774, 29212, 31554, 36508, 42288, 48582, 52547, 57298, 61913, 67366, 73522], \"yaxis\": \"y\"}, {\"hovertemplate\": \"Pa\\u00edses e territ\\u00f3rios=Czech_Republic<br>Dias desde o caso n\\u00famero 50=%{x}<br>Casos acumulados=%{y}<extra></extra>\", \"legendgroup\": \"Czech_Republic\", \"line\": {\"color\": \"lightblue\", \"dash\": \"solid\"}, \"mode\": \"lines\", \"name\": \"Czech_Republic\", \"showlegend\": true, \"type\": \"scatter\", \"x\": [0, 1, 2, 3, 4, 5, 6, 7, 8, 9, 10, 11, 12, 13, 14, 15, 16, 17, 18, 19, 20, 21, 22], \"xaxis\": \"x\", \"y\": [63, 94, 116, 150, 214, 298, 344, 434, 522, 694, 904, 995, 1165, 1236, 1394, 1654, 2062, 2279, 2663, 2829, 3002, 3308, 3589], \"yaxis\": \"y\"}, {\"hovertemplate\": \"Pa\\u00edses e territ\\u00f3rios=China<br>Dias desde o caso n\\u00famero 50=%{x}<br>Casos acumulados=%{y}<extra></extra>\", \"legendgroup\": \"China\", \"line\": {\"color\": \"black\", \"dash\": \"solid\"}, \"mode\": \"lines\", \"name\": \"China\", \"showlegend\": true, \"type\": \"scatter\", \"x\": [0, 1, 2, 3, 4, 5, 6, 7, 8, 9, 10, 11, 12, 13, 14, 15, 16, 17, 18, 19, 20, 21, 22, 23, 24, 25, 26, 27, 28, 29, 30, 31, 32, 33, 34, 35, 36, 37, 38, 39, 40, 41, 42, 43, 44, 45, 46, 47, 48, 49, 50, 51, 52, 53, 54, 55, 56, 57, 58, 59, 60, 61, 62, 63, 64, 65, 66, 67, 68, 69, 70, 71, 72, 73, 74, 75, 76, 77, 78, 79, 80, 81, 82, 83, 84, 85, 86, 87, 88], \"xaxis\": \"x\", \"y\": [59, 59, 59, 59, 59, 59, 59, 59, 59, 59, 59, 59, 63, 80, 216, 235, 386, 526, 623, 882, 1323, 1988, 2775, 4528, 5994, 7734, 9714, 11809, 14399, 17211, 20448, 24320, 28047, 31207, 34625, 37232, 40206, 42696, 44724, 59865, 64021, 66559, 68566, 70618, 72508, 74258, 74652, 75543, 76369, 77016, 77234, 77749, 78159, 78598, 78927, 79355, 79929, 80134, 80261, 80380, 80497, 80667, 80768, 80814, 80859, 80879, 80908, 80932, 80954, 80973, 80995, 81020, 81063, 81086, 81130, 81229, 81281, 81346, 81484, 81553, 81631, 81733, 81827, 81946, 82059, 82157, 82241, 82295, 82395], \"yaxis\": \"y\"}],\n",
              "                        {\"legend\": {\"borderwidth\": 0, \"font\": {\"size\": 8}, \"orientation\": \"v\", \"title\": {\"text\": \"Pa\\u00eds\"}, \"tracegroupgap\": 0, \"yanchor\": \"top\"}, \"template\": {\"data\": {\"bar\": [{\"error_x\": {\"color\": \"#2a3f5f\"}, \"error_y\": {\"color\": \"#2a3f5f\"}, \"marker\": {\"line\": {\"color\": \"#E5ECF6\", \"width\": 0.5}}, \"type\": \"bar\"}], \"barpolar\": [{\"marker\": {\"line\": {\"color\": \"#E5ECF6\", \"width\": 0.5}}, \"type\": \"barpolar\"}], \"carpet\": [{\"aaxis\": {\"endlinecolor\": \"#2a3f5f\", \"gridcolor\": \"white\", \"linecolor\": \"white\", \"minorgridcolor\": \"white\", \"startlinecolor\": \"#2a3f5f\"}, \"baxis\": {\"endlinecolor\": \"#2a3f5f\", \"gridcolor\": \"white\", \"linecolor\": \"white\", \"minorgridcolor\": \"white\", \"startlinecolor\": \"#2a3f5f\"}, \"type\": \"carpet\"}], \"choropleth\": [{\"colorbar\": {\"outlinewidth\": 0, \"ticks\": \"\"}, \"type\": \"choropleth\"}], \"contour\": [{\"colorbar\": {\"outlinewidth\": 0, \"ticks\": \"\"}, \"colorscale\": [[0.0, \"#0d0887\"], [0.1111111111111111, \"#46039f\"], [0.2222222222222222, \"#7201a8\"], [0.3333333333333333, \"#9c179e\"], [0.4444444444444444, \"#bd3786\"], [0.5555555555555556, \"#d8576b\"], [0.6666666666666666, \"#ed7953\"], [0.7777777777777778, \"#fb9f3a\"], [0.8888888888888888, \"#fdca26\"], [1.0, \"#f0f921\"]], \"type\": \"contour\"}], \"contourcarpet\": [{\"colorbar\": {\"outlinewidth\": 0, \"ticks\": \"\"}, \"type\": \"contourcarpet\"}], \"heatmap\": [{\"colorbar\": {\"outlinewidth\": 0, \"ticks\": \"\"}, \"colorscale\": [[0.0, \"#0d0887\"], [0.1111111111111111, \"#46039f\"], [0.2222222222222222, \"#7201a8\"], [0.3333333333333333, \"#9c179e\"], [0.4444444444444444, \"#bd3786\"], [0.5555555555555556, \"#d8576b\"], [0.6666666666666666, \"#ed7953\"], [0.7777777777777778, \"#fb9f3a\"], [0.8888888888888888, \"#fdca26\"], [1.0, \"#f0f921\"]], \"type\": \"heatmap\"}], \"heatmapgl\": [{\"colorbar\": {\"outlinewidth\": 0, \"ticks\": \"\"}, \"colorscale\": [[0.0, \"#0d0887\"], [0.1111111111111111, \"#46039f\"], [0.2222222222222222, \"#7201a8\"], [0.3333333333333333, \"#9c179e\"], [0.4444444444444444, \"#bd3786\"], [0.5555555555555556, \"#d8576b\"], [0.6666666666666666, \"#ed7953\"], [0.7777777777777778, \"#fb9f3a\"], [0.8888888888888888, \"#fdca26\"], [1.0, \"#f0f921\"]], \"type\": \"heatmapgl\"}], \"histogram\": [{\"marker\": {\"colorbar\": {\"outlinewidth\": 0, \"ticks\": \"\"}}, \"type\": \"histogram\"}], \"histogram2d\": [{\"colorbar\": {\"outlinewidth\": 0, \"ticks\": \"\"}, \"colorscale\": [[0.0, \"#0d0887\"], [0.1111111111111111, \"#46039f\"], [0.2222222222222222, \"#7201a8\"], [0.3333333333333333, \"#9c179e\"], [0.4444444444444444, \"#bd3786\"], [0.5555555555555556, \"#d8576b\"], [0.6666666666666666, \"#ed7953\"], [0.7777777777777778, \"#fb9f3a\"], [0.8888888888888888, \"#fdca26\"], [1.0, \"#f0f921\"]], \"type\": \"histogram2d\"}], \"histogram2dcontour\": [{\"colorbar\": {\"outlinewidth\": 0, \"ticks\": \"\"}, \"colorscale\": [[0.0, \"#0d0887\"], [0.1111111111111111, \"#46039f\"], [0.2222222222222222, \"#7201a8\"], [0.3333333333333333, \"#9c179e\"], [0.4444444444444444, \"#bd3786\"], [0.5555555555555556, \"#d8576b\"], [0.6666666666666666, \"#ed7953\"], [0.7777777777777778, \"#fb9f3a\"], [0.8888888888888888, \"#fdca26\"], [1.0, \"#f0f921\"]], \"type\": \"histogram2dcontour\"}], \"mesh3d\": [{\"colorbar\": {\"outlinewidth\": 0, \"ticks\": \"\"}, \"type\": \"mesh3d\"}], \"parcoords\": [{\"line\": {\"colorbar\": {\"outlinewidth\": 0, \"ticks\": \"\"}}, \"type\": \"parcoords\"}], \"pie\": [{\"automargin\": true, \"type\": \"pie\"}], \"scatter\": [{\"marker\": {\"colorbar\": {\"outlinewidth\": 0, \"ticks\": \"\"}}, \"type\": \"scatter\"}], \"scatter3d\": [{\"line\": {\"colorbar\": {\"outlinewidth\": 0, \"ticks\": \"\"}}, \"marker\": {\"colorbar\": {\"outlinewidth\": 0, \"ticks\": \"\"}}, \"type\": \"scatter3d\"}], \"scattercarpet\": [{\"marker\": {\"colorbar\": {\"outlinewidth\": 0, \"ticks\": \"\"}}, \"type\": \"scattercarpet\"}], \"scattergeo\": [{\"marker\": {\"colorbar\": {\"outlinewidth\": 0, \"ticks\": \"\"}}, \"type\": \"scattergeo\"}], \"scattergl\": [{\"marker\": {\"colorbar\": {\"outlinewidth\": 0, \"ticks\": \"\"}}, \"type\": \"scattergl\"}], \"scattermapbox\": [{\"marker\": {\"colorbar\": {\"outlinewidth\": 0, \"ticks\": \"\"}}, \"type\": \"scattermapbox\"}], \"scatterpolar\": [{\"marker\": {\"colorbar\": {\"outlinewidth\": 0, \"ticks\": \"\"}}, \"type\": \"scatterpolar\"}], \"scatterpolargl\": [{\"marker\": {\"colorbar\": {\"outlinewidth\": 0, \"ticks\": \"\"}}, \"type\": \"scatterpolargl\"}], \"scatterternary\": [{\"marker\": {\"colorbar\": {\"outlinewidth\": 0, \"ticks\": \"\"}}, \"type\": \"scatterternary\"}], \"surface\": [{\"colorbar\": {\"outlinewidth\": 0, \"ticks\": \"\"}, \"colorscale\": [[0.0, \"#0d0887\"], [0.1111111111111111, \"#46039f\"], [0.2222222222222222, \"#7201a8\"], [0.3333333333333333, \"#9c179e\"], [0.4444444444444444, \"#bd3786\"], [0.5555555555555556, \"#d8576b\"], [0.6666666666666666, \"#ed7953\"], [0.7777777777777778, \"#fb9f3a\"], [0.8888888888888888, \"#fdca26\"], [1.0, \"#f0f921\"]], \"type\": \"surface\"}], \"table\": [{\"cells\": {\"fill\": {\"color\": \"#EBF0F8\"}, \"line\": {\"color\": \"white\"}}, \"header\": {\"fill\": {\"color\": \"#C8D4E3\"}, \"line\": {\"color\": \"white\"}}, \"type\": \"table\"}]}, \"layout\": {\"annotationdefaults\": {\"arrowcolor\": \"#2a3f5f\", \"arrowhead\": 0, \"arrowwidth\": 1}, \"coloraxis\": {\"colorbar\": {\"outlinewidth\": 0, \"ticks\": \"\"}}, \"colorscale\": {\"diverging\": [[0, \"#8e0152\"], [0.1, \"#c51b7d\"], [0.2, \"#de77ae\"], [0.3, \"#f1b6da\"], [0.4, \"#fde0ef\"], [0.5, \"#f7f7f7\"], [0.6, \"#e6f5d0\"], [0.7, \"#b8e186\"], [0.8, \"#7fbc41\"], [0.9, \"#4d9221\"], [1, \"#276419\"]], \"sequential\": [[0.0, \"#0d0887\"], [0.1111111111111111, \"#46039f\"], [0.2222222222222222, \"#7201a8\"], [0.3333333333333333, \"#9c179e\"], [0.4444444444444444, \"#bd3786\"], [0.5555555555555556, \"#d8576b\"], [0.6666666666666666, \"#ed7953\"], [0.7777777777777778, \"#fb9f3a\"], [0.8888888888888888, \"#fdca26\"], [1.0, \"#f0f921\"]], \"sequentialminus\": [[0.0, \"#0d0887\"], [0.1111111111111111, \"#46039f\"], [0.2222222222222222, \"#7201a8\"], [0.3333333333333333, \"#9c179e\"], [0.4444444444444444, \"#bd3786\"], [0.5555555555555556, \"#d8576b\"], [0.6666666666666666, \"#ed7953\"], [0.7777777777777778, \"#fb9f3a\"], [0.8888888888888888, \"#fdca26\"], [1.0, \"#f0f921\"]]}, \"colorway\": [\"#636efa\", \"#EF553B\", \"#00cc96\", \"#ab63fa\", \"#FFA15A\", \"#19d3f3\", \"#FF6692\", \"#B6E880\", \"#FF97FF\", \"#FECB52\"], \"font\": {\"color\": \"#2a3f5f\"}, \"geo\": {\"bgcolor\": \"white\", \"lakecolor\": \"white\", \"landcolor\": \"#E5ECF6\", \"showlakes\": true, \"showland\": true, \"subunitcolor\": \"white\"}, \"hoverlabel\": {\"align\": \"left\"}, \"hovermode\": \"closest\", \"mapbox\": {\"style\": \"light\"}, \"paper_bgcolor\": \"white\", \"plot_bgcolor\": \"#E5ECF6\", \"polar\": {\"angularaxis\": {\"gridcolor\": \"white\", \"linecolor\": \"white\", \"ticks\": \"\"}, \"bgcolor\": \"#E5ECF6\", \"radialaxis\": {\"gridcolor\": \"white\", \"linecolor\": \"white\", \"ticks\": \"\"}}, \"scene\": {\"xaxis\": {\"backgroundcolor\": \"#E5ECF6\", \"gridcolor\": \"white\", \"gridwidth\": 2, \"linecolor\": \"white\", \"showbackground\": true, \"ticks\": \"\", \"zerolinecolor\": \"white\"}, \"yaxis\": {\"backgroundcolor\": \"#E5ECF6\", \"gridcolor\": \"white\", \"gridwidth\": 2, \"linecolor\": \"white\", \"showbackground\": true, \"ticks\": \"\", \"zerolinecolor\": \"white\"}, \"zaxis\": {\"backgroundcolor\": \"#E5ECF6\", \"gridcolor\": \"white\", \"gridwidth\": 2, \"linecolor\": \"white\", \"showbackground\": true, \"ticks\": \"\", \"zerolinecolor\": \"white\"}}, \"shapedefaults\": {\"line\": {\"color\": \"#2a3f5f\"}}, \"ternary\": {\"aaxis\": {\"gridcolor\": \"white\", \"linecolor\": \"white\", \"ticks\": \"\"}, \"baxis\": {\"gridcolor\": \"white\", \"linecolor\": \"white\", \"ticks\": \"\"}, \"bgcolor\": \"#E5ECF6\", \"caxis\": {\"gridcolor\": \"white\", \"linecolor\": \"white\", \"ticks\": \"\"}}, \"title\": {\"x\": 0.05}, \"xaxis\": {\"automargin\": true, \"gridcolor\": \"white\", \"linecolor\": \"white\", \"ticks\": \"\", \"title\": {\"standoff\": 15}, \"zerolinecolor\": \"white\", \"zerolinewidth\": 2}, \"yaxis\": {\"automargin\": true, \"gridcolor\": \"white\", \"linecolor\": \"white\", \"ticks\": \"\", \"title\": {\"standoff\": 15}, \"zerolinecolor\": \"white\", \"zerolinewidth\": 2}}}, \"title\": {\"text\": \"COVID-19 - Casos totais confirmados - 02-04-2020 \\n Escala Logar\\u00edtmica\"}, \"xaxis\": {\"anchor\": \"y\", \"domain\": [0.0, 1.0], \"title\": {\"text\": \"Dias desde o caso n\\u00famero 50\"}}, \"yaxis\": {\"anchor\": \"x\", \"domain\": [0.0, 1.0], \"title\": {\"text\": \"Casos acumulados\"}, \"type\": \"log\"}},\n",
              "                        {\"responsive\": true}\n",
              "                    ).then(function(){\n",
              "                            \n",
              "var gd = document.getElementById('f5046097-25ef-4f26-bba2-bd2d88bce07b');\n",
              "var x = new MutationObserver(function (mutations, observer) {{\n",
              "        var display = window.getComputedStyle(gd).display;\n",
              "        if (!display || display === 'none') {{\n",
              "            console.log([gd, 'removed!']);\n",
              "            Plotly.purge(gd);\n",
              "            observer.disconnect();\n",
              "        }}\n",
              "}});\n",
              "\n",
              "// Listen for the removal of the full notebook cells\n",
              "var notebookContainer = gd.closest('#notebook-container');\n",
              "if (notebookContainer) {{\n",
              "    x.observe(notebookContainer, {childList: true});\n",
              "}}\n",
              "\n",
              "// Listen for the clearing of the current output cell\n",
              "var outputEl = gd.closest('.output');\n",
              "if (outputEl) {{\n",
              "    x.observe(outputEl, {childList: true});\n",
              "}}\n",
              "\n",
              "                        })\n",
              "                };\n",
              "                \n",
              "            </script>\n",
              "        </div>\n",
              "</body>\n",
              "</html>"
            ]
          },
          "metadata": {
            "tags": []
          }
        }
      ]
    },
    {
      "cell_type": "markdown",
      "metadata": {
        "id": "1pR_Low5TqS9",
        "colab_type": "text"
      },
      "source": [
        "<center> <h2> Contaminação Relativa </h2> </center>\n",
        "\n"
      ]
    },
    {
      "cell_type": "code",
      "metadata": {
        "colab_type": "code",
        "id": "OXJ4Z-SOEubU",
        "outputId": "4638511b-48db-46b5-815d-312ccb16cdb7",
        "colab": {
          "base_uri": "https://localhost:8080/",
          "height": 542
        }
      },
      "source": [
        "#hide_input\n",
        "#plt.figure(figsize=(6.5,8))\n",
        "#\n",
        "#sns.lineplot(x='Dias desde o caso número 50',y='Relativa',data=final_data[final_data['Países e territórios']=='Brazil'],color='black',linewidth=6,label='Brasil')\n",
        "#sns.lineplot(x='Dias desde o caso número 50',y='Relativa',data=final_data[final_data['Países e territórios']=='Italy'],label='Itália')\n",
        "#sns.lineplot(x='Dias desde o caso número 50',y='Relativa',data=final_data[final_data['Países e territórios']=='United_States_of_America'],label='Estados Unidos')\n",
        "#sns.lineplot(x='Dias desde o caso número 50',y='Relativa',data=final_data[final_data['Países e territórios']=='United_Kingdom'],label='Reino Unido')\n",
        "#sns.lineplot(x='Dias desde o caso número 50',y='Relativa',data=final_data[final_data['Países e territórios']=='South_Korea'],label= \"Coréia do Sul\")\n",
        "#sns.lineplot(x='Dias desde o caso número 50',y='Relativa',data=final_data[final_data['Países e territórios']=='France'],label='França')\n",
        "#sns.lineplot(x='Dias desde o caso número 50',y='Relativa',data=final_data[final_data['Países e territórios']=='Japan'],label='Japão')\n",
        "#sns.lineplot(x='Dias desde o caso número 50',y='Relativa',data=final_data[final_data['Países e territórios']=='Spain'],label='Espanha')\n",
        "#sns.lineplot(x='Dias desde o caso número 50',y='Relativa',data=final_data[final_data['Países e territórios']=='Argentina'],label='Argentina')\n",
        "#sns.lineplot(x='Dias desde o caso número 50',y='Relativa',data=final_data[final_data['Países e territórios']=='India'],label='Índia')\n",
        "#sns.lineplot(x='Dias desde o caso número 50',y='Relativa',data=final_data[final_data['Países e territórios']=='Germany'],label='Alemanha')\n",
        "#sns.lineplot(x='Dias desde o caso número 50',y='Relativa',data=final_data[final_data['Países e territórios']=='Czech_Republic'],label='República Tcheca',color=\"#660033\")\n",
        "#\n",
        "#plt.grid(color='black', linestyle='--', linewidth=0.17)\n",
        "#plt.ylabel('Número de casos a cada 10 mil habitantes')\n",
        "#plt.title('COVID-19 - Contaminação relativa  {} \\nCasos a cada 10 mil habitantes - E. Logarítmica'.format(today))\n",
        "#plt.yscale('log')\n",
        "#plt.xticks(np.arange(0,46,2))\n",
        "#\n",
        "#plt.savefig(\"plots/05_relativa_exponencial.png\",bbox_inches = 'tight')\n",
        "#\n",
        "##plt.ylim(0,np.power(1,-16))\n",
        "#plt.show()\n",
        "\n",
        "\n",
        "fig = px.line(final_data, x=\"Dias desde o caso número 50\", y=\"Relativa\", color='Países e territórios',title='COVID-19 - Contaminação relativa  {} \\nCasos a cada 10 mil habitantes - E. Logarítmica'.format(today),\n",
        "              color_discrete_sequence=[\"black\", \"blue\",'green',\"darkmagenta\",\"gray\",\"brown\",\"orange\",\"magenta\",'red',\"darkblue\",\"lightgreen\",'coral','lightblue'])\n",
        "fig.update_layout(legend= {'title':'País','borderwidth':0,'orientation':'v','yanchor':'top','font':{'size':8}})\n",
        "\n",
        "fig.update_layout(yaxis_type=\"log\")\n",
        "fig.show()"
      ],
      "execution_count": 187,
      "outputs": [
        {
          "output_type": "display_data",
          "data": {
            "text/html": [
              "<html>\n",
              "<head><meta charset=\"utf-8\" /></head>\n",
              "<body>\n",
              "    <div>\n",
              "            <script src=\"https://cdnjs.cloudflare.com/ajax/libs/mathjax/2.7.5/MathJax.js?config=TeX-AMS-MML_SVG\"></script><script type=\"text/javascript\">if (window.MathJax) {MathJax.Hub.Config({SVG: {font: \"STIX-Web\"}});}</script>\n",
              "                <script type=\"text/javascript\">window.PlotlyConfig = {MathJaxConfig: 'local'};</script>\n",
              "        <script src=\"https://cdn.plot.ly/plotly-latest.min.js\"></script>    \n",
              "            <div id=\"9092a8a6-f913-4a36-abc7-a1e990f2e160\" class=\"plotly-graph-div\" style=\"height:525px; width:100%;\"></div>\n",
              "            <script type=\"text/javascript\">\n",
              "                \n",
              "                    window.PLOTLYENV=window.PLOTLYENV || {};\n",
              "                    \n",
              "                if (document.getElementById(\"9092a8a6-f913-4a36-abc7-a1e990f2e160\")) {\n",
              "                    Plotly.newPlot(\n",
              "                        '9092a8a6-f913-4a36-abc7-a1e990f2e160',\n",
              "                        [{\"hovertemplate\": \"Pa\\u00edses e territ\\u00f3rios=Brazil<br>Dias desde o caso n\\u00famero 50=%{x}<br>Relativa=%{y}<extra></extra>\", \"legendgroup\": \"Brazil\", \"line\": {\"color\": \"black\", \"dash\": \"solid\"}, \"mode\": \"lines\", \"name\": \"Brazil\", \"showlegend\": true, \"type\": \"scatter\", \"x\": [0, 1, 2, 3, 4, 5, 6, 7, 8, 9, 10, 11, 12, 13, 14, 15, 16, 17, 18, 19, 20, 21], \"xaxis\": \"x\", \"y\": [0.002484472049689441, 0.0036789297658862876, 0.0046822742474916385, 0.005781175346392738, 0.009555661729574774, 0.011180124223602485, 0.013903487816531295, 0.020449116101290014, 0.02967032967032967, 0.04319159101767797, 0.05389393215480172, 0.07386526516961299, 0.09034878165312948, 0.10516005733397038, 0.11624462494027711, 0.13927376970855232, 0.163258480649785, 0.18652651696129957, 0.20334448160535118, 0.21877687529861442, 0.2731485905398949, 0.32661251791686574], \"yaxis\": \"y\"}, {\"hovertemplate\": \"Pa\\u00edses e territ\\u00f3rios=Italy<br>Dias desde o caso n\\u00famero 50=%{x}<br>Relativa=%{y}<extra></extra>\", \"legendgroup\": \"Italy\", \"line\": {\"color\": \"blue\", \"dash\": \"solid\"}, \"mode\": \"lines\", \"name\": \"Italy\", \"showlegend\": true, \"type\": \"scatter\", \"x\": [0, 1, 2, 3, 4, 5, 6, 7, 8, 9, 10, 11, 12, 13, 14, 15, 16, 17, 18, 19, 20, 21, 22, 23, 24, 25, 26, 27, 28, 29, 30, 31, 32, 33, 34, 35, 36, 37, 38, 39], \"xaxis\": \"x\", \"y\": [0.013038455190625516, 0.021785773229905925, 0.03779501567915498, 0.05314408318204324, 0.06601749463607856, 0.10727842878362766, 0.1465588380920944, 0.18616933487374154, 0.27875887110084174, 0.3028552566430104, 0.4129394289486714, 0.5098201023271167, 0.6367387357649777, 0.7651427628321505, 0.9709523023601254, 1.2171975573526985, 1.5137811520052813, 1.6750288826539033, 2.0567750453870275, 2.4943059910876384, 2.9146723881828684, 2.929526324475986, 3.9577488034329096, 4.617923749793695, 5.199867965010728, 5.894206964845684, 6.772569730978709, 7.760521538207625, 8.842713319029542, 9.760356494471035, 10.550750949001486, 11.417065522363426, 12.27694338999835, 13.292457501237829, 14.27595312757881, 15.26192440996864, 16.122957583759696, 16.79138471694999, 17.460306981350058, 18.249546129724376], \"yaxis\": \"y\"}, {\"hovertemplate\": \"Pa\\u00edses e territ\\u00f3rios=Japan<br>Dias desde o caso n\\u00famero 50=%{x}<br>Relativa=%{y}<extra></extra>\", \"legendgroup\": \"Japan\", \"line\": {\"color\": \"green\", \"dash\": \"solid\"}, \"mode\": \"lines\", \"name\": \"Japan\", \"showlegend\": true, \"type\": \"scatter\", \"x\": [0, 1, 2, 3, 4, 5, 6, 7, 8, 9, 10, 11, 12, 13, 14, 15, 16, 17, 18, 19, 20, 21, 22, 23, 24, 25, 26, 27, 28, 29, 30, 31, 32, 33, 34, 35, 36, 37, 38, 39, 40, 41, 42, 43, 44, 45, 46], \"xaxis\": \"x\", \"y\": [0.004100946372239748, 0.004652996845425868, 0.004652996845425868, 0.0052050473186119875, 0.006624605678233439, 0.007334384858044164, 0.008280757097791799, 0.010410094637223975, 0.011356466876971609, 0.011356466876971609, 0.012933753943217666, 0.014668769716088327, 0.016561514195583597, 0.018138801261829655, 0.018848580441640377, 0.02003154574132492, 0.02003154574132492, 0.02113564668769716, 0.025, 0.02752365930599369, 0.032176656151419555, 0.03588328075709779, 0.038485804416403785, 0.04053627760252366, 0.044794952681388014, 0.04881703470031546, 0.05323343848580442, 0.05812302839116719, 0.061514195583596214, 0.06419558359621451, 0.06498422712933755, 0.06537854889589906, 0.06884858044164038, 0.0749211356466877, 0.07941640378548896, 0.08249211356466878, 0.0858832807570978, 0.08895899053627761, 0.09408517350157729, 0.1, 0.10757097791798108, 0.11821766561514195, 0.1335173501577287, 0.1471608832807571, 0.15402208201892745, 0.15402208201892745, 0.1717665615141956], \"yaxis\": \"y\"}, {\"hovertemplate\": \"Pa\\u00edses e territ\\u00f3rios=United_Kingdom<br>Dias desde o caso n\\u00famero 50=%{x}<br>Relativa=%{y}<extra></extra>\", \"legendgroup\": \"United_Kingdom\", \"line\": {\"color\": \"darkmagenta\", \"dash\": \"solid\"}, \"mode\": \"lines\", \"name\": \"United_Kingdom\", \"showlegend\": true, \"type\": \"scatter\", \"x\": [0, 1, 2, 3, 4, 5, 6, 7, 8, 9, 10, 11, 12, 13, 14, 15, 16, 17, 18, 19, 20, 21, 22, 23, 24, 25, 26, 27, 28, 29], \"xaxis\": \"x\", \"y\": [0.007722592368261659, 0.0128709872804361, 0.017413688673531193, 0.024682010902483342, 0.03119321623258631, 0.04133858267716536, 0.04860690490611751, 0.056480920654149, 0.06904906117504543, 0.08933979406420352, 0.10705632949727438, 0.17262265293761356, 0.2106299212598425, 0.23364627498485765, 0.2952755905511811, 0.3982434887946699, 0.49621441550575407, 0.6031193216232587, 0.7598425196850394, 0.8605390672319806, 1.0069654754694124, 1.223046638400969, 1.4429133858267718, 1.7652937613567534, 2.202150211992732, 2.5876741368867355, 2.9560872198667476, 3.352665051483949, 3.808298001211387, 4.46305269533616], \"yaxis\": \"y\"}, {\"hovertemplate\": \"Pa\\u00edses e territ\\u00f3rios=United_States_of_America<br>Dias desde o caso n\\u00famero 50=%{x}<br>Relativa=%{y}<extra></extra>\", \"legendgroup\": \"United_States_of_America\", \"line\": {\"color\": \"gray\", \"dash\": \"solid\"}, \"mode\": \"lines\", \"name\": \"United_States_of_America\", \"showlegend\": true, \"type\": \"scatter\", \"x\": [0, 1, 2, 3, 4, 5, 6, 7, 8, 9, 10, 11, 12, 13, 14, 15, 16, 17, 18, 19, 20, 21, 22, 23, 24, 25, 26, 27, 28, 29, 30, 31, 32, 33, 34, 35, 36, 37], \"xaxis\": \"x\", \"y\": [0.0016272643536997236, 0.0016272643536997236, 0.0018114829597789376, 0.00184218606079214, 0.002026404666871354, 0.002118513969910961, 0.0027325759901750076, 0.0031624194043598404, 0.003837887626650292, 0.004881793061099171, 0.007153822536076143, 0.010377648142462389, 0.01329444273871661, 0.017009517961314093, 0.02315013816395456, 0.031470678538532394, 0.040282468529321463, 0.05105925698495548, 0.06674854160270187, 0.09060485108996008, 0.1158735032238256, 0.14310715382253608, 0.1973288302118514, 0.2890696960393, 0.4375191894381332, 0.6025176542830826, 0.8212158428001228, 1.0809333742708014, 1.4259134172551429, 1.6957629720601781, 2.124470371507522, 2.6401903592262816, 3.2141848326680993, 3.827602087810869, 4.391311022413264, 5.054344488793368, 5.8218606079214, 6.654006754682223], \"yaxis\": \"y\"}, {\"hovertemplate\": \"Pa\\u00edses e territ\\u00f3rios=France<br>Dias desde o caso n\\u00famero 50=%{x}<br>Relativa=%{y}<extra></extra>\", \"legendgroup\": \"France\", \"line\": {\"color\": \"brown\", \"dash\": \"solid\"}, \"mode\": \"lines\", \"name\": \"France\", \"showlegend\": true, \"type\": \"scatter\", \"x\": [0, 1, 2, 3, 4, 5, 6, 7, 8, 9, 10, 11, 12, 13, 14, 15, 16, 17, 18, 19, 20, 21, 22, 23, 24, 25, 26, 27, 28, 29, 30, 31, 32, 33], \"xaxis\": \"x\", \"y\": [0.008536768009585144, 0.014976785981728321, 0.01946982177624682, 0.026658679047476413, 0.03175078628126404, 0.04268384004792571, 0.0633518047027108, 0.0918076980679946, 0.10723378762917478, 0.1686386101542609, 0.2114722180620039, 0.26718586191403326, 0.341620488243223, 0.4307323648345065, 0.5483001347910739, 0.6738056013179572, 0.8121911037891268, 0.9934102141680395, 1.1577055563875993, 1.3679796315710648, 1.646697618691029, 1.888872248015576, 2.165493485098098, 2.3989815785532427, 2.9737906245319756, 3.34012280964505, 3.7790924067695073, 4.366481952972892, 4.936947731016923, 5.627527332634417, 6.016774000299535, 6.672158154859967, 7.8070989965553395, 8.535120563127153], \"yaxis\": \"y\"}, {\"hovertemplate\": \"Pa\\u00edses e territ\\u00f3rios=South_Korea<br>Dias desde o caso n\\u00famero 50=%{x}<br>Relativa=%{y}<extra></extra>\", \"legendgroup\": \"South_Korea\", \"line\": {\"color\": \"orange\", \"dash\": \"solid\"}, \"mode\": \"lines\", \"name\": \"South_Korea\", \"showlegend\": true, \"type\": \"scatter\", \"x\": [0, 1, 2, 3, 4, 5, 6, 7, 8, 9, 10, 11, 12, 13, 14, 15, 16, 17, 18, 19, 20, 21, 22, 23, 24, 25, 26, 27, 28, 29, 30, 31, 32, 33, 34, 35, 36, 37, 38, 39, 40, 41, 42], \"xaxis\": \"x\", \"y\": [0.015543034777540314, 0.030114629881484358, 0.0670293374781426, 0.11676704876627161, 0.1480474062560715, 0.1733048377695745, 0.22265397318826502, 0.30988925587721, 0.39285020400233145, 0.5694579366621333, 0.6850592578200894, 0.8183407810374975, 0.93491354186905, 1.035166116184185, 1.1202642315912181, 1.2209053817757918, 1.3147464542451914, 1.3860501262871576, 1.4342335340975325, 1.4596852535457547, 1.5067029337478142, 1.5288517583058092, 1.5502234311249272, 1.5710122401398874, 1.5857781231785506, 1.6001554303477754, 1.6164756168641927, 1.6345443947930833, 1.66407616087041, 1.6809792111909851, 1.7095395375947153, 1.7285797551972022, 1.7410141830192345, 1.7557800660578977, 1.7752088595298232, 1.7954148047406255, 1.8130950068000777, 1.8414610452690887, 1.8618612784146105, 1.8770157373227123, 1.901301729162619, 1.901301729162619, 1.9382164367592774], \"yaxis\": \"y\"}, {\"hovertemplate\": \"Pa\\u00edses e territ\\u00f3rios=Spain<br>Dias desde o caso n\\u00famero 50=%{x}<br>Relativa=%{y}<extra></extra>\", \"legendgroup\": \"Spain\", \"line\": {\"color\": \"magenta\", \"dash\": \"solid\"}, \"mode\": \"lines\", \"name\": \"Spain\", \"showlegend\": true, \"type\": \"scatter\", \"x\": [0, 1, 2, 3, 4, 5, 6, 7, 8, 9, 10, 11, 12, 13, 14, 15, 16, 17, 18, 19, 20, 21, 22, 23, 24, 25, 26, 27, 28, 29, 30, 31, 32], \"xaxis\": \"x\", \"y\": [0.014184397163120567, 0.017837954008166772, 0.024500322372662798, 0.032452181388351604, 0.04298302170642596, 0.05609284332688588, 0.08037825059101655, 0.09241349666881582, 0.12658499892542446, 0.2587577906726843, 0.35224586288416077, 0.4599183322587578, 0.645604986030518, 0.9093058241994412, 1.2364066193853427, 1.6662368364496023, 1.975284762518805, 2.402321083172147, 2.9477756286266925, 3.68514936600043, 4.294003868471954, 5.356973995271868, 6.140554480980013, 7.111326026219643, 8.526327100795186, 10.232108317214701, 12.07565011820331, 13.767246937459703, 15.527186761229315, 16.934665807006233, 18.3096926713948, 20.2916398022781, 21.95056952503761], \"yaxis\": \"y\"}, {\"hovertemplate\": \"Pa\\u00edses e territ\\u00f3rios=Argentina<br>Dias desde o caso n\\u00famero 50=%{x}<br>Relativa=%{y}<extra></extra>\", \"legendgroup\": \"Argentina\", \"line\": {\"color\": \"red\", \"dash\": \"solid\"}, \"mode\": \"lines\", \"name\": \"Argentina\", \"showlegend\": true, \"type\": \"scatter\", \"x\": [0, 1, 2, 3, 4, 5, 6, 7, 8, 9, 10, 11, 12, 13, 14, 15, 16, 17], \"xaxis\": \"x\", \"y\": [0.012649649875762368, 0.01468262932008132, 0.01784504178902191, 0.021911000677659814, 0.02891348543031398, 0.03569008357804382, 0.0508244861079738, 0.060085836909871244, 0.06799186808222273, 0.08741811610571493, 0.11339507567201265, 0.13304721030042918, 0.15586175739778632, 0.16828552066862434, 0.18522701603794894, 0.21820646035690083, 0.21820646035690083, 0.2559295233792636], \"yaxis\": \"y\"}, {\"hovertemplate\": \"Pa\\u00edses e territ\\u00f3rios=India<br>Dias desde o caso n\\u00famero 50=%{x}<br>Relativa=%{y}<extra></extra>\", \"legendgroup\": \"India\", \"line\": {\"color\": \"darkblue\", \"dash\": \"solid\"}, \"mode\": \"lines\", \"name\": \"India\", \"showlegend\": true, \"type\": \"scatter\", \"x\": [0, 1, 2, 3, 4, 5, 6, 7, 8, 9, 10, 11, 12, 13, 14, 15, 16, 17, 18, 19, 20, 21, 22], \"xaxis\": \"x\", \"y\": [0.0003734129947722181, 0.0005451829723674384, 0.0005601194921583271, 0.000619865571321882, 0.0006721433905899926, 0.0006945481702763256, 0.0009335324869305452, 0.0010231516056758774, 0.0012322628827483196, 0.001426437640029873, 0.0017251680358476476, 0.002389843166542196, 0.0032785660941000746, 0.003674383868558626, 0.004197162061239731, 0.004846900672143391, 0.005407020164301717, 0.006519790888722928, 0.0073114264376400295, 0.007998506348020911, 0.009342793129200897, 0.010433159073935773, 0.01467513069454817], \"yaxis\": \"y\"}, {\"hovertemplate\": \"Pa\\u00edses e territ\\u00f3rios=Mexico<br>Dias desde o caso n\\u00famero 50=%{x}<br>Relativa=%{y}<extra></extra>\", \"legendgroup\": \"Mexico\", \"line\": {\"color\": \"lightgreen\", \"dash\": \"solid\"}, \"mode\": \"lines\", \"name\": \"Mexico\", \"showlegend\": true, \"type\": \"scatter\", \"x\": [0, 1, 2, 3, 4, 5, 6, 7, 8, 9, 10, 11, 12, 13, 14, 15, 16, 17], \"xaxis\": \"x\", \"y\": [0.01139050075220288, 0.017623038899634645, 0.019987105093488073, 0.025359982806791317, 0.03524607779926929, 0.04362776703202235, 0.05394369224156458, 0.06791317429615303, 0.07887384483129165, 0.08704061895551257, 0.10208467655276166, 0.12572533849129594, 0.15409413281753706, 0.18224801203524607, 0.2134107027724049, 0.23511712873415, 0.2611218568665377, 0.29615301955727485], \"yaxis\": \"y\"}, {\"hovertemplate\": \"Pa\\u00edses e territ\\u00f3rios=Germany<br>Dias desde o caso n\\u00famero 50=%{x}<br>Relativa=%{y}<extra></extra>\", \"legendgroup\": \"Germany\", \"line\": {\"color\": \"coral\", \"dash\": \"solid\"}, \"mode\": \"lines\", \"name\": \"Germany\", \"showlegend\": true, \"type\": \"scatter\", \"x\": [0, 1, 2, 3, 4, 5, 6, 7, 8, 9, 10, 11, 12, 13, 14, 15, 16, 17, 18, 19, 20, 21, 22, 23, 24, 25, 26, 27, 28, 29, 30, 31, 32, 33], \"xaxis\": \"x\", \"y\": [0.006907416383906932, 0.01345128453708192, 0.015632573921473582, 0.01902569074163839, 0.02375181774115366, 0.031749878817256424, 0.048473097430925836, 0.08288899660688318, 0.10264178380998545, 0.10930683470673776, 0.1380271449345613, 0.1570528356761997, 0.18989335918565195, 0.2870819195346583, 0.37106156083373726, 0.45988851187590885, 0.586282113427048, 0.7285506543868153, 0.8671837130392632, 0.993456131846825, 1.7132816286960737, 2.2039505574406206, 2.600945225399903, 3.0021812893843918, 3.5399903053805137, 3.8238002908385846, 4.424139602520601, 5.12457586039748, 5.887300048473097, 6.367789626757149, 6.943528841492971, 7.502787203102279, 8.163596703829375, 8.909597673291323], \"yaxis\": \"y\"}, {\"hovertemplate\": \"Pa\\u00edses e territ\\u00f3rios=Czech_Republic<br>Dias desde o caso n\\u00famero 50=%{x}<br>Relativa=%{y}<extra></extra>\", \"legendgroup\": \"Czech_Republic\", \"line\": {\"color\": \"lightblue\", \"dash\": \"solid\"}, \"mode\": \"lines\", \"name\": \"Czech_Republic\", \"showlegend\": true, \"type\": \"scatter\", \"x\": [0, 1, 2, 3, 4, 5, 6, 7, 8, 9, 10, 11, 12, 13, 14, 15, 16, 17, 18, 19, 20, 21, 22], \"xaxis\": \"x\", \"y\": [0.05920496193966733, 0.08833756225918618, 0.10901231087303825, 0.14096419509444602, 0.20110891833474298, 0.28004886758763275, 0.3232778874165962, 0.4078564044732638, 0.49055539892867217, 0.6521943426369703, 0.8495442157691947, 0.935062494126492, 1.0948219152335308, 1.1615449675782352, 1.3100272530777184, 1.554365191241425, 1.937787801898318, 2.14171600413495, 2.5025843435767317, 2.658584719481252, 2.8211634244901798, 3.10873038248285, 3.3728033079597783], \"yaxis\": \"y\"}, {\"hovertemplate\": \"Pa\\u00edses e territ\\u00f3rios=China<br>Dias desde o caso n\\u00famero 50=%{x}<br>Relativa=%{y}<extra></extra>\", \"legendgroup\": \"China\", \"line\": {\"color\": \"black\", \"dash\": \"solid\"}, \"mode\": \"lines\", \"name\": \"China\", \"showlegend\": true, \"type\": \"scatter\", \"x\": [0, 1, 2, 3, 4, 5, 6, 7, 8, 9, 10, 11, 12, 13, 14, 15, 16, 17, 18, 19, 20, 21, 22, 23, 24, 25, 26, 27, 28, 29, 30, 31, 32, 33, 34, 35, 36, 37, 38, 39, 40, 41, 42, 43, 44, 45, 46, 47, 48, 49, 50, 51, 52, 53, 54, 55, 56, 57, 58, 59, 60, 61, 62, 63, 64, 65, 66, 67, 68, 69, 70, 71, 72, 73, 74, 75, 76, 77, 78, 79, 80, 81, 82, 83, 84, 85, 86, 87, 88], \"xaxis\": \"x\", \"y\": [0.0004256854256854257, 0.0004256854256854257, 0.0004256854256854257, 0.0004256854256854257, 0.0004256854256854257, 0.0004256854256854257, 0.0004256854256854257, 0.0004256854256854257, 0.0004256854256854257, 0.0004256854256854257, 0.0004256854256854257, 0.0004256854256854257, 0.00045454545454545455, 0.0005772005772005772, 0.0015584415584415584, 0.0016955266955266956, 0.002784992784992785, 0.0037950937950937953, 0.004494949494949495, 0.006363636363636364, 0.009545454545454546, 0.014343434343434344, 0.02002164502164502, 0.03266955266955267, 0.04324675324675325, 0.0558008658008658, 0.07008658008658009, 0.0852020202020202, 0.10388888888888889, 0.12417748917748918, 0.14753246753246754, 0.17546897546897547, 0.20235930735930735, 0.22515873015873017, 0.24981962481962483, 0.2686291486291486, 0.29008658008658006, 0.3080519480519481, 0.3226839826839827, 0.43192640692640694, 0.4619119769119769, 0.4802236652236652, 0.4947041847041847, 0.5095093795093795, 0.5231457431457431, 0.5357720057720058, 0.5386147186147187, 0.54504329004329, 0.551002886002886, 0.5556709956709956, 0.5572438672438672, 0.560959595959596, 0.5639177489177489, 0.5670851370851371, 0.5694588744588744, 0.5725468975468976, 0.5766883116883117, 0.5781673881673882, 0.5790836940836941, 0.57994227994228, 0.5807864357864357, 0.582012987012987, 0.5827417027417028, 0.5830735930735931, 0.5833982683982684, 0.5835425685425686, 0.5837518037518038, 0.583924963924964, 0.5840836940836941, 0.5842207792207792, 0.5843795093795093, 0.5845598845598846, 0.5848701298701299, 0.585036075036075, 0.5853535353535354, 0.5860678210678211, 0.5864430014430014, 0.5869119769119769, 0.5879076479076479, 0.5884054834054834, 0.5889682539682539, 0.5897041847041847, 0.5903823953823953, 0.5912409812409812, 0.5920562770562771, 0.5927633477633477, 0.5933694083694083, 0.5937590187590187, 0.5944805194805195], \"yaxis\": \"y\"}],\n",
              "                        {\"legend\": {\"borderwidth\": 0, \"font\": {\"size\": 8}, \"orientation\": \"v\", \"title\": {\"text\": \"Pa\\u00eds\"}, \"tracegroupgap\": 0, \"yanchor\": \"top\"}, \"template\": {\"data\": {\"bar\": [{\"error_x\": {\"color\": \"#2a3f5f\"}, \"error_y\": {\"color\": \"#2a3f5f\"}, \"marker\": {\"line\": {\"color\": \"#E5ECF6\", \"width\": 0.5}}, \"type\": \"bar\"}], \"barpolar\": [{\"marker\": {\"line\": {\"color\": \"#E5ECF6\", \"width\": 0.5}}, \"type\": \"barpolar\"}], \"carpet\": [{\"aaxis\": {\"endlinecolor\": \"#2a3f5f\", \"gridcolor\": \"white\", \"linecolor\": \"white\", \"minorgridcolor\": \"white\", \"startlinecolor\": \"#2a3f5f\"}, \"baxis\": {\"endlinecolor\": \"#2a3f5f\", \"gridcolor\": \"white\", \"linecolor\": \"white\", \"minorgridcolor\": \"white\", \"startlinecolor\": \"#2a3f5f\"}, \"type\": \"carpet\"}], \"choropleth\": [{\"colorbar\": {\"outlinewidth\": 0, \"ticks\": \"\"}, \"type\": \"choropleth\"}], \"contour\": [{\"colorbar\": {\"outlinewidth\": 0, \"ticks\": \"\"}, \"colorscale\": [[0.0, \"#0d0887\"], [0.1111111111111111, \"#46039f\"], [0.2222222222222222, \"#7201a8\"], [0.3333333333333333, \"#9c179e\"], [0.4444444444444444, \"#bd3786\"], [0.5555555555555556, \"#d8576b\"], [0.6666666666666666, \"#ed7953\"], [0.7777777777777778, \"#fb9f3a\"], [0.8888888888888888, \"#fdca26\"], [1.0, \"#f0f921\"]], \"type\": \"contour\"}], \"contourcarpet\": [{\"colorbar\": {\"outlinewidth\": 0, \"ticks\": \"\"}, \"type\": \"contourcarpet\"}], \"heatmap\": [{\"colorbar\": {\"outlinewidth\": 0, \"ticks\": \"\"}, \"colorscale\": [[0.0, \"#0d0887\"], [0.1111111111111111, \"#46039f\"], [0.2222222222222222, \"#7201a8\"], [0.3333333333333333, \"#9c179e\"], [0.4444444444444444, \"#bd3786\"], [0.5555555555555556, \"#d8576b\"], [0.6666666666666666, \"#ed7953\"], [0.7777777777777778, \"#fb9f3a\"], [0.8888888888888888, \"#fdca26\"], [1.0, \"#f0f921\"]], \"type\": \"heatmap\"}], \"heatmapgl\": [{\"colorbar\": {\"outlinewidth\": 0, \"ticks\": \"\"}, \"colorscale\": [[0.0, \"#0d0887\"], [0.1111111111111111, \"#46039f\"], [0.2222222222222222, \"#7201a8\"], [0.3333333333333333, \"#9c179e\"], [0.4444444444444444, \"#bd3786\"], [0.5555555555555556, \"#d8576b\"], [0.6666666666666666, \"#ed7953\"], [0.7777777777777778, \"#fb9f3a\"], [0.8888888888888888, \"#fdca26\"], [1.0, \"#f0f921\"]], \"type\": \"heatmapgl\"}], \"histogram\": [{\"marker\": {\"colorbar\": {\"outlinewidth\": 0, \"ticks\": \"\"}}, \"type\": \"histogram\"}], \"histogram2d\": [{\"colorbar\": {\"outlinewidth\": 0, \"ticks\": \"\"}, \"colorscale\": [[0.0, \"#0d0887\"], [0.1111111111111111, \"#46039f\"], [0.2222222222222222, \"#7201a8\"], [0.3333333333333333, \"#9c179e\"], [0.4444444444444444, \"#bd3786\"], [0.5555555555555556, \"#d8576b\"], [0.6666666666666666, \"#ed7953\"], [0.7777777777777778, \"#fb9f3a\"], [0.8888888888888888, \"#fdca26\"], [1.0, \"#f0f921\"]], \"type\": \"histogram2d\"}], \"histogram2dcontour\": [{\"colorbar\": {\"outlinewidth\": 0, \"ticks\": \"\"}, \"colorscale\": [[0.0, \"#0d0887\"], [0.1111111111111111, \"#46039f\"], [0.2222222222222222, \"#7201a8\"], [0.3333333333333333, \"#9c179e\"], [0.4444444444444444, \"#bd3786\"], [0.5555555555555556, \"#d8576b\"], [0.6666666666666666, \"#ed7953\"], [0.7777777777777778, \"#fb9f3a\"], [0.8888888888888888, \"#fdca26\"], [1.0, \"#f0f921\"]], \"type\": \"histogram2dcontour\"}], \"mesh3d\": [{\"colorbar\": {\"outlinewidth\": 0, \"ticks\": \"\"}, \"type\": \"mesh3d\"}], \"parcoords\": [{\"line\": {\"colorbar\": {\"outlinewidth\": 0, \"ticks\": \"\"}}, \"type\": \"parcoords\"}], \"pie\": [{\"automargin\": true, \"type\": \"pie\"}], \"scatter\": [{\"marker\": {\"colorbar\": {\"outlinewidth\": 0, \"ticks\": \"\"}}, \"type\": \"scatter\"}], \"scatter3d\": [{\"line\": {\"colorbar\": {\"outlinewidth\": 0, \"ticks\": \"\"}}, \"marker\": {\"colorbar\": {\"outlinewidth\": 0, \"ticks\": \"\"}}, \"type\": \"scatter3d\"}], \"scattercarpet\": [{\"marker\": {\"colorbar\": {\"outlinewidth\": 0, \"ticks\": \"\"}}, \"type\": \"scattercarpet\"}], \"scattergeo\": [{\"marker\": {\"colorbar\": {\"outlinewidth\": 0, \"ticks\": \"\"}}, \"type\": \"scattergeo\"}], \"scattergl\": [{\"marker\": {\"colorbar\": {\"outlinewidth\": 0, \"ticks\": \"\"}}, \"type\": \"scattergl\"}], \"scattermapbox\": [{\"marker\": {\"colorbar\": {\"outlinewidth\": 0, \"ticks\": \"\"}}, \"type\": \"scattermapbox\"}], \"scatterpolar\": [{\"marker\": {\"colorbar\": {\"outlinewidth\": 0, \"ticks\": \"\"}}, \"type\": \"scatterpolar\"}], \"scatterpolargl\": [{\"marker\": {\"colorbar\": {\"outlinewidth\": 0, \"ticks\": \"\"}}, \"type\": \"scatterpolargl\"}], \"scatterternary\": [{\"marker\": {\"colorbar\": {\"outlinewidth\": 0, \"ticks\": \"\"}}, \"type\": \"scatterternary\"}], \"surface\": [{\"colorbar\": {\"outlinewidth\": 0, \"ticks\": \"\"}, \"colorscale\": [[0.0, \"#0d0887\"], [0.1111111111111111, \"#46039f\"], [0.2222222222222222, \"#7201a8\"], [0.3333333333333333, \"#9c179e\"], [0.4444444444444444, \"#bd3786\"], [0.5555555555555556, \"#d8576b\"], [0.6666666666666666, \"#ed7953\"], [0.7777777777777778, \"#fb9f3a\"], [0.8888888888888888, \"#fdca26\"], [1.0, \"#f0f921\"]], \"type\": \"surface\"}], \"table\": [{\"cells\": {\"fill\": {\"color\": \"#EBF0F8\"}, \"line\": {\"color\": \"white\"}}, \"header\": {\"fill\": {\"color\": \"#C8D4E3\"}, \"line\": {\"color\": \"white\"}}, \"type\": \"table\"}]}, \"layout\": {\"annotationdefaults\": {\"arrowcolor\": \"#2a3f5f\", \"arrowhead\": 0, \"arrowwidth\": 1}, \"coloraxis\": {\"colorbar\": {\"outlinewidth\": 0, \"ticks\": \"\"}}, \"colorscale\": {\"diverging\": [[0, \"#8e0152\"], [0.1, \"#c51b7d\"], [0.2, \"#de77ae\"], [0.3, \"#f1b6da\"], [0.4, \"#fde0ef\"], [0.5, \"#f7f7f7\"], [0.6, \"#e6f5d0\"], [0.7, \"#b8e186\"], [0.8, \"#7fbc41\"], [0.9, \"#4d9221\"], [1, \"#276419\"]], \"sequential\": [[0.0, \"#0d0887\"], [0.1111111111111111, \"#46039f\"], [0.2222222222222222, \"#7201a8\"], [0.3333333333333333, \"#9c179e\"], [0.4444444444444444, \"#bd3786\"], [0.5555555555555556, \"#d8576b\"], [0.6666666666666666, \"#ed7953\"], [0.7777777777777778, \"#fb9f3a\"], [0.8888888888888888, \"#fdca26\"], [1.0, \"#f0f921\"]], \"sequentialminus\": [[0.0, \"#0d0887\"], [0.1111111111111111, \"#46039f\"], [0.2222222222222222, \"#7201a8\"], [0.3333333333333333, \"#9c179e\"], [0.4444444444444444, \"#bd3786\"], [0.5555555555555556, \"#d8576b\"], [0.6666666666666666, \"#ed7953\"], [0.7777777777777778, \"#fb9f3a\"], [0.8888888888888888, \"#fdca26\"], [1.0, \"#f0f921\"]]}, \"colorway\": [\"#636efa\", \"#EF553B\", \"#00cc96\", \"#ab63fa\", \"#FFA15A\", \"#19d3f3\", \"#FF6692\", \"#B6E880\", \"#FF97FF\", \"#FECB52\"], \"font\": {\"color\": \"#2a3f5f\"}, \"geo\": {\"bgcolor\": \"white\", \"lakecolor\": \"white\", \"landcolor\": \"#E5ECF6\", \"showlakes\": true, \"showland\": true, \"subunitcolor\": \"white\"}, \"hoverlabel\": {\"align\": \"left\"}, \"hovermode\": \"closest\", \"mapbox\": {\"style\": \"light\"}, \"paper_bgcolor\": \"white\", \"plot_bgcolor\": \"#E5ECF6\", \"polar\": {\"angularaxis\": {\"gridcolor\": \"white\", \"linecolor\": \"white\", \"ticks\": \"\"}, \"bgcolor\": \"#E5ECF6\", \"radialaxis\": {\"gridcolor\": \"white\", \"linecolor\": \"white\", \"ticks\": \"\"}}, \"scene\": {\"xaxis\": {\"backgroundcolor\": \"#E5ECF6\", \"gridcolor\": \"white\", \"gridwidth\": 2, \"linecolor\": \"white\", \"showbackground\": true, \"ticks\": \"\", \"zerolinecolor\": \"white\"}, \"yaxis\": {\"backgroundcolor\": \"#E5ECF6\", \"gridcolor\": \"white\", \"gridwidth\": 2, \"linecolor\": \"white\", \"showbackground\": true, \"ticks\": \"\", \"zerolinecolor\": \"white\"}, \"zaxis\": {\"backgroundcolor\": \"#E5ECF6\", \"gridcolor\": \"white\", \"gridwidth\": 2, \"linecolor\": \"white\", \"showbackground\": true, \"ticks\": \"\", \"zerolinecolor\": \"white\"}}, \"shapedefaults\": {\"line\": {\"color\": \"#2a3f5f\"}}, \"ternary\": {\"aaxis\": {\"gridcolor\": \"white\", \"linecolor\": \"white\", \"ticks\": \"\"}, \"baxis\": {\"gridcolor\": \"white\", \"linecolor\": \"white\", \"ticks\": \"\"}, \"bgcolor\": \"#E5ECF6\", \"caxis\": {\"gridcolor\": \"white\", \"linecolor\": \"white\", \"ticks\": \"\"}}, \"title\": {\"x\": 0.05}, \"xaxis\": {\"automargin\": true, \"gridcolor\": \"white\", \"linecolor\": \"white\", \"ticks\": \"\", \"title\": {\"standoff\": 15}, \"zerolinecolor\": \"white\", \"zerolinewidth\": 2}, \"yaxis\": {\"automargin\": true, \"gridcolor\": \"white\", \"linecolor\": \"white\", \"ticks\": \"\", \"title\": {\"standoff\": 15}, \"zerolinecolor\": \"white\", \"zerolinewidth\": 2}}}, \"title\": {\"text\": \"COVID-19 - Contamina\\u00e7\\u00e3o relativa  02-04-2020 \\nCasos a cada 10 mil habitantes - E. Logar\\u00edtmica\"}, \"xaxis\": {\"anchor\": \"y\", \"domain\": [0.0, 1.0], \"title\": {\"text\": \"Dias desde o caso n\\u00famero 50\"}}, \"yaxis\": {\"anchor\": \"x\", \"domain\": [0.0, 1.0], \"title\": {\"text\": \"Relativa\"}, \"type\": \"log\"}},\n",
              "                        {\"responsive\": true}\n",
              "                    ).then(function(){\n",
              "                            \n",
              "var gd = document.getElementById('9092a8a6-f913-4a36-abc7-a1e990f2e160');\n",
              "var x = new MutationObserver(function (mutations, observer) {{\n",
              "        var display = window.getComputedStyle(gd).display;\n",
              "        if (!display || display === 'none') {{\n",
              "            console.log([gd, 'removed!']);\n",
              "            Plotly.purge(gd);\n",
              "            observer.disconnect();\n",
              "        }}\n",
              "}});\n",
              "\n",
              "// Listen for the removal of the full notebook cells\n",
              "var notebookContainer = gd.closest('#notebook-container');\n",
              "if (notebookContainer) {{\n",
              "    x.observe(notebookContainer, {childList: true});\n",
              "}}\n",
              "\n",
              "// Listen for the clearing of the current output cell\n",
              "var outputEl = gd.closest('.output');\n",
              "if (outputEl) {{\n",
              "    x.observe(outputEl, {childList: true});\n",
              "}}\n",
              "\n",
              "                        })\n",
              "                };\n",
              "                \n",
              "            </script>\n",
              "        </div>\n",
              "</body>\n",
              "</html>"
            ]
          },
          "metadata": {
            "tags": []
          }
        }
      ]
    },
    {
      "cell_type": "code",
      "metadata": {
        "id": "LvdcRZ4RTqTC",
        "colab_type": "code",
        "outputId": "41a3ca25-0b2b-4d5f-8faa-03c0313d275c",
        "colab": {
          "base_uri": "https://localhost:8080/",
          "height": 542
        }
      },
      "source": [
        "#hide_input\n",
        "#plt.figure(figsize=(6.5,8))\n",
        "#\n",
        "#sns.lineplot(x='Dias desde o caso número 50',y='Relativa',data=final_data[final_data['Países e territórios']=='Brazil'],color='black',linewidth=6,label='Brasil')\n",
        "#sns.lineplot(x='Dias desde o caso número 50',y='Relativa',data=final_data[final_data['Países e territórios']=='Italy'],label='Itália')\n",
        "#sns.lineplot(x='Dias desde o caso número 50',y='Relativa',data=final_data[final_data['Países e territórios']=='United_States_of_America'],label='Estados Unidos')\n",
        "#sns.lineplot(x='Dias desde o caso número 50',y='Relativa',data=final_data[final_data['Países e territórios']=='United_Kingdom'],label='Reino Unido')\n",
        "#sns.lineplot(x='Dias desde o caso número 50',y='Relativa',data=final_data[final_data['Países e territórios']=='South_Korea'],label= \"Coréia do Sul\")\n",
        "#sns.lineplot(x='Dias desde o caso número 50',y='Relativa',data=final_data[final_data['Países e territórios']=='France'],label='França')\n",
        "#sns.lineplot(x='Dias desde o caso número 50',y='Relativa',data=final_data[final_data['Países e territórios']=='Japan'],label='Japão')\n",
        "#sns.lineplot(x='Dias desde o caso número 50',y='Relativa',data=final_data[final_data['Países e territórios']=='Spain'],label='Espanha')\n",
        "#sns.lineplot(x='Dias desde o caso número 50',y='Relativa',data=final_data[final_data['Países e territórios']=='Argentina'],label='Argentina')\n",
        "#sns.lineplot(x='Dias desde o caso número 50',y='Relativa',data=final_data[final_data['Países e territórios']=='India'],label='Índia')\n",
        "#sns.lineplot(x='Dias desde o caso número 50',y='Relativa',data=final_data[final_data['Países e territórios']=='Germany'],label='Alemanha')\n",
        "#sns.lineplot(x='Dias desde o caso número 50',y='Relativa',data=final_data[final_data['Países e territórios']=='Czech_Republic'],label='República Tcheca',color=\"#660033\")\n",
        "#\n",
        "#plt.xticks(np.arange(0,46,2))\n",
        "#\n",
        "#plt.grid(color='black', linestyle='--', linewidth=0.17)\n",
        "#plt.ylabel('Número de casos a cada 10 mil habitantes')\n",
        "#plt.title('COVID-19 - Contaminação relativa  {} \\nCasos a cada 10 mil habitantes - E. Aritmética' .format(today))\n",
        "#plt.savefig(\"plots/06_relativa_aritmetica.png\")\n",
        "#\n",
        "#plt.show()\n",
        "\n",
        "fig = px.line(final_data, x=\"Dias desde o caso número 50\", y=\"Relativa\", title='COVID-19 - Contaminação relativa  {} \\nCasos a cada 10 mil habitantes - E. Aritmética' .format(today),\n",
        "              color='Países e territórios',color_discrete_sequence=[\"black\", \"blue\",'green',\"darkmagenta\",\"gray\",\"brown\",\"orange\",\"magenta\",'red',\"darkblue\",\"lightgreen\",'coral','lightblue'])\n",
        "fig.update_layout(legend= {'title':'País','borderwidth':0,'orientation':'v','yanchor':'top','font':{'size':8}})\n",
        "\n",
        "fig.update_layout()\n",
        "fig.show()"
      ],
      "execution_count": 188,
      "outputs": [
        {
          "output_type": "display_data",
          "data": {
            "text/html": [
              "<html>\n",
              "<head><meta charset=\"utf-8\" /></head>\n",
              "<body>\n",
              "    <div>\n",
              "            <script src=\"https://cdnjs.cloudflare.com/ajax/libs/mathjax/2.7.5/MathJax.js?config=TeX-AMS-MML_SVG\"></script><script type=\"text/javascript\">if (window.MathJax) {MathJax.Hub.Config({SVG: {font: \"STIX-Web\"}});}</script>\n",
              "                <script type=\"text/javascript\">window.PlotlyConfig = {MathJaxConfig: 'local'};</script>\n",
              "        <script src=\"https://cdn.plot.ly/plotly-latest.min.js\"></script>    \n",
              "            <div id=\"b2bbc2bb-df3e-41cc-91ac-95e2834bdbdf\" class=\"plotly-graph-div\" style=\"height:525px; width:100%;\"></div>\n",
              "            <script type=\"text/javascript\">\n",
              "                \n",
              "                    window.PLOTLYENV=window.PLOTLYENV || {};\n",
              "                    \n",
              "                if (document.getElementById(\"b2bbc2bb-df3e-41cc-91ac-95e2834bdbdf\")) {\n",
              "                    Plotly.newPlot(\n",
              "                        'b2bbc2bb-df3e-41cc-91ac-95e2834bdbdf',\n",
              "                        [{\"hovertemplate\": \"Pa\\u00edses e territ\\u00f3rios=Brazil<br>Dias desde o caso n\\u00famero 50=%{x}<br>Relativa=%{y}<extra></extra>\", \"legendgroup\": \"Brazil\", \"line\": {\"color\": \"black\", \"dash\": \"solid\"}, \"mode\": \"lines\", \"name\": \"Brazil\", \"showlegend\": true, \"type\": \"scatter\", \"x\": [0, 1, 2, 3, 4, 5, 6, 7, 8, 9, 10, 11, 12, 13, 14, 15, 16, 17, 18, 19, 20, 21], \"xaxis\": \"x\", \"y\": [0.002484472049689441, 0.0036789297658862876, 0.0046822742474916385, 0.005781175346392738, 0.009555661729574774, 0.011180124223602485, 0.013903487816531295, 0.020449116101290014, 0.02967032967032967, 0.04319159101767797, 0.05389393215480172, 0.07386526516961299, 0.09034878165312948, 0.10516005733397038, 0.11624462494027711, 0.13927376970855232, 0.163258480649785, 0.18652651696129957, 0.20334448160535118, 0.21877687529861442, 0.2731485905398949, 0.32661251791686574], \"yaxis\": \"y\"}, {\"hovertemplate\": \"Pa\\u00edses e territ\\u00f3rios=Italy<br>Dias desde o caso n\\u00famero 50=%{x}<br>Relativa=%{y}<extra></extra>\", \"legendgroup\": \"Italy\", \"line\": {\"color\": \"blue\", \"dash\": \"solid\"}, \"mode\": \"lines\", \"name\": \"Italy\", \"showlegend\": true, \"type\": \"scatter\", \"x\": [0, 1, 2, 3, 4, 5, 6, 7, 8, 9, 10, 11, 12, 13, 14, 15, 16, 17, 18, 19, 20, 21, 22, 23, 24, 25, 26, 27, 28, 29, 30, 31, 32, 33, 34, 35, 36, 37, 38, 39], \"xaxis\": \"x\", \"y\": [0.013038455190625516, 0.021785773229905925, 0.03779501567915498, 0.05314408318204324, 0.06601749463607856, 0.10727842878362766, 0.1465588380920944, 0.18616933487374154, 0.27875887110084174, 0.3028552566430104, 0.4129394289486714, 0.5098201023271167, 0.6367387357649777, 0.7651427628321505, 0.9709523023601254, 1.2171975573526985, 1.5137811520052813, 1.6750288826539033, 2.0567750453870275, 2.4943059910876384, 2.9146723881828684, 2.929526324475986, 3.9577488034329096, 4.617923749793695, 5.199867965010728, 5.894206964845684, 6.772569730978709, 7.760521538207625, 8.842713319029542, 9.760356494471035, 10.550750949001486, 11.417065522363426, 12.27694338999835, 13.292457501237829, 14.27595312757881, 15.26192440996864, 16.122957583759696, 16.79138471694999, 17.460306981350058, 18.249546129724376], \"yaxis\": \"y\"}, {\"hovertemplate\": \"Pa\\u00edses e territ\\u00f3rios=Japan<br>Dias desde o caso n\\u00famero 50=%{x}<br>Relativa=%{y}<extra></extra>\", \"legendgroup\": \"Japan\", \"line\": {\"color\": \"green\", \"dash\": \"solid\"}, \"mode\": \"lines\", \"name\": \"Japan\", \"showlegend\": true, \"type\": \"scatter\", \"x\": [0, 1, 2, 3, 4, 5, 6, 7, 8, 9, 10, 11, 12, 13, 14, 15, 16, 17, 18, 19, 20, 21, 22, 23, 24, 25, 26, 27, 28, 29, 30, 31, 32, 33, 34, 35, 36, 37, 38, 39, 40, 41, 42, 43, 44, 45, 46], \"xaxis\": \"x\", \"y\": [0.004100946372239748, 0.004652996845425868, 0.004652996845425868, 0.0052050473186119875, 0.006624605678233439, 0.007334384858044164, 0.008280757097791799, 0.010410094637223975, 0.011356466876971609, 0.011356466876971609, 0.012933753943217666, 0.014668769716088327, 0.016561514195583597, 0.018138801261829655, 0.018848580441640377, 0.02003154574132492, 0.02003154574132492, 0.02113564668769716, 0.025, 0.02752365930599369, 0.032176656151419555, 0.03588328075709779, 0.038485804416403785, 0.04053627760252366, 0.044794952681388014, 0.04881703470031546, 0.05323343848580442, 0.05812302839116719, 0.061514195583596214, 0.06419558359621451, 0.06498422712933755, 0.06537854889589906, 0.06884858044164038, 0.0749211356466877, 0.07941640378548896, 0.08249211356466878, 0.0858832807570978, 0.08895899053627761, 0.09408517350157729, 0.1, 0.10757097791798108, 0.11821766561514195, 0.1335173501577287, 0.1471608832807571, 0.15402208201892745, 0.15402208201892745, 0.1717665615141956], \"yaxis\": \"y\"}, {\"hovertemplate\": \"Pa\\u00edses e territ\\u00f3rios=United_Kingdom<br>Dias desde o caso n\\u00famero 50=%{x}<br>Relativa=%{y}<extra></extra>\", \"legendgroup\": \"United_Kingdom\", \"line\": {\"color\": \"darkmagenta\", \"dash\": \"solid\"}, \"mode\": \"lines\", \"name\": \"United_Kingdom\", \"showlegend\": true, \"type\": \"scatter\", \"x\": [0, 1, 2, 3, 4, 5, 6, 7, 8, 9, 10, 11, 12, 13, 14, 15, 16, 17, 18, 19, 20, 21, 22, 23, 24, 25, 26, 27, 28, 29], \"xaxis\": \"x\", \"y\": [0.007722592368261659, 0.0128709872804361, 0.017413688673531193, 0.024682010902483342, 0.03119321623258631, 0.04133858267716536, 0.04860690490611751, 0.056480920654149, 0.06904906117504543, 0.08933979406420352, 0.10705632949727438, 0.17262265293761356, 0.2106299212598425, 0.23364627498485765, 0.2952755905511811, 0.3982434887946699, 0.49621441550575407, 0.6031193216232587, 0.7598425196850394, 0.8605390672319806, 1.0069654754694124, 1.223046638400969, 1.4429133858267718, 1.7652937613567534, 2.202150211992732, 2.5876741368867355, 2.9560872198667476, 3.352665051483949, 3.808298001211387, 4.46305269533616], \"yaxis\": \"y\"}, {\"hovertemplate\": \"Pa\\u00edses e territ\\u00f3rios=United_States_of_America<br>Dias desde o caso n\\u00famero 50=%{x}<br>Relativa=%{y}<extra></extra>\", \"legendgroup\": \"United_States_of_America\", \"line\": {\"color\": \"gray\", \"dash\": \"solid\"}, \"mode\": \"lines\", \"name\": \"United_States_of_America\", \"showlegend\": true, \"type\": \"scatter\", \"x\": [0, 1, 2, 3, 4, 5, 6, 7, 8, 9, 10, 11, 12, 13, 14, 15, 16, 17, 18, 19, 20, 21, 22, 23, 24, 25, 26, 27, 28, 29, 30, 31, 32, 33, 34, 35, 36, 37], \"xaxis\": \"x\", \"y\": [0.0016272643536997236, 0.0016272643536997236, 0.0018114829597789376, 0.00184218606079214, 0.002026404666871354, 0.002118513969910961, 0.0027325759901750076, 0.0031624194043598404, 0.003837887626650292, 0.004881793061099171, 0.007153822536076143, 0.010377648142462389, 0.01329444273871661, 0.017009517961314093, 0.02315013816395456, 0.031470678538532394, 0.040282468529321463, 0.05105925698495548, 0.06674854160270187, 0.09060485108996008, 0.1158735032238256, 0.14310715382253608, 0.1973288302118514, 0.2890696960393, 0.4375191894381332, 0.6025176542830826, 0.8212158428001228, 1.0809333742708014, 1.4259134172551429, 1.6957629720601781, 2.124470371507522, 2.6401903592262816, 3.2141848326680993, 3.827602087810869, 4.391311022413264, 5.054344488793368, 5.8218606079214, 6.654006754682223], \"yaxis\": \"y\"}, {\"hovertemplate\": \"Pa\\u00edses e territ\\u00f3rios=France<br>Dias desde o caso n\\u00famero 50=%{x}<br>Relativa=%{y}<extra></extra>\", \"legendgroup\": \"France\", \"line\": {\"color\": \"brown\", \"dash\": \"solid\"}, \"mode\": \"lines\", \"name\": \"France\", \"showlegend\": true, \"type\": \"scatter\", \"x\": [0, 1, 2, 3, 4, 5, 6, 7, 8, 9, 10, 11, 12, 13, 14, 15, 16, 17, 18, 19, 20, 21, 22, 23, 24, 25, 26, 27, 28, 29, 30, 31, 32, 33], \"xaxis\": \"x\", \"y\": [0.008536768009585144, 0.014976785981728321, 0.01946982177624682, 0.026658679047476413, 0.03175078628126404, 0.04268384004792571, 0.0633518047027108, 0.0918076980679946, 0.10723378762917478, 0.1686386101542609, 0.2114722180620039, 0.26718586191403326, 0.341620488243223, 0.4307323648345065, 0.5483001347910739, 0.6738056013179572, 0.8121911037891268, 0.9934102141680395, 1.1577055563875993, 1.3679796315710648, 1.646697618691029, 1.888872248015576, 2.165493485098098, 2.3989815785532427, 2.9737906245319756, 3.34012280964505, 3.7790924067695073, 4.366481952972892, 4.936947731016923, 5.627527332634417, 6.016774000299535, 6.672158154859967, 7.8070989965553395, 8.535120563127153], \"yaxis\": \"y\"}, {\"hovertemplate\": \"Pa\\u00edses e territ\\u00f3rios=South_Korea<br>Dias desde o caso n\\u00famero 50=%{x}<br>Relativa=%{y}<extra></extra>\", \"legendgroup\": \"South_Korea\", \"line\": {\"color\": \"orange\", \"dash\": \"solid\"}, \"mode\": \"lines\", \"name\": \"South_Korea\", \"showlegend\": true, \"type\": \"scatter\", \"x\": [0, 1, 2, 3, 4, 5, 6, 7, 8, 9, 10, 11, 12, 13, 14, 15, 16, 17, 18, 19, 20, 21, 22, 23, 24, 25, 26, 27, 28, 29, 30, 31, 32, 33, 34, 35, 36, 37, 38, 39, 40, 41, 42], \"xaxis\": \"x\", \"y\": [0.015543034777540314, 0.030114629881484358, 0.0670293374781426, 0.11676704876627161, 0.1480474062560715, 0.1733048377695745, 0.22265397318826502, 0.30988925587721, 0.39285020400233145, 0.5694579366621333, 0.6850592578200894, 0.8183407810374975, 0.93491354186905, 1.035166116184185, 1.1202642315912181, 1.2209053817757918, 1.3147464542451914, 1.3860501262871576, 1.4342335340975325, 1.4596852535457547, 1.5067029337478142, 1.5288517583058092, 1.5502234311249272, 1.5710122401398874, 1.5857781231785506, 1.6001554303477754, 1.6164756168641927, 1.6345443947930833, 1.66407616087041, 1.6809792111909851, 1.7095395375947153, 1.7285797551972022, 1.7410141830192345, 1.7557800660578977, 1.7752088595298232, 1.7954148047406255, 1.8130950068000777, 1.8414610452690887, 1.8618612784146105, 1.8770157373227123, 1.901301729162619, 1.901301729162619, 1.9382164367592774], \"yaxis\": \"y\"}, {\"hovertemplate\": \"Pa\\u00edses e territ\\u00f3rios=Spain<br>Dias desde o caso n\\u00famero 50=%{x}<br>Relativa=%{y}<extra></extra>\", \"legendgroup\": \"Spain\", \"line\": {\"color\": \"magenta\", \"dash\": \"solid\"}, \"mode\": \"lines\", \"name\": \"Spain\", \"showlegend\": true, \"type\": \"scatter\", \"x\": [0, 1, 2, 3, 4, 5, 6, 7, 8, 9, 10, 11, 12, 13, 14, 15, 16, 17, 18, 19, 20, 21, 22, 23, 24, 25, 26, 27, 28, 29, 30, 31, 32], \"xaxis\": \"x\", \"y\": [0.014184397163120567, 0.017837954008166772, 0.024500322372662798, 0.032452181388351604, 0.04298302170642596, 0.05609284332688588, 0.08037825059101655, 0.09241349666881582, 0.12658499892542446, 0.2587577906726843, 0.35224586288416077, 0.4599183322587578, 0.645604986030518, 0.9093058241994412, 1.2364066193853427, 1.6662368364496023, 1.975284762518805, 2.402321083172147, 2.9477756286266925, 3.68514936600043, 4.294003868471954, 5.356973995271868, 6.140554480980013, 7.111326026219643, 8.526327100795186, 10.232108317214701, 12.07565011820331, 13.767246937459703, 15.527186761229315, 16.934665807006233, 18.3096926713948, 20.2916398022781, 21.95056952503761], \"yaxis\": \"y\"}, {\"hovertemplate\": \"Pa\\u00edses e territ\\u00f3rios=Argentina<br>Dias desde o caso n\\u00famero 50=%{x}<br>Relativa=%{y}<extra></extra>\", \"legendgroup\": \"Argentina\", \"line\": {\"color\": \"red\", \"dash\": \"solid\"}, \"mode\": \"lines\", \"name\": \"Argentina\", \"showlegend\": true, \"type\": \"scatter\", \"x\": [0, 1, 2, 3, 4, 5, 6, 7, 8, 9, 10, 11, 12, 13, 14, 15, 16, 17], \"xaxis\": \"x\", \"y\": [0.012649649875762368, 0.01468262932008132, 0.01784504178902191, 0.021911000677659814, 0.02891348543031398, 0.03569008357804382, 0.0508244861079738, 0.060085836909871244, 0.06799186808222273, 0.08741811610571493, 0.11339507567201265, 0.13304721030042918, 0.15586175739778632, 0.16828552066862434, 0.18522701603794894, 0.21820646035690083, 0.21820646035690083, 0.2559295233792636], \"yaxis\": \"y\"}, {\"hovertemplate\": \"Pa\\u00edses e territ\\u00f3rios=India<br>Dias desde o caso n\\u00famero 50=%{x}<br>Relativa=%{y}<extra></extra>\", \"legendgroup\": \"India\", \"line\": {\"color\": \"darkblue\", \"dash\": \"solid\"}, \"mode\": \"lines\", \"name\": \"India\", \"showlegend\": true, \"type\": \"scatter\", \"x\": [0, 1, 2, 3, 4, 5, 6, 7, 8, 9, 10, 11, 12, 13, 14, 15, 16, 17, 18, 19, 20, 21, 22], \"xaxis\": \"x\", \"y\": [0.0003734129947722181, 0.0005451829723674384, 0.0005601194921583271, 0.000619865571321882, 0.0006721433905899926, 0.0006945481702763256, 0.0009335324869305452, 0.0010231516056758774, 0.0012322628827483196, 0.001426437640029873, 0.0017251680358476476, 0.002389843166542196, 0.0032785660941000746, 0.003674383868558626, 0.004197162061239731, 0.004846900672143391, 0.005407020164301717, 0.006519790888722928, 0.0073114264376400295, 0.007998506348020911, 0.009342793129200897, 0.010433159073935773, 0.01467513069454817], \"yaxis\": \"y\"}, {\"hovertemplate\": \"Pa\\u00edses e territ\\u00f3rios=Mexico<br>Dias desde o caso n\\u00famero 50=%{x}<br>Relativa=%{y}<extra></extra>\", \"legendgroup\": \"Mexico\", \"line\": {\"color\": \"lightgreen\", \"dash\": \"solid\"}, \"mode\": \"lines\", \"name\": \"Mexico\", \"showlegend\": true, \"type\": \"scatter\", \"x\": [0, 1, 2, 3, 4, 5, 6, 7, 8, 9, 10, 11, 12, 13, 14, 15, 16, 17], \"xaxis\": \"x\", \"y\": [0.01139050075220288, 0.017623038899634645, 0.019987105093488073, 0.025359982806791317, 0.03524607779926929, 0.04362776703202235, 0.05394369224156458, 0.06791317429615303, 0.07887384483129165, 0.08704061895551257, 0.10208467655276166, 0.12572533849129594, 0.15409413281753706, 0.18224801203524607, 0.2134107027724049, 0.23511712873415, 0.2611218568665377, 0.29615301955727485], \"yaxis\": \"y\"}, {\"hovertemplate\": \"Pa\\u00edses e territ\\u00f3rios=Germany<br>Dias desde o caso n\\u00famero 50=%{x}<br>Relativa=%{y}<extra></extra>\", \"legendgroup\": \"Germany\", \"line\": {\"color\": \"coral\", \"dash\": \"solid\"}, \"mode\": \"lines\", \"name\": \"Germany\", \"showlegend\": true, \"type\": \"scatter\", \"x\": [0, 1, 2, 3, 4, 5, 6, 7, 8, 9, 10, 11, 12, 13, 14, 15, 16, 17, 18, 19, 20, 21, 22, 23, 24, 25, 26, 27, 28, 29, 30, 31, 32, 33], \"xaxis\": \"x\", \"y\": [0.006907416383906932, 0.01345128453708192, 0.015632573921473582, 0.01902569074163839, 0.02375181774115366, 0.031749878817256424, 0.048473097430925836, 0.08288899660688318, 0.10264178380998545, 0.10930683470673776, 0.1380271449345613, 0.1570528356761997, 0.18989335918565195, 0.2870819195346583, 0.37106156083373726, 0.45988851187590885, 0.586282113427048, 0.7285506543868153, 0.8671837130392632, 0.993456131846825, 1.7132816286960737, 2.2039505574406206, 2.600945225399903, 3.0021812893843918, 3.5399903053805137, 3.8238002908385846, 4.424139602520601, 5.12457586039748, 5.887300048473097, 6.367789626757149, 6.943528841492971, 7.502787203102279, 8.163596703829375, 8.909597673291323], \"yaxis\": \"y\"}, {\"hovertemplate\": \"Pa\\u00edses e territ\\u00f3rios=Czech_Republic<br>Dias desde o caso n\\u00famero 50=%{x}<br>Relativa=%{y}<extra></extra>\", \"legendgroup\": \"Czech_Republic\", \"line\": {\"color\": \"lightblue\", \"dash\": \"solid\"}, \"mode\": \"lines\", \"name\": \"Czech_Republic\", \"showlegend\": true, \"type\": \"scatter\", \"x\": [0, 1, 2, 3, 4, 5, 6, 7, 8, 9, 10, 11, 12, 13, 14, 15, 16, 17, 18, 19, 20, 21, 22], \"xaxis\": \"x\", \"y\": [0.05920496193966733, 0.08833756225918618, 0.10901231087303825, 0.14096419509444602, 0.20110891833474298, 0.28004886758763275, 0.3232778874165962, 0.4078564044732638, 0.49055539892867217, 0.6521943426369703, 0.8495442157691947, 0.935062494126492, 1.0948219152335308, 1.1615449675782352, 1.3100272530777184, 1.554365191241425, 1.937787801898318, 2.14171600413495, 2.5025843435767317, 2.658584719481252, 2.8211634244901798, 3.10873038248285, 3.3728033079597783], \"yaxis\": \"y\"}, {\"hovertemplate\": \"Pa\\u00edses e territ\\u00f3rios=China<br>Dias desde o caso n\\u00famero 50=%{x}<br>Relativa=%{y}<extra></extra>\", \"legendgroup\": \"China\", \"line\": {\"color\": \"black\", \"dash\": \"solid\"}, \"mode\": \"lines\", \"name\": \"China\", \"showlegend\": true, \"type\": \"scatter\", \"x\": [0, 1, 2, 3, 4, 5, 6, 7, 8, 9, 10, 11, 12, 13, 14, 15, 16, 17, 18, 19, 20, 21, 22, 23, 24, 25, 26, 27, 28, 29, 30, 31, 32, 33, 34, 35, 36, 37, 38, 39, 40, 41, 42, 43, 44, 45, 46, 47, 48, 49, 50, 51, 52, 53, 54, 55, 56, 57, 58, 59, 60, 61, 62, 63, 64, 65, 66, 67, 68, 69, 70, 71, 72, 73, 74, 75, 76, 77, 78, 79, 80, 81, 82, 83, 84, 85, 86, 87, 88], \"xaxis\": \"x\", \"y\": [0.0004256854256854257, 0.0004256854256854257, 0.0004256854256854257, 0.0004256854256854257, 0.0004256854256854257, 0.0004256854256854257, 0.0004256854256854257, 0.0004256854256854257, 0.0004256854256854257, 0.0004256854256854257, 0.0004256854256854257, 0.0004256854256854257, 0.00045454545454545455, 0.0005772005772005772, 0.0015584415584415584, 0.0016955266955266956, 0.002784992784992785, 0.0037950937950937953, 0.004494949494949495, 0.006363636363636364, 0.009545454545454546, 0.014343434343434344, 0.02002164502164502, 0.03266955266955267, 0.04324675324675325, 0.0558008658008658, 0.07008658008658009, 0.0852020202020202, 0.10388888888888889, 0.12417748917748918, 0.14753246753246754, 0.17546897546897547, 0.20235930735930735, 0.22515873015873017, 0.24981962481962483, 0.2686291486291486, 0.29008658008658006, 0.3080519480519481, 0.3226839826839827, 0.43192640692640694, 0.4619119769119769, 0.4802236652236652, 0.4947041847041847, 0.5095093795093795, 0.5231457431457431, 0.5357720057720058, 0.5386147186147187, 0.54504329004329, 0.551002886002886, 0.5556709956709956, 0.5572438672438672, 0.560959595959596, 0.5639177489177489, 0.5670851370851371, 0.5694588744588744, 0.5725468975468976, 0.5766883116883117, 0.5781673881673882, 0.5790836940836941, 0.57994227994228, 0.5807864357864357, 0.582012987012987, 0.5827417027417028, 0.5830735930735931, 0.5833982683982684, 0.5835425685425686, 0.5837518037518038, 0.583924963924964, 0.5840836940836941, 0.5842207792207792, 0.5843795093795093, 0.5845598845598846, 0.5848701298701299, 0.585036075036075, 0.5853535353535354, 0.5860678210678211, 0.5864430014430014, 0.5869119769119769, 0.5879076479076479, 0.5884054834054834, 0.5889682539682539, 0.5897041847041847, 0.5903823953823953, 0.5912409812409812, 0.5920562770562771, 0.5927633477633477, 0.5933694083694083, 0.5937590187590187, 0.5944805194805195], \"yaxis\": \"y\"}],\n",
              "                        {\"legend\": {\"borderwidth\": 0, \"font\": {\"size\": 8}, \"orientation\": \"v\", \"title\": {\"text\": \"Pa\\u00eds\"}, \"tracegroupgap\": 0, \"yanchor\": \"top\"}, \"template\": {\"data\": {\"bar\": [{\"error_x\": {\"color\": \"#2a3f5f\"}, \"error_y\": {\"color\": \"#2a3f5f\"}, \"marker\": {\"line\": {\"color\": \"#E5ECF6\", \"width\": 0.5}}, \"type\": \"bar\"}], \"barpolar\": [{\"marker\": {\"line\": {\"color\": \"#E5ECF6\", \"width\": 0.5}}, \"type\": \"barpolar\"}], \"carpet\": [{\"aaxis\": {\"endlinecolor\": \"#2a3f5f\", \"gridcolor\": \"white\", \"linecolor\": \"white\", \"minorgridcolor\": \"white\", \"startlinecolor\": \"#2a3f5f\"}, \"baxis\": {\"endlinecolor\": \"#2a3f5f\", \"gridcolor\": \"white\", \"linecolor\": \"white\", \"minorgridcolor\": \"white\", \"startlinecolor\": \"#2a3f5f\"}, \"type\": \"carpet\"}], \"choropleth\": [{\"colorbar\": {\"outlinewidth\": 0, \"ticks\": \"\"}, \"type\": \"choropleth\"}], \"contour\": [{\"colorbar\": {\"outlinewidth\": 0, \"ticks\": \"\"}, \"colorscale\": [[0.0, \"#0d0887\"], [0.1111111111111111, \"#46039f\"], [0.2222222222222222, \"#7201a8\"], [0.3333333333333333, \"#9c179e\"], [0.4444444444444444, \"#bd3786\"], [0.5555555555555556, \"#d8576b\"], [0.6666666666666666, \"#ed7953\"], [0.7777777777777778, \"#fb9f3a\"], [0.8888888888888888, \"#fdca26\"], [1.0, \"#f0f921\"]], \"type\": \"contour\"}], \"contourcarpet\": [{\"colorbar\": {\"outlinewidth\": 0, \"ticks\": \"\"}, \"type\": \"contourcarpet\"}], \"heatmap\": [{\"colorbar\": {\"outlinewidth\": 0, \"ticks\": \"\"}, \"colorscale\": [[0.0, \"#0d0887\"], [0.1111111111111111, \"#46039f\"], [0.2222222222222222, \"#7201a8\"], [0.3333333333333333, \"#9c179e\"], [0.4444444444444444, \"#bd3786\"], [0.5555555555555556, \"#d8576b\"], [0.6666666666666666, \"#ed7953\"], [0.7777777777777778, \"#fb9f3a\"], [0.8888888888888888, \"#fdca26\"], [1.0, \"#f0f921\"]], \"type\": \"heatmap\"}], \"heatmapgl\": [{\"colorbar\": {\"outlinewidth\": 0, \"ticks\": \"\"}, \"colorscale\": [[0.0, \"#0d0887\"], [0.1111111111111111, \"#46039f\"], [0.2222222222222222, \"#7201a8\"], [0.3333333333333333, \"#9c179e\"], [0.4444444444444444, \"#bd3786\"], [0.5555555555555556, \"#d8576b\"], [0.6666666666666666, \"#ed7953\"], [0.7777777777777778, \"#fb9f3a\"], [0.8888888888888888, \"#fdca26\"], [1.0, \"#f0f921\"]], \"type\": \"heatmapgl\"}], \"histogram\": [{\"marker\": {\"colorbar\": {\"outlinewidth\": 0, \"ticks\": \"\"}}, \"type\": \"histogram\"}], \"histogram2d\": [{\"colorbar\": {\"outlinewidth\": 0, \"ticks\": \"\"}, \"colorscale\": [[0.0, \"#0d0887\"], [0.1111111111111111, \"#46039f\"], [0.2222222222222222, \"#7201a8\"], [0.3333333333333333, \"#9c179e\"], [0.4444444444444444, \"#bd3786\"], [0.5555555555555556, \"#d8576b\"], [0.6666666666666666, \"#ed7953\"], [0.7777777777777778, \"#fb9f3a\"], [0.8888888888888888, \"#fdca26\"], [1.0, \"#f0f921\"]], \"type\": \"histogram2d\"}], \"histogram2dcontour\": [{\"colorbar\": {\"outlinewidth\": 0, \"ticks\": \"\"}, \"colorscale\": [[0.0, \"#0d0887\"], [0.1111111111111111, \"#46039f\"], [0.2222222222222222, \"#7201a8\"], [0.3333333333333333, \"#9c179e\"], [0.4444444444444444, \"#bd3786\"], [0.5555555555555556, \"#d8576b\"], [0.6666666666666666, \"#ed7953\"], [0.7777777777777778, \"#fb9f3a\"], [0.8888888888888888, \"#fdca26\"], [1.0, \"#f0f921\"]], \"type\": \"histogram2dcontour\"}], \"mesh3d\": [{\"colorbar\": {\"outlinewidth\": 0, \"ticks\": \"\"}, \"type\": \"mesh3d\"}], \"parcoords\": [{\"line\": {\"colorbar\": {\"outlinewidth\": 0, \"ticks\": \"\"}}, \"type\": \"parcoords\"}], \"pie\": [{\"automargin\": true, \"type\": \"pie\"}], \"scatter\": [{\"marker\": {\"colorbar\": {\"outlinewidth\": 0, \"ticks\": \"\"}}, \"type\": \"scatter\"}], \"scatter3d\": [{\"line\": {\"colorbar\": {\"outlinewidth\": 0, \"ticks\": \"\"}}, \"marker\": {\"colorbar\": {\"outlinewidth\": 0, \"ticks\": \"\"}}, \"type\": \"scatter3d\"}], \"scattercarpet\": [{\"marker\": {\"colorbar\": {\"outlinewidth\": 0, \"ticks\": \"\"}}, \"type\": \"scattercarpet\"}], \"scattergeo\": [{\"marker\": {\"colorbar\": {\"outlinewidth\": 0, \"ticks\": \"\"}}, \"type\": \"scattergeo\"}], \"scattergl\": [{\"marker\": {\"colorbar\": {\"outlinewidth\": 0, \"ticks\": \"\"}}, \"type\": \"scattergl\"}], \"scattermapbox\": [{\"marker\": {\"colorbar\": {\"outlinewidth\": 0, \"ticks\": \"\"}}, \"type\": \"scattermapbox\"}], \"scatterpolar\": [{\"marker\": {\"colorbar\": {\"outlinewidth\": 0, \"ticks\": \"\"}}, \"type\": \"scatterpolar\"}], \"scatterpolargl\": [{\"marker\": {\"colorbar\": {\"outlinewidth\": 0, \"ticks\": \"\"}}, \"type\": \"scatterpolargl\"}], \"scatterternary\": [{\"marker\": {\"colorbar\": {\"outlinewidth\": 0, \"ticks\": \"\"}}, \"type\": \"scatterternary\"}], \"surface\": [{\"colorbar\": {\"outlinewidth\": 0, \"ticks\": \"\"}, \"colorscale\": [[0.0, \"#0d0887\"], [0.1111111111111111, \"#46039f\"], [0.2222222222222222, \"#7201a8\"], [0.3333333333333333, \"#9c179e\"], [0.4444444444444444, \"#bd3786\"], [0.5555555555555556, \"#d8576b\"], [0.6666666666666666, \"#ed7953\"], [0.7777777777777778, \"#fb9f3a\"], [0.8888888888888888, \"#fdca26\"], [1.0, \"#f0f921\"]], \"type\": \"surface\"}], \"table\": [{\"cells\": {\"fill\": {\"color\": \"#EBF0F8\"}, \"line\": {\"color\": \"white\"}}, \"header\": {\"fill\": {\"color\": \"#C8D4E3\"}, \"line\": {\"color\": \"white\"}}, \"type\": \"table\"}]}, \"layout\": {\"annotationdefaults\": {\"arrowcolor\": \"#2a3f5f\", \"arrowhead\": 0, \"arrowwidth\": 1}, \"coloraxis\": {\"colorbar\": {\"outlinewidth\": 0, \"ticks\": \"\"}}, \"colorscale\": {\"diverging\": [[0, \"#8e0152\"], [0.1, \"#c51b7d\"], [0.2, \"#de77ae\"], [0.3, \"#f1b6da\"], [0.4, \"#fde0ef\"], [0.5, \"#f7f7f7\"], [0.6, \"#e6f5d0\"], [0.7, \"#b8e186\"], [0.8, \"#7fbc41\"], [0.9, \"#4d9221\"], [1, \"#276419\"]], \"sequential\": [[0.0, \"#0d0887\"], [0.1111111111111111, \"#46039f\"], [0.2222222222222222, \"#7201a8\"], [0.3333333333333333, \"#9c179e\"], [0.4444444444444444, \"#bd3786\"], [0.5555555555555556, \"#d8576b\"], [0.6666666666666666, \"#ed7953\"], [0.7777777777777778, \"#fb9f3a\"], [0.8888888888888888, \"#fdca26\"], [1.0, \"#f0f921\"]], \"sequentialminus\": [[0.0, \"#0d0887\"], [0.1111111111111111, \"#46039f\"], [0.2222222222222222, \"#7201a8\"], [0.3333333333333333, \"#9c179e\"], [0.4444444444444444, \"#bd3786\"], [0.5555555555555556, \"#d8576b\"], [0.6666666666666666, \"#ed7953\"], [0.7777777777777778, \"#fb9f3a\"], [0.8888888888888888, \"#fdca26\"], [1.0, \"#f0f921\"]]}, \"colorway\": [\"#636efa\", \"#EF553B\", \"#00cc96\", \"#ab63fa\", \"#FFA15A\", \"#19d3f3\", \"#FF6692\", \"#B6E880\", \"#FF97FF\", \"#FECB52\"], \"font\": {\"color\": \"#2a3f5f\"}, \"geo\": {\"bgcolor\": \"white\", \"lakecolor\": \"white\", \"landcolor\": \"#E5ECF6\", \"showlakes\": true, \"showland\": true, \"subunitcolor\": \"white\"}, \"hoverlabel\": {\"align\": \"left\"}, \"hovermode\": \"closest\", \"mapbox\": {\"style\": \"light\"}, \"paper_bgcolor\": \"white\", \"plot_bgcolor\": \"#E5ECF6\", \"polar\": {\"angularaxis\": {\"gridcolor\": \"white\", \"linecolor\": \"white\", \"ticks\": \"\"}, \"bgcolor\": \"#E5ECF6\", \"radialaxis\": {\"gridcolor\": \"white\", \"linecolor\": \"white\", \"ticks\": \"\"}}, \"scene\": {\"xaxis\": {\"backgroundcolor\": \"#E5ECF6\", \"gridcolor\": \"white\", \"gridwidth\": 2, \"linecolor\": \"white\", \"showbackground\": true, \"ticks\": \"\", \"zerolinecolor\": \"white\"}, \"yaxis\": {\"backgroundcolor\": \"#E5ECF6\", \"gridcolor\": \"white\", \"gridwidth\": 2, \"linecolor\": \"white\", \"showbackground\": true, \"ticks\": \"\", \"zerolinecolor\": \"white\"}, \"zaxis\": {\"backgroundcolor\": \"#E5ECF6\", \"gridcolor\": \"white\", \"gridwidth\": 2, \"linecolor\": \"white\", \"showbackground\": true, \"ticks\": \"\", \"zerolinecolor\": \"white\"}}, \"shapedefaults\": {\"line\": {\"color\": \"#2a3f5f\"}}, \"ternary\": {\"aaxis\": {\"gridcolor\": \"white\", \"linecolor\": \"white\", \"ticks\": \"\"}, \"baxis\": {\"gridcolor\": \"white\", \"linecolor\": \"white\", \"ticks\": \"\"}, \"bgcolor\": \"#E5ECF6\", \"caxis\": {\"gridcolor\": \"white\", \"linecolor\": \"white\", \"ticks\": \"\"}}, \"title\": {\"x\": 0.05}, \"xaxis\": {\"automargin\": true, \"gridcolor\": \"white\", \"linecolor\": \"white\", \"ticks\": \"\", \"title\": {\"standoff\": 15}, \"zerolinecolor\": \"white\", \"zerolinewidth\": 2}, \"yaxis\": {\"automargin\": true, \"gridcolor\": \"white\", \"linecolor\": \"white\", \"ticks\": \"\", \"title\": {\"standoff\": 15}, \"zerolinecolor\": \"white\", \"zerolinewidth\": 2}}}, \"title\": {\"text\": \"COVID-19 - Contamina\\u00e7\\u00e3o relativa  02-04-2020 \\nCasos a cada 10 mil habitantes - E. Aritm\\u00e9tica\"}, \"xaxis\": {\"anchor\": \"y\", \"domain\": [0.0, 1.0], \"title\": {\"text\": \"Dias desde o caso n\\u00famero 50\"}}, \"yaxis\": {\"anchor\": \"x\", \"domain\": [0.0, 1.0], \"title\": {\"text\": \"Relativa\"}}},\n",
              "                        {\"responsive\": true}\n",
              "                    ).then(function(){\n",
              "                            \n",
              "var gd = document.getElementById('b2bbc2bb-df3e-41cc-91ac-95e2834bdbdf');\n",
              "var x = new MutationObserver(function (mutations, observer) {{\n",
              "        var display = window.getComputedStyle(gd).display;\n",
              "        if (!display || display === 'none') {{\n",
              "            console.log([gd, 'removed!']);\n",
              "            Plotly.purge(gd);\n",
              "            observer.disconnect();\n",
              "        }}\n",
              "}});\n",
              "\n",
              "// Listen for the removal of the full notebook cells\n",
              "var notebookContainer = gd.closest('#notebook-container');\n",
              "if (notebookContainer) {{\n",
              "    x.observe(notebookContainer, {childList: true});\n",
              "}}\n",
              "\n",
              "// Listen for the clearing of the current output cell\n",
              "var outputEl = gd.closest('.output');\n",
              "if (outputEl) {{\n",
              "    x.observe(outputEl, {childList: true});\n",
              "}}\n",
              "\n",
              "                        })\n",
              "                };\n",
              "                \n",
              "            </script>\n",
              "        </div>\n",
              "</body>\n",
              "</html>"
            ]
          },
          "metadata": {
            "tags": []
          }
        }
      ]
    },
    {
      "cell_type": "markdown",
      "metadata": {
        "colab_type": "text",
        "id": "Lus3_NdWU6m3"
      },
      "source": [
        "<center> <h2> Mortes </h2> </center>"
      ]
    },
    {
      "cell_type": "code",
      "metadata": {
        "colab_type": "code",
        "id": "u3K9s3bWkBsx",
        "colab": {}
      },
      "source": [
        "#hide\n",
        "mortos = data2[['dateRep','deaths','countriesAndTerritories']]\n",
        "mortos.columns = ['dateRep','deaths','countriesAndTerritories']"
      ],
      "execution_count": 0,
      "outputs": []
    },
    {
      "cell_type": "code",
      "metadata": {
        "id": "IV_wNDtKTqRZ",
        "colab_type": "code",
        "colab": {}
      },
      "source": [
        "#hide\n",
        "mgermany = mortos[mortos['countriesAndTerritories']=='Germany']\n",
        "mgermany.sort_index(ascending=False,inplace=True)\n",
        "mgermany['Cumulativo'] = mgermany['deaths'].cumsum()\n",
        "mgermany = mgermany[mgermany['Cumulativo']>=1]\n",
        "mgermany.reset_index(drop=True, inplace=True)\n",
        "mgermany.drop(['deaths','dateRep'],axis=1,inplace=True)\n"
      ],
      "execution_count": 0,
      "outputs": []
    },
    {
      "cell_type": "code",
      "metadata": {
        "colab_type": "code",
        "id": "5G4iWsHGLOuT",
        "colab": {}
      },
      "source": [
        "#hide\n",
        "mitaly = mortos[mortos['countriesAndTerritories']=='Italy']\n",
        "mitaly.sort_index(ascending=False,inplace=True)\n",
        "mitaly['Cumulativo'] = mitaly['deaths'].cumsum()\n",
        "mitaly = mitaly[mitaly['Cumulativo']>=1]\n",
        "mitaly.reset_index(drop=True, inplace=True)\n",
        "mitaly.drop(['deaths','dateRep'],axis=1,inplace=True)\n"
      ],
      "execution_count": 0,
      "outputs": []
    },
    {
      "cell_type": "code",
      "metadata": {
        "colab_type": "code",
        "id": "8B_wTGnzi_Gb",
        "colab": {}
      },
      "source": [
        "#hide\n",
        "margentina = mortos[mortos['countriesAndTerritories']=='Argentina']\n",
        "margentina.sort_index(ascending=False,inplace=True)\n",
        "margentina['Cumulativo'] = margentina['deaths'].cumsum()\n",
        "margentina = margentina[margentina['Cumulativo']>=1]\n",
        "margentina.reset_index(drop=True, inplace=True)\n",
        "margentina.drop(['deaths','dateRep'],axis=1,inplace=True)\n"
      ],
      "execution_count": 0,
      "outputs": []
    },
    {
      "cell_type": "code",
      "metadata": {
        "colab_type": "code",
        "id": "Kit8VB9MNFjS",
        "colab": {}
      },
      "source": [
        "#hide\n",
        "mbrazil = mortos[mortos['countriesAndTerritories']=='Brazil']\n",
        "mbrazil.sort_index(ascending=False,inplace=True)\n",
        "mbrazil['Cumulativo'] = mbrazil['deaths'].cumsum()\n",
        "mbrazil = mbrazil[mbrazil['Cumulativo']>=1]\n",
        "mbrazil.reset_index(drop=True, inplace=True)\n",
        "mbrazil.drop(['deaths','dateRep'],axis=1,inplace=True)\n"
      ],
      "execution_count": 0,
      "outputs": []
    },
    {
      "cell_type": "code",
      "metadata": {
        "colab_type": "code",
        "id": "Xf-wtyPAOoCq",
        "colab": {}
      },
      "source": [
        "#hide\n",
        "mjapan = mortos[mortos['countriesAndTerritories']=='Japan']\n",
        "mjapan.sort_index(ascending=False,inplace=True)\n",
        "mjapan['Cumulativo'] = mjapan['deaths'].cumsum()\n",
        "mjapan = mjapan[mjapan['Cumulativo']>=1]\n",
        "mjapan.reset_index(drop=True, inplace=True)\n",
        "mjapan.drop(['deaths','dateRep'],axis=1,inplace=True)\n"
      ],
      "execution_count": 0,
      "outputs": []
    },
    {
      "cell_type": "code",
      "metadata": {
        "colab_type": "code",
        "id": "X26cfdS3Ou0_",
        "colab": {}
      },
      "source": [
        "#hide\n",
        "msouth_korea = mortos[mortos['countriesAndTerritories']=='South_Korea']\n",
        "msouth_korea.sort_index(ascending=False,inplace=True)\n",
        "msouth_korea['Cumulativo'] = msouth_korea['deaths'].cumsum()\n",
        "msouth_korea = msouth_korea[msouth_korea['Cumulativo']>=1]\n",
        "msouth_korea.reset_index(drop=True, inplace=True)\n",
        "msouth_korea.drop(['deaths','dateRep'],axis=1,inplace=True)\n"
      ],
      "execution_count": 0,
      "outputs": []
    },
    {
      "cell_type": "code",
      "metadata": {
        "colab_type": "code",
        "id": "HDIuPzsvOvBF",
        "colab": {}
      },
      "source": [
        "#hide\n",
        "mus = mortos[mortos['countriesAndTerritories']=='United_States_of_America']\n",
        "mus.sort_index(ascending=False,inplace=True)\n",
        "mus['Cumulativo'] = mus['deaths'].cumsum()\n",
        "mus = mus[mus['Cumulativo']>=1]\n",
        "mus.reset_index(drop=True, inplace=True)\n",
        "mus.drop(['deaths','dateRep'],axis=1,inplace=True)\n"
      ],
      "execution_count": 0,
      "outputs": []
    },
    {
      "cell_type": "code",
      "metadata": {
        "colab_type": "code",
        "id": "Lf632oDcRAW0",
        "colab": {}
      },
      "source": [
        "#hide\n",
        "mfrance = mortos[mortos['countriesAndTerritories']=='France']\n",
        "mfrance.sort_index(ascending=False,inplace=True)\n",
        "mfrance['Cumulativo'] = mfrance['deaths'].cumsum()\n",
        "mfrance = mfrance[mfrance['Cumulativo']>=1]\n",
        "mfrance.reset_index(drop=True, inplace=True)\n",
        "mfrance.drop(['deaths','dateRep'],axis=1,inplace=True)\n"
      ],
      "execution_count": 0,
      "outputs": []
    },
    {
      "cell_type": "code",
      "metadata": {
        "colab_type": "code",
        "id": "4bw0YRwTOvLG",
        "colab": {}
      },
      "source": [
        "#hide\n",
        "muk = mortos[mortos['countriesAndTerritories']=='United_Kingdom']\n",
        "muk.sort_index(ascending=False,inplace=True)\n",
        "muk['Cumulativo'] = muk['deaths'].cumsum()\n",
        "muk = muk[muk['Cumulativo']>=1]\n",
        "muk.reset_index(drop=True, inplace=True)\n",
        "muk.drop(['deaths','dateRep'],axis=1,inplace=True)\n"
      ],
      "execution_count": 0,
      "outputs": []
    },
    {
      "cell_type": "code",
      "metadata": {
        "colab_type": "code",
        "id": "6E5oiuDIc60l",
        "colab": {}
      },
      "source": [
        "#hide\n",
        "mchina = mortos[mortos['countriesAndTerritories']=='China']\n",
        "mchina.sort_index(ascending=False,inplace=True)\n",
        "mchina['Cumulativo'] = mchina['deaths'].cumsum()\n",
        "mchina = mchina[mchina['Cumulativo']>=1]\n",
        "mchina.reset_index(drop=True, inplace=True)\n",
        "mchina.drop(['deaths','dateRep'],axis=1,inplace=True)\n"
      ],
      "execution_count": 0,
      "outputs": []
    },
    {
      "cell_type": "code",
      "metadata": {
        "colab_type": "code",
        "id": "a-Ty0E_xI2Kr",
        "colab": {}
      },
      "source": [
        "#hide\n",
        "mspain = mortos[mortos['countriesAndTerritories']=='Spain']\n",
        "mspain.sort_index(ascending=False,inplace=True)\n",
        "mspain['Cumulativo'] = mspain['deaths'].cumsum()\n",
        "mspain = mspain[mspain['Cumulativo']>=1]\n",
        "mspain.reset_index(drop=True, inplace=True)\n",
        "mspain.drop(['deaths','dateRep'],axis=1,inplace=True)\n"
      ],
      "execution_count": 0,
      "outputs": []
    },
    {
      "cell_type": "code",
      "metadata": {
        "id": "6kcW9cDHTqSK",
        "colab_type": "code",
        "colab": {}
      },
      "source": [
        "#hide\n",
        "mindia = mortos[mortos['countriesAndTerritories']=='India']\n",
        "mindia.sort_index(ascending=False,inplace=True)\n",
        "mindia['Cumulativo'] = mindia['deaths'].cumsum()\n",
        "mindia = mindia[mindia['Cumulativo']>=1]\n",
        "mindia.reset_index(drop=True, inplace=True)\n",
        "mindia.drop(['deaths','dateRep'],axis=1,inplace=True)\n"
      ],
      "execution_count": 0,
      "outputs": []
    },
    {
      "cell_type": "code",
      "metadata": {
        "scrolled": true,
        "id": "rc4ccUpsTqSO",
        "colab_type": "code",
        "colab": {}
      },
      "source": [
        "#hide\n",
        "mczech = mortos[mortos['countriesAndTerritories']=='Czech_Republic']\n",
        "mczech.sort_index(ascending=False,inplace=True)\n",
        "mczech['Cumulativo'] = mczech['deaths'].cumsum()\n",
        "mczech = mczech[mczech['Cumulativo']>=1]\n",
        "mczech.reset_index(drop=True, inplace=True)\n",
        "mczech.drop(['deaths','dateRep'],axis=1,inplace=True)\n"
      ],
      "execution_count": 0,
      "outputs": []
    },
    {
      "cell_type": "code",
      "metadata": {
        "colab_type": "code",
        "id": "rYUKX75ZOvUg",
        "colab": {}
      },
      "source": [
        "#hide\n",
        "# Tabela final de mortes\n",
        "mfinal_data=pd.concat([mbrazil,mitaly,mjapan,muk,mus,msouth_korea,mfrance,mchina,mspain,margentina,mindia,mgermany,mczech],axis=0)\n",
        "mfinal_data['Dias']=mfinal_data.index\n",
        "mfinal_data.columns = ['Países e territórios','Mortes', 'Dias desde a primeira morte']\n"
      ],
      "execution_count": 0,
      "outputs": []
    },
    {
      "cell_type": "code",
      "metadata": {
        "colab_type": "code",
        "id": "qVGKMMffOvcs",
        "colab": {}
      },
      "source": [
        "#hide\n",
        "mzoom = mfinal_data[mfinal_data['Mortes']<=100]"
      ],
      "execution_count": 0,
      "outputs": []
    },
    {
      "cell_type": "code",
      "metadata": {
        "colab_type": "code",
        "id": "OeL3tjqXOvmN",
        "colab": {}
      },
      "source": [
        "#hide\n",
        "mmeio_zoom = mfinal_data[mfinal_data['Mortes']<=500]"
      ],
      "execution_count": 0,
      "outputs": []
    },
    {
      "cell_type": "code",
      "metadata": {
        "colab_type": "code",
        "id": "wUSdAFVATC4J",
        "outputId": "0c251dd5-cd58-4227-a875-525a84ae4bbf",
        "colab": {
          "base_uri": "https://localhost:8080/",
          "height": 542
        }
      },
      "source": [
        "#hide_input\n",
        "#plt.figure(figsize=(6.5,8))\n",
        "#\n",
        "#sns.lineplot(x='Dias desde a primeira morte',y='Mortes',data=mzoom[mzoom['Países e territórios']=='Brazil'],color='black',linewidth=4,label='Brasil')\n",
        "#sns.lineplot(x='Dias desde a primeira morte',y='Mortes',data=mzoom[mzoom['Países e territórios']=='Italy'],label='Itália')\n",
        "#sns.lineplot(x='Dias desde a primeira morte',y='Mortes',data=mzoom[mzoom['Países e territórios']=='United_States_of_America'],label='Estados Unidos')\n",
        "#sns.lineplot(x='Dias desde a primeira morte',y='Mortes',data=mzoom[mzoom['Países e territórios']=='United_Kingdom'],label='Reino Unido')\n",
        "#sns.lineplot(x='Dias desde a primeira morte',y='Mortes',data=mzoom[mzoom['Países e territórios']=='South_Korea'],label= \"Coréia do Sul\")\n",
        "#sns.lineplot(x='Dias desde a primeira morte',y='Mortes',data=mzoom[mzoom['Países e territórios']=='France'],label='França')\n",
        "#sns.lineplot(x='Dias desde a primeira morte',y='Mortes',data=mzoom[mzoom['Países e territórios']=='Japan'],label='Japão')\n",
        "#sns.lineplot(x='Dias desde a primeira morte',y='Mortes',data=mzoom[mzoom['Países e territórios']=='China'],label='China',color='#244411')\n",
        "#sns.lineplot(x='Dias desde a primeira morte',y='Mortes',data=mzoom[mzoom['Países e territórios']=='Spain'],label='Espanha')\n",
        "#sns.lineplot(x='Dias desde a primeira morte',y='Mortes',data=mzoom[mzoom['Países e territórios']=='Argentina'],label='Argentina')\n",
        "#sns.lineplot(x='Dias desde a primeira morte',y='Mortes',data=mzoom[mzoom['Países e territórios']=='India'],label='Índia')\n",
        "#sns.lineplot(x='Dias desde a primeira morte',y='Mortes',data=mzoom[mzoom['Países e territórios']=='Czech_Republic'],label='República Tcheca')\n",
        "#\n",
        "#\n",
        "#plt.grid(color='black', linestyle='--', linewidth=0.17)\n",
        "#\n",
        "#\n",
        "#plt.yticks([25,50,75,100])\n",
        "#plt.xticks([ 0,  2,  4,  6,  8, 10, 12, 14, 16, 18, 20, 22, 24, 26, 28, 30, 32,34, 36, 38])\n",
        "#plt.title('COVID-19 - Mortes {} \\n Zoom até 100'.format(today))\n",
        "#plt.savefig(\"plots/05_mortes_corona_grafico_zoom.png\")\n",
        "#plt.show()\n",
        "\n",
        "fig = px.line(mzoom, x=\"Dias desde a primeira morte\", y=\"Mortes\",title='COVID-19 - Mortes {} \\n Zoom até 100'.format(today), \n",
        "              color='Países e territórios',color_discrete_sequence=[\"black\", \"blue\",'green',\"darkmagenta\",\"gray\",\"brown\",\"orange\",\"magenta\",'red',\"darkblue\",\"lightgreen\",'coral','lightblue'])\n",
        "fig.update_layout(legend= {'title':'País','borderwidth':0,'orientation':'v','yanchor':'top','font':{'size':8}})\n",
        "\n",
        "fig.update_layout()\n",
        "fig.show()"
      ],
      "execution_count": 206,
      "outputs": [
        {
          "output_type": "display_data",
          "data": {
            "text/html": [
              "<html>\n",
              "<head><meta charset=\"utf-8\" /></head>\n",
              "<body>\n",
              "    <div>\n",
              "            <script src=\"https://cdnjs.cloudflare.com/ajax/libs/mathjax/2.7.5/MathJax.js?config=TeX-AMS-MML_SVG\"></script><script type=\"text/javascript\">if (window.MathJax) {MathJax.Hub.Config({SVG: {font: \"STIX-Web\"}});}</script>\n",
              "                <script type=\"text/javascript\">window.PlotlyConfig = {MathJaxConfig: 'local'};</script>\n",
              "        <script src=\"https://cdn.plot.ly/plotly-latest.min.js\"></script>    \n",
              "            <div id=\"4395d818-0214-4ef5-8c87-1feb8366be61\" class=\"plotly-graph-div\" style=\"height:525px; width:100%;\"></div>\n",
              "            <script type=\"text/javascript\">\n",
              "                \n",
              "                    window.PLOTLYENV=window.PLOTLYENV || {};\n",
              "                    \n",
              "                if (document.getElementById(\"4395d818-0214-4ef5-8c87-1feb8366be61\")) {\n",
              "                    Plotly.newPlot(\n",
              "                        '4395d818-0214-4ef5-8c87-1feb8366be61',\n",
              "                        [{\"hovertemplate\": \"Pa\\u00edses e territ\\u00f3rios=Brazil<br>Dias desde a primeira morte=%{x}<br>Mortes=%{y}<extra></extra>\", \"legendgroup\": \"Brazil\", \"line\": {\"color\": \"black\", \"dash\": \"solid\"}, \"mode\": \"lines\", \"name\": \"Brazil\", \"showlegend\": true, \"type\": \"scatter\", \"x\": [0, 1, 2, 3, 4, 5, 6, 7, 8, 9, 10], \"xaxis\": \"x\", \"y\": [1, 4, 6, 11, 18, 25, 34, 46, 57, 77, 92], \"yaxis\": \"y\"}, {\"hovertemplate\": \"Pa\\u00edses e territ\\u00f3rios=Italy<br>Dias desde a primeira morte=%{x}<br>Mortes=%{y}<extra></extra>\", \"legendgroup\": \"Italy\", \"line\": {\"color\": \"blue\", \"dash\": \"solid\"}, \"mode\": \"lines\", \"name\": \"Italy\", \"showlegend\": true, \"type\": \"scatter\", \"x\": [0, 1, 2, 3, 4, 5, 6, 7, 8, 9, 10], \"xaxis\": \"x\", \"y\": [2, 2, 6, 11, 12, 17, 21, 29, 35, 52, 80], \"yaxis\": \"y\"}, {\"hovertemplate\": \"Pa\\u00edses e territ\\u00f3rios=Japan<br>Dias desde a primeira morte=%{x}<br>Mortes=%{y}<extra></extra>\", \"legendgroup\": \"Japan\", \"line\": {\"color\": \"green\", \"dash\": \"solid\"}, \"mode\": \"lines\", \"name\": \"Japan\", \"showlegend\": true, \"type\": \"scatter\", \"x\": [0, 1, 2, 3, 4, 5, 6, 7, 8, 9, 10, 11, 12, 13, 14, 15, 16, 17, 18, 19, 20, 21, 22, 23, 24, 25, 26, 27, 28, 29, 30, 31, 32, 33, 34, 35, 36, 37, 38, 39, 40, 41, 42, 43, 44, 45, 46, 47, 48, 49], \"xaxis\": \"x\", \"y\": [1, 1, 1, 1, 1, 1, 1, 1, 1, 1, 1, 1, 1, 1, 3, 3, 3, 5, 6, 6, 6, 6, 6, 6, 6, 7, 9, 12, 15, 19, 21, 22, 24, 28, 28, 29, 33, 35, 36, 41, 42, 43, 45, 46, 49, 52, 54, 56, 56, 57], \"yaxis\": \"y\"}, {\"hovertemplate\": \"Pa\\u00edses e territ\\u00f3rios=United_Kingdom<br>Dias desde a primeira morte=%{x}<br>Mortes=%{y}<extra></extra>\", \"legendgroup\": \"United_Kingdom\", \"line\": {\"color\": \"darkmagenta\", \"dash\": \"solid\"}, \"mode\": \"lines\", \"name\": \"United_Kingdom\", \"showlegend\": true, \"type\": \"scatter\", \"x\": [0, 1, 2, 3, 4, 5, 6, 7, 8, 9, 10, 11, 12], \"xaxis\": \"x\", \"y\": [1, 1, 2, 3, 5, 6, 6, 10, 10, 21, 35, 55, 60], \"yaxis\": \"y\"}, {\"hovertemplate\": \"Pa\\u00edses e territ\\u00f3rios=United_States_of_America<br>Dias desde a primeira morte=%{x}<br>Mortes=%{y}<extra></extra>\", \"legendgroup\": \"United_States_of_America\", \"line\": {\"color\": \"gray\", \"dash\": \"solid\"}, \"mode\": \"lines\", \"name\": \"United_States_of_America\", \"showlegend\": true, \"type\": \"scatter\", \"x\": [0, 1, 2, 3, 4, 5, 6, 7, 8, 9, 10, 11, 12, 13, 14, 15, 16], \"xaxis\": \"x\", \"y\": [1, 2, 6, 9, 11, 12, 14, 17, 21, 26, 28, 30, 40, 47, 57, 69, 85], \"yaxis\": \"y\"}, {\"hovertemplate\": \"Pa\\u00edses e territ\\u00f3rios=South_Korea<br>Dias desde a primeira morte=%{x}<br>Mortes=%{y}<extra></extra>\", \"legendgroup\": \"South_Korea\", \"line\": {\"color\": \"brown\", \"dash\": \"solid\"}, \"mode\": \"lines\", \"name\": \"South_Korea\", \"showlegend\": true, \"type\": \"scatter\", \"x\": [0, 1, 2, 3, 4, 5, 6, 7, 8, 9, 10, 11, 12, 13, 14, 15, 16, 17, 18, 19, 20, 21, 22, 23, 24, 25, 26, 27, 28], \"xaxis\": \"x\", \"y\": [1, 2, 5, 7, 8, 11, 12, 13, 16, 17, 22, 28, 32, 35, 42, 44, 50, 51, 54, 60, 66, 67, 72, 75, 75, 81, 86, 91, 100], \"yaxis\": \"y\"}, {\"hovertemplate\": \"Pa\\u00edses e territ\\u00f3rios=France<br>Dias desde a primeira morte=%{x}<br>Mortes=%{y}<extra></extra>\", \"legendgroup\": \"France\", \"line\": {\"color\": \"orange\", \"dash\": \"solid\"}, \"mode\": \"lines\", \"name\": \"France\", \"showlegend\": true, \"type\": \"scatter\", \"x\": [0, 1, 2, 3, 4, 5, 6, 7, 8, 9, 10, 11, 12, 13, 14, 15, 16, 17, 18, 19, 20, 21, 22, 23, 24, 25, 26, 27, 28, 29], \"xaxis\": \"x\", \"y\": [1, 1, 1, 1, 1, 1, 1, 1, 1, 1, 1, 1, 2, 2, 2, 2, 2, 3, 4, 4, 7, 9, 10, 19, 30, 33, 48, 61, 79, 91], \"yaxis\": \"y\"}, {\"hovertemplate\": \"Pa\\u00edses e territ\\u00f3rios=China<br>Dias desde a primeira morte=%{x}<br>Mortes=%{y}<extra></extra>\", \"legendgroup\": \"China\", \"line\": {\"color\": \"magenta\", \"dash\": \"solid\"}, \"mode\": \"lines\", \"name\": \"China\", \"showlegend\": true, \"type\": \"scatter\", \"x\": [0, 1, 2, 3, 4, 5, 6, 7, 8, 9, 10, 11, 12, 13, 14, 15, 16], \"xaxis\": \"x\", \"y\": [1, 1, 1, 1, 2, 2, 2, 2, 3, 3, 6, 17, 17, 26, 41, 56, 81], \"yaxis\": \"y\"}, {\"hovertemplate\": \"Pa\\u00edses e territ\\u00f3rios=Spain<br>Dias desde a primeira morte=%{x}<br>Mortes=%{y}<extra></extra>\", \"legendgroup\": \"Spain\", \"line\": {\"color\": \"red\", \"dash\": \"solid\"}, \"mode\": \"lines\", \"name\": \"Spain\", \"showlegend\": true, \"type\": \"scatter\", \"x\": [0, 1, 2, 3, 4, 5, 6, 7, 8], \"xaxis\": \"x\", \"y\": [1, 3, 5, 5, 5, 28, 35, 47, 84], \"yaxis\": \"y\"}, {\"hovertemplate\": \"Pa\\u00edses e territ\\u00f3rios=Argentina<br>Dias desde a primeira morte=%{x}<br>Mortes=%{y}<extra></extra>\", \"legendgroup\": \"Argentina\", \"line\": {\"color\": \"darkblue\", \"dash\": \"solid\"}, \"mode\": \"lines\", \"name\": \"Argentina\", \"showlegend\": true, \"type\": \"scatter\", \"x\": [0, 1, 2, 3, 4, 5, 6, 7, 8, 9, 10, 11, 12, 13, 14, 15, 16, 17, 18, 19, 20, 21, 22, 23], \"xaxis\": \"x\", \"y\": [1, 1, 1, 1, 2, 2, 2, 2, 2, 2, 3, 3, 4, 4, 4, 6, 8, 12, 17, 19, 20, 24, 24, 31], \"yaxis\": \"y\"}, {\"hovertemplate\": \"Pa\\u00edses e territ\\u00f3rios=India<br>Dias desde a primeira morte=%{x}<br>Mortes=%{y}<extra></extra>\", \"legendgroup\": \"India\", \"line\": {\"color\": \"lightgreen\", \"dash\": \"solid\"}, \"mode\": \"lines\", \"name\": \"India\", \"showlegend\": true, \"type\": \"scatter\", \"x\": [0, 1, 2, 3, 4, 5, 6, 7, 8, 9, 10, 11, 12, 13, 14, 15, 16, 17, 18, 19, 20], \"xaxis\": \"x\", \"y\": [1, 2, 2, 2, 3, 3, 3, 4, 4, 4, 7, 9, 9, 13, 17, 19, 25, 29, 32, 35, 50], \"yaxis\": \"y\"}, {\"hovertemplate\": \"Pa\\u00edses e territ\\u00f3rios=Germany<br>Dias desde a primeira morte=%{x}<br>Mortes=%{y}<extra></extra>\", \"legendgroup\": \"Germany\", \"line\": {\"color\": \"coral\", \"dash\": \"solid\"}, \"mode\": \"lines\", \"name\": \"Germany\", \"showlegend\": true, \"type\": \"scatter\", \"x\": [0, 1, 2, 3, 4, 5, 6, 7, 8, 9, 10, 11, 12, 13], \"xaxis\": \"x\", \"y\": [2, 2, 3, 5, 5, 8, 12, 13, 13, 13, 43, 45, 67, 94], \"yaxis\": \"y\"}, {\"hovertemplate\": \"Pa\\u00edses e territ\\u00f3rios=Czech_Republic<br>Dias desde a primeira morte=%{x}<br>Mortes=%{y}<extra></extra>\", \"legendgroup\": \"Czech_Republic\", \"line\": {\"color\": \"lightblue\", \"dash\": \"solid\"}, \"mode\": \"lines\", \"name\": \"Czech_Republic\", \"showlegend\": true, \"type\": \"scatter\", \"x\": [0, 1, 2, 3, 4, 5, 6, 7, 8, 9, 10], \"xaxis\": \"x\", \"y\": [1, 1, 3, 6, 9, 9, 11, 16, 24, 31, 39], \"yaxis\": \"y\"}],\n",
              "                        {\"legend\": {\"borderwidth\": 0, \"font\": {\"size\": 8}, \"orientation\": \"v\", \"title\": {\"text\": \"Pa\\u00eds\"}, \"tracegroupgap\": 0, \"yanchor\": \"top\"}, \"template\": {\"data\": {\"bar\": [{\"error_x\": {\"color\": \"#2a3f5f\"}, \"error_y\": {\"color\": \"#2a3f5f\"}, \"marker\": {\"line\": {\"color\": \"#E5ECF6\", \"width\": 0.5}}, \"type\": \"bar\"}], \"barpolar\": [{\"marker\": {\"line\": {\"color\": \"#E5ECF6\", \"width\": 0.5}}, \"type\": \"barpolar\"}], \"carpet\": [{\"aaxis\": {\"endlinecolor\": \"#2a3f5f\", \"gridcolor\": \"white\", \"linecolor\": \"white\", \"minorgridcolor\": \"white\", \"startlinecolor\": \"#2a3f5f\"}, \"baxis\": {\"endlinecolor\": \"#2a3f5f\", \"gridcolor\": \"white\", \"linecolor\": \"white\", \"minorgridcolor\": \"white\", \"startlinecolor\": \"#2a3f5f\"}, \"type\": \"carpet\"}], \"choropleth\": [{\"colorbar\": {\"outlinewidth\": 0, \"ticks\": \"\"}, \"type\": \"choropleth\"}], \"contour\": [{\"colorbar\": {\"outlinewidth\": 0, \"ticks\": \"\"}, \"colorscale\": [[0.0, \"#0d0887\"], [0.1111111111111111, \"#46039f\"], [0.2222222222222222, \"#7201a8\"], [0.3333333333333333, \"#9c179e\"], [0.4444444444444444, \"#bd3786\"], [0.5555555555555556, \"#d8576b\"], [0.6666666666666666, \"#ed7953\"], [0.7777777777777778, \"#fb9f3a\"], [0.8888888888888888, \"#fdca26\"], [1.0, \"#f0f921\"]], \"type\": \"contour\"}], \"contourcarpet\": [{\"colorbar\": {\"outlinewidth\": 0, \"ticks\": \"\"}, \"type\": \"contourcarpet\"}], \"heatmap\": [{\"colorbar\": {\"outlinewidth\": 0, \"ticks\": \"\"}, \"colorscale\": [[0.0, \"#0d0887\"], [0.1111111111111111, \"#46039f\"], [0.2222222222222222, \"#7201a8\"], [0.3333333333333333, \"#9c179e\"], [0.4444444444444444, \"#bd3786\"], [0.5555555555555556, \"#d8576b\"], [0.6666666666666666, \"#ed7953\"], [0.7777777777777778, \"#fb9f3a\"], [0.8888888888888888, \"#fdca26\"], [1.0, \"#f0f921\"]], \"type\": \"heatmap\"}], \"heatmapgl\": [{\"colorbar\": {\"outlinewidth\": 0, \"ticks\": \"\"}, \"colorscale\": [[0.0, \"#0d0887\"], [0.1111111111111111, \"#46039f\"], [0.2222222222222222, \"#7201a8\"], [0.3333333333333333, \"#9c179e\"], [0.4444444444444444, \"#bd3786\"], [0.5555555555555556, \"#d8576b\"], [0.6666666666666666, \"#ed7953\"], [0.7777777777777778, \"#fb9f3a\"], [0.8888888888888888, \"#fdca26\"], [1.0, \"#f0f921\"]], \"type\": \"heatmapgl\"}], \"histogram\": [{\"marker\": {\"colorbar\": {\"outlinewidth\": 0, \"ticks\": \"\"}}, \"type\": \"histogram\"}], \"histogram2d\": [{\"colorbar\": {\"outlinewidth\": 0, \"ticks\": \"\"}, \"colorscale\": [[0.0, \"#0d0887\"], [0.1111111111111111, \"#46039f\"], [0.2222222222222222, \"#7201a8\"], [0.3333333333333333, \"#9c179e\"], [0.4444444444444444, \"#bd3786\"], [0.5555555555555556, \"#d8576b\"], [0.6666666666666666, \"#ed7953\"], [0.7777777777777778, \"#fb9f3a\"], [0.8888888888888888, \"#fdca26\"], [1.0, \"#f0f921\"]], \"type\": \"histogram2d\"}], \"histogram2dcontour\": [{\"colorbar\": {\"outlinewidth\": 0, \"ticks\": \"\"}, \"colorscale\": [[0.0, \"#0d0887\"], [0.1111111111111111, \"#46039f\"], [0.2222222222222222, \"#7201a8\"], [0.3333333333333333, \"#9c179e\"], [0.4444444444444444, \"#bd3786\"], [0.5555555555555556, \"#d8576b\"], [0.6666666666666666, \"#ed7953\"], [0.7777777777777778, \"#fb9f3a\"], [0.8888888888888888, \"#fdca26\"], [1.0, \"#f0f921\"]], \"type\": \"histogram2dcontour\"}], \"mesh3d\": [{\"colorbar\": {\"outlinewidth\": 0, \"ticks\": \"\"}, \"type\": \"mesh3d\"}], \"parcoords\": [{\"line\": {\"colorbar\": {\"outlinewidth\": 0, \"ticks\": \"\"}}, \"type\": \"parcoords\"}], \"pie\": [{\"automargin\": true, \"type\": \"pie\"}], \"scatter\": [{\"marker\": {\"colorbar\": {\"outlinewidth\": 0, \"ticks\": \"\"}}, \"type\": \"scatter\"}], \"scatter3d\": [{\"line\": {\"colorbar\": {\"outlinewidth\": 0, \"ticks\": \"\"}}, \"marker\": {\"colorbar\": {\"outlinewidth\": 0, \"ticks\": \"\"}}, \"type\": \"scatter3d\"}], \"scattercarpet\": [{\"marker\": {\"colorbar\": {\"outlinewidth\": 0, \"ticks\": \"\"}}, \"type\": \"scattercarpet\"}], \"scattergeo\": [{\"marker\": {\"colorbar\": {\"outlinewidth\": 0, \"ticks\": \"\"}}, \"type\": \"scattergeo\"}], \"scattergl\": [{\"marker\": {\"colorbar\": {\"outlinewidth\": 0, \"ticks\": \"\"}}, \"type\": \"scattergl\"}], \"scattermapbox\": [{\"marker\": {\"colorbar\": {\"outlinewidth\": 0, \"ticks\": \"\"}}, \"type\": \"scattermapbox\"}], \"scatterpolar\": [{\"marker\": {\"colorbar\": {\"outlinewidth\": 0, \"ticks\": \"\"}}, \"type\": \"scatterpolar\"}], \"scatterpolargl\": [{\"marker\": {\"colorbar\": {\"outlinewidth\": 0, \"ticks\": \"\"}}, \"type\": \"scatterpolargl\"}], \"scatterternary\": [{\"marker\": {\"colorbar\": {\"outlinewidth\": 0, \"ticks\": \"\"}}, \"type\": \"scatterternary\"}], \"surface\": [{\"colorbar\": {\"outlinewidth\": 0, \"ticks\": \"\"}, \"colorscale\": [[0.0, \"#0d0887\"], [0.1111111111111111, \"#46039f\"], [0.2222222222222222, \"#7201a8\"], [0.3333333333333333, \"#9c179e\"], [0.4444444444444444, \"#bd3786\"], [0.5555555555555556, \"#d8576b\"], [0.6666666666666666, \"#ed7953\"], [0.7777777777777778, \"#fb9f3a\"], [0.8888888888888888, \"#fdca26\"], [1.0, \"#f0f921\"]], \"type\": \"surface\"}], \"table\": [{\"cells\": {\"fill\": {\"color\": \"#EBF0F8\"}, \"line\": {\"color\": \"white\"}}, \"header\": {\"fill\": {\"color\": \"#C8D4E3\"}, \"line\": {\"color\": \"white\"}}, \"type\": \"table\"}]}, \"layout\": {\"annotationdefaults\": {\"arrowcolor\": \"#2a3f5f\", \"arrowhead\": 0, \"arrowwidth\": 1}, \"coloraxis\": {\"colorbar\": {\"outlinewidth\": 0, \"ticks\": \"\"}}, \"colorscale\": {\"diverging\": [[0, \"#8e0152\"], [0.1, \"#c51b7d\"], [0.2, \"#de77ae\"], [0.3, \"#f1b6da\"], [0.4, \"#fde0ef\"], [0.5, \"#f7f7f7\"], [0.6, \"#e6f5d0\"], [0.7, \"#b8e186\"], [0.8, \"#7fbc41\"], [0.9, \"#4d9221\"], [1, \"#276419\"]], \"sequential\": [[0.0, \"#0d0887\"], [0.1111111111111111, \"#46039f\"], [0.2222222222222222, \"#7201a8\"], [0.3333333333333333, \"#9c179e\"], [0.4444444444444444, \"#bd3786\"], [0.5555555555555556, \"#d8576b\"], [0.6666666666666666, \"#ed7953\"], [0.7777777777777778, \"#fb9f3a\"], [0.8888888888888888, \"#fdca26\"], [1.0, \"#f0f921\"]], \"sequentialminus\": [[0.0, \"#0d0887\"], [0.1111111111111111, \"#46039f\"], [0.2222222222222222, \"#7201a8\"], [0.3333333333333333, \"#9c179e\"], [0.4444444444444444, \"#bd3786\"], [0.5555555555555556, \"#d8576b\"], [0.6666666666666666, \"#ed7953\"], [0.7777777777777778, \"#fb9f3a\"], [0.8888888888888888, \"#fdca26\"], [1.0, \"#f0f921\"]]}, \"colorway\": [\"#636efa\", \"#EF553B\", \"#00cc96\", \"#ab63fa\", \"#FFA15A\", \"#19d3f3\", \"#FF6692\", \"#B6E880\", \"#FF97FF\", \"#FECB52\"], \"font\": {\"color\": \"#2a3f5f\"}, \"geo\": {\"bgcolor\": \"white\", \"lakecolor\": \"white\", \"landcolor\": \"#E5ECF6\", \"showlakes\": true, \"showland\": true, \"subunitcolor\": \"white\"}, \"hoverlabel\": {\"align\": \"left\"}, \"hovermode\": \"closest\", \"mapbox\": {\"style\": \"light\"}, \"paper_bgcolor\": \"white\", \"plot_bgcolor\": \"#E5ECF6\", \"polar\": {\"angularaxis\": {\"gridcolor\": \"white\", \"linecolor\": \"white\", \"ticks\": \"\"}, \"bgcolor\": \"#E5ECF6\", \"radialaxis\": {\"gridcolor\": \"white\", \"linecolor\": \"white\", \"ticks\": \"\"}}, \"scene\": {\"xaxis\": {\"backgroundcolor\": \"#E5ECF6\", \"gridcolor\": \"white\", \"gridwidth\": 2, \"linecolor\": \"white\", \"showbackground\": true, \"ticks\": \"\", \"zerolinecolor\": \"white\"}, \"yaxis\": {\"backgroundcolor\": \"#E5ECF6\", \"gridcolor\": \"white\", \"gridwidth\": 2, \"linecolor\": \"white\", \"showbackground\": true, \"ticks\": \"\", \"zerolinecolor\": \"white\"}, \"zaxis\": {\"backgroundcolor\": \"#E5ECF6\", \"gridcolor\": \"white\", \"gridwidth\": 2, \"linecolor\": \"white\", \"showbackground\": true, \"ticks\": \"\", \"zerolinecolor\": \"white\"}}, \"shapedefaults\": {\"line\": {\"color\": \"#2a3f5f\"}}, \"ternary\": {\"aaxis\": {\"gridcolor\": \"white\", \"linecolor\": \"white\", \"ticks\": \"\"}, \"baxis\": {\"gridcolor\": \"white\", \"linecolor\": \"white\", \"ticks\": \"\"}, \"bgcolor\": \"#E5ECF6\", \"caxis\": {\"gridcolor\": \"white\", \"linecolor\": \"white\", \"ticks\": \"\"}}, \"title\": {\"x\": 0.05}, \"xaxis\": {\"automargin\": true, \"gridcolor\": \"white\", \"linecolor\": \"white\", \"ticks\": \"\", \"title\": {\"standoff\": 15}, \"zerolinecolor\": \"white\", \"zerolinewidth\": 2}, \"yaxis\": {\"automargin\": true, \"gridcolor\": \"white\", \"linecolor\": \"white\", \"ticks\": \"\", \"title\": {\"standoff\": 15}, \"zerolinecolor\": \"white\", \"zerolinewidth\": 2}}}, \"title\": {\"text\": \"COVID-19 - Mortes 02-04-2020 \\n Zoom at\\u00e9 100\"}, \"xaxis\": {\"anchor\": \"y\", \"domain\": [0.0, 1.0], \"title\": {\"text\": \"Dias desde a primeira morte\"}}, \"yaxis\": {\"anchor\": \"x\", \"domain\": [0.0, 1.0], \"title\": {\"text\": \"Mortes\"}}},\n",
              "                        {\"responsive\": true}\n",
              "                    ).then(function(){\n",
              "                            \n",
              "var gd = document.getElementById('4395d818-0214-4ef5-8c87-1feb8366be61');\n",
              "var x = new MutationObserver(function (mutations, observer) {{\n",
              "        var display = window.getComputedStyle(gd).display;\n",
              "        if (!display || display === 'none') {{\n",
              "            console.log([gd, 'removed!']);\n",
              "            Plotly.purge(gd);\n",
              "            observer.disconnect();\n",
              "        }}\n",
              "}});\n",
              "\n",
              "// Listen for the removal of the full notebook cells\n",
              "var notebookContainer = gd.closest('#notebook-container');\n",
              "if (notebookContainer) {{\n",
              "    x.observe(notebookContainer, {childList: true});\n",
              "}}\n",
              "\n",
              "// Listen for the clearing of the current output cell\n",
              "var outputEl = gd.closest('.output');\n",
              "if (outputEl) {{\n",
              "    x.observe(outputEl, {childList: true});\n",
              "}}\n",
              "\n",
              "                        })\n",
              "                };\n",
              "                \n",
              "            </script>\n",
              "        </div>\n",
              "</body>\n",
              "</html>"
            ]
          },
          "metadata": {
            "tags": []
          }
        }
      ]
    },
    {
      "cell_type": "code",
      "metadata": {
        "colab_type": "code",
        "id": "Is8_bYPCSrYq",
        "outputId": "71a62f6c-9810-436c-ee58-862e6c3dc5c5",
        "colab": {
          "base_uri": "https://localhost:8080/",
          "height": 542
        }
      },
      "source": [
        "#hide_input\n",
        "#plt.figure(figsize=(6.5,8))\n",
        "#\n",
        "#sns.lineplot(x='Dias desde a primeira morte',y='Mortes',data=mmeio_zoom[mmeio_zoom['Países e territórios']=='Brazil'],color='black',linewidth=5,label='Brasil')\n",
        "#sns.lineplot(x='Dias desde a primeira morte',y='Mortes',data=mmeio_zoom[mmeio_zoom['Países e territórios']=='Italy'],label='Itália')\n",
        "#sns.lineplot(x='Dias desde a primeira morte',y='Mortes',data=mmeio_zoom[mmeio_zoom['Países e territórios']=='United_States_of_America'],label='Estados Unidos')\n",
        "#sns.lineplot(x='Dias desde a primeira morte',y='Mortes',data=mmeio_zoom[mmeio_zoom['Países e territórios']=='United_Kingdom'],label='Reino Unido')\n",
        "#sns.lineplot(x='Dias desde a primeira morte',y='Mortes',data=mmeio_zoom[mmeio_zoom['Países e territórios']=='South_Korea'],label= \"Coréia do Sul\")\n",
        "#sns.lineplot(x='Dias desde a primeira morte',y='Mortes',data=mmeio_zoom[mmeio_zoom['Países e territórios']=='France'],label='França')\n",
        "#sns.lineplot(x='Dias desde a primeira morte',y='Mortes',data=mmeio_zoom[mmeio_zoom['Países e territórios']=='Japan'],label='Japão')\n",
        "#sns.lineplot(x='Dias desde a primeira morte',y='Mortes',data=mmeio_zoom[mmeio_zoom['Países e territórios']=='China'],label='China',color='#244411')\n",
        "#sns.lineplot(x='Dias desde a primeira morte',y='Mortes',data=mmeio_zoom[mmeio_zoom['Países e territórios']=='Spain'],label='Espanha')\n",
        "#sns.lineplot(x='Dias desde a primeira morte',y='Mortes',data=mmeio_zoom[mmeio_zoom['Países e territórios']=='Argentina'],label='Argentina')\n",
        "#sns.lineplot(x='Dias desde a primeira morte',y='Mortes',data=mmeio_zoom[mmeio_zoom['Países e territórios']=='India'],label='Índia')\n",
        "#sns.lineplot(x='Dias desde a primeira morte',y='Mortes',data=mmeio_zoom[mmeio_zoom['Países e territórios']=='Germany'],label='Alemanha')\n",
        "#sns.lineplot(x='Dias desde a primeira morte',y='Mortes',data=mmeio_zoom[mmeio_zoom['Países e territórios']=='Czech_Republic'],label='República Tcheca')\n",
        "#\n",
        "#\n",
        "#plt.grid(color='black', linestyle='--', linewidth=0.17)\n",
        "#\n",
        "#\n",
        "#plt.yticks([1,100,300,500] )\n",
        "#plt.xticks([ 0,  2,  4,  6,  8, 10, 12, 14, 16, 18, 20, 22, 24, 26, 28,30,32,34,36])\n",
        "#plt.title('COVID-19 - Mortes {} \\n Zoom até 500'.format(today))\n",
        "#plt.savefig(\"plots/08_mortes_corona_grafico_meiozoom.png\")\n",
        "#plt.show()\n",
        "\n",
        "fig = px.line(mmeio_zoom, x=\"Dias desde a primeira morte\", y=\"Mortes\", title='COVID-19 - Mortes {} \\n Zoom até 500'.format(today),\n",
        "              color='Países e territórios',color_discrete_sequence=[\"black\", \"blue\",'green',\"darkmagenta\",\"gray\",\"brown\",\"orange\",\"magenta\",'red',\"darkblue\",\"lightgreen\",'coral','lightblue'])\n",
        "fig.update_layout(legend= {'title':'País','borderwidth':0,'orientation':'v','yanchor':'top','font':{'size':8}})\n",
        "\n",
        "fig.update_layout()\n",
        "fig.show()"
      ],
      "execution_count": 207,
      "outputs": [
        {
          "output_type": "display_data",
          "data": {
            "text/html": [
              "<html>\n",
              "<head><meta charset=\"utf-8\" /></head>\n",
              "<body>\n",
              "    <div>\n",
              "            <script src=\"https://cdnjs.cloudflare.com/ajax/libs/mathjax/2.7.5/MathJax.js?config=TeX-AMS-MML_SVG\"></script><script type=\"text/javascript\">if (window.MathJax) {MathJax.Hub.Config({SVG: {font: \"STIX-Web\"}});}</script>\n",
              "                <script type=\"text/javascript\">window.PlotlyConfig = {MathJaxConfig: 'local'};</script>\n",
              "        <script src=\"https://cdn.plot.ly/plotly-latest.min.js\"></script>    \n",
              "            <div id=\"31827f7c-c8e5-4ef4-86ae-432f1b2c2f38\" class=\"plotly-graph-div\" style=\"height:525px; width:100%;\"></div>\n",
              "            <script type=\"text/javascript\">\n",
              "                \n",
              "                    window.PLOTLYENV=window.PLOTLYENV || {};\n",
              "                    \n",
              "                if (document.getElementById(\"31827f7c-c8e5-4ef4-86ae-432f1b2c2f38\")) {\n",
              "                    Plotly.newPlot(\n",
              "                        '31827f7c-c8e5-4ef4-86ae-432f1b2c2f38',\n",
              "                        [{\"hovertemplate\": \"Pa\\u00edses e territ\\u00f3rios=Brazil<br>Dias desde a primeira morte=%{x}<br>Mortes=%{y}<extra></extra>\", \"legendgroup\": \"Brazil\", \"line\": {\"color\": \"black\", \"dash\": \"solid\"}, \"mode\": \"lines\", \"name\": \"Brazil\", \"showlegend\": true, \"type\": \"scatter\", \"x\": [0, 1, 2, 3, 4, 5, 6, 7, 8, 9, 10, 11, 12, 13, 14, 15], \"xaxis\": \"x\", \"y\": [1, 4, 6, 11, 18, 25, 34, 46, 57, 77, 92, 114, 136, 159, 201, 241], \"yaxis\": \"y\"}, {\"hovertemplate\": \"Pa\\u00edses e territ\\u00f3rios=Italy<br>Dias desde a primeira morte=%{x}<br>Mortes=%{y}<extra></extra>\", \"legendgroup\": \"Italy\", \"line\": {\"color\": \"blue\", \"dash\": \"solid\"}, \"mode\": \"lines\", \"name\": \"Italy\", \"showlegend\": true, \"type\": \"scatter\", \"x\": [0, 1, 2, 3, 4, 5, 6, 7, 8, 9, 10, 11, 12, 13, 14, 15, 16], \"xaxis\": \"x\", \"y\": [2, 2, 6, 11, 12, 17, 21, 29, 35, 52, 80, 107, 148, 197, 233, 366, 464], \"yaxis\": \"y\"}, {\"hovertemplate\": \"Pa\\u00edses e territ\\u00f3rios=Japan<br>Dias desde a primeira morte=%{x}<br>Mortes=%{y}<extra></extra>\", \"legendgroup\": \"Japan\", \"line\": {\"color\": \"green\", \"dash\": \"solid\"}, \"mode\": \"lines\", \"name\": \"Japan\", \"showlegend\": true, \"type\": \"scatter\", \"x\": [0, 1, 2, 3, 4, 5, 6, 7, 8, 9, 10, 11, 12, 13, 14, 15, 16, 17, 18, 19, 20, 21, 22, 23, 24, 25, 26, 27, 28, 29, 30, 31, 32, 33, 34, 35, 36, 37, 38, 39, 40, 41, 42, 43, 44, 45, 46, 47, 48, 49], \"xaxis\": \"x\", \"y\": [1, 1, 1, 1, 1, 1, 1, 1, 1, 1, 1, 1, 1, 1, 3, 3, 3, 5, 6, 6, 6, 6, 6, 6, 6, 7, 9, 12, 15, 19, 21, 22, 24, 28, 28, 29, 33, 35, 36, 41, 42, 43, 45, 46, 49, 52, 54, 56, 56, 57], \"yaxis\": \"y\"}, {\"hovertemplate\": \"Pa\\u00edses e territ\\u00f3rios=United_Kingdom<br>Dias desde a primeira morte=%{x}<br>Mortes=%{y}<extra></extra>\", \"legendgroup\": \"United_Kingdom\", \"line\": {\"color\": \"darkmagenta\", \"dash\": \"solid\"}, \"mode\": \"lines\", \"name\": \"United_Kingdom\", \"showlegend\": true, \"type\": \"scatter\", \"x\": [0, 1, 2, 3, 4, 5, 6, 7, 8, 9, 10, 11, 12, 13, 14, 15, 16, 17, 18, 19, 20], \"xaxis\": \"x\", \"y\": [1, 1, 2, 3, 5, 6, 6, 10, 10, 21, 35, 55, 60, 103, 144, 177, 233, 281, 335, 422, 463], \"yaxis\": \"y\"}, {\"hovertemplate\": \"Pa\\u00edses e territ\\u00f3rios=United_States_of_America<br>Dias desde a primeira morte=%{x}<br>Mortes=%{y}<extra></extra>\", \"legendgroup\": \"United_States_of_America\", \"line\": {\"color\": \"gray\", \"dash\": \"solid\"}, \"mode\": \"lines\", \"name\": \"United_States_of_America\", \"showlegend\": true, \"type\": \"scatter\", \"x\": [0, 1, 2, 3, 4, 5, 6, 7, 8, 9, 10, 11, 12, 13, 14, 15, 16, 17, 18, 19, 20, 21, 22], \"xaxis\": \"x\", \"y\": [1, 2, 6, 9, 11, 12, 14, 17, 21, 26, 28, 30, 40, 47, 57, 69, 85, 108, 150, 150, 260, 340, 471], \"yaxis\": \"y\"}, {\"hovertemplate\": \"Pa\\u00edses e territ\\u00f3rios=South_Korea<br>Dias desde a primeira morte=%{x}<br>Mortes=%{y}<extra></extra>\", \"legendgroup\": \"South_Korea\", \"line\": {\"color\": \"brown\", \"dash\": \"solid\"}, \"mode\": \"lines\", \"name\": \"South_Korea\", \"showlegend\": true, \"type\": \"scatter\", \"x\": [0, 1, 2, 3, 4, 5, 6, 7, 8, 9, 10, 11, 12, 13, 14, 15, 16, 17, 18, 19, 20, 21, 22, 23, 24, 25, 26, 27, 28, 29, 30, 31, 32, 33, 34, 35, 36, 37, 38, 39, 40, 41], \"xaxis\": \"x\", \"y\": [1, 2, 5, 7, 8, 11, 12, 13, 16, 17, 22, 28, 32, 35, 42, 44, 50, 51, 54, 60, 66, 67, 72, 75, 75, 81, 86, 91, 100, 103, 104, 113, 120, 126, 131, 139, 144, 152, 158, 163, 163, 169], \"yaxis\": \"y\"}, {\"hovertemplate\": \"Pa\\u00edses e territ\\u00f3rios=France<br>Dias desde a primeira morte=%{x}<br>Mortes=%{y}<extra></extra>\", \"legendgroup\": \"France\", \"line\": {\"color\": \"orange\", \"dash\": \"solid\"}, \"mode\": \"lines\", \"name\": \"France\", \"showlegend\": true, \"type\": \"scatter\", \"x\": [0, 1, 2, 3, 4, 5, 6, 7, 8, 9, 10, 11, 12, 13, 14, 15, 16, 17, 18, 19, 20, 21, 22, 23, 24, 25, 26, 27, 28, 29, 30, 31, 32, 33, 34, 35], \"xaxis\": \"x\", \"y\": [1, 1, 1, 1, 1, 1, 1, 1, 1, 1, 1, 1, 2, 2, 2, 2, 2, 3, 4, 4, 7, 9, 10, 19, 30, 33, 48, 61, 79, 91, 127, 148, 175, 244, 372, 450], \"yaxis\": \"y\"}, {\"hovertemplate\": \"Pa\\u00edses e territ\\u00f3rios=China<br>Dias desde a primeira morte=%{x}<br>Mortes=%{y}<extra></extra>\", \"legendgroup\": \"China\", \"line\": {\"color\": \"magenta\", \"dash\": \"solid\"}, \"mode\": \"lines\", \"name\": \"China\", \"showlegend\": true, \"type\": \"scatter\", \"x\": [0, 1, 2, 3, 4, 5, 6, 7, 8, 9, 10, 11, 12, 13, 14, 15, 16, 17, 18, 19, 20, 21, 22, 23, 24, 25], \"xaxis\": \"x\", \"y\": [1, 1, 1, 1, 2, 2, 2, 2, 3, 3, 6, 17, 17, 26, 41, 56, 81, 106, 132, 170, 213, 259, 304, 361, 426, 492], \"yaxis\": \"y\"}, {\"hovertemplate\": \"Pa\\u00edses e territ\\u00f3rios=Spain<br>Dias desde a primeira morte=%{x}<br>Mortes=%{y}<extra></extra>\", \"legendgroup\": \"Spain\", \"line\": {\"color\": \"red\", \"dash\": \"solid\"}, \"mode\": \"lines\", \"name\": \"Spain\", \"showlegend\": true, \"type\": \"scatter\", \"x\": [0, 1, 2, 3, 4, 5, 6, 7, 8, 9, 10, 11, 12, 13], \"xaxis\": \"x\", \"y\": [1, 3, 5, 5, 5, 28, 35, 47, 84, 121, 136, 288, 309, 491], \"yaxis\": \"y\"}, {\"hovertemplate\": \"Pa\\u00edses e territ\\u00f3rios=Argentina<br>Dias desde a primeira morte=%{x}<br>Mortes=%{y}<extra></extra>\", \"legendgroup\": \"Argentina\", \"line\": {\"color\": \"darkblue\", \"dash\": \"solid\"}, \"mode\": \"lines\", \"name\": \"Argentina\", \"showlegend\": true, \"type\": \"scatter\", \"x\": [0, 1, 2, 3, 4, 5, 6, 7, 8, 9, 10, 11, 12, 13, 14, 15, 16, 17, 18, 19, 20, 21, 22, 23], \"xaxis\": \"x\", \"y\": [1, 1, 1, 1, 2, 2, 2, 2, 2, 2, 3, 3, 4, 4, 4, 6, 8, 12, 17, 19, 20, 24, 24, 31], \"yaxis\": \"y\"}, {\"hovertemplate\": \"Pa\\u00edses e territ\\u00f3rios=India<br>Dias desde a primeira morte=%{x}<br>Mortes=%{y}<extra></extra>\", \"legendgroup\": \"India\", \"line\": {\"color\": \"lightgreen\", \"dash\": \"solid\"}, \"mode\": \"lines\", \"name\": \"India\", \"showlegend\": true, \"type\": \"scatter\", \"x\": [0, 1, 2, 3, 4, 5, 6, 7, 8, 9, 10, 11, 12, 13, 14, 15, 16, 17, 18, 19, 20], \"xaxis\": \"x\", \"y\": [1, 2, 2, 2, 3, 3, 3, 4, 4, 4, 7, 9, 9, 13, 17, 19, 25, 29, 32, 35, 50], \"yaxis\": \"y\"}, {\"hovertemplate\": \"Pa\\u00edses e territ\\u00f3rios=Germany<br>Dias desde a primeira morte=%{x}<br>Mortes=%{y}<extra></extra>\", \"legendgroup\": \"Germany\", \"line\": {\"color\": \"coral\", \"dash\": \"solid\"}, \"mode\": \"lines\", \"name\": \"Germany\", \"showlegend\": true, \"type\": \"scatter\", \"x\": [0, 1, 2, 3, 4, 5, 6, 7, 8, 9, 10, 11, 12, 13, 14, 15, 16, 17, 18, 19, 20], \"xaxis\": \"x\", \"y\": [2, 2, 3, 5, 5, 8, 12, 13, 13, 13, 43, 45, 67, 94, 126, 149, 198, 253, 325, 389, 455], \"yaxis\": \"y\"}, {\"hovertemplate\": \"Pa\\u00edses e territ\\u00f3rios=Czech_Republic<br>Dias desde a primeira morte=%{x}<br>Mortes=%{y}<extra></extra>\", \"legendgroup\": \"Czech_Republic\", \"line\": {\"color\": \"lightblue\", \"dash\": \"solid\"}, \"mode\": \"lines\", \"name\": \"Czech_Republic\", \"showlegend\": true, \"type\": \"scatter\", \"x\": [0, 1, 2, 3, 4, 5, 6, 7, 8, 9, 10], \"xaxis\": \"x\", \"y\": [1, 1, 3, 6, 9, 9, 11, 16, 24, 31, 39], \"yaxis\": \"y\"}],\n",
              "                        {\"legend\": {\"borderwidth\": 0, \"font\": {\"size\": 8}, \"orientation\": \"v\", \"title\": {\"text\": \"Pa\\u00eds\"}, \"tracegroupgap\": 0, \"yanchor\": \"top\"}, \"template\": {\"data\": {\"bar\": [{\"error_x\": {\"color\": \"#2a3f5f\"}, \"error_y\": {\"color\": \"#2a3f5f\"}, \"marker\": {\"line\": {\"color\": \"#E5ECF6\", \"width\": 0.5}}, \"type\": \"bar\"}], \"barpolar\": [{\"marker\": {\"line\": {\"color\": \"#E5ECF6\", \"width\": 0.5}}, \"type\": \"barpolar\"}], \"carpet\": [{\"aaxis\": {\"endlinecolor\": \"#2a3f5f\", \"gridcolor\": \"white\", \"linecolor\": \"white\", \"minorgridcolor\": \"white\", \"startlinecolor\": \"#2a3f5f\"}, \"baxis\": {\"endlinecolor\": \"#2a3f5f\", \"gridcolor\": \"white\", \"linecolor\": \"white\", \"minorgridcolor\": \"white\", \"startlinecolor\": \"#2a3f5f\"}, \"type\": \"carpet\"}], \"choropleth\": [{\"colorbar\": {\"outlinewidth\": 0, \"ticks\": \"\"}, \"type\": \"choropleth\"}], \"contour\": [{\"colorbar\": {\"outlinewidth\": 0, \"ticks\": \"\"}, \"colorscale\": [[0.0, \"#0d0887\"], [0.1111111111111111, \"#46039f\"], [0.2222222222222222, \"#7201a8\"], [0.3333333333333333, \"#9c179e\"], [0.4444444444444444, \"#bd3786\"], [0.5555555555555556, \"#d8576b\"], [0.6666666666666666, \"#ed7953\"], [0.7777777777777778, \"#fb9f3a\"], [0.8888888888888888, \"#fdca26\"], [1.0, \"#f0f921\"]], \"type\": \"contour\"}], \"contourcarpet\": [{\"colorbar\": {\"outlinewidth\": 0, \"ticks\": \"\"}, \"type\": \"contourcarpet\"}], \"heatmap\": [{\"colorbar\": {\"outlinewidth\": 0, \"ticks\": \"\"}, \"colorscale\": [[0.0, \"#0d0887\"], [0.1111111111111111, \"#46039f\"], [0.2222222222222222, \"#7201a8\"], [0.3333333333333333, \"#9c179e\"], [0.4444444444444444, \"#bd3786\"], [0.5555555555555556, \"#d8576b\"], [0.6666666666666666, \"#ed7953\"], [0.7777777777777778, \"#fb9f3a\"], [0.8888888888888888, \"#fdca26\"], [1.0, \"#f0f921\"]], \"type\": \"heatmap\"}], \"heatmapgl\": [{\"colorbar\": {\"outlinewidth\": 0, \"ticks\": \"\"}, \"colorscale\": [[0.0, \"#0d0887\"], [0.1111111111111111, \"#46039f\"], [0.2222222222222222, \"#7201a8\"], [0.3333333333333333, \"#9c179e\"], [0.4444444444444444, \"#bd3786\"], [0.5555555555555556, \"#d8576b\"], [0.6666666666666666, \"#ed7953\"], [0.7777777777777778, \"#fb9f3a\"], [0.8888888888888888, \"#fdca26\"], [1.0, \"#f0f921\"]], \"type\": \"heatmapgl\"}], \"histogram\": [{\"marker\": {\"colorbar\": {\"outlinewidth\": 0, \"ticks\": \"\"}}, \"type\": \"histogram\"}], \"histogram2d\": [{\"colorbar\": {\"outlinewidth\": 0, \"ticks\": \"\"}, \"colorscale\": [[0.0, \"#0d0887\"], [0.1111111111111111, \"#46039f\"], [0.2222222222222222, \"#7201a8\"], [0.3333333333333333, \"#9c179e\"], [0.4444444444444444, \"#bd3786\"], [0.5555555555555556, \"#d8576b\"], [0.6666666666666666, \"#ed7953\"], [0.7777777777777778, \"#fb9f3a\"], [0.8888888888888888, \"#fdca26\"], [1.0, \"#f0f921\"]], \"type\": \"histogram2d\"}], \"histogram2dcontour\": [{\"colorbar\": {\"outlinewidth\": 0, \"ticks\": \"\"}, \"colorscale\": [[0.0, \"#0d0887\"], [0.1111111111111111, \"#46039f\"], [0.2222222222222222, \"#7201a8\"], [0.3333333333333333, \"#9c179e\"], [0.4444444444444444, \"#bd3786\"], [0.5555555555555556, \"#d8576b\"], [0.6666666666666666, \"#ed7953\"], [0.7777777777777778, \"#fb9f3a\"], [0.8888888888888888, \"#fdca26\"], [1.0, \"#f0f921\"]], \"type\": \"histogram2dcontour\"}], \"mesh3d\": [{\"colorbar\": {\"outlinewidth\": 0, \"ticks\": \"\"}, \"type\": \"mesh3d\"}], \"parcoords\": [{\"line\": {\"colorbar\": {\"outlinewidth\": 0, \"ticks\": \"\"}}, \"type\": \"parcoords\"}], \"pie\": [{\"automargin\": true, \"type\": \"pie\"}], \"scatter\": [{\"marker\": {\"colorbar\": {\"outlinewidth\": 0, \"ticks\": \"\"}}, \"type\": \"scatter\"}], \"scatter3d\": [{\"line\": {\"colorbar\": {\"outlinewidth\": 0, \"ticks\": \"\"}}, \"marker\": {\"colorbar\": {\"outlinewidth\": 0, \"ticks\": \"\"}}, \"type\": \"scatter3d\"}], \"scattercarpet\": [{\"marker\": {\"colorbar\": {\"outlinewidth\": 0, \"ticks\": \"\"}}, \"type\": \"scattercarpet\"}], \"scattergeo\": [{\"marker\": {\"colorbar\": {\"outlinewidth\": 0, \"ticks\": \"\"}}, \"type\": \"scattergeo\"}], \"scattergl\": [{\"marker\": {\"colorbar\": {\"outlinewidth\": 0, \"ticks\": \"\"}}, \"type\": \"scattergl\"}], \"scattermapbox\": [{\"marker\": {\"colorbar\": {\"outlinewidth\": 0, \"ticks\": \"\"}}, \"type\": \"scattermapbox\"}], \"scatterpolar\": [{\"marker\": {\"colorbar\": {\"outlinewidth\": 0, \"ticks\": \"\"}}, \"type\": \"scatterpolar\"}], \"scatterpolargl\": [{\"marker\": {\"colorbar\": {\"outlinewidth\": 0, \"ticks\": \"\"}}, \"type\": \"scatterpolargl\"}], \"scatterternary\": [{\"marker\": {\"colorbar\": {\"outlinewidth\": 0, \"ticks\": \"\"}}, \"type\": \"scatterternary\"}], \"surface\": [{\"colorbar\": {\"outlinewidth\": 0, \"ticks\": \"\"}, \"colorscale\": [[0.0, \"#0d0887\"], [0.1111111111111111, \"#46039f\"], [0.2222222222222222, \"#7201a8\"], [0.3333333333333333, \"#9c179e\"], [0.4444444444444444, \"#bd3786\"], [0.5555555555555556, \"#d8576b\"], [0.6666666666666666, \"#ed7953\"], [0.7777777777777778, \"#fb9f3a\"], [0.8888888888888888, \"#fdca26\"], [1.0, \"#f0f921\"]], \"type\": \"surface\"}], \"table\": [{\"cells\": {\"fill\": {\"color\": \"#EBF0F8\"}, \"line\": {\"color\": \"white\"}}, \"header\": {\"fill\": {\"color\": \"#C8D4E3\"}, \"line\": {\"color\": \"white\"}}, \"type\": \"table\"}]}, \"layout\": {\"annotationdefaults\": {\"arrowcolor\": \"#2a3f5f\", \"arrowhead\": 0, \"arrowwidth\": 1}, \"coloraxis\": {\"colorbar\": {\"outlinewidth\": 0, \"ticks\": \"\"}}, \"colorscale\": {\"diverging\": [[0, \"#8e0152\"], [0.1, \"#c51b7d\"], [0.2, \"#de77ae\"], [0.3, \"#f1b6da\"], [0.4, \"#fde0ef\"], [0.5, \"#f7f7f7\"], [0.6, \"#e6f5d0\"], [0.7, \"#b8e186\"], [0.8, \"#7fbc41\"], [0.9, \"#4d9221\"], [1, \"#276419\"]], \"sequential\": [[0.0, \"#0d0887\"], [0.1111111111111111, \"#46039f\"], [0.2222222222222222, \"#7201a8\"], [0.3333333333333333, \"#9c179e\"], [0.4444444444444444, \"#bd3786\"], [0.5555555555555556, \"#d8576b\"], [0.6666666666666666, \"#ed7953\"], [0.7777777777777778, \"#fb9f3a\"], [0.8888888888888888, \"#fdca26\"], [1.0, \"#f0f921\"]], \"sequentialminus\": [[0.0, \"#0d0887\"], [0.1111111111111111, \"#46039f\"], [0.2222222222222222, \"#7201a8\"], [0.3333333333333333, \"#9c179e\"], [0.4444444444444444, \"#bd3786\"], [0.5555555555555556, \"#d8576b\"], [0.6666666666666666, \"#ed7953\"], [0.7777777777777778, \"#fb9f3a\"], [0.8888888888888888, \"#fdca26\"], [1.0, \"#f0f921\"]]}, \"colorway\": [\"#636efa\", \"#EF553B\", \"#00cc96\", \"#ab63fa\", \"#FFA15A\", \"#19d3f3\", \"#FF6692\", \"#B6E880\", \"#FF97FF\", \"#FECB52\"], \"font\": {\"color\": \"#2a3f5f\"}, \"geo\": {\"bgcolor\": \"white\", \"lakecolor\": \"white\", \"landcolor\": \"#E5ECF6\", \"showlakes\": true, \"showland\": true, \"subunitcolor\": \"white\"}, \"hoverlabel\": {\"align\": \"left\"}, \"hovermode\": \"closest\", \"mapbox\": {\"style\": \"light\"}, \"paper_bgcolor\": \"white\", \"plot_bgcolor\": \"#E5ECF6\", \"polar\": {\"angularaxis\": {\"gridcolor\": \"white\", \"linecolor\": \"white\", \"ticks\": \"\"}, \"bgcolor\": \"#E5ECF6\", \"radialaxis\": {\"gridcolor\": \"white\", \"linecolor\": \"white\", \"ticks\": \"\"}}, \"scene\": {\"xaxis\": {\"backgroundcolor\": \"#E5ECF6\", \"gridcolor\": \"white\", \"gridwidth\": 2, \"linecolor\": \"white\", \"showbackground\": true, \"ticks\": \"\", \"zerolinecolor\": \"white\"}, \"yaxis\": {\"backgroundcolor\": \"#E5ECF6\", \"gridcolor\": \"white\", \"gridwidth\": 2, \"linecolor\": \"white\", \"showbackground\": true, \"ticks\": \"\", \"zerolinecolor\": \"white\"}, \"zaxis\": {\"backgroundcolor\": \"#E5ECF6\", \"gridcolor\": \"white\", \"gridwidth\": 2, \"linecolor\": \"white\", \"showbackground\": true, \"ticks\": \"\", \"zerolinecolor\": \"white\"}}, \"shapedefaults\": {\"line\": {\"color\": \"#2a3f5f\"}}, \"ternary\": {\"aaxis\": {\"gridcolor\": \"white\", \"linecolor\": \"white\", \"ticks\": \"\"}, \"baxis\": {\"gridcolor\": \"white\", \"linecolor\": \"white\", \"ticks\": \"\"}, \"bgcolor\": \"#E5ECF6\", \"caxis\": {\"gridcolor\": \"white\", \"linecolor\": \"white\", \"ticks\": \"\"}}, \"title\": {\"x\": 0.05}, \"xaxis\": {\"automargin\": true, \"gridcolor\": \"white\", \"linecolor\": \"white\", \"ticks\": \"\", \"title\": {\"standoff\": 15}, \"zerolinecolor\": \"white\", \"zerolinewidth\": 2}, \"yaxis\": {\"automargin\": true, \"gridcolor\": \"white\", \"linecolor\": \"white\", \"ticks\": \"\", \"title\": {\"standoff\": 15}, \"zerolinecolor\": \"white\", \"zerolinewidth\": 2}}}, \"title\": {\"text\": \"COVID-19 - Mortes 02-04-2020 \\n Zoom at\\u00e9 500\"}, \"xaxis\": {\"anchor\": \"y\", \"domain\": [0.0, 1.0], \"title\": {\"text\": \"Dias desde a primeira morte\"}}, \"yaxis\": {\"anchor\": \"x\", \"domain\": [0.0, 1.0], \"title\": {\"text\": \"Mortes\"}}},\n",
              "                        {\"responsive\": true}\n",
              "                    ).then(function(){\n",
              "                            \n",
              "var gd = document.getElementById('31827f7c-c8e5-4ef4-86ae-432f1b2c2f38');\n",
              "var x = new MutationObserver(function (mutations, observer) {{\n",
              "        var display = window.getComputedStyle(gd).display;\n",
              "        if (!display || display === 'none') {{\n",
              "            console.log([gd, 'removed!']);\n",
              "            Plotly.purge(gd);\n",
              "            observer.disconnect();\n",
              "        }}\n",
              "}});\n",
              "\n",
              "// Listen for the removal of the full notebook cells\n",
              "var notebookContainer = gd.closest('#notebook-container');\n",
              "if (notebookContainer) {{\n",
              "    x.observe(notebookContainer, {childList: true});\n",
              "}}\n",
              "\n",
              "// Listen for the clearing of the current output cell\n",
              "var outputEl = gd.closest('.output');\n",
              "if (outputEl) {{\n",
              "    x.observe(outputEl, {childList: true});\n",
              "}}\n",
              "\n",
              "                        })\n",
              "                };\n",
              "                \n",
              "            </script>\n",
              "        </div>\n",
              "</body>\n",
              "</html>"
            ]
          },
          "metadata": {
            "tags": []
          }
        }
      ]
    },
    {
      "cell_type": "code",
      "metadata": {
        "colab_type": "code",
        "id": "GpDxQSaqngDf",
        "outputId": "b28b570a-d367-47de-ce1b-b4bcbe0c293d",
        "colab": {
          "base_uri": "https://localhost:8080/",
          "height": 542
        }
      },
      "source": [
        "#hide_input\n",
        "#plt.figure(figsize=(6.5,8))\n",
        "#\n",
        "#sns.lineplot(x='Dias desde a primeira morte',y='Mortes',data=mfinal_data[mfinal_data['Países e territórios']=='Brazil'],color='black',linewidth=7,label='Brasil')\n",
        "#sns.lineplot(x='Dias desde a primeira morte',y='Mortes',data=mfinal_data[mfinal_data['Países e territórios']=='Italy'],label='Itália')\n",
        "#sns.lineplot(x='Dias desde a primeira morte',y='Mortes',data=mfinal_data[mfinal_data['Países e territórios']=='United_States_of_America'],label='Estados Unidos')\n",
        "#sns.lineplot(x='Dias desde a primeira morte',y='Mortes',data=mfinal_data[mfinal_data['Países e territórios']=='United_Kingdom'],label='Reino Unido')\n",
        "#sns.lineplot(x='Dias desde a primeira morte',y='Mortes',data=mfinal_data[mfinal_data['Países e territórios']=='South_Korea'],label= \"Coréia do Sul\")\n",
        "#sns.lineplot(x='Dias desde a primeira morte',y='Mortes',data=mfinal_data[mfinal_data['Países e territórios']=='France'],label='França')\n",
        "#sns.lineplot(x='Dias desde a primeira morte',y='Mortes',data=mfinal_data[mfinal_data['Países e territórios']=='Japan'],label='Japão')\n",
        "#sns.lineplot(x='Dias desde a primeira morte',y='Mortes',data=mfinal_data[mfinal_data['Países e territórios']=='China'],label='China',color='#244411')\n",
        "#sns.lineplot(x='Dias desde a primeira morte',y='Mortes',data=mfinal_data[mfinal_data['Países e territórios']=='Spain'],label='Espanha')\n",
        "#sns.lineplot(x='Dias desde a primeira morte',y='Mortes',data=mfinal_data[mfinal_data['Países e territórios']=='Argentina'],label='Argentina')\n",
        "#sns.lineplot(x='Dias desde a primeira morte',y='Mortes',data=mfinal_data[mfinal_data['Países e territórios']=='India'],label='Índia')\n",
        "#sns.lineplot(x='Dias desde a primeira morte',y='Mortes',data=mfinal_data[mfinal_data['Países e territórios']=='Germany'],label='Alemanha')\n",
        "#sns.lineplot(x='Dias desde a primeira morte',y='Mortes',data=mfinal_data[mfinal_data['Países e territórios']=='Czech_Republic'],label='República Tcheca')\n",
        "#\n",
        "#plt.grid(color='black', linestyle='--', linewidth=0.17)\n",
        "#\n",
        "#\n",
        "#plt.yticks([1,100,300,500,1000,2000,3000,4000,5000,6000,7000,8000] )\n",
        "#plt.xticks([ 0,  5, 10, 15, 20, 25, 30, 35, 40, 45, 50, 55, 60, 65, 70])\n",
        "#plt.title('COVID-19 - Mortes  - {} \\n Escala Aritmética'.format(today))\n",
        "#\n",
        "#plt.savefig(\"plots/10_mortes_corona_grafico_art.png\")\n",
        "#plt.show()\n",
        "\n",
        "fig = px.line(mfinal_data, x=\"Dias desde a primeira morte\", y=\"Mortes\", color='Países e territórios',title='COVID-19 - Mortes  - {} \\n Escala Aritmética'.format(today),\n",
        "              color_discrete_sequence=[\"black\", \"blue\",'green',\"darkmagenta\",\"gray\",\"brown\",\"orange\",\"magenta\",'red',\"darkblue\",\"lightgreen\",'coral','lightblue'])\n",
        "fig.update_layout(legend= {'title':'País','borderwidth':0,'orientation':'v','yanchor':'top','font':{'size':8}})\n",
        "\n",
        "fig.update_layout()\n",
        "fig.show()"
      ],
      "execution_count": 208,
      "outputs": [
        {
          "output_type": "display_data",
          "data": {
            "text/html": [
              "<html>\n",
              "<head><meta charset=\"utf-8\" /></head>\n",
              "<body>\n",
              "    <div>\n",
              "            <script src=\"https://cdnjs.cloudflare.com/ajax/libs/mathjax/2.7.5/MathJax.js?config=TeX-AMS-MML_SVG\"></script><script type=\"text/javascript\">if (window.MathJax) {MathJax.Hub.Config({SVG: {font: \"STIX-Web\"}});}</script>\n",
              "                <script type=\"text/javascript\">window.PlotlyConfig = {MathJaxConfig: 'local'};</script>\n",
              "        <script src=\"https://cdn.plot.ly/plotly-latest.min.js\"></script>    \n",
              "            <div id=\"11aa6399-c7dd-408e-ac9b-6115b657035f\" class=\"plotly-graph-div\" style=\"height:525px; width:100%;\"></div>\n",
              "            <script type=\"text/javascript\">\n",
              "                \n",
              "                    window.PLOTLYENV=window.PLOTLYENV || {};\n",
              "                    \n",
              "                if (document.getElementById(\"11aa6399-c7dd-408e-ac9b-6115b657035f\")) {\n",
              "                    Plotly.newPlot(\n",
              "                        '11aa6399-c7dd-408e-ac9b-6115b657035f',\n",
              "                        [{\"hovertemplate\": \"Pa\\u00edses e territ\\u00f3rios=Brazil<br>Dias desde a primeira morte=%{x}<br>Mortes=%{y}<extra></extra>\", \"legendgroup\": \"Brazil\", \"line\": {\"color\": \"black\", \"dash\": \"solid\"}, \"mode\": \"lines\", \"name\": \"Brazil\", \"showlegend\": true, \"type\": \"scatter\", \"x\": [0, 1, 2, 3, 4, 5, 6, 7, 8, 9, 10, 11, 12, 13, 14, 15], \"xaxis\": \"x\", \"y\": [1, 4, 6, 11, 18, 25, 34, 46, 57, 77, 92, 114, 136, 159, 201, 241], \"yaxis\": \"y\"}, {\"hovertemplate\": \"Pa\\u00edses e territ\\u00f3rios=Italy<br>Dias desde a primeira morte=%{x}<br>Mortes=%{y}<extra></extra>\", \"legendgroup\": \"Italy\", \"line\": {\"color\": \"blue\", \"dash\": \"solid\"}, \"mode\": \"lines\", \"name\": \"Italy\", \"showlegend\": true, \"type\": \"scatter\", \"x\": [0, 1, 2, 3, 4, 5, 6, 7, 8, 9, 10, 11, 12, 13, 14, 15, 16, 17, 18, 19, 20, 21, 22, 23, 24, 25, 26, 27, 28, 29, 30, 31, 32, 33, 34, 35, 36, 37, 38, 39], \"xaxis\": \"x\", \"y\": [2, 2, 6, 11, 12, 17, 21, 29, 35, 52, 80, 107, 148, 197, 233, 366, 464, 631, 827, 1016, 1268, 1441, 1811, 2158, 2505, 2978, 3407, 4032, 4827, 5476, 6077, 6820, 7505, 8165, 9136, 10023, 10781, 11591, 12430, 13157], \"yaxis\": \"y\"}, {\"hovertemplate\": \"Pa\\u00edses e territ\\u00f3rios=Japan<br>Dias desde a primeira morte=%{x}<br>Mortes=%{y}<extra></extra>\", \"legendgroup\": \"Japan\", \"line\": {\"color\": \"green\", \"dash\": \"solid\"}, \"mode\": \"lines\", \"name\": \"Japan\", \"showlegend\": true, \"type\": \"scatter\", \"x\": [0, 1, 2, 3, 4, 5, 6, 7, 8, 9, 10, 11, 12, 13, 14, 15, 16, 17, 18, 19, 20, 21, 22, 23, 24, 25, 26, 27, 28, 29, 30, 31, 32, 33, 34, 35, 36, 37, 38, 39, 40, 41, 42, 43, 44, 45, 46, 47, 48, 49], \"xaxis\": \"x\", \"y\": [1, 1, 1, 1, 1, 1, 1, 1, 1, 1, 1, 1, 1, 1, 3, 3, 3, 5, 6, 6, 6, 6, 6, 6, 6, 7, 9, 12, 15, 19, 21, 22, 24, 28, 28, 29, 33, 35, 36, 41, 42, 43, 45, 46, 49, 52, 54, 56, 56, 57], \"yaxis\": \"y\"}, {\"hovertemplate\": \"Pa\\u00edses e territ\\u00f3rios=United_Kingdom<br>Dias desde a primeira morte=%{x}<br>Mortes=%{y}<extra></extra>\", \"legendgroup\": \"United_Kingdom\", \"line\": {\"color\": \"darkmagenta\", \"dash\": \"solid\"}, \"mode\": \"lines\", \"name\": \"United_Kingdom\", \"showlegend\": true, \"type\": \"scatter\", \"x\": [0, 1, 2, 3, 4, 5, 6, 7, 8, 9, 10, 11, 12, 13, 14, 15, 16, 17, 18, 19, 20, 21, 22, 23, 24, 25, 26, 27], \"xaxis\": \"x\", \"y\": [1, 1, 2, 3, 5, 6, 6, 10, 10, 21, 35, 55, 60, 103, 144, 177, 233, 281, 335, 422, 463, 578, 759, 1019, 1228, 1408, 1789, 2532], \"yaxis\": \"y\"}, {\"hovertemplate\": \"Pa\\u00edses e territ\\u00f3rios=United_States_of_America<br>Dias desde a primeira morte=%{x}<br>Mortes=%{y}<extra></extra>\", \"legendgroup\": \"United_States_of_America\", \"line\": {\"color\": \"gray\", \"dash\": \"solid\"}, \"mode\": \"lines\", \"name\": \"United_States_of_America\", \"showlegend\": true, \"type\": \"scatter\", \"x\": [0, 1, 2, 3, 4, 5, 6, 7, 8, 9, 10, 11, 12, 13, 14, 15, 16, 17, 18, 19, 20, 21, 22, 23, 24, 25, 26, 27, 28, 29, 30, 31, 32], \"xaxis\": \"x\", \"y\": [1, 2, 6, 9, 11, 12, 14, 17, 21, 26, 28, 30, 40, 47, 57, 69, 85, 108, 150, 150, 260, 340, 471, 590, 801, 1050, 1296, 1707, 2191, 2509, 3170, 4079, 5138], \"yaxis\": \"y\"}, {\"hovertemplate\": \"Pa\\u00edses e territ\\u00f3rios=South_Korea<br>Dias desde a primeira morte=%{x}<br>Mortes=%{y}<extra></extra>\", \"legendgroup\": \"South_Korea\", \"line\": {\"color\": \"brown\", \"dash\": \"solid\"}, \"mode\": \"lines\", \"name\": \"South_Korea\", \"showlegend\": true, \"type\": \"scatter\", \"x\": [0, 1, 2, 3, 4, 5, 6, 7, 8, 9, 10, 11, 12, 13, 14, 15, 16, 17, 18, 19, 20, 21, 22, 23, 24, 25, 26, 27, 28, 29, 30, 31, 32, 33, 34, 35, 36, 37, 38, 39, 40, 41], \"xaxis\": \"x\", \"y\": [1, 2, 5, 7, 8, 11, 12, 13, 16, 17, 22, 28, 32, 35, 42, 44, 50, 51, 54, 60, 66, 67, 72, 75, 75, 81, 86, 91, 100, 103, 104, 113, 120, 126, 131, 139, 144, 152, 158, 163, 163, 169], \"yaxis\": \"y\"}, {\"hovertemplate\": \"Pa\\u00edses e territ\\u00f3rios=France<br>Dias desde a primeira morte=%{x}<br>Mortes=%{y}<extra></extra>\", \"legendgroup\": \"France\", \"line\": {\"color\": \"orange\", \"dash\": \"solid\"}, \"mode\": \"lines\", \"name\": \"France\", \"showlegend\": true, \"type\": \"scatter\", \"x\": [0, 1, 2, 3, 4, 5, 6, 7, 8, 9, 10, 11, 12, 13, 14, 15, 16, 17, 18, 19, 20, 21, 22, 23, 24, 25, 26, 27, 28, 29, 30, 31, 32, 33, 34, 35, 36, 37, 38, 39, 40, 41, 42, 43, 44, 45, 46, 47], \"xaxis\": \"x\", \"y\": [1, 1, 1, 1, 1, 1, 1, 1, 1, 1, 1, 1, 2, 2, 2, 2, 2, 3, 4, 4, 7, 9, 10, 19, 30, 33, 48, 61, 79, 91, 127, 148, 175, 244, 372, 450, 562, 674, 860, 1100, 1331, 1696, 1995, 2314, 2606, 3024, 3523, 4032], \"yaxis\": \"y\"}, {\"hovertemplate\": \"Pa\\u00edses e territ\\u00f3rios=China<br>Dias desde a primeira morte=%{x}<br>Mortes=%{y}<extra></extra>\", \"legendgroup\": \"China\", \"line\": {\"color\": \"magenta\", \"dash\": \"solid\"}, \"mode\": \"lines\", \"name\": \"China\", \"showlegend\": true, \"type\": \"scatter\", \"x\": [0, 1, 2, 3, 4, 5, 6, 7, 8, 9, 10, 11, 12, 13, 14, 15, 16, 17, 18, 19, 20, 21, 22, 23, 24, 25, 26, 27, 28, 29, 30, 31, 32, 33, 34, 35, 36, 37, 38, 39, 40, 41, 42, 43, 44, 45, 46, 47, 48, 49, 50, 51, 52, 53, 54, 55, 56, 57, 58, 59, 60, 61, 62, 63, 64, 65, 66, 67, 68, 69, 70, 71, 72, 73, 74, 75, 76, 77, 78, 79, 80, 81, 82], \"xaxis\": \"x\", \"y\": [1, 1, 1, 1, 2, 2, 2, 2, 3, 3, 6, 17, 17, 26, 41, 56, 81, 106, 132, 170, 213, 259, 304, 361, 426, 492, 564, 637, 723, 812, 909, 1017, 1114, 1368, 1381, 1524, 1666, 1771, 1869, 2008, 2120, 2238, 2347, 2445, 2595, 2665, 2717, 2746, 2790, 2837, 2872, 2914, 2946, 2983, 3014, 3044, 3072, 3099, 3122, 3139, 3161, 3172, 3179, 3194, 3203, 3216, 3225, 3241, 3249, 3253, 3259, 3265, 3274, 3281, 3285, 3291, 3296, 3299, 3304, 3306, 3309, 3310, 3316], \"yaxis\": \"y\"}, {\"hovertemplate\": \"Pa\\u00edses e territ\\u00f3rios=Spain<br>Dias desde a primeira morte=%{x}<br>Mortes=%{y}<extra></extra>\", \"legendgroup\": \"Spain\", \"line\": {\"color\": \"red\", \"dash\": \"solid\"}, \"mode\": \"lines\", \"name\": \"Spain\", \"showlegend\": true, \"type\": \"scatter\", \"x\": [0, 1, 2, 3, 4, 5, 6, 7, 8, 9, 10, 11, 12, 13, 14, 15, 16, 17, 18, 19, 20, 21, 22, 23, 24, 25, 26, 27, 28], \"xaxis\": \"x\", \"y\": [1, 3, 5, 5, 5, 28, 35, 47, 84, 121, 136, 288, 309, 491, 598, 767, 1002, 1326, 1720, 2182, 2696, 3434, 4089, 4858, 5690, 6528, 7340, 8189, 9053], \"yaxis\": \"y\"}, {\"hovertemplate\": \"Pa\\u00edses e territ\\u00f3rios=Argentina<br>Dias desde a primeira morte=%{x}<br>Mortes=%{y}<extra></extra>\", \"legendgroup\": \"Argentina\", \"line\": {\"color\": \"darkblue\", \"dash\": \"solid\"}, \"mode\": \"lines\", \"name\": \"Argentina\", \"showlegend\": true, \"type\": \"scatter\", \"x\": [0, 1, 2, 3, 4, 5, 6, 7, 8, 9, 10, 11, 12, 13, 14, 15, 16, 17, 18, 19, 20, 21, 22, 23], \"xaxis\": \"x\", \"y\": [1, 1, 1, 1, 2, 2, 2, 2, 2, 2, 3, 3, 4, 4, 4, 6, 8, 12, 17, 19, 20, 24, 24, 31], \"yaxis\": \"y\"}, {\"hovertemplate\": \"Pa\\u00edses e territ\\u00f3rios=India<br>Dias desde a primeira morte=%{x}<br>Mortes=%{y}<extra></extra>\", \"legendgroup\": \"India\", \"line\": {\"color\": \"lightgreen\", \"dash\": \"solid\"}, \"mode\": \"lines\", \"name\": \"India\", \"showlegend\": true, \"type\": \"scatter\", \"x\": [0, 1, 2, 3, 4, 5, 6, 7, 8, 9, 10, 11, 12, 13, 14, 15, 16, 17, 18, 19, 20], \"xaxis\": \"x\", \"y\": [1, 2, 2, 2, 3, 3, 3, 4, 4, 4, 7, 9, 9, 13, 17, 19, 25, 29, 32, 35, 50], \"yaxis\": \"y\"}, {\"hovertemplate\": \"Pa\\u00edses e territ\\u00f3rios=Germany<br>Dias desde a primeira morte=%{x}<br>Mortes=%{y}<extra></extra>\", \"legendgroup\": \"Germany\", \"line\": {\"color\": \"coral\", \"dash\": \"solid\"}, \"mode\": \"lines\", \"name\": \"Germany\", \"showlegend\": true, \"type\": \"scatter\", \"x\": [0, 1, 2, 3, 4, 5, 6, 7, 8, 9, 10, 11, 12, 13, 14, 15, 16, 17, 18, 19, 20, 21, 22, 23], \"xaxis\": \"x\", \"y\": [2, 2, 3, 5, 5, 8, 12, 13, 13, 13, 43, 45, 67, 94, 126, 149, 198, 253, 325, 389, 455, 583, 732, 872], \"yaxis\": \"y\"}, {\"hovertemplate\": \"Pa\\u00edses e territ\\u00f3rios=Czech_Republic<br>Dias desde a primeira morte=%{x}<br>Mortes=%{y}<extra></extra>\", \"legendgroup\": \"Czech_Republic\", \"line\": {\"color\": \"lightblue\", \"dash\": \"solid\"}, \"mode\": \"lines\", \"name\": \"Czech_Republic\", \"showlegend\": true, \"type\": \"scatter\", \"x\": [0, 1, 2, 3, 4, 5, 6, 7, 8, 9, 10], \"xaxis\": \"x\", \"y\": [1, 1, 3, 6, 9, 9, 11, 16, 24, 31, 39], \"yaxis\": \"y\"}],\n",
              "                        {\"legend\": {\"borderwidth\": 0, \"font\": {\"size\": 8}, \"orientation\": \"v\", \"title\": {\"text\": \"Pa\\u00eds\"}, \"tracegroupgap\": 0, \"yanchor\": \"top\"}, \"template\": {\"data\": {\"bar\": [{\"error_x\": {\"color\": \"#2a3f5f\"}, \"error_y\": {\"color\": \"#2a3f5f\"}, \"marker\": {\"line\": {\"color\": \"#E5ECF6\", \"width\": 0.5}}, \"type\": \"bar\"}], \"barpolar\": [{\"marker\": {\"line\": {\"color\": \"#E5ECF6\", \"width\": 0.5}}, \"type\": \"barpolar\"}], \"carpet\": [{\"aaxis\": {\"endlinecolor\": \"#2a3f5f\", \"gridcolor\": \"white\", \"linecolor\": \"white\", \"minorgridcolor\": \"white\", \"startlinecolor\": \"#2a3f5f\"}, \"baxis\": {\"endlinecolor\": \"#2a3f5f\", \"gridcolor\": \"white\", \"linecolor\": \"white\", \"minorgridcolor\": \"white\", \"startlinecolor\": \"#2a3f5f\"}, \"type\": \"carpet\"}], \"choropleth\": [{\"colorbar\": {\"outlinewidth\": 0, \"ticks\": \"\"}, \"type\": \"choropleth\"}], \"contour\": [{\"colorbar\": {\"outlinewidth\": 0, \"ticks\": \"\"}, \"colorscale\": [[0.0, \"#0d0887\"], [0.1111111111111111, \"#46039f\"], [0.2222222222222222, \"#7201a8\"], [0.3333333333333333, \"#9c179e\"], [0.4444444444444444, \"#bd3786\"], [0.5555555555555556, \"#d8576b\"], [0.6666666666666666, \"#ed7953\"], [0.7777777777777778, \"#fb9f3a\"], [0.8888888888888888, \"#fdca26\"], [1.0, \"#f0f921\"]], \"type\": \"contour\"}], \"contourcarpet\": [{\"colorbar\": {\"outlinewidth\": 0, \"ticks\": \"\"}, \"type\": \"contourcarpet\"}], \"heatmap\": [{\"colorbar\": {\"outlinewidth\": 0, \"ticks\": \"\"}, \"colorscale\": [[0.0, \"#0d0887\"], [0.1111111111111111, \"#46039f\"], [0.2222222222222222, \"#7201a8\"], [0.3333333333333333, \"#9c179e\"], [0.4444444444444444, \"#bd3786\"], [0.5555555555555556, \"#d8576b\"], [0.6666666666666666, \"#ed7953\"], [0.7777777777777778, \"#fb9f3a\"], [0.8888888888888888, \"#fdca26\"], [1.0, \"#f0f921\"]], \"type\": \"heatmap\"}], \"heatmapgl\": [{\"colorbar\": {\"outlinewidth\": 0, \"ticks\": \"\"}, \"colorscale\": [[0.0, \"#0d0887\"], [0.1111111111111111, \"#46039f\"], [0.2222222222222222, \"#7201a8\"], [0.3333333333333333, \"#9c179e\"], [0.4444444444444444, \"#bd3786\"], [0.5555555555555556, \"#d8576b\"], [0.6666666666666666, \"#ed7953\"], [0.7777777777777778, \"#fb9f3a\"], [0.8888888888888888, \"#fdca26\"], [1.0, \"#f0f921\"]], \"type\": \"heatmapgl\"}], \"histogram\": [{\"marker\": {\"colorbar\": {\"outlinewidth\": 0, \"ticks\": \"\"}}, \"type\": \"histogram\"}], \"histogram2d\": [{\"colorbar\": {\"outlinewidth\": 0, \"ticks\": \"\"}, \"colorscale\": [[0.0, \"#0d0887\"], [0.1111111111111111, \"#46039f\"], [0.2222222222222222, \"#7201a8\"], [0.3333333333333333, \"#9c179e\"], [0.4444444444444444, \"#bd3786\"], [0.5555555555555556, \"#d8576b\"], [0.6666666666666666, \"#ed7953\"], [0.7777777777777778, \"#fb9f3a\"], [0.8888888888888888, \"#fdca26\"], [1.0, \"#f0f921\"]], \"type\": \"histogram2d\"}], \"histogram2dcontour\": [{\"colorbar\": {\"outlinewidth\": 0, \"ticks\": \"\"}, \"colorscale\": [[0.0, \"#0d0887\"], [0.1111111111111111, \"#46039f\"], [0.2222222222222222, \"#7201a8\"], [0.3333333333333333, \"#9c179e\"], [0.4444444444444444, \"#bd3786\"], [0.5555555555555556, \"#d8576b\"], [0.6666666666666666, \"#ed7953\"], [0.7777777777777778, \"#fb9f3a\"], [0.8888888888888888, \"#fdca26\"], [1.0, \"#f0f921\"]], \"type\": \"histogram2dcontour\"}], \"mesh3d\": [{\"colorbar\": {\"outlinewidth\": 0, \"ticks\": \"\"}, \"type\": \"mesh3d\"}], \"parcoords\": [{\"line\": {\"colorbar\": {\"outlinewidth\": 0, \"ticks\": \"\"}}, \"type\": \"parcoords\"}], \"pie\": [{\"automargin\": true, \"type\": \"pie\"}], \"scatter\": [{\"marker\": {\"colorbar\": {\"outlinewidth\": 0, \"ticks\": \"\"}}, \"type\": \"scatter\"}], \"scatter3d\": [{\"line\": {\"colorbar\": {\"outlinewidth\": 0, \"ticks\": \"\"}}, \"marker\": {\"colorbar\": {\"outlinewidth\": 0, \"ticks\": \"\"}}, \"type\": \"scatter3d\"}], \"scattercarpet\": [{\"marker\": {\"colorbar\": {\"outlinewidth\": 0, \"ticks\": \"\"}}, \"type\": \"scattercarpet\"}], \"scattergeo\": [{\"marker\": {\"colorbar\": {\"outlinewidth\": 0, \"ticks\": \"\"}}, \"type\": \"scattergeo\"}], \"scattergl\": [{\"marker\": {\"colorbar\": {\"outlinewidth\": 0, \"ticks\": \"\"}}, \"type\": \"scattergl\"}], \"scattermapbox\": [{\"marker\": {\"colorbar\": {\"outlinewidth\": 0, \"ticks\": \"\"}}, \"type\": \"scattermapbox\"}], \"scatterpolar\": [{\"marker\": {\"colorbar\": {\"outlinewidth\": 0, \"ticks\": \"\"}}, \"type\": \"scatterpolar\"}], \"scatterpolargl\": [{\"marker\": {\"colorbar\": {\"outlinewidth\": 0, \"ticks\": \"\"}}, \"type\": \"scatterpolargl\"}], \"scatterternary\": [{\"marker\": {\"colorbar\": {\"outlinewidth\": 0, \"ticks\": \"\"}}, \"type\": \"scatterternary\"}], \"surface\": [{\"colorbar\": {\"outlinewidth\": 0, \"ticks\": \"\"}, \"colorscale\": [[0.0, \"#0d0887\"], [0.1111111111111111, \"#46039f\"], [0.2222222222222222, \"#7201a8\"], [0.3333333333333333, \"#9c179e\"], [0.4444444444444444, \"#bd3786\"], [0.5555555555555556, \"#d8576b\"], [0.6666666666666666, \"#ed7953\"], [0.7777777777777778, \"#fb9f3a\"], [0.8888888888888888, \"#fdca26\"], [1.0, \"#f0f921\"]], \"type\": \"surface\"}], \"table\": [{\"cells\": {\"fill\": {\"color\": \"#EBF0F8\"}, \"line\": {\"color\": \"white\"}}, \"header\": {\"fill\": {\"color\": \"#C8D4E3\"}, \"line\": {\"color\": \"white\"}}, \"type\": \"table\"}]}, \"layout\": {\"annotationdefaults\": {\"arrowcolor\": \"#2a3f5f\", \"arrowhead\": 0, \"arrowwidth\": 1}, \"coloraxis\": {\"colorbar\": {\"outlinewidth\": 0, \"ticks\": \"\"}}, \"colorscale\": {\"diverging\": [[0, \"#8e0152\"], [0.1, \"#c51b7d\"], [0.2, \"#de77ae\"], [0.3, \"#f1b6da\"], [0.4, \"#fde0ef\"], [0.5, \"#f7f7f7\"], [0.6, \"#e6f5d0\"], [0.7, \"#b8e186\"], [0.8, \"#7fbc41\"], [0.9, \"#4d9221\"], [1, \"#276419\"]], \"sequential\": [[0.0, \"#0d0887\"], [0.1111111111111111, \"#46039f\"], [0.2222222222222222, \"#7201a8\"], [0.3333333333333333, \"#9c179e\"], [0.4444444444444444, \"#bd3786\"], [0.5555555555555556, \"#d8576b\"], [0.6666666666666666, \"#ed7953\"], [0.7777777777777778, \"#fb9f3a\"], [0.8888888888888888, \"#fdca26\"], [1.0, \"#f0f921\"]], \"sequentialminus\": [[0.0, \"#0d0887\"], [0.1111111111111111, \"#46039f\"], [0.2222222222222222, \"#7201a8\"], [0.3333333333333333, \"#9c179e\"], [0.4444444444444444, \"#bd3786\"], [0.5555555555555556, \"#d8576b\"], [0.6666666666666666, \"#ed7953\"], [0.7777777777777778, \"#fb9f3a\"], [0.8888888888888888, \"#fdca26\"], [1.0, \"#f0f921\"]]}, \"colorway\": [\"#636efa\", \"#EF553B\", \"#00cc96\", \"#ab63fa\", \"#FFA15A\", \"#19d3f3\", \"#FF6692\", \"#B6E880\", \"#FF97FF\", \"#FECB52\"], \"font\": {\"color\": \"#2a3f5f\"}, \"geo\": {\"bgcolor\": \"white\", \"lakecolor\": \"white\", \"landcolor\": \"#E5ECF6\", \"showlakes\": true, \"showland\": true, \"subunitcolor\": \"white\"}, \"hoverlabel\": {\"align\": \"left\"}, \"hovermode\": \"closest\", \"mapbox\": {\"style\": \"light\"}, \"paper_bgcolor\": \"white\", \"plot_bgcolor\": \"#E5ECF6\", \"polar\": {\"angularaxis\": {\"gridcolor\": \"white\", \"linecolor\": \"white\", \"ticks\": \"\"}, \"bgcolor\": \"#E5ECF6\", \"radialaxis\": {\"gridcolor\": \"white\", \"linecolor\": \"white\", \"ticks\": \"\"}}, \"scene\": {\"xaxis\": {\"backgroundcolor\": \"#E5ECF6\", \"gridcolor\": \"white\", \"gridwidth\": 2, \"linecolor\": \"white\", \"showbackground\": true, \"ticks\": \"\", \"zerolinecolor\": \"white\"}, \"yaxis\": {\"backgroundcolor\": \"#E5ECF6\", \"gridcolor\": \"white\", \"gridwidth\": 2, \"linecolor\": \"white\", \"showbackground\": true, \"ticks\": \"\", \"zerolinecolor\": \"white\"}, \"zaxis\": {\"backgroundcolor\": \"#E5ECF6\", \"gridcolor\": \"white\", \"gridwidth\": 2, \"linecolor\": \"white\", \"showbackground\": true, \"ticks\": \"\", \"zerolinecolor\": \"white\"}}, \"shapedefaults\": {\"line\": {\"color\": \"#2a3f5f\"}}, \"ternary\": {\"aaxis\": {\"gridcolor\": \"white\", \"linecolor\": \"white\", \"ticks\": \"\"}, \"baxis\": {\"gridcolor\": \"white\", \"linecolor\": \"white\", \"ticks\": \"\"}, \"bgcolor\": \"#E5ECF6\", \"caxis\": {\"gridcolor\": \"white\", \"linecolor\": \"white\", \"ticks\": \"\"}}, \"title\": {\"x\": 0.05}, \"xaxis\": {\"automargin\": true, \"gridcolor\": \"white\", \"linecolor\": \"white\", \"ticks\": \"\", \"title\": {\"standoff\": 15}, \"zerolinecolor\": \"white\", \"zerolinewidth\": 2}, \"yaxis\": {\"automargin\": true, \"gridcolor\": \"white\", \"linecolor\": \"white\", \"ticks\": \"\", \"title\": {\"standoff\": 15}, \"zerolinecolor\": \"white\", \"zerolinewidth\": 2}}}, \"title\": {\"text\": \"COVID-19 - Mortes  - 02-04-2020 \\n Escala Aritm\\u00e9tica\"}, \"xaxis\": {\"anchor\": \"y\", \"domain\": [0.0, 1.0], \"title\": {\"text\": \"Dias desde a primeira morte\"}}, \"yaxis\": {\"anchor\": \"x\", \"domain\": [0.0, 1.0], \"title\": {\"text\": \"Mortes\"}}},\n",
              "                        {\"responsive\": true}\n",
              "                    ).then(function(){\n",
              "                            \n",
              "var gd = document.getElementById('11aa6399-c7dd-408e-ac9b-6115b657035f');\n",
              "var x = new MutationObserver(function (mutations, observer) {{\n",
              "        var display = window.getComputedStyle(gd).display;\n",
              "        if (!display || display === 'none') {{\n",
              "            console.log([gd, 'removed!']);\n",
              "            Plotly.purge(gd);\n",
              "            observer.disconnect();\n",
              "        }}\n",
              "}});\n",
              "\n",
              "// Listen for the removal of the full notebook cells\n",
              "var notebookContainer = gd.closest('#notebook-container');\n",
              "if (notebookContainer) {{\n",
              "    x.observe(notebookContainer, {childList: true});\n",
              "}}\n",
              "\n",
              "// Listen for the clearing of the current output cell\n",
              "var outputEl = gd.closest('.output');\n",
              "if (outputEl) {{\n",
              "    x.observe(outputEl, {childList: true});\n",
              "}}\n",
              "\n",
              "                        })\n",
              "                };\n",
              "                \n",
              "            </script>\n",
              "        </div>\n",
              "</body>\n",
              "</html>"
            ]
          },
          "metadata": {
            "tags": []
          }
        }
      ]
    },
    {
      "cell_type": "code",
      "metadata": {
        "colab_type": "code",
        "id": "1cJZAe_1SBsP",
        "outputId": "d2ceb9ae-70be-432f-b94f-a598a942a0a6",
        "colab": {
          "base_uri": "https://localhost:8080/",
          "height": 542
        }
      },
      "source": [
        "#hide_input\n",
        "#plt.figure(figsize=(6.5,8))\n",
        "#\n",
        "#sns.lineplot(x='Dias desde a primeira morte',y='Mortes',data=mfinal_data[mfinal_data['Países e territórios']=='Brazil'],color='black',linewidth=4,label='Brasil')\n",
        "#sns.lineplot(x='Dias desde a primeira morte',y='Mortes',data=mfinal_data[mfinal_data['Países e territórios']=='Italy'],label='Itália')\n",
        "#sns.lineplot(x='Dias desde a primeira morte',y='Mortes',data=mfinal_data[mfinal_data['Países e territórios']=='United_States_of_America'],label='Estados Unidos')\n",
        "#sns.lineplot(x='Dias desde a primeira morte',y='Mortes',data=mfinal_data[mfinal_data['Países e territórios']=='United_Kingdom'],label='Reino Unido')\n",
        "#sns.lineplot(x='Dias desde a primeira morte',y='Mortes',data=mfinal_data[mfinal_data['Países e territórios']=='South_Korea'],label= \"Coréia do Sul\")\n",
        "#sns.lineplot(x='Dias desde a primeira morte',y='Mortes',data=mfinal_data[mfinal_data['Países e territórios']=='France'],label='França')\n",
        "#sns.lineplot(x='Dias desde a primeira morte',y='Mortes',data=mfinal_data[mfinal_data['Países e territórios']=='Japan'],label='Japão')\n",
        "#sns.lineplot(x='Dias desde a primeira morte',y='Mortes',data=mfinal_data[mfinal_data['Países e territórios']=='China'],label='China',color='#244411')\n",
        "#sns.lineplot(x='Dias desde a primeira morte',y='Mortes',data=mfinal_data[mfinal_data['Países e territórios']=='Spain'],label='Espanha')\n",
        "#sns.lineplot(x='Dias desde a primeira morte',y='Mortes',data=mfinal_data[mfinal_data['Países e territórios']=='Argentina'],label='Argentina')\n",
        "#sns.lineplot(x='Dias desde a primeira morte',y='Mortes',data=mfinal_data[mfinal_data['Países e territórios']=='India'],label='Índia')\n",
        "#sns.lineplot(x='Dias desde a primeira morte',y='Mortes',data=mfinal_data[mfinal_data['Países e territórios']=='Germany'],label='Alemanha')\n",
        "#sns.lineplot(x='Dias desde a primeira morte',y='Mortes',data=mfinal_data[mfinal_data['Países e territórios']=='Czech_Republic'],label='República Tcheca',color=\"#660033\")\n",
        "#\n",
        "#\n",
        "#plt.grid(color='black', linestyle='--', linewidth=0.17)\n",
        "#plt.xlim(70)\n",
        "#\n",
        "#plt.yscale('log')\n",
        "#plt.yticks([100,300,500,1000,5000] )\n",
        "#plt.xticks([ 0,  5, 10, 15, 20, 25, 30, 35, 40, 45, 50, 55, 60, 65, 70])\n",
        "#plt.title('COVID-19 - Mortes  {} \\n Escala Logarítmica'.format(today))\n",
        "#\n",
        "#plt.savefig(\"plots/09_mortes_corona_grafico.png\")\n",
        "#plt.show()\n",
        "\n",
        "fig = px.line(mfinal_data, x=\"Dias desde a primeira morte\", y=\"Mortes\", title='COVID-19 - Mortes  {} \\n Escala Logarítmica'.format(today),\n",
        "              color='Países e territórios',color_discrete_sequence=[\"black\", \"blue\",'green',\"darkmagenta\",\"gray\",\"brown\",\"orange\",\"magenta\",'red',\"darkblue\",\"lightgreen\",'coral','lightblue'])\n",
        "fig.update_layout(legend= {'title':'País','borderwidth':0,'orientation':'v','yanchor':'top','font':{'size':8}})\n",
        "\n",
        "fig.update_layout( yaxis_type=\"log\")\n",
        "fig.show()"
      ],
      "execution_count": 209,
      "outputs": [
        {
          "output_type": "display_data",
          "data": {
            "text/html": [
              "<html>\n",
              "<head><meta charset=\"utf-8\" /></head>\n",
              "<body>\n",
              "    <div>\n",
              "            <script src=\"https://cdnjs.cloudflare.com/ajax/libs/mathjax/2.7.5/MathJax.js?config=TeX-AMS-MML_SVG\"></script><script type=\"text/javascript\">if (window.MathJax) {MathJax.Hub.Config({SVG: {font: \"STIX-Web\"}});}</script>\n",
              "                <script type=\"text/javascript\">window.PlotlyConfig = {MathJaxConfig: 'local'};</script>\n",
              "        <script src=\"https://cdn.plot.ly/plotly-latest.min.js\"></script>    \n",
              "            <div id=\"252a63ef-3027-4855-9304-8e2344faad36\" class=\"plotly-graph-div\" style=\"height:525px; width:100%;\"></div>\n",
              "            <script type=\"text/javascript\">\n",
              "                \n",
              "                    window.PLOTLYENV=window.PLOTLYENV || {};\n",
              "                    \n",
              "                if (document.getElementById(\"252a63ef-3027-4855-9304-8e2344faad36\")) {\n",
              "                    Plotly.newPlot(\n",
              "                        '252a63ef-3027-4855-9304-8e2344faad36',\n",
              "                        [{\"hovertemplate\": \"Pa\\u00edses e territ\\u00f3rios=Brazil<br>Dias desde a primeira morte=%{x}<br>Mortes=%{y}<extra></extra>\", \"legendgroup\": \"Brazil\", \"line\": {\"color\": \"black\", \"dash\": \"solid\"}, \"mode\": \"lines\", \"name\": \"Brazil\", \"showlegend\": true, \"type\": \"scatter\", \"x\": [0, 1, 2, 3, 4, 5, 6, 7, 8, 9, 10, 11, 12, 13, 14, 15], \"xaxis\": \"x\", \"y\": [1, 4, 6, 11, 18, 25, 34, 46, 57, 77, 92, 114, 136, 159, 201, 241], \"yaxis\": \"y\"}, {\"hovertemplate\": \"Pa\\u00edses e territ\\u00f3rios=Italy<br>Dias desde a primeira morte=%{x}<br>Mortes=%{y}<extra></extra>\", \"legendgroup\": \"Italy\", \"line\": {\"color\": \"blue\", \"dash\": \"solid\"}, \"mode\": \"lines\", \"name\": \"Italy\", \"showlegend\": true, \"type\": \"scatter\", \"x\": [0, 1, 2, 3, 4, 5, 6, 7, 8, 9, 10, 11, 12, 13, 14, 15, 16, 17, 18, 19, 20, 21, 22, 23, 24, 25, 26, 27, 28, 29, 30, 31, 32, 33, 34, 35, 36, 37, 38, 39], \"xaxis\": \"x\", \"y\": [2, 2, 6, 11, 12, 17, 21, 29, 35, 52, 80, 107, 148, 197, 233, 366, 464, 631, 827, 1016, 1268, 1441, 1811, 2158, 2505, 2978, 3407, 4032, 4827, 5476, 6077, 6820, 7505, 8165, 9136, 10023, 10781, 11591, 12430, 13157], \"yaxis\": \"y\"}, {\"hovertemplate\": \"Pa\\u00edses e territ\\u00f3rios=Japan<br>Dias desde a primeira morte=%{x}<br>Mortes=%{y}<extra></extra>\", \"legendgroup\": \"Japan\", \"line\": {\"color\": \"green\", \"dash\": \"solid\"}, \"mode\": \"lines\", \"name\": \"Japan\", \"showlegend\": true, \"type\": \"scatter\", \"x\": [0, 1, 2, 3, 4, 5, 6, 7, 8, 9, 10, 11, 12, 13, 14, 15, 16, 17, 18, 19, 20, 21, 22, 23, 24, 25, 26, 27, 28, 29, 30, 31, 32, 33, 34, 35, 36, 37, 38, 39, 40, 41, 42, 43, 44, 45, 46, 47, 48, 49], \"xaxis\": \"x\", \"y\": [1, 1, 1, 1, 1, 1, 1, 1, 1, 1, 1, 1, 1, 1, 3, 3, 3, 5, 6, 6, 6, 6, 6, 6, 6, 7, 9, 12, 15, 19, 21, 22, 24, 28, 28, 29, 33, 35, 36, 41, 42, 43, 45, 46, 49, 52, 54, 56, 56, 57], \"yaxis\": \"y\"}, {\"hovertemplate\": \"Pa\\u00edses e territ\\u00f3rios=United_Kingdom<br>Dias desde a primeira morte=%{x}<br>Mortes=%{y}<extra></extra>\", \"legendgroup\": \"United_Kingdom\", \"line\": {\"color\": \"darkmagenta\", \"dash\": \"solid\"}, \"mode\": \"lines\", \"name\": \"United_Kingdom\", \"showlegend\": true, \"type\": \"scatter\", \"x\": [0, 1, 2, 3, 4, 5, 6, 7, 8, 9, 10, 11, 12, 13, 14, 15, 16, 17, 18, 19, 20, 21, 22, 23, 24, 25, 26, 27], \"xaxis\": \"x\", \"y\": [1, 1, 2, 3, 5, 6, 6, 10, 10, 21, 35, 55, 60, 103, 144, 177, 233, 281, 335, 422, 463, 578, 759, 1019, 1228, 1408, 1789, 2532], \"yaxis\": \"y\"}, {\"hovertemplate\": \"Pa\\u00edses e territ\\u00f3rios=United_States_of_America<br>Dias desde a primeira morte=%{x}<br>Mortes=%{y}<extra></extra>\", \"legendgroup\": \"United_States_of_America\", \"line\": {\"color\": \"gray\", \"dash\": \"solid\"}, \"mode\": \"lines\", \"name\": \"United_States_of_America\", \"showlegend\": true, \"type\": \"scatter\", \"x\": [0, 1, 2, 3, 4, 5, 6, 7, 8, 9, 10, 11, 12, 13, 14, 15, 16, 17, 18, 19, 20, 21, 22, 23, 24, 25, 26, 27, 28, 29, 30, 31, 32], \"xaxis\": \"x\", \"y\": [1, 2, 6, 9, 11, 12, 14, 17, 21, 26, 28, 30, 40, 47, 57, 69, 85, 108, 150, 150, 260, 340, 471, 590, 801, 1050, 1296, 1707, 2191, 2509, 3170, 4079, 5138], \"yaxis\": \"y\"}, {\"hovertemplate\": \"Pa\\u00edses e territ\\u00f3rios=South_Korea<br>Dias desde a primeira morte=%{x}<br>Mortes=%{y}<extra></extra>\", \"legendgroup\": \"South_Korea\", \"line\": {\"color\": \"brown\", \"dash\": \"solid\"}, \"mode\": \"lines\", \"name\": \"South_Korea\", \"showlegend\": true, \"type\": \"scatter\", \"x\": [0, 1, 2, 3, 4, 5, 6, 7, 8, 9, 10, 11, 12, 13, 14, 15, 16, 17, 18, 19, 20, 21, 22, 23, 24, 25, 26, 27, 28, 29, 30, 31, 32, 33, 34, 35, 36, 37, 38, 39, 40, 41], \"xaxis\": \"x\", \"y\": [1, 2, 5, 7, 8, 11, 12, 13, 16, 17, 22, 28, 32, 35, 42, 44, 50, 51, 54, 60, 66, 67, 72, 75, 75, 81, 86, 91, 100, 103, 104, 113, 120, 126, 131, 139, 144, 152, 158, 163, 163, 169], \"yaxis\": \"y\"}, {\"hovertemplate\": \"Pa\\u00edses e territ\\u00f3rios=France<br>Dias desde a primeira morte=%{x}<br>Mortes=%{y}<extra></extra>\", \"legendgroup\": \"France\", \"line\": {\"color\": \"orange\", \"dash\": \"solid\"}, \"mode\": \"lines\", \"name\": \"France\", \"showlegend\": true, \"type\": \"scatter\", \"x\": [0, 1, 2, 3, 4, 5, 6, 7, 8, 9, 10, 11, 12, 13, 14, 15, 16, 17, 18, 19, 20, 21, 22, 23, 24, 25, 26, 27, 28, 29, 30, 31, 32, 33, 34, 35, 36, 37, 38, 39, 40, 41, 42, 43, 44, 45, 46, 47], \"xaxis\": \"x\", \"y\": [1, 1, 1, 1, 1, 1, 1, 1, 1, 1, 1, 1, 2, 2, 2, 2, 2, 3, 4, 4, 7, 9, 10, 19, 30, 33, 48, 61, 79, 91, 127, 148, 175, 244, 372, 450, 562, 674, 860, 1100, 1331, 1696, 1995, 2314, 2606, 3024, 3523, 4032], \"yaxis\": \"y\"}, {\"hovertemplate\": \"Pa\\u00edses e territ\\u00f3rios=China<br>Dias desde a primeira morte=%{x}<br>Mortes=%{y}<extra></extra>\", \"legendgroup\": \"China\", \"line\": {\"color\": \"magenta\", \"dash\": \"solid\"}, \"mode\": \"lines\", \"name\": \"China\", \"showlegend\": true, \"type\": \"scatter\", \"x\": [0, 1, 2, 3, 4, 5, 6, 7, 8, 9, 10, 11, 12, 13, 14, 15, 16, 17, 18, 19, 20, 21, 22, 23, 24, 25, 26, 27, 28, 29, 30, 31, 32, 33, 34, 35, 36, 37, 38, 39, 40, 41, 42, 43, 44, 45, 46, 47, 48, 49, 50, 51, 52, 53, 54, 55, 56, 57, 58, 59, 60, 61, 62, 63, 64, 65, 66, 67, 68, 69, 70, 71, 72, 73, 74, 75, 76, 77, 78, 79, 80, 81, 82], \"xaxis\": \"x\", \"y\": [1, 1, 1, 1, 2, 2, 2, 2, 3, 3, 6, 17, 17, 26, 41, 56, 81, 106, 132, 170, 213, 259, 304, 361, 426, 492, 564, 637, 723, 812, 909, 1017, 1114, 1368, 1381, 1524, 1666, 1771, 1869, 2008, 2120, 2238, 2347, 2445, 2595, 2665, 2717, 2746, 2790, 2837, 2872, 2914, 2946, 2983, 3014, 3044, 3072, 3099, 3122, 3139, 3161, 3172, 3179, 3194, 3203, 3216, 3225, 3241, 3249, 3253, 3259, 3265, 3274, 3281, 3285, 3291, 3296, 3299, 3304, 3306, 3309, 3310, 3316], \"yaxis\": \"y\"}, {\"hovertemplate\": \"Pa\\u00edses e territ\\u00f3rios=Spain<br>Dias desde a primeira morte=%{x}<br>Mortes=%{y}<extra></extra>\", \"legendgroup\": \"Spain\", \"line\": {\"color\": \"red\", \"dash\": \"solid\"}, \"mode\": \"lines\", \"name\": \"Spain\", \"showlegend\": true, \"type\": \"scatter\", \"x\": [0, 1, 2, 3, 4, 5, 6, 7, 8, 9, 10, 11, 12, 13, 14, 15, 16, 17, 18, 19, 20, 21, 22, 23, 24, 25, 26, 27, 28], \"xaxis\": \"x\", \"y\": [1, 3, 5, 5, 5, 28, 35, 47, 84, 121, 136, 288, 309, 491, 598, 767, 1002, 1326, 1720, 2182, 2696, 3434, 4089, 4858, 5690, 6528, 7340, 8189, 9053], \"yaxis\": \"y\"}, {\"hovertemplate\": \"Pa\\u00edses e territ\\u00f3rios=Argentina<br>Dias desde a primeira morte=%{x}<br>Mortes=%{y}<extra></extra>\", \"legendgroup\": \"Argentina\", \"line\": {\"color\": \"darkblue\", \"dash\": \"solid\"}, \"mode\": \"lines\", \"name\": \"Argentina\", \"showlegend\": true, \"type\": \"scatter\", \"x\": [0, 1, 2, 3, 4, 5, 6, 7, 8, 9, 10, 11, 12, 13, 14, 15, 16, 17, 18, 19, 20, 21, 22, 23], \"xaxis\": \"x\", \"y\": [1, 1, 1, 1, 2, 2, 2, 2, 2, 2, 3, 3, 4, 4, 4, 6, 8, 12, 17, 19, 20, 24, 24, 31], \"yaxis\": \"y\"}, {\"hovertemplate\": \"Pa\\u00edses e territ\\u00f3rios=India<br>Dias desde a primeira morte=%{x}<br>Mortes=%{y}<extra></extra>\", \"legendgroup\": \"India\", \"line\": {\"color\": \"lightgreen\", \"dash\": \"solid\"}, \"mode\": \"lines\", \"name\": \"India\", \"showlegend\": true, \"type\": \"scatter\", \"x\": [0, 1, 2, 3, 4, 5, 6, 7, 8, 9, 10, 11, 12, 13, 14, 15, 16, 17, 18, 19, 20], \"xaxis\": \"x\", \"y\": [1, 2, 2, 2, 3, 3, 3, 4, 4, 4, 7, 9, 9, 13, 17, 19, 25, 29, 32, 35, 50], \"yaxis\": \"y\"}, {\"hovertemplate\": \"Pa\\u00edses e territ\\u00f3rios=Germany<br>Dias desde a primeira morte=%{x}<br>Mortes=%{y}<extra></extra>\", \"legendgroup\": \"Germany\", \"line\": {\"color\": \"coral\", \"dash\": \"solid\"}, \"mode\": \"lines\", \"name\": \"Germany\", \"showlegend\": true, \"type\": \"scatter\", \"x\": [0, 1, 2, 3, 4, 5, 6, 7, 8, 9, 10, 11, 12, 13, 14, 15, 16, 17, 18, 19, 20, 21, 22, 23], \"xaxis\": \"x\", \"y\": [2, 2, 3, 5, 5, 8, 12, 13, 13, 13, 43, 45, 67, 94, 126, 149, 198, 253, 325, 389, 455, 583, 732, 872], \"yaxis\": \"y\"}, {\"hovertemplate\": \"Pa\\u00edses e territ\\u00f3rios=Czech_Republic<br>Dias desde a primeira morte=%{x}<br>Mortes=%{y}<extra></extra>\", \"legendgroup\": \"Czech_Republic\", \"line\": {\"color\": \"lightblue\", \"dash\": \"solid\"}, \"mode\": \"lines\", \"name\": \"Czech_Republic\", \"showlegend\": true, \"type\": \"scatter\", \"x\": [0, 1, 2, 3, 4, 5, 6, 7, 8, 9, 10], \"xaxis\": \"x\", \"y\": [1, 1, 3, 6, 9, 9, 11, 16, 24, 31, 39], \"yaxis\": \"y\"}],\n",
              "                        {\"legend\": {\"borderwidth\": 0, \"font\": {\"size\": 8}, \"orientation\": \"v\", \"title\": {\"text\": \"Pa\\u00eds\"}, \"tracegroupgap\": 0, \"yanchor\": \"top\"}, \"template\": {\"data\": {\"bar\": [{\"error_x\": {\"color\": \"#2a3f5f\"}, \"error_y\": {\"color\": \"#2a3f5f\"}, \"marker\": {\"line\": {\"color\": \"#E5ECF6\", \"width\": 0.5}}, \"type\": \"bar\"}], \"barpolar\": [{\"marker\": {\"line\": {\"color\": \"#E5ECF6\", \"width\": 0.5}}, \"type\": \"barpolar\"}], \"carpet\": [{\"aaxis\": {\"endlinecolor\": \"#2a3f5f\", \"gridcolor\": \"white\", \"linecolor\": \"white\", \"minorgridcolor\": \"white\", \"startlinecolor\": \"#2a3f5f\"}, \"baxis\": {\"endlinecolor\": \"#2a3f5f\", \"gridcolor\": \"white\", \"linecolor\": \"white\", \"minorgridcolor\": \"white\", \"startlinecolor\": \"#2a3f5f\"}, \"type\": \"carpet\"}], \"choropleth\": [{\"colorbar\": {\"outlinewidth\": 0, \"ticks\": \"\"}, \"type\": \"choropleth\"}], \"contour\": [{\"colorbar\": {\"outlinewidth\": 0, \"ticks\": \"\"}, \"colorscale\": [[0.0, \"#0d0887\"], [0.1111111111111111, \"#46039f\"], [0.2222222222222222, \"#7201a8\"], [0.3333333333333333, \"#9c179e\"], [0.4444444444444444, \"#bd3786\"], [0.5555555555555556, \"#d8576b\"], [0.6666666666666666, \"#ed7953\"], [0.7777777777777778, \"#fb9f3a\"], [0.8888888888888888, \"#fdca26\"], [1.0, \"#f0f921\"]], \"type\": \"contour\"}], \"contourcarpet\": [{\"colorbar\": {\"outlinewidth\": 0, \"ticks\": \"\"}, \"type\": \"contourcarpet\"}], \"heatmap\": [{\"colorbar\": {\"outlinewidth\": 0, \"ticks\": \"\"}, \"colorscale\": [[0.0, \"#0d0887\"], [0.1111111111111111, \"#46039f\"], [0.2222222222222222, \"#7201a8\"], [0.3333333333333333, \"#9c179e\"], [0.4444444444444444, \"#bd3786\"], [0.5555555555555556, \"#d8576b\"], [0.6666666666666666, \"#ed7953\"], [0.7777777777777778, \"#fb9f3a\"], [0.8888888888888888, \"#fdca26\"], [1.0, \"#f0f921\"]], \"type\": \"heatmap\"}], \"heatmapgl\": [{\"colorbar\": {\"outlinewidth\": 0, \"ticks\": \"\"}, \"colorscale\": [[0.0, \"#0d0887\"], [0.1111111111111111, \"#46039f\"], [0.2222222222222222, \"#7201a8\"], [0.3333333333333333, \"#9c179e\"], [0.4444444444444444, \"#bd3786\"], [0.5555555555555556, \"#d8576b\"], [0.6666666666666666, \"#ed7953\"], [0.7777777777777778, \"#fb9f3a\"], [0.8888888888888888, \"#fdca26\"], [1.0, \"#f0f921\"]], \"type\": \"heatmapgl\"}], \"histogram\": [{\"marker\": {\"colorbar\": {\"outlinewidth\": 0, \"ticks\": \"\"}}, \"type\": \"histogram\"}], \"histogram2d\": [{\"colorbar\": {\"outlinewidth\": 0, \"ticks\": \"\"}, \"colorscale\": [[0.0, \"#0d0887\"], [0.1111111111111111, \"#46039f\"], [0.2222222222222222, \"#7201a8\"], [0.3333333333333333, \"#9c179e\"], [0.4444444444444444, \"#bd3786\"], [0.5555555555555556, \"#d8576b\"], [0.6666666666666666, \"#ed7953\"], [0.7777777777777778, \"#fb9f3a\"], [0.8888888888888888, \"#fdca26\"], [1.0, \"#f0f921\"]], \"type\": \"histogram2d\"}], \"histogram2dcontour\": [{\"colorbar\": {\"outlinewidth\": 0, \"ticks\": \"\"}, \"colorscale\": [[0.0, \"#0d0887\"], [0.1111111111111111, \"#46039f\"], [0.2222222222222222, \"#7201a8\"], [0.3333333333333333, \"#9c179e\"], [0.4444444444444444, \"#bd3786\"], [0.5555555555555556, \"#d8576b\"], [0.6666666666666666, \"#ed7953\"], [0.7777777777777778, \"#fb9f3a\"], [0.8888888888888888, \"#fdca26\"], [1.0, \"#f0f921\"]], \"type\": \"histogram2dcontour\"}], \"mesh3d\": [{\"colorbar\": {\"outlinewidth\": 0, \"ticks\": \"\"}, \"type\": \"mesh3d\"}], \"parcoords\": [{\"line\": {\"colorbar\": {\"outlinewidth\": 0, \"ticks\": \"\"}}, \"type\": \"parcoords\"}], \"pie\": [{\"automargin\": true, \"type\": \"pie\"}], \"scatter\": [{\"marker\": {\"colorbar\": {\"outlinewidth\": 0, \"ticks\": \"\"}}, \"type\": \"scatter\"}], \"scatter3d\": [{\"line\": {\"colorbar\": {\"outlinewidth\": 0, \"ticks\": \"\"}}, \"marker\": {\"colorbar\": {\"outlinewidth\": 0, \"ticks\": \"\"}}, \"type\": \"scatter3d\"}], \"scattercarpet\": [{\"marker\": {\"colorbar\": {\"outlinewidth\": 0, \"ticks\": \"\"}}, \"type\": \"scattercarpet\"}], \"scattergeo\": [{\"marker\": {\"colorbar\": {\"outlinewidth\": 0, \"ticks\": \"\"}}, \"type\": \"scattergeo\"}], \"scattergl\": [{\"marker\": {\"colorbar\": {\"outlinewidth\": 0, \"ticks\": \"\"}}, \"type\": \"scattergl\"}], \"scattermapbox\": [{\"marker\": {\"colorbar\": {\"outlinewidth\": 0, \"ticks\": \"\"}}, \"type\": \"scattermapbox\"}], \"scatterpolar\": [{\"marker\": {\"colorbar\": {\"outlinewidth\": 0, \"ticks\": \"\"}}, \"type\": \"scatterpolar\"}], \"scatterpolargl\": [{\"marker\": {\"colorbar\": {\"outlinewidth\": 0, \"ticks\": \"\"}}, \"type\": \"scatterpolargl\"}], \"scatterternary\": [{\"marker\": {\"colorbar\": {\"outlinewidth\": 0, \"ticks\": \"\"}}, \"type\": \"scatterternary\"}], \"surface\": [{\"colorbar\": {\"outlinewidth\": 0, \"ticks\": \"\"}, \"colorscale\": [[0.0, \"#0d0887\"], [0.1111111111111111, \"#46039f\"], [0.2222222222222222, \"#7201a8\"], [0.3333333333333333, \"#9c179e\"], [0.4444444444444444, \"#bd3786\"], [0.5555555555555556, \"#d8576b\"], [0.6666666666666666, \"#ed7953\"], [0.7777777777777778, \"#fb9f3a\"], [0.8888888888888888, \"#fdca26\"], [1.0, \"#f0f921\"]], \"type\": \"surface\"}], \"table\": [{\"cells\": {\"fill\": {\"color\": \"#EBF0F8\"}, \"line\": {\"color\": \"white\"}}, \"header\": {\"fill\": {\"color\": \"#C8D4E3\"}, \"line\": {\"color\": \"white\"}}, \"type\": \"table\"}]}, \"layout\": {\"annotationdefaults\": {\"arrowcolor\": \"#2a3f5f\", \"arrowhead\": 0, \"arrowwidth\": 1}, \"coloraxis\": {\"colorbar\": {\"outlinewidth\": 0, \"ticks\": \"\"}}, \"colorscale\": {\"diverging\": [[0, \"#8e0152\"], [0.1, \"#c51b7d\"], [0.2, \"#de77ae\"], [0.3, \"#f1b6da\"], [0.4, \"#fde0ef\"], [0.5, \"#f7f7f7\"], [0.6, \"#e6f5d0\"], [0.7, \"#b8e186\"], [0.8, \"#7fbc41\"], [0.9, \"#4d9221\"], [1, \"#276419\"]], \"sequential\": [[0.0, \"#0d0887\"], [0.1111111111111111, \"#46039f\"], [0.2222222222222222, \"#7201a8\"], [0.3333333333333333, \"#9c179e\"], [0.4444444444444444, \"#bd3786\"], [0.5555555555555556, \"#d8576b\"], [0.6666666666666666, \"#ed7953\"], [0.7777777777777778, \"#fb9f3a\"], [0.8888888888888888, \"#fdca26\"], [1.0, \"#f0f921\"]], \"sequentialminus\": [[0.0, \"#0d0887\"], [0.1111111111111111, \"#46039f\"], [0.2222222222222222, \"#7201a8\"], [0.3333333333333333, \"#9c179e\"], [0.4444444444444444, \"#bd3786\"], [0.5555555555555556, \"#d8576b\"], [0.6666666666666666, \"#ed7953\"], [0.7777777777777778, \"#fb9f3a\"], [0.8888888888888888, \"#fdca26\"], [1.0, \"#f0f921\"]]}, \"colorway\": [\"#636efa\", \"#EF553B\", \"#00cc96\", \"#ab63fa\", \"#FFA15A\", \"#19d3f3\", \"#FF6692\", \"#B6E880\", \"#FF97FF\", \"#FECB52\"], \"font\": {\"color\": \"#2a3f5f\"}, \"geo\": {\"bgcolor\": \"white\", \"lakecolor\": \"white\", \"landcolor\": \"#E5ECF6\", \"showlakes\": true, \"showland\": true, \"subunitcolor\": \"white\"}, \"hoverlabel\": {\"align\": \"left\"}, \"hovermode\": \"closest\", \"mapbox\": {\"style\": \"light\"}, \"paper_bgcolor\": \"white\", \"plot_bgcolor\": \"#E5ECF6\", \"polar\": {\"angularaxis\": {\"gridcolor\": \"white\", \"linecolor\": \"white\", \"ticks\": \"\"}, \"bgcolor\": \"#E5ECF6\", \"radialaxis\": {\"gridcolor\": \"white\", \"linecolor\": \"white\", \"ticks\": \"\"}}, \"scene\": {\"xaxis\": {\"backgroundcolor\": \"#E5ECF6\", \"gridcolor\": \"white\", \"gridwidth\": 2, \"linecolor\": \"white\", \"showbackground\": true, \"ticks\": \"\", \"zerolinecolor\": \"white\"}, \"yaxis\": {\"backgroundcolor\": \"#E5ECF6\", \"gridcolor\": \"white\", \"gridwidth\": 2, \"linecolor\": \"white\", \"showbackground\": true, \"ticks\": \"\", \"zerolinecolor\": \"white\"}, \"zaxis\": {\"backgroundcolor\": \"#E5ECF6\", \"gridcolor\": \"white\", \"gridwidth\": 2, \"linecolor\": \"white\", \"showbackground\": true, \"ticks\": \"\", \"zerolinecolor\": \"white\"}}, \"shapedefaults\": {\"line\": {\"color\": \"#2a3f5f\"}}, \"ternary\": {\"aaxis\": {\"gridcolor\": \"white\", \"linecolor\": \"white\", \"ticks\": \"\"}, \"baxis\": {\"gridcolor\": \"white\", \"linecolor\": \"white\", \"ticks\": \"\"}, \"bgcolor\": \"#E5ECF6\", \"caxis\": {\"gridcolor\": \"white\", \"linecolor\": \"white\", \"ticks\": \"\"}}, \"title\": {\"x\": 0.05}, \"xaxis\": {\"automargin\": true, \"gridcolor\": \"white\", \"linecolor\": \"white\", \"ticks\": \"\", \"title\": {\"standoff\": 15}, \"zerolinecolor\": \"white\", \"zerolinewidth\": 2}, \"yaxis\": {\"automargin\": true, \"gridcolor\": \"white\", \"linecolor\": \"white\", \"ticks\": \"\", \"title\": {\"standoff\": 15}, \"zerolinecolor\": \"white\", \"zerolinewidth\": 2}}}, \"title\": {\"text\": \"COVID-19 - Mortes  02-04-2020 \\n Escala Logar\\u00edtmica\"}, \"xaxis\": {\"anchor\": \"y\", \"domain\": [0.0, 1.0], \"title\": {\"text\": \"Dias desde a primeira morte\"}}, \"yaxis\": {\"anchor\": \"x\", \"domain\": [0.0, 1.0], \"title\": {\"text\": \"Mortes\"}, \"type\": \"log\"}},\n",
              "                        {\"responsive\": true}\n",
              "                    ).then(function(){\n",
              "                            \n",
              "var gd = document.getElementById('252a63ef-3027-4855-9304-8e2344faad36');\n",
              "var x = new MutationObserver(function (mutations, observer) {{\n",
              "        var display = window.getComputedStyle(gd).display;\n",
              "        if (!display || display === 'none') {{\n",
              "            console.log([gd, 'removed!']);\n",
              "            Plotly.purge(gd);\n",
              "            observer.disconnect();\n",
              "        }}\n",
              "}});\n",
              "\n",
              "// Listen for the removal of the full notebook cells\n",
              "var notebookContainer = gd.closest('#notebook-container');\n",
              "if (notebookContainer) {{\n",
              "    x.observe(notebookContainer, {childList: true});\n",
              "}}\n",
              "\n",
              "// Listen for the clearing of the current output cell\n",
              "var outputEl = gd.closest('.output');\n",
              "if (outputEl) {{\n",
              "    x.observe(outputEl, {childList: true});\n",
              "}}\n",
              "\n",
              "                        })\n",
              "                };\n",
              "                \n",
              "            </script>\n",
              "        </div>\n",
              "</body>\n",
              "</html>"
            ]
          },
          "metadata": {
            "tags": []
          }
        }
      ]
    },
    {
      "cell_type": "code",
      "metadata": {
        "colab_type": "code",
        "id": "h3B6Y7QzntzV",
        "outputId": "f9c8daca-c96c-4528-e70b-14d9eb84e9e3",
        "colab": {
          "base_uri": "https://localhost:8080/",
          "height": 204
        }
      },
      "source": [
        "#hide\n",
        "brazil['razao']= brazil['Cumulativo'].pct_change()\n",
        "brazil['razao']=(brazil['razao']*100).round(2)\n",
        "brazil['dias']= brazil.index\n",
        "brazil.tail(5)"
      ],
      "execution_count": 210,
      "outputs": [
        {
          "output_type": "execute_result",
          "data": {
            "text/html": [
              "<div>\n",
              "<style scoped>\n",
              "    .dataframe tbody tr th:only-of-type {\n",
              "        vertical-align: middle;\n",
              "    }\n",
              "\n",
              "    .dataframe tbody tr th {\n",
              "        vertical-align: top;\n",
              "    }\n",
              "\n",
              "    .dataframe thead th {\n",
              "        text-align: right;\n",
              "    }\n",
              "</style>\n",
              "<table border=\"1\" class=\"dataframe\">\n",
              "  <thead>\n",
              "    <tr style=\"text-align: right;\">\n",
              "      <th></th>\n",
              "      <th>countriesAndTerritories</th>\n",
              "      <th>Cumulativo</th>\n",
              "      <th>Relativo</th>\n",
              "      <th>razao</th>\n",
              "      <th>dias</th>\n",
              "    </tr>\n",
              "  </thead>\n",
              "  <tbody>\n",
              "    <tr>\n",
              "      <th>17</th>\n",
              "      <td>Brazil</td>\n",
              "      <td>3904</td>\n",
              "      <td>0.186527</td>\n",
              "      <td>14.25</td>\n",
              "      <td>17</td>\n",
              "    </tr>\n",
              "    <tr>\n",
              "      <th>18</th>\n",
              "      <td>Brazil</td>\n",
              "      <td>4256</td>\n",
              "      <td>0.203344</td>\n",
              "      <td>9.02</td>\n",
              "      <td>18</td>\n",
              "    </tr>\n",
              "    <tr>\n",
              "      <th>19</th>\n",
              "      <td>Brazil</td>\n",
              "      <td>4579</td>\n",
              "      <td>0.218777</td>\n",
              "      <td>7.59</td>\n",
              "      <td>19</td>\n",
              "    </tr>\n",
              "    <tr>\n",
              "      <th>20</th>\n",
              "      <td>Brazil</td>\n",
              "      <td>5717</td>\n",
              "      <td>0.273149</td>\n",
              "      <td>24.85</td>\n",
              "      <td>20</td>\n",
              "    </tr>\n",
              "    <tr>\n",
              "      <th>21</th>\n",
              "      <td>Brazil</td>\n",
              "      <td>6836</td>\n",
              "      <td>0.326613</td>\n",
              "      <td>19.57</td>\n",
              "      <td>21</td>\n",
              "    </tr>\n",
              "  </tbody>\n",
              "</table>\n",
              "</div>"
            ],
            "text/plain": [
              "   countriesAndTerritories  Cumulativo  Relativo  razao  dias\n",
              "17                  Brazil        3904  0.186527  14.25    17\n",
              "18                  Brazil        4256  0.203344   9.02    18\n",
              "19                  Brazil        4579  0.218777   7.59    19\n",
              "20                  Brazil        5717  0.273149  24.85    20\n",
              "21                  Brazil        6836  0.326613  19.57    21"
            ]
          },
          "metadata": {
            "tags": []
          },
          "execution_count": 210
        }
      ]
    },
    {
      "cell_type": "code",
      "metadata": {
        "colab_type": "code",
        "id": "rdnl82gz1f6k",
        "outputId": "efbb1c15-e7d5-4519-e322-a91e4564534f",
        "colab": {
          "base_uri": "https://localhost:8080/",
          "height": 360
        }
      },
      "source": [
        "#hide\n",
        "plt.figure(figsize=(10,5))\n",
        "plt.yticks([25,50,75,100])\n",
        "plt.ylim(0,100)\n",
        "sns.lineplot(x='dias',y='razao',data=brazil,color='black',linewidth=4,label='Brasil')\n",
        "plt.plot(brazil['razao'].rolling(2).mean(),label= 'MA 2 days')\n",
        "plt.plot(brazil['razao'].rolling(5).mean(),label= 'MA 5 days')\n",
        "\n",
        "#plt.savefig(\"plots/pct_change.png\")\n"
      ],
      "execution_count": 211,
      "outputs": [
        {
          "output_type": "execute_result",
          "data": {
            "text/plain": [
              "[<matplotlib.lines.Line2D at 0x7f4fd229bf60>]"
            ]
          },
          "metadata": {
            "tags": []
          },
          "execution_count": 211
        },
        {
          "output_type": "display_data",
          "data": {
            "image/png": "[encoded data removed]",
            "text/plain": [
              "<Figure size 720x360 with 1 Axes>"
            ]
          },
          "metadata": {
            "tags": []
          }
        }
      ]
    },
    {
      "cell_type": "markdown",
      "metadata": {
        "id": "cYi0f2alTqSz",
        "colab_type": "text"
      },
      "source": [
        "<center> <h2> Letalidade </h2> </center>"
      ]
    },
    {
      "cell_type": "code",
      "metadata": {
        "colab_type": "code",
        "id": "eAxU8uOIEJh4",
        "colab": {}
      },
      "source": [
        "#hide\n",
        "let_brazil =((mbrazil['Cumulativo'].values[-1]/brazil['Cumulativo'].values[-1])*100).round(2)\n",
        "let_us = ((mus['Cumulativo'].values[-1]/us['Cumulativo'].values[-1])*100).round(2)\n",
        "let_uk = ((muk['Cumulativo'].values[-1]/uk['Cumulativo'].values[-1])*100).round(2)\n",
        "let_italy = ((mitaly['Cumulativo'].values[-1]/italy['Cumulativo'].values[-1])*100).round(2)\n",
        "let_spain = ((mspain['Cumulativo'].values[-1]/spain['Cumulativo'].values[-1])*100).round(2)\n",
        "let_japan = ((mjapan['Cumulativo'].values[-1]/japan['Cumulativo'].values[-1])*100).round(2)\n",
        "let_arg = ((margentina['Cumulativo'].values[-1]/argentina['Cumulativo'].values[-1])*100).round(2)\n",
        "let_fran = ((mfrance['Cumulativo'].values[-1]/france['Cumulativo'].values[-1])*100).round(2)\n",
        "let_ind = ((mindia['Cumulativo'].values[-1]/india['Cumulativo'].values[-1])*100).round(2)\n",
        "let_ger = ((mgermany['Cumulativo'].values[-1]/germany['Cumulativo'].values[-1])*100).round(2)\n",
        "let_rc = ((mczech['Cumulativo'].values[-1]/czech_Republic['Cumulativo'].values[-1])*100).round(2)\n",
        "let_ch = ((mchina['Cumulativo'].values[-1]/china['Cumulativo'].values[-1])*100).round(2)\n",
        "\n",
        "\n",
        "let= [let_brazil,let_us,let_uk,let_italy,let_spain,let_fran,let_japan,let_arg,let_ind,let_ger,let_rc,let_ch]\n",
        "paises = ['Brasil','EUA', 'Reino Unido','Itália','Espanha','França','Japão','Argentina','Índia','Alemanha','República Tcheca','China']\n"
      ],
      "execution_count": 0,
      "outputs": []
    },
    {
      "cell_type": "code",
      "metadata": {
        "colab_type": "code",
        "id": "9pHCVj1P_lfI",
        "outputId": "6b47dd79-fbef-4891-ef5d-f48654da22ea",
        "colab": {
          "base_uri": "https://localhost:8080/",
          "height": 142
        }
      },
      "source": [
        "#hide\n",
        "letality = pd.DataFrame()\n",
        "letality['Países'] = paises\n",
        "letality['Letalidade %'] = let\n",
        "letality.tail(3)\n"
      ],
      "execution_count": 213,
      "outputs": [
        {
          "output_type": "execute_result",
          "data": {
            "text/html": [
              "<div>\n",
              "<style scoped>\n",
              "    .dataframe tbody tr th:only-of-type {\n",
              "        vertical-align: middle;\n",
              "    }\n",
              "\n",
              "    .dataframe tbody tr th {\n",
              "        vertical-align: top;\n",
              "    }\n",
              "\n",
              "    .dataframe thead th {\n",
              "        text-align: right;\n",
              "    }\n",
              "</style>\n",
              "<table border=\"1\" class=\"dataframe\">\n",
              "  <thead>\n",
              "    <tr style=\"text-align: right;\">\n",
              "      <th></th>\n",
              "      <th>Países</th>\n",
              "      <th>Letalidade %</th>\n",
              "    </tr>\n",
              "  </thead>\n",
              "  <tbody>\n",
              "    <tr>\n",
              "      <th>9</th>\n",
              "      <td>Alemanha</td>\n",
              "      <td>1.19</td>\n",
              "    </tr>\n",
              "    <tr>\n",
              "      <th>10</th>\n",
              "      <td>República Tcheca</td>\n",
              "      <td>1.09</td>\n",
              "    </tr>\n",
              "    <tr>\n",
              "      <th>11</th>\n",
              "      <td>China</td>\n",
              "      <td>4.02</td>\n",
              "    </tr>\n",
              "  </tbody>\n",
              "</table>\n",
              "</div>"
            ],
            "text/plain": [
              "              Países  Letalidade %\n",
              "9           Alemanha          1.19\n",
              "10  República Tcheca          1.09\n",
              "11             China          4.02"
            ]
          },
          "metadata": {
            "tags": []
          },
          "execution_count": 213
        }
      ]
    },
    {
      "cell_type": "code",
      "metadata": {
        "colab_type": "code",
        "id": "6o33lNAoCImC",
        "outputId": "31b22f28-eef1-4164-e395-1432d1c6c1e0",
        "colab": {
          "base_uri": "https://localhost:8080/",
          "height": 542
        }
      },
      "source": [
        "#hide_input\n",
        "#plt.figure(figsize=(7,9))\n",
        "#plt.ylim(0,10)\n",
        "#plt.title(\"Letalidade - {}\".format(today))\n",
        "#sns.barplot(letality['Letalidade %'],letality['Países'])\n",
        "#plt.grid(axis=\"x\",color='black', linestyle='--', linewidth=0.17)\n",
        "#plt.savefig(\"plots/11_letalidade.png\")\n",
        "\n",
        "\n",
        "fig = px.bar(letality,x=\"Letalidade %\", y='Países', color='Países',orientation='h',\n",
        "             color_discrete_sequence=px.colors.qualitative.G10,title=\"Letalidade - {}\".format(today))#.update_yaxes(categoryorder='total dscending')\n",
        "fig.update_layout(yaxis_type = 'category',)\n",
        "fig.update_layout(legend= {'title':'País','borderwidth':0,'orientation':'v','yanchor':'top','font':{'size':8}})\n",
        "\n",
        "\n"
      ],
      "execution_count": 214,
      "outputs": [
        {
          "output_type": "display_data",
          "data": {
            "text/html": [
              "<html>\n",
              "<head><meta charset=\"utf-8\" /></head>\n",
              "<body>\n",
              "    <div>\n",
              "            <script src=\"https://cdnjs.cloudflare.com/ajax/libs/mathjax/2.7.5/MathJax.js?config=TeX-AMS-MML_SVG\"></script><script type=\"text/javascript\">if (window.MathJax) {MathJax.Hub.Config({SVG: {font: \"STIX-Web\"}});}</script>\n",
              "                <script type=\"text/javascript\">window.PlotlyConfig = {MathJaxConfig: 'local'};</script>\n",
              "        <script src=\"https://cdn.plot.ly/plotly-latest.min.js\"></script>    \n",
              "            <div id=\"2c25a0a1-d156-406b-a110-31a1ceba8bd4\" class=\"plotly-graph-div\" style=\"height:525px; width:100%;\"></div>\n",
              "            <script type=\"text/javascript\">\n",
              "                \n",
              "                    window.PLOTLYENV=window.PLOTLYENV || {};\n",
              "                    \n",
              "                if (document.getElementById(\"2c25a0a1-d156-406b-a110-31a1ceba8bd4\")) {\n",
              "                    Plotly.newPlot(\n",
              "                        '2c25a0a1-d156-406b-a110-31a1ceba8bd4',\n",
              "                        [{\"alignmentgroup\": \"True\", \"hovertemplate\": \"Pa\\u00edses=%{y}<br>Letalidade %=%{x}<extra></extra>\", \"legendgroup\": \"Brasil\", \"marker\": {\"color\": \"#3366CC\"}, \"name\": \"Brasil\", \"offsetgroup\": \"Brasil\", \"orientation\": \"h\", \"showlegend\": true, \"textposition\": \"auto\", \"type\": \"bar\", \"x\": [3.53], \"xaxis\": \"x\", \"y\": [\"Brasil\"], \"yaxis\": \"y\"}, {\"alignmentgroup\": \"True\", \"hovertemplate\": \"Pa\\u00edses=%{y}<br>Letalidade %=%{x}<extra></extra>\", \"legendgroup\": \"EUA\", \"marker\": {\"color\": \"#DC3912\"}, \"name\": \"EUA\", \"offsetgroup\": \"EUA\", \"orientation\": \"h\", \"showlegend\": true, \"textposition\": \"auto\", \"type\": \"bar\", \"x\": [2.37], \"xaxis\": \"x\", \"y\": [\"EUA\"], \"yaxis\": \"y\"}, {\"alignmentgroup\": \"True\", \"hovertemplate\": \"Pa\\u00edses=%{y}<br>Letalidade %=%{x}<extra></extra>\", \"legendgroup\": \"Reino Unido\", \"marker\": {\"color\": \"#FF9900\"}, \"name\": \"Reino Unido\", \"offsetgroup\": \"Reino Unido\", \"orientation\": \"h\", \"showlegend\": true, \"textposition\": \"auto\", \"type\": \"bar\", \"x\": [8.59], \"xaxis\": \"x\", \"y\": [\"Reino Unido\"], \"yaxis\": \"y\"}, {\"alignmentgroup\": \"True\", \"hovertemplate\": \"Pa\\u00edses=%{y}<br>Letalidade %=%{x}<extra></extra>\", \"legendgroup\": \"It\\u00e1lia\", \"marker\": {\"color\": \"#109618\"}, \"name\": \"It\\u00e1lia\", \"offsetgroup\": \"It\\u00e1lia\", \"orientation\": \"h\", \"showlegend\": true, \"textposition\": \"auto\", \"type\": \"bar\", \"x\": [11.9], \"xaxis\": \"x\", \"y\": [\"It\\u00e1lia\"], \"yaxis\": \"y\"}, {\"alignmentgroup\": \"True\", \"hovertemplate\": \"Pa\\u00edses=%{y}<br>Letalidade %=%{x}<extra></extra>\", \"legendgroup\": \"Espanha\", \"marker\": {\"color\": \"#990099\"}, \"name\": \"Espanha\", \"offsetgroup\": \"Espanha\", \"orientation\": \"h\", \"showlegend\": true, \"textposition\": \"auto\", \"type\": \"bar\", \"x\": [8.86], \"xaxis\": \"x\", \"y\": [\"Espanha\"], \"yaxis\": \"y\"}, {\"alignmentgroup\": \"True\", \"hovertemplate\": \"Pa\\u00edses=%{y}<br>Letalidade %=%{x}<extra></extra>\", \"legendgroup\": \"Fran\\u00e7a\", \"marker\": {\"color\": \"#0099C6\"}, \"name\": \"Fran\\u00e7a\", \"offsetgroup\": \"Fran\\u00e7a\", \"orientation\": \"h\", \"showlegend\": true, \"textposition\": \"auto\", \"type\": \"bar\", \"x\": [7.08], \"xaxis\": \"x\", \"y\": [\"Fran\\u00e7a\"], \"yaxis\": \"y\"}, {\"alignmentgroup\": \"True\", \"hovertemplate\": \"Pa\\u00edses=%{y}<br>Letalidade %=%{x}<extra></extra>\", \"legendgroup\": \"Jap\\u00e3o\", \"marker\": {\"color\": \"#DD4477\"}, \"name\": \"Jap\\u00e3o\", \"offsetgroup\": \"Jap\\u00e3o\", \"orientation\": \"h\", \"showlegend\": true, \"textposition\": \"auto\", \"type\": \"bar\", \"x\": [2.62], \"xaxis\": \"x\", \"y\": [\"Jap\\u00e3o\"], \"yaxis\": \"y\"}, {\"alignmentgroup\": \"True\", \"hovertemplate\": \"Pa\\u00edses=%{y}<br>Letalidade %=%{x}<extra></extra>\", \"legendgroup\": \"Argentina\", \"marker\": {\"color\": \"#66AA00\"}, \"name\": \"Argentina\", \"offsetgroup\": \"Argentina\", \"orientation\": \"h\", \"showlegend\": true, \"textposition\": \"auto\", \"type\": \"bar\", \"x\": [2.74], \"xaxis\": \"x\", \"y\": [\"Argentina\"], \"yaxis\": \"y\"}, {\"alignmentgroup\": \"True\", \"hovertemplate\": \"Pa\\u00edses=%{y}<br>Letalidade %=%{x}<extra></extra>\", \"legendgroup\": \"\\u00cdndia\", \"marker\": {\"color\": \"#B82E2E\"}, \"name\": \"\\u00cdndia\", \"offsetgroup\": \"\\u00cdndia\", \"orientation\": \"h\", \"showlegend\": true, \"textposition\": \"auto\", \"type\": \"bar\", \"x\": [2.54], \"xaxis\": \"x\", \"y\": [\"\\u00cdndia\"], \"yaxis\": \"y\"}, {\"alignmentgroup\": \"True\", \"hovertemplate\": \"Pa\\u00edses=%{y}<br>Letalidade %=%{x}<extra></extra>\", \"legendgroup\": \"Alemanha\", \"marker\": {\"color\": \"#316395\"}, \"name\": \"Alemanha\", \"offsetgroup\": \"Alemanha\", \"orientation\": \"h\", \"showlegend\": true, \"textposition\": \"auto\", \"type\": \"bar\", \"x\": [1.19], \"xaxis\": \"x\", \"y\": [\"Alemanha\"], \"yaxis\": \"y\"}, {\"alignmentgroup\": \"True\", \"hovertemplate\": \"Pa\\u00edses=%{y}<br>Letalidade %=%{x}<extra></extra>\", \"legendgroup\": \"Rep\\u00fablica Tcheca\", \"marker\": {\"color\": \"#3366CC\"}, \"name\": \"Rep\\u00fablica Tcheca\", \"offsetgroup\": \"Rep\\u00fablica Tcheca\", \"orientation\": \"h\", \"showlegend\": true, \"textposition\": \"auto\", \"type\": \"bar\", \"x\": [1.09], \"xaxis\": \"x\", \"y\": [\"Rep\\u00fablica Tcheca\"], \"yaxis\": \"y\"}, {\"alignmentgroup\": \"True\", \"hovertemplate\": \"Pa\\u00edses=%{y}<br>Letalidade %=%{x}<extra></extra>\", \"legendgroup\": \"China\", \"marker\": {\"color\": \"#DC3912\"}, \"name\": \"China\", \"offsetgroup\": \"China\", \"orientation\": \"h\", \"showlegend\": true, \"textposition\": \"auto\", \"type\": \"bar\", \"x\": [4.02], \"xaxis\": \"x\", \"y\": [\"China\"], \"yaxis\": \"y\"}],\n",
              "                        {\"barmode\": \"relative\", \"legend\": {\"borderwidth\": 0, \"font\": {\"size\": 8}, \"orientation\": \"v\", \"title\": {\"text\": \"Pa\\u00eds\"}, \"tracegroupgap\": 0, \"yanchor\": \"top\"}, \"template\": {\"data\": {\"bar\": [{\"error_x\": {\"color\": \"#2a3f5f\"}, \"error_y\": {\"color\": \"#2a3f5f\"}, \"marker\": {\"line\": {\"color\": \"#E5ECF6\", \"width\": 0.5}}, \"type\": \"bar\"}], \"barpolar\": [{\"marker\": {\"line\": {\"color\": \"#E5ECF6\", \"width\": 0.5}}, \"type\": \"barpolar\"}], \"carpet\": [{\"aaxis\": {\"endlinecolor\": \"#2a3f5f\", \"gridcolor\": \"white\", \"linecolor\": \"white\", \"minorgridcolor\": \"white\", \"startlinecolor\": \"#2a3f5f\"}, \"baxis\": {\"endlinecolor\": \"#2a3f5f\", \"gridcolor\": \"white\", \"linecolor\": \"white\", \"minorgridcolor\": \"white\", \"startlinecolor\": \"#2a3f5f\"}, \"type\": \"carpet\"}], \"choropleth\": [{\"colorbar\": {\"outlinewidth\": 0, \"ticks\": \"\"}, \"type\": \"choropleth\"}], \"contour\": [{\"colorbar\": {\"outlinewidth\": 0, \"ticks\": \"\"}, \"colorscale\": [[0.0, \"#0d0887\"], [0.1111111111111111, \"#46039f\"], [0.2222222222222222, \"#7201a8\"], [0.3333333333333333, \"#9c179e\"], [0.4444444444444444, \"#bd3786\"], [0.5555555555555556, \"#d8576b\"], [0.6666666666666666, \"#ed7953\"], [0.7777777777777778, \"#fb9f3a\"], [0.8888888888888888, \"#fdca26\"], [1.0, \"#f0f921\"]], \"type\": \"contour\"}], \"contourcarpet\": [{\"colorbar\": {\"outlinewidth\": 0, \"ticks\": \"\"}, \"type\": \"contourcarpet\"}], \"heatmap\": [{\"colorbar\": {\"outlinewidth\": 0, \"ticks\": \"\"}, \"colorscale\": [[0.0, \"#0d0887\"], [0.1111111111111111, \"#46039f\"], [0.2222222222222222, \"#7201a8\"], [0.3333333333333333, \"#9c179e\"], [0.4444444444444444, \"#bd3786\"], [0.5555555555555556, \"#d8576b\"], [0.6666666666666666, \"#ed7953\"], [0.7777777777777778, \"#fb9f3a\"], [0.8888888888888888, \"#fdca26\"], [1.0, \"#f0f921\"]], \"type\": \"heatmap\"}], \"heatmapgl\": [{\"colorbar\": {\"outlinewidth\": 0, \"ticks\": \"\"}, \"colorscale\": [[0.0, \"#0d0887\"], [0.1111111111111111, \"#46039f\"], [0.2222222222222222, \"#7201a8\"], [0.3333333333333333, \"#9c179e\"], [0.4444444444444444, \"#bd3786\"], [0.5555555555555556, \"#d8576b\"], [0.6666666666666666, \"#ed7953\"], [0.7777777777777778, \"#fb9f3a\"], [0.8888888888888888, \"#fdca26\"], [1.0, \"#f0f921\"]], \"type\": \"heatmapgl\"}], \"histogram\": [{\"marker\": {\"colorbar\": {\"outlinewidth\": 0, \"ticks\": \"\"}}, \"type\": \"histogram\"}], \"histogram2d\": [{\"colorbar\": {\"outlinewidth\": 0, \"ticks\": \"\"}, \"colorscale\": [[0.0, \"#0d0887\"], [0.1111111111111111, \"#46039f\"], [0.2222222222222222, \"#7201a8\"], [0.3333333333333333, \"#9c179e\"], [0.4444444444444444, \"#bd3786\"], [0.5555555555555556, \"#d8576b\"], [0.6666666666666666, \"#ed7953\"], [0.7777777777777778, \"#fb9f3a\"], [0.8888888888888888, \"#fdca26\"], [1.0, \"#f0f921\"]], \"type\": \"histogram2d\"}], \"histogram2dcontour\": [{\"colorbar\": {\"outlinewidth\": 0, \"ticks\": \"\"}, \"colorscale\": [[0.0, \"#0d0887\"], [0.1111111111111111, \"#46039f\"], [0.2222222222222222, \"#7201a8\"], [0.3333333333333333, \"#9c179e\"], [0.4444444444444444, \"#bd3786\"], [0.5555555555555556, \"#d8576b\"], [0.6666666666666666, \"#ed7953\"], [0.7777777777777778, \"#fb9f3a\"], [0.8888888888888888, \"#fdca26\"], [1.0, \"#f0f921\"]], \"type\": \"histogram2dcontour\"}], \"mesh3d\": [{\"colorbar\": {\"outlinewidth\": 0, \"ticks\": \"\"}, \"type\": \"mesh3d\"}], \"parcoords\": [{\"line\": {\"colorbar\": {\"outlinewidth\": 0, \"ticks\": \"\"}}, \"type\": \"parcoords\"}], \"pie\": [{\"automargin\": true, \"type\": \"pie\"}], \"scatter\": [{\"marker\": {\"colorbar\": {\"outlinewidth\": 0, \"ticks\": \"\"}}, \"type\": \"scatter\"}], \"scatter3d\": [{\"line\": {\"colorbar\": {\"outlinewidth\": 0, \"ticks\": \"\"}}, \"marker\": {\"colorbar\": {\"outlinewidth\": 0, \"ticks\": \"\"}}, \"type\": \"scatter3d\"}], \"scattercarpet\": [{\"marker\": {\"colorbar\": {\"outlinewidth\": 0, \"ticks\": \"\"}}, \"type\": \"scattercarpet\"}], \"scattergeo\": [{\"marker\": {\"colorbar\": {\"outlinewidth\": 0, \"ticks\": \"\"}}, \"type\": \"scattergeo\"}], \"scattergl\": [{\"marker\": {\"colorbar\": {\"outlinewidth\": 0, \"ticks\": \"\"}}, \"type\": \"scattergl\"}], \"scattermapbox\": [{\"marker\": {\"colorbar\": {\"outlinewidth\": 0, \"ticks\": \"\"}}, \"type\": \"scattermapbox\"}], \"scatterpolar\": [{\"marker\": {\"colorbar\": {\"outlinewidth\": 0, \"ticks\": \"\"}}, \"type\": \"scatterpolar\"}], \"scatterpolargl\": [{\"marker\": {\"colorbar\": {\"outlinewidth\": 0, \"ticks\": \"\"}}, \"type\": \"scatterpolargl\"}], \"scatterternary\": [{\"marker\": {\"colorbar\": {\"outlinewidth\": 0, \"ticks\": \"\"}}, \"type\": \"scatterternary\"}], \"surface\": [{\"colorbar\": {\"outlinewidth\": 0, \"ticks\": \"\"}, \"colorscale\": [[0.0, \"#0d0887\"], [0.1111111111111111, \"#46039f\"], [0.2222222222222222, \"#7201a8\"], [0.3333333333333333, \"#9c179e\"], [0.4444444444444444, \"#bd3786\"], [0.5555555555555556, \"#d8576b\"], [0.6666666666666666, \"#ed7953\"], [0.7777777777777778, \"#fb9f3a\"], [0.8888888888888888, \"#fdca26\"], [1.0, \"#f0f921\"]], \"type\": \"surface\"}], \"table\": [{\"cells\": {\"fill\": {\"color\": \"#EBF0F8\"}, \"line\": {\"color\": \"white\"}}, \"header\": {\"fill\": {\"color\": \"#C8D4E3\"}, \"line\": {\"color\": \"white\"}}, \"type\": \"table\"}]}, \"layout\": {\"annotationdefaults\": {\"arrowcolor\": \"#2a3f5f\", \"arrowhead\": 0, \"arrowwidth\": 1}, \"coloraxis\": {\"colorbar\": {\"outlinewidth\": 0, \"ticks\": \"\"}}, \"colorscale\": {\"diverging\": [[0, \"#8e0152\"], [0.1, \"#c51b7d\"], [0.2, \"#de77ae\"], [0.3, \"#f1b6da\"], [0.4, \"#fde0ef\"], [0.5, \"#f7f7f7\"], [0.6, \"#e6f5d0\"], [0.7, \"#b8e186\"], [0.8, \"#7fbc41\"], [0.9, \"#4d9221\"], [1, \"#276419\"]], \"sequential\": [[0.0, \"#0d0887\"], [0.1111111111111111, \"#46039f\"], [0.2222222222222222, \"#7201a8\"], [0.3333333333333333, \"#9c179e\"], [0.4444444444444444, \"#bd3786\"], [0.5555555555555556, \"#d8576b\"], [0.6666666666666666, \"#ed7953\"], [0.7777777777777778, \"#fb9f3a\"], [0.8888888888888888, \"#fdca26\"], [1.0, \"#f0f921\"]], \"sequentialminus\": [[0.0, \"#0d0887\"], [0.1111111111111111, \"#46039f\"], [0.2222222222222222, \"#7201a8\"], [0.3333333333333333, \"#9c179e\"], [0.4444444444444444, \"#bd3786\"], [0.5555555555555556, \"#d8576b\"], [0.6666666666666666, \"#ed7953\"], [0.7777777777777778, \"#fb9f3a\"], [0.8888888888888888, \"#fdca26\"], [1.0, \"#f0f921\"]]}, \"colorway\": [\"#636efa\", \"#EF553B\", \"#00cc96\", \"#ab63fa\", \"#FFA15A\", \"#19d3f3\", \"#FF6692\", \"#B6E880\", \"#FF97FF\", \"#FECB52\"], \"font\": {\"color\": \"#2a3f5f\"}, \"geo\": {\"bgcolor\": \"white\", \"lakecolor\": \"white\", \"landcolor\": \"#E5ECF6\", \"showlakes\": true, \"showland\": true, \"subunitcolor\": \"white\"}, \"hoverlabel\": {\"align\": \"left\"}, \"hovermode\": \"closest\", \"mapbox\": {\"style\": \"light\"}, \"paper_bgcolor\": \"white\", \"plot_bgcolor\": \"#E5ECF6\", \"polar\": {\"angularaxis\": {\"gridcolor\": \"white\", \"linecolor\": \"white\", \"ticks\": \"\"}, \"bgcolor\": \"#E5ECF6\", \"radialaxis\": {\"gridcolor\": \"white\", \"linecolor\": \"white\", \"ticks\": \"\"}}, \"scene\": {\"xaxis\": {\"backgroundcolor\": \"#E5ECF6\", \"gridcolor\": \"white\", \"gridwidth\": 2, \"linecolor\": \"white\", \"showbackground\": true, \"ticks\": \"\", \"zerolinecolor\": \"white\"}, \"yaxis\": {\"backgroundcolor\": \"#E5ECF6\", \"gridcolor\": \"white\", \"gridwidth\": 2, \"linecolor\": \"white\", \"showbackground\": true, \"ticks\": \"\", \"zerolinecolor\": \"white\"}, \"zaxis\": {\"backgroundcolor\": \"#E5ECF6\", \"gridcolor\": \"white\", \"gridwidth\": 2, \"linecolor\": \"white\", \"showbackground\": true, \"ticks\": \"\", \"zerolinecolor\": \"white\"}}, \"shapedefaults\": {\"line\": {\"color\": \"#2a3f5f\"}}, \"ternary\": {\"aaxis\": {\"gridcolor\": \"white\", \"linecolor\": \"white\", \"ticks\": \"\"}, \"baxis\": {\"gridcolor\": \"white\", \"linecolor\": \"white\", \"ticks\": \"\"}, \"bgcolor\": \"#E5ECF6\", \"caxis\": {\"gridcolor\": \"white\", \"linecolor\": \"white\", \"ticks\": \"\"}}, \"title\": {\"x\": 0.05}, \"xaxis\": {\"automargin\": true, \"gridcolor\": \"white\", \"linecolor\": \"white\", \"ticks\": \"\", \"title\": {\"standoff\": 15}, \"zerolinecolor\": \"white\", \"zerolinewidth\": 2}, \"yaxis\": {\"automargin\": true, \"gridcolor\": \"white\", \"linecolor\": \"white\", \"ticks\": \"\", \"title\": {\"standoff\": 15}, \"zerolinecolor\": \"white\", \"zerolinewidth\": 2}}}, \"title\": {\"text\": \"Letalidade - 02-04-2020\"}, \"xaxis\": {\"anchor\": \"y\", \"domain\": [0.0, 1.0], \"title\": {\"text\": \"Letalidade %\"}}, \"yaxis\": {\"anchor\": \"x\", \"categoryarray\": [\"China\", \"Rep\\u00fablica Tcheca\", \"Alemanha\", \"\\u00cdndia\", \"Argentina\", \"Jap\\u00e3o\", \"Fran\\u00e7a\", \"Espanha\", \"It\\u00e1lia\", \"Reino Unido\", \"EUA\", \"Brasil\"], \"categoryorder\": \"array\", \"domain\": [0.0, 1.0], \"title\": {\"text\": \"Pa\\u00edses\"}, \"type\": \"category\"}},\n",
              "                        {\"responsive\": true}\n",
              "                    ).then(function(){\n",
              "                            \n",
              "var gd = document.getElementById('2c25a0a1-d156-406b-a110-31a1ceba8bd4');\n",
              "var x = new MutationObserver(function (mutations, observer) {{\n",
              "        var display = window.getComputedStyle(gd).display;\n",
              "        if (!display || display === 'none') {{\n",
              "            console.log([gd, 'removed!']);\n",
              "            Plotly.purge(gd);\n",
              "            observer.disconnect();\n",
              "        }}\n",
              "}});\n",
              "\n",
              "// Listen for the removal of the full notebook cells\n",
              "var notebookContainer = gd.closest('#notebook-container');\n",
              "if (notebookContainer) {{\n",
              "    x.observe(notebookContainer, {childList: true});\n",
              "}}\n",
              "\n",
              "// Listen for the clearing of the current output cell\n",
              "var outputEl = gd.closest('.output');\n",
              "if (outputEl) {{\n",
              "    x.observe(outputEl, {childList: true});\n",
              "}}\n",
              "\n",
              "                        })\n",
              "                };\n",
              "                \n",
              "            </script>\n",
              "        </div>\n",
              "</body>\n",
              "</html>"
            ]
          },
          "metadata": {
            "tags": []
          }
        }
      ]
    },
    {
      "cell_type": "code",
      "metadata": {
        "id": "1APXWGz9MIty",
        "colab_type": "code",
        "outputId": "bb013f5c-a916-431b-f626-48c6a8cc5089",
        "colab": {
          "base_uri": "https://localhost:8080/",
          "height": 68
        }
      },
      "source": [
        "#hide\n",
        "final_data.columns"
      ],
      "execution_count": 215,
      "outputs": [
        {
          "output_type": "execute_result",
          "data": {
            "text/plain": [
              "Index(['Países e territórios', 'Casos acumulados', 'Relativa',\n",
              "       'Dias desde o caso número 50'],\n",
              "      dtype='object')"
            ]
          },
          "metadata": {
            "tags": []
          },
          "execution_count": 215
        }
      ]
    },
    {
      "cell_type": "code",
      "metadata": {
        "id": "DyqryoMxTqTF",
        "colab_type": "code",
        "outputId": "25ba08fb-e867-4031-e9bb-e0656a3efaed",
        "colab": {
          "base_uri": "https://localhost:8080/",
          "height": 542
        }
      },
      "source": [
        "#hide\n",
        "import plotly.express as px\n",
        "\n",
        "fig = px.line(final_data, x=\"Dias desde o caso número 50\", y=\"Relativa\", color='Países e territórios',color_discrete_sequence=px.colors.qualitative.G10,title=\"Curvas dos estados brasileiros\",animation_frame='Dias desde o caso número 50',animation_group='Dias desde o caso número 50')\n",
        "fig.update_layout( yaxis_type=\"log\")\n",
        "fig.update_layout(legend= {'title':'País','borderwidth':0,'orientation':'v','yanchor':'top','font':{'size':8}})\n",
        "\n",
        "fig.show()\n",
        "#fig.write_html(\"plots/11_letalidade.html\")"
      ],
      "execution_count": 216,
      "outputs": [
        {
          "output_type": "display_data",
          "data": {
            "text/html": [
              "<html>\n",
              "<head><meta charset=\"utf-8\" /></head>\n",
              "<body>\n",
              "    <div>\n",
              "            <script src=\"https://cdnjs.cloudflare.com/ajax/libs/mathjax/2.7.5/MathJax.js?config=TeX-AMS-MML_SVG\"></script><script type=\"text/javascript\">if (window.MathJax) {MathJax.Hub.Config({SVG: {font: \"STIX-Web\"}});}</script>\n",
              "                <script type=\"text/javascript\">window.PlotlyConfig = {MathJaxConfig: 'local'};</script>\n",
              "        <script src=\"https://cdn.plot.ly/plotly-latest.min.js\"></script>    \n",
              "            <div id=\"83d89f23-bb64-414a-a390-59671c75cf52\" class=\"plotly-graph-div\" style=\"height:525px; width:100%;\"></div>\n",
              "            <script type=\"text/javascript\">\n",
              "                \n",
              "                    window.PLOTLYENV=window.PLOTLYENV || {};\n",
              "                    \n",
              "                if (document.getElementById(\"83d89f23-bb64-414a-a390-59671c75cf52\")) {\n",
              "                    Plotly.newPlot(\n",
              "                        '83d89f23-bb64-414a-a390-59671c75cf52',\n",
              "                        [{\"hovertemplate\": \"Pa\\u00edses e territ\\u00f3rios=Brazil<br>Dias desde o caso n\\u00famero 50=%{x}<br>Relativa=%{y}<extra></extra>\", \"ids\": [0], \"legendgroup\": \"Brazil\", \"line\": {\"color\": \"#3366CC\", \"dash\": \"solid\"}, \"mode\": \"lines\", \"name\": \"Brazil\", \"showlegend\": true, \"type\": \"scatter\", \"x\": [0], \"xaxis\": \"x\", \"y\": [0.002484472049689441], \"yaxis\": \"y\"}, {\"hovertemplate\": \"Pa\\u00edses e territ\\u00f3rios=Italy<br>Dias desde o caso n\\u00famero 50=%{x}<br>Relativa=%{y}<extra></extra>\", \"ids\": [0], \"legendgroup\": \"Italy\", \"line\": {\"color\": \"#DC3912\", \"dash\": \"solid\"}, \"mode\": \"lines\", \"name\": \"Italy\", \"showlegend\": true, \"type\": \"scatter\", \"x\": [0], \"xaxis\": \"x\", \"y\": [0.013038455190625516], \"yaxis\": \"y\"}, {\"hovertemplate\": \"Pa\\u00edses e territ\\u00f3rios=Japan<br>Dias desde o caso n\\u00famero 50=%{x}<br>Relativa=%{y}<extra></extra>\", \"ids\": [0], \"legendgroup\": \"Japan\", \"line\": {\"color\": \"#FF9900\", \"dash\": \"solid\"}, \"mode\": \"lines\", \"name\": \"Japan\", \"showlegend\": true, \"type\": \"scatter\", \"x\": [0], \"xaxis\": \"x\", \"y\": [0.004100946372239748], \"yaxis\": \"y\"}, {\"hovertemplate\": \"Pa\\u00edses e territ\\u00f3rios=United_Kingdom<br>Dias desde o caso n\\u00famero 50=%{x}<br>Relativa=%{y}<extra></extra>\", \"ids\": [0], \"legendgroup\": \"United_Kingdom\", \"line\": {\"color\": \"#109618\", \"dash\": \"solid\"}, \"mode\": \"lines\", \"name\": \"United_Kingdom\", \"showlegend\": true, \"type\": \"scatter\", \"x\": [0], \"xaxis\": \"x\", \"y\": [0.007722592368261659], \"yaxis\": \"y\"}, {\"hovertemplate\": \"Pa\\u00edses e territ\\u00f3rios=United_States_of_America<br>Dias desde o caso n\\u00famero 50=%{x}<br>Relativa=%{y}<extra></extra>\", \"ids\": [0], \"legendgroup\": \"United_States_of_America\", \"line\": {\"color\": \"#990099\", \"dash\": \"solid\"}, \"mode\": \"lines\", \"name\": \"United_States_of_America\", \"showlegend\": true, \"type\": \"scatter\", \"x\": [0], \"xaxis\": \"x\", \"y\": [0.0016272643536997236], \"yaxis\": \"y\"}, {\"hovertemplate\": \"Pa\\u00edses e territ\\u00f3rios=France<br>Dias desde o caso n\\u00famero 50=%{x}<br>Relativa=%{y}<extra></extra>\", \"ids\": [0], \"legendgroup\": \"France\", \"line\": {\"color\": \"#0099C6\", \"dash\": \"solid\"}, \"mode\": \"lines\", \"name\": \"France\", \"showlegend\": true, \"type\": \"scatter\", \"x\": [0], \"xaxis\": \"x\", \"y\": [0.008536768009585144], \"yaxis\": \"y\"}, {\"hovertemplate\": \"Pa\\u00edses e territ\\u00f3rios=South_Korea<br>Dias desde o caso n\\u00famero 50=%{x}<br>Relativa=%{y}<extra></extra>\", \"ids\": [0], \"legendgroup\": \"South_Korea\", \"line\": {\"color\": \"#DD4477\", \"dash\": \"solid\"}, \"mode\": \"lines\", \"name\": \"South_Korea\", \"showlegend\": true, \"type\": \"scatter\", \"x\": [0], \"xaxis\": \"x\", \"y\": [0.015543034777540314], \"yaxis\": \"y\"}, {\"hovertemplate\": \"Pa\\u00edses e territ\\u00f3rios=Spain<br>Dias desde o caso n\\u00famero 50=%{x}<br>Relativa=%{y}<extra></extra>\", \"ids\": [0], \"legendgroup\": \"Spain\", \"line\": {\"color\": \"#66AA00\", \"dash\": \"solid\"}, \"mode\": \"lines\", \"name\": \"Spain\", \"showlegend\": true, \"type\": \"scatter\", \"x\": [0], \"xaxis\": \"x\", \"y\": [0.014184397163120567], \"yaxis\": \"y\"}, {\"hovertemplate\": \"Pa\\u00edses e territ\\u00f3rios=Argentina<br>Dias desde o caso n\\u00famero 50=%{x}<br>Relativa=%{y}<extra></extra>\", \"ids\": [0], \"legendgroup\": \"Argentina\", \"line\": {\"color\": \"#B82E2E\", \"dash\": \"solid\"}, \"mode\": \"lines\", \"name\": \"Argentina\", \"showlegend\": true, \"type\": \"scatter\", \"x\": [0], \"xaxis\": \"x\", \"y\": [0.012649649875762368], \"yaxis\": \"y\"}, {\"hovertemplate\": \"Pa\\u00edses e territ\\u00f3rios=India<br>Dias desde o caso n\\u00famero 50=%{x}<br>Relativa=%{y}<extra></extra>\", \"ids\": [0], \"legendgroup\": \"India\", \"line\": {\"color\": \"#316395\", \"dash\": \"solid\"}, \"mode\": \"lines\", \"name\": \"India\", \"showlegend\": true, \"type\": \"scatter\", \"x\": [0], \"xaxis\": \"x\", \"y\": [0.0003734129947722181], \"yaxis\": \"y\"}, {\"hovertemplate\": \"Pa\\u00edses e territ\\u00f3rios=Mexico<br>Dias desde o caso n\\u00famero 50=%{x}<br>Relativa=%{y}<extra></extra>\", \"ids\": [0], \"legendgroup\": \"Mexico\", \"line\": {\"color\": \"#3366CC\", \"dash\": \"solid\"}, \"mode\": \"lines\", \"name\": \"Mexico\", \"showlegend\": true, \"type\": \"scatter\", \"x\": [0], \"xaxis\": \"x\", \"y\": [0.01139050075220288], \"yaxis\": \"y\"}, {\"hovertemplate\": \"Pa\\u00edses e territ\\u00f3rios=Germany<br>Dias desde o caso n\\u00famero 50=%{x}<br>Relativa=%{y}<extra></extra>\", \"ids\": [0], \"legendgroup\": \"Germany\", \"line\": {\"color\": \"#DC3912\", \"dash\": \"solid\"}, \"mode\": \"lines\", \"name\": \"Germany\", \"showlegend\": true, \"type\": \"scatter\", \"x\": [0], \"xaxis\": \"x\", \"y\": [0.006907416383906932], \"yaxis\": \"y\"}, {\"hovertemplate\": \"Pa\\u00edses e territ\\u00f3rios=Czech_Republic<br>Dias desde o caso n\\u00famero 50=%{x}<br>Relativa=%{y}<extra></extra>\", \"ids\": [0], \"legendgroup\": \"Czech_Republic\", \"line\": {\"color\": \"#FF9900\", \"dash\": \"solid\"}, \"mode\": \"lines\", \"name\": \"Czech_Republic\", \"showlegend\": true, \"type\": \"scatter\", \"x\": [0], \"xaxis\": \"x\", \"y\": [0.05920496193966733], \"yaxis\": \"y\"}, {\"hovertemplate\": \"Pa\\u00edses e territ\\u00f3rios=China<br>Dias desde o caso n\\u00famero 50=%{x}<br>Relativa=%{y}<extra></extra>\", \"ids\": [0], \"legendgroup\": \"China\", \"line\": {\"color\": \"#109618\", \"dash\": \"solid\"}, \"mode\": \"lines\", \"name\": \"China\", \"showlegend\": true, \"type\": \"scatter\", \"x\": [0], \"xaxis\": \"x\", \"y\": [0.0004256854256854257], \"yaxis\": \"y\"}],\n",
              "                        {\"legend\": {\"borderwidth\": 0, \"font\": {\"size\": 8}, \"orientation\": \"v\", \"title\": {\"text\": \"Pa\\u00eds\"}, \"tracegroupgap\": 0, \"yanchor\": \"top\"}, \"sliders\": [{\"active\": 0, \"currentvalue\": {\"prefix\": \"Dias desde o caso n\\u00famero 50=\"}, \"len\": 0.9, \"pad\": {\"b\": 10, \"t\": 60}, \"steps\": [{\"args\": [[\"0\"], {\"frame\": {\"duration\": 0, \"redraw\": false}, \"fromcurrent\": true, \"mode\": \"immediate\", \"transition\": {\"duration\": 0, \"easing\": \"linear\"}}], \"label\": \"0\", \"method\": \"animate\"}, {\"args\": [[\"1\"], {\"frame\": {\"duration\": 0, \"redraw\": false}, \"fromcurrent\": true, \"mode\": \"immediate\", \"transition\": {\"duration\": 0, \"easing\": \"linear\"}}], \"label\": \"1\", \"method\": \"animate\"}, {\"args\": [[\"2\"], {\"frame\": {\"duration\": 0, \"redraw\": false}, \"fromcurrent\": true, \"mode\": \"immediate\", \"transition\": {\"duration\": 0, \"easing\": \"linear\"}}], \"label\": \"2\", \"method\": \"animate\"}, {\"args\": [[\"3\"], {\"frame\": {\"duration\": 0, \"redraw\": false}, \"fromcurrent\": true, \"mode\": \"immediate\", \"transition\": {\"duration\": 0, \"easing\": \"linear\"}}], \"label\": \"3\", \"method\": \"animate\"}, {\"args\": [[\"4\"], {\"frame\": {\"duration\": 0, \"redraw\": false}, \"fromcurrent\": true, \"mode\": \"immediate\", \"transition\": {\"duration\": 0, \"easing\": \"linear\"}}], \"label\": \"4\", \"method\": \"animate\"}, {\"args\": [[\"5\"], {\"frame\": {\"duration\": 0, \"redraw\": false}, \"fromcurrent\": true, \"mode\": \"immediate\", \"transition\": {\"duration\": 0, \"easing\": \"linear\"}}], \"label\": \"5\", \"method\": \"animate\"}, {\"args\": [[\"6\"], {\"frame\": {\"duration\": 0, \"redraw\": false}, \"fromcurrent\": true, \"mode\": \"immediate\", \"transition\": {\"duration\": 0, \"easing\": \"linear\"}}], \"label\": \"6\", \"method\": \"animate\"}, {\"args\": [[\"7\"], {\"frame\": {\"duration\": 0, \"redraw\": false}, \"fromcurrent\": true, \"mode\": \"immediate\", \"transition\": {\"duration\": 0, \"easing\": \"linear\"}}], \"label\": \"7\", \"method\": \"animate\"}, {\"args\": [[\"8\"], {\"frame\": {\"duration\": 0, \"redraw\": false}, \"fromcurrent\": true, \"mode\": \"immediate\", \"transition\": {\"duration\": 0, \"easing\": \"linear\"}}], \"label\": \"8\", \"method\": \"animate\"}, {\"args\": [[\"9\"], {\"frame\": {\"duration\": 0, \"redraw\": false}, \"fromcurrent\": true, \"mode\": \"immediate\", \"transition\": {\"duration\": 0, \"easing\": \"linear\"}}], \"label\": \"9\", \"method\": \"animate\"}, {\"args\": [[\"10\"], {\"frame\": {\"duration\": 0, \"redraw\": false}, \"fromcurrent\": true, \"mode\": \"immediate\", \"transition\": {\"duration\": 0, \"easing\": \"linear\"}}], \"label\": \"10\", \"method\": \"animate\"}, {\"args\": [[\"11\"], {\"frame\": {\"duration\": 0, \"redraw\": false}, \"fromcurrent\": true, \"mode\": \"immediate\", \"transition\": {\"duration\": 0, \"easing\": \"linear\"}}], \"label\": \"11\", \"method\": \"animate\"}, {\"args\": [[\"12\"], {\"frame\": {\"duration\": 0, \"redraw\": false}, \"fromcurrent\": true, \"mode\": \"immediate\", \"transition\": {\"duration\": 0, \"easing\": \"linear\"}}], \"label\": \"12\", \"method\": \"animate\"}, {\"args\": [[\"13\"], {\"frame\": {\"duration\": 0, \"redraw\": false}, \"fromcurrent\": true, \"mode\": \"immediate\", \"transition\": {\"duration\": 0, \"easing\": \"linear\"}}], \"label\": \"13\", \"method\": \"animate\"}, {\"args\": [[\"14\"], {\"frame\": {\"duration\": 0, \"redraw\": false}, \"fromcurrent\": true, \"mode\": \"immediate\", \"transition\": {\"duration\": 0, \"easing\": \"linear\"}}], \"label\": \"14\", \"method\": \"animate\"}, {\"args\": [[\"15\"], {\"frame\": {\"duration\": 0, \"redraw\": false}, \"fromcurrent\": true, \"mode\": \"immediate\", \"transition\": {\"duration\": 0, \"easing\": \"linear\"}}], \"label\": \"15\", \"method\": \"animate\"}, {\"args\": [[\"16\"], {\"frame\": {\"duration\": 0, \"redraw\": false}, \"fromcurrent\": true, \"mode\": \"immediate\", \"transition\": {\"duration\": 0, \"easing\": \"linear\"}}], \"label\": \"16\", \"method\": \"animate\"}, {\"args\": [[\"17\"], {\"frame\": {\"duration\": 0, \"redraw\": false}, \"fromcurrent\": true, \"mode\": \"immediate\", \"transition\": {\"duration\": 0, \"easing\": \"linear\"}}], \"label\": \"17\", \"method\": \"animate\"}, {\"args\": [[\"18\"], {\"frame\": {\"duration\": 0, \"redraw\": false}, \"fromcurrent\": true, \"mode\": \"immediate\", \"transition\": {\"duration\": 0, \"easing\": \"linear\"}}], \"label\": \"18\", \"method\": \"animate\"}, {\"args\": [[\"19\"], {\"frame\": {\"duration\": 0, \"redraw\": false}, \"fromcurrent\": true, \"mode\": \"immediate\", \"transition\": {\"duration\": 0, \"easing\": \"linear\"}}], \"label\": \"19\", \"method\": \"animate\"}, {\"args\": [[\"20\"], {\"frame\": {\"duration\": 0, \"redraw\": false}, \"fromcurrent\": true, \"mode\": \"immediate\", \"transition\": {\"duration\": 0, \"easing\": \"linear\"}}], \"label\": \"20\", \"method\": \"animate\"}, {\"args\": [[\"21\"], {\"frame\": {\"duration\": 0, \"redraw\": false}, \"fromcurrent\": true, \"mode\": \"immediate\", \"transition\": {\"duration\": 0, \"easing\": \"linear\"}}], \"label\": \"21\", \"method\": \"animate\"}, {\"args\": [[\"22\"], {\"frame\": {\"duration\": 0, \"redraw\": false}, \"fromcurrent\": true, \"mode\": \"immediate\", \"transition\": {\"duration\": 0, \"easing\": \"linear\"}}], \"label\": \"22\", \"method\": \"animate\"}, {\"args\": [[\"23\"], {\"frame\": {\"duration\": 0, \"redraw\": false}, \"fromcurrent\": true, \"mode\": \"immediate\", \"transition\": {\"duration\": 0, \"easing\": \"linear\"}}], \"label\": \"23\", \"method\": \"animate\"}, {\"args\": [[\"24\"], {\"frame\": {\"duration\": 0, \"redraw\": false}, \"fromcurrent\": true, \"mode\": \"immediate\", \"transition\": {\"duration\": 0, \"easing\": \"linear\"}}], \"label\": \"24\", \"method\": \"animate\"}, {\"args\": [[\"25\"], {\"frame\": {\"duration\": 0, \"redraw\": false}, \"fromcurrent\": true, \"mode\": \"immediate\", \"transition\": {\"duration\": 0, \"easing\": \"linear\"}}], \"label\": \"25\", \"method\": \"animate\"}, {\"args\": [[\"26\"], {\"frame\": {\"duration\": 0, \"redraw\": false}, \"fromcurrent\": true, \"mode\": \"immediate\", \"transition\": {\"duration\": 0, \"easing\": \"linear\"}}], \"label\": \"26\", \"method\": \"animate\"}, {\"args\": [[\"27\"], {\"frame\": {\"duration\": 0, \"redraw\": false}, \"fromcurrent\": true, \"mode\": \"immediate\", \"transition\": {\"duration\": 0, \"easing\": \"linear\"}}], \"label\": \"27\", \"method\": \"animate\"}, {\"args\": [[\"28\"], {\"frame\": {\"duration\": 0, \"redraw\": false}, \"fromcurrent\": true, \"mode\": \"immediate\", \"transition\": {\"duration\": 0, \"easing\": \"linear\"}}], \"label\": \"28\", \"method\": \"animate\"}, {\"args\": [[\"29\"], {\"frame\": {\"duration\": 0, \"redraw\": false}, \"fromcurrent\": true, \"mode\": \"immediate\", \"transition\": {\"duration\": 0, \"easing\": \"linear\"}}], \"label\": \"29\", \"method\": \"animate\"}, {\"args\": [[\"30\"], {\"frame\": {\"duration\": 0, \"redraw\": false}, \"fromcurrent\": true, \"mode\": \"immediate\", \"transition\": {\"duration\": 0, \"easing\": \"linear\"}}], \"label\": \"30\", \"method\": \"animate\"}, {\"args\": [[\"31\"], {\"frame\": {\"duration\": 0, \"redraw\": false}, \"fromcurrent\": true, \"mode\": \"immediate\", \"transition\": {\"duration\": 0, \"easing\": \"linear\"}}], \"label\": \"31\", \"method\": \"animate\"}, {\"args\": [[\"32\"], {\"frame\": {\"duration\": 0, \"redraw\": false}, \"fromcurrent\": true, \"mode\": \"immediate\", \"transition\": {\"duration\": 0, \"easing\": \"linear\"}}], \"label\": \"32\", \"method\": \"animate\"}, {\"args\": [[\"33\"], {\"frame\": {\"duration\": 0, \"redraw\": false}, \"fromcurrent\": true, \"mode\": \"immediate\", \"transition\": {\"duration\": 0, \"easing\": \"linear\"}}], \"label\": \"33\", \"method\": \"animate\"}, {\"args\": [[\"34\"], {\"frame\": {\"duration\": 0, \"redraw\": false}, \"fromcurrent\": true, \"mode\": \"immediate\", \"transition\": {\"duration\": 0, \"easing\": \"linear\"}}], \"label\": \"34\", \"method\": \"animate\"}, {\"args\": [[\"35\"], {\"frame\": {\"duration\": 0, \"redraw\": false}, \"fromcurrent\": true, \"mode\": \"immediate\", \"transition\": {\"duration\": 0, \"easing\": \"linear\"}}], \"label\": \"35\", \"method\": \"animate\"}, {\"args\": [[\"36\"], {\"frame\": {\"duration\": 0, \"redraw\": false}, \"fromcurrent\": true, \"mode\": \"immediate\", \"transition\": {\"duration\": 0, \"easing\": \"linear\"}}], \"label\": \"36\", \"method\": \"animate\"}, {\"args\": [[\"37\"], {\"frame\": {\"duration\": 0, \"redraw\": false}, \"fromcurrent\": true, \"mode\": \"immediate\", \"transition\": {\"duration\": 0, \"easing\": \"linear\"}}], \"label\": \"37\", \"method\": \"animate\"}, {\"args\": [[\"38\"], {\"frame\": {\"duration\": 0, \"redraw\": false}, \"fromcurrent\": true, \"mode\": \"immediate\", \"transition\": {\"duration\": 0, \"easing\": \"linear\"}}], \"label\": \"38\", \"method\": \"animate\"}, {\"args\": [[\"39\"], {\"frame\": {\"duration\": 0, \"redraw\": false}, \"fromcurrent\": true, \"mode\": \"immediate\", \"transition\": {\"duration\": 0, \"easing\": \"linear\"}}], \"label\": \"39\", \"method\": \"animate\"}, {\"args\": [[\"40\"], {\"frame\": {\"duration\": 0, \"redraw\": false}, \"fromcurrent\": true, \"mode\": \"immediate\", \"transition\": {\"duration\": 0, \"easing\": \"linear\"}}], \"label\": \"40\", \"method\": \"animate\"}, {\"args\": [[\"41\"], {\"frame\": {\"duration\": 0, \"redraw\": false}, \"fromcurrent\": true, \"mode\": \"immediate\", \"transition\": {\"duration\": 0, \"easing\": \"linear\"}}], \"label\": \"41\", \"method\": \"animate\"}, {\"args\": [[\"42\"], {\"frame\": {\"duration\": 0, \"redraw\": false}, \"fromcurrent\": true, \"mode\": \"immediate\", \"transition\": {\"duration\": 0, \"easing\": \"linear\"}}], \"label\": \"42\", \"method\": \"animate\"}, {\"args\": [[\"43\"], {\"frame\": {\"duration\": 0, \"redraw\": false}, \"fromcurrent\": true, \"mode\": \"immediate\", \"transition\": {\"duration\": 0, \"easing\": \"linear\"}}], \"label\": \"43\", \"method\": \"animate\"}, {\"args\": [[\"44\"], {\"frame\": {\"duration\": 0, \"redraw\": false}, \"fromcurrent\": true, \"mode\": \"immediate\", \"transition\": {\"duration\": 0, \"easing\": \"linear\"}}], \"label\": \"44\", \"method\": \"animate\"}, {\"args\": [[\"45\"], {\"frame\": {\"duration\": 0, \"redraw\": false}, \"fromcurrent\": true, \"mode\": \"immediate\", \"transition\": {\"duration\": 0, \"easing\": \"linear\"}}], \"label\": \"45\", \"method\": \"animate\"}, {\"args\": [[\"46\"], {\"frame\": {\"duration\": 0, \"redraw\": false}, \"fromcurrent\": true, \"mode\": \"immediate\", \"transition\": {\"duration\": 0, \"easing\": \"linear\"}}], \"label\": \"46\", \"method\": \"animate\"}, {\"args\": [[\"47\"], {\"frame\": {\"duration\": 0, \"redraw\": false}, \"fromcurrent\": true, \"mode\": \"immediate\", \"transition\": {\"duration\": 0, \"easing\": \"linear\"}}], \"label\": \"47\", \"method\": \"animate\"}, {\"args\": [[\"48\"], {\"frame\": {\"duration\": 0, \"redraw\": false}, \"fromcurrent\": true, \"mode\": \"immediate\", \"transition\": {\"duration\": 0, \"easing\": \"linear\"}}], \"label\": \"48\", \"method\": \"animate\"}, {\"args\": [[\"49\"], {\"frame\": {\"duration\": 0, \"redraw\": false}, \"fromcurrent\": true, \"mode\": \"immediate\", \"transition\": {\"duration\": 0, \"easing\": \"linear\"}}], \"label\": \"49\", \"method\": \"animate\"}, {\"args\": [[\"50\"], {\"frame\": {\"duration\": 0, \"redraw\": false}, \"fromcurrent\": true, \"mode\": \"immediate\", \"transition\": {\"duration\": 0, \"easing\": \"linear\"}}], \"label\": \"50\", \"method\": \"animate\"}, {\"args\": [[\"51\"], {\"frame\": {\"duration\": 0, \"redraw\": false}, \"fromcurrent\": true, \"mode\": \"immediate\", \"transition\": {\"duration\": 0, \"easing\": \"linear\"}}], \"label\": \"51\", \"method\": \"animate\"}, {\"args\": [[\"52\"], {\"frame\": {\"duration\": 0, \"redraw\": false}, \"fromcurrent\": true, \"mode\": \"immediate\", \"transition\": {\"duration\": 0, \"easing\": \"linear\"}}], \"label\": \"52\", \"method\": \"animate\"}, {\"args\": [[\"53\"], {\"frame\": {\"duration\": 0, \"redraw\": false}, \"fromcurrent\": true, \"mode\": \"immediate\", \"transition\": {\"duration\": 0, \"easing\": \"linear\"}}], \"label\": \"53\", \"method\": \"animate\"}, {\"args\": [[\"54\"], {\"frame\": {\"duration\": 0, \"redraw\": false}, \"fromcurrent\": true, \"mode\": \"immediate\", \"transition\": {\"duration\": 0, \"easing\": \"linear\"}}], \"label\": \"54\", \"method\": \"animate\"}, {\"args\": [[\"55\"], {\"frame\": {\"duration\": 0, \"redraw\": false}, \"fromcurrent\": true, \"mode\": \"immediate\", \"transition\": {\"duration\": 0, \"easing\": \"linear\"}}], \"label\": \"55\", \"method\": \"animate\"}, {\"args\": [[\"56\"], {\"frame\": {\"duration\": 0, \"redraw\": false}, \"fromcurrent\": true, \"mode\": \"immediate\", \"transition\": {\"duration\": 0, \"easing\": \"linear\"}}], \"label\": \"56\", \"method\": \"animate\"}, {\"args\": [[\"57\"], {\"frame\": {\"duration\": 0, \"redraw\": false}, \"fromcurrent\": true, \"mode\": \"immediate\", \"transition\": {\"duration\": 0, \"easing\": \"linear\"}}], \"label\": \"57\", \"method\": \"animate\"}, {\"args\": [[\"58\"], {\"frame\": {\"duration\": 0, \"redraw\": false}, \"fromcurrent\": true, \"mode\": \"immediate\", \"transition\": {\"duration\": 0, \"easing\": \"linear\"}}], \"label\": \"58\", \"method\": \"animate\"}, {\"args\": [[\"59\"], {\"frame\": {\"duration\": 0, \"redraw\": false}, \"fromcurrent\": true, \"mode\": \"immediate\", \"transition\": {\"duration\": 0, \"easing\": \"linear\"}}], \"label\": \"59\", \"method\": \"animate\"}, {\"args\": [[\"60\"], {\"frame\": {\"duration\": 0, \"redraw\": false}, \"fromcurrent\": true, \"mode\": \"immediate\", \"transition\": {\"duration\": 0, \"easing\": \"linear\"}}], \"label\": \"60\", \"method\": \"animate\"}, {\"args\": [[\"61\"], {\"frame\": {\"duration\": 0, \"redraw\": false}, \"fromcurrent\": true, \"mode\": \"immediate\", \"transition\": {\"duration\": 0, \"easing\": \"linear\"}}], \"label\": \"61\", \"method\": \"animate\"}, {\"args\": [[\"62\"], {\"frame\": {\"duration\": 0, \"redraw\": false}, \"fromcurrent\": true, \"mode\": \"immediate\", \"transition\": {\"duration\": 0, \"easing\": \"linear\"}}], \"label\": \"62\", \"method\": \"animate\"}, {\"args\": [[\"63\"], {\"frame\": {\"duration\": 0, \"redraw\": false}, \"fromcurrent\": true, \"mode\": \"immediate\", \"transition\": {\"duration\": 0, \"easing\": \"linear\"}}], \"label\": \"63\", \"method\": \"animate\"}, {\"args\": [[\"64\"], {\"frame\": {\"duration\": 0, \"redraw\": false}, \"fromcurrent\": true, \"mode\": \"immediate\", \"transition\": {\"duration\": 0, \"easing\": \"linear\"}}], \"label\": \"64\", \"method\": \"animate\"}, {\"args\": [[\"65\"], {\"frame\": {\"duration\": 0, \"redraw\": false}, \"fromcurrent\": true, \"mode\": \"immediate\", \"transition\": {\"duration\": 0, \"easing\": \"linear\"}}], \"label\": \"65\", \"method\": \"animate\"}, {\"args\": [[\"66\"], {\"frame\": {\"duration\": 0, \"redraw\": false}, \"fromcurrent\": true, \"mode\": \"immediate\", \"transition\": {\"duration\": 0, \"easing\": \"linear\"}}], \"label\": \"66\", \"method\": \"animate\"}, {\"args\": [[\"67\"], {\"frame\": {\"duration\": 0, \"redraw\": false}, \"fromcurrent\": true, \"mode\": \"immediate\", \"transition\": {\"duration\": 0, \"easing\": \"linear\"}}], \"label\": \"67\", \"method\": \"animate\"}, {\"args\": [[\"68\"], {\"frame\": {\"duration\": 0, \"redraw\": false}, \"fromcurrent\": true, \"mode\": \"immediate\", \"transition\": {\"duration\": 0, \"easing\": \"linear\"}}], \"label\": \"68\", \"method\": \"animate\"}, {\"args\": [[\"69\"], {\"frame\": {\"duration\": 0, \"redraw\": false}, \"fromcurrent\": true, \"mode\": \"immediate\", \"transition\": {\"duration\": 0, \"easing\": \"linear\"}}], \"label\": \"69\", \"method\": \"animate\"}, {\"args\": [[\"70\"], {\"frame\": {\"duration\": 0, \"redraw\": false}, \"fromcurrent\": true, \"mode\": \"immediate\", \"transition\": {\"duration\": 0, \"easing\": \"linear\"}}], \"label\": \"70\", \"method\": \"animate\"}, {\"args\": [[\"71\"], {\"frame\": {\"duration\": 0, \"redraw\": false}, \"fromcurrent\": true, \"mode\": \"immediate\", \"transition\": {\"duration\": 0, \"easing\": \"linear\"}}], \"label\": \"71\", \"method\": \"animate\"}, {\"args\": [[\"72\"], {\"frame\": {\"duration\": 0, \"redraw\": false}, \"fromcurrent\": true, \"mode\": \"immediate\", \"transition\": {\"duration\": 0, \"easing\": \"linear\"}}], \"label\": \"72\", \"method\": \"animate\"}, {\"args\": [[\"73\"], {\"frame\": {\"duration\": 0, \"redraw\": false}, \"fromcurrent\": true, \"mode\": \"immediate\", \"transition\": {\"duration\": 0, \"easing\": \"linear\"}}], \"label\": \"73\", \"method\": \"animate\"}, {\"args\": [[\"74\"], {\"frame\": {\"duration\": 0, \"redraw\": false}, \"fromcurrent\": true, \"mode\": \"immediate\", \"transition\": {\"duration\": 0, \"easing\": \"linear\"}}], \"label\": \"74\", \"method\": \"animate\"}, {\"args\": [[\"75\"], {\"frame\": {\"duration\": 0, \"redraw\": false}, \"fromcurrent\": true, \"mode\": \"immediate\", \"transition\": {\"duration\": 0, \"easing\": \"linear\"}}], \"label\": \"75\", \"method\": \"animate\"}, {\"args\": [[\"76\"], {\"frame\": {\"duration\": 0, \"redraw\": false}, \"fromcurrent\": true, \"mode\": \"immediate\", \"transition\": {\"duration\": 0, \"easing\": \"linear\"}}], \"label\": \"76\", \"method\": \"animate\"}, {\"args\": [[\"77\"], {\"frame\": {\"duration\": 0, \"redraw\": false}, \"fromcurrent\": true, \"mode\": \"immediate\", \"transition\": {\"duration\": 0, \"easing\": \"linear\"}}], \"label\": \"77\", \"method\": \"animate\"}, {\"args\": [[\"78\"], {\"frame\": {\"duration\": 0, \"redraw\": false}, \"fromcurrent\": true, \"mode\": \"immediate\", \"transition\": {\"duration\": 0, \"easing\": \"linear\"}}], \"label\": \"78\", \"method\": \"animate\"}, {\"args\": [[\"79\"], {\"frame\": {\"duration\": 0, \"redraw\": false}, \"fromcurrent\": true, \"mode\": \"immediate\", \"transition\": {\"duration\": 0, \"easing\": \"linear\"}}], \"label\": \"79\", \"method\": \"animate\"}, {\"args\": [[\"80\"], {\"frame\": {\"duration\": 0, \"redraw\": false}, \"fromcurrent\": true, \"mode\": \"immediate\", \"transition\": {\"duration\": 0, \"easing\": \"linear\"}}], \"label\": \"80\", \"method\": \"animate\"}, {\"args\": [[\"81\"], {\"frame\": {\"duration\": 0, \"redraw\": false}, \"fromcurrent\": true, \"mode\": \"immediate\", \"transition\": {\"duration\": 0, \"easing\": \"linear\"}}], \"label\": \"81\", \"method\": \"animate\"}, {\"args\": [[\"82\"], {\"frame\": {\"duration\": 0, \"redraw\": false}, \"fromcurrent\": true, \"mode\": \"immediate\", \"transition\": {\"duration\": 0, \"easing\": \"linear\"}}], \"label\": \"82\", \"method\": \"animate\"}, {\"args\": [[\"83\"], {\"frame\": {\"duration\": 0, \"redraw\": false}, \"fromcurrent\": true, \"mode\": \"immediate\", \"transition\": {\"duration\": 0, \"easing\": \"linear\"}}], \"label\": \"83\", \"method\": \"animate\"}, {\"args\": [[\"84\"], {\"frame\": {\"duration\": 0, \"redraw\": false}, \"fromcurrent\": true, \"mode\": \"immediate\", \"transition\": {\"duration\": 0, \"easing\": \"linear\"}}], \"label\": \"84\", \"method\": \"animate\"}, {\"args\": [[\"85\"], {\"frame\": {\"duration\": 0, \"redraw\": false}, \"fromcurrent\": true, \"mode\": \"immediate\", \"transition\": {\"duration\": 0, \"easing\": \"linear\"}}], \"label\": \"85\", \"method\": \"animate\"}, {\"args\": [[\"86\"], {\"frame\": {\"duration\": 0, \"redraw\": false}, \"fromcurrent\": true, \"mode\": \"immediate\", \"transition\": {\"duration\": 0, \"easing\": \"linear\"}}], \"label\": \"86\", \"method\": \"animate\"}, {\"args\": [[\"87\"], {\"frame\": {\"duration\": 0, \"redraw\": false}, \"fromcurrent\": true, \"mode\": \"immediate\", \"transition\": {\"duration\": 0, \"easing\": \"linear\"}}], \"label\": \"87\", \"method\": \"animate\"}, {\"args\": [[\"88\"], {\"frame\": {\"duration\": 0, \"redraw\": false}, \"fromcurrent\": true, \"mode\": \"immediate\", \"transition\": {\"duration\": 0, \"easing\": \"linear\"}}], \"label\": \"88\", \"method\": \"animate\"}], \"x\": 0.1, \"xanchor\": \"left\", \"y\": 0, \"yanchor\": \"top\"}], \"template\": {\"data\": {\"bar\": [{\"error_x\": {\"color\": \"#2a3f5f\"}, \"error_y\": {\"color\": \"#2a3f5f\"}, \"marker\": {\"line\": {\"color\": \"#E5ECF6\", \"width\": 0.5}}, \"type\": \"bar\"}], \"barpolar\": [{\"marker\": {\"line\": {\"color\": \"#E5ECF6\", \"width\": 0.5}}, \"type\": \"barpolar\"}], \"carpet\": [{\"aaxis\": {\"endlinecolor\": \"#2a3f5f\", \"gridcolor\": \"white\", \"linecolor\": \"white\", \"minorgridcolor\": \"white\", \"startlinecolor\": \"#2a3f5f\"}, \"baxis\": {\"endlinecolor\": \"#2a3f5f\", \"gridcolor\": \"white\", \"linecolor\": \"white\", \"minorgridcolor\": \"white\", \"startlinecolor\": \"#2a3f5f\"}, \"type\": \"carpet\"}], \"choropleth\": [{\"colorbar\": {\"outlinewidth\": 0, \"ticks\": \"\"}, \"type\": \"choropleth\"}], \"contour\": [{\"colorbar\": {\"outlinewidth\": 0, \"ticks\": \"\"}, \"colorscale\": [[0.0, \"#0d0887\"], [0.1111111111111111, \"#46039f\"], [0.2222222222222222, \"#7201a8\"], [0.3333333333333333, \"#9c179e\"], [0.4444444444444444, \"#bd3786\"], [0.5555555555555556, \"#d8576b\"], [0.6666666666666666, \"#ed7953\"], [0.7777777777777778, \"#fb9f3a\"], [0.8888888888888888, \"#fdca26\"], [1.0, \"#f0f921\"]], \"type\": \"contour\"}], \"contourcarpet\": [{\"colorbar\": {\"outlinewidth\": 0, \"ticks\": \"\"}, \"type\": \"contourcarpet\"}], \"heatmap\": [{\"colorbar\": {\"outlinewidth\": 0, \"ticks\": \"\"}, \"colorscale\": [[0.0, \"#0d0887\"], [0.1111111111111111, \"#46039f\"], [0.2222222222222222, \"#7201a8\"], [0.3333333333333333, \"#9c179e\"], [0.4444444444444444, \"#bd3786\"], [0.5555555555555556, \"#d8576b\"], [0.6666666666666666, \"#ed7953\"], [0.7777777777777778, \"#fb9f3a\"], [0.8888888888888888, \"#fdca26\"], [1.0, \"#f0f921\"]], \"type\": \"heatmap\"}], \"heatmapgl\": [{\"colorbar\": {\"outlinewidth\": 0, \"ticks\": \"\"}, \"colorscale\": [[0.0, \"#0d0887\"], [0.1111111111111111, \"#46039f\"], [0.2222222222222222, \"#7201a8\"], [0.3333333333333333, \"#9c179e\"], [0.4444444444444444, \"#bd3786\"], [0.5555555555555556, \"#d8576b\"], [0.6666666666666666, \"#ed7953\"], [0.7777777777777778, \"#fb9f3a\"], [0.8888888888888888, \"#fdca26\"], [1.0, \"#f0f921\"]], \"type\": \"heatmapgl\"}], \"histogram\": [{\"marker\": {\"colorbar\": {\"outlinewidth\": 0, \"ticks\": \"\"}}, \"type\": \"histogram\"}], \"histogram2d\": [{\"colorbar\": {\"outlinewidth\": 0, \"ticks\": \"\"}, \"colorscale\": [[0.0, \"#0d0887\"], [0.1111111111111111, \"#46039f\"], [0.2222222222222222, \"#7201a8\"], [0.3333333333333333, \"#9c179e\"], [0.4444444444444444, \"#bd3786\"], [0.5555555555555556, \"#d8576b\"], [0.6666666666666666, \"#ed7953\"], [0.7777777777777778, \"#fb9f3a\"], [0.8888888888888888, \"#fdca26\"], [1.0, \"#f0f921\"]], \"type\": \"histogram2d\"}], \"histogram2dcontour\": [{\"colorbar\": {\"outlinewidth\": 0, \"ticks\": \"\"}, \"colorscale\": [[0.0, \"#0d0887\"], [0.1111111111111111, \"#46039f\"], [0.2222222222222222, \"#7201a8\"], [0.3333333333333333, \"#9c179e\"], [0.4444444444444444, \"#bd3786\"], [0.5555555555555556, \"#d8576b\"], [0.6666666666666666, \"#ed7953\"], [0.7777777777777778, \"#fb9f3a\"], [0.8888888888888888, \"#fdca26\"], [1.0, \"#f0f921\"]], \"type\": \"histogram2dcontour\"}], \"mesh3d\": [{\"colorbar\": {\"outlinewidth\": 0, \"ticks\": \"\"}, \"type\": \"mesh3d\"}], \"parcoords\": [{\"line\": {\"colorbar\": {\"outlinewidth\": 0, \"ticks\": \"\"}}, \"type\": \"parcoords\"}], \"pie\": [{\"automargin\": true, \"type\": \"pie\"}], \"scatter\": [{\"marker\": {\"colorbar\": {\"outlinewidth\": 0, \"ticks\": \"\"}}, \"type\": \"scatter\"}], \"scatter3d\": [{\"line\": {\"colorbar\": {\"outlinewidth\": 0, \"ticks\": \"\"}}, \"marker\": {\"colorbar\": {\"outlinewidth\": 0, \"ticks\": \"\"}}, \"type\": \"scatter3d\"}], \"scattercarpet\": [{\"marker\": {\"colorbar\": {\"outlinewidth\": 0, \"ticks\": \"\"}}, \"type\": \"scattercarpet\"}], \"scattergeo\": [{\"marker\": {\"colorbar\": {\"outlinewidth\": 0, \"ticks\": \"\"}}, \"type\": \"scattergeo\"}], \"scattergl\": [{\"marker\": {\"colorbar\": {\"outlinewidth\": 0, \"ticks\": \"\"}}, \"type\": \"scattergl\"}], \"scattermapbox\": [{\"marker\": {\"colorbar\": {\"outlinewidth\": 0, \"ticks\": \"\"}}, \"type\": \"scattermapbox\"}], \"scatterpolar\": [{\"marker\": {\"colorbar\": {\"outlinewidth\": 0, \"ticks\": \"\"}}, \"type\": \"scatterpolar\"}], \"scatterpolargl\": [{\"marker\": {\"colorbar\": {\"outlinewidth\": 0, \"ticks\": \"\"}}, \"type\": \"scatterpolargl\"}], \"scatterternary\": [{\"marker\": {\"colorbar\": {\"outlinewidth\": 0, \"ticks\": \"\"}}, \"type\": \"scatterternary\"}], \"surface\": [{\"colorbar\": {\"outlinewidth\": 0, \"ticks\": \"\"}, \"colorscale\": [[0.0, \"#0d0887\"], [0.1111111111111111, \"#46039f\"], [0.2222222222222222, \"#7201a8\"], [0.3333333333333333, \"#9c179e\"], [0.4444444444444444, \"#bd3786\"], [0.5555555555555556, \"#d8576b\"], [0.6666666666666666, \"#ed7953\"], [0.7777777777777778, \"#fb9f3a\"], [0.8888888888888888, \"#fdca26\"], [1.0, \"#f0f921\"]], \"type\": \"surface\"}], \"table\": [{\"cells\": {\"fill\": {\"color\": \"#EBF0F8\"}, \"line\": {\"color\": \"white\"}}, \"header\": {\"fill\": {\"color\": \"#C8D4E3\"}, \"line\": {\"color\": \"white\"}}, \"type\": \"table\"}]}, \"layout\": {\"annotationdefaults\": {\"arrowcolor\": \"#2a3f5f\", \"arrowhead\": 0, \"arrowwidth\": 1}, \"coloraxis\": {\"colorbar\": {\"outlinewidth\": 0, \"ticks\": \"\"}}, \"colorscale\": {\"diverging\": [[0, \"#8e0152\"], [0.1, \"#c51b7d\"], [0.2, \"#de77ae\"], [0.3, \"#f1b6da\"], [0.4, \"#fde0ef\"], [0.5, \"#f7f7f7\"], [0.6, \"#e6f5d0\"], [0.7, \"#b8e186\"], [0.8, \"#7fbc41\"], [0.9, \"#4d9221\"], [1, \"#276419\"]], \"sequential\": [[0.0, \"#0d0887\"], [0.1111111111111111, \"#46039f\"], [0.2222222222222222, \"#7201a8\"], [0.3333333333333333, \"#9c179e\"], [0.4444444444444444, \"#bd3786\"], [0.5555555555555556, \"#d8576b\"], [0.6666666666666666, \"#ed7953\"], [0.7777777777777778, \"#fb9f3a\"], [0.8888888888888888, \"#fdca26\"], [1.0, \"#f0f921\"]], \"sequentialminus\": [[0.0, \"#0d0887\"], [0.1111111111111111, \"#46039f\"], [0.2222222222222222, \"#7201a8\"], [0.3333333333333333, \"#9c179e\"], [0.4444444444444444, \"#bd3786\"], [0.5555555555555556, \"#d8576b\"], [0.6666666666666666, \"#ed7953\"], [0.7777777777777778, \"#fb9f3a\"], [0.8888888888888888, \"#fdca26\"], [1.0, \"#f0f921\"]]}, \"colorway\": [\"#636efa\", \"#EF553B\", \"#00cc96\", \"#ab63fa\", \"#FFA15A\", \"#19d3f3\", \"#FF6692\", \"#B6E880\", \"#FF97FF\", \"#FECB52\"], \"font\": {\"color\": \"#2a3f5f\"}, \"geo\": {\"bgcolor\": \"white\", \"lakecolor\": \"white\", \"landcolor\": \"#E5ECF6\", \"showlakes\": true, \"showland\": true, \"subunitcolor\": \"white\"}, \"hoverlabel\": {\"align\": \"left\"}, \"hovermode\": \"closest\", \"mapbox\": {\"style\": \"light\"}, \"paper_bgcolor\": \"white\", \"plot_bgcolor\": \"#E5ECF6\", \"polar\": {\"angularaxis\": {\"gridcolor\": \"white\", \"linecolor\": \"white\", \"ticks\": \"\"}, \"bgcolor\": \"#E5ECF6\", \"radialaxis\": {\"gridcolor\": \"white\", \"linecolor\": \"white\", \"ticks\": \"\"}}, \"scene\": {\"xaxis\": {\"backgroundcolor\": \"#E5ECF6\", \"gridcolor\": \"white\", \"gridwidth\": 2, \"linecolor\": \"white\", \"showbackground\": true, \"ticks\": \"\", \"zerolinecolor\": \"white\"}, \"yaxis\": {\"backgroundcolor\": \"#E5ECF6\", \"gridcolor\": \"white\", \"gridwidth\": 2, \"linecolor\": \"white\", \"showbackground\": true, \"ticks\": \"\", \"zerolinecolor\": \"white\"}, \"zaxis\": {\"backgroundcolor\": \"#E5ECF6\", \"gridcolor\": \"white\", \"gridwidth\": 2, \"linecolor\": \"white\", \"showbackground\": true, \"ticks\": \"\", \"zerolinecolor\": \"white\"}}, \"shapedefaults\": {\"line\": {\"color\": \"#2a3f5f\"}}, \"ternary\": {\"aaxis\": {\"gridcolor\": \"white\", \"linecolor\": \"white\", \"ticks\": \"\"}, \"baxis\": {\"gridcolor\": \"white\", \"linecolor\": \"white\", \"ticks\": \"\"}, \"bgcolor\": \"#E5ECF6\", \"caxis\": {\"gridcolor\": \"white\", \"linecolor\": \"white\", \"ticks\": \"\"}}, \"title\": {\"x\": 0.05}, \"xaxis\": {\"automargin\": true, \"gridcolor\": \"white\", \"linecolor\": \"white\", \"ticks\": \"\", \"title\": {\"standoff\": 15}, \"zerolinecolor\": \"white\", \"zerolinewidth\": 2}, \"yaxis\": {\"automargin\": true, \"gridcolor\": \"white\", \"linecolor\": \"white\", \"ticks\": \"\", \"title\": {\"standoff\": 15}, \"zerolinecolor\": \"white\", \"zerolinewidth\": 2}}}, \"title\": {\"text\": \"Curvas dos estados brasileiros\"}, \"updatemenus\": [{\"buttons\": [{\"args\": [null, {\"frame\": {\"duration\": 500, \"redraw\": false}, \"fromcurrent\": true, \"mode\": \"immediate\", \"transition\": {\"duration\": 500, \"easing\": \"linear\"}}], \"label\": \"&#9654;\", \"method\": \"animate\"}, {\"args\": [[null], {\"frame\": {\"duration\": 0, \"redraw\": false}, \"fromcurrent\": true, \"mode\": \"immediate\", \"transition\": {\"duration\": 0, \"easing\": \"linear\"}}], \"label\": \"&#9724;\", \"method\": \"animate\"}], \"direction\": \"left\", \"pad\": {\"r\": 10, \"t\": 70}, \"showactive\": false, \"type\": \"buttons\", \"x\": 0.1, \"xanchor\": \"right\", \"y\": 0, \"yanchor\": \"top\"}], \"xaxis\": {\"anchor\": \"y\", \"categoryarray\": [0, 1, 2, 3, 4, 5, 6, 7, 8, 9, 10, 11, 12, 13, 14, 15, 16, 17, 18, 19, 20, 21, 22, 23, 24, 25, 26, 27, 28, 29, 30, 31, 32, 33, 34, 35, 36, 37, 38, 39, 40, 41, 42, 43, 44, 45, 46, 47, 48, 49, 50, 51, 52, 53, 54, 55, 56, 57, 58, 59, 60, 61, 62, 63, 64, 65, 66, 67, 68, 69, 70, 71, 72, 73, 74, 75, 76, 77, 78, 79, 80, 81, 82, 83, 84, 85, 86, 87, 88], \"categoryorder\": \"array\", \"domain\": [0.0, 1.0], \"title\": {\"text\": \"Dias desde o caso n\\u00famero 50\"}}, \"yaxis\": {\"anchor\": \"x\", \"domain\": [0.0, 1.0], \"title\": {\"text\": \"Relativa\"}, \"type\": \"log\"}},\n",
              "                        {\"responsive\": true}\n",
              "                    ).then(function(){\n",
              "                            Plotly.addFrames('83d89f23-bb64-414a-a390-59671c75cf52', [{\"data\": [{\"hovertemplate\": \"Pa\\u00edses e territ\\u00f3rios=Brazil<br>Dias desde o caso n\\u00famero 50=%{x}<br>Relativa=%{y}<extra></extra>\", \"ids\": [0], \"legendgroup\": \"Brazil\", \"line\": {\"color\": \"#3366CC\", \"dash\": \"solid\"}, \"mode\": \"lines\", \"name\": \"Brazil\", \"showlegend\": true, \"x\": [0], \"xaxis\": \"x\", \"y\": [0.002484472049689441], \"yaxis\": \"y\", \"type\": \"scatter\"}, {\"hovertemplate\": \"Pa\\u00edses e territ\\u00f3rios=Italy<br>Dias desde o caso n\\u00famero 50=%{x}<br>Relativa=%{y}<extra></extra>\", \"ids\": [0], \"legendgroup\": \"Italy\", \"line\": {\"color\": \"#DC3912\", \"dash\": \"solid\"}, \"mode\": \"lines\", \"name\": \"Italy\", \"showlegend\": true, \"x\": [0], \"xaxis\": \"x\", \"y\": [0.013038455190625516], \"yaxis\": \"y\", \"type\": \"scatter\"}, {\"hovertemplate\": \"Pa\\u00edses e territ\\u00f3rios=Japan<br>Dias desde o caso n\\u00famero 50=%{x}<br>Relativa=%{y}<extra></extra>\", \"ids\": [0], \"legendgroup\": \"Japan\", \"line\": {\"color\": \"#FF9900\", \"dash\": \"solid\"}, \"mode\": \"lines\", \"name\": \"Japan\", \"showlegend\": true, \"x\": [0], \"xaxis\": \"x\", \"y\": [0.004100946372239748], \"yaxis\": \"y\", \"type\": \"scatter\"}, {\"hovertemplate\": \"Pa\\u00edses e territ\\u00f3rios=United_Kingdom<br>Dias desde o caso n\\u00famero 50=%{x}<br>Relativa=%{y}<extra></extra>\", \"ids\": [0], \"legendgroup\": \"United_Kingdom\", \"line\": {\"color\": \"#109618\", \"dash\": \"solid\"}, \"mode\": \"lines\", \"name\": \"United_Kingdom\", \"showlegend\": true, \"x\": [0], \"xaxis\": \"x\", \"y\": [0.007722592368261659], \"yaxis\": \"y\", \"type\": \"scatter\"}, {\"hovertemplate\": \"Pa\\u00edses e territ\\u00f3rios=United_States_of_America<br>Dias desde o caso n\\u00famero 50=%{x}<br>Relativa=%{y}<extra></extra>\", \"ids\": [0], \"legendgroup\": \"United_States_of_America\", \"line\": {\"color\": \"#990099\", \"dash\": \"solid\"}, \"mode\": \"lines\", \"name\": \"United_States_of_America\", \"showlegend\": true, \"x\": [0], \"xaxis\": \"x\", \"y\": [0.0016272643536997236], \"yaxis\": \"y\", \"type\": \"scatter\"}, {\"hovertemplate\": \"Pa\\u00edses e territ\\u00f3rios=France<br>Dias desde o caso n\\u00famero 50=%{x}<br>Relativa=%{y}<extra></extra>\", \"ids\": [0], \"legendgroup\": \"France\", \"line\": {\"color\": \"#0099C6\", \"dash\": \"solid\"}, \"mode\": \"lines\", \"name\": \"France\", \"showlegend\": true, \"x\": [0], \"xaxis\": \"x\", \"y\": [0.008536768009585144], \"yaxis\": \"y\", \"type\": \"scatter\"}, {\"hovertemplate\": \"Pa\\u00edses e territ\\u00f3rios=South_Korea<br>Dias desde o caso n\\u00famero 50=%{x}<br>Relativa=%{y}<extra></extra>\", \"ids\": [0], \"legendgroup\": \"South_Korea\", \"line\": {\"color\": \"#DD4477\", \"dash\": \"solid\"}, \"mode\": \"lines\", \"name\": \"South_Korea\", \"showlegend\": true, \"x\": [0], \"xaxis\": \"x\", \"y\": [0.015543034777540314], \"yaxis\": \"y\", \"type\": \"scatter\"}, {\"hovertemplate\": \"Pa\\u00edses e territ\\u00f3rios=Spain<br>Dias desde o caso n\\u00famero 50=%{x}<br>Relativa=%{y}<extra></extra>\", \"ids\": [0], \"legendgroup\": \"Spain\", \"line\": {\"color\": \"#66AA00\", \"dash\": \"solid\"}, \"mode\": \"lines\", \"name\": \"Spain\", \"showlegend\": true, \"x\": [0], \"xaxis\": \"x\", \"y\": [0.014184397163120567], \"yaxis\": \"y\", \"type\": \"scatter\"}, {\"hovertemplate\": \"Pa\\u00edses e territ\\u00f3rios=Argentina<br>Dias desde o caso n\\u00famero 50=%{x}<br>Relativa=%{y}<extra></extra>\", \"ids\": [0], \"legendgroup\": \"Argentina\", \"line\": {\"color\": \"#B82E2E\", \"dash\": \"solid\"}, \"mode\": \"lines\", \"name\": \"Argentina\", \"showlegend\": true, \"x\": [0], \"xaxis\": \"x\", \"y\": [0.012649649875762368], \"yaxis\": \"y\", \"type\": \"scatter\"}, {\"hovertemplate\": \"Pa\\u00edses e territ\\u00f3rios=India<br>Dias desde o caso n\\u00famero 50=%{x}<br>Relativa=%{y}<extra></extra>\", \"ids\": [0], \"legendgroup\": \"India\", \"line\": {\"color\": \"#316395\", \"dash\": \"solid\"}, \"mode\": \"lines\", \"name\": \"India\", \"showlegend\": true, \"x\": [0], \"xaxis\": \"x\", \"y\": [0.0003734129947722181], \"yaxis\": \"y\", \"type\": \"scatter\"}, {\"hovertemplate\": \"Pa\\u00edses e territ\\u00f3rios=Mexico<br>Dias desde o caso n\\u00famero 50=%{x}<br>Relativa=%{y}<extra></extra>\", \"ids\": [0], \"legendgroup\": \"Mexico\", \"line\": {\"color\": \"#3366CC\", \"dash\": \"solid\"}, \"mode\": \"lines\", \"name\": \"Mexico\", \"showlegend\": true, \"x\": [0], \"xaxis\": \"x\", \"y\": [0.01139050075220288], \"yaxis\": \"y\", \"type\": \"scatter\"}, {\"hovertemplate\": \"Pa\\u00edses e territ\\u00f3rios=Germany<br>Dias desde o caso n\\u00famero 50=%{x}<br>Relativa=%{y}<extra></extra>\", \"ids\": [0], \"legendgroup\": \"Germany\", \"line\": {\"color\": \"#DC3912\", \"dash\": \"solid\"}, \"mode\": \"lines\", \"name\": \"Germany\", \"showlegend\": true, \"x\": [0], \"xaxis\": \"x\", \"y\": [0.006907416383906932], \"yaxis\": \"y\", \"type\": \"scatter\"}, {\"hovertemplate\": \"Pa\\u00edses e territ\\u00f3rios=Czech_Republic<br>Dias desde o caso n\\u00famero 50=%{x}<br>Relativa=%{y}<extra></extra>\", \"ids\": [0], \"legendgroup\": \"Czech_Republic\", \"line\": {\"color\": \"#FF9900\", \"dash\": \"solid\"}, \"mode\": \"lines\", \"name\": \"Czech_Republic\", \"showlegend\": true, \"x\": [0], \"xaxis\": \"x\", \"y\": [0.05920496193966733], \"yaxis\": \"y\", \"type\": \"scatter\"}, {\"hovertemplate\": \"Pa\\u00edses e territ\\u00f3rios=China<br>Dias desde o caso n\\u00famero 50=%{x}<br>Relativa=%{y}<extra></extra>\", \"ids\": [0], \"legendgroup\": \"China\", \"line\": {\"color\": \"#109618\", \"dash\": \"solid\"}, \"mode\": \"lines\", \"name\": \"China\", \"showlegend\": true, \"x\": [0], \"xaxis\": \"x\", \"y\": [0.0004256854256854257], \"yaxis\": \"y\", \"type\": \"scatter\"}], \"name\": \"0\"}, {\"data\": [{\"hovertemplate\": \"Pa\\u00edses e territ\\u00f3rios=Brazil<br>Dias desde o caso n\\u00famero 50=%{x}<br>Relativa=%{y}<extra></extra>\", \"ids\": [1], \"legendgroup\": \"Brazil\", \"line\": {\"color\": \"#3366CC\", \"dash\": \"solid\"}, \"mode\": \"lines\", \"name\": \"Brazil\", \"showlegend\": true, \"x\": [1], \"xaxis\": \"x\", \"y\": [0.0036789297658862876], \"yaxis\": \"y\", \"type\": \"scatter\"}, {\"hovertemplate\": \"Pa\\u00edses e territ\\u00f3rios=Italy<br>Dias desde o caso n\\u00famero 50=%{x}<br>Relativa=%{y}<extra></extra>\", \"ids\": [1], \"legendgroup\": \"Italy\", \"line\": {\"color\": \"#DC3912\", \"dash\": \"solid\"}, \"mode\": \"lines\", \"name\": \"Italy\", \"showlegend\": true, \"x\": [1], \"xaxis\": \"x\", \"y\": [0.021785773229905925], \"yaxis\": \"y\", \"type\": \"scatter\"}, {\"hovertemplate\": \"Pa\\u00edses e territ\\u00f3rios=Japan<br>Dias desde o caso n\\u00famero 50=%{x}<br>Relativa=%{y}<extra></extra>\", \"ids\": [1], \"legendgroup\": \"Japan\", \"line\": {\"color\": \"#FF9900\", \"dash\": \"solid\"}, \"mode\": \"lines\", \"name\": \"Japan\", \"showlegend\": true, \"x\": [1], \"xaxis\": \"x\", \"y\": [0.004652996845425868], \"yaxis\": \"y\", \"type\": \"scatter\"}, {\"hovertemplate\": \"Pa\\u00edses e territ\\u00f3rios=United_Kingdom<br>Dias desde o caso n\\u00famero 50=%{x}<br>Relativa=%{y}<extra></extra>\", \"ids\": [1], \"legendgroup\": \"United_Kingdom\", \"line\": {\"color\": \"#109618\", \"dash\": \"solid\"}, \"mode\": \"lines\", \"name\": \"United_Kingdom\", \"showlegend\": true, \"x\": [1], \"xaxis\": \"x\", \"y\": [0.0128709872804361], \"yaxis\": \"y\", \"type\": \"scatter\"}, {\"hovertemplate\": \"Pa\\u00edses e territ\\u00f3rios=United_States_of_America<br>Dias desde o caso n\\u00famero 50=%{x}<br>Relativa=%{y}<extra></extra>\", \"ids\": [1], \"legendgroup\": \"United_States_of_America\", \"line\": {\"color\": \"#990099\", \"dash\": \"solid\"}, \"mode\": \"lines\", \"name\": \"United_States_of_America\", \"showlegend\": true, \"x\": [1], \"xaxis\": \"x\", \"y\": [0.0016272643536997236], \"yaxis\": \"y\", \"type\": \"scatter\"}, {\"hovertemplate\": \"Pa\\u00edses e territ\\u00f3rios=France<br>Dias desde o caso n\\u00famero 50=%{x}<br>Relativa=%{y}<extra></extra>\", \"ids\": [1], \"legendgroup\": \"France\", \"line\": {\"color\": \"#0099C6\", \"dash\": \"solid\"}, \"mode\": \"lines\", \"name\": \"France\", \"showlegend\": true, \"x\": [1], \"xaxis\": \"x\", \"y\": [0.014976785981728321], \"yaxis\": \"y\", \"type\": \"scatter\"}, {\"hovertemplate\": \"Pa\\u00edses e territ\\u00f3rios=South_Korea<br>Dias desde o caso n\\u00famero 50=%{x}<br>Relativa=%{y}<extra></extra>\", \"ids\": [1], \"legendgroup\": \"South_Korea\", \"line\": {\"color\": \"#DD4477\", \"dash\": \"solid\"}, \"mode\": \"lines\", \"name\": \"South_Korea\", \"showlegend\": true, \"x\": [1], \"xaxis\": \"x\", \"y\": [0.030114629881484358], \"yaxis\": \"y\", \"type\": \"scatter\"}, {\"hovertemplate\": \"Pa\\u00edses e territ\\u00f3rios=Spain<br>Dias desde o caso n\\u00famero 50=%{x}<br>Relativa=%{y}<extra></extra>\", \"ids\": [1], \"legendgroup\": \"Spain\", \"line\": {\"color\": \"#66AA00\", \"dash\": \"solid\"}, \"mode\": \"lines\", \"name\": \"Spain\", \"showlegend\": true, \"x\": [1], \"xaxis\": \"x\", \"y\": [0.017837954008166772], \"yaxis\": \"y\", \"type\": \"scatter\"}, {\"hovertemplate\": \"Pa\\u00edses e territ\\u00f3rios=Argentina<br>Dias desde o caso n\\u00famero 50=%{x}<br>Relativa=%{y}<extra></extra>\", \"ids\": [1], \"legendgroup\": \"Argentina\", \"line\": {\"color\": \"#B82E2E\", \"dash\": \"solid\"}, \"mode\": \"lines\", \"name\": \"Argentina\", \"showlegend\": true, \"x\": [1], \"xaxis\": \"x\", \"y\": [0.01468262932008132], \"yaxis\": \"y\", \"type\": \"scatter\"}, {\"hovertemplate\": \"Pa\\u00edses e territ\\u00f3rios=India<br>Dias desde o caso n\\u00famero 50=%{x}<br>Relativa=%{y}<extra></extra>\", \"ids\": [1], \"legendgroup\": \"India\", \"line\": {\"color\": \"#316395\", \"dash\": \"solid\"}, \"mode\": \"lines\", \"name\": \"India\", \"showlegend\": true, \"x\": [1], \"xaxis\": \"x\", \"y\": [0.0005451829723674384], \"yaxis\": \"y\", \"type\": \"scatter\"}, {\"hovertemplate\": \"Pa\\u00edses e territ\\u00f3rios=Mexico<br>Dias desde o caso n\\u00famero 50=%{x}<br>Relativa=%{y}<extra></extra>\", \"ids\": [1], \"legendgroup\": \"Mexico\", \"line\": {\"color\": \"#3366CC\", \"dash\": \"solid\"}, \"mode\": \"lines\", \"name\": \"Mexico\", \"showlegend\": true, \"x\": [1], \"xaxis\": \"x\", \"y\": [0.017623038899634645], \"yaxis\": \"y\", \"type\": \"scatter\"}, {\"hovertemplate\": \"Pa\\u00edses e territ\\u00f3rios=Germany<br>Dias desde o caso n\\u00famero 50=%{x}<br>Relativa=%{y}<extra></extra>\", \"ids\": [1], \"legendgroup\": \"Germany\", \"line\": {\"color\": \"#DC3912\", \"dash\": \"solid\"}, \"mode\": \"lines\", \"name\": \"Germany\", \"showlegend\": true, \"x\": [1], \"xaxis\": \"x\", \"y\": [0.01345128453708192], \"yaxis\": \"y\", \"type\": \"scatter\"}, {\"hovertemplate\": \"Pa\\u00edses e territ\\u00f3rios=Czech_Republic<br>Dias desde o caso n\\u00famero 50=%{x}<br>Relativa=%{y}<extra></extra>\", \"ids\": [1], \"legendgroup\": \"Czech_Republic\", \"line\": {\"color\": \"#FF9900\", \"dash\": \"solid\"}, \"mode\": \"lines\", \"name\": \"Czech_Republic\", \"showlegend\": true, \"x\": [1], \"xaxis\": \"x\", \"y\": [0.08833756225918618], \"yaxis\": \"y\", \"type\": \"scatter\"}, {\"hovertemplate\": \"Pa\\u00edses e territ\\u00f3rios=China<br>Dias desde o caso n\\u00famero 50=%{x}<br>Relativa=%{y}<extra></extra>\", \"ids\": [1], \"legendgroup\": \"China\", \"line\": {\"color\": \"#109618\", \"dash\": \"solid\"}, \"mode\": \"lines\", \"name\": \"China\", \"showlegend\": true, \"x\": [1], \"xaxis\": \"x\", \"y\": [0.0004256854256854257], \"yaxis\": \"y\", \"type\": \"scatter\"}], \"name\": \"1\"}, {\"data\": [{\"hovertemplate\": \"Pa\\u00edses e territ\\u00f3rios=Brazil<br>Dias desde o caso n\\u00famero 50=%{x}<br>Relativa=%{y}<extra></extra>\", \"ids\": [2], \"legendgroup\": \"Brazil\", \"line\": {\"color\": \"#3366CC\", \"dash\": \"solid\"}, \"mode\": \"lines\", \"name\": \"Brazil\", \"showlegend\": true, \"x\": [2], \"xaxis\": \"x\", \"y\": [0.0046822742474916385], \"yaxis\": \"y\", \"type\": \"scatter\"}, {\"hovertemplate\": \"Pa\\u00edses e territ\\u00f3rios=Italy<br>Dias desde o caso n\\u00famero 50=%{x}<br>Relativa=%{y}<extra></extra>\", \"ids\": [2], \"legendgroup\": \"Italy\", \"line\": {\"color\": \"#DC3912\", \"dash\": \"solid\"}, \"mode\": \"lines\", \"name\": \"Italy\", \"showlegend\": true, \"x\": [2], \"xaxis\": \"x\", \"y\": [0.03779501567915498], \"yaxis\": \"y\", \"type\": \"scatter\"}, {\"hovertemplate\": \"Pa\\u00edses e territ\\u00f3rios=Japan<br>Dias desde o caso n\\u00famero 50=%{x}<br>Relativa=%{y}<extra></extra>\", \"ids\": [2], \"legendgroup\": \"Japan\", \"line\": {\"color\": \"#FF9900\", \"dash\": \"solid\"}, \"mode\": \"lines\", \"name\": \"Japan\", \"showlegend\": true, \"x\": [2], \"xaxis\": \"x\", \"y\": [0.004652996845425868], \"yaxis\": \"y\", \"type\": \"scatter\"}, {\"hovertemplate\": \"Pa\\u00edses e territ\\u00f3rios=United_Kingdom<br>Dias desde o caso n\\u00famero 50=%{x}<br>Relativa=%{y}<extra></extra>\", \"ids\": [2], \"legendgroup\": \"United_Kingdom\", \"line\": {\"color\": \"#109618\", \"dash\": \"solid\"}, \"mode\": \"lines\", \"name\": \"United_Kingdom\", \"showlegend\": true, \"x\": [2], \"xaxis\": \"x\", \"y\": [0.017413688673531193], \"yaxis\": \"y\", \"type\": \"scatter\"}, {\"hovertemplate\": \"Pa\\u00edses e territ\\u00f3rios=United_States_of_America<br>Dias desde o caso n\\u00famero 50=%{x}<br>Relativa=%{y}<extra></extra>\", \"ids\": [2], \"legendgroup\": \"United_States_of_America\", \"line\": {\"color\": \"#990099\", \"dash\": \"solid\"}, \"mode\": \"lines\", \"name\": \"United_States_of_America\", \"showlegend\": true, \"x\": [2], \"xaxis\": \"x\", \"y\": [0.0018114829597789376], \"yaxis\": \"y\", \"type\": \"scatter\"}, {\"hovertemplate\": \"Pa\\u00edses e territ\\u00f3rios=France<br>Dias desde o caso n\\u00famero 50=%{x}<br>Relativa=%{y}<extra></extra>\", \"ids\": [2], \"legendgroup\": \"France\", \"line\": {\"color\": \"#0099C6\", \"dash\": \"solid\"}, \"mode\": \"lines\", \"name\": \"France\", \"showlegend\": true, \"x\": [2], \"xaxis\": \"x\", \"y\": [0.01946982177624682], \"yaxis\": \"y\", \"type\": \"scatter\"}, {\"hovertemplate\": \"Pa\\u00edses e territ\\u00f3rios=South_Korea<br>Dias desde o caso n\\u00famero 50=%{x}<br>Relativa=%{y}<extra></extra>\", \"ids\": [2], \"legendgroup\": \"South_Korea\", \"line\": {\"color\": \"#DD4477\", \"dash\": \"solid\"}, \"mode\": \"lines\", \"name\": \"South_Korea\", \"showlegend\": true, \"x\": [2], \"xaxis\": \"x\", \"y\": [0.0670293374781426], \"yaxis\": \"y\", \"type\": \"scatter\"}, {\"hovertemplate\": \"Pa\\u00edses e territ\\u00f3rios=Spain<br>Dias desde o caso n\\u00famero 50=%{x}<br>Relativa=%{y}<extra></extra>\", \"ids\": [2], \"legendgroup\": \"Spain\", \"line\": {\"color\": \"#66AA00\", \"dash\": \"solid\"}, \"mode\": \"lines\", \"name\": \"Spain\", \"showlegend\": true, \"x\": [2], \"xaxis\": \"x\", \"y\": [0.024500322372662798], \"yaxis\": \"y\", \"type\": \"scatter\"}, {\"hovertemplate\": \"Pa\\u00edses e territ\\u00f3rios=Argentina<br>Dias desde o caso n\\u00famero 50=%{x}<br>Relativa=%{y}<extra></extra>\", \"ids\": [2], \"legendgroup\": \"Argentina\", \"line\": {\"color\": \"#B82E2E\", \"dash\": \"solid\"}, \"mode\": \"lines\", \"name\": \"Argentina\", \"showlegend\": true, \"x\": [2], \"xaxis\": \"x\", \"y\": [0.01784504178902191], \"yaxis\": \"y\", \"type\": \"scatter\"}, {\"hovertemplate\": \"Pa\\u00edses e territ\\u00f3rios=India<br>Dias desde o caso n\\u00famero 50=%{x}<br>Relativa=%{y}<extra></extra>\", \"ids\": [2], \"legendgroup\": \"India\", \"line\": {\"color\": \"#316395\", \"dash\": \"solid\"}, \"mode\": \"lines\", \"name\": \"India\", \"showlegend\": true, \"x\": [2], \"xaxis\": \"x\", \"y\": [0.0005601194921583271], \"yaxis\": \"y\", \"type\": \"scatter\"}, {\"hovertemplate\": \"Pa\\u00edses e territ\\u00f3rios=Mexico<br>Dias desde o caso n\\u00famero 50=%{x}<br>Relativa=%{y}<extra></extra>\", \"ids\": [2], \"legendgroup\": \"Mexico\", \"line\": {\"color\": \"#3366CC\", \"dash\": \"solid\"}, \"mode\": \"lines\", \"name\": \"Mexico\", \"showlegend\": true, \"x\": [2], \"xaxis\": \"x\", \"y\": [0.019987105093488073], \"yaxis\": \"y\", \"type\": \"scatter\"}, {\"hovertemplate\": \"Pa\\u00edses e territ\\u00f3rios=Germany<br>Dias desde o caso n\\u00famero 50=%{x}<br>Relativa=%{y}<extra></extra>\", \"ids\": [2], \"legendgroup\": \"Germany\", \"line\": {\"color\": \"#DC3912\", \"dash\": \"solid\"}, \"mode\": \"lines\", \"name\": \"Germany\", \"showlegend\": true, \"x\": [2], \"xaxis\": \"x\", \"y\": [0.015632573921473582], \"yaxis\": \"y\", \"type\": \"scatter\"}, {\"hovertemplate\": \"Pa\\u00edses e territ\\u00f3rios=Czech_Republic<br>Dias desde o caso n\\u00famero 50=%{x}<br>Relativa=%{y}<extra></extra>\", \"ids\": [2], \"legendgroup\": \"Czech_Republic\", \"line\": {\"color\": \"#FF9900\", \"dash\": \"solid\"}, \"mode\": \"lines\", \"name\": \"Czech_Republic\", \"showlegend\": true, \"x\": [2], \"xaxis\": \"x\", \"y\": [0.10901231087303825], \"yaxis\": \"y\", \"type\": \"scatter\"}, {\"hovertemplate\": \"Pa\\u00edses e territ\\u00f3rios=China<br>Dias desde o caso n\\u00famero 50=%{x}<br>Relativa=%{y}<extra></extra>\", \"ids\": [2], \"legendgroup\": \"China\", \"line\": {\"color\": \"#109618\", \"dash\": \"solid\"}, \"mode\": \"lines\", \"name\": \"China\", \"showlegend\": true, \"x\": [2], \"xaxis\": \"x\", \"y\": [0.0004256854256854257], \"yaxis\": \"y\", \"type\": \"scatter\"}], \"name\": \"2\"}, {\"data\": [{\"hovertemplate\": \"Pa\\u00edses e territ\\u00f3rios=Brazil<br>Dias desde o caso n\\u00famero 50=%{x}<br>Relativa=%{y}<extra></extra>\", \"ids\": [3], \"legendgroup\": \"Brazil\", \"line\": {\"color\": \"#3366CC\", \"dash\": \"solid\"}, \"mode\": \"lines\", \"name\": \"Brazil\", \"showlegend\": true, \"x\": [3], \"xaxis\": \"x\", \"y\": [0.005781175346392738], \"yaxis\": \"y\", \"type\": \"scatter\"}, {\"hovertemplate\": \"Pa\\u00edses e territ\\u00f3rios=Italy<br>Dias desde o caso n\\u00famero 50=%{x}<br>Relativa=%{y}<extra></extra>\", \"ids\": [3], \"legendgroup\": \"Italy\", \"line\": {\"color\": \"#DC3912\", \"dash\": \"solid\"}, \"mode\": \"lines\", \"name\": \"Italy\", \"showlegend\": true, \"x\": [3], \"xaxis\": \"x\", \"y\": [0.05314408318204324], \"yaxis\": \"y\", \"type\": \"scatter\"}, {\"hovertemplate\": \"Pa\\u00edses e territ\\u00f3rios=Japan<br>Dias desde o caso n\\u00famero 50=%{x}<br>Relativa=%{y}<extra></extra>\", \"ids\": [3], \"legendgroup\": \"Japan\", \"line\": {\"color\": \"#FF9900\", \"dash\": \"solid\"}, \"mode\": \"lines\", \"name\": \"Japan\", \"showlegend\": true, \"x\": [3], \"xaxis\": \"x\", \"y\": [0.0052050473186119875], \"yaxis\": \"y\", \"type\": \"scatter\"}, {\"hovertemplate\": \"Pa\\u00edses e territ\\u00f3rios=United_Kingdom<br>Dias desde o caso n\\u00famero 50=%{x}<br>Relativa=%{y}<extra></extra>\", \"ids\": [3], \"legendgroup\": \"United_Kingdom\", \"line\": {\"color\": \"#109618\", \"dash\": \"solid\"}, \"mode\": \"lines\", \"name\": \"United_Kingdom\", \"showlegend\": true, \"x\": [3], \"xaxis\": \"x\", \"y\": [0.024682010902483342], \"yaxis\": \"y\", \"type\": \"scatter\"}, {\"hovertemplate\": \"Pa\\u00edses e territ\\u00f3rios=United_States_of_America<br>Dias desde o caso n\\u00famero 50=%{x}<br>Relativa=%{y}<extra></extra>\", \"ids\": [3], \"legendgroup\": \"United_States_of_America\", \"line\": {\"color\": \"#990099\", \"dash\": \"solid\"}, \"mode\": \"lines\", \"name\": \"United_States_of_America\", \"showlegend\": true, \"x\": [3], \"xaxis\": \"x\", \"y\": [0.00184218606079214], \"yaxis\": \"y\", \"type\": \"scatter\"}, {\"hovertemplate\": \"Pa\\u00edses e territ\\u00f3rios=France<br>Dias desde o caso n\\u00famero 50=%{x}<br>Relativa=%{y}<extra></extra>\", \"ids\": [3], \"legendgroup\": \"France\", \"line\": {\"color\": \"#0099C6\", \"dash\": \"solid\"}, \"mode\": \"lines\", \"name\": \"France\", \"showlegend\": true, \"x\": [3], \"xaxis\": \"x\", \"y\": [0.026658679047476413], \"yaxis\": \"y\", \"type\": \"scatter\"}, {\"hovertemplate\": \"Pa\\u00edses e territ\\u00f3rios=South_Korea<br>Dias desde o caso n\\u00famero 50=%{x}<br>Relativa=%{y}<extra></extra>\", \"ids\": [3], \"legendgroup\": \"South_Korea\", \"line\": {\"color\": \"#DD4477\", \"dash\": \"solid\"}, \"mode\": \"lines\", \"name\": \"South_Korea\", \"showlegend\": true, \"x\": [3], \"xaxis\": \"x\", \"y\": [0.11676704876627161], \"yaxis\": \"y\", \"type\": \"scatter\"}, {\"hovertemplate\": \"Pa\\u00edses e territ\\u00f3rios=Spain<br>Dias desde o caso n\\u00famero 50=%{x}<br>Relativa=%{y}<extra></extra>\", \"ids\": [3], \"legendgroup\": \"Spain\", \"line\": {\"color\": \"#66AA00\", \"dash\": \"solid\"}, \"mode\": \"lines\", \"name\": \"Spain\", \"showlegend\": true, \"x\": [3], \"xaxis\": \"x\", \"y\": [0.032452181388351604], \"yaxis\": \"y\", \"type\": \"scatter\"}, {\"hovertemplate\": \"Pa\\u00edses e territ\\u00f3rios=Argentina<br>Dias desde o caso n\\u00famero 50=%{x}<br>Relativa=%{y}<extra></extra>\", \"ids\": [3], \"legendgroup\": \"Argentina\", \"line\": {\"color\": \"#B82E2E\", \"dash\": \"solid\"}, \"mode\": \"lines\", \"name\": \"Argentina\", \"showlegend\": true, \"x\": [3], \"xaxis\": \"x\", \"y\": [0.021911000677659814], \"yaxis\": \"y\", \"type\": \"scatter\"}, {\"hovertemplate\": \"Pa\\u00edses e territ\\u00f3rios=India<br>Dias desde o caso n\\u00famero 50=%{x}<br>Relativa=%{y}<extra></extra>\", \"ids\": [3], \"legendgroup\": \"India\", \"line\": {\"color\": \"#316395\", \"dash\": \"solid\"}, \"mode\": \"lines\", \"name\": \"India\", \"showlegend\": true, \"x\": [3], \"xaxis\": \"x\", \"y\": [0.000619865571321882], \"yaxis\": \"y\", \"type\": \"scatter\"}, {\"hovertemplate\": \"Pa\\u00edses e territ\\u00f3rios=Mexico<br>Dias desde o caso n\\u00famero 50=%{x}<br>Relativa=%{y}<extra></extra>\", \"ids\": [3], \"legendgroup\": \"Mexico\", \"line\": {\"color\": \"#3366CC\", \"dash\": \"solid\"}, \"mode\": \"lines\", \"name\": \"Mexico\", \"showlegend\": true, \"x\": [3], \"xaxis\": \"x\", \"y\": [0.025359982806791317], \"yaxis\": \"y\", \"type\": \"scatter\"}, {\"hovertemplate\": \"Pa\\u00edses e territ\\u00f3rios=Germany<br>Dias desde o caso n\\u00famero 50=%{x}<br>Relativa=%{y}<extra></extra>\", \"ids\": [3], \"legendgroup\": \"Germany\", \"line\": {\"color\": \"#DC3912\", \"dash\": \"solid\"}, \"mode\": \"lines\", \"name\": \"Germany\", \"showlegend\": true, \"x\": [3], \"xaxis\": \"x\", \"y\": [0.01902569074163839], \"yaxis\": \"y\", \"type\": \"scatter\"}, {\"hovertemplate\": \"Pa\\u00edses e territ\\u00f3rios=Czech_Republic<br>Dias desde o caso n\\u00famero 50=%{x}<br>Relativa=%{y}<extra></extra>\", \"ids\": [3], \"legendgroup\": \"Czech_Republic\", \"line\": {\"color\": \"#FF9900\", \"dash\": \"solid\"}, \"mode\": \"lines\", \"name\": \"Czech_Republic\", \"showlegend\": true, \"x\": [3], \"xaxis\": \"x\", \"y\": [0.14096419509444602], \"yaxis\": \"y\", \"type\": \"scatter\"}, {\"hovertemplate\": \"Pa\\u00edses e territ\\u00f3rios=China<br>Dias desde o caso n\\u00famero 50=%{x}<br>Relativa=%{y}<extra></extra>\", \"ids\": [3], \"legendgroup\": \"China\", \"line\": {\"color\": \"#109618\", \"dash\": \"solid\"}, \"mode\": \"lines\", \"name\": \"China\", \"showlegend\": true, \"x\": [3], \"xaxis\": \"x\", \"y\": [0.0004256854256854257], \"yaxis\": \"y\", \"type\": \"scatter\"}], \"name\": \"3\"}, {\"data\": [{\"hovertemplate\": \"Pa\\u00edses e territ\\u00f3rios=Brazil<br>Dias desde o caso n\\u00famero 50=%{x}<br>Relativa=%{y}<extra></extra>\", \"ids\": [4], \"legendgroup\": \"Brazil\", \"line\": {\"color\": \"#3366CC\", \"dash\": \"solid\"}, \"mode\": \"lines\", \"name\": \"Brazil\", \"showlegend\": true, \"x\": [4], \"xaxis\": \"x\", \"y\": [0.009555661729574774], \"yaxis\": \"y\", \"type\": \"scatter\"}, {\"hovertemplate\": \"Pa\\u00edses e territ\\u00f3rios=Italy<br>Dias desde o caso n\\u00famero 50=%{x}<br>Relativa=%{y}<extra></extra>\", \"ids\": [4], \"legendgroup\": \"Italy\", \"line\": {\"color\": \"#DC3912\", \"dash\": \"solid\"}, \"mode\": \"lines\", \"name\": \"Italy\", \"showlegend\": true, \"x\": [4], \"xaxis\": \"x\", \"y\": [0.06601749463607856], \"yaxis\": \"y\", \"type\": \"scatter\"}, {\"hovertemplate\": \"Pa\\u00edses e territ\\u00f3rios=Japan<br>Dias desde o caso n\\u00famero 50=%{x}<br>Relativa=%{y}<extra></extra>\", \"ids\": [4], \"legendgroup\": \"Japan\", \"line\": {\"color\": \"#FF9900\", \"dash\": \"solid\"}, \"mode\": \"lines\", \"name\": \"Japan\", \"showlegend\": true, \"x\": [4], \"xaxis\": \"x\", \"y\": [0.006624605678233439], \"yaxis\": \"y\", \"type\": \"scatter\"}, {\"hovertemplate\": \"Pa\\u00edses e territ\\u00f3rios=United_Kingdom<br>Dias desde o caso n\\u00famero 50=%{x}<br>Relativa=%{y}<extra></extra>\", \"ids\": [4], \"legendgroup\": \"United_Kingdom\", \"line\": {\"color\": \"#109618\", \"dash\": \"solid\"}, \"mode\": \"lines\", \"name\": \"United_Kingdom\", \"showlegend\": true, \"x\": [4], \"xaxis\": \"x\", \"y\": [0.03119321623258631], \"yaxis\": \"y\", \"type\": \"scatter\"}, {\"hovertemplate\": \"Pa\\u00edses e territ\\u00f3rios=United_States_of_America<br>Dias desde o caso n\\u00famero 50=%{x}<br>Relativa=%{y}<extra></extra>\", \"ids\": [4], \"legendgroup\": \"United_States_of_America\", \"line\": {\"color\": \"#990099\", \"dash\": \"solid\"}, \"mode\": \"lines\", \"name\": \"United_States_of_America\", \"showlegend\": true, \"x\": [4], \"xaxis\": \"x\", \"y\": [0.002026404666871354], \"yaxis\": \"y\", \"type\": \"scatter\"}, {\"hovertemplate\": \"Pa\\u00edses e territ\\u00f3rios=France<br>Dias desde o caso n\\u00famero 50=%{x}<br>Relativa=%{y}<extra></extra>\", \"ids\": [4], \"legendgroup\": \"France\", \"line\": {\"color\": \"#0099C6\", \"dash\": \"solid\"}, \"mode\": \"lines\", \"name\": \"France\", \"showlegend\": true, \"x\": [4], \"xaxis\": \"x\", \"y\": [0.03175078628126404], \"yaxis\": \"y\", \"type\": \"scatter\"}, {\"hovertemplate\": \"Pa\\u00edses e territ\\u00f3rios=South_Korea<br>Dias desde o caso n\\u00famero 50=%{x}<br>Relativa=%{y}<extra></extra>\", \"ids\": [4], \"legendgroup\": \"South_Korea\", \"line\": {\"color\": \"#DD4477\", \"dash\": \"solid\"}, \"mode\": \"lines\", \"name\": \"South_Korea\", \"showlegend\": true, \"x\": [4], \"xaxis\": \"x\", \"y\": [0.1480474062560715], \"yaxis\": \"y\", \"type\": \"scatter\"}, {\"hovertemplate\": \"Pa\\u00edses e territ\\u00f3rios=Spain<br>Dias desde o caso n\\u00famero 50=%{x}<br>Relativa=%{y}<extra></extra>\", \"ids\": [4], \"legendgroup\": \"Spain\", \"line\": {\"color\": \"#66AA00\", \"dash\": \"solid\"}, \"mode\": \"lines\", \"name\": \"Spain\", \"showlegend\": true, \"x\": [4], \"xaxis\": \"x\", \"y\": [0.04298302170642596], \"yaxis\": \"y\", \"type\": \"scatter\"}, {\"hovertemplate\": \"Pa\\u00edses e territ\\u00f3rios=Argentina<br>Dias desde o caso n\\u00famero 50=%{x}<br>Relativa=%{y}<extra></extra>\", \"ids\": [4], \"legendgroup\": \"Argentina\", \"line\": {\"color\": \"#B82E2E\", \"dash\": \"solid\"}, \"mode\": \"lines\", \"name\": \"Argentina\", \"showlegend\": true, \"x\": [4], \"xaxis\": \"x\", \"y\": [0.02891348543031398], \"yaxis\": \"y\", \"type\": \"scatter\"}, {\"hovertemplate\": \"Pa\\u00edses e territ\\u00f3rios=India<br>Dias desde o caso n\\u00famero 50=%{x}<br>Relativa=%{y}<extra></extra>\", \"ids\": [4], \"legendgroup\": \"India\", \"line\": {\"color\": \"#316395\", \"dash\": \"solid\"}, \"mode\": \"lines\", \"name\": \"India\", \"showlegend\": true, \"x\": [4], \"xaxis\": \"x\", \"y\": [0.0006721433905899926], \"yaxis\": \"y\", \"type\": \"scatter\"}, {\"hovertemplate\": \"Pa\\u00edses e territ\\u00f3rios=Mexico<br>Dias desde o caso n\\u00famero 50=%{x}<br>Relativa=%{y}<extra></extra>\", \"ids\": [4], \"legendgroup\": \"Mexico\", \"line\": {\"color\": \"#3366CC\", \"dash\": \"solid\"}, \"mode\": \"lines\", \"name\": \"Mexico\", \"showlegend\": true, \"x\": [4], \"xaxis\": \"x\", \"y\": [0.03524607779926929], \"yaxis\": \"y\", \"type\": \"scatter\"}, {\"hovertemplate\": \"Pa\\u00edses e territ\\u00f3rios=Germany<br>Dias desde o caso n\\u00famero 50=%{x}<br>Relativa=%{y}<extra></extra>\", \"ids\": [4], \"legendgroup\": \"Germany\", \"line\": {\"color\": \"#DC3912\", \"dash\": \"solid\"}, \"mode\": \"lines\", \"name\": \"Germany\", \"showlegend\": true, \"x\": [4], \"xaxis\": \"x\", \"y\": [0.02375181774115366], \"yaxis\": \"y\", \"type\": \"scatter\"}, {\"hovertemplate\": \"Pa\\u00edses e territ\\u00f3rios=Czech_Republic<br>Dias desde o caso n\\u00famero 50=%{x}<br>Relativa=%{y}<extra></extra>\", \"ids\": [4], \"legendgroup\": \"Czech_Republic\", \"line\": {\"color\": \"#FF9900\", \"dash\": \"solid\"}, \"mode\": \"lines\", \"name\": \"Czech_Republic\", \"showlegend\": true, \"x\": [4], \"xaxis\": \"x\", \"y\": [0.20110891833474298], \"yaxis\": \"y\", \"type\": \"scatter\"}, {\"hovertemplate\": \"Pa\\u00edses e territ\\u00f3rios=China<br>Dias desde o caso n\\u00famero 50=%{x}<br>Relativa=%{y}<extra></extra>\", \"ids\": [4], \"legendgroup\": \"China\", \"line\": {\"color\": \"#109618\", \"dash\": \"solid\"}, \"mode\": \"lines\", \"name\": \"China\", \"showlegend\": true, \"x\": [4], \"xaxis\": \"x\", \"y\": [0.0004256854256854257], \"yaxis\": \"y\", \"type\": \"scatter\"}], \"name\": \"4\"}, {\"data\": [{\"hovertemplate\": \"Pa\\u00edses e territ\\u00f3rios=Brazil<br>Dias desde o caso n\\u00famero 50=%{x}<br>Relativa=%{y}<extra></extra>\", \"ids\": [5], \"legendgroup\": \"Brazil\", \"line\": {\"color\": \"#3366CC\", \"dash\": \"solid\"}, \"mode\": \"lines\", \"name\": \"Brazil\", \"showlegend\": true, \"x\": [5], \"xaxis\": \"x\", \"y\": [0.011180124223602485], \"yaxis\": \"y\", \"type\": \"scatter\"}, {\"hovertemplate\": \"Pa\\u00edses e territ\\u00f3rios=Italy<br>Dias desde o caso n\\u00famero 50=%{x}<br>Relativa=%{y}<extra></extra>\", \"ids\": [5], \"legendgroup\": \"Italy\", \"line\": {\"color\": \"#DC3912\", \"dash\": \"solid\"}, \"mode\": \"lines\", \"name\": \"Italy\", \"showlegend\": true, \"x\": [5], \"xaxis\": \"x\", \"y\": [0.10727842878362766], \"yaxis\": \"y\", \"type\": \"scatter\"}, {\"hovertemplate\": \"Pa\\u00edses e territ\\u00f3rios=Japan<br>Dias desde o caso n\\u00famero 50=%{x}<br>Relativa=%{y}<extra></extra>\", \"ids\": [5], \"legendgroup\": \"Japan\", \"line\": {\"color\": \"#FF9900\", \"dash\": \"solid\"}, \"mode\": \"lines\", \"name\": \"Japan\", \"showlegend\": true, \"x\": [5], \"xaxis\": \"x\", \"y\": [0.007334384858044164], \"yaxis\": \"y\", \"type\": \"scatter\"}, {\"hovertemplate\": \"Pa\\u00edses e territ\\u00f3rios=United_Kingdom<br>Dias desde o caso n\\u00famero 50=%{x}<br>Relativa=%{y}<extra></extra>\", \"ids\": [5], \"legendgroup\": \"United_Kingdom\", \"line\": {\"color\": \"#109618\", \"dash\": \"solid\"}, \"mode\": \"lines\", \"name\": \"United_Kingdom\", \"showlegend\": true, \"x\": [5], \"xaxis\": \"x\", \"y\": [0.04133858267716536], \"yaxis\": \"y\", \"type\": \"scatter\"}, {\"hovertemplate\": \"Pa\\u00edses e territ\\u00f3rios=United_States_of_America<br>Dias desde o caso n\\u00famero 50=%{x}<br>Relativa=%{y}<extra></extra>\", \"ids\": [5], \"legendgroup\": \"United_States_of_America\", \"line\": {\"color\": \"#990099\", \"dash\": \"solid\"}, \"mode\": \"lines\", \"name\": \"United_States_of_America\", \"showlegend\": true, \"x\": [5], \"xaxis\": \"x\", \"y\": [0.002118513969910961], \"yaxis\": \"y\", \"type\": \"scatter\"}, {\"hovertemplate\": \"Pa\\u00edses e territ\\u00f3rios=France<br>Dias desde o caso n\\u00famero 50=%{x}<br>Relativa=%{y}<extra></extra>\", \"ids\": [5], \"legendgroup\": \"France\", \"line\": {\"color\": \"#0099C6\", \"dash\": \"solid\"}, \"mode\": \"lines\", \"name\": \"France\", \"showlegend\": true, \"x\": [5], \"xaxis\": \"x\", \"y\": [0.04268384004792571], \"yaxis\": \"y\", \"type\": \"scatter\"}, {\"hovertemplate\": \"Pa\\u00edses e territ\\u00f3rios=South_Korea<br>Dias desde o caso n\\u00famero 50=%{x}<br>Relativa=%{y}<extra></extra>\", \"ids\": [5], \"legendgroup\": \"South_Korea\", \"line\": {\"color\": \"#DD4477\", \"dash\": \"solid\"}, \"mode\": \"lines\", \"name\": \"South_Korea\", \"showlegend\": true, \"x\": [5], \"xaxis\": \"x\", \"y\": [0.1733048377695745], \"yaxis\": \"y\", \"type\": \"scatter\"}, {\"hovertemplate\": \"Pa\\u00edses e territ\\u00f3rios=Spain<br>Dias desde o caso n\\u00famero 50=%{x}<br>Relativa=%{y}<extra></extra>\", \"ids\": [5], \"legendgroup\": \"Spain\", \"line\": {\"color\": \"#66AA00\", \"dash\": \"solid\"}, \"mode\": \"lines\", \"name\": \"Spain\", \"showlegend\": true, \"x\": [5], \"xaxis\": \"x\", \"y\": [0.05609284332688588], \"yaxis\": \"y\", \"type\": \"scatter\"}, {\"hovertemplate\": \"Pa\\u00edses e territ\\u00f3rios=Argentina<br>Dias desde o caso n\\u00famero 50=%{x}<br>Relativa=%{y}<extra></extra>\", \"ids\": [5], \"legendgroup\": \"Argentina\", \"line\": {\"color\": \"#B82E2E\", \"dash\": \"solid\"}, \"mode\": \"lines\", \"name\": \"Argentina\", \"showlegend\": true, \"x\": [5], \"xaxis\": \"x\", \"y\": [0.03569008357804382], \"yaxis\": \"y\", \"type\": \"scatter\"}, {\"hovertemplate\": \"Pa\\u00edses e territ\\u00f3rios=India<br>Dias desde o caso n\\u00famero 50=%{x}<br>Relativa=%{y}<extra></extra>\", \"ids\": [5], \"legendgroup\": \"India\", \"line\": {\"color\": \"#316395\", \"dash\": \"solid\"}, \"mode\": \"lines\", \"name\": \"India\", \"showlegend\": true, \"x\": [5], \"xaxis\": \"x\", \"y\": [0.0006945481702763256], \"yaxis\": \"y\", \"type\": \"scatter\"}, {\"hovertemplate\": \"Pa\\u00edses e territ\\u00f3rios=Mexico<br>Dias desde o caso n\\u00famero 50=%{x}<br>Relativa=%{y}<extra></extra>\", \"ids\": [5], \"legendgroup\": \"Mexico\", \"line\": {\"color\": \"#3366CC\", \"dash\": \"solid\"}, \"mode\": \"lines\", \"name\": \"Mexico\", \"showlegend\": true, \"x\": [5], \"xaxis\": \"x\", \"y\": [0.04362776703202235], \"yaxis\": \"y\", \"type\": \"scatter\"}, {\"hovertemplate\": \"Pa\\u00edses e territ\\u00f3rios=Germany<br>Dias desde o caso n\\u00famero 50=%{x}<br>Relativa=%{y}<extra></extra>\", \"ids\": [5], \"legendgroup\": \"Germany\", \"line\": {\"color\": \"#DC3912\", \"dash\": \"solid\"}, \"mode\": \"lines\", \"name\": \"Germany\", \"showlegend\": true, \"x\": [5], \"xaxis\": \"x\", \"y\": [0.031749878817256424], \"yaxis\": \"y\", \"type\": \"scatter\"}, {\"hovertemplate\": \"Pa\\u00edses e territ\\u00f3rios=Czech_Republic<br>Dias desde o caso n\\u00famero 50=%{x}<br>Relativa=%{y}<extra></extra>\", \"ids\": [5], \"legendgroup\": \"Czech_Republic\", \"line\": {\"color\": \"#FF9900\", \"dash\": \"solid\"}, \"mode\": \"lines\", \"name\": \"Czech_Republic\", \"showlegend\": true, \"x\": [5], \"xaxis\": \"x\", \"y\": [0.28004886758763275], \"yaxis\": \"y\", \"type\": \"scatter\"}, {\"hovertemplate\": \"Pa\\u00edses e territ\\u00f3rios=China<br>Dias desde o caso n\\u00famero 50=%{x}<br>Relativa=%{y}<extra></extra>\", \"ids\": [5], \"legendgroup\": \"China\", \"line\": {\"color\": \"#109618\", \"dash\": \"solid\"}, \"mode\": \"lines\", \"name\": \"China\", \"showlegend\": true, \"x\": [5], \"xaxis\": \"x\", \"y\": [0.0004256854256854257], \"yaxis\": \"y\", \"type\": \"scatter\"}], \"name\": \"5\"}, {\"data\": [{\"hovertemplate\": \"Pa\\u00edses e territ\\u00f3rios=Brazil<br>Dias desde o caso n\\u00famero 50=%{x}<br>Relativa=%{y}<extra></extra>\", \"ids\": [6], \"legendgroup\": \"Brazil\", \"line\": {\"color\": \"#3366CC\", \"dash\": \"solid\"}, \"mode\": \"lines\", \"name\": \"Brazil\", \"showlegend\": true, \"x\": [6], \"xaxis\": \"x\", \"y\": [0.013903487816531295], \"yaxis\": \"y\", \"type\": \"scatter\"}, {\"hovertemplate\": \"Pa\\u00edses e territ\\u00f3rios=Italy<br>Dias desde o caso n\\u00famero 50=%{x}<br>Relativa=%{y}<extra></extra>\", \"ids\": [6], \"legendgroup\": \"Italy\", \"line\": {\"color\": \"#DC3912\", \"dash\": \"solid\"}, \"mode\": \"lines\", \"name\": \"Italy\", \"showlegend\": true, \"x\": [6], \"xaxis\": \"x\", \"y\": [0.1465588380920944], \"yaxis\": \"y\", \"type\": \"scatter\"}, {\"hovertemplate\": \"Pa\\u00edses e territ\\u00f3rios=Japan<br>Dias desde o caso n\\u00famero 50=%{x}<br>Relativa=%{y}<extra></extra>\", \"ids\": [6], \"legendgroup\": \"Japan\", \"line\": {\"color\": \"#FF9900\", \"dash\": \"solid\"}, \"mode\": \"lines\", \"name\": \"Japan\", \"showlegend\": true, \"x\": [6], \"xaxis\": \"x\", \"y\": [0.008280757097791799], \"yaxis\": \"y\", \"type\": \"scatter\"}, {\"hovertemplate\": \"Pa\\u00edses e territ\\u00f3rios=United_Kingdom<br>Dias desde o caso n\\u00famero 50=%{x}<br>Relativa=%{y}<extra></extra>\", \"ids\": [6], \"legendgroup\": \"United_Kingdom\", \"line\": {\"color\": \"#109618\", \"dash\": \"solid\"}, \"mode\": \"lines\", \"name\": \"United_Kingdom\", \"showlegend\": true, \"x\": [6], \"xaxis\": \"x\", \"y\": [0.04860690490611751], \"yaxis\": \"y\", \"type\": \"scatter\"}, {\"hovertemplate\": \"Pa\\u00edses e territ\\u00f3rios=United_States_of_America<br>Dias desde o caso n\\u00famero 50=%{x}<br>Relativa=%{y}<extra></extra>\", \"ids\": [6], \"legendgroup\": \"United_States_of_America\", \"line\": {\"color\": \"#990099\", \"dash\": \"solid\"}, \"mode\": \"lines\", \"name\": \"United_States_of_America\", \"showlegend\": true, \"x\": [6], \"xaxis\": \"x\", \"y\": [0.0027325759901750076], \"yaxis\": \"y\", \"type\": \"scatter\"}, {\"hovertemplate\": \"Pa\\u00edses e territ\\u00f3rios=France<br>Dias desde o caso n\\u00famero 50=%{x}<br>Relativa=%{y}<extra></extra>\", \"ids\": [6], \"legendgroup\": \"France\", \"line\": {\"color\": \"#0099C6\", \"dash\": \"solid\"}, \"mode\": \"lines\", \"name\": \"France\", \"showlegend\": true, \"x\": [6], \"xaxis\": \"x\", \"y\": [0.0633518047027108], \"yaxis\": \"y\", \"type\": \"scatter\"}, {\"hovertemplate\": \"Pa\\u00edses e territ\\u00f3rios=South_Korea<br>Dias desde o caso n\\u00famero 50=%{x}<br>Relativa=%{y}<extra></extra>\", \"ids\": [6], \"legendgroup\": \"South_Korea\", \"line\": {\"color\": \"#DD4477\", \"dash\": \"solid\"}, \"mode\": \"lines\", \"name\": \"South_Korea\", \"showlegend\": true, \"x\": [6], \"xaxis\": \"x\", \"y\": [0.22265397318826502], \"yaxis\": \"y\", \"type\": \"scatter\"}, {\"hovertemplate\": \"Pa\\u00edses e territ\\u00f3rios=Spain<br>Dias desde o caso n\\u00famero 50=%{x}<br>Relativa=%{y}<extra></extra>\", \"ids\": [6], \"legendgroup\": \"Spain\", \"line\": {\"color\": \"#66AA00\", \"dash\": \"solid\"}, \"mode\": \"lines\", \"name\": \"Spain\", \"showlegend\": true, \"x\": [6], \"xaxis\": \"x\", \"y\": [0.08037825059101655], \"yaxis\": \"y\", \"type\": \"scatter\"}, {\"hovertemplate\": \"Pa\\u00edses e territ\\u00f3rios=Argentina<br>Dias desde o caso n\\u00famero 50=%{x}<br>Relativa=%{y}<extra></extra>\", \"ids\": [6], \"legendgroup\": \"Argentina\", \"line\": {\"color\": \"#B82E2E\", \"dash\": \"solid\"}, \"mode\": \"lines\", \"name\": \"Argentina\", \"showlegend\": true, \"x\": [6], \"xaxis\": \"x\", \"y\": [0.0508244861079738], \"yaxis\": \"y\", \"type\": \"scatter\"}, {\"hovertemplate\": \"Pa\\u00edses e territ\\u00f3rios=India<br>Dias desde o caso n\\u00famero 50=%{x}<br>Relativa=%{y}<extra></extra>\", \"ids\": [6], \"legendgroup\": \"India\", \"line\": {\"color\": \"#316395\", \"dash\": \"solid\"}, \"mode\": \"lines\", \"name\": \"India\", \"showlegend\": true, \"x\": [6], \"xaxis\": \"x\", \"y\": [0.0009335324869305452], \"yaxis\": \"y\", \"type\": \"scatter\"}, {\"hovertemplate\": \"Pa\\u00edses e territ\\u00f3rios=Mexico<br>Dias desde o caso n\\u00famero 50=%{x}<br>Relativa=%{y}<extra></extra>\", \"ids\": [6], \"legendgroup\": \"Mexico\", \"line\": {\"color\": \"#3366CC\", \"dash\": \"solid\"}, \"mode\": \"lines\", \"name\": \"Mexico\", \"showlegend\": true, \"x\": [6], \"xaxis\": \"x\", \"y\": [0.05394369224156458], \"yaxis\": \"y\", \"type\": \"scatter\"}, {\"hovertemplate\": \"Pa\\u00edses e territ\\u00f3rios=Germany<br>Dias desde o caso n\\u00famero 50=%{x}<br>Relativa=%{y}<extra></extra>\", \"ids\": [6], \"legendgroup\": \"Germany\", \"line\": {\"color\": \"#DC3912\", \"dash\": \"solid\"}, \"mode\": \"lines\", \"name\": \"Germany\", \"showlegend\": true, \"x\": [6], \"xaxis\": \"x\", \"y\": [0.048473097430925836], \"yaxis\": \"y\", \"type\": \"scatter\"}, {\"hovertemplate\": \"Pa\\u00edses e territ\\u00f3rios=Czech_Republic<br>Dias desde o caso n\\u00famero 50=%{x}<br>Relativa=%{y}<extra></extra>\", \"ids\": [6], \"legendgroup\": \"Czech_Republic\", \"line\": {\"color\": \"#FF9900\", \"dash\": \"solid\"}, \"mode\": \"lines\", \"name\": \"Czech_Republic\", \"showlegend\": true, \"x\": [6], \"xaxis\": \"x\", \"y\": [0.3232778874165962], \"yaxis\": \"y\", \"type\": \"scatter\"}, {\"hovertemplate\": \"Pa\\u00edses e territ\\u00f3rios=China<br>Dias desde o caso n\\u00famero 50=%{x}<br>Relativa=%{y}<extra></extra>\", \"ids\": [6], \"legendgroup\": \"China\", \"line\": {\"color\": \"#109618\", \"dash\": \"solid\"}, \"mode\": \"lines\", \"name\": \"China\", \"showlegend\": true, \"x\": [6], \"xaxis\": \"x\", \"y\": [0.0004256854256854257], \"yaxis\": \"y\", \"type\": \"scatter\"}], \"name\": \"6\"}, {\"data\": [{\"hovertemplate\": \"Pa\\u00edses e territ\\u00f3rios=Brazil<br>Dias desde o caso n\\u00famero 50=%{x}<br>Relativa=%{y}<extra></extra>\", \"ids\": [7], \"legendgroup\": \"Brazil\", \"line\": {\"color\": \"#3366CC\", \"dash\": \"solid\"}, \"mode\": \"lines\", \"name\": \"Brazil\", \"showlegend\": true, \"x\": [7], \"xaxis\": \"x\", \"y\": [0.020449116101290014], \"yaxis\": \"y\", \"type\": \"scatter\"}, {\"hovertemplate\": \"Pa\\u00edses e territ\\u00f3rios=Italy<br>Dias desde o caso n\\u00famero 50=%{x}<br>Relativa=%{y}<extra></extra>\", \"ids\": [7], \"legendgroup\": \"Italy\", \"line\": {\"color\": \"#DC3912\", \"dash\": \"solid\"}, \"mode\": \"lines\", \"name\": \"Italy\", \"showlegend\": true, \"x\": [7], \"xaxis\": \"x\", \"y\": [0.18616933487374154], \"yaxis\": \"y\", \"type\": \"scatter\"}, {\"hovertemplate\": \"Pa\\u00edses e territ\\u00f3rios=Japan<br>Dias desde o caso n\\u00famero 50=%{x}<br>Relativa=%{y}<extra></extra>\", \"ids\": [7], \"legendgroup\": \"Japan\", \"line\": {\"color\": \"#FF9900\", \"dash\": \"solid\"}, \"mode\": \"lines\", \"name\": \"Japan\", \"showlegend\": true, \"x\": [7], \"xaxis\": \"x\", \"y\": [0.010410094637223975], \"yaxis\": \"y\", \"type\": \"scatter\"}, {\"hovertemplate\": \"Pa\\u00edses e territ\\u00f3rios=United_Kingdom<br>Dias desde o caso n\\u00famero 50=%{x}<br>Relativa=%{y}<extra></extra>\", \"ids\": [7], \"legendgroup\": \"United_Kingdom\", \"line\": {\"color\": \"#109618\", \"dash\": \"solid\"}, \"mode\": \"lines\", \"name\": \"United_Kingdom\", \"showlegend\": true, \"x\": [7], \"xaxis\": \"x\", \"y\": [0.056480920654149], \"yaxis\": \"y\", \"type\": \"scatter\"}, {\"hovertemplate\": \"Pa\\u00edses e territ\\u00f3rios=United_States_of_America<br>Dias desde o caso n\\u00famero 50=%{x}<br>Relativa=%{y}<extra></extra>\", \"ids\": [7], \"legendgroup\": \"United_States_of_America\", \"line\": {\"color\": \"#990099\", \"dash\": \"solid\"}, \"mode\": \"lines\", \"name\": \"United_States_of_America\", \"showlegend\": true, \"x\": [7], \"xaxis\": \"x\", \"y\": [0.0031624194043598404], \"yaxis\": \"y\", \"type\": \"scatter\"}, {\"hovertemplate\": \"Pa\\u00edses e territ\\u00f3rios=France<br>Dias desde o caso n\\u00famero 50=%{x}<br>Relativa=%{y}<extra></extra>\", \"ids\": [7], \"legendgroup\": \"France\", \"line\": {\"color\": \"#0099C6\", \"dash\": \"solid\"}, \"mode\": \"lines\", \"name\": \"France\", \"showlegend\": true, \"x\": [7], \"xaxis\": \"x\", \"y\": [0.0918076980679946], \"yaxis\": \"y\", \"type\": \"scatter\"}, {\"hovertemplate\": \"Pa\\u00edses e territ\\u00f3rios=South_Korea<br>Dias desde o caso n\\u00famero 50=%{x}<br>Relativa=%{y}<extra></extra>\", \"ids\": [7], \"legendgroup\": \"South_Korea\", \"line\": {\"color\": \"#DD4477\", \"dash\": \"solid\"}, \"mode\": \"lines\", \"name\": \"South_Korea\", \"showlegend\": true, \"x\": [7], \"xaxis\": \"x\", \"y\": [0.30988925587721], \"yaxis\": \"y\", \"type\": \"scatter\"}, {\"hovertemplate\": \"Pa\\u00edses e territ\\u00f3rios=Spain<br>Dias desde o caso n\\u00famero 50=%{x}<br>Relativa=%{y}<extra></extra>\", \"ids\": [7], \"legendgroup\": \"Spain\", \"line\": {\"color\": \"#66AA00\", \"dash\": \"solid\"}, \"mode\": \"lines\", \"name\": \"Spain\", \"showlegend\": true, \"x\": [7], \"xaxis\": \"x\", \"y\": [0.09241349666881582], \"yaxis\": \"y\", \"type\": \"scatter\"}, {\"hovertemplate\": \"Pa\\u00edses e territ\\u00f3rios=Argentina<br>Dias desde o caso n\\u00famero 50=%{x}<br>Relativa=%{y}<extra></extra>\", \"ids\": [7], \"legendgroup\": \"Argentina\", \"line\": {\"color\": \"#B82E2E\", \"dash\": \"solid\"}, \"mode\": \"lines\", \"name\": \"Argentina\", \"showlegend\": true, \"x\": [7], \"xaxis\": \"x\", \"y\": [0.060085836909871244], \"yaxis\": \"y\", \"type\": \"scatter\"}, {\"hovertemplate\": \"Pa\\u00edses e territ\\u00f3rios=India<br>Dias desde o caso n\\u00famero 50=%{x}<br>Relativa=%{y}<extra></extra>\", \"ids\": [7], \"legendgroup\": \"India\", \"line\": {\"color\": \"#316395\", \"dash\": \"solid\"}, \"mode\": \"lines\", \"name\": \"India\", \"showlegend\": true, \"x\": [7], \"xaxis\": \"x\", \"y\": [0.0010231516056758774], \"yaxis\": \"y\", \"type\": \"scatter\"}, {\"hovertemplate\": \"Pa\\u00edses e territ\\u00f3rios=Mexico<br>Dias desde o caso n\\u00famero 50=%{x}<br>Relativa=%{y}<extra></extra>\", \"ids\": [7], \"legendgroup\": \"Mexico\", \"line\": {\"color\": \"#3366CC\", \"dash\": \"solid\"}, \"mode\": \"lines\", \"name\": \"Mexico\", \"showlegend\": true, \"x\": [7], \"xaxis\": \"x\", \"y\": [0.06791317429615303], \"yaxis\": \"y\", \"type\": \"scatter\"}, {\"hovertemplate\": \"Pa\\u00edses e territ\\u00f3rios=Germany<br>Dias desde o caso n\\u00famero 50=%{x}<br>Relativa=%{y}<extra></extra>\", \"ids\": [7], \"legendgroup\": \"Germany\", \"line\": {\"color\": \"#DC3912\", \"dash\": \"solid\"}, \"mode\": \"lines\", \"name\": \"Germany\", \"showlegend\": true, \"x\": [7], \"xaxis\": \"x\", \"y\": [0.08288899660688318], \"yaxis\": \"y\", \"type\": \"scatter\"}, {\"hovertemplate\": \"Pa\\u00edses e territ\\u00f3rios=Czech_Republic<br>Dias desde o caso n\\u00famero 50=%{x}<br>Relativa=%{y}<extra></extra>\", \"ids\": [7], \"legendgroup\": \"Czech_Republic\", \"line\": {\"color\": \"#FF9900\", \"dash\": \"solid\"}, \"mode\": \"lines\", \"name\": \"Czech_Republic\", \"showlegend\": true, \"x\": [7], \"xaxis\": \"x\", \"y\": [0.4078564044732638], \"yaxis\": \"y\", \"type\": \"scatter\"}, {\"hovertemplate\": \"Pa\\u00edses e territ\\u00f3rios=China<br>Dias desde o caso n\\u00famero 50=%{x}<br>Relativa=%{y}<extra></extra>\", \"ids\": [7], \"legendgroup\": \"China\", \"line\": {\"color\": \"#109618\", \"dash\": \"solid\"}, \"mode\": \"lines\", \"name\": \"China\", \"showlegend\": true, \"x\": [7], \"xaxis\": \"x\", \"y\": [0.0004256854256854257], \"yaxis\": \"y\", \"type\": \"scatter\"}], \"name\": \"7\"}, {\"data\": [{\"hovertemplate\": \"Pa\\u00edses e territ\\u00f3rios=Brazil<br>Dias desde o caso n\\u00famero 50=%{x}<br>Relativa=%{y}<extra></extra>\", \"ids\": [8], \"legendgroup\": \"Brazil\", \"line\": {\"color\": \"#3366CC\", \"dash\": \"solid\"}, \"mode\": \"lines\", \"name\": \"Brazil\", \"showlegend\": true, \"x\": [8], \"xaxis\": \"x\", \"y\": [0.02967032967032967], \"yaxis\": \"y\", \"type\": \"scatter\"}, {\"hovertemplate\": \"Pa\\u00edses e territ\\u00f3rios=Italy<br>Dias desde o caso n\\u00famero 50=%{x}<br>Relativa=%{y}<extra></extra>\", \"ids\": [8], \"legendgroup\": \"Italy\", \"line\": {\"color\": \"#DC3912\", \"dash\": \"solid\"}, \"mode\": \"lines\", \"name\": \"Italy\", \"showlegend\": true, \"x\": [8], \"xaxis\": \"x\", \"y\": [0.27875887110084174], \"yaxis\": \"y\", \"type\": \"scatter\"}, {\"hovertemplate\": \"Pa\\u00edses e territ\\u00f3rios=Japan<br>Dias desde o caso n\\u00famero 50=%{x}<br>Relativa=%{y}<extra></extra>\", \"ids\": [8], \"legendgroup\": \"Japan\", \"line\": {\"color\": \"#FF9900\", \"dash\": \"solid\"}, \"mode\": \"lines\", \"name\": \"Japan\", \"showlegend\": true, \"x\": [8], \"xaxis\": \"x\", \"y\": [0.011356466876971609], \"yaxis\": \"y\", \"type\": \"scatter\"}, {\"hovertemplate\": \"Pa\\u00edses e territ\\u00f3rios=United_Kingdom<br>Dias desde o caso n\\u00famero 50=%{x}<br>Relativa=%{y}<extra></extra>\", \"ids\": [8], \"legendgroup\": \"United_Kingdom\", \"line\": {\"color\": \"#109618\", \"dash\": \"solid\"}, \"mode\": \"lines\", \"name\": \"United_Kingdom\", \"showlegend\": true, \"x\": [8], \"xaxis\": \"x\", \"y\": [0.06904906117504543], \"yaxis\": \"y\", \"type\": \"scatter\"}, {\"hovertemplate\": \"Pa\\u00edses e territ\\u00f3rios=United_States_of_America<br>Dias desde o caso n\\u00famero 50=%{x}<br>Relativa=%{y}<extra></extra>\", \"ids\": [8], \"legendgroup\": \"United_States_of_America\", \"line\": {\"color\": \"#990099\", \"dash\": \"solid\"}, \"mode\": \"lines\", \"name\": \"United_States_of_America\", \"showlegend\": true, \"x\": [8], \"xaxis\": \"x\", \"y\": [0.003837887626650292], \"yaxis\": \"y\", \"type\": \"scatter\"}, {\"hovertemplate\": \"Pa\\u00edses e territ\\u00f3rios=France<br>Dias desde o caso n\\u00famero 50=%{x}<br>Relativa=%{y}<extra></extra>\", \"ids\": [8], \"legendgroup\": \"France\", \"line\": {\"color\": \"#0099C6\", \"dash\": \"solid\"}, \"mode\": \"lines\", \"name\": \"France\", \"showlegend\": true, \"x\": [8], \"xaxis\": \"x\", \"y\": [0.10723378762917478], \"yaxis\": \"y\", \"type\": \"scatter\"}, {\"hovertemplate\": \"Pa\\u00edses e territ\\u00f3rios=South_Korea<br>Dias desde o caso n\\u00famero 50=%{x}<br>Relativa=%{y}<extra></extra>\", \"ids\": [8], \"legendgroup\": \"South_Korea\", \"line\": {\"color\": \"#DD4477\", \"dash\": \"solid\"}, \"mode\": \"lines\", \"name\": \"South_Korea\", \"showlegend\": true, \"x\": [8], \"xaxis\": \"x\", \"y\": [0.39285020400233145], \"yaxis\": \"y\", \"type\": \"scatter\"}, {\"hovertemplate\": \"Pa\\u00edses e territ\\u00f3rios=Spain<br>Dias desde o caso n\\u00famero 50=%{x}<br>Relativa=%{y}<extra></extra>\", \"ids\": [8], \"legendgroup\": \"Spain\", \"line\": {\"color\": \"#66AA00\", \"dash\": \"solid\"}, \"mode\": \"lines\", \"name\": \"Spain\", \"showlegend\": true, \"x\": [8], \"xaxis\": \"x\", \"y\": [0.12658499892542446], \"yaxis\": \"y\", \"type\": \"scatter\"}, {\"hovertemplate\": \"Pa\\u00edses e territ\\u00f3rios=Argentina<br>Dias desde o caso n\\u00famero 50=%{x}<br>Relativa=%{y}<extra></extra>\", \"ids\": [8], \"legendgroup\": \"Argentina\", \"line\": {\"color\": \"#B82E2E\", \"dash\": \"solid\"}, \"mode\": \"lines\", \"name\": \"Argentina\", \"showlegend\": true, \"x\": [8], \"xaxis\": \"x\", \"y\": [0.06799186808222273], \"yaxis\": \"y\", \"type\": \"scatter\"}, {\"hovertemplate\": \"Pa\\u00edses e territ\\u00f3rios=India<br>Dias desde o caso n\\u00famero 50=%{x}<br>Relativa=%{y}<extra></extra>\", \"ids\": [8], \"legendgroup\": \"India\", \"line\": {\"color\": \"#316395\", \"dash\": \"solid\"}, \"mode\": \"lines\", \"name\": \"India\", \"showlegend\": true, \"x\": [8], \"xaxis\": \"x\", \"y\": [0.0012322628827483196], \"yaxis\": \"y\", \"type\": \"scatter\"}, {\"hovertemplate\": \"Pa\\u00edses e territ\\u00f3rios=Mexico<br>Dias desde o caso n\\u00famero 50=%{x}<br>Relativa=%{y}<extra></extra>\", \"ids\": [8], \"legendgroup\": \"Mexico\", \"line\": {\"color\": \"#3366CC\", \"dash\": \"solid\"}, \"mode\": \"lines\", \"name\": \"Mexico\", \"showlegend\": true, \"x\": [8], \"xaxis\": \"x\", \"y\": [0.07887384483129165], \"yaxis\": \"y\", \"type\": \"scatter\"}, {\"hovertemplate\": \"Pa\\u00edses e territ\\u00f3rios=Germany<br>Dias desde o caso n\\u00famero 50=%{x}<br>Relativa=%{y}<extra></extra>\", \"ids\": [8], \"legendgroup\": \"Germany\", \"line\": {\"color\": \"#DC3912\", \"dash\": \"solid\"}, \"mode\": \"lines\", \"name\": \"Germany\", \"showlegend\": true, \"x\": [8], \"xaxis\": \"x\", \"y\": [0.10264178380998545], \"yaxis\": \"y\", \"type\": \"scatter\"}, {\"hovertemplate\": \"Pa\\u00edses e territ\\u00f3rios=Czech_Republic<br>Dias desde o caso n\\u00famero 50=%{x}<br>Relativa=%{y}<extra></extra>\", \"ids\": [8], \"legendgroup\": \"Czech_Republic\", \"line\": {\"color\": \"#FF9900\", \"dash\": \"solid\"}, \"mode\": \"lines\", \"name\": \"Czech_Republic\", \"showlegend\": true, \"x\": [8], \"xaxis\": \"x\", \"y\": [0.49055539892867217], \"yaxis\": \"y\", \"type\": \"scatter\"}, {\"hovertemplate\": \"Pa\\u00edses e territ\\u00f3rios=China<br>Dias desde o caso n\\u00famero 50=%{x}<br>Relativa=%{y}<extra></extra>\", \"ids\": [8], \"legendgroup\": \"China\", \"line\": {\"color\": \"#109618\", \"dash\": \"solid\"}, \"mode\": \"lines\", \"name\": \"China\", \"showlegend\": true, \"x\": [8], \"xaxis\": \"x\", \"y\": [0.0004256854256854257], \"yaxis\": \"y\", \"type\": \"scatter\"}], \"name\": \"8\"}, {\"data\": [{\"hovertemplate\": \"Pa\\u00edses e territ\\u00f3rios=Brazil<br>Dias desde o caso n\\u00famero 50=%{x}<br>Relativa=%{y}<extra></extra>\", \"ids\": [9], \"legendgroup\": \"Brazil\", \"line\": {\"color\": \"#3366CC\", \"dash\": \"solid\"}, \"mode\": \"lines\", \"name\": \"Brazil\", \"showlegend\": true, \"x\": [9], \"xaxis\": \"x\", \"y\": [0.04319159101767797], \"yaxis\": \"y\", \"type\": \"scatter\"}, {\"hovertemplate\": \"Pa\\u00edses e territ\\u00f3rios=Italy<br>Dias desde o caso n\\u00famero 50=%{x}<br>Relativa=%{y}<extra></extra>\", \"ids\": [9], \"legendgroup\": \"Italy\", \"line\": {\"color\": \"#DC3912\", \"dash\": \"solid\"}, \"mode\": \"lines\", \"name\": \"Italy\", \"showlegend\": true, \"x\": [9], \"xaxis\": \"x\", \"y\": [0.3028552566430104], \"yaxis\": \"y\", \"type\": \"scatter\"}, {\"hovertemplate\": \"Pa\\u00edses e territ\\u00f3rios=Japan<br>Dias desde o caso n\\u00famero 50=%{x}<br>Relativa=%{y}<extra></extra>\", \"ids\": [9], \"legendgroup\": \"Japan\", \"line\": {\"color\": \"#FF9900\", \"dash\": \"solid\"}, \"mode\": \"lines\", \"name\": \"Japan\", \"showlegend\": true, \"x\": [9], \"xaxis\": \"x\", \"y\": [0.011356466876971609], \"yaxis\": \"y\", \"type\": \"scatter\"}, {\"hovertemplate\": \"Pa\\u00edses e territ\\u00f3rios=United_Kingdom<br>Dias desde o caso n\\u00famero 50=%{x}<br>Relativa=%{y}<extra></extra>\", \"ids\": [9], \"legendgroup\": \"United_Kingdom\", \"line\": {\"color\": \"#109618\", \"dash\": \"solid\"}, \"mode\": \"lines\", \"name\": \"United_Kingdom\", \"showlegend\": true, \"x\": [9], \"xaxis\": \"x\", \"y\": [0.08933979406420352], \"yaxis\": \"y\", \"type\": \"scatter\"}, {\"hovertemplate\": \"Pa\\u00edses e territ\\u00f3rios=United_States_of_America<br>Dias desde o caso n\\u00famero 50=%{x}<br>Relativa=%{y}<extra></extra>\", \"ids\": [9], \"legendgroup\": \"United_States_of_America\", \"line\": {\"color\": \"#990099\", \"dash\": \"solid\"}, \"mode\": \"lines\", \"name\": \"United_States_of_America\", \"showlegend\": true, \"x\": [9], \"xaxis\": \"x\", \"y\": [0.004881793061099171], \"yaxis\": \"y\", \"type\": \"scatter\"}, {\"hovertemplate\": \"Pa\\u00edses e territ\\u00f3rios=France<br>Dias desde o caso n\\u00famero 50=%{x}<br>Relativa=%{y}<extra></extra>\", \"ids\": [9], \"legendgroup\": \"France\", \"line\": {\"color\": \"#0099C6\", \"dash\": \"solid\"}, \"mode\": \"lines\", \"name\": \"France\", \"showlegend\": true, \"x\": [9], \"xaxis\": \"x\", \"y\": [0.1686386101542609], \"yaxis\": \"y\", \"type\": \"scatter\"}, {\"hovertemplate\": \"Pa\\u00edses e territ\\u00f3rios=South_Korea<br>Dias desde o caso n\\u00famero 50=%{x}<br>Relativa=%{y}<extra></extra>\", \"ids\": [9], \"legendgroup\": \"South_Korea\", \"line\": {\"color\": \"#DD4477\", \"dash\": \"solid\"}, \"mode\": \"lines\", \"name\": \"South_Korea\", \"showlegend\": true, \"x\": [9], \"xaxis\": \"x\", \"y\": [0.5694579366621333], \"yaxis\": \"y\", \"type\": \"scatter\"}, {\"hovertemplate\": \"Pa\\u00edses e territ\\u00f3rios=Spain<br>Dias desde o caso n\\u00famero 50=%{x}<br>Relativa=%{y}<extra></extra>\", \"ids\": [9], \"legendgroup\": \"Spain\", \"line\": {\"color\": \"#66AA00\", \"dash\": \"solid\"}, \"mode\": \"lines\", \"name\": \"Spain\", \"showlegend\": true, \"x\": [9], \"xaxis\": \"x\", \"y\": [0.2587577906726843], \"yaxis\": \"y\", \"type\": \"scatter\"}, {\"hovertemplate\": \"Pa\\u00edses e territ\\u00f3rios=Argentina<br>Dias desde o caso n\\u00famero 50=%{x}<br>Relativa=%{y}<extra></extra>\", \"ids\": [9], \"legendgroup\": \"Argentina\", \"line\": {\"color\": \"#B82E2E\", \"dash\": \"solid\"}, \"mode\": \"lines\", \"name\": \"Argentina\", \"showlegend\": true, \"x\": [9], \"xaxis\": \"x\", \"y\": [0.08741811610571493], \"yaxis\": \"y\", \"type\": \"scatter\"}, {\"hovertemplate\": \"Pa\\u00edses e territ\\u00f3rios=India<br>Dias desde o caso n\\u00famero 50=%{x}<br>Relativa=%{y}<extra></extra>\", \"ids\": [9], \"legendgroup\": \"India\", \"line\": {\"color\": \"#316395\", \"dash\": \"solid\"}, \"mode\": \"lines\", \"name\": \"India\", \"showlegend\": true, \"x\": [9], \"xaxis\": \"x\", \"y\": [0.001426437640029873], \"yaxis\": \"y\", \"type\": \"scatter\"}, {\"hovertemplate\": \"Pa\\u00edses e territ\\u00f3rios=Mexico<br>Dias desde o caso n\\u00famero 50=%{x}<br>Relativa=%{y}<extra></extra>\", \"ids\": [9], \"legendgroup\": \"Mexico\", \"line\": {\"color\": \"#3366CC\", \"dash\": \"solid\"}, \"mode\": \"lines\", \"name\": \"Mexico\", \"showlegend\": true, \"x\": [9], \"xaxis\": \"x\", \"y\": [0.08704061895551257], \"yaxis\": \"y\", \"type\": \"scatter\"}, {\"hovertemplate\": \"Pa\\u00edses e territ\\u00f3rios=Germany<br>Dias desde o caso n\\u00famero 50=%{x}<br>Relativa=%{y}<extra></extra>\", \"ids\": [9], \"legendgroup\": \"Germany\", \"line\": {\"color\": \"#DC3912\", \"dash\": \"solid\"}, \"mode\": \"lines\", \"name\": \"Germany\", \"showlegend\": true, \"x\": [9], \"xaxis\": \"x\", \"y\": [0.10930683470673776], \"yaxis\": \"y\", \"type\": \"scatter\"}, {\"hovertemplate\": \"Pa\\u00edses e territ\\u00f3rios=Czech_Republic<br>Dias desde o caso n\\u00famero 50=%{x}<br>Relativa=%{y}<extra></extra>\", \"ids\": [9], \"legendgroup\": \"Czech_Republic\", \"line\": {\"color\": \"#FF9900\", \"dash\": \"solid\"}, \"mode\": \"lines\", \"name\": \"Czech_Republic\", \"showlegend\": true, \"x\": [9], \"xaxis\": \"x\", \"y\": [0.6521943426369703], \"yaxis\": \"y\", \"type\": \"scatter\"}, {\"hovertemplate\": \"Pa\\u00edses e territ\\u00f3rios=China<br>Dias desde o caso n\\u00famero 50=%{x}<br>Relativa=%{y}<extra></extra>\", \"ids\": [9], \"legendgroup\": \"China\", \"line\": {\"color\": \"#109618\", \"dash\": \"solid\"}, \"mode\": \"lines\", \"name\": \"China\", \"showlegend\": true, \"x\": [9], \"xaxis\": \"x\", \"y\": [0.0004256854256854257], \"yaxis\": \"y\", \"type\": \"scatter\"}], \"name\": \"9\"}, {\"data\": [{\"hovertemplate\": \"Pa\\u00edses e territ\\u00f3rios=Brazil<br>Dias desde o caso n\\u00famero 50=%{x}<br>Relativa=%{y}<extra></extra>\", \"ids\": [10], \"legendgroup\": \"Brazil\", \"line\": {\"color\": \"#3366CC\", \"dash\": \"solid\"}, \"mode\": \"lines\", \"name\": \"Brazil\", \"showlegend\": true, \"x\": [10], \"xaxis\": \"x\", \"y\": [0.05389393215480172], \"yaxis\": \"y\", \"type\": \"scatter\"}, {\"hovertemplate\": \"Pa\\u00edses e territ\\u00f3rios=Italy<br>Dias desde o caso n\\u00famero 50=%{x}<br>Relativa=%{y}<extra></extra>\", \"ids\": [10], \"legendgroup\": \"Italy\", \"line\": {\"color\": \"#DC3912\", \"dash\": \"solid\"}, \"mode\": \"lines\", \"name\": \"Italy\", \"showlegend\": true, \"x\": [10], \"xaxis\": \"x\", \"y\": [0.4129394289486714], \"yaxis\": \"y\", \"type\": \"scatter\"}, {\"hovertemplate\": \"Pa\\u00edses e territ\\u00f3rios=Japan<br>Dias desde o caso n\\u00famero 50=%{x}<br>Relativa=%{y}<extra></extra>\", \"ids\": [10], \"legendgroup\": \"Japan\", \"line\": {\"color\": \"#FF9900\", \"dash\": \"solid\"}, \"mode\": \"lines\", \"name\": \"Japan\", \"showlegend\": true, \"x\": [10], \"xaxis\": \"x\", \"y\": [0.012933753943217666], \"yaxis\": \"y\", \"type\": \"scatter\"}, {\"hovertemplate\": \"Pa\\u00edses e territ\\u00f3rios=United_Kingdom<br>Dias desde o caso n\\u00famero 50=%{x}<br>Relativa=%{y}<extra></extra>\", \"ids\": [10], \"legendgroup\": \"United_Kingdom\", \"line\": {\"color\": \"#109618\", \"dash\": \"solid\"}, \"mode\": \"lines\", \"name\": \"United_Kingdom\", \"showlegend\": true, \"x\": [10], \"xaxis\": \"x\", \"y\": [0.10705632949727438], \"yaxis\": \"y\", \"type\": \"scatter\"}, {\"hovertemplate\": \"Pa\\u00edses e territ\\u00f3rios=United_States_of_America<br>Dias desde o caso n\\u00famero 50=%{x}<br>Relativa=%{y}<extra></extra>\", \"ids\": [10], \"legendgroup\": \"United_States_of_America\", \"line\": {\"color\": \"#990099\", \"dash\": \"solid\"}, \"mode\": \"lines\", \"name\": \"United_States_of_America\", \"showlegend\": true, \"x\": [10], \"xaxis\": \"x\", \"y\": [0.007153822536076143], \"yaxis\": \"y\", \"type\": \"scatter\"}, {\"hovertemplate\": \"Pa\\u00edses e territ\\u00f3rios=France<br>Dias desde o caso n\\u00famero 50=%{x}<br>Relativa=%{y}<extra></extra>\", \"ids\": [10], \"legendgroup\": \"France\", \"line\": {\"color\": \"#0099C6\", \"dash\": \"solid\"}, \"mode\": \"lines\", \"name\": \"France\", \"showlegend\": true, \"x\": [10], \"xaxis\": \"x\", \"y\": [0.2114722180620039], \"yaxis\": \"y\", \"type\": \"scatter\"}, {\"hovertemplate\": \"Pa\\u00edses e territ\\u00f3rios=South_Korea<br>Dias desde o caso n\\u00famero 50=%{x}<br>Relativa=%{y}<extra></extra>\", \"ids\": [10], \"legendgroup\": \"South_Korea\", \"line\": {\"color\": \"#DD4477\", \"dash\": \"solid\"}, \"mode\": \"lines\", \"name\": \"South_Korea\", \"showlegend\": true, \"x\": [10], \"xaxis\": \"x\", \"y\": [0.6850592578200894], \"yaxis\": \"y\", \"type\": \"scatter\"}, {\"hovertemplate\": \"Pa\\u00edses e territ\\u00f3rios=Spain<br>Dias desde o caso n\\u00famero 50=%{x}<br>Relativa=%{y}<extra></extra>\", \"ids\": [10], \"legendgroup\": \"Spain\", \"line\": {\"color\": \"#66AA00\", \"dash\": \"solid\"}, \"mode\": \"lines\", \"name\": \"Spain\", \"showlegend\": true, \"x\": [10], \"xaxis\": \"x\", \"y\": [0.35224586288416077], \"yaxis\": \"y\", \"type\": \"scatter\"}, {\"hovertemplate\": \"Pa\\u00edses e territ\\u00f3rios=Argentina<br>Dias desde o caso n\\u00famero 50=%{x}<br>Relativa=%{y}<extra></extra>\", \"ids\": [10], \"legendgroup\": \"Argentina\", \"line\": {\"color\": \"#B82E2E\", \"dash\": \"solid\"}, \"mode\": \"lines\", \"name\": \"Argentina\", \"showlegend\": true, \"x\": [10], \"xaxis\": \"x\", \"y\": [0.11339507567201265], \"yaxis\": \"y\", \"type\": \"scatter\"}, {\"hovertemplate\": \"Pa\\u00edses e territ\\u00f3rios=India<br>Dias desde o caso n\\u00famero 50=%{x}<br>Relativa=%{y}<extra></extra>\", \"ids\": [10], \"legendgroup\": \"India\", \"line\": {\"color\": \"#316395\", \"dash\": \"solid\"}, \"mode\": \"lines\", \"name\": \"India\", \"showlegend\": true, \"x\": [10], \"xaxis\": \"x\", \"y\": [0.0017251680358476476], \"yaxis\": \"y\", \"type\": \"scatter\"}, {\"hovertemplate\": \"Pa\\u00edses e territ\\u00f3rios=Mexico<br>Dias desde o caso n\\u00famero 50=%{x}<br>Relativa=%{y}<extra></extra>\", \"ids\": [10], \"legendgroup\": \"Mexico\", \"line\": {\"color\": \"#3366CC\", \"dash\": \"solid\"}, \"mode\": \"lines\", \"name\": \"Mexico\", \"showlegend\": true, \"x\": [10], \"xaxis\": \"x\", \"y\": [0.10208467655276166], \"yaxis\": \"y\", \"type\": \"scatter\"}, {\"hovertemplate\": \"Pa\\u00edses e territ\\u00f3rios=Germany<br>Dias desde o caso n\\u00famero 50=%{x}<br>Relativa=%{y}<extra></extra>\", \"ids\": [10], \"legendgroup\": \"Germany\", \"line\": {\"color\": \"#DC3912\", \"dash\": \"solid\"}, \"mode\": \"lines\", \"name\": \"Germany\", \"showlegend\": true, \"x\": [10], \"xaxis\": \"x\", \"y\": [0.1380271449345613], \"yaxis\": \"y\", \"type\": \"scatter\"}, {\"hovertemplate\": \"Pa\\u00edses e territ\\u00f3rios=Czech_Republic<br>Dias desde o caso n\\u00famero 50=%{x}<br>Relativa=%{y}<extra></extra>\", \"ids\": [10], \"legendgroup\": \"Czech_Republic\", \"line\": {\"color\": \"#FF9900\", \"dash\": \"solid\"}, \"mode\": \"lines\", \"name\": \"Czech_Republic\", \"showlegend\": true, \"x\": [10], \"xaxis\": \"x\", \"y\": [0.8495442157691947], \"yaxis\": \"y\", \"type\": \"scatter\"}, {\"hovertemplate\": \"Pa\\u00edses e territ\\u00f3rios=China<br>Dias desde o caso n\\u00famero 50=%{x}<br>Relativa=%{y}<extra></extra>\", \"ids\": [10], \"legendgroup\": \"China\", \"line\": {\"color\": \"#109618\", \"dash\": \"solid\"}, \"mode\": \"lines\", \"name\": \"China\", \"showlegend\": true, \"x\": [10], \"xaxis\": \"x\", \"y\": [0.0004256854256854257], \"yaxis\": \"y\", \"type\": \"scatter\"}], \"name\": \"10\"}, {\"data\": [{\"hovertemplate\": \"Pa\\u00edses e territ\\u00f3rios=Brazil<br>Dias desde o caso n\\u00famero 50=%{x}<br>Relativa=%{y}<extra></extra>\", \"ids\": [11], \"legendgroup\": \"Brazil\", \"line\": {\"color\": \"#3366CC\", \"dash\": \"solid\"}, \"mode\": \"lines\", \"name\": \"Brazil\", \"showlegend\": true, \"x\": [11], \"xaxis\": \"x\", \"y\": [0.07386526516961299], \"yaxis\": \"y\", \"type\": \"scatter\"}, {\"hovertemplate\": \"Pa\\u00edses e territ\\u00f3rios=Italy<br>Dias desde o caso n\\u00famero 50=%{x}<br>Relativa=%{y}<extra></extra>\", \"ids\": [11], \"legendgroup\": \"Italy\", \"line\": {\"color\": \"#DC3912\", \"dash\": \"solid\"}, \"mode\": \"lines\", \"name\": \"Italy\", \"showlegend\": true, \"x\": [11], \"xaxis\": \"x\", \"y\": [0.5098201023271167], \"yaxis\": \"y\", \"type\": \"scatter\"}, {\"hovertemplate\": \"Pa\\u00edses e territ\\u00f3rios=Japan<br>Dias desde o caso n\\u00famero 50=%{x}<br>Relativa=%{y}<extra></extra>\", \"ids\": [11], \"legendgroup\": \"Japan\", \"line\": {\"color\": \"#FF9900\", \"dash\": \"solid\"}, \"mode\": \"lines\", \"name\": \"Japan\", \"showlegend\": true, \"x\": [11], \"xaxis\": \"x\", \"y\": [0.014668769716088327], \"yaxis\": \"y\", \"type\": \"scatter\"}, {\"hovertemplate\": \"Pa\\u00edses e territ\\u00f3rios=United_Kingdom<br>Dias desde o caso n\\u00famero 50=%{x}<br>Relativa=%{y}<extra></extra>\", \"ids\": [11], \"legendgroup\": \"United_Kingdom\", \"line\": {\"color\": \"#109618\", \"dash\": \"solid\"}, \"mode\": \"lines\", \"name\": \"United_Kingdom\", \"showlegend\": true, \"x\": [11], \"xaxis\": \"x\", \"y\": [0.17262265293761356], \"yaxis\": \"y\", \"type\": \"scatter\"}, {\"hovertemplate\": \"Pa\\u00edses e territ\\u00f3rios=United_States_of_America<br>Dias desde o caso n\\u00famero 50=%{x}<br>Relativa=%{y}<extra></extra>\", \"ids\": [11], \"legendgroup\": \"United_States_of_America\", \"line\": {\"color\": \"#990099\", \"dash\": \"solid\"}, \"mode\": \"lines\", \"name\": \"United_States_of_America\", \"showlegend\": true, \"x\": [11], \"xaxis\": \"x\", \"y\": [0.010377648142462389], \"yaxis\": \"y\", \"type\": \"scatter\"}, {\"hovertemplate\": \"Pa\\u00edses e territ\\u00f3rios=France<br>Dias desde o caso n\\u00famero 50=%{x}<br>Relativa=%{y}<extra></extra>\", \"ids\": [11], \"legendgroup\": \"France\", \"line\": {\"color\": \"#0099C6\", \"dash\": \"solid\"}, \"mode\": \"lines\", \"name\": \"France\", \"showlegend\": true, \"x\": [11], \"xaxis\": \"x\", \"y\": [0.26718586191403326], \"yaxis\": \"y\", \"type\": \"scatter\"}, {\"hovertemplate\": \"Pa\\u00edses e territ\\u00f3rios=South_Korea<br>Dias desde o caso n\\u00famero 50=%{x}<br>Relativa=%{y}<extra></extra>\", \"ids\": [11], \"legendgroup\": \"South_Korea\", \"line\": {\"color\": \"#DD4477\", \"dash\": \"solid\"}, \"mode\": \"lines\", \"name\": \"South_Korea\", \"showlegend\": true, \"x\": [11], \"xaxis\": \"x\", \"y\": [0.8183407810374975], \"yaxis\": \"y\", \"type\": \"scatter\"}, {\"hovertemplate\": \"Pa\\u00edses e territ\\u00f3rios=Spain<br>Dias desde o caso n\\u00famero 50=%{x}<br>Relativa=%{y}<extra></extra>\", \"ids\": [11], \"legendgroup\": \"Spain\", \"line\": {\"color\": \"#66AA00\", \"dash\": \"solid\"}, \"mode\": \"lines\", \"name\": \"Spain\", \"showlegend\": true, \"x\": [11], \"xaxis\": \"x\", \"y\": [0.4599183322587578], \"yaxis\": \"y\", \"type\": \"scatter\"}, {\"hovertemplate\": \"Pa\\u00edses e territ\\u00f3rios=Argentina<br>Dias desde o caso n\\u00famero 50=%{x}<br>Relativa=%{y}<extra></extra>\", \"ids\": [11], \"legendgroup\": \"Argentina\", \"line\": {\"color\": \"#B82E2E\", \"dash\": \"solid\"}, \"mode\": \"lines\", \"name\": \"Argentina\", \"showlegend\": true, \"x\": [11], \"xaxis\": \"x\", \"y\": [0.13304721030042918], \"yaxis\": \"y\", \"type\": \"scatter\"}, {\"hovertemplate\": \"Pa\\u00edses e territ\\u00f3rios=India<br>Dias desde o caso n\\u00famero 50=%{x}<br>Relativa=%{y}<extra></extra>\", \"ids\": [11], \"legendgroup\": \"India\", \"line\": {\"color\": \"#316395\", \"dash\": \"solid\"}, \"mode\": \"lines\", \"name\": \"India\", \"showlegend\": true, \"x\": [11], \"xaxis\": \"x\", \"y\": [0.002389843166542196], \"yaxis\": \"y\", \"type\": \"scatter\"}, {\"hovertemplate\": \"Pa\\u00edses e territ\\u00f3rios=Mexico<br>Dias desde o caso n\\u00famero 50=%{x}<br>Relativa=%{y}<extra></extra>\", \"ids\": [11], \"legendgroup\": \"Mexico\", \"line\": {\"color\": \"#3366CC\", \"dash\": \"solid\"}, \"mode\": \"lines\", \"name\": \"Mexico\", \"showlegend\": true, \"x\": [11], \"xaxis\": \"x\", \"y\": [0.12572533849129594], \"yaxis\": \"y\", \"type\": \"scatter\"}, {\"hovertemplate\": \"Pa\\u00edses e territ\\u00f3rios=Germany<br>Dias desde o caso n\\u00famero 50=%{x}<br>Relativa=%{y}<extra></extra>\", \"ids\": [11], \"legendgroup\": \"Germany\", \"line\": {\"color\": \"#DC3912\", \"dash\": \"solid\"}, \"mode\": \"lines\", \"name\": \"Germany\", \"showlegend\": true, \"x\": [11], \"xaxis\": \"x\", \"y\": [0.1570528356761997], \"yaxis\": \"y\", \"type\": \"scatter\"}, {\"hovertemplate\": \"Pa\\u00edses e territ\\u00f3rios=Czech_Republic<br>Dias desde o caso n\\u00famero 50=%{x}<br>Relativa=%{y}<extra></extra>\", \"ids\": [11], \"legendgroup\": \"Czech_Republic\", \"line\": {\"color\": \"#FF9900\", \"dash\": \"solid\"}, \"mode\": \"lines\", \"name\": \"Czech_Republic\", \"showlegend\": true, \"x\": [11], \"xaxis\": \"x\", \"y\": [0.935062494126492], \"yaxis\": \"y\", \"type\": \"scatter\"}, {\"hovertemplate\": \"Pa\\u00edses e territ\\u00f3rios=China<br>Dias desde o caso n\\u00famero 50=%{x}<br>Relativa=%{y}<extra></extra>\", \"ids\": [11], \"legendgroup\": \"China\", \"line\": {\"color\": \"#109618\", \"dash\": \"solid\"}, \"mode\": \"lines\", \"name\": \"China\", \"showlegend\": true, \"x\": [11], \"xaxis\": \"x\", \"y\": [0.0004256854256854257], \"yaxis\": \"y\", \"type\": \"scatter\"}], \"name\": \"11\"}, {\"data\": [{\"hovertemplate\": \"Pa\\u00edses e territ\\u00f3rios=Brazil<br>Dias desde o caso n\\u00famero 50=%{x}<br>Relativa=%{y}<extra></extra>\", \"ids\": [12], \"legendgroup\": \"Brazil\", \"line\": {\"color\": \"#3366CC\", \"dash\": \"solid\"}, \"mode\": \"lines\", \"name\": \"Brazil\", \"showlegend\": true, \"x\": [12], \"xaxis\": \"x\", \"y\": [0.09034878165312948], \"yaxis\": \"y\", \"type\": \"scatter\"}, {\"hovertemplate\": \"Pa\\u00edses e territ\\u00f3rios=Italy<br>Dias desde o caso n\\u00famero 50=%{x}<br>Relativa=%{y}<extra></extra>\", \"ids\": [12], \"legendgroup\": \"Italy\", \"line\": {\"color\": \"#DC3912\", \"dash\": \"solid\"}, \"mode\": \"lines\", \"name\": \"Italy\", \"showlegend\": true, \"x\": [12], \"xaxis\": \"x\", \"y\": [0.6367387357649777], \"yaxis\": \"y\", \"type\": \"scatter\"}, {\"hovertemplate\": \"Pa\\u00edses e territ\\u00f3rios=Japan<br>Dias desde o caso n\\u00famero 50=%{x}<br>Relativa=%{y}<extra></extra>\", \"ids\": [12], \"legendgroup\": \"Japan\", \"line\": {\"color\": \"#FF9900\", \"dash\": \"solid\"}, \"mode\": \"lines\", \"name\": \"Japan\", \"showlegend\": true, \"x\": [12], \"xaxis\": \"x\", \"y\": [0.016561514195583597], \"yaxis\": \"y\", \"type\": \"scatter\"}, {\"hovertemplate\": \"Pa\\u00edses e territ\\u00f3rios=United_Kingdom<br>Dias desde o caso n\\u00famero 50=%{x}<br>Relativa=%{y}<extra></extra>\", \"ids\": [12], \"legendgroup\": \"United_Kingdom\", \"line\": {\"color\": \"#109618\", \"dash\": \"solid\"}, \"mode\": \"lines\", \"name\": \"United_Kingdom\", \"showlegend\": true, \"x\": [12], \"xaxis\": \"x\", \"y\": [0.2106299212598425], \"yaxis\": \"y\", \"type\": \"scatter\"}, {\"hovertemplate\": \"Pa\\u00edses e territ\\u00f3rios=United_States_of_America<br>Dias desde o caso n\\u00famero 50=%{x}<br>Relativa=%{y}<extra></extra>\", \"ids\": [12], \"legendgroup\": \"United_States_of_America\", \"line\": {\"color\": \"#990099\", \"dash\": \"solid\"}, \"mode\": \"lines\", \"name\": \"United_States_of_America\", \"showlegend\": true, \"x\": [12], \"xaxis\": \"x\", \"y\": [0.01329444273871661], \"yaxis\": \"y\", \"type\": \"scatter\"}, {\"hovertemplate\": \"Pa\\u00edses e territ\\u00f3rios=France<br>Dias desde o caso n\\u00famero 50=%{x}<br>Relativa=%{y}<extra></extra>\", \"ids\": [12], \"legendgroup\": \"France\", \"line\": {\"color\": \"#0099C6\", \"dash\": \"solid\"}, \"mode\": \"lines\", \"name\": \"France\", \"showlegend\": true, \"x\": [12], \"xaxis\": \"x\", \"y\": [0.341620488243223], \"yaxis\": \"y\", \"type\": \"scatter\"}, {\"hovertemplate\": \"Pa\\u00edses e territ\\u00f3rios=South_Korea<br>Dias desde o caso n\\u00famero 50=%{x}<br>Relativa=%{y}<extra></extra>\", \"ids\": [12], \"legendgroup\": \"South_Korea\", \"line\": {\"color\": \"#DD4477\", \"dash\": \"solid\"}, \"mode\": \"lines\", \"name\": \"South_Korea\", \"showlegend\": true, \"x\": [12], \"xaxis\": \"x\", \"y\": [0.93491354186905], \"yaxis\": \"y\", \"type\": \"scatter\"}, {\"hovertemplate\": \"Pa\\u00edses e territ\\u00f3rios=Spain<br>Dias desde o caso n\\u00famero 50=%{x}<br>Relativa=%{y}<extra></extra>\", \"ids\": [12], \"legendgroup\": \"Spain\", \"line\": {\"color\": \"#66AA00\", \"dash\": \"solid\"}, \"mode\": \"lines\", \"name\": \"Spain\", \"showlegend\": true, \"x\": [12], \"xaxis\": \"x\", \"y\": [0.645604986030518], \"yaxis\": \"y\", \"type\": \"scatter\"}, {\"hovertemplate\": \"Pa\\u00edses e territ\\u00f3rios=Argentina<br>Dias desde o caso n\\u00famero 50=%{x}<br>Relativa=%{y}<extra></extra>\", \"ids\": [12], \"legendgroup\": \"Argentina\", \"line\": {\"color\": \"#B82E2E\", \"dash\": \"solid\"}, \"mode\": \"lines\", \"name\": \"Argentina\", \"showlegend\": true, \"x\": [12], \"xaxis\": \"x\", \"y\": [0.15586175739778632], \"yaxis\": \"y\", \"type\": \"scatter\"}, {\"hovertemplate\": \"Pa\\u00edses e territ\\u00f3rios=India<br>Dias desde o caso n\\u00famero 50=%{x}<br>Relativa=%{y}<extra></extra>\", \"ids\": [12], \"legendgroup\": \"India\", \"line\": {\"color\": \"#316395\", \"dash\": \"solid\"}, \"mode\": \"lines\", \"name\": \"India\", \"showlegend\": true, \"x\": [12], \"xaxis\": \"x\", \"y\": [0.0032785660941000746], \"yaxis\": \"y\", \"type\": \"scatter\"}, {\"hovertemplate\": \"Pa\\u00edses e territ\\u00f3rios=Mexico<br>Dias desde o caso n\\u00famero 50=%{x}<br>Relativa=%{y}<extra></extra>\", \"ids\": [12], \"legendgroup\": \"Mexico\", \"line\": {\"color\": \"#3366CC\", \"dash\": \"solid\"}, \"mode\": \"lines\", \"name\": \"Mexico\", \"showlegend\": true, \"x\": [12], \"xaxis\": \"x\", \"y\": [0.15409413281753706], \"yaxis\": \"y\", \"type\": \"scatter\"}, {\"hovertemplate\": \"Pa\\u00edses e territ\\u00f3rios=Germany<br>Dias desde o caso n\\u00famero 50=%{x}<br>Relativa=%{y}<extra></extra>\", \"ids\": [12], \"legendgroup\": \"Germany\", \"line\": {\"color\": \"#DC3912\", \"dash\": \"solid\"}, \"mode\": \"lines\", \"name\": \"Germany\", \"showlegend\": true, \"x\": [12], \"xaxis\": \"x\", \"y\": [0.18989335918565195], \"yaxis\": \"y\", \"type\": \"scatter\"}, {\"hovertemplate\": \"Pa\\u00edses e territ\\u00f3rios=Czech_Republic<br>Dias desde o caso n\\u00famero 50=%{x}<br>Relativa=%{y}<extra></extra>\", \"ids\": [12], \"legendgroup\": \"Czech_Republic\", \"line\": {\"color\": \"#FF9900\", \"dash\": \"solid\"}, \"mode\": \"lines\", \"name\": \"Czech_Republic\", \"showlegend\": true, \"x\": [12], \"xaxis\": \"x\", \"y\": [1.0948219152335308], \"yaxis\": \"y\", \"type\": \"scatter\"}, {\"hovertemplate\": \"Pa\\u00edses e territ\\u00f3rios=China<br>Dias desde o caso n\\u00famero 50=%{x}<br>Relativa=%{y}<extra></extra>\", \"ids\": [12], \"legendgroup\": \"China\", \"line\": {\"color\": \"#109618\", \"dash\": \"solid\"}, \"mode\": \"lines\", \"name\": \"China\", \"showlegend\": true, \"x\": [12], \"xaxis\": \"x\", \"y\": [0.00045454545454545455], \"yaxis\": \"y\", \"type\": \"scatter\"}], \"name\": \"12\"}, {\"data\": [{\"hovertemplate\": \"Pa\\u00edses e territ\\u00f3rios=Brazil<br>Dias desde o caso n\\u00famero 50=%{x}<br>Relativa=%{y}<extra></extra>\", \"ids\": [13], \"legendgroup\": \"Brazil\", \"line\": {\"color\": \"#3366CC\", \"dash\": \"solid\"}, \"mode\": \"lines\", \"name\": \"Brazil\", \"showlegend\": true, \"x\": [13], \"xaxis\": \"x\", \"y\": [0.10516005733397038], \"yaxis\": \"y\", \"type\": \"scatter\"}, {\"hovertemplate\": \"Pa\\u00edses e territ\\u00f3rios=Italy<br>Dias desde o caso n\\u00famero 50=%{x}<br>Relativa=%{y}<extra></extra>\", \"ids\": [13], \"legendgroup\": \"Italy\", \"line\": {\"color\": \"#DC3912\", \"dash\": \"solid\"}, \"mode\": \"lines\", \"name\": \"Italy\", \"showlegend\": true, \"x\": [13], \"xaxis\": \"x\", \"y\": [0.7651427628321505], \"yaxis\": \"y\", \"type\": \"scatter\"}, {\"hovertemplate\": \"Pa\\u00edses e territ\\u00f3rios=Japan<br>Dias desde o caso n\\u00famero 50=%{x}<br>Relativa=%{y}<extra></extra>\", \"ids\": [13], \"legendgroup\": \"Japan\", \"line\": {\"color\": \"#FF9900\", \"dash\": \"solid\"}, \"mode\": \"lines\", \"name\": \"Japan\", \"showlegend\": true, \"x\": [13], \"xaxis\": \"x\", \"y\": [0.018138801261829655], \"yaxis\": \"y\", \"type\": \"scatter\"}, {\"hovertemplate\": \"Pa\\u00edses e territ\\u00f3rios=United_Kingdom<br>Dias desde o caso n\\u00famero 50=%{x}<br>Relativa=%{y}<extra></extra>\", \"ids\": [13], \"legendgroup\": \"United_Kingdom\", \"line\": {\"color\": \"#109618\", \"dash\": \"solid\"}, \"mode\": \"lines\", \"name\": \"United_Kingdom\", \"showlegend\": true, \"x\": [13], \"xaxis\": \"x\", \"y\": [0.23364627498485765], \"yaxis\": \"y\", \"type\": \"scatter\"}, {\"hovertemplate\": \"Pa\\u00edses e territ\\u00f3rios=United_States_of_America<br>Dias desde o caso n\\u00famero 50=%{x}<br>Relativa=%{y}<extra></extra>\", \"ids\": [13], \"legendgroup\": \"United_States_of_America\", \"line\": {\"color\": \"#990099\", \"dash\": \"solid\"}, \"mode\": \"lines\", \"name\": \"United_States_of_America\", \"showlegend\": true, \"x\": [13], \"xaxis\": \"x\", \"y\": [0.017009517961314093], \"yaxis\": \"y\", \"type\": \"scatter\"}, {\"hovertemplate\": \"Pa\\u00edses e territ\\u00f3rios=France<br>Dias desde o caso n\\u00famero 50=%{x}<br>Relativa=%{y}<extra></extra>\", \"ids\": [13], \"legendgroup\": \"France\", \"line\": {\"color\": \"#0099C6\", \"dash\": \"solid\"}, \"mode\": \"lines\", \"name\": \"France\", \"showlegend\": true, \"x\": [13], \"xaxis\": \"x\", \"y\": [0.4307323648345065], \"yaxis\": \"y\", \"type\": \"scatter\"}, {\"hovertemplate\": \"Pa\\u00edses e territ\\u00f3rios=South_Korea<br>Dias desde o caso n\\u00famero 50=%{x}<br>Relativa=%{y}<extra></extra>\", \"ids\": [13], \"legendgroup\": \"South_Korea\", \"line\": {\"color\": \"#DD4477\", \"dash\": \"solid\"}, \"mode\": \"lines\", \"name\": \"South_Korea\", \"showlegend\": true, \"x\": [13], \"xaxis\": \"x\", \"y\": [1.035166116184185], \"yaxis\": \"y\", \"type\": \"scatter\"}, {\"hovertemplate\": \"Pa\\u00edses e territ\\u00f3rios=Spain<br>Dias desde o caso n\\u00famero 50=%{x}<br>Relativa=%{y}<extra></extra>\", \"ids\": [13], \"legendgroup\": \"Spain\", \"line\": {\"color\": \"#66AA00\", \"dash\": \"solid\"}, \"mode\": \"lines\", \"name\": \"Spain\", \"showlegend\": true, \"x\": [13], \"xaxis\": \"x\", \"y\": [0.9093058241994412], \"yaxis\": \"y\", \"type\": \"scatter\"}, {\"hovertemplate\": \"Pa\\u00edses e territ\\u00f3rios=Argentina<br>Dias desde o caso n\\u00famero 50=%{x}<br>Relativa=%{y}<extra></extra>\", \"ids\": [13], \"legendgroup\": \"Argentina\", \"line\": {\"color\": \"#B82E2E\", \"dash\": \"solid\"}, \"mode\": \"lines\", \"name\": \"Argentina\", \"showlegend\": true, \"x\": [13], \"xaxis\": \"x\", \"y\": [0.16828552066862434], \"yaxis\": \"y\", \"type\": \"scatter\"}, {\"hovertemplate\": \"Pa\\u00edses e territ\\u00f3rios=India<br>Dias desde o caso n\\u00famero 50=%{x}<br>Relativa=%{y}<extra></extra>\", \"ids\": [13], \"legendgroup\": \"India\", \"line\": {\"color\": \"#316395\", \"dash\": \"solid\"}, \"mode\": \"lines\", \"name\": \"India\", \"showlegend\": true, \"x\": [13], \"xaxis\": \"x\", \"y\": [0.003674383868558626], \"yaxis\": \"y\", \"type\": \"scatter\"}, {\"hovertemplate\": \"Pa\\u00edses e territ\\u00f3rios=Mexico<br>Dias desde o caso n\\u00famero 50=%{x}<br>Relativa=%{y}<extra></extra>\", \"ids\": [13], \"legendgroup\": \"Mexico\", \"line\": {\"color\": \"#3366CC\", \"dash\": \"solid\"}, \"mode\": \"lines\", \"name\": \"Mexico\", \"showlegend\": true, \"x\": [13], \"xaxis\": \"x\", \"y\": [0.18224801203524607], \"yaxis\": \"y\", \"type\": \"scatter\"}, {\"hovertemplate\": \"Pa\\u00edses e territ\\u00f3rios=Germany<br>Dias desde o caso n\\u00famero 50=%{x}<br>Relativa=%{y}<extra></extra>\", \"ids\": [13], \"legendgroup\": \"Germany\", \"line\": {\"color\": \"#DC3912\", \"dash\": \"solid\"}, \"mode\": \"lines\", \"name\": \"Germany\", \"showlegend\": true, \"x\": [13], \"xaxis\": \"x\", \"y\": [0.2870819195346583], \"yaxis\": \"y\", \"type\": \"scatter\"}, {\"hovertemplate\": \"Pa\\u00edses e territ\\u00f3rios=Czech_Republic<br>Dias desde o caso n\\u00famero 50=%{x}<br>Relativa=%{y}<extra></extra>\", \"ids\": [13], \"legendgroup\": \"Czech_Republic\", \"line\": {\"color\": \"#FF9900\", \"dash\": \"solid\"}, \"mode\": \"lines\", \"name\": \"Czech_Republic\", \"showlegend\": true, \"x\": [13], \"xaxis\": \"x\", \"y\": [1.1615449675782352], \"yaxis\": \"y\", \"type\": \"scatter\"}, {\"hovertemplate\": \"Pa\\u00edses e territ\\u00f3rios=China<br>Dias desde o caso n\\u00famero 50=%{x}<br>Relativa=%{y}<extra></extra>\", \"ids\": [13], \"legendgroup\": \"China\", \"line\": {\"color\": \"#109618\", \"dash\": \"solid\"}, \"mode\": \"lines\", \"name\": \"China\", \"showlegend\": true, \"x\": [13], \"xaxis\": \"x\", \"y\": [0.0005772005772005772], \"yaxis\": \"y\", \"type\": \"scatter\"}], \"name\": \"13\"}, {\"data\": [{\"hovertemplate\": \"Pa\\u00edses e territ\\u00f3rios=Brazil<br>Dias desde o caso n\\u00famero 50=%{x}<br>Relativa=%{y}<extra></extra>\", \"ids\": [14], \"legendgroup\": \"Brazil\", \"line\": {\"color\": \"#3366CC\", \"dash\": \"solid\"}, \"mode\": \"lines\", \"name\": \"Brazil\", \"showlegend\": true, \"x\": [14], \"xaxis\": \"x\", \"y\": [0.11624462494027711], \"yaxis\": \"y\", \"type\": \"scatter\"}, {\"hovertemplate\": \"Pa\\u00edses e territ\\u00f3rios=Italy<br>Dias desde o caso n\\u00famero 50=%{x}<br>Relativa=%{y}<extra></extra>\", \"ids\": [14], \"legendgroup\": \"Italy\", \"line\": {\"color\": \"#DC3912\", \"dash\": \"solid\"}, \"mode\": \"lines\", \"name\": \"Italy\", \"showlegend\": true, \"x\": [14], \"xaxis\": \"x\", \"y\": [0.9709523023601254], \"yaxis\": \"y\", \"type\": \"scatter\"}, {\"hovertemplate\": \"Pa\\u00edses e territ\\u00f3rios=Japan<br>Dias desde o caso n\\u00famero 50=%{x}<br>Relativa=%{y}<extra></extra>\", \"ids\": [14], \"legendgroup\": \"Japan\", \"line\": {\"color\": \"#FF9900\", \"dash\": \"solid\"}, \"mode\": \"lines\", \"name\": \"Japan\", \"showlegend\": true, \"x\": [14], \"xaxis\": \"x\", \"y\": [0.018848580441640377], \"yaxis\": \"y\", \"type\": \"scatter\"}, {\"hovertemplate\": \"Pa\\u00edses e territ\\u00f3rios=United_Kingdom<br>Dias desde o caso n\\u00famero 50=%{x}<br>Relativa=%{y}<extra></extra>\", \"ids\": [14], \"legendgroup\": \"United_Kingdom\", \"line\": {\"color\": \"#109618\", \"dash\": \"solid\"}, \"mode\": \"lines\", \"name\": \"United_Kingdom\", \"showlegend\": true, \"x\": [14], \"xaxis\": \"x\", \"y\": [0.2952755905511811], \"yaxis\": \"y\", \"type\": \"scatter\"}, {\"hovertemplate\": \"Pa\\u00edses e territ\\u00f3rios=United_States_of_America<br>Dias desde o caso n\\u00famero 50=%{x}<br>Relativa=%{y}<extra></extra>\", \"ids\": [14], \"legendgroup\": \"United_States_of_America\", \"line\": {\"color\": \"#990099\", \"dash\": \"solid\"}, \"mode\": \"lines\", \"name\": \"United_States_of_America\", \"showlegend\": true, \"x\": [14], \"xaxis\": \"x\", \"y\": [0.02315013816395456], \"yaxis\": \"y\", \"type\": \"scatter\"}, {\"hovertemplate\": \"Pa\\u00edses e territ\\u00f3rios=France<br>Dias desde o caso n\\u00famero 50=%{x}<br>Relativa=%{y}<extra></extra>\", \"ids\": [14], \"legendgroup\": \"France\", \"line\": {\"color\": \"#0099C6\", \"dash\": \"solid\"}, \"mode\": \"lines\", \"name\": \"France\", \"showlegend\": true, \"x\": [14], \"xaxis\": \"x\", \"y\": [0.5483001347910739], \"yaxis\": \"y\", \"type\": \"scatter\"}, {\"hovertemplate\": \"Pa\\u00edses e territ\\u00f3rios=South_Korea<br>Dias desde o caso n\\u00famero 50=%{x}<br>Relativa=%{y}<extra></extra>\", \"ids\": [14], \"legendgroup\": \"South_Korea\", \"line\": {\"color\": \"#DD4477\", \"dash\": \"solid\"}, \"mode\": \"lines\", \"name\": \"South_Korea\", \"showlegend\": true, \"x\": [14], \"xaxis\": \"x\", \"y\": [1.1202642315912181], \"yaxis\": \"y\", \"type\": \"scatter\"}, {\"hovertemplate\": \"Pa\\u00edses e territ\\u00f3rios=Spain<br>Dias desde o caso n\\u00famero 50=%{x}<br>Relativa=%{y}<extra></extra>\", \"ids\": [14], \"legendgroup\": \"Spain\", \"line\": {\"color\": \"#66AA00\", \"dash\": \"solid\"}, \"mode\": \"lines\", \"name\": \"Spain\", \"showlegend\": true, \"x\": [14], \"xaxis\": \"x\", \"y\": [1.2364066193853427], \"yaxis\": \"y\", \"type\": \"scatter\"}, {\"hovertemplate\": \"Pa\\u00edses e territ\\u00f3rios=Argentina<br>Dias desde o caso n\\u00famero 50=%{x}<br>Relativa=%{y}<extra></extra>\", \"ids\": [14], \"legendgroup\": \"Argentina\", \"line\": {\"color\": \"#B82E2E\", \"dash\": \"solid\"}, \"mode\": \"lines\", \"name\": \"Argentina\", \"showlegend\": true, \"x\": [14], \"xaxis\": \"x\", \"y\": [0.18522701603794894], \"yaxis\": \"y\", \"type\": \"scatter\"}, {\"hovertemplate\": \"Pa\\u00edses e territ\\u00f3rios=India<br>Dias desde o caso n\\u00famero 50=%{x}<br>Relativa=%{y}<extra></extra>\", \"ids\": [14], \"legendgroup\": \"India\", \"line\": {\"color\": \"#316395\", \"dash\": \"solid\"}, \"mode\": \"lines\", \"name\": \"India\", \"showlegend\": true, \"x\": [14], \"xaxis\": \"x\", \"y\": [0.004197162061239731], \"yaxis\": \"y\", \"type\": \"scatter\"}, {\"hovertemplate\": \"Pa\\u00edses e territ\\u00f3rios=Mexico<br>Dias desde o caso n\\u00famero 50=%{x}<br>Relativa=%{y}<extra></extra>\", \"ids\": [14], \"legendgroup\": \"Mexico\", \"line\": {\"color\": \"#3366CC\", \"dash\": \"solid\"}, \"mode\": \"lines\", \"name\": \"Mexico\", \"showlegend\": true, \"x\": [14], \"xaxis\": \"x\", \"y\": [0.2134107027724049], \"yaxis\": \"y\", \"type\": \"scatter\"}, {\"hovertemplate\": \"Pa\\u00edses e territ\\u00f3rios=Germany<br>Dias desde o caso n\\u00famero 50=%{x}<br>Relativa=%{y}<extra></extra>\", \"ids\": [14], \"legendgroup\": \"Germany\", \"line\": {\"color\": \"#DC3912\", \"dash\": \"solid\"}, \"mode\": \"lines\", \"name\": \"Germany\", \"showlegend\": true, \"x\": [14], \"xaxis\": \"x\", \"y\": [0.37106156083373726], \"yaxis\": \"y\", \"type\": \"scatter\"}, {\"hovertemplate\": \"Pa\\u00edses e territ\\u00f3rios=Czech_Republic<br>Dias desde o caso n\\u00famero 50=%{x}<br>Relativa=%{y}<extra></extra>\", \"ids\": [14], \"legendgroup\": \"Czech_Republic\", \"line\": {\"color\": \"#FF9900\", \"dash\": \"solid\"}, \"mode\": \"lines\", \"name\": \"Czech_Republic\", \"showlegend\": true, \"x\": [14], \"xaxis\": \"x\", \"y\": [1.3100272530777184], \"yaxis\": \"y\", \"type\": \"scatter\"}, {\"hovertemplate\": \"Pa\\u00edses e territ\\u00f3rios=China<br>Dias desde o caso n\\u00famero 50=%{x}<br>Relativa=%{y}<extra></extra>\", \"ids\": [14], \"legendgroup\": \"China\", \"line\": {\"color\": \"#109618\", \"dash\": \"solid\"}, \"mode\": \"lines\", \"name\": \"China\", \"showlegend\": true, \"x\": [14], \"xaxis\": \"x\", \"y\": [0.0015584415584415584], \"yaxis\": \"y\", \"type\": \"scatter\"}], \"name\": \"14\"}, {\"data\": [{\"hovertemplate\": \"Pa\\u00edses e territ\\u00f3rios=Brazil<br>Dias desde o caso n\\u00famero 50=%{x}<br>Relativa=%{y}<extra></extra>\", \"ids\": [15], \"legendgroup\": \"Brazil\", \"line\": {\"color\": \"#3366CC\", \"dash\": \"solid\"}, \"mode\": \"lines\", \"name\": \"Brazil\", \"showlegend\": true, \"x\": [15], \"xaxis\": \"x\", \"y\": [0.13927376970855232], \"yaxis\": \"y\", \"type\": \"scatter\"}, {\"hovertemplate\": \"Pa\\u00edses e territ\\u00f3rios=Italy<br>Dias desde o caso n\\u00famero 50=%{x}<br>Relativa=%{y}<extra></extra>\", \"ids\": [15], \"legendgroup\": \"Italy\", \"line\": {\"color\": \"#DC3912\", \"dash\": \"solid\"}, \"mode\": \"lines\", \"name\": \"Italy\", \"showlegend\": true, \"x\": [15], \"xaxis\": \"x\", \"y\": [1.2171975573526985], \"yaxis\": \"y\", \"type\": \"scatter\"}, {\"hovertemplate\": \"Pa\\u00edses e territ\\u00f3rios=Japan<br>Dias desde o caso n\\u00famero 50=%{x}<br>Relativa=%{y}<extra></extra>\", \"ids\": [15], \"legendgroup\": \"Japan\", \"line\": {\"color\": \"#FF9900\", \"dash\": \"solid\"}, \"mode\": \"lines\", \"name\": \"Japan\", \"showlegend\": true, \"x\": [15], \"xaxis\": \"x\", \"y\": [0.02003154574132492], \"yaxis\": \"y\", \"type\": \"scatter\"}, {\"hovertemplate\": \"Pa\\u00edses e territ\\u00f3rios=United_Kingdom<br>Dias desde o caso n\\u00famero 50=%{x}<br>Relativa=%{y}<extra></extra>\", \"ids\": [15], \"legendgroup\": \"United_Kingdom\", \"line\": {\"color\": \"#109618\", \"dash\": \"solid\"}, \"mode\": \"lines\", \"name\": \"United_Kingdom\", \"showlegend\": true, \"x\": [15], \"xaxis\": \"x\", \"y\": [0.3982434887946699], \"yaxis\": \"y\", \"type\": \"scatter\"}, {\"hovertemplate\": \"Pa\\u00edses e territ\\u00f3rios=United_States_of_America<br>Dias desde o caso n\\u00famero 50=%{x}<br>Relativa=%{y}<extra></extra>\", \"ids\": [15], \"legendgroup\": \"United_States_of_America\", \"line\": {\"color\": \"#990099\", \"dash\": \"solid\"}, \"mode\": \"lines\", \"name\": \"United_States_of_America\", \"showlegend\": true, \"x\": [15], \"xaxis\": \"x\", \"y\": [0.031470678538532394], \"yaxis\": \"y\", \"type\": \"scatter\"}, {\"hovertemplate\": \"Pa\\u00edses e territ\\u00f3rios=France<br>Dias desde o caso n\\u00famero 50=%{x}<br>Relativa=%{y}<extra></extra>\", \"ids\": [15], \"legendgroup\": \"France\", \"line\": {\"color\": \"#0099C6\", \"dash\": \"solid\"}, \"mode\": \"lines\", \"name\": \"France\", \"showlegend\": true, \"x\": [15], \"xaxis\": \"x\", \"y\": [0.6738056013179572], \"yaxis\": \"y\", \"type\": \"scatter\"}, {\"hovertemplate\": \"Pa\\u00edses e territ\\u00f3rios=South_Korea<br>Dias desde o caso n\\u00famero 50=%{x}<br>Relativa=%{y}<extra></extra>\", \"ids\": [15], \"legendgroup\": \"South_Korea\", \"line\": {\"color\": \"#DD4477\", \"dash\": \"solid\"}, \"mode\": \"lines\", \"name\": \"South_Korea\", \"showlegend\": true, \"x\": [15], \"xaxis\": \"x\", \"y\": [1.2209053817757918], \"yaxis\": \"y\", \"type\": \"scatter\"}, {\"hovertemplate\": \"Pa\\u00edses e territ\\u00f3rios=Spain<br>Dias desde o caso n\\u00famero 50=%{x}<br>Relativa=%{y}<extra></extra>\", \"ids\": [15], \"legendgroup\": \"Spain\", \"line\": {\"color\": \"#66AA00\", \"dash\": \"solid\"}, \"mode\": \"lines\", \"name\": \"Spain\", \"showlegend\": true, \"x\": [15], \"xaxis\": \"x\", \"y\": [1.6662368364496023], \"yaxis\": \"y\", \"type\": \"scatter\"}, {\"hovertemplate\": \"Pa\\u00edses e territ\\u00f3rios=Argentina<br>Dias desde o caso n\\u00famero 50=%{x}<br>Relativa=%{y}<extra></extra>\", \"ids\": [15], \"legendgroup\": \"Argentina\", \"line\": {\"color\": \"#B82E2E\", \"dash\": \"solid\"}, \"mode\": \"lines\", \"name\": \"Argentina\", \"showlegend\": true, \"x\": [15], \"xaxis\": \"x\", \"y\": [0.21820646035690083], \"yaxis\": \"y\", \"type\": \"scatter\"}, {\"hovertemplate\": \"Pa\\u00edses e territ\\u00f3rios=India<br>Dias desde o caso n\\u00famero 50=%{x}<br>Relativa=%{y}<extra></extra>\", \"ids\": [15], \"legendgroup\": \"India\", \"line\": {\"color\": \"#316395\", \"dash\": \"solid\"}, \"mode\": \"lines\", \"name\": \"India\", \"showlegend\": true, \"x\": [15], \"xaxis\": \"x\", \"y\": [0.004846900672143391], \"yaxis\": \"y\", \"type\": \"scatter\"}, {\"hovertemplate\": \"Pa\\u00edses e territ\\u00f3rios=Mexico<br>Dias desde o caso n\\u00famero 50=%{x}<br>Relativa=%{y}<extra></extra>\", \"ids\": [15], \"legendgroup\": \"Mexico\", \"line\": {\"color\": \"#3366CC\", \"dash\": \"solid\"}, \"mode\": \"lines\", \"name\": \"Mexico\", \"showlegend\": true, \"x\": [15], \"xaxis\": \"x\", \"y\": [0.23511712873415], \"yaxis\": \"y\", \"type\": \"scatter\"}, {\"hovertemplate\": \"Pa\\u00edses e territ\\u00f3rios=Germany<br>Dias desde o caso n\\u00famero 50=%{x}<br>Relativa=%{y}<extra></extra>\", \"ids\": [15], \"legendgroup\": \"Germany\", \"line\": {\"color\": \"#DC3912\", \"dash\": \"solid\"}, \"mode\": \"lines\", \"name\": \"Germany\", \"showlegend\": true, \"x\": [15], \"xaxis\": \"x\", \"y\": [0.45988851187590885], \"yaxis\": \"y\", \"type\": \"scatter\"}, {\"hovertemplate\": \"Pa\\u00edses e territ\\u00f3rios=Czech_Republic<br>Dias desde o caso n\\u00famero 50=%{x}<br>Relativa=%{y}<extra></extra>\", \"ids\": [15], \"legendgroup\": \"Czech_Republic\", \"line\": {\"color\": \"#FF9900\", \"dash\": \"solid\"}, \"mode\": \"lines\", \"name\": \"Czech_Republic\", \"showlegend\": true, \"x\": [15], \"xaxis\": \"x\", \"y\": [1.554365191241425], \"yaxis\": \"y\", \"type\": \"scatter\"}, {\"hovertemplate\": \"Pa\\u00edses e territ\\u00f3rios=China<br>Dias desde o caso n\\u00famero 50=%{x}<br>Relativa=%{y}<extra></extra>\", \"ids\": [15], \"legendgroup\": \"China\", \"line\": {\"color\": \"#109618\", \"dash\": \"solid\"}, \"mode\": \"lines\", \"name\": \"China\", \"showlegend\": true, \"x\": [15], \"xaxis\": \"x\", \"y\": [0.0016955266955266956], \"yaxis\": \"y\", \"type\": \"scatter\"}], \"name\": \"15\"}, {\"data\": [{\"hovertemplate\": \"Pa\\u00edses e territ\\u00f3rios=Brazil<br>Dias desde o caso n\\u00famero 50=%{x}<br>Relativa=%{y}<extra></extra>\", \"ids\": [16], \"legendgroup\": \"Brazil\", \"line\": {\"color\": \"#3366CC\", \"dash\": \"solid\"}, \"mode\": \"lines\", \"name\": \"Brazil\", \"showlegend\": true, \"x\": [16], \"xaxis\": \"x\", \"y\": [0.163258480649785], \"yaxis\": \"y\", \"type\": \"scatter\"}, {\"hovertemplate\": \"Pa\\u00edses e territ\\u00f3rios=Italy<br>Dias desde o caso n\\u00famero 50=%{x}<br>Relativa=%{y}<extra></extra>\", \"ids\": [16], \"legendgroup\": \"Italy\", \"line\": {\"color\": \"#DC3912\", \"dash\": \"solid\"}, \"mode\": \"lines\", \"name\": \"Italy\", \"showlegend\": true, \"x\": [16], \"xaxis\": \"x\", \"y\": [1.5137811520052813], \"yaxis\": \"y\", \"type\": \"scatter\"}, {\"hovertemplate\": \"Pa\\u00edses e territ\\u00f3rios=Japan<br>Dias desde o caso n\\u00famero 50=%{x}<br>Relativa=%{y}<extra></extra>\", \"ids\": [16], \"legendgroup\": \"Japan\", \"line\": {\"color\": \"#FF9900\", \"dash\": \"solid\"}, \"mode\": \"lines\", \"name\": \"Japan\", \"showlegend\": true, \"x\": [16], \"xaxis\": \"x\", \"y\": [0.02003154574132492], \"yaxis\": \"y\", \"type\": \"scatter\"}, {\"hovertemplate\": \"Pa\\u00edses e territ\\u00f3rios=United_Kingdom<br>Dias desde o caso n\\u00famero 50=%{x}<br>Relativa=%{y}<extra></extra>\", \"ids\": [16], \"legendgroup\": \"United_Kingdom\", \"line\": {\"color\": \"#109618\", \"dash\": \"solid\"}, \"mode\": \"lines\", \"name\": \"United_Kingdom\", \"showlegend\": true, \"x\": [16], \"xaxis\": \"x\", \"y\": [0.49621441550575407], \"yaxis\": \"y\", \"type\": \"scatter\"}, {\"hovertemplate\": \"Pa\\u00edses e territ\\u00f3rios=United_States_of_America<br>Dias desde o caso n\\u00famero 50=%{x}<br>Relativa=%{y}<extra></extra>\", \"ids\": [16], \"legendgroup\": \"United_States_of_America\", \"line\": {\"color\": \"#990099\", \"dash\": \"solid\"}, \"mode\": \"lines\", \"name\": \"United_States_of_America\", \"showlegend\": true, \"x\": [16], \"xaxis\": \"x\", \"y\": [0.040282468529321463], \"yaxis\": \"y\", \"type\": \"scatter\"}, {\"hovertemplate\": \"Pa\\u00edses e territ\\u00f3rios=France<br>Dias desde o caso n\\u00famero 50=%{x}<br>Relativa=%{y}<extra></extra>\", \"ids\": [16], \"legendgroup\": \"France\", \"line\": {\"color\": \"#0099C6\", \"dash\": \"solid\"}, \"mode\": \"lines\", \"name\": \"France\", \"showlegend\": true, \"x\": [16], \"xaxis\": \"x\", \"y\": [0.8121911037891268], \"yaxis\": \"y\", \"type\": \"scatter\"}, {\"hovertemplate\": \"Pa\\u00edses e territ\\u00f3rios=South_Korea<br>Dias desde o caso n\\u00famero 50=%{x}<br>Relativa=%{y}<extra></extra>\", \"ids\": [16], \"legendgroup\": \"South_Korea\", \"line\": {\"color\": \"#DD4477\", \"dash\": \"solid\"}, \"mode\": \"lines\", \"name\": \"South_Korea\", \"showlegend\": true, \"x\": [16], \"xaxis\": \"x\", \"y\": [1.3147464542451914], \"yaxis\": \"y\", \"type\": \"scatter\"}, {\"hovertemplate\": \"Pa\\u00edses e territ\\u00f3rios=Spain<br>Dias desde o caso n\\u00famero 50=%{x}<br>Relativa=%{y}<extra></extra>\", \"ids\": [16], \"legendgroup\": \"Spain\", \"line\": {\"color\": \"#66AA00\", \"dash\": \"solid\"}, \"mode\": \"lines\", \"name\": \"Spain\", \"showlegend\": true, \"x\": [16], \"xaxis\": \"x\", \"y\": [1.975284762518805], \"yaxis\": \"y\", \"type\": \"scatter\"}, {\"hovertemplate\": \"Pa\\u00edses e territ\\u00f3rios=Argentina<br>Dias desde o caso n\\u00famero 50=%{x}<br>Relativa=%{y}<extra></extra>\", \"ids\": [16], \"legendgroup\": \"Argentina\", \"line\": {\"color\": \"#B82E2E\", \"dash\": \"solid\"}, \"mode\": \"lines\", \"name\": \"Argentina\", \"showlegend\": true, \"x\": [16], \"xaxis\": \"x\", \"y\": [0.21820646035690083], \"yaxis\": \"y\", \"type\": \"scatter\"}, {\"hovertemplate\": \"Pa\\u00edses e territ\\u00f3rios=India<br>Dias desde o caso n\\u00famero 50=%{x}<br>Relativa=%{y}<extra></extra>\", \"ids\": [16], \"legendgroup\": \"India\", \"line\": {\"color\": \"#316395\", \"dash\": \"solid\"}, \"mode\": \"lines\", \"name\": \"India\", \"showlegend\": true, \"x\": [16], \"xaxis\": \"x\", \"y\": [0.005407020164301717], \"yaxis\": \"y\", \"type\": \"scatter\"}, {\"hovertemplate\": \"Pa\\u00edses e territ\\u00f3rios=Mexico<br>Dias desde o caso n\\u00famero 50=%{x}<br>Relativa=%{y}<extra></extra>\", \"ids\": [16], \"legendgroup\": \"Mexico\", \"line\": {\"color\": \"#3366CC\", \"dash\": \"solid\"}, \"mode\": \"lines\", \"name\": \"Mexico\", \"showlegend\": true, \"x\": [16], \"xaxis\": \"x\", \"y\": [0.2611218568665377], \"yaxis\": \"y\", \"type\": \"scatter\"}, {\"hovertemplate\": \"Pa\\u00edses e territ\\u00f3rios=Germany<br>Dias desde o caso n\\u00famero 50=%{x}<br>Relativa=%{y}<extra></extra>\", \"ids\": [16], \"legendgroup\": \"Germany\", \"line\": {\"color\": \"#DC3912\", \"dash\": \"solid\"}, \"mode\": \"lines\", \"name\": \"Germany\", \"showlegend\": true, \"x\": [16], \"xaxis\": \"x\", \"y\": [0.586282113427048], \"yaxis\": \"y\", \"type\": \"scatter\"}, {\"hovertemplate\": \"Pa\\u00edses e territ\\u00f3rios=Czech_Republic<br>Dias desde o caso n\\u00famero 50=%{x}<br>Relativa=%{y}<extra></extra>\", \"ids\": [16], \"legendgroup\": \"Czech_Republic\", \"line\": {\"color\": \"#FF9900\", \"dash\": \"solid\"}, \"mode\": \"lines\", \"name\": \"Czech_Republic\", \"showlegend\": true, \"x\": [16], \"xaxis\": \"x\", \"y\": [1.937787801898318], \"yaxis\": \"y\", \"type\": \"scatter\"}, {\"hovertemplate\": \"Pa\\u00edses e territ\\u00f3rios=China<br>Dias desde o caso n\\u00famero 50=%{x}<br>Relativa=%{y}<extra></extra>\", \"ids\": [16], \"legendgroup\": \"China\", \"line\": {\"color\": \"#109618\", \"dash\": \"solid\"}, \"mode\": \"lines\", \"name\": \"China\", \"showlegend\": true, \"x\": [16], \"xaxis\": \"x\", \"y\": [0.002784992784992785], \"yaxis\": \"y\", \"type\": \"scatter\"}], \"name\": \"16\"}, {\"data\": [{\"hovertemplate\": \"Pa\\u00edses e territ\\u00f3rios=Brazil<br>Dias desde o caso n\\u00famero 50=%{x}<br>Relativa=%{y}<extra></extra>\", \"ids\": [17], \"legendgroup\": \"Brazil\", \"line\": {\"color\": \"#3366CC\", \"dash\": \"solid\"}, \"mode\": \"lines\", \"name\": \"Brazil\", \"showlegend\": true, \"x\": [17], \"xaxis\": \"x\", \"y\": [0.18652651696129957], \"yaxis\": \"y\", \"type\": \"scatter\"}, {\"hovertemplate\": \"Pa\\u00edses e territ\\u00f3rios=Italy<br>Dias desde o caso n\\u00famero 50=%{x}<br>Relativa=%{y}<extra></extra>\", \"ids\": [17], \"legendgroup\": \"Italy\", \"line\": {\"color\": \"#DC3912\", \"dash\": \"solid\"}, \"mode\": \"lines\", \"name\": \"Italy\", \"showlegend\": true, \"x\": [17], \"xaxis\": \"x\", \"y\": [1.6750288826539033], \"yaxis\": \"y\", \"type\": \"scatter\"}, {\"hovertemplate\": \"Pa\\u00edses e territ\\u00f3rios=Japan<br>Dias desde o caso n\\u00famero 50=%{x}<br>Relativa=%{y}<extra></extra>\", \"ids\": [17], \"legendgroup\": \"Japan\", \"line\": {\"color\": \"#FF9900\", \"dash\": \"solid\"}, \"mode\": \"lines\", \"name\": \"Japan\", \"showlegend\": true, \"x\": [17], \"xaxis\": \"x\", \"y\": [0.02113564668769716], \"yaxis\": \"y\", \"type\": \"scatter\"}, {\"hovertemplate\": \"Pa\\u00edses e territ\\u00f3rios=United_Kingdom<br>Dias desde o caso n\\u00famero 50=%{x}<br>Relativa=%{y}<extra></extra>\", \"ids\": [17], \"legendgroup\": \"United_Kingdom\", \"line\": {\"color\": \"#109618\", \"dash\": \"solid\"}, \"mode\": \"lines\", \"name\": \"United_Kingdom\", \"showlegend\": true, \"x\": [17], \"xaxis\": \"x\", \"y\": [0.6031193216232587], \"yaxis\": \"y\", \"type\": \"scatter\"}, {\"hovertemplate\": \"Pa\\u00edses e territ\\u00f3rios=United_States_of_America<br>Dias desde o caso n\\u00famero 50=%{x}<br>Relativa=%{y}<extra></extra>\", \"ids\": [17], \"legendgroup\": \"United_States_of_America\", \"line\": {\"color\": \"#990099\", \"dash\": \"solid\"}, \"mode\": \"lines\", \"name\": \"United_States_of_America\", \"showlegend\": true, \"x\": [17], \"xaxis\": \"x\", \"y\": [0.05105925698495548], \"yaxis\": \"y\", \"type\": \"scatter\"}, {\"hovertemplate\": \"Pa\\u00edses e territ\\u00f3rios=France<br>Dias desde o caso n\\u00famero 50=%{x}<br>Relativa=%{y}<extra></extra>\", \"ids\": [17], \"legendgroup\": \"France\", \"line\": {\"color\": \"#0099C6\", \"dash\": \"solid\"}, \"mode\": \"lines\", \"name\": \"France\", \"showlegend\": true, \"x\": [17], \"xaxis\": \"x\", \"y\": [0.9934102141680395], \"yaxis\": \"y\", \"type\": \"scatter\"}, {\"hovertemplate\": \"Pa\\u00edses e territ\\u00f3rios=South_Korea<br>Dias desde o caso n\\u00famero 50=%{x}<br>Relativa=%{y}<extra></extra>\", \"ids\": [17], \"legendgroup\": \"South_Korea\", \"line\": {\"color\": \"#DD4477\", \"dash\": \"solid\"}, \"mode\": \"lines\", \"name\": \"South_Korea\", \"showlegend\": true, \"x\": [17], \"xaxis\": \"x\", \"y\": [1.3860501262871576], \"yaxis\": \"y\", \"type\": \"scatter\"}, {\"hovertemplate\": \"Pa\\u00edses e territ\\u00f3rios=Spain<br>Dias desde o caso n\\u00famero 50=%{x}<br>Relativa=%{y}<extra></extra>\", \"ids\": [17], \"legendgroup\": \"Spain\", \"line\": {\"color\": \"#66AA00\", \"dash\": \"solid\"}, \"mode\": \"lines\", \"name\": \"Spain\", \"showlegend\": true, \"x\": [17], \"xaxis\": \"x\", \"y\": [2.402321083172147], \"yaxis\": \"y\", \"type\": \"scatter\"}, {\"hovertemplate\": \"Pa\\u00edses e territ\\u00f3rios=Argentina<br>Dias desde o caso n\\u00famero 50=%{x}<br>Relativa=%{y}<extra></extra>\", \"ids\": [17], \"legendgroup\": \"Argentina\", \"line\": {\"color\": \"#B82E2E\", \"dash\": \"solid\"}, \"mode\": \"lines\", \"name\": \"Argentina\", \"showlegend\": true, \"x\": [17], \"xaxis\": \"x\", \"y\": [0.2559295233792636], \"yaxis\": \"y\", \"type\": \"scatter\"}, {\"hovertemplate\": \"Pa\\u00edses e territ\\u00f3rios=India<br>Dias desde o caso n\\u00famero 50=%{x}<br>Relativa=%{y}<extra></extra>\", \"ids\": [17], \"legendgroup\": \"India\", \"line\": {\"color\": \"#316395\", \"dash\": \"solid\"}, \"mode\": \"lines\", \"name\": \"India\", \"showlegend\": true, \"x\": [17], \"xaxis\": \"x\", \"y\": [0.006519790888722928], \"yaxis\": \"y\", \"type\": \"scatter\"}, {\"hovertemplate\": \"Pa\\u00edses e territ\\u00f3rios=Mexico<br>Dias desde o caso n\\u00famero 50=%{x}<br>Relativa=%{y}<extra></extra>\", \"ids\": [17], \"legendgroup\": \"Mexico\", \"line\": {\"color\": \"#3366CC\", \"dash\": \"solid\"}, \"mode\": \"lines\", \"name\": \"Mexico\", \"showlegend\": true, \"x\": [17], \"xaxis\": \"x\", \"y\": [0.29615301955727485], \"yaxis\": \"y\", \"type\": \"scatter\"}, {\"hovertemplate\": \"Pa\\u00edses e territ\\u00f3rios=Germany<br>Dias desde o caso n\\u00famero 50=%{x}<br>Relativa=%{y}<extra></extra>\", \"ids\": [17], \"legendgroup\": \"Germany\", \"line\": {\"color\": \"#DC3912\", \"dash\": \"solid\"}, \"mode\": \"lines\", \"name\": \"Germany\", \"showlegend\": true, \"x\": [17], \"xaxis\": \"x\", \"y\": [0.7285506543868153], \"yaxis\": \"y\", \"type\": \"scatter\"}, {\"hovertemplate\": \"Pa\\u00edses e territ\\u00f3rios=Czech_Republic<br>Dias desde o caso n\\u00famero 50=%{x}<br>Relativa=%{y}<extra></extra>\", \"ids\": [17], \"legendgroup\": \"Czech_Republic\", \"line\": {\"color\": \"#FF9900\", \"dash\": \"solid\"}, \"mode\": \"lines\", \"name\": \"Czech_Republic\", \"showlegend\": true, \"x\": [17], \"xaxis\": \"x\", \"y\": [2.14171600413495], \"yaxis\": \"y\", \"type\": \"scatter\"}, {\"hovertemplate\": \"Pa\\u00edses e territ\\u00f3rios=China<br>Dias desde o caso n\\u00famero 50=%{x}<br>Relativa=%{y}<extra></extra>\", \"ids\": [17], \"legendgroup\": \"China\", \"line\": {\"color\": \"#109618\", \"dash\": \"solid\"}, \"mode\": \"lines\", \"name\": \"China\", \"showlegend\": true, \"x\": [17], \"xaxis\": \"x\", \"y\": [0.0037950937950937953], \"yaxis\": \"y\", \"type\": \"scatter\"}], \"name\": \"17\"}, {\"data\": [{\"hovertemplate\": \"Pa\\u00edses e territ\\u00f3rios=Brazil<br>Dias desde o caso n\\u00famero 50=%{x}<br>Relativa=%{y}<extra></extra>\", \"ids\": [18], \"legendgroup\": \"Brazil\", \"line\": {\"color\": \"#3366CC\", \"dash\": \"solid\"}, \"mode\": \"lines\", \"name\": \"Brazil\", \"showlegend\": true, \"x\": [18], \"xaxis\": \"x\", \"y\": [0.20334448160535118], \"yaxis\": \"y\", \"type\": \"scatter\"}, {\"hovertemplate\": \"Pa\\u00edses e territ\\u00f3rios=Italy<br>Dias desde o caso n\\u00famero 50=%{x}<br>Relativa=%{y}<extra></extra>\", \"ids\": [18], \"legendgroup\": \"Italy\", \"line\": {\"color\": \"#DC3912\", \"dash\": \"solid\"}, \"mode\": \"lines\", \"name\": \"Italy\", \"showlegend\": true, \"x\": [18], \"xaxis\": \"x\", \"y\": [2.0567750453870275], \"yaxis\": \"y\", \"type\": \"scatter\"}, {\"hovertemplate\": \"Pa\\u00edses e territ\\u00f3rios=Japan<br>Dias desde o caso n\\u00famero 50=%{x}<br>Relativa=%{y}<extra></extra>\", \"ids\": [18], \"legendgroup\": \"Japan\", \"line\": {\"color\": \"#FF9900\", \"dash\": \"solid\"}, \"mode\": \"lines\", \"name\": \"Japan\", \"showlegend\": true, \"x\": [18], \"xaxis\": \"x\", \"y\": [0.025], \"yaxis\": \"y\", \"type\": \"scatter\"}, {\"hovertemplate\": \"Pa\\u00edses e territ\\u00f3rios=United_Kingdom<br>Dias desde o caso n\\u00famero 50=%{x}<br>Relativa=%{y}<extra></extra>\", \"ids\": [18], \"legendgroup\": \"United_Kingdom\", \"line\": {\"color\": \"#109618\", \"dash\": \"solid\"}, \"mode\": \"lines\", \"name\": \"United_Kingdom\", \"showlegend\": true, \"x\": [18], \"xaxis\": \"x\", \"y\": [0.7598425196850394], \"yaxis\": \"y\", \"type\": \"scatter\"}, {\"hovertemplate\": \"Pa\\u00edses e territ\\u00f3rios=United_States_of_America<br>Dias desde o caso n\\u00famero 50=%{x}<br>Relativa=%{y}<extra></extra>\", \"ids\": [18], \"legendgroup\": \"United_States_of_America\", \"line\": {\"color\": \"#990099\", \"dash\": \"solid\"}, \"mode\": \"lines\", \"name\": \"United_States_of_America\", \"showlegend\": true, \"x\": [18], \"xaxis\": \"x\", \"y\": [0.06674854160270187], \"yaxis\": \"y\", \"type\": \"scatter\"}, {\"hovertemplate\": \"Pa\\u00edses e territ\\u00f3rios=France<br>Dias desde o caso n\\u00famero 50=%{x}<br>Relativa=%{y}<extra></extra>\", \"ids\": [18], \"legendgroup\": \"France\", \"line\": {\"color\": \"#0099C6\", \"dash\": \"solid\"}, \"mode\": \"lines\", \"name\": \"France\", \"showlegend\": true, \"x\": [18], \"xaxis\": \"x\", \"y\": [1.1577055563875993], \"yaxis\": \"y\", \"type\": \"scatter\"}, {\"hovertemplate\": \"Pa\\u00edses e territ\\u00f3rios=South_Korea<br>Dias desde o caso n\\u00famero 50=%{x}<br>Relativa=%{y}<extra></extra>\", \"ids\": [18], \"legendgroup\": \"South_Korea\", \"line\": {\"color\": \"#DD4477\", \"dash\": \"solid\"}, \"mode\": \"lines\", \"name\": \"South_Korea\", \"showlegend\": true, \"x\": [18], \"xaxis\": \"x\", \"y\": [1.4342335340975325], \"yaxis\": \"y\", \"type\": \"scatter\"}, {\"hovertemplate\": \"Pa\\u00edses e territ\\u00f3rios=Spain<br>Dias desde o caso n\\u00famero 50=%{x}<br>Relativa=%{y}<extra></extra>\", \"ids\": [18], \"legendgroup\": \"Spain\", \"line\": {\"color\": \"#66AA00\", \"dash\": \"solid\"}, \"mode\": \"lines\", \"name\": \"Spain\", \"showlegend\": true, \"x\": [18], \"xaxis\": \"x\", \"y\": [2.9477756286266925], \"yaxis\": \"y\", \"type\": \"scatter\"}, {\"hovertemplate\": \"Pa\\u00edses e territ\\u00f3rios=India<br>Dias desde o caso n\\u00famero 50=%{x}<br>Relativa=%{y}<extra></extra>\", \"ids\": [18], \"legendgroup\": \"India\", \"line\": {\"color\": \"#316395\", \"dash\": \"solid\"}, \"mode\": \"lines\", \"name\": \"India\", \"showlegend\": true, \"x\": [18], \"xaxis\": \"x\", \"y\": [0.0073114264376400295], \"yaxis\": \"y\", \"type\": \"scatter\"}, {\"hovertemplate\": \"Pa\\u00edses e territ\\u00f3rios=Germany<br>Dias desde o caso n\\u00famero 50=%{x}<br>Relativa=%{y}<extra></extra>\", \"ids\": [18], \"legendgroup\": \"Germany\", \"line\": {\"color\": \"#DC3912\", \"dash\": \"solid\"}, \"mode\": \"lines\", \"name\": \"Germany\", \"showlegend\": true, \"x\": [18], \"xaxis\": \"x\", \"y\": [0.8671837130392632], \"yaxis\": \"y\", \"type\": \"scatter\"}, {\"hovertemplate\": \"Pa\\u00edses e territ\\u00f3rios=Czech_Republic<br>Dias desde o caso n\\u00famero 50=%{x}<br>Relativa=%{y}<extra></extra>\", \"ids\": [18], \"legendgroup\": \"Czech_Republic\", \"line\": {\"color\": \"#FF9900\", \"dash\": \"solid\"}, \"mode\": \"lines\", \"name\": \"Czech_Republic\", \"showlegend\": true, \"x\": [18], \"xaxis\": \"x\", \"y\": [2.5025843435767317], \"yaxis\": \"y\", \"type\": \"scatter\"}, {\"hovertemplate\": \"Pa\\u00edses e territ\\u00f3rios=China<br>Dias desde o caso n\\u00famero 50=%{x}<br>Relativa=%{y}<extra></extra>\", \"ids\": [18], \"legendgroup\": \"China\", \"line\": {\"color\": \"#109618\", \"dash\": \"solid\"}, \"mode\": \"lines\", \"name\": \"China\", \"showlegend\": true, \"x\": [18], \"xaxis\": \"x\", \"y\": [0.004494949494949495], \"yaxis\": \"y\", \"type\": \"scatter\"}], \"name\": \"18\"}, {\"data\": [{\"hovertemplate\": \"Pa\\u00edses e territ\\u00f3rios=Brazil<br>Dias desde o caso n\\u00famero 50=%{x}<br>Relativa=%{y}<extra></extra>\", \"ids\": [19], \"legendgroup\": \"Brazil\", \"line\": {\"color\": \"#3366CC\", \"dash\": \"solid\"}, \"mode\": \"lines\", \"name\": \"Brazil\", \"showlegend\": true, \"x\": [19], \"xaxis\": \"x\", \"y\": [0.21877687529861442], \"yaxis\": \"y\", \"type\": \"scatter\"}, {\"hovertemplate\": \"Pa\\u00edses e territ\\u00f3rios=Italy<br>Dias desde o caso n\\u00famero 50=%{x}<br>Relativa=%{y}<extra></extra>\", \"ids\": [19], \"legendgroup\": \"Italy\", \"line\": {\"color\": \"#DC3912\", \"dash\": \"solid\"}, \"mode\": \"lines\", \"name\": \"Italy\", \"showlegend\": true, \"x\": [19], \"xaxis\": \"x\", \"y\": [2.4943059910876384], \"yaxis\": \"y\", \"type\": \"scatter\"}, {\"hovertemplate\": \"Pa\\u00edses e territ\\u00f3rios=Japan<br>Dias desde o caso n\\u00famero 50=%{x}<br>Relativa=%{y}<extra></extra>\", \"ids\": [19], \"legendgroup\": \"Japan\", \"line\": {\"color\": \"#FF9900\", \"dash\": \"solid\"}, \"mode\": \"lines\", \"name\": \"Japan\", \"showlegend\": true, \"x\": [19], \"xaxis\": \"x\", \"y\": [0.02752365930599369], \"yaxis\": \"y\", \"type\": \"scatter\"}, {\"hovertemplate\": \"Pa\\u00edses e territ\\u00f3rios=United_Kingdom<br>Dias desde o caso n\\u00famero 50=%{x}<br>Relativa=%{y}<extra></extra>\", \"ids\": [19], \"legendgroup\": \"United_Kingdom\", \"line\": {\"color\": \"#109618\", \"dash\": \"solid\"}, \"mode\": \"lines\", \"name\": \"United_Kingdom\", \"showlegend\": true, \"x\": [19], \"xaxis\": \"x\", \"y\": [0.8605390672319806], \"yaxis\": \"y\", \"type\": \"scatter\"}, {\"hovertemplate\": \"Pa\\u00edses e territ\\u00f3rios=United_States_of_America<br>Dias desde o caso n\\u00famero 50=%{x}<br>Relativa=%{y}<extra></extra>\", \"ids\": [19], \"legendgroup\": \"United_States_of_America\", \"line\": {\"color\": \"#990099\", \"dash\": \"solid\"}, \"mode\": \"lines\", \"name\": \"United_States_of_America\", \"showlegend\": true, \"x\": [19], \"xaxis\": \"x\", \"y\": [0.09060485108996008], \"yaxis\": \"y\", \"type\": \"scatter\"}, {\"hovertemplate\": \"Pa\\u00edses e territ\\u00f3rios=France<br>Dias desde o caso n\\u00famero 50=%{x}<br>Relativa=%{y}<extra></extra>\", \"ids\": [19], \"legendgroup\": \"France\", \"line\": {\"color\": \"#0099C6\", \"dash\": \"solid\"}, \"mode\": \"lines\", \"name\": \"France\", \"showlegend\": true, \"x\": [19], \"xaxis\": \"x\", \"y\": [1.3679796315710648], \"yaxis\": \"y\", \"type\": \"scatter\"}, {\"hovertemplate\": \"Pa\\u00edses e territ\\u00f3rios=South_Korea<br>Dias desde o caso n\\u00famero 50=%{x}<br>Relativa=%{y}<extra></extra>\", \"ids\": [19], \"legendgroup\": \"South_Korea\", \"line\": {\"color\": \"#DD4477\", \"dash\": \"solid\"}, \"mode\": \"lines\", \"name\": \"South_Korea\", \"showlegend\": true, \"x\": [19], \"xaxis\": \"x\", \"y\": [1.4596852535457547], \"yaxis\": \"y\", \"type\": \"scatter\"}, {\"hovertemplate\": \"Pa\\u00edses e territ\\u00f3rios=Spain<br>Dias desde o caso n\\u00famero 50=%{x}<br>Relativa=%{y}<extra></extra>\", \"ids\": [19], \"legendgroup\": \"Spain\", \"line\": {\"color\": \"#66AA00\", \"dash\": \"solid\"}, \"mode\": \"lines\", \"name\": \"Spain\", \"showlegend\": true, \"x\": [19], \"xaxis\": \"x\", \"y\": [3.68514936600043], \"yaxis\": \"y\", \"type\": \"scatter\"}, {\"hovertemplate\": \"Pa\\u00edses e territ\\u00f3rios=India<br>Dias desde o caso n\\u00famero 50=%{x}<br>Relativa=%{y}<extra></extra>\", \"ids\": [19], \"legendgroup\": \"India\", \"line\": {\"color\": \"#316395\", \"dash\": \"solid\"}, \"mode\": \"lines\", \"name\": \"India\", \"showlegend\": true, \"x\": [19], \"xaxis\": \"x\", \"y\": [0.007998506348020911], \"yaxis\": \"y\", \"type\": \"scatter\"}, {\"hovertemplate\": \"Pa\\u00edses e territ\\u00f3rios=Germany<br>Dias desde o caso n\\u00famero 50=%{x}<br>Relativa=%{y}<extra></extra>\", \"ids\": [19], \"legendgroup\": \"Germany\", \"line\": {\"color\": \"#DC3912\", \"dash\": \"solid\"}, \"mode\": \"lines\", \"name\": \"Germany\", \"showlegend\": true, \"x\": [19], \"xaxis\": \"x\", \"y\": [0.993456131846825], \"yaxis\": \"y\", \"type\": \"scatter\"}, {\"hovertemplate\": \"Pa\\u00edses e territ\\u00f3rios=Czech_Republic<br>Dias desde o caso n\\u00famero 50=%{x}<br>Relativa=%{y}<extra></extra>\", \"ids\": [19], \"legendgroup\": \"Czech_Republic\", \"line\": {\"color\": \"#FF9900\", \"dash\": \"solid\"}, \"mode\": \"lines\", \"name\": \"Czech_Republic\", \"showlegend\": true, \"x\": [19], \"xaxis\": \"x\", \"y\": [2.658584719481252], \"yaxis\": \"y\", \"type\": \"scatter\"}, {\"hovertemplate\": \"Pa\\u00edses e territ\\u00f3rios=China<br>Dias desde o caso n\\u00famero 50=%{x}<br>Relativa=%{y}<extra></extra>\", \"ids\": [19], \"legendgroup\": \"China\", \"line\": {\"color\": \"#109618\", \"dash\": \"solid\"}, \"mode\": \"lines\", \"name\": \"China\", \"showlegend\": true, \"x\": [19], \"xaxis\": \"x\", \"y\": [0.006363636363636364], \"yaxis\": \"y\", \"type\": \"scatter\"}], \"name\": \"19\"}, {\"data\": [{\"hovertemplate\": \"Pa\\u00edses e territ\\u00f3rios=Brazil<br>Dias desde o caso n\\u00famero 50=%{x}<br>Relativa=%{y}<extra></extra>\", \"ids\": [20], \"legendgroup\": \"Brazil\", \"line\": {\"color\": \"#3366CC\", \"dash\": \"solid\"}, \"mode\": \"lines\", \"name\": \"Brazil\", \"showlegend\": true, \"x\": [20], \"xaxis\": \"x\", \"y\": [0.2731485905398949], \"yaxis\": \"y\", \"type\": \"scatter\"}, {\"hovertemplate\": \"Pa\\u00edses e territ\\u00f3rios=Italy<br>Dias desde o caso n\\u00famero 50=%{x}<br>Relativa=%{y}<extra></extra>\", \"ids\": [20], \"legendgroup\": \"Italy\", \"line\": {\"color\": \"#DC3912\", \"dash\": \"solid\"}, \"mode\": \"lines\", \"name\": \"Italy\", \"showlegend\": true, \"x\": [20], \"xaxis\": \"x\", \"y\": [2.9146723881828684], \"yaxis\": \"y\", \"type\": \"scatter\"}, {\"hovertemplate\": \"Pa\\u00edses e territ\\u00f3rios=Japan<br>Dias desde o caso n\\u00famero 50=%{x}<br>Relativa=%{y}<extra></extra>\", \"ids\": [20], \"legendgroup\": \"Japan\", \"line\": {\"color\": \"#FF9900\", \"dash\": \"solid\"}, \"mode\": \"lines\", \"name\": \"Japan\", \"showlegend\": true, \"x\": [20], \"xaxis\": \"x\", \"y\": [0.032176656151419555], \"yaxis\": \"y\", \"type\": \"scatter\"}, {\"hovertemplate\": \"Pa\\u00edses e territ\\u00f3rios=United_Kingdom<br>Dias desde o caso n\\u00famero 50=%{x}<br>Relativa=%{y}<extra></extra>\", \"ids\": [20], \"legendgroup\": \"United_Kingdom\", \"line\": {\"color\": \"#109618\", \"dash\": \"solid\"}, \"mode\": \"lines\", \"name\": \"United_Kingdom\", \"showlegend\": true, \"x\": [20], \"xaxis\": \"x\", \"y\": [1.0069654754694124], \"yaxis\": \"y\", \"type\": \"scatter\"}, {\"hovertemplate\": \"Pa\\u00edses e territ\\u00f3rios=United_States_of_America<br>Dias desde o caso n\\u00famero 50=%{x}<br>Relativa=%{y}<extra></extra>\", \"ids\": [20], \"legendgroup\": \"United_States_of_America\", \"line\": {\"color\": \"#990099\", \"dash\": \"solid\"}, \"mode\": \"lines\", \"name\": \"United_States_of_America\", \"showlegend\": true, \"x\": [20], \"xaxis\": \"x\", \"y\": [0.1158735032238256], \"yaxis\": \"y\", \"type\": \"scatter\"}, {\"hovertemplate\": \"Pa\\u00edses e territ\\u00f3rios=France<br>Dias desde o caso n\\u00famero 50=%{x}<br>Relativa=%{y}<extra></extra>\", \"ids\": [20], \"legendgroup\": \"France\", \"line\": {\"color\": \"#0099C6\", \"dash\": \"solid\"}, \"mode\": \"lines\", \"name\": \"France\", \"showlegend\": true, \"x\": [20], \"xaxis\": \"x\", \"y\": [1.646697618691029], \"yaxis\": \"y\", \"type\": \"scatter\"}, {\"hovertemplate\": \"Pa\\u00edses e territ\\u00f3rios=South_Korea<br>Dias desde o caso n\\u00famero 50=%{x}<br>Relativa=%{y}<extra></extra>\", \"ids\": [20], \"legendgroup\": \"South_Korea\", \"line\": {\"color\": \"#DD4477\", \"dash\": \"solid\"}, \"mode\": \"lines\", \"name\": \"South_Korea\", \"showlegend\": true, \"x\": [20], \"xaxis\": \"x\", \"y\": [1.5067029337478142], \"yaxis\": \"y\", \"type\": \"scatter\"}, {\"hovertemplate\": \"Pa\\u00edses e territ\\u00f3rios=Spain<br>Dias desde o caso n\\u00famero 50=%{x}<br>Relativa=%{y}<extra></extra>\", \"ids\": [20], \"legendgroup\": \"Spain\", \"line\": {\"color\": \"#66AA00\", \"dash\": \"solid\"}, \"mode\": \"lines\", \"name\": \"Spain\", \"showlegend\": true, \"x\": [20], \"xaxis\": \"x\", \"y\": [4.294003868471954], \"yaxis\": \"y\", \"type\": \"scatter\"}, {\"hovertemplate\": \"Pa\\u00edses e territ\\u00f3rios=India<br>Dias desde o caso n\\u00famero 50=%{x}<br>Relativa=%{y}<extra></extra>\", \"ids\": [20], \"legendgroup\": \"India\", \"line\": {\"color\": \"#316395\", \"dash\": \"solid\"}, \"mode\": \"lines\", \"name\": \"India\", \"showlegend\": true, \"x\": [20], \"xaxis\": \"x\", \"y\": [0.009342793129200897], \"yaxis\": \"y\", \"type\": \"scatter\"}, {\"hovertemplate\": \"Pa\\u00edses e territ\\u00f3rios=Germany<br>Dias desde o caso n\\u00famero 50=%{x}<br>Relativa=%{y}<extra></extra>\", \"ids\": [20], \"legendgroup\": \"Germany\", \"line\": {\"color\": \"#DC3912\", \"dash\": \"solid\"}, \"mode\": \"lines\", \"name\": \"Germany\", \"showlegend\": true, \"x\": [20], \"xaxis\": \"x\", \"y\": [1.7132816286960737], \"yaxis\": \"y\", \"type\": \"scatter\"}, {\"hovertemplate\": \"Pa\\u00edses e territ\\u00f3rios=Czech_Republic<br>Dias desde o caso n\\u00famero 50=%{x}<br>Relativa=%{y}<extra></extra>\", \"ids\": [20], \"legendgroup\": \"Czech_Republic\", \"line\": {\"color\": \"#FF9900\", \"dash\": \"solid\"}, \"mode\": \"lines\", \"name\": \"Czech_Republic\", \"showlegend\": true, \"x\": [20], \"xaxis\": \"x\", \"y\": [2.8211634244901798], \"yaxis\": \"y\", \"type\": \"scatter\"}, {\"hovertemplate\": \"Pa\\u00edses e territ\\u00f3rios=China<br>Dias desde o caso n\\u00famero 50=%{x}<br>Relativa=%{y}<extra></extra>\", \"ids\": [20], \"legendgroup\": \"China\", \"line\": {\"color\": \"#109618\", \"dash\": \"solid\"}, \"mode\": \"lines\", \"name\": \"China\", \"showlegend\": true, \"x\": [20], \"xaxis\": \"x\", \"y\": [0.009545454545454546], \"yaxis\": \"y\", \"type\": \"scatter\"}], \"name\": \"20\"}, {\"data\": [{\"hovertemplate\": \"Pa\\u00edses e territ\\u00f3rios=Brazil<br>Dias desde o caso n\\u00famero 50=%{x}<br>Relativa=%{y}<extra></extra>\", \"ids\": [21], \"legendgroup\": \"Brazil\", \"line\": {\"color\": \"#3366CC\", \"dash\": \"solid\"}, \"mode\": \"lines\", \"name\": \"Brazil\", \"showlegend\": true, \"x\": [21], \"xaxis\": \"x\", \"y\": [0.32661251791686574], \"yaxis\": \"y\", \"type\": \"scatter\"}, {\"hovertemplate\": \"Pa\\u00edses e territ\\u00f3rios=Italy<br>Dias desde o caso n\\u00famero 50=%{x}<br>Relativa=%{y}<extra></extra>\", \"ids\": [21], \"legendgroup\": \"Italy\", \"line\": {\"color\": \"#DC3912\", \"dash\": \"solid\"}, \"mode\": \"lines\", \"name\": \"Italy\", \"showlegend\": true, \"x\": [21], \"xaxis\": \"x\", \"y\": [2.929526324475986], \"yaxis\": \"y\", \"type\": \"scatter\"}, {\"hovertemplate\": \"Pa\\u00edses e territ\\u00f3rios=Japan<br>Dias desde o caso n\\u00famero 50=%{x}<br>Relativa=%{y}<extra></extra>\", \"ids\": [21], \"legendgroup\": \"Japan\", \"line\": {\"color\": \"#FF9900\", \"dash\": \"solid\"}, \"mode\": \"lines\", \"name\": \"Japan\", \"showlegend\": true, \"x\": [21], \"xaxis\": \"x\", \"y\": [0.03588328075709779], \"yaxis\": \"y\", \"type\": \"scatter\"}, {\"hovertemplate\": \"Pa\\u00edses e territ\\u00f3rios=United_Kingdom<br>Dias desde o caso n\\u00famero 50=%{x}<br>Relativa=%{y}<extra></extra>\", \"ids\": [21], \"legendgroup\": \"United_Kingdom\", \"line\": {\"color\": \"#109618\", \"dash\": \"solid\"}, \"mode\": \"lines\", \"name\": \"United_Kingdom\", \"showlegend\": true, \"x\": [21], \"xaxis\": \"x\", \"y\": [1.223046638400969], \"yaxis\": \"y\", \"type\": \"scatter\"}, {\"hovertemplate\": \"Pa\\u00edses e territ\\u00f3rios=United_States_of_America<br>Dias desde o caso n\\u00famero 50=%{x}<br>Relativa=%{y}<extra></extra>\", \"ids\": [21], \"legendgroup\": \"United_States_of_America\", \"line\": {\"color\": \"#990099\", \"dash\": \"solid\"}, \"mode\": \"lines\", \"name\": \"United_States_of_America\", \"showlegend\": true, \"x\": [21], \"xaxis\": \"x\", \"y\": [0.14310715382253608], \"yaxis\": \"y\", \"type\": \"scatter\"}, {\"hovertemplate\": \"Pa\\u00edses e territ\\u00f3rios=France<br>Dias desde o caso n\\u00famero 50=%{x}<br>Relativa=%{y}<extra></extra>\", \"ids\": [21], \"legendgroup\": \"France\", \"line\": {\"color\": \"#0099C6\", \"dash\": \"solid\"}, \"mode\": \"lines\", \"name\": \"France\", \"showlegend\": true, \"x\": [21], \"xaxis\": \"x\", \"y\": [1.888872248015576], \"yaxis\": \"y\", \"type\": \"scatter\"}, {\"hovertemplate\": \"Pa\\u00edses e territ\\u00f3rios=South_Korea<br>Dias desde o caso n\\u00famero 50=%{x}<br>Relativa=%{y}<extra></extra>\", \"ids\": [21], \"legendgroup\": \"South_Korea\", \"line\": {\"color\": \"#DD4477\", \"dash\": \"solid\"}, \"mode\": \"lines\", \"name\": \"South_Korea\", \"showlegend\": true, \"x\": [21], \"xaxis\": \"x\", \"y\": [1.5288517583058092], \"yaxis\": \"y\", \"type\": \"scatter\"}, {\"hovertemplate\": \"Pa\\u00edses e territ\\u00f3rios=Spain<br>Dias desde o caso n\\u00famero 50=%{x}<br>Relativa=%{y}<extra></extra>\", \"ids\": [21], \"legendgroup\": \"Spain\", \"line\": {\"color\": \"#66AA00\", \"dash\": \"solid\"}, \"mode\": \"lines\", \"name\": \"Spain\", \"showlegend\": true, \"x\": [21], \"xaxis\": \"x\", \"y\": [5.356973995271868], \"yaxis\": \"y\", \"type\": \"scatter\"}, {\"hovertemplate\": \"Pa\\u00edses e territ\\u00f3rios=India<br>Dias desde o caso n\\u00famero 50=%{x}<br>Relativa=%{y}<extra></extra>\", \"ids\": [21], \"legendgroup\": \"India\", \"line\": {\"color\": \"#316395\", \"dash\": \"solid\"}, \"mode\": \"lines\", \"name\": \"India\", \"showlegend\": true, \"x\": [21], \"xaxis\": \"x\", \"y\": [0.010433159073935773], \"yaxis\": \"y\", \"type\": \"scatter\"}, {\"hovertemplate\": \"Pa\\u00edses e territ\\u00f3rios=Germany<br>Dias desde o caso n\\u00famero 50=%{x}<br>Relativa=%{y}<extra></extra>\", \"ids\": [21], \"legendgroup\": \"Germany\", \"line\": {\"color\": \"#DC3912\", \"dash\": \"solid\"}, \"mode\": \"lines\", \"name\": \"Germany\", \"showlegend\": true, \"x\": [21], \"xaxis\": \"x\", \"y\": [2.2039505574406206], \"yaxis\": \"y\", \"type\": \"scatter\"}, {\"hovertemplate\": \"Pa\\u00edses e territ\\u00f3rios=Czech_Republic<br>Dias desde o caso n\\u00famero 50=%{x}<br>Relativa=%{y}<extra></extra>\", \"ids\": [21], \"legendgroup\": \"Czech_Republic\", \"line\": {\"color\": \"#FF9900\", \"dash\": \"solid\"}, \"mode\": \"lines\", \"name\": \"Czech_Republic\", \"showlegend\": true, \"x\": [21], \"xaxis\": \"x\", \"y\": [3.10873038248285], \"yaxis\": \"y\", \"type\": \"scatter\"}, {\"hovertemplate\": \"Pa\\u00edses e territ\\u00f3rios=China<br>Dias desde o caso n\\u00famero 50=%{x}<br>Relativa=%{y}<extra></extra>\", \"ids\": [21], \"legendgroup\": \"China\", \"line\": {\"color\": \"#109618\", \"dash\": \"solid\"}, \"mode\": \"lines\", \"name\": \"China\", \"showlegend\": true, \"x\": [21], \"xaxis\": \"x\", \"y\": [0.014343434343434344], \"yaxis\": \"y\", \"type\": \"scatter\"}], \"name\": \"21\"}, {\"data\": [{\"hovertemplate\": \"Pa\\u00edses e territ\\u00f3rios=Italy<br>Dias desde o caso n\\u00famero 50=%{x}<br>Relativa=%{y}<extra></extra>\", \"ids\": [22], \"legendgroup\": \"Italy\", \"line\": {\"color\": \"#DC3912\", \"dash\": \"solid\"}, \"mode\": \"lines\", \"name\": \"Italy\", \"showlegend\": true, \"x\": [22], \"xaxis\": \"x\", \"y\": [3.9577488034329096], \"yaxis\": \"y\", \"type\": \"scatter\"}, {\"hovertemplate\": \"Pa\\u00edses e territ\\u00f3rios=Japan<br>Dias desde o caso n\\u00famero 50=%{x}<br>Relativa=%{y}<extra></extra>\", \"ids\": [22], \"legendgroup\": \"Japan\", \"line\": {\"color\": \"#FF9900\", \"dash\": \"solid\"}, \"mode\": \"lines\", \"name\": \"Japan\", \"showlegend\": true, \"x\": [22], \"xaxis\": \"x\", \"y\": [0.038485804416403785], \"yaxis\": \"y\", \"type\": \"scatter\"}, {\"hovertemplate\": \"Pa\\u00edses e territ\\u00f3rios=United_Kingdom<br>Dias desde o caso n\\u00famero 50=%{x}<br>Relativa=%{y}<extra></extra>\", \"ids\": [22], \"legendgroup\": \"United_Kingdom\", \"line\": {\"color\": \"#109618\", \"dash\": \"solid\"}, \"mode\": \"lines\", \"name\": \"United_Kingdom\", \"showlegend\": true, \"x\": [22], \"xaxis\": \"x\", \"y\": [1.4429133858267718], \"yaxis\": \"y\", \"type\": \"scatter\"}, {\"hovertemplate\": \"Pa\\u00edses e territ\\u00f3rios=United_States_of_America<br>Dias desde o caso n\\u00famero 50=%{x}<br>Relativa=%{y}<extra></extra>\", \"ids\": [22], \"legendgroup\": \"United_States_of_America\", \"line\": {\"color\": \"#990099\", \"dash\": \"solid\"}, \"mode\": \"lines\", \"name\": \"United_States_of_America\", \"showlegend\": true, \"x\": [22], \"xaxis\": \"x\", \"y\": [0.1973288302118514], \"yaxis\": \"y\", \"type\": \"scatter\"}, {\"hovertemplate\": \"Pa\\u00edses e territ\\u00f3rios=France<br>Dias desde o caso n\\u00famero 50=%{x}<br>Relativa=%{y}<extra></extra>\", \"ids\": [22], \"legendgroup\": \"France\", \"line\": {\"color\": \"#0099C6\", \"dash\": \"solid\"}, \"mode\": \"lines\", \"name\": \"France\", \"showlegend\": true, \"x\": [22], \"xaxis\": \"x\", \"y\": [2.165493485098098], \"yaxis\": \"y\", \"type\": \"scatter\"}, {\"hovertemplate\": \"Pa\\u00edses e territ\\u00f3rios=South_Korea<br>Dias desde o caso n\\u00famero 50=%{x}<br>Relativa=%{y}<extra></extra>\", \"ids\": [22], \"legendgroup\": \"South_Korea\", \"line\": {\"color\": \"#DD4477\", \"dash\": \"solid\"}, \"mode\": \"lines\", \"name\": \"South_Korea\", \"showlegend\": true, \"x\": [22], \"xaxis\": \"x\", \"y\": [1.5502234311249272], \"yaxis\": \"y\", \"type\": \"scatter\"}, {\"hovertemplate\": \"Pa\\u00edses e territ\\u00f3rios=Spain<br>Dias desde o caso n\\u00famero 50=%{x}<br>Relativa=%{y}<extra></extra>\", \"ids\": [22], \"legendgroup\": \"Spain\", \"line\": {\"color\": \"#66AA00\", \"dash\": \"solid\"}, \"mode\": \"lines\", \"name\": \"Spain\", \"showlegend\": true, \"x\": [22], \"xaxis\": \"x\", \"y\": [6.140554480980013], \"yaxis\": \"y\", \"type\": \"scatter\"}, {\"hovertemplate\": \"Pa\\u00edses e territ\\u00f3rios=India<br>Dias desde o caso n\\u00famero 50=%{x}<br>Relativa=%{y}<extra></extra>\", \"ids\": [22], \"legendgroup\": \"India\", \"line\": {\"color\": \"#316395\", \"dash\": \"solid\"}, \"mode\": \"lines\", \"name\": \"India\", \"showlegend\": true, \"x\": [22], \"xaxis\": \"x\", \"y\": [0.01467513069454817], \"yaxis\": \"y\", \"type\": \"scatter\"}, {\"hovertemplate\": \"Pa\\u00edses e territ\\u00f3rios=Germany<br>Dias desde o caso n\\u00famero 50=%{x}<br>Relativa=%{y}<extra></extra>\", \"ids\": [22], \"legendgroup\": \"Germany\", \"line\": {\"color\": \"#DC3912\", \"dash\": \"solid\"}, \"mode\": \"lines\", \"name\": \"Germany\", \"showlegend\": true, \"x\": [22], \"xaxis\": \"x\", \"y\": [2.600945225399903], \"yaxis\": \"y\", \"type\": \"scatter\"}, {\"hovertemplate\": \"Pa\\u00edses e territ\\u00f3rios=Czech_Republic<br>Dias desde o caso n\\u00famero 50=%{x}<br>Relativa=%{y}<extra></extra>\", \"ids\": [22], \"legendgroup\": \"Czech_Republic\", \"line\": {\"color\": \"#FF9900\", \"dash\": \"solid\"}, \"mode\": \"lines\", \"name\": \"Czech_Republic\", \"showlegend\": true, \"x\": [22], \"xaxis\": \"x\", \"y\": [3.3728033079597783], \"yaxis\": \"y\", \"type\": \"scatter\"}, {\"hovertemplate\": \"Pa\\u00edses e territ\\u00f3rios=China<br>Dias desde o caso n\\u00famero 50=%{x}<br>Relativa=%{y}<extra></extra>\", \"ids\": [22], \"legendgroup\": \"China\", \"line\": {\"color\": \"#109618\", \"dash\": \"solid\"}, \"mode\": \"lines\", \"name\": \"China\", \"showlegend\": true, \"x\": [22], \"xaxis\": \"x\", \"y\": [0.02002164502164502], \"yaxis\": \"y\", \"type\": \"scatter\"}], \"name\": \"22\"}, {\"data\": [{\"hovertemplate\": \"Pa\\u00edses e territ\\u00f3rios=Italy<br>Dias desde o caso n\\u00famero 50=%{x}<br>Relativa=%{y}<extra></extra>\", \"ids\": [23], \"legendgroup\": \"Italy\", \"line\": {\"color\": \"#DC3912\", \"dash\": \"solid\"}, \"mode\": \"lines\", \"name\": \"Italy\", \"showlegend\": true, \"x\": [23], \"xaxis\": \"x\", \"y\": [4.617923749793695], \"yaxis\": \"y\", \"type\": \"scatter\"}, {\"hovertemplate\": \"Pa\\u00edses e territ\\u00f3rios=Japan<br>Dias desde o caso n\\u00famero 50=%{x}<br>Relativa=%{y}<extra></extra>\", \"ids\": [23], \"legendgroup\": \"Japan\", \"line\": {\"color\": \"#FF9900\", \"dash\": \"solid\"}, \"mode\": \"lines\", \"name\": \"Japan\", \"showlegend\": true, \"x\": [23], \"xaxis\": \"x\", \"y\": [0.04053627760252366], \"yaxis\": \"y\", \"type\": \"scatter\"}, {\"hovertemplate\": \"Pa\\u00edses e territ\\u00f3rios=United_Kingdom<br>Dias desde o caso n\\u00famero 50=%{x}<br>Relativa=%{y}<extra></extra>\", \"ids\": [23], \"legendgroup\": \"United_Kingdom\", \"line\": {\"color\": \"#109618\", \"dash\": \"solid\"}, \"mode\": \"lines\", \"name\": \"United_Kingdom\", \"showlegend\": true, \"x\": [23], \"xaxis\": \"x\", \"y\": [1.7652937613567534], \"yaxis\": \"y\", \"type\": \"scatter\"}, {\"hovertemplate\": \"Pa\\u00edses e territ\\u00f3rios=United_States_of_America<br>Dias desde o caso n\\u00famero 50=%{x}<br>Relativa=%{y}<extra></extra>\", \"ids\": [23], \"legendgroup\": \"United_States_of_America\", \"line\": {\"color\": \"#990099\", \"dash\": \"solid\"}, \"mode\": \"lines\", \"name\": \"United_States_of_America\", \"showlegend\": true, \"x\": [23], \"xaxis\": \"x\", \"y\": [0.2890696960393], \"yaxis\": \"y\", \"type\": \"scatter\"}, {\"hovertemplate\": \"Pa\\u00edses e territ\\u00f3rios=France<br>Dias desde o caso n\\u00famero 50=%{x}<br>Relativa=%{y}<extra></extra>\", \"ids\": [23], \"legendgroup\": \"France\", \"line\": {\"color\": \"#0099C6\", \"dash\": \"solid\"}, \"mode\": \"lines\", \"name\": \"France\", \"showlegend\": true, \"x\": [23], \"xaxis\": \"x\", \"y\": [2.3989815785532427], \"yaxis\": \"y\", \"type\": \"scatter\"}, {\"hovertemplate\": \"Pa\\u00edses e territ\\u00f3rios=South_Korea<br>Dias desde o caso n\\u00famero 50=%{x}<br>Relativa=%{y}<extra></extra>\", \"ids\": [23], \"legendgroup\": \"South_Korea\", \"line\": {\"color\": \"#DD4477\", \"dash\": \"solid\"}, \"mode\": \"lines\", \"name\": \"South_Korea\", \"showlegend\": true, \"x\": [23], \"xaxis\": \"x\", \"y\": [1.5710122401398874], \"yaxis\": \"y\", \"type\": \"scatter\"}, {\"hovertemplate\": \"Pa\\u00edses e territ\\u00f3rios=Spain<br>Dias desde o caso n\\u00famero 50=%{x}<br>Relativa=%{y}<extra></extra>\", \"ids\": [23], \"legendgroup\": \"Spain\", \"line\": {\"color\": \"#66AA00\", \"dash\": \"solid\"}, \"mode\": \"lines\", \"name\": \"Spain\", \"showlegend\": true, \"x\": [23], \"xaxis\": \"x\", \"y\": [7.111326026219643], \"yaxis\": \"y\", \"type\": \"scatter\"}, {\"hovertemplate\": \"Pa\\u00edses e territ\\u00f3rios=Germany<br>Dias desde o caso n\\u00famero 50=%{x}<br>Relativa=%{y}<extra></extra>\", \"ids\": [23], \"legendgroup\": \"Germany\", \"line\": {\"color\": \"#DC3912\", \"dash\": \"solid\"}, \"mode\": \"lines\", \"name\": \"Germany\", \"showlegend\": true, \"x\": [23], \"xaxis\": \"x\", \"y\": [3.0021812893843918], \"yaxis\": \"y\", \"type\": \"scatter\"}, {\"hovertemplate\": \"Pa\\u00edses e territ\\u00f3rios=China<br>Dias desde o caso n\\u00famero 50=%{x}<br>Relativa=%{y}<extra></extra>\", \"ids\": [23], \"legendgroup\": \"China\", \"line\": {\"color\": \"#109618\", \"dash\": \"solid\"}, \"mode\": \"lines\", \"name\": \"China\", \"showlegend\": true, \"x\": [23], \"xaxis\": \"x\", \"y\": [0.03266955266955267], \"yaxis\": \"y\", \"type\": \"scatter\"}], \"name\": \"23\"}, {\"data\": [{\"hovertemplate\": \"Pa\\u00edses e territ\\u00f3rios=Italy<br>Dias desde o caso n\\u00famero 50=%{x}<br>Relativa=%{y}<extra></extra>\", \"ids\": [24], \"legendgroup\": \"Italy\", \"line\": {\"color\": \"#DC3912\", \"dash\": \"solid\"}, \"mode\": \"lines\", \"name\": \"Italy\", \"showlegend\": true, \"x\": [24], \"xaxis\": \"x\", \"y\": [5.199867965010728], \"yaxis\": \"y\", \"type\": \"scatter\"}, {\"hovertemplate\": \"Pa\\u00edses e territ\\u00f3rios=Japan<br>Dias desde o caso n\\u00famero 50=%{x}<br>Relativa=%{y}<extra></extra>\", \"ids\": [24], \"legendgroup\": \"Japan\", \"line\": {\"color\": \"#FF9900\", \"dash\": \"solid\"}, \"mode\": \"lines\", \"name\": \"Japan\", \"showlegend\": true, \"x\": [24], \"xaxis\": \"x\", \"y\": [0.044794952681388014], \"yaxis\": \"y\", \"type\": \"scatter\"}, {\"hovertemplate\": \"Pa\\u00edses e territ\\u00f3rios=United_Kingdom<br>Dias desde o caso n\\u00famero 50=%{x}<br>Relativa=%{y}<extra></extra>\", \"ids\": [24], \"legendgroup\": \"United_Kingdom\", \"line\": {\"color\": \"#109618\", \"dash\": \"solid\"}, \"mode\": \"lines\", \"name\": \"United_Kingdom\", \"showlegend\": true, \"x\": [24], \"xaxis\": \"x\", \"y\": [2.202150211992732], \"yaxis\": \"y\", \"type\": \"scatter\"}, {\"hovertemplate\": \"Pa\\u00edses e territ\\u00f3rios=United_States_of_America<br>Dias desde o caso n\\u00famero 50=%{x}<br>Relativa=%{y}<extra></extra>\", \"ids\": [24], \"legendgroup\": \"United_States_of_America\", \"line\": {\"color\": \"#990099\", \"dash\": \"solid\"}, \"mode\": \"lines\", \"name\": \"United_States_of_America\", \"showlegend\": true, \"x\": [24], \"xaxis\": \"x\", \"y\": [0.4375191894381332], \"yaxis\": \"y\", \"type\": \"scatter\"}, {\"hovertemplate\": \"Pa\\u00edses e territ\\u00f3rios=France<br>Dias desde o caso n\\u00famero 50=%{x}<br>Relativa=%{y}<extra></extra>\", \"ids\": [24], \"legendgroup\": \"France\", \"line\": {\"color\": \"#0099C6\", \"dash\": \"solid\"}, \"mode\": \"lines\", \"name\": \"France\", \"showlegend\": true, \"x\": [24], \"xaxis\": \"x\", \"y\": [2.9737906245319756], \"yaxis\": \"y\", \"type\": \"scatter\"}, {\"hovertemplate\": \"Pa\\u00edses e territ\\u00f3rios=South_Korea<br>Dias desde o caso n\\u00famero 50=%{x}<br>Relativa=%{y}<extra></extra>\", \"ids\": [24], \"legendgroup\": \"South_Korea\", \"line\": {\"color\": \"#DD4477\", \"dash\": \"solid\"}, \"mode\": \"lines\", \"name\": \"South_Korea\", \"showlegend\": true, \"x\": [24], \"xaxis\": \"x\", \"y\": [1.5857781231785506], \"yaxis\": \"y\", \"type\": \"scatter\"}, {\"hovertemplate\": \"Pa\\u00edses e territ\\u00f3rios=Spain<br>Dias desde o caso n\\u00famero 50=%{x}<br>Relativa=%{y}<extra></extra>\", \"ids\": [24], \"legendgroup\": \"Spain\", \"line\": {\"color\": \"#66AA00\", \"dash\": \"solid\"}, \"mode\": \"lines\", \"name\": \"Spain\", \"showlegend\": true, \"x\": [24], \"xaxis\": \"x\", \"y\": [8.526327100795186], \"yaxis\": \"y\", \"type\": \"scatter\"}, {\"hovertemplate\": \"Pa\\u00edses e territ\\u00f3rios=Germany<br>Dias desde o caso n\\u00famero 50=%{x}<br>Relativa=%{y}<extra></extra>\", \"ids\": [24], \"legendgroup\": \"Germany\", \"line\": {\"color\": \"#DC3912\", \"dash\": \"solid\"}, \"mode\": \"lines\", \"name\": \"Germany\", \"showlegend\": true, \"x\": [24], \"xaxis\": \"x\", \"y\": [3.5399903053805137], \"yaxis\": \"y\", \"type\": \"scatter\"}, {\"hovertemplate\": \"Pa\\u00edses e territ\\u00f3rios=China<br>Dias desde o caso n\\u00famero 50=%{x}<br>Relativa=%{y}<extra></extra>\", \"ids\": [24], \"legendgroup\": \"China\", \"line\": {\"color\": \"#109618\", \"dash\": \"solid\"}, \"mode\": \"lines\", \"name\": \"China\", \"showlegend\": true, \"x\": [24], \"xaxis\": \"x\", \"y\": [0.04324675324675325], \"yaxis\": \"y\", \"type\": \"scatter\"}], \"name\": \"24\"}, {\"data\": [{\"hovertemplate\": \"Pa\\u00edses e territ\\u00f3rios=Italy<br>Dias desde o caso n\\u00famero 50=%{x}<br>Relativa=%{y}<extra></extra>\", \"ids\": [25], \"legendgroup\": \"Italy\", \"line\": {\"color\": \"#DC3912\", \"dash\": \"solid\"}, \"mode\": \"lines\", \"name\": \"Italy\", \"showlegend\": true, \"x\": [25], \"xaxis\": \"x\", \"y\": [5.894206964845684], \"yaxis\": \"y\", \"type\": \"scatter\"}, {\"hovertemplate\": \"Pa\\u00edses e territ\\u00f3rios=Japan<br>Dias desde o caso n\\u00famero 50=%{x}<br>Relativa=%{y}<extra></extra>\", \"ids\": [25], \"legendgroup\": \"Japan\", \"line\": {\"color\": \"#FF9900\", \"dash\": \"solid\"}, \"mode\": \"lines\", \"name\": \"Japan\", \"showlegend\": true, \"x\": [25], \"xaxis\": \"x\", \"y\": [0.04881703470031546], \"yaxis\": \"y\", \"type\": \"scatter\"}, {\"hovertemplate\": \"Pa\\u00edses e territ\\u00f3rios=United_Kingdom<br>Dias desde o caso n\\u00famero 50=%{x}<br>Relativa=%{y}<extra></extra>\", \"ids\": [25], \"legendgroup\": \"United_Kingdom\", \"line\": {\"color\": \"#109618\", \"dash\": \"solid\"}, \"mode\": \"lines\", \"name\": \"United_Kingdom\", \"showlegend\": true, \"x\": [25], \"xaxis\": \"x\", \"y\": [2.5876741368867355], \"yaxis\": \"y\", \"type\": \"scatter\"}, {\"hovertemplate\": \"Pa\\u00edses e territ\\u00f3rios=United_States_of_America<br>Dias desde o caso n\\u00famero 50=%{x}<br>Relativa=%{y}<extra></extra>\", \"ids\": [25], \"legendgroup\": \"United_States_of_America\", \"line\": {\"color\": \"#990099\", \"dash\": \"solid\"}, \"mode\": \"lines\", \"name\": \"United_States_of_America\", \"showlegend\": true, \"x\": [25], \"xaxis\": \"x\", \"y\": [0.6025176542830826], \"yaxis\": \"y\", \"type\": \"scatter\"}, {\"hovertemplate\": \"Pa\\u00edses e territ\\u00f3rios=France<br>Dias desde o caso n\\u00famero 50=%{x}<br>Relativa=%{y}<extra></extra>\", \"ids\": [25], \"legendgroup\": \"France\", \"line\": {\"color\": \"#0099C6\", \"dash\": \"solid\"}, \"mode\": \"lines\", \"name\": \"France\", \"showlegend\": true, \"x\": [25], \"xaxis\": \"x\", \"y\": [3.34012280964505], \"yaxis\": \"y\", \"type\": \"scatter\"}, {\"hovertemplate\": \"Pa\\u00edses e territ\\u00f3rios=South_Korea<br>Dias desde o caso n\\u00famero 50=%{x}<br>Relativa=%{y}<extra></extra>\", \"ids\": [25], \"legendgroup\": \"South_Korea\", \"line\": {\"color\": \"#DD4477\", \"dash\": \"solid\"}, \"mode\": \"lines\", \"name\": \"South_Korea\", \"showlegend\": true, \"x\": [25], \"xaxis\": \"x\", \"y\": [1.6001554303477754], \"yaxis\": \"y\", \"type\": \"scatter\"}, {\"hovertemplate\": \"Pa\\u00edses e territ\\u00f3rios=Spain<br>Dias desde o caso n\\u00famero 50=%{x}<br>Relativa=%{y}<extra></extra>\", \"ids\": [25], \"legendgroup\": \"Spain\", \"line\": {\"color\": \"#66AA00\", \"dash\": \"solid\"}, \"mode\": \"lines\", \"name\": \"Spain\", \"showlegend\": true, \"x\": [25], \"xaxis\": \"x\", \"y\": [10.232108317214701], \"yaxis\": \"y\", \"type\": \"scatter\"}, {\"hovertemplate\": \"Pa\\u00edses e territ\\u00f3rios=Germany<br>Dias desde o caso n\\u00famero 50=%{x}<br>Relativa=%{y}<extra></extra>\", \"ids\": [25], \"legendgroup\": \"Germany\", \"line\": {\"color\": \"#DC3912\", \"dash\": \"solid\"}, \"mode\": \"lines\", \"name\": \"Germany\", \"showlegend\": true, \"x\": [25], \"xaxis\": \"x\", \"y\": [3.8238002908385846], \"yaxis\": \"y\", \"type\": \"scatter\"}, {\"hovertemplate\": \"Pa\\u00edses e territ\\u00f3rios=China<br>Dias desde o caso n\\u00famero 50=%{x}<br>Relativa=%{y}<extra></extra>\", \"ids\": [25], \"legendgroup\": \"China\", \"line\": {\"color\": \"#109618\", \"dash\": \"solid\"}, \"mode\": \"lines\", \"name\": \"China\", \"showlegend\": true, \"x\": [25], \"xaxis\": \"x\", \"y\": [0.0558008658008658], \"yaxis\": \"y\", \"type\": \"scatter\"}], \"name\": \"25\"}, {\"data\": [{\"hovertemplate\": \"Pa\\u00edses e territ\\u00f3rios=Italy<br>Dias desde o caso n\\u00famero 50=%{x}<br>Relativa=%{y}<extra></extra>\", \"ids\": [26], \"legendgroup\": \"Italy\", \"line\": {\"color\": \"#DC3912\", \"dash\": \"solid\"}, \"mode\": \"lines\", \"name\": \"Italy\", \"showlegend\": true, \"x\": [26], \"xaxis\": \"x\", \"y\": [6.772569730978709], \"yaxis\": \"y\", \"type\": \"scatter\"}, {\"hovertemplate\": \"Pa\\u00edses e territ\\u00f3rios=Japan<br>Dias desde o caso n\\u00famero 50=%{x}<br>Relativa=%{y}<extra></extra>\", \"ids\": [26], \"legendgroup\": \"Japan\", \"line\": {\"color\": \"#FF9900\", \"dash\": \"solid\"}, \"mode\": \"lines\", \"name\": \"Japan\", \"showlegend\": true, \"x\": [26], \"xaxis\": \"x\", \"y\": [0.05323343848580442], \"yaxis\": \"y\", \"type\": \"scatter\"}, {\"hovertemplate\": \"Pa\\u00edses e territ\\u00f3rios=United_Kingdom<br>Dias desde o caso n\\u00famero 50=%{x}<br>Relativa=%{y}<extra></extra>\", \"ids\": [26], \"legendgroup\": \"United_Kingdom\", \"line\": {\"color\": \"#109618\", \"dash\": \"solid\"}, \"mode\": \"lines\", \"name\": \"United_Kingdom\", \"showlegend\": true, \"x\": [26], \"xaxis\": \"x\", \"y\": [2.9560872198667476], \"yaxis\": \"y\", \"type\": \"scatter\"}, {\"hovertemplate\": \"Pa\\u00edses e territ\\u00f3rios=United_States_of_America<br>Dias desde o caso n\\u00famero 50=%{x}<br>Relativa=%{y}<extra></extra>\", \"ids\": [26], \"legendgroup\": \"United_States_of_America\", \"line\": {\"color\": \"#990099\", \"dash\": \"solid\"}, \"mode\": \"lines\", \"name\": \"United_States_of_America\", \"showlegend\": true, \"x\": [26], \"xaxis\": \"x\", \"y\": [0.8212158428001228], \"yaxis\": \"y\", \"type\": \"scatter\"}, {\"hovertemplate\": \"Pa\\u00edses e territ\\u00f3rios=France<br>Dias desde o caso n\\u00famero 50=%{x}<br>Relativa=%{y}<extra></extra>\", \"ids\": [26], \"legendgroup\": \"France\", \"line\": {\"color\": \"#0099C6\", \"dash\": \"solid\"}, \"mode\": \"lines\", \"name\": \"France\", \"showlegend\": true, \"x\": [26], \"xaxis\": \"x\", \"y\": [3.7790924067695073], \"yaxis\": \"y\", \"type\": \"scatter\"}, {\"hovertemplate\": \"Pa\\u00edses e territ\\u00f3rios=South_Korea<br>Dias desde o caso n\\u00famero 50=%{x}<br>Relativa=%{y}<extra></extra>\", \"ids\": [26], \"legendgroup\": \"South_Korea\", \"line\": {\"color\": \"#DD4477\", \"dash\": \"solid\"}, \"mode\": \"lines\", \"name\": \"South_Korea\", \"showlegend\": true, \"x\": [26], \"xaxis\": \"x\", \"y\": [1.6164756168641927], \"yaxis\": \"y\", \"type\": \"scatter\"}, {\"hovertemplate\": \"Pa\\u00edses e territ\\u00f3rios=Spain<br>Dias desde o caso n\\u00famero 50=%{x}<br>Relativa=%{y}<extra></extra>\", \"ids\": [26], \"legendgroup\": \"Spain\", \"line\": {\"color\": \"#66AA00\", \"dash\": \"solid\"}, \"mode\": \"lines\", \"name\": \"Spain\", \"showlegend\": true, \"x\": [26], \"xaxis\": \"x\", \"y\": [12.07565011820331], \"yaxis\": \"y\", \"type\": \"scatter\"}, {\"hovertemplate\": \"Pa\\u00edses e territ\\u00f3rios=Germany<br>Dias desde o caso n\\u00famero 50=%{x}<br>Relativa=%{y}<extra></extra>\", \"ids\": [26], \"legendgroup\": \"Germany\", \"line\": {\"color\": \"#DC3912\", \"dash\": \"solid\"}, \"mode\": \"lines\", \"name\": \"Germany\", \"showlegend\": true, \"x\": [26], \"xaxis\": \"x\", \"y\": [4.424139602520601], \"yaxis\": \"y\", \"type\": \"scatter\"}, {\"hovertemplate\": \"Pa\\u00edses e territ\\u00f3rios=China<br>Dias desde o caso n\\u00famero 50=%{x}<br>Relativa=%{y}<extra></extra>\", \"ids\": [26], \"legendgroup\": \"China\", \"line\": {\"color\": \"#109618\", \"dash\": \"solid\"}, \"mode\": \"lines\", \"name\": \"China\", \"showlegend\": true, \"x\": [26], \"xaxis\": \"x\", \"y\": [0.07008658008658009], \"yaxis\": \"y\", \"type\": \"scatter\"}], \"name\": \"26\"}, {\"data\": [{\"hovertemplate\": \"Pa\\u00edses e territ\\u00f3rios=Italy<br>Dias desde o caso n\\u00famero 50=%{x}<br>Relativa=%{y}<extra></extra>\", \"ids\": [27], \"legendgroup\": \"Italy\", \"line\": {\"color\": \"#DC3912\", \"dash\": \"solid\"}, \"mode\": \"lines\", \"name\": \"Italy\", \"showlegend\": true, \"x\": [27], \"xaxis\": \"x\", \"y\": [7.760521538207625], \"yaxis\": \"y\", \"type\": \"scatter\"}, {\"hovertemplate\": \"Pa\\u00edses e territ\\u00f3rios=Japan<br>Dias desde o caso n\\u00famero 50=%{x}<br>Relativa=%{y}<extra></extra>\", \"ids\": [27], \"legendgroup\": \"Japan\", \"line\": {\"color\": \"#FF9900\", \"dash\": \"solid\"}, \"mode\": \"lines\", \"name\": \"Japan\", \"showlegend\": true, \"x\": [27], \"xaxis\": \"x\", \"y\": [0.05812302839116719], \"yaxis\": \"y\", \"type\": \"scatter\"}, {\"hovertemplate\": \"Pa\\u00edses e territ\\u00f3rios=United_Kingdom<br>Dias desde o caso n\\u00famero 50=%{x}<br>Relativa=%{y}<extra></extra>\", \"ids\": [27], \"legendgroup\": \"United_Kingdom\", \"line\": {\"color\": \"#109618\", \"dash\": \"solid\"}, \"mode\": \"lines\", \"name\": \"United_Kingdom\", \"showlegend\": true, \"x\": [27], \"xaxis\": \"x\", \"y\": [3.352665051483949], \"yaxis\": \"y\", \"type\": \"scatter\"}, {\"hovertemplate\": \"Pa\\u00edses e territ\\u00f3rios=United_States_of_America<br>Dias desde o caso n\\u00famero 50=%{x}<br>Relativa=%{y}<extra></extra>\", \"ids\": [27], \"legendgroup\": \"United_States_of_America\", \"line\": {\"color\": \"#990099\", \"dash\": \"solid\"}, \"mode\": \"lines\", \"name\": \"United_States_of_America\", \"showlegend\": true, \"x\": [27], \"xaxis\": \"x\", \"y\": [1.0809333742708014], \"yaxis\": \"y\", \"type\": \"scatter\"}, {\"hovertemplate\": \"Pa\\u00edses e territ\\u00f3rios=France<br>Dias desde o caso n\\u00famero 50=%{x}<br>Relativa=%{y}<extra></extra>\", \"ids\": [27], \"legendgroup\": \"France\", \"line\": {\"color\": \"#0099C6\", \"dash\": \"solid\"}, \"mode\": \"lines\", \"name\": \"France\", \"showlegend\": true, \"x\": [27], \"xaxis\": \"x\", \"y\": [4.366481952972892], \"yaxis\": \"y\", \"type\": \"scatter\"}, {\"hovertemplate\": \"Pa\\u00edses e territ\\u00f3rios=South_Korea<br>Dias desde o caso n\\u00famero 50=%{x}<br>Relativa=%{y}<extra></extra>\", \"ids\": [27], \"legendgroup\": \"South_Korea\", \"line\": {\"color\": \"#DD4477\", \"dash\": \"solid\"}, \"mode\": \"lines\", \"name\": \"South_Korea\", \"showlegend\": true, \"x\": [27], \"xaxis\": \"x\", \"y\": [1.6345443947930833], \"yaxis\": \"y\", \"type\": \"scatter\"}, {\"hovertemplate\": \"Pa\\u00edses e territ\\u00f3rios=Spain<br>Dias desde o caso n\\u00famero 50=%{x}<br>Relativa=%{y}<extra></extra>\", \"ids\": [27], \"legendgroup\": \"Spain\", \"line\": {\"color\": \"#66AA00\", \"dash\": \"solid\"}, \"mode\": \"lines\", \"name\": \"Spain\", \"showlegend\": true, \"x\": [27], \"xaxis\": \"x\", \"y\": [13.767246937459703], \"yaxis\": \"y\", \"type\": \"scatter\"}, {\"hovertemplate\": \"Pa\\u00edses e territ\\u00f3rios=Germany<br>Dias desde o caso n\\u00famero 50=%{x}<br>Relativa=%{y}<extra></extra>\", \"ids\": [27], \"legendgroup\": \"Germany\", \"line\": {\"color\": \"#DC3912\", \"dash\": \"solid\"}, \"mode\": \"lines\", \"name\": \"Germany\", \"showlegend\": true, \"x\": [27], \"xaxis\": \"x\", \"y\": [5.12457586039748], \"yaxis\": \"y\", \"type\": \"scatter\"}, {\"hovertemplate\": \"Pa\\u00edses e territ\\u00f3rios=China<br>Dias desde o caso n\\u00famero 50=%{x}<br>Relativa=%{y}<extra></extra>\", \"ids\": [27], \"legendgroup\": \"China\", \"line\": {\"color\": \"#109618\", \"dash\": \"solid\"}, \"mode\": \"lines\", \"name\": \"China\", \"showlegend\": true, \"x\": [27], \"xaxis\": \"x\", \"y\": [0.0852020202020202], \"yaxis\": \"y\", \"type\": \"scatter\"}], \"name\": \"27\"}, {\"data\": [{\"hovertemplate\": \"Pa\\u00edses e territ\\u00f3rios=Italy<br>Dias desde o caso n\\u00famero 50=%{x}<br>Relativa=%{y}<extra></extra>\", \"ids\": [28], \"legendgroup\": \"Italy\", \"line\": {\"color\": \"#DC3912\", \"dash\": \"solid\"}, \"mode\": \"lines\", \"name\": \"Italy\", \"showlegend\": true, \"x\": [28], \"xaxis\": \"x\", \"y\": [8.842713319029542], \"yaxis\": \"y\", \"type\": \"scatter\"}, {\"hovertemplate\": \"Pa\\u00edses e territ\\u00f3rios=Japan<br>Dias desde o caso n\\u00famero 50=%{x}<br>Relativa=%{y}<extra></extra>\", \"ids\": [28], \"legendgroup\": \"Japan\", \"line\": {\"color\": \"#FF9900\", \"dash\": \"solid\"}, \"mode\": \"lines\", \"name\": \"Japan\", \"showlegend\": true, \"x\": [28], \"xaxis\": \"x\", \"y\": [0.061514195583596214], \"yaxis\": \"y\", \"type\": \"scatter\"}, {\"hovertemplate\": \"Pa\\u00edses e territ\\u00f3rios=United_Kingdom<br>Dias desde o caso n\\u00famero 50=%{x}<br>Relativa=%{y}<extra></extra>\", \"ids\": [28], \"legendgroup\": \"United_Kingdom\", \"line\": {\"color\": \"#109618\", \"dash\": \"solid\"}, \"mode\": \"lines\", \"name\": \"United_Kingdom\", \"showlegend\": true, \"x\": [28], \"xaxis\": \"x\", \"y\": [3.808298001211387], \"yaxis\": \"y\", \"type\": \"scatter\"}, {\"hovertemplate\": \"Pa\\u00edses e territ\\u00f3rios=United_States_of_America<br>Dias desde o caso n\\u00famero 50=%{x}<br>Relativa=%{y}<extra></extra>\", \"ids\": [28], \"legendgroup\": \"United_States_of_America\", \"line\": {\"color\": \"#990099\", \"dash\": \"solid\"}, \"mode\": \"lines\", \"name\": \"United_States_of_America\", \"showlegend\": true, \"x\": [28], \"xaxis\": \"x\", \"y\": [1.4259134172551429], \"yaxis\": \"y\", \"type\": \"scatter\"}, {\"hovertemplate\": \"Pa\\u00edses e territ\\u00f3rios=France<br>Dias desde o caso n\\u00famero 50=%{x}<br>Relativa=%{y}<extra></extra>\", \"ids\": [28], \"legendgroup\": \"France\", \"line\": {\"color\": \"#0099C6\", \"dash\": \"solid\"}, \"mode\": \"lines\", \"name\": \"France\", \"showlegend\": true, \"x\": [28], \"xaxis\": \"x\", \"y\": [4.936947731016923], \"yaxis\": \"y\", \"type\": \"scatter\"}, {\"hovertemplate\": \"Pa\\u00edses e territ\\u00f3rios=South_Korea<br>Dias desde o caso n\\u00famero 50=%{x}<br>Relativa=%{y}<extra></extra>\", \"ids\": [28], \"legendgroup\": \"South_Korea\", \"line\": {\"color\": \"#DD4477\", \"dash\": \"solid\"}, \"mode\": \"lines\", \"name\": \"South_Korea\", \"showlegend\": true, \"x\": [28], \"xaxis\": \"x\", \"y\": [1.66407616087041], \"yaxis\": \"y\", \"type\": \"scatter\"}, {\"hovertemplate\": \"Pa\\u00edses e territ\\u00f3rios=Spain<br>Dias desde o caso n\\u00famero 50=%{x}<br>Relativa=%{y}<extra></extra>\", \"ids\": [28], \"legendgroup\": \"Spain\", \"line\": {\"color\": \"#66AA00\", \"dash\": \"solid\"}, \"mode\": \"lines\", \"name\": \"Spain\", \"showlegend\": true, \"x\": [28], \"xaxis\": \"x\", \"y\": [15.527186761229315], \"yaxis\": \"y\", \"type\": \"scatter\"}, {\"hovertemplate\": \"Pa\\u00edses e territ\\u00f3rios=Germany<br>Dias desde o caso n\\u00famero 50=%{x}<br>Relativa=%{y}<extra></extra>\", \"ids\": [28], \"legendgroup\": \"Germany\", \"line\": {\"color\": \"#DC3912\", \"dash\": \"solid\"}, \"mode\": \"lines\", \"name\": \"Germany\", \"showlegend\": true, \"x\": [28], \"xaxis\": \"x\", \"y\": [5.887300048473097], \"yaxis\": \"y\", \"type\": \"scatter\"}, {\"hovertemplate\": \"Pa\\u00edses e territ\\u00f3rios=China<br>Dias desde o caso n\\u00famero 50=%{x}<br>Relativa=%{y}<extra></extra>\", \"ids\": [28], \"legendgroup\": \"China\", \"line\": {\"color\": \"#109618\", \"dash\": \"solid\"}, \"mode\": \"lines\", \"name\": \"China\", \"showlegend\": true, \"x\": [28], \"xaxis\": \"x\", \"y\": [0.10388888888888889], \"yaxis\": \"y\", \"type\": \"scatter\"}], \"name\": \"28\"}, {\"data\": [{\"hovertemplate\": \"Pa\\u00edses e territ\\u00f3rios=Italy<br>Dias desde o caso n\\u00famero 50=%{x}<br>Relativa=%{y}<extra></extra>\", \"ids\": [29], \"legendgroup\": \"Italy\", \"line\": {\"color\": \"#DC3912\", \"dash\": \"solid\"}, \"mode\": \"lines\", \"name\": \"Italy\", \"showlegend\": true, \"x\": [29], \"xaxis\": \"x\", \"y\": [9.760356494471035], \"yaxis\": \"y\", \"type\": \"scatter\"}, {\"hovertemplate\": \"Pa\\u00edses e territ\\u00f3rios=Japan<br>Dias desde o caso n\\u00famero 50=%{x}<br>Relativa=%{y}<extra></extra>\", \"ids\": [29], \"legendgroup\": \"Japan\", \"line\": {\"color\": \"#FF9900\", \"dash\": \"solid\"}, \"mode\": \"lines\", \"name\": \"Japan\", \"showlegend\": true, \"x\": [29], \"xaxis\": \"x\", \"y\": [0.06419558359621451], \"yaxis\": \"y\", \"type\": \"scatter\"}, {\"hovertemplate\": \"Pa\\u00edses e territ\\u00f3rios=United_Kingdom<br>Dias desde o caso n\\u00famero 50=%{x}<br>Relativa=%{y}<extra></extra>\", \"ids\": [29], \"legendgroup\": \"United_Kingdom\", \"line\": {\"color\": \"#109618\", \"dash\": \"solid\"}, \"mode\": \"lines\", \"name\": \"United_Kingdom\", \"showlegend\": true, \"x\": [29], \"xaxis\": \"x\", \"y\": [4.46305269533616], \"yaxis\": \"y\", \"type\": \"scatter\"}, {\"hovertemplate\": \"Pa\\u00edses e territ\\u00f3rios=United_States_of_America<br>Dias desde o caso n\\u00famero 50=%{x}<br>Relativa=%{y}<extra></extra>\", \"ids\": [29], \"legendgroup\": \"United_States_of_America\", \"line\": {\"color\": \"#990099\", \"dash\": \"solid\"}, \"mode\": \"lines\", \"name\": \"United_States_of_America\", \"showlegend\": true, \"x\": [29], \"xaxis\": \"x\", \"y\": [1.6957629720601781], \"yaxis\": \"y\", \"type\": \"scatter\"}, {\"hovertemplate\": \"Pa\\u00edses e territ\\u00f3rios=France<br>Dias desde o caso n\\u00famero 50=%{x}<br>Relativa=%{y}<extra></extra>\", \"ids\": [29], \"legendgroup\": \"France\", \"line\": {\"color\": \"#0099C6\", \"dash\": \"solid\"}, \"mode\": \"lines\", \"name\": \"France\", \"showlegend\": true, \"x\": [29], \"xaxis\": \"x\", \"y\": [5.627527332634417], \"yaxis\": \"y\", \"type\": \"scatter\"}, {\"hovertemplate\": \"Pa\\u00edses e territ\\u00f3rios=South_Korea<br>Dias desde o caso n\\u00famero 50=%{x}<br>Relativa=%{y}<extra></extra>\", \"ids\": [29], \"legendgroup\": \"South_Korea\", \"line\": {\"color\": \"#DD4477\", \"dash\": \"solid\"}, \"mode\": \"lines\", \"name\": \"South_Korea\", \"showlegend\": true, \"x\": [29], \"xaxis\": \"x\", \"y\": [1.6809792111909851], \"yaxis\": \"y\", \"type\": \"scatter\"}, {\"hovertemplate\": \"Pa\\u00edses e territ\\u00f3rios=Spain<br>Dias desde o caso n\\u00famero 50=%{x}<br>Relativa=%{y}<extra></extra>\", \"ids\": [29], \"legendgroup\": \"Spain\", \"line\": {\"color\": \"#66AA00\", \"dash\": \"solid\"}, \"mode\": \"lines\", \"name\": \"Spain\", \"showlegend\": true, \"x\": [29], \"xaxis\": \"x\", \"y\": [16.934665807006233], \"yaxis\": \"y\", \"type\": \"scatter\"}, {\"hovertemplate\": \"Pa\\u00edses e territ\\u00f3rios=Germany<br>Dias desde o caso n\\u00famero 50=%{x}<br>Relativa=%{y}<extra></extra>\", \"ids\": [29], \"legendgroup\": \"Germany\", \"line\": {\"color\": \"#DC3912\", \"dash\": \"solid\"}, \"mode\": \"lines\", \"name\": \"Germany\", \"showlegend\": true, \"x\": [29], \"xaxis\": \"x\", \"y\": [6.367789626757149], \"yaxis\": \"y\", \"type\": \"scatter\"}, {\"hovertemplate\": \"Pa\\u00edses e territ\\u00f3rios=China<br>Dias desde o caso n\\u00famero 50=%{x}<br>Relativa=%{y}<extra></extra>\", \"ids\": [29], \"legendgroup\": \"China\", \"line\": {\"color\": \"#109618\", \"dash\": \"solid\"}, \"mode\": \"lines\", \"name\": \"China\", \"showlegend\": true, \"x\": [29], \"xaxis\": \"x\", \"y\": [0.12417748917748918], \"yaxis\": \"y\", \"type\": \"scatter\"}], \"name\": \"29\"}, {\"data\": [{\"hovertemplate\": \"Pa\\u00edses e territ\\u00f3rios=Italy<br>Dias desde o caso n\\u00famero 50=%{x}<br>Relativa=%{y}<extra></extra>\", \"ids\": [30], \"legendgroup\": \"Italy\", \"line\": {\"color\": \"#DC3912\", \"dash\": \"solid\"}, \"mode\": \"lines\", \"name\": \"Italy\", \"showlegend\": true, \"x\": [30], \"xaxis\": \"x\", \"y\": [10.550750949001486], \"yaxis\": \"y\", \"type\": \"scatter\"}, {\"hovertemplate\": \"Pa\\u00edses e territ\\u00f3rios=Japan<br>Dias desde o caso n\\u00famero 50=%{x}<br>Relativa=%{y}<extra></extra>\", \"ids\": [30], \"legendgroup\": \"Japan\", \"line\": {\"color\": \"#FF9900\", \"dash\": \"solid\"}, \"mode\": \"lines\", \"name\": \"Japan\", \"showlegend\": true, \"x\": [30], \"xaxis\": \"x\", \"y\": [0.06498422712933755], \"yaxis\": \"y\", \"type\": \"scatter\"}, {\"hovertemplate\": \"Pa\\u00edses e territ\\u00f3rios=United_States_of_America<br>Dias desde o caso n\\u00famero 50=%{x}<br>Relativa=%{y}<extra></extra>\", \"ids\": [30], \"legendgroup\": \"United_States_of_America\", \"line\": {\"color\": \"#990099\", \"dash\": \"solid\"}, \"mode\": \"lines\", \"name\": \"United_States_of_America\", \"showlegend\": true, \"x\": [30], \"xaxis\": \"x\", \"y\": [2.124470371507522], \"yaxis\": \"y\", \"type\": \"scatter\"}, {\"hovertemplate\": \"Pa\\u00edses e territ\\u00f3rios=France<br>Dias desde o caso n\\u00famero 50=%{x}<br>Relativa=%{y}<extra></extra>\", \"ids\": [30], \"legendgroup\": \"France\", \"line\": {\"color\": \"#0099C6\", \"dash\": \"solid\"}, \"mode\": \"lines\", \"name\": \"France\", \"showlegend\": true, \"x\": [30], \"xaxis\": \"x\", \"y\": [6.016774000299535], \"yaxis\": \"y\", \"type\": \"scatter\"}, {\"hovertemplate\": \"Pa\\u00edses e territ\\u00f3rios=South_Korea<br>Dias desde o caso n\\u00famero 50=%{x}<br>Relativa=%{y}<extra></extra>\", \"ids\": [30], \"legendgroup\": \"South_Korea\", \"line\": {\"color\": \"#DD4477\", \"dash\": \"solid\"}, \"mode\": \"lines\", \"name\": \"South_Korea\", \"showlegend\": true, \"x\": [30], \"xaxis\": \"x\", \"y\": [1.7095395375947153], \"yaxis\": \"y\", \"type\": \"scatter\"}, {\"hovertemplate\": \"Pa\\u00edses e territ\\u00f3rios=Spain<br>Dias desde o caso n\\u00famero 50=%{x}<br>Relativa=%{y}<extra></extra>\", \"ids\": [30], \"legendgroup\": \"Spain\", \"line\": {\"color\": \"#66AA00\", \"dash\": \"solid\"}, \"mode\": \"lines\", \"name\": \"Spain\", \"showlegend\": true, \"x\": [30], \"xaxis\": \"x\", \"y\": [18.3096926713948], \"yaxis\": \"y\", \"type\": \"scatter\"}, {\"hovertemplate\": \"Pa\\u00edses e territ\\u00f3rios=Germany<br>Dias desde o caso n\\u00famero 50=%{x}<br>Relativa=%{y}<extra></extra>\", \"ids\": [30], \"legendgroup\": \"Germany\", \"line\": {\"color\": \"#DC3912\", \"dash\": \"solid\"}, \"mode\": \"lines\", \"name\": \"Germany\", \"showlegend\": true, \"x\": [30], \"xaxis\": \"x\", \"y\": [6.943528841492971], \"yaxis\": \"y\", \"type\": \"scatter\"}, {\"hovertemplate\": \"Pa\\u00edses e territ\\u00f3rios=China<br>Dias desde o caso n\\u00famero 50=%{x}<br>Relativa=%{y}<extra></extra>\", \"ids\": [30], \"legendgroup\": \"China\", \"line\": {\"color\": \"#109618\", \"dash\": \"solid\"}, \"mode\": \"lines\", \"name\": \"China\", \"showlegend\": true, \"x\": [30], \"xaxis\": \"x\", \"y\": [0.14753246753246754], \"yaxis\": \"y\", \"type\": \"scatter\"}], \"name\": \"30\"}, {\"data\": [{\"hovertemplate\": \"Pa\\u00edses e territ\\u00f3rios=Italy<br>Dias desde o caso n\\u00famero 50=%{x}<br>Relativa=%{y}<extra></extra>\", \"ids\": [31], \"legendgroup\": \"Italy\", \"line\": {\"color\": \"#DC3912\", \"dash\": \"solid\"}, \"mode\": \"lines\", \"name\": \"Italy\", \"showlegend\": true, \"x\": [31], \"xaxis\": \"x\", \"y\": [11.417065522363426], \"yaxis\": \"y\", \"type\": \"scatter\"}, {\"hovertemplate\": \"Pa\\u00edses e territ\\u00f3rios=Japan<br>Dias desde o caso n\\u00famero 50=%{x}<br>Relativa=%{y}<extra></extra>\", \"ids\": [31], \"legendgroup\": \"Japan\", \"line\": {\"color\": \"#FF9900\", \"dash\": \"solid\"}, \"mode\": \"lines\", \"name\": \"Japan\", \"showlegend\": true, \"x\": [31], \"xaxis\": \"x\", \"y\": [0.06537854889589906], \"yaxis\": \"y\", \"type\": \"scatter\"}, {\"hovertemplate\": \"Pa\\u00edses e territ\\u00f3rios=United_States_of_America<br>Dias desde o caso n\\u00famero 50=%{x}<br>Relativa=%{y}<extra></extra>\", \"ids\": [31], \"legendgroup\": \"United_States_of_America\", \"line\": {\"color\": \"#990099\", \"dash\": \"solid\"}, \"mode\": \"lines\", \"name\": \"United_States_of_America\", \"showlegend\": true, \"x\": [31], \"xaxis\": \"x\", \"y\": [2.6401903592262816], \"yaxis\": \"y\", \"type\": \"scatter\"}, {\"hovertemplate\": \"Pa\\u00edses e territ\\u00f3rios=France<br>Dias desde o caso n\\u00famero 50=%{x}<br>Relativa=%{y}<extra></extra>\", \"ids\": [31], \"legendgroup\": \"France\", \"line\": {\"color\": \"#0099C6\", \"dash\": \"solid\"}, \"mode\": \"lines\", \"name\": \"France\", \"showlegend\": true, \"x\": [31], \"xaxis\": \"x\", \"y\": [6.672158154859967], \"yaxis\": \"y\", \"type\": \"scatter\"}, {\"hovertemplate\": \"Pa\\u00edses e territ\\u00f3rios=South_Korea<br>Dias desde o caso n\\u00famero 50=%{x}<br>Relativa=%{y}<extra></extra>\", \"ids\": [31], \"legendgroup\": \"South_Korea\", \"line\": {\"color\": \"#DD4477\", \"dash\": \"solid\"}, \"mode\": \"lines\", \"name\": \"South_Korea\", \"showlegend\": true, \"x\": [31], \"xaxis\": \"x\", \"y\": [1.7285797551972022], \"yaxis\": \"y\", \"type\": \"scatter\"}, {\"hovertemplate\": \"Pa\\u00edses e territ\\u00f3rios=Spain<br>Dias desde o caso n\\u00famero 50=%{x}<br>Relativa=%{y}<extra></extra>\", \"ids\": [31], \"legendgroup\": \"Spain\", \"line\": {\"color\": \"#66AA00\", \"dash\": \"solid\"}, \"mode\": \"lines\", \"name\": \"Spain\", \"showlegend\": true, \"x\": [31], \"xaxis\": \"x\", \"y\": [20.2916398022781], \"yaxis\": \"y\", \"type\": \"scatter\"}, {\"hovertemplate\": \"Pa\\u00edses e territ\\u00f3rios=Germany<br>Dias desde o caso n\\u00famero 50=%{x}<br>Relativa=%{y}<extra></extra>\", \"ids\": [31], \"legendgroup\": \"Germany\", \"line\": {\"color\": \"#DC3912\", \"dash\": \"solid\"}, \"mode\": \"lines\", \"name\": \"Germany\", \"showlegend\": true, \"x\": [31], \"xaxis\": \"x\", \"y\": [7.502787203102279], \"yaxis\": \"y\", \"type\": \"scatter\"}, {\"hovertemplate\": \"Pa\\u00edses e territ\\u00f3rios=China<br>Dias desde o caso n\\u00famero 50=%{x}<br>Relativa=%{y}<extra></extra>\", \"ids\": [31], \"legendgroup\": \"China\", \"line\": {\"color\": \"#109618\", \"dash\": \"solid\"}, \"mode\": \"lines\", \"name\": \"China\", \"showlegend\": true, \"x\": [31], \"xaxis\": \"x\", \"y\": [0.17546897546897547], \"yaxis\": \"y\", \"type\": \"scatter\"}], \"name\": \"31\"}, {\"data\": [{\"hovertemplate\": \"Pa\\u00edses e territ\\u00f3rios=Italy<br>Dias desde o caso n\\u00famero 50=%{x}<br>Relativa=%{y}<extra></extra>\", \"ids\": [32], \"legendgroup\": \"Italy\", \"line\": {\"color\": \"#DC3912\", \"dash\": \"solid\"}, \"mode\": \"lines\", \"name\": \"Italy\", \"showlegend\": true, \"x\": [32], \"xaxis\": \"x\", \"y\": [12.27694338999835], \"yaxis\": \"y\", \"type\": \"scatter\"}, {\"hovertemplate\": \"Pa\\u00edses e territ\\u00f3rios=Japan<br>Dias desde o caso n\\u00famero 50=%{x}<br>Relativa=%{y}<extra></extra>\", \"ids\": [32], \"legendgroup\": \"Japan\", \"line\": {\"color\": \"#FF9900\", \"dash\": \"solid\"}, \"mode\": \"lines\", \"name\": \"Japan\", \"showlegend\": true, \"x\": [32], \"xaxis\": \"x\", \"y\": [0.06884858044164038], \"yaxis\": \"y\", \"type\": \"scatter\"}, {\"hovertemplate\": \"Pa\\u00edses e territ\\u00f3rios=United_States_of_America<br>Dias desde o caso n\\u00famero 50=%{x}<br>Relativa=%{y}<extra></extra>\", \"ids\": [32], \"legendgroup\": \"United_States_of_America\", \"line\": {\"color\": \"#990099\", \"dash\": \"solid\"}, \"mode\": \"lines\", \"name\": \"United_States_of_America\", \"showlegend\": true, \"x\": [32], \"xaxis\": \"x\", \"y\": [3.2141848326680993], \"yaxis\": \"y\", \"type\": \"scatter\"}, {\"hovertemplate\": \"Pa\\u00edses e territ\\u00f3rios=France<br>Dias desde o caso n\\u00famero 50=%{x}<br>Relativa=%{y}<extra></extra>\", \"ids\": [32], \"legendgroup\": \"France\", \"line\": {\"color\": \"#0099C6\", \"dash\": \"solid\"}, \"mode\": \"lines\", \"name\": \"France\", \"showlegend\": true, \"x\": [32], \"xaxis\": \"x\", \"y\": [7.8070989965553395], \"yaxis\": \"y\", \"type\": \"scatter\"}, {\"hovertemplate\": \"Pa\\u00edses e territ\\u00f3rios=South_Korea<br>Dias desde o caso n\\u00famero 50=%{x}<br>Relativa=%{y}<extra></extra>\", \"ids\": [32], \"legendgroup\": \"South_Korea\", \"line\": {\"color\": \"#DD4477\", \"dash\": \"solid\"}, \"mode\": \"lines\", \"name\": \"South_Korea\", \"showlegend\": true, \"x\": [32], \"xaxis\": \"x\", \"y\": [1.7410141830192345], \"yaxis\": \"y\", \"type\": \"scatter\"}, {\"hovertemplate\": \"Pa\\u00edses e territ\\u00f3rios=Spain<br>Dias desde o caso n\\u00famero 50=%{x}<br>Relativa=%{y}<extra></extra>\", \"ids\": [32], \"legendgroup\": \"Spain\", \"line\": {\"color\": \"#66AA00\", \"dash\": \"solid\"}, \"mode\": \"lines\", \"name\": \"Spain\", \"showlegend\": true, \"x\": [32], \"xaxis\": \"x\", \"y\": [21.95056952503761], \"yaxis\": \"y\", \"type\": \"scatter\"}, {\"hovertemplate\": \"Pa\\u00edses e territ\\u00f3rios=Germany<br>Dias desde o caso n\\u00famero 50=%{x}<br>Relativa=%{y}<extra></extra>\", \"ids\": [32], \"legendgroup\": \"Germany\", \"line\": {\"color\": \"#DC3912\", \"dash\": \"solid\"}, \"mode\": \"lines\", \"name\": \"Germany\", \"showlegend\": true, \"x\": [32], \"xaxis\": \"x\", \"y\": [8.163596703829375], \"yaxis\": \"y\", \"type\": \"scatter\"}, {\"hovertemplate\": \"Pa\\u00edses e territ\\u00f3rios=China<br>Dias desde o caso n\\u00famero 50=%{x}<br>Relativa=%{y}<extra></extra>\", \"ids\": [32], \"legendgroup\": \"China\", \"line\": {\"color\": \"#109618\", \"dash\": \"solid\"}, \"mode\": \"lines\", \"name\": \"China\", \"showlegend\": true, \"x\": [32], \"xaxis\": \"x\", \"y\": [0.20235930735930735], \"yaxis\": \"y\", \"type\": \"scatter\"}], \"name\": \"32\"}, {\"data\": [{\"hovertemplate\": \"Pa\\u00edses e territ\\u00f3rios=Italy<br>Dias desde o caso n\\u00famero 50=%{x}<br>Relativa=%{y}<extra></extra>\", \"ids\": [33], \"legendgroup\": \"Italy\", \"line\": {\"color\": \"#DC3912\", \"dash\": \"solid\"}, \"mode\": \"lines\", \"name\": \"Italy\", \"showlegend\": true, \"x\": [33], \"xaxis\": \"x\", \"y\": [13.292457501237829], \"yaxis\": \"y\", \"type\": \"scatter\"}, {\"hovertemplate\": \"Pa\\u00edses e territ\\u00f3rios=Japan<br>Dias desde o caso n\\u00famero 50=%{x}<br>Relativa=%{y}<extra></extra>\", \"ids\": [33], \"legendgroup\": \"Japan\", \"line\": {\"color\": \"#FF9900\", \"dash\": \"solid\"}, \"mode\": \"lines\", \"name\": \"Japan\", \"showlegend\": true, \"x\": [33], \"xaxis\": \"x\", \"y\": [0.0749211356466877], \"yaxis\": \"y\", \"type\": \"scatter\"}, {\"hovertemplate\": \"Pa\\u00edses e territ\\u00f3rios=United_States_of_America<br>Dias desde o caso n\\u00famero 50=%{x}<br>Relativa=%{y}<extra></extra>\", \"ids\": [33], \"legendgroup\": \"United_States_of_America\", \"line\": {\"color\": \"#990099\", \"dash\": \"solid\"}, \"mode\": \"lines\", \"name\": \"United_States_of_America\", \"showlegend\": true, \"x\": [33], \"xaxis\": \"x\", \"y\": [3.827602087810869], \"yaxis\": \"y\", \"type\": \"scatter\"}, {\"hovertemplate\": \"Pa\\u00edses e territ\\u00f3rios=France<br>Dias desde o caso n\\u00famero 50=%{x}<br>Relativa=%{y}<extra></extra>\", \"ids\": [33], \"legendgroup\": \"France\", \"line\": {\"color\": \"#0099C6\", \"dash\": \"solid\"}, \"mode\": \"lines\", \"name\": \"France\", \"showlegend\": true, \"x\": [33], \"xaxis\": \"x\", \"y\": [8.535120563127153], \"yaxis\": \"y\", \"type\": \"scatter\"}, {\"hovertemplate\": \"Pa\\u00edses e territ\\u00f3rios=South_Korea<br>Dias desde o caso n\\u00famero 50=%{x}<br>Relativa=%{y}<extra></extra>\", \"ids\": [33], \"legendgroup\": \"South_Korea\", \"line\": {\"color\": \"#DD4477\", \"dash\": \"solid\"}, \"mode\": \"lines\", \"name\": \"South_Korea\", \"showlegend\": true, \"x\": [33], \"xaxis\": \"x\", \"y\": [1.7557800660578977], \"yaxis\": \"y\", \"type\": \"scatter\"}, {\"hovertemplate\": \"Pa\\u00edses e territ\\u00f3rios=Germany<br>Dias desde o caso n\\u00famero 50=%{x}<br>Relativa=%{y}<extra></extra>\", \"ids\": [33], \"legendgroup\": \"Germany\", \"line\": {\"color\": \"#DC3912\", \"dash\": \"solid\"}, \"mode\": \"lines\", \"name\": \"Germany\", \"showlegend\": true, \"x\": [33], \"xaxis\": \"x\", \"y\": [8.909597673291323], \"yaxis\": \"y\", \"type\": \"scatter\"}, {\"hovertemplate\": \"Pa\\u00edses e territ\\u00f3rios=China<br>Dias desde o caso n\\u00famero 50=%{x}<br>Relativa=%{y}<extra></extra>\", \"ids\": [33], \"legendgroup\": \"China\", \"line\": {\"color\": \"#109618\", \"dash\": \"solid\"}, \"mode\": \"lines\", \"name\": \"China\", \"showlegend\": true, \"x\": [33], \"xaxis\": \"x\", \"y\": [0.22515873015873017], \"yaxis\": \"y\", \"type\": \"scatter\"}], \"name\": \"33\"}, {\"data\": [{\"hovertemplate\": \"Pa\\u00edses e territ\\u00f3rios=Italy<br>Dias desde o caso n\\u00famero 50=%{x}<br>Relativa=%{y}<extra></extra>\", \"ids\": [34], \"legendgroup\": \"Italy\", \"line\": {\"color\": \"#DC3912\", \"dash\": \"solid\"}, \"mode\": \"lines\", \"name\": \"Italy\", \"showlegend\": true, \"x\": [34], \"xaxis\": \"x\", \"y\": [14.27595312757881], \"yaxis\": \"y\", \"type\": \"scatter\"}, {\"hovertemplate\": \"Pa\\u00edses e territ\\u00f3rios=Japan<br>Dias desde o caso n\\u00famero 50=%{x}<br>Relativa=%{y}<extra></extra>\", \"ids\": [34], \"legendgroup\": \"Japan\", \"line\": {\"color\": \"#FF9900\", \"dash\": \"solid\"}, \"mode\": \"lines\", \"name\": \"Japan\", \"showlegend\": true, \"x\": [34], \"xaxis\": \"x\", \"y\": [0.07941640378548896], \"yaxis\": \"y\", \"type\": \"scatter\"}, {\"hovertemplate\": \"Pa\\u00edses e territ\\u00f3rios=United_States_of_America<br>Dias desde o caso n\\u00famero 50=%{x}<br>Relativa=%{y}<extra></extra>\", \"ids\": [34], \"legendgroup\": \"United_States_of_America\", \"line\": {\"color\": \"#990099\", \"dash\": \"solid\"}, \"mode\": \"lines\", \"name\": \"United_States_of_America\", \"showlegend\": true, \"x\": [34], \"xaxis\": \"x\", \"y\": [4.391311022413264], \"yaxis\": \"y\", \"type\": \"scatter\"}, {\"hovertemplate\": \"Pa\\u00edses e territ\\u00f3rios=South_Korea<br>Dias desde o caso n\\u00famero 50=%{x}<br>Relativa=%{y}<extra></extra>\", \"ids\": [34], \"legendgroup\": \"South_Korea\", \"line\": {\"color\": \"#DD4477\", \"dash\": \"solid\"}, \"mode\": \"lines\", \"name\": \"South_Korea\", \"showlegend\": true, \"x\": [34], \"xaxis\": \"x\", \"y\": [1.7752088595298232], \"yaxis\": \"y\", \"type\": \"scatter\"}, {\"hovertemplate\": \"Pa\\u00edses e territ\\u00f3rios=China<br>Dias desde o caso n\\u00famero 50=%{x}<br>Relativa=%{y}<extra></extra>\", \"ids\": [34], \"legendgroup\": \"China\", \"line\": {\"color\": \"#109618\", \"dash\": \"solid\"}, \"mode\": \"lines\", \"name\": \"China\", \"showlegend\": true, \"x\": [34], \"xaxis\": \"x\", \"y\": [0.24981962481962483], \"yaxis\": \"y\", \"type\": \"scatter\"}], \"name\": \"34\"}, {\"data\": [{\"hovertemplate\": \"Pa\\u00edses e territ\\u00f3rios=Italy<br>Dias desde o caso n\\u00famero 50=%{x}<br>Relativa=%{y}<extra></extra>\", \"ids\": [35], \"legendgroup\": \"Italy\", \"line\": {\"color\": \"#DC3912\", \"dash\": \"solid\"}, \"mode\": \"lines\", \"name\": \"Italy\", \"showlegend\": true, \"x\": [35], \"xaxis\": \"x\", \"y\": [15.26192440996864], \"yaxis\": \"y\", \"type\": \"scatter\"}, {\"hovertemplate\": \"Pa\\u00edses e territ\\u00f3rios=Japan<br>Dias desde o caso n\\u00famero 50=%{x}<br>Relativa=%{y}<extra></extra>\", \"ids\": [35], \"legendgroup\": \"Japan\", \"line\": {\"color\": \"#FF9900\", \"dash\": \"solid\"}, \"mode\": \"lines\", \"name\": \"Japan\", \"showlegend\": true, \"x\": [35], \"xaxis\": \"x\", \"y\": [0.08249211356466878], \"yaxis\": \"y\", \"type\": \"scatter\"}, {\"hovertemplate\": \"Pa\\u00edses e territ\\u00f3rios=United_States_of_America<br>Dias desde o caso n\\u00famero 50=%{x}<br>Relativa=%{y}<extra></extra>\", \"ids\": [35], \"legendgroup\": \"United_States_of_America\", \"line\": {\"color\": \"#990099\", \"dash\": \"solid\"}, \"mode\": \"lines\", \"name\": \"United_States_of_America\", \"showlegend\": true, \"x\": [35], \"xaxis\": \"x\", \"y\": [5.054344488793368], \"yaxis\": \"y\", \"type\": \"scatter\"}, {\"hovertemplate\": \"Pa\\u00edses e territ\\u00f3rios=South_Korea<br>Dias desde o caso n\\u00famero 50=%{x}<br>Relativa=%{y}<extra></extra>\", \"ids\": [35], \"legendgroup\": \"South_Korea\", \"line\": {\"color\": \"#DD4477\", \"dash\": \"solid\"}, \"mode\": \"lines\", \"name\": \"South_Korea\", \"showlegend\": true, \"x\": [35], \"xaxis\": \"x\", \"y\": [1.7954148047406255], \"yaxis\": \"y\", \"type\": \"scatter\"}, {\"hovertemplate\": \"Pa\\u00edses e territ\\u00f3rios=China<br>Dias desde o caso n\\u00famero 50=%{x}<br>Relativa=%{y}<extra></extra>\", \"ids\": [35], \"legendgroup\": \"China\", \"line\": {\"color\": \"#109618\", \"dash\": \"solid\"}, \"mode\": \"lines\", \"name\": \"China\", \"showlegend\": true, \"x\": [35], \"xaxis\": \"x\", \"y\": [0.2686291486291486], \"yaxis\": \"y\", \"type\": \"scatter\"}], \"name\": \"35\"}, {\"data\": [{\"hovertemplate\": \"Pa\\u00edses e territ\\u00f3rios=Italy<br>Dias desde o caso n\\u00famero 50=%{x}<br>Relativa=%{y}<extra></extra>\", \"ids\": [36], \"legendgroup\": \"Italy\", \"line\": {\"color\": \"#DC3912\", \"dash\": \"solid\"}, \"mode\": \"lines\", \"name\": \"Italy\", \"showlegend\": true, \"x\": [36], \"xaxis\": \"x\", \"y\": [16.122957583759696], \"yaxis\": \"y\", \"type\": \"scatter\"}, {\"hovertemplate\": \"Pa\\u00edses e territ\\u00f3rios=Japan<br>Dias desde o caso n\\u00famero 50=%{x}<br>Relativa=%{y}<extra></extra>\", \"ids\": [36], \"legendgroup\": \"Japan\", \"line\": {\"color\": \"#FF9900\", \"dash\": \"solid\"}, \"mode\": \"lines\", \"name\": \"Japan\", \"showlegend\": true, \"x\": [36], \"xaxis\": \"x\", \"y\": [0.0858832807570978], \"yaxis\": \"y\", \"type\": \"scatter\"}, {\"hovertemplate\": \"Pa\\u00edses e territ\\u00f3rios=United_States_of_America<br>Dias desde o caso n\\u00famero 50=%{x}<br>Relativa=%{y}<extra></extra>\", \"ids\": [36], \"legendgroup\": \"United_States_of_America\", \"line\": {\"color\": \"#990099\", \"dash\": \"solid\"}, \"mode\": \"lines\", \"name\": \"United_States_of_America\", \"showlegend\": true, \"x\": [36], \"xaxis\": \"x\", \"y\": [5.8218606079214], \"yaxis\": \"y\", \"type\": \"scatter\"}, {\"hovertemplate\": \"Pa\\u00edses e territ\\u00f3rios=South_Korea<br>Dias desde o caso n\\u00famero 50=%{x}<br>Relativa=%{y}<extra></extra>\", \"ids\": [36], \"legendgroup\": \"South_Korea\", \"line\": {\"color\": \"#DD4477\", \"dash\": \"solid\"}, \"mode\": \"lines\", \"name\": \"South_Korea\", \"showlegend\": true, \"x\": [36], \"xaxis\": \"x\", \"y\": [1.8130950068000777], \"yaxis\": \"y\", \"type\": \"scatter\"}, {\"hovertemplate\": \"Pa\\u00edses e territ\\u00f3rios=China<br>Dias desde o caso n\\u00famero 50=%{x}<br>Relativa=%{y}<extra></extra>\", \"ids\": [36], \"legendgroup\": \"China\", \"line\": {\"color\": \"#109618\", \"dash\": \"solid\"}, \"mode\": \"lines\", \"name\": \"China\", \"showlegend\": true, \"x\": [36], \"xaxis\": \"x\", \"y\": [0.29008658008658006], \"yaxis\": \"y\", \"type\": \"scatter\"}], \"name\": \"36\"}, {\"data\": [{\"hovertemplate\": \"Pa\\u00edses e territ\\u00f3rios=Italy<br>Dias desde o caso n\\u00famero 50=%{x}<br>Relativa=%{y}<extra></extra>\", \"ids\": [37], \"legendgroup\": \"Italy\", \"line\": {\"color\": \"#DC3912\", \"dash\": \"solid\"}, \"mode\": \"lines\", \"name\": \"Italy\", \"showlegend\": true, \"x\": [37], \"xaxis\": \"x\", \"y\": [16.79138471694999], \"yaxis\": \"y\", \"type\": \"scatter\"}, {\"hovertemplate\": \"Pa\\u00edses e territ\\u00f3rios=Japan<br>Dias desde o caso n\\u00famero 50=%{x}<br>Relativa=%{y}<extra></extra>\", \"ids\": [37], \"legendgroup\": \"Japan\", \"line\": {\"color\": \"#FF9900\", \"dash\": \"solid\"}, \"mode\": \"lines\", \"name\": \"Japan\", \"showlegend\": true, \"x\": [37], \"xaxis\": \"x\", \"y\": [0.08895899053627761], \"yaxis\": \"y\", \"type\": \"scatter\"}, {\"hovertemplate\": \"Pa\\u00edses e territ\\u00f3rios=United_States_of_America<br>Dias desde o caso n\\u00famero 50=%{x}<br>Relativa=%{y}<extra></extra>\", \"ids\": [37], \"legendgroup\": \"United_States_of_America\", \"line\": {\"color\": \"#990099\", \"dash\": \"solid\"}, \"mode\": \"lines\", \"name\": \"United_States_of_America\", \"showlegend\": true, \"x\": [37], \"xaxis\": \"x\", \"y\": [6.654006754682223], \"yaxis\": \"y\", \"type\": \"scatter\"}, {\"hovertemplate\": \"Pa\\u00edses e territ\\u00f3rios=South_Korea<br>Dias desde o caso n\\u00famero 50=%{x}<br>Relativa=%{y}<extra></extra>\", \"ids\": [37], \"legendgroup\": \"South_Korea\", \"line\": {\"color\": \"#DD4477\", \"dash\": \"solid\"}, \"mode\": \"lines\", \"name\": \"South_Korea\", \"showlegend\": true, \"x\": [37], \"xaxis\": \"x\", \"y\": [1.8414610452690887], \"yaxis\": \"y\", \"type\": \"scatter\"}, {\"hovertemplate\": \"Pa\\u00edses e territ\\u00f3rios=China<br>Dias desde o caso n\\u00famero 50=%{x}<br>Relativa=%{y}<extra></extra>\", \"ids\": [37], \"legendgroup\": \"China\", \"line\": {\"color\": \"#109618\", \"dash\": \"solid\"}, \"mode\": \"lines\", \"name\": \"China\", \"showlegend\": true, \"x\": [37], \"xaxis\": \"x\", \"y\": [0.3080519480519481], \"yaxis\": \"y\", \"type\": \"scatter\"}], \"name\": \"37\"}, {\"data\": [{\"hovertemplate\": \"Pa\\u00edses e territ\\u00f3rios=Italy<br>Dias desde o caso n\\u00famero 50=%{x}<br>Relativa=%{y}<extra></extra>\", \"ids\": [38], \"legendgroup\": \"Italy\", \"line\": {\"color\": \"#DC3912\", \"dash\": \"solid\"}, \"mode\": \"lines\", \"name\": \"Italy\", \"showlegend\": true, \"x\": [38], \"xaxis\": \"x\", \"y\": [17.460306981350058], \"yaxis\": \"y\", \"type\": \"scatter\"}, {\"hovertemplate\": \"Pa\\u00edses e territ\\u00f3rios=Japan<br>Dias desde o caso n\\u00famero 50=%{x}<br>Relativa=%{y}<extra></extra>\", \"ids\": [38], \"legendgroup\": \"Japan\", \"line\": {\"color\": \"#FF9900\", \"dash\": \"solid\"}, \"mode\": \"lines\", \"name\": \"Japan\", \"showlegend\": true, \"x\": [38], \"xaxis\": \"x\", \"y\": [0.09408517350157729], \"yaxis\": \"y\", \"type\": \"scatter\"}, {\"hovertemplate\": \"Pa\\u00edses e territ\\u00f3rios=South_Korea<br>Dias desde o caso n\\u00famero 50=%{x}<br>Relativa=%{y}<extra></extra>\", \"ids\": [38], \"legendgroup\": \"South_Korea\", \"line\": {\"color\": \"#DD4477\", \"dash\": \"solid\"}, \"mode\": \"lines\", \"name\": \"South_Korea\", \"showlegend\": true, \"x\": [38], \"xaxis\": \"x\", \"y\": [1.8618612784146105], \"yaxis\": \"y\", \"type\": \"scatter\"}, {\"hovertemplate\": \"Pa\\u00edses e territ\\u00f3rios=China<br>Dias desde o caso n\\u00famero 50=%{x}<br>Relativa=%{y}<extra></extra>\", \"ids\": [38], \"legendgroup\": \"China\", \"line\": {\"color\": \"#109618\", \"dash\": \"solid\"}, \"mode\": \"lines\", \"name\": \"China\", \"showlegend\": true, \"x\": [38], \"xaxis\": \"x\", \"y\": [0.3226839826839827], \"yaxis\": \"y\", \"type\": \"scatter\"}], \"name\": \"38\"}, {\"data\": [{\"hovertemplate\": \"Pa\\u00edses e territ\\u00f3rios=Italy<br>Dias desde o caso n\\u00famero 50=%{x}<br>Relativa=%{y}<extra></extra>\", \"ids\": [39], \"legendgroup\": \"Italy\", \"line\": {\"color\": \"#DC3912\", \"dash\": \"solid\"}, \"mode\": \"lines\", \"name\": \"Italy\", \"showlegend\": true, \"x\": [39], \"xaxis\": \"x\", \"y\": [18.249546129724376], \"yaxis\": \"y\", \"type\": \"scatter\"}, {\"hovertemplate\": \"Pa\\u00edses e territ\\u00f3rios=Japan<br>Dias desde o caso n\\u00famero 50=%{x}<br>Relativa=%{y}<extra></extra>\", \"ids\": [39], \"legendgroup\": \"Japan\", \"line\": {\"color\": \"#FF9900\", \"dash\": \"solid\"}, \"mode\": \"lines\", \"name\": \"Japan\", \"showlegend\": true, \"x\": [39], \"xaxis\": \"x\", \"y\": [0.1], \"yaxis\": \"y\", \"type\": \"scatter\"}, {\"hovertemplate\": \"Pa\\u00edses e territ\\u00f3rios=South_Korea<br>Dias desde o caso n\\u00famero 50=%{x}<br>Relativa=%{y}<extra></extra>\", \"ids\": [39], \"legendgroup\": \"South_Korea\", \"line\": {\"color\": \"#DD4477\", \"dash\": \"solid\"}, \"mode\": \"lines\", \"name\": \"South_Korea\", \"showlegend\": true, \"x\": [39], \"xaxis\": \"x\", \"y\": [1.8770157373227123], \"yaxis\": \"y\", \"type\": \"scatter\"}, {\"hovertemplate\": \"Pa\\u00edses e territ\\u00f3rios=China<br>Dias desde o caso n\\u00famero 50=%{x}<br>Relativa=%{y}<extra></extra>\", \"ids\": [39], \"legendgroup\": \"China\", \"line\": {\"color\": \"#109618\", \"dash\": \"solid\"}, \"mode\": \"lines\", \"name\": \"China\", \"showlegend\": true, \"x\": [39], \"xaxis\": \"x\", \"y\": [0.43192640692640694], \"yaxis\": \"y\", \"type\": \"scatter\"}], \"name\": \"39\"}, {\"data\": [{\"hovertemplate\": \"Pa\\u00edses e territ\\u00f3rios=Japan<br>Dias desde o caso n\\u00famero 50=%{x}<br>Relativa=%{y}<extra></extra>\", \"ids\": [40], \"legendgroup\": \"Japan\", \"line\": {\"color\": \"#FF9900\", \"dash\": \"solid\"}, \"mode\": \"lines\", \"name\": \"Japan\", \"showlegend\": true, \"x\": [40], \"xaxis\": \"x\", \"y\": [0.10757097791798108], \"yaxis\": \"y\", \"type\": \"scatter\"}, {\"hovertemplate\": \"Pa\\u00edses e territ\\u00f3rios=South_Korea<br>Dias desde o caso n\\u00famero 50=%{x}<br>Relativa=%{y}<extra></extra>\", \"ids\": [40], \"legendgroup\": \"South_Korea\", \"line\": {\"color\": \"#DD4477\", \"dash\": \"solid\"}, \"mode\": \"lines\", \"name\": \"South_Korea\", \"showlegend\": true, \"x\": [40], \"xaxis\": \"x\", \"y\": [1.901301729162619], \"yaxis\": \"y\", \"type\": \"scatter\"}, {\"hovertemplate\": \"Pa\\u00edses e territ\\u00f3rios=China<br>Dias desde o caso n\\u00famero 50=%{x}<br>Relativa=%{y}<extra></extra>\", \"ids\": [40], \"legendgroup\": \"China\", \"line\": {\"color\": \"#109618\", \"dash\": \"solid\"}, \"mode\": \"lines\", \"name\": \"China\", \"showlegend\": true, \"x\": [40], \"xaxis\": \"x\", \"y\": [0.4619119769119769], \"yaxis\": \"y\", \"type\": \"scatter\"}], \"name\": \"40\"}, {\"data\": [{\"hovertemplate\": \"Pa\\u00edses e territ\\u00f3rios=Japan<br>Dias desde o caso n\\u00famero 50=%{x}<br>Relativa=%{y}<extra></extra>\", \"ids\": [41], \"legendgroup\": \"Japan\", \"line\": {\"color\": \"#FF9900\", \"dash\": \"solid\"}, \"mode\": \"lines\", \"name\": \"Japan\", \"showlegend\": true, \"x\": [41], \"xaxis\": \"x\", \"y\": [0.11821766561514195], \"yaxis\": \"y\", \"type\": \"scatter\"}, {\"hovertemplate\": \"Pa\\u00edses e territ\\u00f3rios=South_Korea<br>Dias desde o caso n\\u00famero 50=%{x}<br>Relativa=%{y}<extra></extra>\", \"ids\": [41], \"legendgroup\": \"South_Korea\", \"line\": {\"color\": \"#DD4477\", \"dash\": \"solid\"}, \"mode\": \"lines\", \"name\": \"South_Korea\", \"showlegend\": true, \"x\": [41], \"xaxis\": \"x\", \"y\": [1.901301729162619], \"yaxis\": \"y\", \"type\": \"scatter\"}, {\"hovertemplate\": \"Pa\\u00edses e territ\\u00f3rios=China<br>Dias desde o caso n\\u00famero 50=%{x}<br>Relativa=%{y}<extra></extra>\", \"ids\": [41], \"legendgroup\": \"China\", \"line\": {\"color\": \"#109618\", \"dash\": \"solid\"}, \"mode\": \"lines\", \"name\": \"China\", \"showlegend\": true, \"x\": [41], \"xaxis\": \"x\", \"y\": [0.4802236652236652], \"yaxis\": \"y\", \"type\": \"scatter\"}], \"name\": \"41\"}, {\"data\": [{\"hovertemplate\": \"Pa\\u00edses e territ\\u00f3rios=Japan<br>Dias desde o caso n\\u00famero 50=%{x}<br>Relativa=%{y}<extra></extra>\", \"ids\": [42], \"legendgroup\": \"Japan\", \"line\": {\"color\": \"#FF9900\", \"dash\": \"solid\"}, \"mode\": \"lines\", \"name\": \"Japan\", \"showlegend\": true, \"x\": [42], \"xaxis\": \"x\", \"y\": [0.1335173501577287], \"yaxis\": \"y\", \"type\": \"scatter\"}, {\"hovertemplate\": \"Pa\\u00edses e territ\\u00f3rios=South_Korea<br>Dias desde o caso n\\u00famero 50=%{x}<br>Relativa=%{y}<extra></extra>\", \"ids\": [42], \"legendgroup\": \"South_Korea\", \"line\": {\"color\": \"#DD4477\", \"dash\": \"solid\"}, \"mode\": \"lines\", \"name\": \"South_Korea\", \"showlegend\": true, \"x\": [42], \"xaxis\": \"x\", \"y\": [1.9382164367592774], \"yaxis\": \"y\", \"type\": \"scatter\"}, {\"hovertemplate\": \"Pa\\u00edses e territ\\u00f3rios=China<br>Dias desde o caso n\\u00famero 50=%{x}<br>Relativa=%{y}<extra></extra>\", \"ids\": [42], \"legendgroup\": \"China\", \"line\": {\"color\": \"#109618\", \"dash\": \"solid\"}, \"mode\": \"lines\", \"name\": \"China\", \"showlegend\": true, \"x\": [42], \"xaxis\": \"x\", \"y\": [0.4947041847041847], \"yaxis\": \"y\", \"type\": \"scatter\"}], \"name\": \"42\"}, {\"data\": [{\"hovertemplate\": \"Pa\\u00edses e territ\\u00f3rios=Japan<br>Dias desde o caso n\\u00famero 50=%{x}<br>Relativa=%{y}<extra></extra>\", \"ids\": [43], \"legendgroup\": \"Japan\", \"line\": {\"color\": \"#FF9900\", \"dash\": \"solid\"}, \"mode\": \"lines\", \"name\": \"Japan\", \"showlegend\": true, \"x\": [43], \"xaxis\": \"x\", \"y\": [0.1471608832807571], \"yaxis\": \"y\", \"type\": \"scatter\"}, {\"hovertemplate\": \"Pa\\u00edses e territ\\u00f3rios=China<br>Dias desde o caso n\\u00famero 50=%{x}<br>Relativa=%{y}<extra></extra>\", \"ids\": [43], \"legendgroup\": \"China\", \"line\": {\"color\": \"#109618\", \"dash\": \"solid\"}, \"mode\": \"lines\", \"name\": \"China\", \"showlegend\": true, \"x\": [43], \"xaxis\": \"x\", \"y\": [0.5095093795093795], \"yaxis\": \"y\", \"type\": \"scatter\"}], \"name\": \"43\"}, {\"data\": [{\"hovertemplate\": \"Pa\\u00edses e territ\\u00f3rios=Japan<br>Dias desde o caso n\\u00famero 50=%{x}<br>Relativa=%{y}<extra></extra>\", \"ids\": [44], \"legendgroup\": \"Japan\", \"line\": {\"color\": \"#FF9900\", \"dash\": \"solid\"}, \"mode\": \"lines\", \"name\": \"Japan\", \"showlegend\": true, \"x\": [44], \"xaxis\": \"x\", \"y\": [0.15402208201892745], \"yaxis\": \"y\", \"type\": \"scatter\"}, {\"hovertemplate\": \"Pa\\u00edses e territ\\u00f3rios=China<br>Dias desde o caso n\\u00famero 50=%{x}<br>Relativa=%{y}<extra></extra>\", \"ids\": [44], \"legendgroup\": \"China\", \"line\": {\"color\": \"#109618\", \"dash\": \"solid\"}, \"mode\": \"lines\", \"name\": \"China\", \"showlegend\": true, \"x\": [44], \"xaxis\": \"x\", \"y\": [0.5231457431457431], \"yaxis\": \"y\", \"type\": \"scatter\"}], \"name\": \"44\"}, {\"data\": [{\"hovertemplate\": \"Pa\\u00edses e territ\\u00f3rios=Japan<br>Dias desde o caso n\\u00famero 50=%{x}<br>Relativa=%{y}<extra></extra>\", \"ids\": [45], \"legendgroup\": \"Japan\", \"line\": {\"color\": \"#FF9900\", \"dash\": \"solid\"}, \"mode\": \"lines\", \"name\": \"Japan\", \"showlegend\": true, \"x\": [45], \"xaxis\": \"x\", \"y\": [0.15402208201892745], \"yaxis\": \"y\", \"type\": \"scatter\"}, {\"hovertemplate\": \"Pa\\u00edses e territ\\u00f3rios=China<br>Dias desde o caso n\\u00famero 50=%{x}<br>Relativa=%{y}<extra></extra>\", \"ids\": [45], \"legendgroup\": \"China\", \"line\": {\"color\": \"#109618\", \"dash\": \"solid\"}, \"mode\": \"lines\", \"name\": \"China\", \"showlegend\": true, \"x\": [45], \"xaxis\": \"x\", \"y\": [0.5357720057720058], \"yaxis\": \"y\", \"type\": \"scatter\"}], \"name\": \"45\"}, {\"data\": [{\"hovertemplate\": \"Pa\\u00edses e territ\\u00f3rios=Japan<br>Dias desde o caso n\\u00famero 50=%{x}<br>Relativa=%{y}<extra></extra>\", \"ids\": [46], \"legendgroup\": \"Japan\", \"line\": {\"color\": \"#FF9900\", \"dash\": \"solid\"}, \"mode\": \"lines\", \"name\": \"Japan\", \"showlegend\": true, \"x\": [46], \"xaxis\": \"x\", \"y\": [0.1717665615141956], \"yaxis\": \"y\", \"type\": \"scatter\"}, {\"hovertemplate\": \"Pa\\u00edses e territ\\u00f3rios=China<br>Dias desde o caso n\\u00famero 50=%{x}<br>Relativa=%{y}<extra></extra>\", \"ids\": [46], \"legendgroup\": \"China\", \"line\": {\"color\": \"#109618\", \"dash\": \"solid\"}, \"mode\": \"lines\", \"name\": \"China\", \"showlegend\": true, \"x\": [46], \"xaxis\": \"x\", \"y\": [0.5386147186147187], \"yaxis\": \"y\", \"type\": \"scatter\"}], \"name\": \"46\"}, {\"data\": [{\"hovertemplate\": \"Pa\\u00edses e territ\\u00f3rios=China<br>Dias desde o caso n\\u00famero 50=%{x}<br>Relativa=%{y}<extra></extra>\", \"ids\": [47], \"legendgroup\": \"China\", \"line\": {\"color\": \"#109618\", \"dash\": \"solid\"}, \"mode\": \"lines\", \"name\": \"China\", \"showlegend\": true, \"x\": [47], \"xaxis\": \"x\", \"y\": [0.54504329004329], \"yaxis\": \"y\", \"type\": \"scatter\"}], \"name\": \"47\"}, {\"data\": [{\"hovertemplate\": \"Pa\\u00edses e territ\\u00f3rios=China<br>Dias desde o caso n\\u00famero 50=%{x}<br>Relativa=%{y}<extra></extra>\", \"ids\": [48], \"legendgroup\": \"China\", \"line\": {\"color\": \"#109618\", \"dash\": \"solid\"}, \"mode\": \"lines\", \"name\": \"China\", \"showlegend\": true, \"x\": [48], \"xaxis\": \"x\", \"y\": [0.551002886002886], \"yaxis\": \"y\", \"type\": \"scatter\"}], \"name\": \"48\"}, {\"data\": [{\"hovertemplate\": \"Pa\\u00edses e territ\\u00f3rios=China<br>Dias desde o caso n\\u00famero 50=%{x}<br>Relativa=%{y}<extra></extra>\", \"ids\": [49], \"legendgroup\": \"China\", \"line\": {\"color\": \"#109618\", \"dash\": \"solid\"}, \"mode\": \"lines\", \"name\": \"China\", \"showlegend\": true, \"x\": [49], \"xaxis\": \"x\", \"y\": [0.5556709956709956], \"yaxis\": \"y\", \"type\": \"scatter\"}], \"name\": \"49\"}, {\"data\": [{\"hovertemplate\": \"Pa\\u00edses e territ\\u00f3rios=China<br>Dias desde o caso n\\u00famero 50=%{x}<br>Relativa=%{y}<extra></extra>\", \"ids\": [50], \"legendgroup\": \"China\", \"line\": {\"color\": \"#109618\", \"dash\": \"solid\"}, \"mode\": \"lines\", \"name\": \"China\", \"showlegend\": true, \"x\": [50], \"xaxis\": \"x\", \"y\": [0.5572438672438672], \"yaxis\": \"y\", \"type\": \"scatter\"}], \"name\": \"50\"}, {\"data\": [{\"hovertemplate\": \"Pa\\u00edses e territ\\u00f3rios=China<br>Dias desde o caso n\\u00famero 50=%{x}<br>Relativa=%{y}<extra></extra>\", \"ids\": [51], \"legendgroup\": \"China\", \"line\": {\"color\": \"#109618\", \"dash\": \"solid\"}, \"mode\": \"lines\", \"name\": \"China\", \"showlegend\": true, \"x\": [51], \"xaxis\": \"x\", \"y\": [0.560959595959596], \"yaxis\": \"y\", \"type\": \"scatter\"}], \"name\": \"51\"}, {\"data\": [{\"hovertemplate\": \"Pa\\u00edses e territ\\u00f3rios=China<br>Dias desde o caso n\\u00famero 50=%{x}<br>Relativa=%{y}<extra></extra>\", \"ids\": [52], \"legendgroup\": \"China\", \"line\": {\"color\": \"#109618\", \"dash\": \"solid\"}, \"mode\": \"lines\", \"name\": \"China\", \"showlegend\": true, \"x\": [52], \"xaxis\": \"x\", \"y\": [0.5639177489177489], \"yaxis\": \"y\", \"type\": \"scatter\"}], \"name\": \"52\"}, {\"data\": [{\"hovertemplate\": \"Pa\\u00edses e territ\\u00f3rios=China<br>Dias desde o caso n\\u00famero 50=%{x}<br>Relativa=%{y}<extra></extra>\", \"ids\": [53], \"legendgroup\": \"China\", \"line\": {\"color\": \"#109618\", \"dash\": \"solid\"}, \"mode\": \"lines\", \"name\": \"China\", \"showlegend\": true, \"x\": [53], \"xaxis\": \"x\", \"y\": [0.5670851370851371], \"yaxis\": \"y\", \"type\": \"scatter\"}], \"name\": \"53\"}, {\"data\": [{\"hovertemplate\": \"Pa\\u00edses e territ\\u00f3rios=China<br>Dias desde o caso n\\u00famero 50=%{x}<br>Relativa=%{y}<extra></extra>\", \"ids\": [54], \"legendgroup\": \"China\", \"line\": {\"color\": \"#109618\", \"dash\": \"solid\"}, \"mode\": \"lines\", \"name\": \"China\", \"showlegend\": true, \"x\": [54], \"xaxis\": \"x\", \"y\": [0.5694588744588744], \"yaxis\": \"y\", \"type\": \"scatter\"}], \"name\": \"54\"}, {\"data\": [{\"hovertemplate\": \"Pa\\u00edses e territ\\u00f3rios=China<br>Dias desde o caso n\\u00famero 50=%{x}<br>Relativa=%{y}<extra></extra>\", \"ids\": [55], \"legendgroup\": \"China\", \"line\": {\"color\": \"#109618\", \"dash\": \"solid\"}, \"mode\": \"lines\", \"name\": \"China\", \"showlegend\": true, \"x\": [55], \"xaxis\": \"x\", \"y\": [0.5725468975468976], \"yaxis\": \"y\", \"type\": \"scatter\"}], \"name\": \"55\"}, {\"data\": [{\"hovertemplate\": \"Pa\\u00edses e territ\\u00f3rios=China<br>Dias desde o caso n\\u00famero 50=%{x}<br>Relativa=%{y}<extra></extra>\", \"ids\": [56], \"legendgroup\": \"China\", \"line\": {\"color\": \"#109618\", \"dash\": \"solid\"}, \"mode\": \"lines\", \"name\": \"China\", \"showlegend\": true, \"x\": [56], \"xaxis\": \"x\", \"y\": [0.5766883116883117], \"yaxis\": \"y\", \"type\": \"scatter\"}], \"name\": \"56\"}, {\"data\": [{\"hovertemplate\": \"Pa\\u00edses e territ\\u00f3rios=China<br>Dias desde o caso n\\u00famero 50=%{x}<br>Relativa=%{y}<extra></extra>\", \"ids\": [57], \"legendgroup\": \"China\", \"line\": {\"color\": \"#109618\", \"dash\": \"solid\"}, \"mode\": \"lines\", \"name\": \"China\", \"showlegend\": true, \"x\": [57], \"xaxis\": \"x\", \"y\": [0.5781673881673882], \"yaxis\": \"y\", \"type\": \"scatter\"}], \"name\": \"57\"}, {\"data\": [{\"hovertemplate\": \"Pa\\u00edses e territ\\u00f3rios=China<br>Dias desde o caso n\\u00famero 50=%{x}<br>Relativa=%{y}<extra></extra>\", \"ids\": [58], \"legendgroup\": \"China\", \"line\": {\"color\": \"#109618\", \"dash\": \"solid\"}, \"mode\": \"lines\", \"name\": \"China\", \"showlegend\": true, \"x\": [58], \"xaxis\": \"x\", \"y\": [0.5790836940836941], \"yaxis\": \"y\", \"type\": \"scatter\"}], \"name\": \"58\"}, {\"data\": [{\"hovertemplate\": \"Pa\\u00edses e territ\\u00f3rios=China<br>Dias desde o caso n\\u00famero 50=%{x}<br>Relativa=%{y}<extra></extra>\", \"ids\": [59], \"legendgroup\": \"China\", \"line\": {\"color\": \"#109618\", \"dash\": \"solid\"}, \"mode\": \"lines\", \"name\": \"China\", \"showlegend\": true, \"x\": [59], \"xaxis\": \"x\", \"y\": [0.57994227994228], \"yaxis\": \"y\", \"type\": \"scatter\"}], \"name\": \"59\"}, {\"data\": [{\"hovertemplate\": \"Pa\\u00edses e territ\\u00f3rios=China<br>Dias desde o caso n\\u00famero 50=%{x}<br>Relativa=%{y}<extra></extra>\", \"ids\": [60], \"legendgroup\": \"China\", \"line\": {\"color\": \"#109618\", \"dash\": \"solid\"}, \"mode\": \"lines\", \"name\": \"China\", \"showlegend\": true, \"x\": [60], \"xaxis\": \"x\", \"y\": [0.5807864357864357], \"yaxis\": \"y\", \"type\": \"scatter\"}], \"name\": \"60\"}, {\"data\": [{\"hovertemplate\": \"Pa\\u00edses e territ\\u00f3rios=China<br>Dias desde o caso n\\u00famero 50=%{x}<br>Relativa=%{y}<extra></extra>\", \"ids\": [61], \"legendgroup\": \"China\", \"line\": {\"color\": \"#109618\", \"dash\": \"solid\"}, \"mode\": \"lines\", \"name\": \"China\", \"showlegend\": true, \"x\": [61], \"xaxis\": \"x\", \"y\": [0.582012987012987], \"yaxis\": \"y\", \"type\": \"scatter\"}], \"name\": \"61\"}, {\"data\": [{\"hovertemplate\": \"Pa\\u00edses e territ\\u00f3rios=China<br>Dias desde o caso n\\u00famero 50=%{x}<br>Relativa=%{y}<extra></extra>\", \"ids\": [62], \"legendgroup\": \"China\", \"line\": {\"color\": \"#109618\", \"dash\": \"solid\"}, \"mode\": \"lines\", \"name\": \"China\", \"showlegend\": true, \"x\": [62], \"xaxis\": \"x\", \"y\": [0.5827417027417028], \"yaxis\": \"y\", \"type\": \"scatter\"}], \"name\": \"62\"}, {\"data\": [{\"hovertemplate\": \"Pa\\u00edses e territ\\u00f3rios=China<br>Dias desde o caso n\\u00famero 50=%{x}<br>Relativa=%{y}<extra></extra>\", \"ids\": [63], \"legendgroup\": \"China\", \"line\": {\"color\": \"#109618\", \"dash\": \"solid\"}, \"mode\": \"lines\", \"name\": \"China\", \"showlegend\": true, \"x\": [63], \"xaxis\": \"x\", \"y\": [0.5830735930735931], \"yaxis\": \"y\", \"type\": \"scatter\"}], \"name\": \"63\"}, {\"data\": [{\"hovertemplate\": \"Pa\\u00edses e territ\\u00f3rios=China<br>Dias desde o caso n\\u00famero 50=%{x}<br>Relativa=%{y}<extra></extra>\", \"ids\": [64], \"legendgroup\": \"China\", \"line\": {\"color\": \"#109618\", \"dash\": \"solid\"}, \"mode\": \"lines\", \"name\": \"China\", \"showlegend\": true, \"x\": [64], \"xaxis\": \"x\", \"y\": [0.5833982683982684], \"yaxis\": \"y\", \"type\": \"scatter\"}], \"name\": \"64\"}, {\"data\": [{\"hovertemplate\": \"Pa\\u00edses e territ\\u00f3rios=China<br>Dias desde o caso n\\u00famero 50=%{x}<br>Relativa=%{y}<extra></extra>\", \"ids\": [65], \"legendgroup\": \"China\", \"line\": {\"color\": \"#109618\", \"dash\": \"solid\"}, \"mode\": \"lines\", \"name\": \"China\", \"showlegend\": true, \"x\": [65], \"xaxis\": \"x\", \"y\": [0.5835425685425686], \"yaxis\": \"y\", \"type\": \"scatter\"}], \"name\": \"65\"}, {\"data\": [{\"hovertemplate\": \"Pa\\u00edses e territ\\u00f3rios=China<br>Dias desde o caso n\\u00famero 50=%{x}<br>Relativa=%{y}<extra></extra>\", \"ids\": [66], \"legendgroup\": \"China\", \"line\": {\"color\": \"#109618\", \"dash\": \"solid\"}, \"mode\": \"lines\", \"name\": \"China\", \"showlegend\": true, \"x\": [66], \"xaxis\": \"x\", \"y\": [0.5837518037518038], \"yaxis\": \"y\", \"type\": \"scatter\"}], \"name\": \"66\"}, {\"data\": [{\"hovertemplate\": \"Pa\\u00edses e territ\\u00f3rios=China<br>Dias desde o caso n\\u00famero 50=%{x}<br>Relativa=%{y}<extra></extra>\", \"ids\": [67], \"legendgroup\": \"China\", \"line\": {\"color\": \"#109618\", \"dash\": \"solid\"}, \"mode\": \"lines\", \"name\": \"China\", \"showlegend\": true, \"x\": [67], \"xaxis\": \"x\", \"y\": [0.583924963924964], \"yaxis\": \"y\", \"type\": \"scatter\"}], \"name\": \"67\"}, {\"data\": [{\"hovertemplate\": \"Pa\\u00edses e territ\\u00f3rios=China<br>Dias desde o caso n\\u00famero 50=%{x}<br>Relativa=%{y}<extra></extra>\", \"ids\": [68], \"legendgroup\": \"China\", \"line\": {\"color\": \"#109618\", \"dash\": \"solid\"}, \"mode\": \"lines\", \"name\": \"China\", \"showlegend\": true, \"x\": [68], \"xaxis\": \"x\", \"y\": [0.5840836940836941], \"yaxis\": \"y\", \"type\": \"scatter\"}], \"name\": \"68\"}, {\"data\": [{\"hovertemplate\": \"Pa\\u00edses e territ\\u00f3rios=China<br>Dias desde o caso n\\u00famero 50=%{x}<br>Relativa=%{y}<extra></extra>\", \"ids\": [69], \"legendgroup\": \"China\", \"line\": {\"color\": \"#109618\", \"dash\": \"solid\"}, \"mode\": \"lines\", \"name\": \"China\", \"showlegend\": true, \"x\": [69], \"xaxis\": \"x\", \"y\": [0.5842207792207792], \"yaxis\": \"y\", \"type\": \"scatter\"}], \"name\": \"69\"}, {\"data\": [{\"hovertemplate\": \"Pa\\u00edses e territ\\u00f3rios=China<br>Dias desde o caso n\\u00famero 50=%{x}<br>Relativa=%{y}<extra></extra>\", \"ids\": [70], \"legendgroup\": \"China\", \"line\": {\"color\": \"#109618\", \"dash\": \"solid\"}, \"mode\": \"lines\", \"name\": \"China\", \"showlegend\": true, \"x\": [70], \"xaxis\": \"x\", \"y\": [0.5843795093795093], \"yaxis\": \"y\", \"type\": \"scatter\"}], \"name\": \"70\"}, {\"data\": [{\"hovertemplate\": \"Pa\\u00edses e territ\\u00f3rios=China<br>Dias desde o caso n\\u00famero 50=%{x}<br>Relativa=%{y}<extra></extra>\", \"ids\": [71], \"legendgroup\": \"China\", \"line\": {\"color\": \"#109618\", \"dash\": \"solid\"}, \"mode\": \"lines\", \"name\": \"China\", \"showlegend\": true, \"x\": [71], \"xaxis\": \"x\", \"y\": [0.5845598845598846], \"yaxis\": \"y\", \"type\": \"scatter\"}], \"name\": \"71\"}, {\"data\": [{\"hovertemplate\": \"Pa\\u00edses e territ\\u00f3rios=China<br>Dias desde o caso n\\u00famero 50=%{x}<br>Relativa=%{y}<extra></extra>\", \"ids\": [72], \"legendgroup\": \"China\", \"line\": {\"color\": \"#109618\", \"dash\": \"solid\"}, \"mode\": \"lines\", \"name\": \"China\", \"showlegend\": true, \"x\": [72], \"xaxis\": \"x\", \"y\": [0.5848701298701299], \"yaxis\": \"y\", \"type\": \"scatter\"}], \"name\": \"72\"}, {\"data\": [{\"hovertemplate\": \"Pa\\u00edses e territ\\u00f3rios=China<br>Dias desde o caso n\\u00famero 50=%{x}<br>Relativa=%{y}<extra></extra>\", \"ids\": [73], \"legendgroup\": \"China\", \"line\": {\"color\": \"#109618\", \"dash\": \"solid\"}, \"mode\": \"lines\", \"name\": \"China\", \"showlegend\": true, \"x\": [73], \"xaxis\": \"x\", \"y\": [0.585036075036075], \"yaxis\": \"y\", \"type\": \"scatter\"}], \"name\": \"73\"}, {\"data\": [{\"hovertemplate\": \"Pa\\u00edses e territ\\u00f3rios=China<br>Dias desde o caso n\\u00famero 50=%{x}<br>Relativa=%{y}<extra></extra>\", \"ids\": [74], \"legendgroup\": \"China\", \"line\": {\"color\": \"#109618\", \"dash\": \"solid\"}, \"mode\": \"lines\", \"name\": \"China\", \"showlegend\": true, \"x\": [74], \"xaxis\": \"x\", \"y\": [0.5853535353535354], \"yaxis\": \"y\", \"type\": \"scatter\"}], \"name\": \"74\"}, {\"data\": [{\"hovertemplate\": \"Pa\\u00edses e territ\\u00f3rios=China<br>Dias desde o caso n\\u00famero 50=%{x}<br>Relativa=%{y}<extra></extra>\", \"ids\": [75], \"legendgroup\": \"China\", \"line\": {\"color\": \"#109618\", \"dash\": \"solid\"}, \"mode\": \"lines\", \"name\": \"China\", \"showlegend\": true, \"x\": [75], \"xaxis\": \"x\", \"y\": [0.5860678210678211], \"yaxis\": \"y\", \"type\": \"scatter\"}], \"name\": \"75\"}, {\"data\": [{\"hovertemplate\": \"Pa\\u00edses e territ\\u00f3rios=China<br>Dias desde o caso n\\u00famero 50=%{x}<br>Relativa=%{y}<extra></extra>\", \"ids\": [76], \"legendgroup\": \"China\", \"line\": {\"color\": \"#109618\", \"dash\": \"solid\"}, \"mode\": \"lines\", \"name\": \"China\", \"showlegend\": true, \"x\": [76], \"xaxis\": \"x\", \"y\": [0.5864430014430014], \"yaxis\": \"y\", \"type\": \"scatter\"}], \"name\": \"76\"}, {\"data\": [{\"hovertemplate\": \"Pa\\u00edses e territ\\u00f3rios=China<br>Dias desde o caso n\\u00famero 50=%{x}<br>Relativa=%{y}<extra></extra>\", \"ids\": [77], \"legendgroup\": \"China\", \"line\": {\"color\": \"#109618\", \"dash\": \"solid\"}, \"mode\": \"lines\", \"name\": \"China\", \"showlegend\": true, \"x\": [77], \"xaxis\": \"x\", \"y\": [0.5869119769119769], \"yaxis\": \"y\", \"type\": \"scatter\"}], \"name\": \"77\"}, {\"data\": [{\"hovertemplate\": \"Pa\\u00edses e territ\\u00f3rios=China<br>Dias desde o caso n\\u00famero 50=%{x}<br>Relativa=%{y}<extra></extra>\", \"ids\": [78], \"legendgroup\": \"China\", \"line\": {\"color\": \"#109618\", \"dash\": \"solid\"}, \"mode\": \"lines\", \"name\": \"China\", \"showlegend\": true, \"x\": [78], \"xaxis\": \"x\", \"y\": [0.5879076479076479], \"yaxis\": \"y\", \"type\": \"scatter\"}], \"name\": \"78\"}, {\"data\": [{\"hovertemplate\": \"Pa\\u00edses e territ\\u00f3rios=China<br>Dias desde o caso n\\u00famero 50=%{x}<br>Relativa=%{y}<extra></extra>\", \"ids\": [79], \"legendgroup\": \"China\", \"line\": {\"color\": \"#109618\", \"dash\": \"solid\"}, \"mode\": \"lines\", \"name\": \"China\", \"showlegend\": true, \"x\": [79], \"xaxis\": \"x\", \"y\": [0.5884054834054834], \"yaxis\": \"y\", \"type\": \"scatter\"}], \"name\": \"79\"}, {\"data\": [{\"hovertemplate\": \"Pa\\u00edses e territ\\u00f3rios=China<br>Dias desde o caso n\\u00famero 50=%{x}<br>Relativa=%{y}<extra></extra>\", \"ids\": [80], \"legendgroup\": \"China\", \"line\": {\"color\": \"#109618\", \"dash\": \"solid\"}, \"mode\": \"lines\", \"name\": \"China\", \"showlegend\": true, \"x\": [80], \"xaxis\": \"x\", \"y\": [0.5889682539682539], \"yaxis\": \"y\", \"type\": \"scatter\"}], \"name\": \"80\"}, {\"data\": [{\"hovertemplate\": \"Pa\\u00edses e territ\\u00f3rios=China<br>Dias desde o caso n\\u00famero 50=%{x}<br>Relativa=%{y}<extra></extra>\", \"ids\": [81], \"legendgroup\": \"China\", \"line\": {\"color\": \"#109618\", \"dash\": \"solid\"}, \"mode\": \"lines\", \"name\": \"China\", \"showlegend\": true, \"x\": [81], \"xaxis\": \"x\", \"y\": [0.5897041847041847], \"yaxis\": \"y\", \"type\": \"scatter\"}], \"name\": \"81\"}, {\"data\": [{\"hovertemplate\": \"Pa\\u00edses e territ\\u00f3rios=China<br>Dias desde o caso n\\u00famero 50=%{x}<br>Relativa=%{y}<extra></extra>\", \"ids\": [82], \"legendgroup\": \"China\", \"line\": {\"color\": \"#109618\", \"dash\": \"solid\"}, \"mode\": \"lines\", \"name\": \"China\", \"showlegend\": true, \"x\": [82], \"xaxis\": \"x\", \"y\": [0.5903823953823953], \"yaxis\": \"y\", \"type\": \"scatter\"}], \"name\": \"82\"}, {\"data\": [{\"hovertemplate\": \"Pa\\u00edses e territ\\u00f3rios=China<br>Dias desde o caso n\\u00famero 50=%{x}<br>Relativa=%{y}<extra></extra>\", \"ids\": [83], \"legendgroup\": \"China\", \"line\": {\"color\": \"#109618\", \"dash\": \"solid\"}, \"mode\": \"lines\", \"name\": \"China\", \"showlegend\": true, \"x\": [83], \"xaxis\": \"x\", \"y\": [0.5912409812409812], \"yaxis\": \"y\", \"type\": \"scatter\"}], \"name\": \"83\"}, {\"data\": [{\"hovertemplate\": \"Pa\\u00edses e territ\\u00f3rios=China<br>Dias desde o caso n\\u00famero 50=%{x}<br>Relativa=%{y}<extra></extra>\", \"ids\": [84], \"legendgroup\": \"China\", \"line\": {\"color\": \"#109618\", \"dash\": \"solid\"}, \"mode\": \"lines\", \"name\": \"China\", \"showlegend\": true, \"x\": [84], \"xaxis\": \"x\", \"y\": [0.5920562770562771], \"yaxis\": \"y\", \"type\": \"scatter\"}], \"name\": \"84\"}, {\"data\": [{\"hovertemplate\": \"Pa\\u00edses e territ\\u00f3rios=China<br>Dias desde o caso n\\u00famero 50=%{x}<br>Relativa=%{y}<extra></extra>\", \"ids\": [85], \"legendgroup\": \"China\", \"line\": {\"color\": \"#109618\", \"dash\": \"solid\"}, \"mode\": \"lines\", \"name\": \"China\", \"showlegend\": true, \"x\": [85], \"xaxis\": \"x\", \"y\": [0.5927633477633477], \"yaxis\": \"y\", \"type\": \"scatter\"}], \"name\": \"85\"}, {\"data\": [{\"hovertemplate\": \"Pa\\u00edses e territ\\u00f3rios=China<br>Dias desde o caso n\\u00famero 50=%{x}<br>Relativa=%{y}<extra></extra>\", \"ids\": [86], \"legendgroup\": \"China\", \"line\": {\"color\": \"#109618\", \"dash\": \"solid\"}, \"mode\": \"lines\", \"name\": \"China\", \"showlegend\": true, \"x\": [86], \"xaxis\": \"x\", \"y\": [0.5933694083694083], \"yaxis\": \"y\", \"type\": \"scatter\"}], \"name\": \"86\"}, {\"data\": [{\"hovertemplate\": \"Pa\\u00edses e territ\\u00f3rios=China<br>Dias desde o caso n\\u00famero 50=%{x}<br>Relativa=%{y}<extra></extra>\", \"ids\": [87], \"legendgroup\": \"China\", \"line\": {\"color\": \"#109618\", \"dash\": \"solid\"}, \"mode\": \"lines\", \"name\": \"China\", \"showlegend\": true, \"x\": [87], \"xaxis\": \"x\", \"y\": [0.5937590187590187], \"yaxis\": \"y\", \"type\": \"scatter\"}], \"name\": \"87\"}, {\"data\": [{\"hovertemplate\": \"Pa\\u00edses e territ\\u00f3rios=China<br>Dias desde o caso n\\u00famero 50=%{x}<br>Relativa=%{y}<extra></extra>\", \"ids\": [88], \"legendgroup\": \"China\", \"line\": {\"color\": \"#109618\", \"dash\": \"solid\"}, \"mode\": \"lines\", \"name\": \"China\", \"showlegend\": true, \"x\": [88], \"xaxis\": \"x\", \"y\": [0.5944805194805195], \"yaxis\": \"y\", \"type\": \"scatter\"}], \"name\": \"88\"}]);\n",
              "                        }).then(function(){\n",
              "                            \n",
              "var gd = document.getElementById('83d89f23-bb64-414a-a390-59671c75cf52');\n",
              "var x = new MutationObserver(function (mutations, observer) {{\n",
              "        var display = window.getComputedStyle(gd).display;\n",
              "        if (!display || display === 'none') {{\n",
              "            console.log([gd, 'removed!']);\n",
              "            Plotly.purge(gd);\n",
              "            observer.disconnect();\n",
              "        }}\n",
              "}});\n",
              "\n",
              "// Listen for the removal of the full notebook cells\n",
              "var notebookContainer = gd.closest('#notebook-container');\n",
              "if (notebookContainer) {{\n",
              "    x.observe(notebookContainer, {childList: true});\n",
              "}}\n",
              "\n",
              "// Listen for the clearing of the current output cell\n",
              "var outputEl = gd.closest('.output');\n",
              "if (outputEl) {{\n",
              "    x.observe(outputEl, {childList: true});\n",
              "}}\n",
              "\n",
              "                        })\n",
              "                };\n",
              "                \n",
              "            </script>\n",
              "        </div>\n",
              "</body>\n",
              "</html>"
            ]
          },
          "metadata": {
            "tags": []
          }
        }
      ]
    },
    {
      "cell_type": "code",
      "metadata": {
        "id": "KZPil6wRYxE8",
        "colab_type": "code",
        "outputId": "3dc3bcd9-1476-4df1-9fa2-eb1008d25a91",
        "colab": {
          "base_uri": "https://localhost:8080/",
          "height": 419
        }
      },
      "source": [
        "#hide\n",
        "mfinal_data"
      ],
      "execution_count": 217,
      "outputs": [
        {
          "output_type": "execute_result",
          "data": {
            "text/html": [
              "<div>\n",
              "<style scoped>\n",
              "    .dataframe tbody tr th:only-of-type {\n",
              "        vertical-align: middle;\n",
              "    }\n",
              "\n",
              "    .dataframe tbody tr th {\n",
              "        vertical-align: top;\n",
              "    }\n",
              "\n",
              "    .dataframe thead th {\n",
              "        text-align: right;\n",
              "    }\n",
              "</style>\n",
              "<table border=\"1\" class=\"dataframe\">\n",
              "  <thead>\n",
              "    <tr style=\"text-align: right;\">\n",
              "      <th></th>\n",
              "      <th>Países e territórios</th>\n",
              "      <th>Mortes</th>\n",
              "      <th>Dias desde a primeira morte</th>\n",
              "    </tr>\n",
              "  </thead>\n",
              "  <tbody>\n",
              "    <tr>\n",
              "      <th>0</th>\n",
              "      <td>Brazil</td>\n",
              "      <td>1</td>\n",
              "      <td>0</td>\n",
              "    </tr>\n",
              "    <tr>\n",
              "      <th>1</th>\n",
              "      <td>Brazil</td>\n",
              "      <td>4</td>\n",
              "      <td>1</td>\n",
              "    </tr>\n",
              "    <tr>\n",
              "      <th>2</th>\n",
              "      <td>Brazil</td>\n",
              "      <td>6</td>\n",
              "      <td>2</td>\n",
              "    </tr>\n",
              "    <tr>\n",
              "      <th>3</th>\n",
              "      <td>Brazil</td>\n",
              "      <td>11</td>\n",
              "      <td>3</td>\n",
              "    </tr>\n",
              "    <tr>\n",
              "      <th>4</th>\n",
              "      <td>Brazil</td>\n",
              "      <td>18</td>\n",
              "      <td>4</td>\n",
              "    </tr>\n",
              "    <tr>\n",
              "      <th>...</th>\n",
              "      <td>...</td>\n",
              "      <td>...</td>\n",
              "      <td>...</td>\n",
              "    </tr>\n",
              "    <tr>\n",
              "      <th>6</th>\n",
              "      <td>Czech_Republic</td>\n",
              "      <td>11</td>\n",
              "      <td>6</td>\n",
              "    </tr>\n",
              "    <tr>\n",
              "      <th>7</th>\n",
              "      <td>Czech_Republic</td>\n",
              "      <td>16</td>\n",
              "      <td>7</td>\n",
              "    </tr>\n",
              "    <tr>\n",
              "      <th>8</th>\n",
              "      <td>Czech_Republic</td>\n",
              "      <td>24</td>\n",
              "      <td>8</td>\n",
              "    </tr>\n",
              "    <tr>\n",
              "      <th>9</th>\n",
              "      <td>Czech_Republic</td>\n",
              "      <td>31</td>\n",
              "      <td>9</td>\n",
              "    </tr>\n",
              "    <tr>\n",
              "      <th>10</th>\n",
              "      <td>Czech_Republic</td>\n",
              "      <td>39</td>\n",
              "      <td>10</td>\n",
              "    </tr>\n",
              "  </tbody>\n",
              "</table>\n",
              "<p>449 rows × 3 columns</p>\n",
              "</div>"
            ],
            "text/plain": [
              "   Países e territórios  Mortes  Dias desde a primeira morte\n",
              "0                Brazil       1                            0\n",
              "1                Brazil       4                            1\n",
              "2                Brazil       6                            2\n",
              "3                Brazil      11                            3\n",
              "4                Brazil      18                            4\n",
              "..                  ...     ...                          ...\n",
              "6        Czech_Republic      11                            6\n",
              "7        Czech_Republic      16                            7\n",
              "8        Czech_Republic      24                            8\n",
              "9        Czech_Republic      31                            9\n",
              "10       Czech_Republic      39                           10\n",
              "\n",
              "[449 rows x 3 columns]"
            ]
          },
          "metadata": {
            "tags": []
          },
          "execution_count": 217
        }
      ]
    },
    {
      "cell_type": "code",
      "metadata": {
        "id": "WWaA3Lq-DxgL",
        "colab_type": "code",
        "outputId": "bc6f8e3b-f52d-4fb0-8f00-745df6a91b6d",
        "colab": {
          "base_uri": "https://localhost:8080/",
          "height": 173
        }
      },
      "source": [
        "#hide\n",
        "italy\n",
        "x = italy.shift(-7)\n",
        "x.head(4)"
      ],
      "execution_count": 218,
      "outputs": [
        {
          "output_type": "execute_result",
          "data": {
            "text/html": [
              "<div>\n",
              "<style scoped>\n",
              "    .dataframe tbody tr th:only-of-type {\n",
              "        vertical-align: middle;\n",
              "    }\n",
              "\n",
              "    .dataframe tbody tr th {\n",
              "        vertical-align: top;\n",
              "    }\n",
              "\n",
              "    .dataframe thead th {\n",
              "        text-align: right;\n",
              "    }\n",
              "</style>\n",
              "<table border=\"1\" class=\"dataframe\">\n",
              "  <thead>\n",
              "    <tr style=\"text-align: right;\">\n",
              "      <th></th>\n",
              "      <th>countriesAndTerritories</th>\n",
              "      <th>Cumulativo</th>\n",
              "      <th>Relativo</th>\n",
              "    </tr>\n",
              "  </thead>\n",
              "  <tbody>\n",
              "    <tr>\n",
              "      <th>0</th>\n",
              "      <td>Italy</td>\n",
              "      <td>1128.0</td>\n",
              "      <td>0.186169</td>\n",
              "    </tr>\n",
              "    <tr>\n",
              "      <th>1</th>\n",
              "      <td>Italy</td>\n",
              "      <td>1689.0</td>\n",
              "      <td>0.278759</td>\n",
              "    </tr>\n",
              "    <tr>\n",
              "      <th>2</th>\n",
              "      <td>Italy</td>\n",
              "      <td>1835.0</td>\n",
              "      <td>0.302855</td>\n",
              "    </tr>\n",
              "    <tr>\n",
              "      <th>3</th>\n",
              "      <td>Italy</td>\n",
              "      <td>2502.0</td>\n",
              "      <td>0.412939</td>\n",
              "    </tr>\n",
              "  </tbody>\n",
              "</table>\n",
              "</div>"
            ],
            "text/plain": [
              "  countriesAndTerritories  Cumulativo  Relativo\n",
              "0                   Italy      1128.0  0.186169\n",
              "1                   Italy      1689.0  0.278759\n",
              "2                   Italy      1835.0  0.302855\n",
              "3                   Italy      2502.0  0.412939"
            ]
          },
          "metadata": {
            "tags": []
          },
          "execution_count": 218
        }
      ]
    },
    {
      "cell_type": "code",
      "metadata": {
        "id": "HZkE8lxJvaFm",
        "colab_type": "code",
        "outputId": "8eaa2644-bb27-4d4f-ce27-5faa3f14b34a",
        "colab": {
          "base_uri": "https://localhost:8080/",
          "height": 173
        }
      },
      "source": [
        "#hide\n",
        "italy.head(4)"
      ],
      "execution_count": 219,
      "outputs": [
        {
          "output_type": "execute_result",
          "data": {
            "text/html": [
              "<div>\n",
              "<style scoped>\n",
              "    .dataframe tbody tr th:only-of-type {\n",
              "        vertical-align: middle;\n",
              "    }\n",
              "\n",
              "    .dataframe tbody tr th {\n",
              "        vertical-align: top;\n",
              "    }\n",
              "\n",
              "    .dataframe thead th {\n",
              "        text-align: right;\n",
              "    }\n",
              "</style>\n",
              "<table border=\"1\" class=\"dataframe\">\n",
              "  <thead>\n",
              "    <tr style=\"text-align: right;\">\n",
              "      <th></th>\n",
              "      <th>countriesAndTerritories</th>\n",
              "      <th>Cumulativo</th>\n",
              "      <th>Relativo</th>\n",
              "    </tr>\n",
              "  </thead>\n",
              "  <tbody>\n",
              "    <tr>\n",
              "      <th>0</th>\n",
              "      <td>Italy</td>\n",
              "      <td>79</td>\n",
              "      <td>0.013038</td>\n",
              "    </tr>\n",
              "    <tr>\n",
              "      <th>1</th>\n",
              "      <td>Italy</td>\n",
              "      <td>132</td>\n",
              "      <td>0.021786</td>\n",
              "    </tr>\n",
              "    <tr>\n",
              "      <th>2</th>\n",
              "      <td>Italy</td>\n",
              "      <td>229</td>\n",
              "      <td>0.037795</td>\n",
              "    </tr>\n",
              "    <tr>\n",
              "      <th>3</th>\n",
              "      <td>Italy</td>\n",
              "      <td>322</td>\n",
              "      <td>0.053144</td>\n",
              "    </tr>\n",
              "  </tbody>\n",
              "</table>\n",
              "</div>"
            ],
            "text/plain": [
              "  countriesAndTerritories  Cumulativo  Relativo\n",
              "0                   Italy          79  0.013038\n",
              "1                   Italy         132  0.021786\n",
              "2                   Italy         229  0.037795\n",
              "3                   Italy         322  0.053144"
            ]
          },
          "metadata": {
            "tags": []
          },
          "execution_count": 219
        }
      ]
    },
    {
      "cell_type": "code",
      "metadata": {
        "id": "Ug_78Ieivz2X",
        "colab_type": "code",
        "colab": {}
      },
      "source": [
        "#hide\n",
        "italy['Shifted'] = x['Cumulativo']"
      ],
      "execution_count": 0,
      "outputs": []
    },
    {
      "cell_type": "code",
      "metadata": {
        "id": "xX0J-pD5Q98S",
        "colab_type": "code",
        "outputId": "674669a2-458e-476b-bb58-f44bb492545e",
        "colab": {
          "base_uri": "https://localhost:8080/",
          "height": 68
        }
      },
      "source": [
        "#hide\n",
        "brasil = list(brazil['Cumulativo'])\n",
        "x = list(mbrazil['Cumulativo'])\n",
        "y = list(mbrazil.index)\n",
        "print(x)\n",
        "print(y)\n",
        "print(brasil)"
      ],
      "execution_count": 221,
      "outputs": [
        {
          "output_type": "stream",
          "text": [
            "[1, 4, 6, 11, 18, 25, 34, 46, 57, 77, 92, 114, 136, 159, 201, 241]\n",
            "[0, 1, 2, 3, 4, 5, 6, 7, 8, 9, 10, 11, 12, 13, 14, 15]\n",
            "[52, 77, 98, 121, 200, 234, 291, 428, 621, 904, 1128, 1546, 1891, 2201, 2433, 2915, 3417, 3904, 4256, 4579, 5717, 6836]\n"
          ],
          "name": "stdout"
        }
      ]
    },
    {
      "cell_type": "code",
      "metadata": {
        "id": "l-Xx1PvwwSCm",
        "colab_type": "code",
        "colab": {}
      },
      "source": [
        ""
      ],
      "execution_count": 0,
      "outputs": []
    }
  ]
}