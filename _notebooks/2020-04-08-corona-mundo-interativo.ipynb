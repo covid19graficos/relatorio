{
  "nbformat": 4,
  "nbformat_minor": 0,
  "metadata": {
    "colab": {
      "name": "2020-04-08-corona-mundo-interativo.ipynb",
      "provenance": [],
      "collapsed_sections": []
    },
    "kernelspec": {
      "display_name": "Python 3",
      "language": "python",
      "name": "python3"
    },
    "language_info": {
      "codemirror_mode": {
        "name": "ipython",
        "version": 3
      },
      "file_extension": ".py",
      "mimetype": "text/x-python",
      "name": "python",
      "nbconvert_exporter": "python",
      "pygments_lexer": "ipython3",
      "version": "3.6.5"
    }
  },
  "cells": [
    {
      "cell_type": "markdown",
      "metadata": {
        "id": "i3R7_8aSTqPD",
        "colab_type": "text"
      },
      "source": [
        "# Coronavirus Brasil vs Mundo - Gráficos Interativos\n",
        "> Gráficos e análises com comparações entre Brasil e países específicos\n",
        "\n",
        "- toc: false\n",
        "- branch: master\n",
        "- badges: false\n",
        "- comments: false\n",
        "- author: Vinicius Bastos Gomes & Fernando Wittmann\n",
        "- categories: [coronavirus]\n"
      ]
    },
    {
      "cell_type": "markdown",
      "metadata": {
        "id": "6Qdx6Lw_vcDr",
        "colab_type": "text"
      },
      "source": [
        "Fonte:  https://opendata.ecdc.europa.eu/covid19/casedistribution/csv\n"
      ]
    },
    {
      "cell_type": "code",
      "metadata": {
        "id": "5Gy6Po5a4_Zs",
        "colab_type": "code",
        "outputId": "1444e2be-ab9b-456b-a53b-e04db200a865",
        "colab": {
          "base_uri": "https://localhost:8080/",
          "height": 187
        }
      },
      "source": [
        "#hide\n",
        "!pip install plotly --upgrade"
      ],
      "execution_count": 1,
      "outputs": [
        {
          "output_type": "stream",
          "text": [
            "Collecting plotly\n",
            "\u001b[?25l  Downloading https://files.pythonhosted.org/packages/15/90/918bccb0ca60dc6d126d921e2c67126d75949f5da777e6b18c51fb12603d/plotly-4.6.0-py2.py3-none-any.whl (7.1MB)\n",
            "\u001b[K     |████████████████████████████████| 7.2MB 1.4MB/s \n",
            "\u001b[?25hRequirement already satisfied, skipping upgrade: retrying>=1.3.3 in /usr/local/lib/python3.6/dist-packages (from plotly) (1.3.3)\n",
            "Requirement already satisfied, skipping upgrade: six in /usr/local/lib/python3.6/dist-packages (from plotly) (1.12.0)\n",
            "Installing collected packages: plotly\n",
            "  Found existing installation: plotly 4.4.1\n",
            "    Uninstalling plotly-4.4.1:\n",
            "      Successfully uninstalled plotly-4.4.1\n",
            "Successfully installed plotly-4.6.0\n"
          ],
          "name": "stdout"
        }
      ]
    },
    {
      "cell_type": "code",
      "metadata": {
        "colab_type": "code",
        "id": "Q-8UV5O_Y6lN",
        "colab": {}
      },
      "source": [
        "#hide_input\n",
        "#Imports\n",
        "import warnings\n",
        "warnings.filterwarnings('ignore')\n",
        "import matplotlib.pyplot as plt\n",
        "%matplotlib inline\n",
        "import matplotlib.ticker as ticker\n",
        "import numpy as np; np.random.seed(1)\n",
        "import seaborn as sns\n",
        "sns.set(style=\"ticks\", rc={\"lines.linewidth\": 1.6})\n",
        "sns.set_palette('bright')\n",
        "import pandas as pd\n",
        "from datetime import date\n",
        "import io\n",
        "\n",
        "# Montar google drive e exportar imagens\n",
        "MONTAR_GDRIVE = True\n"
      ],
      "execution_count": 0,
      "outputs": []
    },
    {
      "cell_type": "code",
      "metadata": {
        "id": "w4A3tPKfdXbK",
        "colab_type": "code",
        "colab": {}
      },
      "source": [
        "#hide\n",
        "#URL = \"https://opendata.ecdc.europa.eu/covid19/casedistribution/csv\"\n",
        "\n",
        "#requests.get(URL)"
      ],
      "execution_count": 0,
      "outputs": []
    },
    {
      "cell_type": "code",
      "metadata": {
        "id": "GCFkwV5puwmq",
        "colab_type": "code",
        "outputId": "d1003e2b-875d-4784-fd54-96e10e1932f9",
        "colab": {
          "base_uri": "https://localhost:8080/",
          "height": 122
        }
      },
      "source": [
        "#hide\n",
        "if MONTAR_GDRIVE:\n",
        "    # Montar Google Drive\n",
        "    from google.colab import drive\n",
        "    drive.mount('/content/drive')"
      ],
      "execution_count": 3,
      "outputs": [
        {
          "output_type": "stream",
          "text": [
            "Go to this URL in a browser: https://accounts.google.com/o/oauth2/auth?client_id=947318989803-6bn6qk8qdgf4n4g3pfee6491hc0brc4i.apps.googleusercontent.com&redirect_uri=urn%3aietf%3awg%3aoauth%3a2.0%3aoob&response_type=code&scope=email%20https%3a%2f%2fwww.googleapis.com%2fauth%2fdocs.test%20https%3a%2f%2fwww.googleapis.com%2fauth%2fdrive%20https%3a%2f%2fwww.googleapis.com%2fauth%2fdrive.photos.readonly%20https%3a%2f%2fwww.googleapis.com%2fauth%2fpeopleapi.readonly\n",
            "\n",
            "Enter your authorization code:\n",
            "··········\n",
            "Mounted at /content/drive\n"
          ],
          "name": "stdout"
        }
      ]
    },
    {
      "cell_type": "code",
      "metadata": {
        "id": "67m1J6q1u4bt",
        "colab_type": "code",
        "outputId": "6db587bd-8e3c-4bd0-af52-e3670aa4ae5d",
        "colab": {
          "base_uri": "https://localhost:8080/",
          "height": 34
        }
      },
      "source": [
        "#hide\n",
        "if MONTAR_GDRIVE:\n",
        "    # Abrir pasta com os arquivos\n",
        "    %cd \"/content/drive/My Drive/CoronaVirus Brasil\""
      ],
      "execution_count": 4,
      "outputs": [
        {
          "output_type": "stream",
          "text": [
            "/content/drive/My Drive/CoronaVirus Brasil\n"
          ],
          "name": "stdout"
        }
      ]
    },
    {
      "cell_type": "code",
      "metadata": {
        "id": "pEUjkscson4Y",
        "colab_type": "code",
        "colab": {}
      },
      "source": [
        "#hide\n",
        "!rm dados.csv"
      ],
      "execution_count": 0,
      "outputs": []
    },
    {
      "cell_type": "code",
      "metadata": {
        "id": "qLtKAiWZjsqV",
        "colab_type": "code",
        "outputId": "76633379-0da0-4fe2-ec50-ace4f54c192e",
        "colab": {
          "base_uri": "https://localhost:8080/",
          "height": 272
        }
      },
      "source": [
        "#hide\n",
        "!wget https://opendata.ecdc.europa.eu/covid19/casedistribution/csv -O dados.csv"
      ],
      "execution_count": 6,
      "outputs": [
        {
          "output_type": "stream",
          "text": [
            "--2020-04-08 11:32:24--  https://opendata.ecdc.europa.eu/covid19/casedistribution/csv\n",
            "Resolving opendata.ecdc.europa.eu (opendata.ecdc.europa.eu)... 212.181.0.63\n",
            "Connecting to opendata.ecdc.europa.eu (opendata.ecdc.europa.eu)|212.181.0.63|:443... connected.\n",
            "HTTP request sent, awaiting response... 301 Moved Permanently\n",
            "Location: https://opendata.ecdc.europa.eu/covid19/casedistribution/csv/ [following]\n",
            "--2020-04-08 11:32:26--  https://opendata.ecdc.europa.eu/covid19/casedistribution/csv/\n",
            "Reusing existing connection to opendata.ecdc.europa.eu:443.\n",
            "HTTP request sent, awaiting response... 200 OK\n",
            "Length: 486225 (475K) [application/octet-stream]\n",
            "Saving to: ‘dados.csv’\n",
            "\n",
            "dados.csv           100%[===================>] 474.83K   211KB/s    in 2.3s    \n",
            "\n",
            "2020-04-08 11:32:28 (211 KB/s) - ‘dados.csv’ saved [486225/486225]\n",
            "\n"
          ],
          "name": "stdout"
        }
      ]
    },
    {
      "cell_type": "code",
      "metadata": {
        "id": "dx-DKRjjTqPV",
        "colab_type": "code",
        "outputId": "09558f58-75eb-42ff-d5a8-9022523e9eef",
        "colab": {
          "base_uri": "https://localhost:8080/",
          "height": 34
        }
      },
      "source": [
        "#hide\n",
        "#datetime operations\n",
        "todei = date.today()\n",
        "today = todei.strftime(\"%d-%m-%Y\")\n",
        "today_us = todei.strftime(\"%Y-%m-%d\")\n",
        "today_us"
      ],
      "execution_count": 7,
      "outputs": [
        {
          "output_type": "execute_result",
          "data": {
            "text/plain": [
              "'2020-04-08'"
            ]
          },
          "metadata": {
            "tags": []
          },
          "execution_count": 7
        }
      ]
    },
    {
      "cell_type": "code",
      "metadata": {
        "id": "iXHBUftGTqPc",
        "colab_type": "code",
        "colab": {}
      },
      "source": [
        "#hide\n",
        "\n",
        "#url = 'https://www.ecdc.europa.eu/sites/default/files/documents/COVID-19-geographic-disbtribution-worldwide-{}.xlsx'.format(today_us)\n",
        "#url = 'https://www.ecdc.europa.eu/sites/default/files/documents/COVID-19-geographic-disbtribution-worldwide-{}.xlsx'.format(today_us)"
      ],
      "execution_count": 0,
      "outputs": []
    },
    {
      "cell_type": "code",
      "metadata": {
        "id": "Gj7ktV6BFC2G",
        "colab_type": "code",
        "colab": {}
      },
      "source": [
        "#hide\n",
        "\n",
        "#url = 'https://opendata.ecdc.europa.eu/covid19/casedistribution/csv'"
      ],
      "execution_count": 0,
      "outputs": []
    },
    {
      "cell_type": "code",
      "metadata": {
        "scrolled": true,
        "id": "doLyY9GdTqPk",
        "colab_type": "code",
        "colab": {}
      },
      "source": [
        "#hide\n",
        "data = pd.read_csv('dados.csv', encoding='latin-1',error_bad_lines=False,parse_dates=['dateRep'],dayfirst=True)\n"
      ],
      "execution_count": 0,
      "outputs": []
    },
    {
      "cell_type": "code",
      "metadata": {
        "colab_type": "code",
        "id": "QNC2xLFQXXE4",
        "outputId": "66c12b0f-1d99-4994-8565-9466701b2842",
        "colab": {
          "base_uri": "https://localhost:8080/",
          "height": 359
        }
      },
      "source": [
        "#hide\n",
        "data2 = data[data['countriesAndTerritories'].isin(['Brazil','Italy','United_States_of_America','France','South_Korea', 'Japan','United_Kingdom','China','Spain','Argentina','India','Mexico','Germany','Czechia'])]\n",
        "data2.head(10)"
      ],
      "execution_count": 11,
      "outputs": [
        {
          "output_type": "execute_result",
          "data": {
            "text/html": [
              "<div>\n",
              "<style scoped>\n",
              "    .dataframe tbody tr th:only-of-type {\n",
              "        vertical-align: middle;\n",
              "    }\n",
              "\n",
              "    .dataframe tbody tr th {\n",
              "        vertical-align: top;\n",
              "    }\n",
              "\n",
              "    .dataframe thead th {\n",
              "        text-align: right;\n",
              "    }\n",
              "</style>\n",
              "<table border=\"1\" class=\"dataframe\">\n",
              "  <thead>\n",
              "    <tr style=\"text-align: right;\">\n",
              "      <th></th>\n",
              "      <th>dateRep</th>\n",
              "      <th>day</th>\n",
              "      <th>month</th>\n",
              "      <th>year</th>\n",
              "      <th>cases</th>\n",
              "      <th>deaths</th>\n",
              "      <th>countriesAndTerritories</th>\n",
              "      <th>geoId</th>\n",
              "      <th>countryterritoryCode</th>\n",
              "      <th>popData2018</th>\n",
              "    </tr>\n",
              "  </thead>\n",
              "  <tbody>\n",
              "    <tr>\n",
              "      <th>293</th>\n",
              "      <td>2020-04-08</td>\n",
              "      <td>8</td>\n",
              "      <td>4</td>\n",
              "      <td>2020</td>\n",
              "      <td>87</td>\n",
              "      <td>7</td>\n",
              "      <td>Argentina</td>\n",
              "      <td>AR</td>\n",
              "      <td>ARG</td>\n",
              "      <td>44494502.0</td>\n",
              "    </tr>\n",
              "    <tr>\n",
              "      <th>294</th>\n",
              "      <td>2020-04-07</td>\n",
              "      <td>7</td>\n",
              "      <td>4</td>\n",
              "      <td>2020</td>\n",
              "      <td>74</td>\n",
              "      <td>7</td>\n",
              "      <td>Argentina</td>\n",
              "      <td>AR</td>\n",
              "      <td>ARG</td>\n",
              "      <td>44494502.0</td>\n",
              "    </tr>\n",
              "    <tr>\n",
              "      <th>295</th>\n",
              "      <td>2020-04-06</td>\n",
              "      <td>6</td>\n",
              "      <td>4</td>\n",
              "      <td>2020</td>\n",
              "      <td>103</td>\n",
              "      <td>3</td>\n",
              "      <td>Argentina</td>\n",
              "      <td>AR</td>\n",
              "      <td>ARG</td>\n",
              "      <td>44494502.0</td>\n",
              "    </tr>\n",
              "    <tr>\n",
              "      <th>296</th>\n",
              "      <td>2020-04-05</td>\n",
              "      <td>5</td>\n",
              "      <td>4</td>\n",
              "      <td>2020</td>\n",
              "      <td>186</td>\n",
              "      <td>6</td>\n",
              "      <td>Argentina</td>\n",
              "      <td>AR</td>\n",
              "      <td>ARG</td>\n",
              "      <td>44494502.0</td>\n",
              "    </tr>\n",
              "    <tr>\n",
              "      <th>297</th>\n",
              "      <td>2020-04-04</td>\n",
              "      <td>4</td>\n",
              "      <td>4</td>\n",
              "      <td>2020</td>\n",
              "      <td>132</td>\n",
              "      <td>3</td>\n",
              "      <td>Argentina</td>\n",
              "      <td>AR</td>\n",
              "      <td>ARG</td>\n",
              "      <td>44494502.0</td>\n",
              "    </tr>\n",
              "    <tr>\n",
              "      <th>298</th>\n",
              "      <td>2020-04-03</td>\n",
              "      <td>3</td>\n",
              "      <td>4</td>\n",
              "      <td>2020</td>\n",
              "      <td>0</td>\n",
              "      <td>3</td>\n",
              "      <td>Argentina</td>\n",
              "      <td>AR</td>\n",
              "      <td>ARG</td>\n",
              "      <td>44494502.0</td>\n",
              "    </tr>\n",
              "    <tr>\n",
              "      <th>299</th>\n",
              "      <td>2020-04-02</td>\n",
              "      <td>2</td>\n",
              "      <td>4</td>\n",
              "      <td>2020</td>\n",
              "      <td>167</td>\n",
              "      <td>7</td>\n",
              "      <td>Argentina</td>\n",
              "      <td>AR</td>\n",
              "      <td>ARG</td>\n",
              "      <td>44494502.0</td>\n",
              "    </tr>\n",
              "    <tr>\n",
              "      <th>300</th>\n",
              "      <td>2020-04-01</td>\n",
              "      <td>1</td>\n",
              "      <td>4</td>\n",
              "      <td>2020</td>\n",
              "      <td>0</td>\n",
              "      <td>0</td>\n",
              "      <td>Argentina</td>\n",
              "      <td>AR</td>\n",
              "      <td>ARG</td>\n",
              "      <td>44494502.0</td>\n",
              "    </tr>\n",
              "    <tr>\n",
              "      <th>301</th>\n",
              "      <td>2020-03-31</td>\n",
              "      <td>31</td>\n",
              "      <td>3</td>\n",
              "      <td>2020</td>\n",
              "      <td>146</td>\n",
              "      <td>4</td>\n",
              "      <td>Argentina</td>\n",
              "      <td>AR</td>\n",
              "      <td>ARG</td>\n",
              "      <td>44494502.0</td>\n",
              "    </tr>\n",
              "    <tr>\n",
              "      <th>302</th>\n",
              "      <td>2020-03-30</td>\n",
              "      <td>30</td>\n",
              "      <td>3</td>\n",
              "      <td>2020</td>\n",
              "      <td>75</td>\n",
              "      <td>1</td>\n",
              "      <td>Argentina</td>\n",
              "      <td>AR</td>\n",
              "      <td>ARG</td>\n",
              "      <td>44494502.0</td>\n",
              "    </tr>\n",
              "  </tbody>\n",
              "</table>\n",
              "</div>"
            ],
            "text/plain": [
              "       dateRep  day  month  ...  geoId  countryterritoryCode  popData2018\n",
              "293 2020-04-08    8      4  ...     AR                   ARG   44494502.0\n",
              "294 2020-04-07    7      4  ...     AR                   ARG   44494502.0\n",
              "295 2020-04-06    6      4  ...     AR                   ARG   44494502.0\n",
              "296 2020-04-05    5      4  ...     AR                   ARG   44494502.0\n",
              "297 2020-04-04    4      4  ...     AR                   ARG   44494502.0\n",
              "298 2020-04-03    3      4  ...     AR                   ARG   44494502.0\n",
              "299 2020-04-02    2      4  ...     AR                   ARG   44494502.0\n",
              "300 2020-04-01    1      4  ...     AR                   ARG   44494502.0\n",
              "301 2020-03-31   31      3  ...     AR                   ARG   44494502.0\n",
              "302 2020-03-30   30      3  ...     AR                   ARG   44494502.0\n",
              "\n",
              "[10 rows x 10 columns]"
            ]
          },
          "metadata": {
            "tags": []
          },
          "execution_count": 11
        }
      ]
    },
    {
      "cell_type": "code",
      "metadata": {
        "colab_type": "code",
        "id": "PdWFUM-_YsZb",
        "colab": {}
      },
      "source": [
        "#hide\n",
        "data3 = data2[['dateRep','cases','countriesAndTerritories']]\n",
        "data3.columns = ['dateRep','cases','countriesAndTerritories']"
      ],
      "execution_count": 0,
      "outputs": []
    },
    {
      "cell_type": "code",
      "metadata": {
        "id": "_ktuhUMhTqPz",
        "colab_type": "code",
        "colab": {}
      },
      "source": [
        "#hide \n",
        "#por 10 mil\n",
        "\n",
        "pop_br = 209300000/10000\n",
        "pop_it = 60590000/10000\n",
        "pop_eua = 325700000/10000\n",
        "pop_uk = 66040000/10000\n",
        "pop_sk = 51470000/10000\n",
        "pop_fr = 66770000/10000\n",
        "pop_jp = 126800000/10000\n",
        "pop_esp = 46530000/10000\n",
        "pop_ar = 44270000/10000\n",
        "pop_mex = 129200000/10000\n",
        "pop_ind = 1339000000/10000\n",
        "pop_ger = 82520000/10000\n",
        "pop_rc = 10641000/10000\n",
        "pop_ch = 1386000000/10000"
      ],
      "execution_count": 0,
      "outputs": []
    },
    {
      "cell_type": "code",
      "metadata": {
        "id": "9Ukrlooki-YK",
        "colab_type": "code",
        "colab": {}
      },
      "source": [
        "#hide\n",
        "china = data3[data3['countriesAndTerritories']=='China']\n",
        "china.sort_index(ascending=False,inplace=True)\n",
        "china['Cumulativo'] = china['cases'].cumsum()\n",
        "china['Relativo'] = china['Cumulativo']/pop_ch\n",
        "china = china[china['Cumulativo']>=50]\n",
        "china.reset_index(drop=True, inplace=True)\n",
        "china.drop(['cases','dateRep'],axis=1,inplace=True)"
      ],
      "execution_count": 0,
      "outputs": []
    },
    {
      "cell_type": "code",
      "metadata": {
        "id": "h-_RJoerTqP7",
        "colab_type": "code",
        "colab": {}
      },
      "source": [
        "#hide\n",
        "germany = data3[data3['countriesAndTerritories']=='Germany']\n",
        "germany.sort_index(ascending=False,inplace=True)\n",
        "germany['Cumulativo'] = germany['cases'].cumsum()\n",
        "germany['Relativo'] = germany['Cumulativo']/pop_ger\n",
        "germany = germany[germany['Cumulativo']>=50]\n",
        "germany.reset_index(drop=True, inplace=True)\n",
        "germany.drop(['cases','dateRep'],axis=1,inplace=True)\n"
      ],
      "execution_count": 0,
      "outputs": []
    },
    {
      "cell_type": "code",
      "metadata": {
        "colab_type": "code",
        "id": "jjRl_0vWGsEG",
        "colab": {}
      },
      "source": [
        "#hide\n",
        "italy = data3[data3['countriesAndTerritories']=='Italy']\n",
        "italy.sort_index(ascending=False,inplace=True)\n",
        "italy['Cumulativo'] = italy['cases'].cumsum()\n",
        "italy['Relativo'] = italy['Cumulativo']/pop_it\n",
        "italy = italy[italy['Cumulativo']>=50]\n",
        "italy.reset_index(drop=True, inplace=True)\n",
        "italy.drop(['cases','dateRep'],axis=1,inplace=True)\n",
        "\n"
      ],
      "execution_count": 0,
      "outputs": []
    },
    {
      "cell_type": "code",
      "metadata": {
        "colab_type": "code",
        "id": "AY22Z511MaOT",
        "colab": {}
      },
      "source": [
        "#hide\n",
        "brazil = data3[data3['countriesAndTerritories']=='Brazil']\n",
        "brazil.sort_index(ascending=False,inplace=True)\n",
        "brazil['Cumulativo'] = brazil['cases'].cumsum()\n",
        "brazil['Relativo'] = brazil['Cumulativo']/pop_br\n",
        "brazil = brazil[brazil['Cumulativo']>=50]\n",
        "brazil.reset_index(drop=True, inplace=True)\n",
        "brazil.drop(['cases','dateRep'],axis=1,inplace=True)\n",
        "\n",
        "\n",
        "\n"
      ],
      "execution_count": 0,
      "outputs": []
    },
    {
      "cell_type": "code",
      "metadata": {
        "colab_type": "code",
        "id": "PUdhI0JWdbN3",
        "colab": {}
      },
      "source": [
        "#hide\n",
        "argentina = data3[data3['countriesAndTerritories']=='Argentina']\n",
        "argentina.sort_index(ascending=False,inplace=True)\n",
        "argentina['Cumulativo'] = argentina['cases'].cumsum()\n",
        "argentina['Relativo'] = argentina['Cumulativo']/pop_ar\n",
        "argentina = argentina[argentina['Cumulativo']>=50]\n",
        "argentina.reset_index(drop=True, inplace=True)\n",
        "argentina.drop(['cases','dateRep'],axis=1,inplace=True)\n"
      ],
      "execution_count": 0,
      "outputs": []
    },
    {
      "cell_type": "code",
      "metadata": {
        "colab_type": "code",
        "id": "Qi4mDAAvH5TB",
        "colab": {}
      },
      "source": [
        "#hide\n",
        "japan = data3[data3['countriesAndTerritories']=='Japan']\n",
        "japan.sort_index(ascending=False,inplace=True)\n",
        "japan['Cumulativo'] = japan['cases'].cumsum()\n",
        "japan['Relativo'] = japan['Cumulativo']/pop_jp\n",
        "japan = japan[japan['Cumulativo']>=50]\n",
        "japan.reset_index(drop=True, inplace=True)\n",
        "japan.drop(['cases','dateRep'],axis=1,inplace=True)\n"
      ],
      "execution_count": 0,
      "outputs": []
    },
    {
      "cell_type": "code",
      "metadata": {
        "colab_type": "code",
        "id": "LDkrnXhbNETA",
        "colab": {}
      },
      "source": [
        "#hide\n",
        "france = data3[data3['countriesAndTerritories']=='France']\n",
        "france.sort_index(ascending=False,inplace=True)\n",
        "france['Cumulativo'] = france['cases'].cumsum()\n",
        "france['Relativo'] = france['Cumulativo']/pop_fr\n",
        "france = france[france['Cumulativo']>=50]\n",
        "france.reset_index(drop=True, inplace=True)\n",
        "france.drop(['cases','dateRep'],axis=1,inplace=True)\n"
      ],
      "execution_count": 0,
      "outputs": []
    },
    {
      "cell_type": "code",
      "metadata": {
        "colab_type": "code",
        "id": "3FajbHTRNTSj",
        "colab": {}
      },
      "source": [
        "#hide\n",
        "south_korea = data3[data3['countriesAndTerritories']=='South_Korea']\n",
        "south_korea.sort_index(ascending=False,inplace=True)\n",
        "south_korea['Cumulativo'] = south_korea['cases'].cumsum()\n",
        "south_korea['Relativo'] = south_korea['Cumulativo']/pop_sk\n",
        "south_korea = south_korea[south_korea['Cumulativo']>=50]\n",
        "south_korea.reset_index(drop=True, inplace=True)\n",
        "south_korea.drop(['cases','dateRep'],axis=1,inplace=True)\n"
      ],
      "execution_count": 0,
      "outputs": []
    },
    {
      "cell_type": "code",
      "metadata": {
        "colab_type": "code",
        "id": "JH7QajuHNsR9",
        "colab": {}
      },
      "source": [
        "#hide\n",
        "us = data3[data3['countriesAndTerritories']=='United_States_of_America']\n",
        "us.sort_index(ascending=False,inplace=True)\n",
        "us['Cumulativo'] = us['cases'].cumsum()\n",
        "us['Relativo'] = us['Cumulativo']/pop_eua\n",
        "us = us[us['Cumulativo']>=50]\n",
        "us.reset_index(drop=True, inplace=True)\n",
        "us.drop(['cases','dateRep'],axis=1,inplace=True)\n"
      ],
      "execution_count": 0,
      "outputs": []
    },
    {
      "cell_type": "code",
      "metadata": {
        "colab_type": "code",
        "id": "UNN3G5BFNtbh",
        "colab": {}
      },
      "source": [
        "#hide\n",
        "uk = data3[data3['countriesAndTerritories']=='United_Kingdom']\n",
        "uk.sort_index(ascending=False,inplace=True)\n",
        "uk['Cumulativo'] = uk['cases'].cumsum()\n",
        "uk['Relativo'] = uk['Cumulativo']/pop_uk\n",
        "uk = uk[uk['Cumulativo']>=50]\n",
        "uk.reset_index(drop=True, inplace=True)\n",
        "uk.drop(['cases','dateRep'],axis=1,inplace=True)\n"
      ],
      "execution_count": 0,
      "outputs": []
    },
    {
      "cell_type": "code",
      "metadata": {
        "colab_type": "code",
        "id": "_Mk5FHKTHkr5",
        "colab": {}
      },
      "source": [
        "#hide\n",
        "spain = data3[data3['countriesAndTerritories']=='Spain']\n",
        "spain.sort_index(ascending=False,inplace=True)\n",
        "spain['Cumulativo'] = spain['cases'].cumsum()\n",
        "spain['Relativo'] = spain['Cumulativo']/pop_esp\n",
        "spain = spain[spain['Cumulativo']>=50]\n",
        "spain.reset_index(drop=True, inplace=True)\n",
        "spain.drop(['cases','dateRep'],axis=1,inplace=True)\n"
      ],
      "execution_count": 0,
      "outputs": []
    },
    {
      "cell_type": "code",
      "metadata": {
        "id": "K0FWQKj0TqQi",
        "colab_type": "code",
        "colab": {}
      },
      "source": [
        "#hide\n",
        "mexico = data3[data3['countriesAndTerritories']=='Mexico']\n",
        "mexico.sort_index(ascending=False,inplace=True)\n",
        "mexico['Cumulativo'] = mexico['cases'].cumsum()\n",
        "mexico['Relativo'] = mexico['Cumulativo']/pop_esp\n",
        "mexico = mexico[mexico['Cumulativo']>=50]\n",
        "mexico.reset_index(drop=True, inplace=True)\n",
        "mexico.drop(['cases','dateRep'],axis=1,inplace=True)\n"
      ],
      "execution_count": 0,
      "outputs": []
    },
    {
      "cell_type": "code",
      "metadata": {
        "id": "UtA-oCu5TqQn",
        "colab_type": "code",
        "colab": {}
      },
      "source": [
        "#hide\n",
        "india = data3[data3['countriesAndTerritories']=='India']\n",
        "india.sort_index(ascending=False,inplace=True)\n",
        "india['Cumulativo'] = india['cases'].cumsum()\n",
        "india['Relativo'] = india['Cumulativo']/pop_ind\n",
        "india = india[india['Cumulativo']>=50]\n",
        "india.reset_index(drop=True, inplace=True)\n",
        "india.drop(['cases','dateRep'],axis=1,inplace=True)\n"
      ],
      "execution_count": 0,
      "outputs": []
    },
    {
      "cell_type": "code",
      "metadata": {
        "id": "vV9GJcZ3TqQq",
        "colab_type": "code",
        "colab": {}
      },
      "source": [
        "#hide\n",
        "czech_Republic = data3[data3['countriesAndTerritories']=='Czechia']\n",
        "czech_Republic.sort_index(ascending=False,inplace=True)\n",
        "czech_Republic['Cumulativo'] = czech_Republic['cases'].cumsum()\n",
        "czech_Republic['Relativo'] = czech_Republic['Cumulativo']/pop_rc\n",
        "czech_Republic = czech_Republic[czech_Republic['Cumulativo']>=50]\n",
        "czech_Republic.reset_index(drop=True, inplace=True)\n",
        "czech_Republic.drop(['cases','dateRep'],axis=1,inplace=True)\n"
      ],
      "execution_count": 0,
      "outputs": []
    },
    {
      "cell_type": "code",
      "metadata": {
        "colab_type": "code",
        "id": "L3HY0S0YPoyR",
        "colab": {}
      },
      "source": [
        "#hide\n",
        "#tabela final\n",
        "final_data=pd.concat([brazil,italy,japan,uk,us,france,south_korea,spain,argentina,india,mexico,germany,czech_Republic,china],axis=0)\n",
        "final_data['Dias']=final_data.index\n",
        "final_data.columns = ['Países e territórios','Casos acumulados','Relativa','Dias desde o caso número 50']\n"
      ],
      "execution_count": 0,
      "outputs": []
    },
    {
      "cell_type": "code",
      "metadata": {
        "id": "Z1NB_GlETqQ5",
        "colab_type": "code",
        "colab": {}
      },
      "source": [
        "#hide\n",
        "#add pct\n",
        "brazil_dupl = brazil\n",
        "brazil_dupl['razao']= brazil_dupl['Cumulativo'].pct_change()\n",
        "brazil_dupl['razao']=(brazil_dupl['razao']*100).round(2)\n",
        "brazil_dupl['dias']= brazil_dupl.index\n"
      ],
      "execution_count": 0,
      "outputs": []
    },
    {
      "cell_type": "code",
      "metadata": {
        "colab_type": "code",
        "id": "gFey0PPjXgbx",
        "colab": {}
      },
      "source": [
        "#hide\n",
        "zoom = final_data[final_data['Casos acumulados']<=2500]"
      ],
      "execution_count": 0,
      "outputs": []
    },
    {
      "cell_type": "markdown",
      "metadata": {
        "id": "CttI71tOTqRA",
        "colab_type": "text"
      },
      "source": [
        "<center> <h2> Gráficos de contaminação </h2> </center>\n",
        "\n",
        "\n"
      ]
    },
    {
      "cell_type": "code",
      "metadata": {
        "colab_type": "code",
        "id": "PJlpKA-ZXRH1",
        "colab": {}
      },
      "source": [
        "#hide\n",
        "meio_zoom = final_data[final_data['Casos acumulados']<=5000]"
      ],
      "execution_count": 0,
      "outputs": []
    },
    {
      "cell_type": "markdown",
      "metadata": {
        "id": "BapU1v4hqOkg",
        "colab_type": "text"
      },
      "source": [
        "Os gráficos a seguir apresentam curvas de contaminação de diversos países. Foram criados com o intuito de comparar estratégias de combate à disseminação do vírus. É importante notar que as curvas de contaminação estão amplamente relacionadas à quantidade de testes que os países tem realizado.\n",
        "A seção contem duas aproximações e duas versões do gáfico completo: nas escalas aritmética e logarítmica. "
      ]
    },
    {
      "cell_type": "code",
      "metadata": {
        "colab_type": "code",
        "id": "EvCbs19KaAt4",
        "outputId": "22c1fa5d-1663-40e4-9ca5-7b1918031b2c",
        "colab": {
          "base_uri": "https://localhost:8080/",
          "height": 542
        }
      },
      "source": [
        "#hide\n",
        "import plotly.express as px\n",
        "\n",
        "fig = px.line(zoom, x=\"Dias desde o caso número 50\", y=\"Casos acumulados\", title='COVID-19 - Casos confirmados - {} \\n Zoom até 2500 casos'.format(today),hover_data=['Países e territórios','Casos acumulados'],\n",
        "              color='Países e territórios',color_discrete_sequence=[\"black\", \"blue\",'green',\"darkmagenta\",\"gray\",\"brown\",\"orange\",\"magenta\",'red',\"darkblue\",\"lightgreen\",'coral','lightblue'])\n",
        "annotations= []\n",
        "annotations.append(dict(xref='paper', yref='paper', x=0.0, y=1.05, xanchor='left', yanchor='bottom'))\n",
        "\n",
        "fig.update_layout(legend= {'title':'País','borderwidth':0,'orientation':'v','yanchor':'top','font':{'size':8}})\n",
        "fig.show()\n",
        "#fig.write_html(\"plots/11_letalidade.html\")"
      ],
      "execution_count": 32,
      "outputs": [
        {
          "output_type": "display_data",
          "data": {
            "text/html": [
              "<html>\n",
              "<head><meta charset=\"utf-8\" /></head>\n",
              "<body>\n",
              "    <div>\n",
              "            <script src=\"https://cdnjs.cloudflare.com/ajax/libs/mathjax/2.7.5/MathJax.js?config=TeX-AMS-MML_SVG\"></script><script type=\"text/javascript\">if (window.MathJax) {MathJax.Hub.Config({SVG: {font: \"STIX-Web\"}});}</script>\n",
              "                <script type=\"text/javascript\">window.PlotlyConfig = {MathJaxConfig: 'local'};</script>\n",
              "        <script src=\"https://cdn.plot.ly/plotly-latest.min.js\"></script>    \n",
              "            <div id=\"5b0f2c3d-f911-4928-b331-92834ab6c7dc\" class=\"plotly-graph-div\" style=\"height:525px; width:100%;\"></div>\n",
              "            <script type=\"text/javascript\">\n",
              "                \n",
              "                    window.PLOTLYENV=window.PLOTLYENV || {};\n",
              "                    \n",
              "                if (document.getElementById(\"5b0f2c3d-f911-4928-b331-92834ab6c7dc\")) {\n",
              "                    Plotly.newPlot(\n",
              "                        '5b0f2c3d-f911-4928-b331-92834ab6c7dc',\n",
              "                        [{\"customdata\": [[\"Brazil\", 52], [\"Brazil\", 77], [\"Brazil\", 98], [\"Brazil\", 121], [\"Brazil\", 200], [\"Brazil\", 234], [\"Brazil\", 291], [\"Brazil\", 428], [\"Brazil\", 621], [\"Brazil\", 904], [\"Brazil\", 1128], [\"Brazil\", 1546], [\"Brazil\", 1891], [\"Brazil\", 2201], [\"Brazil\", 2433]], \"hovertemplate\": \"Pa\\u00edses e territ\\u00f3rios=%{customdata[0]}<br>Dias desde o caso n\\u00famero 50=%{x}<br>Casos acumulados=%{customdata[1]}<extra></extra>\", \"legendgroup\": \"Brazil\", \"line\": {\"color\": \"black\", \"dash\": \"solid\"}, \"mode\": \"lines\", \"name\": \"Brazil\", \"showlegend\": true, \"type\": \"scatter\", \"x\": [0, 1, 2, 3, 4, 5, 6, 7, 8, 9, 10, 11, 12, 13, 14], \"xaxis\": \"x\", \"y\": [52, 77, 98, 121, 200, 234, 291, 428, 621, 904, 1128, 1546, 1891, 2201, 2433], \"yaxis\": \"y\"}, {\"customdata\": [[\"Italy\", 79], [\"Italy\", 132], [\"Italy\", 229], [\"Italy\", 322], [\"Italy\", 400], [\"Italy\", 650], [\"Italy\", 888], [\"Italy\", 1128], [\"Italy\", 1689], [\"Italy\", 2036]], \"hovertemplate\": \"Pa\\u00edses e territ\\u00f3rios=%{customdata[0]}<br>Dias desde o caso n\\u00famero 50=%{x}<br>Casos acumulados=%{customdata[1]}<extra></extra>\", \"legendgroup\": \"Italy\", \"line\": {\"color\": \"blue\", \"dash\": \"solid\"}, \"mode\": \"lines\", \"name\": \"Italy\", \"showlegend\": true, \"type\": \"scatter\", \"x\": [0, 1, 2, 3, 4, 5, 6, 7, 8, 9], \"xaxis\": \"x\", \"y\": [79, 132, 229, 322, 400, 650, 888, 1128, 1689, 2036], \"yaxis\": \"y\"}, {\"customdata\": [[\"Japan\", 52], [\"Japan\", 59], [\"Japan\", 59], [\"Japan\", 66], [\"Japan\", 84], [\"Japan\", 93], [\"Japan\", 105], [\"Japan\", 132], [\"Japan\", 144], [\"Japan\", 144], [\"Japan\", 164], [\"Japan\", 186], [\"Japan\", 210], [\"Japan\", 230], [\"Japan\", 239], [\"Japan\", 254], [\"Japan\", 254], [\"Japan\", 268], [\"Japan\", 317], [\"Japan\", 349], [\"Japan\", 408], [\"Japan\", 455], [\"Japan\", 488], [\"Japan\", 514], [\"Japan\", 568], [\"Japan\", 619], [\"Japan\", 675], [\"Japan\", 737], [\"Japan\", 780], [\"Japan\", 814], [\"Japan\", 824], [\"Japan\", 829], [\"Japan\", 873], [\"Japan\", 950], [\"Japan\", 1007], [\"Japan\", 1046], [\"Japan\", 1089], [\"Japan\", 1128], [\"Japan\", 1193], [\"Japan\", 1268], [\"Japan\", 1364], [\"Japan\", 1499], [\"Japan\", 1693], [\"Japan\", 1866], [\"Japan\", 1953], [\"Japan\", 1953], [\"Japan\", 2178]], \"hovertemplate\": \"Pa\\u00edses e territ\\u00f3rios=%{customdata[0]}<br>Dias desde o caso n\\u00famero 50=%{x}<br>Casos acumulados=%{customdata[1]}<extra></extra>\", \"legendgroup\": \"Japan\", \"line\": {\"color\": \"green\", \"dash\": \"solid\"}, \"mode\": \"lines\", \"name\": \"Japan\", \"showlegend\": true, \"type\": \"scatter\", \"x\": [0, 1, 2, 3, 4, 5, 6, 7, 8, 9, 10, 11, 12, 13, 14, 15, 16, 17, 18, 19, 20, 21, 22, 23, 24, 25, 26, 27, 28, 29, 30, 31, 32, 33, 34, 35, 36, 37, 38, 39, 40, 41, 42, 43, 44, 45, 46], \"xaxis\": \"x\", \"y\": [52, 59, 59, 66, 84, 93, 105, 132, 144, 144, 164, 186, 210, 230, 239, 254, 254, 268, 317, 349, 408, 455, 488, 514, 568, 619, 675, 737, 780, 814, 824, 829, 873, 950, 1007, 1046, 1089, 1128, 1193, 1268, 1364, 1499, 1693, 1866, 1953, 1953, 2178], \"yaxis\": \"y\"}, {\"customdata\": [[\"United_Kingdom\", 51], [\"United_Kingdom\", 85], [\"United_Kingdom\", 115], [\"United_Kingdom\", 163], [\"United_Kingdom\", 206], [\"United_Kingdom\", 273], [\"United_Kingdom\", 321], [\"United_Kingdom\", 373], [\"United_Kingdom\", 456], [\"United_Kingdom\", 590], [\"United_Kingdom\", 707], [\"United_Kingdom\", 1140], [\"United_Kingdom\", 1391], [\"United_Kingdom\", 1543], [\"United_Kingdom\", 1950]], \"hovertemplate\": \"Pa\\u00edses e territ\\u00f3rios=%{customdata[0]}<br>Dias desde o caso n\\u00famero 50=%{x}<br>Casos acumulados=%{customdata[1]}<extra></extra>\", \"legendgroup\": \"United_Kingdom\", \"line\": {\"color\": \"darkmagenta\", \"dash\": \"solid\"}, \"mode\": \"lines\", \"name\": \"United_Kingdom\", \"showlegend\": true, \"type\": \"scatter\", \"x\": [0, 1, 2, 3, 4, 5, 6, 7, 8, 9, 10, 11, 12, 13, 14], \"xaxis\": \"x\", \"y\": [51, 85, 115, 163, 206, 273, 321, 373, 456, 590, 707, 1140, 1391, 1543, 1950], \"yaxis\": \"y\"}, {\"customdata\": [[\"United_States_of_America\", 53], [\"United_States_of_America\", 53], [\"United_States_of_America\", 59], [\"United_States_of_America\", 60], [\"United_States_of_America\", 66], [\"United_States_of_America\", 69], [\"United_States_of_America\", 89], [\"United_States_of_America\", 103], [\"United_States_of_America\", 125], [\"United_States_of_America\", 159], [\"United_States_of_America\", 233], [\"United_States_of_America\", 338], [\"United_States_of_America\", 433], [\"United_States_of_America\", 554], [\"United_States_of_America\", 754], [\"United_States_of_America\", 1025], [\"United_States_of_America\", 1312], [\"United_States_of_America\", 1663], [\"United_States_of_America\", 2174]], \"hovertemplate\": \"Pa\\u00edses e territ\\u00f3rios=%{customdata[0]}<br>Dias desde o caso n\\u00famero 50=%{x}<br>Casos acumulados=%{customdata[1]}<extra></extra>\", \"legendgroup\": \"United_States_of_America\", \"line\": {\"color\": \"gray\", \"dash\": \"solid\"}, \"mode\": \"lines\", \"name\": \"United_States_of_America\", \"showlegend\": true, \"type\": \"scatter\", \"x\": [0, 1, 2, 3, 4, 5, 6, 7, 8, 9, 10, 11, 12, 13, 14, 15, 16, 17, 18], \"xaxis\": \"x\", \"y\": [53, 53, 59, 60, 66, 69, 89, 103, 125, 159, 233, 338, 433, 554, 754, 1025, 1312, 1663, 2174], \"yaxis\": \"y\"}, {\"customdata\": [[\"France\", 57], [\"France\", 100], [\"France\", 130], [\"France\", 178], [\"France\", 212], [\"France\", 285], [\"France\", 423], [\"France\", 613], [\"France\", 716], [\"France\", 1126], [\"France\", 1412], [\"France\", 1784], [\"France\", 2281]], \"hovertemplate\": \"Pa\\u00edses e territ\\u00f3rios=%{customdata[0]}<br>Dias desde o caso n\\u00famero 50=%{x}<br>Casos acumulados=%{customdata[1]}<extra></extra>\", \"legendgroup\": \"France\", \"line\": {\"color\": \"brown\", \"dash\": \"solid\"}, \"mode\": \"lines\", \"name\": \"France\", \"showlegend\": true, \"type\": \"scatter\", \"x\": [0, 1, 2, 3, 4, 5, 6, 7, 8, 9, 10, 11, 12], \"xaxis\": \"x\", \"y\": [57, 100, 130, 178, 212, 285, 423, 613, 716, 1126, 1412, 1784, 2281], \"yaxis\": \"y\"}, {\"customdata\": [[\"South_Korea\", 80], [\"South_Korea\", 155], [\"South_Korea\", 345], [\"South_Korea\", 601], [\"South_Korea\", 762], [\"South_Korea\", 892], [\"South_Korea\", 1146], [\"South_Korea\", 1595], [\"South_Korea\", 2022]], \"hovertemplate\": \"Pa\\u00edses e territ\\u00f3rios=%{customdata[0]}<br>Dias desde o caso n\\u00famero 50=%{x}<br>Casos acumulados=%{customdata[1]}<extra></extra>\", \"legendgroup\": \"South_Korea\", \"line\": {\"color\": \"orange\", \"dash\": \"solid\"}, \"mode\": \"lines\", \"name\": \"South_Korea\", \"showlegend\": true, \"type\": \"scatter\", \"x\": [0, 1, 2, 3, 4, 5, 6, 7, 8], \"xaxis\": \"x\", \"y\": [80, 155, 345, 601, 762, 892, 1146, 1595, 2022], \"yaxis\": \"y\"}, {\"customdata\": [[\"Spain\", 66], [\"Spain\", 83], [\"Spain\", 114], [\"Spain\", 151], [\"Spain\", 200], [\"Spain\", 261], [\"Spain\", 374], [\"Spain\", 430], [\"Spain\", 589], [\"Spain\", 1204], [\"Spain\", 1639], [\"Spain\", 2140]], \"hovertemplate\": \"Pa\\u00edses e territ\\u00f3rios=%{customdata[0]}<br>Dias desde o caso n\\u00famero 50=%{x}<br>Casos acumulados=%{customdata[1]}<extra></extra>\", \"legendgroup\": \"Spain\", \"line\": {\"color\": \"magenta\", \"dash\": \"solid\"}, \"mode\": \"lines\", \"name\": \"Spain\", \"showlegend\": true, \"type\": \"scatter\", \"x\": [0, 1, 2, 3, 4, 5, 6, 7, 8, 9, 10, 11], \"xaxis\": \"x\", \"y\": [66, 83, 114, 151, 200, 261, 374, 430, 589, 1204, 1639, 2140], \"yaxis\": \"y\"}, {\"customdata\": [[\"Argentina\", 56], [\"Argentina\", 65], [\"Argentina\", 79], [\"Argentina\", 97], [\"Argentina\", 128], [\"Argentina\", 158], [\"Argentina\", 225], [\"Argentina\", 266], [\"Argentina\", 301], [\"Argentina\", 387], [\"Argentina\", 502], [\"Argentina\", 589], [\"Argentina\", 690], [\"Argentina\", 745], [\"Argentina\", 820], [\"Argentina\", 966], [\"Argentina\", 966], [\"Argentina\", 1133], [\"Argentina\", 1133], [\"Argentina\", 1265], [\"Argentina\", 1451], [\"Argentina\", 1554], [\"Argentina\", 1628], [\"Argentina\", 1715]], \"hovertemplate\": \"Pa\\u00edses e territ\\u00f3rios=%{customdata[0]}<br>Dias desde o caso n\\u00famero 50=%{x}<br>Casos acumulados=%{customdata[1]}<extra></extra>\", \"legendgroup\": \"Argentina\", \"line\": {\"color\": \"red\", \"dash\": \"solid\"}, \"mode\": \"lines\", \"name\": \"Argentina\", \"showlegend\": true, \"type\": \"scatter\", \"x\": [0, 1, 2, 3, 4, 5, 6, 7, 8, 9, 10, 11, 12, 13, 14, 15, 16, 17, 18, 19, 20, 21, 22, 23], \"xaxis\": \"x\", \"y\": [56, 65, 79, 97, 128, 158, 225, 266, 301, 387, 502, 589, 690, 745, 820, 966, 966, 1133, 1133, 1265, 1451, 1554, 1628, 1715], \"yaxis\": \"y\"}, {\"customdata\": [[\"India\", 50], [\"India\", 73], [\"India\", 75], [\"India\", 83], [\"India\", 90], [\"India\", 93], [\"India\", 125], [\"India\", 137], [\"India\", 165], [\"India\", 191], [\"India\", 231], [\"India\", 320], [\"India\", 439], [\"India\", 492], [\"India\", 562], [\"India\", 649], [\"India\", 724], [\"India\", 873], [\"India\", 979], [\"India\", 1071], [\"India\", 1251], [\"India\", 1397], [\"India\", 1965], [\"India\", 2301]], \"hovertemplate\": \"Pa\\u00edses e territ\\u00f3rios=%{customdata[0]}<br>Dias desde o caso n\\u00famero 50=%{x}<br>Casos acumulados=%{customdata[1]}<extra></extra>\", \"legendgroup\": \"India\", \"line\": {\"color\": \"darkblue\", \"dash\": \"solid\"}, \"mode\": \"lines\", \"name\": \"India\", \"showlegend\": true, \"type\": \"scatter\", \"x\": [0, 1, 2, 3, 4, 5, 6, 7, 8, 9, 10, 11, 12, 13, 14, 15, 16, 17, 18, 19, 20, 21, 22, 23], \"xaxis\": \"x\", \"y\": [50, 73, 75, 83, 90, 93, 125, 137, 165, 191, 231, 320, 439, 492, 562, 649, 724, 873, 979, 1071, 1251, 1397, 1965, 2301], \"yaxis\": \"y\"}, {\"customdata\": [[\"Mexico\", 53], [\"Mexico\", 82], [\"Mexico\", 93], [\"Mexico\", 118], [\"Mexico\", 164], [\"Mexico\", 203], [\"Mexico\", 251], [\"Mexico\", 316], [\"Mexico\", 367], [\"Mexico\", 405], [\"Mexico\", 475], [\"Mexico\", 585], [\"Mexico\", 717], [\"Mexico\", 848], [\"Mexico\", 993], [\"Mexico\", 1094], [\"Mexico\", 1215], [\"Mexico\", 1378], [\"Mexico\", 1510], [\"Mexico\", 1688], [\"Mexico\", 1890], [\"Mexico\", 2143], [\"Mexico\", 2439]], \"hovertemplate\": \"Pa\\u00edses e territ\\u00f3rios=%{customdata[0]}<br>Dias desde o caso n\\u00famero 50=%{x}<br>Casos acumulados=%{customdata[1]}<extra></extra>\", \"legendgroup\": \"Mexico\", \"line\": {\"color\": \"lightgreen\", \"dash\": \"solid\"}, \"mode\": \"lines\", \"name\": \"Mexico\", \"showlegend\": true, \"type\": \"scatter\", \"x\": [0, 1, 2, 3, 4, 5, 6, 7, 8, 9, 10, 11, 12, 13, 14, 15, 16, 17, 18, 19, 20, 21, 22], \"xaxis\": \"x\", \"y\": [53, 82, 93, 118, 164, 203, 251, 316, 367, 405, 475, 585, 717, 848, 993, 1094, 1215, 1378, 1510, 1688, 1890, 2143, 2439], \"yaxis\": \"y\"}, {\"customdata\": [[\"Germany\", 57], [\"Germany\", 111], [\"Germany\", 129], [\"Germany\", 157], [\"Germany\", 196], [\"Germany\", 262], [\"Germany\", 400], [\"Germany\", 684], [\"Germany\", 847], [\"Germany\", 902], [\"Germany\", 1139], [\"Germany\", 1296], [\"Germany\", 1567], [\"Germany\", 2369]], \"hovertemplate\": \"Pa\\u00edses e territ\\u00f3rios=%{customdata[0]}<br>Dias desde o caso n\\u00famero 50=%{x}<br>Casos acumulados=%{customdata[1]}<extra></extra>\", \"legendgroup\": \"Germany\", \"line\": {\"color\": \"coral\", \"dash\": \"solid\"}, \"mode\": \"lines\", \"name\": \"Germany\", \"showlegend\": true, \"type\": \"scatter\", \"x\": [0, 1, 2, 3, 4, 5, 6, 7, 8, 9, 10, 11, 12, 13], \"xaxis\": \"x\", \"y\": [57, 111, 129, 157, 196, 262, 400, 684, 847, 902, 1139, 1296, 1567, 2369], \"yaxis\": \"y\"}, {\"customdata\": [[\"Czechia\", 63], [\"Czechia\", 94], [\"Czechia\", 116], [\"Czechia\", 150], [\"Czechia\", 214], [\"Czechia\", 298], [\"Czechia\", 344], [\"Czechia\", 434], [\"Czechia\", 522], [\"Czechia\", 694], [\"Czechia\", 904], [\"Czechia\", 995], [\"Czechia\", 1165], [\"Czechia\", 1236], [\"Czechia\", 1394], [\"Czechia\", 1654], [\"Czechia\", 2062], [\"Czechia\", 2279]], \"hovertemplate\": \"Pa\\u00edses e territ\\u00f3rios=%{customdata[0]}<br>Dias desde o caso n\\u00famero 50=%{x}<br>Casos acumulados=%{customdata[1]}<extra></extra>\", \"legendgroup\": \"Czechia\", \"line\": {\"color\": \"lightblue\", \"dash\": \"solid\"}, \"mode\": \"lines\", \"name\": \"Czechia\", \"showlegend\": true, \"type\": \"scatter\", \"x\": [0, 1, 2, 3, 4, 5, 6, 7, 8, 9, 10, 11, 12, 13, 14, 15, 16, 17], \"xaxis\": \"x\", \"y\": [63, 94, 116, 150, 214, 298, 344, 434, 522, 694, 904, 995, 1165, 1236, 1394, 1654, 2062, 2279], \"yaxis\": \"y\"}, {\"customdata\": [[\"China\", 59], [\"China\", 59], [\"China\", 59], [\"China\", 59], [\"China\", 59], [\"China\", 59], [\"China\", 59], [\"China\", 59], [\"China\", 59], [\"China\", 59], [\"China\", 59], [\"China\", 59], [\"China\", 63], [\"China\", 80], [\"China\", 216], [\"China\", 235], [\"China\", 386], [\"China\", 526], [\"China\", 623], [\"China\", 882], [\"China\", 1323], [\"China\", 1988]], \"hovertemplate\": \"Pa\\u00edses e territ\\u00f3rios=%{customdata[0]}<br>Dias desde o caso n\\u00famero 50=%{x}<br>Casos acumulados=%{customdata[1]}<extra></extra>\", \"legendgroup\": \"China\", \"line\": {\"color\": \"black\", \"dash\": \"solid\"}, \"mode\": \"lines\", \"name\": \"China\", \"showlegend\": true, \"type\": \"scatter\", \"x\": [0, 1, 2, 3, 4, 5, 6, 7, 8, 9, 10, 11, 12, 13, 14, 15, 16, 17, 18, 19, 20, 21], \"xaxis\": \"x\", \"y\": [59, 59, 59, 59, 59, 59, 59, 59, 59, 59, 59, 59, 63, 80, 216, 235, 386, 526, 623, 882, 1323, 1988], \"yaxis\": \"y\"}],\n",
              "                        {\"legend\": {\"borderwidth\": 0, \"font\": {\"size\": 8}, \"orientation\": \"v\", \"title\": {\"text\": \"Pa\\u00eds\"}, \"tracegroupgap\": 0, \"yanchor\": \"top\"}, \"template\": {\"data\": {\"bar\": [{\"error_x\": {\"color\": \"#2a3f5f\"}, \"error_y\": {\"color\": \"#2a3f5f\"}, \"marker\": {\"line\": {\"color\": \"#E5ECF6\", \"width\": 0.5}}, \"type\": \"bar\"}], \"barpolar\": [{\"marker\": {\"line\": {\"color\": \"#E5ECF6\", \"width\": 0.5}}, \"type\": \"barpolar\"}], \"carpet\": [{\"aaxis\": {\"endlinecolor\": \"#2a3f5f\", \"gridcolor\": \"white\", \"linecolor\": \"white\", \"minorgridcolor\": \"white\", \"startlinecolor\": \"#2a3f5f\"}, \"baxis\": {\"endlinecolor\": \"#2a3f5f\", \"gridcolor\": \"white\", \"linecolor\": \"white\", \"minorgridcolor\": \"white\", \"startlinecolor\": \"#2a3f5f\"}, \"type\": \"carpet\"}], \"choropleth\": [{\"colorbar\": {\"outlinewidth\": 0, \"ticks\": \"\"}, \"type\": \"choropleth\"}], \"contour\": [{\"colorbar\": {\"outlinewidth\": 0, \"ticks\": \"\"}, \"colorscale\": [[0.0, \"#0d0887\"], [0.1111111111111111, \"#46039f\"], [0.2222222222222222, \"#7201a8\"], [0.3333333333333333, \"#9c179e\"], [0.4444444444444444, \"#bd3786\"], [0.5555555555555556, \"#d8576b\"], [0.6666666666666666, \"#ed7953\"], [0.7777777777777778, \"#fb9f3a\"], [0.8888888888888888, \"#fdca26\"], [1.0, \"#f0f921\"]], \"type\": \"contour\"}], \"contourcarpet\": [{\"colorbar\": {\"outlinewidth\": 0, \"ticks\": \"\"}, \"type\": \"contourcarpet\"}], \"heatmap\": [{\"colorbar\": {\"outlinewidth\": 0, \"ticks\": \"\"}, \"colorscale\": [[0.0, \"#0d0887\"], [0.1111111111111111, \"#46039f\"], [0.2222222222222222, \"#7201a8\"], [0.3333333333333333, \"#9c179e\"], [0.4444444444444444, \"#bd3786\"], [0.5555555555555556, \"#d8576b\"], [0.6666666666666666, \"#ed7953\"], [0.7777777777777778, \"#fb9f3a\"], [0.8888888888888888, \"#fdca26\"], [1.0, \"#f0f921\"]], \"type\": \"heatmap\"}], \"heatmapgl\": [{\"colorbar\": {\"outlinewidth\": 0, \"ticks\": \"\"}, \"colorscale\": [[0.0, \"#0d0887\"], [0.1111111111111111, \"#46039f\"], [0.2222222222222222, \"#7201a8\"], [0.3333333333333333, \"#9c179e\"], [0.4444444444444444, \"#bd3786\"], [0.5555555555555556, \"#d8576b\"], [0.6666666666666666, \"#ed7953\"], [0.7777777777777778, \"#fb9f3a\"], [0.8888888888888888, \"#fdca26\"], [1.0, \"#f0f921\"]], \"type\": \"heatmapgl\"}], \"histogram\": [{\"marker\": {\"colorbar\": {\"outlinewidth\": 0, \"ticks\": \"\"}}, \"type\": \"histogram\"}], \"histogram2d\": [{\"colorbar\": {\"outlinewidth\": 0, \"ticks\": \"\"}, \"colorscale\": [[0.0, \"#0d0887\"], [0.1111111111111111, \"#46039f\"], [0.2222222222222222, \"#7201a8\"], [0.3333333333333333, \"#9c179e\"], [0.4444444444444444, \"#bd3786\"], [0.5555555555555556, \"#d8576b\"], [0.6666666666666666, \"#ed7953\"], [0.7777777777777778, \"#fb9f3a\"], [0.8888888888888888, \"#fdca26\"], [1.0, \"#f0f921\"]], \"type\": \"histogram2d\"}], \"histogram2dcontour\": [{\"colorbar\": {\"outlinewidth\": 0, \"ticks\": \"\"}, \"colorscale\": [[0.0, \"#0d0887\"], [0.1111111111111111, \"#46039f\"], [0.2222222222222222, \"#7201a8\"], [0.3333333333333333, \"#9c179e\"], [0.4444444444444444, \"#bd3786\"], [0.5555555555555556, \"#d8576b\"], [0.6666666666666666, \"#ed7953\"], [0.7777777777777778, \"#fb9f3a\"], [0.8888888888888888, \"#fdca26\"], [1.0, \"#f0f921\"]], \"type\": \"histogram2dcontour\"}], \"mesh3d\": [{\"colorbar\": {\"outlinewidth\": 0, \"ticks\": \"\"}, \"type\": \"mesh3d\"}], \"parcoords\": [{\"line\": {\"colorbar\": {\"outlinewidth\": 0, \"ticks\": \"\"}}, \"type\": \"parcoords\"}], \"pie\": [{\"automargin\": true, \"type\": \"pie\"}], \"scatter\": [{\"marker\": {\"colorbar\": {\"outlinewidth\": 0, \"ticks\": \"\"}}, \"type\": \"scatter\"}], \"scatter3d\": [{\"line\": {\"colorbar\": {\"outlinewidth\": 0, \"ticks\": \"\"}}, \"marker\": {\"colorbar\": {\"outlinewidth\": 0, \"ticks\": \"\"}}, \"type\": \"scatter3d\"}], \"scattercarpet\": [{\"marker\": {\"colorbar\": {\"outlinewidth\": 0, \"ticks\": \"\"}}, \"type\": \"scattercarpet\"}], \"scattergeo\": [{\"marker\": {\"colorbar\": {\"outlinewidth\": 0, \"ticks\": \"\"}}, \"type\": \"scattergeo\"}], \"scattergl\": [{\"marker\": {\"colorbar\": {\"outlinewidth\": 0, \"ticks\": \"\"}}, \"type\": \"scattergl\"}], \"scattermapbox\": [{\"marker\": {\"colorbar\": {\"outlinewidth\": 0, \"ticks\": \"\"}}, \"type\": \"scattermapbox\"}], \"scatterpolar\": [{\"marker\": {\"colorbar\": {\"outlinewidth\": 0, \"ticks\": \"\"}}, \"type\": \"scatterpolar\"}], \"scatterpolargl\": [{\"marker\": {\"colorbar\": {\"outlinewidth\": 0, \"ticks\": \"\"}}, \"type\": \"scatterpolargl\"}], \"scatterternary\": [{\"marker\": {\"colorbar\": {\"outlinewidth\": 0, \"ticks\": \"\"}}, \"type\": \"scatterternary\"}], \"surface\": [{\"colorbar\": {\"outlinewidth\": 0, \"ticks\": \"\"}, \"colorscale\": [[0.0, \"#0d0887\"], [0.1111111111111111, \"#46039f\"], [0.2222222222222222, \"#7201a8\"], [0.3333333333333333, \"#9c179e\"], [0.4444444444444444, \"#bd3786\"], [0.5555555555555556, \"#d8576b\"], [0.6666666666666666, \"#ed7953\"], [0.7777777777777778, \"#fb9f3a\"], [0.8888888888888888, \"#fdca26\"], [1.0, \"#f0f921\"]], \"type\": \"surface\"}], \"table\": [{\"cells\": {\"fill\": {\"color\": \"#EBF0F8\"}, \"line\": {\"color\": \"white\"}}, \"header\": {\"fill\": {\"color\": \"#C8D4E3\"}, \"line\": {\"color\": \"white\"}}, \"type\": \"table\"}]}, \"layout\": {\"annotationdefaults\": {\"arrowcolor\": \"#2a3f5f\", \"arrowhead\": 0, \"arrowwidth\": 1}, \"coloraxis\": {\"colorbar\": {\"outlinewidth\": 0, \"ticks\": \"\"}}, \"colorscale\": {\"diverging\": [[0, \"#8e0152\"], [0.1, \"#c51b7d\"], [0.2, \"#de77ae\"], [0.3, \"#f1b6da\"], [0.4, \"#fde0ef\"], [0.5, \"#f7f7f7\"], [0.6, \"#e6f5d0\"], [0.7, \"#b8e186\"], [0.8, \"#7fbc41\"], [0.9, \"#4d9221\"], [1, \"#276419\"]], \"sequential\": [[0.0, \"#0d0887\"], [0.1111111111111111, \"#46039f\"], [0.2222222222222222, \"#7201a8\"], [0.3333333333333333, \"#9c179e\"], [0.4444444444444444, \"#bd3786\"], [0.5555555555555556, \"#d8576b\"], [0.6666666666666666, \"#ed7953\"], [0.7777777777777778, \"#fb9f3a\"], [0.8888888888888888, \"#fdca26\"], [1.0, \"#f0f921\"]], \"sequentialminus\": [[0.0, \"#0d0887\"], [0.1111111111111111, \"#46039f\"], [0.2222222222222222, \"#7201a8\"], [0.3333333333333333, \"#9c179e\"], [0.4444444444444444, \"#bd3786\"], [0.5555555555555556, \"#d8576b\"], [0.6666666666666666, \"#ed7953\"], [0.7777777777777778, \"#fb9f3a\"], [0.8888888888888888, \"#fdca26\"], [1.0, \"#f0f921\"]]}, \"colorway\": [\"#636efa\", \"#EF553B\", \"#00cc96\", \"#ab63fa\", \"#FFA15A\", \"#19d3f3\", \"#FF6692\", \"#B6E880\", \"#FF97FF\", \"#FECB52\"], \"font\": {\"color\": \"#2a3f5f\"}, \"geo\": {\"bgcolor\": \"white\", \"lakecolor\": \"white\", \"landcolor\": \"#E5ECF6\", \"showlakes\": true, \"showland\": true, \"subunitcolor\": \"white\"}, \"hoverlabel\": {\"align\": \"left\"}, \"hovermode\": \"closest\", \"mapbox\": {\"style\": \"light\"}, \"paper_bgcolor\": \"white\", \"plot_bgcolor\": \"#E5ECF6\", \"polar\": {\"angularaxis\": {\"gridcolor\": \"white\", \"linecolor\": \"white\", \"ticks\": \"\"}, \"bgcolor\": \"#E5ECF6\", \"radialaxis\": {\"gridcolor\": \"white\", \"linecolor\": \"white\", \"ticks\": \"\"}}, \"scene\": {\"xaxis\": {\"backgroundcolor\": \"#E5ECF6\", \"gridcolor\": \"white\", \"gridwidth\": 2, \"linecolor\": \"white\", \"showbackground\": true, \"ticks\": \"\", \"zerolinecolor\": \"white\"}, \"yaxis\": {\"backgroundcolor\": \"#E5ECF6\", \"gridcolor\": \"white\", \"gridwidth\": 2, \"linecolor\": \"white\", \"showbackground\": true, \"ticks\": \"\", \"zerolinecolor\": \"white\"}, \"zaxis\": {\"backgroundcolor\": \"#E5ECF6\", \"gridcolor\": \"white\", \"gridwidth\": 2, \"linecolor\": \"white\", \"showbackground\": true, \"ticks\": \"\", \"zerolinecolor\": \"white\"}}, \"shapedefaults\": {\"line\": {\"color\": \"#2a3f5f\"}}, \"ternary\": {\"aaxis\": {\"gridcolor\": \"white\", \"linecolor\": \"white\", \"ticks\": \"\"}, \"baxis\": {\"gridcolor\": \"white\", \"linecolor\": \"white\", \"ticks\": \"\"}, \"bgcolor\": \"#E5ECF6\", \"caxis\": {\"gridcolor\": \"white\", \"linecolor\": \"white\", \"ticks\": \"\"}}, \"title\": {\"x\": 0.05}, \"xaxis\": {\"automargin\": true, \"gridcolor\": \"white\", \"linecolor\": \"white\", \"ticks\": \"\", \"title\": {\"standoff\": 15}, \"zerolinecolor\": \"white\", \"zerolinewidth\": 2}, \"yaxis\": {\"automargin\": true, \"gridcolor\": \"white\", \"linecolor\": \"white\", \"ticks\": \"\", \"title\": {\"standoff\": 15}, \"zerolinecolor\": \"white\", \"zerolinewidth\": 2}}}, \"title\": {\"text\": \"COVID-19 - Casos confirmados - 08-04-2020 \\n Zoom at\\u00e9 2500 casos\"}, \"xaxis\": {\"anchor\": \"y\", \"domain\": [0.0, 1.0], \"title\": {\"text\": \"Dias desde o caso n\\u00famero 50\"}}, \"yaxis\": {\"anchor\": \"x\", \"domain\": [0.0, 1.0], \"title\": {\"text\": \"Casos acumulados\"}}},\n",
              "                        {\"responsive\": true}\n",
              "                    ).then(function(){\n",
              "                            \n",
              "var gd = document.getElementById('5b0f2c3d-f911-4928-b331-92834ab6c7dc');\n",
              "var x = new MutationObserver(function (mutations, observer) {{\n",
              "        var display = window.getComputedStyle(gd).display;\n",
              "        if (!display || display === 'none') {{\n",
              "            console.log([gd, 'removed!']);\n",
              "            Plotly.purge(gd);\n",
              "            observer.disconnect();\n",
              "        }}\n",
              "}});\n",
              "\n",
              "// Listen for the removal of the full notebook cells\n",
              "var notebookContainer = gd.closest('#notebook-container');\n",
              "if (notebookContainer) {{\n",
              "    x.observe(notebookContainer, {childList: true});\n",
              "}}\n",
              "\n",
              "// Listen for the clearing of the current output cell\n",
              "var outputEl = gd.closest('.output');\n",
              "if (outputEl) {{\n",
              "    x.observe(outputEl, {childList: true});\n",
              "}}\n",
              "\n",
              "                        })\n",
              "                };\n",
              "                \n",
              "            </script>\n",
              "        </div>\n",
              "</body>\n",
              "</html>"
            ]
          },
          "metadata": {
            "tags": []
          }
        }
      ]
    },
    {
      "cell_type": "code",
      "metadata": {
        "colab_type": "code",
        "id": "d5nOTnJwYHNo",
        "outputId": "fa3911a6-4cd9-4295-b1f5-ab1e7992b042",
        "colab": {
          "base_uri": "https://localhost:8080/",
          "height": 542
        }
      },
      "source": [
        "#hide\n",
        "\n",
        "fig = px.line(meio_zoom, x=\"Dias desde o caso número 50\", y=\"Casos acumulados\", title='COVID-19 - Casos confirmados - {} \\n Zoom até 5000 casos'.format(today),\n",
        "              color='Países e territórios',color_discrete_sequence=[\"black\", \"blue\",'green',\"darkmagenta\",\"gray\",\"brown\",\"orange\",\"magenta\",'red',\"darkblue\",\"lightgreen\",'coral','lightblue'])\n",
        "fig.update_layout(legend= {'title':'País','borderwidth':0,'orientation':'v','yanchor':'top','font':{'size':8}})\n",
        "fig.show()\n",
        "#fig.write_html(\"plots/11_letalidade.html\")"
      ],
      "execution_count": 33,
      "outputs": [
        {
          "output_type": "display_data",
          "data": {
            "text/html": [
              "<html>\n",
              "<head><meta charset=\"utf-8\" /></head>\n",
              "<body>\n",
              "    <div>\n",
              "            <script src=\"https://cdnjs.cloudflare.com/ajax/libs/mathjax/2.7.5/MathJax.js?config=TeX-AMS-MML_SVG\"></script><script type=\"text/javascript\">if (window.MathJax) {MathJax.Hub.Config({SVG: {font: \"STIX-Web\"}});}</script>\n",
              "                <script type=\"text/javascript\">window.PlotlyConfig = {MathJaxConfig: 'local'};</script>\n",
              "        <script src=\"https://cdn.plot.ly/plotly-latest.min.js\"></script>    \n",
              "            <div id=\"f44f4400-e09d-467f-9e16-d4175c41aabc\" class=\"plotly-graph-div\" style=\"height:525px; width:100%;\"></div>\n",
              "            <script type=\"text/javascript\">\n",
              "                \n",
              "                    window.PLOTLYENV=window.PLOTLYENV || {};\n",
              "                    \n",
              "                if (document.getElementById(\"f44f4400-e09d-467f-9e16-d4175c41aabc\")) {\n",
              "                    Plotly.newPlot(\n",
              "                        'f44f4400-e09d-467f-9e16-d4175c41aabc',\n",
              "                        [{\"hovertemplate\": \"Pa\\u00edses e territ\\u00f3rios=Brazil<br>Dias desde o caso n\\u00famero 50=%{x}<br>Casos acumulados=%{y}<extra></extra>\", \"legendgroup\": \"Brazil\", \"line\": {\"color\": \"black\", \"dash\": \"solid\"}, \"mode\": \"lines\", \"name\": \"Brazil\", \"showlegend\": true, \"type\": \"scatter\", \"x\": [0, 1, 2, 3, 4, 5, 6, 7, 8, 9, 10, 11, 12, 13, 14, 15, 16, 17, 18, 19], \"xaxis\": \"x\", \"y\": [52, 77, 98, 121, 200, 234, 291, 428, 621, 904, 1128, 1546, 1891, 2201, 2433, 2915, 3417, 3904, 4256, 4579], \"yaxis\": \"y\"}, {\"hovertemplate\": \"Pa\\u00edses e territ\\u00f3rios=Italy<br>Dias desde o caso n\\u00famero 50=%{x}<br>Casos acumulados=%{y}<extra></extra>\", \"legendgroup\": \"Italy\", \"line\": {\"color\": \"blue\", \"dash\": \"solid\"}, \"mode\": \"lines\", \"name\": \"Italy\", \"showlegend\": true, \"type\": \"scatter\", \"x\": [0, 1, 2, 3, 4, 5, 6, 7, 8, 9, 10, 11, 12, 13], \"xaxis\": \"x\", \"y\": [79, 132, 229, 322, 400, 650, 888, 1128, 1689, 2036, 2502, 3089, 3858, 4636], \"yaxis\": \"y\"}, {\"hovertemplate\": \"Pa\\u00edses e territ\\u00f3rios=Japan<br>Dias desde o caso n\\u00famero 50=%{x}<br>Casos acumulados=%{y}<extra></extra>\", \"legendgroup\": \"Japan\", \"line\": {\"color\": \"green\", \"dash\": \"solid\"}, \"mode\": \"lines\", \"name\": \"Japan\", \"showlegend\": true, \"type\": \"scatter\", \"x\": [0, 1, 2, 3, 4, 5, 6, 7, 8, 9, 10, 11, 12, 13, 14, 15, 16, 17, 18, 19, 20, 21, 22, 23, 24, 25, 26, 27, 28, 29, 30, 31, 32, 33, 34, 35, 36, 37, 38, 39, 40, 41, 42, 43, 44, 45, 46, 47, 48, 49, 50, 51, 52], \"xaxis\": \"x\", \"y\": [52, 59, 59, 66, 84, 93, 105, 132, 144, 144, 164, 186, 210, 230, 239, 254, 254, 268, 317, 349, 408, 455, 488, 514, 568, 619, 675, 737, 780, 814, 824, 829, 873, 950, 1007, 1046, 1089, 1128, 1193, 1268, 1364, 1499, 1693, 1866, 1953, 1953, 2178, 2617, 2935, 3271, 3654, 3817, 3906], \"yaxis\": \"y\"}, {\"hovertemplate\": \"Pa\\u00edses e territ\\u00f3rios=United_Kingdom<br>Dias desde o caso n\\u00famero 50=%{x}<br>Casos acumulados=%{y}<extra></extra>\", \"legendgroup\": \"United_Kingdom\", \"line\": {\"color\": \"darkmagenta\", \"dash\": \"solid\"}, \"mode\": \"lines\", \"name\": \"United_Kingdom\", \"showlegend\": true, \"type\": \"scatter\", \"x\": [0, 1, 2, 3, 4, 5, 6, 7, 8, 9, 10, 11, 12, 13, 14, 15, 16, 17], \"xaxis\": \"x\", \"y\": [51, 85, 115, 163, 206, 273, 321, 373, 456, 590, 707, 1140, 1391, 1543, 1950, 2630, 3277, 3983], \"yaxis\": \"y\"}, {\"hovertemplate\": \"Pa\\u00edses e territ\\u00f3rios=United_States_of_America<br>Dias desde o caso n\\u00famero 50=%{x}<br>Casos acumulados=%{y}<extra></extra>\", \"legendgroup\": \"United_States_of_America\", \"line\": {\"color\": \"gray\", \"dash\": \"solid\"}, \"mode\": \"lines\", \"name\": \"United_States_of_America\", \"showlegend\": true, \"type\": \"scatter\", \"x\": [0, 1, 2, 3, 4, 5, 6, 7, 8, 9, 10, 11, 12, 13, 14, 15, 16, 17, 18, 19, 20, 21], \"xaxis\": \"x\", \"y\": [53, 53, 59, 60, 66, 69, 89, 103, 125, 159, 233, 338, 433, 554, 754, 1025, 1312, 1663, 2174, 2951, 3774, 4661], \"yaxis\": \"y\"}, {\"hovertemplate\": \"Pa\\u00edses e territ\\u00f3rios=France<br>Dias desde o caso n\\u00famero 50=%{x}<br>Casos acumulados=%{y}<extra></extra>\", \"legendgroup\": \"France\", \"line\": {\"color\": \"brown\", \"dash\": \"solid\"}, \"mode\": \"lines\", \"name\": \"France\", \"showlegend\": true, \"type\": \"scatter\", \"x\": [0, 1, 2, 3, 4, 5, 6, 7, 8, 9, 10, 11, 12, 13, 14, 15], \"xaxis\": \"x\", \"y\": [57, 100, 130, 178, 212, 285, 423, 613, 716, 1126, 1412, 1784, 2281, 2876, 3661, 4499], \"yaxis\": \"y\"}, {\"hovertemplate\": \"Pa\\u00edses e territ\\u00f3rios=South_Korea<br>Dias desde o caso n\\u00famero 50=%{x}<br>Casos acumulados=%{y}<extra></extra>\", \"legendgroup\": \"South_Korea\", \"line\": {\"color\": \"orange\", \"dash\": \"solid\"}, \"mode\": \"lines\", \"name\": \"South_Korea\", \"showlegend\": true, \"type\": \"scatter\", \"x\": [0, 1, 2, 3, 4, 5, 6, 7, 8, 9, 10, 11, 12], \"xaxis\": \"x\", \"y\": [80, 155, 345, 601, 762, 892, 1146, 1595, 2022, 2931, 3526, 4212, 4812], \"yaxis\": \"y\"}, {\"hovertemplate\": \"Pa\\u00edses e territ\\u00f3rios=Spain<br>Dias desde o caso n\\u00famero 50=%{x}<br>Casos acumulados=%{y}<extra></extra>\", \"legendgroup\": \"Spain\", \"line\": {\"color\": \"magenta\", \"dash\": \"solid\"}, \"mode\": \"lines\", \"name\": \"Spain\", \"showlegend\": true, \"type\": \"scatter\", \"x\": [0, 1, 2, 3, 4, 5, 6, 7, 8, 9, 10, 11, 12, 13], \"xaxis\": \"x\", \"y\": [66, 83, 114, 151, 200, 261, 374, 430, 589, 1204, 1639, 2140, 3004, 4231], \"yaxis\": \"y\"}, {\"hovertemplate\": \"Pa\\u00edses e territ\\u00f3rios=Argentina<br>Dias desde o caso n\\u00famero 50=%{x}<br>Casos acumulados=%{y}<extra></extra>\", \"legendgroup\": \"Argentina\", \"line\": {\"color\": \"red\", \"dash\": \"solid\"}, \"mode\": \"lines\", \"name\": \"Argentina\", \"showlegend\": true, \"type\": \"scatter\", \"x\": [0, 1, 2, 3, 4, 5, 6, 7, 8, 9, 10, 11, 12, 13, 14, 15, 16, 17, 18, 19, 20, 21, 22, 23], \"xaxis\": \"x\", \"y\": [56, 65, 79, 97, 128, 158, 225, 266, 301, 387, 502, 589, 690, 745, 820, 966, 966, 1133, 1133, 1265, 1451, 1554, 1628, 1715], \"yaxis\": \"y\"}, {\"hovertemplate\": \"Pa\\u00edses e territ\\u00f3rios=India<br>Dias desde o caso n\\u00famero 50=%{x}<br>Casos acumulados=%{y}<extra></extra>\", \"legendgroup\": \"India\", \"line\": {\"color\": \"darkblue\", \"dash\": \"solid\"}, \"mode\": \"lines\", \"name\": \"India\", \"showlegend\": true, \"type\": \"scatter\", \"x\": [0, 1, 2, 3, 4, 5, 6, 7, 8, 9, 10, 11, 12, 13, 14, 15, 16, 17, 18, 19, 20, 21, 22, 23, 24, 25, 26, 27], \"xaxis\": \"x\", \"y\": [50, 73, 75, 83, 90, 93, 125, 137, 165, 191, 231, 320, 439, 492, 562, 649, 724, 873, 979, 1071, 1251, 1397, 1965, 2301, 2902, 3374, 4067, 4421], \"yaxis\": \"y\"}, {\"hovertemplate\": \"Pa\\u00edses e territ\\u00f3rios=Mexico<br>Dias desde o caso n\\u00famero 50=%{x}<br>Casos acumulados=%{y}<extra></extra>\", \"legendgroup\": \"Mexico\", \"line\": {\"color\": \"lightgreen\", \"dash\": \"solid\"}, \"mode\": \"lines\", \"name\": \"Mexico\", \"showlegend\": true, \"type\": \"scatter\", \"x\": [0, 1, 2, 3, 4, 5, 6, 7, 8, 9, 10, 11, 12, 13, 14, 15, 16, 17, 18, 19, 20, 21, 22, 23], \"xaxis\": \"x\", \"y\": [53, 82, 93, 118, 164, 203, 251, 316, 367, 405, 475, 585, 717, 848, 993, 1094, 1215, 1378, 1510, 1688, 1890, 2143, 2439, 2785], \"yaxis\": \"y\"}, {\"hovertemplate\": \"Pa\\u00edses e territ\\u00f3rios=Germany<br>Dias desde o caso n\\u00famero 50=%{x}<br>Casos acumulados=%{y}<extra></extra>\", \"legendgroup\": \"Germany\", \"line\": {\"color\": \"coral\", \"dash\": \"solid\"}, \"mode\": \"lines\", \"name\": \"Germany\", \"showlegend\": true, \"type\": \"scatter\", \"x\": [0, 1, 2, 3, 4, 5, 6, 7, 8, 9, 10, 11, 12, 13, 14, 15, 16], \"xaxis\": \"x\", \"y\": [57, 111, 129, 157, 196, 262, 400, 684, 847, 902, 1139, 1296, 1567, 2369, 3062, 3795, 4838], \"yaxis\": \"y\"}, {\"hovertemplate\": \"Pa\\u00edses e territ\\u00f3rios=Czechia<br>Dias desde o caso n\\u00famero 50=%{x}<br>Casos acumulados=%{y}<extra></extra>\", \"legendgroup\": \"Czechia\", \"line\": {\"color\": \"lightblue\", \"dash\": \"solid\"}, \"mode\": \"lines\", \"name\": \"Czechia\", \"showlegend\": true, \"type\": \"scatter\", \"x\": [0, 1, 2, 3, 4, 5, 6, 7, 8, 9, 10, 11, 12, 13, 14, 15, 16, 17, 18, 19, 20, 21, 22, 23, 24, 25, 26, 27], \"xaxis\": \"x\", \"y\": [63, 94, 116, 150, 214, 298, 344, 434, 522, 694, 904, 995, 1165, 1236, 1394, 1654, 2062, 2279, 2663, 2829, 3002, 3308, 3589, 3858, 4190, 4472, 4587, 4822], \"yaxis\": \"y\"}, {\"hovertemplate\": \"Pa\\u00edses e territ\\u00f3rios=China<br>Dias desde o caso n\\u00famero 50=%{x}<br>Casos acumulados=%{y}<extra></extra>\", \"legendgroup\": \"China\", \"line\": {\"color\": \"black\", \"dash\": \"solid\"}, \"mode\": \"lines\", \"name\": \"China\", \"showlegend\": true, \"type\": \"scatter\", \"x\": [0, 1, 2, 3, 4, 5, 6, 7, 8, 9, 10, 11, 12, 13, 14, 15, 16, 17, 18, 19, 20, 21, 22, 23], \"xaxis\": \"x\", \"y\": [59, 59, 59, 59, 59, 59, 59, 59, 59, 59, 59, 59, 63, 80, 216, 235, 386, 526, 623, 882, 1323, 1988, 2775, 4528], \"yaxis\": \"y\"}],\n",
              "                        {\"legend\": {\"borderwidth\": 0, \"font\": {\"size\": 8}, \"orientation\": \"v\", \"title\": {\"text\": \"Pa\\u00eds\"}, \"tracegroupgap\": 0, \"yanchor\": \"top\"}, \"template\": {\"data\": {\"bar\": [{\"error_x\": {\"color\": \"#2a3f5f\"}, \"error_y\": {\"color\": \"#2a3f5f\"}, \"marker\": {\"line\": {\"color\": \"#E5ECF6\", \"width\": 0.5}}, \"type\": \"bar\"}], \"barpolar\": [{\"marker\": {\"line\": {\"color\": \"#E5ECF6\", \"width\": 0.5}}, \"type\": \"barpolar\"}], \"carpet\": [{\"aaxis\": {\"endlinecolor\": \"#2a3f5f\", \"gridcolor\": \"white\", \"linecolor\": \"white\", \"minorgridcolor\": \"white\", \"startlinecolor\": \"#2a3f5f\"}, \"baxis\": {\"endlinecolor\": \"#2a3f5f\", \"gridcolor\": \"white\", \"linecolor\": \"white\", \"minorgridcolor\": \"white\", \"startlinecolor\": \"#2a3f5f\"}, \"type\": \"carpet\"}], \"choropleth\": [{\"colorbar\": {\"outlinewidth\": 0, \"ticks\": \"\"}, \"type\": \"choropleth\"}], \"contour\": [{\"colorbar\": {\"outlinewidth\": 0, \"ticks\": \"\"}, \"colorscale\": [[0.0, \"#0d0887\"], [0.1111111111111111, \"#46039f\"], [0.2222222222222222, \"#7201a8\"], [0.3333333333333333, \"#9c179e\"], [0.4444444444444444, \"#bd3786\"], [0.5555555555555556, \"#d8576b\"], [0.6666666666666666, \"#ed7953\"], [0.7777777777777778, \"#fb9f3a\"], [0.8888888888888888, \"#fdca26\"], [1.0, \"#f0f921\"]], \"type\": \"contour\"}], \"contourcarpet\": [{\"colorbar\": {\"outlinewidth\": 0, \"ticks\": \"\"}, \"type\": \"contourcarpet\"}], \"heatmap\": [{\"colorbar\": {\"outlinewidth\": 0, \"ticks\": \"\"}, \"colorscale\": [[0.0, \"#0d0887\"], [0.1111111111111111, \"#46039f\"], [0.2222222222222222, \"#7201a8\"], [0.3333333333333333, \"#9c179e\"], [0.4444444444444444, \"#bd3786\"], [0.5555555555555556, \"#d8576b\"], [0.6666666666666666, \"#ed7953\"], [0.7777777777777778, \"#fb9f3a\"], [0.8888888888888888, \"#fdca26\"], [1.0, \"#f0f921\"]], \"type\": \"heatmap\"}], \"heatmapgl\": [{\"colorbar\": {\"outlinewidth\": 0, \"ticks\": \"\"}, \"colorscale\": [[0.0, \"#0d0887\"], [0.1111111111111111, \"#46039f\"], [0.2222222222222222, \"#7201a8\"], [0.3333333333333333, \"#9c179e\"], [0.4444444444444444, \"#bd3786\"], [0.5555555555555556, \"#d8576b\"], [0.6666666666666666, \"#ed7953\"], [0.7777777777777778, \"#fb9f3a\"], [0.8888888888888888, \"#fdca26\"], [1.0, \"#f0f921\"]], \"type\": \"heatmapgl\"}], \"histogram\": [{\"marker\": {\"colorbar\": {\"outlinewidth\": 0, \"ticks\": \"\"}}, \"type\": \"histogram\"}], \"histogram2d\": [{\"colorbar\": {\"outlinewidth\": 0, \"ticks\": \"\"}, \"colorscale\": [[0.0, \"#0d0887\"], [0.1111111111111111, \"#46039f\"], [0.2222222222222222, \"#7201a8\"], [0.3333333333333333, \"#9c179e\"], [0.4444444444444444, \"#bd3786\"], [0.5555555555555556, \"#d8576b\"], [0.6666666666666666, \"#ed7953\"], [0.7777777777777778, \"#fb9f3a\"], [0.8888888888888888, \"#fdca26\"], [1.0, \"#f0f921\"]], \"type\": \"histogram2d\"}], \"histogram2dcontour\": [{\"colorbar\": {\"outlinewidth\": 0, \"ticks\": \"\"}, \"colorscale\": [[0.0, \"#0d0887\"], [0.1111111111111111, \"#46039f\"], [0.2222222222222222, \"#7201a8\"], [0.3333333333333333, \"#9c179e\"], [0.4444444444444444, \"#bd3786\"], [0.5555555555555556, \"#d8576b\"], [0.6666666666666666, \"#ed7953\"], [0.7777777777777778, \"#fb9f3a\"], [0.8888888888888888, \"#fdca26\"], [1.0, \"#f0f921\"]], \"type\": \"histogram2dcontour\"}], \"mesh3d\": [{\"colorbar\": {\"outlinewidth\": 0, \"ticks\": \"\"}, \"type\": \"mesh3d\"}], \"parcoords\": [{\"line\": {\"colorbar\": {\"outlinewidth\": 0, \"ticks\": \"\"}}, \"type\": \"parcoords\"}], \"pie\": [{\"automargin\": true, \"type\": \"pie\"}], \"scatter\": [{\"marker\": {\"colorbar\": {\"outlinewidth\": 0, \"ticks\": \"\"}}, \"type\": \"scatter\"}], \"scatter3d\": [{\"line\": {\"colorbar\": {\"outlinewidth\": 0, \"ticks\": \"\"}}, \"marker\": {\"colorbar\": {\"outlinewidth\": 0, \"ticks\": \"\"}}, \"type\": \"scatter3d\"}], \"scattercarpet\": [{\"marker\": {\"colorbar\": {\"outlinewidth\": 0, \"ticks\": \"\"}}, \"type\": \"scattercarpet\"}], \"scattergeo\": [{\"marker\": {\"colorbar\": {\"outlinewidth\": 0, \"ticks\": \"\"}}, \"type\": \"scattergeo\"}], \"scattergl\": [{\"marker\": {\"colorbar\": {\"outlinewidth\": 0, \"ticks\": \"\"}}, \"type\": \"scattergl\"}], \"scattermapbox\": [{\"marker\": {\"colorbar\": {\"outlinewidth\": 0, \"ticks\": \"\"}}, \"type\": \"scattermapbox\"}], \"scatterpolar\": [{\"marker\": {\"colorbar\": {\"outlinewidth\": 0, \"ticks\": \"\"}}, \"type\": \"scatterpolar\"}], \"scatterpolargl\": [{\"marker\": {\"colorbar\": {\"outlinewidth\": 0, \"ticks\": \"\"}}, \"type\": \"scatterpolargl\"}], \"scatterternary\": [{\"marker\": {\"colorbar\": {\"outlinewidth\": 0, \"ticks\": \"\"}}, \"type\": \"scatterternary\"}], \"surface\": [{\"colorbar\": {\"outlinewidth\": 0, \"ticks\": \"\"}, \"colorscale\": [[0.0, \"#0d0887\"], [0.1111111111111111, \"#46039f\"], [0.2222222222222222, \"#7201a8\"], [0.3333333333333333, \"#9c179e\"], [0.4444444444444444, \"#bd3786\"], [0.5555555555555556, \"#d8576b\"], [0.6666666666666666, \"#ed7953\"], [0.7777777777777778, \"#fb9f3a\"], [0.8888888888888888, \"#fdca26\"], [1.0, \"#f0f921\"]], \"type\": \"surface\"}], \"table\": [{\"cells\": {\"fill\": {\"color\": \"#EBF0F8\"}, \"line\": {\"color\": \"white\"}}, \"header\": {\"fill\": {\"color\": \"#C8D4E3\"}, \"line\": {\"color\": \"white\"}}, \"type\": \"table\"}]}, \"layout\": {\"annotationdefaults\": {\"arrowcolor\": \"#2a3f5f\", \"arrowhead\": 0, \"arrowwidth\": 1}, \"coloraxis\": {\"colorbar\": {\"outlinewidth\": 0, \"ticks\": \"\"}}, \"colorscale\": {\"diverging\": [[0, \"#8e0152\"], [0.1, \"#c51b7d\"], [0.2, \"#de77ae\"], [0.3, \"#f1b6da\"], [0.4, \"#fde0ef\"], [0.5, \"#f7f7f7\"], [0.6, \"#e6f5d0\"], [0.7, \"#b8e186\"], [0.8, \"#7fbc41\"], [0.9, \"#4d9221\"], [1, \"#276419\"]], \"sequential\": [[0.0, \"#0d0887\"], [0.1111111111111111, \"#46039f\"], [0.2222222222222222, \"#7201a8\"], [0.3333333333333333, \"#9c179e\"], [0.4444444444444444, \"#bd3786\"], [0.5555555555555556, \"#d8576b\"], [0.6666666666666666, \"#ed7953\"], [0.7777777777777778, \"#fb9f3a\"], [0.8888888888888888, \"#fdca26\"], [1.0, \"#f0f921\"]], \"sequentialminus\": [[0.0, \"#0d0887\"], [0.1111111111111111, \"#46039f\"], [0.2222222222222222, \"#7201a8\"], [0.3333333333333333, \"#9c179e\"], [0.4444444444444444, \"#bd3786\"], [0.5555555555555556, \"#d8576b\"], [0.6666666666666666, \"#ed7953\"], [0.7777777777777778, \"#fb9f3a\"], [0.8888888888888888, \"#fdca26\"], [1.0, \"#f0f921\"]]}, \"colorway\": [\"#636efa\", \"#EF553B\", \"#00cc96\", \"#ab63fa\", \"#FFA15A\", \"#19d3f3\", \"#FF6692\", \"#B6E880\", \"#FF97FF\", \"#FECB52\"], \"font\": {\"color\": \"#2a3f5f\"}, \"geo\": {\"bgcolor\": \"white\", \"lakecolor\": \"white\", \"landcolor\": \"#E5ECF6\", \"showlakes\": true, \"showland\": true, \"subunitcolor\": \"white\"}, \"hoverlabel\": {\"align\": \"left\"}, \"hovermode\": \"closest\", \"mapbox\": {\"style\": \"light\"}, \"paper_bgcolor\": \"white\", \"plot_bgcolor\": \"#E5ECF6\", \"polar\": {\"angularaxis\": {\"gridcolor\": \"white\", \"linecolor\": \"white\", \"ticks\": \"\"}, \"bgcolor\": \"#E5ECF6\", \"radialaxis\": {\"gridcolor\": \"white\", \"linecolor\": \"white\", \"ticks\": \"\"}}, \"scene\": {\"xaxis\": {\"backgroundcolor\": \"#E5ECF6\", \"gridcolor\": \"white\", \"gridwidth\": 2, \"linecolor\": \"white\", \"showbackground\": true, \"ticks\": \"\", \"zerolinecolor\": \"white\"}, \"yaxis\": {\"backgroundcolor\": \"#E5ECF6\", \"gridcolor\": \"white\", \"gridwidth\": 2, \"linecolor\": \"white\", \"showbackground\": true, \"ticks\": \"\", \"zerolinecolor\": \"white\"}, \"zaxis\": {\"backgroundcolor\": \"#E5ECF6\", \"gridcolor\": \"white\", \"gridwidth\": 2, \"linecolor\": \"white\", \"showbackground\": true, \"ticks\": \"\", \"zerolinecolor\": \"white\"}}, \"shapedefaults\": {\"line\": {\"color\": \"#2a3f5f\"}}, \"ternary\": {\"aaxis\": {\"gridcolor\": \"white\", \"linecolor\": \"white\", \"ticks\": \"\"}, \"baxis\": {\"gridcolor\": \"white\", \"linecolor\": \"white\", \"ticks\": \"\"}, \"bgcolor\": \"#E5ECF6\", \"caxis\": {\"gridcolor\": \"white\", \"linecolor\": \"white\", \"ticks\": \"\"}}, \"title\": {\"x\": 0.05}, \"xaxis\": {\"automargin\": true, \"gridcolor\": \"white\", \"linecolor\": \"white\", \"ticks\": \"\", \"title\": {\"standoff\": 15}, \"zerolinecolor\": \"white\", \"zerolinewidth\": 2}, \"yaxis\": {\"automargin\": true, \"gridcolor\": \"white\", \"linecolor\": \"white\", \"ticks\": \"\", \"title\": {\"standoff\": 15}, \"zerolinecolor\": \"white\", \"zerolinewidth\": 2}}}, \"title\": {\"text\": \"COVID-19 - Casos confirmados - 08-04-2020 \\n Zoom at\\u00e9 5000 casos\"}, \"xaxis\": {\"anchor\": \"y\", \"domain\": [0.0, 1.0], \"title\": {\"text\": \"Dias desde o caso n\\u00famero 50\"}}, \"yaxis\": {\"anchor\": \"x\", \"domain\": [0.0, 1.0], \"title\": {\"text\": \"Casos acumulados\"}}},\n",
              "                        {\"responsive\": true}\n",
              "                    ).then(function(){\n",
              "                            \n",
              "var gd = document.getElementById('f44f4400-e09d-467f-9e16-d4175c41aabc');\n",
              "var x = new MutationObserver(function (mutations, observer) {{\n",
              "        var display = window.getComputedStyle(gd).display;\n",
              "        if (!display || display === 'none') {{\n",
              "            console.log([gd, 'removed!']);\n",
              "            Plotly.purge(gd);\n",
              "            observer.disconnect();\n",
              "        }}\n",
              "}});\n",
              "\n",
              "// Listen for the removal of the full notebook cells\n",
              "var notebookContainer = gd.closest('#notebook-container');\n",
              "if (notebookContainer) {{\n",
              "    x.observe(notebookContainer, {childList: true});\n",
              "}}\n",
              "\n",
              "// Listen for the clearing of the current output cell\n",
              "var outputEl = gd.closest('.output');\n",
              "if (outputEl) {{\n",
              "    x.observe(outputEl, {childList: true});\n",
              "}}\n",
              "\n",
              "                        })\n",
              "                };\n",
              "                \n",
              "            </script>\n",
              "        </div>\n",
              "</body>\n",
              "</html>"
            ]
          },
          "metadata": {
            "tags": []
          }
        }
      ]
    },
    {
      "cell_type": "code",
      "metadata": {
        "colab_type": "code",
        "id": "vCTjw96BfhG_",
        "outputId": "8038d367-b45e-42c3-ba02-d1981ede4308",
        "colab": {
          "base_uri": "https://localhost:8080/",
          "height": 542
        }
      },
      "source": [
        "#hide_input\n",
        "\n",
        "fig = px.line(final_data, x=\"Dias desde o caso número 50\", y=\"Casos acumulados\", title='COVID-19 - Casos confirmados - {} \\n Escala aritmética'.format(today),\n",
        "              color=final_data['Países e territórios'].values,color_discrete_sequence=[\"black\", \"blue\",'green',\"darkmagenta\",\"gray\",\"brown\",\"orange\",\"magenta\",'red',\"darkblue\",\"lightgreen\",'coral','lightblue'])\n",
        "fig.update_layout(legend= {'title':'País','borderwidth':0,'orientation':'v','yanchor':'top','font':{'size':8}})\n",
        "fig.show()\n",
        "#fig.write_html(\"plots/11_letalidade.html\")\n"
      ],
      "execution_count": 34,
      "outputs": [
        {
          "output_type": "display_data",
          "data": {
            "text/html": [
              "<html>\n",
              "<head><meta charset=\"utf-8\" /></head>\n",
              "<body>\n",
              "    <div>\n",
              "            <script src=\"https://cdnjs.cloudflare.com/ajax/libs/mathjax/2.7.5/MathJax.js?config=TeX-AMS-MML_SVG\"></script><script type=\"text/javascript\">if (window.MathJax) {MathJax.Hub.Config({SVG: {font: \"STIX-Web\"}});}</script>\n",
              "                <script type=\"text/javascript\">window.PlotlyConfig = {MathJaxConfig: 'local'};</script>\n",
              "        <script src=\"https://cdn.plot.ly/plotly-latest.min.js\"></script>    \n",
              "            <div id=\"bc3c2929-af2e-4c7d-9034-e4da9490e0e0\" class=\"plotly-graph-div\" style=\"height:525px; width:100%;\"></div>\n",
              "            <script type=\"text/javascript\">\n",
              "                \n",
              "                    window.PLOTLYENV=window.PLOTLYENV || {};\n",
              "                    \n",
              "                if (document.getElementById(\"bc3c2929-af2e-4c7d-9034-e4da9490e0e0\")) {\n",
              "                    Plotly.newPlot(\n",
              "                        'bc3c2929-af2e-4c7d-9034-e4da9490e0e0',\n",
              "                        [{\"hovertemplate\": \"color=Brazil<br>Dias desde o caso n\\u00famero 50=%{x}<br>Casos acumulados=%{y}<extra></extra>\", \"legendgroup\": \"Brazil\", \"line\": {\"color\": \"black\", \"dash\": \"solid\"}, \"mode\": \"lines\", \"name\": \"Brazil\", \"showlegend\": true, \"type\": \"scatter\", \"x\": [0, 1, 2, 3, 4, 5, 6, 7, 8, 9, 10, 11, 12, 13, 14, 15, 16, 17, 18, 19, 20, 21, 22, 23, 24, 25, 26, 27], \"xaxis\": \"x\", \"y\": [52, 77, 98, 121, 200, 234, 291, 428, 621, 904, 1128, 1546, 1891, 2201, 2433, 2915, 3417, 3904, 4256, 4579, 5717, 6836, 7910, 9056, 10278, 11130, 12056, 13717], \"yaxis\": \"y\"}, {\"hovertemplate\": \"color=Italy<br>Dias desde o caso n\\u00famero 50=%{x}<br>Casos acumulados=%{y}<extra></extra>\", \"legendgroup\": \"Italy\", \"line\": {\"color\": \"blue\", \"dash\": \"solid\"}, \"mode\": \"lines\", \"name\": \"Italy\", \"showlegend\": true, \"type\": \"scatter\", \"x\": [0, 1, 2, 3, 4, 5, 6, 7, 8, 9, 10, 11, 12, 13, 14, 15, 16, 17, 18, 19, 20, 21, 22, 23, 24, 25, 26, 27, 28, 29, 30, 31, 32, 33, 34, 35, 36, 37, 38, 39, 40, 41, 42, 43, 44, 45], \"xaxis\": \"x\", \"y\": [79, 132, 229, 322, 400, 650, 888, 1128, 1689, 2036, 2502, 3089, 3858, 4636, 5883, 7375, 9172, 10149, 12462, 15113, 17660, 21157, 23980, 27980, 31506, 35713, 41035, 47021, 53578, 59138, 63927, 69176, 74386, 80539, 86498, 92472, 97689, 101739, 105792, 110574, 115242, 119827, 124632, 128948, 132547, 135586], \"yaxis\": \"y\"}, {\"hovertemplate\": \"color=Japan<br>Dias desde o caso n\\u00famero 50=%{x}<br>Casos acumulados=%{y}<extra></extra>\", \"legendgroup\": \"Japan\", \"line\": {\"color\": \"green\", \"dash\": \"solid\"}, \"mode\": \"lines\", \"name\": \"Japan\", \"showlegend\": true, \"type\": \"scatter\", \"x\": [0, 1, 2, 3, 4, 5, 6, 7, 8, 9, 10, 11, 12, 13, 14, 15, 16, 17, 18, 19, 20, 21, 22, 23, 24, 25, 26, 27, 28, 29, 30, 31, 32, 33, 34, 35, 36, 37, 38, 39, 40, 41, 42, 43, 44, 45, 46, 47, 48, 49, 50, 51, 52], \"xaxis\": \"x\", \"y\": [52, 59, 59, 66, 84, 93, 105, 132, 144, 144, 164, 186, 210, 230, 239, 254, 254, 268, 317, 349, 408, 455, 488, 514, 568, 619, 675, 737, 780, 814, 824, 829, 873, 950, 1007, 1046, 1089, 1128, 1193, 1268, 1364, 1499, 1693, 1866, 1953, 1953, 2178, 2617, 2935, 3271, 3654, 3817, 3906], \"yaxis\": \"y\"}, {\"hovertemplate\": \"color=United_Kingdom<br>Dias desde o caso n\\u00famero 50=%{x}<br>Casos acumulados=%{y}<extra></extra>\", \"legendgroup\": \"United_Kingdom\", \"line\": {\"color\": \"darkmagenta\", \"dash\": \"solid\"}, \"mode\": \"lines\", \"name\": \"United_Kingdom\", \"showlegend\": true, \"type\": \"scatter\", \"x\": [0, 1, 2, 3, 4, 5, 6, 7, 8, 9, 10, 11, 12, 13, 14, 15, 16, 17, 18, 19, 20, 21, 22, 23, 24, 25, 26, 27, 28, 29, 30, 31, 32, 33, 34, 35], \"xaxis\": \"x\", \"y\": [51, 85, 115, 163, 206, 273, 321, 373, 456, 590, 707, 1140, 1391, 1543, 1950, 2630, 3277, 3983, 5018, 5683, 6650, 8077, 9529, 11658, 14543, 17089, 19522, 22141, 25150, 29474, 33718, 38168, 41903, 47806, 51608, 55242], \"yaxis\": \"y\"}, {\"hovertemplate\": \"color=United_States_of_America<br>Dias desde o caso n\\u00famero 50=%{x}<br>Casos acumulados=%{y}<extra></extra>\", \"legendgroup\": \"United_States_of_America\", \"line\": {\"color\": \"gray\", \"dash\": \"solid\"}, \"mode\": \"lines\", \"name\": \"United_States_of_America\", \"showlegend\": true, \"type\": \"scatter\", \"x\": [0, 1, 2, 3, 4, 5, 6, 7, 8, 9, 10, 11, 12, 13, 14, 15, 16, 17, 18, 19, 20, 21, 22, 23, 24, 25, 26, 27, 28, 29, 30, 31, 32, 33, 34, 35, 36, 37, 38, 39, 40, 41, 42, 43], \"xaxis\": \"x\", \"y\": [53, 53, 59, 60, 66, 69, 89, 103, 125, 159, 233, 338, 433, 554, 754, 1025, 1312, 1663, 2174, 2951, 3774, 4661, 6427, 9415, 14250, 19624, 26747, 35206, 46442, 55231, 69194, 85991, 104686, 124665, 143025, 164620, 189618, 216721, 245540, 277965, 312237, 337635, 368196, 398809], \"yaxis\": \"y\"}, {\"hovertemplate\": \"color=France<br>Dias desde o caso n\\u00famero 50=%{x}<br>Casos acumulados=%{y}<extra></extra>\", \"legendgroup\": \"France\", \"line\": {\"color\": \"brown\", \"dash\": \"solid\"}, \"mode\": \"lines\", \"name\": \"France\", \"showlegend\": true, \"type\": \"scatter\", \"x\": [0, 1, 2, 3, 4, 5, 6, 7, 8, 9, 10, 11, 12, 13, 14, 15, 16, 17, 18, 19, 20, 21, 22, 23, 24, 25, 26, 27, 28, 29, 30, 31, 32, 33, 34, 35, 36, 37, 38, 39], \"xaxis\": \"x\", \"y\": [57, 100, 130, 178, 212, 285, 423, 613, 716, 1126, 1412, 1784, 2281, 2876, 3661, 4499, 5423, 6633, 7730, 9134, 10995, 12612, 14459, 16018, 19856, 22302, 25233, 29155, 32964, 37575, 40174, 44550, 52128, 56989, 59105, 64338, 68605, 70478, 74390, 78167], \"yaxis\": \"y\"}, {\"hovertemplate\": \"color=South_Korea<br>Dias desde o caso n\\u00famero 50=%{x}<br>Casos acumulados=%{y}<extra></extra>\", \"legendgroup\": \"South_Korea\", \"line\": {\"color\": \"orange\", \"dash\": \"solid\"}, \"mode\": \"lines\", \"name\": \"South_Korea\", \"showlegend\": true, \"type\": \"scatter\", \"x\": [0, 1, 2, 3, 4, 5, 6, 7, 8, 9, 10, 11, 12, 13, 14, 15, 16, 17, 18, 19, 20, 21, 22, 23, 24, 25, 26, 27, 28, 29, 30, 31, 32, 33, 34, 35, 36, 37, 38, 39, 40, 41, 42, 43, 44, 45, 46, 47, 48], \"xaxis\": \"x\", \"y\": [80, 155, 345, 601, 762, 892, 1146, 1595, 2022, 2931, 3526, 4212, 4812, 5328, 5766, 6284, 6767, 7134, 7382, 7513, 7755, 7869, 7979, 8086, 8162, 8236, 8320, 8413, 8565, 8652, 8799, 8897, 8961, 9037, 9137, 9241, 9332, 9478, 9583, 9661, 9786, 9786, 9976, 10062, 10156, 10237, 10284, 10331, 10384], \"yaxis\": \"y\"}, {\"hovertemplate\": \"color=Spain<br>Dias desde o caso n\\u00famero 50=%{x}<br>Casos acumulados=%{y}<extra></extra>\", \"legendgroup\": \"Spain\", \"line\": {\"color\": \"magenta\", \"dash\": \"solid\"}, \"mode\": \"lines\", \"name\": \"Spain\", \"showlegend\": true, \"type\": \"scatter\", \"x\": [0, 1, 2, 3, 4, 5, 6, 7, 8, 9, 10, 11, 12, 13, 14, 15, 16, 17, 18, 19, 20, 21, 22, 23, 24, 25, 26, 27, 28, 29, 30, 31, 32, 33, 34, 35, 36, 37, 38], \"xaxis\": \"x\", \"y\": [66, 83, 114, 151, 200, 261, 374, 430, 589, 1204, 1639, 2140, 3004, 4231, 5753, 7753, 9191, 11178, 13716, 17147, 19980, 24926, 28572, 33089, 39673, 47610, 56188, 64059, 72248, 78797, 85195, 94417, 102136, 110238, 117710, 124736, 130759, 135032, 140510], \"yaxis\": \"y\"}, {\"hovertemplate\": \"color=Argentina<br>Dias desde o caso n\\u00famero 50=%{x}<br>Casos acumulados=%{y}<extra></extra>\", \"legendgroup\": \"Argentina\", \"line\": {\"color\": \"red\", \"dash\": \"solid\"}, \"mode\": \"lines\", \"name\": \"Argentina\", \"showlegend\": true, \"type\": \"scatter\", \"x\": [0, 1, 2, 3, 4, 5, 6, 7, 8, 9, 10, 11, 12, 13, 14, 15, 16, 17, 18, 19, 20, 21, 22, 23], \"xaxis\": \"x\", \"y\": [56, 65, 79, 97, 128, 158, 225, 266, 301, 387, 502, 589, 690, 745, 820, 966, 966, 1133, 1133, 1265, 1451, 1554, 1628, 1715], \"yaxis\": \"y\"}, {\"hovertemplate\": \"color=India<br>Dias desde o caso n\\u00famero 50=%{x}<br>Casos acumulados=%{y}<extra></extra>\", \"legendgroup\": \"India\", \"line\": {\"color\": \"darkblue\", \"dash\": \"solid\"}, \"mode\": \"lines\", \"name\": \"India\", \"showlegend\": true, \"type\": \"scatter\", \"x\": [0, 1, 2, 3, 4, 5, 6, 7, 8, 9, 10, 11, 12, 13, 14, 15, 16, 17, 18, 19, 20, 21, 22, 23, 24, 25, 26, 27, 28], \"xaxis\": \"x\", \"y\": [50, 73, 75, 83, 90, 93, 125, 137, 165, 191, 231, 320, 439, 492, 562, 649, 724, 873, 979, 1071, 1251, 1397, 1965, 2301, 2902, 3374, 4067, 4421, 5194], \"yaxis\": \"y\"}, {\"hovertemplate\": \"color=Mexico<br>Dias desde o caso n\\u00famero 50=%{x}<br>Casos acumulados=%{y}<extra></extra>\", \"legendgroup\": \"Mexico\", \"line\": {\"color\": \"lightgreen\", \"dash\": \"solid\"}, \"mode\": \"lines\", \"name\": \"Mexico\", \"showlegend\": true, \"type\": \"scatter\", \"x\": [0, 1, 2, 3, 4, 5, 6, 7, 8, 9, 10, 11, 12, 13, 14, 15, 16, 17, 18, 19, 20, 21, 22, 23], \"xaxis\": \"x\", \"y\": [53, 82, 93, 118, 164, 203, 251, 316, 367, 405, 475, 585, 717, 848, 993, 1094, 1215, 1378, 1510, 1688, 1890, 2143, 2439, 2785], \"yaxis\": \"y\"}, {\"hovertemplate\": \"color=Germany<br>Dias desde o caso n\\u00famero 50=%{x}<br>Casos acumulados=%{y}<extra></extra>\", \"legendgroup\": \"Germany\", \"line\": {\"color\": \"coral\", \"dash\": \"solid\"}, \"mode\": \"lines\", \"name\": \"Germany\", \"showlegend\": true, \"type\": \"scatter\", \"x\": [0, 1, 2, 3, 4, 5, 6, 7, 8, 9, 10, 11, 12, 13, 14, 15, 16, 17, 18, 19, 20, 21, 22, 23, 24, 25, 26, 27, 28, 29, 30, 31, 32, 33, 34, 35, 36, 37, 38, 39], \"xaxis\": \"x\", \"y\": [57, 111, 129, 157, 196, 262, 400, 684, 847, 902, 1139, 1296, 1567, 2369, 3062, 3795, 4838, 6012, 7156, 8198, 14138, 18187, 21463, 24774, 29212, 31554, 36508, 42288, 48582, 52547, 57298, 61913, 67366, 73522, 79696, 85778, 91714, 95391, 99225, 103228], \"yaxis\": \"y\"}, {\"hovertemplate\": \"color=Czechia<br>Dias desde o caso n\\u00famero 50=%{x}<br>Casos acumulados=%{y}<extra></extra>\", \"legendgroup\": \"Czechia\", \"line\": {\"color\": \"lightblue\", \"dash\": \"solid\"}, \"mode\": \"lines\", \"name\": \"Czechia\", \"showlegend\": true, \"type\": \"scatter\", \"x\": [0, 1, 2, 3, 4, 5, 6, 7, 8, 9, 10, 11, 12, 13, 14, 15, 16, 17, 18, 19, 20, 21, 22, 23, 24, 25, 26, 27, 28], \"xaxis\": \"x\", \"y\": [63, 94, 116, 150, 214, 298, 344, 434, 522, 694, 904, 995, 1165, 1236, 1394, 1654, 2062, 2279, 2663, 2829, 3002, 3308, 3589, 3858, 4190, 4472, 4587, 4822, 5017], \"yaxis\": \"y\"}, {\"hovertemplate\": \"color=China<br>Dias desde o caso n\\u00famero 50=%{x}<br>Casos acumulados=%{y}<extra></extra>\", \"legendgroup\": \"China\", \"line\": {\"color\": \"black\", \"dash\": \"solid\"}, \"mode\": \"lines\", \"name\": \"China\", \"showlegend\": true, \"type\": \"scatter\", \"x\": [0, 1, 2, 3, 4, 5, 6, 7, 8, 9, 10, 11, 12, 13, 14, 15, 16, 17, 18, 19, 20, 21, 22, 23, 24, 25, 26, 27, 28, 29, 30, 31, 32, 33, 34, 35, 36, 37, 38, 39, 40, 41, 42, 43, 44, 45, 46, 47, 48, 49, 50, 51, 52, 53, 54, 55, 56, 57, 58, 59, 60, 61, 62, 63, 64, 65, 66, 67, 68, 69, 70, 71, 72, 73, 74, 75, 76, 77, 78, 79, 80, 81, 82, 83, 84, 85, 86, 87, 88, 89, 90, 91, 92, 93, 94], \"xaxis\": \"x\", \"y\": [59, 59, 59, 59, 59, 59, 59, 59, 59, 59, 59, 59, 63, 80, 216, 235, 386, 526, 623, 882, 1323, 1988, 2775, 4528, 5994, 7734, 9714, 11809, 14399, 17211, 20448, 24320, 28047, 31207, 34625, 37232, 40206, 42696, 44724, 59865, 64021, 66559, 68566, 70618, 72508, 74258, 74652, 75543, 76369, 77016, 77234, 77749, 78159, 78598, 78927, 79355, 79929, 80134, 80261, 80380, 80497, 80667, 80768, 80814, 80859, 80879, 80908, 80932, 80954, 80973, 80995, 81020, 81063, 81086, 81130, 81229, 81281, 81346, 81484, 81553, 81631, 81733, 81827, 81946, 82059, 82157, 82241, 82295, 82395, 82465, 82527, 82575, 82642, 82698, 82784], \"yaxis\": \"y\"}],\n",
              "                        {\"legend\": {\"borderwidth\": 0, \"font\": {\"size\": 8}, \"orientation\": \"v\", \"title\": {\"text\": \"Pa\\u00eds\"}, \"tracegroupgap\": 0, \"yanchor\": \"top\"}, \"template\": {\"data\": {\"bar\": [{\"error_x\": {\"color\": \"#2a3f5f\"}, \"error_y\": {\"color\": \"#2a3f5f\"}, \"marker\": {\"line\": {\"color\": \"#E5ECF6\", \"width\": 0.5}}, \"type\": \"bar\"}], \"barpolar\": [{\"marker\": {\"line\": {\"color\": \"#E5ECF6\", \"width\": 0.5}}, \"type\": \"barpolar\"}], \"carpet\": [{\"aaxis\": {\"endlinecolor\": \"#2a3f5f\", \"gridcolor\": \"white\", \"linecolor\": \"white\", \"minorgridcolor\": \"white\", \"startlinecolor\": \"#2a3f5f\"}, \"baxis\": {\"endlinecolor\": \"#2a3f5f\", \"gridcolor\": \"white\", \"linecolor\": \"white\", \"minorgridcolor\": \"white\", \"startlinecolor\": \"#2a3f5f\"}, \"type\": \"carpet\"}], \"choropleth\": [{\"colorbar\": {\"outlinewidth\": 0, \"ticks\": \"\"}, \"type\": \"choropleth\"}], \"contour\": [{\"colorbar\": {\"outlinewidth\": 0, \"ticks\": \"\"}, \"colorscale\": [[0.0, \"#0d0887\"], [0.1111111111111111, \"#46039f\"], [0.2222222222222222, \"#7201a8\"], [0.3333333333333333, \"#9c179e\"], [0.4444444444444444, \"#bd3786\"], [0.5555555555555556, \"#d8576b\"], [0.6666666666666666, \"#ed7953\"], [0.7777777777777778, \"#fb9f3a\"], [0.8888888888888888, \"#fdca26\"], [1.0, \"#f0f921\"]], \"type\": \"contour\"}], \"contourcarpet\": [{\"colorbar\": {\"outlinewidth\": 0, \"ticks\": \"\"}, \"type\": \"contourcarpet\"}], \"heatmap\": [{\"colorbar\": {\"outlinewidth\": 0, \"ticks\": \"\"}, \"colorscale\": [[0.0, \"#0d0887\"], [0.1111111111111111, \"#46039f\"], [0.2222222222222222, \"#7201a8\"], [0.3333333333333333, \"#9c179e\"], [0.4444444444444444, \"#bd3786\"], [0.5555555555555556, \"#d8576b\"], [0.6666666666666666, \"#ed7953\"], [0.7777777777777778, \"#fb9f3a\"], [0.8888888888888888, \"#fdca26\"], [1.0, \"#f0f921\"]], \"type\": \"heatmap\"}], \"heatmapgl\": [{\"colorbar\": {\"outlinewidth\": 0, \"ticks\": \"\"}, \"colorscale\": [[0.0, \"#0d0887\"], [0.1111111111111111, \"#46039f\"], [0.2222222222222222, \"#7201a8\"], [0.3333333333333333, \"#9c179e\"], [0.4444444444444444, \"#bd3786\"], [0.5555555555555556, \"#d8576b\"], [0.6666666666666666, \"#ed7953\"], [0.7777777777777778, \"#fb9f3a\"], [0.8888888888888888, \"#fdca26\"], [1.0, \"#f0f921\"]], \"type\": \"heatmapgl\"}], \"histogram\": [{\"marker\": {\"colorbar\": {\"outlinewidth\": 0, \"ticks\": \"\"}}, \"type\": \"histogram\"}], \"histogram2d\": [{\"colorbar\": {\"outlinewidth\": 0, \"ticks\": \"\"}, \"colorscale\": [[0.0, \"#0d0887\"], [0.1111111111111111, \"#46039f\"], [0.2222222222222222, \"#7201a8\"], [0.3333333333333333, \"#9c179e\"], [0.4444444444444444, \"#bd3786\"], [0.5555555555555556, \"#d8576b\"], [0.6666666666666666, \"#ed7953\"], [0.7777777777777778, \"#fb9f3a\"], [0.8888888888888888, \"#fdca26\"], [1.0, \"#f0f921\"]], \"type\": \"histogram2d\"}], \"histogram2dcontour\": [{\"colorbar\": {\"outlinewidth\": 0, \"ticks\": \"\"}, \"colorscale\": [[0.0, \"#0d0887\"], [0.1111111111111111, \"#46039f\"], [0.2222222222222222, \"#7201a8\"], [0.3333333333333333, \"#9c179e\"], [0.4444444444444444, \"#bd3786\"], [0.5555555555555556, \"#d8576b\"], [0.6666666666666666, \"#ed7953\"], [0.7777777777777778, \"#fb9f3a\"], [0.8888888888888888, \"#fdca26\"], [1.0, \"#f0f921\"]], \"type\": \"histogram2dcontour\"}], \"mesh3d\": [{\"colorbar\": {\"outlinewidth\": 0, \"ticks\": \"\"}, \"type\": \"mesh3d\"}], \"parcoords\": [{\"line\": {\"colorbar\": {\"outlinewidth\": 0, \"ticks\": \"\"}}, \"type\": \"parcoords\"}], \"pie\": [{\"automargin\": true, \"type\": \"pie\"}], \"scatter\": [{\"marker\": {\"colorbar\": {\"outlinewidth\": 0, \"ticks\": \"\"}}, \"type\": \"scatter\"}], \"scatter3d\": [{\"line\": {\"colorbar\": {\"outlinewidth\": 0, \"ticks\": \"\"}}, \"marker\": {\"colorbar\": {\"outlinewidth\": 0, \"ticks\": \"\"}}, \"type\": \"scatter3d\"}], \"scattercarpet\": [{\"marker\": {\"colorbar\": {\"outlinewidth\": 0, \"ticks\": \"\"}}, \"type\": \"scattercarpet\"}], \"scattergeo\": [{\"marker\": {\"colorbar\": {\"outlinewidth\": 0, \"ticks\": \"\"}}, \"type\": \"scattergeo\"}], \"scattergl\": [{\"marker\": {\"colorbar\": {\"outlinewidth\": 0, \"ticks\": \"\"}}, \"type\": \"scattergl\"}], \"scattermapbox\": [{\"marker\": {\"colorbar\": {\"outlinewidth\": 0, \"ticks\": \"\"}}, \"type\": \"scattermapbox\"}], \"scatterpolar\": [{\"marker\": {\"colorbar\": {\"outlinewidth\": 0, \"ticks\": \"\"}}, \"type\": \"scatterpolar\"}], \"scatterpolargl\": [{\"marker\": {\"colorbar\": {\"outlinewidth\": 0, \"ticks\": \"\"}}, \"type\": \"scatterpolargl\"}], \"scatterternary\": [{\"marker\": {\"colorbar\": {\"outlinewidth\": 0, \"ticks\": \"\"}}, \"type\": \"scatterternary\"}], \"surface\": [{\"colorbar\": {\"outlinewidth\": 0, \"ticks\": \"\"}, \"colorscale\": [[0.0, \"#0d0887\"], [0.1111111111111111, \"#46039f\"], [0.2222222222222222, \"#7201a8\"], [0.3333333333333333, \"#9c179e\"], [0.4444444444444444, \"#bd3786\"], [0.5555555555555556, \"#d8576b\"], [0.6666666666666666, \"#ed7953\"], [0.7777777777777778, \"#fb9f3a\"], [0.8888888888888888, \"#fdca26\"], [1.0, \"#f0f921\"]], \"type\": \"surface\"}], \"table\": [{\"cells\": {\"fill\": {\"color\": \"#EBF0F8\"}, \"line\": {\"color\": \"white\"}}, \"header\": {\"fill\": {\"color\": \"#C8D4E3\"}, \"line\": {\"color\": \"white\"}}, \"type\": \"table\"}]}, \"layout\": {\"annotationdefaults\": {\"arrowcolor\": \"#2a3f5f\", \"arrowhead\": 0, \"arrowwidth\": 1}, \"coloraxis\": {\"colorbar\": {\"outlinewidth\": 0, \"ticks\": \"\"}}, \"colorscale\": {\"diverging\": [[0, \"#8e0152\"], [0.1, \"#c51b7d\"], [0.2, \"#de77ae\"], [0.3, \"#f1b6da\"], [0.4, \"#fde0ef\"], [0.5, \"#f7f7f7\"], [0.6, \"#e6f5d0\"], [0.7, \"#b8e186\"], [0.8, \"#7fbc41\"], [0.9, \"#4d9221\"], [1, \"#276419\"]], \"sequential\": [[0.0, \"#0d0887\"], [0.1111111111111111, \"#46039f\"], [0.2222222222222222, \"#7201a8\"], [0.3333333333333333, \"#9c179e\"], [0.4444444444444444, \"#bd3786\"], [0.5555555555555556, \"#d8576b\"], [0.6666666666666666, \"#ed7953\"], [0.7777777777777778, \"#fb9f3a\"], [0.8888888888888888, \"#fdca26\"], [1.0, \"#f0f921\"]], \"sequentialminus\": [[0.0, \"#0d0887\"], [0.1111111111111111, \"#46039f\"], [0.2222222222222222, \"#7201a8\"], [0.3333333333333333, \"#9c179e\"], [0.4444444444444444, \"#bd3786\"], [0.5555555555555556, \"#d8576b\"], [0.6666666666666666, \"#ed7953\"], [0.7777777777777778, \"#fb9f3a\"], [0.8888888888888888, \"#fdca26\"], [1.0, \"#f0f921\"]]}, \"colorway\": [\"#636efa\", \"#EF553B\", \"#00cc96\", \"#ab63fa\", \"#FFA15A\", \"#19d3f3\", \"#FF6692\", \"#B6E880\", \"#FF97FF\", \"#FECB52\"], \"font\": {\"color\": \"#2a3f5f\"}, \"geo\": {\"bgcolor\": \"white\", \"lakecolor\": \"white\", \"landcolor\": \"#E5ECF6\", \"showlakes\": true, \"showland\": true, \"subunitcolor\": \"white\"}, \"hoverlabel\": {\"align\": \"left\"}, \"hovermode\": \"closest\", \"mapbox\": {\"style\": \"light\"}, \"paper_bgcolor\": \"white\", \"plot_bgcolor\": \"#E5ECF6\", \"polar\": {\"angularaxis\": {\"gridcolor\": \"white\", \"linecolor\": \"white\", \"ticks\": \"\"}, \"bgcolor\": \"#E5ECF6\", \"radialaxis\": {\"gridcolor\": \"white\", \"linecolor\": \"white\", \"ticks\": \"\"}}, \"scene\": {\"xaxis\": {\"backgroundcolor\": \"#E5ECF6\", \"gridcolor\": \"white\", \"gridwidth\": 2, \"linecolor\": \"white\", \"showbackground\": true, \"ticks\": \"\", \"zerolinecolor\": \"white\"}, \"yaxis\": {\"backgroundcolor\": \"#E5ECF6\", \"gridcolor\": \"white\", \"gridwidth\": 2, \"linecolor\": \"white\", \"showbackground\": true, \"ticks\": \"\", \"zerolinecolor\": \"white\"}, \"zaxis\": {\"backgroundcolor\": \"#E5ECF6\", \"gridcolor\": \"white\", \"gridwidth\": 2, \"linecolor\": \"white\", \"showbackground\": true, \"ticks\": \"\", \"zerolinecolor\": \"white\"}}, \"shapedefaults\": {\"line\": {\"color\": \"#2a3f5f\"}}, \"ternary\": {\"aaxis\": {\"gridcolor\": \"white\", \"linecolor\": \"white\", \"ticks\": \"\"}, \"baxis\": {\"gridcolor\": \"white\", \"linecolor\": \"white\", \"ticks\": \"\"}, \"bgcolor\": \"#E5ECF6\", \"caxis\": {\"gridcolor\": \"white\", \"linecolor\": \"white\", \"ticks\": \"\"}}, \"title\": {\"x\": 0.05}, \"xaxis\": {\"automargin\": true, \"gridcolor\": \"white\", \"linecolor\": \"white\", \"ticks\": \"\", \"title\": {\"standoff\": 15}, \"zerolinecolor\": \"white\", \"zerolinewidth\": 2}, \"yaxis\": {\"automargin\": true, \"gridcolor\": \"white\", \"linecolor\": \"white\", \"ticks\": \"\", \"title\": {\"standoff\": 15}, \"zerolinecolor\": \"white\", \"zerolinewidth\": 2}}}, \"title\": {\"text\": \"COVID-19 - Casos confirmados - 08-04-2020 \\n Escala aritm\\u00e9tica\"}, \"xaxis\": {\"anchor\": \"y\", \"domain\": [0.0, 1.0], \"title\": {\"text\": \"Dias desde o caso n\\u00famero 50\"}}, \"yaxis\": {\"anchor\": \"x\", \"domain\": [0.0, 1.0], \"title\": {\"text\": \"Casos acumulados\"}}},\n",
              "                        {\"responsive\": true}\n",
              "                    ).then(function(){\n",
              "                            \n",
              "var gd = document.getElementById('bc3c2929-af2e-4c7d-9034-e4da9490e0e0');\n",
              "var x = new MutationObserver(function (mutations, observer) {{\n",
              "        var display = window.getComputedStyle(gd).display;\n",
              "        if (!display || display === 'none') {{\n",
              "            console.log([gd, 'removed!']);\n",
              "            Plotly.purge(gd);\n",
              "            observer.disconnect();\n",
              "        }}\n",
              "}});\n",
              "\n",
              "// Listen for the removal of the full notebook cells\n",
              "var notebookContainer = gd.closest('#notebook-container');\n",
              "if (notebookContainer) {{\n",
              "    x.observe(notebookContainer, {childList: true});\n",
              "}}\n",
              "\n",
              "// Listen for the clearing of the current output cell\n",
              "var outputEl = gd.closest('.output');\n",
              "if (outputEl) {{\n",
              "    x.observe(outputEl, {childList: true});\n",
              "}}\n",
              "\n",
              "                        })\n",
              "                };\n",
              "                \n",
              "            </script>\n",
              "        </div>\n",
              "</body>\n",
              "</html>"
            ]
          },
          "metadata": {
            "tags": []
          }
        }
      ]
    },
    {
      "cell_type": "code",
      "metadata": {
        "colab_type": "code",
        "id": "cYkkCCpLYM1J",
        "outputId": "bb7de28a-7db9-4329-8022-d5cdc6057049",
        "colab": {
          "base_uri": "https://localhost:8080/",
          "height": 542
        }
      },
      "source": [
        "#hide_input\n",
        "\n",
        "fig = px.line(final_data, x=\"Dias desde o caso número 50\", y=\"Casos acumulados\", title='COVID-19 - Casos totais confirmados - {} \\n Escala Logarítmica'.format(today),\n",
        "              color='Países e territórios',color_discrete_sequence=[\"black\", \"blue\",'green',\"darkmagenta\",\"gray\",\"brown\",\"orange\",\"magenta\",'red',\"darkblue\",\"lightgreen\",'coral','lightblue'])\n",
        "fig.update_layout(legend= {'title':'País','borderwidth':0,'orientation':'v','yanchor':'top','font':{'size':8}})\n",
        "\n",
        "fig.update_layout( yaxis_type=\"log\")\n",
        "fig.show()"
      ],
      "execution_count": 35,
      "outputs": [
        {
          "output_type": "display_data",
          "data": {
            "text/html": [
              "<html>\n",
              "<head><meta charset=\"utf-8\" /></head>\n",
              "<body>\n",
              "    <div>\n",
              "            <script src=\"https://cdnjs.cloudflare.com/ajax/libs/mathjax/2.7.5/MathJax.js?config=TeX-AMS-MML_SVG\"></script><script type=\"text/javascript\">if (window.MathJax) {MathJax.Hub.Config({SVG: {font: \"STIX-Web\"}});}</script>\n",
              "                <script type=\"text/javascript\">window.PlotlyConfig = {MathJaxConfig: 'local'};</script>\n",
              "        <script src=\"https://cdn.plot.ly/plotly-latest.min.js\"></script>    \n",
              "            <div id=\"5c9abcd0-bb3a-427a-bd8a-c71a1147f06f\" class=\"plotly-graph-div\" style=\"height:525px; width:100%;\"></div>\n",
              "            <script type=\"text/javascript\">\n",
              "                \n",
              "                    window.PLOTLYENV=window.PLOTLYENV || {};\n",
              "                    \n",
              "                if (document.getElementById(\"5c9abcd0-bb3a-427a-bd8a-c71a1147f06f\")) {\n",
              "                    Plotly.newPlot(\n",
              "                        '5c9abcd0-bb3a-427a-bd8a-c71a1147f06f',\n",
              "                        [{\"hovertemplate\": \"Pa\\u00edses e territ\\u00f3rios=Brazil<br>Dias desde o caso n\\u00famero 50=%{x}<br>Casos acumulados=%{y}<extra></extra>\", \"legendgroup\": \"Brazil\", \"line\": {\"color\": \"black\", \"dash\": \"solid\"}, \"mode\": \"lines\", \"name\": \"Brazil\", \"showlegend\": true, \"type\": \"scatter\", \"x\": [0, 1, 2, 3, 4, 5, 6, 7, 8, 9, 10, 11, 12, 13, 14, 15, 16, 17, 18, 19, 20, 21, 22, 23, 24, 25, 26, 27], \"xaxis\": \"x\", \"y\": [52, 77, 98, 121, 200, 234, 291, 428, 621, 904, 1128, 1546, 1891, 2201, 2433, 2915, 3417, 3904, 4256, 4579, 5717, 6836, 7910, 9056, 10278, 11130, 12056, 13717], \"yaxis\": \"y\"}, {\"hovertemplate\": \"Pa\\u00edses e territ\\u00f3rios=Italy<br>Dias desde o caso n\\u00famero 50=%{x}<br>Casos acumulados=%{y}<extra></extra>\", \"legendgroup\": \"Italy\", \"line\": {\"color\": \"blue\", \"dash\": \"solid\"}, \"mode\": \"lines\", \"name\": \"Italy\", \"showlegend\": true, \"type\": \"scatter\", \"x\": [0, 1, 2, 3, 4, 5, 6, 7, 8, 9, 10, 11, 12, 13, 14, 15, 16, 17, 18, 19, 20, 21, 22, 23, 24, 25, 26, 27, 28, 29, 30, 31, 32, 33, 34, 35, 36, 37, 38, 39, 40, 41, 42, 43, 44, 45], \"xaxis\": \"x\", \"y\": [79, 132, 229, 322, 400, 650, 888, 1128, 1689, 2036, 2502, 3089, 3858, 4636, 5883, 7375, 9172, 10149, 12462, 15113, 17660, 21157, 23980, 27980, 31506, 35713, 41035, 47021, 53578, 59138, 63927, 69176, 74386, 80539, 86498, 92472, 97689, 101739, 105792, 110574, 115242, 119827, 124632, 128948, 132547, 135586], \"yaxis\": \"y\"}, {\"hovertemplate\": \"Pa\\u00edses e territ\\u00f3rios=Japan<br>Dias desde o caso n\\u00famero 50=%{x}<br>Casos acumulados=%{y}<extra></extra>\", \"legendgroup\": \"Japan\", \"line\": {\"color\": \"green\", \"dash\": \"solid\"}, \"mode\": \"lines\", \"name\": \"Japan\", \"showlegend\": true, \"type\": \"scatter\", \"x\": [0, 1, 2, 3, 4, 5, 6, 7, 8, 9, 10, 11, 12, 13, 14, 15, 16, 17, 18, 19, 20, 21, 22, 23, 24, 25, 26, 27, 28, 29, 30, 31, 32, 33, 34, 35, 36, 37, 38, 39, 40, 41, 42, 43, 44, 45, 46, 47, 48, 49, 50, 51, 52], \"xaxis\": \"x\", \"y\": [52, 59, 59, 66, 84, 93, 105, 132, 144, 144, 164, 186, 210, 230, 239, 254, 254, 268, 317, 349, 408, 455, 488, 514, 568, 619, 675, 737, 780, 814, 824, 829, 873, 950, 1007, 1046, 1089, 1128, 1193, 1268, 1364, 1499, 1693, 1866, 1953, 1953, 2178, 2617, 2935, 3271, 3654, 3817, 3906], \"yaxis\": \"y\"}, {\"hovertemplate\": \"Pa\\u00edses e territ\\u00f3rios=United_Kingdom<br>Dias desde o caso n\\u00famero 50=%{x}<br>Casos acumulados=%{y}<extra></extra>\", \"legendgroup\": \"United_Kingdom\", \"line\": {\"color\": \"darkmagenta\", \"dash\": \"solid\"}, \"mode\": \"lines\", \"name\": \"United_Kingdom\", \"showlegend\": true, \"type\": \"scatter\", \"x\": [0, 1, 2, 3, 4, 5, 6, 7, 8, 9, 10, 11, 12, 13, 14, 15, 16, 17, 18, 19, 20, 21, 22, 23, 24, 25, 26, 27, 28, 29, 30, 31, 32, 33, 34, 35], \"xaxis\": \"x\", \"y\": [51, 85, 115, 163, 206, 273, 321, 373, 456, 590, 707, 1140, 1391, 1543, 1950, 2630, 3277, 3983, 5018, 5683, 6650, 8077, 9529, 11658, 14543, 17089, 19522, 22141, 25150, 29474, 33718, 38168, 41903, 47806, 51608, 55242], \"yaxis\": \"y\"}, {\"hovertemplate\": \"Pa\\u00edses e territ\\u00f3rios=United_States_of_America<br>Dias desde o caso n\\u00famero 50=%{x}<br>Casos acumulados=%{y}<extra></extra>\", \"legendgroup\": \"United_States_of_America\", \"line\": {\"color\": \"gray\", \"dash\": \"solid\"}, \"mode\": \"lines\", \"name\": \"United_States_of_America\", \"showlegend\": true, \"type\": \"scatter\", \"x\": [0, 1, 2, 3, 4, 5, 6, 7, 8, 9, 10, 11, 12, 13, 14, 15, 16, 17, 18, 19, 20, 21, 22, 23, 24, 25, 26, 27, 28, 29, 30, 31, 32, 33, 34, 35, 36, 37, 38, 39, 40, 41, 42, 43], \"xaxis\": \"x\", \"y\": [53, 53, 59, 60, 66, 69, 89, 103, 125, 159, 233, 338, 433, 554, 754, 1025, 1312, 1663, 2174, 2951, 3774, 4661, 6427, 9415, 14250, 19624, 26747, 35206, 46442, 55231, 69194, 85991, 104686, 124665, 143025, 164620, 189618, 216721, 245540, 277965, 312237, 337635, 368196, 398809], \"yaxis\": \"y\"}, {\"hovertemplate\": \"Pa\\u00edses e territ\\u00f3rios=France<br>Dias desde o caso n\\u00famero 50=%{x}<br>Casos acumulados=%{y}<extra></extra>\", \"legendgroup\": \"France\", \"line\": {\"color\": \"brown\", \"dash\": \"solid\"}, \"mode\": \"lines\", \"name\": \"France\", \"showlegend\": true, \"type\": \"scatter\", \"x\": [0, 1, 2, 3, 4, 5, 6, 7, 8, 9, 10, 11, 12, 13, 14, 15, 16, 17, 18, 19, 20, 21, 22, 23, 24, 25, 26, 27, 28, 29, 30, 31, 32, 33, 34, 35, 36, 37, 38, 39], \"xaxis\": \"x\", \"y\": [57, 100, 130, 178, 212, 285, 423, 613, 716, 1126, 1412, 1784, 2281, 2876, 3661, 4499, 5423, 6633, 7730, 9134, 10995, 12612, 14459, 16018, 19856, 22302, 25233, 29155, 32964, 37575, 40174, 44550, 52128, 56989, 59105, 64338, 68605, 70478, 74390, 78167], \"yaxis\": \"y\"}, {\"hovertemplate\": \"Pa\\u00edses e territ\\u00f3rios=South_Korea<br>Dias desde o caso n\\u00famero 50=%{x}<br>Casos acumulados=%{y}<extra></extra>\", \"legendgroup\": \"South_Korea\", \"line\": {\"color\": \"orange\", \"dash\": \"solid\"}, \"mode\": \"lines\", \"name\": \"South_Korea\", \"showlegend\": true, \"type\": \"scatter\", \"x\": [0, 1, 2, 3, 4, 5, 6, 7, 8, 9, 10, 11, 12, 13, 14, 15, 16, 17, 18, 19, 20, 21, 22, 23, 24, 25, 26, 27, 28, 29, 30, 31, 32, 33, 34, 35, 36, 37, 38, 39, 40, 41, 42, 43, 44, 45, 46, 47, 48], \"xaxis\": \"x\", \"y\": [80, 155, 345, 601, 762, 892, 1146, 1595, 2022, 2931, 3526, 4212, 4812, 5328, 5766, 6284, 6767, 7134, 7382, 7513, 7755, 7869, 7979, 8086, 8162, 8236, 8320, 8413, 8565, 8652, 8799, 8897, 8961, 9037, 9137, 9241, 9332, 9478, 9583, 9661, 9786, 9786, 9976, 10062, 10156, 10237, 10284, 10331, 10384], \"yaxis\": \"y\"}, {\"hovertemplate\": \"Pa\\u00edses e territ\\u00f3rios=Spain<br>Dias desde o caso n\\u00famero 50=%{x}<br>Casos acumulados=%{y}<extra></extra>\", \"legendgroup\": \"Spain\", \"line\": {\"color\": \"magenta\", \"dash\": \"solid\"}, \"mode\": \"lines\", \"name\": \"Spain\", \"showlegend\": true, \"type\": \"scatter\", \"x\": [0, 1, 2, 3, 4, 5, 6, 7, 8, 9, 10, 11, 12, 13, 14, 15, 16, 17, 18, 19, 20, 21, 22, 23, 24, 25, 26, 27, 28, 29, 30, 31, 32, 33, 34, 35, 36, 37, 38], \"xaxis\": \"x\", \"y\": [66, 83, 114, 151, 200, 261, 374, 430, 589, 1204, 1639, 2140, 3004, 4231, 5753, 7753, 9191, 11178, 13716, 17147, 19980, 24926, 28572, 33089, 39673, 47610, 56188, 64059, 72248, 78797, 85195, 94417, 102136, 110238, 117710, 124736, 130759, 135032, 140510], \"yaxis\": \"y\"}, {\"hovertemplate\": \"Pa\\u00edses e territ\\u00f3rios=Argentina<br>Dias desde o caso n\\u00famero 50=%{x}<br>Casos acumulados=%{y}<extra></extra>\", \"legendgroup\": \"Argentina\", \"line\": {\"color\": \"red\", \"dash\": \"solid\"}, \"mode\": \"lines\", \"name\": \"Argentina\", \"showlegend\": true, \"type\": \"scatter\", \"x\": [0, 1, 2, 3, 4, 5, 6, 7, 8, 9, 10, 11, 12, 13, 14, 15, 16, 17, 18, 19, 20, 21, 22, 23], \"xaxis\": \"x\", \"y\": [56, 65, 79, 97, 128, 158, 225, 266, 301, 387, 502, 589, 690, 745, 820, 966, 966, 1133, 1133, 1265, 1451, 1554, 1628, 1715], \"yaxis\": \"y\"}, {\"hovertemplate\": \"Pa\\u00edses e territ\\u00f3rios=India<br>Dias desde o caso n\\u00famero 50=%{x}<br>Casos acumulados=%{y}<extra></extra>\", \"legendgroup\": \"India\", \"line\": {\"color\": \"darkblue\", \"dash\": \"solid\"}, \"mode\": \"lines\", \"name\": \"India\", \"showlegend\": true, \"type\": \"scatter\", \"x\": [0, 1, 2, 3, 4, 5, 6, 7, 8, 9, 10, 11, 12, 13, 14, 15, 16, 17, 18, 19, 20, 21, 22, 23, 24, 25, 26, 27, 28], \"xaxis\": \"x\", \"y\": [50, 73, 75, 83, 90, 93, 125, 137, 165, 191, 231, 320, 439, 492, 562, 649, 724, 873, 979, 1071, 1251, 1397, 1965, 2301, 2902, 3374, 4067, 4421, 5194], \"yaxis\": \"y\"}, {\"hovertemplate\": \"Pa\\u00edses e territ\\u00f3rios=Mexico<br>Dias desde o caso n\\u00famero 50=%{x}<br>Casos acumulados=%{y}<extra></extra>\", \"legendgroup\": \"Mexico\", \"line\": {\"color\": \"lightgreen\", \"dash\": \"solid\"}, \"mode\": \"lines\", \"name\": \"Mexico\", \"showlegend\": true, \"type\": \"scatter\", \"x\": [0, 1, 2, 3, 4, 5, 6, 7, 8, 9, 10, 11, 12, 13, 14, 15, 16, 17, 18, 19, 20, 21, 22, 23], \"xaxis\": \"x\", \"y\": [53, 82, 93, 118, 164, 203, 251, 316, 367, 405, 475, 585, 717, 848, 993, 1094, 1215, 1378, 1510, 1688, 1890, 2143, 2439, 2785], \"yaxis\": \"y\"}, {\"hovertemplate\": \"Pa\\u00edses e territ\\u00f3rios=Germany<br>Dias desde o caso n\\u00famero 50=%{x}<br>Casos acumulados=%{y}<extra></extra>\", \"legendgroup\": \"Germany\", \"line\": {\"color\": \"coral\", \"dash\": \"solid\"}, \"mode\": \"lines\", \"name\": \"Germany\", \"showlegend\": true, \"type\": \"scatter\", \"x\": [0, 1, 2, 3, 4, 5, 6, 7, 8, 9, 10, 11, 12, 13, 14, 15, 16, 17, 18, 19, 20, 21, 22, 23, 24, 25, 26, 27, 28, 29, 30, 31, 32, 33, 34, 35, 36, 37, 38, 39], \"xaxis\": \"x\", \"y\": [57, 111, 129, 157, 196, 262, 400, 684, 847, 902, 1139, 1296, 1567, 2369, 3062, 3795, 4838, 6012, 7156, 8198, 14138, 18187, 21463, 24774, 29212, 31554, 36508, 42288, 48582, 52547, 57298, 61913, 67366, 73522, 79696, 85778, 91714, 95391, 99225, 103228], \"yaxis\": \"y\"}, {\"hovertemplate\": \"Pa\\u00edses e territ\\u00f3rios=Czechia<br>Dias desde o caso n\\u00famero 50=%{x}<br>Casos acumulados=%{y}<extra></extra>\", \"legendgroup\": \"Czechia\", \"line\": {\"color\": \"lightblue\", \"dash\": \"solid\"}, \"mode\": \"lines\", \"name\": \"Czechia\", \"showlegend\": true, \"type\": \"scatter\", \"x\": [0, 1, 2, 3, 4, 5, 6, 7, 8, 9, 10, 11, 12, 13, 14, 15, 16, 17, 18, 19, 20, 21, 22, 23, 24, 25, 26, 27, 28], \"xaxis\": \"x\", \"y\": [63, 94, 116, 150, 214, 298, 344, 434, 522, 694, 904, 995, 1165, 1236, 1394, 1654, 2062, 2279, 2663, 2829, 3002, 3308, 3589, 3858, 4190, 4472, 4587, 4822, 5017], \"yaxis\": \"y\"}, {\"hovertemplate\": \"Pa\\u00edses e territ\\u00f3rios=China<br>Dias desde o caso n\\u00famero 50=%{x}<br>Casos acumulados=%{y}<extra></extra>\", \"legendgroup\": \"China\", \"line\": {\"color\": \"black\", \"dash\": \"solid\"}, \"mode\": \"lines\", \"name\": \"China\", \"showlegend\": true, \"type\": \"scatter\", \"x\": [0, 1, 2, 3, 4, 5, 6, 7, 8, 9, 10, 11, 12, 13, 14, 15, 16, 17, 18, 19, 20, 21, 22, 23, 24, 25, 26, 27, 28, 29, 30, 31, 32, 33, 34, 35, 36, 37, 38, 39, 40, 41, 42, 43, 44, 45, 46, 47, 48, 49, 50, 51, 52, 53, 54, 55, 56, 57, 58, 59, 60, 61, 62, 63, 64, 65, 66, 67, 68, 69, 70, 71, 72, 73, 74, 75, 76, 77, 78, 79, 80, 81, 82, 83, 84, 85, 86, 87, 88, 89, 90, 91, 92, 93, 94], \"xaxis\": \"x\", \"y\": [59, 59, 59, 59, 59, 59, 59, 59, 59, 59, 59, 59, 63, 80, 216, 235, 386, 526, 623, 882, 1323, 1988, 2775, 4528, 5994, 7734, 9714, 11809, 14399, 17211, 20448, 24320, 28047, 31207, 34625, 37232, 40206, 42696, 44724, 59865, 64021, 66559, 68566, 70618, 72508, 74258, 74652, 75543, 76369, 77016, 77234, 77749, 78159, 78598, 78927, 79355, 79929, 80134, 80261, 80380, 80497, 80667, 80768, 80814, 80859, 80879, 80908, 80932, 80954, 80973, 80995, 81020, 81063, 81086, 81130, 81229, 81281, 81346, 81484, 81553, 81631, 81733, 81827, 81946, 82059, 82157, 82241, 82295, 82395, 82465, 82527, 82575, 82642, 82698, 82784], \"yaxis\": \"y\"}],\n",
              "                        {\"legend\": {\"borderwidth\": 0, \"font\": {\"size\": 8}, \"orientation\": \"v\", \"title\": {\"text\": \"Pa\\u00eds\"}, \"tracegroupgap\": 0, \"yanchor\": \"top\"}, \"template\": {\"data\": {\"bar\": [{\"error_x\": {\"color\": \"#2a3f5f\"}, \"error_y\": {\"color\": \"#2a3f5f\"}, \"marker\": {\"line\": {\"color\": \"#E5ECF6\", \"width\": 0.5}}, \"type\": \"bar\"}], \"barpolar\": [{\"marker\": {\"line\": {\"color\": \"#E5ECF6\", \"width\": 0.5}}, \"type\": \"barpolar\"}], \"carpet\": [{\"aaxis\": {\"endlinecolor\": \"#2a3f5f\", \"gridcolor\": \"white\", \"linecolor\": \"white\", \"minorgridcolor\": \"white\", \"startlinecolor\": \"#2a3f5f\"}, \"baxis\": {\"endlinecolor\": \"#2a3f5f\", \"gridcolor\": \"white\", \"linecolor\": \"white\", \"minorgridcolor\": \"white\", \"startlinecolor\": \"#2a3f5f\"}, \"type\": \"carpet\"}], \"choropleth\": [{\"colorbar\": {\"outlinewidth\": 0, \"ticks\": \"\"}, \"type\": \"choropleth\"}], \"contour\": [{\"colorbar\": {\"outlinewidth\": 0, \"ticks\": \"\"}, \"colorscale\": [[0.0, \"#0d0887\"], [0.1111111111111111, \"#46039f\"], [0.2222222222222222, \"#7201a8\"], [0.3333333333333333, \"#9c179e\"], [0.4444444444444444, \"#bd3786\"], [0.5555555555555556, \"#d8576b\"], [0.6666666666666666, \"#ed7953\"], [0.7777777777777778, \"#fb9f3a\"], [0.8888888888888888, \"#fdca26\"], [1.0, \"#f0f921\"]], \"type\": \"contour\"}], \"contourcarpet\": [{\"colorbar\": {\"outlinewidth\": 0, \"ticks\": \"\"}, \"type\": \"contourcarpet\"}], \"heatmap\": [{\"colorbar\": {\"outlinewidth\": 0, \"ticks\": \"\"}, \"colorscale\": [[0.0, \"#0d0887\"], [0.1111111111111111, \"#46039f\"], [0.2222222222222222, \"#7201a8\"], [0.3333333333333333, \"#9c179e\"], [0.4444444444444444, \"#bd3786\"], [0.5555555555555556, \"#d8576b\"], [0.6666666666666666, \"#ed7953\"], [0.7777777777777778, \"#fb9f3a\"], [0.8888888888888888, \"#fdca26\"], [1.0, \"#f0f921\"]], \"type\": \"heatmap\"}], \"heatmapgl\": [{\"colorbar\": {\"outlinewidth\": 0, \"ticks\": \"\"}, \"colorscale\": [[0.0, \"#0d0887\"], [0.1111111111111111, \"#46039f\"], [0.2222222222222222, \"#7201a8\"], [0.3333333333333333, \"#9c179e\"], [0.4444444444444444, \"#bd3786\"], [0.5555555555555556, \"#d8576b\"], [0.6666666666666666, \"#ed7953\"], [0.7777777777777778, \"#fb9f3a\"], [0.8888888888888888, \"#fdca26\"], [1.0, \"#f0f921\"]], \"type\": \"heatmapgl\"}], \"histogram\": [{\"marker\": {\"colorbar\": {\"outlinewidth\": 0, \"ticks\": \"\"}}, \"type\": \"histogram\"}], \"histogram2d\": [{\"colorbar\": {\"outlinewidth\": 0, \"ticks\": \"\"}, \"colorscale\": [[0.0, \"#0d0887\"], [0.1111111111111111, \"#46039f\"], [0.2222222222222222, \"#7201a8\"], [0.3333333333333333, \"#9c179e\"], [0.4444444444444444, \"#bd3786\"], [0.5555555555555556, \"#d8576b\"], [0.6666666666666666, \"#ed7953\"], [0.7777777777777778, \"#fb9f3a\"], [0.8888888888888888, \"#fdca26\"], [1.0, \"#f0f921\"]], \"type\": \"histogram2d\"}], \"histogram2dcontour\": [{\"colorbar\": {\"outlinewidth\": 0, \"ticks\": \"\"}, \"colorscale\": [[0.0, \"#0d0887\"], [0.1111111111111111, \"#46039f\"], [0.2222222222222222, \"#7201a8\"], [0.3333333333333333, \"#9c179e\"], [0.4444444444444444, \"#bd3786\"], [0.5555555555555556, \"#d8576b\"], [0.6666666666666666, \"#ed7953\"], [0.7777777777777778, \"#fb9f3a\"], [0.8888888888888888, \"#fdca26\"], [1.0, \"#f0f921\"]], \"type\": \"histogram2dcontour\"}], \"mesh3d\": [{\"colorbar\": {\"outlinewidth\": 0, \"ticks\": \"\"}, \"type\": \"mesh3d\"}], \"parcoords\": [{\"line\": {\"colorbar\": {\"outlinewidth\": 0, \"ticks\": \"\"}}, \"type\": \"parcoords\"}], \"pie\": [{\"automargin\": true, \"type\": \"pie\"}], \"scatter\": [{\"marker\": {\"colorbar\": {\"outlinewidth\": 0, \"ticks\": \"\"}}, \"type\": \"scatter\"}], \"scatter3d\": [{\"line\": {\"colorbar\": {\"outlinewidth\": 0, \"ticks\": \"\"}}, \"marker\": {\"colorbar\": {\"outlinewidth\": 0, \"ticks\": \"\"}}, \"type\": \"scatter3d\"}], \"scattercarpet\": [{\"marker\": {\"colorbar\": {\"outlinewidth\": 0, \"ticks\": \"\"}}, \"type\": \"scattercarpet\"}], \"scattergeo\": [{\"marker\": {\"colorbar\": {\"outlinewidth\": 0, \"ticks\": \"\"}}, \"type\": \"scattergeo\"}], \"scattergl\": [{\"marker\": {\"colorbar\": {\"outlinewidth\": 0, \"ticks\": \"\"}}, \"type\": \"scattergl\"}], \"scattermapbox\": [{\"marker\": {\"colorbar\": {\"outlinewidth\": 0, \"ticks\": \"\"}}, \"type\": \"scattermapbox\"}], \"scatterpolar\": [{\"marker\": {\"colorbar\": {\"outlinewidth\": 0, \"ticks\": \"\"}}, \"type\": \"scatterpolar\"}], \"scatterpolargl\": [{\"marker\": {\"colorbar\": {\"outlinewidth\": 0, \"ticks\": \"\"}}, \"type\": \"scatterpolargl\"}], \"scatterternary\": [{\"marker\": {\"colorbar\": {\"outlinewidth\": 0, \"ticks\": \"\"}}, \"type\": \"scatterternary\"}], \"surface\": [{\"colorbar\": {\"outlinewidth\": 0, \"ticks\": \"\"}, \"colorscale\": [[0.0, \"#0d0887\"], [0.1111111111111111, \"#46039f\"], [0.2222222222222222, \"#7201a8\"], [0.3333333333333333, \"#9c179e\"], [0.4444444444444444, \"#bd3786\"], [0.5555555555555556, \"#d8576b\"], [0.6666666666666666, \"#ed7953\"], [0.7777777777777778, \"#fb9f3a\"], [0.8888888888888888, \"#fdca26\"], [1.0, \"#f0f921\"]], \"type\": \"surface\"}], \"table\": [{\"cells\": {\"fill\": {\"color\": \"#EBF0F8\"}, \"line\": {\"color\": \"white\"}}, \"header\": {\"fill\": {\"color\": \"#C8D4E3\"}, \"line\": {\"color\": \"white\"}}, \"type\": \"table\"}]}, \"layout\": {\"annotationdefaults\": {\"arrowcolor\": \"#2a3f5f\", \"arrowhead\": 0, \"arrowwidth\": 1}, \"coloraxis\": {\"colorbar\": {\"outlinewidth\": 0, \"ticks\": \"\"}}, \"colorscale\": {\"diverging\": [[0, \"#8e0152\"], [0.1, \"#c51b7d\"], [0.2, \"#de77ae\"], [0.3, \"#f1b6da\"], [0.4, \"#fde0ef\"], [0.5, \"#f7f7f7\"], [0.6, \"#e6f5d0\"], [0.7, \"#b8e186\"], [0.8, \"#7fbc41\"], [0.9, \"#4d9221\"], [1, \"#276419\"]], \"sequential\": [[0.0, \"#0d0887\"], [0.1111111111111111, \"#46039f\"], [0.2222222222222222, \"#7201a8\"], [0.3333333333333333, \"#9c179e\"], [0.4444444444444444, \"#bd3786\"], [0.5555555555555556, \"#d8576b\"], [0.6666666666666666, \"#ed7953\"], [0.7777777777777778, \"#fb9f3a\"], [0.8888888888888888, \"#fdca26\"], [1.0, \"#f0f921\"]], \"sequentialminus\": [[0.0, \"#0d0887\"], [0.1111111111111111, \"#46039f\"], [0.2222222222222222, \"#7201a8\"], [0.3333333333333333, \"#9c179e\"], [0.4444444444444444, \"#bd3786\"], [0.5555555555555556, \"#d8576b\"], [0.6666666666666666, \"#ed7953\"], [0.7777777777777778, \"#fb9f3a\"], [0.8888888888888888, \"#fdca26\"], [1.0, \"#f0f921\"]]}, \"colorway\": [\"#636efa\", \"#EF553B\", \"#00cc96\", \"#ab63fa\", \"#FFA15A\", \"#19d3f3\", \"#FF6692\", \"#B6E880\", \"#FF97FF\", \"#FECB52\"], \"font\": {\"color\": \"#2a3f5f\"}, \"geo\": {\"bgcolor\": \"white\", \"lakecolor\": \"white\", \"landcolor\": \"#E5ECF6\", \"showlakes\": true, \"showland\": true, \"subunitcolor\": \"white\"}, \"hoverlabel\": {\"align\": \"left\"}, \"hovermode\": \"closest\", \"mapbox\": {\"style\": \"light\"}, \"paper_bgcolor\": \"white\", \"plot_bgcolor\": \"#E5ECF6\", \"polar\": {\"angularaxis\": {\"gridcolor\": \"white\", \"linecolor\": \"white\", \"ticks\": \"\"}, \"bgcolor\": \"#E5ECF6\", \"radialaxis\": {\"gridcolor\": \"white\", \"linecolor\": \"white\", \"ticks\": \"\"}}, \"scene\": {\"xaxis\": {\"backgroundcolor\": \"#E5ECF6\", \"gridcolor\": \"white\", \"gridwidth\": 2, \"linecolor\": \"white\", \"showbackground\": true, \"ticks\": \"\", \"zerolinecolor\": \"white\"}, \"yaxis\": {\"backgroundcolor\": \"#E5ECF6\", \"gridcolor\": \"white\", \"gridwidth\": 2, \"linecolor\": \"white\", \"showbackground\": true, \"ticks\": \"\", \"zerolinecolor\": \"white\"}, \"zaxis\": {\"backgroundcolor\": \"#E5ECF6\", \"gridcolor\": \"white\", \"gridwidth\": 2, \"linecolor\": \"white\", \"showbackground\": true, \"ticks\": \"\", \"zerolinecolor\": \"white\"}}, \"shapedefaults\": {\"line\": {\"color\": \"#2a3f5f\"}}, \"ternary\": {\"aaxis\": {\"gridcolor\": \"white\", \"linecolor\": \"white\", \"ticks\": \"\"}, \"baxis\": {\"gridcolor\": \"white\", \"linecolor\": \"white\", \"ticks\": \"\"}, \"bgcolor\": \"#E5ECF6\", \"caxis\": {\"gridcolor\": \"white\", \"linecolor\": \"white\", \"ticks\": \"\"}}, \"title\": {\"x\": 0.05}, \"xaxis\": {\"automargin\": true, \"gridcolor\": \"white\", \"linecolor\": \"white\", \"ticks\": \"\", \"title\": {\"standoff\": 15}, \"zerolinecolor\": \"white\", \"zerolinewidth\": 2}, \"yaxis\": {\"automargin\": true, \"gridcolor\": \"white\", \"linecolor\": \"white\", \"ticks\": \"\", \"title\": {\"standoff\": 15}, \"zerolinecolor\": \"white\", \"zerolinewidth\": 2}}}, \"title\": {\"text\": \"COVID-19 - Casos totais confirmados - 08-04-2020 \\n Escala Logar\\u00edtmica\"}, \"xaxis\": {\"anchor\": \"y\", \"domain\": [0.0, 1.0], \"title\": {\"text\": \"Dias desde o caso n\\u00famero 50\"}}, \"yaxis\": {\"anchor\": \"x\", \"domain\": [0.0, 1.0], \"title\": {\"text\": \"Casos acumulados\"}, \"type\": \"log\"}},\n",
              "                        {\"responsive\": true}\n",
              "                    ).then(function(){\n",
              "                            \n",
              "var gd = document.getElementById('5c9abcd0-bb3a-427a-bd8a-c71a1147f06f');\n",
              "var x = new MutationObserver(function (mutations, observer) {{\n",
              "        var display = window.getComputedStyle(gd).display;\n",
              "        if (!display || display === 'none') {{\n",
              "            console.log([gd, 'removed!']);\n",
              "            Plotly.purge(gd);\n",
              "            observer.disconnect();\n",
              "        }}\n",
              "}});\n",
              "\n",
              "// Listen for the removal of the full notebook cells\n",
              "var notebookContainer = gd.closest('#notebook-container');\n",
              "if (notebookContainer) {{\n",
              "    x.observe(notebookContainer, {childList: true});\n",
              "}}\n",
              "\n",
              "// Listen for the clearing of the current output cell\n",
              "var outputEl = gd.closest('.output');\n",
              "if (outputEl) {{\n",
              "    x.observe(outputEl, {childList: true});\n",
              "}}\n",
              "\n",
              "                        })\n",
              "                };\n",
              "                \n",
              "            </script>\n",
              "        </div>\n",
              "</body>\n",
              "</html>"
            ]
          },
          "metadata": {
            "tags": []
          }
        }
      ]
    },
    {
      "cell_type": "markdown",
      "metadata": {
        "id": "1pR_Low5TqS9",
        "colab_type": "text"
      },
      "source": [
        "<center> <h2> Contaminação Relativa </h2> </center>\n",
        "\n"
      ]
    },
    {
      "cell_type": "markdown",
      "metadata": {
        "id": "BGsl_L9-sQJl",
        "colab_type": "text"
      },
      "source": [
        "Essa seção conta com gráficos em que o número de casos é dívidido pela população dos países para que se tenha uma ideia da proporção de infectados por país."
      ]
    },
    {
      "cell_type": "code",
      "metadata": {
        "id": "LvdcRZ4RTqTC",
        "colab_type": "code",
        "outputId": "7d8743d5-841d-4a11-a175-f2cc82511f98",
        "colab": {
          "base_uri": "https://localhost:8080/",
          "height": 542
        }
      },
      "source": [
        "#hide_input\n",
        "\n",
        "fig = px.line(final_data, x=\"Dias desde o caso número 50\", y=\"Relativa\", title='COVID-19 - Contaminação relativa  {} \\nCasos a cada 10 mil habitantes - E. Aritmética' .format(today),\n",
        "              color='Países e territórios',color_discrete_sequence=[\"black\", \"blue\",'green',\"darkmagenta\",\"gray\",\"brown\",\"orange\",\"magenta\",'red',\"darkblue\",\"lightgreen\",'coral','lightblue'])\n",
        "fig.update_layout(legend= {'title':'País','borderwidth':0,'orientation':'v','yanchor':'top','font':{'size':8}})\n",
        "\n",
        "fig.update_layout()\n",
        "fig.show()"
      ],
      "execution_count": 36,
      "outputs": [
        {
          "output_type": "display_data",
          "data": {
            "text/html": [
              "<html>\n",
              "<head><meta charset=\"utf-8\" /></head>\n",
              "<body>\n",
              "    <div>\n",
              "            <script src=\"https://cdnjs.cloudflare.com/ajax/libs/mathjax/2.7.5/MathJax.js?config=TeX-AMS-MML_SVG\"></script><script type=\"text/javascript\">if (window.MathJax) {MathJax.Hub.Config({SVG: {font: \"STIX-Web\"}});}</script>\n",
              "                <script type=\"text/javascript\">window.PlotlyConfig = {MathJaxConfig: 'local'};</script>\n",
              "        <script src=\"https://cdn.plot.ly/plotly-latest.min.js\"></script>    \n",
              "            <div id=\"f6afbfc9-e855-47ea-b4c1-5db23a68b169\" class=\"plotly-graph-div\" style=\"height:525px; width:100%;\"></div>\n",
              "            <script type=\"text/javascript\">\n",
              "                \n",
              "                    window.PLOTLYENV=window.PLOTLYENV || {};\n",
              "                    \n",
              "                if (document.getElementById(\"f6afbfc9-e855-47ea-b4c1-5db23a68b169\")) {\n",
              "                    Plotly.newPlot(\n",
              "                        'f6afbfc9-e855-47ea-b4c1-5db23a68b169',\n",
              "                        [{\"hovertemplate\": \"Pa\\u00edses e territ\\u00f3rios=Brazil<br>Dias desde o caso n\\u00famero 50=%{x}<br>Relativa=%{y}<extra></extra>\", \"legendgroup\": \"Brazil\", \"line\": {\"color\": \"black\", \"dash\": \"solid\"}, \"mode\": \"lines\", \"name\": \"Brazil\", \"showlegend\": true, \"type\": \"scatter\", \"x\": [0, 1, 2, 3, 4, 5, 6, 7, 8, 9, 10, 11, 12, 13, 14, 15, 16, 17, 18, 19, 20, 21, 22, 23, 24, 25, 26, 27], \"xaxis\": \"x\", \"y\": [0.002484472049689441, 0.0036789297658862876, 0.0046822742474916385, 0.005781175346392738, 0.009555661729574774, 0.011180124223602485, 0.013903487816531295, 0.020449116101290014, 0.02967032967032967, 0.04319159101767797, 0.05389393215480172, 0.07386526516961299, 0.09034878165312948, 0.10516005733397038, 0.11624462494027711, 0.13927376970855232, 0.163258480649785, 0.18652651696129957, 0.20334448160535118, 0.21877687529861442, 0.2731485905398949, 0.32661251791686574, 0.3779264214046823, 0.43268036311514574, 0.4910654562828476, 0.5317725752508361, 0.5760152890587673, 0.6553750597228858], \"yaxis\": \"y\"}, {\"hovertemplate\": \"Pa\\u00edses e territ\\u00f3rios=Italy<br>Dias desde o caso n\\u00famero 50=%{x}<br>Relativa=%{y}<extra></extra>\", \"legendgroup\": \"Italy\", \"line\": {\"color\": \"blue\", \"dash\": \"solid\"}, \"mode\": \"lines\", \"name\": \"Italy\", \"showlegend\": true, \"type\": \"scatter\", \"x\": [0, 1, 2, 3, 4, 5, 6, 7, 8, 9, 10, 11, 12, 13, 14, 15, 16, 17, 18, 19, 20, 21, 22, 23, 24, 25, 26, 27, 28, 29, 30, 31, 32, 33, 34, 35, 36, 37, 38, 39, 40, 41, 42, 43, 44, 45], \"xaxis\": \"x\", \"y\": [0.013038455190625516, 0.021785773229905925, 0.03779501567915498, 0.05314408318204324, 0.06601749463607856, 0.10727842878362766, 0.1465588380920944, 0.18616933487374154, 0.27875887110084174, 0.33602904769763986, 0.4129394289486714, 0.5098201023271167, 0.6367387357649777, 0.7651427628321505, 0.9709523023601254, 1.2171975573526985, 1.5137811520052813, 1.6750288826539033, 2.0567750453870275, 2.4943059910876384, 2.9146723881828684, 3.4918303350387854, 3.9577488034329096, 4.617923749793695, 5.199867965010728, 5.894206964845684, 6.772569730978709, 7.760521538207625, 8.842713319029542, 9.760356494471035, 10.550750949001486, 11.417065522363426, 12.27694338999835, 13.292457501237829, 14.27595312757881, 15.26192440996864, 16.122957583759696, 16.79138471694999, 17.460306981350058, 18.249546129724376, 19.019970292127415, 19.776695824393464, 20.56973097870936, 21.282059745832644, 21.876052153820762, 22.377620069318368], \"yaxis\": \"y\"}, {\"hovertemplate\": \"Pa\\u00edses e territ\\u00f3rios=Japan<br>Dias desde o caso n\\u00famero 50=%{x}<br>Relativa=%{y}<extra></extra>\", \"legendgroup\": \"Japan\", \"line\": {\"color\": \"green\", \"dash\": \"solid\"}, \"mode\": \"lines\", \"name\": \"Japan\", \"showlegend\": true, \"type\": \"scatter\", \"x\": [0, 1, 2, 3, 4, 5, 6, 7, 8, 9, 10, 11, 12, 13, 14, 15, 16, 17, 18, 19, 20, 21, 22, 23, 24, 25, 26, 27, 28, 29, 30, 31, 32, 33, 34, 35, 36, 37, 38, 39, 40, 41, 42, 43, 44, 45, 46, 47, 48, 49, 50, 51, 52], \"xaxis\": \"x\", \"y\": [0.004100946372239748, 0.004652996845425868, 0.004652996845425868, 0.0052050473186119875, 0.006624605678233439, 0.007334384858044164, 0.008280757097791799, 0.010410094637223975, 0.011356466876971609, 0.011356466876971609, 0.012933753943217666, 0.014668769716088327, 0.016561514195583597, 0.018138801261829655, 0.018848580441640377, 0.02003154574132492, 0.02003154574132492, 0.02113564668769716, 0.025, 0.02752365930599369, 0.032176656151419555, 0.03588328075709779, 0.038485804416403785, 0.04053627760252366, 0.044794952681388014, 0.04881703470031546, 0.05323343848580442, 0.05812302839116719, 0.061514195583596214, 0.06419558359621451, 0.06498422712933755, 0.06537854889589906, 0.06884858044164038, 0.0749211356466877, 0.07941640378548896, 0.08249211356466878, 0.0858832807570978, 0.08895899053627761, 0.09408517350157729, 0.1, 0.10757097791798108, 0.11821766561514195, 0.1335173501577287, 0.1471608832807571, 0.15402208201892745, 0.15402208201892745, 0.1717665615141956, 0.20638801261829653, 0.23146687697160884, 0.25796529968454257, 0.2881703470031546, 0.30102523659305996, 0.3080441640378549], \"yaxis\": \"y\"}, {\"hovertemplate\": \"Pa\\u00edses e territ\\u00f3rios=United_Kingdom<br>Dias desde o caso n\\u00famero 50=%{x}<br>Relativa=%{y}<extra></extra>\", \"legendgroup\": \"United_Kingdom\", \"line\": {\"color\": \"darkmagenta\", \"dash\": \"solid\"}, \"mode\": \"lines\", \"name\": \"United_Kingdom\", \"showlegend\": true, \"type\": \"scatter\", \"x\": [0, 1, 2, 3, 4, 5, 6, 7, 8, 9, 10, 11, 12, 13, 14, 15, 16, 17, 18, 19, 20, 21, 22, 23, 24, 25, 26, 27, 28, 29, 30, 31, 32, 33, 34, 35], \"xaxis\": \"x\", \"y\": [0.007722592368261659, 0.0128709872804361, 0.017413688673531193, 0.024682010902483342, 0.03119321623258631, 0.04133858267716536, 0.04860690490611751, 0.056480920654149, 0.06904906117504543, 0.08933979406420352, 0.10705632949727438, 0.17262265293761356, 0.2106299212598425, 0.23364627498485765, 0.2952755905511811, 0.3982434887946699, 0.49621441550575407, 0.6031193216232587, 0.7598425196850394, 0.8605390672319806, 1.0069654754694124, 1.223046638400969, 1.4429133858267718, 1.7652937613567534, 2.202150211992732, 2.5876741368867355, 2.9560872198667476, 3.352665051483949, 3.808298001211387, 4.46305269533616, 5.105693519079346, 5.7795275590551185, 6.3450938824954575, 7.238946093276802, 7.81465778316172, 8.364930345245305], \"yaxis\": \"y\"}, {\"hovertemplate\": \"Pa\\u00edses e territ\\u00f3rios=United_States_of_America<br>Dias desde o caso n\\u00famero 50=%{x}<br>Relativa=%{y}<extra></extra>\", \"legendgroup\": \"United_States_of_America\", \"line\": {\"color\": \"gray\", \"dash\": \"solid\"}, \"mode\": \"lines\", \"name\": \"United_States_of_America\", \"showlegend\": true, \"type\": \"scatter\", \"x\": [0, 1, 2, 3, 4, 5, 6, 7, 8, 9, 10, 11, 12, 13, 14, 15, 16, 17, 18, 19, 20, 21, 22, 23, 24, 25, 26, 27, 28, 29, 30, 31, 32, 33, 34, 35, 36, 37, 38, 39, 40, 41, 42, 43], \"xaxis\": \"x\", \"y\": [0.0016272643536997236, 0.0016272643536997236, 0.0018114829597789376, 0.00184218606079214, 0.002026404666871354, 0.002118513969910961, 0.0027325759901750076, 0.0031624194043598404, 0.003837887626650292, 0.004881793061099171, 0.007153822536076143, 0.010377648142462389, 0.01329444273871661, 0.017009517961314093, 0.02315013816395456, 0.031470678538532394, 0.040282468529321463, 0.05105925698495548, 0.06674854160270187, 0.09060485108996008, 0.1158735032238256, 0.14310715382253608, 0.1973288302118514, 0.2890696960393, 0.4375191894381332, 0.6025176542830826, 0.8212158428001228, 1.0809333742708014, 1.4259134172551429, 1.6957629720601781, 2.124470371507522, 2.6401903592262816, 3.2141848326680993, 3.827602087810869, 4.391311022413264, 5.054344488793368, 5.8218606079214, 6.654006754682223, 7.538839422781701, 8.534387473134787, 9.586644151059257, 10.36644151059257, 11.304758980657047, 12.244673011974209], \"yaxis\": \"y\"}, {\"hovertemplate\": \"Pa\\u00edses e territ\\u00f3rios=France<br>Dias desde o caso n\\u00famero 50=%{x}<br>Relativa=%{y}<extra></extra>\", \"legendgroup\": \"France\", \"line\": {\"color\": \"brown\", \"dash\": \"solid\"}, \"mode\": \"lines\", \"name\": \"France\", \"showlegend\": true, \"type\": \"scatter\", \"x\": [0, 1, 2, 3, 4, 5, 6, 7, 8, 9, 10, 11, 12, 13, 14, 15, 16, 17, 18, 19, 20, 21, 22, 23, 24, 25, 26, 27, 28, 29, 30, 31, 32, 33, 34, 35, 36, 37, 38, 39], \"xaxis\": \"x\", \"y\": [0.008536768009585144, 0.014976785981728321, 0.01946982177624682, 0.026658679047476413, 0.03175078628126404, 0.04268384004792571, 0.0633518047027108, 0.0918076980679946, 0.10723378762917478, 0.1686386101542609, 0.2114722180620039, 0.26718586191403326, 0.341620488243223, 0.4307323648345065, 0.5483001347910739, 0.6738056013179572, 0.8121911037891268, 0.9934102141680395, 1.1577055563875993, 1.3679796315710648, 1.646697618691029, 1.888872248015576, 2.165493485098098, 2.3989815785532427, 2.9737906245319756, 3.34012280964505, 3.7790924067695073, 4.366481952972892, 4.936947731016923, 5.627527332634417, 6.016774000299535, 6.672158154859967, 7.8070989965553395, 8.535120563127153, 8.852029354500525, 9.635764564924367, 10.274824022764715, 10.555339224202486, 11.141231091807699, 11.706904298337577], \"yaxis\": \"y\"}, {\"hovertemplate\": \"Pa\\u00edses e territ\\u00f3rios=South_Korea<br>Dias desde o caso n\\u00famero 50=%{x}<br>Relativa=%{y}<extra></extra>\", \"legendgroup\": \"South_Korea\", \"line\": {\"color\": \"orange\", \"dash\": \"solid\"}, \"mode\": \"lines\", \"name\": \"South_Korea\", \"showlegend\": true, \"type\": \"scatter\", \"x\": [0, 1, 2, 3, 4, 5, 6, 7, 8, 9, 10, 11, 12, 13, 14, 15, 16, 17, 18, 19, 20, 21, 22, 23, 24, 25, 26, 27, 28, 29, 30, 31, 32, 33, 34, 35, 36, 37, 38, 39, 40, 41, 42, 43, 44, 45, 46, 47, 48], \"xaxis\": \"x\", \"y\": [0.015543034777540314, 0.030114629881484358, 0.0670293374781426, 0.11676704876627161, 0.1480474062560715, 0.1733048377695745, 0.22265397318826502, 0.30988925587721, 0.39285020400233145, 0.5694579366621333, 0.6850592578200894, 0.8183407810374975, 0.93491354186905, 1.035166116184185, 1.1202642315912181, 1.2209053817757918, 1.3147464542451914, 1.3860501262871576, 1.4342335340975325, 1.4596852535457547, 1.5067029337478142, 1.5288517583058092, 1.5502234311249272, 1.5710122401398874, 1.5857781231785506, 1.6001554303477754, 1.6164756168641927, 1.6345443947930833, 1.66407616087041, 1.6809792111909851, 1.7095395375947153, 1.7285797551972022, 1.7410141830192345, 1.7557800660578977, 1.7752088595298232, 1.7954148047406255, 1.8130950068000777, 1.8414610452690887, 1.8618612784146105, 1.8770157373227123, 1.901301729162619, 1.901301729162619, 1.9382164367592774, 1.954925199145133, 1.973188265008743, 1.9889255877210026, 1.9980571206528075, 2.0071886535846124, 2.017485914124733], \"yaxis\": \"y\"}, {\"hovertemplate\": \"Pa\\u00edses e territ\\u00f3rios=Spain<br>Dias desde o caso n\\u00famero 50=%{x}<br>Relativa=%{y}<extra></extra>\", \"legendgroup\": \"Spain\", \"line\": {\"color\": \"magenta\", \"dash\": \"solid\"}, \"mode\": \"lines\", \"name\": \"Spain\", \"showlegend\": true, \"type\": \"scatter\", \"x\": [0, 1, 2, 3, 4, 5, 6, 7, 8, 9, 10, 11, 12, 13, 14, 15, 16, 17, 18, 19, 20, 21, 22, 23, 24, 25, 26, 27, 28, 29, 30, 31, 32, 33, 34, 35, 36, 37, 38], \"xaxis\": \"x\", \"y\": [0.014184397163120567, 0.017837954008166772, 0.024500322372662798, 0.032452181388351604, 0.04298302170642596, 0.05609284332688588, 0.08037825059101655, 0.09241349666881582, 0.12658499892542446, 0.2587577906726843, 0.35224586288416077, 0.4599183322587578, 0.645604986030518, 0.9093058241994412, 1.2364066193853427, 1.6662368364496023, 1.975284762518805, 2.402321083172147, 2.9477756286266925, 3.68514936600043, 4.294003868471954, 5.356973995271868, 6.140554480980013, 7.111326026219643, 8.526327100795186, 10.232108317214701, 12.07565011820331, 13.767246937459703, 15.527186761229315, 16.934665807006233, 18.3096926713948, 20.2916398022781, 21.95056952503761, 23.691811734364926, 25.297657425317, 26.807650977863744, 28.10208467655276, 29.020416935310553, 30.197721899849558], \"yaxis\": \"y\"}, {\"hovertemplate\": \"Pa\\u00edses e territ\\u00f3rios=Argentina<br>Dias desde o caso n\\u00famero 50=%{x}<br>Relativa=%{y}<extra></extra>\", \"legendgroup\": \"Argentina\", \"line\": {\"color\": \"red\", \"dash\": \"solid\"}, \"mode\": \"lines\", \"name\": \"Argentina\", \"showlegend\": true, \"type\": \"scatter\", \"x\": [0, 1, 2, 3, 4, 5, 6, 7, 8, 9, 10, 11, 12, 13, 14, 15, 16, 17, 18, 19, 20, 21, 22, 23], \"xaxis\": \"x\", \"y\": [0.012649649875762368, 0.01468262932008132, 0.01784504178902191, 0.021911000677659814, 0.02891348543031398, 0.03569008357804382, 0.0508244861079738, 0.060085836909871244, 0.06799186808222273, 0.08741811610571493, 0.11339507567201265, 0.13304721030042918, 0.15586175739778632, 0.16828552066862434, 0.18522701603794894, 0.21820646035690083, 0.21820646035690083, 0.2559295233792636, 0.2559295233792636, 0.2857465552292749, 0.32776146374519993, 0.3510277840524057, 0.36774339281680596, 0.3873955274452225], \"yaxis\": \"y\"}, {\"hovertemplate\": \"Pa\\u00edses e territ\\u00f3rios=India<br>Dias desde o caso n\\u00famero 50=%{x}<br>Relativa=%{y}<extra></extra>\", \"legendgroup\": \"India\", \"line\": {\"color\": \"darkblue\", \"dash\": \"solid\"}, \"mode\": \"lines\", \"name\": \"India\", \"showlegend\": true, \"type\": \"scatter\", \"x\": [0, 1, 2, 3, 4, 5, 6, 7, 8, 9, 10, 11, 12, 13, 14, 15, 16, 17, 18, 19, 20, 21, 22, 23, 24, 25, 26, 27, 28], \"xaxis\": \"x\", \"y\": [0.0003734129947722181, 0.0005451829723674384, 0.0005601194921583271, 0.000619865571321882, 0.0006721433905899926, 0.0006945481702763256, 0.0009335324869305452, 0.0010231516056758774, 0.0012322628827483196, 0.001426437640029873, 0.0017251680358476476, 0.002389843166542196, 0.0032785660941000746, 0.003674383868558626, 0.004197162061239731, 0.004846900672143391, 0.005407020164301717, 0.006519790888722928, 0.0073114264376400295, 0.007998506348020911, 0.009342793129200897, 0.010433159073935773, 0.01467513069454817, 0.017184466019417477, 0.021672890216579536, 0.025197908887229274, 0.03037341299477222, 0.03301717699775952, 0.03879014189693801], \"yaxis\": \"y\"}, {\"hovertemplate\": \"Pa\\u00edses e territ\\u00f3rios=Mexico<br>Dias desde o caso n\\u00famero 50=%{x}<br>Relativa=%{y}<extra></extra>\", \"legendgroup\": \"Mexico\", \"line\": {\"color\": \"lightgreen\", \"dash\": \"solid\"}, \"mode\": \"lines\", \"name\": \"Mexico\", \"showlegend\": true, \"type\": \"scatter\", \"x\": [0, 1, 2, 3, 4, 5, 6, 7, 8, 9, 10, 11, 12, 13, 14, 15, 16, 17, 18, 19, 20, 21, 22, 23], \"xaxis\": \"x\", \"y\": [0.01139050075220288, 0.017623038899634645, 0.019987105093488073, 0.025359982806791317, 0.03524607779926929, 0.04362776703202235, 0.05394369224156458, 0.06791317429615303, 0.07887384483129165, 0.08704061895551257, 0.10208467655276166, 0.12572533849129594, 0.15409413281753706, 0.18224801203524607, 0.2134107027724049, 0.23511712873415, 0.2611218568665377, 0.29615301955727485, 0.32452181388351603, 0.3627767032022351, 0.40618955512572535, 0.46056307758435416, 0.5241779497098646, 0.5985385772619816], \"yaxis\": \"y\"}, {\"hovertemplate\": \"Pa\\u00edses e territ\\u00f3rios=Germany<br>Dias desde o caso n\\u00famero 50=%{x}<br>Relativa=%{y}<extra></extra>\", \"legendgroup\": \"Germany\", \"line\": {\"color\": \"coral\", \"dash\": \"solid\"}, \"mode\": \"lines\", \"name\": \"Germany\", \"showlegend\": true, \"type\": \"scatter\", \"x\": [0, 1, 2, 3, 4, 5, 6, 7, 8, 9, 10, 11, 12, 13, 14, 15, 16, 17, 18, 19, 20, 21, 22, 23, 24, 25, 26, 27, 28, 29, 30, 31, 32, 33, 34, 35, 36, 37, 38, 39], \"xaxis\": \"x\", \"y\": [0.006907416383906932, 0.01345128453708192, 0.015632573921473582, 0.01902569074163839, 0.02375181774115366, 0.031749878817256424, 0.048473097430925836, 0.08288899660688318, 0.10264178380998545, 0.10930683470673776, 0.1380271449345613, 0.1570528356761997, 0.18989335918565195, 0.2870819195346583, 0.37106156083373726, 0.45988851187590885, 0.586282113427048, 0.7285506543868153, 0.8671837130392632, 0.993456131846825, 1.7132816286960737, 2.2039505574406206, 2.600945225399903, 3.0021812893843918, 3.5399903053805137, 3.8238002908385846, 4.424139602520601, 5.12457586039748, 5.887300048473097, 6.367789626757149, 6.943528841492971, 7.502787203102279, 8.163596703829375, 8.909597673291323, 9.657779932137663, 10.394813378574892, 11.11415414444983, 11.559743092583616, 12.024357731459041, 12.509452253999031], \"yaxis\": \"y\"}, {\"hovertemplate\": \"Pa\\u00edses e territ\\u00f3rios=Czechia<br>Dias desde o caso n\\u00famero 50=%{x}<br>Relativa=%{y}<extra></extra>\", \"legendgroup\": \"Czechia\", \"line\": {\"color\": \"lightblue\", \"dash\": \"solid\"}, \"mode\": \"lines\", \"name\": \"Czechia\", \"showlegend\": true, \"type\": \"scatter\", \"x\": [0, 1, 2, 3, 4, 5, 6, 7, 8, 9, 10, 11, 12, 13, 14, 15, 16, 17, 18, 19, 20, 21, 22, 23, 24, 25, 26, 27, 28], \"xaxis\": \"x\", \"y\": [0.05920496193966733, 0.08833756225918618, 0.10901231087303825, 0.14096419509444602, 0.20110891833474298, 0.28004886758763275, 0.3232778874165962, 0.4078564044732638, 0.49055539892867217, 0.6521943426369703, 0.8495442157691947, 0.935062494126492, 1.0948219152335308, 1.1615449675782352, 1.3100272530777184, 1.554365191241425, 1.937787801898318, 2.14171600413495, 2.5025843435767317, 2.658584719481252, 2.8211634244901798, 3.10873038248285, 3.3728033079597783, 3.6255990978291517, 3.9375998496381923, 4.202612536415751, 4.310685085988159, 4.531528991636125, 4.714782445258905], \"yaxis\": \"y\"}, {\"hovertemplate\": \"Pa\\u00edses e territ\\u00f3rios=China<br>Dias desde o caso n\\u00famero 50=%{x}<br>Relativa=%{y}<extra></extra>\", \"legendgroup\": \"China\", \"line\": {\"color\": \"black\", \"dash\": \"solid\"}, \"mode\": \"lines\", \"name\": \"China\", \"showlegend\": true, \"type\": \"scatter\", \"x\": [0, 1, 2, 3, 4, 5, 6, 7, 8, 9, 10, 11, 12, 13, 14, 15, 16, 17, 18, 19, 20, 21, 22, 23, 24, 25, 26, 27, 28, 29, 30, 31, 32, 33, 34, 35, 36, 37, 38, 39, 40, 41, 42, 43, 44, 45, 46, 47, 48, 49, 50, 51, 52, 53, 54, 55, 56, 57, 58, 59, 60, 61, 62, 63, 64, 65, 66, 67, 68, 69, 70, 71, 72, 73, 74, 75, 76, 77, 78, 79, 80, 81, 82, 83, 84, 85, 86, 87, 88, 89, 90, 91, 92, 93, 94], \"xaxis\": \"x\", \"y\": [0.0004256854256854257, 0.0004256854256854257, 0.0004256854256854257, 0.0004256854256854257, 0.0004256854256854257, 0.0004256854256854257, 0.0004256854256854257, 0.0004256854256854257, 0.0004256854256854257, 0.0004256854256854257, 0.0004256854256854257, 0.0004256854256854257, 0.00045454545454545455, 0.0005772005772005772, 0.0015584415584415584, 0.0016955266955266956, 0.002784992784992785, 0.0037950937950937953, 0.004494949494949495, 0.006363636363636364, 0.009545454545454546, 0.014343434343434344, 0.02002164502164502, 0.03266955266955267, 0.04324675324675325, 0.0558008658008658, 0.07008658008658009, 0.0852020202020202, 0.10388888888888889, 0.12417748917748918, 0.14753246753246754, 0.17546897546897547, 0.20235930735930735, 0.22515873015873017, 0.24981962481962483, 0.2686291486291486, 0.29008658008658006, 0.3080519480519481, 0.3226839826839827, 0.43192640692640694, 0.4619119769119769, 0.4802236652236652, 0.4947041847041847, 0.5095093795093795, 0.5231457431457431, 0.5357720057720058, 0.5386147186147187, 0.54504329004329, 0.551002886002886, 0.5556709956709956, 0.5572438672438672, 0.560959595959596, 0.5639177489177489, 0.5670851370851371, 0.5694588744588744, 0.5725468975468976, 0.5766883116883117, 0.5781673881673882, 0.5790836940836941, 0.57994227994228, 0.5807864357864357, 0.582012987012987, 0.5827417027417028, 0.5830735930735931, 0.5833982683982684, 0.5835425685425686, 0.5837518037518038, 0.583924963924964, 0.5840836940836941, 0.5842207792207792, 0.5843795093795093, 0.5845598845598846, 0.5848701298701299, 0.585036075036075, 0.5853535353535354, 0.5860678210678211, 0.5864430014430014, 0.5869119769119769, 0.5879076479076479, 0.5884054834054834, 0.5889682539682539, 0.5897041847041847, 0.5903823953823953, 0.5912409812409812, 0.5920562770562771, 0.5927633477633477, 0.5933694083694083, 0.5937590187590187, 0.5944805194805195, 0.59498556998557, 0.5954329004329004, 0.5957792207792207, 0.5962626262626263, 0.5966666666666667, 0.5972871572871573], \"yaxis\": \"y\"}],\n",
              "                        {\"legend\": {\"borderwidth\": 0, \"font\": {\"size\": 8}, \"orientation\": \"v\", \"title\": {\"text\": \"Pa\\u00eds\"}, \"tracegroupgap\": 0, \"yanchor\": \"top\"}, \"template\": {\"data\": {\"bar\": [{\"error_x\": {\"color\": \"#2a3f5f\"}, \"error_y\": {\"color\": \"#2a3f5f\"}, \"marker\": {\"line\": {\"color\": \"#E5ECF6\", \"width\": 0.5}}, \"type\": \"bar\"}], \"barpolar\": [{\"marker\": {\"line\": {\"color\": \"#E5ECF6\", \"width\": 0.5}}, \"type\": \"barpolar\"}], \"carpet\": [{\"aaxis\": {\"endlinecolor\": \"#2a3f5f\", \"gridcolor\": \"white\", \"linecolor\": \"white\", \"minorgridcolor\": \"white\", \"startlinecolor\": \"#2a3f5f\"}, \"baxis\": {\"endlinecolor\": \"#2a3f5f\", \"gridcolor\": \"white\", \"linecolor\": \"white\", \"minorgridcolor\": \"white\", \"startlinecolor\": \"#2a3f5f\"}, \"type\": \"carpet\"}], \"choropleth\": [{\"colorbar\": {\"outlinewidth\": 0, \"ticks\": \"\"}, \"type\": \"choropleth\"}], \"contour\": [{\"colorbar\": {\"outlinewidth\": 0, \"ticks\": \"\"}, \"colorscale\": [[0.0, \"#0d0887\"], [0.1111111111111111, \"#46039f\"], [0.2222222222222222, \"#7201a8\"], [0.3333333333333333, \"#9c179e\"], [0.4444444444444444, \"#bd3786\"], [0.5555555555555556, \"#d8576b\"], [0.6666666666666666, \"#ed7953\"], [0.7777777777777778, \"#fb9f3a\"], [0.8888888888888888, \"#fdca26\"], [1.0, \"#f0f921\"]], \"type\": \"contour\"}], \"contourcarpet\": [{\"colorbar\": {\"outlinewidth\": 0, \"ticks\": \"\"}, \"type\": \"contourcarpet\"}], \"heatmap\": [{\"colorbar\": {\"outlinewidth\": 0, \"ticks\": \"\"}, \"colorscale\": [[0.0, \"#0d0887\"], [0.1111111111111111, \"#46039f\"], [0.2222222222222222, \"#7201a8\"], [0.3333333333333333, \"#9c179e\"], [0.4444444444444444, \"#bd3786\"], [0.5555555555555556, \"#d8576b\"], [0.6666666666666666, \"#ed7953\"], [0.7777777777777778, \"#fb9f3a\"], [0.8888888888888888, \"#fdca26\"], [1.0, \"#f0f921\"]], \"type\": \"heatmap\"}], \"heatmapgl\": [{\"colorbar\": {\"outlinewidth\": 0, \"ticks\": \"\"}, \"colorscale\": [[0.0, \"#0d0887\"], [0.1111111111111111, \"#46039f\"], [0.2222222222222222, \"#7201a8\"], [0.3333333333333333, \"#9c179e\"], [0.4444444444444444, \"#bd3786\"], [0.5555555555555556, \"#d8576b\"], [0.6666666666666666, \"#ed7953\"], [0.7777777777777778, \"#fb9f3a\"], [0.8888888888888888, \"#fdca26\"], [1.0, \"#f0f921\"]], \"type\": \"heatmapgl\"}], \"histogram\": [{\"marker\": {\"colorbar\": {\"outlinewidth\": 0, \"ticks\": \"\"}}, \"type\": \"histogram\"}], \"histogram2d\": [{\"colorbar\": {\"outlinewidth\": 0, \"ticks\": \"\"}, \"colorscale\": [[0.0, \"#0d0887\"], [0.1111111111111111, \"#46039f\"], [0.2222222222222222, \"#7201a8\"], [0.3333333333333333, \"#9c179e\"], [0.4444444444444444, \"#bd3786\"], [0.5555555555555556, \"#d8576b\"], [0.6666666666666666, \"#ed7953\"], [0.7777777777777778, \"#fb9f3a\"], [0.8888888888888888, \"#fdca26\"], [1.0, \"#f0f921\"]], \"type\": \"histogram2d\"}], \"histogram2dcontour\": [{\"colorbar\": {\"outlinewidth\": 0, \"ticks\": \"\"}, \"colorscale\": [[0.0, \"#0d0887\"], [0.1111111111111111, \"#46039f\"], [0.2222222222222222, \"#7201a8\"], [0.3333333333333333, \"#9c179e\"], [0.4444444444444444, \"#bd3786\"], [0.5555555555555556, \"#d8576b\"], [0.6666666666666666, \"#ed7953\"], [0.7777777777777778, \"#fb9f3a\"], [0.8888888888888888, \"#fdca26\"], [1.0, \"#f0f921\"]], \"type\": \"histogram2dcontour\"}], \"mesh3d\": [{\"colorbar\": {\"outlinewidth\": 0, \"ticks\": \"\"}, \"type\": \"mesh3d\"}], \"parcoords\": [{\"line\": {\"colorbar\": {\"outlinewidth\": 0, \"ticks\": \"\"}}, \"type\": \"parcoords\"}], \"pie\": [{\"automargin\": true, \"type\": \"pie\"}], \"scatter\": [{\"marker\": {\"colorbar\": {\"outlinewidth\": 0, \"ticks\": \"\"}}, \"type\": \"scatter\"}], \"scatter3d\": [{\"line\": {\"colorbar\": {\"outlinewidth\": 0, \"ticks\": \"\"}}, \"marker\": {\"colorbar\": {\"outlinewidth\": 0, \"ticks\": \"\"}}, \"type\": \"scatter3d\"}], \"scattercarpet\": [{\"marker\": {\"colorbar\": {\"outlinewidth\": 0, \"ticks\": \"\"}}, \"type\": \"scattercarpet\"}], \"scattergeo\": [{\"marker\": {\"colorbar\": {\"outlinewidth\": 0, \"ticks\": \"\"}}, \"type\": \"scattergeo\"}], \"scattergl\": [{\"marker\": {\"colorbar\": {\"outlinewidth\": 0, \"ticks\": \"\"}}, \"type\": \"scattergl\"}], \"scattermapbox\": [{\"marker\": {\"colorbar\": {\"outlinewidth\": 0, \"ticks\": \"\"}}, \"type\": \"scattermapbox\"}], \"scatterpolar\": [{\"marker\": {\"colorbar\": {\"outlinewidth\": 0, \"ticks\": \"\"}}, \"type\": \"scatterpolar\"}], \"scatterpolargl\": [{\"marker\": {\"colorbar\": {\"outlinewidth\": 0, \"ticks\": \"\"}}, \"type\": \"scatterpolargl\"}], \"scatterternary\": [{\"marker\": {\"colorbar\": {\"outlinewidth\": 0, \"ticks\": \"\"}}, \"type\": \"scatterternary\"}], \"surface\": [{\"colorbar\": {\"outlinewidth\": 0, \"ticks\": \"\"}, \"colorscale\": [[0.0, \"#0d0887\"], [0.1111111111111111, \"#46039f\"], [0.2222222222222222, \"#7201a8\"], [0.3333333333333333, \"#9c179e\"], [0.4444444444444444, \"#bd3786\"], [0.5555555555555556, \"#d8576b\"], [0.6666666666666666, \"#ed7953\"], [0.7777777777777778, \"#fb9f3a\"], [0.8888888888888888, \"#fdca26\"], [1.0, \"#f0f921\"]], \"type\": \"surface\"}], \"table\": [{\"cells\": {\"fill\": {\"color\": \"#EBF0F8\"}, \"line\": {\"color\": \"white\"}}, \"header\": {\"fill\": {\"color\": \"#C8D4E3\"}, \"line\": {\"color\": \"white\"}}, \"type\": \"table\"}]}, \"layout\": {\"annotationdefaults\": {\"arrowcolor\": \"#2a3f5f\", \"arrowhead\": 0, \"arrowwidth\": 1}, \"coloraxis\": {\"colorbar\": {\"outlinewidth\": 0, \"ticks\": \"\"}}, \"colorscale\": {\"diverging\": [[0, \"#8e0152\"], [0.1, \"#c51b7d\"], [0.2, \"#de77ae\"], [0.3, \"#f1b6da\"], [0.4, \"#fde0ef\"], [0.5, \"#f7f7f7\"], [0.6, \"#e6f5d0\"], [0.7, \"#b8e186\"], [0.8, \"#7fbc41\"], [0.9, \"#4d9221\"], [1, \"#276419\"]], \"sequential\": [[0.0, \"#0d0887\"], [0.1111111111111111, \"#46039f\"], [0.2222222222222222, \"#7201a8\"], [0.3333333333333333, \"#9c179e\"], [0.4444444444444444, \"#bd3786\"], [0.5555555555555556, \"#d8576b\"], [0.6666666666666666, \"#ed7953\"], [0.7777777777777778, \"#fb9f3a\"], [0.8888888888888888, \"#fdca26\"], [1.0, \"#f0f921\"]], \"sequentialminus\": [[0.0, \"#0d0887\"], [0.1111111111111111, \"#46039f\"], [0.2222222222222222, \"#7201a8\"], [0.3333333333333333, \"#9c179e\"], [0.4444444444444444, \"#bd3786\"], [0.5555555555555556, \"#d8576b\"], [0.6666666666666666, \"#ed7953\"], [0.7777777777777778, \"#fb9f3a\"], [0.8888888888888888, \"#fdca26\"], [1.0, \"#f0f921\"]]}, \"colorway\": [\"#636efa\", \"#EF553B\", \"#00cc96\", \"#ab63fa\", \"#FFA15A\", \"#19d3f3\", \"#FF6692\", \"#B6E880\", \"#FF97FF\", \"#FECB52\"], \"font\": {\"color\": \"#2a3f5f\"}, \"geo\": {\"bgcolor\": \"white\", \"lakecolor\": \"white\", \"landcolor\": \"#E5ECF6\", \"showlakes\": true, \"showland\": true, \"subunitcolor\": \"white\"}, \"hoverlabel\": {\"align\": \"left\"}, \"hovermode\": \"closest\", \"mapbox\": {\"style\": \"light\"}, \"paper_bgcolor\": \"white\", \"plot_bgcolor\": \"#E5ECF6\", \"polar\": {\"angularaxis\": {\"gridcolor\": \"white\", \"linecolor\": \"white\", \"ticks\": \"\"}, \"bgcolor\": \"#E5ECF6\", \"radialaxis\": {\"gridcolor\": \"white\", \"linecolor\": \"white\", \"ticks\": \"\"}}, \"scene\": {\"xaxis\": {\"backgroundcolor\": \"#E5ECF6\", \"gridcolor\": \"white\", \"gridwidth\": 2, \"linecolor\": \"white\", \"showbackground\": true, \"ticks\": \"\", \"zerolinecolor\": \"white\"}, \"yaxis\": {\"backgroundcolor\": \"#E5ECF6\", \"gridcolor\": \"white\", \"gridwidth\": 2, \"linecolor\": \"white\", \"showbackground\": true, \"ticks\": \"\", \"zerolinecolor\": \"white\"}, \"zaxis\": {\"backgroundcolor\": \"#E5ECF6\", \"gridcolor\": \"white\", \"gridwidth\": 2, \"linecolor\": \"white\", \"showbackground\": true, \"ticks\": \"\", \"zerolinecolor\": \"white\"}}, \"shapedefaults\": {\"line\": {\"color\": \"#2a3f5f\"}}, \"ternary\": {\"aaxis\": {\"gridcolor\": \"white\", \"linecolor\": \"white\", \"ticks\": \"\"}, \"baxis\": {\"gridcolor\": \"white\", \"linecolor\": \"white\", \"ticks\": \"\"}, \"bgcolor\": \"#E5ECF6\", \"caxis\": {\"gridcolor\": \"white\", \"linecolor\": \"white\", \"ticks\": \"\"}}, \"title\": {\"x\": 0.05}, \"xaxis\": {\"automargin\": true, \"gridcolor\": \"white\", \"linecolor\": \"white\", \"ticks\": \"\", \"title\": {\"standoff\": 15}, \"zerolinecolor\": \"white\", \"zerolinewidth\": 2}, \"yaxis\": {\"automargin\": true, \"gridcolor\": \"white\", \"linecolor\": \"white\", \"ticks\": \"\", \"title\": {\"standoff\": 15}, \"zerolinecolor\": \"white\", \"zerolinewidth\": 2}}}, \"title\": {\"text\": \"COVID-19 - Contamina\\u00e7\\u00e3o relativa  08-04-2020 \\nCasos a cada 10 mil habitantes - E. Aritm\\u00e9tica\"}, \"xaxis\": {\"anchor\": \"y\", \"domain\": [0.0, 1.0], \"title\": {\"text\": \"Dias desde o caso n\\u00famero 50\"}}, \"yaxis\": {\"anchor\": \"x\", \"domain\": [0.0, 1.0], \"title\": {\"text\": \"Relativa\"}}},\n",
              "                        {\"responsive\": true}\n",
              "                    ).then(function(){\n",
              "                            \n",
              "var gd = document.getElementById('f6afbfc9-e855-47ea-b4c1-5db23a68b169');\n",
              "var x = new MutationObserver(function (mutations, observer) {{\n",
              "        var display = window.getComputedStyle(gd).display;\n",
              "        if (!display || display === 'none') {{\n",
              "            console.log([gd, 'removed!']);\n",
              "            Plotly.purge(gd);\n",
              "            observer.disconnect();\n",
              "        }}\n",
              "}});\n",
              "\n",
              "// Listen for the removal of the full notebook cells\n",
              "var notebookContainer = gd.closest('#notebook-container');\n",
              "if (notebookContainer) {{\n",
              "    x.observe(notebookContainer, {childList: true});\n",
              "}}\n",
              "\n",
              "// Listen for the clearing of the current output cell\n",
              "var outputEl = gd.closest('.output');\n",
              "if (outputEl) {{\n",
              "    x.observe(outputEl, {childList: true});\n",
              "}}\n",
              "\n",
              "                        })\n",
              "                };\n",
              "                \n",
              "            </script>\n",
              "        </div>\n",
              "</body>\n",
              "</html>"
            ]
          },
          "metadata": {
            "tags": []
          }
        }
      ]
    },
    {
      "cell_type": "code",
      "metadata": {
        "colab_type": "code",
        "id": "OXJ4Z-SOEubU",
        "outputId": "9e690614-5861-4908-9011-1a4741445bdb",
        "colab": {
          "base_uri": "https://localhost:8080/",
          "height": 542
        }
      },
      "source": [
        "#hide_input\n",
        "\n",
        "fig = px.line(final_data, x=\"Dias desde o caso número 50\", y=\"Relativa\", color='Países e territórios',title='COVID-19 - Contaminação relativa  {} \\nCasos a cada 10 mil habitantes - E. Logarítmica'.format(today),\n",
        "              color_discrete_sequence=[\"black\", \"blue\",'green',\"darkmagenta\",\"gray\",\"brown\",\"orange\",\"magenta\",'red',\"darkblue\",\"lightgreen\",'coral','lightblue'])\n",
        "fig.update_layout(legend= {'title':'País','borderwidth':0,'orientation':'v','yanchor':'top','font':{'size':8}})\n",
        "\n",
        "fig.update_layout(yaxis_type=\"log\")\n",
        "fig.show()"
      ],
      "execution_count": 37,
      "outputs": [
        {
          "output_type": "display_data",
          "data": {
            "text/html": [
              "<html>\n",
              "<head><meta charset=\"utf-8\" /></head>\n",
              "<body>\n",
              "    <div>\n",
              "            <script src=\"https://cdnjs.cloudflare.com/ajax/libs/mathjax/2.7.5/MathJax.js?config=TeX-AMS-MML_SVG\"></script><script type=\"text/javascript\">if (window.MathJax) {MathJax.Hub.Config({SVG: {font: \"STIX-Web\"}});}</script>\n",
              "                <script type=\"text/javascript\">window.PlotlyConfig = {MathJaxConfig: 'local'};</script>\n",
              "        <script src=\"https://cdn.plot.ly/plotly-latest.min.js\"></script>    \n",
              "            <div id=\"4d0a105a-6b12-46be-9859-e34b7f9909b2\" class=\"plotly-graph-div\" style=\"height:525px; width:100%;\"></div>\n",
              "            <script type=\"text/javascript\">\n",
              "                \n",
              "                    window.PLOTLYENV=window.PLOTLYENV || {};\n",
              "                    \n",
              "                if (document.getElementById(\"4d0a105a-6b12-46be-9859-e34b7f9909b2\")) {\n",
              "                    Plotly.newPlot(\n",
              "                        '4d0a105a-6b12-46be-9859-e34b7f9909b2',\n",
              "                        [{\"hovertemplate\": \"Pa\\u00edses e territ\\u00f3rios=Brazil<br>Dias desde o caso n\\u00famero 50=%{x}<br>Relativa=%{y}<extra></extra>\", \"legendgroup\": \"Brazil\", \"line\": {\"color\": \"black\", \"dash\": \"solid\"}, \"mode\": \"lines\", \"name\": \"Brazil\", \"showlegend\": true, \"type\": \"scatter\", \"x\": [0, 1, 2, 3, 4, 5, 6, 7, 8, 9, 10, 11, 12, 13, 14, 15, 16, 17, 18, 19, 20, 21, 22, 23, 24, 25, 26, 27], \"xaxis\": \"x\", \"y\": [0.002484472049689441, 0.0036789297658862876, 0.0046822742474916385, 0.005781175346392738, 0.009555661729574774, 0.011180124223602485, 0.013903487816531295, 0.020449116101290014, 0.02967032967032967, 0.04319159101767797, 0.05389393215480172, 0.07386526516961299, 0.09034878165312948, 0.10516005733397038, 0.11624462494027711, 0.13927376970855232, 0.163258480649785, 0.18652651696129957, 0.20334448160535118, 0.21877687529861442, 0.2731485905398949, 0.32661251791686574, 0.3779264214046823, 0.43268036311514574, 0.4910654562828476, 0.5317725752508361, 0.5760152890587673, 0.6553750597228858], \"yaxis\": \"y\"}, {\"hovertemplate\": \"Pa\\u00edses e territ\\u00f3rios=Italy<br>Dias desde o caso n\\u00famero 50=%{x}<br>Relativa=%{y}<extra></extra>\", \"legendgroup\": \"Italy\", \"line\": {\"color\": \"blue\", \"dash\": \"solid\"}, \"mode\": \"lines\", \"name\": \"Italy\", \"showlegend\": true, \"type\": \"scatter\", \"x\": [0, 1, 2, 3, 4, 5, 6, 7, 8, 9, 10, 11, 12, 13, 14, 15, 16, 17, 18, 19, 20, 21, 22, 23, 24, 25, 26, 27, 28, 29, 30, 31, 32, 33, 34, 35, 36, 37, 38, 39, 40, 41, 42, 43, 44, 45], \"xaxis\": \"x\", \"y\": [0.013038455190625516, 0.021785773229905925, 0.03779501567915498, 0.05314408318204324, 0.06601749463607856, 0.10727842878362766, 0.1465588380920944, 0.18616933487374154, 0.27875887110084174, 0.33602904769763986, 0.4129394289486714, 0.5098201023271167, 0.6367387357649777, 0.7651427628321505, 0.9709523023601254, 1.2171975573526985, 1.5137811520052813, 1.6750288826539033, 2.0567750453870275, 2.4943059910876384, 2.9146723881828684, 3.4918303350387854, 3.9577488034329096, 4.617923749793695, 5.199867965010728, 5.894206964845684, 6.772569730978709, 7.760521538207625, 8.842713319029542, 9.760356494471035, 10.550750949001486, 11.417065522363426, 12.27694338999835, 13.292457501237829, 14.27595312757881, 15.26192440996864, 16.122957583759696, 16.79138471694999, 17.460306981350058, 18.249546129724376, 19.019970292127415, 19.776695824393464, 20.56973097870936, 21.282059745832644, 21.876052153820762, 22.377620069318368], \"yaxis\": \"y\"}, {\"hovertemplate\": \"Pa\\u00edses e territ\\u00f3rios=Japan<br>Dias desde o caso n\\u00famero 50=%{x}<br>Relativa=%{y}<extra></extra>\", \"legendgroup\": \"Japan\", \"line\": {\"color\": \"green\", \"dash\": \"solid\"}, \"mode\": \"lines\", \"name\": \"Japan\", \"showlegend\": true, \"type\": \"scatter\", \"x\": [0, 1, 2, 3, 4, 5, 6, 7, 8, 9, 10, 11, 12, 13, 14, 15, 16, 17, 18, 19, 20, 21, 22, 23, 24, 25, 26, 27, 28, 29, 30, 31, 32, 33, 34, 35, 36, 37, 38, 39, 40, 41, 42, 43, 44, 45, 46, 47, 48, 49, 50, 51, 52], \"xaxis\": \"x\", \"y\": [0.004100946372239748, 0.004652996845425868, 0.004652996845425868, 0.0052050473186119875, 0.006624605678233439, 0.007334384858044164, 0.008280757097791799, 0.010410094637223975, 0.011356466876971609, 0.011356466876971609, 0.012933753943217666, 0.014668769716088327, 0.016561514195583597, 0.018138801261829655, 0.018848580441640377, 0.02003154574132492, 0.02003154574132492, 0.02113564668769716, 0.025, 0.02752365930599369, 0.032176656151419555, 0.03588328075709779, 0.038485804416403785, 0.04053627760252366, 0.044794952681388014, 0.04881703470031546, 0.05323343848580442, 0.05812302839116719, 0.061514195583596214, 0.06419558359621451, 0.06498422712933755, 0.06537854889589906, 0.06884858044164038, 0.0749211356466877, 0.07941640378548896, 0.08249211356466878, 0.0858832807570978, 0.08895899053627761, 0.09408517350157729, 0.1, 0.10757097791798108, 0.11821766561514195, 0.1335173501577287, 0.1471608832807571, 0.15402208201892745, 0.15402208201892745, 0.1717665615141956, 0.20638801261829653, 0.23146687697160884, 0.25796529968454257, 0.2881703470031546, 0.30102523659305996, 0.3080441640378549], \"yaxis\": \"y\"}, {\"hovertemplate\": \"Pa\\u00edses e territ\\u00f3rios=United_Kingdom<br>Dias desde o caso n\\u00famero 50=%{x}<br>Relativa=%{y}<extra></extra>\", \"legendgroup\": \"United_Kingdom\", \"line\": {\"color\": \"darkmagenta\", \"dash\": \"solid\"}, \"mode\": \"lines\", \"name\": \"United_Kingdom\", \"showlegend\": true, \"type\": \"scatter\", \"x\": [0, 1, 2, 3, 4, 5, 6, 7, 8, 9, 10, 11, 12, 13, 14, 15, 16, 17, 18, 19, 20, 21, 22, 23, 24, 25, 26, 27, 28, 29, 30, 31, 32, 33, 34, 35], \"xaxis\": \"x\", \"y\": [0.007722592368261659, 0.0128709872804361, 0.017413688673531193, 0.024682010902483342, 0.03119321623258631, 0.04133858267716536, 0.04860690490611751, 0.056480920654149, 0.06904906117504543, 0.08933979406420352, 0.10705632949727438, 0.17262265293761356, 0.2106299212598425, 0.23364627498485765, 0.2952755905511811, 0.3982434887946699, 0.49621441550575407, 0.6031193216232587, 0.7598425196850394, 0.8605390672319806, 1.0069654754694124, 1.223046638400969, 1.4429133858267718, 1.7652937613567534, 2.202150211992732, 2.5876741368867355, 2.9560872198667476, 3.352665051483949, 3.808298001211387, 4.46305269533616, 5.105693519079346, 5.7795275590551185, 6.3450938824954575, 7.238946093276802, 7.81465778316172, 8.364930345245305], \"yaxis\": \"y\"}, {\"hovertemplate\": \"Pa\\u00edses e territ\\u00f3rios=United_States_of_America<br>Dias desde o caso n\\u00famero 50=%{x}<br>Relativa=%{y}<extra></extra>\", \"legendgroup\": \"United_States_of_America\", \"line\": {\"color\": \"gray\", \"dash\": \"solid\"}, \"mode\": \"lines\", \"name\": \"United_States_of_America\", \"showlegend\": true, \"type\": \"scatter\", \"x\": [0, 1, 2, 3, 4, 5, 6, 7, 8, 9, 10, 11, 12, 13, 14, 15, 16, 17, 18, 19, 20, 21, 22, 23, 24, 25, 26, 27, 28, 29, 30, 31, 32, 33, 34, 35, 36, 37, 38, 39, 40, 41, 42, 43], \"xaxis\": \"x\", \"y\": [0.0016272643536997236, 0.0016272643536997236, 0.0018114829597789376, 0.00184218606079214, 0.002026404666871354, 0.002118513969910961, 0.0027325759901750076, 0.0031624194043598404, 0.003837887626650292, 0.004881793061099171, 0.007153822536076143, 0.010377648142462389, 0.01329444273871661, 0.017009517961314093, 0.02315013816395456, 0.031470678538532394, 0.040282468529321463, 0.05105925698495548, 0.06674854160270187, 0.09060485108996008, 0.1158735032238256, 0.14310715382253608, 0.1973288302118514, 0.2890696960393, 0.4375191894381332, 0.6025176542830826, 0.8212158428001228, 1.0809333742708014, 1.4259134172551429, 1.6957629720601781, 2.124470371507522, 2.6401903592262816, 3.2141848326680993, 3.827602087810869, 4.391311022413264, 5.054344488793368, 5.8218606079214, 6.654006754682223, 7.538839422781701, 8.534387473134787, 9.586644151059257, 10.36644151059257, 11.304758980657047, 12.244673011974209], \"yaxis\": \"y\"}, {\"hovertemplate\": \"Pa\\u00edses e territ\\u00f3rios=France<br>Dias desde o caso n\\u00famero 50=%{x}<br>Relativa=%{y}<extra></extra>\", \"legendgroup\": \"France\", \"line\": {\"color\": \"brown\", \"dash\": \"solid\"}, \"mode\": \"lines\", \"name\": \"France\", \"showlegend\": true, \"type\": \"scatter\", \"x\": [0, 1, 2, 3, 4, 5, 6, 7, 8, 9, 10, 11, 12, 13, 14, 15, 16, 17, 18, 19, 20, 21, 22, 23, 24, 25, 26, 27, 28, 29, 30, 31, 32, 33, 34, 35, 36, 37, 38, 39], \"xaxis\": \"x\", \"y\": [0.008536768009585144, 0.014976785981728321, 0.01946982177624682, 0.026658679047476413, 0.03175078628126404, 0.04268384004792571, 0.0633518047027108, 0.0918076980679946, 0.10723378762917478, 0.1686386101542609, 0.2114722180620039, 0.26718586191403326, 0.341620488243223, 0.4307323648345065, 0.5483001347910739, 0.6738056013179572, 0.8121911037891268, 0.9934102141680395, 1.1577055563875993, 1.3679796315710648, 1.646697618691029, 1.888872248015576, 2.165493485098098, 2.3989815785532427, 2.9737906245319756, 3.34012280964505, 3.7790924067695073, 4.366481952972892, 4.936947731016923, 5.627527332634417, 6.016774000299535, 6.672158154859967, 7.8070989965553395, 8.535120563127153, 8.852029354500525, 9.635764564924367, 10.274824022764715, 10.555339224202486, 11.141231091807699, 11.706904298337577], \"yaxis\": \"y\"}, {\"hovertemplate\": \"Pa\\u00edses e territ\\u00f3rios=South_Korea<br>Dias desde o caso n\\u00famero 50=%{x}<br>Relativa=%{y}<extra></extra>\", \"legendgroup\": \"South_Korea\", \"line\": {\"color\": \"orange\", \"dash\": \"solid\"}, \"mode\": \"lines\", \"name\": \"South_Korea\", \"showlegend\": true, \"type\": \"scatter\", \"x\": [0, 1, 2, 3, 4, 5, 6, 7, 8, 9, 10, 11, 12, 13, 14, 15, 16, 17, 18, 19, 20, 21, 22, 23, 24, 25, 26, 27, 28, 29, 30, 31, 32, 33, 34, 35, 36, 37, 38, 39, 40, 41, 42, 43, 44, 45, 46, 47, 48], \"xaxis\": \"x\", \"y\": [0.015543034777540314, 0.030114629881484358, 0.0670293374781426, 0.11676704876627161, 0.1480474062560715, 0.1733048377695745, 0.22265397318826502, 0.30988925587721, 0.39285020400233145, 0.5694579366621333, 0.6850592578200894, 0.8183407810374975, 0.93491354186905, 1.035166116184185, 1.1202642315912181, 1.2209053817757918, 1.3147464542451914, 1.3860501262871576, 1.4342335340975325, 1.4596852535457547, 1.5067029337478142, 1.5288517583058092, 1.5502234311249272, 1.5710122401398874, 1.5857781231785506, 1.6001554303477754, 1.6164756168641927, 1.6345443947930833, 1.66407616087041, 1.6809792111909851, 1.7095395375947153, 1.7285797551972022, 1.7410141830192345, 1.7557800660578977, 1.7752088595298232, 1.7954148047406255, 1.8130950068000777, 1.8414610452690887, 1.8618612784146105, 1.8770157373227123, 1.901301729162619, 1.901301729162619, 1.9382164367592774, 1.954925199145133, 1.973188265008743, 1.9889255877210026, 1.9980571206528075, 2.0071886535846124, 2.017485914124733], \"yaxis\": \"y\"}, {\"hovertemplate\": \"Pa\\u00edses e territ\\u00f3rios=Spain<br>Dias desde o caso n\\u00famero 50=%{x}<br>Relativa=%{y}<extra></extra>\", \"legendgroup\": \"Spain\", \"line\": {\"color\": \"magenta\", \"dash\": \"solid\"}, \"mode\": \"lines\", \"name\": \"Spain\", \"showlegend\": true, \"type\": \"scatter\", \"x\": [0, 1, 2, 3, 4, 5, 6, 7, 8, 9, 10, 11, 12, 13, 14, 15, 16, 17, 18, 19, 20, 21, 22, 23, 24, 25, 26, 27, 28, 29, 30, 31, 32, 33, 34, 35, 36, 37, 38], \"xaxis\": \"x\", \"y\": [0.014184397163120567, 0.017837954008166772, 0.024500322372662798, 0.032452181388351604, 0.04298302170642596, 0.05609284332688588, 0.08037825059101655, 0.09241349666881582, 0.12658499892542446, 0.2587577906726843, 0.35224586288416077, 0.4599183322587578, 0.645604986030518, 0.9093058241994412, 1.2364066193853427, 1.6662368364496023, 1.975284762518805, 2.402321083172147, 2.9477756286266925, 3.68514936600043, 4.294003868471954, 5.356973995271868, 6.140554480980013, 7.111326026219643, 8.526327100795186, 10.232108317214701, 12.07565011820331, 13.767246937459703, 15.527186761229315, 16.934665807006233, 18.3096926713948, 20.2916398022781, 21.95056952503761, 23.691811734364926, 25.297657425317, 26.807650977863744, 28.10208467655276, 29.020416935310553, 30.197721899849558], \"yaxis\": \"y\"}, {\"hovertemplate\": \"Pa\\u00edses e territ\\u00f3rios=Argentina<br>Dias desde o caso n\\u00famero 50=%{x}<br>Relativa=%{y}<extra></extra>\", \"legendgroup\": \"Argentina\", \"line\": {\"color\": \"red\", \"dash\": \"solid\"}, \"mode\": \"lines\", \"name\": \"Argentina\", \"showlegend\": true, \"type\": \"scatter\", \"x\": [0, 1, 2, 3, 4, 5, 6, 7, 8, 9, 10, 11, 12, 13, 14, 15, 16, 17, 18, 19, 20, 21, 22, 23], \"xaxis\": \"x\", \"y\": [0.012649649875762368, 0.01468262932008132, 0.01784504178902191, 0.021911000677659814, 0.02891348543031398, 0.03569008357804382, 0.0508244861079738, 0.060085836909871244, 0.06799186808222273, 0.08741811610571493, 0.11339507567201265, 0.13304721030042918, 0.15586175739778632, 0.16828552066862434, 0.18522701603794894, 0.21820646035690083, 0.21820646035690083, 0.2559295233792636, 0.2559295233792636, 0.2857465552292749, 0.32776146374519993, 0.3510277840524057, 0.36774339281680596, 0.3873955274452225], \"yaxis\": \"y\"}, {\"hovertemplate\": \"Pa\\u00edses e territ\\u00f3rios=India<br>Dias desde o caso n\\u00famero 50=%{x}<br>Relativa=%{y}<extra></extra>\", \"legendgroup\": \"India\", \"line\": {\"color\": \"darkblue\", \"dash\": \"solid\"}, \"mode\": \"lines\", \"name\": \"India\", \"showlegend\": true, \"type\": \"scatter\", \"x\": [0, 1, 2, 3, 4, 5, 6, 7, 8, 9, 10, 11, 12, 13, 14, 15, 16, 17, 18, 19, 20, 21, 22, 23, 24, 25, 26, 27, 28], \"xaxis\": \"x\", \"y\": [0.0003734129947722181, 0.0005451829723674384, 0.0005601194921583271, 0.000619865571321882, 0.0006721433905899926, 0.0006945481702763256, 0.0009335324869305452, 0.0010231516056758774, 0.0012322628827483196, 0.001426437640029873, 0.0017251680358476476, 0.002389843166542196, 0.0032785660941000746, 0.003674383868558626, 0.004197162061239731, 0.004846900672143391, 0.005407020164301717, 0.006519790888722928, 0.0073114264376400295, 0.007998506348020911, 0.009342793129200897, 0.010433159073935773, 0.01467513069454817, 0.017184466019417477, 0.021672890216579536, 0.025197908887229274, 0.03037341299477222, 0.03301717699775952, 0.03879014189693801], \"yaxis\": \"y\"}, {\"hovertemplate\": \"Pa\\u00edses e territ\\u00f3rios=Mexico<br>Dias desde o caso n\\u00famero 50=%{x}<br>Relativa=%{y}<extra></extra>\", \"legendgroup\": \"Mexico\", \"line\": {\"color\": \"lightgreen\", \"dash\": \"solid\"}, \"mode\": \"lines\", \"name\": \"Mexico\", \"showlegend\": true, \"type\": \"scatter\", \"x\": [0, 1, 2, 3, 4, 5, 6, 7, 8, 9, 10, 11, 12, 13, 14, 15, 16, 17, 18, 19, 20, 21, 22, 23], \"xaxis\": \"x\", \"y\": [0.01139050075220288, 0.017623038899634645, 0.019987105093488073, 0.025359982806791317, 0.03524607779926929, 0.04362776703202235, 0.05394369224156458, 0.06791317429615303, 0.07887384483129165, 0.08704061895551257, 0.10208467655276166, 0.12572533849129594, 0.15409413281753706, 0.18224801203524607, 0.2134107027724049, 0.23511712873415, 0.2611218568665377, 0.29615301955727485, 0.32452181388351603, 0.3627767032022351, 0.40618955512572535, 0.46056307758435416, 0.5241779497098646, 0.5985385772619816], \"yaxis\": \"y\"}, {\"hovertemplate\": \"Pa\\u00edses e territ\\u00f3rios=Germany<br>Dias desde o caso n\\u00famero 50=%{x}<br>Relativa=%{y}<extra></extra>\", \"legendgroup\": \"Germany\", \"line\": {\"color\": \"coral\", \"dash\": \"solid\"}, \"mode\": \"lines\", \"name\": \"Germany\", \"showlegend\": true, \"type\": \"scatter\", \"x\": [0, 1, 2, 3, 4, 5, 6, 7, 8, 9, 10, 11, 12, 13, 14, 15, 16, 17, 18, 19, 20, 21, 22, 23, 24, 25, 26, 27, 28, 29, 30, 31, 32, 33, 34, 35, 36, 37, 38, 39], \"xaxis\": \"x\", \"y\": [0.006907416383906932, 0.01345128453708192, 0.015632573921473582, 0.01902569074163839, 0.02375181774115366, 0.031749878817256424, 0.048473097430925836, 0.08288899660688318, 0.10264178380998545, 0.10930683470673776, 0.1380271449345613, 0.1570528356761997, 0.18989335918565195, 0.2870819195346583, 0.37106156083373726, 0.45988851187590885, 0.586282113427048, 0.7285506543868153, 0.8671837130392632, 0.993456131846825, 1.7132816286960737, 2.2039505574406206, 2.600945225399903, 3.0021812893843918, 3.5399903053805137, 3.8238002908385846, 4.424139602520601, 5.12457586039748, 5.887300048473097, 6.367789626757149, 6.943528841492971, 7.502787203102279, 8.163596703829375, 8.909597673291323, 9.657779932137663, 10.394813378574892, 11.11415414444983, 11.559743092583616, 12.024357731459041, 12.509452253999031], \"yaxis\": \"y\"}, {\"hovertemplate\": \"Pa\\u00edses e territ\\u00f3rios=Czechia<br>Dias desde o caso n\\u00famero 50=%{x}<br>Relativa=%{y}<extra></extra>\", \"legendgroup\": \"Czechia\", \"line\": {\"color\": \"lightblue\", \"dash\": \"solid\"}, \"mode\": \"lines\", \"name\": \"Czechia\", \"showlegend\": true, \"type\": \"scatter\", \"x\": [0, 1, 2, 3, 4, 5, 6, 7, 8, 9, 10, 11, 12, 13, 14, 15, 16, 17, 18, 19, 20, 21, 22, 23, 24, 25, 26, 27, 28], \"xaxis\": \"x\", \"y\": [0.05920496193966733, 0.08833756225918618, 0.10901231087303825, 0.14096419509444602, 0.20110891833474298, 0.28004886758763275, 0.3232778874165962, 0.4078564044732638, 0.49055539892867217, 0.6521943426369703, 0.8495442157691947, 0.935062494126492, 1.0948219152335308, 1.1615449675782352, 1.3100272530777184, 1.554365191241425, 1.937787801898318, 2.14171600413495, 2.5025843435767317, 2.658584719481252, 2.8211634244901798, 3.10873038248285, 3.3728033079597783, 3.6255990978291517, 3.9375998496381923, 4.202612536415751, 4.310685085988159, 4.531528991636125, 4.714782445258905], \"yaxis\": \"y\"}, {\"hovertemplate\": \"Pa\\u00edses e territ\\u00f3rios=China<br>Dias desde o caso n\\u00famero 50=%{x}<br>Relativa=%{y}<extra></extra>\", \"legendgroup\": \"China\", \"line\": {\"color\": \"black\", \"dash\": \"solid\"}, \"mode\": \"lines\", \"name\": \"China\", \"showlegend\": true, \"type\": \"scatter\", \"x\": [0, 1, 2, 3, 4, 5, 6, 7, 8, 9, 10, 11, 12, 13, 14, 15, 16, 17, 18, 19, 20, 21, 22, 23, 24, 25, 26, 27, 28, 29, 30, 31, 32, 33, 34, 35, 36, 37, 38, 39, 40, 41, 42, 43, 44, 45, 46, 47, 48, 49, 50, 51, 52, 53, 54, 55, 56, 57, 58, 59, 60, 61, 62, 63, 64, 65, 66, 67, 68, 69, 70, 71, 72, 73, 74, 75, 76, 77, 78, 79, 80, 81, 82, 83, 84, 85, 86, 87, 88, 89, 90, 91, 92, 93, 94], \"xaxis\": \"x\", \"y\": [0.0004256854256854257, 0.0004256854256854257, 0.0004256854256854257, 0.0004256854256854257, 0.0004256854256854257, 0.0004256854256854257, 0.0004256854256854257, 0.0004256854256854257, 0.0004256854256854257, 0.0004256854256854257, 0.0004256854256854257, 0.0004256854256854257, 0.00045454545454545455, 0.0005772005772005772, 0.0015584415584415584, 0.0016955266955266956, 0.002784992784992785, 0.0037950937950937953, 0.004494949494949495, 0.006363636363636364, 0.009545454545454546, 0.014343434343434344, 0.02002164502164502, 0.03266955266955267, 0.04324675324675325, 0.0558008658008658, 0.07008658008658009, 0.0852020202020202, 0.10388888888888889, 0.12417748917748918, 0.14753246753246754, 0.17546897546897547, 0.20235930735930735, 0.22515873015873017, 0.24981962481962483, 0.2686291486291486, 0.29008658008658006, 0.3080519480519481, 0.3226839826839827, 0.43192640692640694, 0.4619119769119769, 0.4802236652236652, 0.4947041847041847, 0.5095093795093795, 0.5231457431457431, 0.5357720057720058, 0.5386147186147187, 0.54504329004329, 0.551002886002886, 0.5556709956709956, 0.5572438672438672, 0.560959595959596, 0.5639177489177489, 0.5670851370851371, 0.5694588744588744, 0.5725468975468976, 0.5766883116883117, 0.5781673881673882, 0.5790836940836941, 0.57994227994228, 0.5807864357864357, 0.582012987012987, 0.5827417027417028, 0.5830735930735931, 0.5833982683982684, 0.5835425685425686, 0.5837518037518038, 0.583924963924964, 0.5840836940836941, 0.5842207792207792, 0.5843795093795093, 0.5845598845598846, 0.5848701298701299, 0.585036075036075, 0.5853535353535354, 0.5860678210678211, 0.5864430014430014, 0.5869119769119769, 0.5879076479076479, 0.5884054834054834, 0.5889682539682539, 0.5897041847041847, 0.5903823953823953, 0.5912409812409812, 0.5920562770562771, 0.5927633477633477, 0.5933694083694083, 0.5937590187590187, 0.5944805194805195, 0.59498556998557, 0.5954329004329004, 0.5957792207792207, 0.5962626262626263, 0.5966666666666667, 0.5972871572871573], \"yaxis\": \"y\"}],\n",
              "                        {\"legend\": {\"borderwidth\": 0, \"font\": {\"size\": 8}, \"orientation\": \"v\", \"title\": {\"text\": \"Pa\\u00eds\"}, \"tracegroupgap\": 0, \"yanchor\": \"top\"}, \"template\": {\"data\": {\"bar\": [{\"error_x\": {\"color\": \"#2a3f5f\"}, \"error_y\": {\"color\": \"#2a3f5f\"}, \"marker\": {\"line\": {\"color\": \"#E5ECF6\", \"width\": 0.5}}, \"type\": \"bar\"}], \"barpolar\": [{\"marker\": {\"line\": {\"color\": \"#E5ECF6\", \"width\": 0.5}}, \"type\": \"barpolar\"}], \"carpet\": [{\"aaxis\": {\"endlinecolor\": \"#2a3f5f\", \"gridcolor\": \"white\", \"linecolor\": \"white\", \"minorgridcolor\": \"white\", \"startlinecolor\": \"#2a3f5f\"}, \"baxis\": {\"endlinecolor\": \"#2a3f5f\", \"gridcolor\": \"white\", \"linecolor\": \"white\", \"minorgridcolor\": \"white\", \"startlinecolor\": \"#2a3f5f\"}, \"type\": \"carpet\"}], \"choropleth\": [{\"colorbar\": {\"outlinewidth\": 0, \"ticks\": \"\"}, \"type\": \"choropleth\"}], \"contour\": [{\"colorbar\": {\"outlinewidth\": 0, \"ticks\": \"\"}, \"colorscale\": [[0.0, \"#0d0887\"], [0.1111111111111111, \"#46039f\"], [0.2222222222222222, \"#7201a8\"], [0.3333333333333333, \"#9c179e\"], [0.4444444444444444, \"#bd3786\"], [0.5555555555555556, \"#d8576b\"], [0.6666666666666666, \"#ed7953\"], [0.7777777777777778, \"#fb9f3a\"], [0.8888888888888888, \"#fdca26\"], [1.0, \"#f0f921\"]], \"type\": \"contour\"}], \"contourcarpet\": [{\"colorbar\": {\"outlinewidth\": 0, \"ticks\": \"\"}, \"type\": \"contourcarpet\"}], \"heatmap\": [{\"colorbar\": {\"outlinewidth\": 0, \"ticks\": \"\"}, \"colorscale\": [[0.0, \"#0d0887\"], [0.1111111111111111, \"#46039f\"], [0.2222222222222222, \"#7201a8\"], [0.3333333333333333, \"#9c179e\"], [0.4444444444444444, \"#bd3786\"], [0.5555555555555556, \"#d8576b\"], [0.6666666666666666, \"#ed7953\"], [0.7777777777777778, \"#fb9f3a\"], [0.8888888888888888, \"#fdca26\"], [1.0, \"#f0f921\"]], \"type\": \"heatmap\"}], \"heatmapgl\": [{\"colorbar\": {\"outlinewidth\": 0, \"ticks\": \"\"}, \"colorscale\": [[0.0, \"#0d0887\"], [0.1111111111111111, \"#46039f\"], [0.2222222222222222, \"#7201a8\"], [0.3333333333333333, \"#9c179e\"], [0.4444444444444444, \"#bd3786\"], [0.5555555555555556, \"#d8576b\"], [0.6666666666666666, \"#ed7953\"], [0.7777777777777778, \"#fb9f3a\"], [0.8888888888888888, \"#fdca26\"], [1.0, \"#f0f921\"]], \"type\": \"heatmapgl\"}], \"histogram\": [{\"marker\": {\"colorbar\": {\"outlinewidth\": 0, \"ticks\": \"\"}}, \"type\": \"histogram\"}], \"histogram2d\": [{\"colorbar\": {\"outlinewidth\": 0, \"ticks\": \"\"}, \"colorscale\": [[0.0, \"#0d0887\"], [0.1111111111111111, \"#46039f\"], [0.2222222222222222, \"#7201a8\"], [0.3333333333333333, \"#9c179e\"], [0.4444444444444444, \"#bd3786\"], [0.5555555555555556, \"#d8576b\"], [0.6666666666666666, \"#ed7953\"], [0.7777777777777778, \"#fb9f3a\"], [0.8888888888888888, \"#fdca26\"], [1.0, \"#f0f921\"]], \"type\": \"histogram2d\"}], \"histogram2dcontour\": [{\"colorbar\": {\"outlinewidth\": 0, \"ticks\": \"\"}, \"colorscale\": [[0.0, \"#0d0887\"], [0.1111111111111111, \"#46039f\"], [0.2222222222222222, \"#7201a8\"], [0.3333333333333333, \"#9c179e\"], [0.4444444444444444, \"#bd3786\"], [0.5555555555555556, \"#d8576b\"], [0.6666666666666666, \"#ed7953\"], [0.7777777777777778, \"#fb9f3a\"], [0.8888888888888888, \"#fdca26\"], [1.0, \"#f0f921\"]], \"type\": \"histogram2dcontour\"}], \"mesh3d\": [{\"colorbar\": {\"outlinewidth\": 0, \"ticks\": \"\"}, \"type\": \"mesh3d\"}], \"parcoords\": [{\"line\": {\"colorbar\": {\"outlinewidth\": 0, \"ticks\": \"\"}}, \"type\": \"parcoords\"}], \"pie\": [{\"automargin\": true, \"type\": \"pie\"}], \"scatter\": [{\"marker\": {\"colorbar\": {\"outlinewidth\": 0, \"ticks\": \"\"}}, \"type\": \"scatter\"}], \"scatter3d\": [{\"line\": {\"colorbar\": {\"outlinewidth\": 0, \"ticks\": \"\"}}, \"marker\": {\"colorbar\": {\"outlinewidth\": 0, \"ticks\": \"\"}}, \"type\": \"scatter3d\"}], \"scattercarpet\": [{\"marker\": {\"colorbar\": {\"outlinewidth\": 0, \"ticks\": \"\"}}, \"type\": \"scattercarpet\"}], \"scattergeo\": [{\"marker\": {\"colorbar\": {\"outlinewidth\": 0, \"ticks\": \"\"}}, \"type\": \"scattergeo\"}], \"scattergl\": [{\"marker\": {\"colorbar\": {\"outlinewidth\": 0, \"ticks\": \"\"}}, \"type\": \"scattergl\"}], \"scattermapbox\": [{\"marker\": {\"colorbar\": {\"outlinewidth\": 0, \"ticks\": \"\"}}, \"type\": \"scattermapbox\"}], \"scatterpolar\": [{\"marker\": {\"colorbar\": {\"outlinewidth\": 0, \"ticks\": \"\"}}, \"type\": \"scatterpolar\"}], \"scatterpolargl\": [{\"marker\": {\"colorbar\": {\"outlinewidth\": 0, \"ticks\": \"\"}}, \"type\": \"scatterpolargl\"}], \"scatterternary\": [{\"marker\": {\"colorbar\": {\"outlinewidth\": 0, \"ticks\": \"\"}}, \"type\": \"scatterternary\"}], \"surface\": [{\"colorbar\": {\"outlinewidth\": 0, \"ticks\": \"\"}, \"colorscale\": [[0.0, \"#0d0887\"], [0.1111111111111111, \"#46039f\"], [0.2222222222222222, \"#7201a8\"], [0.3333333333333333, \"#9c179e\"], [0.4444444444444444, \"#bd3786\"], [0.5555555555555556, \"#d8576b\"], [0.6666666666666666, \"#ed7953\"], [0.7777777777777778, \"#fb9f3a\"], [0.8888888888888888, \"#fdca26\"], [1.0, \"#f0f921\"]], \"type\": \"surface\"}], \"table\": [{\"cells\": {\"fill\": {\"color\": \"#EBF0F8\"}, \"line\": {\"color\": \"white\"}}, \"header\": {\"fill\": {\"color\": \"#C8D4E3\"}, \"line\": {\"color\": \"white\"}}, \"type\": \"table\"}]}, \"layout\": {\"annotationdefaults\": {\"arrowcolor\": \"#2a3f5f\", \"arrowhead\": 0, \"arrowwidth\": 1}, \"coloraxis\": {\"colorbar\": {\"outlinewidth\": 0, \"ticks\": \"\"}}, \"colorscale\": {\"diverging\": [[0, \"#8e0152\"], [0.1, \"#c51b7d\"], [0.2, \"#de77ae\"], [0.3, \"#f1b6da\"], [0.4, \"#fde0ef\"], [0.5, \"#f7f7f7\"], [0.6, \"#e6f5d0\"], [0.7, \"#b8e186\"], [0.8, \"#7fbc41\"], [0.9, \"#4d9221\"], [1, \"#276419\"]], \"sequential\": [[0.0, \"#0d0887\"], [0.1111111111111111, \"#46039f\"], [0.2222222222222222, \"#7201a8\"], [0.3333333333333333, \"#9c179e\"], [0.4444444444444444, \"#bd3786\"], [0.5555555555555556, \"#d8576b\"], [0.6666666666666666, \"#ed7953\"], [0.7777777777777778, \"#fb9f3a\"], [0.8888888888888888, \"#fdca26\"], [1.0, \"#f0f921\"]], \"sequentialminus\": [[0.0, \"#0d0887\"], [0.1111111111111111, \"#46039f\"], [0.2222222222222222, \"#7201a8\"], [0.3333333333333333, \"#9c179e\"], [0.4444444444444444, \"#bd3786\"], [0.5555555555555556, \"#d8576b\"], [0.6666666666666666, \"#ed7953\"], [0.7777777777777778, \"#fb9f3a\"], [0.8888888888888888, \"#fdca26\"], [1.0, \"#f0f921\"]]}, \"colorway\": [\"#636efa\", \"#EF553B\", \"#00cc96\", \"#ab63fa\", \"#FFA15A\", \"#19d3f3\", \"#FF6692\", \"#B6E880\", \"#FF97FF\", \"#FECB52\"], \"font\": {\"color\": \"#2a3f5f\"}, \"geo\": {\"bgcolor\": \"white\", \"lakecolor\": \"white\", \"landcolor\": \"#E5ECF6\", \"showlakes\": true, \"showland\": true, \"subunitcolor\": \"white\"}, \"hoverlabel\": {\"align\": \"left\"}, \"hovermode\": \"closest\", \"mapbox\": {\"style\": \"light\"}, \"paper_bgcolor\": \"white\", \"plot_bgcolor\": \"#E5ECF6\", \"polar\": {\"angularaxis\": {\"gridcolor\": \"white\", \"linecolor\": \"white\", \"ticks\": \"\"}, \"bgcolor\": \"#E5ECF6\", \"radialaxis\": {\"gridcolor\": \"white\", \"linecolor\": \"white\", \"ticks\": \"\"}}, \"scene\": {\"xaxis\": {\"backgroundcolor\": \"#E5ECF6\", \"gridcolor\": \"white\", \"gridwidth\": 2, \"linecolor\": \"white\", \"showbackground\": true, \"ticks\": \"\", \"zerolinecolor\": \"white\"}, \"yaxis\": {\"backgroundcolor\": \"#E5ECF6\", \"gridcolor\": \"white\", \"gridwidth\": 2, \"linecolor\": \"white\", \"showbackground\": true, \"ticks\": \"\", \"zerolinecolor\": \"white\"}, \"zaxis\": {\"backgroundcolor\": \"#E5ECF6\", \"gridcolor\": \"white\", \"gridwidth\": 2, \"linecolor\": \"white\", \"showbackground\": true, \"ticks\": \"\", \"zerolinecolor\": \"white\"}}, \"shapedefaults\": {\"line\": {\"color\": \"#2a3f5f\"}}, \"ternary\": {\"aaxis\": {\"gridcolor\": \"white\", \"linecolor\": \"white\", \"ticks\": \"\"}, \"baxis\": {\"gridcolor\": \"white\", \"linecolor\": \"white\", \"ticks\": \"\"}, \"bgcolor\": \"#E5ECF6\", \"caxis\": {\"gridcolor\": \"white\", \"linecolor\": \"white\", \"ticks\": \"\"}}, \"title\": {\"x\": 0.05}, \"xaxis\": {\"automargin\": true, \"gridcolor\": \"white\", \"linecolor\": \"white\", \"ticks\": \"\", \"title\": {\"standoff\": 15}, \"zerolinecolor\": \"white\", \"zerolinewidth\": 2}, \"yaxis\": {\"automargin\": true, \"gridcolor\": \"white\", \"linecolor\": \"white\", \"ticks\": \"\", \"title\": {\"standoff\": 15}, \"zerolinecolor\": \"white\", \"zerolinewidth\": 2}}}, \"title\": {\"text\": \"COVID-19 - Contamina\\u00e7\\u00e3o relativa  08-04-2020 \\nCasos a cada 10 mil habitantes - E. Logar\\u00edtmica\"}, \"xaxis\": {\"anchor\": \"y\", \"domain\": [0.0, 1.0], \"title\": {\"text\": \"Dias desde o caso n\\u00famero 50\"}}, \"yaxis\": {\"anchor\": \"x\", \"domain\": [0.0, 1.0], \"title\": {\"text\": \"Relativa\"}, \"type\": \"log\"}},\n",
              "                        {\"responsive\": true}\n",
              "                    ).then(function(){\n",
              "                            \n",
              "var gd = document.getElementById('4d0a105a-6b12-46be-9859-e34b7f9909b2');\n",
              "var x = new MutationObserver(function (mutations, observer) {{\n",
              "        var display = window.getComputedStyle(gd).display;\n",
              "        if (!display || display === 'none') {{\n",
              "            console.log([gd, 'removed!']);\n",
              "            Plotly.purge(gd);\n",
              "            observer.disconnect();\n",
              "        }}\n",
              "}});\n",
              "\n",
              "// Listen for the removal of the full notebook cells\n",
              "var notebookContainer = gd.closest('#notebook-container');\n",
              "if (notebookContainer) {{\n",
              "    x.observe(notebookContainer, {childList: true});\n",
              "}}\n",
              "\n",
              "// Listen for the clearing of the current output cell\n",
              "var outputEl = gd.closest('.output');\n",
              "if (outputEl) {{\n",
              "    x.observe(outputEl, {childList: true});\n",
              "}}\n",
              "\n",
              "                        })\n",
              "                };\n",
              "                \n",
              "            </script>\n",
              "        </div>\n",
              "</body>\n",
              "</html>"
            ]
          },
          "metadata": {
            "tags": []
          }
        }
      ]
    },
    {
      "cell_type": "markdown",
      "metadata": {
        "colab_type": "text",
        "id": "Lus3_NdWU6m3"
      },
      "source": [
        "<center> <h2> Mortes </h2> </center>"
      ]
    },
    {
      "cell_type": "code",
      "metadata": {
        "colab_type": "code",
        "id": "u3K9s3bWkBsx",
        "colab": {}
      },
      "source": [
        "#hide\n",
        "mortos = data2[['dateRep','deaths','countriesAndTerritories']]\n",
        "mortos.columns = ['dateRep','deaths','countriesAndTerritories']"
      ],
      "execution_count": 0,
      "outputs": []
    },
    {
      "cell_type": "code",
      "metadata": {
        "id": "IV_wNDtKTqRZ",
        "colab_type": "code",
        "colab": {}
      },
      "source": [
        "#hide\n",
        "mgermany = mortos[mortos['countriesAndTerritories']=='Germany']\n",
        "mgermany.sort_index(ascending=False,inplace=True)\n",
        "mgermany['Cumulativo'] = mgermany['deaths'].cumsum()\n",
        "mgermany = mgermany[mgermany['Cumulativo']>=1]\n",
        "mgermany.reset_index(drop=True, inplace=True)\n",
        "mgermany.drop(['deaths','dateRep'],axis=1,inplace=True)\n"
      ],
      "execution_count": 0,
      "outputs": []
    },
    {
      "cell_type": "code",
      "metadata": {
        "colab_type": "code",
        "id": "5G4iWsHGLOuT",
        "colab": {}
      },
      "source": [
        "#hide\n",
        "mitaly = mortos[mortos['countriesAndTerritories']=='Italy']\n",
        "mitaly.sort_index(ascending=False,inplace=True)\n",
        "mitaly['Cumulativo'] = mitaly['deaths'].cumsum()\n",
        "mitaly = mitaly[mitaly['Cumulativo']>=1]\n",
        "mitaly.reset_index(drop=True, inplace=True)\n",
        "mitaly.drop(['deaths','dateRep'],axis=1,inplace=True)\n"
      ],
      "execution_count": 0,
      "outputs": []
    },
    {
      "cell_type": "code",
      "metadata": {
        "colab_type": "code",
        "id": "8B_wTGnzi_Gb",
        "colab": {}
      },
      "source": [
        "#hide\n",
        "margentina = mortos[mortos['countriesAndTerritories']=='Argentina']\n",
        "margentina.sort_index(ascending=False,inplace=True)\n",
        "margentina['Cumulativo'] = margentina['deaths'].cumsum()\n",
        "margentina = margentina[margentina['Cumulativo']>=1]\n",
        "margentina.reset_index(drop=True, inplace=True)\n",
        "margentina.drop(['deaths','dateRep'],axis=1,inplace=True)\n"
      ],
      "execution_count": 0,
      "outputs": []
    },
    {
      "cell_type": "code",
      "metadata": {
        "colab_type": "code",
        "id": "Kit8VB9MNFjS",
        "colab": {}
      },
      "source": [
        "#hide\n",
        "mbrazil = mortos[mortos['countriesAndTerritories']=='Brazil']\n",
        "mbrazil.sort_index(ascending=False,inplace=True)\n",
        "mbrazil['Cumulativo'] = mbrazil['deaths'].cumsum()\n",
        "mbrazil = mbrazil[mbrazil['Cumulativo']>=1]\n",
        "mbrazil.reset_index(drop=True, inplace=True)\n",
        "mbrazil.drop(['deaths','dateRep'],axis=1,inplace=True)\n"
      ],
      "execution_count": 0,
      "outputs": []
    },
    {
      "cell_type": "code",
      "metadata": {
        "colab_type": "code",
        "id": "Xf-wtyPAOoCq",
        "colab": {}
      },
      "source": [
        "#hide\n",
        "mjapan = mortos[mortos['countriesAndTerritories']=='Japan']\n",
        "mjapan.sort_index(ascending=False,inplace=True)\n",
        "mjapan['Cumulativo'] = mjapan['deaths'].cumsum()\n",
        "mjapan = mjapan[mjapan['Cumulativo']>=1]\n",
        "mjapan.reset_index(drop=True, inplace=True)\n",
        "mjapan.drop(['deaths','dateRep'],axis=1,inplace=True)\n"
      ],
      "execution_count": 0,
      "outputs": []
    },
    {
      "cell_type": "code",
      "metadata": {
        "colab_type": "code",
        "id": "X26cfdS3Ou0_",
        "colab": {}
      },
      "source": [
        "#hide\n",
        "msouth_korea = mortos[mortos['countriesAndTerritories']=='South_Korea']\n",
        "msouth_korea.sort_index(ascending=False,inplace=True)\n",
        "msouth_korea['Cumulativo'] = msouth_korea['deaths'].cumsum()\n",
        "msouth_korea = msouth_korea[msouth_korea['Cumulativo']>=1]\n",
        "msouth_korea.reset_index(drop=True, inplace=True)\n",
        "msouth_korea.drop(['deaths','dateRep'],axis=1,inplace=True)\n"
      ],
      "execution_count": 0,
      "outputs": []
    },
    {
      "cell_type": "code",
      "metadata": {
        "colab_type": "code",
        "id": "HDIuPzsvOvBF",
        "colab": {}
      },
      "source": [
        "#hide\n",
        "mus = mortos[mortos['countriesAndTerritories']=='United_States_of_America']\n",
        "mus.sort_index(ascending=False,inplace=True)\n",
        "mus['Cumulativo'] = mus['deaths'].cumsum()\n",
        "mus = mus[mus['Cumulativo']>=1]\n",
        "mus.reset_index(drop=True, inplace=True)\n",
        "mus.drop(['deaths','dateRep'],axis=1,inplace=True)\n"
      ],
      "execution_count": 0,
      "outputs": []
    },
    {
      "cell_type": "code",
      "metadata": {
        "colab_type": "code",
        "id": "Lf632oDcRAW0",
        "colab": {}
      },
      "source": [
        "#hide\n",
        "mfrance = mortos[mortos['countriesAndTerritories']=='France']\n",
        "mfrance.sort_index(ascending=False,inplace=True)\n",
        "mfrance['Cumulativo'] = mfrance['deaths'].cumsum()\n",
        "mfrance = mfrance[mfrance['Cumulativo']>=1]\n",
        "mfrance.reset_index(drop=True, inplace=True)\n",
        "mfrance.drop(['deaths','dateRep'],axis=1,inplace=True)\n"
      ],
      "execution_count": 0,
      "outputs": []
    },
    {
      "cell_type": "code",
      "metadata": {
        "colab_type": "code",
        "id": "4bw0YRwTOvLG",
        "colab": {}
      },
      "source": [
        "#hide\n",
        "muk = mortos[mortos['countriesAndTerritories']=='United_Kingdom']\n",
        "muk.sort_index(ascending=False,inplace=True)\n",
        "muk['Cumulativo'] = muk['deaths'].cumsum()\n",
        "muk = muk[muk['Cumulativo']>=1]\n",
        "muk.reset_index(drop=True, inplace=True)\n",
        "muk.drop(['deaths','dateRep'],axis=1,inplace=True)\n"
      ],
      "execution_count": 0,
      "outputs": []
    },
    {
      "cell_type": "code",
      "metadata": {
        "colab_type": "code",
        "id": "6E5oiuDIc60l",
        "colab": {}
      },
      "source": [
        "#hide\n",
        "mchina = mortos[mortos['countriesAndTerritories']=='China']\n",
        "mchina.sort_index(ascending=False,inplace=True)\n",
        "mchina['Cumulativo'] = mchina['deaths'].cumsum()\n",
        "mchina = mchina[mchina['Cumulativo']>=1]\n",
        "mchina.reset_index(drop=True, inplace=True)\n",
        "mchina.drop(['deaths','dateRep'],axis=1,inplace=True)\n"
      ],
      "execution_count": 0,
      "outputs": []
    },
    {
      "cell_type": "code",
      "metadata": {
        "colab_type": "code",
        "id": "a-Ty0E_xI2Kr",
        "colab": {}
      },
      "source": [
        "#hide\n",
        "mspain = mortos[mortos['countriesAndTerritories']=='Spain']\n",
        "mspain.sort_index(ascending=False,inplace=True)\n",
        "mspain['Cumulativo'] = mspain['deaths'].cumsum()\n",
        "mspain = mspain[mspain['Cumulativo']>=1]\n",
        "mspain.reset_index(drop=True, inplace=True)\n",
        "mspain.drop(['deaths','dateRep'],axis=1,inplace=True)\n"
      ],
      "execution_count": 0,
      "outputs": []
    },
    {
      "cell_type": "code",
      "metadata": {
        "id": "6kcW9cDHTqSK",
        "colab_type": "code",
        "colab": {}
      },
      "source": [
        "#hide\n",
        "mindia = mortos[mortos['countriesAndTerritories']=='India']\n",
        "mindia.sort_index(ascending=False,inplace=True)\n",
        "mindia['Cumulativo'] = mindia['deaths'].cumsum()\n",
        "mindia = mindia[mindia['Cumulativo']>=1]\n",
        "mindia.reset_index(drop=True, inplace=True)\n",
        "mindia.drop(['deaths','dateRep'],axis=1,inplace=True)\n"
      ],
      "execution_count": 0,
      "outputs": []
    },
    {
      "cell_type": "code",
      "metadata": {
        "scrolled": true,
        "id": "rc4ccUpsTqSO",
        "colab_type": "code",
        "colab": {}
      },
      "source": [
        "#hide\n",
        "mczech = mortos[mortos['countriesAndTerritories']=='Czechia']\n",
        "mczech.sort_index(ascending=False,inplace=True)\n",
        "mczech['Cumulativo'] = mczech['deaths'].cumsum()\n",
        "mczech = mczech[mczech['Cumulativo']>=1]\n",
        "mczech.reset_index(drop=True, inplace=True)\n",
        "mczech.drop(['deaths','dateRep'],axis=1,inplace=True)\n"
      ],
      "execution_count": 0,
      "outputs": []
    },
    {
      "cell_type": "code",
      "metadata": {
        "colab_type": "code",
        "id": "rYUKX75ZOvUg",
        "colab": {}
      },
      "source": [
        "#hide\n",
        "# Tabela final de mortes\n",
        "mfinal_data=pd.concat([mbrazil,mitaly,mjapan,muk,mus,msouth_korea,mfrance,mchina,mspain,margentina,mindia,mgermany,mczech],axis=0)\n",
        "mfinal_data['Dias']=mfinal_data.index\n",
        "mfinal_data.columns = ['Países e territórios','Mortes', 'Dias desde a primeira morte']\n"
      ],
      "execution_count": 0,
      "outputs": []
    },
    {
      "cell_type": "code",
      "metadata": {
        "colab_type": "code",
        "id": "qVGKMMffOvcs",
        "colab": {}
      },
      "source": [
        "#hide\n",
        "mzoom = mfinal_data[mfinal_data['Mortes']<=100]"
      ],
      "execution_count": 0,
      "outputs": []
    },
    {
      "cell_type": "code",
      "metadata": {
        "colab_type": "code",
        "id": "OeL3tjqXOvmN",
        "colab": {}
      },
      "source": [
        "#hide\n",
        "mmeio_zoom = mfinal_data[mfinal_data['Mortes']<=500]"
      ],
      "execution_count": 0,
      "outputs": []
    },
    {
      "cell_type": "code",
      "metadata": {
        "colab_type": "code",
        "id": "wUSdAFVATC4J",
        "outputId": "ae354e43-769b-451b-e02d-be039841e48e",
        "colab": {
          "base_uri": "https://localhost:8080/",
          "height": 542
        }
      },
      "source": [
        "#hide\n",
        "\n",
        "\n",
        "fig = px.line(mzoom, x=\"Dias desde a primeira morte\", y=\"Mortes\",title='COVID-19 - Mortes {} \\n Zoom até 100'.format(today), \n",
        "              color='Países e territórios',color_discrete_sequence=[\"black\", \"blue\",'green',\"darkmagenta\",\"gray\",\"brown\",\"orange\",\"magenta\",'red',\"darkblue\",\"lightgreen\",'coral','lightblue'])\n",
        "fig.update_layout(legend= {'title':'País','borderwidth':0,'orientation':'v','yanchor':'top','font':{'size':8}})\n",
        "\n",
        "fig.update_layout()\n",
        "fig.show()"
      ],
      "execution_count": 55,
      "outputs": [
        {
          "output_type": "display_data",
          "data": {
            "text/html": [
              "<html>\n",
              "<head><meta charset=\"utf-8\" /></head>\n",
              "<body>\n",
              "    <div>\n",
              "            <script src=\"https://cdnjs.cloudflare.com/ajax/libs/mathjax/2.7.5/MathJax.js?config=TeX-AMS-MML_SVG\"></script><script type=\"text/javascript\">if (window.MathJax) {MathJax.Hub.Config({SVG: {font: \"STIX-Web\"}});}</script>\n",
              "                <script type=\"text/javascript\">window.PlotlyConfig = {MathJaxConfig: 'local'};</script>\n",
              "        <script src=\"https://cdn.plot.ly/plotly-latest.min.js\"></script>    \n",
              "            <div id=\"bec5568e-5ffb-48a0-9111-00478e07f43a\" class=\"plotly-graph-div\" style=\"height:525px; width:100%;\"></div>\n",
              "            <script type=\"text/javascript\">\n",
              "                \n",
              "                    window.PLOTLYENV=window.PLOTLYENV || {};\n",
              "                    \n",
              "                if (document.getElementById(\"bec5568e-5ffb-48a0-9111-00478e07f43a\")) {\n",
              "                    Plotly.newPlot(\n",
              "                        'bec5568e-5ffb-48a0-9111-00478e07f43a',\n",
              "                        [{\"hovertemplate\": \"Pa\\u00edses e territ\\u00f3rios=Brazil<br>Dias desde a primeira morte=%{x}<br>Mortes=%{y}<extra></extra>\", \"legendgroup\": \"Brazil\", \"line\": {\"color\": \"black\", \"dash\": \"solid\"}, \"mode\": \"lines\", \"name\": \"Brazil\", \"showlegend\": true, \"type\": \"scatter\", \"x\": [0, 1, 2, 3, 4, 5, 6, 7, 8, 9, 10], \"xaxis\": \"x\", \"y\": [1, 4, 6, 11, 18, 25, 34, 46, 57, 77, 92], \"yaxis\": \"y\"}, {\"hovertemplate\": \"Pa\\u00edses e territ\\u00f3rios=Italy<br>Dias desde a primeira morte=%{x}<br>Mortes=%{y}<extra></extra>\", \"legendgroup\": \"Italy\", \"line\": {\"color\": \"blue\", \"dash\": \"solid\"}, \"mode\": \"lines\", \"name\": \"Italy\", \"showlegend\": true, \"type\": \"scatter\", \"x\": [0, 1, 2, 3, 4, 5, 6, 7, 8, 9, 10], \"xaxis\": \"x\", \"y\": [2, 2, 6, 11, 12, 17, 21, 29, 35, 52, 80], \"yaxis\": \"y\"}, {\"hovertemplate\": \"Pa\\u00edses e territ\\u00f3rios=Japan<br>Dias desde a primeira morte=%{x}<br>Mortes=%{y}<extra></extra>\", \"legendgroup\": \"Japan\", \"line\": {\"color\": \"green\", \"dash\": \"solid\"}, \"mode\": \"lines\", \"name\": \"Japan\", \"showlegend\": true, \"type\": \"scatter\", \"x\": [0, 1, 2, 3, 4, 5, 6, 7, 8, 9, 10, 11, 12, 13, 14, 15, 16, 17, 18, 19, 20, 21, 22, 23, 24, 25, 26, 27, 28, 29, 30, 31, 32, 33, 34, 35, 36, 37, 38, 39, 40, 41, 42, 43, 44, 45, 46, 47, 48, 49, 50, 51, 52, 53, 54, 55], \"xaxis\": \"x\", \"y\": [1, 1, 1, 1, 1, 1, 1, 1, 1, 1, 1, 1, 1, 1, 3, 3, 3, 5, 6, 6, 6, 6, 6, 6, 6, 7, 9, 12, 15, 19, 21, 22, 24, 28, 28, 29, 33, 35, 36, 41, 42, 43, 45, 46, 49, 52, 54, 56, 56, 57, 63, 69, 70, 73, 80, 80], \"yaxis\": \"y\"}, {\"hovertemplate\": \"Pa\\u00edses e territ\\u00f3rios=United_Kingdom<br>Dias desde a primeira morte=%{x}<br>Mortes=%{y}<extra></extra>\", \"legendgroup\": \"United_Kingdom\", \"line\": {\"color\": \"darkmagenta\", \"dash\": \"solid\"}, \"mode\": \"lines\", \"name\": \"United_Kingdom\", \"showlegend\": true, \"type\": \"scatter\", \"x\": [0, 1, 2, 3, 4, 5, 6, 7, 8, 9, 10, 11, 12], \"xaxis\": \"x\", \"y\": [1, 1, 2, 3, 5, 6, 6, 10, 10, 21, 35, 55, 60], \"yaxis\": \"y\"}, {\"hovertemplate\": \"Pa\\u00edses e territ\\u00f3rios=United_States_of_America<br>Dias desde a primeira morte=%{x}<br>Mortes=%{y}<extra></extra>\", \"legendgroup\": \"United_States_of_America\", \"line\": {\"color\": \"gray\", \"dash\": \"solid\"}, \"mode\": \"lines\", \"name\": \"United_States_of_America\", \"showlegend\": true, \"type\": \"scatter\", \"x\": [0, 1, 2, 3, 4, 5, 6, 7, 8, 9, 10, 11, 12, 13, 14, 15, 16], \"xaxis\": \"x\", \"y\": [1, 2, 6, 9, 11, 12, 14, 17, 21, 26, 28, 30, 40, 47, 57, 69, 85], \"yaxis\": \"y\"}, {\"hovertemplate\": \"Pa\\u00edses e territ\\u00f3rios=South_Korea<br>Dias desde a primeira morte=%{x}<br>Mortes=%{y}<extra></extra>\", \"legendgroup\": \"South_Korea\", \"line\": {\"color\": \"brown\", \"dash\": \"solid\"}, \"mode\": \"lines\", \"name\": \"South_Korea\", \"showlegend\": true, \"type\": \"scatter\", \"x\": [0, 1, 2, 3, 4, 5, 6, 7, 8, 9, 10, 11, 12, 13, 14, 15, 16, 17, 18, 19, 20, 21, 22, 23, 24, 25, 26, 27, 28], \"xaxis\": \"x\", \"y\": [1, 2, 5, 7, 8, 11, 12, 13, 16, 17, 22, 28, 32, 35, 42, 44, 50, 51, 54, 60, 66, 67, 72, 75, 75, 81, 86, 91, 100], \"yaxis\": \"y\"}, {\"hovertemplate\": \"Pa\\u00edses e territ\\u00f3rios=France<br>Dias desde a primeira morte=%{x}<br>Mortes=%{y}<extra></extra>\", \"legendgroup\": \"France\", \"line\": {\"color\": \"orange\", \"dash\": \"solid\"}, \"mode\": \"lines\", \"name\": \"France\", \"showlegend\": true, \"type\": \"scatter\", \"x\": [0, 1, 2, 3, 4, 5, 6, 7, 8, 9, 10, 11, 12, 13, 14, 15, 16, 17, 18, 19, 20, 21, 22, 23, 24, 25, 26, 27, 28, 29], \"xaxis\": \"x\", \"y\": [1, 1, 1, 1, 1, 1, 1, 1, 1, 1, 1, 1, 2, 2, 2, 2, 2, 3, 4, 4, 7, 9, 10, 19, 30, 33, 48, 61, 79, 91], \"yaxis\": \"y\"}, {\"hovertemplate\": \"Pa\\u00edses e territ\\u00f3rios=China<br>Dias desde a primeira morte=%{x}<br>Mortes=%{y}<extra></extra>\", \"legendgroup\": \"China\", \"line\": {\"color\": \"magenta\", \"dash\": \"solid\"}, \"mode\": \"lines\", \"name\": \"China\", \"showlegend\": true, \"type\": \"scatter\", \"x\": [0, 1, 2, 3, 4, 5, 6, 7, 8, 9, 10, 11, 12, 13, 14, 15, 16], \"xaxis\": \"x\", \"y\": [1, 1, 1, 1, 2, 2, 2, 2, 3, 3, 6, 17, 17, 26, 41, 56, 81], \"yaxis\": \"y\"}, {\"hovertemplate\": \"Pa\\u00edses e territ\\u00f3rios=Spain<br>Dias desde a primeira morte=%{x}<br>Mortes=%{y}<extra></extra>\", \"legendgroup\": \"Spain\", \"line\": {\"color\": \"red\", \"dash\": \"solid\"}, \"mode\": \"lines\", \"name\": \"Spain\", \"showlegend\": true, \"type\": \"scatter\", \"x\": [0, 1, 2, 3, 4, 5, 6, 7, 8], \"xaxis\": \"x\", \"y\": [1, 3, 5, 5, 5, 28, 35, 47, 84], \"yaxis\": \"y\"}, {\"hovertemplate\": \"Pa\\u00edses e territ\\u00f3rios=Argentina<br>Dias desde a primeira morte=%{x}<br>Mortes=%{y}<extra></extra>\", \"legendgroup\": \"Argentina\", \"line\": {\"color\": \"darkblue\", \"dash\": \"solid\"}, \"mode\": \"lines\", \"name\": \"Argentina\", \"showlegend\": true, \"type\": \"scatter\", \"x\": [0, 1, 2, 3, 4, 5, 6, 7, 8, 9, 10, 11, 12, 13, 14, 15, 16, 17, 18, 19, 20, 21, 22, 23, 24, 25, 26, 27, 28, 29], \"xaxis\": \"x\", \"y\": [1, 1, 1, 1, 2, 2, 2, 2, 2, 2, 3, 3, 4, 4, 4, 6, 8, 12, 17, 19, 20, 24, 24, 31, 34, 37, 43, 46, 53, 60], \"yaxis\": \"y\"}, {\"hovertemplate\": \"Pa\\u00edses e territ\\u00f3rios=India<br>Dias desde a primeira morte=%{x}<br>Mortes=%{y}<extra></extra>\", \"legendgroup\": \"India\", \"line\": {\"color\": \"lightgreen\", \"dash\": \"solid\"}, \"mode\": \"lines\", \"name\": \"India\", \"showlegend\": true, \"type\": \"scatter\", \"x\": [0, 1, 2, 3, 4, 5, 6, 7, 8, 9, 10, 11, 12, 13, 14, 15, 16, 17, 18, 19, 20, 21, 22, 23], \"xaxis\": \"x\", \"y\": [1, 2, 2, 2, 3, 3, 3, 4, 4, 4, 7, 9, 9, 13, 17, 19, 25, 29, 32, 35, 50, 56, 68, 77], \"yaxis\": \"y\"}, {\"hovertemplate\": \"Pa\\u00edses e territ\\u00f3rios=Germany<br>Dias desde a primeira morte=%{x}<br>Mortes=%{y}<extra></extra>\", \"legendgroup\": \"Germany\", \"line\": {\"color\": \"coral\", \"dash\": \"solid\"}, \"mode\": \"lines\", \"name\": \"Germany\", \"showlegend\": true, \"type\": \"scatter\", \"x\": [0, 1, 2, 3, 4, 5, 6, 7, 8, 9, 10, 11, 12, 13], \"xaxis\": \"x\", \"y\": [2, 2, 3, 5, 5, 8, 12, 13, 13, 13, 43, 45, 67, 94], \"yaxis\": \"y\"}, {\"hovertemplate\": \"Pa\\u00edses e territ\\u00f3rios=Czechia<br>Dias desde a primeira morte=%{x}<br>Mortes=%{y}<extra></extra>\", \"legendgroup\": \"Czechia\", \"line\": {\"color\": \"lightblue\", \"dash\": \"solid\"}, \"mode\": \"lines\", \"name\": \"Czechia\", \"showlegend\": true, \"type\": \"scatter\", \"x\": [0, 1, 2, 3, 4, 5, 6, 7, 8, 9, 10, 11, 12, 13, 14, 15, 16], \"xaxis\": \"x\", \"y\": [1, 1, 3, 6, 9, 9, 11, 16, 24, 31, 39, 44, 53, 59, 67, 78, 88], \"yaxis\": \"y\"}],\n",
              "                        {\"legend\": {\"borderwidth\": 0, \"font\": {\"size\": 8}, \"orientation\": \"v\", \"title\": {\"text\": \"Pa\\u00eds\"}, \"tracegroupgap\": 0, \"yanchor\": \"top\"}, \"template\": {\"data\": {\"bar\": [{\"error_x\": {\"color\": \"#2a3f5f\"}, \"error_y\": {\"color\": \"#2a3f5f\"}, \"marker\": {\"line\": {\"color\": \"#E5ECF6\", \"width\": 0.5}}, \"type\": \"bar\"}], \"barpolar\": [{\"marker\": {\"line\": {\"color\": \"#E5ECF6\", \"width\": 0.5}}, \"type\": \"barpolar\"}], \"carpet\": [{\"aaxis\": {\"endlinecolor\": \"#2a3f5f\", \"gridcolor\": \"white\", \"linecolor\": \"white\", \"minorgridcolor\": \"white\", \"startlinecolor\": \"#2a3f5f\"}, \"baxis\": {\"endlinecolor\": \"#2a3f5f\", \"gridcolor\": \"white\", \"linecolor\": \"white\", \"minorgridcolor\": \"white\", \"startlinecolor\": \"#2a3f5f\"}, \"type\": \"carpet\"}], \"choropleth\": [{\"colorbar\": {\"outlinewidth\": 0, \"ticks\": \"\"}, \"type\": \"choropleth\"}], \"contour\": [{\"colorbar\": {\"outlinewidth\": 0, \"ticks\": \"\"}, \"colorscale\": [[0.0, \"#0d0887\"], [0.1111111111111111, \"#46039f\"], [0.2222222222222222, \"#7201a8\"], [0.3333333333333333, \"#9c179e\"], [0.4444444444444444, \"#bd3786\"], [0.5555555555555556, \"#d8576b\"], [0.6666666666666666, \"#ed7953\"], [0.7777777777777778, \"#fb9f3a\"], [0.8888888888888888, \"#fdca26\"], [1.0, \"#f0f921\"]], \"type\": \"contour\"}], \"contourcarpet\": [{\"colorbar\": {\"outlinewidth\": 0, \"ticks\": \"\"}, \"type\": \"contourcarpet\"}], \"heatmap\": [{\"colorbar\": {\"outlinewidth\": 0, \"ticks\": \"\"}, \"colorscale\": [[0.0, \"#0d0887\"], [0.1111111111111111, \"#46039f\"], [0.2222222222222222, \"#7201a8\"], [0.3333333333333333, \"#9c179e\"], [0.4444444444444444, \"#bd3786\"], [0.5555555555555556, \"#d8576b\"], [0.6666666666666666, \"#ed7953\"], [0.7777777777777778, \"#fb9f3a\"], [0.8888888888888888, \"#fdca26\"], [1.0, \"#f0f921\"]], \"type\": \"heatmap\"}], \"heatmapgl\": [{\"colorbar\": {\"outlinewidth\": 0, \"ticks\": \"\"}, \"colorscale\": [[0.0, \"#0d0887\"], [0.1111111111111111, \"#46039f\"], [0.2222222222222222, \"#7201a8\"], [0.3333333333333333, \"#9c179e\"], [0.4444444444444444, \"#bd3786\"], [0.5555555555555556, \"#d8576b\"], [0.6666666666666666, \"#ed7953\"], [0.7777777777777778, \"#fb9f3a\"], [0.8888888888888888, \"#fdca26\"], [1.0, \"#f0f921\"]], \"type\": \"heatmapgl\"}], \"histogram\": [{\"marker\": {\"colorbar\": {\"outlinewidth\": 0, \"ticks\": \"\"}}, \"type\": \"histogram\"}], \"histogram2d\": [{\"colorbar\": {\"outlinewidth\": 0, \"ticks\": \"\"}, \"colorscale\": [[0.0, \"#0d0887\"], [0.1111111111111111, \"#46039f\"], [0.2222222222222222, \"#7201a8\"], [0.3333333333333333, \"#9c179e\"], [0.4444444444444444, \"#bd3786\"], [0.5555555555555556, \"#d8576b\"], [0.6666666666666666, \"#ed7953\"], [0.7777777777777778, \"#fb9f3a\"], [0.8888888888888888, \"#fdca26\"], [1.0, \"#f0f921\"]], \"type\": \"histogram2d\"}], \"histogram2dcontour\": [{\"colorbar\": {\"outlinewidth\": 0, \"ticks\": \"\"}, \"colorscale\": [[0.0, \"#0d0887\"], [0.1111111111111111, \"#46039f\"], [0.2222222222222222, \"#7201a8\"], [0.3333333333333333, \"#9c179e\"], [0.4444444444444444, \"#bd3786\"], [0.5555555555555556, \"#d8576b\"], [0.6666666666666666, \"#ed7953\"], [0.7777777777777778, \"#fb9f3a\"], [0.8888888888888888, \"#fdca26\"], [1.0, \"#f0f921\"]], \"type\": \"histogram2dcontour\"}], \"mesh3d\": [{\"colorbar\": {\"outlinewidth\": 0, \"ticks\": \"\"}, \"type\": \"mesh3d\"}], \"parcoords\": [{\"line\": {\"colorbar\": {\"outlinewidth\": 0, \"ticks\": \"\"}}, \"type\": \"parcoords\"}], \"pie\": [{\"automargin\": true, \"type\": \"pie\"}], \"scatter\": [{\"marker\": {\"colorbar\": {\"outlinewidth\": 0, \"ticks\": \"\"}}, \"type\": \"scatter\"}], \"scatter3d\": [{\"line\": {\"colorbar\": {\"outlinewidth\": 0, \"ticks\": \"\"}}, \"marker\": {\"colorbar\": {\"outlinewidth\": 0, \"ticks\": \"\"}}, \"type\": \"scatter3d\"}], \"scattercarpet\": [{\"marker\": {\"colorbar\": {\"outlinewidth\": 0, \"ticks\": \"\"}}, \"type\": \"scattercarpet\"}], \"scattergeo\": [{\"marker\": {\"colorbar\": {\"outlinewidth\": 0, \"ticks\": \"\"}}, \"type\": \"scattergeo\"}], \"scattergl\": [{\"marker\": {\"colorbar\": {\"outlinewidth\": 0, \"ticks\": \"\"}}, \"type\": \"scattergl\"}], \"scattermapbox\": [{\"marker\": {\"colorbar\": {\"outlinewidth\": 0, \"ticks\": \"\"}}, \"type\": \"scattermapbox\"}], \"scatterpolar\": [{\"marker\": {\"colorbar\": {\"outlinewidth\": 0, \"ticks\": \"\"}}, \"type\": \"scatterpolar\"}], \"scatterpolargl\": [{\"marker\": {\"colorbar\": {\"outlinewidth\": 0, \"ticks\": \"\"}}, \"type\": \"scatterpolargl\"}], \"scatterternary\": [{\"marker\": {\"colorbar\": {\"outlinewidth\": 0, \"ticks\": \"\"}}, \"type\": \"scatterternary\"}], \"surface\": [{\"colorbar\": {\"outlinewidth\": 0, \"ticks\": \"\"}, \"colorscale\": [[0.0, \"#0d0887\"], [0.1111111111111111, \"#46039f\"], [0.2222222222222222, \"#7201a8\"], [0.3333333333333333, \"#9c179e\"], [0.4444444444444444, \"#bd3786\"], [0.5555555555555556, \"#d8576b\"], [0.6666666666666666, \"#ed7953\"], [0.7777777777777778, \"#fb9f3a\"], [0.8888888888888888, \"#fdca26\"], [1.0, \"#f0f921\"]], \"type\": \"surface\"}], \"table\": [{\"cells\": {\"fill\": {\"color\": \"#EBF0F8\"}, \"line\": {\"color\": \"white\"}}, \"header\": {\"fill\": {\"color\": \"#C8D4E3\"}, \"line\": {\"color\": \"white\"}}, \"type\": \"table\"}]}, \"layout\": {\"annotationdefaults\": {\"arrowcolor\": \"#2a3f5f\", \"arrowhead\": 0, \"arrowwidth\": 1}, \"coloraxis\": {\"colorbar\": {\"outlinewidth\": 0, \"ticks\": \"\"}}, \"colorscale\": {\"diverging\": [[0, \"#8e0152\"], [0.1, \"#c51b7d\"], [0.2, \"#de77ae\"], [0.3, \"#f1b6da\"], [0.4, \"#fde0ef\"], [0.5, \"#f7f7f7\"], [0.6, \"#e6f5d0\"], [0.7, \"#b8e186\"], [0.8, \"#7fbc41\"], [0.9, \"#4d9221\"], [1, \"#276419\"]], \"sequential\": [[0.0, \"#0d0887\"], [0.1111111111111111, \"#46039f\"], [0.2222222222222222, \"#7201a8\"], [0.3333333333333333, \"#9c179e\"], [0.4444444444444444, \"#bd3786\"], [0.5555555555555556, \"#d8576b\"], [0.6666666666666666, \"#ed7953\"], [0.7777777777777778, \"#fb9f3a\"], [0.8888888888888888, \"#fdca26\"], [1.0, \"#f0f921\"]], \"sequentialminus\": [[0.0, \"#0d0887\"], [0.1111111111111111, \"#46039f\"], [0.2222222222222222, \"#7201a8\"], [0.3333333333333333, \"#9c179e\"], [0.4444444444444444, \"#bd3786\"], [0.5555555555555556, \"#d8576b\"], [0.6666666666666666, \"#ed7953\"], [0.7777777777777778, \"#fb9f3a\"], [0.8888888888888888, \"#fdca26\"], [1.0, \"#f0f921\"]]}, \"colorway\": [\"#636efa\", \"#EF553B\", \"#00cc96\", \"#ab63fa\", \"#FFA15A\", \"#19d3f3\", \"#FF6692\", \"#B6E880\", \"#FF97FF\", \"#FECB52\"], \"font\": {\"color\": \"#2a3f5f\"}, \"geo\": {\"bgcolor\": \"white\", \"lakecolor\": \"white\", \"landcolor\": \"#E5ECF6\", \"showlakes\": true, \"showland\": true, \"subunitcolor\": \"white\"}, \"hoverlabel\": {\"align\": \"left\"}, \"hovermode\": \"closest\", \"mapbox\": {\"style\": \"light\"}, \"paper_bgcolor\": \"white\", \"plot_bgcolor\": \"#E5ECF6\", \"polar\": {\"angularaxis\": {\"gridcolor\": \"white\", \"linecolor\": \"white\", \"ticks\": \"\"}, \"bgcolor\": \"#E5ECF6\", \"radialaxis\": {\"gridcolor\": \"white\", \"linecolor\": \"white\", \"ticks\": \"\"}}, \"scene\": {\"xaxis\": {\"backgroundcolor\": \"#E5ECF6\", \"gridcolor\": \"white\", \"gridwidth\": 2, \"linecolor\": \"white\", \"showbackground\": true, \"ticks\": \"\", \"zerolinecolor\": \"white\"}, \"yaxis\": {\"backgroundcolor\": \"#E5ECF6\", \"gridcolor\": \"white\", \"gridwidth\": 2, \"linecolor\": \"white\", \"showbackground\": true, \"ticks\": \"\", \"zerolinecolor\": \"white\"}, \"zaxis\": {\"backgroundcolor\": \"#E5ECF6\", \"gridcolor\": \"white\", \"gridwidth\": 2, \"linecolor\": \"white\", \"showbackground\": true, \"ticks\": \"\", \"zerolinecolor\": \"white\"}}, \"shapedefaults\": {\"line\": {\"color\": \"#2a3f5f\"}}, \"ternary\": {\"aaxis\": {\"gridcolor\": \"white\", \"linecolor\": \"white\", \"ticks\": \"\"}, \"baxis\": {\"gridcolor\": \"white\", \"linecolor\": \"white\", \"ticks\": \"\"}, \"bgcolor\": \"#E5ECF6\", \"caxis\": {\"gridcolor\": \"white\", \"linecolor\": \"white\", \"ticks\": \"\"}}, \"title\": {\"x\": 0.05}, \"xaxis\": {\"automargin\": true, \"gridcolor\": \"white\", \"linecolor\": \"white\", \"ticks\": \"\", \"title\": {\"standoff\": 15}, \"zerolinecolor\": \"white\", \"zerolinewidth\": 2}, \"yaxis\": {\"automargin\": true, \"gridcolor\": \"white\", \"linecolor\": \"white\", \"ticks\": \"\", \"title\": {\"standoff\": 15}, \"zerolinecolor\": \"white\", \"zerolinewidth\": 2}}}, \"title\": {\"text\": \"COVID-19 - Mortes 08-04-2020 \\n Zoom at\\u00e9 100\"}, \"xaxis\": {\"anchor\": \"y\", \"domain\": [0.0, 1.0], \"title\": {\"text\": \"Dias desde a primeira morte\"}}, \"yaxis\": {\"anchor\": \"x\", \"domain\": [0.0, 1.0], \"title\": {\"text\": \"Mortes\"}}},\n",
              "                        {\"responsive\": true}\n",
              "                    ).then(function(){\n",
              "                            \n",
              "var gd = document.getElementById('bec5568e-5ffb-48a0-9111-00478e07f43a');\n",
              "var x = new MutationObserver(function (mutations, observer) {{\n",
              "        var display = window.getComputedStyle(gd).display;\n",
              "        if (!display || display === 'none') {{\n",
              "            console.log([gd, 'removed!']);\n",
              "            Plotly.purge(gd);\n",
              "            observer.disconnect();\n",
              "        }}\n",
              "}});\n",
              "\n",
              "// Listen for the removal of the full notebook cells\n",
              "var notebookContainer = gd.closest('#notebook-container');\n",
              "if (notebookContainer) {{\n",
              "    x.observe(notebookContainer, {childList: true});\n",
              "}}\n",
              "\n",
              "// Listen for the clearing of the current output cell\n",
              "var outputEl = gd.closest('.output');\n",
              "if (outputEl) {{\n",
              "    x.observe(outputEl, {childList: true});\n",
              "}}\n",
              "\n",
              "                        })\n",
              "                };\n",
              "                \n",
              "            </script>\n",
              "        </div>\n",
              "</body>\n",
              "</html>"
            ]
          },
          "metadata": {
            "tags": []
          }
        }
      ]
    },
    {
      "cell_type": "markdown",
      "metadata": {
        "id": "F6TFUSW9sr2k",
        "colab_type": "text"
      },
      "source": [
        "Aqui, os gráficos das curvas de mortes em uma aproximação de até 500 e, posteriormente, os completos, nas escalas aritmética e logarítmica. "
      ]
    },
    {
      "cell_type": "code",
      "metadata": {
        "colab_type": "code",
        "id": "Is8_bYPCSrYq",
        "outputId": "bc720b5a-a741-4f2a-baed-f63ac52221da",
        "colab": {
          "base_uri": "https://localhost:8080/",
          "height": 542
        }
      },
      "source": [
        "#hide_input\n",
        "\n",
        "\n",
        "fig = px.line(mmeio_zoom, x=\"Dias desde a primeira morte\", y=\"Mortes\", title='COVID-19 - Mortes {} \\n Zoom até 500'.format(today),\n",
        "              color='Países e territórios',color_discrete_sequence=[\"black\", \"blue\",'green',\"darkmagenta\",\"gray\",\"brown\",\"orange\",\"magenta\",'red',\"darkblue\",\"lightgreen\",'coral','lightblue'])\n",
        "fig.update_layout(legend= {'title':'País','borderwidth':0,'orientation':'v','yanchor':'top','font':{'size':8}})\n",
        "\n",
        "fig.update_layout()\n",
        "fig.show()"
      ],
      "execution_count": 56,
      "outputs": [
        {
          "output_type": "display_data",
          "data": {
            "text/html": [
              "<html>\n",
              "<head><meta charset=\"utf-8\" /></head>\n",
              "<body>\n",
              "    <div>\n",
              "            <script src=\"https://cdnjs.cloudflare.com/ajax/libs/mathjax/2.7.5/MathJax.js?config=TeX-AMS-MML_SVG\"></script><script type=\"text/javascript\">if (window.MathJax) {MathJax.Hub.Config({SVG: {font: \"STIX-Web\"}});}</script>\n",
              "                <script type=\"text/javascript\">window.PlotlyConfig = {MathJaxConfig: 'local'};</script>\n",
              "        <script src=\"https://cdn.plot.ly/plotly-latest.min.js\"></script>    \n",
              "            <div id=\"e5174617-dcb4-45e7-a417-aa080bb9b8fa\" class=\"plotly-graph-div\" style=\"height:525px; width:100%;\"></div>\n",
              "            <script type=\"text/javascript\">\n",
              "                \n",
              "                    window.PLOTLYENV=window.PLOTLYENV || {};\n",
              "                    \n",
              "                if (document.getElementById(\"e5174617-dcb4-45e7-a417-aa080bb9b8fa\")) {\n",
              "                    Plotly.newPlot(\n",
              "                        'e5174617-dcb4-45e7-a417-aa080bb9b8fa',\n",
              "                        [{\"hovertemplate\": \"Pa\\u00edses e territ\\u00f3rios=Brazil<br>Dias desde a primeira morte=%{x}<br>Mortes=%{y}<extra></extra>\", \"legendgroup\": \"Brazil\", \"line\": {\"color\": \"black\", \"dash\": \"solid\"}, \"mode\": \"lines\", \"name\": \"Brazil\", \"showlegend\": true, \"type\": \"scatter\", \"x\": [0, 1, 2, 3, 4, 5, 6, 7, 8, 9, 10, 11, 12, 13, 14, 15, 16, 17, 18, 19], \"xaxis\": \"x\", \"y\": [1, 4, 6, 11, 18, 25, 34, 46, 57, 77, 92, 114, 136, 159, 201, 241, 299, 359, 432, 486], \"yaxis\": \"y\"}, {\"hovertemplate\": \"Pa\\u00edses e territ\\u00f3rios=Italy<br>Dias desde a primeira morte=%{x}<br>Mortes=%{y}<extra></extra>\", \"legendgroup\": \"Italy\", \"line\": {\"color\": \"blue\", \"dash\": \"solid\"}, \"mode\": \"lines\", \"name\": \"Italy\", \"showlegend\": true, \"type\": \"scatter\", \"x\": [0, 1, 2, 3, 4, 5, 6, 7, 8, 9, 10, 11, 12, 13, 14, 15, 16], \"xaxis\": \"x\", \"y\": [2, 2, 6, 11, 12, 17, 21, 29, 35, 52, 80, 107, 148, 197, 233, 366, 464], \"yaxis\": \"y\"}, {\"hovertemplate\": \"Pa\\u00edses e territ\\u00f3rios=Japan<br>Dias desde a primeira morte=%{x}<br>Mortes=%{y}<extra></extra>\", \"legendgroup\": \"Japan\", \"line\": {\"color\": \"green\", \"dash\": \"solid\"}, \"mode\": \"lines\", \"name\": \"Japan\", \"showlegend\": true, \"type\": \"scatter\", \"x\": [0, 1, 2, 3, 4, 5, 6, 7, 8, 9, 10, 11, 12, 13, 14, 15, 16, 17, 18, 19, 20, 21, 22, 23, 24, 25, 26, 27, 28, 29, 30, 31, 32, 33, 34, 35, 36, 37, 38, 39, 40, 41, 42, 43, 44, 45, 46, 47, 48, 49, 50, 51, 52, 53, 54, 55], \"xaxis\": \"x\", \"y\": [1, 1, 1, 1, 1, 1, 1, 1, 1, 1, 1, 1, 1, 1, 3, 3, 3, 5, 6, 6, 6, 6, 6, 6, 6, 7, 9, 12, 15, 19, 21, 22, 24, 28, 28, 29, 33, 35, 36, 41, 42, 43, 45, 46, 49, 52, 54, 56, 56, 57, 63, 69, 70, 73, 80, 80], \"yaxis\": \"y\"}, {\"hovertemplate\": \"Pa\\u00edses e territ\\u00f3rios=United_Kingdom<br>Dias desde a primeira morte=%{x}<br>Mortes=%{y}<extra></extra>\", \"legendgroup\": \"United_Kingdom\", \"line\": {\"color\": \"darkmagenta\", \"dash\": \"solid\"}, \"mode\": \"lines\", \"name\": \"United_Kingdom\", \"showlegend\": true, \"type\": \"scatter\", \"x\": [0, 1, 2, 3, 4, 5, 6, 7, 8, 9, 10, 11, 12, 13, 14, 15, 16, 17, 18, 19, 20], \"xaxis\": \"x\", \"y\": [1, 1, 2, 3, 5, 6, 6, 10, 10, 21, 35, 55, 60, 103, 144, 177, 233, 281, 335, 422, 463], \"yaxis\": \"y\"}, {\"hovertemplate\": \"Pa\\u00edses e territ\\u00f3rios=United_States_of_America<br>Dias desde a primeira morte=%{x}<br>Mortes=%{y}<extra></extra>\", \"legendgroup\": \"United_States_of_America\", \"line\": {\"color\": \"gray\", \"dash\": \"solid\"}, \"mode\": \"lines\", \"name\": \"United_States_of_America\", \"showlegend\": true, \"type\": \"scatter\", \"x\": [0, 1, 2, 3, 4, 5, 6, 7, 8, 9, 10, 11, 12, 13, 14, 15, 16, 17, 18, 19, 20, 21, 22], \"xaxis\": \"x\", \"y\": [1, 2, 6, 9, 11, 12, 14, 17, 21, 26, 28, 30, 40, 47, 57, 69, 85, 108, 150, 150, 260, 340, 471], \"yaxis\": \"y\"}, {\"hovertemplate\": \"Pa\\u00edses e territ\\u00f3rios=South_Korea<br>Dias desde a primeira morte=%{x}<br>Mortes=%{y}<extra></extra>\", \"legendgroup\": \"South_Korea\", \"line\": {\"color\": \"brown\", \"dash\": \"solid\"}, \"mode\": \"lines\", \"name\": \"South_Korea\", \"showlegend\": true, \"type\": \"scatter\", \"x\": [0, 1, 2, 3, 4, 5, 6, 7, 8, 9, 10, 11, 12, 13, 14, 15, 16, 17, 18, 19, 20, 21, 22, 23, 24, 25, 26, 27, 28, 29, 30, 31, 32, 33, 34, 35, 36, 37, 38, 39, 40, 41, 42, 43, 44, 45, 46, 47], \"xaxis\": \"x\", \"y\": [1, 2, 5, 7, 8, 11, 12, 13, 16, 17, 22, 28, 32, 35, 42, 44, 50, 51, 54, 60, 66, 67, 72, 75, 75, 81, 86, 91, 100, 103, 104, 113, 120, 126, 131, 139, 144, 152, 158, 163, 163, 169, 174, 177, 183, 186, 192, 200], \"yaxis\": \"y\"}, {\"hovertemplate\": \"Pa\\u00edses e territ\\u00f3rios=France<br>Dias desde a primeira morte=%{x}<br>Mortes=%{y}<extra></extra>\", \"legendgroup\": \"France\", \"line\": {\"color\": \"orange\", \"dash\": \"solid\"}, \"mode\": \"lines\", \"name\": \"France\", \"showlegend\": true, \"type\": \"scatter\", \"x\": [0, 1, 2, 3, 4, 5, 6, 7, 8, 9, 10, 11, 12, 13, 14, 15, 16, 17, 18, 19, 20, 21, 22, 23, 24, 25, 26, 27, 28, 29, 30, 31, 32, 33, 34, 35], \"xaxis\": \"x\", \"y\": [1, 1, 1, 1, 1, 1, 1, 1, 1, 1, 1, 1, 2, 2, 2, 2, 2, 3, 4, 4, 7, 9, 10, 19, 30, 33, 48, 61, 79, 91, 127, 148, 175, 244, 372, 450], \"yaxis\": \"y\"}, {\"hovertemplate\": \"Pa\\u00edses e territ\\u00f3rios=China<br>Dias desde a primeira morte=%{x}<br>Mortes=%{y}<extra></extra>\", \"legendgroup\": \"China\", \"line\": {\"color\": \"magenta\", \"dash\": \"solid\"}, \"mode\": \"lines\", \"name\": \"China\", \"showlegend\": true, \"type\": \"scatter\", \"x\": [0, 1, 2, 3, 4, 5, 6, 7, 8, 9, 10, 11, 12, 13, 14, 15, 16, 17, 18, 19, 20, 21, 22, 23, 24, 25], \"xaxis\": \"x\", \"y\": [1, 1, 1, 1, 2, 2, 2, 2, 3, 3, 6, 17, 17, 26, 41, 56, 81, 106, 132, 170, 213, 259, 304, 361, 426, 492], \"yaxis\": \"y\"}, {\"hovertemplate\": \"Pa\\u00edses e territ\\u00f3rios=Spain<br>Dias desde a primeira morte=%{x}<br>Mortes=%{y}<extra></extra>\", \"legendgroup\": \"Spain\", \"line\": {\"color\": \"red\", \"dash\": \"solid\"}, \"mode\": \"lines\", \"name\": \"Spain\", \"showlegend\": true, \"type\": \"scatter\", \"x\": [0, 1, 2, 3, 4, 5, 6, 7, 8, 9, 10, 11, 12, 13], \"xaxis\": \"x\", \"y\": [1, 3, 5, 5, 5, 28, 35, 47, 84, 121, 136, 288, 309, 491], \"yaxis\": \"y\"}, {\"hovertemplate\": \"Pa\\u00edses e territ\\u00f3rios=Argentina<br>Dias desde a primeira morte=%{x}<br>Mortes=%{y}<extra></extra>\", \"legendgroup\": \"Argentina\", \"line\": {\"color\": \"darkblue\", \"dash\": \"solid\"}, \"mode\": \"lines\", \"name\": \"Argentina\", \"showlegend\": true, \"type\": \"scatter\", \"x\": [0, 1, 2, 3, 4, 5, 6, 7, 8, 9, 10, 11, 12, 13, 14, 15, 16, 17, 18, 19, 20, 21, 22, 23, 24, 25, 26, 27, 28, 29], \"xaxis\": \"x\", \"y\": [1, 1, 1, 1, 2, 2, 2, 2, 2, 2, 3, 3, 4, 4, 4, 6, 8, 12, 17, 19, 20, 24, 24, 31, 34, 37, 43, 46, 53, 60], \"yaxis\": \"y\"}, {\"hovertemplate\": \"Pa\\u00edses e territ\\u00f3rios=India<br>Dias desde a primeira morte=%{x}<br>Mortes=%{y}<extra></extra>\", \"legendgroup\": \"India\", \"line\": {\"color\": \"lightgreen\", \"dash\": \"solid\"}, \"mode\": \"lines\", \"name\": \"India\", \"showlegend\": true, \"type\": \"scatter\", \"x\": [0, 1, 2, 3, 4, 5, 6, 7, 8, 9, 10, 11, 12, 13, 14, 15, 16, 17, 18, 19, 20, 21, 22, 23, 24, 25, 26], \"xaxis\": \"x\", \"y\": [1, 2, 2, 2, 3, 3, 3, 4, 4, 4, 7, 9, 9, 13, 17, 19, 25, 29, 32, 35, 50, 56, 68, 77, 109, 114, 149], \"yaxis\": \"y\"}, {\"hovertemplate\": \"Pa\\u00edses e territ\\u00f3rios=Germany<br>Dias desde a primeira morte=%{x}<br>Mortes=%{y}<extra></extra>\", \"legendgroup\": \"Germany\", \"line\": {\"color\": \"coral\", \"dash\": \"solid\"}, \"mode\": \"lines\", \"name\": \"Germany\", \"showlegend\": true, \"type\": \"scatter\", \"x\": [0, 1, 2, 3, 4, 5, 6, 7, 8, 9, 10, 11, 12, 13, 14, 15, 16, 17, 18, 19, 20], \"xaxis\": \"x\", \"y\": [2, 2, 3, 5, 5, 8, 12, 13, 13, 13, 43, 45, 67, 94, 126, 149, 198, 253, 325, 389, 455], \"yaxis\": \"y\"}, {\"hovertemplate\": \"Pa\\u00edses e territ\\u00f3rios=Czechia<br>Dias desde a primeira morte=%{x}<br>Mortes=%{y}<extra></extra>\", \"legendgroup\": \"Czechia\", \"line\": {\"color\": \"lightblue\", \"dash\": \"solid\"}, \"mode\": \"lines\", \"name\": \"Czechia\", \"showlegend\": true, \"type\": \"scatter\", \"x\": [0, 1, 2, 3, 4, 5, 6, 7, 8, 9, 10, 11, 12, 13, 14, 15, 16], \"xaxis\": \"x\", \"y\": [1, 1, 3, 6, 9, 9, 11, 16, 24, 31, 39, 44, 53, 59, 67, 78, 88], \"yaxis\": \"y\"}],\n",
              "                        {\"legend\": {\"borderwidth\": 0, \"font\": {\"size\": 8}, \"orientation\": \"v\", \"title\": {\"text\": \"Pa\\u00eds\"}, \"tracegroupgap\": 0, \"yanchor\": \"top\"}, \"template\": {\"data\": {\"bar\": [{\"error_x\": {\"color\": \"#2a3f5f\"}, \"error_y\": {\"color\": \"#2a3f5f\"}, \"marker\": {\"line\": {\"color\": \"#E5ECF6\", \"width\": 0.5}}, \"type\": \"bar\"}], \"barpolar\": [{\"marker\": {\"line\": {\"color\": \"#E5ECF6\", \"width\": 0.5}}, \"type\": \"barpolar\"}], \"carpet\": [{\"aaxis\": {\"endlinecolor\": \"#2a3f5f\", \"gridcolor\": \"white\", \"linecolor\": \"white\", \"minorgridcolor\": \"white\", \"startlinecolor\": \"#2a3f5f\"}, \"baxis\": {\"endlinecolor\": \"#2a3f5f\", \"gridcolor\": \"white\", \"linecolor\": \"white\", \"minorgridcolor\": \"white\", \"startlinecolor\": \"#2a3f5f\"}, \"type\": \"carpet\"}], \"choropleth\": [{\"colorbar\": {\"outlinewidth\": 0, \"ticks\": \"\"}, \"type\": \"choropleth\"}], \"contour\": [{\"colorbar\": {\"outlinewidth\": 0, \"ticks\": \"\"}, \"colorscale\": [[0.0, \"#0d0887\"], [0.1111111111111111, \"#46039f\"], [0.2222222222222222, \"#7201a8\"], [0.3333333333333333, \"#9c179e\"], [0.4444444444444444, \"#bd3786\"], [0.5555555555555556, \"#d8576b\"], [0.6666666666666666, \"#ed7953\"], [0.7777777777777778, \"#fb9f3a\"], [0.8888888888888888, \"#fdca26\"], [1.0, \"#f0f921\"]], \"type\": \"contour\"}], \"contourcarpet\": [{\"colorbar\": {\"outlinewidth\": 0, \"ticks\": \"\"}, \"type\": \"contourcarpet\"}], \"heatmap\": [{\"colorbar\": {\"outlinewidth\": 0, \"ticks\": \"\"}, \"colorscale\": [[0.0, \"#0d0887\"], [0.1111111111111111, \"#46039f\"], [0.2222222222222222, \"#7201a8\"], [0.3333333333333333, \"#9c179e\"], [0.4444444444444444, \"#bd3786\"], [0.5555555555555556, \"#d8576b\"], [0.6666666666666666, \"#ed7953\"], [0.7777777777777778, \"#fb9f3a\"], [0.8888888888888888, \"#fdca26\"], [1.0, \"#f0f921\"]], \"type\": \"heatmap\"}], \"heatmapgl\": [{\"colorbar\": {\"outlinewidth\": 0, \"ticks\": \"\"}, \"colorscale\": [[0.0, \"#0d0887\"], [0.1111111111111111, \"#46039f\"], [0.2222222222222222, \"#7201a8\"], [0.3333333333333333, \"#9c179e\"], [0.4444444444444444, \"#bd3786\"], [0.5555555555555556, \"#d8576b\"], [0.6666666666666666, \"#ed7953\"], [0.7777777777777778, \"#fb9f3a\"], [0.8888888888888888, \"#fdca26\"], [1.0, \"#f0f921\"]], \"type\": \"heatmapgl\"}], \"histogram\": [{\"marker\": {\"colorbar\": {\"outlinewidth\": 0, \"ticks\": \"\"}}, \"type\": \"histogram\"}], \"histogram2d\": [{\"colorbar\": {\"outlinewidth\": 0, \"ticks\": \"\"}, \"colorscale\": [[0.0, \"#0d0887\"], [0.1111111111111111, \"#46039f\"], [0.2222222222222222, \"#7201a8\"], [0.3333333333333333, \"#9c179e\"], [0.4444444444444444, \"#bd3786\"], [0.5555555555555556, \"#d8576b\"], [0.6666666666666666, \"#ed7953\"], [0.7777777777777778, \"#fb9f3a\"], [0.8888888888888888, \"#fdca26\"], [1.0, \"#f0f921\"]], \"type\": \"histogram2d\"}], \"histogram2dcontour\": [{\"colorbar\": {\"outlinewidth\": 0, \"ticks\": \"\"}, \"colorscale\": [[0.0, \"#0d0887\"], [0.1111111111111111, \"#46039f\"], [0.2222222222222222, \"#7201a8\"], [0.3333333333333333, \"#9c179e\"], [0.4444444444444444, \"#bd3786\"], [0.5555555555555556, \"#d8576b\"], [0.6666666666666666, \"#ed7953\"], [0.7777777777777778, \"#fb9f3a\"], [0.8888888888888888, \"#fdca26\"], [1.0, \"#f0f921\"]], \"type\": \"histogram2dcontour\"}], \"mesh3d\": [{\"colorbar\": {\"outlinewidth\": 0, \"ticks\": \"\"}, \"type\": \"mesh3d\"}], \"parcoords\": [{\"line\": {\"colorbar\": {\"outlinewidth\": 0, \"ticks\": \"\"}}, \"type\": \"parcoords\"}], \"pie\": [{\"automargin\": true, \"type\": \"pie\"}], \"scatter\": [{\"marker\": {\"colorbar\": {\"outlinewidth\": 0, \"ticks\": \"\"}}, \"type\": \"scatter\"}], \"scatter3d\": [{\"line\": {\"colorbar\": {\"outlinewidth\": 0, \"ticks\": \"\"}}, \"marker\": {\"colorbar\": {\"outlinewidth\": 0, \"ticks\": \"\"}}, \"type\": \"scatter3d\"}], \"scattercarpet\": [{\"marker\": {\"colorbar\": {\"outlinewidth\": 0, \"ticks\": \"\"}}, \"type\": \"scattercarpet\"}], \"scattergeo\": [{\"marker\": {\"colorbar\": {\"outlinewidth\": 0, \"ticks\": \"\"}}, \"type\": \"scattergeo\"}], \"scattergl\": [{\"marker\": {\"colorbar\": {\"outlinewidth\": 0, \"ticks\": \"\"}}, \"type\": \"scattergl\"}], \"scattermapbox\": [{\"marker\": {\"colorbar\": {\"outlinewidth\": 0, \"ticks\": \"\"}}, \"type\": \"scattermapbox\"}], \"scatterpolar\": [{\"marker\": {\"colorbar\": {\"outlinewidth\": 0, \"ticks\": \"\"}}, \"type\": \"scatterpolar\"}], \"scatterpolargl\": [{\"marker\": {\"colorbar\": {\"outlinewidth\": 0, \"ticks\": \"\"}}, \"type\": \"scatterpolargl\"}], \"scatterternary\": [{\"marker\": {\"colorbar\": {\"outlinewidth\": 0, \"ticks\": \"\"}}, \"type\": \"scatterternary\"}], \"surface\": [{\"colorbar\": {\"outlinewidth\": 0, \"ticks\": \"\"}, \"colorscale\": [[0.0, \"#0d0887\"], [0.1111111111111111, \"#46039f\"], [0.2222222222222222, \"#7201a8\"], [0.3333333333333333, \"#9c179e\"], [0.4444444444444444, \"#bd3786\"], [0.5555555555555556, \"#d8576b\"], [0.6666666666666666, \"#ed7953\"], [0.7777777777777778, \"#fb9f3a\"], [0.8888888888888888, \"#fdca26\"], [1.0, \"#f0f921\"]], \"type\": \"surface\"}], \"table\": [{\"cells\": {\"fill\": {\"color\": \"#EBF0F8\"}, \"line\": {\"color\": \"white\"}}, \"header\": {\"fill\": {\"color\": \"#C8D4E3\"}, \"line\": {\"color\": \"white\"}}, \"type\": \"table\"}]}, \"layout\": {\"annotationdefaults\": {\"arrowcolor\": \"#2a3f5f\", \"arrowhead\": 0, \"arrowwidth\": 1}, \"coloraxis\": {\"colorbar\": {\"outlinewidth\": 0, \"ticks\": \"\"}}, \"colorscale\": {\"diverging\": [[0, \"#8e0152\"], [0.1, \"#c51b7d\"], [0.2, \"#de77ae\"], [0.3, \"#f1b6da\"], [0.4, \"#fde0ef\"], [0.5, \"#f7f7f7\"], [0.6, \"#e6f5d0\"], [0.7, \"#b8e186\"], [0.8, \"#7fbc41\"], [0.9, \"#4d9221\"], [1, \"#276419\"]], \"sequential\": [[0.0, \"#0d0887\"], [0.1111111111111111, \"#46039f\"], [0.2222222222222222, \"#7201a8\"], [0.3333333333333333, \"#9c179e\"], [0.4444444444444444, \"#bd3786\"], [0.5555555555555556, \"#d8576b\"], [0.6666666666666666, \"#ed7953\"], [0.7777777777777778, \"#fb9f3a\"], [0.8888888888888888, \"#fdca26\"], [1.0, \"#f0f921\"]], \"sequentialminus\": [[0.0, \"#0d0887\"], [0.1111111111111111, \"#46039f\"], [0.2222222222222222, \"#7201a8\"], [0.3333333333333333, \"#9c179e\"], [0.4444444444444444, \"#bd3786\"], [0.5555555555555556, \"#d8576b\"], [0.6666666666666666, \"#ed7953\"], [0.7777777777777778, \"#fb9f3a\"], [0.8888888888888888, \"#fdca26\"], [1.0, \"#f0f921\"]]}, \"colorway\": [\"#636efa\", \"#EF553B\", \"#00cc96\", \"#ab63fa\", \"#FFA15A\", \"#19d3f3\", \"#FF6692\", \"#B6E880\", \"#FF97FF\", \"#FECB52\"], \"font\": {\"color\": \"#2a3f5f\"}, \"geo\": {\"bgcolor\": \"white\", \"lakecolor\": \"white\", \"landcolor\": \"#E5ECF6\", \"showlakes\": true, \"showland\": true, \"subunitcolor\": \"white\"}, \"hoverlabel\": {\"align\": \"left\"}, \"hovermode\": \"closest\", \"mapbox\": {\"style\": \"light\"}, \"paper_bgcolor\": \"white\", \"plot_bgcolor\": \"#E5ECF6\", \"polar\": {\"angularaxis\": {\"gridcolor\": \"white\", \"linecolor\": \"white\", \"ticks\": \"\"}, \"bgcolor\": \"#E5ECF6\", \"radialaxis\": {\"gridcolor\": \"white\", \"linecolor\": \"white\", \"ticks\": \"\"}}, \"scene\": {\"xaxis\": {\"backgroundcolor\": \"#E5ECF6\", \"gridcolor\": \"white\", \"gridwidth\": 2, \"linecolor\": \"white\", \"showbackground\": true, \"ticks\": \"\", \"zerolinecolor\": \"white\"}, \"yaxis\": {\"backgroundcolor\": \"#E5ECF6\", \"gridcolor\": \"white\", \"gridwidth\": 2, \"linecolor\": \"white\", \"showbackground\": true, \"ticks\": \"\", \"zerolinecolor\": \"white\"}, \"zaxis\": {\"backgroundcolor\": \"#E5ECF6\", \"gridcolor\": \"white\", \"gridwidth\": 2, \"linecolor\": \"white\", \"showbackground\": true, \"ticks\": \"\", \"zerolinecolor\": \"white\"}}, \"shapedefaults\": {\"line\": {\"color\": \"#2a3f5f\"}}, \"ternary\": {\"aaxis\": {\"gridcolor\": \"white\", \"linecolor\": \"white\", \"ticks\": \"\"}, \"baxis\": {\"gridcolor\": \"white\", \"linecolor\": \"white\", \"ticks\": \"\"}, \"bgcolor\": \"#E5ECF6\", \"caxis\": {\"gridcolor\": \"white\", \"linecolor\": \"white\", \"ticks\": \"\"}}, \"title\": {\"x\": 0.05}, \"xaxis\": {\"automargin\": true, \"gridcolor\": \"white\", \"linecolor\": \"white\", \"ticks\": \"\", \"title\": {\"standoff\": 15}, \"zerolinecolor\": \"white\", \"zerolinewidth\": 2}, \"yaxis\": {\"automargin\": true, \"gridcolor\": \"white\", \"linecolor\": \"white\", \"ticks\": \"\", \"title\": {\"standoff\": 15}, \"zerolinecolor\": \"white\", \"zerolinewidth\": 2}}}, \"title\": {\"text\": \"COVID-19 - Mortes 08-04-2020 \\n Zoom at\\u00e9 500\"}, \"xaxis\": {\"anchor\": \"y\", \"domain\": [0.0, 1.0], \"title\": {\"text\": \"Dias desde a primeira morte\"}}, \"yaxis\": {\"anchor\": \"x\", \"domain\": [0.0, 1.0], \"title\": {\"text\": \"Mortes\"}}},\n",
              "                        {\"responsive\": true}\n",
              "                    ).then(function(){\n",
              "                            \n",
              "var gd = document.getElementById('e5174617-dcb4-45e7-a417-aa080bb9b8fa');\n",
              "var x = new MutationObserver(function (mutations, observer) {{\n",
              "        var display = window.getComputedStyle(gd).display;\n",
              "        if (!display || display === 'none') {{\n",
              "            console.log([gd, 'removed!']);\n",
              "            Plotly.purge(gd);\n",
              "            observer.disconnect();\n",
              "        }}\n",
              "}});\n",
              "\n",
              "// Listen for the removal of the full notebook cells\n",
              "var notebookContainer = gd.closest('#notebook-container');\n",
              "if (notebookContainer) {{\n",
              "    x.observe(notebookContainer, {childList: true});\n",
              "}}\n",
              "\n",
              "// Listen for the clearing of the current output cell\n",
              "var outputEl = gd.closest('.output');\n",
              "if (outputEl) {{\n",
              "    x.observe(outputEl, {childList: true});\n",
              "}}\n",
              "\n",
              "                        })\n",
              "                };\n",
              "                \n",
              "            </script>\n",
              "        </div>\n",
              "</body>\n",
              "</html>"
            ]
          },
          "metadata": {
            "tags": []
          }
        }
      ]
    },
    {
      "cell_type": "code",
      "metadata": {
        "colab_type": "code",
        "id": "GpDxQSaqngDf",
        "outputId": "9fd48ccf-b12a-475b-c7fe-94958ade7775",
        "colab": {
          "base_uri": "https://localhost:8080/",
          "height": 542
        }
      },
      "source": [
        "#hide_input\n",
        "\n",
        "\n",
        "fig = px.line(mfinal_data, x=\"Dias desde a primeira morte\", y=\"Mortes\", color='Países e territórios',title='COVID-19 - Mortes  - {} \\n Escala Aritmética'.format(today),\n",
        "              color_discrete_sequence=[\"black\", \"blue\",'green',\"darkmagenta\",\"gray\",\"brown\",\"orange\",\"magenta\",'red',\"darkblue\",\"lightgreen\",'coral','lightblue'])\n",
        "fig.update_layout(legend= {'title':'País','borderwidth':0,'orientation':'v','yanchor':'top','font':{'size':8}})\n",
        "\n",
        "fig.update_layout()\n",
        "fig.show()"
      ],
      "execution_count": 57,
      "outputs": [
        {
          "output_type": "display_data",
          "data": {
            "text/html": [
              "<html>\n",
              "<head><meta charset=\"utf-8\" /></head>\n",
              "<body>\n",
              "    <div>\n",
              "            <script src=\"https://cdnjs.cloudflare.com/ajax/libs/mathjax/2.7.5/MathJax.js?config=TeX-AMS-MML_SVG\"></script><script type=\"text/javascript\">if (window.MathJax) {MathJax.Hub.Config({SVG: {font: \"STIX-Web\"}});}</script>\n",
              "                <script type=\"text/javascript\">window.PlotlyConfig = {MathJaxConfig: 'local'};</script>\n",
              "        <script src=\"https://cdn.plot.ly/plotly-latest.min.js\"></script>    \n",
              "            <div id=\"0ab5101c-ee06-4696-8fe5-c4ae857b82b1\" class=\"plotly-graph-div\" style=\"height:525px; width:100%;\"></div>\n",
              "            <script type=\"text/javascript\">\n",
              "                \n",
              "                    window.PLOTLYENV=window.PLOTLYENV || {};\n",
              "                    \n",
              "                if (document.getElementById(\"0ab5101c-ee06-4696-8fe5-c4ae857b82b1\")) {\n",
              "                    Plotly.newPlot(\n",
              "                        '0ab5101c-ee06-4696-8fe5-c4ae857b82b1',\n",
              "                        [{\"hovertemplate\": \"Pa\\u00edses e territ\\u00f3rios=Brazil<br>Dias desde a primeira morte=%{x}<br>Mortes=%{y}<extra></extra>\", \"legendgroup\": \"Brazil\", \"line\": {\"color\": \"black\", \"dash\": \"solid\"}, \"mode\": \"lines\", \"name\": \"Brazil\", \"showlegend\": true, \"type\": \"scatter\", \"x\": [0, 1, 2, 3, 4, 5, 6, 7, 8, 9, 10, 11, 12, 13, 14, 15, 16, 17, 18, 19, 20, 21], \"xaxis\": \"x\", \"y\": [1, 4, 6, 11, 18, 25, 34, 46, 57, 77, 92, 114, 136, 159, 201, 241, 299, 359, 432, 486, 553, 667], \"yaxis\": \"y\"}, {\"hovertemplate\": \"Pa\\u00edses e territ\\u00f3rios=Italy<br>Dias desde a primeira morte=%{x}<br>Mortes=%{y}<extra></extra>\", \"legendgroup\": \"Italy\", \"line\": {\"color\": \"blue\", \"dash\": \"solid\"}, \"mode\": \"lines\", \"name\": \"Italy\", \"showlegend\": true, \"type\": \"scatter\", \"x\": [0, 1, 2, 3, 4, 5, 6, 7, 8, 9, 10, 11, 12, 13, 14, 15, 16, 17, 18, 19, 20, 21, 22, 23, 24, 25, 26, 27, 28, 29, 30, 31, 32, 33, 34, 35, 36, 37, 38, 39, 40, 41, 42, 43, 44, 45], \"xaxis\": \"x\", \"y\": [2, 2, 6, 11, 12, 17, 21, 29, 35, 52, 80, 107, 148, 197, 233, 366, 464, 631, 827, 1016, 1268, 1441, 1811, 2158, 2505, 2978, 3407, 4032, 4827, 5476, 6077, 6820, 7505, 8165, 9136, 10023, 10781, 11591, 12430, 13157, 13917, 14681, 15362, 15889, 16525, 17129], \"yaxis\": \"y\"}, {\"hovertemplate\": \"Pa\\u00edses e territ\\u00f3rios=Japan<br>Dias desde a primeira morte=%{x}<br>Mortes=%{y}<extra></extra>\", \"legendgroup\": \"Japan\", \"line\": {\"color\": \"green\", \"dash\": \"solid\"}, \"mode\": \"lines\", \"name\": \"Japan\", \"showlegend\": true, \"type\": \"scatter\", \"x\": [0, 1, 2, 3, 4, 5, 6, 7, 8, 9, 10, 11, 12, 13, 14, 15, 16, 17, 18, 19, 20, 21, 22, 23, 24, 25, 26, 27, 28, 29, 30, 31, 32, 33, 34, 35, 36, 37, 38, 39, 40, 41, 42, 43, 44, 45, 46, 47, 48, 49, 50, 51, 52, 53, 54, 55], \"xaxis\": \"x\", \"y\": [1, 1, 1, 1, 1, 1, 1, 1, 1, 1, 1, 1, 1, 1, 3, 3, 3, 5, 6, 6, 6, 6, 6, 6, 6, 7, 9, 12, 15, 19, 21, 22, 24, 28, 28, 29, 33, 35, 36, 41, 42, 43, 45, 46, 49, 52, 54, 56, 56, 57, 63, 69, 70, 73, 80, 80], \"yaxis\": \"y\"}, {\"hovertemplate\": \"Pa\\u00edses e territ\\u00f3rios=United_Kingdom<br>Dias desde a primeira morte=%{x}<br>Mortes=%{y}<extra></extra>\", \"legendgroup\": \"United_Kingdom\", \"line\": {\"color\": \"darkmagenta\", \"dash\": \"solid\"}, \"mode\": \"lines\", \"name\": \"United_Kingdom\", \"showlegend\": true, \"type\": \"scatter\", \"x\": [0, 1, 2, 3, 4, 5, 6, 7, 8, 9, 10, 11, 12, 13, 14, 15, 16, 17, 18, 19, 20, 21, 22, 23, 24, 25, 26, 27, 28, 29, 30, 31, 32, 33], \"xaxis\": \"x\", \"y\": [1, 1, 2, 3, 5, 6, 6, 10, 10, 21, 35, 55, 60, 103, 144, 177, 233, 281, 335, 422, 463, 578, 759, 1019, 1228, 1408, 1789, 2532, 2921, 3605, 4313, 4934, 5373, 6159], \"yaxis\": \"y\"}, {\"hovertemplate\": \"Pa\\u00edses e territ\\u00f3rios=United_States_of_America<br>Dias desde a primeira morte=%{x}<br>Mortes=%{y}<extra></extra>\", \"legendgroup\": \"United_States_of_America\", \"line\": {\"color\": \"gray\", \"dash\": \"solid\"}, \"mode\": \"lines\", \"name\": \"United_States_of_America\", \"showlegend\": true, \"type\": \"scatter\", \"x\": [0, 1, 2, 3, 4, 5, 6, 7, 8, 9, 10, 11, 12, 13, 14, 15, 16, 17, 18, 19, 20, 21, 22, 23, 24, 25, 26, 27, 28, 29, 30, 31, 32, 33, 34, 35, 36, 37, 38], \"xaxis\": \"x\", \"y\": [1, 2, 6, 9, 11, 12, 14, 17, 21, 26, 28, 30, 40, 47, 57, 69, 85, 108, 150, 150, 260, 340, 471, 590, 801, 1050, 1296, 1707, 2191, 2509, 3170, 4079, 5138, 6053, 7157, 8501, 9647, 10989, 12895], \"yaxis\": \"y\"}, {\"hovertemplate\": \"Pa\\u00edses e territ\\u00f3rios=South_Korea<br>Dias desde a primeira morte=%{x}<br>Mortes=%{y}<extra></extra>\", \"legendgroup\": \"South_Korea\", \"line\": {\"color\": \"brown\", \"dash\": \"solid\"}, \"mode\": \"lines\", \"name\": \"South_Korea\", \"showlegend\": true, \"type\": \"scatter\", \"x\": [0, 1, 2, 3, 4, 5, 6, 7, 8, 9, 10, 11, 12, 13, 14, 15, 16, 17, 18, 19, 20, 21, 22, 23, 24, 25, 26, 27, 28, 29, 30, 31, 32, 33, 34, 35, 36, 37, 38, 39, 40, 41, 42, 43, 44, 45, 46, 47], \"xaxis\": \"x\", \"y\": [1, 2, 5, 7, 8, 11, 12, 13, 16, 17, 22, 28, 32, 35, 42, 44, 50, 51, 54, 60, 66, 67, 72, 75, 75, 81, 86, 91, 100, 103, 104, 113, 120, 126, 131, 139, 144, 152, 158, 163, 163, 169, 174, 177, 183, 186, 192, 200], \"yaxis\": \"y\"}, {\"hovertemplate\": \"Pa\\u00edses e territ\\u00f3rios=France<br>Dias desde a primeira morte=%{x}<br>Mortes=%{y}<extra></extra>\", \"legendgroup\": \"France\", \"line\": {\"color\": \"orange\", \"dash\": \"solid\"}, \"mode\": \"lines\", \"name\": \"France\", \"showlegend\": true, \"type\": \"scatter\", \"x\": [0, 1, 2, 3, 4, 5, 6, 7, 8, 9, 10, 11, 12, 13, 14, 15, 16, 17, 18, 19, 20, 21, 22, 23, 24, 25, 26, 27, 28, 29, 30, 31, 32, 33, 34, 35, 36, 37, 38, 39, 40, 41, 42, 43, 44, 45, 46, 47, 48, 49, 50, 51, 52, 53], \"xaxis\": \"x\", \"y\": [1, 1, 1, 1, 1, 1, 1, 1, 1, 1, 1, 1, 2, 2, 2, 2, 2, 3, 4, 4, 7, 9, 10, 19, 30, 33, 48, 61, 79, 91, 127, 148, 175, 244, 372, 450, 562, 674, 860, 1100, 1331, 1696, 1995, 2314, 2606, 3024, 3523, 4032, 4503, 6507, 7560, 8078, 8911, 10328], \"yaxis\": \"y\"}, {\"hovertemplate\": \"Pa\\u00edses e territ\\u00f3rios=China<br>Dias desde a primeira morte=%{x}<br>Mortes=%{y}<extra></extra>\", \"legendgroup\": \"China\", \"line\": {\"color\": \"magenta\", \"dash\": \"solid\"}, \"mode\": \"lines\", \"name\": \"China\", \"showlegend\": true, \"type\": \"scatter\", \"x\": [0, 1, 2, 3, 4, 5, 6, 7, 8, 9, 10, 11, 12, 13, 14, 15, 16, 17, 18, 19, 20, 21, 22, 23, 24, 25, 26, 27, 28, 29, 30, 31, 32, 33, 34, 35, 36, 37, 38, 39, 40, 41, 42, 43, 44, 45, 46, 47, 48, 49, 50, 51, 52, 53, 54, 55, 56, 57, 58, 59, 60, 61, 62, 63, 64, 65, 66, 67, 68, 69, 70, 71, 72, 73, 74, 75, 76, 77, 78, 79, 80, 81, 82, 83, 84, 85, 86, 87, 88], \"xaxis\": \"x\", \"y\": [1, 1, 1, 1, 2, 2, 2, 2, 3, 3, 6, 17, 17, 26, 41, 56, 81, 106, 132, 170, 213, 259, 304, 361, 426, 492, 564, 637, 723, 812, 909, 1017, 1114, 1368, 1381, 1524, 1666, 1771, 1869, 2008, 2120, 2238, 2347, 2445, 2595, 2665, 2717, 2746, 2790, 2837, 2872, 2914, 2946, 2983, 3014, 3044, 3072, 3099, 3122, 3139, 3161, 3172, 3179, 3194, 3203, 3216, 3225, 3241, 3249, 3253, 3259, 3265, 3274, 3281, 3285, 3291, 3296, 3299, 3304, 3306, 3309, 3310, 3316, 3326, 3330, 3333, 3335, 3335, 3337], \"yaxis\": \"y\"}, {\"hovertemplate\": \"Pa\\u00edses e territ\\u00f3rios=Spain<br>Dias desde a primeira morte=%{x}<br>Mortes=%{y}<extra></extra>\", \"legendgroup\": \"Spain\", \"line\": {\"color\": \"red\", \"dash\": \"solid\"}, \"mode\": \"lines\", \"name\": \"Spain\", \"showlegend\": true, \"type\": \"scatter\", \"x\": [0, 1, 2, 3, 4, 5, 6, 7, 8, 9, 10, 11, 12, 13, 14, 15, 16, 17, 18, 19, 20, 21, 22, 23, 24, 25, 26, 27, 28, 29, 30, 31, 32, 33, 34], \"xaxis\": \"x\", \"y\": [1, 3, 5, 5, 5, 28, 35, 47, 84, 121, 136, 288, 309, 491, 598, 767, 1002, 1326, 1720, 2182, 2696, 3434, 4089, 4858, 5690, 6528, 7340, 8189, 9053, 10003, 10935, 11744, 12418, 13055, 13798], \"yaxis\": \"y\"}, {\"hovertemplate\": \"Pa\\u00edses e territ\\u00f3rios=Argentina<br>Dias desde a primeira morte=%{x}<br>Mortes=%{y}<extra></extra>\", \"legendgroup\": \"Argentina\", \"line\": {\"color\": \"darkblue\", \"dash\": \"solid\"}, \"mode\": \"lines\", \"name\": \"Argentina\", \"showlegend\": true, \"type\": \"scatter\", \"x\": [0, 1, 2, 3, 4, 5, 6, 7, 8, 9, 10, 11, 12, 13, 14, 15, 16, 17, 18, 19, 20, 21, 22, 23, 24, 25, 26, 27, 28, 29], \"xaxis\": \"x\", \"y\": [1, 1, 1, 1, 2, 2, 2, 2, 2, 2, 3, 3, 4, 4, 4, 6, 8, 12, 17, 19, 20, 24, 24, 31, 34, 37, 43, 46, 53, 60], \"yaxis\": \"y\"}, {\"hovertemplate\": \"Pa\\u00edses e territ\\u00f3rios=India<br>Dias desde a primeira morte=%{x}<br>Mortes=%{y}<extra></extra>\", \"legendgroup\": \"India\", \"line\": {\"color\": \"lightgreen\", \"dash\": \"solid\"}, \"mode\": \"lines\", \"name\": \"India\", \"showlegend\": true, \"type\": \"scatter\", \"x\": [0, 1, 2, 3, 4, 5, 6, 7, 8, 9, 10, 11, 12, 13, 14, 15, 16, 17, 18, 19, 20, 21, 22, 23, 24, 25, 26], \"xaxis\": \"x\", \"y\": [1, 2, 2, 2, 3, 3, 3, 4, 4, 4, 7, 9, 9, 13, 17, 19, 25, 29, 32, 35, 50, 56, 68, 77, 109, 114, 149], \"yaxis\": \"y\"}, {\"hovertemplate\": \"Pa\\u00edses e territ\\u00f3rios=Germany<br>Dias desde a primeira morte=%{x}<br>Mortes=%{y}<extra></extra>\", \"legendgroup\": \"Germany\", \"line\": {\"color\": \"coral\", \"dash\": \"solid\"}, \"mode\": \"lines\", \"name\": \"Germany\", \"showlegend\": true, \"type\": \"scatter\", \"x\": [0, 1, 2, 3, 4, 5, 6, 7, 8, 9, 10, 11, 12, 13, 14, 15, 16, 17, 18, 19, 20, 21, 22, 23, 24, 25, 26, 27, 28, 29], \"xaxis\": \"x\", \"y\": [2, 2, 3, 5, 5, 8, 12, 13, 13, 13, 43, 45, 67, 94, 126, 149, 198, 253, 325, 389, 455, 583, 732, 872, 1017, 1158, 1342, 1434, 1607, 1861], \"yaxis\": \"y\"}, {\"hovertemplate\": \"Pa\\u00edses e territ\\u00f3rios=Czechia<br>Dias desde a primeira morte=%{x}<br>Mortes=%{y}<extra></extra>\", \"legendgroup\": \"Czechia\", \"line\": {\"color\": \"lightblue\", \"dash\": \"solid\"}, \"mode\": \"lines\", \"name\": \"Czechia\", \"showlegend\": true, \"type\": \"scatter\", \"x\": [0, 1, 2, 3, 4, 5, 6, 7, 8, 9, 10, 11, 12, 13, 14, 15, 16], \"xaxis\": \"x\", \"y\": [1, 1, 3, 6, 9, 9, 11, 16, 24, 31, 39, 44, 53, 59, 67, 78, 88], \"yaxis\": \"y\"}],\n",
              "                        {\"legend\": {\"borderwidth\": 0, \"font\": {\"size\": 8}, \"orientation\": \"v\", \"title\": {\"text\": \"Pa\\u00eds\"}, \"tracegroupgap\": 0, \"yanchor\": \"top\"}, \"template\": {\"data\": {\"bar\": [{\"error_x\": {\"color\": \"#2a3f5f\"}, \"error_y\": {\"color\": \"#2a3f5f\"}, \"marker\": {\"line\": {\"color\": \"#E5ECF6\", \"width\": 0.5}}, \"type\": \"bar\"}], \"barpolar\": [{\"marker\": {\"line\": {\"color\": \"#E5ECF6\", \"width\": 0.5}}, \"type\": \"barpolar\"}], \"carpet\": [{\"aaxis\": {\"endlinecolor\": \"#2a3f5f\", \"gridcolor\": \"white\", \"linecolor\": \"white\", \"minorgridcolor\": \"white\", \"startlinecolor\": \"#2a3f5f\"}, \"baxis\": {\"endlinecolor\": \"#2a3f5f\", \"gridcolor\": \"white\", \"linecolor\": \"white\", \"minorgridcolor\": \"white\", \"startlinecolor\": \"#2a3f5f\"}, \"type\": \"carpet\"}], \"choropleth\": [{\"colorbar\": {\"outlinewidth\": 0, \"ticks\": \"\"}, \"type\": \"choropleth\"}], \"contour\": [{\"colorbar\": {\"outlinewidth\": 0, \"ticks\": \"\"}, \"colorscale\": [[0.0, \"#0d0887\"], [0.1111111111111111, \"#46039f\"], [0.2222222222222222, \"#7201a8\"], [0.3333333333333333, \"#9c179e\"], [0.4444444444444444, \"#bd3786\"], [0.5555555555555556, \"#d8576b\"], [0.6666666666666666, \"#ed7953\"], [0.7777777777777778, \"#fb9f3a\"], [0.8888888888888888, \"#fdca26\"], [1.0, \"#f0f921\"]], \"type\": \"contour\"}], \"contourcarpet\": [{\"colorbar\": {\"outlinewidth\": 0, \"ticks\": \"\"}, \"type\": \"contourcarpet\"}], \"heatmap\": [{\"colorbar\": {\"outlinewidth\": 0, \"ticks\": \"\"}, \"colorscale\": [[0.0, \"#0d0887\"], [0.1111111111111111, \"#46039f\"], [0.2222222222222222, \"#7201a8\"], [0.3333333333333333, \"#9c179e\"], [0.4444444444444444, \"#bd3786\"], [0.5555555555555556, \"#d8576b\"], [0.6666666666666666, \"#ed7953\"], [0.7777777777777778, \"#fb9f3a\"], [0.8888888888888888, \"#fdca26\"], [1.0, \"#f0f921\"]], \"type\": \"heatmap\"}], \"heatmapgl\": [{\"colorbar\": {\"outlinewidth\": 0, \"ticks\": \"\"}, \"colorscale\": [[0.0, \"#0d0887\"], [0.1111111111111111, \"#46039f\"], [0.2222222222222222, \"#7201a8\"], [0.3333333333333333, \"#9c179e\"], [0.4444444444444444, \"#bd3786\"], [0.5555555555555556, \"#d8576b\"], [0.6666666666666666, \"#ed7953\"], [0.7777777777777778, \"#fb9f3a\"], [0.8888888888888888, \"#fdca26\"], [1.0, \"#f0f921\"]], \"type\": \"heatmapgl\"}], \"histogram\": [{\"marker\": {\"colorbar\": {\"outlinewidth\": 0, \"ticks\": \"\"}}, \"type\": \"histogram\"}], \"histogram2d\": [{\"colorbar\": {\"outlinewidth\": 0, \"ticks\": \"\"}, \"colorscale\": [[0.0, \"#0d0887\"], [0.1111111111111111, \"#46039f\"], [0.2222222222222222, \"#7201a8\"], [0.3333333333333333, \"#9c179e\"], [0.4444444444444444, \"#bd3786\"], [0.5555555555555556, \"#d8576b\"], [0.6666666666666666, \"#ed7953\"], [0.7777777777777778, \"#fb9f3a\"], [0.8888888888888888, \"#fdca26\"], [1.0, \"#f0f921\"]], \"type\": \"histogram2d\"}], \"histogram2dcontour\": [{\"colorbar\": {\"outlinewidth\": 0, \"ticks\": \"\"}, \"colorscale\": [[0.0, \"#0d0887\"], [0.1111111111111111, \"#46039f\"], [0.2222222222222222, \"#7201a8\"], [0.3333333333333333, \"#9c179e\"], [0.4444444444444444, \"#bd3786\"], [0.5555555555555556, \"#d8576b\"], [0.6666666666666666, \"#ed7953\"], [0.7777777777777778, \"#fb9f3a\"], [0.8888888888888888, \"#fdca26\"], [1.0, \"#f0f921\"]], \"type\": \"histogram2dcontour\"}], \"mesh3d\": [{\"colorbar\": {\"outlinewidth\": 0, \"ticks\": \"\"}, \"type\": \"mesh3d\"}], \"parcoords\": [{\"line\": {\"colorbar\": {\"outlinewidth\": 0, \"ticks\": \"\"}}, \"type\": \"parcoords\"}], \"pie\": [{\"automargin\": true, \"type\": \"pie\"}], \"scatter\": [{\"marker\": {\"colorbar\": {\"outlinewidth\": 0, \"ticks\": \"\"}}, \"type\": \"scatter\"}], \"scatter3d\": [{\"line\": {\"colorbar\": {\"outlinewidth\": 0, \"ticks\": \"\"}}, \"marker\": {\"colorbar\": {\"outlinewidth\": 0, \"ticks\": \"\"}}, \"type\": \"scatter3d\"}], \"scattercarpet\": [{\"marker\": {\"colorbar\": {\"outlinewidth\": 0, \"ticks\": \"\"}}, \"type\": \"scattercarpet\"}], \"scattergeo\": [{\"marker\": {\"colorbar\": {\"outlinewidth\": 0, \"ticks\": \"\"}}, \"type\": \"scattergeo\"}], \"scattergl\": [{\"marker\": {\"colorbar\": {\"outlinewidth\": 0, \"ticks\": \"\"}}, \"type\": \"scattergl\"}], \"scattermapbox\": [{\"marker\": {\"colorbar\": {\"outlinewidth\": 0, \"ticks\": \"\"}}, \"type\": \"scattermapbox\"}], \"scatterpolar\": [{\"marker\": {\"colorbar\": {\"outlinewidth\": 0, \"ticks\": \"\"}}, \"type\": \"scatterpolar\"}], \"scatterpolargl\": [{\"marker\": {\"colorbar\": {\"outlinewidth\": 0, \"ticks\": \"\"}}, \"type\": \"scatterpolargl\"}], \"scatterternary\": [{\"marker\": {\"colorbar\": {\"outlinewidth\": 0, \"ticks\": \"\"}}, \"type\": \"scatterternary\"}], \"surface\": [{\"colorbar\": {\"outlinewidth\": 0, \"ticks\": \"\"}, \"colorscale\": [[0.0, \"#0d0887\"], [0.1111111111111111, \"#46039f\"], [0.2222222222222222, \"#7201a8\"], [0.3333333333333333, \"#9c179e\"], [0.4444444444444444, \"#bd3786\"], [0.5555555555555556, \"#d8576b\"], [0.6666666666666666, \"#ed7953\"], [0.7777777777777778, \"#fb9f3a\"], [0.8888888888888888, \"#fdca26\"], [1.0, \"#f0f921\"]], \"type\": \"surface\"}], \"table\": [{\"cells\": {\"fill\": {\"color\": \"#EBF0F8\"}, \"line\": {\"color\": \"white\"}}, \"header\": {\"fill\": {\"color\": \"#C8D4E3\"}, \"line\": {\"color\": \"white\"}}, \"type\": \"table\"}]}, \"layout\": {\"annotationdefaults\": {\"arrowcolor\": \"#2a3f5f\", \"arrowhead\": 0, \"arrowwidth\": 1}, \"coloraxis\": {\"colorbar\": {\"outlinewidth\": 0, \"ticks\": \"\"}}, \"colorscale\": {\"diverging\": [[0, \"#8e0152\"], [0.1, \"#c51b7d\"], [0.2, \"#de77ae\"], [0.3, \"#f1b6da\"], [0.4, \"#fde0ef\"], [0.5, \"#f7f7f7\"], [0.6, \"#e6f5d0\"], [0.7, \"#b8e186\"], [0.8, \"#7fbc41\"], [0.9, \"#4d9221\"], [1, \"#276419\"]], \"sequential\": [[0.0, \"#0d0887\"], [0.1111111111111111, \"#46039f\"], [0.2222222222222222, \"#7201a8\"], [0.3333333333333333, \"#9c179e\"], [0.4444444444444444, \"#bd3786\"], [0.5555555555555556, \"#d8576b\"], [0.6666666666666666, \"#ed7953\"], [0.7777777777777778, \"#fb9f3a\"], [0.8888888888888888, \"#fdca26\"], [1.0, \"#f0f921\"]], \"sequentialminus\": [[0.0, \"#0d0887\"], [0.1111111111111111, \"#46039f\"], [0.2222222222222222, \"#7201a8\"], [0.3333333333333333, \"#9c179e\"], [0.4444444444444444, \"#bd3786\"], [0.5555555555555556, \"#d8576b\"], [0.6666666666666666, \"#ed7953\"], [0.7777777777777778, \"#fb9f3a\"], [0.8888888888888888, \"#fdca26\"], [1.0, \"#f0f921\"]]}, \"colorway\": [\"#636efa\", \"#EF553B\", \"#00cc96\", \"#ab63fa\", \"#FFA15A\", \"#19d3f3\", \"#FF6692\", \"#B6E880\", \"#FF97FF\", \"#FECB52\"], \"font\": {\"color\": \"#2a3f5f\"}, \"geo\": {\"bgcolor\": \"white\", \"lakecolor\": \"white\", \"landcolor\": \"#E5ECF6\", \"showlakes\": true, \"showland\": true, \"subunitcolor\": \"white\"}, \"hoverlabel\": {\"align\": \"left\"}, \"hovermode\": \"closest\", \"mapbox\": {\"style\": \"light\"}, \"paper_bgcolor\": \"white\", \"plot_bgcolor\": \"#E5ECF6\", \"polar\": {\"angularaxis\": {\"gridcolor\": \"white\", \"linecolor\": \"white\", \"ticks\": \"\"}, \"bgcolor\": \"#E5ECF6\", \"radialaxis\": {\"gridcolor\": \"white\", \"linecolor\": \"white\", \"ticks\": \"\"}}, \"scene\": {\"xaxis\": {\"backgroundcolor\": \"#E5ECF6\", \"gridcolor\": \"white\", \"gridwidth\": 2, \"linecolor\": \"white\", \"showbackground\": true, \"ticks\": \"\", \"zerolinecolor\": \"white\"}, \"yaxis\": {\"backgroundcolor\": \"#E5ECF6\", \"gridcolor\": \"white\", \"gridwidth\": 2, \"linecolor\": \"white\", \"showbackground\": true, \"ticks\": \"\", \"zerolinecolor\": \"white\"}, \"zaxis\": {\"backgroundcolor\": \"#E5ECF6\", \"gridcolor\": \"white\", \"gridwidth\": 2, \"linecolor\": \"white\", \"showbackground\": true, \"ticks\": \"\", \"zerolinecolor\": \"white\"}}, \"shapedefaults\": {\"line\": {\"color\": \"#2a3f5f\"}}, \"ternary\": {\"aaxis\": {\"gridcolor\": \"white\", \"linecolor\": \"white\", \"ticks\": \"\"}, \"baxis\": {\"gridcolor\": \"white\", \"linecolor\": \"white\", \"ticks\": \"\"}, \"bgcolor\": \"#E5ECF6\", \"caxis\": {\"gridcolor\": \"white\", \"linecolor\": \"white\", \"ticks\": \"\"}}, \"title\": {\"x\": 0.05}, \"xaxis\": {\"automargin\": true, \"gridcolor\": \"white\", \"linecolor\": \"white\", \"ticks\": \"\", \"title\": {\"standoff\": 15}, \"zerolinecolor\": \"white\", \"zerolinewidth\": 2}, \"yaxis\": {\"automargin\": true, \"gridcolor\": \"white\", \"linecolor\": \"white\", \"ticks\": \"\", \"title\": {\"standoff\": 15}, \"zerolinecolor\": \"white\", \"zerolinewidth\": 2}}}, \"title\": {\"text\": \"COVID-19 - Mortes  - 08-04-2020 \\n Escala Aritm\\u00e9tica\"}, \"xaxis\": {\"anchor\": \"y\", \"domain\": [0.0, 1.0], \"title\": {\"text\": \"Dias desde a primeira morte\"}}, \"yaxis\": {\"anchor\": \"x\", \"domain\": [0.0, 1.0], \"title\": {\"text\": \"Mortes\"}}},\n",
              "                        {\"responsive\": true}\n",
              "                    ).then(function(){\n",
              "                            \n",
              "var gd = document.getElementById('0ab5101c-ee06-4696-8fe5-c4ae857b82b1');\n",
              "var x = new MutationObserver(function (mutations, observer) {{\n",
              "        var display = window.getComputedStyle(gd).display;\n",
              "        if (!display || display === 'none') {{\n",
              "            console.log([gd, 'removed!']);\n",
              "            Plotly.purge(gd);\n",
              "            observer.disconnect();\n",
              "        }}\n",
              "}});\n",
              "\n",
              "// Listen for the removal of the full notebook cells\n",
              "var notebookContainer = gd.closest('#notebook-container');\n",
              "if (notebookContainer) {{\n",
              "    x.observe(notebookContainer, {childList: true});\n",
              "}}\n",
              "\n",
              "// Listen for the clearing of the current output cell\n",
              "var outputEl = gd.closest('.output');\n",
              "if (outputEl) {{\n",
              "    x.observe(outputEl, {childList: true});\n",
              "}}\n",
              "\n",
              "                        })\n",
              "                };\n",
              "                \n",
              "            </script>\n",
              "        </div>\n",
              "</body>\n",
              "</html>"
            ]
          },
          "metadata": {
            "tags": []
          }
        }
      ]
    },
    {
      "cell_type": "code",
      "metadata": {
        "colab_type": "code",
        "id": "1cJZAe_1SBsP",
        "outputId": "dbc8e2b7-d125-4721-905b-d13b952f659b",
        "colab": {
          "base_uri": "https://localhost:8080/",
          "height": 542
        }
      },
      "source": [
        "#hide_input\n",
        "\n",
        "\n",
        "fig = px.line(mfinal_data, x=\"Dias desde a primeira morte\", y=\"Mortes\", title='COVID-19 - Mortes  {} \\n Escala Logarítmica'.format(today),\n",
        "              color='Países e territórios',color_discrete_sequence=[\"black\", \"blue\",'green',\"darkmagenta\",\"gray\",\"brown\",\"orange\",\"magenta\",'red',\"darkblue\",\"lightgreen\",'coral','lightblue'])\n",
        "fig.update_layout(legend= {'title':'País','borderwidth':0,'orientation':'v','yanchor':'top','font':{'size':8}})\n",
        "\n",
        "fig.update_layout( yaxis_type=\"log\")\n",
        "fig.show()"
      ],
      "execution_count": 58,
      "outputs": [
        {
          "output_type": "display_data",
          "data": {
            "text/html": [
              "<html>\n",
              "<head><meta charset=\"utf-8\" /></head>\n",
              "<body>\n",
              "    <div>\n",
              "            <script src=\"https://cdnjs.cloudflare.com/ajax/libs/mathjax/2.7.5/MathJax.js?config=TeX-AMS-MML_SVG\"></script><script type=\"text/javascript\">if (window.MathJax) {MathJax.Hub.Config({SVG: {font: \"STIX-Web\"}});}</script>\n",
              "                <script type=\"text/javascript\">window.PlotlyConfig = {MathJaxConfig: 'local'};</script>\n",
              "        <script src=\"https://cdn.plot.ly/plotly-latest.min.js\"></script>    \n",
              "            <div id=\"a561cc5c-89bb-46f8-8171-abf61bd708e3\" class=\"plotly-graph-div\" style=\"height:525px; width:100%;\"></div>\n",
              "            <script type=\"text/javascript\">\n",
              "                \n",
              "                    window.PLOTLYENV=window.PLOTLYENV || {};\n",
              "                    \n",
              "                if (document.getElementById(\"a561cc5c-89bb-46f8-8171-abf61bd708e3\")) {\n",
              "                    Plotly.newPlot(\n",
              "                        'a561cc5c-89bb-46f8-8171-abf61bd708e3',\n",
              "                        [{\"hovertemplate\": \"Pa\\u00edses e territ\\u00f3rios=Brazil<br>Dias desde a primeira morte=%{x}<br>Mortes=%{y}<extra></extra>\", \"legendgroup\": \"Brazil\", \"line\": {\"color\": \"black\", \"dash\": \"solid\"}, \"mode\": \"lines\", \"name\": \"Brazil\", \"showlegend\": true, \"type\": \"scatter\", \"x\": [0, 1, 2, 3, 4, 5, 6, 7, 8, 9, 10, 11, 12, 13, 14, 15, 16, 17, 18, 19, 20, 21], \"xaxis\": \"x\", \"y\": [1, 4, 6, 11, 18, 25, 34, 46, 57, 77, 92, 114, 136, 159, 201, 241, 299, 359, 432, 486, 553, 667], \"yaxis\": \"y\"}, {\"hovertemplate\": \"Pa\\u00edses e territ\\u00f3rios=Italy<br>Dias desde a primeira morte=%{x}<br>Mortes=%{y}<extra></extra>\", \"legendgroup\": \"Italy\", \"line\": {\"color\": \"blue\", \"dash\": \"solid\"}, \"mode\": \"lines\", \"name\": \"Italy\", \"showlegend\": true, \"type\": \"scatter\", \"x\": [0, 1, 2, 3, 4, 5, 6, 7, 8, 9, 10, 11, 12, 13, 14, 15, 16, 17, 18, 19, 20, 21, 22, 23, 24, 25, 26, 27, 28, 29, 30, 31, 32, 33, 34, 35, 36, 37, 38, 39, 40, 41, 42, 43, 44, 45], \"xaxis\": \"x\", \"y\": [2, 2, 6, 11, 12, 17, 21, 29, 35, 52, 80, 107, 148, 197, 233, 366, 464, 631, 827, 1016, 1268, 1441, 1811, 2158, 2505, 2978, 3407, 4032, 4827, 5476, 6077, 6820, 7505, 8165, 9136, 10023, 10781, 11591, 12430, 13157, 13917, 14681, 15362, 15889, 16525, 17129], \"yaxis\": \"y\"}, {\"hovertemplate\": \"Pa\\u00edses e territ\\u00f3rios=Japan<br>Dias desde a primeira morte=%{x}<br>Mortes=%{y}<extra></extra>\", \"legendgroup\": \"Japan\", \"line\": {\"color\": \"green\", \"dash\": \"solid\"}, \"mode\": \"lines\", \"name\": \"Japan\", \"showlegend\": true, \"type\": \"scatter\", \"x\": [0, 1, 2, 3, 4, 5, 6, 7, 8, 9, 10, 11, 12, 13, 14, 15, 16, 17, 18, 19, 20, 21, 22, 23, 24, 25, 26, 27, 28, 29, 30, 31, 32, 33, 34, 35, 36, 37, 38, 39, 40, 41, 42, 43, 44, 45, 46, 47, 48, 49, 50, 51, 52, 53, 54, 55], \"xaxis\": \"x\", \"y\": [1, 1, 1, 1, 1, 1, 1, 1, 1, 1, 1, 1, 1, 1, 3, 3, 3, 5, 6, 6, 6, 6, 6, 6, 6, 7, 9, 12, 15, 19, 21, 22, 24, 28, 28, 29, 33, 35, 36, 41, 42, 43, 45, 46, 49, 52, 54, 56, 56, 57, 63, 69, 70, 73, 80, 80], \"yaxis\": \"y\"}, {\"hovertemplate\": \"Pa\\u00edses e territ\\u00f3rios=United_Kingdom<br>Dias desde a primeira morte=%{x}<br>Mortes=%{y}<extra></extra>\", \"legendgroup\": \"United_Kingdom\", \"line\": {\"color\": \"darkmagenta\", \"dash\": \"solid\"}, \"mode\": \"lines\", \"name\": \"United_Kingdom\", \"showlegend\": true, \"type\": \"scatter\", \"x\": [0, 1, 2, 3, 4, 5, 6, 7, 8, 9, 10, 11, 12, 13, 14, 15, 16, 17, 18, 19, 20, 21, 22, 23, 24, 25, 26, 27, 28, 29, 30, 31, 32, 33], \"xaxis\": \"x\", \"y\": [1, 1, 2, 3, 5, 6, 6, 10, 10, 21, 35, 55, 60, 103, 144, 177, 233, 281, 335, 422, 463, 578, 759, 1019, 1228, 1408, 1789, 2532, 2921, 3605, 4313, 4934, 5373, 6159], \"yaxis\": \"y\"}, {\"hovertemplate\": \"Pa\\u00edses e territ\\u00f3rios=United_States_of_America<br>Dias desde a primeira morte=%{x}<br>Mortes=%{y}<extra></extra>\", \"legendgroup\": \"United_States_of_America\", \"line\": {\"color\": \"gray\", \"dash\": \"solid\"}, \"mode\": \"lines\", \"name\": \"United_States_of_America\", \"showlegend\": true, \"type\": \"scatter\", \"x\": [0, 1, 2, 3, 4, 5, 6, 7, 8, 9, 10, 11, 12, 13, 14, 15, 16, 17, 18, 19, 20, 21, 22, 23, 24, 25, 26, 27, 28, 29, 30, 31, 32, 33, 34, 35, 36, 37, 38], \"xaxis\": \"x\", \"y\": [1, 2, 6, 9, 11, 12, 14, 17, 21, 26, 28, 30, 40, 47, 57, 69, 85, 108, 150, 150, 260, 340, 471, 590, 801, 1050, 1296, 1707, 2191, 2509, 3170, 4079, 5138, 6053, 7157, 8501, 9647, 10989, 12895], \"yaxis\": \"y\"}, {\"hovertemplate\": \"Pa\\u00edses e territ\\u00f3rios=South_Korea<br>Dias desde a primeira morte=%{x}<br>Mortes=%{y}<extra></extra>\", \"legendgroup\": \"South_Korea\", \"line\": {\"color\": \"brown\", \"dash\": \"solid\"}, \"mode\": \"lines\", \"name\": \"South_Korea\", \"showlegend\": true, \"type\": \"scatter\", \"x\": [0, 1, 2, 3, 4, 5, 6, 7, 8, 9, 10, 11, 12, 13, 14, 15, 16, 17, 18, 19, 20, 21, 22, 23, 24, 25, 26, 27, 28, 29, 30, 31, 32, 33, 34, 35, 36, 37, 38, 39, 40, 41, 42, 43, 44, 45, 46, 47], \"xaxis\": \"x\", \"y\": [1, 2, 5, 7, 8, 11, 12, 13, 16, 17, 22, 28, 32, 35, 42, 44, 50, 51, 54, 60, 66, 67, 72, 75, 75, 81, 86, 91, 100, 103, 104, 113, 120, 126, 131, 139, 144, 152, 158, 163, 163, 169, 174, 177, 183, 186, 192, 200], \"yaxis\": \"y\"}, {\"hovertemplate\": \"Pa\\u00edses e territ\\u00f3rios=France<br>Dias desde a primeira morte=%{x}<br>Mortes=%{y}<extra></extra>\", \"legendgroup\": \"France\", \"line\": {\"color\": \"orange\", \"dash\": \"solid\"}, \"mode\": \"lines\", \"name\": \"France\", \"showlegend\": true, \"type\": \"scatter\", \"x\": [0, 1, 2, 3, 4, 5, 6, 7, 8, 9, 10, 11, 12, 13, 14, 15, 16, 17, 18, 19, 20, 21, 22, 23, 24, 25, 26, 27, 28, 29, 30, 31, 32, 33, 34, 35, 36, 37, 38, 39, 40, 41, 42, 43, 44, 45, 46, 47, 48, 49, 50, 51, 52, 53], \"xaxis\": \"x\", \"y\": [1, 1, 1, 1, 1, 1, 1, 1, 1, 1, 1, 1, 2, 2, 2, 2, 2, 3, 4, 4, 7, 9, 10, 19, 30, 33, 48, 61, 79, 91, 127, 148, 175, 244, 372, 450, 562, 674, 860, 1100, 1331, 1696, 1995, 2314, 2606, 3024, 3523, 4032, 4503, 6507, 7560, 8078, 8911, 10328], \"yaxis\": \"y\"}, {\"hovertemplate\": \"Pa\\u00edses e territ\\u00f3rios=China<br>Dias desde a primeira morte=%{x}<br>Mortes=%{y}<extra></extra>\", \"legendgroup\": \"China\", \"line\": {\"color\": \"magenta\", \"dash\": \"solid\"}, \"mode\": \"lines\", \"name\": \"China\", \"showlegend\": true, \"type\": \"scatter\", \"x\": [0, 1, 2, 3, 4, 5, 6, 7, 8, 9, 10, 11, 12, 13, 14, 15, 16, 17, 18, 19, 20, 21, 22, 23, 24, 25, 26, 27, 28, 29, 30, 31, 32, 33, 34, 35, 36, 37, 38, 39, 40, 41, 42, 43, 44, 45, 46, 47, 48, 49, 50, 51, 52, 53, 54, 55, 56, 57, 58, 59, 60, 61, 62, 63, 64, 65, 66, 67, 68, 69, 70, 71, 72, 73, 74, 75, 76, 77, 78, 79, 80, 81, 82, 83, 84, 85, 86, 87, 88], \"xaxis\": \"x\", \"y\": [1, 1, 1, 1, 2, 2, 2, 2, 3, 3, 6, 17, 17, 26, 41, 56, 81, 106, 132, 170, 213, 259, 304, 361, 426, 492, 564, 637, 723, 812, 909, 1017, 1114, 1368, 1381, 1524, 1666, 1771, 1869, 2008, 2120, 2238, 2347, 2445, 2595, 2665, 2717, 2746, 2790, 2837, 2872, 2914, 2946, 2983, 3014, 3044, 3072, 3099, 3122, 3139, 3161, 3172, 3179, 3194, 3203, 3216, 3225, 3241, 3249, 3253, 3259, 3265, 3274, 3281, 3285, 3291, 3296, 3299, 3304, 3306, 3309, 3310, 3316, 3326, 3330, 3333, 3335, 3335, 3337], \"yaxis\": \"y\"}, {\"hovertemplate\": \"Pa\\u00edses e territ\\u00f3rios=Spain<br>Dias desde a primeira morte=%{x}<br>Mortes=%{y}<extra></extra>\", \"legendgroup\": \"Spain\", \"line\": {\"color\": \"red\", \"dash\": \"solid\"}, \"mode\": \"lines\", \"name\": \"Spain\", \"showlegend\": true, \"type\": \"scatter\", \"x\": [0, 1, 2, 3, 4, 5, 6, 7, 8, 9, 10, 11, 12, 13, 14, 15, 16, 17, 18, 19, 20, 21, 22, 23, 24, 25, 26, 27, 28, 29, 30, 31, 32, 33, 34], \"xaxis\": \"x\", \"y\": [1, 3, 5, 5, 5, 28, 35, 47, 84, 121, 136, 288, 309, 491, 598, 767, 1002, 1326, 1720, 2182, 2696, 3434, 4089, 4858, 5690, 6528, 7340, 8189, 9053, 10003, 10935, 11744, 12418, 13055, 13798], \"yaxis\": \"y\"}, {\"hovertemplate\": \"Pa\\u00edses e territ\\u00f3rios=Argentina<br>Dias desde a primeira morte=%{x}<br>Mortes=%{y}<extra></extra>\", \"legendgroup\": \"Argentina\", \"line\": {\"color\": \"darkblue\", \"dash\": \"solid\"}, \"mode\": \"lines\", \"name\": \"Argentina\", \"showlegend\": true, \"type\": \"scatter\", \"x\": [0, 1, 2, 3, 4, 5, 6, 7, 8, 9, 10, 11, 12, 13, 14, 15, 16, 17, 18, 19, 20, 21, 22, 23, 24, 25, 26, 27, 28, 29], \"xaxis\": \"x\", \"y\": [1, 1, 1, 1, 2, 2, 2, 2, 2, 2, 3, 3, 4, 4, 4, 6, 8, 12, 17, 19, 20, 24, 24, 31, 34, 37, 43, 46, 53, 60], \"yaxis\": \"y\"}, {\"hovertemplate\": \"Pa\\u00edses e territ\\u00f3rios=India<br>Dias desde a primeira morte=%{x}<br>Mortes=%{y}<extra></extra>\", \"legendgroup\": \"India\", \"line\": {\"color\": \"lightgreen\", \"dash\": \"solid\"}, \"mode\": \"lines\", \"name\": \"India\", \"showlegend\": true, \"type\": \"scatter\", \"x\": [0, 1, 2, 3, 4, 5, 6, 7, 8, 9, 10, 11, 12, 13, 14, 15, 16, 17, 18, 19, 20, 21, 22, 23, 24, 25, 26], \"xaxis\": \"x\", \"y\": [1, 2, 2, 2, 3, 3, 3, 4, 4, 4, 7, 9, 9, 13, 17, 19, 25, 29, 32, 35, 50, 56, 68, 77, 109, 114, 149], \"yaxis\": \"y\"}, {\"hovertemplate\": \"Pa\\u00edses e territ\\u00f3rios=Germany<br>Dias desde a primeira morte=%{x}<br>Mortes=%{y}<extra></extra>\", \"legendgroup\": \"Germany\", \"line\": {\"color\": \"coral\", \"dash\": \"solid\"}, \"mode\": \"lines\", \"name\": \"Germany\", \"showlegend\": true, \"type\": \"scatter\", \"x\": [0, 1, 2, 3, 4, 5, 6, 7, 8, 9, 10, 11, 12, 13, 14, 15, 16, 17, 18, 19, 20, 21, 22, 23, 24, 25, 26, 27, 28, 29], \"xaxis\": \"x\", \"y\": [2, 2, 3, 5, 5, 8, 12, 13, 13, 13, 43, 45, 67, 94, 126, 149, 198, 253, 325, 389, 455, 583, 732, 872, 1017, 1158, 1342, 1434, 1607, 1861], \"yaxis\": \"y\"}, {\"hovertemplate\": \"Pa\\u00edses e territ\\u00f3rios=Czechia<br>Dias desde a primeira morte=%{x}<br>Mortes=%{y}<extra></extra>\", \"legendgroup\": \"Czechia\", \"line\": {\"color\": \"lightblue\", \"dash\": \"solid\"}, \"mode\": \"lines\", \"name\": \"Czechia\", \"showlegend\": true, \"type\": \"scatter\", \"x\": [0, 1, 2, 3, 4, 5, 6, 7, 8, 9, 10, 11, 12, 13, 14, 15, 16], \"xaxis\": \"x\", \"y\": [1, 1, 3, 6, 9, 9, 11, 16, 24, 31, 39, 44, 53, 59, 67, 78, 88], \"yaxis\": \"y\"}],\n",
              "                        {\"legend\": {\"borderwidth\": 0, \"font\": {\"size\": 8}, \"orientation\": \"v\", \"title\": {\"text\": \"Pa\\u00eds\"}, \"tracegroupgap\": 0, \"yanchor\": \"top\"}, \"template\": {\"data\": {\"bar\": [{\"error_x\": {\"color\": \"#2a3f5f\"}, \"error_y\": {\"color\": \"#2a3f5f\"}, \"marker\": {\"line\": {\"color\": \"#E5ECF6\", \"width\": 0.5}}, \"type\": \"bar\"}], \"barpolar\": [{\"marker\": {\"line\": {\"color\": \"#E5ECF6\", \"width\": 0.5}}, \"type\": \"barpolar\"}], \"carpet\": [{\"aaxis\": {\"endlinecolor\": \"#2a3f5f\", \"gridcolor\": \"white\", \"linecolor\": \"white\", \"minorgridcolor\": \"white\", \"startlinecolor\": \"#2a3f5f\"}, \"baxis\": {\"endlinecolor\": \"#2a3f5f\", \"gridcolor\": \"white\", \"linecolor\": \"white\", \"minorgridcolor\": \"white\", \"startlinecolor\": \"#2a3f5f\"}, \"type\": \"carpet\"}], \"choropleth\": [{\"colorbar\": {\"outlinewidth\": 0, \"ticks\": \"\"}, \"type\": \"choropleth\"}], \"contour\": [{\"colorbar\": {\"outlinewidth\": 0, \"ticks\": \"\"}, \"colorscale\": [[0.0, \"#0d0887\"], [0.1111111111111111, \"#46039f\"], [0.2222222222222222, \"#7201a8\"], [0.3333333333333333, \"#9c179e\"], [0.4444444444444444, \"#bd3786\"], [0.5555555555555556, \"#d8576b\"], [0.6666666666666666, \"#ed7953\"], [0.7777777777777778, \"#fb9f3a\"], [0.8888888888888888, \"#fdca26\"], [1.0, \"#f0f921\"]], \"type\": \"contour\"}], \"contourcarpet\": [{\"colorbar\": {\"outlinewidth\": 0, \"ticks\": \"\"}, \"type\": \"contourcarpet\"}], \"heatmap\": [{\"colorbar\": {\"outlinewidth\": 0, \"ticks\": \"\"}, \"colorscale\": [[0.0, \"#0d0887\"], [0.1111111111111111, \"#46039f\"], [0.2222222222222222, \"#7201a8\"], [0.3333333333333333, \"#9c179e\"], [0.4444444444444444, \"#bd3786\"], [0.5555555555555556, \"#d8576b\"], [0.6666666666666666, \"#ed7953\"], [0.7777777777777778, \"#fb9f3a\"], [0.8888888888888888, \"#fdca26\"], [1.0, \"#f0f921\"]], \"type\": \"heatmap\"}], \"heatmapgl\": [{\"colorbar\": {\"outlinewidth\": 0, \"ticks\": \"\"}, \"colorscale\": [[0.0, \"#0d0887\"], [0.1111111111111111, \"#46039f\"], [0.2222222222222222, \"#7201a8\"], [0.3333333333333333, \"#9c179e\"], [0.4444444444444444, \"#bd3786\"], [0.5555555555555556, \"#d8576b\"], [0.6666666666666666, \"#ed7953\"], [0.7777777777777778, \"#fb9f3a\"], [0.8888888888888888, \"#fdca26\"], [1.0, \"#f0f921\"]], \"type\": \"heatmapgl\"}], \"histogram\": [{\"marker\": {\"colorbar\": {\"outlinewidth\": 0, \"ticks\": \"\"}}, \"type\": \"histogram\"}], \"histogram2d\": [{\"colorbar\": {\"outlinewidth\": 0, \"ticks\": \"\"}, \"colorscale\": [[0.0, \"#0d0887\"], [0.1111111111111111, \"#46039f\"], [0.2222222222222222, \"#7201a8\"], [0.3333333333333333, \"#9c179e\"], [0.4444444444444444, \"#bd3786\"], [0.5555555555555556, \"#d8576b\"], [0.6666666666666666, \"#ed7953\"], [0.7777777777777778, \"#fb9f3a\"], [0.8888888888888888, \"#fdca26\"], [1.0, \"#f0f921\"]], \"type\": \"histogram2d\"}], \"histogram2dcontour\": [{\"colorbar\": {\"outlinewidth\": 0, \"ticks\": \"\"}, \"colorscale\": [[0.0, \"#0d0887\"], [0.1111111111111111, \"#46039f\"], [0.2222222222222222, \"#7201a8\"], [0.3333333333333333, \"#9c179e\"], [0.4444444444444444, \"#bd3786\"], [0.5555555555555556, \"#d8576b\"], [0.6666666666666666, \"#ed7953\"], [0.7777777777777778, \"#fb9f3a\"], [0.8888888888888888, \"#fdca26\"], [1.0, \"#f0f921\"]], \"type\": \"histogram2dcontour\"}], \"mesh3d\": [{\"colorbar\": {\"outlinewidth\": 0, \"ticks\": \"\"}, \"type\": \"mesh3d\"}], \"parcoords\": [{\"line\": {\"colorbar\": {\"outlinewidth\": 0, \"ticks\": \"\"}}, \"type\": \"parcoords\"}], \"pie\": [{\"automargin\": true, \"type\": \"pie\"}], \"scatter\": [{\"marker\": {\"colorbar\": {\"outlinewidth\": 0, \"ticks\": \"\"}}, \"type\": \"scatter\"}], \"scatter3d\": [{\"line\": {\"colorbar\": {\"outlinewidth\": 0, \"ticks\": \"\"}}, \"marker\": {\"colorbar\": {\"outlinewidth\": 0, \"ticks\": \"\"}}, \"type\": \"scatter3d\"}], \"scattercarpet\": [{\"marker\": {\"colorbar\": {\"outlinewidth\": 0, \"ticks\": \"\"}}, \"type\": \"scattercarpet\"}], \"scattergeo\": [{\"marker\": {\"colorbar\": {\"outlinewidth\": 0, \"ticks\": \"\"}}, \"type\": \"scattergeo\"}], \"scattergl\": [{\"marker\": {\"colorbar\": {\"outlinewidth\": 0, \"ticks\": \"\"}}, \"type\": \"scattergl\"}], \"scattermapbox\": [{\"marker\": {\"colorbar\": {\"outlinewidth\": 0, \"ticks\": \"\"}}, \"type\": \"scattermapbox\"}], \"scatterpolar\": [{\"marker\": {\"colorbar\": {\"outlinewidth\": 0, \"ticks\": \"\"}}, \"type\": \"scatterpolar\"}], \"scatterpolargl\": [{\"marker\": {\"colorbar\": {\"outlinewidth\": 0, \"ticks\": \"\"}}, \"type\": \"scatterpolargl\"}], \"scatterternary\": [{\"marker\": {\"colorbar\": {\"outlinewidth\": 0, \"ticks\": \"\"}}, \"type\": \"scatterternary\"}], \"surface\": [{\"colorbar\": {\"outlinewidth\": 0, \"ticks\": \"\"}, \"colorscale\": [[0.0, \"#0d0887\"], [0.1111111111111111, \"#46039f\"], [0.2222222222222222, \"#7201a8\"], [0.3333333333333333, \"#9c179e\"], [0.4444444444444444, \"#bd3786\"], [0.5555555555555556, \"#d8576b\"], [0.6666666666666666, \"#ed7953\"], [0.7777777777777778, \"#fb9f3a\"], [0.8888888888888888, \"#fdca26\"], [1.0, \"#f0f921\"]], \"type\": \"surface\"}], \"table\": [{\"cells\": {\"fill\": {\"color\": \"#EBF0F8\"}, \"line\": {\"color\": \"white\"}}, \"header\": {\"fill\": {\"color\": \"#C8D4E3\"}, \"line\": {\"color\": \"white\"}}, \"type\": \"table\"}]}, \"layout\": {\"annotationdefaults\": {\"arrowcolor\": \"#2a3f5f\", \"arrowhead\": 0, \"arrowwidth\": 1}, \"coloraxis\": {\"colorbar\": {\"outlinewidth\": 0, \"ticks\": \"\"}}, \"colorscale\": {\"diverging\": [[0, \"#8e0152\"], [0.1, \"#c51b7d\"], [0.2, \"#de77ae\"], [0.3, \"#f1b6da\"], [0.4, \"#fde0ef\"], [0.5, \"#f7f7f7\"], [0.6, \"#e6f5d0\"], [0.7, \"#b8e186\"], [0.8, \"#7fbc41\"], [0.9, \"#4d9221\"], [1, \"#276419\"]], \"sequential\": [[0.0, \"#0d0887\"], [0.1111111111111111, \"#46039f\"], [0.2222222222222222, \"#7201a8\"], [0.3333333333333333, \"#9c179e\"], [0.4444444444444444, \"#bd3786\"], [0.5555555555555556, \"#d8576b\"], [0.6666666666666666, \"#ed7953\"], [0.7777777777777778, \"#fb9f3a\"], [0.8888888888888888, \"#fdca26\"], [1.0, \"#f0f921\"]], \"sequentialminus\": [[0.0, \"#0d0887\"], [0.1111111111111111, \"#46039f\"], [0.2222222222222222, \"#7201a8\"], [0.3333333333333333, \"#9c179e\"], [0.4444444444444444, \"#bd3786\"], [0.5555555555555556, \"#d8576b\"], [0.6666666666666666, \"#ed7953\"], [0.7777777777777778, \"#fb9f3a\"], [0.8888888888888888, \"#fdca26\"], [1.0, \"#f0f921\"]]}, \"colorway\": [\"#636efa\", \"#EF553B\", \"#00cc96\", \"#ab63fa\", \"#FFA15A\", \"#19d3f3\", \"#FF6692\", \"#B6E880\", \"#FF97FF\", \"#FECB52\"], \"font\": {\"color\": \"#2a3f5f\"}, \"geo\": {\"bgcolor\": \"white\", \"lakecolor\": \"white\", \"landcolor\": \"#E5ECF6\", \"showlakes\": true, \"showland\": true, \"subunitcolor\": \"white\"}, \"hoverlabel\": {\"align\": \"left\"}, \"hovermode\": \"closest\", \"mapbox\": {\"style\": \"light\"}, \"paper_bgcolor\": \"white\", \"plot_bgcolor\": \"#E5ECF6\", \"polar\": {\"angularaxis\": {\"gridcolor\": \"white\", \"linecolor\": \"white\", \"ticks\": \"\"}, \"bgcolor\": \"#E5ECF6\", \"radialaxis\": {\"gridcolor\": \"white\", \"linecolor\": \"white\", \"ticks\": \"\"}}, \"scene\": {\"xaxis\": {\"backgroundcolor\": \"#E5ECF6\", \"gridcolor\": \"white\", \"gridwidth\": 2, \"linecolor\": \"white\", \"showbackground\": true, \"ticks\": \"\", \"zerolinecolor\": \"white\"}, \"yaxis\": {\"backgroundcolor\": \"#E5ECF6\", \"gridcolor\": \"white\", \"gridwidth\": 2, \"linecolor\": \"white\", \"showbackground\": true, \"ticks\": \"\", \"zerolinecolor\": \"white\"}, \"zaxis\": {\"backgroundcolor\": \"#E5ECF6\", \"gridcolor\": \"white\", \"gridwidth\": 2, \"linecolor\": \"white\", \"showbackground\": true, \"ticks\": \"\", \"zerolinecolor\": \"white\"}}, \"shapedefaults\": {\"line\": {\"color\": \"#2a3f5f\"}}, \"ternary\": {\"aaxis\": {\"gridcolor\": \"white\", \"linecolor\": \"white\", \"ticks\": \"\"}, \"baxis\": {\"gridcolor\": \"white\", \"linecolor\": \"white\", \"ticks\": \"\"}, \"bgcolor\": \"#E5ECF6\", \"caxis\": {\"gridcolor\": \"white\", \"linecolor\": \"white\", \"ticks\": \"\"}}, \"title\": {\"x\": 0.05}, \"xaxis\": {\"automargin\": true, \"gridcolor\": \"white\", \"linecolor\": \"white\", \"ticks\": \"\", \"title\": {\"standoff\": 15}, \"zerolinecolor\": \"white\", \"zerolinewidth\": 2}, \"yaxis\": {\"automargin\": true, \"gridcolor\": \"white\", \"linecolor\": \"white\", \"ticks\": \"\", \"title\": {\"standoff\": 15}, \"zerolinecolor\": \"white\", \"zerolinewidth\": 2}}}, \"title\": {\"text\": \"COVID-19 - Mortes  08-04-2020 \\n Escala Logar\\u00edtmica\"}, \"xaxis\": {\"anchor\": \"y\", \"domain\": [0.0, 1.0], \"title\": {\"text\": \"Dias desde a primeira morte\"}}, \"yaxis\": {\"anchor\": \"x\", \"domain\": [0.0, 1.0], \"title\": {\"text\": \"Mortes\"}, \"type\": \"log\"}},\n",
              "                        {\"responsive\": true}\n",
              "                    ).then(function(){\n",
              "                            \n",
              "var gd = document.getElementById('a561cc5c-89bb-46f8-8171-abf61bd708e3');\n",
              "var x = new MutationObserver(function (mutations, observer) {{\n",
              "        var display = window.getComputedStyle(gd).display;\n",
              "        if (!display || display === 'none') {{\n",
              "            console.log([gd, 'removed!']);\n",
              "            Plotly.purge(gd);\n",
              "            observer.disconnect();\n",
              "        }}\n",
              "}});\n",
              "\n",
              "// Listen for the removal of the full notebook cells\n",
              "var notebookContainer = gd.closest('#notebook-container');\n",
              "if (notebookContainer) {{\n",
              "    x.observe(notebookContainer, {childList: true});\n",
              "}}\n",
              "\n",
              "// Listen for the clearing of the current output cell\n",
              "var outputEl = gd.closest('.output');\n",
              "if (outputEl) {{\n",
              "    x.observe(outputEl, {childList: true});\n",
              "}}\n",
              "\n",
              "                        })\n",
              "                };\n",
              "                \n",
              "            </script>\n",
              "        </div>\n",
              "</body>\n",
              "</html>"
            ]
          },
          "metadata": {
            "tags": []
          }
        }
      ]
    },
    {
      "cell_type": "code",
      "metadata": {
        "colab_type": "code",
        "id": "h3B6Y7QzntzV",
        "outputId": "b0b6d8f0-d6bf-473d-a00a-a1b1cd31cbf3",
        "colab": {
          "base_uri": "https://localhost:8080/",
          "height": 204
        }
      },
      "source": [
        "#hide\n",
        "brazil['razao']= brazil['Cumulativo'].pct_change()\n",
        "brazil['razao']=(brazil['razao']*100).round(2)\n",
        "brazil['dias']= brazil.index\n",
        "brazil.tail(5)"
      ],
      "execution_count": 59,
      "outputs": [
        {
          "output_type": "execute_result",
          "data": {
            "text/html": [
              "<div>\n",
              "<style scoped>\n",
              "    .dataframe tbody tr th:only-of-type {\n",
              "        vertical-align: middle;\n",
              "    }\n",
              "\n",
              "    .dataframe tbody tr th {\n",
              "        vertical-align: top;\n",
              "    }\n",
              "\n",
              "    .dataframe thead th {\n",
              "        text-align: right;\n",
              "    }\n",
              "</style>\n",
              "<table border=\"1\" class=\"dataframe\">\n",
              "  <thead>\n",
              "    <tr style=\"text-align: right;\">\n",
              "      <th></th>\n",
              "      <th>countriesAndTerritories</th>\n",
              "      <th>Cumulativo</th>\n",
              "      <th>Relativo</th>\n",
              "      <th>razao</th>\n",
              "      <th>dias</th>\n",
              "    </tr>\n",
              "  </thead>\n",
              "  <tbody>\n",
              "    <tr>\n",
              "      <th>23</th>\n",
              "      <td>Brazil</td>\n",
              "      <td>9056</td>\n",
              "      <td>0.432680</td>\n",
              "      <td>14.49</td>\n",
              "      <td>23</td>\n",
              "    </tr>\n",
              "    <tr>\n",
              "      <th>24</th>\n",
              "      <td>Brazil</td>\n",
              "      <td>10278</td>\n",
              "      <td>0.491065</td>\n",
              "      <td>13.49</td>\n",
              "      <td>24</td>\n",
              "    </tr>\n",
              "    <tr>\n",
              "      <th>25</th>\n",
              "      <td>Brazil</td>\n",
              "      <td>11130</td>\n",
              "      <td>0.531773</td>\n",
              "      <td>8.29</td>\n",
              "      <td>25</td>\n",
              "    </tr>\n",
              "    <tr>\n",
              "      <th>26</th>\n",
              "      <td>Brazil</td>\n",
              "      <td>12056</td>\n",
              "      <td>0.576015</td>\n",
              "      <td>8.32</td>\n",
              "      <td>26</td>\n",
              "    </tr>\n",
              "    <tr>\n",
              "      <th>27</th>\n",
              "      <td>Brazil</td>\n",
              "      <td>13717</td>\n",
              "      <td>0.655375</td>\n",
              "      <td>13.78</td>\n",
              "      <td>27</td>\n",
              "    </tr>\n",
              "  </tbody>\n",
              "</table>\n",
              "</div>"
            ],
            "text/plain": [
              "   countriesAndTerritories  Cumulativo  Relativo  razao  dias\n",
              "23                  Brazil        9056  0.432680  14.49    23\n",
              "24                  Brazil       10278  0.491065  13.49    24\n",
              "25                  Brazil       11130  0.531773   8.29    25\n",
              "26                  Brazil       12056  0.576015   8.32    26\n",
              "27                  Brazil       13717  0.655375  13.78    27"
            ]
          },
          "metadata": {
            "tags": []
          },
          "execution_count": 59
        }
      ]
    },
    {
      "cell_type": "code",
      "metadata": {
        "colab_type": "code",
        "id": "rdnl82gz1f6k",
        "outputId": "623adb0f-355e-406b-82b1-37a43dafb5bd",
        "colab": {
          "base_uri": "https://localhost:8080/",
          "height": 360
        }
      },
      "source": [
        "#hide\n",
        "plt.figure(figsize=(10,5))\n",
        "plt.yticks([25,50,75,100])\n",
        "plt.ylim(0,100)\n",
        "sns.lineplot(x='dias',y='razao',data=brazil,color='black',linewidth=4,label='Brasil')\n",
        "plt.plot(brazil['razao'].rolling(2).mean(),label= 'MA 2 days')\n",
        "plt.plot(brazil['razao'].rolling(5).mean(),label= 'MA 5 days')\n",
        "\n",
        "#plt.savefig(\"plots/pct_change.png\")\n"
      ],
      "execution_count": 60,
      "outputs": [
        {
          "output_type": "execute_result",
          "data": {
            "text/plain": [
              "[<matplotlib.lines.Line2D at 0x7f3025fb7e80>]"
            ]
          },
          "metadata": {
            "tags": []
          },
          "execution_count": 60
        },
        {
          "output_type": "display_data",
          "data": {
            "image/png": "[encoded data removed]",
            "text/plain": [
              "<Figure size 720x360 with 1 Axes>"
            ]
          },
          "metadata": {
            "tags": []
          }
        }
      ]
    },
    {
      "cell_type": "markdown",
      "metadata": {
        "id": "cYi0f2alTqSz",
        "colab_type": "text"
      },
      "source": [
        "<center> <h2> Letalidade </h2> </center>"
      ]
    },
    {
      "cell_type": "markdown",
      "metadata": {
        "id": "WRzRwgpjtfeN",
        "colab_type": "text"
      },
      "source": [
        "O gráfco a seguir aponta o número de mortes dividido pelo número de casos confirmados. É importantíssimo notar a grande dependência desses números da quantidade de testes disponíveis. Quanto mais testes realizados, mais confiáveis os dados."
      ]
    },
    {
      "cell_type": "code",
      "metadata": {
        "colab_type": "code",
        "id": "eAxU8uOIEJh4",
        "colab": {}
      },
      "source": [
        "#hide\n",
        "let_brazil =((mbrazil['Cumulativo'].values[-1]/brazil['Cumulativo'].values[-1])*100).round(2)\n",
        "let_us = ((mus['Cumulativo'].values[-1]/us['Cumulativo'].values[-1])*100).round(2)\n",
        "let_uk = ((muk['Cumulativo'].values[-1]/uk['Cumulativo'].values[-1])*100).round(2)\n",
        "let_italy = ((mitaly['Cumulativo'].values[-1]/italy['Cumulativo'].values[-1])*100).round(2)\n",
        "let_spain = ((mspain['Cumulativo'].values[-1]/spain['Cumulativo'].values[-1])*100).round(2)\n",
        "let_japan = ((mjapan['Cumulativo'].values[-1]/japan['Cumulativo'].values[-1])*100).round(2)\n",
        "let_arg = ((margentina['Cumulativo'].values[-1]/argentina['Cumulativo'].values[-1])*100).round(2)\n",
        "let_fran = ((mfrance['Cumulativo'].values[-1]/france['Cumulativo'].values[-1])*100).round(2)\n",
        "let_ind = ((mindia['Cumulativo'].values[-1]/india['Cumulativo'].values[-1])*100).round(2)\n",
        "let_rc = ((mczech['Cumulativo'].values[-1]/czech_Republic['Cumulativo'].values[-1])*100).round(2)\n",
        "let_ger = ((mgermany['Cumulativo'].values[-1]/germany['Cumulativo'].values[-1])*100).round(2)\n",
        "let_ch = ((mchina['Cumulativo'].values[-1]/china['Cumulativo'].values[-1])*100).round(2)\n",
        "\n",
        "\n",
        "let= [let_brazil,let_us,let_uk,let_italy,let_spain,let_fran,let_japan,let_arg,let_ind,let_ger,let_ch,let_rc]\n",
        "paises = ['Brasil','EUA', 'Reino Unido','Itália','Espanha','França','Japão','Argentina','Índia','Alemanha','China','República Tcheca']\n"
      ],
      "execution_count": 0,
      "outputs": []
    },
    {
      "cell_type": "code",
      "metadata": {
        "colab_type": "code",
        "id": "9pHCVj1P_lfI",
        "outputId": "224349f3-7f18-4120-e77a-8be558312c1d",
        "colab": {
          "base_uri": "https://localhost:8080/",
          "height": 142
        }
      },
      "source": [
        "#hide\n",
        "letality = pd.DataFrame()\n",
        "letality['Países'] = paises\n",
        "letality['Letalidade %'] = let\n",
        "letality.tail(3)\n"
      ],
      "execution_count": 62,
      "outputs": [
        {
          "output_type": "execute_result",
          "data": {
            "text/html": [
              "<div>\n",
              "<style scoped>\n",
              "    .dataframe tbody tr th:only-of-type {\n",
              "        vertical-align: middle;\n",
              "    }\n",
              "\n",
              "    .dataframe tbody tr th {\n",
              "        vertical-align: top;\n",
              "    }\n",
              "\n",
              "    .dataframe thead th {\n",
              "        text-align: right;\n",
              "    }\n",
              "</style>\n",
              "<table border=\"1\" class=\"dataframe\">\n",
              "  <thead>\n",
              "    <tr style=\"text-align: right;\">\n",
              "      <th></th>\n",
              "      <th>Países</th>\n",
              "      <th>Letalidade %</th>\n",
              "    </tr>\n",
              "  </thead>\n",
              "  <tbody>\n",
              "    <tr>\n",
              "      <th>9</th>\n",
              "      <td>Alemanha</td>\n",
              "      <td>1.80</td>\n",
              "    </tr>\n",
              "    <tr>\n",
              "      <th>10</th>\n",
              "      <td>China</td>\n",
              "      <td>4.03</td>\n",
              "    </tr>\n",
              "    <tr>\n",
              "      <th>11</th>\n",
              "      <td>República Tcheca</td>\n",
              "      <td>1.75</td>\n",
              "    </tr>\n",
              "  </tbody>\n",
              "</table>\n",
              "</div>"
            ],
            "text/plain": [
              "              Países  Letalidade %\n",
              "9           Alemanha          1.80\n",
              "10             China          4.03\n",
              "11  República Tcheca          1.75"
            ]
          },
          "metadata": {
            "tags": []
          },
          "execution_count": 62
        }
      ]
    },
    {
      "cell_type": "code",
      "metadata": {
        "colab_type": "code",
        "id": "6o33lNAoCImC",
        "outputId": "8cc20ef7-0a13-480d-8105-8d20df9641c3",
        "colab": {
          "base_uri": "https://localhost:8080/",
          "height": 542
        }
      },
      "source": [
        "#hide_input\n",
        "\n",
        "fig = px.bar(letality,x=\"Letalidade %\", y='Países', color='Países',orientation='h',\n",
        "             color_discrete_sequence=px.colors.qualitative.G10,title=\"Letalidade - {}\".format(today))#.update_yaxes(categoryorder='total dscending')\n",
        "fig.update_layout(yaxis_type = 'category',)\n",
        "fig.update_layout(legend= {'title':'País','borderwidth':0,'orientation':'v','yanchor':'top','font':{'size':8}})\n",
        "\n",
        "\n"
      ],
      "execution_count": 63,
      "outputs": [
        {
          "output_type": "display_data",
          "data": {
            "text/html": [
              "<html>\n",
              "<head><meta charset=\"utf-8\" /></head>\n",
              "<body>\n",
              "    <div>\n",
              "            <script src=\"https://cdnjs.cloudflare.com/ajax/libs/mathjax/2.7.5/MathJax.js?config=TeX-AMS-MML_SVG\"></script><script type=\"text/javascript\">if (window.MathJax) {MathJax.Hub.Config({SVG: {font: \"STIX-Web\"}});}</script>\n",
              "                <script type=\"text/javascript\">window.PlotlyConfig = {MathJaxConfig: 'local'};</script>\n",
              "        <script src=\"https://cdn.plot.ly/plotly-latest.min.js\"></script>    \n",
              "            <div id=\"6dbf3af6-a00d-46c2-a223-adc2b358aa31\" class=\"plotly-graph-div\" style=\"height:525px; width:100%;\"></div>\n",
              "            <script type=\"text/javascript\">\n",
              "                \n",
              "                    window.PLOTLYENV=window.PLOTLYENV || {};\n",
              "                    \n",
              "                if (document.getElementById(\"6dbf3af6-a00d-46c2-a223-adc2b358aa31\")) {\n",
              "                    Plotly.newPlot(\n",
              "                        '6dbf3af6-a00d-46c2-a223-adc2b358aa31',\n",
              "                        [{\"alignmentgroup\": \"True\", \"hovertemplate\": \"Pa\\u00edses=%{y}<br>Letalidade %=%{x}<extra></extra>\", \"legendgroup\": \"Brasil\", \"marker\": {\"color\": \"#3366CC\"}, \"name\": \"Brasil\", \"offsetgroup\": \"Brasil\", \"orientation\": \"h\", \"showlegend\": true, \"textposition\": \"auto\", \"type\": \"bar\", \"x\": [4.86], \"xaxis\": \"x\", \"y\": [\"Brasil\"], \"yaxis\": \"y\"}, {\"alignmentgroup\": \"True\", \"hovertemplate\": \"Pa\\u00edses=%{y}<br>Letalidade %=%{x}<extra></extra>\", \"legendgroup\": \"EUA\", \"marker\": {\"color\": \"#DC3912\"}, \"name\": \"EUA\", \"offsetgroup\": \"EUA\", \"orientation\": \"h\", \"showlegend\": true, \"textposition\": \"auto\", \"type\": \"bar\", \"x\": [3.23], \"xaxis\": \"x\", \"y\": [\"EUA\"], \"yaxis\": \"y\"}, {\"alignmentgroup\": \"True\", \"hovertemplate\": \"Pa\\u00edses=%{y}<br>Letalidade %=%{x}<extra></extra>\", \"legendgroup\": \"Reino Unido\", \"marker\": {\"color\": \"#FF9900\"}, \"name\": \"Reino Unido\", \"offsetgroup\": \"Reino Unido\", \"orientation\": \"h\", \"showlegend\": true, \"textposition\": \"auto\", \"type\": \"bar\", \"x\": [11.15], \"xaxis\": \"x\", \"y\": [\"Reino Unido\"], \"yaxis\": \"y\"}, {\"alignmentgroup\": \"True\", \"hovertemplate\": \"Pa\\u00edses=%{y}<br>Letalidade %=%{x}<extra></extra>\", \"legendgroup\": \"It\\u00e1lia\", \"marker\": {\"color\": \"#109618\"}, \"name\": \"It\\u00e1lia\", \"offsetgroup\": \"It\\u00e1lia\", \"orientation\": \"h\", \"showlegend\": true, \"textposition\": \"auto\", \"type\": \"bar\", \"x\": [12.63], \"xaxis\": \"x\", \"y\": [\"It\\u00e1lia\"], \"yaxis\": \"y\"}, {\"alignmentgroup\": \"True\", \"hovertemplate\": \"Pa\\u00edses=%{y}<br>Letalidade %=%{x}<extra></extra>\", \"legendgroup\": \"Espanha\", \"marker\": {\"color\": \"#990099\"}, \"name\": \"Espanha\", \"offsetgroup\": \"Espanha\", \"orientation\": \"h\", \"showlegend\": true, \"textposition\": \"auto\", \"type\": \"bar\", \"x\": [9.82], \"xaxis\": \"x\", \"y\": [\"Espanha\"], \"yaxis\": \"y\"}, {\"alignmentgroup\": \"True\", \"hovertemplate\": \"Pa\\u00edses=%{y}<br>Letalidade %=%{x}<extra></extra>\", \"legendgroup\": \"Fran\\u00e7a\", \"marker\": {\"color\": \"#0099C6\"}, \"name\": \"Fran\\u00e7a\", \"offsetgroup\": \"Fran\\u00e7a\", \"orientation\": \"h\", \"showlegend\": true, \"textposition\": \"auto\", \"type\": \"bar\", \"x\": [13.21], \"xaxis\": \"x\", \"y\": [\"Fran\\u00e7a\"], \"yaxis\": \"y\"}, {\"alignmentgroup\": \"True\", \"hovertemplate\": \"Pa\\u00edses=%{y}<br>Letalidade %=%{x}<extra></extra>\", \"legendgroup\": \"Jap\\u00e3o\", \"marker\": {\"color\": \"#DD4477\"}, \"name\": \"Jap\\u00e3o\", \"offsetgroup\": \"Jap\\u00e3o\", \"orientation\": \"h\", \"showlegend\": true, \"textposition\": \"auto\", \"type\": \"bar\", \"x\": [2.05], \"xaxis\": \"x\", \"y\": [\"Jap\\u00e3o\"], \"yaxis\": \"y\"}, {\"alignmentgroup\": \"True\", \"hovertemplate\": \"Pa\\u00edses=%{y}<br>Letalidade %=%{x}<extra></extra>\", \"legendgroup\": \"Argentina\", \"marker\": {\"color\": \"#66AA00\"}, \"name\": \"Argentina\", \"offsetgroup\": \"Argentina\", \"orientation\": \"h\", \"showlegend\": true, \"textposition\": \"auto\", \"type\": \"bar\", \"x\": [3.5], \"xaxis\": \"x\", \"y\": [\"Argentina\"], \"yaxis\": \"y\"}, {\"alignmentgroup\": \"True\", \"hovertemplate\": \"Pa\\u00edses=%{y}<br>Letalidade %=%{x}<extra></extra>\", \"legendgroup\": \"\\u00cdndia\", \"marker\": {\"color\": \"#B82E2E\"}, \"name\": \"\\u00cdndia\", \"offsetgroup\": \"\\u00cdndia\", \"orientation\": \"h\", \"showlegend\": true, \"textposition\": \"auto\", \"type\": \"bar\", \"x\": [2.87], \"xaxis\": \"x\", \"y\": [\"\\u00cdndia\"], \"yaxis\": \"y\"}, {\"alignmentgroup\": \"True\", \"hovertemplate\": \"Pa\\u00edses=%{y}<br>Letalidade %=%{x}<extra></extra>\", \"legendgroup\": \"Alemanha\", \"marker\": {\"color\": \"#316395\"}, \"name\": \"Alemanha\", \"offsetgroup\": \"Alemanha\", \"orientation\": \"h\", \"showlegend\": true, \"textposition\": \"auto\", \"type\": \"bar\", \"x\": [1.8], \"xaxis\": \"x\", \"y\": [\"Alemanha\"], \"yaxis\": \"y\"}, {\"alignmentgroup\": \"True\", \"hovertemplate\": \"Pa\\u00edses=%{y}<br>Letalidade %=%{x}<extra></extra>\", \"legendgroup\": \"China\", \"marker\": {\"color\": \"#3366CC\"}, \"name\": \"China\", \"offsetgroup\": \"China\", \"orientation\": \"h\", \"showlegend\": true, \"textposition\": \"auto\", \"type\": \"bar\", \"x\": [4.03], \"xaxis\": \"x\", \"y\": [\"China\"], \"yaxis\": \"y\"}, {\"alignmentgroup\": \"True\", \"hovertemplate\": \"Pa\\u00edses=%{y}<br>Letalidade %=%{x}<extra></extra>\", \"legendgroup\": \"Rep\\u00fablica Tcheca\", \"marker\": {\"color\": \"#DC3912\"}, \"name\": \"Rep\\u00fablica Tcheca\", \"offsetgroup\": \"Rep\\u00fablica Tcheca\", \"orientation\": \"h\", \"showlegend\": true, \"textposition\": \"auto\", \"type\": \"bar\", \"x\": [1.75], \"xaxis\": \"x\", \"y\": [\"Rep\\u00fablica Tcheca\"], \"yaxis\": \"y\"}],\n",
              "                        {\"barmode\": \"relative\", \"legend\": {\"borderwidth\": 0, \"font\": {\"size\": 8}, \"orientation\": \"v\", \"title\": {\"text\": \"Pa\\u00eds\"}, \"tracegroupgap\": 0, \"yanchor\": \"top\"}, \"template\": {\"data\": {\"bar\": [{\"error_x\": {\"color\": \"#2a3f5f\"}, \"error_y\": {\"color\": \"#2a3f5f\"}, \"marker\": {\"line\": {\"color\": \"#E5ECF6\", \"width\": 0.5}}, \"type\": \"bar\"}], \"barpolar\": [{\"marker\": {\"line\": {\"color\": \"#E5ECF6\", \"width\": 0.5}}, \"type\": \"barpolar\"}], \"carpet\": [{\"aaxis\": {\"endlinecolor\": \"#2a3f5f\", \"gridcolor\": \"white\", \"linecolor\": \"white\", \"minorgridcolor\": \"white\", \"startlinecolor\": \"#2a3f5f\"}, \"baxis\": {\"endlinecolor\": \"#2a3f5f\", \"gridcolor\": \"white\", \"linecolor\": \"white\", \"minorgridcolor\": \"white\", \"startlinecolor\": \"#2a3f5f\"}, \"type\": \"carpet\"}], \"choropleth\": [{\"colorbar\": {\"outlinewidth\": 0, \"ticks\": \"\"}, \"type\": \"choropleth\"}], \"contour\": [{\"colorbar\": {\"outlinewidth\": 0, \"ticks\": \"\"}, \"colorscale\": [[0.0, \"#0d0887\"], [0.1111111111111111, \"#46039f\"], [0.2222222222222222, \"#7201a8\"], [0.3333333333333333, \"#9c179e\"], [0.4444444444444444, \"#bd3786\"], [0.5555555555555556, \"#d8576b\"], [0.6666666666666666, \"#ed7953\"], [0.7777777777777778, \"#fb9f3a\"], [0.8888888888888888, \"#fdca26\"], [1.0, \"#f0f921\"]], \"type\": \"contour\"}], \"contourcarpet\": [{\"colorbar\": {\"outlinewidth\": 0, \"ticks\": \"\"}, \"type\": \"contourcarpet\"}], \"heatmap\": [{\"colorbar\": {\"outlinewidth\": 0, \"ticks\": \"\"}, \"colorscale\": [[0.0, \"#0d0887\"], [0.1111111111111111, \"#46039f\"], [0.2222222222222222, \"#7201a8\"], [0.3333333333333333, \"#9c179e\"], [0.4444444444444444, \"#bd3786\"], [0.5555555555555556, \"#d8576b\"], [0.6666666666666666, \"#ed7953\"], [0.7777777777777778, \"#fb9f3a\"], [0.8888888888888888, \"#fdca26\"], [1.0, \"#f0f921\"]], \"type\": \"heatmap\"}], \"heatmapgl\": [{\"colorbar\": {\"outlinewidth\": 0, \"ticks\": \"\"}, \"colorscale\": [[0.0, \"#0d0887\"], [0.1111111111111111, \"#46039f\"], [0.2222222222222222, \"#7201a8\"], [0.3333333333333333, \"#9c179e\"], [0.4444444444444444, \"#bd3786\"], [0.5555555555555556, \"#d8576b\"], [0.6666666666666666, \"#ed7953\"], [0.7777777777777778, \"#fb9f3a\"], [0.8888888888888888, \"#fdca26\"], [1.0, \"#f0f921\"]], \"type\": \"heatmapgl\"}], \"histogram\": [{\"marker\": {\"colorbar\": {\"outlinewidth\": 0, \"ticks\": \"\"}}, \"type\": \"histogram\"}], \"histogram2d\": [{\"colorbar\": {\"outlinewidth\": 0, \"ticks\": \"\"}, \"colorscale\": [[0.0, \"#0d0887\"], [0.1111111111111111, \"#46039f\"], [0.2222222222222222, \"#7201a8\"], [0.3333333333333333, \"#9c179e\"], [0.4444444444444444, \"#bd3786\"], [0.5555555555555556, \"#d8576b\"], [0.6666666666666666, \"#ed7953\"], [0.7777777777777778, \"#fb9f3a\"], [0.8888888888888888, \"#fdca26\"], [1.0, \"#f0f921\"]], \"type\": \"histogram2d\"}], \"histogram2dcontour\": [{\"colorbar\": {\"outlinewidth\": 0, \"ticks\": \"\"}, \"colorscale\": [[0.0, \"#0d0887\"], [0.1111111111111111, \"#46039f\"], [0.2222222222222222, \"#7201a8\"], [0.3333333333333333, \"#9c179e\"], [0.4444444444444444, \"#bd3786\"], [0.5555555555555556, \"#d8576b\"], [0.6666666666666666, \"#ed7953\"], [0.7777777777777778, \"#fb9f3a\"], [0.8888888888888888, \"#fdca26\"], [1.0, \"#f0f921\"]], \"type\": \"histogram2dcontour\"}], \"mesh3d\": [{\"colorbar\": {\"outlinewidth\": 0, \"ticks\": \"\"}, \"type\": \"mesh3d\"}], \"parcoords\": [{\"line\": {\"colorbar\": {\"outlinewidth\": 0, \"ticks\": \"\"}}, \"type\": \"parcoords\"}], \"pie\": [{\"automargin\": true, \"type\": \"pie\"}], \"scatter\": [{\"marker\": {\"colorbar\": {\"outlinewidth\": 0, \"ticks\": \"\"}}, \"type\": \"scatter\"}], \"scatter3d\": [{\"line\": {\"colorbar\": {\"outlinewidth\": 0, \"ticks\": \"\"}}, \"marker\": {\"colorbar\": {\"outlinewidth\": 0, \"ticks\": \"\"}}, \"type\": \"scatter3d\"}], \"scattercarpet\": [{\"marker\": {\"colorbar\": {\"outlinewidth\": 0, \"ticks\": \"\"}}, \"type\": \"scattercarpet\"}], \"scattergeo\": [{\"marker\": {\"colorbar\": {\"outlinewidth\": 0, \"ticks\": \"\"}}, \"type\": \"scattergeo\"}], \"scattergl\": [{\"marker\": {\"colorbar\": {\"outlinewidth\": 0, \"ticks\": \"\"}}, \"type\": \"scattergl\"}], \"scattermapbox\": [{\"marker\": {\"colorbar\": {\"outlinewidth\": 0, \"ticks\": \"\"}}, \"type\": \"scattermapbox\"}], \"scatterpolar\": [{\"marker\": {\"colorbar\": {\"outlinewidth\": 0, \"ticks\": \"\"}}, \"type\": \"scatterpolar\"}], \"scatterpolargl\": [{\"marker\": {\"colorbar\": {\"outlinewidth\": 0, \"ticks\": \"\"}}, \"type\": \"scatterpolargl\"}], \"scatterternary\": [{\"marker\": {\"colorbar\": {\"outlinewidth\": 0, \"ticks\": \"\"}}, \"type\": \"scatterternary\"}], \"surface\": [{\"colorbar\": {\"outlinewidth\": 0, \"ticks\": \"\"}, \"colorscale\": [[0.0, \"#0d0887\"], [0.1111111111111111, \"#46039f\"], [0.2222222222222222, \"#7201a8\"], [0.3333333333333333, \"#9c179e\"], [0.4444444444444444, \"#bd3786\"], [0.5555555555555556, \"#d8576b\"], [0.6666666666666666, \"#ed7953\"], [0.7777777777777778, \"#fb9f3a\"], [0.8888888888888888, \"#fdca26\"], [1.0, \"#f0f921\"]], \"type\": \"surface\"}], \"table\": [{\"cells\": {\"fill\": {\"color\": \"#EBF0F8\"}, \"line\": {\"color\": \"white\"}}, \"header\": {\"fill\": {\"color\": \"#C8D4E3\"}, \"line\": {\"color\": \"white\"}}, \"type\": \"table\"}]}, \"layout\": {\"annotationdefaults\": {\"arrowcolor\": \"#2a3f5f\", \"arrowhead\": 0, \"arrowwidth\": 1}, \"coloraxis\": {\"colorbar\": {\"outlinewidth\": 0, \"ticks\": \"\"}}, \"colorscale\": {\"diverging\": [[0, \"#8e0152\"], [0.1, \"#c51b7d\"], [0.2, \"#de77ae\"], [0.3, \"#f1b6da\"], [0.4, \"#fde0ef\"], [0.5, \"#f7f7f7\"], [0.6, \"#e6f5d0\"], [0.7, \"#b8e186\"], [0.8, \"#7fbc41\"], [0.9, \"#4d9221\"], [1, \"#276419\"]], \"sequential\": [[0.0, \"#0d0887\"], [0.1111111111111111, \"#46039f\"], [0.2222222222222222, \"#7201a8\"], [0.3333333333333333, \"#9c179e\"], [0.4444444444444444, \"#bd3786\"], [0.5555555555555556, \"#d8576b\"], [0.6666666666666666, \"#ed7953\"], [0.7777777777777778, \"#fb9f3a\"], [0.8888888888888888, \"#fdca26\"], [1.0, \"#f0f921\"]], \"sequentialminus\": [[0.0, \"#0d0887\"], [0.1111111111111111, \"#46039f\"], [0.2222222222222222, \"#7201a8\"], [0.3333333333333333, \"#9c179e\"], [0.4444444444444444, \"#bd3786\"], [0.5555555555555556, \"#d8576b\"], [0.6666666666666666, \"#ed7953\"], [0.7777777777777778, \"#fb9f3a\"], [0.8888888888888888, \"#fdca26\"], [1.0, \"#f0f921\"]]}, \"colorway\": [\"#636efa\", \"#EF553B\", \"#00cc96\", \"#ab63fa\", \"#FFA15A\", \"#19d3f3\", \"#FF6692\", \"#B6E880\", \"#FF97FF\", \"#FECB52\"], \"font\": {\"color\": \"#2a3f5f\"}, \"geo\": {\"bgcolor\": \"white\", \"lakecolor\": \"white\", \"landcolor\": \"#E5ECF6\", \"showlakes\": true, \"showland\": true, \"subunitcolor\": \"white\"}, \"hoverlabel\": {\"align\": \"left\"}, \"hovermode\": \"closest\", \"mapbox\": {\"style\": \"light\"}, \"paper_bgcolor\": \"white\", \"plot_bgcolor\": \"#E5ECF6\", \"polar\": {\"angularaxis\": {\"gridcolor\": \"white\", \"linecolor\": \"white\", \"ticks\": \"\"}, \"bgcolor\": \"#E5ECF6\", \"radialaxis\": {\"gridcolor\": \"white\", \"linecolor\": \"white\", \"ticks\": \"\"}}, \"scene\": {\"xaxis\": {\"backgroundcolor\": \"#E5ECF6\", \"gridcolor\": \"white\", \"gridwidth\": 2, \"linecolor\": \"white\", \"showbackground\": true, \"ticks\": \"\", \"zerolinecolor\": \"white\"}, \"yaxis\": {\"backgroundcolor\": \"#E5ECF6\", \"gridcolor\": \"white\", \"gridwidth\": 2, \"linecolor\": \"white\", \"showbackground\": true, \"ticks\": \"\", \"zerolinecolor\": \"white\"}, \"zaxis\": {\"backgroundcolor\": \"#E5ECF6\", \"gridcolor\": \"white\", \"gridwidth\": 2, \"linecolor\": \"white\", \"showbackground\": true, \"ticks\": \"\", \"zerolinecolor\": \"white\"}}, \"shapedefaults\": {\"line\": {\"color\": \"#2a3f5f\"}}, \"ternary\": {\"aaxis\": {\"gridcolor\": \"white\", \"linecolor\": \"white\", \"ticks\": \"\"}, \"baxis\": {\"gridcolor\": \"white\", \"linecolor\": \"white\", \"ticks\": \"\"}, \"bgcolor\": \"#E5ECF6\", \"caxis\": {\"gridcolor\": \"white\", \"linecolor\": \"white\", \"ticks\": \"\"}}, \"title\": {\"x\": 0.05}, \"xaxis\": {\"automargin\": true, \"gridcolor\": \"white\", \"linecolor\": \"white\", \"ticks\": \"\", \"title\": {\"standoff\": 15}, \"zerolinecolor\": \"white\", \"zerolinewidth\": 2}, \"yaxis\": {\"automargin\": true, \"gridcolor\": \"white\", \"linecolor\": \"white\", \"ticks\": \"\", \"title\": {\"standoff\": 15}, \"zerolinecolor\": \"white\", \"zerolinewidth\": 2}}}, \"title\": {\"text\": \"Letalidade - 08-04-2020\"}, \"xaxis\": {\"anchor\": \"y\", \"domain\": [0.0, 1.0], \"title\": {\"text\": \"Letalidade %\"}}, \"yaxis\": {\"anchor\": \"x\", \"categoryarray\": [\"Rep\\u00fablica Tcheca\", \"China\", \"Alemanha\", \"\\u00cdndia\", \"Argentina\", \"Jap\\u00e3o\", \"Fran\\u00e7a\", \"Espanha\", \"It\\u00e1lia\", \"Reino Unido\", \"EUA\", \"Brasil\"], \"categoryorder\": \"array\", \"domain\": [0.0, 1.0], \"title\": {\"text\": \"Pa\\u00edses\"}, \"type\": \"category\"}},\n",
              "                        {\"responsive\": true}\n",
              "                    ).then(function(){\n",
              "                            \n",
              "var gd = document.getElementById('6dbf3af6-a00d-46c2-a223-adc2b358aa31');\n",
              "var x = new MutationObserver(function (mutations, observer) {{\n",
              "        var display = window.getComputedStyle(gd).display;\n",
              "        if (!display || display === 'none') {{\n",
              "            console.log([gd, 'removed!']);\n",
              "            Plotly.purge(gd);\n",
              "            observer.disconnect();\n",
              "        }}\n",
              "}});\n",
              "\n",
              "// Listen for the removal of the full notebook cells\n",
              "var notebookContainer = gd.closest('#notebook-container');\n",
              "if (notebookContainer) {{\n",
              "    x.observe(notebookContainer, {childList: true});\n",
              "}}\n",
              "\n",
              "// Listen for the clearing of the current output cell\n",
              "var outputEl = gd.closest('.output');\n",
              "if (outputEl) {{\n",
              "    x.observe(outputEl, {childList: true});\n",
              "}}\n",
              "\n",
              "                        })\n",
              "                };\n",
              "                \n",
              "            </script>\n",
              "        </div>\n",
              "</body>\n",
              "</html>"
            ]
          },
          "metadata": {
            "tags": []
          }
        }
      ]
    },
    {
      "cell_type": "code",
      "metadata": {
        "id": "stK7iA7aU5up",
        "colab_type": "code",
        "outputId": "e67c6e50-deb4-4c98-8d5d-8cdcfd21fd47",
        "colab": {
          "base_uri": "https://localhost:8080/",
          "height": 173
        }
      },
      "source": [
        "#hide\n",
        "pro_bra = data2[data2['countriesAndTerritories']=='Brazil']\n",
        "pro_bra['dateRep'] = pd.to_datetime(pro_bra['dateRep'],infer_datetime_format=True)\n",
        "pro_bra.sort_values('dateRep',inplace=True)\n",
        "\n",
        "pro_bra['death_cum'] = pro_bra['deaths'].cumsum()\n",
        "pro_bra['case_cum'] = pro_bra['cases'].cumsum()\n",
        "\n",
        "pro_bra.drop(['day', 'month','year',\"geoId\",'countryterritoryCode',\"popData2018\",'countriesAndTerritories'], axis = 1,inplace=True)\n",
        "pro_bra.tail(4)"
      ],
      "execution_count": 64,
      "outputs": [
        {
          "output_type": "execute_result",
          "data": {
            "text/html": [
              "<div>\n",
              "<style scoped>\n",
              "    .dataframe tbody tr th:only-of-type {\n",
              "        vertical-align: middle;\n",
              "    }\n",
              "\n",
              "    .dataframe tbody tr th {\n",
              "        vertical-align: top;\n",
              "    }\n",
              "\n",
              "    .dataframe thead th {\n",
              "        text-align: right;\n",
              "    }\n",
              "</style>\n",
              "<table border=\"1\" class=\"dataframe\">\n",
              "  <thead>\n",
              "    <tr style=\"text-align: right;\">\n",
              "      <th></th>\n",
              "      <th>dateRep</th>\n",
              "      <th>cases</th>\n",
              "      <th>deaths</th>\n",
              "      <th>death_cum</th>\n",
              "      <th>case_cum</th>\n",
              "    </tr>\n",
              "  </thead>\n",
              "  <tbody>\n",
              "    <tr>\n",
              "      <th>1244</th>\n",
              "      <td>2020-04-05</td>\n",
              "      <td>1222</td>\n",
              "      <td>73</td>\n",
              "      <td>432</td>\n",
              "      <td>10278</td>\n",
              "    </tr>\n",
              "    <tr>\n",
              "      <th>1243</th>\n",
              "      <td>2020-04-06</td>\n",
              "      <td>852</td>\n",
              "      <td>54</td>\n",
              "      <td>486</td>\n",
              "      <td>11130</td>\n",
              "    </tr>\n",
              "    <tr>\n",
              "      <th>1242</th>\n",
              "      <td>2020-04-07</td>\n",
              "      <td>926</td>\n",
              "      <td>67</td>\n",
              "      <td>553</td>\n",
              "      <td>12056</td>\n",
              "    </tr>\n",
              "    <tr>\n",
              "      <th>1241</th>\n",
              "      <td>2020-04-08</td>\n",
              "      <td>1661</td>\n",
              "      <td>114</td>\n",
              "      <td>667</td>\n",
              "      <td>13717</td>\n",
              "    </tr>\n",
              "  </tbody>\n",
              "</table>\n",
              "</div>"
            ],
            "text/plain": [
              "        dateRep  cases  deaths  death_cum  case_cum\n",
              "1244 2020-04-05   1222      73        432     10278\n",
              "1243 2020-04-06    852      54        486     11130\n",
              "1242 2020-04-07    926      67        553     12056\n",
              "1241 2020-04-08   1661     114        667     13717"
            ]
          },
          "metadata": {
            "tags": []
          },
          "execution_count": 64
        }
      ]
    },
    {
      "cell_type": "code",
      "metadata": {
        "id": "DbuqNT4UVwbl",
        "colab_type": "code",
        "outputId": "b472ff44-8b88-456a-e468-65b55ded4d22",
        "colab": {
          "base_uri": "https://localhost:8080/",
          "height": 142
        }
      },
      "source": [
        "#hide\n",
        "pro_bra['Alemanha'] = pro_bra['death_cum']/let_ger*100\n",
        "pro_bra = pro_bra[pro_bra['dateRep']>='2020-03-17']\n",
        "pro_bra = pro_bra[pro_bra['dateRep']<=today]\n",
        "\n",
        "pro_bra.sort_values('dateRep',ascending=False)\n",
        "pro_bra.tail(3)"
      ],
      "execution_count": 65,
      "outputs": [
        {
          "output_type": "execute_result",
          "data": {
            "text/html": [
              "<div>\n",
              "<style scoped>\n",
              "    .dataframe tbody tr th:only-of-type {\n",
              "        vertical-align: middle;\n",
              "    }\n",
              "\n",
              "    .dataframe tbody tr th {\n",
              "        vertical-align: top;\n",
              "    }\n",
              "\n",
              "    .dataframe thead th {\n",
              "        text-align: right;\n",
              "    }\n",
              "</style>\n",
              "<table border=\"1\" class=\"dataframe\">\n",
              "  <thead>\n",
              "    <tr style=\"text-align: right;\">\n",
              "      <th></th>\n",
              "      <th>dateRep</th>\n",
              "      <th>cases</th>\n",
              "      <th>deaths</th>\n",
              "      <th>death_cum</th>\n",
              "      <th>case_cum</th>\n",
              "      <th>Alemanha</th>\n",
              "    </tr>\n",
              "  </thead>\n",
              "  <tbody>\n",
              "    <tr>\n",
              "      <th>1243</th>\n",
              "      <td>2020-04-06</td>\n",
              "      <td>852</td>\n",
              "      <td>54</td>\n",
              "      <td>486</td>\n",
              "      <td>11130</td>\n",
              "      <td>27000.000000</td>\n",
              "    </tr>\n",
              "    <tr>\n",
              "      <th>1242</th>\n",
              "      <td>2020-04-07</td>\n",
              "      <td>926</td>\n",
              "      <td>67</td>\n",
              "      <td>553</td>\n",
              "      <td>12056</td>\n",
              "      <td>30722.222222</td>\n",
              "    </tr>\n",
              "    <tr>\n",
              "      <th>1241</th>\n",
              "      <td>2020-04-08</td>\n",
              "      <td>1661</td>\n",
              "      <td>114</td>\n",
              "      <td>667</td>\n",
              "      <td>13717</td>\n",
              "      <td>37055.555556</td>\n",
              "    </tr>\n",
              "  </tbody>\n",
              "</table>\n",
              "</div>"
            ],
            "text/plain": [
              "        dateRep  cases  deaths  death_cum  case_cum      Alemanha\n",
              "1243 2020-04-06    852      54        486     11130  27000.000000\n",
              "1242 2020-04-07    926      67        553     12056  30722.222222\n",
              "1241 2020-04-08   1661     114        667     13717  37055.555556"
            ]
          },
          "metadata": {
            "tags": []
          },
          "execution_count": 65
        }
      ]
    },
    {
      "cell_type": "markdown",
      "metadata": {
        "id": "ayDTpGd2XAcS",
        "colab_type": "text"
      },
      "source": [
        "O gráfico abaixo representa uma estimativa simples da quantidade de casos atualmente no Brasil. Uma vez que a baixa quantidade de testes tem levado os números a uma subnotificação, o cálculo foi realizado com base no número de óbitos registrados por COVID-19 no Brasil e na taxa da Alemanha, país que tem testado massivamente sua população. Desse modo os números são os seguintes:\n"
      ]
    },
    {
      "cell_type": "code",
      "metadata": {
        "id": "xsMegz3oXF1e",
        "colab_type": "code",
        "outputId": "a3ba8d95-ca14-41a2-fba0-37ba56d8ea72",
        "colab": {
          "base_uri": "https://localhost:8080/",
          "height": 68
        }
      },
      "source": [
        "#hide_input\n",
        "print(\"Número atual de casos registrados no Brasil hoje: \"+ str(pro_bra.iloc[-1,-3])  )\n",
        "print(\"Estimativa de casos no Brasil hoje caso a letalidade seja próxima à da Alemanha: \"+ str(int(pro_bra.iloc[-1,-2]))  )\n",
        "print(\"Estimativa de casos no Brasil hoje caso a letalidade seja próxima à da Coréia do Sul: \"+ str(int(pro_bra.iloc[-1,-1]))  )"
      ],
      "execution_count": 66,
      "outputs": [
        {
          "output_type": "stream",
          "text": [
            "Número atual de casos registrados no Brasil hoje: 667\n",
            "Estimativa de casos no Brasil hoje caso a letalidade seja próxima à da Alemanha: 13717\n",
            "Estimativa de casos no Brasil hoje caso a letalidade seja próxima à da Coréia do Sul: 37055\n"
          ],
          "name": "stdout"
        }
      ]
    },
    {
      "cell_type": "code",
      "metadata": {
        "id": "sxDWbBilJNkw",
        "colab_type": "code",
        "outputId": "1c1a0dd7-8212-4543-c9d7-f589608ffd6c",
        "colab": {
          "base_uri": "https://localhost:8080/",
          "height": 80
        }
      },
      "source": [
        "#hide\n",
        "pro_bra.tail(1)"
      ],
      "execution_count": 67,
      "outputs": [
        {
          "output_type": "execute_result",
          "data": {
            "text/html": [
              "<div>\n",
              "<style scoped>\n",
              "    .dataframe tbody tr th:only-of-type {\n",
              "        vertical-align: middle;\n",
              "    }\n",
              "\n",
              "    .dataframe tbody tr th {\n",
              "        vertical-align: top;\n",
              "    }\n",
              "\n",
              "    .dataframe thead th {\n",
              "        text-align: right;\n",
              "    }\n",
              "</style>\n",
              "<table border=\"1\" class=\"dataframe\">\n",
              "  <thead>\n",
              "    <tr style=\"text-align: right;\">\n",
              "      <th></th>\n",
              "      <th>dateRep</th>\n",
              "      <th>cases</th>\n",
              "      <th>deaths</th>\n",
              "      <th>death_cum</th>\n",
              "      <th>case_cum</th>\n",
              "      <th>Alemanha</th>\n",
              "    </tr>\n",
              "  </thead>\n",
              "  <tbody>\n",
              "    <tr>\n",
              "      <th>1241</th>\n",
              "      <td>2020-04-08</td>\n",
              "      <td>1661</td>\n",
              "      <td>114</td>\n",
              "      <td>667</td>\n",
              "      <td>13717</td>\n",
              "      <td>37055.555556</td>\n",
              "    </tr>\n",
              "  </tbody>\n",
              "</table>\n",
              "</div>"
            ],
            "text/plain": [
              "        dateRep  cases  deaths  death_cum  case_cum      Alemanha\n",
              "1241 2020-04-08   1661     114        667     13717  37055.555556"
            ]
          },
          "metadata": {
            "tags": []
          },
          "execution_count": 67
        }
      ]
    },
    {
      "cell_type": "code",
      "metadata": {
        "id": "o6tcaHJ-ZnBU",
        "colab_type": "code",
        "outputId": "d87a0889-d83d-4060-c6fe-449547088079",
        "colab": {
          "base_uri": "https://localhost:8080/",
          "height": 542
        }
      },
      "source": [
        "#hide_input\n",
        "import plotly.graph_objects as go\n",
        "pro_bra = pro_bra[pro_bra['dateRep']<=today_us]\n",
        "fig = go.Figure()\n",
        "fig.add_trace(go.Scatter(x=pro_bra['dateRep'], y=pro_bra['case_cum'], name='Brasil registrado',\n",
        "                         line=dict(color='firebrick', width=4)))\n",
        "fig.add_trace(go.Scatter(x=pro_bra['dateRep'], y=pro_bra['Alemanha'], name='Projeção Alemanha',\n",
        "                         line=dict(color='blue', width=2)))\n",
        "\n",
        "\n",
        "fig.update_layout(title='Projeção de casos no Brasil baseados nas taxas de letalidade da Alemanha',\n",
        "                   xaxis_title='Data',\n",
        "                   yaxis_title='Projeção')"
      ],
      "execution_count": 68,
      "outputs": [
        {
          "output_type": "display_data",
          "data": {
            "text/html": [
              "<html>\n",
              "<head><meta charset=\"utf-8\" /></head>\n",
              "<body>\n",
              "    <div>\n",
              "            <script src=\"https://cdnjs.cloudflare.com/ajax/libs/mathjax/2.7.5/MathJax.js?config=TeX-AMS-MML_SVG\"></script><script type=\"text/javascript\">if (window.MathJax) {MathJax.Hub.Config({SVG: {font: \"STIX-Web\"}});}</script>\n",
              "                <script type=\"text/javascript\">window.PlotlyConfig = {MathJaxConfig: 'local'};</script>\n",
              "        <script src=\"https://cdn.plot.ly/plotly-latest.min.js\"></script>    \n",
              "            <div id=\"b33aef94-8622-4743-9ec0-3349c2e7537d\" class=\"plotly-graph-div\" style=\"height:525px; width:100%;\"></div>\n",
              "            <script type=\"text/javascript\">\n",
              "                \n",
              "                    window.PLOTLYENV=window.PLOTLYENV || {};\n",
              "                    \n",
              "                if (document.getElementById(\"b33aef94-8622-4743-9ec0-3349c2e7537d\")) {\n",
              "                    Plotly.newPlot(\n",
              "                        'b33aef94-8622-4743-9ec0-3349c2e7537d',\n",
              "                        [{\"line\": {\"color\": \"firebrick\", \"width\": 4}, \"name\": \"Brasil registrado\", \"type\": \"scatter\", \"x\": [\"2020-03-17T00:00:00\", \"2020-03-18T00:00:00\", \"2020-03-19T00:00:00\", \"2020-03-20T00:00:00\", \"2020-03-21T00:00:00\", \"2020-03-22T00:00:00\", \"2020-03-23T00:00:00\", \"2020-03-24T00:00:00\", \"2020-03-25T00:00:00\", \"2020-03-26T00:00:00\", \"2020-03-27T00:00:00\", \"2020-03-28T00:00:00\", \"2020-03-29T00:00:00\", \"2020-03-30T00:00:00\", \"2020-03-31T00:00:00\", \"2020-04-01T00:00:00\", \"2020-04-02T00:00:00\", \"2020-04-03T00:00:00\", \"2020-04-04T00:00:00\", \"2020-04-05T00:00:00\", \"2020-04-06T00:00:00\", \"2020-04-07T00:00:00\", \"2020-04-08T00:00:00\"], \"y\": [234, 291, 428, 621, 904, 1128, 1546, 1891, 2201, 2433, 2915, 3417, 3904, 4256, 4579, 5717, 6836, 7910, 9056, 10278, 11130, 12056, 13717]}, {\"line\": {\"color\": \"blue\", \"width\": 2}, \"name\": \"Proje\\u00e7\\u00e3o Alemanha\", \"type\": \"scatter\", \"x\": [\"2020-03-17T00:00:00\", \"2020-03-18T00:00:00\", \"2020-03-19T00:00:00\", \"2020-03-20T00:00:00\", \"2020-03-21T00:00:00\", \"2020-03-22T00:00:00\", \"2020-03-23T00:00:00\", \"2020-03-24T00:00:00\", \"2020-03-25T00:00:00\", \"2020-03-26T00:00:00\", \"2020-03-27T00:00:00\", \"2020-03-28T00:00:00\", \"2020-03-29T00:00:00\", \"2020-03-30T00:00:00\", \"2020-03-31T00:00:00\", \"2020-04-01T00:00:00\", \"2020-04-02T00:00:00\", \"2020-04-03T00:00:00\", \"2020-04-04T00:00:00\", \"2020-04-05T00:00:00\", \"2020-04-06T00:00:00\", \"2020-04-07T00:00:00\", \"2020-04-08T00:00:00\"], \"y\": [0.0, 55.55555555555556, 222.22222222222223, 333.3333333333333, 611.1111111111111, 1000.0, 1388.888888888889, 1888.888888888889, 2555.555555555555, 3166.6666666666665, 4277.777777777778, 5111.11111111111, 6333.333333333333, 7555.555555555556, 8833.333333333332, 11166.666666666666, 13388.888888888889, 16611.111111111113, 19944.44444444444, 24000.0, 27000.0, 30722.222222222223, 37055.555555555555]}],\n",
              "                        {\"template\": {\"data\": {\"bar\": [{\"error_x\": {\"color\": \"#2a3f5f\"}, \"error_y\": {\"color\": \"#2a3f5f\"}, \"marker\": {\"line\": {\"color\": \"#E5ECF6\", \"width\": 0.5}}, \"type\": \"bar\"}], \"barpolar\": [{\"marker\": {\"line\": {\"color\": \"#E5ECF6\", \"width\": 0.5}}, \"type\": \"barpolar\"}], \"carpet\": [{\"aaxis\": {\"endlinecolor\": \"#2a3f5f\", \"gridcolor\": \"white\", \"linecolor\": \"white\", \"minorgridcolor\": \"white\", \"startlinecolor\": \"#2a3f5f\"}, \"baxis\": {\"endlinecolor\": \"#2a3f5f\", \"gridcolor\": \"white\", \"linecolor\": \"white\", \"minorgridcolor\": \"white\", \"startlinecolor\": \"#2a3f5f\"}, \"type\": \"carpet\"}], \"choropleth\": [{\"colorbar\": {\"outlinewidth\": 0, \"ticks\": \"\"}, \"type\": \"choropleth\"}], \"contour\": [{\"colorbar\": {\"outlinewidth\": 0, \"ticks\": \"\"}, \"colorscale\": [[0.0, \"#0d0887\"], [0.1111111111111111, \"#46039f\"], [0.2222222222222222, \"#7201a8\"], [0.3333333333333333, \"#9c179e\"], [0.4444444444444444, \"#bd3786\"], [0.5555555555555556, \"#d8576b\"], [0.6666666666666666, \"#ed7953\"], [0.7777777777777778, \"#fb9f3a\"], [0.8888888888888888, \"#fdca26\"], [1.0, \"#f0f921\"]], \"type\": \"contour\"}], \"contourcarpet\": [{\"colorbar\": {\"outlinewidth\": 0, \"ticks\": \"\"}, \"type\": \"contourcarpet\"}], \"heatmap\": [{\"colorbar\": {\"outlinewidth\": 0, \"ticks\": \"\"}, \"colorscale\": [[0.0, \"#0d0887\"], [0.1111111111111111, \"#46039f\"], [0.2222222222222222, \"#7201a8\"], [0.3333333333333333, \"#9c179e\"], [0.4444444444444444, \"#bd3786\"], [0.5555555555555556, \"#d8576b\"], [0.6666666666666666, \"#ed7953\"], [0.7777777777777778, \"#fb9f3a\"], [0.8888888888888888, \"#fdca26\"], [1.0, \"#f0f921\"]], \"type\": \"heatmap\"}], \"heatmapgl\": [{\"colorbar\": {\"outlinewidth\": 0, \"ticks\": \"\"}, \"colorscale\": [[0.0, \"#0d0887\"], [0.1111111111111111, \"#46039f\"], [0.2222222222222222, \"#7201a8\"], [0.3333333333333333, \"#9c179e\"], [0.4444444444444444, \"#bd3786\"], [0.5555555555555556, \"#d8576b\"], [0.6666666666666666, \"#ed7953\"], [0.7777777777777778, \"#fb9f3a\"], [0.8888888888888888, \"#fdca26\"], [1.0, \"#f0f921\"]], \"type\": \"heatmapgl\"}], \"histogram\": [{\"marker\": {\"colorbar\": {\"outlinewidth\": 0, \"ticks\": \"\"}}, \"type\": \"histogram\"}], \"histogram2d\": [{\"colorbar\": {\"outlinewidth\": 0, \"ticks\": \"\"}, \"colorscale\": [[0.0, \"#0d0887\"], [0.1111111111111111, \"#46039f\"], [0.2222222222222222, \"#7201a8\"], [0.3333333333333333, \"#9c179e\"], [0.4444444444444444, \"#bd3786\"], [0.5555555555555556, \"#d8576b\"], [0.6666666666666666, \"#ed7953\"], [0.7777777777777778, \"#fb9f3a\"], [0.8888888888888888, \"#fdca26\"], [1.0, \"#f0f921\"]], \"type\": \"histogram2d\"}], \"histogram2dcontour\": [{\"colorbar\": {\"outlinewidth\": 0, \"ticks\": \"\"}, \"colorscale\": [[0.0, \"#0d0887\"], [0.1111111111111111, \"#46039f\"], [0.2222222222222222, \"#7201a8\"], [0.3333333333333333, \"#9c179e\"], [0.4444444444444444, \"#bd3786\"], [0.5555555555555556, \"#d8576b\"], [0.6666666666666666, \"#ed7953\"], [0.7777777777777778, \"#fb9f3a\"], [0.8888888888888888, \"#fdca26\"], [1.0, \"#f0f921\"]], \"type\": \"histogram2dcontour\"}], \"mesh3d\": [{\"colorbar\": {\"outlinewidth\": 0, \"ticks\": \"\"}, \"type\": \"mesh3d\"}], \"parcoords\": [{\"line\": {\"colorbar\": {\"outlinewidth\": 0, \"ticks\": \"\"}}, \"type\": \"parcoords\"}], \"pie\": [{\"automargin\": true, \"type\": \"pie\"}], \"scatter\": [{\"marker\": {\"colorbar\": {\"outlinewidth\": 0, \"ticks\": \"\"}}, \"type\": \"scatter\"}], \"scatter3d\": [{\"line\": {\"colorbar\": {\"outlinewidth\": 0, \"ticks\": \"\"}}, \"marker\": {\"colorbar\": {\"outlinewidth\": 0, \"ticks\": \"\"}}, \"type\": \"scatter3d\"}], \"scattercarpet\": [{\"marker\": {\"colorbar\": {\"outlinewidth\": 0, \"ticks\": \"\"}}, \"type\": \"scattercarpet\"}], \"scattergeo\": [{\"marker\": {\"colorbar\": {\"outlinewidth\": 0, \"ticks\": \"\"}}, \"type\": \"scattergeo\"}], \"scattergl\": [{\"marker\": {\"colorbar\": {\"outlinewidth\": 0, \"ticks\": \"\"}}, \"type\": \"scattergl\"}], \"scattermapbox\": [{\"marker\": {\"colorbar\": {\"outlinewidth\": 0, \"ticks\": \"\"}}, \"type\": \"scattermapbox\"}], \"scatterpolar\": [{\"marker\": {\"colorbar\": {\"outlinewidth\": 0, \"ticks\": \"\"}}, \"type\": \"scatterpolar\"}], \"scatterpolargl\": [{\"marker\": {\"colorbar\": {\"outlinewidth\": 0, \"ticks\": \"\"}}, \"type\": \"scatterpolargl\"}], \"scatterternary\": [{\"marker\": {\"colorbar\": {\"outlinewidth\": 0, \"ticks\": \"\"}}, \"type\": \"scatterternary\"}], \"surface\": [{\"colorbar\": {\"outlinewidth\": 0, \"ticks\": \"\"}, \"colorscale\": [[0.0, \"#0d0887\"], [0.1111111111111111, \"#46039f\"], [0.2222222222222222, \"#7201a8\"], [0.3333333333333333, \"#9c179e\"], [0.4444444444444444, \"#bd3786\"], [0.5555555555555556, \"#d8576b\"], [0.6666666666666666, \"#ed7953\"], [0.7777777777777778, \"#fb9f3a\"], [0.8888888888888888, \"#fdca26\"], [1.0, \"#f0f921\"]], \"type\": \"surface\"}], \"table\": [{\"cells\": {\"fill\": {\"color\": \"#EBF0F8\"}, \"line\": {\"color\": \"white\"}}, \"header\": {\"fill\": {\"color\": \"#C8D4E3\"}, \"line\": {\"color\": \"white\"}}, \"type\": \"table\"}]}, \"layout\": {\"annotationdefaults\": {\"arrowcolor\": \"#2a3f5f\", \"arrowhead\": 0, \"arrowwidth\": 1}, \"coloraxis\": {\"colorbar\": {\"outlinewidth\": 0, \"ticks\": \"\"}}, \"colorscale\": {\"diverging\": [[0, \"#8e0152\"], [0.1, \"#c51b7d\"], [0.2, \"#de77ae\"], [0.3, \"#f1b6da\"], [0.4, \"#fde0ef\"], [0.5, \"#f7f7f7\"], [0.6, \"#e6f5d0\"], [0.7, \"#b8e186\"], [0.8, \"#7fbc41\"], [0.9, \"#4d9221\"], [1, \"#276419\"]], \"sequential\": [[0.0, \"#0d0887\"], [0.1111111111111111, \"#46039f\"], [0.2222222222222222, \"#7201a8\"], [0.3333333333333333, \"#9c179e\"], [0.4444444444444444, \"#bd3786\"], [0.5555555555555556, \"#d8576b\"], [0.6666666666666666, \"#ed7953\"], [0.7777777777777778, \"#fb9f3a\"], [0.8888888888888888, \"#fdca26\"], [1.0, \"#f0f921\"]], \"sequentialminus\": [[0.0, \"#0d0887\"], [0.1111111111111111, \"#46039f\"], [0.2222222222222222, \"#7201a8\"], [0.3333333333333333, \"#9c179e\"], [0.4444444444444444, \"#bd3786\"], [0.5555555555555556, \"#d8576b\"], [0.6666666666666666, \"#ed7953\"], [0.7777777777777778, \"#fb9f3a\"], [0.8888888888888888, \"#fdca26\"], [1.0, \"#f0f921\"]]}, \"colorway\": [\"#636efa\", \"#EF553B\", \"#00cc96\", \"#ab63fa\", \"#FFA15A\", \"#19d3f3\", \"#FF6692\", \"#B6E880\", \"#FF97FF\", \"#FECB52\"], \"font\": {\"color\": \"#2a3f5f\"}, \"geo\": {\"bgcolor\": \"white\", \"lakecolor\": \"white\", \"landcolor\": \"#E5ECF6\", \"showlakes\": true, \"showland\": true, \"subunitcolor\": \"white\"}, \"hoverlabel\": {\"align\": \"left\"}, \"hovermode\": \"closest\", \"mapbox\": {\"style\": \"light\"}, \"paper_bgcolor\": \"white\", \"plot_bgcolor\": \"#E5ECF6\", \"polar\": {\"angularaxis\": {\"gridcolor\": \"white\", \"linecolor\": \"white\", \"ticks\": \"\"}, \"bgcolor\": \"#E5ECF6\", \"radialaxis\": {\"gridcolor\": \"white\", \"linecolor\": \"white\", \"ticks\": \"\"}}, \"scene\": {\"xaxis\": {\"backgroundcolor\": \"#E5ECF6\", \"gridcolor\": \"white\", \"gridwidth\": 2, \"linecolor\": \"white\", \"showbackground\": true, \"ticks\": \"\", \"zerolinecolor\": \"white\"}, \"yaxis\": {\"backgroundcolor\": \"#E5ECF6\", \"gridcolor\": \"white\", \"gridwidth\": 2, \"linecolor\": \"white\", \"showbackground\": true, \"ticks\": \"\", \"zerolinecolor\": \"white\"}, \"zaxis\": {\"backgroundcolor\": \"#E5ECF6\", \"gridcolor\": \"white\", \"gridwidth\": 2, \"linecolor\": \"white\", \"showbackground\": true, \"ticks\": \"\", \"zerolinecolor\": \"white\"}}, \"shapedefaults\": {\"line\": {\"color\": \"#2a3f5f\"}}, \"ternary\": {\"aaxis\": {\"gridcolor\": \"white\", \"linecolor\": \"white\", \"ticks\": \"\"}, \"baxis\": {\"gridcolor\": \"white\", \"linecolor\": \"white\", \"ticks\": \"\"}, \"bgcolor\": \"#E5ECF6\", \"caxis\": {\"gridcolor\": \"white\", \"linecolor\": \"white\", \"ticks\": \"\"}}, \"title\": {\"x\": 0.05}, \"xaxis\": {\"automargin\": true, \"gridcolor\": \"white\", \"linecolor\": \"white\", \"ticks\": \"\", \"title\": {\"standoff\": 15}, \"zerolinecolor\": \"white\", \"zerolinewidth\": 2}, \"yaxis\": {\"automargin\": true, \"gridcolor\": \"white\", \"linecolor\": \"white\", \"ticks\": \"\", \"title\": {\"standoff\": 15}, \"zerolinecolor\": \"white\", \"zerolinewidth\": 2}}}, \"title\": {\"text\": \"Proje\\u00e7\\u00e3o de casos no Brasil baseados nas taxas de letalidade da Alemanha\"}, \"xaxis\": {\"title\": {\"text\": \"Data\"}}, \"yaxis\": {\"title\": {\"text\": \"Proje\\u00e7\\u00e3o\"}}},\n",
              "                        {\"responsive\": true}\n",
              "                    ).then(function(){\n",
              "                            \n",
              "var gd = document.getElementById('b33aef94-8622-4743-9ec0-3349c2e7537d');\n",
              "var x = new MutationObserver(function (mutations, observer) {{\n",
              "        var display = window.getComputedStyle(gd).display;\n",
              "        if (!display || display === 'none') {{\n",
              "            console.log([gd, 'removed!']);\n",
              "            Plotly.purge(gd);\n",
              "            observer.disconnect();\n",
              "        }}\n",
              "}});\n",
              "\n",
              "// Listen for the removal of the full notebook cells\n",
              "var notebookContainer = gd.closest('#notebook-container');\n",
              "if (notebookContainer) {{\n",
              "    x.observe(notebookContainer, {childList: true});\n",
              "}}\n",
              "\n",
              "// Listen for the clearing of the current output cell\n",
              "var outputEl = gd.closest('.output');\n",
              "if (outputEl) {{\n",
              "    x.observe(outputEl, {childList: true});\n",
              "}}\n",
              "\n",
              "                        })\n",
              "                };\n",
              "                \n",
              "            </script>\n",
              "        </div>\n",
              "</body>\n",
              "</html>"
            ]
          },
          "metadata": {
            "tags": []
          }
        }
      ]
    },
    {
      "cell_type": "code",
      "metadata": {
        "id": "PTF6VKhK6m4v",
        "colab_type": "code",
        "outputId": "5cf4c8e4-0686-4ea2-ea3d-71486bc7e802",
        "colab": {
          "base_uri": "https://localhost:8080/",
          "height": 51
        }
      },
      "source": [
        "#hide\n",
        "from statsmodels.tsa.stattools import adfuller\n",
        "from numpy import log\n",
        "result = adfuller(italy.Cumulativo.dropna())\n",
        "print('ADF Statistic: %f' % result[0])\n",
        "print('p-value: %f' % result[1])\n"
      ],
      "execution_count": 71,
      "outputs": [
        {
          "output_type": "stream",
          "text": [
            "ADF Statistic: 0.621892\n",
            "p-value: 0.988143\n"
          ],
          "name": "stdout"
        }
      ]
    },
    {
      "cell_type": "code",
      "metadata": {
        "id": "SDqi2NA_6h5H",
        "colab_type": "code",
        "outputId": "827d5b78-cdc1-4798-a8af-4f971cd0d5f0",
        "colab": {
          "base_uri": "https://localhost:8080/",
          "height": 734
        }
      },
      "source": [
        "#hide\n",
        "import numpy as np, pandas as pd\n",
        "from statsmodels.graphics.tsaplots import plot_acf, plot_pacf\n",
        "import matplotlib.pyplot as plt\n",
        "plt.rcParams.update({'figure.figsize':(9,7), 'figure.dpi':120})\n",
        "\n",
        "# Import data\n",
        "df =italy\n",
        "\n",
        "# Original Series\n",
        "fig, axes = plt.subplots(3, 2, sharex=True)\n",
        "axes[0, 0].plot(italy.Cumulativo); axes[0, 0].set_title('Original Series')\n",
        "plot_acf(italy.Cumulativo, ax=axes[0, 1])\n",
        "\n",
        "# 1st Differencing\n",
        "axes[1, 0].plot(italy.Cumulativo.diff()); axes[1, 0].set_title('1st Order Differencing')\n",
        "plot_acf(italy.Cumulativo.diff().dropna(), ax=axes[1, 1])\n",
        "\n",
        "# 2nd Differencing\n",
        "axes[2, 0].plot(italy.Cumulativo.diff().diff()); axes[2, 0].set_title('2nd Order Differencing')\n",
        "plot_acf(italy.Cumulativo.diff().diff().dropna(), ax=axes[2, 1])\n",
        "\n",
        "plt.show()"
      ],
      "execution_count": 72,
      "outputs": [
        {
          "output_type": "display_data",
          "data": {
            "image/png": "[encoded data removed]",
            "text/plain": [
              "<Figure size 1080x840 with 6 Axes>"
            ]
          },
          "metadata": {
            "tags": []
          }
        }
      ]
    },
    {
      "cell_type": "code",
      "metadata": {
        "id": "jxjvVHXJOolQ",
        "colab_type": "code",
        "outputId": "8d4618a0-50a0-4445-f0a2-1143a6bf5de0",
        "colab": {
          "base_uri": "https://localhost:8080/",
          "height": 425
        }
      },
      "source": [
        "#hide\n",
        "from statsmodels.tsa.arima_model import ARIMA\n",
        "\n",
        "# 1,1,2 ARIMA Model\n",
        "model = ARIMA(italy.Cumulativo.astype(float), order=(1,1,2))\n",
        "model_fit = model.fit(disp=0)\n",
        "print(model_fit.summary())\n"
      ],
      "execution_count": 74,
      "outputs": [
        {
          "output_type": "stream",
          "text": [
            "                             ARIMA Model Results                              \n",
            "==============================================================================\n",
            "Dep. Variable:           D.Cumulativo   No. Observations:                   45\n",
            "Model:                 ARIMA(1, 1, 2)   Log Likelihood                -350.574\n",
            "Method:                       css-mle   S.D. of innovations            567.807\n",
            "Date:                Wed, 08 Apr 2020   AIC                            711.148\n",
            "Time:                        11:34:16   BIC                            720.181\n",
            "Sample:                             1   HQIC                           714.516\n",
            "                                                                              \n",
            "======================================================================================\n",
            "                         coef    std err          z      P>|z|      [0.025      0.975]\n",
            "--------------------------------------------------------------------------------------\n",
            "const               2344.3087   1405.712      1.668      0.103    -410.837    5099.454\n",
            "ar.L1.D.Cumulativo     0.9402      0.049     19.332      0.000       0.845       1.036\n",
            "ma.L1.D.Cumulativo     0.0508      0.155      0.328      0.744      -0.252       0.354\n",
            "ma.L2.D.Cumulativo     0.2173      0.178      1.224      0.228      -0.131       0.565\n",
            "                                    Roots                                    \n",
            "=============================================================================\n",
            "                  Real          Imaginary           Modulus         Frequency\n",
            "-----------------------------------------------------------------------------\n",
            "AR.1            1.0635           +0.0000j            1.0635            0.0000\n",
            "MA.1           -0.1169           -2.1421j            2.1453           -0.2587\n",
            "MA.2           -0.1169           +2.1421j            2.1453            0.2587\n",
            "-----------------------------------------------------------------------------\n"
          ],
          "name": "stdout"
        }
      ]
    },
    {
      "cell_type": "code",
      "metadata": {
        "id": "1APXWGz9MIty",
        "colab_type": "code",
        "outputId": "bd1cb336-3c40-432c-9db9-b5823588991c",
        "colab": {
          "base_uri": "https://localhost:8080/",
          "height": 391
        }
      },
      "source": [
        "#hide\n",
        "# 1,1,1 ARIMA Model\n",
        "model = ARIMA(italy.Cumulativo.astype(float), order=(1,1,1))\n",
        "model_fit = model.fit(disp=0)\n",
        "print(model_fit.summary())"
      ],
      "execution_count": 75,
      "outputs": [
        {
          "output_type": "stream",
          "text": [
            "                             ARIMA Model Results                              \n",
            "==============================================================================\n",
            "Dep. Variable:           D.Cumulativo   No. Observations:                   45\n",
            "Model:                 ARIMA(1, 1, 1)   Log Likelihood                -351.171\n",
            "Method:                       css-mle   S.D. of innovations            576.239\n",
            "Date:                Wed, 08 Apr 2020   AIC                            710.343\n",
            "Time:                        11:34:19   BIC                            717.569\n",
            "Sample:                             1   HQIC                           713.037\n",
            "                                                                              \n",
            "======================================================================================\n",
            "                         coef    std err          z      P>|z|      [0.025      0.975]\n",
            "--------------------------------------------------------------------------------------\n",
            "const               2248.0206   1536.426      1.463      0.151    -763.319    5259.360\n",
            "ar.L1.D.Cumulativo     0.9604      0.034     28.159      0.000       0.894       1.027\n",
            "ma.L1.D.Cumulativo    -0.0026      0.140     -0.018      0.985      -0.276       0.271\n",
            "                                    Roots                                    \n",
            "=============================================================================\n",
            "                  Real          Imaginary           Modulus         Frequency\n",
            "-----------------------------------------------------------------------------\n",
            "AR.1            1.0412           +0.0000j            1.0412            0.0000\n",
            "MA.1          391.4895           +0.0000j          391.4895            0.0000\n",
            "-----------------------------------------------------------------------------\n"
          ],
          "name": "stdout"
        }
      ]
    },
    {
      "cell_type": "code",
      "metadata": {
        "id": "DyqryoMxTqTF",
        "colab_type": "code",
        "outputId": "c18e3132-1709-480f-e7ea-13a323e46bde",
        "colab": {
          "base_uri": "https://localhost:8080/",
          "height": 734
        }
      },
      "source": [
        "#hide\n",
        "# Plot residual errors\n",
        "residuals = pd.DataFrame(model_fit.resid)\n",
        "fig, ax = plt.subplots(1,2)\n",
        "residuals.plot(title=\"Residuals\", ax=ax[0])\n",
        "residuals.plot(kind='kde', title='Density', ax=ax[1])\n",
        "plt.show()"
      ],
      "execution_count": 77,
      "outputs": [
        {
          "output_type": "display_data",
          "data": {
            "image/png": "[encoded data removed]",
            "text/plain": [
              "<Figure size 1080x840 with 2 Axes>"
            ]
          },
          "metadata": {
            "tags": []
          }
        }
      ]
    },
    {
      "cell_type": "code",
      "metadata": {
        "id": "KZPil6wRYxE8",
        "colab_type": "code",
        "outputId": "87320d70-7247-435b-eedb-9204292182c5",
        "colab": {
          "base_uri": "https://localhost:8080/",
          "height": 709
        }
      },
      "source": [
        "#hide\n",
        "# Actual vs Fitted\n",
        "model_fit.plot_predict(dynamic=False)\n",
        "plt.show()"
      ],
      "execution_count": 78,
      "outputs": [
        {
          "output_type": "display_data",
          "data": {
            "image/png": "[encoded data removed]",
            "text/plain": [
              "<Figure size 1080x840 with 1 Axes>"
            ]
          },
          "metadata": {
            "tags": []
          }
        }
      ]
    },
    {
      "cell_type": "code",
      "metadata": {
        "id": "WWaA3Lq-DxgL",
        "colab_type": "code",
        "outputId": "efcd744e-2c6d-4cb6-b9a7-698718c0d29f",
        "colab": {
          "base_uri": "https://localhost:8080/",
          "height": 578
        }
      },
      "source": [
        "#hide\n",
        "from statsmodels.tsa.stattools import acf\n",
        "\n",
        "# Create Training and Test\n",
        "train = china.Cumulativo[:20]\n",
        "test = china.Cumulativo[21:]\n",
        "print(train)\n",
        "print(test)"
      ],
      "execution_count": 79,
      "outputs": [
        {
          "output_type": "stream",
          "text": [
            "0      59\n",
            "1      59\n",
            "2      59\n",
            "3      59\n",
            "4      59\n",
            "5      59\n",
            "6      59\n",
            "7      59\n",
            "8      59\n",
            "9      59\n",
            "10     59\n",
            "11     59\n",
            "12     63\n",
            "13     80\n",
            "14    216\n",
            "15    235\n",
            "16    386\n",
            "17    526\n",
            "18    623\n",
            "19    882\n",
            "Name: Cumulativo, dtype: int64\n",
            "21     1988\n",
            "22     2775\n",
            "23     4528\n",
            "24     5994\n",
            "25     7734\n",
            "      ...  \n",
            "90    82527\n",
            "91    82575\n",
            "92    82642\n",
            "93    82698\n",
            "94    82784\n",
            "Name: Cumulativo, Length: 74, dtype: int64\n"
          ],
          "name": "stdout"
        }
      ]
    },
    {
      "cell_type": "code",
      "metadata": {
        "id": "HZkE8lxJvaFm",
        "colab_type": "code",
        "outputId": "56018467-161f-4260-cc9a-634f39c16345",
        "colab": {
          "base_uri": "https://localhost:8080/",
          "height": 511
        }
      },
      "source": [
        "#hide\n",
        "# model = ARIMA(train, order=(3,2,1))  \n",
        "model = ARIMA(train.astype(float), order=(5, 1, 0))  \n",
        "fitted = model.fit(disp=-1)  \n",
        "\n",
        "# Forecast\n",
        "fc, se, conf = fitted.forecast(5, alpha=0.05)  # 95% conf\n",
        "\n",
        "# Make as pandas series\n",
        "fc_series = pd.Series(fc, index=test.index)\n",
        "lower_series = pd.Series(conf[:, 0], index=test.index)\n",
        "upper_series = pd.Series(conf[:, 1], index=test.index)\n",
        "\n",
        "# Plot\n",
        "plt.figure(figsize=(12,5), dpi=100)\n",
        "plt.plot(train, label='training')\n",
        "plt.plot(test, label='actual')\n",
        "plt.plot(fc_series, label='forecast')\n",
        "plt.fill_between(lower_series.index, lower_series, upper_series, \n",
        "                 color='k', alpha=.15)\n",
        "plt.title('Forecast vs Actuals')\n",
        "plt.legend(loc='upper left', fontsize=8)\n",
        "plt.show()"
      ],
      "execution_count": 80,
      "outputs": [
        {
          "output_type": "error",
          "ename": "LinAlgError",
          "evalue": "ignored",
          "traceback": [
            "\u001b[0;31m---------------------------------------------------------------------------\u001b[0m",
            "\u001b[0;31mLinAlgError\u001b[0m                               Traceback (most recent call last)",
            "\u001b[0;32m<ipython-input-80-ef26ddab2435>\u001b[0m in \u001b[0;36m<module>\u001b[0;34m()\u001b[0m\n\u001b[1;32m      1\u001b[0m \u001b[0mmodel\u001b[0m \u001b[0;34m=\u001b[0m \u001b[0mARIMA\u001b[0m\u001b[0;34m(\u001b[0m\u001b[0mtrain\u001b[0m\u001b[0;34m.\u001b[0m\u001b[0mastype\u001b[0m\u001b[0;34m(\u001b[0m\u001b[0mfloat\u001b[0m\u001b[0;34m)\u001b[0m\u001b[0;34m,\u001b[0m \u001b[0morder\u001b[0m\u001b[0;34m=\u001b[0m\u001b[0;34m(\u001b[0m\u001b[0;36m5\u001b[0m\u001b[0;34m,\u001b[0m \u001b[0;36m1\u001b[0m\u001b[0;34m,\u001b[0m \u001b[0;36m0\u001b[0m\u001b[0;34m)\u001b[0m\u001b[0;34m)\u001b[0m\u001b[0;34m\u001b[0m\u001b[0;34m\u001b[0m\u001b[0m\n\u001b[0;32m----> 2\u001b[0;31m \u001b[0mfitted\u001b[0m \u001b[0;34m=\u001b[0m \u001b[0mmodel\u001b[0m\u001b[0;34m.\u001b[0m\u001b[0mfit\u001b[0m\u001b[0;34m(\u001b[0m\u001b[0mdisp\u001b[0m\u001b[0;34m=\u001b[0m\u001b[0;34m-\u001b[0m\u001b[0;36m1\u001b[0m\u001b[0;34m)\u001b[0m\u001b[0;34m\u001b[0m\u001b[0;34m\u001b[0m\u001b[0m\n\u001b[0m\u001b[1;32m      3\u001b[0m \u001b[0;34m\u001b[0m\u001b[0m\n\u001b[1;32m      4\u001b[0m \u001b[0;31m# Forecast\u001b[0m\u001b[0;34m\u001b[0m\u001b[0;34m\u001b[0m\u001b[0;34m\u001b[0m\u001b[0m\n\u001b[1;32m      5\u001b[0m \u001b[0mfc\u001b[0m\u001b[0;34m,\u001b[0m \u001b[0mse\u001b[0m\u001b[0;34m,\u001b[0m \u001b[0mconf\u001b[0m \u001b[0;34m=\u001b[0m \u001b[0mfitted\u001b[0m\u001b[0;34m.\u001b[0m\u001b[0mforecast\u001b[0m\u001b[0;34m(\u001b[0m\u001b[0;36m5\u001b[0m\u001b[0;34m,\u001b[0m \u001b[0malpha\u001b[0m\u001b[0;34m=\u001b[0m\u001b[0;36m0.05\u001b[0m\u001b[0;34m)\u001b[0m  \u001b[0;31m# 95% conf\u001b[0m\u001b[0;34m\u001b[0m\u001b[0;34m\u001b[0m\u001b[0m\n",
            "\u001b[0;32m/usr/local/lib/python3.6/dist-packages/statsmodels/tsa/arima_model.py\u001b[0m in \u001b[0;36mfit\u001b[0;34m(self, start_params, trend, method, transparams, solver, maxiter, full_output, disp, callback, start_ar_lags, **kwargs)\u001b[0m\n\u001b[1;32m   1147\u001b[0m                                            \u001b[0mmethod\u001b[0m\u001b[0;34m,\u001b[0m \u001b[0mtransparams\u001b[0m\u001b[0;34m,\u001b[0m \u001b[0msolver\u001b[0m\u001b[0;34m,\u001b[0m\u001b[0;34m\u001b[0m\u001b[0;34m\u001b[0m\u001b[0m\n\u001b[1;32m   1148\u001b[0m                                            \u001b[0mmaxiter\u001b[0m\u001b[0;34m,\u001b[0m \u001b[0mfull_output\u001b[0m\u001b[0;34m,\u001b[0m \u001b[0mdisp\u001b[0m\u001b[0;34m,\u001b[0m\u001b[0;34m\u001b[0m\u001b[0;34m\u001b[0m\u001b[0m\n\u001b[0;32m-> 1149\u001b[0;31m                                            callback, start_ar_lags, **kwargs)\n\u001b[0m\u001b[1;32m   1150\u001b[0m         \u001b[0mnormalized_cov_params\u001b[0m \u001b[0;34m=\u001b[0m \u001b[0;32mNone\u001b[0m  \u001b[0;31m# TODO: fix this?\u001b[0m\u001b[0;34m\u001b[0m\u001b[0;34m\u001b[0m\u001b[0m\n\u001b[1;32m   1151\u001b[0m         arima_fit = ARIMAResults(self, mlefit._results.params,\n",
            "\u001b[0;32m/usr/local/lib/python3.6/dist-packages/statsmodels/tsa/arima_model.py\u001b[0m in \u001b[0;36mfit\u001b[0;34m(self, start_params, trend, method, transparams, solver, maxiter, full_output, disp, callback, start_ar_lags, **kwargs)\u001b[0m\n\u001b[1;32m    949\u001b[0m                                        \u001b[0mmaxiter\u001b[0m\u001b[0;34m=\u001b[0m\u001b[0mmaxiter\u001b[0m\u001b[0;34m,\u001b[0m\u001b[0;34m\u001b[0m\u001b[0;34m\u001b[0m\u001b[0m\n\u001b[1;32m    950\u001b[0m                                        \u001b[0mfull_output\u001b[0m\u001b[0;34m=\u001b[0m\u001b[0mfull_output\u001b[0m\u001b[0;34m,\u001b[0m \u001b[0mdisp\u001b[0m\u001b[0;34m=\u001b[0m\u001b[0mdisp\u001b[0m\u001b[0;34m,\u001b[0m\u001b[0;34m\u001b[0m\u001b[0;34m\u001b[0m\u001b[0m\n\u001b[0;32m--> 951\u001b[0;31m                                        callback=callback, **kwargs)\n\u001b[0m\u001b[1;32m    952\u001b[0m         \u001b[0mparams\u001b[0m \u001b[0;34m=\u001b[0m \u001b[0mmlefit\u001b[0m\u001b[0;34m.\u001b[0m\u001b[0mparams\u001b[0m\u001b[0;34m\u001b[0m\u001b[0;34m\u001b[0m\u001b[0m\n\u001b[1;32m    953\u001b[0m \u001b[0;34m\u001b[0m\u001b[0m\n",
            "\u001b[0;32m/usr/local/lib/python3.6/dist-packages/statsmodels/base/model.py\u001b[0m in \u001b[0;36mfit\u001b[0;34m(self, start_params, method, maxiter, full_output, disp, fargs, callback, retall, skip_hessian, **kwargs)\u001b[0m\n\u001b[1;32m    468\u001b[0m                                                        \u001b[0mcallback\u001b[0m\u001b[0;34m=\u001b[0m\u001b[0mcallback\u001b[0m\u001b[0;34m,\u001b[0m\u001b[0;34m\u001b[0m\u001b[0;34m\u001b[0m\u001b[0m\n\u001b[1;32m    469\u001b[0m                                                        \u001b[0mretall\u001b[0m\u001b[0;34m=\u001b[0m\u001b[0mretall\u001b[0m\u001b[0;34m,\u001b[0m\u001b[0;34m\u001b[0m\u001b[0;34m\u001b[0m\u001b[0m\n\u001b[0;32m--> 470\u001b[0;31m                                                        full_output=full_output)\n\u001b[0m\u001b[1;32m    471\u001b[0m \u001b[0;34m\u001b[0m\u001b[0m\n\u001b[1;32m    472\u001b[0m         \u001b[0;31m# NOTE: this is for fit_regularized and should be generalized\u001b[0m\u001b[0;34m\u001b[0m\u001b[0;34m\u001b[0m\u001b[0;34m\u001b[0m\u001b[0m\n",
            "\u001b[0;32m/usr/local/lib/python3.6/dist-packages/statsmodels/base/optimizer.py\u001b[0m in \u001b[0;36m_fit\u001b[0;34m(self, objective, gradient, start_params, fargs, kwargs, hessian, method, maxiter, full_output, disp, callback, retall)\u001b[0m\n\u001b[1;32m    217\u001b[0m                             \u001b[0mdisp\u001b[0m\u001b[0;34m=\u001b[0m\u001b[0mdisp\u001b[0m\u001b[0;34m,\u001b[0m \u001b[0mmaxiter\u001b[0m\u001b[0;34m=\u001b[0m\u001b[0mmaxiter\u001b[0m\u001b[0;34m,\u001b[0m \u001b[0mcallback\u001b[0m\u001b[0;34m=\u001b[0m\u001b[0mcallback\u001b[0m\u001b[0;34m,\u001b[0m\u001b[0;34m\u001b[0m\u001b[0;34m\u001b[0m\u001b[0m\n\u001b[1;32m    218\u001b[0m                             \u001b[0mretall\u001b[0m\u001b[0;34m=\u001b[0m\u001b[0mretall\u001b[0m\u001b[0;34m,\u001b[0m \u001b[0mfull_output\u001b[0m\u001b[0;34m=\u001b[0m\u001b[0mfull_output\u001b[0m\u001b[0;34m,\u001b[0m\u001b[0;34m\u001b[0m\u001b[0;34m\u001b[0m\u001b[0m\n\u001b[0;32m--> 219\u001b[0;31m                             hess=hessian)\n\u001b[0m\u001b[1;32m    220\u001b[0m \u001b[0;34m\u001b[0m\u001b[0m\n\u001b[1;32m    221\u001b[0m         optim_settings = {'optimizer': method, 'start_params': start_params,\n",
            "\u001b[0;32m/usr/local/lib/python3.6/dist-packages/statsmodels/base/optimizer.py\u001b[0m in \u001b[0;36m_fit_lbfgs\u001b[0;34m(f, score, start_params, fargs, kwargs, disp, maxiter, callback, retall, full_output, hess)\u001b[0m\n\u001b[1;32m    437\u001b[0m                                      \u001b[0mcallback\u001b[0m\u001b[0;34m=\u001b[0m\u001b[0mcallback\u001b[0m\u001b[0;34m,\u001b[0m \u001b[0margs\u001b[0m\u001b[0;34m=\u001b[0m\u001b[0mfargs\u001b[0m\u001b[0;34m,\u001b[0m\u001b[0;34m\u001b[0m\u001b[0;34m\u001b[0m\u001b[0m\n\u001b[1;32m    438\u001b[0m                                      \u001b[0mbounds\u001b[0m\u001b[0;34m=\u001b[0m\u001b[0mbounds\u001b[0m\u001b[0;34m,\u001b[0m \u001b[0mdisp\u001b[0m\u001b[0;34m=\u001b[0m\u001b[0mdisp\u001b[0m\u001b[0;34m,\u001b[0m\u001b[0;34m\u001b[0m\u001b[0;34m\u001b[0m\u001b[0m\n\u001b[0;32m--> 439\u001b[0;31m                                      **extra_kwargs)\n\u001b[0m\u001b[1;32m    440\u001b[0m \u001b[0;34m\u001b[0m\u001b[0m\n\u001b[1;32m    441\u001b[0m     \u001b[0;32mif\u001b[0m \u001b[0mfull_output\u001b[0m\u001b[0;34m:\u001b[0m\u001b[0;34m\u001b[0m\u001b[0;34m\u001b[0m\u001b[0m\n",
            "\u001b[0;32m/usr/local/lib/python3.6/dist-packages/scipy/optimize/lbfgsb.py\u001b[0m in \u001b[0;36mfmin_l_bfgs_b\u001b[0;34m(func, x0, fprime, args, approx_grad, bounds, m, factr, pgtol, epsilon, iprint, maxfun, maxiter, disp, callback, maxls)\u001b[0m\n\u001b[1;32m    197\u001b[0m \u001b[0;34m\u001b[0m\u001b[0m\n\u001b[1;32m    198\u001b[0m     res = _minimize_lbfgsb(fun, x0, args=args, jac=jac, bounds=bounds,\n\u001b[0;32m--> 199\u001b[0;31m                            **opts)\n\u001b[0m\u001b[1;32m    200\u001b[0m     d = {'grad': res['jac'],\n\u001b[1;32m    201\u001b[0m          \u001b[0;34m'task'\u001b[0m\u001b[0;34m:\u001b[0m \u001b[0mres\u001b[0m\u001b[0;34m[\u001b[0m\u001b[0;34m'message'\u001b[0m\u001b[0;34m]\u001b[0m\u001b[0;34m,\u001b[0m\u001b[0;34m\u001b[0m\u001b[0;34m\u001b[0m\u001b[0m\n",
            "\u001b[0;32m/usr/local/lib/python3.6/dist-packages/scipy/optimize/lbfgsb.py\u001b[0m in \u001b[0;36m_minimize_lbfgsb\u001b[0;34m(fun, x0, args, jac, bounds, disp, maxcor, ftol, gtol, eps, maxfun, maxiter, iprint, callback, maxls, **unknown_options)\u001b[0m\n\u001b[1;32m    343\u001b[0m             \u001b[0;31m# until the completion of the current minimization iteration.\u001b[0m\u001b[0;34m\u001b[0m\u001b[0;34m\u001b[0m\u001b[0;34m\u001b[0m\u001b[0m\n\u001b[1;32m    344\u001b[0m             \u001b[0;31m# Overwrite f and g:\u001b[0m\u001b[0;34m\u001b[0m\u001b[0;34m\u001b[0m\u001b[0;34m\u001b[0m\u001b[0m\n\u001b[0;32m--> 345\u001b[0;31m             \u001b[0mf\u001b[0m\u001b[0;34m,\u001b[0m \u001b[0mg\u001b[0m \u001b[0;34m=\u001b[0m \u001b[0mfunc_and_grad\u001b[0m\u001b[0;34m(\u001b[0m\u001b[0mx\u001b[0m\u001b[0;34m)\u001b[0m\u001b[0;34m\u001b[0m\u001b[0;34m\u001b[0m\u001b[0m\n\u001b[0m\u001b[1;32m    346\u001b[0m         \u001b[0;32melif\u001b[0m \u001b[0mtask_str\u001b[0m\u001b[0;34m.\u001b[0m\u001b[0mstartswith\u001b[0m\u001b[0;34m(\u001b[0m\u001b[0;34mb'NEW_X'\u001b[0m\u001b[0;34m)\u001b[0m\u001b[0;34m:\u001b[0m\u001b[0;34m\u001b[0m\u001b[0;34m\u001b[0m\u001b[0m\n\u001b[1;32m    347\u001b[0m             \u001b[0;31m# new iteration\u001b[0m\u001b[0;34m\u001b[0m\u001b[0;34m\u001b[0m\u001b[0;34m\u001b[0m\u001b[0m\n",
            "\u001b[0;32m/usr/local/lib/python3.6/dist-packages/scipy/optimize/lbfgsb.py\u001b[0m in \u001b[0;36mfunc_and_grad\u001b[0;34m(x)\u001b[0m\n\u001b[1;32m    288\u001b[0m     \u001b[0;32mif\u001b[0m \u001b[0mjac\u001b[0m \u001b[0;32mis\u001b[0m \u001b[0;32mNone\u001b[0m\u001b[0;34m:\u001b[0m\u001b[0;34m\u001b[0m\u001b[0;34m\u001b[0m\u001b[0m\n\u001b[1;32m    289\u001b[0m         \u001b[0;32mdef\u001b[0m \u001b[0mfunc_and_grad\u001b[0m\u001b[0;34m(\u001b[0m\u001b[0mx\u001b[0m\u001b[0;34m)\u001b[0m\u001b[0;34m:\u001b[0m\u001b[0;34m\u001b[0m\u001b[0;34m\u001b[0m\u001b[0m\n\u001b[0;32m--> 290\u001b[0;31m             \u001b[0mf\u001b[0m \u001b[0;34m=\u001b[0m \u001b[0mfun\u001b[0m\u001b[0;34m(\u001b[0m\u001b[0mx\u001b[0m\u001b[0;34m,\u001b[0m \u001b[0;34m*\u001b[0m\u001b[0margs\u001b[0m\u001b[0;34m)\u001b[0m\u001b[0;34m\u001b[0m\u001b[0;34m\u001b[0m\u001b[0m\n\u001b[0m\u001b[1;32m    291\u001b[0m             \u001b[0mg\u001b[0m \u001b[0;34m=\u001b[0m \u001b[0m_approx_fprime_helper\u001b[0m\u001b[0;34m(\u001b[0m\u001b[0mx\u001b[0m\u001b[0;34m,\u001b[0m \u001b[0mfun\u001b[0m\u001b[0;34m,\u001b[0m \u001b[0mepsilon\u001b[0m\u001b[0;34m,\u001b[0m \u001b[0margs\u001b[0m\u001b[0;34m=\u001b[0m\u001b[0margs\u001b[0m\u001b[0;34m,\u001b[0m \u001b[0mf0\u001b[0m\u001b[0;34m=\u001b[0m\u001b[0mf\u001b[0m\u001b[0;34m)\u001b[0m\u001b[0;34m\u001b[0m\u001b[0;34m\u001b[0m\u001b[0m\n\u001b[1;32m    292\u001b[0m             \u001b[0;32mreturn\u001b[0m \u001b[0mf\u001b[0m\u001b[0;34m,\u001b[0m \u001b[0mg\u001b[0m\u001b[0;34m\u001b[0m\u001b[0;34m\u001b[0m\u001b[0m\n",
            "\u001b[0;32m/usr/local/lib/python3.6/dist-packages/scipy/optimize/optimize.py\u001b[0m in \u001b[0;36mfunction_wrapper\u001b[0;34m(*wrapper_args)\u001b[0m\n\u001b[1;32m    325\u001b[0m     \u001b[0;32mdef\u001b[0m \u001b[0mfunction_wrapper\u001b[0m\u001b[0;34m(\u001b[0m\u001b[0;34m*\u001b[0m\u001b[0mwrapper_args\u001b[0m\u001b[0;34m)\u001b[0m\u001b[0;34m:\u001b[0m\u001b[0;34m\u001b[0m\u001b[0;34m\u001b[0m\u001b[0m\n\u001b[1;32m    326\u001b[0m         \u001b[0mncalls\u001b[0m\u001b[0;34m[\u001b[0m\u001b[0;36m0\u001b[0m\u001b[0;34m]\u001b[0m \u001b[0;34m+=\u001b[0m \u001b[0;36m1\u001b[0m\u001b[0;34m\u001b[0m\u001b[0;34m\u001b[0m\u001b[0m\n\u001b[0;32m--> 327\u001b[0;31m         \u001b[0;32mreturn\u001b[0m \u001b[0mfunction\u001b[0m\u001b[0;34m(\u001b[0m\u001b[0;34m*\u001b[0m\u001b[0;34m(\u001b[0m\u001b[0mwrapper_args\u001b[0m \u001b[0;34m+\u001b[0m \u001b[0margs\u001b[0m\u001b[0;34m)\u001b[0m\u001b[0;34m)\u001b[0m\u001b[0;34m\u001b[0m\u001b[0;34m\u001b[0m\u001b[0m\n\u001b[0m\u001b[1;32m    328\u001b[0m \u001b[0;34m\u001b[0m\u001b[0m\n\u001b[1;32m    329\u001b[0m     \u001b[0;32mreturn\u001b[0m \u001b[0mncalls\u001b[0m\u001b[0;34m,\u001b[0m \u001b[0mfunction_wrapper\u001b[0m\u001b[0;34m\u001b[0m\u001b[0;34m\u001b[0m\u001b[0m\n",
            "\u001b[0;32m/usr/local/lib/python3.6/dist-packages/statsmodels/base/model.py\u001b[0m in \u001b[0;36mf\u001b[0;34m(params, *args)\u001b[0m\n\u001b[1;32m    442\u001b[0m \u001b[0;34m\u001b[0m\u001b[0m\n\u001b[1;32m    443\u001b[0m         \u001b[0;32mdef\u001b[0m \u001b[0mf\u001b[0m\u001b[0;34m(\u001b[0m\u001b[0mparams\u001b[0m\u001b[0;34m,\u001b[0m \u001b[0;34m*\u001b[0m\u001b[0margs\u001b[0m\u001b[0;34m)\u001b[0m\u001b[0;34m:\u001b[0m\u001b[0;34m\u001b[0m\u001b[0;34m\u001b[0m\u001b[0m\n\u001b[0;32m--> 444\u001b[0;31m             \u001b[0;32mreturn\u001b[0m \u001b[0;34m-\u001b[0m\u001b[0mself\u001b[0m\u001b[0;34m.\u001b[0m\u001b[0mloglike\u001b[0m\u001b[0;34m(\u001b[0m\u001b[0mparams\u001b[0m\u001b[0;34m,\u001b[0m \u001b[0;34m*\u001b[0m\u001b[0margs\u001b[0m\u001b[0;34m)\u001b[0m \u001b[0;34m/\u001b[0m \u001b[0mnobs\u001b[0m\u001b[0;34m\u001b[0m\u001b[0;34m\u001b[0m\u001b[0m\n\u001b[0m\u001b[1;32m    445\u001b[0m \u001b[0;34m\u001b[0m\u001b[0m\n\u001b[1;32m    446\u001b[0m         \u001b[0;32mif\u001b[0m \u001b[0mmethod\u001b[0m \u001b[0;34m==\u001b[0m \u001b[0;34m'newton'\u001b[0m\u001b[0;34m:\u001b[0m\u001b[0;34m\u001b[0m\u001b[0;34m\u001b[0m\u001b[0m\n",
            "\u001b[0;32m/usr/local/lib/python3.6/dist-packages/statsmodels/tsa/arima_model.py\u001b[0m in \u001b[0;36mloglike\u001b[0;34m(self, params, set_sigma2)\u001b[0m\n\u001b[1;32m    770\u001b[0m         \u001b[0mmethod\u001b[0m \u001b[0;34m=\u001b[0m \u001b[0mself\u001b[0m\u001b[0;34m.\u001b[0m\u001b[0mmethod\u001b[0m\u001b[0;34m\u001b[0m\u001b[0;34m\u001b[0m\u001b[0m\n\u001b[1;32m    771\u001b[0m         \u001b[0;32mif\u001b[0m \u001b[0mmethod\u001b[0m \u001b[0;32min\u001b[0m \u001b[0;34m[\u001b[0m\u001b[0;34m'mle'\u001b[0m\u001b[0;34m,\u001b[0m \u001b[0;34m'css-mle'\u001b[0m\u001b[0;34m]\u001b[0m\u001b[0;34m:\u001b[0m\u001b[0;34m\u001b[0m\u001b[0;34m\u001b[0m\u001b[0m\n\u001b[0;32m--> 772\u001b[0;31m             \u001b[0;32mreturn\u001b[0m \u001b[0mself\u001b[0m\u001b[0;34m.\u001b[0m\u001b[0mloglike_kalman\u001b[0m\u001b[0;34m(\u001b[0m\u001b[0mparams\u001b[0m\u001b[0;34m,\u001b[0m \u001b[0mset_sigma2\u001b[0m\u001b[0;34m)\u001b[0m\u001b[0;34m\u001b[0m\u001b[0;34m\u001b[0m\u001b[0m\n\u001b[0m\u001b[1;32m    773\u001b[0m         \u001b[0;32melif\u001b[0m \u001b[0mmethod\u001b[0m \u001b[0;34m==\u001b[0m \u001b[0;34m'css'\u001b[0m\u001b[0;34m:\u001b[0m\u001b[0;34m\u001b[0m\u001b[0;34m\u001b[0m\u001b[0m\n\u001b[1;32m    774\u001b[0m             \u001b[0;32mreturn\u001b[0m \u001b[0mself\u001b[0m\u001b[0;34m.\u001b[0m\u001b[0mloglike_css\u001b[0m\u001b[0;34m(\u001b[0m\u001b[0mparams\u001b[0m\u001b[0;34m,\u001b[0m \u001b[0mset_sigma2\u001b[0m\u001b[0;34m)\u001b[0m\u001b[0;34m\u001b[0m\u001b[0;34m\u001b[0m\u001b[0m\n",
            "\u001b[0;32m/usr/local/lib/python3.6/dist-packages/statsmodels/tsa/arima_model.py\u001b[0m in \u001b[0;36mloglike_kalman\u001b[0;34m(self, params, set_sigma2)\u001b[0m\n\u001b[1;32m    780\u001b[0m         \u001b[0mCompute\u001b[0m \u001b[0mexact\u001b[0m \u001b[0mloglikelihood\u001b[0m \u001b[0;32mfor\u001b[0m \u001b[0mARMA\u001b[0m\u001b[0;34m(\u001b[0m\u001b[0mp\u001b[0m\u001b[0;34m,\u001b[0m\u001b[0mq\u001b[0m\u001b[0;34m)\u001b[0m \u001b[0mmodel\u001b[0m \u001b[0mby\u001b[0m \u001b[0mthe\u001b[0m \u001b[0mKalman\u001b[0m \u001b[0mFilter\u001b[0m\u001b[0;34m.\u001b[0m\u001b[0;34m\u001b[0m\u001b[0;34m\u001b[0m\u001b[0m\n\u001b[1;32m    781\u001b[0m         \"\"\"\n\u001b[0;32m--> 782\u001b[0;31m         \u001b[0;32mreturn\u001b[0m \u001b[0mKalmanFilter\u001b[0m\u001b[0;34m.\u001b[0m\u001b[0mloglike\u001b[0m\u001b[0;34m(\u001b[0m\u001b[0mparams\u001b[0m\u001b[0;34m,\u001b[0m \u001b[0mself\u001b[0m\u001b[0;34m,\u001b[0m \u001b[0mset_sigma2\u001b[0m\u001b[0;34m)\u001b[0m\u001b[0;34m\u001b[0m\u001b[0;34m\u001b[0m\u001b[0m\n\u001b[0m\u001b[1;32m    783\u001b[0m \u001b[0;34m\u001b[0m\u001b[0m\n\u001b[1;32m    784\u001b[0m     \u001b[0;32mdef\u001b[0m \u001b[0mloglike_css\u001b[0m\u001b[0;34m(\u001b[0m\u001b[0mself\u001b[0m\u001b[0;34m,\u001b[0m \u001b[0mparams\u001b[0m\u001b[0;34m,\u001b[0m \u001b[0mset_sigma2\u001b[0m\u001b[0;34m=\u001b[0m\u001b[0;32mTrue\u001b[0m\u001b[0;34m)\u001b[0m\u001b[0;34m:\u001b[0m\u001b[0;34m\u001b[0m\u001b[0;34m\u001b[0m\u001b[0m\n",
            "\u001b[0;32m/usr/local/lib/python3.6/dist-packages/statsmodels/tsa/kalmanf/kalmanfilter.py\u001b[0m in \u001b[0;36mloglike\u001b[0;34m(cls, params, arma_model, set_sigma2)\u001b[0m\n\u001b[1;32m    219\u001b[0m             loglike, sigma2 = kalman_loglike.kalman_loglike_double(\n\u001b[1;32m    220\u001b[0m                 \u001b[0my\u001b[0m\u001b[0;34m,\u001b[0m \u001b[0mk\u001b[0m\u001b[0;34m,\u001b[0m \u001b[0mk_ar\u001b[0m\u001b[0;34m,\u001b[0m \u001b[0mk_ma\u001b[0m\u001b[0;34m,\u001b[0m \u001b[0mk_lags\u001b[0m\u001b[0;34m,\u001b[0m \u001b[0mint\u001b[0m\u001b[0;34m(\u001b[0m\u001b[0mnobs\u001b[0m\u001b[0;34m)\u001b[0m\u001b[0;34m,\u001b[0m\u001b[0;34m\u001b[0m\u001b[0;34m\u001b[0m\u001b[0m\n\u001b[0;32m--> 221\u001b[0;31m                 Z_mat, R_mat, T_mat)\n\u001b[0m\u001b[1;32m    222\u001b[0m         \u001b[0;32melif\u001b[0m \u001b[0mnp\u001b[0m\u001b[0;34m.\u001b[0m\u001b[0missubdtype\u001b[0m\u001b[0;34m(\u001b[0m\u001b[0mparamsdtype\u001b[0m\u001b[0;34m,\u001b[0m \u001b[0mnp\u001b[0m\u001b[0;34m.\u001b[0m\u001b[0mcomplex128\u001b[0m\u001b[0;34m)\u001b[0m\u001b[0;34m:\u001b[0m\u001b[0;34m\u001b[0m\u001b[0;34m\u001b[0m\u001b[0m\n\u001b[1;32m    223\u001b[0m             loglike, sigma2 = kalman_loglike.kalman_loglike_complex(\n",
            "\u001b[0;32mstatsmodels/tsa/kalmanf/kalman_loglike.pyx\u001b[0m in \u001b[0;36mstatsmodels.tsa.kalmanf.kalman_loglike.kalman_loglike_double\u001b[0;34m()\u001b[0m\n",
            "\u001b[0;32mstatsmodels/tsa/kalmanf/kalman_loglike.pyx\u001b[0m in \u001b[0;36mstatsmodels.tsa.kalmanf.kalman_loglike.kalman_filter_double\u001b[0;34m()\u001b[0m\n",
            "\u001b[0;32m<__array_function__ internals>\u001b[0m in \u001b[0;36mpinv\u001b[0;34m(*args, **kwargs)\u001b[0m\n",
            "\u001b[0;32m/usr/local/lib/python3.6/dist-packages/numpy/linalg/linalg.py\u001b[0m in \u001b[0;36mpinv\u001b[0;34m(a, rcond, hermitian)\u001b[0m\n\u001b[1;32m   1959\u001b[0m         \u001b[0;32mreturn\u001b[0m \u001b[0mwrap\u001b[0m\u001b[0;34m(\u001b[0m\u001b[0mres\u001b[0m\u001b[0;34m)\u001b[0m\u001b[0;34m\u001b[0m\u001b[0;34m\u001b[0m\u001b[0m\n\u001b[1;32m   1960\u001b[0m     \u001b[0ma\u001b[0m \u001b[0;34m=\u001b[0m \u001b[0ma\u001b[0m\u001b[0;34m.\u001b[0m\u001b[0mconjugate\u001b[0m\u001b[0;34m(\u001b[0m\u001b[0;34m)\u001b[0m\u001b[0;34m\u001b[0m\u001b[0;34m\u001b[0m\u001b[0m\n\u001b[0;32m-> 1961\u001b[0;31m     \u001b[0mu\u001b[0m\u001b[0;34m,\u001b[0m \u001b[0ms\u001b[0m\u001b[0;34m,\u001b[0m \u001b[0mvt\u001b[0m \u001b[0;34m=\u001b[0m \u001b[0msvd\u001b[0m\u001b[0;34m(\u001b[0m\u001b[0ma\u001b[0m\u001b[0;34m,\u001b[0m \u001b[0mfull_matrices\u001b[0m\u001b[0;34m=\u001b[0m\u001b[0;32mFalse\u001b[0m\u001b[0;34m,\u001b[0m \u001b[0mhermitian\u001b[0m\u001b[0;34m=\u001b[0m\u001b[0mhermitian\u001b[0m\u001b[0;34m)\u001b[0m\u001b[0;34m\u001b[0m\u001b[0;34m\u001b[0m\u001b[0m\n\u001b[0m\u001b[1;32m   1962\u001b[0m \u001b[0;34m\u001b[0m\u001b[0m\n\u001b[1;32m   1963\u001b[0m     \u001b[0;31m# discard small singular values\u001b[0m\u001b[0;34m\u001b[0m\u001b[0;34m\u001b[0m\u001b[0;34m\u001b[0m\u001b[0m\n",
            "\u001b[0;32m<__array_function__ internals>\u001b[0m in \u001b[0;36msvd\u001b[0;34m(*args, **kwargs)\u001b[0m\n",
            "\u001b[0;32m/usr/local/lib/python3.6/dist-packages/numpy/linalg/linalg.py\u001b[0m in \u001b[0;36msvd\u001b[0;34m(a, full_matrices, compute_uv, hermitian)\u001b[0m\n\u001b[1;32m   1624\u001b[0m \u001b[0;34m\u001b[0m\u001b[0m\n\u001b[1;32m   1625\u001b[0m         \u001b[0msignature\u001b[0m \u001b[0;34m=\u001b[0m \u001b[0;34m'D->DdD'\u001b[0m \u001b[0;32mif\u001b[0m \u001b[0misComplexType\u001b[0m\u001b[0;34m(\u001b[0m\u001b[0mt\u001b[0m\u001b[0;34m)\u001b[0m \u001b[0;32melse\u001b[0m \u001b[0;34m'd->ddd'\u001b[0m\u001b[0;34m\u001b[0m\u001b[0;34m\u001b[0m\u001b[0m\n\u001b[0;32m-> 1626\u001b[0;31m         \u001b[0mu\u001b[0m\u001b[0;34m,\u001b[0m \u001b[0ms\u001b[0m\u001b[0;34m,\u001b[0m \u001b[0mvh\u001b[0m \u001b[0;34m=\u001b[0m \u001b[0mgufunc\u001b[0m\u001b[0;34m(\u001b[0m\u001b[0ma\u001b[0m\u001b[0;34m,\u001b[0m \u001b[0msignature\u001b[0m\u001b[0;34m=\u001b[0m\u001b[0msignature\u001b[0m\u001b[0;34m,\u001b[0m \u001b[0mextobj\u001b[0m\u001b[0;34m=\u001b[0m\u001b[0mextobj\u001b[0m\u001b[0;34m)\u001b[0m\u001b[0;34m\u001b[0m\u001b[0;34m\u001b[0m\u001b[0m\n\u001b[0m\u001b[1;32m   1627\u001b[0m         \u001b[0mu\u001b[0m \u001b[0;34m=\u001b[0m \u001b[0mu\u001b[0m\u001b[0;34m.\u001b[0m\u001b[0mastype\u001b[0m\u001b[0;34m(\u001b[0m\u001b[0mresult_t\u001b[0m\u001b[0;34m,\u001b[0m \u001b[0mcopy\u001b[0m\u001b[0;34m=\u001b[0m\u001b[0;32mFalse\u001b[0m\u001b[0;34m)\u001b[0m\u001b[0;34m\u001b[0m\u001b[0;34m\u001b[0m\u001b[0m\n\u001b[1;32m   1628\u001b[0m         \u001b[0ms\u001b[0m \u001b[0;34m=\u001b[0m \u001b[0ms\u001b[0m\u001b[0;34m.\u001b[0m\u001b[0mastype\u001b[0m\u001b[0;34m(\u001b[0m\u001b[0m_realType\u001b[0m\u001b[0;34m(\u001b[0m\u001b[0mresult_t\u001b[0m\u001b[0;34m)\u001b[0m\u001b[0;34m,\u001b[0m \u001b[0mcopy\u001b[0m\u001b[0;34m=\u001b[0m\u001b[0;32mFalse\u001b[0m\u001b[0;34m)\u001b[0m\u001b[0;34m\u001b[0m\u001b[0;34m\u001b[0m\u001b[0m\n",
            "\u001b[0;32m/usr/local/lib/python3.6/dist-packages/numpy/linalg/linalg.py\u001b[0m in \u001b[0;36m_raise_linalgerror_svd_nonconvergence\u001b[0;34m(err, flag)\u001b[0m\n\u001b[1;32m    104\u001b[0m \u001b[0;34m\u001b[0m\u001b[0m\n\u001b[1;32m    105\u001b[0m \u001b[0;32mdef\u001b[0m \u001b[0m_raise_linalgerror_svd_nonconvergence\u001b[0m\u001b[0;34m(\u001b[0m\u001b[0merr\u001b[0m\u001b[0;34m,\u001b[0m \u001b[0mflag\u001b[0m\u001b[0;34m)\u001b[0m\u001b[0;34m:\u001b[0m\u001b[0;34m\u001b[0m\u001b[0;34m\u001b[0m\u001b[0m\n\u001b[0;32m--> 106\u001b[0;31m     \u001b[0;32mraise\u001b[0m \u001b[0mLinAlgError\u001b[0m\u001b[0;34m(\u001b[0m\u001b[0;34m\"SVD did not converge\"\u001b[0m\u001b[0;34m)\u001b[0m\u001b[0;34m\u001b[0m\u001b[0;34m\u001b[0m\u001b[0m\n\u001b[0m\u001b[1;32m    107\u001b[0m \u001b[0;34m\u001b[0m\u001b[0m\n\u001b[1;32m    108\u001b[0m \u001b[0;32mdef\u001b[0m \u001b[0m_raise_linalgerror_lstsq\u001b[0m\u001b[0;34m(\u001b[0m\u001b[0merr\u001b[0m\u001b[0;34m,\u001b[0m \u001b[0mflag\u001b[0m\u001b[0;34m)\u001b[0m\u001b[0;34m:\u001b[0m\u001b[0;34m\u001b[0m\u001b[0;34m\u001b[0m\u001b[0m\n",
            "\u001b[0;31mLinAlgError\u001b[0m: SVD did not converge"
          ]
        }
      ]
    },
    {
      "cell_type": "code",
      "metadata": {
        "id": "Ug_78Ieivz2X",
        "colab_type": "code",
        "colab": {}
      },
      "source": [
        "#hide\n",
        "italy['Shifted'] = x['Cumulativo']"
      ],
      "execution_count": 0,
      "outputs": []
    },
    {
      "cell_type": "code",
      "metadata": {
        "id": "xX0J-pD5Q98S",
        "colab_type": "code",
        "colab": {}
      },
      "source": [
        "#hide\n",
        "brasil = list(brazil['Cumulativo'])\n",
        "x = list(mbrazil['Cumulativo'])\n",
        "y = list(mbrazil.index)\n",
        "print(x)\n",
        "print(y)\n",
        "print(brasil)"
      ],
      "execution_count": 0,
      "outputs": []
    },
    {
      "cell_type": "code",
      "metadata": {
        "id": "l-Xx1PvwwSCm",
        "colab_type": "code",
        "colab": {}
      },
      "source": [
        "#hide\n",
        "\n",
        "data2"
      ],
      "execution_count": 0,
      "outputs": []
    },
    {
      "cell_type": "code",
      "metadata": {
        "id": "tL1n_fDFDACK",
        "colab_type": "code",
        "colab": {}
      },
      "source": [
        "#hide\n",
        "data2.sort_values(['dateRep','countriesAndTerritories'],inplace=True)\n"
      ],
      "execution_count": 0,
      "outputs": []
    },
    {
      "cell_type": "code",
      "metadata": {
        "id": "V_qHedh4DarW",
        "colab_type": "code",
        "colab": {}
      },
      "source": [
        "#hide\n",
        "data2['dateRep'] = pd.to_datetime(data2['dateRep'],dayfirst=True)\n"
      ],
      "execution_count": 0,
      "outputs": []
    },
    {
      "cell_type": "code",
      "metadata": {
        "id": "3xHa_QW2EIkv",
        "colab_type": "code",
        "colab": {}
      },
      "source": [
        "#hide\n",
        "datax = data2.groupby(['countriesAndTerritories','dateRep']).agg({'deaths': 'sum'})\n",
        "datax"
      ],
      "execution_count": 0,
      "outputs": []
    },
    {
      "cell_type": "code",
      "metadata": {
        "id": "6K3t-Nn5FBAt",
        "colab_type": "code",
        "colab": {}
      },
      "source": [
        "#hide\n",
        "datax.reset_index(level=[0,1],inplace=True)\n",
        "datax"
      ],
      "execution_count": 0,
      "outputs": []
    },
    {
      "cell_type": "code",
      "metadata": {
        "id": "MTU-UlMcGwyR",
        "colab_type": "code",
        "colab": {}
      },
      "source": [
        "#hide\n",
        "datax['dateRep'] = datax['dateRep'].dt.strftime('%Y-%m-%d')\n",
        "datax"
      ],
      "execution_count": 0,
      "outputs": []
    },
    {
      "cell_type": "code",
      "metadata": {
        "id": "9BKPpQ7iHFMF",
        "colab_type": "code",
        "colab": {}
      },
      "source": [
        "#hide\n",
        "datax.sort_values(['dateRep','countriesAndTerritories'],inplace=True)"
      ],
      "execution_count": 0,
      "outputs": []
    },
    {
      "cell_type": "code",
      "metadata": {
        "id": "s4qbXu0sDOTo",
        "colab_type": "code",
        "colab": {}
      },
      "source": [
        "#hide\n",
        "fig = px.bar(datax, x='countriesAndTerritories', y=\"deaths\", color=\"countriesAndTerritories\",\n",
        "  animation_frame=\"dateRep\", animation_group=\"countriesAndTerritories\", range_y=[0,4000])\n",
        "fig.show()"
      ],
      "execution_count": 0,
      "outputs": []
    },
    {
      "cell_type": "code",
      "metadata": {
        "id": "uViAbFWJFNjF",
        "colab_type": "code",
        "colab": {}
      },
      "source": [
        ""
      ],
      "execution_count": 0,
      "outputs": []
    }
  ]
}