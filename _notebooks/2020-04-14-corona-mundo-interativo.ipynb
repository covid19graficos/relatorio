{
  "nbformat": 4,
  "nbformat_minor": 0,
  "metadata": {
    "colab": {
      "name": "2020-04-14-corona-mundo-interativo.ipynb",
      "provenance": [],
      "collapsed_sections": []
    },
    "kernelspec": {
      "display_name": "Python 3",
      "language": "python",
      "name": "python3"
    },
    "language_info": {
      "codemirror_mode": {
        "name": "ipython",
        "version": 3
      },
      "file_extension": ".py",
      "mimetype": "text/x-python",
      "name": "python",
      "nbconvert_exporter": "python",
      "pygments_lexer": "ipython3",
      "version": "3.6.5"
    }
  },
  "cells": [
    {
      "cell_type": "markdown",
      "metadata": {
        "id": "i3R7_8aSTqPD",
        "colab_type": "text"
      },
      "source": [
        "# Mundo - comparações entre países\n",
        "> Gráficos e análises com comparações entre Brasil e países específicos\n",
        "\n",
        "- toc: false\n",
        "- branch: master\n",
        "- badges: false\n",
        "- comments: false\n",
        "- author: Vinicius Bastos Gomes & Fernando Wittmann\n",
        "- categories: [coronavirus]\n"
      ]
    },
    {
      "cell_type": "markdown",
      "metadata": {
        "id": "6Qdx6Lw_vcDr",
        "colab_type": "text"
      },
      "source": [
        "Fonte:  https://opendata.ecdc.europa.eu/covid19/casedistribution/csv\n"
      ]
    },
    {
      "cell_type": "code",
      "metadata": {
        "id": "5Gy6Po5a4_Zs",
        "colab_type": "code",
        "outputId": "2640a85f-19e8-4061-b84e-b74bae1cc88f",
        "colab": {
          "base_uri": "https://localhost:8080/",
          "height": 207
        }
      },
      "source": [
        "#hide\n",
        "!pip install plotly --upgrade"
      ],
      "execution_count": 1,
      "outputs": [
        {
          "output_type": "stream",
          "text": [
            "Collecting plotly\n",
            "\u001b[?25l  Downloading https://files.pythonhosted.org/packages/15/90/918bccb0ca60dc6d126d921e2c67126d75949f5da777e6b18c51fb12603d/plotly-4.6.0-py2.py3-none-any.whl (7.1MB)\n",
            "\u001b[K     |████████████████████████████████| 7.2MB 3.2MB/s \n",
            "\u001b[?25hRequirement already satisfied, skipping upgrade: six in /usr/local/lib/python3.6/dist-packages (from plotly) (1.12.0)\n",
            "Requirement already satisfied, skipping upgrade: retrying>=1.3.3 in /usr/local/lib/python3.6/dist-packages (from plotly) (1.3.3)\n",
            "Installing collected packages: plotly\n",
            "  Found existing installation: plotly 4.4.1\n",
            "    Uninstalling plotly-4.4.1:\n",
            "      Successfully uninstalled plotly-4.4.1\n",
            "Successfully installed plotly-4.6.0\n"
          ],
          "name": "stdout"
        }
      ]
    },
    {
      "cell_type": "code",
      "metadata": {
        "colab_type": "code",
        "id": "Q-8UV5O_Y6lN",
        "colab": {}
      },
      "source": [
        "#hide_input\n",
        "#Imports\n",
        "import warnings\n",
        "warnings.filterwarnings('ignore')\n",
        "import matplotlib.pyplot as plt\n",
        "%matplotlib inline\n",
        "import matplotlib.ticker as ticker\n",
        "import numpy as np; np.random.seed(1)\n",
        "import seaborn as sns\n",
        "sns.set(style=\"ticks\", rc={\"lines.linewidth\": 1.6})\n",
        "sns.set_palette('bright')\n",
        "import pandas as pd\n",
        "from datetime import date,timedelta\n",
        "import io\n",
        "\n",
        "# Montar google drive e exportar imagens\n",
        "MONTAR_GDRIVE = True\n"
      ],
      "execution_count": 0,
      "outputs": []
    },
    {
      "cell_type": "code",
      "metadata": {
        "id": "GCFkwV5puwmq",
        "colab_type": "code",
        "outputId": "eaa62235-5bc9-4422-9a4b-1e9bad926a3d",
        "colab": {
          "base_uri": "https://localhost:8080/",
          "height": 122
        }
      },
      "source": [
        "#hide\n",
        "if MONTAR_GDRIVE:\n",
        "    # Montar Google Drive\n",
        "    from google.colab import drive\n",
        "    drive.mount('/content/drive')"
      ],
      "execution_count": 3,
      "outputs": [
        {
          "output_type": "stream",
          "text": [
            "Go to this URL in a browser: https://accounts.google.com/o/oauth2/auth?client_id=947318989803-6bn6qk8qdgf4n4g3pfee6491hc0brc4i.apps.googleusercontent.com&redirect_uri=urn%3aietf%3awg%3aoauth%3a2.0%3aoob&response_type=code&scope=email%20https%3a%2f%2fwww.googleapis.com%2fauth%2fdocs.test%20https%3a%2f%2fwww.googleapis.com%2fauth%2fdrive%20https%3a%2f%2fwww.googleapis.com%2fauth%2fdrive.photos.readonly%20https%3a%2f%2fwww.googleapis.com%2fauth%2fpeopleapi.readonly\n",
            "\n",
            "Enter your authorization code:\n",
            "··········\n",
            "Mounted at /content/drive\n"
          ],
          "name": "stdout"
        }
      ]
    },
    {
      "cell_type": "code",
      "metadata": {
        "id": "67m1J6q1u4bt",
        "colab_type": "code",
        "outputId": "8a9b570f-e577-4db8-f727-fa80f5260ed9",
        "colab": {
          "base_uri": "https://localhost:8080/",
          "height": 34
        }
      },
      "source": [
        "#hide\n",
        "if MONTAR_GDRIVE:\n",
        "    # Abrir pasta com os arquivos\n",
        "    %cd \"/content/drive/My Drive/CoronaVirus Brasil\""
      ],
      "execution_count": 4,
      "outputs": [
        {
          "output_type": "stream",
          "text": [
            "/content/drive/My Drive/CoronaVirus Brasil\n"
          ],
          "name": "stdout"
        }
      ]
    },
    {
      "cell_type": "code",
      "metadata": {
        "id": "pEUjkscson4Y",
        "colab_type": "code",
        "colab": {}
      },
      "source": [
        "#hide\n",
        "!rm dados.csv"
      ],
      "execution_count": 0,
      "outputs": []
    },
    {
      "cell_type": "code",
      "metadata": {
        "id": "qLtKAiWZjsqV",
        "colab_type": "code",
        "outputId": "d5157b3e-7ac8-4e0f-8798-bfc983e4d9ca",
        "colab": {
          "base_uri": "https://localhost:8080/",
          "height": 272
        }
      },
      "source": [
        "#hide\n",
        "!wget https://opendata.ecdc.europa.eu/covid19/casedistribution/csv -O dados.csv"
      ],
      "execution_count": 6,
      "outputs": [
        {
          "output_type": "stream",
          "text": [
            "--2020-04-14 12:05:52--  https://opendata.ecdc.europa.eu/covid19/casedistribution/csv\n",
            "Resolving opendata.ecdc.europa.eu (opendata.ecdc.europa.eu)... 212.181.0.63\n",
            "Connecting to opendata.ecdc.europa.eu (opendata.ecdc.europa.eu)|212.181.0.63|:443... connected.\n",
            "HTTP request sent, awaiting response... 301 Moved Permanently\n",
            "Location: https://opendata.ecdc.europa.eu/covid19/casedistribution/csv/ [following]\n",
            "--2020-04-14 12:05:52--  https://opendata.ecdc.europa.eu/covid19/casedistribution/csv/\n",
            "Reusing existing connection to opendata.ecdc.europa.eu:443.\n",
            "HTTP request sent, awaiting response... 200 OK\n",
            "Length: 551354 (538K) [application/octet-stream]\n",
            "Saving to: ‘dados.csv’\n",
            "\n",
            "dados.csv           100%[===================>] 538.43K   444KB/s    in 1.2s    \n",
            "\n",
            "2020-04-14 12:05:54 (444 KB/s) - ‘dados.csv’ saved [551354/551354]\n",
            "\n"
          ],
          "name": "stdout"
        }
      ]
    },
    {
      "cell_type": "code",
      "metadata": {
        "id": "dx-DKRjjTqPV",
        "colab_type": "code",
        "colab": {}
      },
      "source": [
        "#hide\n",
        "#datetime operations\n",
        "todei = date.today()\n",
        "today = todei.strftime(\"%d-%m-%Y\")\n",
        "today_us = todei.strftime(\"%Y-%m-%d\")\n",
        "today_us\n",
        "yesterdei = date.today() - timedelta(days=1)\n",
        "yesterday = yesterdei.strftime('%Y-%m-%d')"
      ],
      "execution_count": 0,
      "outputs": []
    },
    {
      "cell_type": "code",
      "metadata": {
        "scrolled": true,
        "id": "doLyY9GdTqPk",
        "colab_type": "code",
        "colab": {}
      },
      "source": [
        "#hide\n",
        "data3 = pd.read_csv('dados.csv', encoding='latin-1',error_bad_lines=False,parse_dates=['dateRep'],dayfirst=True)\n"
      ],
      "execution_count": 0,
      "outputs": []
    },
    {
      "cell_type": "code",
      "metadata": {
        "id": "IEySD1DR7TpD",
        "colab_type": "code",
        "colab": {}
      },
      "source": [
        "#hide\n",
        "def preprocessing(data):\n",
        "  data.sort_index(ascending=False,inplace=True)\n",
        "  data['Cumulativo'] = data['cases'].cumsum()\n",
        "  data['deathcum'] = data['deaths'].cumsum()\n",
        "  data = data[data['Cumulativo']>=50]\n",
        "  data = data.reset_index(drop=True)\n",
        "\n",
        "  return data"
      ],
      "execution_count": 0,
      "outputs": []
    },
    {
      "cell_type": "code",
      "metadata": {
        "id": "pPLTl0Jdqnf3",
        "colab_type": "code",
        "colab": {}
      },
      "source": [
        "#hide\n",
        "south_korea = data3[data3['countriesAndTerritories']=='South_Korea']\n",
        "czech_Republic = data3[data3['countriesAndTerritories']=='Czechia']\n",
        "hongkong = data3[data3['countriesAndTerritories']=='Hong_Kong']\n",
        "taiwan = data3[data3['countriesAndTerritories']=='Taiwan']\n",
        "mongolia = data3[data3['countriesAndTerritories']=='Mongolia']\n",
        "japan = data3[data3['countriesAndTerritories']=='Japan']\n",
        "china = data3[data3['countriesAndTerritories']=='China']\n",
        "nz=data3[data3['countriesAndTerritories']=='New_Zealand']\n"
      ],
      "execution_count": 0,
      "outputs": []
    },
    {
      "cell_type": "code",
      "metadata": {
        "id": "EBo7RxTZqrdf",
        "colab_type": "code",
        "colab": {}
      },
      "source": [
        "#hide\n",
        "china = data3[data3['countriesAndTerritories']=='China']\n",
        "germany = data3[data3['countriesAndTerritories']=='Germany']\n",
        "italy = data3[data3['countriesAndTerritories']=='Italy']\n",
        "brazil = data3[data3['countriesAndTerritories']=='Brazil']\n",
        "argentina = data3[data3['countriesAndTerritories']=='Argentina']\n",
        "france = data3[data3['countriesAndTerritories']=='France']\n",
        "us = data3[data3['countriesAndTerritories']=='United_States_of_America']\n",
        "uk = data3[data3['countriesAndTerritories']=='United_Kingdom']\n",
        "spain = data3[data3['countriesAndTerritories']=='Spain']\n",
        "mexico = data3[data3['countriesAndTerritories']=='Mexico']\n",
        "india = data3[data3['countriesAndTerritories']=='India']"
      ],
      "execution_count": 0,
      "outputs": []
    },
    {
      "cell_type": "code",
      "metadata": {
        "id": "tArPMraDq8Nm",
        "colab_type": "code",
        "colab": {}
      },
      "source": [
        "#hide\n",
        "countries = [brazil,germany,italy,argentina,france,us,uk,spain,south_korea,czech_Republic,hongkong,taiwan,mongolia,japan,china,nz]"
      ],
      "execution_count": 0,
      "outputs": []
    },
    {
      "cell_type": "code",
      "metadata": {
        "id": "xFVR1f_4rJZQ",
        "colab_type": "code",
        "colab": {}
      },
      "source": [
        "#hide\n",
        "paises_list = []\n",
        "for i in countries:\n",
        "  y = preprocessing(i)\n",
        "  paises_list.append(y)"
      ],
      "execution_count": 0,
      "outputs": []
    },
    {
      "cell_type": "code",
      "metadata": {
        "id": "1wqPgPKNrX-E",
        "colab_type": "code",
        "outputId": "84adef60-0ab4-4f27-d105-272520600302",
        "colab": {
          "base_uri": "https://localhost:8080/",
          "height": 85
        }
      },
      "source": [
        "#hide\n",
        "paises = pd.concat(paises_list)\n",
        "paises['indice'] = paises.index\n",
        "paises['relativa'] = 10000*(paises['Cumulativo']/paises['popData2018'])\n",
        "paises = paises.sort_values('indice')\n",
        "paises['countriesAndTerritories'].unique()"
      ],
      "execution_count": 14,
      "outputs": [
        {
          "output_type": "execute_result",
          "data": {
            "text/plain": [
              "array(['Brazil', 'Spain', 'Czechia', 'United_Kingdom', 'Taiwan',\n",
              "       'United_States_of_America', 'Japan', 'France', 'Argentina',\n",
              "       'China', 'Italy', 'New_Zealand', 'Germany', 'South_Korea'],\n",
              "      dtype=object)"
            ]
          },
          "metadata": {
            "tags": []
          },
          "execution_count": 14
        }
      ]
    },
    {
      "cell_type": "code",
      "metadata": {
        "id": "sdWMUy53vmSf",
        "colab_type": "code",
        "colab": {}
      },
      "source": [
        "#hide\n",
        "final_data = paises"
      ],
      "execution_count": 0,
      "outputs": []
    },
    {
      "cell_type": "code",
      "metadata": {
        "id": "Z1NB_GlETqQ5",
        "colab_type": "code",
        "colab": {}
      },
      "source": [
        "#hide\n",
        "#add pct\n",
        "brazil_dupl = paises[paises['countriesAndTerritories']=='Brazil']\n",
        "brazil_dupl['razao']= brazil_dupl['Cumulativo'].pct_change()\n",
        "brazil_dupl['razao']=(brazil_dupl['razao']*100).round(2)\n",
        "brazil_dupl['dias']= brazil_dupl.index\n"
      ],
      "execution_count": 0,
      "outputs": []
    },
    {
      "cell_type": "markdown",
      "metadata": {
        "id": "CttI71tOTqRA",
        "colab_type": "text"
      },
      "source": [
        "<center> <h2> Gráficos de contaminação </h2> </center>\n",
        "\n",
        "\n"
      ]
    },
    {
      "cell_type": "markdown",
      "metadata": {
        "id": "BapU1v4hqOkg",
        "colab_type": "text"
      },
      "source": [
        "Os gráficos a seguir apresentam curvas de contaminação de diversos países. Foram criados com o intuito de comparar estratégias de combate à disseminação do vírus. É importante notar que as curvas de contaminação estão amplamente relacionadas à quantidade de testes que os países tem realizado.\n",
        "A seção contem duas aproximações e duas versões do gáfico completo: nas escalas aritmética e logarítmica. "
      ]
    },
    {
      "cell_type": "code",
      "metadata": {
        "colab_type": "code",
        "id": "EvCbs19KaAt4",
        "outputId": "d380e0d6-e8e3-4563-9e81-347645e2330d",
        "colab": {
          "base_uri": "https://localhost:8080/",
          "height": 542
        }
      },
      "source": [
        "\n",
        "#hide_input\n",
        "import plotly.graph_objects as go\n",
        "fig = go.Figure()\n",
        "fig.add_trace(go.Scatter(x=final_data['indice'][final_data['countriesAndTerritories']=='Brazil'], \n",
        "                         y=final_data['Cumulativo'][final_data['countriesAndTerritories']=='Brazil'], name='Brasil',line=dict(color='black', width=5)))\n",
        "fig.add_trace(go.Scatter(x=final_data['indice'][final_data['countriesAndTerritories']=='France'], \n",
        "                         y=final_data['Cumulativo'][final_data['countriesAndTerritories']=='France'], name='França',line=dict(color='red', width=2)))\n",
        "fig.add_trace(go.Scatter(x=final_data['indice'][final_data['countriesAndTerritories']=='Spain'], \n",
        "                         y=final_data['Cumulativo'][final_data['countriesAndTerritories']=='Spain'], name='Espanha',line=dict(color='blue', width=2)))\n",
        "fig.add_trace(go.Scatter(x=final_data['indice'][final_data['countriesAndTerritories']=='Italy'], \n",
        "                         y=final_data['Cumulativo'][final_data['countriesAndTerritories']=='Italy'], name='Itália',line=dict(color='green', width=2)))\n",
        "fig.add_trace(go.Scatter(x=final_data['indice'][final_data['countriesAndTerritories']=='United_Kingdom'], \n",
        "                         y=final_data['Cumulativo'][final_data['countriesAndTerritories']=='United_Kingdom'], name='Reino Unido',line=dict(color='yellowgreen', width=2)))\n",
        "fig.add_trace(go.Scatter(x=final_data['indice'][final_data['countriesAndTerritories']=='Argentina'], \n",
        "                         y=final_data['Cumulativo'][final_data['countriesAndTerritories']=='Argentina'],mode='lines', name='Argentina',line=dict(color='darkgreen', width=2)))\n",
        "fig.add_trace(go.Scatter(x=final_data['indice'][final_data['countriesAndTerritories']=='Germany'], \n",
        "                         y=final_data['Cumulativo'][final_data['countriesAndTerritories']=='Germany'], name='Alemanha',line=dict(color='darkslateblue', width=2)))\n",
        "fig.add_trace(go.Scatter(x=final_data['indice'][final_data['countriesAndTerritories']=='United_States_of_America'], \n",
        "                         y=final_data['Cumulativo'][final_data['countriesAndTerritories']=='United_States_of_America'], name='EUA',line=dict(color='mediumpurple', width=2)))\n",
        "fig.add_trace(go.Scatter(x=final_data['indice'][final_data['countriesAndTerritories']=='New_Zealand'], \n",
        "                         y=final_data['Cumulativo'][final_data['countriesAndTerritories']=='New_Zealand'], name='Nova Zelândia',line=dict(color='yellow', width=2)))\n",
        "\n",
        "\n",
        "fig.add_trace(go.Scatter(x=final_data['indice'][final_data['countriesAndTerritories']=='Czechia'], \n",
        "                         y=final_data['Cumulativo'][final_data['countriesAndTerritories']=='Czechia'],mode='lines', name='República Tcheca',line=dict(color='magenta', width=2)))\n",
        "fig.add_trace(go.Scatter(x=final_data['indice'][final_data['countriesAndTerritories']=='South_Korea'], \n",
        "                         y=final_data['Cumulativo'][final_data['countriesAndTerritories']=='South_Korea'], name='Coréia do Sul',line=dict(color='brown', width=2)))\n",
        "fig.add_trace(go.Scatter(x=final_data['indice'][final_data['countriesAndTerritories']=='Taiwan'], \n",
        "                         y=final_data['Cumulativo'][final_data['countriesAndTerritories']=='Taiwan'],mode='lines', name='Taiwan',line=dict(color='grey', width=2)))\n",
        "fig.add_trace(go.Scatter(x=final_data['indice'][final_data['countriesAndTerritories']=='Hong_Kong'], \n",
        "                         y=final_data['Cumulativo'][final_data['countriesAndTerritories']=='Hong_Kong'], name='Hong Kong',line=dict(color='lavenderblush', width=2)))\n",
        "fig.add_trace(go.Scatter(x=final_data['indice'][final_data['countriesAndTerritories']=='Japan'], \n",
        "                         y=final_data['Cumulativo'][final_data['countriesAndTerritories']=='Japan'], name='Japão',line=dict(color='pink', width=2)))\n",
        "fig.add_trace(go.Scatter(x=final_data['indice'][final_data['countriesAndTerritories']=='China'], \n",
        "                         y=final_data['Cumulativo'][final_data['countriesAndTerritories']=='China'], name='China',line=dict(color='lightgreen', width=2)))\n",
        "\n",
        "fig.update_xaxes(tickangle=0, tickfont=dict(size=10))\n",
        "\n",
        "\n",
        "fig.update_layout(title='COVID-19 - Casos totais confirmados - {} \\n Escala Aritmética'.format(today),\n",
        "                   xaxis_title='Dias desde o caso 50',\n",
        "                   yaxis_title='Casos',legend= {'borderwidth':0,'orientation':'v','yanchor':'top','font':{'size':8}})"
      ],
      "execution_count": 17,
      "outputs": [
        {
          "output_type": "display_data",
          "data": {
            "text/html": [
              "<html>\n",
              "<head><meta charset=\"utf-8\" /></head>\n",
              "<body>\n",
              "    <div>\n",
              "            <script src=\"https://cdnjs.cloudflare.com/ajax/libs/mathjax/2.7.5/MathJax.js?config=TeX-AMS-MML_SVG\"></script><script type=\"text/javascript\">if (window.MathJax) {MathJax.Hub.Config({SVG: {font: \"STIX-Web\"}});}</script>\n",
              "                <script type=\"text/javascript\">window.PlotlyConfig = {MathJaxConfig: 'local'};</script>\n",
              "        <script src=\"https://cdn.plot.ly/plotly-latest.min.js\"></script>    \n",
              "            <div id=\"4db6500c-7867-4261-b7a6-8a44e46764db\" class=\"plotly-graph-div\" style=\"height:525px; width:100%;\"></div>\n",
              "            <script type=\"text/javascript\">\n",
              "                \n",
              "                    window.PLOTLYENV=window.PLOTLYENV || {};\n",
              "                    \n",
              "                if (document.getElementById(\"4db6500c-7867-4261-b7a6-8a44e46764db\")) {\n",
              "                    Plotly.newPlot(\n",
              "                        '4db6500c-7867-4261-b7a6-8a44e46764db',\n",
              "                        [{\"line\": {\"color\": \"black\", \"width\": 5}, \"name\": \"Brasil\", \"type\": \"scatter\", \"x\": [0, 1, 2, 3, 4, 5, 6, 7, 8, 9, 10, 11, 12, 13, 14, 15, 16, 17, 18, 19, 20, 21, 22, 23, 24, 25, 26, 27, 28, 29, 30, 31, 32, 33], \"y\": [52, 77, 98, 121, 200, 234, 291, 428, 621, 904, 1128, 1546, 1891, 2201, 2433, 2915, 3417, 3904, 4256, 4579, 5717, 6836, 7910, 9056, 10278, 11130, 12056, 13717, 15927, 17857, 19638, 20727, 22169, 23430]}, {\"line\": {\"color\": \"red\", \"width\": 2}, \"name\": \"Fran\\u00e7a\", \"type\": \"scatter\", \"x\": [0, 1, 2, 3, 4, 5, 6, 7, 8, 9, 10, 11, 12, 13, 14, 15, 16, 17, 18, 19, 20, 21, 22, 23, 24, 25, 26, 27, 28, 29, 30, 31, 32, 33, 34, 35, 36, 37, 38, 39, 40, 41, 42, 43, 44, 45], \"y\": [57, 100, 130, 178, 212, 285, 423, 613, 716, 1126, 1412, 1784, 2281, 2876, 3661, 4499, 5423, 6633, 7730, 9134, 10995, 12612, 14459, 16018, 19856, 22302, 25233, 29155, 32964, 37575, 40174, 44550, 52128, 56989, 59105, 64338, 68605, 70478, 74390, 78167, 82048, 86334, 90676, 93790, 95403, 98076]}, {\"line\": {\"color\": \"blue\", \"width\": 2}, \"name\": \"Espanha\", \"type\": \"scatter\", \"x\": [0, 1, 2, 3, 4, 5, 6, 7, 8, 9, 10, 11, 12, 13, 14, 15, 16, 17, 18, 19, 20, 21, 22, 23, 24, 25, 26, 27, 28, 29, 30, 31, 32, 33, 34, 35, 36, 37, 38, 39, 40, 41, 42, 43, 44], \"y\": [66, 83, 114, 151, 200, 261, 374, 430, 589, 1204, 1639, 2140, 3004, 4231, 5753, 7753, 9191, 11178, 13716, 17147, 19980, 24926, 28572, 33089, 39673, 47610, 56188, 64059, 72248, 78797, 85195, 94417, 102136, 110238, 117710, 124736, 130759, 135032, 140510, 146690, 152446, 157022, 161852, 166019, 169496]}, {\"line\": {\"color\": \"green\", \"width\": 2}, \"name\": \"It\\u00e1lia\", \"type\": \"scatter\", \"x\": [0, 1, 2, 3, 4, 5, 6, 7, 8, 9, 10, 11, 12, 13, 14, 15, 16, 17, 18, 19, 20, 21, 22, 23, 24, 25, 26, 27, 28, 29, 30, 31, 32, 33, 34, 35, 36, 37, 38, 39, 40, 41, 42, 43, 44, 45, 46, 47, 48, 49, 50, 51], \"y\": [79, 132, 229, 322, 400, 650, 888, 1128, 1689, 2036, 2502, 3089, 3858, 4636, 5883, 7375, 9172, 10149, 12462, 15113, 17660, 21157, 23980, 27980, 31506, 35713, 41035, 47021, 53578, 59138, 63927, 69176, 74386, 80539, 86498, 92472, 97689, 101739, 105792, 110574, 115242, 119827, 124632, 128948, 132547, 135586, 139422, 143626, 147577, 152271, 156363, 159516]}, {\"line\": {\"color\": \"yellowgreen\", \"width\": 2}, \"name\": \"Reino Unido\", \"type\": \"scatter\", \"x\": [0, 1, 2, 3, 4, 5, 6, 7, 8, 9, 10, 11, 12, 13, 14, 15, 16, 17, 18, 19, 20, 21, 22, 23, 24, 25, 26, 27, 28, 29, 30, 31, 32, 33, 34, 35, 36, 37, 38, 39, 40, 41], \"y\": [51, 85, 115, 163, 206, 273, 321, 373, 456, 590, 707, 1140, 1391, 1543, 1950, 2630, 3277, 3983, 5018, 5683, 6650, 8077, 9529, 11658, 14543, 17089, 19522, 22141, 25150, 29474, 33718, 38168, 41903, 47806, 51608, 55242, 60733, 65077, 70272, 78991, 84279, 88621]}, {\"line\": {\"color\": \"darkgreen\", \"width\": 2}, \"mode\": \"lines\", \"name\": \"Argentina\", \"type\": \"scatter\", \"x\": [0, 1, 2, 3, 4, 5, 6, 7, 8, 9, 10, 11, 12, 13, 14, 15, 16, 17, 18, 19, 20, 21, 22, 23, 24, 25, 26, 27, 28, 29], \"y\": [56, 65, 79, 97, 128, 158, 225, 266, 301, 387, 502, 589, 690, 745, 820, 966, 966, 1133, 1133, 1265, 1451, 1554, 1628, 1715, 1795, 1894, 1975, 2137, 2203, 2272]}, {\"line\": {\"color\": \"darkslateblue\", \"width\": 2}, \"name\": \"Alemanha\", \"type\": \"scatter\", \"x\": [0, 1, 2, 3, 4, 5, 6, 7, 8, 9, 10, 11, 12, 13, 14, 15, 16, 17, 18, 19, 20, 21, 22, 23, 24, 25, 26, 27, 28, 29, 30, 31, 32, 33, 34, 35, 36, 37, 38, 39, 40, 41, 42, 43, 44, 45], \"y\": [57, 111, 129, 157, 196, 262, 400, 684, 847, 902, 1139, 1296, 1567, 2369, 3062, 3795, 4838, 6012, 7156, 8198, 14138, 18187, 21463, 24774, 29212, 31554, 36508, 42288, 48582, 52547, 57298, 61913, 67366, 73522, 79696, 85778, 91714, 95391, 99225, 103228, 108202, 113525, 117658, 120479, 123016, 125098]}, {\"line\": {\"color\": \"mediumpurple\", \"width\": 2}, \"name\": \"EUA\", \"type\": \"scatter\", \"x\": [0, 1, 2, 3, 4, 5, 6, 7, 8, 9, 10, 11, 12, 13, 14, 15, 16, 17, 18, 19, 20, 21, 22, 23, 24, 25, 26, 27, 28, 29, 30, 31, 32, 33, 34, 35, 36, 37, 38, 39, 40, 41, 42, 43, 44, 45, 46, 47, 48, 49], \"y\": [53, 53, 59, 60, 66, 69, 89, 103, 125, 159, 233, 338, 433, 554, 754, 1025, 1312, 1663, 2174, 2951, 3774, 4661, 6427, 9415, 14250, 19624, 26747, 35206, 46442, 55231, 69194, 85991, 104686, 124665, 143025, 164620, 189618, 216721, 245540, 277965, 312237, 337635, 368196, 398809, 432132, 466033, 501560, 529951, 557571, 582594]}, {\"line\": {\"color\": \"yellow\", \"width\": 2}, \"name\": \"Nova Zel\\u00e2ndia\", \"type\": \"scatter\", \"x\": [0, 1, 2, 3, 4, 5, 6, 7, 8, 9, 10, 11, 12, 13, 14, 15, 16, 17, 18, 19, 20, 21, 22, 23, 24], \"y\": [53, 66, 102, 142, 189, 262, 338, 416, 476, 552, 647, 647, 723, 772, 824, 872, 911, 943, 969, 992, 1015, 1035, 1049, 1064, 1072]}, {\"line\": {\"color\": \"magenta\", \"width\": 2}, \"mode\": \"lines\", \"name\": \"Rep\\u00fablica Tcheca\", \"type\": \"scatter\", \"x\": [0, 1, 2, 3, 4, 5, 6, 7, 8, 9, 10, 11, 12, 13, 14, 15, 16, 17, 18, 19, 20, 21, 22, 23, 24, 25, 26, 27, 28, 29, 30, 31, 32, 33, 34], \"y\": [63, 94, 116, 150, 214, 298, 344, 434, 522, 694, 904, 995, 1165, 1236, 1394, 1654, 2062, 2279, 2663, 2829, 3002, 3308, 3589, 3858, 4190, 4472, 4587, 4822, 5017, 5312, 5569, 5732, 5902, 5991, 6059]}, {\"line\": {\"color\": \"brown\", \"width\": 2}, \"name\": \"Cor\\u00e9ia do Sul\", \"type\": \"scatter\", \"x\": [0, 1, 2, 3, 4, 5, 6, 7, 8, 9, 10, 11, 12, 13, 14, 15, 16, 17, 18, 19, 20, 21, 22, 23, 24, 25, 26, 27, 28, 29, 30, 31, 32, 33, 34, 35, 36, 37, 38, 39, 40, 41, 42, 43, 44, 45, 46, 47, 48, 49, 50, 51, 52, 53, 54], \"y\": [80, 155, 345, 601, 762, 892, 1146, 1595, 2022, 2931, 3526, 4212, 4812, 5328, 5766, 6284, 6767, 7134, 7382, 7513, 7755, 7869, 7979, 8086, 8162, 8236, 8320, 8413, 8565, 8652, 8799, 8897, 8961, 9037, 9137, 9241, 9332, 9478, 9583, 9661, 9786, 9786, 9976, 10062, 10156, 10237, 10284, 10331, 10384, 10423, 10450, 10450, 10512, 10537, 10564]}, {\"line\": {\"color\": \"grey\", \"width\": 2}, \"mode\": \"lines\", \"name\": \"Taiwan\", \"type\": \"scatter\", \"x\": [0, 1, 2, 3, 4, 5, 6, 7, 8, 9, 10, 11, 12, 13, 14, 15, 16, 17, 18, 19, 20, 21, 22, 23, 24, 25, 26, 27, 28, 29, 30, 31], \"y\": [53, 59, 59, 67, 77, 108, 108, 135, 153, 165, 195, 216, 235, 252, 267, 283, 306, 306, 322, 339, 339, 355, 363, 363, 373, 376, 379, 380, 380, 385, 388, 393]}, {\"line\": {\"color\": \"lavenderblush\", \"width\": 2}, \"name\": \"Hong Kong\", \"type\": \"scatter\", \"x\": [], \"y\": []}, {\"line\": {\"color\": \"pink\", \"width\": 2}, \"name\": \"Jap\\u00e3o\", \"type\": \"scatter\", \"x\": [0, 1, 2, 3, 4, 5, 6, 7, 8, 9, 10, 11, 12, 13, 14, 15, 16, 17, 18, 19, 20, 21, 22, 23, 24, 25, 26, 27, 28, 29, 30, 31, 32, 33, 34, 35, 36, 37, 38, 39, 40, 41, 42, 43, 44, 45, 46, 47, 48, 49, 50, 51, 52, 53, 54, 55, 56, 57, 58], \"y\": [52, 59, 59, 66, 84, 93, 105, 132, 144, 144, 164, 186, 210, 230, 239, 254, 254, 268, 317, 349, 408, 455, 488, 514, 568, 619, 675, 737, 780, 814, 824, 829, 873, 950, 1007, 1046, 1089, 1128, 1193, 1268, 1364, 1499, 1693, 1866, 1953, 1953, 2178, 2617, 2935, 3271, 3654, 3817, 3906, 4257, 4667, 5347, 6748, 7255, 7645]}, {\"line\": {\"color\": \"lightgreen\", \"width\": 2}, \"name\": \"China\", \"type\": \"scatter\", \"x\": [0, 1, 2, 3, 4, 5, 6, 7, 8, 9, 10, 11, 12, 13, 14, 15, 16, 17, 18, 19, 20, 21, 22, 23, 24, 25, 26, 27, 28, 29, 30, 31, 32, 33, 34, 35, 36, 37, 38, 39, 40, 41, 42, 43, 44, 45, 46, 47, 48, 49, 50, 51, 52, 53, 54, 55, 56, 57, 58, 59, 60, 61, 62, 63, 64, 65, 66, 67, 68, 69, 70, 71, 72, 73, 74, 75, 76, 77, 78, 79, 80, 81, 82, 83, 84, 85, 86, 87, 88, 89, 90, 91, 92, 93, 94, 95, 96, 97, 98, 99, 100], \"y\": [59, 59, 59, 59, 59, 59, 59, 59, 59, 59, 59, 59, 63, 80, 216, 235, 386, 526, 623, 882, 1323, 1988, 2775, 4528, 5994, 7734, 9714, 11809, 14399, 17211, 20448, 24320, 28047, 31207, 34625, 37232, 40206, 42696, 44724, 59865, 64021, 66559, 68566, 70618, 72508, 74258, 74652, 75543, 76369, 77016, 77234, 77749, 78159, 78598, 78927, 79355, 79929, 80134, 80261, 80380, 80497, 80667, 80768, 80814, 80859, 80879, 80908, 80932, 80954, 80973, 80995, 81020, 81063, 81086, 81130, 81229, 81281, 81346, 81484, 81553, 81631, 81733, 81827, 81946, 82059, 82157, 82241, 82295, 82395, 82465, 82527, 82575, 82642, 82698, 82784, 82870, 82925, 83004, 83097, 83209, 83303]}],\n",
              "                        {\"legend\": {\"borderwidth\": 0, \"font\": {\"size\": 8}, \"orientation\": \"v\", \"yanchor\": \"top\"}, \"template\": {\"data\": {\"bar\": [{\"error_x\": {\"color\": \"#2a3f5f\"}, \"error_y\": {\"color\": \"#2a3f5f\"}, \"marker\": {\"line\": {\"color\": \"#E5ECF6\", \"width\": 0.5}}, \"type\": \"bar\"}], \"barpolar\": [{\"marker\": {\"line\": {\"color\": \"#E5ECF6\", \"width\": 0.5}}, \"type\": \"barpolar\"}], \"carpet\": [{\"aaxis\": {\"endlinecolor\": \"#2a3f5f\", \"gridcolor\": \"white\", \"linecolor\": \"white\", \"minorgridcolor\": \"white\", \"startlinecolor\": \"#2a3f5f\"}, \"baxis\": {\"endlinecolor\": \"#2a3f5f\", \"gridcolor\": \"white\", \"linecolor\": \"white\", \"minorgridcolor\": \"white\", \"startlinecolor\": \"#2a3f5f\"}, \"type\": \"carpet\"}], \"choropleth\": [{\"colorbar\": {\"outlinewidth\": 0, \"ticks\": \"\"}, \"type\": \"choropleth\"}], \"contour\": [{\"colorbar\": {\"outlinewidth\": 0, \"ticks\": \"\"}, \"colorscale\": [[0.0, \"#0d0887\"], [0.1111111111111111, \"#46039f\"], [0.2222222222222222, \"#7201a8\"], [0.3333333333333333, \"#9c179e\"], [0.4444444444444444, \"#bd3786\"], [0.5555555555555556, \"#d8576b\"], [0.6666666666666666, \"#ed7953\"], [0.7777777777777778, \"#fb9f3a\"], [0.8888888888888888, \"#fdca26\"], [1.0, \"#f0f921\"]], \"type\": \"contour\"}], \"contourcarpet\": [{\"colorbar\": {\"outlinewidth\": 0, \"ticks\": \"\"}, \"type\": \"contourcarpet\"}], \"heatmap\": [{\"colorbar\": {\"outlinewidth\": 0, \"ticks\": \"\"}, \"colorscale\": [[0.0, \"#0d0887\"], [0.1111111111111111, \"#46039f\"], [0.2222222222222222, \"#7201a8\"], [0.3333333333333333, \"#9c179e\"], [0.4444444444444444, \"#bd3786\"], [0.5555555555555556, \"#d8576b\"], [0.6666666666666666, \"#ed7953\"], [0.7777777777777778, \"#fb9f3a\"], [0.8888888888888888, \"#fdca26\"], [1.0, \"#f0f921\"]], \"type\": \"heatmap\"}], \"heatmapgl\": [{\"colorbar\": {\"outlinewidth\": 0, \"ticks\": \"\"}, \"colorscale\": [[0.0, \"#0d0887\"], [0.1111111111111111, \"#46039f\"], [0.2222222222222222, \"#7201a8\"], [0.3333333333333333, \"#9c179e\"], [0.4444444444444444, \"#bd3786\"], [0.5555555555555556, \"#d8576b\"], [0.6666666666666666, \"#ed7953\"], [0.7777777777777778, \"#fb9f3a\"], [0.8888888888888888, \"#fdca26\"], [1.0, \"#f0f921\"]], \"type\": \"heatmapgl\"}], \"histogram\": [{\"marker\": {\"colorbar\": {\"outlinewidth\": 0, \"ticks\": \"\"}}, \"type\": \"histogram\"}], \"histogram2d\": [{\"colorbar\": {\"outlinewidth\": 0, \"ticks\": \"\"}, \"colorscale\": [[0.0, \"#0d0887\"], [0.1111111111111111, \"#46039f\"], [0.2222222222222222, \"#7201a8\"], [0.3333333333333333, \"#9c179e\"], [0.4444444444444444, \"#bd3786\"], [0.5555555555555556, \"#d8576b\"], [0.6666666666666666, \"#ed7953\"], [0.7777777777777778, \"#fb9f3a\"], [0.8888888888888888, \"#fdca26\"], [1.0, \"#f0f921\"]], \"type\": \"histogram2d\"}], \"histogram2dcontour\": [{\"colorbar\": {\"outlinewidth\": 0, \"ticks\": \"\"}, \"colorscale\": [[0.0, \"#0d0887\"], [0.1111111111111111, \"#46039f\"], [0.2222222222222222, \"#7201a8\"], [0.3333333333333333, \"#9c179e\"], [0.4444444444444444, \"#bd3786\"], [0.5555555555555556, \"#d8576b\"], [0.6666666666666666, \"#ed7953\"], [0.7777777777777778, \"#fb9f3a\"], [0.8888888888888888, \"#fdca26\"], [1.0, \"#f0f921\"]], \"type\": \"histogram2dcontour\"}], \"mesh3d\": [{\"colorbar\": {\"outlinewidth\": 0, \"ticks\": \"\"}, \"type\": \"mesh3d\"}], \"parcoords\": [{\"line\": {\"colorbar\": {\"outlinewidth\": 0, \"ticks\": \"\"}}, \"type\": \"parcoords\"}], \"pie\": [{\"automargin\": true, \"type\": \"pie\"}], \"scatter\": [{\"marker\": {\"colorbar\": {\"outlinewidth\": 0, \"ticks\": \"\"}}, \"type\": \"scatter\"}], \"scatter3d\": [{\"line\": {\"colorbar\": {\"outlinewidth\": 0, \"ticks\": \"\"}}, \"marker\": {\"colorbar\": {\"outlinewidth\": 0, \"ticks\": \"\"}}, \"type\": \"scatter3d\"}], \"scattercarpet\": [{\"marker\": {\"colorbar\": {\"outlinewidth\": 0, \"ticks\": \"\"}}, \"type\": \"scattercarpet\"}], \"scattergeo\": [{\"marker\": {\"colorbar\": {\"outlinewidth\": 0, \"ticks\": \"\"}}, \"type\": \"scattergeo\"}], \"scattergl\": [{\"marker\": {\"colorbar\": {\"outlinewidth\": 0, \"ticks\": \"\"}}, \"type\": \"scattergl\"}], \"scattermapbox\": [{\"marker\": {\"colorbar\": {\"outlinewidth\": 0, \"ticks\": \"\"}}, \"type\": \"scattermapbox\"}], \"scatterpolar\": [{\"marker\": {\"colorbar\": {\"outlinewidth\": 0, \"ticks\": \"\"}}, \"type\": \"scatterpolar\"}], \"scatterpolargl\": [{\"marker\": {\"colorbar\": {\"outlinewidth\": 0, \"ticks\": \"\"}}, \"type\": \"scatterpolargl\"}], \"scatterternary\": [{\"marker\": {\"colorbar\": {\"outlinewidth\": 0, \"ticks\": \"\"}}, \"type\": \"scatterternary\"}], \"surface\": [{\"colorbar\": {\"outlinewidth\": 0, \"ticks\": \"\"}, \"colorscale\": [[0.0, \"#0d0887\"], [0.1111111111111111, \"#46039f\"], [0.2222222222222222, \"#7201a8\"], [0.3333333333333333, \"#9c179e\"], [0.4444444444444444, \"#bd3786\"], [0.5555555555555556, \"#d8576b\"], [0.6666666666666666, \"#ed7953\"], [0.7777777777777778, \"#fb9f3a\"], [0.8888888888888888, \"#fdca26\"], [1.0, \"#f0f921\"]], \"type\": \"surface\"}], \"table\": [{\"cells\": {\"fill\": {\"color\": \"#EBF0F8\"}, \"line\": {\"color\": \"white\"}}, \"header\": {\"fill\": {\"color\": \"#C8D4E3\"}, \"line\": {\"color\": \"white\"}}, \"type\": \"table\"}]}, \"layout\": {\"annotationdefaults\": {\"arrowcolor\": \"#2a3f5f\", \"arrowhead\": 0, \"arrowwidth\": 1}, \"coloraxis\": {\"colorbar\": {\"outlinewidth\": 0, \"ticks\": \"\"}}, \"colorscale\": {\"diverging\": [[0, \"#8e0152\"], [0.1, \"#c51b7d\"], [0.2, \"#de77ae\"], [0.3, \"#f1b6da\"], [0.4, \"#fde0ef\"], [0.5, \"#f7f7f7\"], [0.6, \"#e6f5d0\"], [0.7, \"#b8e186\"], [0.8, \"#7fbc41\"], [0.9, \"#4d9221\"], [1, \"#276419\"]], \"sequential\": [[0.0, \"#0d0887\"], [0.1111111111111111, \"#46039f\"], [0.2222222222222222, \"#7201a8\"], [0.3333333333333333, \"#9c179e\"], [0.4444444444444444, \"#bd3786\"], [0.5555555555555556, \"#d8576b\"], [0.6666666666666666, \"#ed7953\"], [0.7777777777777778, \"#fb9f3a\"], [0.8888888888888888, \"#fdca26\"], [1.0, \"#f0f921\"]], \"sequentialminus\": [[0.0, \"#0d0887\"], [0.1111111111111111, \"#46039f\"], [0.2222222222222222, \"#7201a8\"], [0.3333333333333333, \"#9c179e\"], [0.4444444444444444, \"#bd3786\"], [0.5555555555555556, \"#d8576b\"], [0.6666666666666666, \"#ed7953\"], [0.7777777777777778, \"#fb9f3a\"], [0.8888888888888888, \"#fdca26\"], [1.0, \"#f0f921\"]]}, \"colorway\": [\"#636efa\", \"#EF553B\", \"#00cc96\", \"#ab63fa\", \"#FFA15A\", \"#19d3f3\", \"#FF6692\", \"#B6E880\", \"#FF97FF\", \"#FECB52\"], \"font\": {\"color\": \"#2a3f5f\"}, \"geo\": {\"bgcolor\": \"white\", \"lakecolor\": \"white\", \"landcolor\": \"#E5ECF6\", \"showlakes\": true, \"showland\": true, \"subunitcolor\": \"white\"}, \"hoverlabel\": {\"align\": \"left\"}, \"hovermode\": \"closest\", \"mapbox\": {\"style\": \"light\"}, \"paper_bgcolor\": \"white\", \"plot_bgcolor\": \"#E5ECF6\", \"polar\": {\"angularaxis\": {\"gridcolor\": \"white\", \"linecolor\": \"white\", \"ticks\": \"\"}, \"bgcolor\": \"#E5ECF6\", \"radialaxis\": {\"gridcolor\": \"white\", \"linecolor\": \"white\", \"ticks\": \"\"}}, \"scene\": {\"xaxis\": {\"backgroundcolor\": \"#E5ECF6\", \"gridcolor\": \"white\", \"gridwidth\": 2, \"linecolor\": \"white\", \"showbackground\": true, \"ticks\": \"\", \"zerolinecolor\": \"white\"}, \"yaxis\": {\"backgroundcolor\": \"#E5ECF6\", \"gridcolor\": \"white\", \"gridwidth\": 2, \"linecolor\": \"white\", \"showbackground\": true, \"ticks\": \"\", \"zerolinecolor\": \"white\"}, \"zaxis\": {\"backgroundcolor\": \"#E5ECF6\", \"gridcolor\": \"white\", \"gridwidth\": 2, \"linecolor\": \"white\", \"showbackground\": true, \"ticks\": \"\", \"zerolinecolor\": \"white\"}}, \"shapedefaults\": {\"line\": {\"color\": \"#2a3f5f\"}}, \"ternary\": {\"aaxis\": {\"gridcolor\": \"white\", \"linecolor\": \"white\", \"ticks\": \"\"}, \"baxis\": {\"gridcolor\": \"white\", \"linecolor\": \"white\", \"ticks\": \"\"}, \"bgcolor\": \"#E5ECF6\", \"caxis\": {\"gridcolor\": \"white\", \"linecolor\": \"white\", \"ticks\": \"\"}}, \"title\": {\"x\": 0.05}, \"xaxis\": {\"automargin\": true, \"gridcolor\": \"white\", \"linecolor\": \"white\", \"ticks\": \"\", \"title\": {\"standoff\": 15}, \"zerolinecolor\": \"white\", \"zerolinewidth\": 2}, \"yaxis\": {\"automargin\": true, \"gridcolor\": \"white\", \"linecolor\": \"white\", \"ticks\": \"\", \"title\": {\"standoff\": 15}, \"zerolinecolor\": \"white\", \"zerolinewidth\": 2}}}, \"title\": {\"text\": \"COVID-19 - Casos totais confirmados - 14-04-2020 \\n Escala Aritm\\u00e9tica\"}, \"xaxis\": {\"tickangle\": 0, \"tickfont\": {\"size\": 10}, \"title\": {\"text\": \"Dias desde o caso 50\"}}, \"yaxis\": {\"title\": {\"text\": \"Casos\"}}},\n",
              "                        {\"responsive\": true}\n",
              "                    ).then(function(){\n",
              "                            \n",
              "var gd = document.getElementById('4db6500c-7867-4261-b7a6-8a44e46764db');\n",
              "var x = new MutationObserver(function (mutations, observer) {{\n",
              "        var display = window.getComputedStyle(gd).display;\n",
              "        if (!display || display === 'none') {{\n",
              "            console.log([gd, 'removed!']);\n",
              "            Plotly.purge(gd);\n",
              "            observer.disconnect();\n",
              "        }}\n",
              "}});\n",
              "\n",
              "// Listen for the removal of the full notebook cells\n",
              "var notebookContainer = gd.closest('#notebook-container');\n",
              "if (notebookContainer) {{\n",
              "    x.observe(notebookContainer, {childList: true});\n",
              "}}\n",
              "\n",
              "// Listen for the clearing of the current output cell\n",
              "var outputEl = gd.closest('.output');\n",
              "if (outputEl) {{\n",
              "    x.observe(outputEl, {childList: true});\n",
              "}}\n",
              "\n",
              "                        })\n",
              "                };\n",
              "                \n",
              "            </script>\n",
              "        </div>\n",
              "</body>\n",
              "</html>"
            ]
          },
          "metadata": {
            "tags": []
          }
        }
      ]
    },
    {
      "cell_type": "code",
      "metadata": {
        "id": "Ue45S-poIFc7",
        "colab_type": "code",
        "outputId": "3b68298f-2d51-4418-fe4c-b6d8f0b43ef5",
        "colab": {
          "base_uri": "https://localhost:8080/",
          "height": 542
        }
      },
      "source": [
        "#hide_input\n",
        "import plotly.graph_objects as go\n",
        "fig.add_trace(go.Scatter(x=final_data['indice'][final_data['countriesAndTerritories']=='Brazil'], \n",
        "                         y=final_data['Cumulativo'][final_data['countriesAndTerritories']=='Brazil'], name='Brasil',line=dict(color='black', width=5)))\n",
        "fig.add_trace(go.Scatter(x=final_data['indice'][final_data['countriesAndTerritories']=='France'], \n",
        "                         y=final_data['Cumulativo'][final_data['countriesAndTerritories']=='France'], name='França',line=dict(color='red', width=2)))\n",
        "fig.add_trace(go.Scatter(x=final_data['indice'][final_data['countriesAndTerritories']=='Spain'], \n",
        "                         y=final_data['Cumulativo'][final_data['countriesAndTerritories']=='Spain'], name='Espanha',line=dict(color='blue', width=2)))\n",
        "fig.add_trace(go.Scatter(x=final_data['indice'][final_data['countriesAndTerritories']=='Italy'], \n",
        "                         y=final_data['Cumulativo'][final_data['countriesAndTerritories']=='Italy'], name='Itália',line=dict(color='green', width=2)))\n",
        "fig.add_trace(go.Scatter(x=final_data['indice'][final_data['countriesAndTerritories']=='United_Kingdom'], \n",
        "                         y=final_data['Cumulativo'][final_data['countriesAndTerritories']=='United_Kingdom'], name='Reino Unido',line=dict(color='yellowgreen', width=2)))\n",
        "fig.add_trace(go.Scatter(x=final_data['indice'][final_data['countriesAndTerritories']=='Argentina'], \n",
        "                         y=final_data['Cumulativo'][final_data['countriesAndTerritories']=='Argentina'],mode='lines', name='Argentina',line=dict(color='darkgreen', width=2)))\n",
        "fig.add_trace(go.Scatter(x=final_data['indice'][final_data['countriesAndTerritories']=='Germany'], \n",
        "                         y=final_data['Cumulativo'][final_data['countriesAndTerritories']=='Germany'], name='Alemanha',line=dict(color='darkslateblue', width=2)))\n",
        "fig.add_trace(go.Scatter(x=final_data['indice'][final_data['countriesAndTerritories']=='United_States_of_America'], \n",
        "                         y=final_data['Cumulativo'][final_data['countriesAndTerritories']=='United_States_of_America'], name='EUA',line=dict(color='mediumpurple', width=2)))\n",
        "fig.add_trace(go.Scatter(x=final_data['indice'][final_data['countriesAndTerritories']=='New_Zealand'], \n",
        "                         y=final_data['Cumulativo'][final_data['countriesAndTerritories']=='New_Zealand'], name='Nova Zelândia',line=dict(color='yellow', width=2)))\n",
        "\n",
        "\n",
        "fig.add_trace(go.Scatter(x=final_data['indice'][final_data['countriesAndTerritories']=='Czechia'], \n",
        "                         y=final_data['Cumulativo'][final_data['countriesAndTerritories']=='Czechia'],mode='lines', name='República Tcheca',line=dict(color='magenta', width=2)))\n",
        "fig.add_trace(go.Scatter(x=final_data['indice'][final_data['countriesAndTerritories']=='South_Korea'], \n",
        "                         y=final_data['Cumulativo'][final_data['countriesAndTerritories']=='South_Korea'], name='Coréia do Sul',line=dict(color='brown', width=2)))\n",
        "fig.add_trace(go.Scatter(x=final_data['indice'][final_data['countriesAndTerritories']=='Taiwan'], \n",
        "                         y=final_data['Cumulativo'][final_data['countriesAndTerritories']=='Taiwan'],mode='lines', name='Taiwan',line=dict(color='grey', width=2)))\n",
        "fig.add_trace(go.Scatter(x=final_data['indice'][final_data['countriesAndTerritories']=='Hong_Kong'], \n",
        "                         y=final_data['Cumulativo'][final_data['countriesAndTerritories']=='Hong_Kong'], name='Hong Kong',line=dict(color='lavenderblush', width=2)))\n",
        "fig.add_trace(go.Scatter(x=final_data['indice'][final_data['countriesAndTerritories']=='Japan'], \n",
        "                         y=final_data['Cumulativo'][final_data['countriesAndTerritories']=='Japan'], name='Japão',line=dict(color='pink', width=2)))\n",
        "fig.add_trace(go.Scatter(x=final_data['indice'][final_data['countriesAndTerritories']=='China'], \n",
        "                         y=final_data['Cumulativo'][final_data['countriesAndTerritories']=='China'], name='China',line=dict(color='lightgreen', width=2)))\n",
        "\n",
        "\n",
        "fig.update_xaxes(tickangle=0, tickfont=dict(size=10))\n",
        "\n",
        "fig.update_layout(title='COVID-19 - Casos totais confirmados - {} \\n Escala Logarítmica'.format(today),\n",
        "                   xaxis_title='Dias desde o caso 50',\n",
        "                   yaxis_title='Casos',yaxis_type=\"log\",legend= {'borderwidth':0,'orientation':'v','yanchor':'top','font':{'size':8}})"
      ],
      "execution_count": 18,
      "outputs": [
        {
          "output_type": "display_data",
          "data": {
            "text/html": [
              "<html>\n",
              "<head><meta charset=\"utf-8\" /></head>\n",
              "<body>\n",
              "    <div>\n",
              "            <script src=\"https://cdnjs.cloudflare.com/ajax/libs/mathjax/2.7.5/MathJax.js?config=TeX-AMS-MML_SVG\"></script><script type=\"text/javascript\">if (window.MathJax) {MathJax.Hub.Config({SVG: {font: \"STIX-Web\"}});}</script>\n",
              "                <script type=\"text/javascript\">window.PlotlyConfig = {MathJaxConfig: 'local'};</script>\n",
              "        <script src=\"https://cdn.plot.ly/plotly-latest.min.js\"></script>    \n",
              "            <div id=\"1ef5f56c-2780-41a3-82e1-cacb95d09b3e\" class=\"plotly-graph-div\" style=\"height:525px; width:100%;\"></div>\n",
              "            <script type=\"text/javascript\">\n",
              "                \n",
              "                    window.PLOTLYENV=window.PLOTLYENV || {};\n",
              "                    \n",
              "                if (document.getElementById(\"1ef5f56c-2780-41a3-82e1-cacb95d09b3e\")) {\n",
              "                    Plotly.newPlot(\n",
              "                        '1ef5f56c-2780-41a3-82e1-cacb95d09b3e',\n",
              "                        [{\"line\": {\"color\": \"black\", \"width\": 5}, \"name\": \"Brasil\", \"type\": \"scatter\", \"x\": [0, 1, 2, 3, 4, 5, 6, 7, 8, 9, 10, 11, 12, 13, 14, 15, 16, 17, 18, 19, 20, 21, 22, 23, 24, 25, 26, 27, 28, 29, 30, 31, 32, 33], \"y\": [52, 77, 98, 121, 200, 234, 291, 428, 621, 904, 1128, 1546, 1891, 2201, 2433, 2915, 3417, 3904, 4256, 4579, 5717, 6836, 7910, 9056, 10278, 11130, 12056, 13717, 15927, 17857, 19638, 20727, 22169, 23430]}, {\"line\": {\"color\": \"red\", \"width\": 2}, \"name\": \"Fran\\u00e7a\", \"type\": \"scatter\", \"x\": [0, 1, 2, 3, 4, 5, 6, 7, 8, 9, 10, 11, 12, 13, 14, 15, 16, 17, 18, 19, 20, 21, 22, 23, 24, 25, 26, 27, 28, 29, 30, 31, 32, 33, 34, 35, 36, 37, 38, 39, 40, 41, 42, 43, 44, 45], \"y\": [57, 100, 130, 178, 212, 285, 423, 613, 716, 1126, 1412, 1784, 2281, 2876, 3661, 4499, 5423, 6633, 7730, 9134, 10995, 12612, 14459, 16018, 19856, 22302, 25233, 29155, 32964, 37575, 40174, 44550, 52128, 56989, 59105, 64338, 68605, 70478, 74390, 78167, 82048, 86334, 90676, 93790, 95403, 98076]}, {\"line\": {\"color\": \"blue\", \"width\": 2}, \"name\": \"Espanha\", \"type\": \"scatter\", \"x\": [0, 1, 2, 3, 4, 5, 6, 7, 8, 9, 10, 11, 12, 13, 14, 15, 16, 17, 18, 19, 20, 21, 22, 23, 24, 25, 26, 27, 28, 29, 30, 31, 32, 33, 34, 35, 36, 37, 38, 39, 40, 41, 42, 43, 44], \"y\": [66, 83, 114, 151, 200, 261, 374, 430, 589, 1204, 1639, 2140, 3004, 4231, 5753, 7753, 9191, 11178, 13716, 17147, 19980, 24926, 28572, 33089, 39673, 47610, 56188, 64059, 72248, 78797, 85195, 94417, 102136, 110238, 117710, 124736, 130759, 135032, 140510, 146690, 152446, 157022, 161852, 166019, 169496]}, {\"line\": {\"color\": \"green\", \"width\": 2}, \"name\": \"It\\u00e1lia\", \"type\": \"scatter\", \"x\": [0, 1, 2, 3, 4, 5, 6, 7, 8, 9, 10, 11, 12, 13, 14, 15, 16, 17, 18, 19, 20, 21, 22, 23, 24, 25, 26, 27, 28, 29, 30, 31, 32, 33, 34, 35, 36, 37, 38, 39, 40, 41, 42, 43, 44, 45, 46, 47, 48, 49, 50, 51], \"y\": [79, 132, 229, 322, 400, 650, 888, 1128, 1689, 2036, 2502, 3089, 3858, 4636, 5883, 7375, 9172, 10149, 12462, 15113, 17660, 21157, 23980, 27980, 31506, 35713, 41035, 47021, 53578, 59138, 63927, 69176, 74386, 80539, 86498, 92472, 97689, 101739, 105792, 110574, 115242, 119827, 124632, 128948, 132547, 135586, 139422, 143626, 147577, 152271, 156363, 159516]}, {\"line\": {\"color\": \"yellowgreen\", \"width\": 2}, \"name\": \"Reino Unido\", \"type\": \"scatter\", \"x\": [0, 1, 2, 3, 4, 5, 6, 7, 8, 9, 10, 11, 12, 13, 14, 15, 16, 17, 18, 19, 20, 21, 22, 23, 24, 25, 26, 27, 28, 29, 30, 31, 32, 33, 34, 35, 36, 37, 38, 39, 40, 41], \"y\": [51, 85, 115, 163, 206, 273, 321, 373, 456, 590, 707, 1140, 1391, 1543, 1950, 2630, 3277, 3983, 5018, 5683, 6650, 8077, 9529, 11658, 14543, 17089, 19522, 22141, 25150, 29474, 33718, 38168, 41903, 47806, 51608, 55242, 60733, 65077, 70272, 78991, 84279, 88621]}, {\"line\": {\"color\": \"darkgreen\", \"width\": 2}, \"mode\": \"lines\", \"name\": \"Argentina\", \"type\": \"scatter\", \"x\": [0, 1, 2, 3, 4, 5, 6, 7, 8, 9, 10, 11, 12, 13, 14, 15, 16, 17, 18, 19, 20, 21, 22, 23, 24, 25, 26, 27, 28, 29], \"y\": [56, 65, 79, 97, 128, 158, 225, 266, 301, 387, 502, 589, 690, 745, 820, 966, 966, 1133, 1133, 1265, 1451, 1554, 1628, 1715, 1795, 1894, 1975, 2137, 2203, 2272]}, {\"line\": {\"color\": \"darkslateblue\", \"width\": 2}, \"name\": \"Alemanha\", \"type\": \"scatter\", \"x\": [0, 1, 2, 3, 4, 5, 6, 7, 8, 9, 10, 11, 12, 13, 14, 15, 16, 17, 18, 19, 20, 21, 22, 23, 24, 25, 26, 27, 28, 29, 30, 31, 32, 33, 34, 35, 36, 37, 38, 39, 40, 41, 42, 43, 44, 45], \"y\": [57, 111, 129, 157, 196, 262, 400, 684, 847, 902, 1139, 1296, 1567, 2369, 3062, 3795, 4838, 6012, 7156, 8198, 14138, 18187, 21463, 24774, 29212, 31554, 36508, 42288, 48582, 52547, 57298, 61913, 67366, 73522, 79696, 85778, 91714, 95391, 99225, 103228, 108202, 113525, 117658, 120479, 123016, 125098]}, {\"line\": {\"color\": \"mediumpurple\", \"width\": 2}, \"name\": \"EUA\", \"type\": \"scatter\", \"x\": [0, 1, 2, 3, 4, 5, 6, 7, 8, 9, 10, 11, 12, 13, 14, 15, 16, 17, 18, 19, 20, 21, 22, 23, 24, 25, 26, 27, 28, 29, 30, 31, 32, 33, 34, 35, 36, 37, 38, 39, 40, 41, 42, 43, 44, 45, 46, 47, 48, 49], \"y\": [53, 53, 59, 60, 66, 69, 89, 103, 125, 159, 233, 338, 433, 554, 754, 1025, 1312, 1663, 2174, 2951, 3774, 4661, 6427, 9415, 14250, 19624, 26747, 35206, 46442, 55231, 69194, 85991, 104686, 124665, 143025, 164620, 189618, 216721, 245540, 277965, 312237, 337635, 368196, 398809, 432132, 466033, 501560, 529951, 557571, 582594]}, {\"line\": {\"color\": \"yellow\", \"width\": 2}, \"name\": \"Nova Zel\\u00e2ndia\", \"type\": \"scatter\", \"x\": [0, 1, 2, 3, 4, 5, 6, 7, 8, 9, 10, 11, 12, 13, 14, 15, 16, 17, 18, 19, 20, 21, 22, 23, 24], \"y\": [53, 66, 102, 142, 189, 262, 338, 416, 476, 552, 647, 647, 723, 772, 824, 872, 911, 943, 969, 992, 1015, 1035, 1049, 1064, 1072]}, {\"line\": {\"color\": \"magenta\", \"width\": 2}, \"mode\": \"lines\", \"name\": \"Rep\\u00fablica Tcheca\", \"type\": \"scatter\", \"x\": [0, 1, 2, 3, 4, 5, 6, 7, 8, 9, 10, 11, 12, 13, 14, 15, 16, 17, 18, 19, 20, 21, 22, 23, 24, 25, 26, 27, 28, 29, 30, 31, 32, 33, 34], \"y\": [63, 94, 116, 150, 214, 298, 344, 434, 522, 694, 904, 995, 1165, 1236, 1394, 1654, 2062, 2279, 2663, 2829, 3002, 3308, 3589, 3858, 4190, 4472, 4587, 4822, 5017, 5312, 5569, 5732, 5902, 5991, 6059]}, {\"line\": {\"color\": \"brown\", \"width\": 2}, \"name\": \"Cor\\u00e9ia do Sul\", \"type\": \"scatter\", \"x\": [0, 1, 2, 3, 4, 5, 6, 7, 8, 9, 10, 11, 12, 13, 14, 15, 16, 17, 18, 19, 20, 21, 22, 23, 24, 25, 26, 27, 28, 29, 30, 31, 32, 33, 34, 35, 36, 37, 38, 39, 40, 41, 42, 43, 44, 45, 46, 47, 48, 49, 50, 51, 52, 53, 54], \"y\": [80, 155, 345, 601, 762, 892, 1146, 1595, 2022, 2931, 3526, 4212, 4812, 5328, 5766, 6284, 6767, 7134, 7382, 7513, 7755, 7869, 7979, 8086, 8162, 8236, 8320, 8413, 8565, 8652, 8799, 8897, 8961, 9037, 9137, 9241, 9332, 9478, 9583, 9661, 9786, 9786, 9976, 10062, 10156, 10237, 10284, 10331, 10384, 10423, 10450, 10450, 10512, 10537, 10564]}, {\"line\": {\"color\": \"grey\", \"width\": 2}, \"mode\": \"lines\", \"name\": \"Taiwan\", \"type\": \"scatter\", \"x\": [0, 1, 2, 3, 4, 5, 6, 7, 8, 9, 10, 11, 12, 13, 14, 15, 16, 17, 18, 19, 20, 21, 22, 23, 24, 25, 26, 27, 28, 29, 30, 31], \"y\": [53, 59, 59, 67, 77, 108, 108, 135, 153, 165, 195, 216, 235, 252, 267, 283, 306, 306, 322, 339, 339, 355, 363, 363, 373, 376, 379, 380, 380, 385, 388, 393]}, {\"line\": {\"color\": \"lavenderblush\", \"width\": 2}, \"name\": \"Hong Kong\", \"type\": \"scatter\", \"x\": [], \"y\": []}, {\"line\": {\"color\": \"pink\", \"width\": 2}, \"name\": \"Jap\\u00e3o\", \"type\": \"scatter\", \"x\": [0, 1, 2, 3, 4, 5, 6, 7, 8, 9, 10, 11, 12, 13, 14, 15, 16, 17, 18, 19, 20, 21, 22, 23, 24, 25, 26, 27, 28, 29, 30, 31, 32, 33, 34, 35, 36, 37, 38, 39, 40, 41, 42, 43, 44, 45, 46, 47, 48, 49, 50, 51, 52, 53, 54, 55, 56, 57, 58], \"y\": [52, 59, 59, 66, 84, 93, 105, 132, 144, 144, 164, 186, 210, 230, 239, 254, 254, 268, 317, 349, 408, 455, 488, 514, 568, 619, 675, 737, 780, 814, 824, 829, 873, 950, 1007, 1046, 1089, 1128, 1193, 1268, 1364, 1499, 1693, 1866, 1953, 1953, 2178, 2617, 2935, 3271, 3654, 3817, 3906, 4257, 4667, 5347, 6748, 7255, 7645]}, {\"line\": {\"color\": \"lightgreen\", \"width\": 2}, \"name\": \"China\", \"type\": \"scatter\", \"x\": [0, 1, 2, 3, 4, 5, 6, 7, 8, 9, 10, 11, 12, 13, 14, 15, 16, 17, 18, 19, 20, 21, 22, 23, 24, 25, 26, 27, 28, 29, 30, 31, 32, 33, 34, 35, 36, 37, 38, 39, 40, 41, 42, 43, 44, 45, 46, 47, 48, 49, 50, 51, 52, 53, 54, 55, 56, 57, 58, 59, 60, 61, 62, 63, 64, 65, 66, 67, 68, 69, 70, 71, 72, 73, 74, 75, 76, 77, 78, 79, 80, 81, 82, 83, 84, 85, 86, 87, 88, 89, 90, 91, 92, 93, 94, 95, 96, 97, 98, 99, 100], \"y\": [59, 59, 59, 59, 59, 59, 59, 59, 59, 59, 59, 59, 63, 80, 216, 235, 386, 526, 623, 882, 1323, 1988, 2775, 4528, 5994, 7734, 9714, 11809, 14399, 17211, 20448, 24320, 28047, 31207, 34625, 37232, 40206, 42696, 44724, 59865, 64021, 66559, 68566, 70618, 72508, 74258, 74652, 75543, 76369, 77016, 77234, 77749, 78159, 78598, 78927, 79355, 79929, 80134, 80261, 80380, 80497, 80667, 80768, 80814, 80859, 80879, 80908, 80932, 80954, 80973, 80995, 81020, 81063, 81086, 81130, 81229, 81281, 81346, 81484, 81553, 81631, 81733, 81827, 81946, 82059, 82157, 82241, 82295, 82395, 82465, 82527, 82575, 82642, 82698, 82784, 82870, 82925, 83004, 83097, 83209, 83303]}, {\"line\": {\"color\": \"black\", \"width\": 5}, \"name\": \"Brasil\", \"type\": \"scatter\", \"x\": [0, 1, 2, 3, 4, 5, 6, 7, 8, 9, 10, 11, 12, 13, 14, 15, 16, 17, 18, 19, 20, 21, 22, 23, 24, 25, 26, 27, 28, 29, 30, 31, 32, 33], \"y\": [52, 77, 98, 121, 200, 234, 291, 428, 621, 904, 1128, 1546, 1891, 2201, 2433, 2915, 3417, 3904, 4256, 4579, 5717, 6836, 7910, 9056, 10278, 11130, 12056, 13717, 15927, 17857, 19638, 20727, 22169, 23430]}, {\"line\": {\"color\": \"red\", \"width\": 2}, \"name\": \"Fran\\u00e7a\", \"type\": \"scatter\", \"x\": [0, 1, 2, 3, 4, 5, 6, 7, 8, 9, 10, 11, 12, 13, 14, 15, 16, 17, 18, 19, 20, 21, 22, 23, 24, 25, 26, 27, 28, 29, 30, 31, 32, 33, 34, 35, 36, 37, 38, 39, 40, 41, 42, 43, 44, 45], \"y\": [57, 100, 130, 178, 212, 285, 423, 613, 716, 1126, 1412, 1784, 2281, 2876, 3661, 4499, 5423, 6633, 7730, 9134, 10995, 12612, 14459, 16018, 19856, 22302, 25233, 29155, 32964, 37575, 40174, 44550, 52128, 56989, 59105, 64338, 68605, 70478, 74390, 78167, 82048, 86334, 90676, 93790, 95403, 98076]}, {\"line\": {\"color\": \"blue\", \"width\": 2}, \"name\": \"Espanha\", \"type\": \"scatter\", \"x\": [0, 1, 2, 3, 4, 5, 6, 7, 8, 9, 10, 11, 12, 13, 14, 15, 16, 17, 18, 19, 20, 21, 22, 23, 24, 25, 26, 27, 28, 29, 30, 31, 32, 33, 34, 35, 36, 37, 38, 39, 40, 41, 42, 43, 44], \"y\": [66, 83, 114, 151, 200, 261, 374, 430, 589, 1204, 1639, 2140, 3004, 4231, 5753, 7753, 9191, 11178, 13716, 17147, 19980, 24926, 28572, 33089, 39673, 47610, 56188, 64059, 72248, 78797, 85195, 94417, 102136, 110238, 117710, 124736, 130759, 135032, 140510, 146690, 152446, 157022, 161852, 166019, 169496]}, {\"line\": {\"color\": \"green\", \"width\": 2}, \"name\": \"It\\u00e1lia\", \"type\": \"scatter\", \"x\": [0, 1, 2, 3, 4, 5, 6, 7, 8, 9, 10, 11, 12, 13, 14, 15, 16, 17, 18, 19, 20, 21, 22, 23, 24, 25, 26, 27, 28, 29, 30, 31, 32, 33, 34, 35, 36, 37, 38, 39, 40, 41, 42, 43, 44, 45, 46, 47, 48, 49, 50, 51], \"y\": [79, 132, 229, 322, 400, 650, 888, 1128, 1689, 2036, 2502, 3089, 3858, 4636, 5883, 7375, 9172, 10149, 12462, 15113, 17660, 21157, 23980, 27980, 31506, 35713, 41035, 47021, 53578, 59138, 63927, 69176, 74386, 80539, 86498, 92472, 97689, 101739, 105792, 110574, 115242, 119827, 124632, 128948, 132547, 135586, 139422, 143626, 147577, 152271, 156363, 159516]}, {\"line\": {\"color\": \"yellowgreen\", \"width\": 2}, \"name\": \"Reino Unido\", \"type\": \"scatter\", \"x\": [0, 1, 2, 3, 4, 5, 6, 7, 8, 9, 10, 11, 12, 13, 14, 15, 16, 17, 18, 19, 20, 21, 22, 23, 24, 25, 26, 27, 28, 29, 30, 31, 32, 33, 34, 35, 36, 37, 38, 39, 40, 41], \"y\": [51, 85, 115, 163, 206, 273, 321, 373, 456, 590, 707, 1140, 1391, 1543, 1950, 2630, 3277, 3983, 5018, 5683, 6650, 8077, 9529, 11658, 14543, 17089, 19522, 22141, 25150, 29474, 33718, 38168, 41903, 47806, 51608, 55242, 60733, 65077, 70272, 78991, 84279, 88621]}, {\"line\": {\"color\": \"darkgreen\", \"width\": 2}, \"mode\": \"lines\", \"name\": \"Argentina\", \"type\": \"scatter\", \"x\": [0, 1, 2, 3, 4, 5, 6, 7, 8, 9, 10, 11, 12, 13, 14, 15, 16, 17, 18, 19, 20, 21, 22, 23, 24, 25, 26, 27, 28, 29], \"y\": [56, 65, 79, 97, 128, 158, 225, 266, 301, 387, 502, 589, 690, 745, 820, 966, 966, 1133, 1133, 1265, 1451, 1554, 1628, 1715, 1795, 1894, 1975, 2137, 2203, 2272]}, {\"line\": {\"color\": \"darkslateblue\", \"width\": 2}, \"name\": \"Alemanha\", \"type\": \"scatter\", \"x\": [0, 1, 2, 3, 4, 5, 6, 7, 8, 9, 10, 11, 12, 13, 14, 15, 16, 17, 18, 19, 20, 21, 22, 23, 24, 25, 26, 27, 28, 29, 30, 31, 32, 33, 34, 35, 36, 37, 38, 39, 40, 41, 42, 43, 44, 45], \"y\": [57, 111, 129, 157, 196, 262, 400, 684, 847, 902, 1139, 1296, 1567, 2369, 3062, 3795, 4838, 6012, 7156, 8198, 14138, 18187, 21463, 24774, 29212, 31554, 36508, 42288, 48582, 52547, 57298, 61913, 67366, 73522, 79696, 85778, 91714, 95391, 99225, 103228, 108202, 113525, 117658, 120479, 123016, 125098]}, {\"line\": {\"color\": \"mediumpurple\", \"width\": 2}, \"name\": \"EUA\", \"type\": \"scatter\", \"x\": [0, 1, 2, 3, 4, 5, 6, 7, 8, 9, 10, 11, 12, 13, 14, 15, 16, 17, 18, 19, 20, 21, 22, 23, 24, 25, 26, 27, 28, 29, 30, 31, 32, 33, 34, 35, 36, 37, 38, 39, 40, 41, 42, 43, 44, 45, 46, 47, 48, 49], \"y\": [53, 53, 59, 60, 66, 69, 89, 103, 125, 159, 233, 338, 433, 554, 754, 1025, 1312, 1663, 2174, 2951, 3774, 4661, 6427, 9415, 14250, 19624, 26747, 35206, 46442, 55231, 69194, 85991, 104686, 124665, 143025, 164620, 189618, 216721, 245540, 277965, 312237, 337635, 368196, 398809, 432132, 466033, 501560, 529951, 557571, 582594]}, {\"line\": {\"color\": \"yellow\", \"width\": 2}, \"name\": \"Nova Zel\\u00e2ndia\", \"type\": \"scatter\", \"x\": [0, 1, 2, 3, 4, 5, 6, 7, 8, 9, 10, 11, 12, 13, 14, 15, 16, 17, 18, 19, 20, 21, 22, 23, 24], \"y\": [53, 66, 102, 142, 189, 262, 338, 416, 476, 552, 647, 647, 723, 772, 824, 872, 911, 943, 969, 992, 1015, 1035, 1049, 1064, 1072]}, {\"line\": {\"color\": \"magenta\", \"width\": 2}, \"mode\": \"lines\", \"name\": \"Rep\\u00fablica Tcheca\", \"type\": \"scatter\", \"x\": [0, 1, 2, 3, 4, 5, 6, 7, 8, 9, 10, 11, 12, 13, 14, 15, 16, 17, 18, 19, 20, 21, 22, 23, 24, 25, 26, 27, 28, 29, 30, 31, 32, 33, 34], \"y\": [63, 94, 116, 150, 214, 298, 344, 434, 522, 694, 904, 995, 1165, 1236, 1394, 1654, 2062, 2279, 2663, 2829, 3002, 3308, 3589, 3858, 4190, 4472, 4587, 4822, 5017, 5312, 5569, 5732, 5902, 5991, 6059]}, {\"line\": {\"color\": \"brown\", \"width\": 2}, \"name\": \"Cor\\u00e9ia do Sul\", \"type\": \"scatter\", \"x\": [0, 1, 2, 3, 4, 5, 6, 7, 8, 9, 10, 11, 12, 13, 14, 15, 16, 17, 18, 19, 20, 21, 22, 23, 24, 25, 26, 27, 28, 29, 30, 31, 32, 33, 34, 35, 36, 37, 38, 39, 40, 41, 42, 43, 44, 45, 46, 47, 48, 49, 50, 51, 52, 53, 54], \"y\": [80, 155, 345, 601, 762, 892, 1146, 1595, 2022, 2931, 3526, 4212, 4812, 5328, 5766, 6284, 6767, 7134, 7382, 7513, 7755, 7869, 7979, 8086, 8162, 8236, 8320, 8413, 8565, 8652, 8799, 8897, 8961, 9037, 9137, 9241, 9332, 9478, 9583, 9661, 9786, 9786, 9976, 10062, 10156, 10237, 10284, 10331, 10384, 10423, 10450, 10450, 10512, 10537, 10564]}, {\"line\": {\"color\": \"grey\", \"width\": 2}, \"mode\": \"lines\", \"name\": \"Taiwan\", \"type\": \"scatter\", \"x\": [0, 1, 2, 3, 4, 5, 6, 7, 8, 9, 10, 11, 12, 13, 14, 15, 16, 17, 18, 19, 20, 21, 22, 23, 24, 25, 26, 27, 28, 29, 30, 31], \"y\": [53, 59, 59, 67, 77, 108, 108, 135, 153, 165, 195, 216, 235, 252, 267, 283, 306, 306, 322, 339, 339, 355, 363, 363, 373, 376, 379, 380, 380, 385, 388, 393]}, {\"line\": {\"color\": \"lavenderblush\", \"width\": 2}, \"name\": \"Hong Kong\", \"type\": \"scatter\", \"x\": [], \"y\": []}, {\"line\": {\"color\": \"pink\", \"width\": 2}, \"name\": \"Jap\\u00e3o\", \"type\": \"scatter\", \"x\": [0, 1, 2, 3, 4, 5, 6, 7, 8, 9, 10, 11, 12, 13, 14, 15, 16, 17, 18, 19, 20, 21, 22, 23, 24, 25, 26, 27, 28, 29, 30, 31, 32, 33, 34, 35, 36, 37, 38, 39, 40, 41, 42, 43, 44, 45, 46, 47, 48, 49, 50, 51, 52, 53, 54, 55, 56, 57, 58], \"y\": [52, 59, 59, 66, 84, 93, 105, 132, 144, 144, 164, 186, 210, 230, 239, 254, 254, 268, 317, 349, 408, 455, 488, 514, 568, 619, 675, 737, 780, 814, 824, 829, 873, 950, 1007, 1046, 1089, 1128, 1193, 1268, 1364, 1499, 1693, 1866, 1953, 1953, 2178, 2617, 2935, 3271, 3654, 3817, 3906, 4257, 4667, 5347, 6748, 7255, 7645]}, {\"line\": {\"color\": \"lightgreen\", \"width\": 2}, \"name\": \"China\", \"type\": \"scatter\", \"x\": [0, 1, 2, 3, 4, 5, 6, 7, 8, 9, 10, 11, 12, 13, 14, 15, 16, 17, 18, 19, 20, 21, 22, 23, 24, 25, 26, 27, 28, 29, 30, 31, 32, 33, 34, 35, 36, 37, 38, 39, 40, 41, 42, 43, 44, 45, 46, 47, 48, 49, 50, 51, 52, 53, 54, 55, 56, 57, 58, 59, 60, 61, 62, 63, 64, 65, 66, 67, 68, 69, 70, 71, 72, 73, 74, 75, 76, 77, 78, 79, 80, 81, 82, 83, 84, 85, 86, 87, 88, 89, 90, 91, 92, 93, 94, 95, 96, 97, 98, 99, 100], \"y\": [59, 59, 59, 59, 59, 59, 59, 59, 59, 59, 59, 59, 63, 80, 216, 235, 386, 526, 623, 882, 1323, 1988, 2775, 4528, 5994, 7734, 9714, 11809, 14399, 17211, 20448, 24320, 28047, 31207, 34625, 37232, 40206, 42696, 44724, 59865, 64021, 66559, 68566, 70618, 72508, 74258, 74652, 75543, 76369, 77016, 77234, 77749, 78159, 78598, 78927, 79355, 79929, 80134, 80261, 80380, 80497, 80667, 80768, 80814, 80859, 80879, 80908, 80932, 80954, 80973, 80995, 81020, 81063, 81086, 81130, 81229, 81281, 81346, 81484, 81553, 81631, 81733, 81827, 81946, 82059, 82157, 82241, 82295, 82395, 82465, 82527, 82575, 82642, 82698, 82784, 82870, 82925, 83004, 83097, 83209, 83303]}],\n",
              "                        {\"legend\": {\"borderwidth\": 0, \"font\": {\"size\": 8}, \"orientation\": \"v\", \"yanchor\": \"top\"}, \"template\": {\"data\": {\"bar\": [{\"error_x\": {\"color\": \"#2a3f5f\"}, \"error_y\": {\"color\": \"#2a3f5f\"}, \"marker\": {\"line\": {\"color\": \"#E5ECF6\", \"width\": 0.5}}, \"type\": \"bar\"}], \"barpolar\": [{\"marker\": {\"line\": {\"color\": \"#E5ECF6\", \"width\": 0.5}}, \"type\": \"barpolar\"}], \"carpet\": [{\"aaxis\": {\"endlinecolor\": \"#2a3f5f\", \"gridcolor\": \"white\", \"linecolor\": \"white\", \"minorgridcolor\": \"white\", \"startlinecolor\": \"#2a3f5f\"}, \"baxis\": {\"endlinecolor\": \"#2a3f5f\", \"gridcolor\": \"white\", \"linecolor\": \"white\", \"minorgridcolor\": \"white\", \"startlinecolor\": \"#2a3f5f\"}, \"type\": \"carpet\"}], \"choropleth\": [{\"colorbar\": {\"outlinewidth\": 0, \"ticks\": \"\"}, \"type\": \"choropleth\"}], \"contour\": [{\"colorbar\": {\"outlinewidth\": 0, \"ticks\": \"\"}, \"colorscale\": [[0.0, \"#0d0887\"], [0.1111111111111111, \"#46039f\"], [0.2222222222222222, \"#7201a8\"], [0.3333333333333333, \"#9c179e\"], [0.4444444444444444, \"#bd3786\"], [0.5555555555555556, \"#d8576b\"], [0.6666666666666666, \"#ed7953\"], [0.7777777777777778, \"#fb9f3a\"], [0.8888888888888888, \"#fdca26\"], [1.0, \"#f0f921\"]], \"type\": \"contour\"}], \"contourcarpet\": [{\"colorbar\": {\"outlinewidth\": 0, \"ticks\": \"\"}, \"type\": \"contourcarpet\"}], \"heatmap\": [{\"colorbar\": {\"outlinewidth\": 0, \"ticks\": \"\"}, \"colorscale\": [[0.0, \"#0d0887\"], [0.1111111111111111, \"#46039f\"], [0.2222222222222222, \"#7201a8\"], [0.3333333333333333, \"#9c179e\"], [0.4444444444444444, \"#bd3786\"], [0.5555555555555556, \"#d8576b\"], [0.6666666666666666, \"#ed7953\"], [0.7777777777777778, \"#fb9f3a\"], [0.8888888888888888, \"#fdca26\"], [1.0, \"#f0f921\"]], \"type\": \"heatmap\"}], \"heatmapgl\": [{\"colorbar\": {\"outlinewidth\": 0, \"ticks\": \"\"}, \"colorscale\": [[0.0, \"#0d0887\"], [0.1111111111111111, \"#46039f\"], [0.2222222222222222, \"#7201a8\"], [0.3333333333333333, \"#9c179e\"], [0.4444444444444444, \"#bd3786\"], [0.5555555555555556, \"#d8576b\"], [0.6666666666666666, \"#ed7953\"], [0.7777777777777778, \"#fb9f3a\"], [0.8888888888888888, \"#fdca26\"], [1.0, \"#f0f921\"]], \"type\": \"heatmapgl\"}], \"histogram\": [{\"marker\": {\"colorbar\": {\"outlinewidth\": 0, \"ticks\": \"\"}}, \"type\": \"histogram\"}], \"histogram2d\": [{\"colorbar\": {\"outlinewidth\": 0, \"ticks\": \"\"}, \"colorscale\": [[0.0, \"#0d0887\"], [0.1111111111111111, \"#46039f\"], [0.2222222222222222, \"#7201a8\"], [0.3333333333333333, \"#9c179e\"], [0.4444444444444444, \"#bd3786\"], [0.5555555555555556, \"#d8576b\"], [0.6666666666666666, \"#ed7953\"], [0.7777777777777778, \"#fb9f3a\"], [0.8888888888888888, \"#fdca26\"], [1.0, \"#f0f921\"]], \"type\": \"histogram2d\"}], \"histogram2dcontour\": [{\"colorbar\": {\"outlinewidth\": 0, \"ticks\": \"\"}, \"colorscale\": [[0.0, \"#0d0887\"], [0.1111111111111111, \"#46039f\"], [0.2222222222222222, \"#7201a8\"], [0.3333333333333333, \"#9c179e\"], [0.4444444444444444, \"#bd3786\"], [0.5555555555555556, \"#d8576b\"], [0.6666666666666666, \"#ed7953\"], [0.7777777777777778, \"#fb9f3a\"], [0.8888888888888888, \"#fdca26\"], [1.0, \"#f0f921\"]], \"type\": \"histogram2dcontour\"}], \"mesh3d\": [{\"colorbar\": {\"outlinewidth\": 0, \"ticks\": \"\"}, \"type\": \"mesh3d\"}], \"parcoords\": [{\"line\": {\"colorbar\": {\"outlinewidth\": 0, \"ticks\": \"\"}}, \"type\": \"parcoords\"}], \"pie\": [{\"automargin\": true, \"type\": \"pie\"}], \"scatter\": [{\"marker\": {\"colorbar\": {\"outlinewidth\": 0, \"ticks\": \"\"}}, \"type\": \"scatter\"}], \"scatter3d\": [{\"line\": {\"colorbar\": {\"outlinewidth\": 0, \"ticks\": \"\"}}, \"marker\": {\"colorbar\": {\"outlinewidth\": 0, \"ticks\": \"\"}}, \"type\": \"scatter3d\"}], \"scattercarpet\": [{\"marker\": {\"colorbar\": {\"outlinewidth\": 0, \"ticks\": \"\"}}, \"type\": \"scattercarpet\"}], \"scattergeo\": [{\"marker\": {\"colorbar\": {\"outlinewidth\": 0, \"ticks\": \"\"}}, \"type\": \"scattergeo\"}], \"scattergl\": [{\"marker\": {\"colorbar\": {\"outlinewidth\": 0, \"ticks\": \"\"}}, \"type\": \"scattergl\"}], \"scattermapbox\": [{\"marker\": {\"colorbar\": {\"outlinewidth\": 0, \"ticks\": \"\"}}, \"type\": \"scattermapbox\"}], \"scatterpolar\": [{\"marker\": {\"colorbar\": {\"outlinewidth\": 0, \"ticks\": \"\"}}, \"type\": \"scatterpolar\"}], \"scatterpolargl\": [{\"marker\": {\"colorbar\": {\"outlinewidth\": 0, \"ticks\": \"\"}}, \"type\": \"scatterpolargl\"}], \"scatterternary\": [{\"marker\": {\"colorbar\": {\"outlinewidth\": 0, \"ticks\": \"\"}}, \"type\": \"scatterternary\"}], \"surface\": [{\"colorbar\": {\"outlinewidth\": 0, \"ticks\": \"\"}, \"colorscale\": [[0.0, \"#0d0887\"], [0.1111111111111111, \"#46039f\"], [0.2222222222222222, \"#7201a8\"], [0.3333333333333333, \"#9c179e\"], [0.4444444444444444, \"#bd3786\"], [0.5555555555555556, \"#d8576b\"], [0.6666666666666666, \"#ed7953\"], [0.7777777777777778, \"#fb9f3a\"], [0.8888888888888888, \"#fdca26\"], [1.0, \"#f0f921\"]], \"type\": \"surface\"}], \"table\": [{\"cells\": {\"fill\": {\"color\": \"#EBF0F8\"}, \"line\": {\"color\": \"white\"}}, \"header\": {\"fill\": {\"color\": \"#C8D4E3\"}, \"line\": {\"color\": \"white\"}}, \"type\": \"table\"}]}, \"layout\": {\"annotationdefaults\": {\"arrowcolor\": \"#2a3f5f\", \"arrowhead\": 0, \"arrowwidth\": 1}, \"coloraxis\": {\"colorbar\": {\"outlinewidth\": 0, \"ticks\": \"\"}}, \"colorscale\": {\"diverging\": [[0, \"#8e0152\"], [0.1, \"#c51b7d\"], [0.2, \"#de77ae\"], [0.3, \"#f1b6da\"], [0.4, \"#fde0ef\"], [0.5, \"#f7f7f7\"], [0.6, \"#e6f5d0\"], [0.7, \"#b8e186\"], [0.8, \"#7fbc41\"], [0.9, \"#4d9221\"], [1, \"#276419\"]], \"sequential\": [[0.0, \"#0d0887\"], [0.1111111111111111, \"#46039f\"], [0.2222222222222222, \"#7201a8\"], [0.3333333333333333, \"#9c179e\"], [0.4444444444444444, \"#bd3786\"], [0.5555555555555556, \"#d8576b\"], [0.6666666666666666, \"#ed7953\"], [0.7777777777777778, \"#fb9f3a\"], [0.8888888888888888, \"#fdca26\"], [1.0, \"#f0f921\"]], \"sequentialminus\": [[0.0, \"#0d0887\"], [0.1111111111111111, \"#46039f\"], [0.2222222222222222, \"#7201a8\"], [0.3333333333333333, \"#9c179e\"], [0.4444444444444444, \"#bd3786\"], [0.5555555555555556, \"#d8576b\"], [0.6666666666666666, \"#ed7953\"], [0.7777777777777778, \"#fb9f3a\"], [0.8888888888888888, \"#fdca26\"], [1.0, \"#f0f921\"]]}, \"colorway\": [\"#636efa\", \"#EF553B\", \"#00cc96\", \"#ab63fa\", \"#FFA15A\", \"#19d3f3\", \"#FF6692\", \"#B6E880\", \"#FF97FF\", \"#FECB52\"], \"font\": {\"color\": \"#2a3f5f\"}, \"geo\": {\"bgcolor\": \"white\", \"lakecolor\": \"white\", \"landcolor\": \"#E5ECF6\", \"showlakes\": true, \"showland\": true, \"subunitcolor\": \"white\"}, \"hoverlabel\": {\"align\": \"left\"}, \"hovermode\": \"closest\", \"mapbox\": {\"style\": \"light\"}, \"paper_bgcolor\": \"white\", \"plot_bgcolor\": \"#E5ECF6\", \"polar\": {\"angularaxis\": {\"gridcolor\": \"white\", \"linecolor\": \"white\", \"ticks\": \"\"}, \"bgcolor\": \"#E5ECF6\", \"radialaxis\": {\"gridcolor\": \"white\", \"linecolor\": \"white\", \"ticks\": \"\"}}, \"scene\": {\"xaxis\": {\"backgroundcolor\": \"#E5ECF6\", \"gridcolor\": \"white\", \"gridwidth\": 2, \"linecolor\": \"white\", \"showbackground\": true, \"ticks\": \"\", \"zerolinecolor\": \"white\"}, \"yaxis\": {\"backgroundcolor\": \"#E5ECF6\", \"gridcolor\": \"white\", \"gridwidth\": 2, \"linecolor\": \"white\", \"showbackground\": true, \"ticks\": \"\", \"zerolinecolor\": \"white\"}, \"zaxis\": {\"backgroundcolor\": \"#E5ECF6\", \"gridcolor\": \"white\", \"gridwidth\": 2, \"linecolor\": \"white\", \"showbackground\": true, \"ticks\": \"\", \"zerolinecolor\": \"white\"}}, \"shapedefaults\": {\"line\": {\"color\": \"#2a3f5f\"}}, \"ternary\": {\"aaxis\": {\"gridcolor\": \"white\", \"linecolor\": \"white\", \"ticks\": \"\"}, \"baxis\": {\"gridcolor\": \"white\", \"linecolor\": \"white\", \"ticks\": \"\"}, \"bgcolor\": \"#E5ECF6\", \"caxis\": {\"gridcolor\": \"white\", \"linecolor\": \"white\", \"ticks\": \"\"}}, \"title\": {\"x\": 0.05}, \"xaxis\": {\"automargin\": true, \"gridcolor\": \"white\", \"linecolor\": \"white\", \"ticks\": \"\", \"title\": {\"standoff\": 15}, \"zerolinecolor\": \"white\", \"zerolinewidth\": 2}, \"yaxis\": {\"automargin\": true, \"gridcolor\": \"white\", \"linecolor\": \"white\", \"ticks\": \"\", \"title\": {\"standoff\": 15}, \"zerolinecolor\": \"white\", \"zerolinewidth\": 2}}}, \"title\": {\"text\": \"COVID-19 - Casos totais confirmados - 14-04-2020 \\n Escala Logar\\u00edtmica\"}, \"xaxis\": {\"tickangle\": 0, \"tickfont\": {\"size\": 10}, \"title\": {\"text\": \"Dias desde o caso 50\"}}, \"yaxis\": {\"title\": {\"text\": \"Casos\"}, \"type\": \"log\"}},\n",
              "                        {\"responsive\": true}\n",
              "                    ).then(function(){\n",
              "                            \n",
              "var gd = document.getElementById('1ef5f56c-2780-41a3-82e1-cacb95d09b3e');\n",
              "var x = new MutationObserver(function (mutations, observer) {{\n",
              "        var display = window.getComputedStyle(gd).display;\n",
              "        if (!display || display === 'none') {{\n",
              "            console.log([gd, 'removed!']);\n",
              "            Plotly.purge(gd);\n",
              "            observer.disconnect();\n",
              "        }}\n",
              "}});\n",
              "\n",
              "// Listen for the removal of the full notebook cells\n",
              "var notebookContainer = gd.closest('#notebook-container');\n",
              "if (notebookContainer) {{\n",
              "    x.observe(notebookContainer, {childList: true});\n",
              "}}\n",
              "\n",
              "// Listen for the clearing of the current output cell\n",
              "var outputEl = gd.closest('.output');\n",
              "if (outputEl) {{\n",
              "    x.observe(outputEl, {childList: true});\n",
              "}}\n",
              "\n",
              "                        })\n",
              "                };\n",
              "                \n",
              "            </script>\n",
              "        </div>\n",
              "</body>\n",
              "</html>"
            ]
          },
          "metadata": {
            "tags": []
          }
        }
      ]
    },
    {
      "cell_type": "markdown",
      "metadata": {
        "id": "1pR_Low5TqS9",
        "colab_type": "text"
      },
      "source": [
        "<center> <h2> Contaminação Relativa </h2> </center>\n",
        "\n"
      ]
    },
    {
      "cell_type": "markdown",
      "metadata": {
        "id": "BGsl_L9-sQJl",
        "colab_type": "text"
      },
      "source": [
        "Essa seção conta com gráficos em que o número de casos é dívidido pela população dos países para que se tenha uma ideia da proporção de infectados por país."
      ]
    },
    {
      "cell_type": "code",
      "metadata": {
        "id": "f6Sr9rqjIX0p",
        "colab_type": "code",
        "outputId": "5c47514f-9baa-4a7e-c75b-bef8c44e1009",
        "colab": {
          "base_uri": "https://localhost:8080/",
          "height": 542
        }
      },
      "source": [
        "#hide_input\n",
        "import plotly.graph_objects as go\n",
        "fig = go.Figure()\n",
        "fig.add_trace(go.Scatter(x=final_data['indice'][final_data['countriesAndTerritories']=='Brazil'], \n",
        "                         y=final_data['relativa'][final_data['countriesAndTerritories']=='Brazil'], name='Brasil',line=dict(color='black', width=5)))\n",
        "fig.add_trace(go.Scatter(x=final_data['indice'][final_data['countriesAndTerritories']=='France'], \n",
        "                         y=final_data['relativa'][final_data['countriesAndTerritories']=='France'], name='França',line=dict(color='red', width=2)))\n",
        "fig.add_trace(go.Scatter(x=final_data['indice'][final_data['countriesAndTerritories']=='Spain'], \n",
        "                         y=final_data['relativa'][final_data['countriesAndTerritories']=='Spain'], name='Espanha',line=dict(color='blue', width=2)))\n",
        "fig.add_trace(go.Scatter(x=final_data['indice'][final_data['countriesAndTerritories']=='Italy'], \n",
        "                         y=final_data['relativa'][final_data['countriesAndTerritories']=='Italy'], name='Itália',line=dict(color='green', width=2)))\n",
        "fig.add_trace(go.Scatter(x=final_data['indice'][final_data['countriesAndTerritories']=='United_Kingdom'], \n",
        "                         y=final_data['relativa'][final_data['countriesAndTerritories']=='United_Kingdom'], name='Reino Unido',line=dict(color='yellowgreen', width=2)))\n",
        "fig.add_trace(go.Scatter(x=final_data['indice'][final_data['countriesAndTerritories']=='Argentina'], \n",
        "                         y=final_data['relativa'][final_data['countriesAndTerritories']=='Argentina'],mode='lines', name='Argentina',line=dict(color='darkgreen', width=2)))\n",
        "fig.add_trace(go.Scatter(x=final_data['indice'][final_data['countriesAndTerritories']=='Germany'], \n",
        "                         y=final_data['relativa'][final_data['countriesAndTerritories']=='Germany'], name='Alemanha',line=dict(color='darkslateblue', width=2)))\n",
        "fig.add_trace(go.Scatter(x=final_data['indice'][final_data['countriesAndTerritories']=='United_States_of_America'], \n",
        "                         y=final_data['relativa'][final_data['countriesAndTerritories']=='United_States_of_America'], name='EUA',line=dict(color='mediumpurple', width=2)))\n",
        "fig.add_trace(go.Scatter(x=final_data['indice'][final_data['countriesAndTerritories']=='New_Zealand'], \n",
        "                         y=final_data['relativa'][final_data['countriesAndTerritories']=='New_Zealand'], name='Nova Zelândia',line=dict(color='yellow', width=2)))\n",
        "\n",
        "\n",
        "fig.add_trace(go.Scatter(x=final_data['indice'][final_data['countriesAndTerritories']=='Czechia'], \n",
        "                         y=final_data['relativa'][final_data['countriesAndTerritories']=='Czechia'],mode='lines', name='República Tcheca',line=dict(color='magenta', width=2)))\n",
        "fig.add_trace(go.Scatter(x=final_data['indice'][final_data['countriesAndTerritories']=='South_Korea'], \n",
        "                         y=final_data['relativa'][final_data['countriesAndTerritories']=='South_Korea'], name='Coréia do Sul',line=dict(color='brown', width=2)))\n",
        "fig.add_trace(go.Scatter(x=final_data['indice'][final_data['countriesAndTerritories']=='Taiwan'], \n",
        "                         y=final_data['relativa'][final_data['countriesAndTerritories']=='Taiwan'],mode='lines', name='Taiwan',line=dict(color='grey', width=2)))\n",
        "fig.add_trace(go.Scatter(x=final_data['indice'][final_data['countriesAndTerritories']=='Hong_Kong'], \n",
        "                         y=final_data['relativa'][final_data['countriesAndTerritories']=='Hong_Kong'], name='Hong Kong',line=dict(color='lavenderblush', width=2)))\n",
        "fig.add_trace(go.Scatter(x=final_data['indice'][final_data['countriesAndTerritories']=='Japan'], \n",
        "                         y=final_data['relativa'][final_data['countriesAndTerritories']=='Japan'], name='Japão',line=dict(color='pink', width=2)))\n",
        "fig.add_trace(go.Scatter(x=final_data['indice'][final_data['countriesAndTerritories']=='China'], \n",
        "                         y=final_data['relativa'][final_data['countriesAndTerritories']=='China'], name='China',line=dict(color='lightgreen', width=2)))\n",
        "\n",
        "\n",
        "fig.update_xaxes(tickangle=0, tickfont=dict(size=10))\n",
        "\n",
        "fig.update_layout(title='COVID-19 - Contaminação relativa  {} \\nCasos a cada 10 mil habitantes - E. Aritmética' .format(today),\n",
        "                   xaxis_title='Dias desde o caso 50',\n",
        "                   yaxis_title='Casos a cada 10000 hab.',legend= {'borderwidth':0,'orientation':'v','yanchor':'top','font':{'size':8}})"
      ],
      "execution_count": 19,
      "outputs": [
        {
          "output_type": "display_data",
          "data": {
            "text/html": [
              "<html>\n",
              "<head><meta charset=\"utf-8\" /></head>\n",
              "<body>\n",
              "    <div>\n",
              "            <script src=\"https://cdnjs.cloudflare.com/ajax/libs/mathjax/2.7.5/MathJax.js?config=TeX-AMS-MML_SVG\"></script><script type=\"text/javascript\">if (window.MathJax) {MathJax.Hub.Config({SVG: {font: \"STIX-Web\"}});}</script>\n",
              "                <script type=\"text/javascript\">window.PlotlyConfig = {MathJaxConfig: 'local'};</script>\n",
              "        <script src=\"https://cdn.plot.ly/plotly-latest.min.js\"></script>    \n",
              "            <div id=\"36f74a33-c243-4a4b-90bc-0743e1ba66e4\" class=\"plotly-graph-div\" style=\"height:525px; width:100%;\"></div>\n",
              "            <script type=\"text/javascript\">\n",
              "                \n",
              "                    window.PLOTLYENV=window.PLOTLYENV || {};\n",
              "                    \n",
              "                if (document.getElementById(\"36f74a33-c243-4a4b-90bc-0743e1ba66e4\")) {\n",
              "                    Plotly.newPlot(\n",
              "                        '36f74a33-c243-4a4b-90bc-0743e1ba66e4',\n",
              "                        [{\"line\": {\"color\": \"black\", \"width\": 5}, \"name\": \"Brasil\", \"type\": \"scatter\", \"x\": [0, 1, 2, 3, 4, 5, 6, 7, 8, 9, 10, 11, 12, 13, 14, 15, 16, 17, 18, 19, 20, 21, 22, 23, 24, 25, 26, 27, 28, 29, 30, 31, 32, 33], \"y\": [0.0024824636263103966, 0.003675955754344241, 0.0046784891418926704, 0.005776501899683807, 0.009547937024270755, 0.011171086318396785, 0.01389224837031395, 0.02043258523193942, 0.0296463444603607, 0.04315667534970381, 0.05385036481688706, 0.07380555319761294, 0.09027574456448, 0.10507504695209967, 0.11615065390025374, 0.13916118212874626, 0.16312650405966586, 0.18637573071376515, 0.20318009987648167, 0.21860001817067898, 0.2729277798387795, 0.3263484874895744, 0.37762090930990844, 0.4323305884589798, 0.49066848367727417, 0.5313426954006676, 0.5755496438230412, 0.6548452608096098, 0.7603499649278016, 0.8524875572120144, 0.9375119364131455, 0.9895004535102997, 1.0583410794552919, 1.118540822393319]}, {\"line\": {\"color\": \"red\", \"width\": 2}, \"name\": \"Fran\\u00e7a\", \"type\": \"scatter\", \"x\": [0, 1, 2, 3, 4, 5, 6, 7, 8, 9, 10, 11, 12, 13, 14, 15, 16, 17, 18, 19, 20, 21, 22, 23, 24, 25, 26, 27, 28, 29, 30, 31, 32, 33, 34, 35, 36, 37, 38, 39, 40, 41, 42, 43, 44, 45], \"y\": [0.008509082714314982, 0.014928215288271898, 0.019406679874753467, 0.026572223213123976, 0.031647816411136426, 0.04254541357157491, 0.06314635066939013, 0.09150995971710674, 0.10688602146402679, 0.16809170414594157, 0.21078639987039918, 0.2663193607427707, 0.340512590725482, 0.4293354716906998, 0.5465219617036342, 0.6716204058193527, 0.809557115082985, 0.990188520071075, 1.1539510417834178, 1.3635431844307553, 1.641357270945495, 1.8827465121568518, 2.158470648531234, 2.3912015248753926, 2.9641464276392684, 3.3292905735903986, 3.7668365636896484, 4.352321167295672, 4.920936887625949, 5.609276894568167, 5.997261209910352, 6.650519910925131, 7.781780065470376, 8.507440610633273, 8.823321646133106, 9.604515152168373, 10.241502098518936, 10.521107570868269, 11.105099352945464, 11.668938044383495, 12.248302079721327, 12.88812538697666, 13.536308494793428, 14.001173118870215, 14.24196523147004, 14.640996426125547]}, {\"line\": {\"color\": \"blue\", \"width\": 2}, \"name\": \"Espanha\", \"type\": \"scatter\", \"x\": [0, 1, 2, 3, 4, 5, 6, 7, 8, 9, 10, 11, 12, 13, 14, 15, 16, 17, 18, 19, 20, 21, 22, 23, 24, 25, 26, 27, 28, 29, 30, 31, 32, 33, 34, 35, 36, 37, 38, 39, 40, 41, 42, 43, 44], \"y\": [0.01412557883572228, 0.017763985505529534, 0.02439872707988394, 0.03231761218475855, 0.04280478435067357, 0.05586024357762901, 0.08004494673575957, 0.09203028635394818, 0.12606008991273368, 0.2576848017910549, 0.3507852077537699, 0.4580111925522072, 0.6429278609471171, 0.9055352129384995, 1.2312796218471251, 1.6593274653538612, 1.967093864835204, 2.392359397359146, 2.9355521107691938, 3.669868186304999, 4.27619795663229, 5.334760273624448, 6.115091492337227, 7.08183754689719, 8.490971047721363, 10.189678914677843, 12.025576115478234, 13.710158403598992, 15.46280029883732, 16.86444296240013, 18.233768013778175, 20.207496620187733, 21.85954727220198, 23.593569086247765, 25.19275582958893, 26.696487903828093, 27.985553984548627, 28.900078202200767, 30.07250124556572, 31.395169082001534, 32.627090775613915, 33.606464241557326, 34.640199783626095, 35.53203746557238, 36.27619864150884]}, {\"line\": {\"color\": \"green\", \"width\": 2}, \"name\": \"It\\u00e1lia\", \"type\": \"scatter\", \"x\": [0, 1, 2, 3, 4, 5, 6, 7, 8, 9, 10, 11, 12, 13, 14, 15, 16, 17, 18, 19, 20, 21, 22, 23, 24, 25, 26, 27, 28, 29, 30, 31, 32, 33, 34, 35, 36, 37, 38, 39, 40, 41, 42, 43, 44, 45, 46, 47, 48, 49, 50, 51], \"y\": [0.013072699449389482, 0.021842991485055845, 0.03789428068240749, 0.05328366104687865, 0.06619088328804801, 0.10756018534307801, 0.1469437608994666, 0.1866582908722954, 0.27949100468378274, 0.3369115959361644, 0.4140239749667403, 0.5111590961919508, 0.638411069313223, 0.7671523373084765, 0.9735024159589661, 1.2203944106233853, 1.517756953794941, 1.6794281862259983, 2.0621769688391356, 2.500857047830674, 2.9223274971673194, 3.5010012943130797, 3.9681434531184787, 4.630052285998959, 5.213524922183102, 5.909687537165146, 6.790357239312625, 7.780903807718264, 8.865937862017592, 9.785991139721459, 10.578461489887614, 11.447051355835024, 12.309187610661848, 13.327368872840246, 14.313447556623942, 15.30200839853094, 16.165302993815306, 16.835485687106793, 17.506164812022938, 18.297476821731554, 19.06992442970307, 19.828637429392323, 20.62375541489, 21.337955045568037, 21.93350751795225, 22.436392753733195, 23.071163324465573, 23.76682950782296, 24.420629957500655, 25.197379972885894, 25.874512708922627, 26.39626234644067]}, {\"line\": {\"color\": \"yellowgreen\", \"width\": 2}, \"name\": \"Reino Unido\", \"type\": \"scatter\", \"x\": [0, 1, 2, 3, 4, 5, 6, 7, 8, 9, 10, 11, 12, 13, 14, 15, 16, 17, 18, 19, 20, 21, 22, 23, 24, 25, 26, 27, 28, 29, 30, 31, 32, 33, 34, 35, 36, 37, 38, 39, 40, 41], \"y\": [0.007670442765479777, 0.012784071275799629, 0.0172960964319642, 0.024515336681827524, 0.030982572738996746, 0.04105942892109763, 0.04827866917096095, 0.05609951277497954, 0.06858278237370154, 0.08873649473790331, 0.10633339284694515, 0.17145695593425384, 0.20920756640749746, 0.23206849386539796, 0.29328163515069733, 0.39555420535709435, 0.4928635478917104, 0.5990465399001167, 0.7547114077877946, 0.8547279654161092, 1.0001655762831474, 1.2147875728780424, 1.4331695904364077, 1.7533729756855538, 2.187279394870047, 2.5701999297898803, 2.9361251699548276, 3.330024966087995, 3.782581089251302, 4.432914315093156, 5.071215473851905, 5.74049920534965, 6.302246337292139, 7.190062487186789, 7.761886475311379, 8.308443122561448, 9.134294126978103, 9.787635369590735, 10.568967725799899, 11.880312637019864, 12.67563227121314, 13.328672712148693]}, {\"line\": {\"color\": \"darkgreen\", \"width\": 2}, \"mode\": \"lines\", \"name\": \"Argentina\", \"type\": \"scatter\", \"x\": [0, 1, 2, 3, 4, 5, 6, 7, 8, 9, 10, 11, 12, 13, 14, 15, 16, 17, 18, 19, 20, 21, 22, 23, 24, 25, 26, 27, 28, 29], \"y\": [0.012585824648627375, 0.014608546467156773, 0.017755002629313617, 0.02180044626637242, 0.02876759919686257, 0.035510005258627235, 0.050568045463234984, 0.059782667080980026, 0.06764880748637214, 0.08697703819676417, 0.11282292810019538, 0.1323759056793129, 0.1550753394205873, 0.16743641720048918, 0.18429243235490084, 0.2171054751888222, 0.2171054751888222, 0.25463820226597883, 0.25463820226597883, 0.28430478893774336, 0.32610770652068427, 0.3492566339994096, 0.36588790228509577, 0.3854408798642133, 0.4034206293622524, 0.42567056936607583, 0.44387506573284047, 0.48028405846636957, 0.4951173518022519, 0.5106248857443106]}, {\"line\": {\"color\": \"darkslateblue\", \"width\": 2}, \"name\": \"Alemanha\", \"type\": \"scatter\", \"x\": [0, 1, 2, 3, 4, 5, 6, 7, 8, 9, 10, 11, 12, 13, 14, 15, 16, 17, 18, 19, 20, 21, 22, 23, 24, 25, 26, 27, 28, 29, 30, 31, 32, 33, 34, 35, 36, 37, 38, 39, 40, 41, 42, 43, 44, 45], \"y\": [0.006873438840056791, 0.013385117741163223, 0.015555677374865367, 0.01893210347173537, 0.023634982678090017, 0.03159370133499788, 0.04823465852671432, 0.08248126608068149, 0.10213688943031757, 0.10876915497774078, 0.13734819015481903, 0.15628029362655438, 0.18895927477840335, 0.28566976512446557, 0.3692363110219981, 0.4576263227722021, 0.5833981948806097, 0.7249669176565161, 0.8629180410429191, 0.98856932650501, 1.7048540056267176, 2.1931093365633836, 2.5881511898971734, 2.9874135758520515, 3.5225771122059464, 3.8049910378798595, 4.402377283733216, 5.099368099444238, 5.858340451362088, 6.336466504008143, 6.909373660659193, 7.465881033411159, 8.123440015776593, 8.865771410502726, 9.610273364862561, 10.343681347761253, 11.059483680297692, 11.502880778804514, 11.96520998078307, 12.447918325989166, 13.047716304768857, 13.689599023113109, 14.187983632340384, 14.528158561600037, 14.834086883305721, 15.085148280937268]}, {\"line\": {\"color\": \"mediumpurple\", \"width\": 2}, \"name\": \"EUA\", \"type\": \"scatter\", \"x\": [0, 1, 2, 3, 4, 5, 6, 7, 8, 9, 10, 11, 12, 13, 14, 15, 16, 17, 18, 19, 20, 21, 22, 23, 24, 25, 26, 27, 28, 29, 30, 31, 32, 33, 34, 35, 36, 37, 38, 39, 40, 41, 42, 43, 44, 45, 46, 47, 48, 49], \"y\": [0.0016199656350882404, 0.0016199656350882404, 0.0018033579711359657, 0.0018339233604772534, 0.0020173156965249787, 0.0021090118645488414, 0.002720319651374593, 0.003148235102152618, 0.0038206736676609445, 0.0048598969052647215, 0.007121735716520001, 0.010331101597355194, 0.013234813584777513, 0.016933225695073304, 0.023046303563330817, 0.031329524074819745, 0.04010179081576928, 0.0508302424745612, 0.06644915642795915, 0.09019846394613958, 0.11535377937401924, 0.1424652797197413, 0.19644375729645513, 0.28777314064822235, 0.4355567981133477, 0.599815200433427, 0.8175324687114183, 1.0760850971493696, 1.4195178117880767, 1.688157018708653, 2.1149415500810513, 2.6283483948466584, 3.1997683485820287, 3.810434262231613, 4.371614810537653, 5.031674393362758, 5.795747996116264, 6.624161743433181, 7.505025698859747, 8.496108448250995, 9.543645471755603, 10.319945230245622, 11.254054093904713, 12.189752357809548, 13.208282826829274, 14.244480090888263, 15.330376678016187, 16.198158646804682, 17.042374700411045, 17.807212437898084]}, {\"line\": {\"color\": \"yellow\", \"width\": 2}, \"name\": \"Nova Zel\\u00e2ndia\", \"type\": \"scatter\", \"x\": [0, 1, 2, 3, 4, 5, 6, 7, 8, 9, 10, 11, 12, 13, 14, 15, 16, 17, 18, 19, 20, 21, 22, 23, 24], \"y\": [0.10848429024664824, 0.13509364445809027, 0.20878108688977587, 0.2906560229249821, 0.3868590727663494, 0.5362808310306008, 0.6918432094974926, 0.8514993347661447, 0.974311738818954, 1.1298741172858457, 1.3243270903694606, 1.3243270903694606, 1.4798894688363524, 1.5801862654794803, 1.6866236823252483, 1.7848736055674956, 1.8647016682018218, 1.9302016170299867, 1.9834203254528708, 2.030498413673114, 2.0775765018933576, 2.118513969910961, 2.147170197523283, 2.1778732985364853, 2.1942482857435266]}, {\"line\": {\"color\": \"magenta\", \"width\": 2}, \"mode\": \"lines\", \"name\": \"Rep\\u00fablica Tcheca\", \"type\": \"scatter\", \"x\": [0, 1, 2, 3, 4, 5, 6, 7, 8, 9, 10, 11, 12, 13, 14, 15, 16, 17, 18, 19, 20, 21, 22, 23, 24, 25, 26, 27, 28, 29, 30, 31, 32, 33, 34], \"y\": [0.059290239367871936, 0.08846480159650733, 0.10916932962973247, 0.14116723659017127, 0.20139859086864437, 0.28045224335914026, 0.3237435292467928, 0.40844387120089554, 0.49126198333379606, 0.6531337479571925, 0.8507678791834322, 0.9364093360481363, 1.0963988708503303, 1.1632180295030115, 1.3119141853779919, 1.5566040621342887, 1.9405789456595544, 2.1448008812600023, 2.506189006930841, 2.6624140820906304, 2.825226961624628, 3.1132081242685774, 3.377661414147498, 3.6308213250992054, 3.9432714754187845, 4.208665880208306, 4.316894094927438, 4.538056098918706, 4.721573506485929, 4.999202405113265, 5.24106893713776, 5.394470667565745, 5.554460202367939, 5.638219429411441, 5.7022152433323186]}, {\"line\": {\"color\": \"brown\", \"width\": 2}, \"name\": \"Cor\\u00e9ia do Sul\", \"type\": \"scatter\", \"x\": [0, 1, 2, 3, 4, 5, 6, 7, 8, 9, 10, 11, 12, 13, 14, 15, 16, 17, 18, 19, 20, 21, 22, 23, 24, 25, 26, 27, 28, 29, 30, 31, 32, 33, 34, 35, 36, 37, 38, 39, 40, 41, 42, 43, 44, 45, 46, 47, 48, 49, 50, 51, 52, 53, 54], \"y\": [0.015493290088462038, 0.0300182495463952, 0.06681481350649254, 0.11639334178957106, 0.1475735880926009, 0.17275018448635174, 0.2219413805172187, 0.3088974711387119, 0.391592906985878, 0.5676354156160279, 0.6828667606489643, 0.8157217231575263, 0.9319213988209916, 1.0318531198915717, 1.1166788831259014, 1.2169979364486931, 1.3105386753577828, 1.3816141436386022, 1.4296433429128346, 1.4550136054326912, 1.501880807950289, 1.5239587463263473, 1.5452620201979825, 1.5659842956913006, 1.5807029212753394, 1.595034214607167, 1.611302169200052, 1.629313118927889, 1.658750370095967, 1.6755993230671695, 1.7040682436047185, 1.7230475239630845, 1.735442156033854, 1.750160781617893, 1.7695273942284706, 1.7896686713434713, 1.8072922888190968, 1.83556754323054, 1.8559024864716465, 1.871008444307897, 1.8952167100711188, 1.8952167100711188, 1.9320132740312161, 1.9486685608763128, 1.9668731767302559, 1.9825601329448235, 1.9916624408717951, 2.0007647487987663, 2.0110290534823725, 2.0185820324004977, 2.023811017805354, 2.023811017805354, 2.035818317623912, 2.0406599707765563, 2.045888956181412]}, {\"line\": {\"color\": \"grey\", \"width\": 2}, \"mode\": \"lines\", \"name\": \"Taiwan\", \"type\": \"scatter\", \"x\": [0, 1, 2, 3, 4, 5, 6, 7, 8, 9, 10, 11, 12, 13, 14, 15, 16, 17, 18, 19, 20, 21, 22, 23, 24, 25, 26, 27, 28, 29, 30, 31], \"y\": [0.022287213043721794, 0.024810293765652563, 0.024810293765652563, 0.02817440139489359, 0.03237953593144487, 0.045415452994753844, 0.045415452994753844, 0.0567693162434423, 0.06433855840923461, 0.06938471985309615, 0.08200012346275, 0.09083090598950769, 0.09882066160895513, 0.1059693903210923, 0.11227709212591923, 0.11900530738440128, 0.12867711681846922, 0.12867711681846922, 0.13540533207695127, 0.14255406078908844, 0.14255406078908844, 0.1492822760475705, 0.15264638367681152, 0.15264638367681152, 0.15685151821336282, 0.1581130585743282, 0.15937459893529357, 0.1597951123889487, 0.1597951123889487, 0.16189767965722435, 0.16315922001818975, 0.16526178728646537]}, {\"line\": {\"color\": \"lavenderblush\", \"width\": 2}, \"name\": \"Hong Kong\", \"type\": \"scatter\", \"x\": [], \"y\": []}, {\"line\": {\"color\": \"pink\", \"width\": 2}, \"name\": \"Jap\\u00e3o\", \"type\": \"scatter\", \"x\": [0, 1, 2, 3, 4, 5, 6, 7, 8, 9, 10, 11, 12, 13, 14, 15, 16, 17, 18, 19, 20, 21, 22, 23, 24, 25, 26, 27, 28, 29, 30, 31, 32, 33, 34, 35, 36, 37, 38, 39, 40, 41, 42, 43, 44, 45, 46, 47, 48, 49, 50, 51, 52, 53, 54, 55, 56, 57, 58], \"y\": [0.004109726537215549, 0.004662958955686873, 0.004662958955686873, 0.005216191374158198, 0.006638789021655888, 0.007350087845404732, 0.008298486277069859, 0.010432382748316395, 0.011380781179981522, 0.011380781179981522, 0.012961445232756734, 0.014700175690809465, 0.016596972554139718, 0.01817763660691493, 0.018888935430663775, 0.020074433470245186, 0.020074433470245186, 0.02118089830718783, 0.0250535252364871, 0.02758258772092744, 0.03224554667661431, 0.03596010720063606, 0.038568202887715154, 0.04062306615632293, 0.04489085909881601, 0.04892155243339279, 0.05334741178116338, 0.05824747034476654, 0.06164589805823324, 0.06433302694795111, 0.06512335897433871, 0.06551852498753251, 0.06899598590363798, 0.07508154250682254, 0.0795864350572319, 0.08266872996014356, 0.08606715767361026, 0.08914945257652193, 0.09428661074804136, 0.1002141009459484, 0.10780128839926942, 0.11847077075550211, 0.13380321206742163, 0.14747595612392722, 0.15435184475349942, 0.15435184475349942, 0.1721343153472205, 0.20682989130563642, 0.23196244974476227, 0.25851760583138583, 0.2887873224420311, 0.3016697344721491, 0.30870368950699884, 0.33644434363320375, 0.36884795671509557, 0.4225905345094528, 0.5333160514063563, 0.573385885144208, 0.6042088341733246]}, {\"line\": {\"color\": \"lightgreen\", \"width\": 2}, \"name\": \"China\", \"type\": \"scatter\", \"x\": [0, 1, 2, 3, 4, 5, 6, 7, 8, 9, 10, 11, 12, 13, 14, 15, 16, 17, 18, 19, 20, 21, 22, 23, 24, 25, 26, 27, 28, 29, 30, 31, 32, 33, 34, 35, 36, 37, 38, 39, 40, 41, 42, 43, 44, 45, 46, 47, 48, 49, 50, 51, 52, 53, 54, 55, 56, 57, 58, 59, 60, 61, 62, 63, 64, 65, 66, 67, 68, 69, 70, 71, 72, 73, 74, 75, 76, 77, 78, 79, 80, 81, 82, 83, 84, 85, 86, 87, 88, 89, 90, 91, 92, 93, 94, 95, 96, 97, 98, 99, 100], \"y\": [0.0004236284132602874, 0.0004236284132602874, 0.0004236284132602874, 0.0004236284132602874, 0.0004236284132602874, 0.0004236284132602874, 0.0004236284132602874, 0.0004236284132602874, 0.0004236284132602874, 0.0004236284132602874, 0.0004236284132602874, 0.0004236284132602874, 0.0004523489836508153, 0.0005744114078105591, 0.0015509108010885095, 0.0016873335104435174, 0.0027715350426859475, 0.003776755006354426, 0.004473228838324729, 0.006332885771111414, 0.009499328656667121, 0.014274123484092394, 0.019924895708428772, 0.03251168568207765, 0.043037774730206146, 0.0555312228500858, 0.06974790519339714, 0.08479030393543617, 0.10338687326330301, 0.12357743424784415, 0.1468195558363789, 0.17462106797441, 0.2013814594357844, 0.22407071004430146, 0.24861243744300762, 0.26733106919503424, 0.28868481328039175, 0.3065633683484954, 0.3211246975364931, 0.429839236607239, 0.45967990924299756, 0.47790311115578754, 0.492313657349235, 0.5070473099595758, 0.5206177794691003, 0.5331830290149562, 0.5360120051984233, 0.5424095122529133, 0.5483403100385573, 0.5529858622992253, 0.554551133385509, 0.5582489068232895, 0.5611927652883186, 0.564344847888679, 0.5667071148032999, 0.5697802158350865, 0.5739016176861272, 0.5753735469186417, 0.5762854250285411, 0.5771398619976593, 0.5779799386815822, 0.5792005629231797, 0.5799257573255405, 0.5802560438850315, 0.580579150301925, 0.5807227531538777, 0.580930977289209, 0.5811033007115521, 0.5812612638487, 0.581397686558055, 0.5815556496952029, 0.5817351532601438, 0.582043899391842, 0.5822090426715875, 0.5825249689458832, 0.5832358030630489, 0.5836091704781257, 0.5840758797469717, 0.585066739425445, 0.5855621692646816, 0.5861222203872969, 0.5868545949322553, 0.5875295283364328, 0.5883839653055509, 0.5891953214190834, 0.5898989753936513, 0.5905021073718524, 0.5908898350721246, 0.5916078493318877, 0.592110459313722, 0.5925556281547751, 0.5929002749994615, 0.5933813445535028, 0.5937834325389701, 0.5944009248023666, 0.5950184170657629, 0.5954133249086327, 0.5959805561738456, 0.5966483094354254, 0.5974524854063601, 0.5981274188105375]}],\n",
              "                        {\"legend\": {\"borderwidth\": 0, \"font\": {\"size\": 8}, \"orientation\": \"v\", \"yanchor\": \"top\"}, \"template\": {\"data\": {\"bar\": [{\"error_x\": {\"color\": \"#2a3f5f\"}, \"error_y\": {\"color\": \"#2a3f5f\"}, \"marker\": {\"line\": {\"color\": \"#E5ECF6\", \"width\": 0.5}}, \"type\": \"bar\"}], \"barpolar\": [{\"marker\": {\"line\": {\"color\": \"#E5ECF6\", \"width\": 0.5}}, \"type\": \"barpolar\"}], \"carpet\": [{\"aaxis\": {\"endlinecolor\": \"#2a3f5f\", \"gridcolor\": \"white\", \"linecolor\": \"white\", \"minorgridcolor\": \"white\", \"startlinecolor\": \"#2a3f5f\"}, \"baxis\": {\"endlinecolor\": \"#2a3f5f\", \"gridcolor\": \"white\", \"linecolor\": \"white\", \"minorgridcolor\": \"white\", \"startlinecolor\": \"#2a3f5f\"}, \"type\": \"carpet\"}], \"choropleth\": [{\"colorbar\": {\"outlinewidth\": 0, \"ticks\": \"\"}, \"type\": \"choropleth\"}], \"contour\": [{\"colorbar\": {\"outlinewidth\": 0, \"ticks\": \"\"}, \"colorscale\": [[0.0, \"#0d0887\"], [0.1111111111111111, \"#46039f\"], [0.2222222222222222, \"#7201a8\"], [0.3333333333333333, \"#9c179e\"], [0.4444444444444444, \"#bd3786\"], [0.5555555555555556, \"#d8576b\"], [0.6666666666666666, \"#ed7953\"], [0.7777777777777778, \"#fb9f3a\"], [0.8888888888888888, \"#fdca26\"], [1.0, \"#f0f921\"]], \"type\": \"contour\"}], \"contourcarpet\": [{\"colorbar\": {\"outlinewidth\": 0, \"ticks\": \"\"}, \"type\": \"contourcarpet\"}], \"heatmap\": [{\"colorbar\": {\"outlinewidth\": 0, \"ticks\": \"\"}, \"colorscale\": [[0.0, \"#0d0887\"], [0.1111111111111111, \"#46039f\"], [0.2222222222222222, \"#7201a8\"], [0.3333333333333333, \"#9c179e\"], [0.4444444444444444, \"#bd3786\"], [0.5555555555555556, \"#d8576b\"], [0.6666666666666666, \"#ed7953\"], [0.7777777777777778, \"#fb9f3a\"], [0.8888888888888888, \"#fdca26\"], [1.0, \"#f0f921\"]], \"type\": \"heatmap\"}], \"heatmapgl\": [{\"colorbar\": {\"outlinewidth\": 0, \"ticks\": \"\"}, \"colorscale\": [[0.0, \"#0d0887\"], [0.1111111111111111, \"#46039f\"], [0.2222222222222222, \"#7201a8\"], [0.3333333333333333, \"#9c179e\"], [0.4444444444444444, \"#bd3786\"], [0.5555555555555556, \"#d8576b\"], [0.6666666666666666, \"#ed7953\"], [0.7777777777777778, \"#fb9f3a\"], [0.8888888888888888, \"#fdca26\"], [1.0, \"#f0f921\"]], \"type\": \"heatmapgl\"}], \"histogram\": [{\"marker\": {\"colorbar\": {\"outlinewidth\": 0, \"ticks\": \"\"}}, \"type\": \"histogram\"}], \"histogram2d\": [{\"colorbar\": {\"outlinewidth\": 0, \"ticks\": \"\"}, \"colorscale\": [[0.0, \"#0d0887\"], [0.1111111111111111, \"#46039f\"], [0.2222222222222222, \"#7201a8\"], [0.3333333333333333, \"#9c179e\"], [0.4444444444444444, \"#bd3786\"], [0.5555555555555556, \"#d8576b\"], [0.6666666666666666, \"#ed7953\"], [0.7777777777777778, \"#fb9f3a\"], [0.8888888888888888, \"#fdca26\"], [1.0, \"#f0f921\"]], \"type\": \"histogram2d\"}], \"histogram2dcontour\": [{\"colorbar\": {\"outlinewidth\": 0, \"ticks\": \"\"}, \"colorscale\": [[0.0, \"#0d0887\"], [0.1111111111111111, \"#46039f\"], [0.2222222222222222, \"#7201a8\"], [0.3333333333333333, \"#9c179e\"], [0.4444444444444444, \"#bd3786\"], [0.5555555555555556, \"#d8576b\"], [0.6666666666666666, \"#ed7953\"], [0.7777777777777778, \"#fb9f3a\"], [0.8888888888888888, \"#fdca26\"], [1.0, \"#f0f921\"]], \"type\": \"histogram2dcontour\"}], \"mesh3d\": [{\"colorbar\": {\"outlinewidth\": 0, \"ticks\": \"\"}, \"type\": \"mesh3d\"}], \"parcoords\": [{\"line\": {\"colorbar\": {\"outlinewidth\": 0, \"ticks\": \"\"}}, \"type\": \"parcoords\"}], \"pie\": [{\"automargin\": true, \"type\": \"pie\"}], \"scatter\": [{\"marker\": {\"colorbar\": {\"outlinewidth\": 0, \"ticks\": \"\"}}, \"type\": \"scatter\"}], \"scatter3d\": [{\"line\": {\"colorbar\": {\"outlinewidth\": 0, \"ticks\": \"\"}}, \"marker\": {\"colorbar\": {\"outlinewidth\": 0, \"ticks\": \"\"}}, \"type\": \"scatter3d\"}], \"scattercarpet\": [{\"marker\": {\"colorbar\": {\"outlinewidth\": 0, \"ticks\": \"\"}}, \"type\": \"scattercarpet\"}], \"scattergeo\": [{\"marker\": {\"colorbar\": {\"outlinewidth\": 0, \"ticks\": \"\"}}, \"type\": \"scattergeo\"}], \"scattergl\": [{\"marker\": {\"colorbar\": {\"outlinewidth\": 0, \"ticks\": \"\"}}, \"type\": \"scattergl\"}], \"scattermapbox\": [{\"marker\": {\"colorbar\": {\"outlinewidth\": 0, \"ticks\": \"\"}}, \"type\": \"scattermapbox\"}], \"scatterpolar\": [{\"marker\": {\"colorbar\": {\"outlinewidth\": 0, \"ticks\": \"\"}}, \"type\": \"scatterpolar\"}], \"scatterpolargl\": [{\"marker\": {\"colorbar\": {\"outlinewidth\": 0, \"ticks\": \"\"}}, \"type\": \"scatterpolargl\"}], \"scatterternary\": [{\"marker\": {\"colorbar\": {\"outlinewidth\": 0, \"ticks\": \"\"}}, \"type\": \"scatterternary\"}], \"surface\": [{\"colorbar\": {\"outlinewidth\": 0, \"ticks\": \"\"}, \"colorscale\": [[0.0, \"#0d0887\"], [0.1111111111111111, \"#46039f\"], [0.2222222222222222, \"#7201a8\"], [0.3333333333333333, \"#9c179e\"], [0.4444444444444444, \"#bd3786\"], [0.5555555555555556, \"#d8576b\"], [0.6666666666666666, \"#ed7953\"], [0.7777777777777778, \"#fb9f3a\"], [0.8888888888888888, \"#fdca26\"], [1.0, \"#f0f921\"]], \"type\": \"surface\"}], \"table\": [{\"cells\": {\"fill\": {\"color\": \"#EBF0F8\"}, \"line\": {\"color\": \"white\"}}, \"header\": {\"fill\": {\"color\": \"#C8D4E3\"}, \"line\": {\"color\": \"white\"}}, \"type\": \"table\"}]}, \"layout\": {\"annotationdefaults\": {\"arrowcolor\": \"#2a3f5f\", \"arrowhead\": 0, \"arrowwidth\": 1}, \"coloraxis\": {\"colorbar\": {\"outlinewidth\": 0, \"ticks\": \"\"}}, \"colorscale\": {\"diverging\": [[0, \"#8e0152\"], [0.1, \"#c51b7d\"], [0.2, \"#de77ae\"], [0.3, \"#f1b6da\"], [0.4, \"#fde0ef\"], [0.5, \"#f7f7f7\"], [0.6, \"#e6f5d0\"], [0.7, \"#b8e186\"], [0.8, \"#7fbc41\"], [0.9, \"#4d9221\"], [1, \"#276419\"]], \"sequential\": [[0.0, \"#0d0887\"], [0.1111111111111111, \"#46039f\"], [0.2222222222222222, \"#7201a8\"], [0.3333333333333333, \"#9c179e\"], [0.4444444444444444, \"#bd3786\"], [0.5555555555555556, \"#d8576b\"], [0.6666666666666666, \"#ed7953\"], [0.7777777777777778, \"#fb9f3a\"], [0.8888888888888888, \"#fdca26\"], [1.0, \"#f0f921\"]], \"sequentialminus\": [[0.0, \"#0d0887\"], [0.1111111111111111, \"#46039f\"], [0.2222222222222222, \"#7201a8\"], [0.3333333333333333, \"#9c179e\"], [0.4444444444444444, \"#bd3786\"], [0.5555555555555556, \"#d8576b\"], [0.6666666666666666, \"#ed7953\"], [0.7777777777777778, \"#fb9f3a\"], [0.8888888888888888, \"#fdca26\"], [1.0, \"#f0f921\"]]}, \"colorway\": [\"#636efa\", \"#EF553B\", \"#00cc96\", \"#ab63fa\", \"#FFA15A\", \"#19d3f3\", \"#FF6692\", \"#B6E880\", \"#FF97FF\", \"#FECB52\"], \"font\": {\"color\": \"#2a3f5f\"}, \"geo\": {\"bgcolor\": \"white\", \"lakecolor\": \"white\", \"landcolor\": \"#E5ECF6\", \"showlakes\": true, \"showland\": true, \"subunitcolor\": \"white\"}, \"hoverlabel\": {\"align\": \"left\"}, \"hovermode\": \"closest\", \"mapbox\": {\"style\": \"light\"}, \"paper_bgcolor\": \"white\", \"plot_bgcolor\": \"#E5ECF6\", \"polar\": {\"angularaxis\": {\"gridcolor\": \"white\", \"linecolor\": \"white\", \"ticks\": \"\"}, \"bgcolor\": \"#E5ECF6\", \"radialaxis\": {\"gridcolor\": \"white\", \"linecolor\": \"white\", \"ticks\": \"\"}}, \"scene\": {\"xaxis\": {\"backgroundcolor\": \"#E5ECF6\", \"gridcolor\": \"white\", \"gridwidth\": 2, \"linecolor\": \"white\", \"showbackground\": true, \"ticks\": \"\", \"zerolinecolor\": \"white\"}, \"yaxis\": {\"backgroundcolor\": \"#E5ECF6\", \"gridcolor\": \"white\", \"gridwidth\": 2, \"linecolor\": \"white\", \"showbackground\": true, \"ticks\": \"\", \"zerolinecolor\": \"white\"}, \"zaxis\": {\"backgroundcolor\": \"#E5ECF6\", \"gridcolor\": \"white\", \"gridwidth\": 2, \"linecolor\": \"white\", \"showbackground\": true, \"ticks\": \"\", \"zerolinecolor\": \"white\"}}, \"shapedefaults\": {\"line\": {\"color\": \"#2a3f5f\"}}, \"ternary\": {\"aaxis\": {\"gridcolor\": \"white\", \"linecolor\": \"white\", \"ticks\": \"\"}, \"baxis\": {\"gridcolor\": \"white\", \"linecolor\": \"white\", \"ticks\": \"\"}, \"bgcolor\": \"#E5ECF6\", \"caxis\": {\"gridcolor\": \"white\", \"linecolor\": \"white\", \"ticks\": \"\"}}, \"title\": {\"x\": 0.05}, \"xaxis\": {\"automargin\": true, \"gridcolor\": \"white\", \"linecolor\": \"white\", \"ticks\": \"\", \"title\": {\"standoff\": 15}, \"zerolinecolor\": \"white\", \"zerolinewidth\": 2}, \"yaxis\": {\"automargin\": true, \"gridcolor\": \"white\", \"linecolor\": \"white\", \"ticks\": \"\", \"title\": {\"standoff\": 15}, \"zerolinecolor\": \"white\", \"zerolinewidth\": 2}}}, \"title\": {\"text\": \"COVID-19 - Contamina\\u00e7\\u00e3o relativa  14-04-2020 \\nCasos a cada 10 mil habitantes - E. Aritm\\u00e9tica\"}, \"xaxis\": {\"tickangle\": 0, \"tickfont\": {\"size\": 10}, \"title\": {\"text\": \"Dias desde o caso 50\"}}, \"yaxis\": {\"title\": {\"text\": \"Casos a cada 10000 hab.\"}}},\n",
              "                        {\"responsive\": true}\n",
              "                    ).then(function(){\n",
              "                            \n",
              "var gd = document.getElementById('36f74a33-c243-4a4b-90bc-0743e1ba66e4');\n",
              "var x = new MutationObserver(function (mutations, observer) {{\n",
              "        var display = window.getComputedStyle(gd).display;\n",
              "        if (!display || display === 'none') {{\n",
              "            console.log([gd, 'removed!']);\n",
              "            Plotly.purge(gd);\n",
              "            observer.disconnect();\n",
              "        }}\n",
              "}});\n",
              "\n",
              "// Listen for the removal of the full notebook cells\n",
              "var notebookContainer = gd.closest('#notebook-container');\n",
              "if (notebookContainer) {{\n",
              "    x.observe(notebookContainer, {childList: true});\n",
              "}}\n",
              "\n",
              "// Listen for the clearing of the current output cell\n",
              "var outputEl = gd.closest('.output');\n",
              "if (outputEl) {{\n",
              "    x.observe(outputEl, {childList: true});\n",
              "}}\n",
              "\n",
              "                        })\n",
              "                };\n",
              "                \n",
              "            </script>\n",
              "        </div>\n",
              "</body>\n",
              "</html>"
            ]
          },
          "metadata": {
            "tags": []
          }
        }
      ]
    },
    {
      "cell_type": "code",
      "metadata": {
        "id": "SX9B-OeOIqX5",
        "colab_type": "code",
        "outputId": "1a4b1c33-b2df-461b-8ce6-9349af880052",
        "colab": {
          "base_uri": "https://localhost:8080/",
          "height": 542
        }
      },
      "source": [
        "#hide_input\n",
        "import plotly.graph_objects as go\n",
        "fig = go.Figure()\n",
        "fig.add_trace(go.Scatter(x=final_data['indice'][final_data['countriesAndTerritories']=='Brazil'], \n",
        "                         y=final_data['relativa'][final_data['countriesAndTerritories']=='Brazil'], name='Brasil',line=dict(color='black', width=5)))\n",
        "fig.add_trace(go.Scatter(x=final_data['indice'][final_data['countriesAndTerritories']=='France'], \n",
        "                         y=final_data['relativa'][final_data['countriesAndTerritories']=='France'], name='França',line=dict(color='red', width=2)))\n",
        "fig.add_trace(go.Scatter(x=final_data['indice'][final_data['countriesAndTerritories']=='Spain'], \n",
        "                         y=final_data['relativa'][final_data['countriesAndTerritories']=='Spain'], name='Espanha',line=dict(color='blue', width=2)))\n",
        "fig.add_trace(go.Scatter(x=final_data['indice'][final_data['countriesAndTerritories']=='Italy'], \n",
        "                         y=final_data['relativa'][final_data['countriesAndTerritories']=='Italy'], name='Itália',line=dict(color='green', width=2)))\n",
        "fig.add_trace(go.Scatter(x=final_data['indice'][final_data['countriesAndTerritories']=='United_Kingdom'], \n",
        "                         y=final_data['relativa'][final_data['countriesAndTerritories']=='United_Kingdom'], name='Reino Unido',line=dict(color='yellowgreen', width=2)))\n",
        "fig.add_trace(go.Scatter(x=final_data['indice'][final_data['countriesAndTerritories']=='Argentina'], \n",
        "                         y=final_data['relativa'][final_data['countriesAndTerritories']=='Argentina'],mode='lines', name='Argentina',line=dict(color='darkgreen', width=2)))\n",
        "fig.add_trace(go.Scatter(x=final_data['indice'][final_data['countriesAndTerritories']=='Germany'], \n",
        "                         y=final_data['relativa'][final_data['countriesAndTerritories']=='Germany'], name='Alemanha',line=dict(color='darkslateblue', width=2)))\n",
        "fig.add_trace(go.Scatter(x=final_data['indice'][final_data['countriesAndTerritories']=='United_States_of_America'], \n",
        "                         y=final_data['relativa'][final_data['countriesAndTerritories']=='United_States_of_America'], name='EUA',line=dict(color='mediumpurple', width=2)))\n",
        "fig.add_trace(go.Scatter(x=final_data['indice'][final_data['countriesAndTerritories']=='New_Zealand'], \n",
        "                         y=final_data['relativa'][final_data['countriesAndTerritories']=='New_Zealand'], name='Nova Zelândia',line=dict(color='yellow', width=2)))\n",
        "\n",
        "\n",
        "fig.add_trace(go.Scatter(x=final_data['indice'][final_data['countriesAndTerritories']=='Czechia'], \n",
        "                         y=final_data['relativa'][final_data['countriesAndTerritories']=='Czechia'],mode='lines', name='República Tcheca',line=dict(color='magenta', width=2)))\n",
        "fig.add_trace(go.Scatter(x=final_data['indice'][final_data['countriesAndTerritories']=='South_Korea'], \n",
        "                         y=final_data['relativa'][final_data['countriesAndTerritories']=='South_Korea'], name='Coréia do Sul',line=dict(color='brown', width=2)))\n",
        "fig.add_trace(go.Scatter(x=final_data['indice'][final_data['countriesAndTerritories']=='Taiwan'], \n",
        "                         y=final_data['relativa'][final_data['countriesAndTerritories']=='Taiwan'],mode='lines', name='Taiwan',line=dict(color='grey', width=2)))\n",
        "fig.add_trace(go.Scatter(x=final_data['indice'][final_data['countriesAndTerritories']=='Hong_Kong'], \n",
        "                         y=final_data['relativa'][final_data['countriesAndTerritories']=='Hong_Kong'], name='Hong Kong',line=dict(color='lavenderblush', width=2)))\n",
        "fig.add_trace(go.Scatter(x=final_data['indice'][final_data['countriesAndTerritories']=='Japan'], \n",
        "                         y=final_data['relativa'][final_data['countriesAndTerritories']=='Japan'], name='Japão',line=dict(color='pink', width=2)))\n",
        "fig.add_trace(go.Scatter(x=final_data['indice'][final_data['countriesAndTerritories']=='China'], \n",
        "                         y=final_data['relativa'][final_data['countriesAndTerritories']=='China'], name='China',line=dict(color='lightgreen', width=2)))\n",
        "\n",
        "fig.update_xaxes(tickangle=0, tickfont=dict(size=10))\n",
        "\n",
        "fig.update_layout(title='COVID-19 - Contaminação relativa  {} \\nCasos a cada 10 mil habitantes - E. Logarítimica' .format(today),\n",
        "                   xaxis_title='Dias desde o caso 50',\n",
        "                   yaxis_title='Casos a cada 10000 hab.',yaxis_type=\"log\",legend= {'borderwidth':0,'orientation':'v','yanchor':'top','font':{'size':8}})"
      ],
      "execution_count": 20,
      "outputs": [
        {
          "output_type": "display_data",
          "data": {
            "text/html": [
              "<html>\n",
              "<head><meta charset=\"utf-8\" /></head>\n",
              "<body>\n",
              "    <div>\n",
              "            <script src=\"https://cdnjs.cloudflare.com/ajax/libs/mathjax/2.7.5/MathJax.js?config=TeX-AMS-MML_SVG\"></script><script type=\"text/javascript\">if (window.MathJax) {MathJax.Hub.Config({SVG: {font: \"STIX-Web\"}});}</script>\n",
              "                <script type=\"text/javascript\">window.PlotlyConfig = {MathJaxConfig: 'local'};</script>\n",
              "        <script src=\"https://cdn.plot.ly/plotly-latest.min.js\"></script>    \n",
              "            <div id=\"2f8eb94b-4c26-4b20-a1c4-cc2f50212674\" class=\"plotly-graph-div\" style=\"height:525px; width:100%;\"></div>\n",
              "            <script type=\"text/javascript\">\n",
              "                \n",
              "                    window.PLOTLYENV=window.PLOTLYENV || {};\n",
              "                    \n",
              "                if (document.getElementById(\"2f8eb94b-4c26-4b20-a1c4-cc2f50212674\")) {\n",
              "                    Plotly.newPlot(\n",
              "                        '2f8eb94b-4c26-4b20-a1c4-cc2f50212674',\n",
              "                        [{\"line\": {\"color\": \"black\", \"width\": 5}, \"name\": \"Brasil\", \"type\": \"scatter\", \"x\": [0, 1, 2, 3, 4, 5, 6, 7, 8, 9, 10, 11, 12, 13, 14, 15, 16, 17, 18, 19, 20, 21, 22, 23, 24, 25, 26, 27, 28, 29, 30, 31, 32, 33], \"y\": [0.0024824636263103966, 0.003675955754344241, 0.0046784891418926704, 0.005776501899683807, 0.009547937024270755, 0.011171086318396785, 0.01389224837031395, 0.02043258523193942, 0.0296463444603607, 0.04315667534970381, 0.05385036481688706, 0.07380555319761294, 0.09027574456448, 0.10507504695209967, 0.11615065390025374, 0.13916118212874626, 0.16312650405966586, 0.18637573071376515, 0.20318009987648167, 0.21860001817067898, 0.2729277798387795, 0.3263484874895744, 0.37762090930990844, 0.4323305884589798, 0.49066848367727417, 0.5313426954006676, 0.5755496438230412, 0.6548452608096098, 0.7603499649278016, 0.8524875572120144, 0.9375119364131455, 0.9895004535102997, 1.0583410794552919, 1.118540822393319]}, {\"line\": {\"color\": \"red\", \"width\": 2}, \"name\": \"Fran\\u00e7a\", \"type\": \"scatter\", \"x\": [0, 1, 2, 3, 4, 5, 6, 7, 8, 9, 10, 11, 12, 13, 14, 15, 16, 17, 18, 19, 20, 21, 22, 23, 24, 25, 26, 27, 28, 29, 30, 31, 32, 33, 34, 35, 36, 37, 38, 39, 40, 41, 42, 43, 44, 45], \"y\": [0.008509082714314982, 0.014928215288271898, 0.019406679874753467, 0.026572223213123976, 0.031647816411136426, 0.04254541357157491, 0.06314635066939013, 0.09150995971710674, 0.10688602146402679, 0.16809170414594157, 0.21078639987039918, 0.2663193607427707, 0.340512590725482, 0.4293354716906998, 0.5465219617036342, 0.6716204058193527, 0.809557115082985, 0.990188520071075, 1.1539510417834178, 1.3635431844307553, 1.641357270945495, 1.8827465121568518, 2.158470648531234, 2.3912015248753926, 2.9641464276392684, 3.3292905735903986, 3.7668365636896484, 4.352321167295672, 4.920936887625949, 5.609276894568167, 5.997261209910352, 6.650519910925131, 7.781780065470376, 8.507440610633273, 8.823321646133106, 9.604515152168373, 10.241502098518936, 10.521107570868269, 11.105099352945464, 11.668938044383495, 12.248302079721327, 12.88812538697666, 13.536308494793428, 14.001173118870215, 14.24196523147004, 14.640996426125547]}, {\"line\": {\"color\": \"blue\", \"width\": 2}, \"name\": \"Espanha\", \"type\": \"scatter\", \"x\": [0, 1, 2, 3, 4, 5, 6, 7, 8, 9, 10, 11, 12, 13, 14, 15, 16, 17, 18, 19, 20, 21, 22, 23, 24, 25, 26, 27, 28, 29, 30, 31, 32, 33, 34, 35, 36, 37, 38, 39, 40, 41, 42, 43, 44], \"y\": [0.01412557883572228, 0.017763985505529534, 0.02439872707988394, 0.03231761218475855, 0.04280478435067357, 0.05586024357762901, 0.08004494673575957, 0.09203028635394818, 0.12606008991273368, 0.2576848017910549, 0.3507852077537699, 0.4580111925522072, 0.6429278609471171, 0.9055352129384995, 1.2312796218471251, 1.6593274653538612, 1.967093864835204, 2.392359397359146, 2.9355521107691938, 3.669868186304999, 4.27619795663229, 5.334760273624448, 6.115091492337227, 7.08183754689719, 8.490971047721363, 10.189678914677843, 12.025576115478234, 13.710158403598992, 15.46280029883732, 16.86444296240013, 18.233768013778175, 20.207496620187733, 21.85954727220198, 23.593569086247765, 25.19275582958893, 26.696487903828093, 27.985553984548627, 28.900078202200767, 30.07250124556572, 31.395169082001534, 32.627090775613915, 33.606464241557326, 34.640199783626095, 35.53203746557238, 36.27619864150884]}, {\"line\": {\"color\": \"green\", \"width\": 2}, \"name\": \"It\\u00e1lia\", \"type\": \"scatter\", \"x\": [0, 1, 2, 3, 4, 5, 6, 7, 8, 9, 10, 11, 12, 13, 14, 15, 16, 17, 18, 19, 20, 21, 22, 23, 24, 25, 26, 27, 28, 29, 30, 31, 32, 33, 34, 35, 36, 37, 38, 39, 40, 41, 42, 43, 44, 45, 46, 47, 48, 49, 50, 51], \"y\": [0.013072699449389482, 0.021842991485055845, 0.03789428068240749, 0.05328366104687865, 0.06619088328804801, 0.10756018534307801, 0.1469437608994666, 0.1866582908722954, 0.27949100468378274, 0.3369115959361644, 0.4140239749667403, 0.5111590961919508, 0.638411069313223, 0.7671523373084765, 0.9735024159589661, 1.2203944106233853, 1.517756953794941, 1.6794281862259983, 2.0621769688391356, 2.500857047830674, 2.9223274971673194, 3.5010012943130797, 3.9681434531184787, 4.630052285998959, 5.213524922183102, 5.909687537165146, 6.790357239312625, 7.780903807718264, 8.865937862017592, 9.785991139721459, 10.578461489887614, 11.447051355835024, 12.309187610661848, 13.327368872840246, 14.313447556623942, 15.30200839853094, 16.165302993815306, 16.835485687106793, 17.506164812022938, 18.297476821731554, 19.06992442970307, 19.828637429392323, 20.62375541489, 21.337955045568037, 21.93350751795225, 22.436392753733195, 23.071163324465573, 23.76682950782296, 24.420629957500655, 25.197379972885894, 25.874512708922627, 26.39626234644067]}, {\"line\": {\"color\": \"yellowgreen\", \"width\": 2}, \"name\": \"Reino Unido\", \"type\": \"scatter\", \"x\": [0, 1, 2, 3, 4, 5, 6, 7, 8, 9, 10, 11, 12, 13, 14, 15, 16, 17, 18, 19, 20, 21, 22, 23, 24, 25, 26, 27, 28, 29, 30, 31, 32, 33, 34, 35, 36, 37, 38, 39, 40, 41], \"y\": [0.007670442765479777, 0.012784071275799629, 0.0172960964319642, 0.024515336681827524, 0.030982572738996746, 0.04105942892109763, 0.04827866917096095, 0.05609951277497954, 0.06858278237370154, 0.08873649473790331, 0.10633339284694515, 0.17145695593425384, 0.20920756640749746, 0.23206849386539796, 0.29328163515069733, 0.39555420535709435, 0.4928635478917104, 0.5990465399001167, 0.7547114077877946, 0.8547279654161092, 1.0001655762831474, 1.2147875728780424, 1.4331695904364077, 1.7533729756855538, 2.187279394870047, 2.5701999297898803, 2.9361251699548276, 3.330024966087995, 3.782581089251302, 4.432914315093156, 5.071215473851905, 5.74049920534965, 6.302246337292139, 7.190062487186789, 7.761886475311379, 8.308443122561448, 9.134294126978103, 9.787635369590735, 10.568967725799899, 11.880312637019864, 12.67563227121314, 13.328672712148693]}, {\"line\": {\"color\": \"darkgreen\", \"width\": 2}, \"mode\": \"lines\", \"name\": \"Argentina\", \"type\": \"scatter\", \"x\": [0, 1, 2, 3, 4, 5, 6, 7, 8, 9, 10, 11, 12, 13, 14, 15, 16, 17, 18, 19, 20, 21, 22, 23, 24, 25, 26, 27, 28, 29], \"y\": [0.012585824648627375, 0.014608546467156773, 0.017755002629313617, 0.02180044626637242, 0.02876759919686257, 0.035510005258627235, 0.050568045463234984, 0.059782667080980026, 0.06764880748637214, 0.08697703819676417, 0.11282292810019538, 0.1323759056793129, 0.1550753394205873, 0.16743641720048918, 0.18429243235490084, 0.2171054751888222, 0.2171054751888222, 0.25463820226597883, 0.25463820226597883, 0.28430478893774336, 0.32610770652068427, 0.3492566339994096, 0.36588790228509577, 0.3854408798642133, 0.4034206293622524, 0.42567056936607583, 0.44387506573284047, 0.48028405846636957, 0.4951173518022519, 0.5106248857443106]}, {\"line\": {\"color\": \"darkslateblue\", \"width\": 2}, \"name\": \"Alemanha\", \"type\": \"scatter\", \"x\": [0, 1, 2, 3, 4, 5, 6, 7, 8, 9, 10, 11, 12, 13, 14, 15, 16, 17, 18, 19, 20, 21, 22, 23, 24, 25, 26, 27, 28, 29, 30, 31, 32, 33, 34, 35, 36, 37, 38, 39, 40, 41, 42, 43, 44, 45], \"y\": [0.006873438840056791, 0.013385117741163223, 0.015555677374865367, 0.01893210347173537, 0.023634982678090017, 0.03159370133499788, 0.04823465852671432, 0.08248126608068149, 0.10213688943031757, 0.10876915497774078, 0.13734819015481903, 0.15628029362655438, 0.18895927477840335, 0.28566976512446557, 0.3692363110219981, 0.4576263227722021, 0.5833981948806097, 0.7249669176565161, 0.8629180410429191, 0.98856932650501, 1.7048540056267176, 2.1931093365633836, 2.5881511898971734, 2.9874135758520515, 3.5225771122059464, 3.8049910378798595, 4.402377283733216, 5.099368099444238, 5.858340451362088, 6.336466504008143, 6.909373660659193, 7.465881033411159, 8.123440015776593, 8.865771410502726, 9.610273364862561, 10.343681347761253, 11.059483680297692, 11.502880778804514, 11.96520998078307, 12.447918325989166, 13.047716304768857, 13.689599023113109, 14.187983632340384, 14.528158561600037, 14.834086883305721, 15.085148280937268]}, {\"line\": {\"color\": \"mediumpurple\", \"width\": 2}, \"name\": \"EUA\", \"type\": \"scatter\", \"x\": [0, 1, 2, 3, 4, 5, 6, 7, 8, 9, 10, 11, 12, 13, 14, 15, 16, 17, 18, 19, 20, 21, 22, 23, 24, 25, 26, 27, 28, 29, 30, 31, 32, 33, 34, 35, 36, 37, 38, 39, 40, 41, 42, 43, 44, 45, 46, 47, 48, 49], \"y\": [0.0016199656350882404, 0.0016199656350882404, 0.0018033579711359657, 0.0018339233604772534, 0.0020173156965249787, 0.0021090118645488414, 0.002720319651374593, 0.003148235102152618, 0.0038206736676609445, 0.0048598969052647215, 0.007121735716520001, 0.010331101597355194, 0.013234813584777513, 0.016933225695073304, 0.023046303563330817, 0.031329524074819745, 0.04010179081576928, 0.0508302424745612, 0.06644915642795915, 0.09019846394613958, 0.11535377937401924, 0.1424652797197413, 0.19644375729645513, 0.28777314064822235, 0.4355567981133477, 0.599815200433427, 0.8175324687114183, 1.0760850971493696, 1.4195178117880767, 1.688157018708653, 2.1149415500810513, 2.6283483948466584, 3.1997683485820287, 3.810434262231613, 4.371614810537653, 5.031674393362758, 5.795747996116264, 6.624161743433181, 7.505025698859747, 8.496108448250995, 9.543645471755603, 10.319945230245622, 11.254054093904713, 12.189752357809548, 13.208282826829274, 14.244480090888263, 15.330376678016187, 16.198158646804682, 17.042374700411045, 17.807212437898084]}, {\"line\": {\"color\": \"yellow\", \"width\": 2}, \"name\": \"Nova Zel\\u00e2ndia\", \"type\": \"scatter\", \"x\": [0, 1, 2, 3, 4, 5, 6, 7, 8, 9, 10, 11, 12, 13, 14, 15, 16, 17, 18, 19, 20, 21, 22, 23, 24], \"y\": [0.10848429024664824, 0.13509364445809027, 0.20878108688977587, 0.2906560229249821, 0.3868590727663494, 0.5362808310306008, 0.6918432094974926, 0.8514993347661447, 0.974311738818954, 1.1298741172858457, 1.3243270903694606, 1.3243270903694606, 1.4798894688363524, 1.5801862654794803, 1.6866236823252483, 1.7848736055674956, 1.8647016682018218, 1.9302016170299867, 1.9834203254528708, 2.030498413673114, 2.0775765018933576, 2.118513969910961, 2.147170197523283, 2.1778732985364853, 2.1942482857435266]}, {\"line\": {\"color\": \"magenta\", \"width\": 2}, \"mode\": \"lines\", \"name\": \"Rep\\u00fablica Tcheca\", \"type\": \"scatter\", \"x\": [0, 1, 2, 3, 4, 5, 6, 7, 8, 9, 10, 11, 12, 13, 14, 15, 16, 17, 18, 19, 20, 21, 22, 23, 24, 25, 26, 27, 28, 29, 30, 31, 32, 33, 34], \"y\": [0.059290239367871936, 0.08846480159650733, 0.10916932962973247, 0.14116723659017127, 0.20139859086864437, 0.28045224335914026, 0.3237435292467928, 0.40844387120089554, 0.49126198333379606, 0.6531337479571925, 0.8507678791834322, 0.9364093360481363, 1.0963988708503303, 1.1632180295030115, 1.3119141853779919, 1.5566040621342887, 1.9405789456595544, 2.1448008812600023, 2.506189006930841, 2.6624140820906304, 2.825226961624628, 3.1132081242685774, 3.377661414147498, 3.6308213250992054, 3.9432714754187845, 4.208665880208306, 4.316894094927438, 4.538056098918706, 4.721573506485929, 4.999202405113265, 5.24106893713776, 5.394470667565745, 5.554460202367939, 5.638219429411441, 5.7022152433323186]}, {\"line\": {\"color\": \"brown\", \"width\": 2}, \"name\": \"Cor\\u00e9ia do Sul\", \"type\": \"scatter\", \"x\": [0, 1, 2, 3, 4, 5, 6, 7, 8, 9, 10, 11, 12, 13, 14, 15, 16, 17, 18, 19, 20, 21, 22, 23, 24, 25, 26, 27, 28, 29, 30, 31, 32, 33, 34, 35, 36, 37, 38, 39, 40, 41, 42, 43, 44, 45, 46, 47, 48, 49, 50, 51, 52, 53, 54], \"y\": [0.015493290088462038, 0.0300182495463952, 0.06681481350649254, 0.11639334178957106, 0.1475735880926009, 0.17275018448635174, 0.2219413805172187, 0.3088974711387119, 0.391592906985878, 0.5676354156160279, 0.6828667606489643, 0.8157217231575263, 0.9319213988209916, 1.0318531198915717, 1.1166788831259014, 1.2169979364486931, 1.3105386753577828, 1.3816141436386022, 1.4296433429128346, 1.4550136054326912, 1.501880807950289, 1.5239587463263473, 1.5452620201979825, 1.5659842956913006, 1.5807029212753394, 1.595034214607167, 1.611302169200052, 1.629313118927889, 1.658750370095967, 1.6755993230671695, 1.7040682436047185, 1.7230475239630845, 1.735442156033854, 1.750160781617893, 1.7695273942284706, 1.7896686713434713, 1.8072922888190968, 1.83556754323054, 1.8559024864716465, 1.871008444307897, 1.8952167100711188, 1.8952167100711188, 1.9320132740312161, 1.9486685608763128, 1.9668731767302559, 1.9825601329448235, 1.9916624408717951, 2.0007647487987663, 2.0110290534823725, 2.0185820324004977, 2.023811017805354, 2.023811017805354, 2.035818317623912, 2.0406599707765563, 2.045888956181412]}, {\"line\": {\"color\": \"grey\", \"width\": 2}, \"mode\": \"lines\", \"name\": \"Taiwan\", \"type\": \"scatter\", \"x\": [0, 1, 2, 3, 4, 5, 6, 7, 8, 9, 10, 11, 12, 13, 14, 15, 16, 17, 18, 19, 20, 21, 22, 23, 24, 25, 26, 27, 28, 29, 30, 31], \"y\": [0.022287213043721794, 0.024810293765652563, 0.024810293765652563, 0.02817440139489359, 0.03237953593144487, 0.045415452994753844, 0.045415452994753844, 0.0567693162434423, 0.06433855840923461, 0.06938471985309615, 0.08200012346275, 0.09083090598950769, 0.09882066160895513, 0.1059693903210923, 0.11227709212591923, 0.11900530738440128, 0.12867711681846922, 0.12867711681846922, 0.13540533207695127, 0.14255406078908844, 0.14255406078908844, 0.1492822760475705, 0.15264638367681152, 0.15264638367681152, 0.15685151821336282, 0.1581130585743282, 0.15937459893529357, 0.1597951123889487, 0.1597951123889487, 0.16189767965722435, 0.16315922001818975, 0.16526178728646537]}, {\"line\": {\"color\": \"lavenderblush\", \"width\": 2}, \"name\": \"Hong Kong\", \"type\": \"scatter\", \"x\": [], \"y\": []}, {\"line\": {\"color\": \"pink\", \"width\": 2}, \"name\": \"Jap\\u00e3o\", \"type\": \"scatter\", \"x\": [0, 1, 2, 3, 4, 5, 6, 7, 8, 9, 10, 11, 12, 13, 14, 15, 16, 17, 18, 19, 20, 21, 22, 23, 24, 25, 26, 27, 28, 29, 30, 31, 32, 33, 34, 35, 36, 37, 38, 39, 40, 41, 42, 43, 44, 45, 46, 47, 48, 49, 50, 51, 52, 53, 54, 55, 56, 57, 58], \"y\": [0.004109726537215549, 0.004662958955686873, 0.004662958955686873, 0.005216191374158198, 0.006638789021655888, 0.007350087845404732, 0.008298486277069859, 0.010432382748316395, 0.011380781179981522, 0.011380781179981522, 0.012961445232756734, 0.014700175690809465, 0.016596972554139718, 0.01817763660691493, 0.018888935430663775, 0.020074433470245186, 0.020074433470245186, 0.02118089830718783, 0.0250535252364871, 0.02758258772092744, 0.03224554667661431, 0.03596010720063606, 0.038568202887715154, 0.04062306615632293, 0.04489085909881601, 0.04892155243339279, 0.05334741178116338, 0.05824747034476654, 0.06164589805823324, 0.06433302694795111, 0.06512335897433871, 0.06551852498753251, 0.06899598590363798, 0.07508154250682254, 0.0795864350572319, 0.08266872996014356, 0.08606715767361026, 0.08914945257652193, 0.09428661074804136, 0.1002141009459484, 0.10780128839926942, 0.11847077075550211, 0.13380321206742163, 0.14747595612392722, 0.15435184475349942, 0.15435184475349942, 0.1721343153472205, 0.20682989130563642, 0.23196244974476227, 0.25851760583138583, 0.2887873224420311, 0.3016697344721491, 0.30870368950699884, 0.33644434363320375, 0.36884795671509557, 0.4225905345094528, 0.5333160514063563, 0.573385885144208, 0.6042088341733246]}, {\"line\": {\"color\": \"lightgreen\", \"width\": 2}, \"name\": \"China\", \"type\": \"scatter\", \"x\": [0, 1, 2, 3, 4, 5, 6, 7, 8, 9, 10, 11, 12, 13, 14, 15, 16, 17, 18, 19, 20, 21, 22, 23, 24, 25, 26, 27, 28, 29, 30, 31, 32, 33, 34, 35, 36, 37, 38, 39, 40, 41, 42, 43, 44, 45, 46, 47, 48, 49, 50, 51, 52, 53, 54, 55, 56, 57, 58, 59, 60, 61, 62, 63, 64, 65, 66, 67, 68, 69, 70, 71, 72, 73, 74, 75, 76, 77, 78, 79, 80, 81, 82, 83, 84, 85, 86, 87, 88, 89, 90, 91, 92, 93, 94, 95, 96, 97, 98, 99, 100], \"y\": [0.0004236284132602874, 0.0004236284132602874, 0.0004236284132602874, 0.0004236284132602874, 0.0004236284132602874, 0.0004236284132602874, 0.0004236284132602874, 0.0004236284132602874, 0.0004236284132602874, 0.0004236284132602874, 0.0004236284132602874, 0.0004236284132602874, 0.0004523489836508153, 0.0005744114078105591, 0.0015509108010885095, 0.0016873335104435174, 0.0027715350426859475, 0.003776755006354426, 0.004473228838324729, 0.006332885771111414, 0.009499328656667121, 0.014274123484092394, 0.019924895708428772, 0.03251168568207765, 0.043037774730206146, 0.0555312228500858, 0.06974790519339714, 0.08479030393543617, 0.10338687326330301, 0.12357743424784415, 0.1468195558363789, 0.17462106797441, 0.2013814594357844, 0.22407071004430146, 0.24861243744300762, 0.26733106919503424, 0.28868481328039175, 0.3065633683484954, 0.3211246975364931, 0.429839236607239, 0.45967990924299756, 0.47790311115578754, 0.492313657349235, 0.5070473099595758, 0.5206177794691003, 0.5331830290149562, 0.5360120051984233, 0.5424095122529133, 0.5483403100385573, 0.5529858622992253, 0.554551133385509, 0.5582489068232895, 0.5611927652883186, 0.564344847888679, 0.5667071148032999, 0.5697802158350865, 0.5739016176861272, 0.5753735469186417, 0.5762854250285411, 0.5771398619976593, 0.5779799386815822, 0.5792005629231797, 0.5799257573255405, 0.5802560438850315, 0.580579150301925, 0.5807227531538777, 0.580930977289209, 0.5811033007115521, 0.5812612638487, 0.581397686558055, 0.5815556496952029, 0.5817351532601438, 0.582043899391842, 0.5822090426715875, 0.5825249689458832, 0.5832358030630489, 0.5836091704781257, 0.5840758797469717, 0.585066739425445, 0.5855621692646816, 0.5861222203872969, 0.5868545949322553, 0.5875295283364328, 0.5883839653055509, 0.5891953214190834, 0.5898989753936513, 0.5905021073718524, 0.5908898350721246, 0.5916078493318877, 0.592110459313722, 0.5925556281547751, 0.5929002749994615, 0.5933813445535028, 0.5937834325389701, 0.5944009248023666, 0.5950184170657629, 0.5954133249086327, 0.5959805561738456, 0.5966483094354254, 0.5974524854063601, 0.5981274188105375]}],\n",
              "                        {\"legend\": {\"borderwidth\": 0, \"font\": {\"size\": 8}, \"orientation\": \"v\", \"yanchor\": \"top\"}, \"template\": {\"data\": {\"bar\": [{\"error_x\": {\"color\": \"#2a3f5f\"}, \"error_y\": {\"color\": \"#2a3f5f\"}, \"marker\": {\"line\": {\"color\": \"#E5ECF6\", \"width\": 0.5}}, \"type\": \"bar\"}], \"barpolar\": [{\"marker\": {\"line\": {\"color\": \"#E5ECF6\", \"width\": 0.5}}, \"type\": \"barpolar\"}], \"carpet\": [{\"aaxis\": {\"endlinecolor\": \"#2a3f5f\", \"gridcolor\": \"white\", \"linecolor\": \"white\", \"minorgridcolor\": \"white\", \"startlinecolor\": \"#2a3f5f\"}, \"baxis\": {\"endlinecolor\": \"#2a3f5f\", \"gridcolor\": \"white\", \"linecolor\": \"white\", \"minorgridcolor\": \"white\", \"startlinecolor\": \"#2a3f5f\"}, \"type\": \"carpet\"}], \"choropleth\": [{\"colorbar\": {\"outlinewidth\": 0, \"ticks\": \"\"}, \"type\": \"choropleth\"}], \"contour\": [{\"colorbar\": {\"outlinewidth\": 0, \"ticks\": \"\"}, \"colorscale\": [[0.0, \"#0d0887\"], [0.1111111111111111, \"#46039f\"], [0.2222222222222222, \"#7201a8\"], [0.3333333333333333, \"#9c179e\"], [0.4444444444444444, \"#bd3786\"], [0.5555555555555556, \"#d8576b\"], [0.6666666666666666, \"#ed7953\"], [0.7777777777777778, \"#fb9f3a\"], [0.8888888888888888, \"#fdca26\"], [1.0, \"#f0f921\"]], \"type\": \"contour\"}], \"contourcarpet\": [{\"colorbar\": {\"outlinewidth\": 0, \"ticks\": \"\"}, \"type\": \"contourcarpet\"}], \"heatmap\": [{\"colorbar\": {\"outlinewidth\": 0, \"ticks\": \"\"}, \"colorscale\": [[0.0, \"#0d0887\"], [0.1111111111111111, \"#46039f\"], [0.2222222222222222, \"#7201a8\"], [0.3333333333333333, \"#9c179e\"], [0.4444444444444444, \"#bd3786\"], [0.5555555555555556, \"#d8576b\"], [0.6666666666666666, \"#ed7953\"], [0.7777777777777778, \"#fb9f3a\"], [0.8888888888888888, \"#fdca26\"], [1.0, \"#f0f921\"]], \"type\": \"heatmap\"}], \"heatmapgl\": [{\"colorbar\": {\"outlinewidth\": 0, \"ticks\": \"\"}, \"colorscale\": [[0.0, \"#0d0887\"], [0.1111111111111111, \"#46039f\"], [0.2222222222222222, \"#7201a8\"], [0.3333333333333333, \"#9c179e\"], [0.4444444444444444, \"#bd3786\"], [0.5555555555555556, \"#d8576b\"], [0.6666666666666666, \"#ed7953\"], [0.7777777777777778, \"#fb9f3a\"], [0.8888888888888888, \"#fdca26\"], [1.0, \"#f0f921\"]], \"type\": \"heatmapgl\"}], \"histogram\": [{\"marker\": {\"colorbar\": {\"outlinewidth\": 0, \"ticks\": \"\"}}, \"type\": \"histogram\"}], \"histogram2d\": [{\"colorbar\": {\"outlinewidth\": 0, \"ticks\": \"\"}, \"colorscale\": [[0.0, \"#0d0887\"], [0.1111111111111111, \"#46039f\"], [0.2222222222222222, \"#7201a8\"], [0.3333333333333333, \"#9c179e\"], [0.4444444444444444, \"#bd3786\"], [0.5555555555555556, \"#d8576b\"], [0.6666666666666666, \"#ed7953\"], [0.7777777777777778, \"#fb9f3a\"], [0.8888888888888888, \"#fdca26\"], [1.0, \"#f0f921\"]], \"type\": \"histogram2d\"}], \"histogram2dcontour\": [{\"colorbar\": {\"outlinewidth\": 0, \"ticks\": \"\"}, \"colorscale\": [[0.0, \"#0d0887\"], [0.1111111111111111, \"#46039f\"], [0.2222222222222222, \"#7201a8\"], [0.3333333333333333, \"#9c179e\"], [0.4444444444444444, \"#bd3786\"], [0.5555555555555556, \"#d8576b\"], [0.6666666666666666, \"#ed7953\"], [0.7777777777777778, \"#fb9f3a\"], [0.8888888888888888, \"#fdca26\"], [1.0, \"#f0f921\"]], \"type\": \"histogram2dcontour\"}], \"mesh3d\": [{\"colorbar\": {\"outlinewidth\": 0, \"ticks\": \"\"}, \"type\": \"mesh3d\"}], \"parcoords\": [{\"line\": {\"colorbar\": {\"outlinewidth\": 0, \"ticks\": \"\"}}, \"type\": \"parcoords\"}], \"pie\": [{\"automargin\": true, \"type\": \"pie\"}], \"scatter\": [{\"marker\": {\"colorbar\": {\"outlinewidth\": 0, \"ticks\": \"\"}}, \"type\": \"scatter\"}], \"scatter3d\": [{\"line\": {\"colorbar\": {\"outlinewidth\": 0, \"ticks\": \"\"}}, \"marker\": {\"colorbar\": {\"outlinewidth\": 0, \"ticks\": \"\"}}, \"type\": \"scatter3d\"}], \"scattercarpet\": [{\"marker\": {\"colorbar\": {\"outlinewidth\": 0, \"ticks\": \"\"}}, \"type\": \"scattercarpet\"}], \"scattergeo\": [{\"marker\": {\"colorbar\": {\"outlinewidth\": 0, \"ticks\": \"\"}}, \"type\": \"scattergeo\"}], \"scattergl\": [{\"marker\": {\"colorbar\": {\"outlinewidth\": 0, \"ticks\": \"\"}}, \"type\": \"scattergl\"}], \"scattermapbox\": [{\"marker\": {\"colorbar\": {\"outlinewidth\": 0, \"ticks\": \"\"}}, \"type\": \"scattermapbox\"}], \"scatterpolar\": [{\"marker\": {\"colorbar\": {\"outlinewidth\": 0, \"ticks\": \"\"}}, \"type\": \"scatterpolar\"}], \"scatterpolargl\": [{\"marker\": {\"colorbar\": {\"outlinewidth\": 0, \"ticks\": \"\"}}, \"type\": \"scatterpolargl\"}], \"scatterternary\": [{\"marker\": {\"colorbar\": {\"outlinewidth\": 0, \"ticks\": \"\"}}, \"type\": \"scatterternary\"}], \"surface\": [{\"colorbar\": {\"outlinewidth\": 0, \"ticks\": \"\"}, \"colorscale\": [[0.0, \"#0d0887\"], [0.1111111111111111, \"#46039f\"], [0.2222222222222222, \"#7201a8\"], [0.3333333333333333, \"#9c179e\"], [0.4444444444444444, \"#bd3786\"], [0.5555555555555556, \"#d8576b\"], [0.6666666666666666, \"#ed7953\"], [0.7777777777777778, \"#fb9f3a\"], [0.8888888888888888, \"#fdca26\"], [1.0, \"#f0f921\"]], \"type\": \"surface\"}], \"table\": [{\"cells\": {\"fill\": {\"color\": \"#EBF0F8\"}, \"line\": {\"color\": \"white\"}}, \"header\": {\"fill\": {\"color\": \"#C8D4E3\"}, \"line\": {\"color\": \"white\"}}, \"type\": \"table\"}]}, \"layout\": {\"annotationdefaults\": {\"arrowcolor\": \"#2a3f5f\", \"arrowhead\": 0, \"arrowwidth\": 1}, \"coloraxis\": {\"colorbar\": {\"outlinewidth\": 0, \"ticks\": \"\"}}, \"colorscale\": {\"diverging\": [[0, \"#8e0152\"], [0.1, \"#c51b7d\"], [0.2, \"#de77ae\"], [0.3, \"#f1b6da\"], [0.4, \"#fde0ef\"], [0.5, \"#f7f7f7\"], [0.6, \"#e6f5d0\"], [0.7, \"#b8e186\"], [0.8, \"#7fbc41\"], [0.9, \"#4d9221\"], [1, \"#276419\"]], \"sequential\": [[0.0, \"#0d0887\"], [0.1111111111111111, \"#46039f\"], [0.2222222222222222, \"#7201a8\"], [0.3333333333333333, \"#9c179e\"], [0.4444444444444444, \"#bd3786\"], [0.5555555555555556, \"#d8576b\"], [0.6666666666666666, \"#ed7953\"], [0.7777777777777778, \"#fb9f3a\"], [0.8888888888888888, \"#fdca26\"], [1.0, \"#f0f921\"]], \"sequentialminus\": [[0.0, \"#0d0887\"], [0.1111111111111111, \"#46039f\"], [0.2222222222222222, \"#7201a8\"], [0.3333333333333333, \"#9c179e\"], [0.4444444444444444, \"#bd3786\"], [0.5555555555555556, \"#d8576b\"], [0.6666666666666666, \"#ed7953\"], [0.7777777777777778, \"#fb9f3a\"], [0.8888888888888888, \"#fdca26\"], [1.0, \"#f0f921\"]]}, \"colorway\": [\"#636efa\", \"#EF553B\", \"#00cc96\", \"#ab63fa\", \"#FFA15A\", \"#19d3f3\", \"#FF6692\", \"#B6E880\", \"#FF97FF\", \"#FECB52\"], \"font\": {\"color\": \"#2a3f5f\"}, \"geo\": {\"bgcolor\": \"white\", \"lakecolor\": \"white\", \"landcolor\": \"#E5ECF6\", \"showlakes\": true, \"showland\": true, \"subunitcolor\": \"white\"}, \"hoverlabel\": {\"align\": \"left\"}, \"hovermode\": \"closest\", \"mapbox\": {\"style\": \"light\"}, \"paper_bgcolor\": \"white\", \"plot_bgcolor\": \"#E5ECF6\", \"polar\": {\"angularaxis\": {\"gridcolor\": \"white\", \"linecolor\": \"white\", \"ticks\": \"\"}, \"bgcolor\": \"#E5ECF6\", \"radialaxis\": {\"gridcolor\": \"white\", \"linecolor\": \"white\", \"ticks\": \"\"}}, \"scene\": {\"xaxis\": {\"backgroundcolor\": \"#E5ECF6\", \"gridcolor\": \"white\", \"gridwidth\": 2, \"linecolor\": \"white\", \"showbackground\": true, \"ticks\": \"\", \"zerolinecolor\": \"white\"}, \"yaxis\": {\"backgroundcolor\": \"#E5ECF6\", \"gridcolor\": \"white\", \"gridwidth\": 2, \"linecolor\": \"white\", \"showbackground\": true, \"ticks\": \"\", \"zerolinecolor\": \"white\"}, \"zaxis\": {\"backgroundcolor\": \"#E5ECF6\", \"gridcolor\": \"white\", \"gridwidth\": 2, \"linecolor\": \"white\", \"showbackground\": true, \"ticks\": \"\", \"zerolinecolor\": \"white\"}}, \"shapedefaults\": {\"line\": {\"color\": \"#2a3f5f\"}}, \"ternary\": {\"aaxis\": {\"gridcolor\": \"white\", \"linecolor\": \"white\", \"ticks\": \"\"}, \"baxis\": {\"gridcolor\": \"white\", \"linecolor\": \"white\", \"ticks\": \"\"}, \"bgcolor\": \"#E5ECF6\", \"caxis\": {\"gridcolor\": \"white\", \"linecolor\": \"white\", \"ticks\": \"\"}}, \"title\": {\"x\": 0.05}, \"xaxis\": {\"automargin\": true, \"gridcolor\": \"white\", \"linecolor\": \"white\", \"ticks\": \"\", \"title\": {\"standoff\": 15}, \"zerolinecolor\": \"white\", \"zerolinewidth\": 2}, \"yaxis\": {\"automargin\": true, \"gridcolor\": \"white\", \"linecolor\": \"white\", \"ticks\": \"\", \"title\": {\"standoff\": 15}, \"zerolinecolor\": \"white\", \"zerolinewidth\": 2}}}, \"title\": {\"text\": \"COVID-19 - Contamina\\u00e7\\u00e3o relativa  14-04-2020 \\nCasos a cada 10 mil habitantes - E. Logar\\u00edtimica\"}, \"xaxis\": {\"tickangle\": 0, \"tickfont\": {\"size\": 10}, \"title\": {\"text\": \"Dias desde o caso 50\"}}, \"yaxis\": {\"title\": {\"text\": \"Casos a cada 10000 hab.\"}, \"type\": \"log\"}},\n",
              "                        {\"responsive\": true}\n",
              "                    ).then(function(){\n",
              "                            \n",
              "var gd = document.getElementById('2f8eb94b-4c26-4b20-a1c4-cc2f50212674');\n",
              "var x = new MutationObserver(function (mutations, observer) {{\n",
              "        var display = window.getComputedStyle(gd).display;\n",
              "        if (!display || display === 'none') {{\n",
              "            console.log([gd, 'removed!']);\n",
              "            Plotly.purge(gd);\n",
              "            observer.disconnect();\n",
              "        }}\n",
              "}});\n",
              "\n",
              "// Listen for the removal of the full notebook cells\n",
              "var notebookContainer = gd.closest('#notebook-container');\n",
              "if (notebookContainer) {{\n",
              "    x.observe(notebookContainer, {childList: true});\n",
              "}}\n",
              "\n",
              "// Listen for the clearing of the current output cell\n",
              "var outputEl = gd.closest('.output');\n",
              "if (outputEl) {{\n",
              "    x.observe(outputEl, {childList: true});\n",
              "}}\n",
              "\n",
              "                        })\n",
              "                };\n",
              "                \n",
              "            </script>\n",
              "        </div>\n",
              "</body>\n",
              "</html>"
            ]
          },
          "metadata": {
            "tags": []
          }
        }
      ]
    },
    {
      "cell_type": "markdown",
      "metadata": {
        "colab_type": "text",
        "id": "Lus3_NdWU6m3"
      },
      "source": [
        "<center> <h2> Mortes </h2> </center>"
      ]
    },
    {
      "cell_type": "code",
      "metadata": {
        "id": "otGKxWg1L6qr",
        "colab_type": "code",
        "colab": {}
      },
      "source": [
        "#hide\n",
        "def preprocessing_death(data):\n",
        "  data.sort_index(ascending=False,inplace=True)\n",
        "  data['Cumulativo'] = data['cases'].cumsum()\n",
        "  data['deathcum'] = data['deaths'].cumsum()\n",
        "  data = data[data['deathcum']>=5]\n",
        "  data = data.reset_index(drop=True)\n",
        "  data = data.drop(['cases'],axis=1)\n",
        "  return data"
      ],
      "execution_count": 0,
      "outputs": []
    },
    {
      "cell_type": "code",
      "metadata": {
        "id": "Cw9l2GDmOm0z",
        "colab_type": "code",
        "colab": {}
      },
      "source": [
        "#hide\n",
        "paises_death_list = []\n",
        "for i in countries:\n",
        "  y = preprocessing_death(i)\n",
        "  paises_death_list.append(y)"
      ],
      "execution_count": 0,
      "outputs": []
    },
    {
      "cell_type": "code",
      "metadata": {
        "id": "ROM8tA2EO9ns",
        "colab_type": "code",
        "outputId": "09180180-bcf0-4520-d3fd-dc5d9332e180",
        "colab": {
          "base_uri": "https://localhost:8080/",
          "height": 85
        }
      },
      "source": [
        "#hide\n",
        "paises = pd.concat(paises_death_list)\n",
        "paises['indice'] = paises.index\n",
        "paises['relativa'] = 10000*(paises['Cumulativo']/paises['popData2018'])\n",
        "paises['letalidade']= 100*paises['deathcum']/paises['Cumulativo']\n",
        "paises = paises.sort_values('indice')\n",
        "paises['countriesAndTerritories'].unique()"
      ],
      "execution_count": 23,
      "outputs": [
        {
          "output_type": "execute_result",
          "data": {
            "text/plain": [
              "array(['Brazil', 'Italy', 'Argentina', 'France',\n",
              "       'United_States_of_America', 'United_Kingdom', 'Spain',\n",
              "       'New_Zealand', 'South_Korea', 'Germany', 'Czechia', 'Taiwan',\n",
              "       'Japan', 'China'], dtype=object)"
            ]
          },
          "metadata": {
            "tags": []
          },
          "execution_count": 23
        }
      ]
    },
    {
      "cell_type": "code",
      "metadata": {
        "id": "uFmpe8NPOKw0",
        "colab_type": "code",
        "outputId": "9bd281e2-1f95-4a3e-b410-7a2b554c7dd0",
        "colab": {
          "base_uri": "https://localhost:8080/",
          "height": 165
        }
      },
      "source": [
        "#hide\n",
        "paises[paises['countriesAndTerritories']=='New_Zealand']"
      ],
      "execution_count": 37,
      "outputs": [
        {
          "output_type": "execute_result",
          "data": {
            "text/html": [
              "<div>\n",
              "<style scoped>\n",
              "    .dataframe tbody tr th:only-of-type {\n",
              "        vertical-align: middle;\n",
              "    }\n",
              "\n",
              "    .dataframe tbody tr th {\n",
              "        vertical-align: top;\n",
              "    }\n",
              "\n",
              "    .dataframe thead th {\n",
              "        text-align: right;\n",
              "    }\n",
              "</style>\n",
              "<table border=\"1\" class=\"dataframe\">\n",
              "  <thead>\n",
              "    <tr style=\"text-align: right;\">\n",
              "      <th></th>\n",
              "      <th>dateRep</th>\n",
              "      <th>day</th>\n",
              "      <th>month</th>\n",
              "      <th>year</th>\n",
              "      <th>deaths</th>\n",
              "      <th>countriesAndTerritories</th>\n",
              "      <th>geoId</th>\n",
              "      <th>countryterritoryCode</th>\n",
              "      <th>popData2018</th>\n",
              "      <th>Cumulativo</th>\n",
              "      <th>deathcum</th>\n",
              "      <th>indice</th>\n",
              "      <th>relativa</th>\n",
              "      <th>letalidade</th>\n",
              "    </tr>\n",
              "  </thead>\n",
              "  <tbody>\n",
              "    <tr>\n",
              "      <th>0</th>\n",
              "      <td>2020-04-13</td>\n",
              "      <td>13</td>\n",
              "      <td>4</td>\n",
              "      <td>2020</td>\n",
              "      <td>1</td>\n",
              "      <td>New_Zealand</td>\n",
              "      <td>NZ</td>\n",
              "      <td>NZL</td>\n",
              "      <td>4885500.0</td>\n",
              "      <td>1064</td>\n",
              "      <td>5</td>\n",
              "      <td>0</td>\n",
              "      <td>2.177873</td>\n",
              "      <td>0.469925</td>\n",
              "    </tr>\n",
              "    <tr>\n",
              "      <th>1</th>\n",
              "      <td>2020-04-14</td>\n",
              "      <td>14</td>\n",
              "      <td>4</td>\n",
              "      <td>2020</td>\n",
              "      <td>4</td>\n",
              "      <td>New_Zealand</td>\n",
              "      <td>NZ</td>\n",
              "      <td>NZL</td>\n",
              "      <td>4885500.0</td>\n",
              "      <td>1072</td>\n",
              "      <td>9</td>\n",
              "      <td>1</td>\n",
              "      <td>2.194248</td>\n",
              "      <td>0.839552</td>\n",
              "    </tr>\n",
              "  </tbody>\n",
              "</table>\n",
              "</div>"
            ],
            "text/plain": [
              "     dateRep  day  month  year  ...  deathcum indice  relativa letalidade\n",
              "0 2020-04-13   13      4  2020  ...         5      0  2.177873   0.469925\n",
              "1 2020-04-14   14      4  2020  ...         9      1  2.194248   0.839552\n",
              "\n",
              "[2 rows x 14 columns]"
            ]
          },
          "metadata": {
            "tags": []
          },
          "execution_count": 37
        }
      ]
    },
    {
      "cell_type": "code",
      "metadata": {
        "id": "ANZ4V_sZPRPc",
        "colab_type": "code",
        "colab": {}
      },
      "source": [
        "#hide\n",
        "final_data = paises\n",
        "final_data = final_data.sort_values(['indice','countriesAndTerritories'])"
      ],
      "execution_count": 0,
      "outputs": []
    },
    {
      "cell_type": "code",
      "metadata": {
        "id": "COOdewElI6E_",
        "colab_type": "code",
        "outputId": "2ce59745-305d-4102-9b33-4920f1ed9b20",
        "colab": {
          "base_uri": "https://localhost:8080/",
          "height": 542
        }
      },
      "source": [
        "#hide_input\n",
        "import plotly.graph_objects as go\n",
        "fig = go.Figure()\n",
        "fig.add_trace(go.Scatter(x=final_data['indice'][final_data['countriesAndTerritories']=='Brazil'], \n",
        "                         y=final_data['deathcum'][final_data['countriesAndTerritories']=='Brazil'], name='Brasil',line=dict(color='black', width=5)))\n",
        "fig.add_trace(go.Scatter(x=final_data['indice'][final_data['countriesAndTerritories']=='France'], \n",
        "                         y=final_data['deathcum'][final_data['countriesAndTerritories']=='France'], name='França',line=dict(color='red', width=2)))\n",
        "fig.add_trace(go.Scatter(x=final_data['indice'][final_data['countriesAndTerritories']=='Spain'], \n",
        "                         y=final_data['deathcum'][final_data['countriesAndTerritories']=='Spain'], name='Espanha',line=dict(color='blue', width=2)))\n",
        "fig.add_trace(go.Scatter(x=final_data['indice'][final_data['countriesAndTerritories']=='Italy'], \n",
        "                         y=final_data['deathcum'][final_data['countriesAndTerritories']=='Italy'], name='Itália',line=dict(color='green', width=2)))\n",
        "fig.add_trace(go.Scatter(x=final_data['indice'][final_data['countriesAndTerritories']=='United_Kingdom'], \n",
        "                         y=final_data['deathcum'][final_data['countriesAndTerritories']=='United_Kingdom'], name='Reino Unido',line=dict(color='yellowgreen', width=2)))\n",
        "fig.add_trace(go.Scatter(x=final_data['indice'][final_data['countriesAndTerritories']=='Argentina'], \n",
        "                         y=final_data['deathcum'][final_data['countriesAndTerritories']=='Argentina'],mode='lines', name='Argentina',line=dict(color='darkgreen', width=2)))\n",
        "fig.add_trace(go.Scatter(x=final_data['indice'][final_data['countriesAndTerritories']=='Germany'], \n",
        "                         y=final_data['deathcum'][final_data['countriesAndTerritories']=='Germany'], name='Alemanha',line=dict(color='darkslateblue', width=2)))\n",
        "fig.add_trace(go.Scatter(x=final_data['indice'][final_data['countriesAndTerritories']=='United_States_of_America'], \n",
        "                         y=final_data['deathcum'][final_data['countriesAndTerritories']=='United_States_of_America'], name='EUA',line=dict(color='mediumpurple', width=2)))\n",
        "fig.add_trace(go.Scatter(x=final_data['indice'][final_data['countriesAndTerritories']=='New_Zealand'], \n",
        "                         y=final_data['deathcum'][final_data['countriesAndTerritories']=='New_Zealand'], name='Nova Zelândia',line=dict(color='yellow', width=2)))\n",
        "\n",
        "\n",
        "fig.add_trace(go.Scatter(x=final_data['indice'][final_data['countriesAndTerritories']=='Czechia'], \n",
        "                         y=final_data['deathcum'][final_data['countriesAndTerritories']=='Czechia'],mode='lines', name='República Tcheca',line=dict(color='magenta', width=2)))\n",
        "fig.add_trace(go.Scatter(x=final_data['indice'][final_data['countriesAndTerritories']=='South_Korea'], \n",
        "                         y=final_data['deathcum'][final_data['countriesAndTerritories']=='South_Korea'], name='Coréia do Sul',line=dict(color='brown', width=2)))\n",
        "fig.add_trace(go.Scatter(x=final_data['indice'][final_data['countriesAndTerritories']=='Taiwan'], \n",
        "                         y=final_data['deathcum'][final_data['countriesAndTerritories']=='Taiwan'],mode='lines', name='Taiwan',line=dict(color='grey', width=2)))\n",
        "fig.add_trace(go.Scatter(x=final_data['indice'][final_data['countriesAndTerritories']=='Hong_Kong'], \n",
        "                         y=final_data['deathcum'][final_data['countriesAndTerritories']=='Hong_Kong'], name='Hong Kong',line=dict(color='lavenderblush', width=2)))\n",
        "fig.add_trace(go.Scatter(x=final_data['indice'][final_data['countriesAndTerritories']=='Japan'], \n",
        "                         y=final_data['deathcum'][final_data['countriesAndTerritories']=='Japan'], name='Japão',line=dict(color='pink', width=2)))\n",
        "fig.add_trace(go.Scatter(x=final_data['indice'][final_data['countriesAndTerritories']=='China'], \n",
        "                         y=final_data['deathcum'][final_data['countriesAndTerritories']=='China'], name='China',line=dict(color='lightgreen', width=2)))\n",
        "\n",
        "fig.update_xaxes(tickangle=0, tickfont=dict(size=10))\n",
        "\n",
        "\n",
        "fig.update_layout(title='COVID-19 - Óbitos-  {} E. Aritmética' .format(today),\n",
        "                   xaxis_title='Dias desde o 5º óbito',\n",
        "                   yaxis_title='Óbitos',legend= {'borderwidth':0,'orientation':'v','yanchor':'top','font':{'size':8}})"
      ],
      "execution_count": 26,
      "outputs": [
        {
          "output_type": "display_data",
          "data": {
            "text/html": [
              "<html>\n",
              "<head><meta charset=\"utf-8\" /></head>\n",
              "<body>\n",
              "    <div>\n",
              "            <script src=\"https://cdnjs.cloudflare.com/ajax/libs/mathjax/2.7.5/MathJax.js?config=TeX-AMS-MML_SVG\"></script><script type=\"text/javascript\">if (window.MathJax) {MathJax.Hub.Config({SVG: {font: \"STIX-Web\"}});}</script>\n",
              "                <script type=\"text/javascript\">window.PlotlyConfig = {MathJaxConfig: 'local'};</script>\n",
              "        <script src=\"https://cdn.plot.ly/plotly-latest.min.js\"></script>    \n",
              "            <div id=\"c1d0a5d3-f6d9-4ae4-bc6b-0f0f7f85f429\" class=\"plotly-graph-div\" style=\"height:525px; width:100%;\"></div>\n",
              "            <script type=\"text/javascript\">\n",
              "                \n",
              "                    window.PLOTLYENV=window.PLOTLYENV || {};\n",
              "                    \n",
              "                if (document.getElementById(\"c1d0a5d3-f6d9-4ae4-bc6b-0f0f7f85f429\")) {\n",
              "                    Plotly.newPlot(\n",
              "                        'c1d0a5d3-f6d9-4ae4-bc6b-0f0f7f85f429',\n",
              "                        [{\"line\": {\"color\": \"black\", \"width\": 5}, \"name\": \"Brasil\", \"type\": \"scatter\", \"x\": [0, 1, 2, 3, 4, 5, 6, 7, 8, 9, 10, 11, 12, 13, 14, 15, 16, 17, 18, 19, 20, 21, 22, 23, 24, 25], \"y\": [6, 11, 18, 25, 34, 46, 57, 77, 92, 114, 136, 159, 201, 241, 299, 359, 432, 486, 553, 667, 800, 941, 1056, 1124, 1223, 1328]}, {\"line\": {\"color\": \"red\", \"width\": 2}, \"name\": \"Fran\\u00e7a\", \"type\": \"scatter\", \"x\": [0, 1, 2, 3, 4, 5, 6, 7, 8, 9, 10, 11, 12, 13, 14, 15, 16, 17, 18, 19, 20, 21, 22, 23, 24, 25, 26, 27, 28, 29, 30, 31, 32, 33, 34, 35, 36, 37, 38, 39], \"y\": [7, 9, 10, 19, 30, 33, 48, 61, 79, 91, 127, 148, 175, 244, 372, 450, 562, 674, 860, 1100, 1331, 1696, 1995, 2314, 2606, 3024, 3523, 4032, 4503, 6507, 7560, 8078, 8911, 10328, 10869, 12210, 13197, 13832, 14393, 14967]}, {\"line\": {\"color\": \"blue\", \"width\": 2}, \"name\": \"Espanha\", \"type\": \"scatter\", \"x\": [0, 1, 2, 3, 4, 5, 6, 7, 8, 9, 10, 11, 12, 13, 14, 15, 16, 17, 18, 19, 20, 21, 22, 23, 24, 25, 26, 27, 28, 29, 30, 31, 32, 33, 34, 35, 36, 37, 38], \"y\": [5, 5, 5, 28, 35, 47, 84, 121, 136, 288, 309, 491, 598, 767, 1002, 1326, 1720, 2182, 2696, 3434, 4089, 4858, 5690, 6528, 7340, 8189, 9053, 10003, 10935, 11744, 12418, 13055, 13798, 14555, 15238, 15843, 16353, 16972, 17489]}, {\"line\": {\"color\": \"green\", \"width\": 2}, \"name\": \"It\\u00e1lia\", \"type\": \"scatter\", \"x\": [0, 1, 2, 3, 4, 5, 6, 7, 8, 9, 10, 11, 12, 13, 14, 15, 16, 17, 18, 19, 20, 21, 22, 23, 24, 25, 26, 27, 28, 29, 30, 31, 32, 33, 34, 35, 36, 37, 38, 39, 40, 41, 42, 43, 44, 45, 46, 47, 48, 49], \"y\": [6, 11, 12, 17, 21, 29, 35, 52, 80, 107, 148, 197, 233, 366, 464, 631, 827, 1016, 1268, 1441, 1811, 2158, 2505, 2978, 3407, 4032, 4827, 5476, 6077, 6820, 7505, 8165, 9136, 10023, 10781, 11591, 12430, 13157, 13917, 14681, 15362, 15889, 16525, 17129, 17669, 18281, 18851, 19470, 19901, 20465]}, {\"line\": {\"color\": \"yellowgreen\", \"width\": 2}, \"name\": \"Reino Unido\", \"type\": \"scatter\", \"x\": [0, 1, 2, 3, 4, 5, 6, 7, 8, 9, 10, 11, 12, 13, 14, 15, 16, 17, 18, 19, 20, 21, 22, 23, 24, 25, 26, 27, 28, 29, 30, 31, 32, 33, 34, 35], \"y\": [5, 6, 6, 10, 10, 21, 35, 55, 60, 103, 144, 177, 233, 281, 335, 422, 463, 578, 759, 1019, 1228, 1408, 1789, 2532, 2921, 3605, 4313, 4934, 5373, 6159, 7097, 7978, 8958, 9875, 10612, 11329]}, {\"line\": {\"color\": \"darkgreen\", \"width\": 2}, \"mode\": \"lines\", \"name\": \"Argentina\", \"type\": \"scatter\", \"x\": [0, 1, 2, 3, 4, 5, 6, 7, 8, 9, 10, 11, 12, 13, 14, 15, 16, 17, 18, 19, 20], \"y\": [6, 8, 12, 17, 19, 20, 24, 24, 31, 34, 37, 43, 46, 53, 60, 65, 79, 82, 89, 95, 98]}, {\"line\": {\"color\": \"darkslateblue\", \"width\": 2}, \"name\": \"Alemanha\", \"type\": \"scatter\", \"x\": [0, 1, 2, 3, 4, 5, 6, 7, 8, 9, 10, 11, 12, 13, 14, 15, 16, 17, 18, 19, 20, 21, 22, 23, 24, 25, 26, 27, 28, 29, 30, 31, 32], \"y\": [5, 5, 8, 12, 13, 13, 13, 43, 45, 67, 94, 126, 149, 198, 253, 325, 389, 455, 583, 732, 872, 1017, 1158, 1342, 1434, 1607, 1861, 2107, 2373, 2544, 2673, 2799, 2969]}, {\"line\": {\"color\": \"mediumpurple\", \"width\": 2}, \"name\": \"EUA\", \"type\": \"scatter\", \"x\": [0, 1, 2, 3, 4, 5, 6, 7, 8, 9, 10, 11, 12, 13, 14, 15, 16, 17, 18, 19, 20, 21, 22, 23, 24, 25, 26, 27, 28, 29, 30, 31, 32, 33, 34, 35, 36, 37, 38, 39, 40, 41, 42], \"y\": [6, 9, 11, 12, 14, 17, 21, 26, 28, 30, 40, 47, 57, 69, 85, 108, 150, 150, 260, 340, 471, 590, 801, 1050, 1296, 1707, 2191, 2509, 3170, 4079, 5138, 6053, 7157, 8501, 9647, 10989, 12895, 14817, 16690, 18777, 20608, 22108, 23649]}, {\"line\": {\"color\": \"yellow\", \"width\": 2}, \"name\": \"Nova Zel\\u00e2ndia\", \"type\": \"scatter\", \"x\": [0, 1], \"y\": [5, 9]}, {\"line\": {\"color\": \"magenta\", \"width\": 2}, \"mode\": \"lines\", \"name\": \"Rep\\u00fablica Tcheca\", \"type\": \"scatter\", \"x\": [0, 1, 2, 3, 4, 5, 6, 7, 8, 9, 10, 11, 12, 13, 14, 15, 16, 17, 18, 19], \"y\": [6, 9, 9, 11, 16, 24, 31, 39, 44, 53, 59, 67, 78, 88, 99, 112, 119, 129, 138, 143]}, {\"line\": {\"color\": \"brown\", \"width\": 2}, \"name\": \"Cor\\u00e9ia do Sul\", \"type\": \"scatter\", \"x\": [0, 1, 2, 3, 4, 5, 6, 7, 8, 9, 10, 11, 12, 13, 14, 15, 16, 17, 18, 19, 20, 21, 22, 23, 24, 25, 26, 27, 28, 29, 30, 31, 32, 33, 34, 35, 36, 37, 38, 39, 40, 41, 42, 43, 44, 45, 46, 47, 48, 49, 50, 51], \"y\": [5, 7, 8, 11, 12, 13, 16, 17, 22, 28, 32, 35, 42, 44, 50, 51, 54, 60, 66, 67, 72, 75, 75, 81, 86, 91, 100, 103, 104, 113, 120, 126, 131, 139, 144, 152, 158, 163, 163, 169, 174, 177, 183, 186, 192, 200, 204, 208, 208, 214, 217, 222]}, {\"line\": {\"color\": \"grey\", \"width\": 2}, \"mode\": \"lines\", \"name\": \"Taiwan\", \"type\": \"scatter\", \"x\": [0, 1, 2, 3, 4, 5, 6, 7, 8, 9, 10, 11, 12, 13, 14, 15], \"y\": [5, 5, 5, 5, 5, 5, 5, 5, 5, 5, 5, 5, 5, 6, 6, 6]}, {\"line\": {\"color\": \"lavenderblush\", \"width\": 2}, \"name\": \"Hong Kong\", \"type\": \"scatter\", \"x\": [], \"y\": []}, {\"line\": {\"color\": \"pink\", \"width\": 2}, \"name\": \"Jap\\u00e3o\", \"type\": \"scatter\", \"x\": [0, 1, 2, 3, 4, 5, 6, 7, 8, 9, 10, 11, 12, 13, 14, 15, 16, 17, 18, 19, 20, 21, 22, 23, 24, 25, 26, 27, 28, 29, 30, 31, 32, 33, 34, 35, 36, 37, 38, 39, 40, 41, 42, 43, 44], \"y\": [5, 6, 6, 6, 6, 6, 6, 6, 7, 9, 12, 15, 19, 21, 22, 24, 28, 28, 29, 33, 35, 36, 41, 42, 43, 45, 46, 49, 52, 54, 56, 56, 57, 63, 69, 70, 73, 80, 80, 81, 85, 88, 98, 102, 109]}, {\"line\": {\"color\": \"lightgreen\", \"width\": 2}, \"name\": \"China\", \"type\": \"scatter\", \"x\": [0, 1, 2, 3, 4, 5, 6, 7, 8, 9, 10, 11, 12, 13, 14, 15, 16, 17, 18, 19, 20, 21, 22, 23, 24, 25, 26, 27, 28, 29, 30, 31, 32, 33, 34, 35, 36, 37, 38, 39, 40, 41, 42, 43, 44, 45, 46, 47, 48, 49, 50, 51, 52, 53, 54, 55, 56, 57, 58, 59, 60, 61, 62, 63, 64, 65, 66, 67, 68, 69, 70, 71, 72, 73, 74, 75, 76, 77, 78, 79, 80, 81, 82, 83, 84], \"y\": [6, 17, 17, 26, 41, 56, 81, 106, 132, 170, 213, 259, 304, 361, 426, 492, 564, 637, 723, 812, 909, 1017, 1114, 1368, 1381, 1524, 1666, 1771, 1869, 2008, 2120, 2238, 2347, 2445, 2595, 2665, 2717, 2746, 2790, 2837, 2872, 2914, 2946, 2983, 3014, 3044, 3072, 3099, 3122, 3139, 3161, 3172, 3179, 3194, 3203, 3216, 3225, 3241, 3249, 3253, 3259, 3265, 3274, 3281, 3285, 3291, 3296, 3299, 3304, 3306, 3309, 3310, 3316, 3326, 3330, 3333, 3335, 3335, 3337, 3339, 3340, 3343, 3343, 3345, 3345]}],\n",
              "                        {\"legend\": {\"borderwidth\": 0, \"font\": {\"size\": 8}, \"orientation\": \"v\", \"yanchor\": \"top\"}, \"template\": {\"data\": {\"bar\": [{\"error_x\": {\"color\": \"#2a3f5f\"}, \"error_y\": {\"color\": \"#2a3f5f\"}, \"marker\": {\"line\": {\"color\": \"#E5ECF6\", \"width\": 0.5}}, \"type\": \"bar\"}], \"barpolar\": [{\"marker\": {\"line\": {\"color\": \"#E5ECF6\", \"width\": 0.5}}, \"type\": \"barpolar\"}], \"carpet\": [{\"aaxis\": {\"endlinecolor\": \"#2a3f5f\", \"gridcolor\": \"white\", \"linecolor\": \"white\", \"minorgridcolor\": \"white\", \"startlinecolor\": \"#2a3f5f\"}, \"baxis\": {\"endlinecolor\": \"#2a3f5f\", \"gridcolor\": \"white\", \"linecolor\": \"white\", \"minorgridcolor\": \"white\", \"startlinecolor\": \"#2a3f5f\"}, \"type\": \"carpet\"}], \"choropleth\": [{\"colorbar\": {\"outlinewidth\": 0, \"ticks\": \"\"}, \"type\": \"choropleth\"}], \"contour\": [{\"colorbar\": {\"outlinewidth\": 0, \"ticks\": \"\"}, \"colorscale\": [[0.0, \"#0d0887\"], [0.1111111111111111, \"#46039f\"], [0.2222222222222222, \"#7201a8\"], [0.3333333333333333, \"#9c179e\"], [0.4444444444444444, \"#bd3786\"], [0.5555555555555556, \"#d8576b\"], [0.6666666666666666, \"#ed7953\"], [0.7777777777777778, \"#fb9f3a\"], [0.8888888888888888, \"#fdca26\"], [1.0, \"#f0f921\"]], \"type\": \"contour\"}], \"contourcarpet\": [{\"colorbar\": {\"outlinewidth\": 0, \"ticks\": \"\"}, \"type\": \"contourcarpet\"}], \"heatmap\": [{\"colorbar\": {\"outlinewidth\": 0, \"ticks\": \"\"}, \"colorscale\": [[0.0, \"#0d0887\"], [0.1111111111111111, \"#46039f\"], [0.2222222222222222, \"#7201a8\"], [0.3333333333333333, \"#9c179e\"], [0.4444444444444444, \"#bd3786\"], [0.5555555555555556, \"#d8576b\"], [0.6666666666666666, \"#ed7953\"], [0.7777777777777778, \"#fb9f3a\"], [0.8888888888888888, \"#fdca26\"], [1.0, \"#f0f921\"]], \"type\": \"heatmap\"}], \"heatmapgl\": [{\"colorbar\": {\"outlinewidth\": 0, \"ticks\": \"\"}, \"colorscale\": [[0.0, \"#0d0887\"], [0.1111111111111111, \"#46039f\"], [0.2222222222222222, \"#7201a8\"], [0.3333333333333333, \"#9c179e\"], [0.4444444444444444, \"#bd3786\"], [0.5555555555555556, \"#d8576b\"], [0.6666666666666666, \"#ed7953\"], [0.7777777777777778, \"#fb9f3a\"], [0.8888888888888888, \"#fdca26\"], [1.0, \"#f0f921\"]], \"type\": \"heatmapgl\"}], \"histogram\": [{\"marker\": {\"colorbar\": {\"outlinewidth\": 0, \"ticks\": \"\"}}, \"type\": \"histogram\"}], \"histogram2d\": [{\"colorbar\": {\"outlinewidth\": 0, \"ticks\": \"\"}, \"colorscale\": [[0.0, \"#0d0887\"], [0.1111111111111111, \"#46039f\"], [0.2222222222222222, \"#7201a8\"], [0.3333333333333333, \"#9c179e\"], [0.4444444444444444, \"#bd3786\"], [0.5555555555555556, \"#d8576b\"], [0.6666666666666666, \"#ed7953\"], [0.7777777777777778, \"#fb9f3a\"], [0.8888888888888888, \"#fdca26\"], [1.0, \"#f0f921\"]], \"type\": \"histogram2d\"}], \"histogram2dcontour\": [{\"colorbar\": {\"outlinewidth\": 0, \"ticks\": \"\"}, \"colorscale\": [[0.0, \"#0d0887\"], [0.1111111111111111, \"#46039f\"], [0.2222222222222222, \"#7201a8\"], [0.3333333333333333, \"#9c179e\"], [0.4444444444444444, \"#bd3786\"], [0.5555555555555556, \"#d8576b\"], [0.6666666666666666, \"#ed7953\"], [0.7777777777777778, \"#fb9f3a\"], [0.8888888888888888, \"#fdca26\"], [1.0, \"#f0f921\"]], \"type\": \"histogram2dcontour\"}], \"mesh3d\": [{\"colorbar\": {\"outlinewidth\": 0, \"ticks\": \"\"}, \"type\": \"mesh3d\"}], \"parcoords\": [{\"line\": {\"colorbar\": {\"outlinewidth\": 0, \"ticks\": \"\"}}, \"type\": \"parcoords\"}], \"pie\": [{\"automargin\": true, \"type\": \"pie\"}], \"scatter\": [{\"marker\": {\"colorbar\": {\"outlinewidth\": 0, \"ticks\": \"\"}}, \"type\": \"scatter\"}], \"scatter3d\": [{\"line\": {\"colorbar\": {\"outlinewidth\": 0, \"ticks\": \"\"}}, \"marker\": {\"colorbar\": {\"outlinewidth\": 0, \"ticks\": \"\"}}, \"type\": \"scatter3d\"}], \"scattercarpet\": [{\"marker\": {\"colorbar\": {\"outlinewidth\": 0, \"ticks\": \"\"}}, \"type\": \"scattercarpet\"}], \"scattergeo\": [{\"marker\": {\"colorbar\": {\"outlinewidth\": 0, \"ticks\": \"\"}}, \"type\": \"scattergeo\"}], \"scattergl\": [{\"marker\": {\"colorbar\": {\"outlinewidth\": 0, \"ticks\": \"\"}}, \"type\": \"scattergl\"}], \"scattermapbox\": [{\"marker\": {\"colorbar\": {\"outlinewidth\": 0, \"ticks\": \"\"}}, \"type\": \"scattermapbox\"}], \"scatterpolar\": [{\"marker\": {\"colorbar\": {\"outlinewidth\": 0, \"ticks\": \"\"}}, \"type\": \"scatterpolar\"}], \"scatterpolargl\": [{\"marker\": {\"colorbar\": {\"outlinewidth\": 0, \"ticks\": \"\"}}, \"type\": \"scatterpolargl\"}], \"scatterternary\": [{\"marker\": {\"colorbar\": {\"outlinewidth\": 0, \"ticks\": \"\"}}, \"type\": \"scatterternary\"}], \"surface\": [{\"colorbar\": {\"outlinewidth\": 0, \"ticks\": \"\"}, \"colorscale\": [[0.0, \"#0d0887\"], [0.1111111111111111, \"#46039f\"], [0.2222222222222222, \"#7201a8\"], [0.3333333333333333, \"#9c179e\"], [0.4444444444444444, \"#bd3786\"], [0.5555555555555556, \"#d8576b\"], [0.6666666666666666, \"#ed7953\"], [0.7777777777777778, \"#fb9f3a\"], [0.8888888888888888, \"#fdca26\"], [1.0, \"#f0f921\"]], \"type\": \"surface\"}], \"table\": [{\"cells\": {\"fill\": {\"color\": \"#EBF0F8\"}, \"line\": {\"color\": \"white\"}}, \"header\": {\"fill\": {\"color\": \"#C8D4E3\"}, \"line\": {\"color\": \"white\"}}, \"type\": \"table\"}]}, \"layout\": {\"annotationdefaults\": {\"arrowcolor\": \"#2a3f5f\", \"arrowhead\": 0, \"arrowwidth\": 1}, \"coloraxis\": {\"colorbar\": {\"outlinewidth\": 0, \"ticks\": \"\"}}, \"colorscale\": {\"diverging\": [[0, \"#8e0152\"], [0.1, \"#c51b7d\"], [0.2, \"#de77ae\"], [0.3, \"#f1b6da\"], [0.4, \"#fde0ef\"], [0.5, \"#f7f7f7\"], [0.6, \"#e6f5d0\"], [0.7, \"#b8e186\"], [0.8, \"#7fbc41\"], [0.9, \"#4d9221\"], [1, \"#276419\"]], \"sequential\": [[0.0, \"#0d0887\"], [0.1111111111111111, \"#46039f\"], [0.2222222222222222, \"#7201a8\"], [0.3333333333333333, \"#9c179e\"], [0.4444444444444444, \"#bd3786\"], [0.5555555555555556, \"#d8576b\"], [0.6666666666666666, \"#ed7953\"], [0.7777777777777778, \"#fb9f3a\"], [0.8888888888888888, \"#fdca26\"], [1.0, \"#f0f921\"]], \"sequentialminus\": [[0.0, \"#0d0887\"], [0.1111111111111111, \"#46039f\"], [0.2222222222222222, \"#7201a8\"], [0.3333333333333333, \"#9c179e\"], [0.4444444444444444, \"#bd3786\"], [0.5555555555555556, \"#d8576b\"], [0.6666666666666666, \"#ed7953\"], [0.7777777777777778, \"#fb9f3a\"], [0.8888888888888888, \"#fdca26\"], [1.0, \"#f0f921\"]]}, \"colorway\": [\"#636efa\", \"#EF553B\", \"#00cc96\", \"#ab63fa\", \"#FFA15A\", \"#19d3f3\", \"#FF6692\", \"#B6E880\", \"#FF97FF\", \"#FECB52\"], \"font\": {\"color\": \"#2a3f5f\"}, \"geo\": {\"bgcolor\": \"white\", \"lakecolor\": \"white\", \"landcolor\": \"#E5ECF6\", \"showlakes\": true, \"showland\": true, \"subunitcolor\": \"white\"}, \"hoverlabel\": {\"align\": \"left\"}, \"hovermode\": \"closest\", \"mapbox\": {\"style\": \"light\"}, \"paper_bgcolor\": \"white\", \"plot_bgcolor\": \"#E5ECF6\", \"polar\": {\"angularaxis\": {\"gridcolor\": \"white\", \"linecolor\": \"white\", \"ticks\": \"\"}, \"bgcolor\": \"#E5ECF6\", \"radialaxis\": {\"gridcolor\": \"white\", \"linecolor\": \"white\", \"ticks\": \"\"}}, \"scene\": {\"xaxis\": {\"backgroundcolor\": \"#E5ECF6\", \"gridcolor\": \"white\", \"gridwidth\": 2, \"linecolor\": \"white\", \"showbackground\": true, \"ticks\": \"\", \"zerolinecolor\": \"white\"}, \"yaxis\": {\"backgroundcolor\": \"#E5ECF6\", \"gridcolor\": \"white\", \"gridwidth\": 2, \"linecolor\": \"white\", \"showbackground\": true, \"ticks\": \"\", \"zerolinecolor\": \"white\"}, \"zaxis\": {\"backgroundcolor\": \"#E5ECF6\", \"gridcolor\": \"white\", \"gridwidth\": 2, \"linecolor\": \"white\", \"showbackground\": true, \"ticks\": \"\", \"zerolinecolor\": \"white\"}}, \"shapedefaults\": {\"line\": {\"color\": \"#2a3f5f\"}}, \"ternary\": {\"aaxis\": {\"gridcolor\": \"white\", \"linecolor\": \"white\", \"ticks\": \"\"}, \"baxis\": {\"gridcolor\": \"white\", \"linecolor\": \"white\", \"ticks\": \"\"}, \"bgcolor\": \"#E5ECF6\", \"caxis\": {\"gridcolor\": \"white\", \"linecolor\": \"white\", \"ticks\": \"\"}}, \"title\": {\"x\": 0.05}, \"xaxis\": {\"automargin\": true, \"gridcolor\": \"white\", \"linecolor\": \"white\", \"ticks\": \"\", \"title\": {\"standoff\": 15}, \"zerolinecolor\": \"white\", \"zerolinewidth\": 2}, \"yaxis\": {\"automargin\": true, \"gridcolor\": \"white\", \"linecolor\": \"white\", \"ticks\": \"\", \"title\": {\"standoff\": 15}, \"zerolinecolor\": \"white\", \"zerolinewidth\": 2}}}, \"title\": {\"text\": \"COVID-19 - \\u00d3bitos-  14-04-2020 E. Aritm\\u00e9tica\"}, \"xaxis\": {\"tickangle\": 0, \"tickfont\": {\"size\": 10}, \"title\": {\"text\": \"Dias desde o 5\\u00ba \\u00f3bito\"}}, \"yaxis\": {\"title\": {\"text\": \"\\u00d3bitos\"}}},\n",
              "                        {\"responsive\": true}\n",
              "                    ).then(function(){\n",
              "                            \n",
              "var gd = document.getElementById('c1d0a5d3-f6d9-4ae4-bc6b-0f0f7f85f429');\n",
              "var x = new MutationObserver(function (mutations, observer) {{\n",
              "        var display = window.getComputedStyle(gd).display;\n",
              "        if (!display || display === 'none') {{\n",
              "            console.log([gd, 'removed!']);\n",
              "            Plotly.purge(gd);\n",
              "            observer.disconnect();\n",
              "        }}\n",
              "}});\n",
              "\n",
              "// Listen for the removal of the full notebook cells\n",
              "var notebookContainer = gd.closest('#notebook-container');\n",
              "if (notebookContainer) {{\n",
              "    x.observe(notebookContainer, {childList: true});\n",
              "}}\n",
              "\n",
              "// Listen for the clearing of the current output cell\n",
              "var outputEl = gd.closest('.output');\n",
              "if (outputEl) {{\n",
              "    x.observe(outputEl, {childList: true});\n",
              "}}\n",
              "\n",
              "                        })\n",
              "                };\n",
              "                \n",
              "            </script>\n",
              "        </div>\n",
              "</body>\n",
              "</html>"
            ]
          },
          "metadata": {
            "tags": []
          }
        }
      ]
    },
    {
      "cell_type": "code",
      "metadata": {
        "id": "-vWZL8YNJQut",
        "colab_type": "code",
        "outputId": "260f85f6-c65b-412b-b73d-5cc07d379195",
        "colab": {
          "base_uri": "https://localhost:8080/",
          "height": 542
        }
      },
      "source": [
        "#hide_input\n",
        "import plotly.graph_objects as go\n",
        "fig = go.Figure()\n",
        "fig.add_trace(go.Scatter(x=final_data['indice'][final_data['countriesAndTerritories']=='Brazil'], \n",
        "                         y=final_data['deathcum'][final_data['countriesAndTerritories']=='Brazil'], name='Brasil',line=dict(color='black', width=5)))\n",
        "fig.add_trace(go.Scatter(x=final_data['indice'][final_data['countriesAndTerritories']=='France'], \n",
        "                         y=final_data['deathcum'][final_data['countriesAndTerritories']=='France'], name='França',line=dict(color='red', width=2)))\n",
        "fig.add_trace(go.Scatter(x=final_data['indice'][final_data['countriesAndTerritories']=='Spain'], \n",
        "                         y=final_data['deathcum'][final_data['countriesAndTerritories']=='Spain'], name='Espanha',line=dict(color='blue', width=2)))\n",
        "fig.add_trace(go.Scatter(x=final_data['indice'][final_data['countriesAndTerritories']=='Italy'], \n",
        "                         y=final_data['deathcum'][final_data['countriesAndTerritories']=='Italy'], name='Itália',line=dict(color='green', width=2)))\n",
        "fig.add_trace(go.Scatter(x=final_data['indice'][final_data['countriesAndTerritories']=='United_Kingdom'], \n",
        "                         y=final_data['deathcum'][final_data['countriesAndTerritories']=='United_Kingdom'], name='Reino Unido',line=dict(color='yellowgreen', width=2)))\n",
        "fig.add_trace(go.Scatter(x=final_data['indice'][final_data['countriesAndTerritories']=='Argentina'], \n",
        "                         y=final_data['deathcum'][final_data['countriesAndTerritories']=='Argentina'],mode='lines', name='Argentina',line=dict(color='darkgreen', width=2)))\n",
        "fig.add_trace(go.Scatter(x=final_data['indice'][final_data['countriesAndTerritories']=='Germany'], \n",
        "                         y=final_data['deathcum'][final_data['countriesAndTerritories']=='Germany'], name='Alemanha',line=dict(color='darkslateblue', width=2)))\n",
        "fig.add_trace(go.Scatter(x=final_data['indice'][final_data['countriesAndTerritories']=='United_States_of_America'], \n",
        "                         y=final_data['deathcum'][final_data['countriesAndTerritories']=='United_States_of_America'], name='EUA',line=dict(color='mediumpurple', width=2)))\n",
        "fig.add_trace(go.Scatter(x=final_data['indice'][final_data['countriesAndTerritories']=='New_Zealand'], \n",
        "                         y=final_data['deathcum'][final_data['countriesAndTerritories']=='New_Zealand'], name='Nova Zelândia',line=dict(color='yellow', width=2)))\n",
        "\n",
        "\n",
        "fig.add_trace(go.Scatter(x=final_data['indice'][final_data['countriesAndTerritories']=='Czechia'], \n",
        "                         y=final_data['deathcum'][final_data['countriesAndTerritories']=='Czechia'],mode='lines', name='República Tcheca',line=dict(color='magenta', width=2)))\n",
        "fig.add_trace(go.Scatter(x=final_data['indice'][final_data['countriesAndTerritories']=='South_Korea'], \n",
        "                         y=final_data['deathcum'][final_data['countriesAndTerritories']=='South_Korea'], name='Coréia do Sul',line=dict(color='brown', width=2)))\n",
        "fig.add_trace(go.Scatter(x=final_data['indice'][final_data['countriesAndTerritories']=='Taiwan'], \n",
        "                         y=final_data['deathcum'][final_data['countriesAndTerritories']=='Taiwan'],mode='lines', name='Taiwan',line=dict(color='grey', width=2)))\n",
        "fig.add_trace(go.Scatter(x=final_data['indice'][final_data['countriesAndTerritories']=='Hong_Kong'], \n",
        "                         y=final_data['deathcum'][final_data['countriesAndTerritories']=='Hong_Kong'], name='Hong Kong',line=dict(color='lavenderblush', width=2)))\n",
        "fig.add_trace(go.Scatter(x=final_data['indice'][final_data['countriesAndTerritories']=='Japan'], \n",
        "                         y=final_data['deathcum'][final_data['countriesAndTerritories']=='Japan'], name='Japão',line=dict(color='pink', width=2)))\n",
        "fig.add_trace(go.Scatter(x=final_data['indice'][final_data['countriesAndTerritories']=='China'], \n",
        "                         y=final_data['deathcum'][final_data['countriesAndTerritories']=='China'], name='China',line=dict(color='lightgreen', width=2)))\n",
        "\n",
        "fig.update_xaxes(tickangle=0, tickfont=dict(size=10),tick0=0)\n",
        "\n",
        "\n",
        "fig.update_layout(title='COVID-19 - Óbitos-  {} E. Logarítmica' .format(today),\n",
        "                   xaxis_title='Dias desde o 5º óbito',\n",
        "                   yaxis_title='Óbitos',yaxis_type=\"log\",legend= {'borderwidth':0,'orientation':'v','yanchor':'top','font':{'size':8}})"
      ],
      "execution_count": 27,
      "outputs": [
        {
          "output_type": "display_data",
          "data": {
            "text/html": [
              "<html>\n",
              "<head><meta charset=\"utf-8\" /></head>\n",
              "<body>\n",
              "    <div>\n",
              "            <script src=\"https://cdnjs.cloudflare.com/ajax/libs/mathjax/2.7.5/MathJax.js?config=TeX-AMS-MML_SVG\"></script><script type=\"text/javascript\">if (window.MathJax) {MathJax.Hub.Config({SVG: {font: \"STIX-Web\"}});}</script>\n",
              "                <script type=\"text/javascript\">window.PlotlyConfig = {MathJaxConfig: 'local'};</script>\n",
              "        <script src=\"https://cdn.plot.ly/plotly-latest.min.js\"></script>    \n",
              "            <div id=\"21199c8d-c40e-404e-a4d3-369364505246\" class=\"plotly-graph-div\" style=\"height:525px; width:100%;\"></div>\n",
              "            <script type=\"text/javascript\">\n",
              "                \n",
              "                    window.PLOTLYENV=window.PLOTLYENV || {};\n",
              "                    \n",
              "                if (document.getElementById(\"21199c8d-c40e-404e-a4d3-369364505246\")) {\n",
              "                    Plotly.newPlot(\n",
              "                        '21199c8d-c40e-404e-a4d3-369364505246',\n",
              "                        [{\"line\": {\"color\": \"black\", \"width\": 5}, \"name\": \"Brasil\", \"type\": \"scatter\", \"x\": [0, 1, 2, 3, 4, 5, 6, 7, 8, 9, 10, 11, 12, 13, 14, 15, 16, 17, 18, 19, 20, 21, 22, 23, 24, 25], \"y\": [6, 11, 18, 25, 34, 46, 57, 77, 92, 114, 136, 159, 201, 241, 299, 359, 432, 486, 553, 667, 800, 941, 1056, 1124, 1223, 1328]}, {\"line\": {\"color\": \"red\", \"width\": 2}, \"name\": \"Fran\\u00e7a\", \"type\": \"scatter\", \"x\": [0, 1, 2, 3, 4, 5, 6, 7, 8, 9, 10, 11, 12, 13, 14, 15, 16, 17, 18, 19, 20, 21, 22, 23, 24, 25, 26, 27, 28, 29, 30, 31, 32, 33, 34, 35, 36, 37, 38, 39], \"y\": [7, 9, 10, 19, 30, 33, 48, 61, 79, 91, 127, 148, 175, 244, 372, 450, 562, 674, 860, 1100, 1331, 1696, 1995, 2314, 2606, 3024, 3523, 4032, 4503, 6507, 7560, 8078, 8911, 10328, 10869, 12210, 13197, 13832, 14393, 14967]}, {\"line\": {\"color\": \"blue\", \"width\": 2}, \"name\": \"Espanha\", \"type\": \"scatter\", \"x\": [0, 1, 2, 3, 4, 5, 6, 7, 8, 9, 10, 11, 12, 13, 14, 15, 16, 17, 18, 19, 20, 21, 22, 23, 24, 25, 26, 27, 28, 29, 30, 31, 32, 33, 34, 35, 36, 37, 38], \"y\": [5, 5, 5, 28, 35, 47, 84, 121, 136, 288, 309, 491, 598, 767, 1002, 1326, 1720, 2182, 2696, 3434, 4089, 4858, 5690, 6528, 7340, 8189, 9053, 10003, 10935, 11744, 12418, 13055, 13798, 14555, 15238, 15843, 16353, 16972, 17489]}, {\"line\": {\"color\": \"green\", \"width\": 2}, \"name\": \"It\\u00e1lia\", \"type\": \"scatter\", \"x\": [0, 1, 2, 3, 4, 5, 6, 7, 8, 9, 10, 11, 12, 13, 14, 15, 16, 17, 18, 19, 20, 21, 22, 23, 24, 25, 26, 27, 28, 29, 30, 31, 32, 33, 34, 35, 36, 37, 38, 39, 40, 41, 42, 43, 44, 45, 46, 47, 48, 49], \"y\": [6, 11, 12, 17, 21, 29, 35, 52, 80, 107, 148, 197, 233, 366, 464, 631, 827, 1016, 1268, 1441, 1811, 2158, 2505, 2978, 3407, 4032, 4827, 5476, 6077, 6820, 7505, 8165, 9136, 10023, 10781, 11591, 12430, 13157, 13917, 14681, 15362, 15889, 16525, 17129, 17669, 18281, 18851, 19470, 19901, 20465]}, {\"line\": {\"color\": \"yellowgreen\", \"width\": 2}, \"name\": \"Reino Unido\", \"type\": \"scatter\", \"x\": [0, 1, 2, 3, 4, 5, 6, 7, 8, 9, 10, 11, 12, 13, 14, 15, 16, 17, 18, 19, 20, 21, 22, 23, 24, 25, 26, 27, 28, 29, 30, 31, 32, 33, 34, 35], \"y\": [5, 6, 6, 10, 10, 21, 35, 55, 60, 103, 144, 177, 233, 281, 335, 422, 463, 578, 759, 1019, 1228, 1408, 1789, 2532, 2921, 3605, 4313, 4934, 5373, 6159, 7097, 7978, 8958, 9875, 10612, 11329]}, {\"line\": {\"color\": \"darkgreen\", \"width\": 2}, \"mode\": \"lines\", \"name\": \"Argentina\", \"type\": \"scatter\", \"x\": [0, 1, 2, 3, 4, 5, 6, 7, 8, 9, 10, 11, 12, 13, 14, 15, 16, 17, 18, 19, 20], \"y\": [6, 8, 12, 17, 19, 20, 24, 24, 31, 34, 37, 43, 46, 53, 60, 65, 79, 82, 89, 95, 98]}, {\"line\": {\"color\": \"darkslateblue\", \"width\": 2}, \"name\": \"Alemanha\", \"type\": \"scatter\", \"x\": [0, 1, 2, 3, 4, 5, 6, 7, 8, 9, 10, 11, 12, 13, 14, 15, 16, 17, 18, 19, 20, 21, 22, 23, 24, 25, 26, 27, 28, 29, 30, 31, 32], \"y\": [5, 5, 8, 12, 13, 13, 13, 43, 45, 67, 94, 126, 149, 198, 253, 325, 389, 455, 583, 732, 872, 1017, 1158, 1342, 1434, 1607, 1861, 2107, 2373, 2544, 2673, 2799, 2969]}, {\"line\": {\"color\": \"mediumpurple\", \"width\": 2}, \"name\": \"EUA\", \"type\": \"scatter\", \"x\": [0, 1, 2, 3, 4, 5, 6, 7, 8, 9, 10, 11, 12, 13, 14, 15, 16, 17, 18, 19, 20, 21, 22, 23, 24, 25, 26, 27, 28, 29, 30, 31, 32, 33, 34, 35, 36, 37, 38, 39, 40, 41, 42], \"y\": [6, 9, 11, 12, 14, 17, 21, 26, 28, 30, 40, 47, 57, 69, 85, 108, 150, 150, 260, 340, 471, 590, 801, 1050, 1296, 1707, 2191, 2509, 3170, 4079, 5138, 6053, 7157, 8501, 9647, 10989, 12895, 14817, 16690, 18777, 20608, 22108, 23649]}, {\"line\": {\"color\": \"yellow\", \"width\": 2}, \"name\": \"Nova Zel\\u00e2ndia\", \"type\": \"scatter\", \"x\": [0, 1], \"y\": [5, 9]}, {\"line\": {\"color\": \"magenta\", \"width\": 2}, \"mode\": \"lines\", \"name\": \"Rep\\u00fablica Tcheca\", \"type\": \"scatter\", \"x\": [0, 1, 2, 3, 4, 5, 6, 7, 8, 9, 10, 11, 12, 13, 14, 15, 16, 17, 18, 19], \"y\": [6, 9, 9, 11, 16, 24, 31, 39, 44, 53, 59, 67, 78, 88, 99, 112, 119, 129, 138, 143]}, {\"line\": {\"color\": \"brown\", \"width\": 2}, \"name\": \"Cor\\u00e9ia do Sul\", \"type\": \"scatter\", \"x\": [0, 1, 2, 3, 4, 5, 6, 7, 8, 9, 10, 11, 12, 13, 14, 15, 16, 17, 18, 19, 20, 21, 22, 23, 24, 25, 26, 27, 28, 29, 30, 31, 32, 33, 34, 35, 36, 37, 38, 39, 40, 41, 42, 43, 44, 45, 46, 47, 48, 49, 50, 51], \"y\": [5, 7, 8, 11, 12, 13, 16, 17, 22, 28, 32, 35, 42, 44, 50, 51, 54, 60, 66, 67, 72, 75, 75, 81, 86, 91, 100, 103, 104, 113, 120, 126, 131, 139, 144, 152, 158, 163, 163, 169, 174, 177, 183, 186, 192, 200, 204, 208, 208, 214, 217, 222]}, {\"line\": {\"color\": \"grey\", \"width\": 2}, \"mode\": \"lines\", \"name\": \"Taiwan\", \"type\": \"scatter\", \"x\": [0, 1, 2, 3, 4, 5, 6, 7, 8, 9, 10, 11, 12, 13, 14, 15], \"y\": [5, 5, 5, 5, 5, 5, 5, 5, 5, 5, 5, 5, 5, 6, 6, 6]}, {\"line\": {\"color\": \"lavenderblush\", \"width\": 2}, \"name\": \"Hong Kong\", \"type\": \"scatter\", \"x\": [], \"y\": []}, {\"line\": {\"color\": \"pink\", \"width\": 2}, \"name\": \"Jap\\u00e3o\", \"type\": \"scatter\", \"x\": [0, 1, 2, 3, 4, 5, 6, 7, 8, 9, 10, 11, 12, 13, 14, 15, 16, 17, 18, 19, 20, 21, 22, 23, 24, 25, 26, 27, 28, 29, 30, 31, 32, 33, 34, 35, 36, 37, 38, 39, 40, 41, 42, 43, 44], \"y\": [5, 6, 6, 6, 6, 6, 6, 6, 7, 9, 12, 15, 19, 21, 22, 24, 28, 28, 29, 33, 35, 36, 41, 42, 43, 45, 46, 49, 52, 54, 56, 56, 57, 63, 69, 70, 73, 80, 80, 81, 85, 88, 98, 102, 109]}, {\"line\": {\"color\": \"lightgreen\", \"width\": 2}, \"name\": \"China\", \"type\": \"scatter\", \"x\": [0, 1, 2, 3, 4, 5, 6, 7, 8, 9, 10, 11, 12, 13, 14, 15, 16, 17, 18, 19, 20, 21, 22, 23, 24, 25, 26, 27, 28, 29, 30, 31, 32, 33, 34, 35, 36, 37, 38, 39, 40, 41, 42, 43, 44, 45, 46, 47, 48, 49, 50, 51, 52, 53, 54, 55, 56, 57, 58, 59, 60, 61, 62, 63, 64, 65, 66, 67, 68, 69, 70, 71, 72, 73, 74, 75, 76, 77, 78, 79, 80, 81, 82, 83, 84], \"y\": [6, 17, 17, 26, 41, 56, 81, 106, 132, 170, 213, 259, 304, 361, 426, 492, 564, 637, 723, 812, 909, 1017, 1114, 1368, 1381, 1524, 1666, 1771, 1869, 2008, 2120, 2238, 2347, 2445, 2595, 2665, 2717, 2746, 2790, 2837, 2872, 2914, 2946, 2983, 3014, 3044, 3072, 3099, 3122, 3139, 3161, 3172, 3179, 3194, 3203, 3216, 3225, 3241, 3249, 3253, 3259, 3265, 3274, 3281, 3285, 3291, 3296, 3299, 3304, 3306, 3309, 3310, 3316, 3326, 3330, 3333, 3335, 3335, 3337, 3339, 3340, 3343, 3343, 3345, 3345]}],\n",
              "                        {\"legend\": {\"borderwidth\": 0, \"font\": {\"size\": 8}, \"orientation\": \"v\", \"yanchor\": \"top\"}, \"template\": {\"data\": {\"bar\": [{\"error_x\": {\"color\": \"#2a3f5f\"}, \"error_y\": {\"color\": \"#2a3f5f\"}, \"marker\": {\"line\": {\"color\": \"#E5ECF6\", \"width\": 0.5}}, \"type\": \"bar\"}], \"barpolar\": [{\"marker\": {\"line\": {\"color\": \"#E5ECF6\", \"width\": 0.5}}, \"type\": \"barpolar\"}], \"carpet\": [{\"aaxis\": {\"endlinecolor\": \"#2a3f5f\", \"gridcolor\": \"white\", \"linecolor\": \"white\", \"minorgridcolor\": \"white\", \"startlinecolor\": \"#2a3f5f\"}, \"baxis\": {\"endlinecolor\": \"#2a3f5f\", \"gridcolor\": \"white\", \"linecolor\": \"white\", \"minorgridcolor\": \"white\", \"startlinecolor\": \"#2a3f5f\"}, \"type\": \"carpet\"}], \"choropleth\": [{\"colorbar\": {\"outlinewidth\": 0, \"ticks\": \"\"}, \"type\": \"choropleth\"}], \"contour\": [{\"colorbar\": {\"outlinewidth\": 0, \"ticks\": \"\"}, \"colorscale\": [[0.0, \"#0d0887\"], [0.1111111111111111, \"#46039f\"], [0.2222222222222222, \"#7201a8\"], [0.3333333333333333, \"#9c179e\"], [0.4444444444444444, \"#bd3786\"], [0.5555555555555556, \"#d8576b\"], [0.6666666666666666, \"#ed7953\"], [0.7777777777777778, \"#fb9f3a\"], [0.8888888888888888, \"#fdca26\"], [1.0, \"#f0f921\"]], \"type\": \"contour\"}], \"contourcarpet\": [{\"colorbar\": {\"outlinewidth\": 0, \"ticks\": \"\"}, \"type\": \"contourcarpet\"}], \"heatmap\": [{\"colorbar\": {\"outlinewidth\": 0, \"ticks\": \"\"}, \"colorscale\": [[0.0, \"#0d0887\"], [0.1111111111111111, \"#46039f\"], [0.2222222222222222, \"#7201a8\"], [0.3333333333333333, \"#9c179e\"], [0.4444444444444444, \"#bd3786\"], [0.5555555555555556, \"#d8576b\"], [0.6666666666666666, \"#ed7953\"], [0.7777777777777778, \"#fb9f3a\"], [0.8888888888888888, \"#fdca26\"], [1.0, \"#f0f921\"]], \"type\": \"heatmap\"}], \"heatmapgl\": [{\"colorbar\": {\"outlinewidth\": 0, \"ticks\": \"\"}, \"colorscale\": [[0.0, \"#0d0887\"], [0.1111111111111111, \"#46039f\"], [0.2222222222222222, \"#7201a8\"], [0.3333333333333333, \"#9c179e\"], [0.4444444444444444, \"#bd3786\"], [0.5555555555555556, \"#d8576b\"], [0.6666666666666666, \"#ed7953\"], [0.7777777777777778, \"#fb9f3a\"], [0.8888888888888888, \"#fdca26\"], [1.0, \"#f0f921\"]], \"type\": \"heatmapgl\"}], \"histogram\": [{\"marker\": {\"colorbar\": {\"outlinewidth\": 0, \"ticks\": \"\"}}, \"type\": \"histogram\"}], \"histogram2d\": [{\"colorbar\": {\"outlinewidth\": 0, \"ticks\": \"\"}, \"colorscale\": [[0.0, \"#0d0887\"], [0.1111111111111111, \"#46039f\"], [0.2222222222222222, \"#7201a8\"], [0.3333333333333333, \"#9c179e\"], [0.4444444444444444, \"#bd3786\"], [0.5555555555555556, \"#d8576b\"], [0.6666666666666666, \"#ed7953\"], [0.7777777777777778, \"#fb9f3a\"], [0.8888888888888888, \"#fdca26\"], [1.0, \"#f0f921\"]], \"type\": \"histogram2d\"}], \"histogram2dcontour\": [{\"colorbar\": {\"outlinewidth\": 0, \"ticks\": \"\"}, \"colorscale\": [[0.0, \"#0d0887\"], [0.1111111111111111, \"#46039f\"], [0.2222222222222222, \"#7201a8\"], [0.3333333333333333, \"#9c179e\"], [0.4444444444444444, \"#bd3786\"], [0.5555555555555556, \"#d8576b\"], [0.6666666666666666, \"#ed7953\"], [0.7777777777777778, \"#fb9f3a\"], [0.8888888888888888, \"#fdca26\"], [1.0, \"#f0f921\"]], \"type\": \"histogram2dcontour\"}], \"mesh3d\": [{\"colorbar\": {\"outlinewidth\": 0, \"ticks\": \"\"}, \"type\": \"mesh3d\"}], \"parcoords\": [{\"line\": {\"colorbar\": {\"outlinewidth\": 0, \"ticks\": \"\"}}, \"type\": \"parcoords\"}], \"pie\": [{\"automargin\": true, \"type\": \"pie\"}], \"scatter\": [{\"marker\": {\"colorbar\": {\"outlinewidth\": 0, \"ticks\": \"\"}}, \"type\": \"scatter\"}], \"scatter3d\": [{\"line\": {\"colorbar\": {\"outlinewidth\": 0, \"ticks\": \"\"}}, \"marker\": {\"colorbar\": {\"outlinewidth\": 0, \"ticks\": \"\"}}, \"type\": \"scatter3d\"}], \"scattercarpet\": [{\"marker\": {\"colorbar\": {\"outlinewidth\": 0, \"ticks\": \"\"}}, \"type\": \"scattercarpet\"}], \"scattergeo\": [{\"marker\": {\"colorbar\": {\"outlinewidth\": 0, \"ticks\": \"\"}}, \"type\": \"scattergeo\"}], \"scattergl\": [{\"marker\": {\"colorbar\": {\"outlinewidth\": 0, \"ticks\": \"\"}}, \"type\": \"scattergl\"}], \"scattermapbox\": [{\"marker\": {\"colorbar\": {\"outlinewidth\": 0, \"ticks\": \"\"}}, \"type\": \"scattermapbox\"}], \"scatterpolar\": [{\"marker\": {\"colorbar\": {\"outlinewidth\": 0, \"ticks\": \"\"}}, \"type\": \"scatterpolar\"}], \"scatterpolargl\": [{\"marker\": {\"colorbar\": {\"outlinewidth\": 0, \"ticks\": \"\"}}, \"type\": \"scatterpolargl\"}], \"scatterternary\": [{\"marker\": {\"colorbar\": {\"outlinewidth\": 0, \"ticks\": \"\"}}, \"type\": \"scatterternary\"}], \"surface\": [{\"colorbar\": {\"outlinewidth\": 0, \"ticks\": \"\"}, \"colorscale\": [[0.0, \"#0d0887\"], [0.1111111111111111, \"#46039f\"], [0.2222222222222222, \"#7201a8\"], [0.3333333333333333, \"#9c179e\"], [0.4444444444444444, \"#bd3786\"], [0.5555555555555556, \"#d8576b\"], [0.6666666666666666, \"#ed7953\"], [0.7777777777777778, \"#fb9f3a\"], [0.8888888888888888, \"#fdca26\"], [1.0, \"#f0f921\"]], \"type\": \"surface\"}], \"table\": [{\"cells\": {\"fill\": {\"color\": \"#EBF0F8\"}, \"line\": {\"color\": \"white\"}}, \"header\": {\"fill\": {\"color\": \"#C8D4E3\"}, \"line\": {\"color\": \"white\"}}, \"type\": \"table\"}]}, \"layout\": {\"annotationdefaults\": {\"arrowcolor\": \"#2a3f5f\", \"arrowhead\": 0, \"arrowwidth\": 1}, \"coloraxis\": {\"colorbar\": {\"outlinewidth\": 0, \"ticks\": \"\"}}, \"colorscale\": {\"diverging\": [[0, \"#8e0152\"], [0.1, \"#c51b7d\"], [0.2, \"#de77ae\"], [0.3, \"#f1b6da\"], [0.4, \"#fde0ef\"], [0.5, \"#f7f7f7\"], [0.6, \"#e6f5d0\"], [0.7, \"#b8e186\"], [0.8, \"#7fbc41\"], [0.9, \"#4d9221\"], [1, \"#276419\"]], \"sequential\": [[0.0, \"#0d0887\"], [0.1111111111111111, \"#46039f\"], [0.2222222222222222, \"#7201a8\"], [0.3333333333333333, \"#9c179e\"], [0.4444444444444444, \"#bd3786\"], [0.5555555555555556, \"#d8576b\"], [0.6666666666666666, \"#ed7953\"], [0.7777777777777778, \"#fb9f3a\"], [0.8888888888888888, \"#fdca26\"], [1.0, \"#f0f921\"]], \"sequentialminus\": [[0.0, \"#0d0887\"], [0.1111111111111111, \"#46039f\"], [0.2222222222222222, \"#7201a8\"], [0.3333333333333333, \"#9c179e\"], [0.4444444444444444, \"#bd3786\"], [0.5555555555555556, \"#d8576b\"], [0.6666666666666666, \"#ed7953\"], [0.7777777777777778, \"#fb9f3a\"], [0.8888888888888888, \"#fdca26\"], [1.0, \"#f0f921\"]]}, \"colorway\": [\"#636efa\", \"#EF553B\", \"#00cc96\", \"#ab63fa\", \"#FFA15A\", \"#19d3f3\", \"#FF6692\", \"#B6E880\", \"#FF97FF\", \"#FECB52\"], \"font\": {\"color\": \"#2a3f5f\"}, \"geo\": {\"bgcolor\": \"white\", \"lakecolor\": \"white\", \"landcolor\": \"#E5ECF6\", \"showlakes\": true, \"showland\": true, \"subunitcolor\": \"white\"}, \"hoverlabel\": {\"align\": \"left\"}, \"hovermode\": \"closest\", \"mapbox\": {\"style\": \"light\"}, \"paper_bgcolor\": \"white\", \"plot_bgcolor\": \"#E5ECF6\", \"polar\": {\"angularaxis\": {\"gridcolor\": \"white\", \"linecolor\": \"white\", \"ticks\": \"\"}, \"bgcolor\": \"#E5ECF6\", \"radialaxis\": {\"gridcolor\": \"white\", \"linecolor\": \"white\", \"ticks\": \"\"}}, \"scene\": {\"xaxis\": {\"backgroundcolor\": \"#E5ECF6\", \"gridcolor\": \"white\", \"gridwidth\": 2, \"linecolor\": \"white\", \"showbackground\": true, \"ticks\": \"\", \"zerolinecolor\": \"white\"}, \"yaxis\": {\"backgroundcolor\": \"#E5ECF6\", \"gridcolor\": \"white\", \"gridwidth\": 2, \"linecolor\": \"white\", \"showbackground\": true, \"ticks\": \"\", \"zerolinecolor\": \"white\"}, \"zaxis\": {\"backgroundcolor\": \"#E5ECF6\", \"gridcolor\": \"white\", \"gridwidth\": 2, \"linecolor\": \"white\", \"showbackground\": true, \"ticks\": \"\", \"zerolinecolor\": \"white\"}}, \"shapedefaults\": {\"line\": {\"color\": \"#2a3f5f\"}}, \"ternary\": {\"aaxis\": {\"gridcolor\": \"white\", \"linecolor\": \"white\", \"ticks\": \"\"}, \"baxis\": {\"gridcolor\": \"white\", \"linecolor\": \"white\", \"ticks\": \"\"}, \"bgcolor\": \"#E5ECF6\", \"caxis\": {\"gridcolor\": \"white\", \"linecolor\": \"white\", \"ticks\": \"\"}}, \"title\": {\"x\": 0.05}, \"xaxis\": {\"automargin\": true, \"gridcolor\": \"white\", \"linecolor\": \"white\", \"ticks\": \"\", \"title\": {\"standoff\": 15}, \"zerolinecolor\": \"white\", \"zerolinewidth\": 2}, \"yaxis\": {\"automargin\": true, \"gridcolor\": \"white\", \"linecolor\": \"white\", \"ticks\": \"\", \"title\": {\"standoff\": 15}, \"zerolinecolor\": \"white\", \"zerolinewidth\": 2}}}, \"title\": {\"text\": \"COVID-19 - \\u00d3bitos-  14-04-2020 E. Logar\\u00edtmica\"}, \"xaxis\": {\"tick0\": 0, \"tickangle\": 0, \"tickfont\": {\"size\": 10}, \"title\": {\"text\": \"Dias desde o 5\\u00ba \\u00f3bito\"}}, \"yaxis\": {\"title\": {\"text\": \"\\u00d3bitos\"}, \"type\": \"log\"}},\n",
              "                        {\"responsive\": true}\n",
              "                    ).then(function(){\n",
              "                            \n",
              "var gd = document.getElementById('21199c8d-c40e-404e-a4d3-369364505246');\n",
              "var x = new MutationObserver(function (mutations, observer) {{\n",
              "        var display = window.getComputedStyle(gd).display;\n",
              "        if (!display || display === 'none') {{\n",
              "            console.log([gd, 'removed!']);\n",
              "            Plotly.purge(gd);\n",
              "            observer.disconnect();\n",
              "        }}\n",
              "}});\n",
              "\n",
              "// Listen for the removal of the full notebook cells\n",
              "var notebookContainer = gd.closest('#notebook-container');\n",
              "if (notebookContainer) {{\n",
              "    x.observe(notebookContainer, {childList: true});\n",
              "}}\n",
              "\n",
              "// Listen for the clearing of the current output cell\n",
              "var outputEl = gd.closest('.output');\n",
              "if (outputEl) {{\n",
              "    x.observe(outputEl, {childList: true});\n",
              "}}\n",
              "\n",
              "                        })\n",
              "                };\n",
              "                \n",
              "            </script>\n",
              "        </div>\n",
              "</body>\n",
              "</html>"
            ]
          },
          "metadata": {
            "tags": []
          }
        }
      ]
    },
    {
      "cell_type": "markdown",
      "metadata": {
        "id": "cYi0f2alTqSz",
        "colab_type": "text"
      },
      "source": [
        "<center> <h2> Letalidade </h2> </center>"
      ]
    },
    {
      "cell_type": "markdown",
      "metadata": {
        "id": "WRzRwgpjtfeN",
        "colab_type": "text"
      },
      "source": [
        "O gráfco a seguir aponta o número de mortes dividido pelo número de casos confirmados. É importantíssimo notar a grande dependência desses números da quantidade de testes disponíveis. Quanto mais testes realizados, mais confiáveis os dados."
      ]
    },
    {
      "cell_type": "code",
      "metadata": {
        "colab_type": "code",
        "id": "6o33lNAoCImC",
        "outputId": "1ade31eb-d132-4784-e2c3-1ad551788f88",
        "colab": {
          "base_uri": "https://localhost:8080/",
          "height": 542
        }
      },
      "source": [
        "#hide_input\n",
        "import plotly.express as px\n",
        "fig = px.bar(final_data[final_data['dateRep']==yesterday],x=\"letalidade\", y='countriesAndTerritories', color='countriesAndTerritories',orientation='h',\n",
        "             color_discrete_sequence=px.colors.qualitative.G10,title=\"Letalidade - {}\".format(today))\n",
        "fig.update_layout(yaxis_type = 'category')\n",
        "fig.update_layout(legend= {'title':'País','borderwidth':0,'orientation':'v','yanchor':'top','font':{'size':8}})\n",
        "\n",
        "\n"
      ],
      "execution_count": 28,
      "outputs": [
        {
          "output_type": "display_data",
          "data": {
            "text/html": [
              "<html>\n",
              "<head><meta charset=\"utf-8\" /></head>\n",
              "<body>\n",
              "    <div>\n",
              "            <script src=\"https://cdnjs.cloudflare.com/ajax/libs/mathjax/2.7.5/MathJax.js?config=TeX-AMS-MML_SVG\"></script><script type=\"text/javascript\">if (window.MathJax) {MathJax.Hub.Config({SVG: {font: \"STIX-Web\"}});}</script>\n",
              "                <script type=\"text/javascript\">window.PlotlyConfig = {MathJaxConfig: 'local'};</script>\n",
              "        <script src=\"https://cdn.plot.ly/plotly-latest.min.js\"></script>    \n",
              "            <div id=\"89ac50b1-11f1-4f19-9c92-dbffcbc65b37\" class=\"plotly-graph-div\" style=\"height:525px; width:100%;\"></div>\n",
              "            <script type=\"text/javascript\">\n",
              "                \n",
              "                    window.PLOTLYENV=window.PLOTLYENV || {};\n",
              "                    \n",
              "                if (document.getElementById(\"89ac50b1-11f1-4f19-9c92-dbffcbc65b37\")) {\n",
              "                    Plotly.newPlot(\n",
              "                        '89ac50b1-11f1-4f19-9c92-dbffcbc65b37',\n",
              "                        [{\"alignmentgroup\": \"True\", \"hovertemplate\": \"countriesAndTerritories=%{y}<br>letalidade=%{x}<extra></extra>\", \"legendgroup\": \"New_Zealand\", \"marker\": {\"color\": \"#3366CC\"}, \"name\": \"New_Zealand\", \"offsetgroup\": \"New_Zealand\", \"orientation\": \"h\", \"showlegend\": true, \"textposition\": \"auto\", \"type\": \"bar\", \"x\": [0.4699248120300752], \"xaxis\": \"x\", \"y\": [\"New_Zealand\"], \"yaxis\": \"y\"}, {\"alignmentgroup\": \"True\", \"hovertemplate\": \"countriesAndTerritories=%{y}<br>letalidade=%{x}<extra></extra>\", \"legendgroup\": \"Taiwan\", \"marker\": {\"color\": \"#DC3912\"}, \"name\": \"Taiwan\", \"offsetgroup\": \"Taiwan\", \"orientation\": \"h\", \"showlegend\": true, \"textposition\": \"auto\", \"type\": \"bar\", \"x\": [1.5463917525773196], \"xaxis\": \"x\", \"y\": [\"Taiwan\"], \"yaxis\": \"y\"}, {\"alignmentgroup\": \"True\", \"hovertemplate\": \"countriesAndTerritories=%{y}<br>letalidade=%{x}<extra></extra>\", \"legendgroup\": \"Czechia\", \"marker\": {\"color\": \"#FF9900\"}, \"name\": \"Czechia\", \"offsetgroup\": \"Czechia\", \"orientation\": \"h\", \"showlegend\": true, \"textposition\": \"auto\", \"type\": \"bar\", \"x\": [2.303455182774161], \"xaxis\": \"x\", \"y\": [\"Czechia\"], \"yaxis\": \"y\"}, {\"alignmentgroup\": \"True\", \"hovertemplate\": \"countriesAndTerritories=%{y}<br>letalidade=%{x}<extra></extra>\", \"legendgroup\": \"Argentina\", \"marker\": {\"color\": \"#109618\"}, \"name\": \"Argentina\", \"offsetgroup\": \"Argentina\", \"orientation\": \"h\", \"showlegend\": true, \"textposition\": \"auto\", \"type\": \"bar\", \"x\": [4.312301407172038], \"xaxis\": \"x\", \"y\": [\"Argentina\"], \"yaxis\": \"y\"}, {\"alignmentgroup\": \"True\", \"hovertemplate\": \"countriesAndTerritories=%{y}<br>letalidade=%{x}<extra></extra>\", \"legendgroup\": \"Brazil\", \"marker\": {\"color\": \"#990099\"}, \"name\": \"Brazil\", \"offsetgroup\": \"Brazil\", \"orientation\": \"h\", \"showlegend\": true, \"textposition\": \"auto\", \"type\": \"bar\", \"x\": [5.51671252650097], \"xaxis\": \"x\", \"y\": [\"Brazil\"], \"yaxis\": \"y\"}, {\"alignmentgroup\": \"True\", \"hovertemplate\": \"countriesAndTerritories=%{y}<br>letalidade=%{x}<extra></extra>\", \"legendgroup\": \"Germany\", \"marker\": {\"color\": \"#0099C6\"}, \"name\": \"Germany\", \"offsetgroup\": \"Germany\", \"orientation\": \"h\", \"showlegend\": true, \"textposition\": \"auto\", \"type\": \"bar\", \"x\": [2.275313780321259], \"xaxis\": \"x\", \"y\": [\"Germany\"], \"yaxis\": \"y\"}, {\"alignmentgroup\": \"True\", \"hovertemplate\": \"countriesAndTerritories=%{y}<br>letalidade=%{x}<extra></extra>\", \"legendgroup\": \"United_Kingdom\", \"marker\": {\"color\": \"#DD4477\"}, \"name\": \"United_Kingdom\", \"offsetgroup\": \"United_Kingdom\", \"orientation\": \"h\", \"showlegend\": true, \"textposition\": \"auto\", \"type\": \"bar\", \"x\": [12.591511527189454], \"xaxis\": \"x\", \"y\": [\"United_Kingdom\"], \"yaxis\": \"y\"}, {\"alignmentgroup\": \"True\", \"hovertemplate\": \"countriesAndTerritories=%{y}<br>letalidade=%{x}<extra></extra>\", \"legendgroup\": \"Spain\", \"marker\": {\"color\": \"#66AA00\"}, \"name\": \"Spain\", \"offsetgroup\": \"Spain\", \"orientation\": \"h\", \"showlegend\": true, \"textposition\": \"auto\", \"type\": \"bar\", \"x\": [10.222926291569037], \"xaxis\": \"x\", \"y\": [\"Spain\"], \"yaxis\": \"y\"}, {\"alignmentgroup\": \"True\", \"hovertemplate\": \"countriesAndTerritories=%{y}<br>letalidade=%{x}<extra></extra>\", \"legendgroup\": \"France\", \"marker\": {\"color\": \"#B82E2E\"}, \"name\": \"France\", \"offsetgroup\": \"France\", \"orientation\": \"h\", \"showlegend\": true, \"textposition\": \"auto\", \"type\": \"bar\", \"x\": [15.086527677326709], \"xaxis\": \"x\", \"y\": [\"France\"], \"yaxis\": \"y\"}, {\"alignmentgroup\": \"True\", \"hovertemplate\": \"countriesAndTerritories=%{y}<br>letalidade=%{x}<extra></extra>\", \"legendgroup\": \"United_States_of_America\", \"marker\": {\"color\": \"#316395\"}, \"name\": \"United_States_of_America\", \"offsetgroup\": \"United_States_of_America\", \"orientation\": \"h\", \"showlegend\": true, \"textposition\": \"auto\", \"type\": \"bar\", \"x\": [3.965055571398082], \"xaxis\": \"x\", \"y\": [\"United_States_of_America\"], \"yaxis\": \"y\"}, {\"alignmentgroup\": \"True\", \"hovertemplate\": \"countriesAndTerritories=%{y}<br>letalidade=%{x}<extra></extra>\", \"legendgroup\": \"Japan\", \"marker\": {\"color\": \"#3366CC\"}, \"name\": \"Japan\", \"offsetgroup\": \"Japan\", \"orientation\": \"h\", \"showlegend\": true, \"textposition\": \"auto\", \"type\": \"bar\", \"x\": [1.4059269469331495], \"xaxis\": \"x\", \"y\": [\"Japan\"], \"yaxis\": \"y\"}, {\"alignmentgroup\": \"True\", \"hovertemplate\": \"countriesAndTerritories=%{y}<br>letalidade=%{x}<extra></extra>\", \"legendgroup\": \"Italy\", \"marker\": {\"color\": \"#DC3912\"}, \"name\": \"Italy\", \"offsetgroup\": \"Italy\", \"orientation\": \"h\", \"showlegend\": true, \"textposition\": \"auto\", \"type\": \"bar\", \"x\": [12.727435518632925], \"xaxis\": \"x\", \"y\": [\"Italy\"], \"yaxis\": \"y\"}, {\"alignmentgroup\": \"True\", \"hovertemplate\": \"countriesAndTerritories=%{y}<br>letalidade=%{x}<extra></extra>\", \"legendgroup\": \"South_Korea\", \"marker\": {\"color\": \"#FF9900\"}, \"name\": \"South_Korea\", \"offsetgroup\": \"South_Korea\", \"orientation\": \"h\", \"showlegend\": true, \"textposition\": \"auto\", \"type\": \"bar\", \"x\": [2.059409699155357], \"xaxis\": \"x\", \"y\": [\"South_Korea\"], \"yaxis\": \"y\"}, {\"alignmentgroup\": \"True\", \"hovertemplate\": \"countriesAndTerritories=%{y}<br>letalidade=%{x}<extra></extra>\", \"legendgroup\": \"China\", \"marker\": {\"color\": \"#109618\"}, \"name\": \"China\", \"offsetgroup\": \"China\", \"orientation\": \"h\", \"showlegend\": true, \"textposition\": \"auto\", \"type\": \"bar\", \"x\": [4.019997836772465], \"xaxis\": \"x\", \"y\": [\"China\"], \"yaxis\": \"y\"}],\n",
              "                        {\"barmode\": \"relative\", \"legend\": {\"borderwidth\": 0, \"font\": {\"size\": 8}, \"orientation\": \"v\", \"title\": {\"text\": \"Pa\\u00eds\"}, \"tracegroupgap\": 0, \"yanchor\": \"top\"}, \"template\": {\"data\": {\"bar\": [{\"error_x\": {\"color\": \"#2a3f5f\"}, \"error_y\": {\"color\": \"#2a3f5f\"}, \"marker\": {\"line\": {\"color\": \"#E5ECF6\", \"width\": 0.5}}, \"type\": \"bar\"}], \"barpolar\": [{\"marker\": {\"line\": {\"color\": \"#E5ECF6\", \"width\": 0.5}}, \"type\": \"barpolar\"}], \"carpet\": [{\"aaxis\": {\"endlinecolor\": \"#2a3f5f\", \"gridcolor\": \"white\", \"linecolor\": \"white\", \"minorgridcolor\": \"white\", \"startlinecolor\": \"#2a3f5f\"}, \"baxis\": {\"endlinecolor\": \"#2a3f5f\", \"gridcolor\": \"white\", \"linecolor\": \"white\", \"minorgridcolor\": \"white\", \"startlinecolor\": \"#2a3f5f\"}, \"type\": \"carpet\"}], \"choropleth\": [{\"colorbar\": {\"outlinewidth\": 0, \"ticks\": \"\"}, \"type\": \"choropleth\"}], \"contour\": [{\"colorbar\": {\"outlinewidth\": 0, \"ticks\": \"\"}, \"colorscale\": [[0.0, \"#0d0887\"], [0.1111111111111111, \"#46039f\"], [0.2222222222222222, \"#7201a8\"], [0.3333333333333333, \"#9c179e\"], [0.4444444444444444, \"#bd3786\"], [0.5555555555555556, \"#d8576b\"], [0.6666666666666666, \"#ed7953\"], [0.7777777777777778, \"#fb9f3a\"], [0.8888888888888888, \"#fdca26\"], [1.0, \"#f0f921\"]], \"type\": \"contour\"}], \"contourcarpet\": [{\"colorbar\": {\"outlinewidth\": 0, \"ticks\": \"\"}, \"type\": \"contourcarpet\"}], \"heatmap\": [{\"colorbar\": {\"outlinewidth\": 0, \"ticks\": \"\"}, \"colorscale\": [[0.0, \"#0d0887\"], [0.1111111111111111, \"#46039f\"], [0.2222222222222222, \"#7201a8\"], [0.3333333333333333, \"#9c179e\"], [0.4444444444444444, \"#bd3786\"], [0.5555555555555556, \"#d8576b\"], [0.6666666666666666, \"#ed7953\"], [0.7777777777777778, \"#fb9f3a\"], [0.8888888888888888, \"#fdca26\"], [1.0, \"#f0f921\"]], \"type\": \"heatmap\"}], \"heatmapgl\": [{\"colorbar\": {\"outlinewidth\": 0, \"ticks\": \"\"}, \"colorscale\": [[0.0, \"#0d0887\"], [0.1111111111111111, \"#46039f\"], [0.2222222222222222, \"#7201a8\"], [0.3333333333333333, \"#9c179e\"], [0.4444444444444444, \"#bd3786\"], [0.5555555555555556, \"#d8576b\"], [0.6666666666666666, \"#ed7953\"], [0.7777777777777778, \"#fb9f3a\"], [0.8888888888888888, \"#fdca26\"], [1.0, \"#f0f921\"]], \"type\": \"heatmapgl\"}], \"histogram\": [{\"marker\": {\"colorbar\": {\"outlinewidth\": 0, \"ticks\": \"\"}}, \"type\": \"histogram\"}], \"histogram2d\": [{\"colorbar\": {\"outlinewidth\": 0, \"ticks\": \"\"}, \"colorscale\": [[0.0, \"#0d0887\"], [0.1111111111111111, \"#46039f\"], [0.2222222222222222, \"#7201a8\"], [0.3333333333333333, \"#9c179e\"], [0.4444444444444444, \"#bd3786\"], [0.5555555555555556, \"#d8576b\"], [0.6666666666666666, \"#ed7953\"], [0.7777777777777778, \"#fb9f3a\"], [0.8888888888888888, \"#fdca26\"], [1.0, \"#f0f921\"]], \"type\": \"histogram2d\"}], \"histogram2dcontour\": [{\"colorbar\": {\"outlinewidth\": 0, \"ticks\": \"\"}, \"colorscale\": [[0.0, \"#0d0887\"], [0.1111111111111111, \"#46039f\"], [0.2222222222222222, \"#7201a8\"], [0.3333333333333333, \"#9c179e\"], [0.4444444444444444, \"#bd3786\"], [0.5555555555555556, \"#d8576b\"], [0.6666666666666666, \"#ed7953\"], [0.7777777777777778, \"#fb9f3a\"], [0.8888888888888888, \"#fdca26\"], [1.0, \"#f0f921\"]], \"type\": \"histogram2dcontour\"}], \"mesh3d\": [{\"colorbar\": {\"outlinewidth\": 0, \"ticks\": \"\"}, \"type\": \"mesh3d\"}], \"parcoords\": [{\"line\": {\"colorbar\": {\"outlinewidth\": 0, \"ticks\": \"\"}}, \"type\": \"parcoords\"}], \"pie\": [{\"automargin\": true, \"type\": \"pie\"}], \"scatter\": [{\"marker\": {\"colorbar\": {\"outlinewidth\": 0, \"ticks\": \"\"}}, \"type\": \"scatter\"}], \"scatter3d\": [{\"line\": {\"colorbar\": {\"outlinewidth\": 0, \"ticks\": \"\"}}, \"marker\": {\"colorbar\": {\"outlinewidth\": 0, \"ticks\": \"\"}}, \"type\": \"scatter3d\"}], \"scattercarpet\": [{\"marker\": {\"colorbar\": {\"outlinewidth\": 0, \"ticks\": \"\"}}, \"type\": \"scattercarpet\"}], \"scattergeo\": [{\"marker\": {\"colorbar\": {\"outlinewidth\": 0, \"ticks\": \"\"}}, \"type\": \"scattergeo\"}], \"scattergl\": [{\"marker\": {\"colorbar\": {\"outlinewidth\": 0, \"ticks\": \"\"}}, \"type\": \"scattergl\"}], \"scattermapbox\": [{\"marker\": {\"colorbar\": {\"outlinewidth\": 0, \"ticks\": \"\"}}, \"type\": \"scattermapbox\"}], \"scatterpolar\": [{\"marker\": {\"colorbar\": {\"outlinewidth\": 0, \"ticks\": \"\"}}, \"type\": \"scatterpolar\"}], \"scatterpolargl\": [{\"marker\": {\"colorbar\": {\"outlinewidth\": 0, \"ticks\": \"\"}}, \"type\": \"scatterpolargl\"}], \"scatterternary\": [{\"marker\": {\"colorbar\": {\"outlinewidth\": 0, \"ticks\": \"\"}}, \"type\": \"scatterternary\"}], \"surface\": [{\"colorbar\": {\"outlinewidth\": 0, \"ticks\": \"\"}, \"colorscale\": [[0.0, \"#0d0887\"], [0.1111111111111111, \"#46039f\"], [0.2222222222222222, \"#7201a8\"], [0.3333333333333333, \"#9c179e\"], [0.4444444444444444, \"#bd3786\"], [0.5555555555555556, \"#d8576b\"], [0.6666666666666666, \"#ed7953\"], [0.7777777777777778, \"#fb9f3a\"], [0.8888888888888888, \"#fdca26\"], [1.0, \"#f0f921\"]], \"type\": \"surface\"}], \"table\": [{\"cells\": {\"fill\": {\"color\": \"#EBF0F8\"}, \"line\": {\"color\": \"white\"}}, \"header\": {\"fill\": {\"color\": \"#C8D4E3\"}, \"line\": {\"color\": \"white\"}}, \"type\": \"table\"}]}, \"layout\": {\"annotationdefaults\": {\"arrowcolor\": \"#2a3f5f\", \"arrowhead\": 0, \"arrowwidth\": 1}, \"coloraxis\": {\"colorbar\": {\"outlinewidth\": 0, \"ticks\": \"\"}}, \"colorscale\": {\"diverging\": [[0, \"#8e0152\"], [0.1, \"#c51b7d\"], [0.2, \"#de77ae\"], [0.3, \"#f1b6da\"], [0.4, \"#fde0ef\"], [0.5, \"#f7f7f7\"], [0.6, \"#e6f5d0\"], [0.7, \"#b8e186\"], [0.8, \"#7fbc41\"], [0.9, \"#4d9221\"], [1, \"#276419\"]], \"sequential\": [[0.0, \"#0d0887\"], [0.1111111111111111, \"#46039f\"], [0.2222222222222222, \"#7201a8\"], [0.3333333333333333, \"#9c179e\"], [0.4444444444444444, \"#bd3786\"], [0.5555555555555556, \"#d8576b\"], [0.6666666666666666, \"#ed7953\"], [0.7777777777777778, \"#fb9f3a\"], [0.8888888888888888, \"#fdca26\"], [1.0, \"#f0f921\"]], \"sequentialminus\": [[0.0, \"#0d0887\"], [0.1111111111111111, \"#46039f\"], [0.2222222222222222, \"#7201a8\"], [0.3333333333333333, \"#9c179e\"], [0.4444444444444444, \"#bd3786\"], [0.5555555555555556, \"#d8576b\"], [0.6666666666666666, \"#ed7953\"], [0.7777777777777778, \"#fb9f3a\"], [0.8888888888888888, \"#fdca26\"], [1.0, \"#f0f921\"]]}, \"colorway\": [\"#636efa\", \"#EF553B\", \"#00cc96\", \"#ab63fa\", \"#FFA15A\", \"#19d3f3\", \"#FF6692\", \"#B6E880\", \"#FF97FF\", \"#FECB52\"], \"font\": {\"color\": \"#2a3f5f\"}, \"geo\": {\"bgcolor\": \"white\", \"lakecolor\": \"white\", \"landcolor\": \"#E5ECF6\", \"showlakes\": true, \"showland\": true, \"subunitcolor\": \"white\"}, \"hoverlabel\": {\"align\": \"left\"}, \"hovermode\": \"closest\", \"mapbox\": {\"style\": \"light\"}, \"paper_bgcolor\": \"white\", \"plot_bgcolor\": \"#E5ECF6\", \"polar\": {\"angularaxis\": {\"gridcolor\": \"white\", \"linecolor\": \"white\", \"ticks\": \"\"}, \"bgcolor\": \"#E5ECF6\", \"radialaxis\": {\"gridcolor\": \"white\", \"linecolor\": \"white\", \"ticks\": \"\"}}, \"scene\": {\"xaxis\": {\"backgroundcolor\": \"#E5ECF6\", \"gridcolor\": \"white\", \"gridwidth\": 2, \"linecolor\": \"white\", \"showbackground\": true, \"ticks\": \"\", \"zerolinecolor\": \"white\"}, \"yaxis\": {\"backgroundcolor\": \"#E5ECF6\", \"gridcolor\": \"white\", \"gridwidth\": 2, \"linecolor\": \"white\", \"showbackground\": true, \"ticks\": \"\", \"zerolinecolor\": \"white\"}, \"zaxis\": {\"backgroundcolor\": \"#E5ECF6\", \"gridcolor\": \"white\", \"gridwidth\": 2, \"linecolor\": \"white\", \"showbackground\": true, \"ticks\": \"\", \"zerolinecolor\": \"white\"}}, \"shapedefaults\": {\"line\": {\"color\": \"#2a3f5f\"}}, \"ternary\": {\"aaxis\": {\"gridcolor\": \"white\", \"linecolor\": \"white\", \"ticks\": \"\"}, \"baxis\": {\"gridcolor\": \"white\", \"linecolor\": \"white\", \"ticks\": \"\"}, \"bgcolor\": \"#E5ECF6\", \"caxis\": {\"gridcolor\": \"white\", \"linecolor\": \"white\", \"ticks\": \"\"}}, \"title\": {\"x\": 0.05}, \"xaxis\": {\"automargin\": true, \"gridcolor\": \"white\", \"linecolor\": \"white\", \"ticks\": \"\", \"title\": {\"standoff\": 15}, \"zerolinecolor\": \"white\", \"zerolinewidth\": 2}, \"yaxis\": {\"automargin\": true, \"gridcolor\": \"white\", \"linecolor\": \"white\", \"ticks\": \"\", \"title\": {\"standoff\": 15}, \"zerolinecolor\": \"white\", \"zerolinewidth\": 2}}}, \"title\": {\"text\": \"Letalidade - 14-04-2020\"}, \"xaxis\": {\"anchor\": \"y\", \"domain\": [0.0, 1.0], \"title\": {\"text\": \"letalidade\"}}, \"yaxis\": {\"anchor\": \"x\", \"categoryarray\": [\"China\", \"South_Korea\", \"Italy\", \"Japan\", \"United_States_of_America\", \"France\", \"Spain\", \"United_Kingdom\", \"Germany\", \"Brazil\", \"Argentina\", \"Czechia\", \"Taiwan\", \"New_Zealand\"], \"categoryorder\": \"array\", \"domain\": [0.0, 1.0], \"title\": {\"text\": \"countriesAndTerritories\"}, \"type\": \"category\"}},\n",
              "                        {\"responsive\": true}\n",
              "                    ).then(function(){\n",
              "                            \n",
              "var gd = document.getElementById('89ac50b1-11f1-4f19-9c92-dbffcbc65b37');\n",
              "var x = new MutationObserver(function (mutations, observer) {{\n",
              "        var display = window.getComputedStyle(gd).display;\n",
              "        if (!display || display === 'none') {{\n",
              "            console.log([gd, 'removed!']);\n",
              "            Plotly.purge(gd);\n",
              "            observer.disconnect();\n",
              "        }}\n",
              "}});\n",
              "\n",
              "// Listen for the removal of the full notebook cells\n",
              "var notebookContainer = gd.closest('#notebook-container');\n",
              "if (notebookContainer) {{\n",
              "    x.observe(notebookContainer, {childList: true});\n",
              "}}\n",
              "\n",
              "// Listen for the clearing of the current output cell\n",
              "var outputEl = gd.closest('.output');\n",
              "if (outputEl) {{\n",
              "    x.observe(outputEl, {childList: true});\n",
              "}}\n",
              "\n",
              "                        })\n",
              "                };\n",
              "                \n",
              "            </script>\n",
              "        </div>\n",
              "</body>\n",
              "</html>"
            ]
          },
          "metadata": {
            "tags": []
          }
        }
      ]
    },
    {
      "cell_type": "code",
      "metadata": {
        "id": "GFIHQG9MYlnJ",
        "colab_type": "code",
        "outputId": "7d126681-19c4-4ba6-ce27-4f5f82b5b13f",
        "colab": {
          "base_uri": "https://localhost:8080/",
          "height": 542
        }
      },
      "source": [
        "#hide_input\n",
        "fig = go.Figure()\n",
        "fig.add_trace(go.Scatter(x=final_data['indice'][final_data['countriesAndTerritories']=='Brazil'], \n",
        "                         y=final_data['letalidade'][final_data['countriesAndTerritories']=='Brazil'], name='Brasil',line=dict(color='black', width=5)))\n",
        "fig.add_trace(go.Scatter(x=final_data['indice'][final_data['countriesAndTerritories']=='France'], \n",
        "                         y=final_data['letalidade'][final_data['countriesAndTerritories']=='France'], name='França',line=dict(color='red', width=2)))\n",
        "fig.add_trace(go.Scatter(x=final_data['indice'][final_data['countriesAndTerritories']=='Spain'], \n",
        "                         y=final_data['letalidade'][final_data['countriesAndTerritories']=='Spain'], name='Espanha',line=dict(color='blue', width=2)))\n",
        "fig.add_trace(go.Scatter(x=final_data['indice'][final_data['countriesAndTerritories']=='Italy'], \n",
        "                         y=final_data['letalidade'][final_data['countriesAndTerritories']=='Italy'], name='Itália',line=dict(color='green', width=2)))\n",
        "fig.add_trace(go.Scatter(x=final_data['indice'][final_data['countriesAndTerritories']=='United_Kingdom'], \n",
        "                         y=final_data['letalidade'][final_data['countriesAndTerritories']=='United_Kingdom'], name='Reino Unido',line=dict(color='yellowgreen', width=2)))\n",
        "fig.add_trace(go.Scatter(x=final_data['indice'][final_data['countriesAndTerritories']=='Argentina'], \n",
        "                         y=final_data['letalidade'][final_data['countriesAndTerritories']=='Argentina'],mode='lines', name='Argentina',line=dict(color='darkgreen', width=2)))\n",
        "fig.add_trace(go.Scatter(x=final_data['indice'][final_data['countriesAndTerritories']=='Germany'], \n",
        "                         y=final_data['letalidade'][final_data['countriesAndTerritories']=='Germany'], name='Alemanha',line=dict(color='darkslateblue', width=2)))\n",
        "fig.add_trace(go.Scatter(x=final_data['indice'][final_data['countriesAndTerritories']=='United_States_of_America'], \n",
        "                         y=final_data['letalidade'][final_data['countriesAndTerritories']=='United_States_of_America'], name='EUA',line=dict(color='mediumpurple', width=2)))\n",
        "fig.add_trace(go.Scatter(x=final_data['indice'][final_data['countriesAndTerritories']=='New_Zealand'], \n",
        "                         y=final_data['letalidade'][final_data['countriesAndTerritories']=='New_Zealand'], name='Nova Zelândia',line=dict(color='yellow', width=2)))\n",
        "\n",
        "\n",
        "fig.add_trace(go.Scatter(x=final_data['indice'][final_data['countriesAndTerritories']=='Czechia'], \n",
        "                         y=final_data['letalidade'][final_data['countriesAndTerritories']=='Czechia'],mode='lines', name='República Tcheca',line=dict(color='magenta', width=2)))\n",
        "fig.add_trace(go.Scatter(x=final_data['indice'][final_data['countriesAndTerritories']=='South_Korea'], \n",
        "                         y=final_data['letalidade'][final_data['countriesAndTerritories']=='South_Korea'], name='Coréia do Sul',line=dict(color='brown', width=2)))\n",
        "fig.add_trace(go.Scatter(x=final_data['indice'][final_data['countriesAndTerritories']=='Taiwan'], \n",
        "                         y=final_data['letalidade'][final_data['countriesAndTerritories']=='Taiwan'],mode='lines', name='Taiwan',line=dict(color='grey', width=2)))\n",
        "fig.add_trace(go.Scatter(x=final_data['indice'][final_data['countriesAndTerritories']=='Hong_Kong'], \n",
        "                         y=final_data['letalidade'][final_data['countriesAndTerritories']=='Hong_Kong'], name='Hong Kong',line=dict(color='lavenderblush', width=2)))\n",
        "fig.add_trace(go.Scatter(x=final_data['indice'][final_data['countriesAndTerritories']=='Japan'], \n",
        "                         y=final_data['letalidade'][final_data['countriesAndTerritories']=='Japan'], name='Japão',line=dict(color='pink', width=2)))\n",
        "fig.add_trace(go.Scatter(x=final_data['indice'][final_data['countriesAndTerritories']=='China'], \n",
        "                         y=final_data['letalidade'][final_data['countriesAndTerritories']=='China'], name='China',line=dict(color='lightgreen', width=2)))\n",
        "\n",
        "fig.update_xaxes(tickangle=0, tickfont=dict(size=10))\n",
        "\n",
        "fig.update_layout(title='COVID-19 - Curvas de letalidade' .format(today),\n",
        "                   xaxis_title='Dias desde o 5º óbito',\n",
        "                   yaxis_title='Letalidade (%)',legend= {'borderwidth':0,'orientation':'v','yanchor':'top','font':{'size':8}})"
      ],
      "execution_count": 29,
      "outputs": [
        {
          "output_type": "display_data",
          "data": {
            "text/html": [
              "<html>\n",
              "<head><meta charset=\"utf-8\" /></head>\n",
              "<body>\n",
              "    <div>\n",
              "            <script src=\"https://cdnjs.cloudflare.com/ajax/libs/mathjax/2.7.5/MathJax.js?config=TeX-AMS-MML_SVG\"></script><script type=\"text/javascript\">if (window.MathJax) {MathJax.Hub.Config({SVG: {font: \"STIX-Web\"}});}</script>\n",
              "                <script type=\"text/javascript\">window.PlotlyConfig = {MathJaxConfig: 'local'};</script>\n",
              "        <script src=\"https://cdn.plot.ly/plotly-latest.min.js\"></script>    \n",
              "            <div id=\"08051e27-3e1c-4dcf-acf7-46ef91621ad2\" class=\"plotly-graph-div\" style=\"height:525px; width:100%;\"></div>\n",
              "            <script type=\"text/javascript\">\n",
              "                \n",
              "                    window.PLOTLYENV=window.PLOTLYENV || {};\n",
              "                    \n",
              "                if (document.getElementById(\"08051e27-3e1c-4dcf-acf7-46ef91621ad2\")) {\n",
              "                    Plotly.newPlot(\n",
              "                        '08051e27-3e1c-4dcf-acf7-46ef91621ad2',\n",
              "                        [{\"line\": {\"color\": \"black\", \"width\": 5}, \"name\": \"Brasil\", \"type\": \"scatter\", \"x\": [0, 1, 2, 3, 4, 5, 6, 7, 8, 9, 10, 11, 12, 13, 14, 15, 16, 17, 18, 19, 20, 21, 22, 23, 24, 25], \"y\": [0.966183574879227, 1.2168141592920354, 1.5957446808510638, 1.6170763260025873, 1.7979904812268641, 2.089959109495684, 2.342786683107275, 2.641509433962264, 2.6924202516827624, 2.9200819672131146, 3.1954887218045114, 3.4723738807599913, 3.5158299807591393, 3.5254534815681686, 3.7800252844500632, 3.9642226148409896, 4.203152364273205, 4.366576819407008, 4.586927670869277, 4.862579281183932, 5.0229170590820615, 5.269642157137257, 5.377329666972197, 5.422878371206639, 5.51671252650097, 5.66794707639778]}, {\"line\": {\"color\": \"red\", \"width\": 2}, \"name\": \"Fran\\u00e7a\", \"type\": \"scatter\", \"x\": [0, 1, 2, 3, 4, 5, 6, 7, 8, 9, 10, 11, 12, 13, 14, 15, 16, 17, 18, 19, 20, 21, 22, 23, 24, 25, 26, 27, 28, 29, 30, 31, 32, 33, 34, 35, 36, 37, 38, 39], \"y\": [1.6548463356973995, 1.468189233278956, 1.3966480446927374, 1.6873889875666075, 2.1246458923512748, 1.8497757847533631, 2.104340201665936, 2.121001390820584, 2.157880360557225, 2.0226717048232943, 2.3418771897473722, 2.231267902909694, 2.263906856403622, 2.6713378585504706, 3.383356070941337, 3.5680304471931494, 3.88685247942458, 4.207766262954177, 4.331184528605963, 4.932293067886288, 5.274838505132168, 5.817184016463728, 6.052056789224609, 6.1583499667332005, 6.4867824961417835, 6.787878787878788, 6.758364027010436, 7.075049570969837, 7.618644784705186, 10.113774130373962, 11.019604985059399, 11.461732739294531, 11.978760586100282, 13.212736832678752, 13.247123634945398, 14.142747932448398, 14.554016498301646, 14.747840921206953, 15.086527677326709, 15.260614217545577]}, {\"line\": {\"color\": \"blue\", \"width\": 2}, \"name\": \"Espanha\", \"type\": \"scatter\", \"x\": [0, 1, 2, 3, 4, 5, 6, 7, 8, 9, 10, 11, 12, 13, 14, 15, 16, 17, 18, 19, 20, 21, 22, 23, 24, 25, 26, 27, 28, 29, 30, 31, 32, 33, 34, 35, 36, 37, 38], \"y\": [1.3368983957219251, 1.1627906976744187, 0.8488964346349746, 2.3255813953488373, 2.135448444173276, 2.196261682242991, 2.796271637816245, 2.859844008508627, 2.363984008343473, 3.714691087321037, 3.361984550103362, 4.392556808015745, 4.359871682706328, 4.473085670962851, 5.015015015015015, 5.319746449490492, 6.0198796024079515, 6.594336486445647, 6.795553651097724, 7.212770426381012, 7.27735459528725, 7.583633837556003, 7.875650537039087, 8.284579362158459, 8.615529080345091, 8.673226219854476, 8.86367196678938, 9.074003519657468, 9.289779967717271, 9.415084658799385, 9.496860636743934, 9.66807867764678, 9.81994164116433, 9.922285091008249, 9.99567059811343, 10.089668963584721, 10.103674962311247, 10.222926291569037, 10.318237598527398]}, {\"line\": {\"color\": \"green\", \"width\": 2}, \"name\": \"It\\u00e1lia\", \"type\": \"scatter\", \"x\": [0, 1, 2, 3, 4, 5, 6, 7, 8, 9, 10, 11, 12, 13, 14, 15, 16, 17, 18, 19, 20, 21, 22, 23, 24, 25, 26, 27, 28, 29, 30, 31, 32, 33, 34, 35, 36, 37, 38, 39, 40, 41, 42, 43, 44, 45, 46, 47, 48, 49], \"y\": [2.6200873362445414, 3.4161490683229814, 3.0, 2.6153846153846154, 2.364864864864865, 2.5709219858156027, 2.0722320899940794, 2.5540275049115913, 3.1974420463629096, 3.463904176108773, 3.83618455158113, 4.249352890422778, 3.9605643379228286, 4.96271186440678, 5.058874836458788, 6.217361316385851, 6.636173968865351, 6.722689075630252, 7.180067950169875, 6.810984544122513, 7.552126772310259, 7.7126518942101505, 7.950866501618739, 8.338700193206956, 8.302668453758987, 8.574892069500862, 9.009294859830527, 9.259697656329264, 9.506155458569932, 9.858910604834046, 10.089264108837684, 10.137945591576752, 10.562093921246735, 10.838956657150273, 11.036042952635404, 11.392877854116907, 11.74947065940714, 11.898818890516758, 12.076326339355443, 12.25182972118137, 12.325887412542524, 12.322021279895772, 12.46727575878745, 12.633310223769415, 12.673035819311156, 12.728196844582458, 12.773670693942822, 12.786413696632977, 12.727435518632925, 12.829434037964843]}, {\"line\": {\"color\": \"yellowgreen\", \"width\": 2}, \"name\": \"Reino Unido\", \"type\": \"scatter\", \"x\": [0, 1, 2, 3, 4, 5, 6, 7, 8, 9, 10, 11, 12, 13, 14, 15, 16, 17, 18, 19, 20, 21, 22, 23, 24, 25, 26, 27, 28, 29, 30, 31, 32, 33, 34, 35], \"y\": [1.557632398753894, 1.6085790884718498, 1.3157894736842106, 1.694915254237288, 1.4144271570014144, 1.8421052631578947, 2.516175413371675, 3.5644847699287103, 3.076923076923077, 3.9163498098859315, 4.394263045468416, 4.443886517700226, 4.643284176962934, 4.9445715291219425, 5.037593984962406, 5.224712145598613, 4.858851925700494, 4.957968776805627, 5.219005707213093, 5.962900111182632, 6.290339104599939, 6.3592430332866625, 7.113320079522863, 8.590622243333106, 8.663028649386085, 9.44508488786418, 10.292819129895234, 10.320880224239636, 10.411176561773368, 11.149125665254697, 11.685574564075544, 12.259323570539514, 12.747609289617486, 12.501424212885013, 12.591511527189454, 12.7836517304025]}, {\"line\": {\"color\": \"darkgreen\", \"width\": 2}, \"mode\": \"lines\", \"name\": \"Argentina\", \"type\": \"scatter\", \"x\": [0, 1, 2, 3, 4, 5, 6, 7, 8, 9, 10, 11, 12, 13, 14, 15, 16, 17, 18, 19, 20], \"y\": [1.550387596899225, 1.593625498007968, 2.037351443123939, 2.463768115942029, 2.5503355704697985, 2.4390243902439024, 2.484472049689441, 2.484472049689441, 2.736098852603707, 3.000882612533098, 2.924901185770751, 2.963473466574776, 2.9601029601029603, 3.2555282555282554, 3.498542274052478, 3.6211699164345403, 4.171066525871172, 4.151898734177215, 4.16471689284043, 4.312301407172038, 4.313380281690141]}, {\"line\": {\"color\": \"darkslateblue\", \"width\": 2}, \"name\": \"Alemanha\", \"type\": \"scatter\", \"x\": [0, 1, 2, 3, 4, 5, 6, 7, 8, 9, 10, 11, 12, 13, 14, 15, 16, 17, 18, 19, 20, 21, 22, 23, 24, 25, 26, 27, 28, 29, 30, 31, 32], \"y\": [0.21105951878429718, 0.16329196603527107, 0.21080368906455862, 0.24803637866887143, 0.2162341982701264, 0.18166573504751257, 0.15857526225908758, 0.3041448578299618, 0.24742948259745973, 0.31216512137166286, 0.37943004763058047, 0.431329590579214, 0.47220637637066615, 0.5423468828749863, 0.5982784714339765, 0.6689720472603021, 0.7402896454602547, 0.7940940346958009, 0.9416439196937638, 1.086601549743194, 1.186039552786921, 1.276099176872114, 1.3499965025997342, 1.4632444337832828, 1.5032864735666887, 1.619551524313429, 1.8028054403843918, 1.9472837840335668, 2.090288482713059, 2.1621989155008583, 2.218643913047087, 2.275313780321259, 2.373339301987242]}, {\"line\": {\"color\": \"mediumpurple\", \"width\": 2}, \"name\": \"EUA\", \"type\": \"scatter\", \"x\": [0, 1, 2, 3, 4, 5, 6, 7, 8, 9, 10, 11, 12, 13, 14, 15, 16, 17, 18, 19, 20, 21, 22, 23, 24, 25, 26, 27, 28, 29, 30, 31, 32, 33, 34, 35, 36, 37, 38, 39, 40, 41, 42], \"y\": [5.825242718446602, 7.2, 6.918238993710692, 5.150214592274678, 4.1420118343195265, 3.9260969976905313, 3.7906137184115525, 3.4482758620689653, 2.731707317073171, 2.2865853658536586, 2.4052916416115453, 2.1619135234590616, 1.9315486275838698, 1.8282988871224166, 1.8236429950654367, 1.6804107670763964, 1.5932023366967605, 1.0526315789473684, 1.3249082755809214, 1.2711705985718025, 1.3378401408850764, 1.2704017914818484, 1.4502724918976662, 1.5174726132323613, 1.5071344675605587, 1.6305905278642798, 1.7575101271407372, 1.754238769445901, 1.9256469444781923, 2.15116708329378, 2.3707900941763835, 2.4651787896065813, 2.5747845951828467, 2.7226113497119178, 2.857227479378619, 2.9845517061565037, 3.233377381152381, 3.4288134181222403, 3.5812914536095084, 3.7437195948640243, 3.8886614045449486, 3.965055571398082, 4.05925910668493]}, {\"line\": {\"color\": \"yellow\", \"width\": 2}, \"name\": \"Nova Zel\\u00e2ndia\", \"type\": \"scatter\", \"x\": [0, 1], \"y\": [0.4699248120300752, 0.8395522388059702]}, {\"line\": {\"color\": \"magenta\", \"width\": 2}, \"mode\": \"lines\", \"name\": \"Rep\\u00fablica Tcheca\", \"type\": \"scatter\", \"x\": [0, 1, 2, 3, 4, 5, 6, 7, 8, 9, 10, 11, 12, 13, 14, 15, 16, 17, 18, 19], \"y\": [0.36275695284159615, 0.4364694471387003, 0.39491004826678366, 0.41306796845662785, 0.5655708731000354, 0.7994670219853431, 0.9371221281741233, 1.0866536639732516, 1.1404872991187143, 1.2649164677804297, 1.319320214669052, 1.460649662088511, 1.6175860638739112, 1.7540362766593582, 1.8637048192771084, 2.0111330579996407, 2.076064200976971, 2.185699762792274, 2.303455182774161, 2.3601254332398085]}, {\"line\": {\"color\": \"brown\", \"width\": 2}, \"name\": \"Cor\\u00e9ia do Sul\", \"type\": \"scatter\", \"x\": [0, 1, 2, 3, 4, 5, 6, 7, 8, 9, 10, 11, 12, 13, 14, 15, 16, 17, 18, 19, 20, 21, 22, 23, 24, 25, 26, 27, 28, 29, 30, 31, 32, 33, 34, 35, 36, 37, 38, 39, 40, 41, 42, 43, 44, 45, 46, 47, 48, 49, 50, 51], \"y\": [0.831946755407654, 0.9186351706036745, 0.8968609865470852, 0.9598603839441536, 0.7523510971786834, 0.6429277942631059, 0.5458887751620607, 0.4821327283040272, 0.5223171889838556, 0.5818786367414797, 0.6006006006006006, 0.6070065903572668, 0.668364099299809, 0.6502142751588592, 0.7008690776562938, 0.6908696830127337, 0.7187541594569413, 0.7736943907156673, 0.8387342737323675, 0.8397042235869157, 0.8904279000742024, 0.9188924283263906, 0.9106362311801846, 0.9735576923076923, 1.0222275050517058, 1.0624635143023935, 1.155802126675913, 1.170587566768951, 1.1689333483196582, 1.2610199754491687, 1.327874294566781, 1.3790084272737222, 1.4175954983226924, 1.4894984997856837, 1.519307870858831, 1.5861421266826672, 1.635441465686782, 1.665644798692009, 1.665644798692009, 1.694065757818765, 1.72927847346452, 1.7428121307601419, 1.7876330956334863, 1.808634772462077, 1.8584841738457072, 1.926040061633282, 1.9572100163100834, 1.9904306220095693, 1.9904306220095693, 2.0357686453576864, 2.059409699155357, 2.101476713366149]}, {\"line\": {\"color\": \"grey\", \"width\": 2}, \"mode\": \"lines\", \"name\": \"Taiwan\", \"type\": \"scatter\", \"x\": [0, 1, 2, 3, 4, 5, 6, 7, 8, 9, 10, 11, 12, 13, 14, 15], \"y\": [1.6339869281045751, 1.6339869281045751, 1.5527950310559007, 1.4749262536873156, 1.4749262536873156, 1.408450704225352, 1.3774104683195592, 1.3774104683195592, 1.3404825737265416, 1.3297872340425532, 1.3192612137203166, 1.3157894736842106, 1.3157894736842106, 1.5584415584415585, 1.5463917525773196, 1.5267175572519085]}, {\"line\": {\"color\": \"lavenderblush\", \"width\": 2}, \"name\": \"Hong Kong\", \"type\": \"scatter\", \"x\": [], \"y\": []}, {\"line\": {\"color\": \"pink\", \"width\": 2}, \"name\": \"Jap\\u00e3o\", \"type\": \"scatter\", \"x\": [0, 1, 2, 3, 4, 5, 6, 7, 8, 9, 10, 11, 12, 13, 14, 15, 16, 17, 18, 19, 20, 21, 22, 23, 24, 25, 26, 27, 28, 29, 30, 31, 32, 33, 34, 35, 36, 37, 38, 39, 40, 41, 42, 43, 44], \"y\": [2.092050209205021, 2.3622047244094486, 2.3622047244094486, 2.2388059701492535, 1.8927444794952681, 1.7191977077363896, 1.4705882352941178, 1.3186813186813187, 1.4344262295081966, 1.7509727626459144, 2.112676056338028, 2.4232633279483036, 2.814814814814815, 2.8493894165535956, 2.8205128205128207, 2.9484029484029484, 3.3980582524271843, 3.3775633293124248, 3.3218785796105386, 3.473684210526316, 3.4756703078450846, 3.4416826003824093, 3.7649219467401287, 3.723404255319149, 3.604358759430008, 3.548895899053628, 3.372434017595308, 3.268845897264843, 3.0714707619610158, 2.8938906752411575, 2.867383512544803, 2.867383512544803, 2.6170798898071626, 2.407336645013374, 2.3509369676320273, 2.140018343014369, 1.9978106185002737, 2.095886822111606, 2.048131080389145, 1.9027484143763214, 1.8212984786800943, 1.6457826818776884, 1.4522821576763485, 1.4059269469331495, 1.4257684761281884]}, {\"line\": {\"color\": \"lightgreen\", \"width\": 2}, \"name\": \"China\", \"type\": \"scatter\", \"x\": [0, 1, 2, 3, 4, 5, 6, 7, 8, 9, 10, 11, 12, 13, 14, 15, 16, 17, 18, 19, 20, 21, 22, 23, 24, 25, 26, 27, 28, 29, 30, 31, 32, 33, 34, 35, 36, 37, 38, 39, 40, 41, 42, 43, 44, 45, 46, 47, 48, 49, 50, 51, 52, 53, 54, 55, 56, 57, 58, 59, 60, 61, 62, 63, 64, 65, 66, 67, 68, 69, 70, 71, 72, 73, 74, 75, 76, 77, 78, 79, 80, 81, 82, 83, 84], \"y\": [1.5544041450777202, 3.2319391634980987, 2.7287319422150884, 2.947845804988662, 3.0990173847316704, 2.816901408450704, 2.918918918918919, 2.3409893992932864, 2.2022022022022023, 2.1980863718644943, 2.1927115503397157, 2.193242442205098, 2.1112577262309884, 2.097495787577712, 2.0833333333333335, 2.023026315789474, 2.010910257781581, 2.0412087031755695, 2.088086642599278, 2.1809196390201975, 2.2608565885688705, 2.381956155143339, 2.4908326625525445, 2.2851415685291907, 2.1571047000203056, 2.2896978620472064, 2.4297756905755037, 2.5078591860432184, 2.5776466045126054, 2.7040857550701607, 2.839843540695494, 2.9625511298201026, 3.073236522672812, 3.1746650046743534, 3.359919206567056, 3.4276968192516946, 3.4762471372458705, 3.493727575765287, 3.534912007297883, 3.5750740344023693, 3.593188955197738, 3.6364090149000425, 3.6705249124730566, 3.7111221696939536, 3.7442389157359903, 3.773538125875513, 3.803486529318542, 3.8347316059098673, 3.8610420608713936, 3.8811063440448077, 3.9069066099767635, 3.9193396925814263, 3.9269214615707684, 3.944524718115915, 3.954565096610902, 3.969390274006418, 3.9783871803412163, 3.996990849221814, 4.004683840749414, 4.004727375690948, 4.009547126634761, 4.0137191748826, 4.017966717392372, 4.0231505891873995, 4.0242064901814265, 4.026525393659844, 4.028010314443888, 4.0258218827032435, 4.026371269452467, 4.024002823861631, 4.023540569788792, 4.022115559876056, 4.024516050731234, 4.0332262171830475, 4.035043076811226, 4.036330608537693, 4.0354783282108375, 4.032745652857384, 4.030972168534983, 4.029202365150235, 4.027735905939101, 4.027516746180907, 4.023009254245039, 4.019997836772465, 4.015461628032604]}],\n",
              "                        {\"legend\": {\"borderwidth\": 0, \"font\": {\"size\": 8}, \"orientation\": \"v\", \"yanchor\": \"top\"}, \"template\": {\"data\": {\"bar\": [{\"error_x\": {\"color\": \"#2a3f5f\"}, \"error_y\": {\"color\": \"#2a3f5f\"}, \"marker\": {\"line\": {\"color\": \"#E5ECF6\", \"width\": 0.5}}, \"type\": \"bar\"}], \"barpolar\": [{\"marker\": {\"line\": {\"color\": \"#E5ECF6\", \"width\": 0.5}}, \"type\": \"barpolar\"}], \"carpet\": [{\"aaxis\": {\"endlinecolor\": \"#2a3f5f\", \"gridcolor\": \"white\", \"linecolor\": \"white\", \"minorgridcolor\": \"white\", \"startlinecolor\": \"#2a3f5f\"}, \"baxis\": {\"endlinecolor\": \"#2a3f5f\", \"gridcolor\": \"white\", \"linecolor\": \"white\", \"minorgridcolor\": \"white\", \"startlinecolor\": \"#2a3f5f\"}, \"type\": \"carpet\"}], \"choropleth\": [{\"colorbar\": {\"outlinewidth\": 0, \"ticks\": \"\"}, \"type\": \"choropleth\"}], \"contour\": [{\"colorbar\": {\"outlinewidth\": 0, \"ticks\": \"\"}, \"colorscale\": [[0.0, \"#0d0887\"], [0.1111111111111111, \"#46039f\"], [0.2222222222222222, \"#7201a8\"], [0.3333333333333333, \"#9c179e\"], [0.4444444444444444, \"#bd3786\"], [0.5555555555555556, \"#d8576b\"], [0.6666666666666666, \"#ed7953\"], [0.7777777777777778, \"#fb9f3a\"], [0.8888888888888888, \"#fdca26\"], [1.0, \"#f0f921\"]], \"type\": \"contour\"}], \"contourcarpet\": [{\"colorbar\": {\"outlinewidth\": 0, \"ticks\": \"\"}, \"type\": \"contourcarpet\"}], \"heatmap\": [{\"colorbar\": {\"outlinewidth\": 0, \"ticks\": \"\"}, \"colorscale\": [[0.0, \"#0d0887\"], [0.1111111111111111, \"#46039f\"], [0.2222222222222222, \"#7201a8\"], [0.3333333333333333, \"#9c179e\"], [0.4444444444444444, \"#bd3786\"], [0.5555555555555556, \"#d8576b\"], [0.6666666666666666, \"#ed7953\"], [0.7777777777777778, \"#fb9f3a\"], [0.8888888888888888, \"#fdca26\"], [1.0, \"#f0f921\"]], \"type\": \"heatmap\"}], \"heatmapgl\": [{\"colorbar\": {\"outlinewidth\": 0, \"ticks\": \"\"}, \"colorscale\": [[0.0, \"#0d0887\"], [0.1111111111111111, \"#46039f\"], [0.2222222222222222, \"#7201a8\"], [0.3333333333333333, \"#9c179e\"], [0.4444444444444444, \"#bd3786\"], [0.5555555555555556, \"#d8576b\"], [0.6666666666666666, \"#ed7953\"], [0.7777777777777778, \"#fb9f3a\"], [0.8888888888888888, \"#fdca26\"], [1.0, \"#f0f921\"]], \"type\": \"heatmapgl\"}], \"histogram\": [{\"marker\": {\"colorbar\": {\"outlinewidth\": 0, \"ticks\": \"\"}}, \"type\": \"histogram\"}], \"histogram2d\": [{\"colorbar\": {\"outlinewidth\": 0, \"ticks\": \"\"}, \"colorscale\": [[0.0, \"#0d0887\"], [0.1111111111111111, \"#46039f\"], [0.2222222222222222, \"#7201a8\"], [0.3333333333333333, \"#9c179e\"], [0.4444444444444444, \"#bd3786\"], [0.5555555555555556, \"#d8576b\"], [0.6666666666666666, \"#ed7953\"], [0.7777777777777778, \"#fb9f3a\"], [0.8888888888888888, \"#fdca26\"], [1.0, \"#f0f921\"]], \"type\": \"histogram2d\"}], \"histogram2dcontour\": [{\"colorbar\": {\"outlinewidth\": 0, \"ticks\": \"\"}, \"colorscale\": [[0.0, \"#0d0887\"], [0.1111111111111111, \"#46039f\"], [0.2222222222222222, \"#7201a8\"], [0.3333333333333333, \"#9c179e\"], [0.4444444444444444, \"#bd3786\"], [0.5555555555555556, \"#d8576b\"], [0.6666666666666666, \"#ed7953\"], [0.7777777777777778, \"#fb9f3a\"], [0.8888888888888888, \"#fdca26\"], [1.0, \"#f0f921\"]], \"type\": \"histogram2dcontour\"}], \"mesh3d\": [{\"colorbar\": {\"outlinewidth\": 0, \"ticks\": \"\"}, \"type\": \"mesh3d\"}], \"parcoords\": [{\"line\": {\"colorbar\": {\"outlinewidth\": 0, \"ticks\": \"\"}}, \"type\": \"parcoords\"}], \"pie\": [{\"automargin\": true, \"type\": \"pie\"}], \"scatter\": [{\"marker\": {\"colorbar\": {\"outlinewidth\": 0, \"ticks\": \"\"}}, \"type\": \"scatter\"}], \"scatter3d\": [{\"line\": {\"colorbar\": {\"outlinewidth\": 0, \"ticks\": \"\"}}, \"marker\": {\"colorbar\": {\"outlinewidth\": 0, \"ticks\": \"\"}}, \"type\": \"scatter3d\"}], \"scattercarpet\": [{\"marker\": {\"colorbar\": {\"outlinewidth\": 0, \"ticks\": \"\"}}, \"type\": \"scattercarpet\"}], \"scattergeo\": [{\"marker\": {\"colorbar\": {\"outlinewidth\": 0, \"ticks\": \"\"}}, \"type\": \"scattergeo\"}], \"scattergl\": [{\"marker\": {\"colorbar\": {\"outlinewidth\": 0, \"ticks\": \"\"}}, \"type\": \"scattergl\"}], \"scattermapbox\": [{\"marker\": {\"colorbar\": {\"outlinewidth\": 0, \"ticks\": \"\"}}, \"type\": \"scattermapbox\"}], \"scatterpolar\": [{\"marker\": {\"colorbar\": {\"outlinewidth\": 0, \"ticks\": \"\"}}, \"type\": \"scatterpolar\"}], \"scatterpolargl\": [{\"marker\": {\"colorbar\": {\"outlinewidth\": 0, \"ticks\": \"\"}}, \"type\": \"scatterpolargl\"}], \"scatterternary\": [{\"marker\": {\"colorbar\": {\"outlinewidth\": 0, \"ticks\": \"\"}}, \"type\": \"scatterternary\"}], \"surface\": [{\"colorbar\": {\"outlinewidth\": 0, \"ticks\": \"\"}, \"colorscale\": [[0.0, \"#0d0887\"], [0.1111111111111111, \"#46039f\"], [0.2222222222222222, \"#7201a8\"], [0.3333333333333333, \"#9c179e\"], [0.4444444444444444, \"#bd3786\"], [0.5555555555555556, \"#d8576b\"], [0.6666666666666666, \"#ed7953\"], [0.7777777777777778, \"#fb9f3a\"], [0.8888888888888888, \"#fdca26\"], [1.0, \"#f0f921\"]], \"type\": \"surface\"}], \"table\": [{\"cells\": {\"fill\": {\"color\": \"#EBF0F8\"}, \"line\": {\"color\": \"white\"}}, \"header\": {\"fill\": {\"color\": \"#C8D4E3\"}, \"line\": {\"color\": \"white\"}}, \"type\": \"table\"}]}, \"layout\": {\"annotationdefaults\": {\"arrowcolor\": \"#2a3f5f\", \"arrowhead\": 0, \"arrowwidth\": 1}, \"coloraxis\": {\"colorbar\": {\"outlinewidth\": 0, \"ticks\": \"\"}}, \"colorscale\": {\"diverging\": [[0, \"#8e0152\"], [0.1, \"#c51b7d\"], [0.2, \"#de77ae\"], [0.3, \"#f1b6da\"], [0.4, \"#fde0ef\"], [0.5, \"#f7f7f7\"], [0.6, \"#e6f5d0\"], [0.7, \"#b8e186\"], [0.8, \"#7fbc41\"], [0.9, \"#4d9221\"], [1, \"#276419\"]], \"sequential\": [[0.0, \"#0d0887\"], [0.1111111111111111, \"#46039f\"], [0.2222222222222222, \"#7201a8\"], [0.3333333333333333, \"#9c179e\"], [0.4444444444444444, \"#bd3786\"], [0.5555555555555556, \"#d8576b\"], [0.6666666666666666, \"#ed7953\"], [0.7777777777777778, \"#fb9f3a\"], [0.8888888888888888, \"#fdca26\"], [1.0, \"#f0f921\"]], \"sequentialminus\": [[0.0, \"#0d0887\"], [0.1111111111111111, \"#46039f\"], [0.2222222222222222, \"#7201a8\"], [0.3333333333333333, \"#9c179e\"], [0.4444444444444444, \"#bd3786\"], [0.5555555555555556, \"#d8576b\"], [0.6666666666666666, \"#ed7953\"], [0.7777777777777778, \"#fb9f3a\"], [0.8888888888888888, \"#fdca26\"], [1.0, \"#f0f921\"]]}, \"colorway\": [\"#636efa\", \"#EF553B\", \"#00cc96\", \"#ab63fa\", \"#FFA15A\", \"#19d3f3\", \"#FF6692\", \"#B6E880\", \"#FF97FF\", \"#FECB52\"], \"font\": {\"color\": \"#2a3f5f\"}, \"geo\": {\"bgcolor\": \"white\", \"lakecolor\": \"white\", \"landcolor\": \"#E5ECF6\", \"showlakes\": true, \"showland\": true, \"subunitcolor\": \"white\"}, \"hoverlabel\": {\"align\": \"left\"}, \"hovermode\": \"closest\", \"mapbox\": {\"style\": \"light\"}, \"paper_bgcolor\": \"white\", \"plot_bgcolor\": \"#E5ECF6\", \"polar\": {\"angularaxis\": {\"gridcolor\": \"white\", \"linecolor\": \"white\", \"ticks\": \"\"}, \"bgcolor\": \"#E5ECF6\", \"radialaxis\": {\"gridcolor\": \"white\", \"linecolor\": \"white\", \"ticks\": \"\"}}, \"scene\": {\"xaxis\": {\"backgroundcolor\": \"#E5ECF6\", \"gridcolor\": \"white\", \"gridwidth\": 2, \"linecolor\": \"white\", \"showbackground\": true, \"ticks\": \"\", \"zerolinecolor\": \"white\"}, \"yaxis\": {\"backgroundcolor\": \"#E5ECF6\", \"gridcolor\": \"white\", \"gridwidth\": 2, \"linecolor\": \"white\", \"showbackground\": true, \"ticks\": \"\", \"zerolinecolor\": \"white\"}, \"zaxis\": {\"backgroundcolor\": \"#E5ECF6\", \"gridcolor\": \"white\", \"gridwidth\": 2, \"linecolor\": \"white\", \"showbackground\": true, \"ticks\": \"\", \"zerolinecolor\": \"white\"}}, \"shapedefaults\": {\"line\": {\"color\": \"#2a3f5f\"}}, \"ternary\": {\"aaxis\": {\"gridcolor\": \"white\", \"linecolor\": \"white\", \"ticks\": \"\"}, \"baxis\": {\"gridcolor\": \"white\", \"linecolor\": \"white\", \"ticks\": \"\"}, \"bgcolor\": \"#E5ECF6\", \"caxis\": {\"gridcolor\": \"white\", \"linecolor\": \"white\", \"ticks\": \"\"}}, \"title\": {\"x\": 0.05}, \"xaxis\": {\"automargin\": true, \"gridcolor\": \"white\", \"linecolor\": \"white\", \"ticks\": \"\", \"title\": {\"standoff\": 15}, \"zerolinecolor\": \"white\", \"zerolinewidth\": 2}, \"yaxis\": {\"automargin\": true, \"gridcolor\": \"white\", \"linecolor\": \"white\", \"ticks\": \"\", \"title\": {\"standoff\": 15}, \"zerolinecolor\": \"white\", \"zerolinewidth\": 2}}}, \"title\": {\"text\": \"COVID-19 - Curvas de letalidade\"}, \"xaxis\": {\"tickangle\": 0, \"tickfont\": {\"size\": 10}, \"title\": {\"text\": \"Dias desde o 5\\u00ba \\u00f3bito\"}}, \"yaxis\": {\"title\": {\"text\": \"Letalidade (%)\"}}},\n",
              "                        {\"responsive\": true}\n",
              "                    ).then(function(){\n",
              "                            \n",
              "var gd = document.getElementById('08051e27-3e1c-4dcf-acf7-46ef91621ad2');\n",
              "var x = new MutationObserver(function (mutations, observer) {{\n",
              "        var display = window.getComputedStyle(gd).display;\n",
              "        if (!display || display === 'none') {{\n",
              "            console.log([gd, 'removed!']);\n",
              "            Plotly.purge(gd);\n",
              "            observer.disconnect();\n",
              "        }}\n",
              "}});\n",
              "\n",
              "// Listen for the removal of the full notebook cells\n",
              "var notebookContainer = gd.closest('#notebook-container');\n",
              "if (notebookContainer) {{\n",
              "    x.observe(notebookContainer, {childList: true});\n",
              "}}\n",
              "\n",
              "// Listen for the clearing of the current output cell\n",
              "var outputEl = gd.closest('.output');\n",
              "if (outputEl) {{\n",
              "    x.observe(outputEl, {childList: true});\n",
              "}}\n",
              "\n",
              "                        })\n",
              "                };\n",
              "                \n",
              "            </script>\n",
              "        </div>\n",
              "</body>\n",
              "</html>"
            ]
          },
          "metadata": {
            "tags": []
          }
        }
      ]
    },
    {
      "cell_type": "code",
      "metadata": {
        "id": "stK7iA7aU5up",
        "colab_type": "code",
        "outputId": "d91fbb3c-ad68-4ec8-ff82-25721f8766cc",
        "colab": {
          "base_uri": "https://localhost:8080/",
          "height": 173
        }
      },
      "source": [
        "#hide\n",
        "pro_bra = data3[data3['countriesAndTerritories']=='Brazil']\n",
        "pro_bra['dateRep'] = pd.to_datetime(pro_bra['dateRep'],infer_datetime_format=True)\n",
        "pro_bra.sort_values('dateRep',inplace=True)\n",
        "\n",
        "pro_bra['death_cum'] = pro_bra['deaths'].cumsum()\n",
        "pro_bra['case_cum'] = pro_bra['cases'].cumsum()\n",
        "\n",
        "pro_bra.drop(['day', 'month','year',\"geoId\",'countryterritoryCode',\"popData2018\",'countriesAndTerritories'], axis = 1,inplace=True)\n",
        "pro_bra.tail(4)"
      ],
      "execution_count": 30,
      "outputs": [
        {
          "output_type": "execute_result",
          "data": {
            "text/html": [
              "<div>\n",
              "<style scoped>\n",
              "    .dataframe tbody tr th:only-of-type {\n",
              "        vertical-align: middle;\n",
              "    }\n",
              "\n",
              "    .dataframe tbody tr th {\n",
              "        vertical-align: top;\n",
              "    }\n",
              "\n",
              "    .dataframe thead th {\n",
              "        text-align: right;\n",
              "    }\n",
              "</style>\n",
              "<table border=\"1\" class=\"dataframe\">\n",
              "  <thead>\n",
              "    <tr style=\"text-align: right;\">\n",
              "      <th></th>\n",
              "      <th>dateRep</th>\n",
              "      <th>cases</th>\n",
              "      <th>deaths</th>\n",
              "      <th>death_cum</th>\n",
              "      <th>case_cum</th>\n",
              "    </tr>\n",
              "  </thead>\n",
              "  <tbody>\n",
              "    <tr>\n",
              "      <th>1406</th>\n",
              "      <td>2020-04-11</td>\n",
              "      <td>1781</td>\n",
              "      <td>115</td>\n",
              "      <td>1056</td>\n",
              "      <td>19638</td>\n",
              "    </tr>\n",
              "    <tr>\n",
              "      <th>1405</th>\n",
              "      <td>2020-04-12</td>\n",
              "      <td>1089</td>\n",
              "      <td>68</td>\n",
              "      <td>1124</td>\n",
              "      <td>20727</td>\n",
              "    </tr>\n",
              "    <tr>\n",
              "      <th>1404</th>\n",
              "      <td>2020-04-13</td>\n",
              "      <td>1442</td>\n",
              "      <td>99</td>\n",
              "      <td>1223</td>\n",
              "      <td>22169</td>\n",
              "    </tr>\n",
              "    <tr>\n",
              "      <th>1403</th>\n",
              "      <td>2020-04-14</td>\n",
              "      <td>1261</td>\n",
              "      <td>105</td>\n",
              "      <td>1328</td>\n",
              "      <td>23430</td>\n",
              "    </tr>\n",
              "  </tbody>\n",
              "</table>\n",
              "</div>"
            ],
            "text/plain": [
              "        dateRep  cases  deaths  death_cum  case_cum\n",
              "1406 2020-04-11   1781     115       1056     19638\n",
              "1405 2020-04-12   1089      68       1124     20727\n",
              "1404 2020-04-13   1442      99       1223     22169\n",
              "1403 2020-04-14   1261     105       1328     23430"
            ]
          },
          "metadata": {
            "tags": []
          },
          "execution_count": 30
        }
      ]
    },
    {
      "cell_type": "code",
      "metadata": {
        "id": "DbuqNT4UVwbl",
        "colab_type": "code",
        "outputId": "3d3235b8-8016-4619-ebaf-b60577a1553a",
        "colab": {
          "base_uri": "https://localhost:8080/",
          "height": 142
        }
      },
      "source": [
        "#hide\n",
        "let_ger = ((final_data['deathcum'][final_data['countriesAndTerritories']=='Germany'].values[-1]/final_data['Cumulativo'][final_data['countriesAndTerritories']=='Germany'].values[-1])*100).round(2)\n",
        "pro_bra['Alemanha'] = (pro_bra['death_cum']/let_ger*100).round(2)\n",
        "pro_bra = pro_bra[pro_bra['dateRep']>='2020-03-17']\n",
        "pro_bra = pro_bra[pro_bra['dateRep']<=today]\n",
        "\n",
        "pro_bra.sort_values('dateRep',ascending=False)\n",
        "pro_bra.tail(3)"
      ],
      "execution_count": 31,
      "outputs": [
        {
          "output_type": "execute_result",
          "data": {
            "text/html": [
              "<div>\n",
              "<style scoped>\n",
              "    .dataframe tbody tr th:only-of-type {\n",
              "        vertical-align: middle;\n",
              "    }\n",
              "\n",
              "    .dataframe tbody tr th {\n",
              "        vertical-align: top;\n",
              "    }\n",
              "\n",
              "    .dataframe thead th {\n",
              "        text-align: right;\n",
              "    }\n",
              "</style>\n",
              "<table border=\"1\" class=\"dataframe\">\n",
              "  <thead>\n",
              "    <tr style=\"text-align: right;\">\n",
              "      <th></th>\n",
              "      <th>dateRep</th>\n",
              "      <th>cases</th>\n",
              "      <th>deaths</th>\n",
              "      <th>death_cum</th>\n",
              "      <th>case_cum</th>\n",
              "      <th>Alemanha</th>\n",
              "    </tr>\n",
              "  </thead>\n",
              "  <tbody>\n",
              "    <tr>\n",
              "      <th>1405</th>\n",
              "      <td>2020-04-12</td>\n",
              "      <td>1089</td>\n",
              "      <td>68</td>\n",
              "      <td>1124</td>\n",
              "      <td>20727</td>\n",
              "      <td>47426.16</td>\n",
              "    </tr>\n",
              "    <tr>\n",
              "      <th>1404</th>\n",
              "      <td>2020-04-13</td>\n",
              "      <td>1442</td>\n",
              "      <td>99</td>\n",
              "      <td>1223</td>\n",
              "      <td>22169</td>\n",
              "      <td>51603.38</td>\n",
              "    </tr>\n",
              "    <tr>\n",
              "      <th>1403</th>\n",
              "      <td>2020-04-14</td>\n",
              "      <td>1261</td>\n",
              "      <td>105</td>\n",
              "      <td>1328</td>\n",
              "      <td>23430</td>\n",
              "      <td>56033.76</td>\n",
              "    </tr>\n",
              "  </tbody>\n",
              "</table>\n",
              "</div>"
            ],
            "text/plain": [
              "        dateRep  cases  deaths  death_cum  case_cum  Alemanha\n",
              "1405 2020-04-12   1089      68       1124     20727  47426.16\n",
              "1404 2020-04-13   1442      99       1223     22169  51603.38\n",
              "1403 2020-04-14   1261     105       1328     23430  56033.76"
            ]
          },
          "metadata": {
            "tags": []
          },
          "execution_count": 31
        }
      ]
    },
    {
      "cell_type": "markdown",
      "metadata": {
        "id": "ayDTpGd2XAcS",
        "colab_type": "text"
      },
      "source": [
        "O gráfico abaixo representa uma estimativa simples da quantidade de casos atualmente no Brasil. Uma vez que a baixa quantidade de testes tem levado os números a uma subnotificação, o cálculo foi realizado com base no número de óbitos registrados por COVID-19 no Brasil e na taxa da Alemanha, país que tem testado massivamente sua população. Desse modo os números são os seguintes:\n"
      ]
    },
    {
      "cell_type": "code",
      "metadata": {
        "id": "xsMegz3oXF1e",
        "colab_type": "code",
        "outputId": "33fb82d3-a2a5-49cf-b161-957c256b21cc",
        "colab": {
          "base_uri": "https://localhost:8080/",
          "height": 51
        }
      },
      "source": [
        "#hide_input\n",
        "print(\"Número atual de casos registrados no Brasil hoje: \"+ str(pro_bra.iloc[-1,-2])  )\n",
        "print(\"Estimativa de casos no Brasil hoje caso a letalidade seja próxima à da Alemanha: \"+ str(int(pro_bra.iloc[-1,-1]))  )\n"
      ],
      "execution_count": 32,
      "outputs": [
        {
          "output_type": "stream",
          "text": [
            "Número atual de casos registrados no Brasil hoje: 23430\n",
            "Estimativa de casos no Brasil hoje caso a letalidade seja próxima à da Alemanha: 56033\n"
          ],
          "name": "stdout"
        }
      ]
    },
    {
      "cell_type": "code",
      "metadata": {
        "id": "o6tcaHJ-ZnBU",
        "colab_type": "code",
        "outputId": "ced8f4ed-5c65-49f8-ed36-9227aad811e0",
        "colab": {
          "base_uri": "https://localhost:8080/",
          "height": 542
        }
      },
      "source": [
        "#hide_input\n",
        "import plotly.graph_objects as go\n",
        "pro_bra = pro_bra[pro_bra['dateRep']<=today_us]\n",
        "fig = go.Figure()\n",
        "fig.add_trace(go.Scatter(x=pro_bra['dateRep'], y=pro_bra['case_cum'], name='Brasil registrado',\n",
        "                         line=dict(color='firebrick', width=4)))\n",
        "fig.add_trace(go.Scatter(x=pro_bra['dateRep'], y=pro_bra['Alemanha'], name='Projeção Alemanha',\n",
        "                         line=dict(color='blue', width=2)))\n",
        "\n",
        "fig.update_xaxes(tickangle=45, tickfont=dict(size=10))\n",
        "fig.update_layout(title='Projeção de casos no Brasil baseados nas taxas de letalidade da Alemanha',\n",
        "                   xaxis_title='Data',\n",
        "                   yaxis_title='Projeção')"
      ],
      "execution_count": 33,
      "outputs": [
        {
          "output_type": "display_data",
          "data": {
            "text/html": [
              "<html>\n",
              "<head><meta charset=\"utf-8\" /></head>\n",
              "<body>\n",
              "    <div>\n",
              "            <script src=\"https://cdnjs.cloudflare.com/ajax/libs/mathjax/2.7.5/MathJax.js?config=TeX-AMS-MML_SVG\"></script><script type=\"text/javascript\">if (window.MathJax) {MathJax.Hub.Config({SVG: {font: \"STIX-Web\"}});}</script>\n",
              "                <script type=\"text/javascript\">window.PlotlyConfig = {MathJaxConfig: 'local'};</script>\n",
              "        <script src=\"https://cdn.plot.ly/plotly-latest.min.js\"></script>    \n",
              "            <div id=\"fbe2df9c-181a-46e1-a0ac-bbd2266308f9\" class=\"plotly-graph-div\" style=\"height:525px; width:100%;\"></div>\n",
              "            <script type=\"text/javascript\">\n",
              "                \n",
              "                    window.PLOTLYENV=window.PLOTLYENV || {};\n",
              "                    \n",
              "                if (document.getElementById(\"fbe2df9c-181a-46e1-a0ac-bbd2266308f9\")) {\n",
              "                    Plotly.newPlot(\n",
              "                        'fbe2df9c-181a-46e1-a0ac-bbd2266308f9',\n",
              "                        [{\"line\": {\"color\": \"firebrick\", \"width\": 4}, \"name\": \"Brasil registrado\", \"type\": \"scatter\", \"x\": [\"2020-03-17T00:00:00\", \"2020-03-18T00:00:00\", \"2020-03-19T00:00:00\", \"2020-03-20T00:00:00\", \"2020-03-21T00:00:00\", \"2020-03-22T00:00:00\", \"2020-03-23T00:00:00\", \"2020-03-24T00:00:00\", \"2020-03-25T00:00:00\", \"2020-03-26T00:00:00\", \"2020-03-27T00:00:00\", \"2020-03-28T00:00:00\", \"2020-03-29T00:00:00\", \"2020-03-30T00:00:00\", \"2020-03-31T00:00:00\", \"2020-04-01T00:00:00\", \"2020-04-02T00:00:00\", \"2020-04-03T00:00:00\", \"2020-04-04T00:00:00\", \"2020-04-05T00:00:00\", \"2020-04-06T00:00:00\", \"2020-04-07T00:00:00\", \"2020-04-08T00:00:00\", \"2020-04-09T00:00:00\", \"2020-04-10T00:00:00\", \"2020-04-11T00:00:00\", \"2020-04-12T00:00:00\", \"2020-04-13T00:00:00\", \"2020-04-14T00:00:00\"], \"y\": [234, 291, 428, 621, 904, 1128, 1546, 1891, 2201, 2433, 2915, 3417, 3904, 4256, 4579, 5717, 6836, 7910, 9056, 10278, 11130, 12056, 13717, 15927, 17857, 19638, 20727, 22169, 23430]}, {\"line\": {\"color\": \"blue\", \"width\": 2}, \"name\": \"Proje\\u00e7\\u00e3o Alemanha\", \"type\": \"scatter\", \"x\": [\"2020-03-17T00:00:00\", \"2020-03-18T00:00:00\", \"2020-03-19T00:00:00\", \"2020-03-20T00:00:00\", \"2020-03-21T00:00:00\", \"2020-03-22T00:00:00\", \"2020-03-23T00:00:00\", \"2020-03-24T00:00:00\", \"2020-03-25T00:00:00\", \"2020-03-26T00:00:00\", \"2020-03-27T00:00:00\", \"2020-03-28T00:00:00\", \"2020-03-29T00:00:00\", \"2020-03-30T00:00:00\", \"2020-03-31T00:00:00\", \"2020-04-01T00:00:00\", \"2020-04-02T00:00:00\", \"2020-04-03T00:00:00\", \"2020-04-04T00:00:00\", \"2020-04-05T00:00:00\", \"2020-04-06T00:00:00\", \"2020-04-07T00:00:00\", \"2020-04-08T00:00:00\", \"2020-04-09T00:00:00\", \"2020-04-10T00:00:00\", \"2020-04-11T00:00:00\", \"2020-04-12T00:00:00\", \"2020-04-13T00:00:00\", \"2020-04-14T00:00:00\"], \"y\": [0.0, 42.19, 168.78, 253.16, 464.14, 759.49, 1054.85, 1434.6, 1940.93, 2405.06, 3248.95, 3881.86, 4810.13, 5738.4, 6708.86, 8481.01, 10168.78, 12616.03, 15147.68, 18227.85, 20506.33, 23333.33, 28143.46, 33755.27, 39704.64, 44556.96, 47426.16, 51603.38, 56033.76]}],\n",
              "                        {\"template\": {\"data\": {\"bar\": [{\"error_x\": {\"color\": \"#2a3f5f\"}, \"error_y\": {\"color\": \"#2a3f5f\"}, \"marker\": {\"line\": {\"color\": \"#E5ECF6\", \"width\": 0.5}}, \"type\": \"bar\"}], \"barpolar\": [{\"marker\": {\"line\": {\"color\": \"#E5ECF6\", \"width\": 0.5}}, \"type\": \"barpolar\"}], \"carpet\": [{\"aaxis\": {\"endlinecolor\": \"#2a3f5f\", \"gridcolor\": \"white\", \"linecolor\": \"white\", \"minorgridcolor\": \"white\", \"startlinecolor\": \"#2a3f5f\"}, \"baxis\": {\"endlinecolor\": \"#2a3f5f\", \"gridcolor\": \"white\", \"linecolor\": \"white\", \"minorgridcolor\": \"white\", \"startlinecolor\": \"#2a3f5f\"}, \"type\": \"carpet\"}], \"choropleth\": [{\"colorbar\": {\"outlinewidth\": 0, \"ticks\": \"\"}, \"type\": \"choropleth\"}], \"contour\": [{\"colorbar\": {\"outlinewidth\": 0, \"ticks\": \"\"}, \"colorscale\": [[0.0, \"#0d0887\"], [0.1111111111111111, \"#46039f\"], [0.2222222222222222, \"#7201a8\"], [0.3333333333333333, \"#9c179e\"], [0.4444444444444444, \"#bd3786\"], [0.5555555555555556, \"#d8576b\"], [0.6666666666666666, \"#ed7953\"], [0.7777777777777778, \"#fb9f3a\"], [0.8888888888888888, \"#fdca26\"], [1.0, \"#f0f921\"]], \"type\": \"contour\"}], \"contourcarpet\": [{\"colorbar\": {\"outlinewidth\": 0, \"ticks\": \"\"}, \"type\": \"contourcarpet\"}], \"heatmap\": [{\"colorbar\": {\"outlinewidth\": 0, \"ticks\": \"\"}, \"colorscale\": [[0.0, \"#0d0887\"], [0.1111111111111111, \"#46039f\"], [0.2222222222222222, \"#7201a8\"], [0.3333333333333333, \"#9c179e\"], [0.4444444444444444, \"#bd3786\"], [0.5555555555555556, \"#d8576b\"], [0.6666666666666666, \"#ed7953\"], [0.7777777777777778, \"#fb9f3a\"], [0.8888888888888888, \"#fdca26\"], [1.0, \"#f0f921\"]], \"type\": \"heatmap\"}], \"heatmapgl\": [{\"colorbar\": {\"outlinewidth\": 0, \"ticks\": \"\"}, \"colorscale\": [[0.0, \"#0d0887\"], [0.1111111111111111, \"#46039f\"], [0.2222222222222222, \"#7201a8\"], [0.3333333333333333, \"#9c179e\"], [0.4444444444444444, \"#bd3786\"], [0.5555555555555556, \"#d8576b\"], [0.6666666666666666, \"#ed7953\"], [0.7777777777777778, \"#fb9f3a\"], [0.8888888888888888, \"#fdca26\"], [1.0, \"#f0f921\"]], \"type\": \"heatmapgl\"}], \"histogram\": [{\"marker\": {\"colorbar\": {\"outlinewidth\": 0, \"ticks\": \"\"}}, \"type\": \"histogram\"}], \"histogram2d\": [{\"colorbar\": {\"outlinewidth\": 0, \"ticks\": \"\"}, \"colorscale\": [[0.0, \"#0d0887\"], [0.1111111111111111, \"#46039f\"], [0.2222222222222222, \"#7201a8\"], [0.3333333333333333, \"#9c179e\"], [0.4444444444444444, \"#bd3786\"], [0.5555555555555556, \"#d8576b\"], [0.6666666666666666, \"#ed7953\"], [0.7777777777777778, \"#fb9f3a\"], [0.8888888888888888, \"#fdca26\"], [1.0, \"#f0f921\"]], \"type\": \"histogram2d\"}], \"histogram2dcontour\": [{\"colorbar\": {\"outlinewidth\": 0, \"ticks\": \"\"}, \"colorscale\": [[0.0, \"#0d0887\"], [0.1111111111111111, \"#46039f\"], [0.2222222222222222, \"#7201a8\"], [0.3333333333333333, \"#9c179e\"], [0.4444444444444444, \"#bd3786\"], [0.5555555555555556, \"#d8576b\"], [0.6666666666666666, \"#ed7953\"], [0.7777777777777778, \"#fb9f3a\"], [0.8888888888888888, \"#fdca26\"], [1.0, \"#f0f921\"]], \"type\": \"histogram2dcontour\"}], \"mesh3d\": [{\"colorbar\": {\"outlinewidth\": 0, \"ticks\": \"\"}, \"type\": \"mesh3d\"}], \"parcoords\": [{\"line\": {\"colorbar\": {\"outlinewidth\": 0, \"ticks\": \"\"}}, \"type\": \"parcoords\"}], \"pie\": [{\"automargin\": true, \"type\": \"pie\"}], \"scatter\": [{\"marker\": {\"colorbar\": {\"outlinewidth\": 0, \"ticks\": \"\"}}, \"type\": \"scatter\"}], \"scatter3d\": [{\"line\": {\"colorbar\": {\"outlinewidth\": 0, \"ticks\": \"\"}}, \"marker\": {\"colorbar\": {\"outlinewidth\": 0, \"ticks\": \"\"}}, \"type\": \"scatter3d\"}], \"scattercarpet\": [{\"marker\": {\"colorbar\": {\"outlinewidth\": 0, \"ticks\": \"\"}}, \"type\": \"scattercarpet\"}], \"scattergeo\": [{\"marker\": {\"colorbar\": {\"outlinewidth\": 0, \"ticks\": \"\"}}, \"type\": \"scattergeo\"}], \"scattergl\": [{\"marker\": {\"colorbar\": {\"outlinewidth\": 0, \"ticks\": \"\"}}, \"type\": \"scattergl\"}], \"scattermapbox\": [{\"marker\": {\"colorbar\": {\"outlinewidth\": 0, \"ticks\": \"\"}}, \"type\": \"scattermapbox\"}], \"scatterpolar\": [{\"marker\": {\"colorbar\": {\"outlinewidth\": 0, \"ticks\": \"\"}}, \"type\": \"scatterpolar\"}], \"scatterpolargl\": [{\"marker\": {\"colorbar\": {\"outlinewidth\": 0, \"ticks\": \"\"}}, \"type\": \"scatterpolargl\"}], \"scatterternary\": [{\"marker\": {\"colorbar\": {\"outlinewidth\": 0, \"ticks\": \"\"}}, \"type\": \"scatterternary\"}], \"surface\": [{\"colorbar\": {\"outlinewidth\": 0, \"ticks\": \"\"}, \"colorscale\": [[0.0, \"#0d0887\"], [0.1111111111111111, \"#46039f\"], [0.2222222222222222, \"#7201a8\"], [0.3333333333333333, \"#9c179e\"], [0.4444444444444444, \"#bd3786\"], [0.5555555555555556, \"#d8576b\"], [0.6666666666666666, \"#ed7953\"], [0.7777777777777778, \"#fb9f3a\"], [0.8888888888888888, \"#fdca26\"], [1.0, \"#f0f921\"]], \"type\": \"surface\"}], \"table\": [{\"cells\": {\"fill\": {\"color\": \"#EBF0F8\"}, \"line\": {\"color\": \"white\"}}, \"header\": {\"fill\": {\"color\": \"#C8D4E3\"}, \"line\": {\"color\": \"white\"}}, \"type\": \"table\"}]}, \"layout\": {\"annotationdefaults\": {\"arrowcolor\": \"#2a3f5f\", \"arrowhead\": 0, \"arrowwidth\": 1}, \"coloraxis\": {\"colorbar\": {\"outlinewidth\": 0, \"ticks\": \"\"}}, \"colorscale\": {\"diverging\": [[0, \"#8e0152\"], [0.1, \"#c51b7d\"], [0.2, \"#de77ae\"], [0.3, \"#f1b6da\"], [0.4, \"#fde0ef\"], [0.5, \"#f7f7f7\"], [0.6, \"#e6f5d0\"], [0.7, \"#b8e186\"], [0.8, \"#7fbc41\"], [0.9, \"#4d9221\"], [1, \"#276419\"]], \"sequential\": [[0.0, \"#0d0887\"], [0.1111111111111111, \"#46039f\"], [0.2222222222222222, \"#7201a8\"], [0.3333333333333333, \"#9c179e\"], [0.4444444444444444, \"#bd3786\"], [0.5555555555555556, \"#d8576b\"], [0.6666666666666666, \"#ed7953\"], [0.7777777777777778, \"#fb9f3a\"], [0.8888888888888888, \"#fdca26\"], [1.0, \"#f0f921\"]], \"sequentialminus\": [[0.0, \"#0d0887\"], [0.1111111111111111, \"#46039f\"], [0.2222222222222222, \"#7201a8\"], [0.3333333333333333, \"#9c179e\"], [0.4444444444444444, \"#bd3786\"], [0.5555555555555556, \"#d8576b\"], [0.6666666666666666, \"#ed7953\"], [0.7777777777777778, \"#fb9f3a\"], [0.8888888888888888, \"#fdca26\"], [1.0, \"#f0f921\"]]}, \"colorway\": [\"#636efa\", \"#EF553B\", \"#00cc96\", \"#ab63fa\", \"#FFA15A\", \"#19d3f3\", \"#FF6692\", \"#B6E880\", \"#FF97FF\", \"#FECB52\"], \"font\": {\"color\": \"#2a3f5f\"}, \"geo\": {\"bgcolor\": \"white\", \"lakecolor\": \"white\", \"landcolor\": \"#E5ECF6\", \"showlakes\": true, \"showland\": true, \"subunitcolor\": \"white\"}, \"hoverlabel\": {\"align\": \"left\"}, \"hovermode\": \"closest\", \"mapbox\": {\"style\": \"light\"}, \"paper_bgcolor\": \"white\", \"plot_bgcolor\": \"#E5ECF6\", \"polar\": {\"angularaxis\": {\"gridcolor\": \"white\", \"linecolor\": \"white\", \"ticks\": \"\"}, \"bgcolor\": \"#E5ECF6\", \"radialaxis\": {\"gridcolor\": \"white\", \"linecolor\": \"white\", \"ticks\": \"\"}}, \"scene\": {\"xaxis\": {\"backgroundcolor\": \"#E5ECF6\", \"gridcolor\": \"white\", \"gridwidth\": 2, \"linecolor\": \"white\", \"showbackground\": true, \"ticks\": \"\", \"zerolinecolor\": \"white\"}, \"yaxis\": {\"backgroundcolor\": \"#E5ECF6\", \"gridcolor\": \"white\", \"gridwidth\": 2, \"linecolor\": \"white\", \"showbackground\": true, \"ticks\": \"\", \"zerolinecolor\": \"white\"}, \"zaxis\": {\"backgroundcolor\": \"#E5ECF6\", \"gridcolor\": \"white\", \"gridwidth\": 2, \"linecolor\": \"white\", \"showbackground\": true, \"ticks\": \"\", \"zerolinecolor\": \"white\"}}, \"shapedefaults\": {\"line\": {\"color\": \"#2a3f5f\"}}, \"ternary\": {\"aaxis\": {\"gridcolor\": \"white\", \"linecolor\": \"white\", \"ticks\": \"\"}, \"baxis\": {\"gridcolor\": \"white\", \"linecolor\": \"white\", \"ticks\": \"\"}, \"bgcolor\": \"#E5ECF6\", \"caxis\": {\"gridcolor\": \"white\", \"linecolor\": \"white\", \"ticks\": \"\"}}, \"title\": {\"x\": 0.05}, \"xaxis\": {\"automargin\": true, \"gridcolor\": \"white\", \"linecolor\": \"white\", \"ticks\": \"\", \"title\": {\"standoff\": 15}, \"zerolinecolor\": \"white\", \"zerolinewidth\": 2}, \"yaxis\": {\"automargin\": true, \"gridcolor\": \"white\", \"linecolor\": \"white\", \"ticks\": \"\", \"title\": {\"standoff\": 15}, \"zerolinecolor\": \"white\", \"zerolinewidth\": 2}}}, \"title\": {\"text\": \"Proje\\u00e7\\u00e3o de casos no Brasil baseados nas taxas de letalidade da Alemanha\"}, \"xaxis\": {\"tickangle\": 45, \"tickfont\": {\"size\": 10}, \"title\": {\"text\": \"Data\"}}, \"yaxis\": {\"title\": {\"text\": \"Proje\\u00e7\\u00e3o\"}}},\n",
              "                        {\"responsive\": true}\n",
              "                    ).then(function(){\n",
              "                            \n",
              "var gd = document.getElementById('fbe2df9c-181a-46e1-a0ac-bbd2266308f9');\n",
              "var x = new MutationObserver(function (mutations, observer) {{\n",
              "        var display = window.getComputedStyle(gd).display;\n",
              "        if (!display || display === 'none') {{\n",
              "            console.log([gd, 'removed!']);\n",
              "            Plotly.purge(gd);\n",
              "            observer.disconnect();\n",
              "        }}\n",
              "}});\n",
              "\n",
              "// Listen for the removal of the full notebook cells\n",
              "var notebookContainer = gd.closest('#notebook-container');\n",
              "if (notebookContainer) {{\n",
              "    x.observe(notebookContainer, {childList: true});\n",
              "}}\n",
              "\n",
              "// Listen for the clearing of the current output cell\n",
              "var outputEl = gd.closest('.output');\n",
              "if (outputEl) {{\n",
              "    x.observe(outputEl, {childList: true});\n",
              "}}\n",
              "\n",
              "                        })\n",
              "                };\n",
              "                \n",
              "            </script>\n",
              "        </div>\n",
              "</body>\n",
              "</html>"
            ]
          },
          "metadata": {
            "tags": []
          }
        }
      ]
    },
    {
      "cell_type": "code",
      "metadata": {
        "id": "oWv-09wacftD",
        "colab_type": "code",
        "colab": {}
      },
      "source": [
        "#hide\n",
        "scand = ['Denmark','Norway','Sweden','Finland','Iceland']"
      ],
      "execution_count": 0,
      "outputs": []
    },
    {
      "cell_type": "code",
      "metadata": {
        "id": "GzodccrY0ECu",
        "colab_type": "code",
        "outputId": "fb51a239-aa7c-4bbc-ebf3-2b1b611714fd",
        "colab": {
          "base_uri": "https://localhost:8080/",
          "height": 419
        }
      },
      "source": [
        "#hide\n",
        "scandinavia = data3[data3['countriesAndTerritories'].isin(scand)]\n",
        "scandinavia"
      ],
      "execution_count": 35,
      "outputs": [
        {
          "output_type": "execute_result",
          "data": {
            "text/html": [
              "<div>\n",
              "<style scoped>\n",
              "    .dataframe tbody tr th:only-of-type {\n",
              "        vertical-align: middle;\n",
              "    }\n",
              "\n",
              "    .dataframe tbody tr th {\n",
              "        vertical-align: top;\n",
              "    }\n",
              "\n",
              "    .dataframe thead th {\n",
              "        text-align: right;\n",
              "    }\n",
              "</style>\n",
              "<table border=\"1\" class=\"dataframe\">\n",
              "  <thead>\n",
              "    <tr style=\"text-align: right;\">\n",
              "      <th></th>\n",
              "      <th>dateRep</th>\n",
              "      <th>day</th>\n",
              "      <th>month</th>\n",
              "      <th>year</th>\n",
              "      <th>cases</th>\n",
              "      <th>deaths</th>\n",
              "      <th>countriesAndTerritories</th>\n",
              "      <th>geoId</th>\n",
              "      <th>countryterritoryCode</th>\n",
              "      <th>popData2018</th>\n",
              "    </tr>\n",
              "  </thead>\n",
              "  <tbody>\n",
              "    <tr>\n",
              "      <th>2661</th>\n",
              "      <td>2020-04-14</td>\n",
              "      <td>14</td>\n",
              "      <td>4</td>\n",
              "      <td>2020</td>\n",
              "      <td>144</td>\n",
              "      <td>12</td>\n",
              "      <td>Denmark</td>\n",
              "      <td>DK</td>\n",
              "      <td>DNK</td>\n",
              "      <td>5797446.0</td>\n",
              "    </tr>\n",
              "    <tr>\n",
              "      <th>2662</th>\n",
              "      <td>2020-04-13</td>\n",
              "      <td>13</td>\n",
              "      <td>4</td>\n",
              "      <td>2020</td>\n",
              "      <td>178</td>\n",
              "      <td>13</td>\n",
              "      <td>Denmark</td>\n",
              "      <td>DK</td>\n",
              "      <td>DNK</td>\n",
              "      <td>5797446.0</td>\n",
              "    </tr>\n",
              "    <tr>\n",
              "      <th>2663</th>\n",
              "      <td>2020-04-12</td>\n",
              "      <td>12</td>\n",
              "      <td>4</td>\n",
              "      <td>2020</td>\n",
              "      <td>177</td>\n",
              "      <td>13</td>\n",
              "      <td>Denmark</td>\n",
              "      <td>DK</td>\n",
              "      <td>DNK</td>\n",
              "      <td>5797446.0</td>\n",
              "    </tr>\n",
              "    <tr>\n",
              "      <th>2664</th>\n",
              "      <td>2020-04-11</td>\n",
              "      <td>11</td>\n",
              "      <td>4</td>\n",
              "      <td>2020</td>\n",
              "      <td>184</td>\n",
              "      <td>10</td>\n",
              "      <td>Denmark</td>\n",
              "      <td>DK</td>\n",
              "      <td>DNK</td>\n",
              "      <td>5797446.0</td>\n",
              "    </tr>\n",
              "    <tr>\n",
              "      <th>2665</th>\n",
              "      <td>2020-04-10</td>\n",
              "      <td>10</td>\n",
              "      <td>4</td>\n",
              "      <td>2020</td>\n",
              "      <td>233</td>\n",
              "      <td>19</td>\n",
              "      <td>Denmark</td>\n",
              "      <td>DK</td>\n",
              "      <td>DNK</td>\n",
              "      <td>5797446.0</td>\n",
              "    </tr>\n",
              "    <tr>\n",
              "      <th>...</th>\n",
              "      <td>...</td>\n",
              "      <td>...</td>\n",
              "      <td>...</td>\n",
              "      <td>...</td>\n",
              "      <td>...</td>\n",
              "      <td>...</td>\n",
              "      <td>...</td>\n",
              "      <td>...</td>\n",
              "      <td>...</td>\n",
              "      <td>...</td>\n",
              "    </tr>\n",
              "    <tr>\n",
              "      <th>9557</th>\n",
              "      <td>2020-01-04</td>\n",
              "      <td>4</td>\n",
              "      <td>1</td>\n",
              "      <td>2020</td>\n",
              "      <td>0</td>\n",
              "      <td>0</td>\n",
              "      <td>Sweden</td>\n",
              "      <td>SE</td>\n",
              "      <td>SWE</td>\n",
              "      <td>10183175.0</td>\n",
              "    </tr>\n",
              "    <tr>\n",
              "      <th>9558</th>\n",
              "      <td>2020-01-03</td>\n",
              "      <td>3</td>\n",
              "      <td>1</td>\n",
              "      <td>2020</td>\n",
              "      <td>0</td>\n",
              "      <td>0</td>\n",
              "      <td>Sweden</td>\n",
              "      <td>SE</td>\n",
              "      <td>SWE</td>\n",
              "      <td>10183175.0</td>\n",
              "    </tr>\n",
              "    <tr>\n",
              "      <th>9559</th>\n",
              "      <td>2020-01-02</td>\n",
              "      <td>2</td>\n",
              "      <td>1</td>\n",
              "      <td>2020</td>\n",
              "      <td>0</td>\n",
              "      <td>0</td>\n",
              "      <td>Sweden</td>\n",
              "      <td>SE</td>\n",
              "      <td>SWE</td>\n",
              "      <td>10183175.0</td>\n",
              "    </tr>\n",
              "    <tr>\n",
              "      <th>9560</th>\n",
              "      <td>2020-01-01</td>\n",
              "      <td>1</td>\n",
              "      <td>1</td>\n",
              "      <td>2020</td>\n",
              "      <td>0</td>\n",
              "      <td>0</td>\n",
              "      <td>Sweden</td>\n",
              "      <td>SE</td>\n",
              "      <td>SWE</td>\n",
              "      <td>10183175.0</td>\n",
              "    </tr>\n",
              "    <tr>\n",
              "      <th>9561</th>\n",
              "      <td>2019-12-31</td>\n",
              "      <td>31</td>\n",
              "      <td>12</td>\n",
              "      <td>2019</td>\n",
              "      <td>0</td>\n",
              "      <td>0</td>\n",
              "      <td>Sweden</td>\n",
              "      <td>SE</td>\n",
              "      <td>SWE</td>\n",
              "      <td>10183175.0</td>\n",
              "    </tr>\n",
              "  </tbody>\n",
              "</table>\n",
              "<p>525 rows × 10 columns</p>\n",
              "</div>"
            ],
            "text/plain": [
              "        dateRep  day  month  ...  geoId  countryterritoryCode  popData2018\n",
              "2661 2020-04-14   14      4  ...     DK                   DNK    5797446.0\n",
              "2662 2020-04-13   13      4  ...     DK                   DNK    5797446.0\n",
              "2663 2020-04-12   12      4  ...     DK                   DNK    5797446.0\n",
              "2664 2020-04-11   11      4  ...     DK                   DNK    5797446.0\n",
              "2665 2020-04-10   10      4  ...     DK                   DNK    5797446.0\n",
              "...         ...  ...    ...  ...    ...                   ...          ...\n",
              "9557 2020-01-04    4      1  ...     SE                   SWE   10183175.0\n",
              "9558 2020-01-03    3      1  ...     SE                   SWE   10183175.0\n",
              "9559 2020-01-02    2      1  ...     SE                   SWE   10183175.0\n",
              "9560 2020-01-01    1      1  ...     SE                   SWE   10183175.0\n",
              "9561 2019-12-31   31     12  ...     SE                   SWE   10183175.0\n",
              "\n",
              "[525 rows x 10 columns]"
            ]
          },
          "metadata": {
            "tags": []
          },
          "execution_count": 35
        }
      ]
    },
    {
      "cell_type": "code",
      "metadata": {
        "id": "v4FJJAs64LOW",
        "colab_type": "code",
        "colab": {}
      },
      "source": [
        "#hide\n",
        "scanda = []\n",
        "for i in scand:\n",
        "  scandinavia\n"
      ],
      "execution_count": 0,
      "outputs": []
    }
  ]
}