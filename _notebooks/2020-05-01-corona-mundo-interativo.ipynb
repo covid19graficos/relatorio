{
  "nbformat": 4,
  "nbformat_minor": 0,
  "metadata": {
    "colab": {
      "name": "2020-05-01-corona-mundo-interativo.ipynb",
      "provenance": [],
      "collapsed_sections": []
    },
    "kernelspec": {
      "display_name": "Python 3",
      "language": "python",
      "name": "python3"
    },
    "language_info": {
      "codemirror_mode": {
        "name": "ipython",
        "version": 3
      },
      "file_extension": ".py",
      "mimetype": "text/x-python",
      "name": "python",
      "nbconvert_exporter": "python",
      "pygments_lexer": "ipython3",
      "version": "3.6.5"
    }
  },
  "cells": [
    {
      "cell_type": "markdown",
      "metadata": {
        "id": "i3R7_8aSTqPD",
        "colab_type": "text"
      },
      "source": [
        "# Mundo - Comparações entre Países\n",
        "> Gráficos e análises com comparações entre Brasil e países específicos\n",
        "\n",
        "- toc: false\n",
        "- branch: master\n",
        "- badges: false\n",
        "- comments: True\n",
        "- author: Vinicius Bastos Gomes & Fernando Wittmann\n",
        "- categories: [coronavirus]\n"
      ]
    },
    {
      "cell_type": "markdown",
      "metadata": {
        "id": "6Qdx6Lw_vcDr",
        "colab_type": "text"
      },
      "source": [
        "Fonte:  https://opendata.ecdc.europa.eu/covid19/casedistribution/csv\n"
      ]
    },
    {
      "cell_type": "code",
      "metadata": {
        "id": "5Gy6Po5a4_Zs",
        "colab_type": "code",
        "outputId": "adf72809-3891-46b9-c290-454b3a7aa147",
        "colab": {
          "base_uri": "https://localhost:8080/",
          "height": 207
        }
      },
      "source": [
        "#hide\n",
        "!pip install plotly --upgrade"
      ],
      "execution_count": 1,
      "outputs": [
        {
          "output_type": "stream",
          "text": [
            "Collecting plotly\n",
            "\u001b[?25l  Downloading https://files.pythonhosted.org/packages/15/90/918bccb0ca60dc6d126d921e2c67126d75949f5da777e6b18c51fb12603d/plotly-4.6.0-py2.py3-none-any.whl (7.1MB)\n",
            "\u001b[K     |████████████████████████████████| 7.2MB 3.3MB/s \n",
            "\u001b[?25hRequirement already satisfied, skipping upgrade: six in /usr/local/lib/python3.6/dist-packages (from plotly) (1.12.0)\n",
            "Requirement already satisfied, skipping upgrade: retrying>=1.3.3 in /usr/local/lib/python3.6/dist-packages (from plotly) (1.3.3)\n",
            "Installing collected packages: plotly\n",
            "  Found existing installation: plotly 4.4.1\n",
            "    Uninstalling plotly-4.4.1:\n",
            "      Successfully uninstalled plotly-4.4.1\n",
            "Successfully installed plotly-4.6.0\n"
          ],
          "name": "stdout"
        }
      ]
    },
    {
      "cell_type": "code",
      "metadata": {
        "colab_type": "code",
        "id": "Q-8UV5O_Y6lN",
        "colab": {}
      },
      "source": [
        "#hide_input\n",
        "#Imports\n",
        "import warnings\n",
        "warnings.filterwarnings('ignore')\n",
        "import matplotlib.pyplot as plt\n",
        "%matplotlib inline\n",
        "import matplotlib.ticker as ticker\n",
        "import numpy as np; np.random.seed(1)\n",
        "import seaborn as sns\n",
        "sns.set(style=\"ticks\", rc={\"lines.linewidth\": 1.6})\n",
        "sns.set_palette('bright')\n",
        "import pandas as pd\n",
        "from datetime import date,timedelta\n",
        "import io\n",
        "\n",
        "# Montar google drive e exportar imagens\n",
        "MONTAR_GDRIVE = True\n"
      ],
      "execution_count": 0,
      "outputs": []
    },
    {
      "cell_type": "code",
      "metadata": {
        "id": "GCFkwV5puwmq",
        "colab_type": "code",
        "outputId": "1f0e2d0a-217a-4809-de2e-e201aae24e35",
        "colab": {
          "base_uri": "https://localhost:8080/",
          "height": 122
        }
      },
      "source": [
        "#hide\n",
        "if MONTAR_GDRIVE:\n",
        "    # Montar Google Drive\n",
        "    from google.colab import drive\n",
        "    drive.mount('/content/drive')"
      ],
      "execution_count": 3,
      "outputs": [
        {
          "output_type": "stream",
          "text": [
            "Go to this URL in a browser: https://accounts.google.com/o/oauth2/auth?client_id=947318989803-6bn6qk8qdgf4n4g3pfee6491hc0brc4i.apps.googleusercontent.com&redirect_uri=urn%3aietf%3awg%3aoauth%3a2.0%3aoob&response_type=code&scope=email%20https%3a%2f%2fwww.googleapis.com%2fauth%2fdocs.test%20https%3a%2f%2fwww.googleapis.com%2fauth%2fdrive%20https%3a%2f%2fwww.googleapis.com%2fauth%2fdrive.photos.readonly%20https%3a%2f%2fwww.googleapis.com%2fauth%2fpeopleapi.readonly\n",
            "\n",
            "Enter your authorization code:\n",
            "··········\n",
            "Mounted at /content/drive\n"
          ],
          "name": "stdout"
        }
      ]
    },
    {
      "cell_type": "code",
      "metadata": {
        "id": "67m1J6q1u4bt",
        "colab_type": "code",
        "outputId": "58ad5429-35c5-4806-8e54-49e631b5beed",
        "colab": {
          "base_uri": "https://localhost:8080/",
          "height": 34
        }
      },
      "source": [
        "#hide\n",
        "if MONTAR_GDRIVE:\n",
        "    # Abrir pasta com os arquivos\n",
        "    %cd \"/content/drive/My Drive/CoronaVirus Brasil\""
      ],
      "execution_count": 4,
      "outputs": [
        {
          "output_type": "stream",
          "text": [
            "/content/drive/My Drive/CoronaVirus Brasil\n"
          ],
          "name": "stdout"
        }
      ]
    },
    {
      "cell_type": "code",
      "metadata": {
        "id": "pEUjkscson4Y",
        "colab_type": "code",
        "colab": {}
      },
      "source": [
        "#hide\n",
        "!rm dados.csv"
      ],
      "execution_count": 0,
      "outputs": []
    },
    {
      "cell_type": "code",
      "metadata": {
        "id": "qLtKAiWZjsqV",
        "colab_type": "code",
        "outputId": "376a5e51-fecf-4cca-d739-3ec32af0adb9",
        "colab": {
          "base_uri": "https://localhost:8080/",
          "height": 272
        }
      },
      "source": [
        "#hide\n",
        "!wget https://opendata.ecdc.europa.eu/covid19/casedistribution/csv -O dados.csv"
      ],
      "execution_count": 6,
      "outputs": [
        {
          "output_type": "stream",
          "text": [
            "--2020-05-01 13:23:53--  https://opendata.ecdc.europa.eu/covid19/casedistribution/csv\n",
            "Resolving opendata.ecdc.europa.eu (opendata.ecdc.europa.eu)... 212.181.0.63\n",
            "Connecting to opendata.ecdc.europa.eu (opendata.ecdc.europa.eu)|212.181.0.63|:443... connected.\n",
            "HTTP request sent, awaiting response... 301 Moved Permanently\n",
            "Location: https://opendata.ecdc.europa.eu/covid19/casedistribution/csv/ [following]\n",
            "--2020-05-01 13:23:54--  https://opendata.ecdc.europa.eu/covid19/casedistribution/csv/\n",
            "Reusing existing connection to opendata.ecdc.europa.eu:443.\n",
            "HTTP request sent, awaiting response... 200 OK\n",
            "Length: 829325 (810K) [application/octet-stream]\n",
            "Saving to: ‘dados.csv’\n",
            "\n",
            "dados.csv           100%[===================>] 809.89K   407KB/s    in 2.0s    \n",
            "\n",
            "2020-05-01 13:23:56 (407 KB/s) - ‘dados.csv’ saved [829325/829325]\n",
            "\n"
          ],
          "name": "stdout"
        }
      ]
    },
    {
      "cell_type": "code",
      "metadata": {
        "id": "dx-DKRjjTqPV",
        "colab_type": "code",
        "colab": {}
      },
      "source": [
        "#hide\n",
        "#datetime operations\n",
        "todei = date.today()\n",
        "today = todei.strftime(\"%d-%m-%Y\")\n",
        "today_us = todei.strftime(\"%Y-%m-%d\")\n",
        "today_us\n",
        "yesterdei = date.today() - timedelta(days=1)\n",
        "yesterday = yesterdei.strftime('%Y-%m-%d')"
      ],
      "execution_count": 0,
      "outputs": []
    },
    {
      "cell_type": "code",
      "metadata": {
        "scrolled": true,
        "id": "doLyY9GdTqPk",
        "colab_type": "code",
        "colab": {}
      },
      "source": [
        "#hide\n",
        "data3 = pd.read_csv('dados.csv', encoding='latin-1',error_bad_lines=False,parse_dates=['dateRep'],dayfirst=True)\n"
      ],
      "execution_count": 0,
      "outputs": []
    },
    {
      "cell_type": "code",
      "metadata": {
        "id": "IEySD1DR7TpD",
        "colab_type": "code",
        "colab": {}
      },
      "source": [
        "#hide\n",
        "def preprocessing(data):\n",
        "  data.sort_index(ascending=False,inplace=True)\n",
        "  data['Cumulativo'] = data['cases'].cumsum()\n",
        "  data['deathcum'] = data['deaths'].cumsum()\n",
        "  data = data[data['Cumulativo']>=50]\n",
        "  data = data.reset_index(drop=True)\n",
        "\n",
        "  return data"
      ],
      "execution_count": 0,
      "outputs": []
    },
    {
      "cell_type": "code",
      "metadata": {
        "id": "pPLTl0Jdqnf3",
        "colab_type": "code",
        "colab": {}
      },
      "source": [
        "#hide\n",
        "south_korea = data3[data3['countriesAndTerritories']=='South_Korea']\n",
        "czech_Republic = data3[data3['countriesAndTerritories']=='Czechia']\n",
        "hongkong = data3[data3['countriesAndTerritories']=='Hong_Kong']\n",
        "taiwan = data3[data3['countriesAndTerritories']=='Taiwan']\n",
        "mongolia = data3[data3['countriesAndTerritories']=='Mongolia']\n",
        "japan = data3[data3['countriesAndTerritories']=='Japan']\n",
        "china = data3[data3['countriesAndTerritories']=='China']\n",
        "nz=data3[data3['countriesAndTerritories']=='New_Zealand']\n",
        "pt=data3[data3['countriesAndTerritories']=='Portugal']\n"
      ],
      "execution_count": 0,
      "outputs": []
    },
    {
      "cell_type": "code",
      "metadata": {
        "id": "EBo7RxTZqrdf",
        "colab_type": "code",
        "colab": {}
      },
      "source": [
        "#hide\n",
        "china = data3[data3['countriesAndTerritories']=='China']\n",
        "germany = data3[data3['countriesAndTerritories']=='Germany']\n",
        "italy = data3[data3['countriesAndTerritories']=='Italy']\n",
        "brazil = data3[data3['countriesAndTerritories']=='Brazil']\n",
        "argentina = data3[data3['countriesAndTerritories']=='Argentina']\n",
        "france = data3[data3['countriesAndTerritories']=='France']\n",
        "us = data3[data3['countriesAndTerritories']=='United_States_of_America']\n",
        "uk = data3[data3['countriesAndTerritories']=='United_Kingdom']\n",
        "spain = data3[data3['countriesAndTerritories']=='Spain']\n",
        "mexico = data3[data3['countriesAndTerritories']=='Mexico']\n",
        "india = data3[data3['countriesAndTerritories']=='India']"
      ],
      "execution_count": 0,
      "outputs": []
    },
    {
      "cell_type": "code",
      "metadata": {
        "id": "tArPMraDq8Nm",
        "colab_type": "code",
        "colab": {}
      },
      "source": [
        "#hide\n",
        "countries = [brazil,germany,italy,argentina,france,us,uk,spain,south_korea,czech_Republic,hongkong,taiwan,mongolia,japan,china,nz,pt]"
      ],
      "execution_count": 0,
      "outputs": []
    },
    {
      "cell_type": "code",
      "metadata": {
        "id": "xFVR1f_4rJZQ",
        "colab_type": "code",
        "colab": {}
      },
      "source": [
        "#hide\n",
        "paises_list = []\n",
        "for i in countries:\n",
        "  y = preprocessing(i)\n",
        "  paises_list.append(y)"
      ],
      "execution_count": 0,
      "outputs": []
    },
    {
      "cell_type": "code",
      "metadata": {
        "id": "1wqPgPKNrX-E",
        "colab_type": "code",
        "outputId": "866d9827-934f-4d08-d9ca-9ce6557dbd45",
        "colab": {
          "base_uri": "https://localhost:8080/",
          "height": 85
        }
      },
      "source": [
        "#hide\n",
        "paises = pd.concat(paises_list)\n",
        "paises['indice'] = paises.index\n",
        "paises['relativa'] = 10000*(paises['Cumulativo']/paises['popData2018'])\n",
        "paises = paises.sort_values('indice')\n",
        "paises['countriesAndTerritories'].unique()"
      ],
      "execution_count": 14,
      "outputs": [
        {
          "output_type": "execute_result",
          "data": {
            "text/plain": [
              "array(['Brazil', 'France', 'Italy', 'United_States_of_America',\n",
              "       'Portugal', 'United_Kingdom', 'Spain', 'South_Korea', 'Germany',\n",
              "       'New_Zealand', 'Czechia', 'Taiwan', 'Japan', 'China', 'Argentina'],\n",
              "      dtype=object)"
            ]
          },
          "metadata": {
            "tags": []
          },
          "execution_count": 14
        }
      ]
    },
    {
      "cell_type": "code",
      "metadata": {
        "id": "sdWMUy53vmSf",
        "colab_type": "code",
        "colab": {}
      },
      "source": [
        "#hide\n",
        "final_data = paises"
      ],
      "execution_count": 0,
      "outputs": []
    },
    {
      "cell_type": "code",
      "metadata": {
        "id": "Z1NB_GlETqQ5",
        "colab_type": "code",
        "colab": {}
      },
      "source": [
        "#hide\n",
        "#add pct\n",
        "brazil_dupl = paises[paises['countriesAndTerritories']=='Brazil']\n",
        "brazil_dupl['razao']= brazil_dupl['Cumulativo'].pct_change()\n",
        "brazil_dupl['razao']=(brazil_dupl['razao']*100).round(2)\n",
        "brazil_dupl['dias']= brazil_dupl.index\n"
      ],
      "execution_count": 0,
      "outputs": []
    },
    {
      "cell_type": "markdown",
      "metadata": {
        "id": "CttI71tOTqRA",
        "colab_type": "text"
      },
      "source": [
        "<center> <h2> Gráficos de contaminação </h2> </center>\n",
        "\n",
        "\n"
      ]
    },
    {
      "cell_type": "markdown",
      "metadata": {
        "id": "BapU1v4hqOkg",
        "colab_type": "text"
      },
      "source": [
        "Os gráficos a seguir apresentam curvas de contaminação de diversos países. Foram criados com o intuito de comparar estratégias de combate à disseminação do vírus. É importante notar que as curvas de contaminação estão amplamente relacionadas à quantidade de testes que os países tem realizado."
      ]
    },
    {
      "cell_type": "code",
      "metadata": {
        "colab_type": "code",
        "id": "EvCbs19KaAt4",
        "outputId": "38a22eb7-9739-487a-d657-c1cd861b9740",
        "colab": {
          "base_uri": "https://localhost:8080/",
          "height": 542
        }
      },
      "source": [
        "\n",
        "#hide_input\n",
        "import plotly.graph_objects as go\n",
        "fig = go.Figure()\n",
        "fig.add_trace(go.Scatter(x=final_data['indice'][final_data['countriesAndTerritories']=='Brazil'], \n",
        "                         y=final_data['Cumulativo'][final_data['countriesAndTerritories']=='Brazil'], name='Brasil',line=dict(color='black', width=5)))\n",
        "fig.add_trace(go.Scatter(x=final_data['indice'][final_data['countriesAndTerritories']=='France'], \n",
        "                         y=final_data['Cumulativo'][final_data['countriesAndTerritories']=='France'], name='França',line=dict(color='red', width=2)))\n",
        "fig.add_trace(go.Scatter(x=final_data['indice'][final_data['countriesAndTerritories']=='Spain'], \n",
        "                         y=final_data['Cumulativo'][final_data['countriesAndTerritories']=='Spain'], name='Espanha',line=dict(color='blue', width=2)))\n",
        "fig.add_trace(go.Scatter(x=final_data['indice'][final_data['countriesAndTerritories']=='Italy'], \n",
        "                         y=final_data['Cumulativo'][final_data['countriesAndTerritories']=='Italy'], name='Itália',line=dict(color='green', width=2)))\n",
        "fig.add_trace(go.Scatter(x=final_data['indice'][final_data['countriesAndTerritories']=='United_Kingdom'], \n",
        "                         y=final_data['Cumulativo'][final_data['countriesAndTerritories']=='United_Kingdom'], name='Reino Unido',line=dict(color='yellowgreen', width=2)))\n",
        "fig.add_trace(go.Scatter(x=final_data['indice'][final_data['countriesAndTerritories']=='Argentina'], \n",
        "                         y=final_data['Cumulativo'][final_data['countriesAndTerritories']=='Argentina'],mode='lines', name='Argentina',line=dict(color='darkgreen', width=2)))\n",
        "fig.add_trace(go.Scatter(x=final_data['indice'][final_data['countriesAndTerritories']=='Germany'], \n",
        "                         y=final_data['Cumulativo'][final_data['countriesAndTerritories']=='Germany'], name='Alemanha',line=dict(color='darkslateblue', width=2)))\n",
        "fig.add_trace(go.Scatter(x=final_data['indice'][final_data['countriesAndTerritories']=='United_States_of_America'], \n",
        "                         y=final_data['Cumulativo'][final_data['countriesAndTerritories']=='United_States_of_America'], name='EUA',line=dict(color='mediumpurple', width=2)))\n",
        "fig.add_trace(go.Scatter(x=final_data['indice'][final_data['countriesAndTerritories']=='New_Zealand'], \n",
        "                         y=final_data['Cumulativo'][final_data['countriesAndTerritories']=='New_Zealand'], name='Nova Zelândia',line=dict(color='yellow', width=2)))\n",
        "fig.add_trace(go.Scatter(x=final_data['indice'][final_data['countriesAndTerritories']=='Portugal'], \n",
        "                         y=final_data['Cumulativo'][final_data['countriesAndTerritories']=='Portugal'], name='Portugal',line=dict(color='darkgrey', width=2)))\n",
        "\n",
        "fig.add_trace(go.Scatter(x=final_data['indice'][final_data['countriesAndTerritories']=='Czechia'], \n",
        "                         y=final_data['Cumulativo'][final_data['countriesAndTerritories']=='Czechia'],mode='lines', name='República Tcheca',line=dict(color='magenta', width=2)))\n",
        "fig.add_trace(go.Scatter(x=final_data['indice'][final_data['countriesAndTerritories']=='South_Korea'], \n",
        "                         y=final_data['Cumulativo'][final_data['countriesAndTerritories']=='South_Korea'], name='Coréia do Sul',line=dict(color='brown', width=2)))\n",
        "fig.add_trace(go.Scatter(x=final_data['indice'][final_data['countriesAndTerritories']=='Taiwan'], \n",
        "                         y=final_data['Cumulativo'][final_data['countriesAndTerritories']=='Taiwan'],mode='lines', name='Taiwan',line=dict(color='grey', width=2)))\n",
        "fig.add_trace(go.Scatter(x=final_data['indice'][final_data['countriesAndTerritories']=='Hong_Kong'], \n",
        "                         y=final_data['Cumulativo'][final_data['countriesAndTerritories']=='Hong_Kong'], name='Hong Kong',line=dict(color='lavenderblush', width=2)))\n",
        "fig.add_trace(go.Scatter(x=final_data['indice'][final_data['countriesAndTerritories']=='Japan'], \n",
        "                         y=final_data['Cumulativo'][final_data['countriesAndTerritories']=='Japan'], name='Japão',line=dict(color='pink', width=2)))\n",
        "fig.add_trace(go.Scatter(x=final_data['indice'][final_data['countriesAndTerritories']=='China'], \n",
        "                         y=final_data['Cumulativo'][final_data['countriesAndTerritories']=='China'], name='China',line=dict(color='lightgreen', width=2)))\n",
        "\n",
        "fig.update_xaxes(tickangle=0, tickfont=dict(size=10))\n",
        "\n",
        "\n",
        "fig.update_layout(title='COVID-19 - Casos totais - {} - \\n Escala Aritmética'.format(today),\n",
        "                   xaxis_title='Dias desde o caso 50',\n",
        "                   yaxis_title='Casos',legend= {'borderwidth':0,'orientation':'v','yanchor':'top','font':{'size':8}})"
      ],
      "execution_count": 17,
      "outputs": [
        {
          "output_type": "display_data",
          "data": {
            "text/html": [
              "<html>\n",
              "<head><meta charset=\"utf-8\" /></head>\n",
              "<body>\n",
              "    <div>\n",
              "            <script src=\"https://cdnjs.cloudflare.com/ajax/libs/mathjax/2.7.5/MathJax.js?config=TeX-AMS-MML_SVG\"></script><script type=\"text/javascript\">if (window.MathJax) {MathJax.Hub.Config({SVG: {font: \"STIX-Web\"}});}</script>\n",
              "                <script type=\"text/javascript\">window.PlotlyConfig = {MathJaxConfig: 'local'};</script>\n",
              "        <script src=\"https://cdn.plot.ly/plotly-latest.min.js\"></script>    \n",
              "            <div id=\"ffa220a6-d558-4fb8-a9ea-285304f50c79\" class=\"plotly-graph-div\" style=\"height:525px; width:100%;\"></div>\n",
              "            <script type=\"text/javascript\">\n",
              "                \n",
              "                    window.PLOTLYENV=window.PLOTLYENV || {};\n",
              "                    \n",
              "                if (document.getElementById(\"ffa220a6-d558-4fb8-a9ea-285304f50c79\")) {\n",
              "                    Plotly.newPlot(\n",
              "                        'ffa220a6-d558-4fb8-a9ea-285304f50c79',\n",
              "                        [{\"line\": {\"color\": \"black\", \"width\": 5}, \"name\": \"Brasil\", \"type\": \"scatter\", \"x\": [0, 1, 2, 3, 4, 5, 6, 7, 8, 9, 10, 11, 12, 13, 14, 15, 16, 17, 18, 19, 20, 21, 22, 23, 24, 25, 26, 27, 28, 29, 30, 31, 32, 33, 34, 35, 36, 37, 38, 39, 40, 41, 42, 43, 44, 45, 46, 47, 48, 49, 50], \"y\": [52, 77, 98, 121, 200, 234, 291, 428, 621, 904, 1128, 1546, 1891, 2201, 2433, 2915, 3417, 3904, 4256, 4579, 5717, 6836, 7910, 9056, 10278, 11130, 12056, 13717, 15927, 17857, 19638, 20727, 22169, 23430, 25262, 28320, 30425, 33682, 36599, 38654, 40581, 43079, 45757, 49492, 52995, 58509, 61888, 66501, 71886, 78162, 85380]}, {\"line\": {\"color\": \"red\", \"width\": 2}, \"name\": \"Fran\\u00e7a\", \"type\": \"scatter\", \"x\": [0, 1, 2, 3, 4, 5, 6, 7, 8, 9, 10, 11, 12, 13, 14, 15, 16, 17, 18, 19, 20, 21, 22, 23, 24, 25, 26, 27, 28, 29, 30, 31, 32, 33, 34, 35, 36, 37, 38, 39, 40, 41, 42, 43, 44, 45, 46, 47, 48, 49, 50, 51, 52, 53, 54, 55, 56, 57, 58, 59, 60, 61, 62], \"y\": [57, 100, 130, 178, 212, 285, 423, 613, 716, 1126, 1412, 1784, 2281, 2876, 3661, 4499, 5423, 6633, 7730, 9134, 10995, 12612, 14459, 16018, 19856, 22302, 25233, 29155, 32964, 37575, 40174, 44550, 52128, 56989, 59105, 64338, 68605, 70478, 74390, 78167, 82048, 86334, 90676, 93790, 95403, 98076, 103573, 106206, 108847, 109252, 111821, 112606, 114657, 117324, 119151, 120804, 122577, 124114, 124575, 125770, 126835, 128442, 129581]}, {\"line\": {\"color\": \"blue\", \"width\": 2}, \"name\": \"Espanha\", \"type\": \"scatter\", \"x\": [0, 1, 2, 3, 4, 5, 6, 7, 8, 9, 10, 11, 12, 13, 14, 15, 16, 17, 18, 19, 20, 21, 22, 23, 24, 25, 26, 27, 28, 29, 30, 31, 32, 33, 34, 35, 36, 37, 38, 39, 40, 41, 42, 43, 44, 45, 46, 47, 48, 49, 50, 51, 52, 53, 54, 55, 56, 57, 58, 59, 60], \"y\": [66, 83, 114, 151, 200, 261, 374, 430, 589, 1204, 1639, 2140, 3004, 4231, 5753, 7753, 9191, 11178, 13716, 17147, 19980, 24926, 28572, 33089, 39673, 47610, 56188, 64059, 72248, 78797, 85195, 94417, 102136, 110238, 117710, 124736, 130759, 135032, 140510, 146690, 152446, 157022, 161852, 166019, 169496, 177464, 181504, 185904, 190008, 188578, 191163, 194515, 197142, 200194, 202961, 205905, 207634, 209465, 210773, 212917, 213435]}, {\"line\": {\"color\": \"green\", \"width\": 2}, \"name\": \"It\\u00e1lia\", \"type\": \"scatter\", \"x\": [0, 1, 2, 3, 4, 5, 6, 7, 8, 9, 10, 11, 12, 13, 14, 15, 16, 17, 18, 19, 20, 21, 22, 23, 24, 25, 26, 27, 28, 29, 30, 31, 32, 33, 34, 35, 36, 37, 38, 39, 40, 41, 42, 43, 44, 45, 46, 47, 48, 49, 50, 51, 52, 53, 54, 55, 56, 57, 58, 59, 60, 61, 62, 63, 64, 65, 66, 67, 68], \"y\": [79, 132, 229, 322, 400, 650, 888, 1128, 1689, 2036, 2502, 3089, 3858, 4636, 5883, 7375, 9172, 10149, 12462, 15113, 17660, 21157, 23980, 27980, 31506, 35713, 41035, 47021, 53578, 59138, 63927, 69176, 74386, 80539, 86498, 92472, 97689, 101739, 105792, 110574, 115242, 119827, 124632, 128948, 132547, 135586, 139422, 143626, 147577, 152271, 156363, 159516, 162488, 165155, 168941, 172434, 175925, 178972, 181228, 183957, 187327, 189973, 192994, 195351, 197675, 199414, 201505, 203591, 205463]}, {\"line\": {\"color\": \"yellowgreen\", \"width\": 2}, \"name\": \"Reino Unido\", \"type\": \"scatter\", \"x\": [0, 1, 2, 3, 4, 5, 6, 7, 8, 9, 10, 11, 12, 13, 14, 15, 16, 17, 18, 19, 20, 21, 22, 23, 24, 25, 26, 27, 28, 29, 30, 31, 32, 33, 34, 35, 36, 37, 38, 39, 40, 41, 42, 43, 44, 45, 46, 47, 48, 49, 50, 51, 52, 53, 54, 55, 56, 57, 58], \"y\": [51, 85, 115, 163, 206, 273, 321, 373, 456, 590, 707, 1140, 1391, 1543, 1950, 2630, 3277, 3983, 5018, 5683, 6650, 8077, 9529, 11658, 14543, 17089, 19522, 22141, 25150, 29474, 33718, 38168, 41903, 47806, 51608, 55242, 60733, 65077, 70272, 78991, 84279, 88621, 93873, 98476, 103093, 108692, 114217, 120067, 124743, 129044, 133495, 138078, 143464, 148377, 152840, 157149, 161145, 165221, 171253]}, {\"line\": {\"color\": \"darkgreen\", \"width\": 2}, \"mode\": \"lines\", \"name\": \"Argentina\", \"type\": \"scatter\", \"x\": [0, 1, 2, 3, 4, 5, 6, 7, 8, 9, 10, 11, 12, 13, 14, 15, 16, 17, 18, 19, 20, 21, 22, 23, 24, 25, 26, 27, 28, 29, 30, 31, 32, 33, 34, 35, 36, 37, 38, 39, 40, 41, 42, 43, 44, 45, 46], \"y\": [56, 65, 79, 97, 128, 158, 225, 266, 301, 387, 502, 589, 690, 745, 820, 966, 966, 1133, 1133, 1265, 1451, 1554, 1628, 1715, 1795, 1894, 1975, 2137, 2203, 2272, 2432, 2432, 2560, 2658, 2828, 2930, 3020, 3132, 3276, 3423, 3423, 3767, 3767, 3990, 4114, 4272, 4415]}, {\"line\": {\"color\": \"darkslateblue\", \"width\": 2}, \"name\": \"Alemanha\", \"type\": \"scatter\", \"x\": [0, 1, 2, 3, 4, 5, 6, 7, 8, 9, 10, 11, 12, 13, 14, 15, 16, 17, 18, 19, 20, 21, 22, 23, 24, 25, 26, 27, 28, 29, 30, 31, 32, 33, 34, 35, 36, 37, 38, 39, 40, 41, 42, 43, 44, 45, 46, 47, 48, 49, 50, 51, 52, 53, 54, 55, 56, 57, 58, 59, 60, 61, 62], \"y\": [57, 111, 129, 157, 196, 262, 400, 684, 847, 902, 1139, 1296, 1567, 2369, 3062, 3795, 4838, 6012, 7156, 8198, 14138, 18187, 21463, 24774, 29212, 31554, 36508, 42288, 48582, 52547, 57298, 61913, 67366, 73522, 79696, 85778, 91714, 95391, 99225, 103228, 108202, 113525, 117658, 120479, 123016, 125098, 127584, 130450, 133830, 137439, 139897, 141672, 143457, 145694, 148046, 150383, 152438, 154175, 155193, 156337, 157641, 159119, 159119]}, {\"line\": {\"color\": \"mediumpurple\", \"width\": 2}, \"name\": \"EUA\", \"type\": \"scatter\", \"x\": [0, 1, 2, 3, 4, 5, 6, 7, 8, 9, 10, 11, 12, 13, 14, 15, 16, 17, 18, 19, 20, 21, 22, 23, 24, 25, 26, 27, 28, 29, 30, 31, 32, 33, 34, 35, 36, 37, 38, 39, 40, 41, 42, 43, 44, 45, 46, 47, 48, 49, 50, 51, 52, 53, 54, 55, 56, 57, 58, 59, 60, 61, 62, 63, 64, 65, 66], \"y\": [53, 53, 59, 60, 66, 69, 89, 103, 125, 159, 233, 338, 433, 554, 754, 1025, 1312, 1663, 2174, 2951, 3774, 4661, 6427, 9415, 14250, 19624, 26747, 35206, 46442, 55231, 69194, 85991, 104686, 124665, 143025, 164620, 189618, 216721, 245540, 277965, 312237, 337635, 368196, 398809, 432132, 466033, 501560, 529951, 557571, 582594, 609516, 639664, 671331, 702164, 735086, 759687, 787752, 825041, 842629, 869172, 890524, 939053, 965910, 988451, 1012583, 1039909, 1069826]}, {\"line\": {\"color\": \"yellow\", \"width\": 2}, \"name\": \"Nova Zel\\u00e2ndia\", \"type\": \"scatter\", \"x\": [0, 1, 2, 3, 4, 5, 6, 7, 8, 9, 10, 11, 12, 13, 14, 15, 16, 17, 18, 19, 20, 21, 22, 23, 24, 25, 26, 27, 28, 29, 30, 31, 32, 33, 34, 35, 36, 37, 38, 39, 40, 41], \"y\": [53, 66, 102, 142, 189, 262, 338, 416, 476, 552, 647, 647, 723, 772, 824, 872, 911, 943, 969, 992, 1015, 1035, 1049, 1064, 1072, 1078, 1084, 1086, 1094, 1098, 1105, 1107, 1112, 1112, 1114, 1117, 1121, 1122, 1124, 1126, 1129, 1132]}, {\"line\": {\"color\": \"darkgrey\", \"width\": 2}, \"name\": \"Portugal\", \"type\": \"scatter\", \"x\": [0, 1, 2, 3, 4, 5, 6, 7, 8, 9, 10, 11, 12, 13, 14, 15, 16, 17, 18, 19, 20, 21, 22, 23, 24, 25, 26, 27, 28, 29, 30, 31, 32, 33, 34, 35, 36, 37, 38, 39, 40, 41, 42, 43, 44, 45, 46, 47, 48, 49, 50], \"y\": [59, 78, 112, 169, 245, 331, 448, 642, 785, 1020, 1280, 1600, 2060, 2362, 2995, 3544, 4268, 5170, 5962, 6408, 7443, 8251, 9034, 9886, 10524, 11278, 11730, 12442, 13141, 13956, 15472, 15987, 16585, 16934, 17448, 18091, 18841, 19022, 19685, 20206, 20863, 21379, 21982, 22353, 22797, 23392, 23864, 24027, 24322, 24505, 25056]}, {\"line\": {\"color\": \"magenta\", \"width\": 2}, \"mode\": \"lines\", \"name\": \"Rep\\u00fablica Tcheca\", \"type\": \"scatter\", \"x\": [0, 1, 2, 3, 4, 5, 6, 7, 8, 9, 10, 11, 12, 13, 14, 15, 16, 17, 18, 19, 20, 21, 22, 23, 24, 25, 26, 27, 28, 29, 30, 31, 32, 33, 34, 35, 36, 37, 38, 39, 40, 41, 42, 43, 44, 45, 46, 47, 48, 49, 50, 51], \"y\": [63, 94, 116, 150, 214, 298, 344, 434, 522, 694, 904, 995, 1165, 1236, 1394, 1654, 2062, 2279, 2663, 2829, 3002, 3308, 3589, 3858, 4190, 4472, 4587, 4822, 5017, 5312, 5569, 5732, 5902, 5991, 6059, 6141, 6303, 6433, 6549, 6654, 6787, 6914, 7041, 7136, 7188, 7273, 7352, 7404, 7449, 7504, 7579, 7682]}, {\"line\": {\"color\": \"brown\", \"width\": 2}, \"name\": \"Cor\\u00e9ia do Sul\", \"type\": \"scatter\", \"x\": [0, 1, 2, 3, 4, 5, 6, 7, 8, 9, 10, 11, 12, 13, 14, 15, 16, 17, 18, 19, 20, 21, 22, 23, 24, 25, 26, 27, 28, 29, 30, 31, 32, 33, 34, 35, 36, 37, 38, 39, 40, 41, 42, 43, 44, 45, 46, 47, 48, 49, 50, 51, 52, 53, 54, 55, 56, 57, 58, 59, 60, 61, 62, 63, 64, 65, 66, 67, 68, 69, 70, 71], \"y\": [80, 155, 345, 601, 762, 892, 1146, 1595, 2022, 2931, 3526, 4212, 4812, 5328, 5766, 6284, 6767, 7134, 7382, 7513, 7755, 7869, 7979, 8086, 8162, 8236, 8320, 8413, 8565, 8652, 8799, 8897, 8961, 9037, 9137, 9241, 9332, 9478, 9583, 9661, 9786, 9786, 9976, 10062, 10156, 10237, 10284, 10331, 10384, 10423, 10450, 10450, 10512, 10537, 10564, 10591, 10613, 10635, 10653, 10661, 10674, 10683, 10694, 10702, 10708, 10718, 10728, 10738, 10752, 10761, 10765, 10774]}, {\"line\": {\"color\": \"grey\", \"width\": 2}, \"mode\": \"lines\", \"name\": \"Taiwan\", \"type\": \"scatter\", \"x\": [0, 1, 2, 3, 4, 5, 6, 7, 8, 9, 10, 11, 12, 13, 14, 15, 16, 17, 18, 19, 20, 21, 22, 23, 24, 25, 26, 27, 28, 29, 30, 31, 32, 33, 34, 35, 36, 37, 38, 39, 40, 41, 42, 43, 44, 45, 46, 47, 48], \"y\": [53, 59, 59, 67, 77, 108, 108, 135, 153, 165, 195, 216, 235, 252, 267, 283, 306, 306, 322, 339, 339, 355, 363, 363, 373, 376, 379, 380, 380, 385, 388, 393, 395, 395, 395, 395, 398, 420, 422, 425, 426, 427, 428, 429, 429, 429, 429, 429, 429]}, {\"line\": {\"color\": \"lavenderblush\", \"width\": 2}, \"name\": \"Hong Kong\", \"type\": \"scatter\", \"x\": [], \"y\": []}, {\"line\": {\"color\": \"pink\", \"width\": 2}, \"name\": \"Jap\\u00e3o\", \"type\": \"scatter\", \"x\": [0, 1, 2, 3, 4, 5, 6, 7, 8, 9, 10, 11, 12, 13, 14, 15, 16, 17, 18, 19, 20, 21, 22, 23, 24, 25, 26, 27, 28, 29, 30, 31, 32, 33, 34, 35, 36, 37, 38, 39, 40, 41, 42, 43, 44, 45, 46, 47, 48, 49, 50, 51, 52, 53, 54, 55, 56, 57, 58, 59, 60, 61, 62, 63, 64, 65, 66, 67, 68, 69, 70, 71, 72, 73, 74, 75], \"y\": [52, 59, 59, 66, 84, 93, 105, 132, 144, 144, 164, 186, 210, 230, 239, 254, 254, 268, 317, 349, 408, 455, 488, 514, 568, 619, 675, 737, 780, 814, 824, 829, 873, 950, 1007, 1046, 1089, 1128, 1193, 1268, 1364, 1499, 1693, 1866, 1953, 1953, 2178, 2617, 2935, 3271, 3654, 3817, 3906, 4257, 4667, 5347, 6748, 7255, 7645, 8100, 8582, 9167, 9795, 10361, 10751, 11118, 11496, 11772, 12240, 12892, 13182, 13385, 13576, 13852, 14088, 14281]}, {\"line\": {\"color\": \"lightgreen\", \"width\": 2}, \"name\": \"China\", \"type\": \"scatter\", \"x\": [0, 1, 2, 3, 4, 5, 6, 7, 8, 9, 10, 11, 12, 13, 14, 15, 16, 17, 18, 19, 20, 21, 22, 23, 24, 25, 26, 27, 28, 29, 30, 31, 32, 33, 34, 35, 36, 37, 38, 39, 40, 41, 42, 43, 44, 45, 46, 47, 48, 49, 50, 51, 52, 53, 54, 55, 56, 57, 58, 59, 60, 61, 62, 63, 64, 65, 66, 67, 68, 69, 70, 71, 72, 73, 74, 75, 76, 77, 78, 79, 80, 81, 82, 83, 84, 85, 86, 87, 88, 89, 90, 91, 92, 93, 94, 95, 96, 97, 98, 99, 100, 101, 102, 103, 104, 105, 106, 107, 108, 109, 110, 111, 112, 113, 114, 115, 116, 117], \"y\": [59, 59, 59, 59, 59, 59, 59, 59, 59, 59, 59, 59, 63, 80, 216, 235, 386, 526, 623, 882, 1323, 1988, 2775, 4528, 5994, 7734, 9714, 11809, 14399, 17211, 20448, 24320, 28047, 31207, 34625, 37232, 40206, 42696, 44724, 59865, 64021, 66559, 68566, 70618, 72508, 74258, 74652, 75543, 76369, 77016, 77234, 77749, 78159, 78598, 78927, 79355, 79929, 80134, 80261, 80380, 80497, 80667, 80768, 80814, 80859, 80879, 80908, 80932, 80954, 80973, 80995, 81020, 81063, 81086, 81130, 81229, 81281, 81346, 81484, 81553, 81631, 81733, 81827, 81946, 82059, 82157, 82241, 82295, 82395, 82465, 82527, 82575, 82642, 82698, 82784, 82870, 82925, 83004, 83097, 83209, 83303, 83352, 83402, 83754, 83785, 83803, 83817, 83849, 83864, 83876, 83884, 83899, 83909, 83912, 83938, 83940, 83944, 83956]}],\n",
              "                        {\"legend\": {\"borderwidth\": 0, \"font\": {\"size\": 8}, \"orientation\": \"v\", \"yanchor\": \"top\"}, \"template\": {\"data\": {\"bar\": [{\"error_x\": {\"color\": \"#2a3f5f\"}, \"error_y\": {\"color\": \"#2a3f5f\"}, \"marker\": {\"line\": {\"color\": \"#E5ECF6\", \"width\": 0.5}}, \"type\": \"bar\"}], \"barpolar\": [{\"marker\": {\"line\": {\"color\": \"#E5ECF6\", \"width\": 0.5}}, \"type\": \"barpolar\"}], \"carpet\": [{\"aaxis\": {\"endlinecolor\": \"#2a3f5f\", \"gridcolor\": \"white\", \"linecolor\": \"white\", \"minorgridcolor\": \"white\", \"startlinecolor\": \"#2a3f5f\"}, \"baxis\": {\"endlinecolor\": \"#2a3f5f\", \"gridcolor\": \"white\", \"linecolor\": \"white\", \"minorgridcolor\": \"white\", \"startlinecolor\": \"#2a3f5f\"}, \"type\": \"carpet\"}], \"choropleth\": [{\"colorbar\": {\"outlinewidth\": 0, \"ticks\": \"\"}, \"type\": \"choropleth\"}], \"contour\": [{\"colorbar\": {\"outlinewidth\": 0, \"ticks\": \"\"}, \"colorscale\": [[0.0, \"#0d0887\"], [0.1111111111111111, \"#46039f\"], [0.2222222222222222, \"#7201a8\"], [0.3333333333333333, \"#9c179e\"], [0.4444444444444444, \"#bd3786\"], [0.5555555555555556, \"#d8576b\"], [0.6666666666666666, \"#ed7953\"], [0.7777777777777778, \"#fb9f3a\"], [0.8888888888888888, \"#fdca26\"], [1.0, \"#f0f921\"]], \"type\": \"contour\"}], \"contourcarpet\": [{\"colorbar\": {\"outlinewidth\": 0, \"ticks\": \"\"}, \"type\": \"contourcarpet\"}], \"heatmap\": [{\"colorbar\": {\"outlinewidth\": 0, \"ticks\": \"\"}, \"colorscale\": [[0.0, \"#0d0887\"], [0.1111111111111111, \"#46039f\"], [0.2222222222222222, \"#7201a8\"], [0.3333333333333333, \"#9c179e\"], [0.4444444444444444, \"#bd3786\"], [0.5555555555555556, \"#d8576b\"], [0.6666666666666666, \"#ed7953\"], [0.7777777777777778, \"#fb9f3a\"], [0.8888888888888888, \"#fdca26\"], [1.0, \"#f0f921\"]], \"type\": \"heatmap\"}], \"heatmapgl\": [{\"colorbar\": {\"outlinewidth\": 0, \"ticks\": \"\"}, \"colorscale\": [[0.0, \"#0d0887\"], [0.1111111111111111, \"#46039f\"], [0.2222222222222222, \"#7201a8\"], [0.3333333333333333, \"#9c179e\"], [0.4444444444444444, \"#bd3786\"], [0.5555555555555556, \"#d8576b\"], [0.6666666666666666, \"#ed7953\"], [0.7777777777777778, \"#fb9f3a\"], [0.8888888888888888, \"#fdca26\"], [1.0, \"#f0f921\"]], \"type\": \"heatmapgl\"}], \"histogram\": [{\"marker\": {\"colorbar\": {\"outlinewidth\": 0, \"ticks\": \"\"}}, \"type\": \"histogram\"}], \"histogram2d\": [{\"colorbar\": {\"outlinewidth\": 0, \"ticks\": \"\"}, \"colorscale\": [[0.0, \"#0d0887\"], [0.1111111111111111, \"#46039f\"], [0.2222222222222222, \"#7201a8\"], [0.3333333333333333, \"#9c179e\"], [0.4444444444444444, \"#bd3786\"], [0.5555555555555556, \"#d8576b\"], [0.6666666666666666, \"#ed7953\"], [0.7777777777777778, \"#fb9f3a\"], [0.8888888888888888, \"#fdca26\"], [1.0, \"#f0f921\"]], \"type\": \"histogram2d\"}], \"histogram2dcontour\": [{\"colorbar\": {\"outlinewidth\": 0, \"ticks\": \"\"}, \"colorscale\": [[0.0, \"#0d0887\"], [0.1111111111111111, \"#46039f\"], [0.2222222222222222, \"#7201a8\"], [0.3333333333333333, \"#9c179e\"], [0.4444444444444444, \"#bd3786\"], [0.5555555555555556, \"#d8576b\"], [0.6666666666666666, \"#ed7953\"], [0.7777777777777778, \"#fb9f3a\"], [0.8888888888888888, \"#fdca26\"], [1.0, \"#f0f921\"]], \"type\": \"histogram2dcontour\"}], \"mesh3d\": [{\"colorbar\": {\"outlinewidth\": 0, \"ticks\": \"\"}, \"type\": \"mesh3d\"}], \"parcoords\": [{\"line\": {\"colorbar\": {\"outlinewidth\": 0, \"ticks\": \"\"}}, \"type\": \"parcoords\"}], \"pie\": [{\"automargin\": true, \"type\": \"pie\"}], \"scatter\": [{\"marker\": {\"colorbar\": {\"outlinewidth\": 0, \"ticks\": \"\"}}, \"type\": \"scatter\"}], \"scatter3d\": [{\"line\": {\"colorbar\": {\"outlinewidth\": 0, \"ticks\": \"\"}}, \"marker\": {\"colorbar\": {\"outlinewidth\": 0, \"ticks\": \"\"}}, \"type\": \"scatter3d\"}], \"scattercarpet\": [{\"marker\": {\"colorbar\": {\"outlinewidth\": 0, \"ticks\": \"\"}}, \"type\": \"scattercarpet\"}], \"scattergeo\": [{\"marker\": {\"colorbar\": {\"outlinewidth\": 0, \"ticks\": \"\"}}, \"type\": \"scattergeo\"}], \"scattergl\": [{\"marker\": {\"colorbar\": {\"outlinewidth\": 0, \"ticks\": \"\"}}, \"type\": \"scattergl\"}], \"scattermapbox\": [{\"marker\": {\"colorbar\": {\"outlinewidth\": 0, \"ticks\": \"\"}}, \"type\": \"scattermapbox\"}], \"scatterpolar\": [{\"marker\": {\"colorbar\": {\"outlinewidth\": 0, \"ticks\": \"\"}}, \"type\": \"scatterpolar\"}], \"scatterpolargl\": [{\"marker\": {\"colorbar\": {\"outlinewidth\": 0, \"ticks\": \"\"}}, \"type\": \"scatterpolargl\"}], \"scatterternary\": [{\"marker\": {\"colorbar\": {\"outlinewidth\": 0, \"ticks\": \"\"}}, \"type\": \"scatterternary\"}], \"surface\": [{\"colorbar\": {\"outlinewidth\": 0, \"ticks\": \"\"}, \"colorscale\": [[0.0, \"#0d0887\"], [0.1111111111111111, \"#46039f\"], [0.2222222222222222, \"#7201a8\"], [0.3333333333333333, \"#9c179e\"], [0.4444444444444444, \"#bd3786\"], [0.5555555555555556, \"#d8576b\"], [0.6666666666666666, \"#ed7953\"], [0.7777777777777778, \"#fb9f3a\"], [0.8888888888888888, \"#fdca26\"], [1.0, \"#f0f921\"]], \"type\": \"surface\"}], \"table\": [{\"cells\": {\"fill\": {\"color\": \"#EBF0F8\"}, \"line\": {\"color\": \"white\"}}, \"header\": {\"fill\": {\"color\": \"#C8D4E3\"}, \"line\": {\"color\": \"white\"}}, \"type\": \"table\"}]}, \"layout\": {\"annotationdefaults\": {\"arrowcolor\": \"#2a3f5f\", \"arrowhead\": 0, \"arrowwidth\": 1}, \"coloraxis\": {\"colorbar\": {\"outlinewidth\": 0, \"ticks\": \"\"}}, \"colorscale\": {\"diverging\": [[0, \"#8e0152\"], [0.1, \"#c51b7d\"], [0.2, \"#de77ae\"], [0.3, \"#f1b6da\"], [0.4, \"#fde0ef\"], [0.5, \"#f7f7f7\"], [0.6, \"#e6f5d0\"], [0.7, \"#b8e186\"], [0.8, \"#7fbc41\"], [0.9, \"#4d9221\"], [1, \"#276419\"]], \"sequential\": [[0.0, \"#0d0887\"], [0.1111111111111111, \"#46039f\"], [0.2222222222222222, \"#7201a8\"], [0.3333333333333333, \"#9c179e\"], [0.4444444444444444, \"#bd3786\"], [0.5555555555555556, \"#d8576b\"], [0.6666666666666666, \"#ed7953\"], [0.7777777777777778, \"#fb9f3a\"], [0.8888888888888888, \"#fdca26\"], [1.0, \"#f0f921\"]], \"sequentialminus\": [[0.0, \"#0d0887\"], [0.1111111111111111, \"#46039f\"], [0.2222222222222222, \"#7201a8\"], [0.3333333333333333, \"#9c179e\"], [0.4444444444444444, \"#bd3786\"], [0.5555555555555556, \"#d8576b\"], [0.6666666666666666, \"#ed7953\"], [0.7777777777777778, \"#fb9f3a\"], [0.8888888888888888, \"#fdca26\"], [1.0, \"#f0f921\"]]}, \"colorway\": [\"#636efa\", \"#EF553B\", \"#00cc96\", \"#ab63fa\", \"#FFA15A\", \"#19d3f3\", \"#FF6692\", \"#B6E880\", \"#FF97FF\", \"#FECB52\"], \"font\": {\"color\": \"#2a3f5f\"}, \"geo\": {\"bgcolor\": \"white\", \"lakecolor\": \"white\", \"landcolor\": \"#E5ECF6\", \"showlakes\": true, \"showland\": true, \"subunitcolor\": \"white\"}, \"hoverlabel\": {\"align\": \"left\"}, \"hovermode\": \"closest\", \"mapbox\": {\"style\": \"light\"}, \"paper_bgcolor\": \"white\", \"plot_bgcolor\": \"#E5ECF6\", \"polar\": {\"angularaxis\": {\"gridcolor\": \"white\", \"linecolor\": \"white\", \"ticks\": \"\"}, \"bgcolor\": \"#E5ECF6\", \"radialaxis\": {\"gridcolor\": \"white\", \"linecolor\": \"white\", \"ticks\": \"\"}}, \"scene\": {\"xaxis\": {\"backgroundcolor\": \"#E5ECF6\", \"gridcolor\": \"white\", \"gridwidth\": 2, \"linecolor\": \"white\", \"showbackground\": true, \"ticks\": \"\", \"zerolinecolor\": \"white\"}, \"yaxis\": {\"backgroundcolor\": \"#E5ECF6\", \"gridcolor\": \"white\", \"gridwidth\": 2, \"linecolor\": \"white\", \"showbackground\": true, \"ticks\": \"\", \"zerolinecolor\": \"white\"}, \"zaxis\": {\"backgroundcolor\": \"#E5ECF6\", \"gridcolor\": \"white\", \"gridwidth\": 2, \"linecolor\": \"white\", \"showbackground\": true, \"ticks\": \"\", \"zerolinecolor\": \"white\"}}, \"shapedefaults\": {\"line\": {\"color\": \"#2a3f5f\"}}, \"ternary\": {\"aaxis\": {\"gridcolor\": \"white\", \"linecolor\": \"white\", \"ticks\": \"\"}, \"baxis\": {\"gridcolor\": \"white\", \"linecolor\": \"white\", \"ticks\": \"\"}, \"bgcolor\": \"#E5ECF6\", \"caxis\": {\"gridcolor\": \"white\", \"linecolor\": \"white\", \"ticks\": \"\"}}, \"title\": {\"x\": 0.05}, \"xaxis\": {\"automargin\": true, \"gridcolor\": \"white\", \"linecolor\": \"white\", \"ticks\": \"\", \"title\": {\"standoff\": 15}, \"zerolinecolor\": \"white\", \"zerolinewidth\": 2}, \"yaxis\": {\"automargin\": true, \"gridcolor\": \"white\", \"linecolor\": \"white\", \"ticks\": \"\", \"title\": {\"standoff\": 15}, \"zerolinecolor\": \"white\", \"zerolinewidth\": 2}}}, \"title\": {\"text\": \"COVID-19 - Casos totais - 01-05-2020 - \\n Escala Aritm\\u00e9tica\"}, \"xaxis\": {\"tickangle\": 0, \"tickfont\": {\"size\": 10}, \"title\": {\"text\": \"Dias desde o caso 50\"}}, \"yaxis\": {\"title\": {\"text\": \"Casos\"}}},\n",
              "                        {\"responsive\": true}\n",
              "                    ).then(function(){\n",
              "                            \n",
              "var gd = document.getElementById('ffa220a6-d558-4fb8-a9ea-285304f50c79');\n",
              "var x = new MutationObserver(function (mutations, observer) {{\n",
              "        var display = window.getComputedStyle(gd).display;\n",
              "        if (!display || display === 'none') {{\n",
              "            console.log([gd, 'removed!']);\n",
              "            Plotly.purge(gd);\n",
              "            observer.disconnect();\n",
              "        }}\n",
              "}});\n",
              "\n",
              "// Listen for the removal of the full notebook cells\n",
              "var notebookContainer = gd.closest('#notebook-container');\n",
              "if (notebookContainer) {{\n",
              "    x.observe(notebookContainer, {childList: true});\n",
              "}}\n",
              "\n",
              "// Listen for the clearing of the current output cell\n",
              "var outputEl = gd.closest('.output');\n",
              "if (outputEl) {{\n",
              "    x.observe(outputEl, {childList: true});\n",
              "}}\n",
              "\n",
              "                        })\n",
              "                };\n",
              "                \n",
              "            </script>\n",
              "        </div>\n",
              "</body>\n",
              "</html>"
            ]
          },
          "metadata": {
            "tags": []
          }
        }
      ]
    },
    {
      "cell_type": "code",
      "metadata": {
        "id": "Ue45S-poIFc7",
        "colab_type": "code",
        "outputId": "3581cd08-9b66-426c-b2f6-635ff8294ae1",
        "colab": {
          "base_uri": "https://localhost:8080/",
          "height": 542
        }
      },
      "source": [
        "#hide_input\n",
        "import plotly.graph_objects as go\n",
        "fig = go.Figure()\n",
        "fig.add_trace(go.Scatter(x=final_data['indice'][final_data['countriesAndTerritories']=='Brazil'], \n",
        "                         y=final_data['Cumulativo'][final_data['countriesAndTerritories']=='Brazil'], name='Brasil',line=dict(color='black', width=5)))\n",
        "fig.add_trace(go.Scatter(x=final_data['indice'][final_data['countriesAndTerritories']=='France'], \n",
        "                         y=final_data['Cumulativo'][final_data['countriesAndTerritories']=='France'], name='França',line=dict(color='red', width=2)))\n",
        "fig.add_trace(go.Scatter(x=final_data['indice'][final_data['countriesAndTerritories']=='Spain'], \n",
        "                         y=final_data['Cumulativo'][final_data['countriesAndTerritories']=='Spain'], name='Espanha',line=dict(color='blue', width=2)))\n",
        "fig.add_trace(go.Scatter(x=final_data['indice'][final_data['countriesAndTerritories']=='Italy'], \n",
        "                         y=final_data['Cumulativo'][final_data['countriesAndTerritories']=='Italy'], name='Itália',line=dict(color='green', width=2)))\n",
        "fig.add_trace(go.Scatter(x=final_data['indice'][final_data['countriesAndTerritories']=='United_Kingdom'], \n",
        "                         y=final_data['Cumulativo'][final_data['countriesAndTerritories']=='United_Kingdom'], name='Reino Unido',line=dict(color='yellowgreen', width=2)))\n",
        "fig.add_trace(go.Scatter(x=final_data['indice'][final_data['countriesAndTerritories']=='Argentina'], \n",
        "                         y=final_data['Cumulativo'][final_data['countriesAndTerritories']=='Argentina'],mode='lines', name='Argentina',line=dict(color='darkgreen', width=2)))\n",
        "fig.add_trace(go.Scatter(x=final_data['indice'][final_data['countriesAndTerritories']=='Germany'], \n",
        "                         y=final_data['Cumulativo'][final_data['countriesAndTerritories']=='Germany'], name='Alemanha',line=dict(color='darkslateblue', width=2)))\n",
        "fig.add_trace(go.Scatter(x=final_data['indice'][final_data['countriesAndTerritories']=='United_States_of_America'], \n",
        "                         y=final_data['Cumulativo'][final_data['countriesAndTerritories']=='United_States_of_America'], name='EUA',line=dict(color='mediumpurple', width=2)))\n",
        "fig.add_trace(go.Scatter(x=final_data['indice'][final_data['countriesAndTerritories']=='New_Zealand'], \n",
        "                         y=final_data['Cumulativo'][final_data['countriesAndTerritories']=='New_Zealand'], name='Nova Zelândia',line=dict(color='yellow', width=2)))\n",
        "fig.add_trace(go.Scatter(x=final_data['indice'][final_data['countriesAndTerritories']=='Portugal'], \n",
        "                         y=final_data['Cumulativo'][final_data['countriesAndTerritories']=='Portugal'], name='Portugal',line=dict(color='darkgrey', width=2)))\n",
        "\n",
        "fig.add_trace(go.Scatter(x=final_data['indice'][final_data['countriesAndTerritories']=='Czechia'], \n",
        "                         y=final_data['Cumulativo'][final_data['countriesAndTerritories']=='Czechia'],mode='lines', name='República Tcheca',line=dict(color='magenta', width=2)))\n",
        "fig.add_trace(go.Scatter(x=final_data['indice'][final_data['countriesAndTerritories']=='South_Korea'], \n",
        "                         y=final_data['Cumulativo'][final_data['countriesAndTerritories']=='South_Korea'], name='Coréia do Sul',line=dict(color='brown', width=2)))\n",
        "fig.add_trace(go.Scatter(x=final_data['indice'][final_data['countriesAndTerritories']=='Taiwan'], \n",
        "                         y=final_data['Cumulativo'][final_data['countriesAndTerritories']=='Taiwan'],mode='lines', name='Taiwan',line=dict(color='grey', width=2)))\n",
        "fig.add_trace(go.Scatter(x=final_data['indice'][final_data['countriesAndTerritories']=='Hong_Kong'], \n",
        "                         y=final_data['Cumulativo'][final_data['countriesAndTerritories']=='Hong_Kong'], name='Hong Kong',line=dict(color='lavenderblush', width=2)))\n",
        "fig.add_trace(go.Scatter(x=final_data['indice'][final_data['countriesAndTerritories']=='Japan'], \n",
        "                         y=final_data['Cumulativo'][final_data['countriesAndTerritories']=='Japan'], name='Japão',line=dict(color='pink', width=2)))\n",
        "fig.add_trace(go.Scatter(x=final_data['indice'][final_data['countriesAndTerritories']=='China'], \n",
        "                         y=final_data['Cumulativo'][final_data['countriesAndTerritories']=='China'], name='China',line=dict(color='lightgreen', width=2)))\n",
        "\n",
        "\n",
        "fig.update_xaxes(tickangle=0, tickfont=dict(size=10))\n",
        "\n",
        "fig.update_layout(title='COVID-19 - Casos totais confirmados - {} - \\n Escala Logarítmica'.format(today),\n",
        "                   xaxis_title='Dias desde o caso 50',\n",
        "                   yaxis_title='Casos',yaxis_type=\"log\",legend= {'borderwidth':0,'orientation':'v','yanchor':'top','font':{'size':8}})"
      ],
      "execution_count": 18,
      "outputs": [
        {
          "output_type": "display_data",
          "data": {
            "text/html": [
              "<html>\n",
              "<head><meta charset=\"utf-8\" /></head>\n",
              "<body>\n",
              "    <div>\n",
              "            <script src=\"https://cdnjs.cloudflare.com/ajax/libs/mathjax/2.7.5/MathJax.js?config=TeX-AMS-MML_SVG\"></script><script type=\"text/javascript\">if (window.MathJax) {MathJax.Hub.Config({SVG: {font: \"STIX-Web\"}});}</script>\n",
              "                <script type=\"text/javascript\">window.PlotlyConfig = {MathJaxConfig: 'local'};</script>\n",
              "        <script src=\"https://cdn.plot.ly/plotly-latest.min.js\"></script>    \n",
              "            <div id=\"b6fd5111-a443-4831-ac16-3207fab89e81\" class=\"plotly-graph-div\" style=\"height:525px; width:100%;\"></div>\n",
              "            <script type=\"text/javascript\">\n",
              "                \n",
              "                    window.PLOTLYENV=window.PLOTLYENV || {};\n",
              "                    \n",
              "                if (document.getElementById(\"b6fd5111-a443-4831-ac16-3207fab89e81\")) {\n",
              "                    Plotly.newPlot(\n",
              "                        'b6fd5111-a443-4831-ac16-3207fab89e81',\n",
              "                        [{\"line\": {\"color\": \"black\", \"width\": 5}, \"name\": \"Brasil\", \"type\": \"scatter\", \"x\": [0, 1, 2, 3, 4, 5, 6, 7, 8, 9, 10, 11, 12, 13, 14, 15, 16, 17, 18, 19, 20, 21, 22, 23, 24, 25, 26, 27, 28, 29, 30, 31, 32, 33, 34, 35, 36, 37, 38, 39, 40, 41, 42, 43, 44, 45, 46, 47, 48, 49, 50], \"y\": [52, 77, 98, 121, 200, 234, 291, 428, 621, 904, 1128, 1546, 1891, 2201, 2433, 2915, 3417, 3904, 4256, 4579, 5717, 6836, 7910, 9056, 10278, 11130, 12056, 13717, 15927, 17857, 19638, 20727, 22169, 23430, 25262, 28320, 30425, 33682, 36599, 38654, 40581, 43079, 45757, 49492, 52995, 58509, 61888, 66501, 71886, 78162, 85380]}, {\"line\": {\"color\": \"red\", \"width\": 2}, \"name\": \"Fran\\u00e7a\", \"type\": \"scatter\", \"x\": [0, 1, 2, 3, 4, 5, 6, 7, 8, 9, 10, 11, 12, 13, 14, 15, 16, 17, 18, 19, 20, 21, 22, 23, 24, 25, 26, 27, 28, 29, 30, 31, 32, 33, 34, 35, 36, 37, 38, 39, 40, 41, 42, 43, 44, 45, 46, 47, 48, 49, 50, 51, 52, 53, 54, 55, 56, 57, 58, 59, 60, 61, 62], \"y\": [57, 100, 130, 178, 212, 285, 423, 613, 716, 1126, 1412, 1784, 2281, 2876, 3661, 4499, 5423, 6633, 7730, 9134, 10995, 12612, 14459, 16018, 19856, 22302, 25233, 29155, 32964, 37575, 40174, 44550, 52128, 56989, 59105, 64338, 68605, 70478, 74390, 78167, 82048, 86334, 90676, 93790, 95403, 98076, 103573, 106206, 108847, 109252, 111821, 112606, 114657, 117324, 119151, 120804, 122577, 124114, 124575, 125770, 126835, 128442, 129581]}, {\"line\": {\"color\": \"blue\", \"width\": 2}, \"name\": \"Espanha\", \"type\": \"scatter\", \"x\": [0, 1, 2, 3, 4, 5, 6, 7, 8, 9, 10, 11, 12, 13, 14, 15, 16, 17, 18, 19, 20, 21, 22, 23, 24, 25, 26, 27, 28, 29, 30, 31, 32, 33, 34, 35, 36, 37, 38, 39, 40, 41, 42, 43, 44, 45, 46, 47, 48, 49, 50, 51, 52, 53, 54, 55, 56, 57, 58, 59, 60], \"y\": [66, 83, 114, 151, 200, 261, 374, 430, 589, 1204, 1639, 2140, 3004, 4231, 5753, 7753, 9191, 11178, 13716, 17147, 19980, 24926, 28572, 33089, 39673, 47610, 56188, 64059, 72248, 78797, 85195, 94417, 102136, 110238, 117710, 124736, 130759, 135032, 140510, 146690, 152446, 157022, 161852, 166019, 169496, 177464, 181504, 185904, 190008, 188578, 191163, 194515, 197142, 200194, 202961, 205905, 207634, 209465, 210773, 212917, 213435]}, {\"line\": {\"color\": \"green\", \"width\": 2}, \"name\": \"It\\u00e1lia\", \"type\": \"scatter\", \"x\": [0, 1, 2, 3, 4, 5, 6, 7, 8, 9, 10, 11, 12, 13, 14, 15, 16, 17, 18, 19, 20, 21, 22, 23, 24, 25, 26, 27, 28, 29, 30, 31, 32, 33, 34, 35, 36, 37, 38, 39, 40, 41, 42, 43, 44, 45, 46, 47, 48, 49, 50, 51, 52, 53, 54, 55, 56, 57, 58, 59, 60, 61, 62, 63, 64, 65, 66, 67, 68], \"y\": [79, 132, 229, 322, 400, 650, 888, 1128, 1689, 2036, 2502, 3089, 3858, 4636, 5883, 7375, 9172, 10149, 12462, 15113, 17660, 21157, 23980, 27980, 31506, 35713, 41035, 47021, 53578, 59138, 63927, 69176, 74386, 80539, 86498, 92472, 97689, 101739, 105792, 110574, 115242, 119827, 124632, 128948, 132547, 135586, 139422, 143626, 147577, 152271, 156363, 159516, 162488, 165155, 168941, 172434, 175925, 178972, 181228, 183957, 187327, 189973, 192994, 195351, 197675, 199414, 201505, 203591, 205463]}, {\"line\": {\"color\": \"yellowgreen\", \"width\": 2}, \"name\": \"Reino Unido\", \"type\": \"scatter\", \"x\": [0, 1, 2, 3, 4, 5, 6, 7, 8, 9, 10, 11, 12, 13, 14, 15, 16, 17, 18, 19, 20, 21, 22, 23, 24, 25, 26, 27, 28, 29, 30, 31, 32, 33, 34, 35, 36, 37, 38, 39, 40, 41, 42, 43, 44, 45, 46, 47, 48, 49, 50, 51, 52, 53, 54, 55, 56, 57, 58], \"y\": [51, 85, 115, 163, 206, 273, 321, 373, 456, 590, 707, 1140, 1391, 1543, 1950, 2630, 3277, 3983, 5018, 5683, 6650, 8077, 9529, 11658, 14543, 17089, 19522, 22141, 25150, 29474, 33718, 38168, 41903, 47806, 51608, 55242, 60733, 65077, 70272, 78991, 84279, 88621, 93873, 98476, 103093, 108692, 114217, 120067, 124743, 129044, 133495, 138078, 143464, 148377, 152840, 157149, 161145, 165221, 171253]}, {\"line\": {\"color\": \"darkgreen\", \"width\": 2}, \"mode\": \"lines\", \"name\": \"Argentina\", \"type\": \"scatter\", \"x\": [0, 1, 2, 3, 4, 5, 6, 7, 8, 9, 10, 11, 12, 13, 14, 15, 16, 17, 18, 19, 20, 21, 22, 23, 24, 25, 26, 27, 28, 29, 30, 31, 32, 33, 34, 35, 36, 37, 38, 39, 40, 41, 42, 43, 44, 45, 46], \"y\": [56, 65, 79, 97, 128, 158, 225, 266, 301, 387, 502, 589, 690, 745, 820, 966, 966, 1133, 1133, 1265, 1451, 1554, 1628, 1715, 1795, 1894, 1975, 2137, 2203, 2272, 2432, 2432, 2560, 2658, 2828, 2930, 3020, 3132, 3276, 3423, 3423, 3767, 3767, 3990, 4114, 4272, 4415]}, {\"line\": {\"color\": \"darkslateblue\", \"width\": 2}, \"name\": \"Alemanha\", \"type\": \"scatter\", \"x\": [0, 1, 2, 3, 4, 5, 6, 7, 8, 9, 10, 11, 12, 13, 14, 15, 16, 17, 18, 19, 20, 21, 22, 23, 24, 25, 26, 27, 28, 29, 30, 31, 32, 33, 34, 35, 36, 37, 38, 39, 40, 41, 42, 43, 44, 45, 46, 47, 48, 49, 50, 51, 52, 53, 54, 55, 56, 57, 58, 59, 60, 61, 62], \"y\": [57, 111, 129, 157, 196, 262, 400, 684, 847, 902, 1139, 1296, 1567, 2369, 3062, 3795, 4838, 6012, 7156, 8198, 14138, 18187, 21463, 24774, 29212, 31554, 36508, 42288, 48582, 52547, 57298, 61913, 67366, 73522, 79696, 85778, 91714, 95391, 99225, 103228, 108202, 113525, 117658, 120479, 123016, 125098, 127584, 130450, 133830, 137439, 139897, 141672, 143457, 145694, 148046, 150383, 152438, 154175, 155193, 156337, 157641, 159119, 159119]}, {\"line\": {\"color\": \"mediumpurple\", \"width\": 2}, \"name\": \"EUA\", \"type\": \"scatter\", \"x\": [0, 1, 2, 3, 4, 5, 6, 7, 8, 9, 10, 11, 12, 13, 14, 15, 16, 17, 18, 19, 20, 21, 22, 23, 24, 25, 26, 27, 28, 29, 30, 31, 32, 33, 34, 35, 36, 37, 38, 39, 40, 41, 42, 43, 44, 45, 46, 47, 48, 49, 50, 51, 52, 53, 54, 55, 56, 57, 58, 59, 60, 61, 62, 63, 64, 65, 66], \"y\": [53, 53, 59, 60, 66, 69, 89, 103, 125, 159, 233, 338, 433, 554, 754, 1025, 1312, 1663, 2174, 2951, 3774, 4661, 6427, 9415, 14250, 19624, 26747, 35206, 46442, 55231, 69194, 85991, 104686, 124665, 143025, 164620, 189618, 216721, 245540, 277965, 312237, 337635, 368196, 398809, 432132, 466033, 501560, 529951, 557571, 582594, 609516, 639664, 671331, 702164, 735086, 759687, 787752, 825041, 842629, 869172, 890524, 939053, 965910, 988451, 1012583, 1039909, 1069826]}, {\"line\": {\"color\": \"yellow\", \"width\": 2}, \"name\": \"Nova Zel\\u00e2ndia\", \"type\": \"scatter\", \"x\": [0, 1, 2, 3, 4, 5, 6, 7, 8, 9, 10, 11, 12, 13, 14, 15, 16, 17, 18, 19, 20, 21, 22, 23, 24, 25, 26, 27, 28, 29, 30, 31, 32, 33, 34, 35, 36, 37, 38, 39, 40, 41], \"y\": [53, 66, 102, 142, 189, 262, 338, 416, 476, 552, 647, 647, 723, 772, 824, 872, 911, 943, 969, 992, 1015, 1035, 1049, 1064, 1072, 1078, 1084, 1086, 1094, 1098, 1105, 1107, 1112, 1112, 1114, 1117, 1121, 1122, 1124, 1126, 1129, 1132]}, {\"line\": {\"color\": \"darkgrey\", \"width\": 2}, \"name\": \"Portugal\", \"type\": \"scatter\", \"x\": [0, 1, 2, 3, 4, 5, 6, 7, 8, 9, 10, 11, 12, 13, 14, 15, 16, 17, 18, 19, 20, 21, 22, 23, 24, 25, 26, 27, 28, 29, 30, 31, 32, 33, 34, 35, 36, 37, 38, 39, 40, 41, 42, 43, 44, 45, 46, 47, 48, 49, 50], \"y\": [59, 78, 112, 169, 245, 331, 448, 642, 785, 1020, 1280, 1600, 2060, 2362, 2995, 3544, 4268, 5170, 5962, 6408, 7443, 8251, 9034, 9886, 10524, 11278, 11730, 12442, 13141, 13956, 15472, 15987, 16585, 16934, 17448, 18091, 18841, 19022, 19685, 20206, 20863, 21379, 21982, 22353, 22797, 23392, 23864, 24027, 24322, 24505, 25056]}, {\"line\": {\"color\": \"magenta\", \"width\": 2}, \"mode\": \"lines\", \"name\": \"Rep\\u00fablica Tcheca\", \"type\": \"scatter\", \"x\": [0, 1, 2, 3, 4, 5, 6, 7, 8, 9, 10, 11, 12, 13, 14, 15, 16, 17, 18, 19, 20, 21, 22, 23, 24, 25, 26, 27, 28, 29, 30, 31, 32, 33, 34, 35, 36, 37, 38, 39, 40, 41, 42, 43, 44, 45, 46, 47, 48, 49, 50, 51], \"y\": [63, 94, 116, 150, 214, 298, 344, 434, 522, 694, 904, 995, 1165, 1236, 1394, 1654, 2062, 2279, 2663, 2829, 3002, 3308, 3589, 3858, 4190, 4472, 4587, 4822, 5017, 5312, 5569, 5732, 5902, 5991, 6059, 6141, 6303, 6433, 6549, 6654, 6787, 6914, 7041, 7136, 7188, 7273, 7352, 7404, 7449, 7504, 7579, 7682]}, {\"line\": {\"color\": \"brown\", \"width\": 2}, \"name\": \"Cor\\u00e9ia do Sul\", \"type\": \"scatter\", \"x\": [0, 1, 2, 3, 4, 5, 6, 7, 8, 9, 10, 11, 12, 13, 14, 15, 16, 17, 18, 19, 20, 21, 22, 23, 24, 25, 26, 27, 28, 29, 30, 31, 32, 33, 34, 35, 36, 37, 38, 39, 40, 41, 42, 43, 44, 45, 46, 47, 48, 49, 50, 51, 52, 53, 54, 55, 56, 57, 58, 59, 60, 61, 62, 63, 64, 65, 66, 67, 68, 69, 70, 71], \"y\": [80, 155, 345, 601, 762, 892, 1146, 1595, 2022, 2931, 3526, 4212, 4812, 5328, 5766, 6284, 6767, 7134, 7382, 7513, 7755, 7869, 7979, 8086, 8162, 8236, 8320, 8413, 8565, 8652, 8799, 8897, 8961, 9037, 9137, 9241, 9332, 9478, 9583, 9661, 9786, 9786, 9976, 10062, 10156, 10237, 10284, 10331, 10384, 10423, 10450, 10450, 10512, 10537, 10564, 10591, 10613, 10635, 10653, 10661, 10674, 10683, 10694, 10702, 10708, 10718, 10728, 10738, 10752, 10761, 10765, 10774]}, {\"line\": {\"color\": \"grey\", \"width\": 2}, \"mode\": \"lines\", \"name\": \"Taiwan\", \"type\": \"scatter\", \"x\": [0, 1, 2, 3, 4, 5, 6, 7, 8, 9, 10, 11, 12, 13, 14, 15, 16, 17, 18, 19, 20, 21, 22, 23, 24, 25, 26, 27, 28, 29, 30, 31, 32, 33, 34, 35, 36, 37, 38, 39, 40, 41, 42, 43, 44, 45, 46, 47, 48], \"y\": [53, 59, 59, 67, 77, 108, 108, 135, 153, 165, 195, 216, 235, 252, 267, 283, 306, 306, 322, 339, 339, 355, 363, 363, 373, 376, 379, 380, 380, 385, 388, 393, 395, 395, 395, 395, 398, 420, 422, 425, 426, 427, 428, 429, 429, 429, 429, 429, 429]}, {\"line\": {\"color\": \"lavenderblush\", \"width\": 2}, \"name\": \"Hong Kong\", \"type\": \"scatter\", \"x\": [], \"y\": []}, {\"line\": {\"color\": \"pink\", \"width\": 2}, \"name\": \"Jap\\u00e3o\", \"type\": \"scatter\", \"x\": [0, 1, 2, 3, 4, 5, 6, 7, 8, 9, 10, 11, 12, 13, 14, 15, 16, 17, 18, 19, 20, 21, 22, 23, 24, 25, 26, 27, 28, 29, 30, 31, 32, 33, 34, 35, 36, 37, 38, 39, 40, 41, 42, 43, 44, 45, 46, 47, 48, 49, 50, 51, 52, 53, 54, 55, 56, 57, 58, 59, 60, 61, 62, 63, 64, 65, 66, 67, 68, 69, 70, 71, 72, 73, 74, 75], \"y\": [52, 59, 59, 66, 84, 93, 105, 132, 144, 144, 164, 186, 210, 230, 239, 254, 254, 268, 317, 349, 408, 455, 488, 514, 568, 619, 675, 737, 780, 814, 824, 829, 873, 950, 1007, 1046, 1089, 1128, 1193, 1268, 1364, 1499, 1693, 1866, 1953, 1953, 2178, 2617, 2935, 3271, 3654, 3817, 3906, 4257, 4667, 5347, 6748, 7255, 7645, 8100, 8582, 9167, 9795, 10361, 10751, 11118, 11496, 11772, 12240, 12892, 13182, 13385, 13576, 13852, 14088, 14281]}, {\"line\": {\"color\": \"lightgreen\", \"width\": 2}, \"name\": \"China\", \"type\": \"scatter\", \"x\": [0, 1, 2, 3, 4, 5, 6, 7, 8, 9, 10, 11, 12, 13, 14, 15, 16, 17, 18, 19, 20, 21, 22, 23, 24, 25, 26, 27, 28, 29, 30, 31, 32, 33, 34, 35, 36, 37, 38, 39, 40, 41, 42, 43, 44, 45, 46, 47, 48, 49, 50, 51, 52, 53, 54, 55, 56, 57, 58, 59, 60, 61, 62, 63, 64, 65, 66, 67, 68, 69, 70, 71, 72, 73, 74, 75, 76, 77, 78, 79, 80, 81, 82, 83, 84, 85, 86, 87, 88, 89, 90, 91, 92, 93, 94, 95, 96, 97, 98, 99, 100, 101, 102, 103, 104, 105, 106, 107, 108, 109, 110, 111, 112, 113, 114, 115, 116, 117], \"y\": [59, 59, 59, 59, 59, 59, 59, 59, 59, 59, 59, 59, 63, 80, 216, 235, 386, 526, 623, 882, 1323, 1988, 2775, 4528, 5994, 7734, 9714, 11809, 14399, 17211, 20448, 24320, 28047, 31207, 34625, 37232, 40206, 42696, 44724, 59865, 64021, 66559, 68566, 70618, 72508, 74258, 74652, 75543, 76369, 77016, 77234, 77749, 78159, 78598, 78927, 79355, 79929, 80134, 80261, 80380, 80497, 80667, 80768, 80814, 80859, 80879, 80908, 80932, 80954, 80973, 80995, 81020, 81063, 81086, 81130, 81229, 81281, 81346, 81484, 81553, 81631, 81733, 81827, 81946, 82059, 82157, 82241, 82295, 82395, 82465, 82527, 82575, 82642, 82698, 82784, 82870, 82925, 83004, 83097, 83209, 83303, 83352, 83402, 83754, 83785, 83803, 83817, 83849, 83864, 83876, 83884, 83899, 83909, 83912, 83938, 83940, 83944, 83956]}],\n",
              "                        {\"legend\": {\"borderwidth\": 0, \"font\": {\"size\": 8}, \"orientation\": \"v\", \"yanchor\": \"top\"}, \"template\": {\"data\": {\"bar\": [{\"error_x\": {\"color\": \"#2a3f5f\"}, \"error_y\": {\"color\": \"#2a3f5f\"}, \"marker\": {\"line\": {\"color\": \"#E5ECF6\", \"width\": 0.5}}, \"type\": \"bar\"}], \"barpolar\": [{\"marker\": {\"line\": {\"color\": \"#E5ECF6\", \"width\": 0.5}}, \"type\": \"barpolar\"}], \"carpet\": [{\"aaxis\": {\"endlinecolor\": \"#2a3f5f\", \"gridcolor\": \"white\", \"linecolor\": \"white\", \"minorgridcolor\": \"white\", \"startlinecolor\": \"#2a3f5f\"}, \"baxis\": {\"endlinecolor\": \"#2a3f5f\", \"gridcolor\": \"white\", \"linecolor\": \"white\", \"minorgridcolor\": \"white\", \"startlinecolor\": \"#2a3f5f\"}, \"type\": \"carpet\"}], \"choropleth\": [{\"colorbar\": {\"outlinewidth\": 0, \"ticks\": \"\"}, \"type\": \"choropleth\"}], \"contour\": [{\"colorbar\": {\"outlinewidth\": 0, \"ticks\": \"\"}, \"colorscale\": [[0.0, \"#0d0887\"], [0.1111111111111111, \"#46039f\"], [0.2222222222222222, \"#7201a8\"], [0.3333333333333333, \"#9c179e\"], [0.4444444444444444, \"#bd3786\"], [0.5555555555555556, \"#d8576b\"], [0.6666666666666666, \"#ed7953\"], [0.7777777777777778, \"#fb9f3a\"], [0.8888888888888888, \"#fdca26\"], [1.0, \"#f0f921\"]], \"type\": \"contour\"}], \"contourcarpet\": [{\"colorbar\": {\"outlinewidth\": 0, \"ticks\": \"\"}, \"type\": \"contourcarpet\"}], \"heatmap\": [{\"colorbar\": {\"outlinewidth\": 0, \"ticks\": \"\"}, \"colorscale\": [[0.0, \"#0d0887\"], [0.1111111111111111, \"#46039f\"], [0.2222222222222222, \"#7201a8\"], [0.3333333333333333, \"#9c179e\"], [0.4444444444444444, \"#bd3786\"], [0.5555555555555556, \"#d8576b\"], [0.6666666666666666, \"#ed7953\"], [0.7777777777777778, \"#fb9f3a\"], [0.8888888888888888, \"#fdca26\"], [1.0, \"#f0f921\"]], \"type\": \"heatmap\"}], \"heatmapgl\": [{\"colorbar\": {\"outlinewidth\": 0, \"ticks\": \"\"}, \"colorscale\": [[0.0, \"#0d0887\"], [0.1111111111111111, \"#46039f\"], [0.2222222222222222, \"#7201a8\"], [0.3333333333333333, \"#9c179e\"], [0.4444444444444444, \"#bd3786\"], [0.5555555555555556, \"#d8576b\"], [0.6666666666666666, \"#ed7953\"], [0.7777777777777778, \"#fb9f3a\"], [0.8888888888888888, \"#fdca26\"], [1.0, \"#f0f921\"]], \"type\": \"heatmapgl\"}], \"histogram\": [{\"marker\": {\"colorbar\": {\"outlinewidth\": 0, \"ticks\": \"\"}}, \"type\": \"histogram\"}], \"histogram2d\": [{\"colorbar\": {\"outlinewidth\": 0, \"ticks\": \"\"}, \"colorscale\": [[0.0, \"#0d0887\"], [0.1111111111111111, \"#46039f\"], [0.2222222222222222, \"#7201a8\"], [0.3333333333333333, \"#9c179e\"], [0.4444444444444444, \"#bd3786\"], [0.5555555555555556, \"#d8576b\"], [0.6666666666666666, \"#ed7953\"], [0.7777777777777778, \"#fb9f3a\"], [0.8888888888888888, \"#fdca26\"], [1.0, \"#f0f921\"]], \"type\": \"histogram2d\"}], \"histogram2dcontour\": [{\"colorbar\": {\"outlinewidth\": 0, \"ticks\": \"\"}, \"colorscale\": [[0.0, \"#0d0887\"], [0.1111111111111111, \"#46039f\"], [0.2222222222222222, \"#7201a8\"], [0.3333333333333333, \"#9c179e\"], [0.4444444444444444, \"#bd3786\"], [0.5555555555555556, \"#d8576b\"], [0.6666666666666666, \"#ed7953\"], [0.7777777777777778, \"#fb9f3a\"], [0.8888888888888888, \"#fdca26\"], [1.0, \"#f0f921\"]], \"type\": \"histogram2dcontour\"}], \"mesh3d\": [{\"colorbar\": {\"outlinewidth\": 0, \"ticks\": \"\"}, \"type\": \"mesh3d\"}], \"parcoords\": [{\"line\": {\"colorbar\": {\"outlinewidth\": 0, \"ticks\": \"\"}}, \"type\": \"parcoords\"}], \"pie\": [{\"automargin\": true, \"type\": \"pie\"}], \"scatter\": [{\"marker\": {\"colorbar\": {\"outlinewidth\": 0, \"ticks\": \"\"}}, \"type\": \"scatter\"}], \"scatter3d\": [{\"line\": {\"colorbar\": {\"outlinewidth\": 0, \"ticks\": \"\"}}, \"marker\": {\"colorbar\": {\"outlinewidth\": 0, \"ticks\": \"\"}}, \"type\": \"scatter3d\"}], \"scattercarpet\": [{\"marker\": {\"colorbar\": {\"outlinewidth\": 0, \"ticks\": \"\"}}, \"type\": \"scattercarpet\"}], \"scattergeo\": [{\"marker\": {\"colorbar\": {\"outlinewidth\": 0, \"ticks\": \"\"}}, \"type\": \"scattergeo\"}], \"scattergl\": [{\"marker\": {\"colorbar\": {\"outlinewidth\": 0, \"ticks\": \"\"}}, \"type\": \"scattergl\"}], \"scattermapbox\": [{\"marker\": {\"colorbar\": {\"outlinewidth\": 0, \"ticks\": \"\"}}, \"type\": \"scattermapbox\"}], \"scatterpolar\": [{\"marker\": {\"colorbar\": {\"outlinewidth\": 0, \"ticks\": \"\"}}, \"type\": \"scatterpolar\"}], \"scatterpolargl\": [{\"marker\": {\"colorbar\": {\"outlinewidth\": 0, \"ticks\": \"\"}}, \"type\": \"scatterpolargl\"}], \"scatterternary\": [{\"marker\": {\"colorbar\": {\"outlinewidth\": 0, \"ticks\": \"\"}}, \"type\": \"scatterternary\"}], \"surface\": [{\"colorbar\": {\"outlinewidth\": 0, \"ticks\": \"\"}, \"colorscale\": [[0.0, \"#0d0887\"], [0.1111111111111111, \"#46039f\"], [0.2222222222222222, \"#7201a8\"], [0.3333333333333333, \"#9c179e\"], [0.4444444444444444, \"#bd3786\"], [0.5555555555555556, \"#d8576b\"], [0.6666666666666666, \"#ed7953\"], [0.7777777777777778, \"#fb9f3a\"], [0.8888888888888888, \"#fdca26\"], [1.0, \"#f0f921\"]], \"type\": \"surface\"}], \"table\": [{\"cells\": {\"fill\": {\"color\": \"#EBF0F8\"}, \"line\": {\"color\": \"white\"}}, \"header\": {\"fill\": {\"color\": \"#C8D4E3\"}, \"line\": {\"color\": \"white\"}}, \"type\": \"table\"}]}, \"layout\": {\"annotationdefaults\": {\"arrowcolor\": \"#2a3f5f\", \"arrowhead\": 0, \"arrowwidth\": 1}, \"coloraxis\": {\"colorbar\": {\"outlinewidth\": 0, \"ticks\": \"\"}}, \"colorscale\": {\"diverging\": [[0, \"#8e0152\"], [0.1, \"#c51b7d\"], [0.2, \"#de77ae\"], [0.3, \"#f1b6da\"], [0.4, \"#fde0ef\"], [0.5, \"#f7f7f7\"], [0.6, \"#e6f5d0\"], [0.7, \"#b8e186\"], [0.8, \"#7fbc41\"], [0.9, \"#4d9221\"], [1, \"#276419\"]], \"sequential\": [[0.0, \"#0d0887\"], [0.1111111111111111, \"#46039f\"], [0.2222222222222222, \"#7201a8\"], [0.3333333333333333, \"#9c179e\"], [0.4444444444444444, \"#bd3786\"], [0.5555555555555556, \"#d8576b\"], [0.6666666666666666, \"#ed7953\"], [0.7777777777777778, \"#fb9f3a\"], [0.8888888888888888, \"#fdca26\"], [1.0, \"#f0f921\"]], \"sequentialminus\": [[0.0, \"#0d0887\"], [0.1111111111111111, \"#46039f\"], [0.2222222222222222, \"#7201a8\"], [0.3333333333333333, \"#9c179e\"], [0.4444444444444444, \"#bd3786\"], [0.5555555555555556, \"#d8576b\"], [0.6666666666666666, \"#ed7953\"], [0.7777777777777778, \"#fb9f3a\"], [0.8888888888888888, \"#fdca26\"], [1.0, \"#f0f921\"]]}, \"colorway\": [\"#636efa\", \"#EF553B\", \"#00cc96\", \"#ab63fa\", \"#FFA15A\", \"#19d3f3\", \"#FF6692\", \"#B6E880\", \"#FF97FF\", \"#FECB52\"], \"font\": {\"color\": \"#2a3f5f\"}, \"geo\": {\"bgcolor\": \"white\", \"lakecolor\": \"white\", \"landcolor\": \"#E5ECF6\", \"showlakes\": true, \"showland\": true, \"subunitcolor\": \"white\"}, \"hoverlabel\": {\"align\": \"left\"}, \"hovermode\": \"closest\", \"mapbox\": {\"style\": \"light\"}, \"paper_bgcolor\": \"white\", \"plot_bgcolor\": \"#E5ECF6\", \"polar\": {\"angularaxis\": {\"gridcolor\": \"white\", \"linecolor\": \"white\", \"ticks\": \"\"}, \"bgcolor\": \"#E5ECF6\", \"radialaxis\": {\"gridcolor\": \"white\", \"linecolor\": \"white\", \"ticks\": \"\"}}, \"scene\": {\"xaxis\": {\"backgroundcolor\": \"#E5ECF6\", \"gridcolor\": \"white\", \"gridwidth\": 2, \"linecolor\": \"white\", \"showbackground\": true, \"ticks\": \"\", \"zerolinecolor\": \"white\"}, \"yaxis\": {\"backgroundcolor\": \"#E5ECF6\", \"gridcolor\": \"white\", \"gridwidth\": 2, \"linecolor\": \"white\", \"showbackground\": true, \"ticks\": \"\", \"zerolinecolor\": \"white\"}, \"zaxis\": {\"backgroundcolor\": \"#E5ECF6\", \"gridcolor\": \"white\", \"gridwidth\": 2, \"linecolor\": \"white\", \"showbackground\": true, \"ticks\": \"\", \"zerolinecolor\": \"white\"}}, \"shapedefaults\": {\"line\": {\"color\": \"#2a3f5f\"}}, \"ternary\": {\"aaxis\": {\"gridcolor\": \"white\", \"linecolor\": \"white\", \"ticks\": \"\"}, \"baxis\": {\"gridcolor\": \"white\", \"linecolor\": \"white\", \"ticks\": \"\"}, \"bgcolor\": \"#E5ECF6\", \"caxis\": {\"gridcolor\": \"white\", \"linecolor\": \"white\", \"ticks\": \"\"}}, \"title\": {\"x\": 0.05}, \"xaxis\": {\"automargin\": true, \"gridcolor\": \"white\", \"linecolor\": \"white\", \"ticks\": \"\", \"title\": {\"standoff\": 15}, \"zerolinecolor\": \"white\", \"zerolinewidth\": 2}, \"yaxis\": {\"automargin\": true, \"gridcolor\": \"white\", \"linecolor\": \"white\", \"ticks\": \"\", \"title\": {\"standoff\": 15}, \"zerolinecolor\": \"white\", \"zerolinewidth\": 2}}}, \"title\": {\"text\": \"COVID-19 - Casos totais confirmados - 01-05-2020 - \\n Escala Logar\\u00edtmica\"}, \"xaxis\": {\"tickangle\": 0, \"tickfont\": {\"size\": 10}, \"title\": {\"text\": \"Dias desde o caso 50\"}}, \"yaxis\": {\"title\": {\"text\": \"Casos\"}, \"type\": \"log\"}},\n",
              "                        {\"responsive\": true}\n",
              "                    ).then(function(){\n",
              "                            \n",
              "var gd = document.getElementById('b6fd5111-a443-4831-ac16-3207fab89e81');\n",
              "var x = new MutationObserver(function (mutations, observer) {{\n",
              "        var display = window.getComputedStyle(gd).display;\n",
              "        if (!display || display === 'none') {{\n",
              "            console.log([gd, 'removed!']);\n",
              "            Plotly.purge(gd);\n",
              "            observer.disconnect();\n",
              "        }}\n",
              "}});\n",
              "\n",
              "// Listen for the removal of the full notebook cells\n",
              "var notebookContainer = gd.closest('#notebook-container');\n",
              "if (notebookContainer) {{\n",
              "    x.observe(notebookContainer, {childList: true});\n",
              "}}\n",
              "\n",
              "// Listen for the clearing of the current output cell\n",
              "var outputEl = gd.closest('.output');\n",
              "if (outputEl) {{\n",
              "    x.observe(outputEl, {childList: true});\n",
              "}}\n",
              "\n",
              "                        })\n",
              "                };\n",
              "                \n",
              "            </script>\n",
              "        </div>\n",
              "</body>\n",
              "</html>"
            ]
          },
          "metadata": {
            "tags": []
          }
        }
      ]
    },
    {
      "cell_type": "markdown",
      "metadata": {
        "id": "1pR_Low5TqS9",
        "colab_type": "text"
      },
      "source": [
        "<center> <h2> Contaminação Relativa </h2> </center>\n",
        "\n"
      ]
    },
    {
      "cell_type": "markdown",
      "metadata": {
        "id": "BGsl_L9-sQJl",
        "colab_type": "text"
      },
      "source": [
        "Essa seção conta com gráficos em que o número de casos é dívidido pela população dos países para que se tenha uma ideia da proporção de infectados por país."
      ]
    },
    {
      "cell_type": "code",
      "metadata": {
        "id": "f6Sr9rqjIX0p",
        "colab_type": "code",
        "outputId": "db439b50-10b7-4f3e-acd1-c9ffbd4c7fc8",
        "colab": {
          "base_uri": "https://localhost:8080/",
          "height": 542
        }
      },
      "source": [
        "#hide_input\n",
        "import plotly.graph_objects as go\n",
        "fig = go.Figure()\n",
        "fig.add_trace(go.Scatter(x=final_data['indice'][final_data['countriesAndTerritories']=='Brazil'], \n",
        "                         y=final_data['relativa'][final_data['countriesAndTerritories']=='Brazil'], name='Brasil',line=dict(color='black', width=5)))\n",
        "fig.add_trace(go.Scatter(x=final_data['indice'][final_data['countriesAndTerritories']=='France'], \n",
        "                         y=final_data['relativa'][final_data['countriesAndTerritories']=='France'], name='França',line=dict(color='red', width=2)))\n",
        "fig.add_trace(go.Scatter(x=final_data['indice'][final_data['countriesAndTerritories']=='Spain'], \n",
        "                         y=final_data['relativa'][final_data['countriesAndTerritories']=='Spain'], name='Espanha',line=dict(color='blue', width=2)))\n",
        "fig.add_trace(go.Scatter(x=final_data['indice'][final_data['countriesAndTerritories']=='Italy'], \n",
        "                         y=final_data['relativa'][final_data['countriesAndTerritories']=='Italy'], name='Itália',line=dict(color='green', width=2)))\n",
        "fig.add_trace(go.Scatter(x=final_data['indice'][final_data['countriesAndTerritories']=='United_Kingdom'], \n",
        "                         y=final_data['relativa'][final_data['countriesAndTerritories']=='United_Kingdom'], name='Reino Unido',line=dict(color='yellowgreen', width=2)))\n",
        "fig.add_trace(go.Scatter(x=final_data['indice'][final_data['countriesAndTerritories']=='Argentina'], \n",
        "                         y=final_data['relativa'][final_data['countriesAndTerritories']=='Argentina'],mode='lines', name='Argentina',line=dict(color='darkgreen', width=2)))\n",
        "fig.add_trace(go.Scatter(x=final_data['indice'][final_data['countriesAndTerritories']=='Germany'], \n",
        "                         y=final_data['relativa'][final_data['countriesAndTerritories']=='Germany'], name='Alemanha',line=dict(color='darkslateblue', width=2)))\n",
        "fig.add_trace(go.Scatter(x=final_data['indice'][final_data['countriesAndTerritories']=='United_States_of_America'], \n",
        "                         y=final_data['relativa'][final_data['countriesAndTerritories']=='United_States_of_America'], name='EUA',line=dict(color='mediumpurple', width=2)))\n",
        "fig.add_trace(go.Scatter(x=final_data['indice'][final_data['countriesAndTerritories']=='New_Zealand'], \n",
        "                         y=final_data['relativa'][final_data['countriesAndTerritories']=='New_Zealand'],mode='lines', name='Nova Zelândia',line=dict(color='yellow', width=2)))\n",
        "fig.add_trace(go.Scatter(x=final_data['indice'][final_data['countriesAndTerritories']=='Portugal'], \n",
        "                         y=final_data['relativa'][final_data['countriesAndTerritories']=='Portugal'],mode='lines', name='Portugal',line=dict(color='darkgrey', width=2)))\n",
        "\n",
        "fig.add_trace(go.Scatter(x=final_data['indice'][final_data['countriesAndTerritories']=='Czechia'], \n",
        "                         y=final_data['relativa'][final_data['countriesAndTerritories']=='Czechia'],mode='lines', name='República Tcheca',line=dict(color='magenta', width=2)))\n",
        "fig.add_trace(go.Scatter(x=final_data['indice'][final_data['countriesAndTerritories']=='South_Korea'], \n",
        "                         y=final_data['relativa'][final_data['countriesAndTerritories']=='South_Korea'], name='Coréia do Sul',line=dict(color='brown', width=2)))\n",
        "fig.add_trace(go.Scatter(x=final_data['indice'][final_data['countriesAndTerritories']=='Taiwan'], \n",
        "                         y=final_data['relativa'][final_data['countriesAndTerritories']=='Taiwan'],mode='lines', name='Taiwan',line=dict(color='grey', width=2)))\n",
        "fig.add_trace(go.Scatter(x=final_data['indice'][final_data['countriesAndTerritories']=='Hong_Kong'], \n",
        "                         y=final_data['relativa'][final_data['countriesAndTerritories']=='Hong_Kong'], name='Hong Kong',line=dict(color='lavenderblush', width=2)))\n",
        "fig.add_trace(go.Scatter(x=final_data['indice'][final_data['countriesAndTerritories']=='Japan'], \n",
        "                         y=final_data['relativa'][final_data['countriesAndTerritories']=='Japan'], name='Japão',line=dict(color='pink', width=2)))\n",
        "fig.add_trace(go.Scatter(x=final_data['indice'][final_data['countriesAndTerritories']=='China'], \n",
        "                         y=final_data['relativa'][final_data['countriesAndTerritories']=='China'], name='China',line=dict(color='lightgreen', width=2)))\n",
        "\n",
        "\n",
        "fig.update_xaxes(tickangle=0, tickfont=dict(size=10))\n",
        "\n",
        "fig.update_layout(title='COVID-19 - Contaminação relativa  {} \\nCasos a cada 10 mil habitantes - E. Aritmética' .format(today),\n",
        "                   xaxis_title='Dias desde o caso 50',\n",
        "                   yaxis_title='Casos a cada 10000 hab.',legend= {'borderwidth':0,'orientation':'v','yanchor':'top','font':{'size':8}})"
      ],
      "execution_count": 19,
      "outputs": [
        {
          "output_type": "display_data",
          "data": {
            "text/html": [
              "<html>\n",
              "<head><meta charset=\"utf-8\" /></head>\n",
              "<body>\n",
              "    <div>\n",
              "            <script src=\"https://cdnjs.cloudflare.com/ajax/libs/mathjax/2.7.5/MathJax.js?config=TeX-AMS-MML_SVG\"></script><script type=\"text/javascript\">if (window.MathJax) {MathJax.Hub.Config({SVG: {font: \"STIX-Web\"}});}</script>\n",
              "                <script type=\"text/javascript\">window.PlotlyConfig = {MathJaxConfig: 'local'};</script>\n",
              "        <script src=\"https://cdn.plot.ly/plotly-latest.min.js\"></script>    \n",
              "            <div id=\"41ff437c-e817-4d6c-835a-05aefa028d3f\" class=\"plotly-graph-div\" style=\"height:525px; width:100%;\"></div>\n",
              "            <script type=\"text/javascript\">\n",
              "                \n",
              "                    window.PLOTLYENV=window.PLOTLYENV || {};\n",
              "                    \n",
              "                if (document.getElementById(\"41ff437c-e817-4d6c-835a-05aefa028d3f\")) {\n",
              "                    Plotly.newPlot(\n",
              "                        '41ff437c-e817-4d6c-835a-05aefa028d3f',\n",
              "                        [{\"line\": {\"color\": \"black\", \"width\": 5}, \"name\": \"Brasil\", \"type\": \"scatter\", \"x\": [0, 1, 2, 3, 4, 5, 6, 7, 8, 9, 10, 11, 12, 13, 14, 15, 16, 17, 18, 19, 20, 21, 22, 23, 24, 25, 26, 27, 28, 29, 30, 31, 32, 33, 34, 35, 36, 37, 38, 39, 40, 41, 42, 43, 44, 45, 46, 47, 48, 49, 50], \"y\": [0.0024824636263103966, 0.003675955754344241, 0.0046784891418926704, 0.005776501899683807, 0.009547937024270755, 0.011171086318396785, 0.01389224837031395, 0.02043258523193942, 0.0296463444603607, 0.04315667534970381, 0.05385036481688706, 0.07380555319761294, 0.09027574456448, 0.10507504695209967, 0.11615065390025374, 0.13916118212874626, 0.16312650405966586, 0.18637573071376515, 0.20318009987648167, 0.21860001817067898, 0.2729277798387795, 0.3263484874895744, 0.37762090930990844, 0.4323305884589798, 0.49066848367727417, 0.5313426954006676, 0.5755496438230412, 0.6548452608096098, 0.7603499649278016, 0.8524875572120144, 0.9375119364131455, 0.9895004535102997, 1.0583410794552919, 1.118540822393319, 1.2059999255356393, 1.351987882636739, 1.4524799198171887, 1.607968074257438, 1.7472247357564268, 1.8453297886808089, 1.9373241619096575, 2.0565778953427993, 2.1844247720977847, 2.362732496026041, 2.5299646130061437, 2.793201236765288, 2.9545136327903427, 3.1747368002551477, 3.4318150046336373, 3.731429268455254, 4.076014315661186]}, {\"line\": {\"color\": \"red\", \"width\": 2}, \"name\": \"Fran\\u00e7a\", \"type\": \"scatter\", \"x\": [0, 1, 2, 3, 4, 5, 6, 7, 8, 9, 10, 11, 12, 13, 14, 15, 16, 17, 18, 19, 20, 21, 22, 23, 24, 25, 26, 27, 28, 29, 30, 31, 32, 33, 34, 35, 36, 37, 38, 39, 40, 41, 42, 43, 44, 45, 46, 47, 48, 49, 50, 51, 52, 53, 54, 55, 56, 57, 58, 59, 60, 61, 62], \"y\": [0.008509082714314982, 0.014928215288271898, 0.019406679874753467, 0.026572223213123976, 0.031647816411136426, 0.04254541357157491, 0.06314635066939013, 0.09150995971710674, 0.10688602146402679, 0.16809170414594157, 0.21078639987039918, 0.2663193607427707, 0.340512590725482, 0.4293354716906998, 0.5465219617036342, 0.6716204058193527, 0.809557115082985, 0.990188520071075, 1.1539510417834178, 1.3635431844307553, 1.641357270945495, 1.8827465121568518, 2.158470648531234, 2.3912015248753926, 2.9641464276392684, 3.3292905735903986, 3.7668365636896484, 4.352321167295672, 4.920936887625949, 5.609276894568167, 5.997261209910352, 6.650519910925131, 7.781780065470376, 8.507440610633273, 8.823321646133106, 9.604515152168373, 10.241502098518936, 10.521107570868269, 11.105099352945464, 11.668938044383495, 12.248302079721327, 12.88812538697666, 13.536308494793428, 14.001173118870215, 14.24196523147004, 14.640996426125547, 15.461600420521853, 15.854660329062053, 16.248914494825314, 16.309373766742816, 16.69287961749852, 16.810066107511457, 17.11624380307391, 17.514379304812124, 17.78711779812885, 18.033881196843986, 18.298558453905045, 18.528005122885784, 18.596824195364718, 18.775216368059567, 18.934201860879664, 19.17409828056219, 19.344130652695608]}, {\"line\": {\"color\": \"blue\", \"width\": 2}, \"name\": \"Espanha\", \"type\": \"scatter\", \"x\": [0, 1, 2, 3, 4, 5, 6, 7, 8, 9, 10, 11, 12, 13, 14, 15, 16, 17, 18, 19, 20, 21, 22, 23, 24, 25, 26, 27, 28, 29, 30, 31, 32, 33, 34, 35, 36, 37, 38, 39, 40, 41, 42, 43, 44, 45, 46, 47, 48, 49, 50, 51, 52, 53, 54, 55, 56, 57, 58, 59, 60], \"y\": [0.01412557883572228, 0.017763985505529534, 0.02439872707988394, 0.03231761218475855, 0.04280478435067357, 0.05586024357762901, 0.08004494673575957, 0.09203028635394818, 0.12606008991273368, 0.2576848017910549, 0.3507852077537699, 0.4580111925522072, 0.6429278609471171, 0.9055352129384995, 1.2312796218471251, 1.6593274653538612, 1.967093864835204, 2.392359397359146, 2.9355521107691938, 3.669868186304999, 4.27619795663229, 5.334760273624448, 6.115091492337227, 7.08183754689719, 8.490971047721363, 10.189678914677843, 12.025576115478234, 13.710158403598992, 15.46280029883732, 16.86444296240013, 18.233768013778175, 20.207496620187733, 21.85954727220198, 23.593569086247765, 25.19275582958893, 26.696487903828093, 27.985553984548627, 28.900078202200767, 30.07250124556572, 31.395169082001534, 32.627090775613915, 33.606464241557326, 34.640199783626095, 35.53203746557238, 36.27619864150884, 37.981541250039676, 38.84619789392328, 39.7879031496381, 40.66625732451392, 40.36020311640661, 40.913454954139056, 41.63086313985635, 42.193103982302446, 42.846304991493724, 43.4385091829853, 44.068595608627206, 44.43864296933878, 44.83052077006921, 45.1104640597226, 45.56933134796183, 45.680195739430076]}, {\"line\": {\"color\": \"green\", \"width\": 2}, \"name\": \"It\\u00e1lia\", \"type\": \"scatter\", \"x\": [0, 1, 2, 3, 4, 5, 6, 7, 8, 9, 10, 11, 12, 13, 14, 15, 16, 17, 18, 19, 20, 21, 22, 23, 24, 25, 26, 27, 28, 29, 30, 31, 32, 33, 34, 35, 36, 37, 38, 39, 40, 41, 42, 43, 44, 45, 46, 47, 48, 49, 50, 51, 52, 53, 54, 55, 56, 57, 58, 59, 60, 61, 62, 63, 64, 65, 66, 67, 68], \"y\": [0.013072699449389482, 0.021842991485055845, 0.03789428068240749, 0.05328366104687865, 0.06619088328804801, 0.10756018534307801, 0.1469437608994666, 0.1866582908722954, 0.27949100468378274, 0.3369115959361644, 0.4140239749667403, 0.5111590961919508, 0.638411069313223, 0.7671523373084765, 0.9735024159589661, 1.2203944106233853, 1.517756953794941, 1.6794281862259983, 2.0621769688391356, 2.500857047830674, 2.9223274971673194, 3.5010012943130797, 3.9681434531184787, 4.630052285998959, 5.213524922183102, 5.909687537165146, 6.790357239312625, 7.780903807718264, 8.865937862017592, 9.785991139721459, 10.578461489887614, 11.447051355835024, 12.309187610661848, 13.327368872840246, 14.313447556623942, 15.30200839853094, 16.165302993815306, 16.835485687106793, 17.506164812022938, 18.297476821731554, 19.06992442970307, 19.828637429392323, 20.62375541489, 21.337955045568037, 21.93350751795225, 22.436392753733195, 23.071163324465573, 23.76682950782296, 24.420629957500655, 25.197379972885894, 25.874512708922627, 26.39626234644067, 26.888060609270866, 27.32938832359392, 27.955885033915298, 28.533896922228177, 29.111577856124615, 29.61578690957132, 29.989103491315912, 30.440690792548622, 30.998348984250423, 31.436201677200863, 31.936108323233846, 32.32613810300867, 32.71070713491223, 32.99847200000701, 33.34448484239528, 33.689670298742456, 33.99944363253052]}, {\"line\": {\"color\": \"yellowgreen\", \"width\": 2}, \"name\": \"Reino Unido\", \"type\": \"scatter\", \"x\": [0, 1, 2, 3, 4, 5, 6, 7, 8, 9, 10, 11, 12, 13, 14, 15, 16, 17, 18, 19, 20, 21, 22, 23, 24, 25, 26, 27, 28, 29, 30, 31, 32, 33, 34, 35, 36, 37, 38, 39, 40, 41, 42, 43, 44, 45, 46, 47, 48, 49, 50, 51, 52, 53, 54, 55, 56, 57, 58], \"y\": [0.007670442765479777, 0.012784071275799629, 0.0172960964319642, 0.024515336681827524, 0.030982572738996746, 0.04105942892109763, 0.04827866917096095, 0.05609951277497954, 0.06858278237370154, 0.08873649473790331, 0.10633339284694515, 0.17145695593425384, 0.20920756640749746, 0.23206849386539796, 0.29328163515069733, 0.39555420535709435, 0.4928635478917104, 0.5990465399001167, 0.7547114077877946, 0.8547279654161092, 1.0001655762831474, 1.2147875728780424, 1.4331695904364077, 1.7533729756855538, 2.187279394870047, 2.5701999297898803, 2.9361251699548276, 3.330024966087995, 3.782581089251302, 4.432914315093156, 5.071215473851905, 5.74049920534965, 6.302246337292139, 7.190062487186789, 7.761886475311379, 8.308443122561448, 9.134294126978103, 9.787635369590735, 10.568967725799899, 11.880312637019864, 12.67563227121314, 13.328672712148693, 14.118577916154571, 14.810872975948755, 15.505273647482484, 16.347367942461332, 17.178332575388307, 18.0581774808404, 18.76145180184792, 19.40832580840338, 20.07775994073966, 20.767046983763073, 21.57710590013315, 22.31602521987437, 22.987264162273117, 23.63534137553689, 24.236343126338014, 24.849376944222243, 25.756594802288397]}, {\"line\": {\"color\": \"darkgreen\", \"width\": 2}, \"mode\": \"lines\", \"name\": \"Argentina\", \"type\": \"scatter\", \"x\": [0, 1, 2, 3, 4, 5, 6, 7, 8, 9, 10, 11, 12, 13, 14, 15, 16, 17, 18, 19, 20, 21, 22, 23, 24, 25, 26, 27, 28, 29, 30, 31, 32, 33, 34, 35, 36, 37, 38, 39, 40, 41, 42, 43, 44, 45, 46], \"y\": [0.012585824648627375, 0.014608546467156773, 0.017755002629313617, 0.02180044626637242, 0.02876759919686257, 0.035510005258627235, 0.050568045463234984, 0.059782667080980026, 0.06764880748637214, 0.08697703819676417, 0.11282292810019538, 0.1323759056793129, 0.1550753394205873, 0.16743641720048918, 0.18429243235490084, 0.2171054751888222, 0.2171054751888222, 0.25463820226597883, 0.25463820226597883, 0.28430478893774336, 0.32610770652068427, 0.3492566339994096, 0.36588790228509577, 0.3854408798642133, 0.4034206293622524, 0.42567056936607583, 0.44387506573284047, 0.48028405846636957, 0.4951173518022519, 0.5106248857443106, 0.5465843847403888, 0.5465843847403888, 0.5753519839372514, 0.5973771770723493, 0.6355841447556824, 0.6585083253656823, 0.6787355435509762, 0.703907192848231, 0.7362707419447014, 0.7693085316473482, 0.7693085316473482, 0.8466214544889165, 0.8466214544889165, 0.8967400062147005, 0.9246086179366609, 0.9601186231952883, 0.9922574254230332]}, {\"line\": {\"color\": \"darkslateblue\", \"width\": 2}, \"name\": \"Alemanha\", \"type\": \"scatter\", \"x\": [0, 1, 2, 3, 4, 5, 6, 7, 8, 9, 10, 11, 12, 13, 14, 15, 16, 17, 18, 19, 20, 21, 22, 23, 24, 25, 26, 27, 28, 29, 30, 31, 32, 33, 34, 35, 36, 37, 38, 39, 40, 41, 42, 43, 44, 45, 46, 47, 48, 49, 50, 51, 52, 53, 54, 55, 56, 57, 58, 59, 60, 61, 62], \"y\": [0.006873438840056791, 0.013385117741163223, 0.015555677374865367, 0.01893210347173537, 0.023634982678090017, 0.03159370133499788, 0.04823465852671432, 0.08248126608068149, 0.10213688943031757, 0.10876915497774078, 0.13734819015481903, 0.15628029362655438, 0.18895927477840335, 0.28566976512446557, 0.3692363110219981, 0.4576263227722021, 0.5833981948806097, 0.7249669176565161, 0.8629180410429191, 0.98856932650501, 1.7048540056267176, 2.1931093365633836, 2.5881511898971734, 2.9874135758520515, 3.5225771122059464, 3.8049910378798595, 4.402377283733216, 5.099368099444238, 5.858340451362088, 6.336466504008143, 6.909373660659193, 7.465881033411159, 8.123440015776593, 8.865771410502726, 9.610273364862561, 10.343681347761253, 11.059483680297692, 11.502880778804514, 11.96520998078307, 12.447918325989166, 13.047716304768857, 13.689599023113109, 14.187983632340384, 14.528158561600037, 14.834086883305721, 15.085148280937268, 15.3849266836808, 15.730528012024708, 16.138110876575443, 16.573308083132723, 16.869710059779383, 17.08375135699168, 17.29899852066714, 17.56875084847779, 17.852370640614872, 18.1341816330572, 18.381987191238196, 18.59144619589045, 18.71420340184094, 18.85215452522734, 19.00939951202443, 19.18762657528064, 19.18762657528064]}, {\"line\": {\"color\": \"mediumpurple\", \"width\": 2}, \"name\": \"EUA\", \"type\": \"scatter\", \"x\": [0, 1, 2, 3, 4, 5, 6, 7, 8, 9, 10, 11, 12, 13, 14, 15, 16, 17, 18, 19, 20, 21, 22, 23, 24, 25, 26, 27, 28, 29, 30, 31, 32, 33, 34, 35, 36, 37, 38, 39, 40, 41, 42, 43, 44, 45, 46, 47, 48, 49, 50, 51, 52, 53, 54, 55, 56, 57, 58, 59, 60, 61, 62, 63, 64, 65, 66], \"y\": [0.0016199656350882404, 0.0016199656350882404, 0.0018033579711359657, 0.0018339233604772534, 0.0020173156965249787, 0.0021090118645488414, 0.002720319651374593, 0.003148235102152618, 0.0038206736676609445, 0.0048598969052647215, 0.007121735716520001, 0.010331101597355194, 0.013234813584777513, 0.016933225695073304, 0.023046303563330817, 0.031329524074819745, 0.04010179081576928, 0.0508302424745612, 0.06644915642795915, 0.09019846394613958, 0.11535377937401924, 0.1424652797197413, 0.19644375729645513, 0.28777314064822235, 0.4355567981133477, 0.599815200433427, 0.8175324687114183, 1.0760850971493696, 1.4195178117880767, 1.688157018708653, 2.1149415500810513, 2.6283483948466584, 3.1997683485820287, 3.810434262231613, 4.371614810537653, 5.031674393362758, 5.795747996116264, 6.624161743433181, 7.505025698859747, 8.496108448250995, 9.543645471755603, 10.319945230245622, 11.254054093904713, 12.189752357809548, 13.208282826829274, 14.244480090888263, 15.330376678016187, 16.198158646804682, 17.042374700411045, 17.807212437898084, 18.630093849744227, 19.551579207605364, 20.519493391875915, 21.46191604143584, 22.468189789329706, 23.22012893251472, 24.077946584377955, 25.21769938752523, 25.75528345525979, 26.566580584545587, 27.21921277776076, 28.702520557104105, 29.523415218643063, 30.21238965978503, 30.94999363536898, 31.785223464509002, 32.6996482174323]}, {\"line\": {\"color\": \"yellow\", \"width\": 2}, \"mode\": \"lines\", \"name\": \"Nova Zel\\u00e2ndia\", \"type\": \"scatter\", \"x\": [0, 1, 2, 3, 4, 5, 6, 7, 8, 9, 10, 11, 12, 13, 14, 15, 16, 17, 18, 19, 20, 21, 22, 23, 24, 25, 26, 27, 28, 29, 30, 31, 32, 33, 34, 35, 36, 37, 38, 39, 40, 41], \"y\": [0.10848429024664824, 0.13509364445809027, 0.20878108688977587, 0.2906560229249821, 0.3868590727663494, 0.5362808310306008, 0.6918432094974926, 0.8514993347661447, 0.974311738818954, 1.1298741172858457, 1.3243270903694606, 1.3243270903694606, 1.4798894688363524, 1.5801862654794803, 1.6866236823252483, 1.7848736055674956, 1.8647016682018218, 1.9302016170299867, 1.9834203254528708, 2.030498413673114, 2.0775765018933576, 2.118513969910961, 2.147170197523283, 2.1778732985364853, 2.1942482857435266, 2.206529526148808, 2.2188107665540886, 2.2229045133558487, 2.23927950056289, 2.2474669941664107, 2.261795107972572, 2.265888854774332, 2.276123221778733, 2.276123221778733, 2.2802169685804934, 2.286357588783134, 2.2945450823866542, 2.2965919557875343, 2.300685702589295, 2.304779449391055, 2.3109200695936956, 2.317060689796336]}, {\"line\": {\"color\": \"darkgrey\", \"width\": 2}, \"mode\": \"lines\", \"name\": \"Portugal\", \"type\": \"scatter\", \"x\": [0, 1, 2, 3, 4, 5, 6, 7, 8, 9, 10, 11, 12, 13, 14, 15, 16, 17, 18, 19, 20, 21, 22, 23, 24, 25, 26, 27, 28, 29, 30, 31, 32, 33, 34, 35, 36, 37, 38, 39, 40, 41, 42, 43, 44, 45, 46, 47, 48, 49, 50], \"y\": [0.057383160590568034, 0.07586248349261537, 0.10893074552785796, 0.16436871423399996, 0.23828600584218929, 0.32192925687250884, 0.43572298211143184, 0.6244065949007572, 0.7634878146372188, 0.9920478610572779, 1.2449228060326627, 1.5561535075408282, 2.003547640958816, 2.2972716155071473, 2.9129248469279876, 3.446880019202934, 4.151039481365159, 5.0283210212413, 5.798617007474011, 6.232394797701017, 7.23903159789149, 8.024889119199608, 8.7864317419524, 9.615083484717893, 10.235599695849796, 10.968937036278412, 11.408550402158696, 12.101038713014365, 12.780883276621264, 13.573548969524873, 15.048004417919808, 15.548891328159511, 16.130503701602894, 16.46993968543524, 16.96985399973273, 17.5952331905757, 18.324680147235465, 18.50072001277602, 19.145551122463253, 19.652273608356236, 20.29126914239019, 20.793128648572104, 21.379604001726555, 21.740437096287582, 22.17226969463016, 22.750964280246908, 23.210029564971453, 23.368562703552175, 23.655478506505013, 23.833463563929996, 24.369363928089367]}, {\"line\": {\"color\": \"magenta\", \"width\": 2}, \"mode\": \"lines\", \"name\": \"Rep\\u00fablica Tcheca\", \"type\": \"scatter\", \"x\": [0, 1, 2, 3, 4, 5, 6, 7, 8, 9, 10, 11, 12, 13, 14, 15, 16, 17, 18, 19, 20, 21, 22, 23, 24, 25, 26, 27, 28, 29, 30, 31, 32, 33, 34, 35, 36, 37, 38, 39, 40, 41, 42, 43, 44, 45, 46, 47, 48, 49, 50, 51], \"y\": [0.059290239367871936, 0.08846480159650733, 0.10916932962973247, 0.14116723659017127, 0.20139859086864437, 0.28045224335914026, 0.3237435292467928, 0.40844387120089554, 0.49126198333379606, 0.6531337479571925, 0.8507678791834322, 0.9364093360481363, 1.0963988708503303, 1.1632180295030115, 1.3119141853779919, 1.5566040621342887, 1.9405789456595544, 2.1448008812600023, 2.506189006930841, 2.6624140820906304, 2.825226961624628, 3.1132081242685774, 3.377661414147498, 3.6308213250992054, 3.9432714754187845, 4.208665880208306, 4.316894094927438, 4.538056098918706, 4.721573506485929, 4.999202405113265, 5.24106893713776, 5.394470667565745, 5.554460202367939, 5.638219429411441, 5.7022152433323186, 5.779386666001612, 5.931847281518998, 6.054192219897145, 6.163361549526878, 6.262178615139998, 6.387346898249949, 6.506868491896294, 6.626390085542639, 6.715796002049749, 6.764733977401008, 6.844728744802104, 6.919076822739595, 6.968014798090854, 7.010364969067906, 7.062126289150969, 7.132709907446054, 7.229644743237971]}, {\"line\": {\"color\": \"brown\", \"width\": 2}, \"name\": \"Cor\\u00e9ia do Sul\", \"type\": \"scatter\", \"x\": [0, 1, 2, 3, 4, 5, 6, 7, 8, 9, 10, 11, 12, 13, 14, 15, 16, 17, 18, 19, 20, 21, 22, 23, 24, 25, 26, 27, 28, 29, 30, 31, 32, 33, 34, 35, 36, 37, 38, 39, 40, 41, 42, 43, 44, 45, 46, 47, 48, 49, 50, 51, 52, 53, 54, 55, 56, 57, 58, 59, 60, 61, 62, 63, 64, 65, 66, 67, 68, 69, 70, 71], \"y\": [0.015493290088462038, 0.0300182495463952, 0.06681481350649254, 0.11639334178957106, 0.1475735880926009, 0.17275018448635174, 0.2219413805172187, 0.3088974711387119, 0.391592906985878, 0.5676354156160279, 0.6828667606489643, 0.8157217231575263, 0.9319213988209916, 1.0318531198915717, 1.1166788831259014, 1.2169979364486931, 1.3105386753577828, 1.3816141436386022, 1.4296433429128346, 1.4550136054326912, 1.501880807950289, 1.5239587463263473, 1.5452620201979825, 1.5659842956913006, 1.5807029212753394, 1.595034214607167, 1.611302169200052, 1.629313118927889, 1.658750370095967, 1.6755993230671695, 1.7040682436047185, 1.7230475239630845, 1.735442156033854, 1.750160781617893, 1.7695273942284706, 1.7896686713434713, 1.8072922888190968, 1.83556754323054, 1.8559024864716465, 1.871008444307897, 1.8952167100711188, 1.8952167100711188, 1.9320132740312161, 1.9486685608763128, 1.9668731767302559, 1.9825601329448235, 1.9916624408717951, 2.0007647487987663, 2.0110290534823725, 2.0185820324004977, 2.023811017805354, 2.023811017805354, 2.035818317623912, 2.0406599707765563, 2.045888956181412, 2.051117941586268, 2.0553785963605953, 2.0596392511349224, 2.0631252414048262, 2.0646745704136724, 2.0671922300530476, 2.0689352251879995, 2.071065552575163, 2.072614881584009, 2.073776878340644, 2.0757135396017015, 2.0776502008627595, 2.079586862123817, 2.082298187889298, 2.08404118302425, 2.084815847528673, 2.086558842663625]}, {\"line\": {\"color\": \"grey\", \"width\": 2}, \"mode\": \"lines\", \"name\": \"Taiwan\", \"type\": \"scatter\", \"x\": [0, 1, 2, 3, 4, 5, 6, 7, 8, 9, 10, 11, 12, 13, 14, 15, 16, 17, 18, 19, 20, 21, 22, 23, 24, 25, 26, 27, 28, 29, 30, 31, 32, 33, 34, 35, 36, 37, 38, 39, 40, 41, 42, 43, 44, 45, 46, 47, 48], \"y\": [0.022287213043721794, 0.024810293765652563, 0.024810293765652563, 0.02817440139489359, 0.03237953593144487, 0.045415452994753844, 0.045415452994753844, 0.0567693162434423, 0.06433855840923461, 0.06938471985309615, 0.08200012346275, 0.09083090598950769, 0.09882066160895513, 0.1059693903210923, 0.11227709212591923, 0.11900530738440128, 0.12867711681846922, 0.12867711681846922, 0.13540533207695127, 0.14255406078908844, 0.14255406078908844, 0.1492822760475705, 0.15264638367681152, 0.15264638367681152, 0.15685151821336282, 0.1581130585743282, 0.15937459893529357, 0.1597951123889487, 0.1597951123889487, 0.16189767965722435, 0.16315922001818975, 0.16526178728646537, 0.16610281419377562, 0.16610281419377562, 0.16610281419377562, 0.16610281419377562, 0.16736435455474102, 0.17661565053515385, 0.1774566774424641, 0.17871821780342947, 0.1791387312570846, 0.17955924471073972, 0.17997975816439488, 0.18040027161804997, 0.18040027161804997, 0.18040027161804997, 0.18040027161804997, 0.18040027161804997, 0.18040027161804997]}, {\"line\": {\"color\": \"lavenderblush\", \"width\": 2}, \"name\": \"Hong Kong\", \"type\": \"scatter\", \"x\": [], \"y\": []}, {\"line\": {\"color\": \"pink\", \"width\": 2}, \"name\": \"Jap\\u00e3o\", \"type\": \"scatter\", \"x\": [0, 1, 2, 3, 4, 5, 6, 7, 8, 9, 10, 11, 12, 13, 14, 15, 16, 17, 18, 19, 20, 21, 22, 23, 24, 25, 26, 27, 28, 29, 30, 31, 32, 33, 34, 35, 36, 37, 38, 39, 40, 41, 42, 43, 44, 45, 46, 47, 48, 49, 50, 51, 52, 53, 54, 55, 56, 57, 58, 59, 60, 61, 62, 63, 64, 65, 66, 67, 68, 69, 70, 71, 72, 73, 74, 75], \"y\": [0.004109726537215549, 0.004662958955686873, 0.004662958955686873, 0.005216191374158198, 0.006638789021655888, 0.007350087845404732, 0.008298486277069859, 0.010432382748316395, 0.011380781179981522, 0.011380781179981522, 0.012961445232756734, 0.014700175690809465, 0.016596972554139718, 0.01817763660691493, 0.018888935430663775, 0.020074433470245186, 0.020074433470245186, 0.02118089830718783, 0.0250535252364871, 0.02758258772092744, 0.03224554667661431, 0.03596010720063606, 0.038568202887715154, 0.04062306615632293, 0.04489085909881601, 0.04892155243339279, 0.05334741178116338, 0.05824747034476654, 0.06164589805823324, 0.06433302694795111, 0.06512335897433871, 0.06551852498753251, 0.06899598590363798, 0.07508154250682254, 0.0795864350572319, 0.08266872996014356, 0.08606715767361026, 0.08914945257652193, 0.09428661074804136, 0.1002141009459484, 0.10780128839926942, 0.11847077075550211, 0.13380321206742163, 0.14747595612392722, 0.15435184475349942, 0.15435184475349942, 0.1721343153472205, 0.20682989130563642, 0.23196244974476227, 0.25851760583138583, 0.2887873224420311, 0.3016697344721491, 0.30870368950699884, 0.33644434363320375, 0.36884795671509557, 0.4225905345094528, 0.5333160514063563, 0.573385885144208, 0.6042088341733246, 0.6401689413739606, 0.6782629450458432, 0.7244973685895181, 0.7741302198466598, 0.8188630125401982, 0.8496859615693149, 0.8786911469377401, 0.9085656975351916, 0.9303788614634894, 0.9673664002984295, 1.0188960484189014, 1.0418156771841418, 1.0578594173198101, 1.0729547590238135, 1.0947679229521114, 1.1134197587748589, 1.1286731668841397]}, {\"line\": {\"color\": \"lightgreen\", \"width\": 2}, \"name\": \"China\", \"type\": \"scatter\", \"x\": [0, 1, 2, 3, 4, 5, 6, 7, 8, 9, 10, 11, 12, 13, 14, 15, 16, 17, 18, 19, 20, 21, 22, 23, 24, 25, 26, 27, 28, 29, 30, 31, 32, 33, 34, 35, 36, 37, 38, 39, 40, 41, 42, 43, 44, 45, 46, 47, 48, 49, 50, 51, 52, 53, 54, 55, 56, 57, 58, 59, 60, 61, 62, 63, 64, 65, 66, 67, 68, 69, 70, 71, 72, 73, 74, 75, 76, 77, 78, 79, 80, 81, 82, 83, 84, 85, 86, 87, 88, 89, 90, 91, 92, 93, 94, 95, 96, 97, 98, 99, 100, 101, 102, 103, 104, 105, 106, 107, 108, 109, 110, 111, 112, 113, 114, 115, 116, 117], \"y\": [0.0004236284132602874, 0.0004236284132602874, 0.0004236284132602874, 0.0004236284132602874, 0.0004236284132602874, 0.0004236284132602874, 0.0004236284132602874, 0.0004236284132602874, 0.0004236284132602874, 0.0004236284132602874, 0.0004236284132602874, 0.0004236284132602874, 0.0004523489836508153, 0.0005744114078105591, 0.0015509108010885095, 0.0016873335104435174, 0.0027715350426859475, 0.003776755006354426, 0.004473228838324729, 0.006332885771111414, 0.009499328656667121, 0.014274123484092394, 0.019924895708428772, 0.03251168568207765, 0.043037774730206146, 0.0555312228500858, 0.06974790519339714, 0.08479030393543617, 0.10338687326330301, 0.12357743424784415, 0.1468195558363789, 0.17462106797441, 0.2013814594357844, 0.22407071004430146, 0.24861243744300762, 0.26733106919503424, 0.28868481328039175, 0.3065633683484954, 0.3211246975364931, 0.429839236607239, 0.45967990924299756, 0.47790311115578754, 0.492313657349235, 0.5070473099595758, 0.5206177794691003, 0.5331830290149562, 0.5360120051984233, 0.5424095122529133, 0.5483403100385573, 0.5529858622992253, 0.554551133385509, 0.5582489068232895, 0.5611927652883186, 0.564344847888679, 0.5667071148032999, 0.5697802158350865, 0.5739016176861272, 0.5753735469186417, 0.5762854250285411, 0.5771398619976593, 0.5779799386815822, 0.5792005629231797, 0.5799257573255405, 0.5802560438850315, 0.580579150301925, 0.5807227531538777, 0.580930977289209, 0.5811033007115521, 0.5812612638487, 0.581397686558055, 0.5815556496952029, 0.5817351532601438, 0.582043899391842, 0.5822090426715875, 0.5825249689458832, 0.5832358030630489, 0.5836091704781257, 0.5840758797469717, 0.585066739425445, 0.5855621692646816, 0.5861222203872969, 0.5868545949322553, 0.5875295283364328, 0.5883839653055509, 0.5891953214190834, 0.5898989753936513, 0.5905021073718524, 0.5908898350721246, 0.5916078493318877, 0.592110459313722, 0.5925556281547751, 0.5929002749994615, 0.5933813445535028, 0.5937834325389701, 0.5944009248023666, 0.5950184170657629, 0.5954133249086327, 0.5959805561738456, 0.5966483094354254, 0.5974524854063601, 0.5981274188105375, 0.5984792457978215, 0.5988382529277032, 0.6013656631220696, 0.6015882475425962, 0.6017174901093536, 0.6018180121057204, 0.6020477766688447, 0.6021554788078091, 0.6022416405189807, 0.6022990816597618, 0.6024067837987263, 0.6024785852247025, 0.6025001256524954, 0.6026868093600339, 0.6027011696452291, 0.6027298902156197, 0.6028160519267912]}],\n",
              "                        {\"legend\": {\"borderwidth\": 0, \"font\": {\"size\": 8}, \"orientation\": \"v\", \"yanchor\": \"top\"}, \"template\": {\"data\": {\"bar\": [{\"error_x\": {\"color\": \"#2a3f5f\"}, \"error_y\": {\"color\": \"#2a3f5f\"}, \"marker\": {\"line\": {\"color\": \"#E5ECF6\", \"width\": 0.5}}, \"type\": \"bar\"}], \"barpolar\": [{\"marker\": {\"line\": {\"color\": \"#E5ECF6\", \"width\": 0.5}}, \"type\": \"barpolar\"}], \"carpet\": [{\"aaxis\": {\"endlinecolor\": \"#2a3f5f\", \"gridcolor\": \"white\", \"linecolor\": \"white\", \"minorgridcolor\": \"white\", \"startlinecolor\": \"#2a3f5f\"}, \"baxis\": {\"endlinecolor\": \"#2a3f5f\", \"gridcolor\": \"white\", \"linecolor\": \"white\", \"minorgridcolor\": \"white\", \"startlinecolor\": \"#2a3f5f\"}, \"type\": \"carpet\"}], \"choropleth\": [{\"colorbar\": {\"outlinewidth\": 0, \"ticks\": \"\"}, \"type\": \"choropleth\"}], \"contour\": [{\"colorbar\": {\"outlinewidth\": 0, \"ticks\": \"\"}, \"colorscale\": [[0.0, \"#0d0887\"], [0.1111111111111111, \"#46039f\"], [0.2222222222222222, \"#7201a8\"], [0.3333333333333333, \"#9c179e\"], [0.4444444444444444, \"#bd3786\"], [0.5555555555555556, \"#d8576b\"], [0.6666666666666666, \"#ed7953\"], [0.7777777777777778, \"#fb9f3a\"], [0.8888888888888888, \"#fdca26\"], [1.0, \"#f0f921\"]], \"type\": \"contour\"}], \"contourcarpet\": [{\"colorbar\": {\"outlinewidth\": 0, \"ticks\": \"\"}, \"type\": \"contourcarpet\"}], \"heatmap\": [{\"colorbar\": {\"outlinewidth\": 0, \"ticks\": \"\"}, \"colorscale\": [[0.0, \"#0d0887\"], [0.1111111111111111, \"#46039f\"], [0.2222222222222222, \"#7201a8\"], [0.3333333333333333, \"#9c179e\"], [0.4444444444444444, \"#bd3786\"], [0.5555555555555556, \"#d8576b\"], [0.6666666666666666, \"#ed7953\"], [0.7777777777777778, \"#fb9f3a\"], [0.8888888888888888, \"#fdca26\"], [1.0, \"#f0f921\"]], \"type\": \"heatmap\"}], \"heatmapgl\": [{\"colorbar\": {\"outlinewidth\": 0, \"ticks\": \"\"}, \"colorscale\": [[0.0, \"#0d0887\"], [0.1111111111111111, \"#46039f\"], [0.2222222222222222, \"#7201a8\"], [0.3333333333333333, \"#9c179e\"], [0.4444444444444444, \"#bd3786\"], [0.5555555555555556, \"#d8576b\"], [0.6666666666666666, \"#ed7953\"], [0.7777777777777778, \"#fb9f3a\"], [0.8888888888888888, \"#fdca26\"], [1.0, \"#f0f921\"]], \"type\": \"heatmapgl\"}], \"histogram\": [{\"marker\": {\"colorbar\": {\"outlinewidth\": 0, \"ticks\": \"\"}}, \"type\": \"histogram\"}], \"histogram2d\": [{\"colorbar\": {\"outlinewidth\": 0, \"ticks\": \"\"}, \"colorscale\": [[0.0, \"#0d0887\"], [0.1111111111111111, \"#46039f\"], [0.2222222222222222, \"#7201a8\"], [0.3333333333333333, \"#9c179e\"], [0.4444444444444444, \"#bd3786\"], [0.5555555555555556, \"#d8576b\"], [0.6666666666666666, \"#ed7953\"], [0.7777777777777778, \"#fb9f3a\"], [0.8888888888888888, \"#fdca26\"], [1.0, \"#f0f921\"]], \"type\": \"histogram2d\"}], \"histogram2dcontour\": [{\"colorbar\": {\"outlinewidth\": 0, \"ticks\": \"\"}, \"colorscale\": [[0.0, \"#0d0887\"], [0.1111111111111111, \"#46039f\"], [0.2222222222222222, \"#7201a8\"], [0.3333333333333333, \"#9c179e\"], [0.4444444444444444, \"#bd3786\"], [0.5555555555555556, \"#d8576b\"], [0.6666666666666666, \"#ed7953\"], [0.7777777777777778, \"#fb9f3a\"], [0.8888888888888888, \"#fdca26\"], [1.0, \"#f0f921\"]], \"type\": \"histogram2dcontour\"}], \"mesh3d\": [{\"colorbar\": {\"outlinewidth\": 0, \"ticks\": \"\"}, \"type\": \"mesh3d\"}], \"parcoords\": [{\"line\": {\"colorbar\": {\"outlinewidth\": 0, \"ticks\": \"\"}}, \"type\": \"parcoords\"}], \"pie\": [{\"automargin\": true, \"type\": \"pie\"}], \"scatter\": [{\"marker\": {\"colorbar\": {\"outlinewidth\": 0, \"ticks\": \"\"}}, \"type\": \"scatter\"}], \"scatter3d\": [{\"line\": {\"colorbar\": {\"outlinewidth\": 0, \"ticks\": \"\"}}, \"marker\": {\"colorbar\": {\"outlinewidth\": 0, \"ticks\": \"\"}}, \"type\": \"scatter3d\"}], \"scattercarpet\": [{\"marker\": {\"colorbar\": {\"outlinewidth\": 0, \"ticks\": \"\"}}, \"type\": \"scattercarpet\"}], \"scattergeo\": [{\"marker\": {\"colorbar\": {\"outlinewidth\": 0, \"ticks\": \"\"}}, \"type\": \"scattergeo\"}], \"scattergl\": [{\"marker\": {\"colorbar\": {\"outlinewidth\": 0, \"ticks\": \"\"}}, \"type\": \"scattergl\"}], \"scattermapbox\": [{\"marker\": {\"colorbar\": {\"outlinewidth\": 0, \"ticks\": \"\"}}, \"type\": \"scattermapbox\"}], \"scatterpolar\": [{\"marker\": {\"colorbar\": {\"outlinewidth\": 0, \"ticks\": \"\"}}, \"type\": \"scatterpolar\"}], \"scatterpolargl\": [{\"marker\": {\"colorbar\": {\"outlinewidth\": 0, \"ticks\": \"\"}}, \"type\": \"scatterpolargl\"}], \"scatterternary\": [{\"marker\": {\"colorbar\": {\"outlinewidth\": 0, \"ticks\": \"\"}}, \"type\": \"scatterternary\"}], \"surface\": [{\"colorbar\": {\"outlinewidth\": 0, \"ticks\": \"\"}, \"colorscale\": [[0.0, \"#0d0887\"], [0.1111111111111111, \"#46039f\"], [0.2222222222222222, \"#7201a8\"], [0.3333333333333333, \"#9c179e\"], [0.4444444444444444, \"#bd3786\"], [0.5555555555555556, \"#d8576b\"], [0.6666666666666666, \"#ed7953\"], [0.7777777777777778, \"#fb9f3a\"], [0.8888888888888888, \"#fdca26\"], [1.0, \"#f0f921\"]], \"type\": \"surface\"}], \"table\": [{\"cells\": {\"fill\": {\"color\": \"#EBF0F8\"}, \"line\": {\"color\": \"white\"}}, \"header\": {\"fill\": {\"color\": \"#C8D4E3\"}, \"line\": {\"color\": \"white\"}}, \"type\": \"table\"}]}, \"layout\": {\"annotationdefaults\": {\"arrowcolor\": \"#2a3f5f\", \"arrowhead\": 0, \"arrowwidth\": 1}, \"coloraxis\": {\"colorbar\": {\"outlinewidth\": 0, \"ticks\": \"\"}}, \"colorscale\": {\"diverging\": [[0, \"#8e0152\"], [0.1, \"#c51b7d\"], [0.2, \"#de77ae\"], [0.3, \"#f1b6da\"], [0.4, \"#fde0ef\"], [0.5, \"#f7f7f7\"], [0.6, \"#e6f5d0\"], [0.7, \"#b8e186\"], [0.8, \"#7fbc41\"], [0.9, \"#4d9221\"], [1, \"#276419\"]], \"sequential\": [[0.0, \"#0d0887\"], [0.1111111111111111, \"#46039f\"], [0.2222222222222222, \"#7201a8\"], [0.3333333333333333, \"#9c179e\"], [0.4444444444444444, \"#bd3786\"], [0.5555555555555556, \"#d8576b\"], [0.6666666666666666, \"#ed7953\"], [0.7777777777777778, \"#fb9f3a\"], [0.8888888888888888, \"#fdca26\"], [1.0, \"#f0f921\"]], \"sequentialminus\": [[0.0, \"#0d0887\"], [0.1111111111111111, \"#46039f\"], [0.2222222222222222, \"#7201a8\"], [0.3333333333333333, \"#9c179e\"], [0.4444444444444444, \"#bd3786\"], [0.5555555555555556, \"#d8576b\"], [0.6666666666666666, \"#ed7953\"], [0.7777777777777778, \"#fb9f3a\"], [0.8888888888888888, \"#fdca26\"], [1.0, \"#f0f921\"]]}, \"colorway\": [\"#636efa\", \"#EF553B\", \"#00cc96\", \"#ab63fa\", \"#FFA15A\", \"#19d3f3\", \"#FF6692\", \"#B6E880\", \"#FF97FF\", \"#FECB52\"], \"font\": {\"color\": \"#2a3f5f\"}, \"geo\": {\"bgcolor\": \"white\", \"lakecolor\": \"white\", \"landcolor\": \"#E5ECF6\", \"showlakes\": true, \"showland\": true, \"subunitcolor\": \"white\"}, \"hoverlabel\": {\"align\": \"left\"}, \"hovermode\": \"closest\", \"mapbox\": {\"style\": \"light\"}, \"paper_bgcolor\": \"white\", \"plot_bgcolor\": \"#E5ECF6\", \"polar\": {\"angularaxis\": {\"gridcolor\": \"white\", \"linecolor\": \"white\", \"ticks\": \"\"}, \"bgcolor\": \"#E5ECF6\", \"radialaxis\": {\"gridcolor\": \"white\", \"linecolor\": \"white\", \"ticks\": \"\"}}, \"scene\": {\"xaxis\": {\"backgroundcolor\": \"#E5ECF6\", \"gridcolor\": \"white\", \"gridwidth\": 2, \"linecolor\": \"white\", \"showbackground\": true, \"ticks\": \"\", \"zerolinecolor\": \"white\"}, \"yaxis\": {\"backgroundcolor\": \"#E5ECF6\", \"gridcolor\": \"white\", \"gridwidth\": 2, \"linecolor\": \"white\", \"showbackground\": true, \"ticks\": \"\", \"zerolinecolor\": \"white\"}, \"zaxis\": {\"backgroundcolor\": \"#E5ECF6\", \"gridcolor\": \"white\", \"gridwidth\": 2, \"linecolor\": \"white\", \"showbackground\": true, \"ticks\": \"\", \"zerolinecolor\": \"white\"}}, \"shapedefaults\": {\"line\": {\"color\": \"#2a3f5f\"}}, \"ternary\": {\"aaxis\": {\"gridcolor\": \"white\", \"linecolor\": \"white\", \"ticks\": \"\"}, \"baxis\": {\"gridcolor\": \"white\", \"linecolor\": \"white\", \"ticks\": \"\"}, \"bgcolor\": \"#E5ECF6\", \"caxis\": {\"gridcolor\": \"white\", \"linecolor\": \"white\", \"ticks\": \"\"}}, \"title\": {\"x\": 0.05}, \"xaxis\": {\"automargin\": true, \"gridcolor\": \"white\", \"linecolor\": \"white\", \"ticks\": \"\", \"title\": {\"standoff\": 15}, \"zerolinecolor\": \"white\", \"zerolinewidth\": 2}, \"yaxis\": {\"automargin\": true, \"gridcolor\": \"white\", \"linecolor\": \"white\", \"ticks\": \"\", \"title\": {\"standoff\": 15}, \"zerolinecolor\": \"white\", \"zerolinewidth\": 2}}}, \"title\": {\"text\": \"COVID-19 - Contamina\\u00e7\\u00e3o relativa  01-05-2020 \\nCasos a cada 10 mil habitantes - E. Aritm\\u00e9tica\"}, \"xaxis\": {\"tickangle\": 0, \"tickfont\": {\"size\": 10}, \"title\": {\"text\": \"Dias desde o caso 50\"}}, \"yaxis\": {\"title\": {\"text\": \"Casos a cada 10000 hab.\"}}},\n",
              "                        {\"responsive\": true}\n",
              "                    ).then(function(){\n",
              "                            \n",
              "var gd = document.getElementById('41ff437c-e817-4d6c-835a-05aefa028d3f');\n",
              "var x = new MutationObserver(function (mutations, observer) {{\n",
              "        var display = window.getComputedStyle(gd).display;\n",
              "        if (!display || display === 'none') {{\n",
              "            console.log([gd, 'removed!']);\n",
              "            Plotly.purge(gd);\n",
              "            observer.disconnect();\n",
              "        }}\n",
              "}});\n",
              "\n",
              "// Listen for the removal of the full notebook cells\n",
              "var notebookContainer = gd.closest('#notebook-container');\n",
              "if (notebookContainer) {{\n",
              "    x.observe(notebookContainer, {childList: true});\n",
              "}}\n",
              "\n",
              "// Listen for the clearing of the current output cell\n",
              "var outputEl = gd.closest('.output');\n",
              "if (outputEl) {{\n",
              "    x.observe(outputEl, {childList: true});\n",
              "}}\n",
              "\n",
              "                        })\n",
              "                };\n",
              "                \n",
              "            </script>\n",
              "        </div>\n",
              "</body>\n",
              "</html>"
            ]
          },
          "metadata": {
            "tags": []
          }
        }
      ]
    },
    {
      "cell_type": "code",
      "metadata": {
        "id": "SX9B-OeOIqX5",
        "colab_type": "code",
        "outputId": "cbfd2bf5-e84c-46c5-8cfb-d96f0539f596",
        "colab": {
          "base_uri": "https://localhost:8080/",
          "height": 542
        }
      },
      "source": [
        "#hide_input\n",
        "import plotly.graph_objects as go\n",
        "fig = go.Figure()\n",
        "fig.add_trace(go.Scatter(x=final_data['indice'][final_data['countriesAndTerritories']=='Brazil'], \n",
        "                         y=final_data['relativa'][final_data['countriesAndTerritories']=='Brazil'], name='Brasil',line=dict(color='black', width=5)))\n",
        "fig.add_trace(go.Scatter(x=final_data['indice'][final_data['countriesAndTerritories']=='France'], \n",
        "                         y=final_data['relativa'][final_data['countriesAndTerritories']=='France'], name='França',line=dict(color='red', width=2)))\n",
        "fig.add_trace(go.Scatter(x=final_data['indice'][final_data['countriesAndTerritories']=='Spain'], \n",
        "                         y=final_data['relativa'][final_data['countriesAndTerritories']=='Spain'], name='Espanha',line=dict(color='blue', width=2)))\n",
        "fig.add_trace(go.Scatter(x=final_data['indice'][final_data['countriesAndTerritories']=='Italy'], \n",
        "                         y=final_data['relativa'][final_data['countriesAndTerritories']=='Italy'], name='Itália',line=dict(color='green', width=2)))\n",
        "fig.add_trace(go.Scatter(x=final_data['indice'][final_data['countriesAndTerritories']=='United_Kingdom'], \n",
        "                         y=final_data['relativa'][final_data['countriesAndTerritories']=='United_Kingdom'], name='Reino Unido',line=dict(color='yellowgreen', width=2)))\n",
        "fig.add_trace(go.Scatter(x=final_data['indice'][final_data['countriesAndTerritories']=='Argentina'], \n",
        "                         y=final_data['relativa'][final_data['countriesAndTerritories']=='Argentina'],mode='lines', name='Argentina',line=dict(color='darkgreen', width=2)))\n",
        "fig.add_trace(go.Scatter(x=final_data['indice'][final_data['countriesAndTerritories']=='Germany'], \n",
        "                         y=final_data['relativa'][final_data['countriesAndTerritories']=='Germany'], name='Alemanha',line=dict(color='darkslateblue', width=2)))\n",
        "fig.add_trace(go.Scatter(x=final_data['indice'][final_data['countriesAndTerritories']=='United_States_of_America'], \n",
        "                         y=final_data['relativa'][final_data['countriesAndTerritories']=='United_States_of_America'], name='EUA',line=dict(color='mediumpurple', width=2)))\n",
        "fig.add_trace(go.Scatter(x=final_data['indice'][final_data['countriesAndTerritories']=='New_Zealand'], \n",
        "                         y=final_data['relativa'][final_data['countriesAndTerritories']=='New_Zealand'], name='Nova Zelândia',line=dict(color='yellow', width=2)))\n",
        "fig.add_trace(go.Scatter(x=final_data['indice'][final_data['countriesAndTerritories']=='Portugal'], \n",
        "                         y=final_data['relativa'][final_data['countriesAndTerritories']=='Portugal'], name='Portugal',line=dict(color='darkgrey', width=2)))\n",
        "\n",
        "fig.add_trace(go.Scatter(x=final_data['indice'][final_data['countriesAndTerritories']=='Czechia'], \n",
        "                         y=final_data['relativa'][final_data['countriesAndTerritories']=='Czechia'],mode='lines', name='República Tcheca',line=dict(color='magenta', width=2)))\n",
        "fig.add_trace(go.Scatter(x=final_data['indice'][final_data['countriesAndTerritories']=='South_Korea'], \n",
        "                         y=final_data['relativa'][final_data['countriesAndTerritories']=='South_Korea'], name='Coréia do Sul',line=dict(color='brown', width=2)))\n",
        "fig.add_trace(go.Scatter(x=final_data['indice'][final_data['countriesAndTerritories']=='Taiwan'], \n",
        "                         y=final_data['relativa'][final_data['countriesAndTerritories']=='Taiwan'],mode='lines', name='Taiwan',line=dict(color='grey', width=2)))\n",
        "fig.add_trace(go.Scatter(x=final_data['indice'][final_data['countriesAndTerritories']=='Hong_Kong'], \n",
        "                         y=final_data['relativa'][final_data['countriesAndTerritories']=='Hong_Kong'], name='Hong Kong',line=dict(color='lavenderblush', width=2)))\n",
        "fig.add_trace(go.Scatter(x=final_data['indice'][final_data['countriesAndTerritories']=='Japan'], \n",
        "                         y=final_data['relativa'][final_data['countriesAndTerritories']=='Japan'], name='Japão',line=dict(color='pink', width=2)))\n",
        "fig.add_trace(go.Scatter(x=final_data['indice'][final_data['countriesAndTerritories']=='China'], \n",
        "                         y=final_data['relativa'][final_data['countriesAndTerritories']=='China'], name='China',line=dict(color='lightgreen', width=2)))\n",
        "\n",
        "fig.update_xaxes(tickangle=0, tickfont=dict(size=10))\n",
        "\n",
        "fig.update_layout(title='COVID-19 - Contaminação relativa  {} \\nCasos a cada 10 mil habitantes - E. Logarítimica' .format(today),\n",
        "                   xaxis_title='Dias desde o caso 50',\n",
        "                   yaxis_title='Casos a cada 10000 hab.',yaxis_type=\"log\",legend= {'borderwidth':0,'orientation':'v','yanchor':'top','font':{'size':8}})"
      ],
      "execution_count": 20,
      "outputs": [
        {
          "output_type": "display_data",
          "data": {
            "text/html": [
              "<html>\n",
              "<head><meta charset=\"utf-8\" /></head>\n",
              "<body>\n",
              "    <div>\n",
              "            <script src=\"https://cdnjs.cloudflare.com/ajax/libs/mathjax/2.7.5/MathJax.js?config=TeX-AMS-MML_SVG\"></script><script type=\"text/javascript\">if (window.MathJax) {MathJax.Hub.Config({SVG: {font: \"STIX-Web\"}});}</script>\n",
              "                <script type=\"text/javascript\">window.PlotlyConfig = {MathJaxConfig: 'local'};</script>\n",
              "        <script src=\"https://cdn.plot.ly/plotly-latest.min.js\"></script>    \n",
              "            <div id=\"2bce09f5-ed89-45fa-9ae9-0e4f17116780\" class=\"plotly-graph-div\" style=\"height:525px; width:100%;\"></div>\n",
              "            <script type=\"text/javascript\">\n",
              "                \n",
              "                    window.PLOTLYENV=window.PLOTLYENV || {};\n",
              "                    \n",
              "                if (document.getElementById(\"2bce09f5-ed89-45fa-9ae9-0e4f17116780\")) {\n",
              "                    Plotly.newPlot(\n",
              "                        '2bce09f5-ed89-45fa-9ae9-0e4f17116780',\n",
              "                        [{\"line\": {\"color\": \"black\", \"width\": 5}, \"name\": \"Brasil\", \"type\": \"scatter\", \"x\": [0, 1, 2, 3, 4, 5, 6, 7, 8, 9, 10, 11, 12, 13, 14, 15, 16, 17, 18, 19, 20, 21, 22, 23, 24, 25, 26, 27, 28, 29, 30, 31, 32, 33, 34, 35, 36, 37, 38, 39, 40, 41, 42, 43, 44, 45, 46, 47, 48, 49, 50], \"y\": [0.0024824636263103966, 0.003675955754344241, 0.0046784891418926704, 0.005776501899683807, 0.009547937024270755, 0.011171086318396785, 0.01389224837031395, 0.02043258523193942, 0.0296463444603607, 0.04315667534970381, 0.05385036481688706, 0.07380555319761294, 0.09027574456448, 0.10507504695209967, 0.11615065390025374, 0.13916118212874626, 0.16312650405966586, 0.18637573071376515, 0.20318009987648167, 0.21860001817067898, 0.2729277798387795, 0.3263484874895744, 0.37762090930990844, 0.4323305884589798, 0.49066848367727417, 0.5313426954006676, 0.5755496438230412, 0.6548452608096098, 0.7603499649278016, 0.8524875572120144, 0.9375119364131455, 0.9895004535102997, 1.0583410794552919, 1.118540822393319, 1.2059999255356393, 1.351987882636739, 1.4524799198171887, 1.607968074257438, 1.7472247357564268, 1.8453297886808089, 1.9373241619096575, 2.0565778953427993, 2.1844247720977847, 2.362732496026041, 2.5299646130061437, 2.793201236765288, 2.9545136327903427, 3.1747368002551477, 3.4318150046336373, 3.731429268455254, 4.076014315661186]}, {\"line\": {\"color\": \"red\", \"width\": 2}, \"name\": \"Fran\\u00e7a\", \"type\": \"scatter\", \"x\": [0, 1, 2, 3, 4, 5, 6, 7, 8, 9, 10, 11, 12, 13, 14, 15, 16, 17, 18, 19, 20, 21, 22, 23, 24, 25, 26, 27, 28, 29, 30, 31, 32, 33, 34, 35, 36, 37, 38, 39, 40, 41, 42, 43, 44, 45, 46, 47, 48, 49, 50, 51, 52, 53, 54, 55, 56, 57, 58, 59, 60, 61, 62], \"y\": [0.008509082714314982, 0.014928215288271898, 0.019406679874753467, 0.026572223213123976, 0.031647816411136426, 0.04254541357157491, 0.06314635066939013, 0.09150995971710674, 0.10688602146402679, 0.16809170414594157, 0.21078639987039918, 0.2663193607427707, 0.340512590725482, 0.4293354716906998, 0.5465219617036342, 0.6716204058193527, 0.809557115082985, 0.990188520071075, 1.1539510417834178, 1.3635431844307553, 1.641357270945495, 1.8827465121568518, 2.158470648531234, 2.3912015248753926, 2.9641464276392684, 3.3292905735903986, 3.7668365636896484, 4.352321167295672, 4.920936887625949, 5.609276894568167, 5.997261209910352, 6.650519910925131, 7.781780065470376, 8.507440610633273, 8.823321646133106, 9.604515152168373, 10.241502098518936, 10.521107570868269, 11.105099352945464, 11.668938044383495, 12.248302079721327, 12.88812538697666, 13.536308494793428, 14.001173118870215, 14.24196523147004, 14.640996426125547, 15.461600420521853, 15.854660329062053, 16.248914494825314, 16.309373766742816, 16.69287961749852, 16.810066107511457, 17.11624380307391, 17.514379304812124, 17.78711779812885, 18.033881196843986, 18.298558453905045, 18.528005122885784, 18.596824195364718, 18.775216368059567, 18.934201860879664, 19.17409828056219, 19.344130652695608]}, {\"line\": {\"color\": \"blue\", \"width\": 2}, \"name\": \"Espanha\", \"type\": \"scatter\", \"x\": [0, 1, 2, 3, 4, 5, 6, 7, 8, 9, 10, 11, 12, 13, 14, 15, 16, 17, 18, 19, 20, 21, 22, 23, 24, 25, 26, 27, 28, 29, 30, 31, 32, 33, 34, 35, 36, 37, 38, 39, 40, 41, 42, 43, 44, 45, 46, 47, 48, 49, 50, 51, 52, 53, 54, 55, 56, 57, 58, 59, 60], \"y\": [0.01412557883572228, 0.017763985505529534, 0.02439872707988394, 0.03231761218475855, 0.04280478435067357, 0.05586024357762901, 0.08004494673575957, 0.09203028635394818, 0.12606008991273368, 0.2576848017910549, 0.3507852077537699, 0.4580111925522072, 0.6429278609471171, 0.9055352129384995, 1.2312796218471251, 1.6593274653538612, 1.967093864835204, 2.392359397359146, 2.9355521107691938, 3.669868186304999, 4.27619795663229, 5.334760273624448, 6.115091492337227, 7.08183754689719, 8.490971047721363, 10.189678914677843, 12.025576115478234, 13.710158403598992, 15.46280029883732, 16.86444296240013, 18.233768013778175, 20.207496620187733, 21.85954727220198, 23.593569086247765, 25.19275582958893, 26.696487903828093, 27.985553984548627, 28.900078202200767, 30.07250124556572, 31.395169082001534, 32.627090775613915, 33.606464241557326, 34.640199783626095, 35.53203746557238, 36.27619864150884, 37.981541250039676, 38.84619789392328, 39.7879031496381, 40.66625732451392, 40.36020311640661, 40.913454954139056, 41.63086313985635, 42.193103982302446, 42.846304991493724, 43.4385091829853, 44.068595608627206, 44.43864296933878, 44.83052077006921, 45.1104640597226, 45.56933134796183, 45.680195739430076]}, {\"line\": {\"color\": \"green\", \"width\": 2}, \"name\": \"It\\u00e1lia\", \"type\": \"scatter\", \"x\": [0, 1, 2, 3, 4, 5, 6, 7, 8, 9, 10, 11, 12, 13, 14, 15, 16, 17, 18, 19, 20, 21, 22, 23, 24, 25, 26, 27, 28, 29, 30, 31, 32, 33, 34, 35, 36, 37, 38, 39, 40, 41, 42, 43, 44, 45, 46, 47, 48, 49, 50, 51, 52, 53, 54, 55, 56, 57, 58, 59, 60, 61, 62, 63, 64, 65, 66, 67, 68], \"y\": [0.013072699449389482, 0.021842991485055845, 0.03789428068240749, 0.05328366104687865, 0.06619088328804801, 0.10756018534307801, 0.1469437608994666, 0.1866582908722954, 0.27949100468378274, 0.3369115959361644, 0.4140239749667403, 0.5111590961919508, 0.638411069313223, 0.7671523373084765, 0.9735024159589661, 1.2203944106233853, 1.517756953794941, 1.6794281862259983, 2.0621769688391356, 2.500857047830674, 2.9223274971673194, 3.5010012943130797, 3.9681434531184787, 4.630052285998959, 5.213524922183102, 5.909687537165146, 6.790357239312625, 7.780903807718264, 8.865937862017592, 9.785991139721459, 10.578461489887614, 11.447051355835024, 12.309187610661848, 13.327368872840246, 14.313447556623942, 15.30200839853094, 16.165302993815306, 16.835485687106793, 17.506164812022938, 18.297476821731554, 19.06992442970307, 19.828637429392323, 20.62375541489, 21.337955045568037, 21.93350751795225, 22.436392753733195, 23.071163324465573, 23.76682950782296, 24.420629957500655, 25.197379972885894, 25.874512708922627, 26.39626234644067, 26.888060609270866, 27.32938832359392, 27.955885033915298, 28.533896922228177, 29.111577856124615, 29.61578690957132, 29.989103491315912, 30.440690792548622, 30.998348984250423, 31.436201677200863, 31.936108323233846, 32.32613810300867, 32.71070713491223, 32.99847200000701, 33.34448484239528, 33.689670298742456, 33.99944363253052]}, {\"line\": {\"color\": \"yellowgreen\", \"width\": 2}, \"name\": \"Reino Unido\", \"type\": \"scatter\", \"x\": [0, 1, 2, 3, 4, 5, 6, 7, 8, 9, 10, 11, 12, 13, 14, 15, 16, 17, 18, 19, 20, 21, 22, 23, 24, 25, 26, 27, 28, 29, 30, 31, 32, 33, 34, 35, 36, 37, 38, 39, 40, 41, 42, 43, 44, 45, 46, 47, 48, 49, 50, 51, 52, 53, 54, 55, 56, 57, 58], \"y\": [0.007670442765479777, 0.012784071275799629, 0.0172960964319642, 0.024515336681827524, 0.030982572738996746, 0.04105942892109763, 0.04827866917096095, 0.05609951277497954, 0.06858278237370154, 0.08873649473790331, 0.10633339284694515, 0.17145695593425384, 0.20920756640749746, 0.23206849386539796, 0.29328163515069733, 0.39555420535709435, 0.4928635478917104, 0.5990465399001167, 0.7547114077877946, 0.8547279654161092, 1.0001655762831474, 1.2147875728780424, 1.4331695904364077, 1.7533729756855538, 2.187279394870047, 2.5701999297898803, 2.9361251699548276, 3.330024966087995, 3.782581089251302, 4.432914315093156, 5.071215473851905, 5.74049920534965, 6.302246337292139, 7.190062487186789, 7.761886475311379, 8.308443122561448, 9.134294126978103, 9.787635369590735, 10.568967725799899, 11.880312637019864, 12.67563227121314, 13.328672712148693, 14.118577916154571, 14.810872975948755, 15.505273647482484, 16.347367942461332, 17.178332575388307, 18.0581774808404, 18.76145180184792, 19.40832580840338, 20.07775994073966, 20.767046983763073, 21.57710590013315, 22.31602521987437, 22.987264162273117, 23.63534137553689, 24.236343126338014, 24.849376944222243, 25.756594802288397]}, {\"line\": {\"color\": \"darkgreen\", \"width\": 2}, \"mode\": \"lines\", \"name\": \"Argentina\", \"type\": \"scatter\", \"x\": [0, 1, 2, 3, 4, 5, 6, 7, 8, 9, 10, 11, 12, 13, 14, 15, 16, 17, 18, 19, 20, 21, 22, 23, 24, 25, 26, 27, 28, 29, 30, 31, 32, 33, 34, 35, 36, 37, 38, 39, 40, 41, 42, 43, 44, 45, 46], \"y\": [0.012585824648627375, 0.014608546467156773, 0.017755002629313617, 0.02180044626637242, 0.02876759919686257, 0.035510005258627235, 0.050568045463234984, 0.059782667080980026, 0.06764880748637214, 0.08697703819676417, 0.11282292810019538, 0.1323759056793129, 0.1550753394205873, 0.16743641720048918, 0.18429243235490084, 0.2171054751888222, 0.2171054751888222, 0.25463820226597883, 0.25463820226597883, 0.28430478893774336, 0.32610770652068427, 0.3492566339994096, 0.36588790228509577, 0.3854408798642133, 0.4034206293622524, 0.42567056936607583, 0.44387506573284047, 0.48028405846636957, 0.4951173518022519, 0.5106248857443106, 0.5465843847403888, 0.5465843847403888, 0.5753519839372514, 0.5973771770723493, 0.6355841447556824, 0.6585083253656823, 0.6787355435509762, 0.703907192848231, 0.7362707419447014, 0.7693085316473482, 0.7693085316473482, 0.8466214544889165, 0.8466214544889165, 0.8967400062147005, 0.9246086179366609, 0.9601186231952883, 0.9922574254230332]}, {\"line\": {\"color\": \"darkslateblue\", \"width\": 2}, \"name\": \"Alemanha\", \"type\": \"scatter\", \"x\": [0, 1, 2, 3, 4, 5, 6, 7, 8, 9, 10, 11, 12, 13, 14, 15, 16, 17, 18, 19, 20, 21, 22, 23, 24, 25, 26, 27, 28, 29, 30, 31, 32, 33, 34, 35, 36, 37, 38, 39, 40, 41, 42, 43, 44, 45, 46, 47, 48, 49, 50, 51, 52, 53, 54, 55, 56, 57, 58, 59, 60, 61, 62], \"y\": [0.006873438840056791, 0.013385117741163223, 0.015555677374865367, 0.01893210347173537, 0.023634982678090017, 0.03159370133499788, 0.04823465852671432, 0.08248126608068149, 0.10213688943031757, 0.10876915497774078, 0.13734819015481903, 0.15628029362655438, 0.18895927477840335, 0.28566976512446557, 0.3692363110219981, 0.4576263227722021, 0.5833981948806097, 0.7249669176565161, 0.8629180410429191, 0.98856932650501, 1.7048540056267176, 2.1931093365633836, 2.5881511898971734, 2.9874135758520515, 3.5225771122059464, 3.8049910378798595, 4.402377283733216, 5.099368099444238, 5.858340451362088, 6.336466504008143, 6.909373660659193, 7.465881033411159, 8.123440015776593, 8.865771410502726, 9.610273364862561, 10.343681347761253, 11.059483680297692, 11.502880778804514, 11.96520998078307, 12.447918325989166, 13.047716304768857, 13.689599023113109, 14.187983632340384, 14.528158561600037, 14.834086883305721, 15.085148280937268, 15.3849266836808, 15.730528012024708, 16.138110876575443, 16.573308083132723, 16.869710059779383, 17.08375135699168, 17.29899852066714, 17.56875084847779, 17.852370640614872, 18.1341816330572, 18.381987191238196, 18.59144619589045, 18.71420340184094, 18.85215452522734, 19.00939951202443, 19.18762657528064, 19.18762657528064]}, {\"line\": {\"color\": \"mediumpurple\", \"width\": 2}, \"name\": \"EUA\", \"type\": \"scatter\", \"x\": [0, 1, 2, 3, 4, 5, 6, 7, 8, 9, 10, 11, 12, 13, 14, 15, 16, 17, 18, 19, 20, 21, 22, 23, 24, 25, 26, 27, 28, 29, 30, 31, 32, 33, 34, 35, 36, 37, 38, 39, 40, 41, 42, 43, 44, 45, 46, 47, 48, 49, 50, 51, 52, 53, 54, 55, 56, 57, 58, 59, 60, 61, 62, 63, 64, 65, 66], \"y\": [0.0016199656350882404, 0.0016199656350882404, 0.0018033579711359657, 0.0018339233604772534, 0.0020173156965249787, 0.0021090118645488414, 0.002720319651374593, 0.003148235102152618, 0.0038206736676609445, 0.0048598969052647215, 0.007121735716520001, 0.010331101597355194, 0.013234813584777513, 0.016933225695073304, 0.023046303563330817, 0.031329524074819745, 0.04010179081576928, 0.0508302424745612, 0.06644915642795915, 0.09019846394613958, 0.11535377937401924, 0.1424652797197413, 0.19644375729645513, 0.28777314064822235, 0.4355567981133477, 0.599815200433427, 0.8175324687114183, 1.0760850971493696, 1.4195178117880767, 1.688157018708653, 2.1149415500810513, 2.6283483948466584, 3.1997683485820287, 3.810434262231613, 4.371614810537653, 5.031674393362758, 5.795747996116264, 6.624161743433181, 7.505025698859747, 8.496108448250995, 9.543645471755603, 10.319945230245622, 11.254054093904713, 12.189752357809548, 13.208282826829274, 14.244480090888263, 15.330376678016187, 16.198158646804682, 17.042374700411045, 17.807212437898084, 18.630093849744227, 19.551579207605364, 20.519493391875915, 21.46191604143584, 22.468189789329706, 23.22012893251472, 24.077946584377955, 25.21769938752523, 25.75528345525979, 26.566580584545587, 27.21921277776076, 28.702520557104105, 29.523415218643063, 30.21238965978503, 30.94999363536898, 31.785223464509002, 32.6996482174323]}, {\"line\": {\"color\": \"yellow\", \"width\": 2}, \"name\": \"Nova Zel\\u00e2ndia\", \"type\": \"scatter\", \"x\": [0, 1, 2, 3, 4, 5, 6, 7, 8, 9, 10, 11, 12, 13, 14, 15, 16, 17, 18, 19, 20, 21, 22, 23, 24, 25, 26, 27, 28, 29, 30, 31, 32, 33, 34, 35, 36, 37, 38, 39, 40, 41], \"y\": [0.10848429024664824, 0.13509364445809027, 0.20878108688977587, 0.2906560229249821, 0.3868590727663494, 0.5362808310306008, 0.6918432094974926, 0.8514993347661447, 0.974311738818954, 1.1298741172858457, 1.3243270903694606, 1.3243270903694606, 1.4798894688363524, 1.5801862654794803, 1.6866236823252483, 1.7848736055674956, 1.8647016682018218, 1.9302016170299867, 1.9834203254528708, 2.030498413673114, 2.0775765018933576, 2.118513969910961, 2.147170197523283, 2.1778732985364853, 2.1942482857435266, 2.206529526148808, 2.2188107665540886, 2.2229045133558487, 2.23927950056289, 2.2474669941664107, 2.261795107972572, 2.265888854774332, 2.276123221778733, 2.276123221778733, 2.2802169685804934, 2.286357588783134, 2.2945450823866542, 2.2965919557875343, 2.300685702589295, 2.304779449391055, 2.3109200695936956, 2.317060689796336]}, {\"line\": {\"color\": \"darkgrey\", \"width\": 2}, \"name\": \"Portugal\", \"type\": \"scatter\", \"x\": [0, 1, 2, 3, 4, 5, 6, 7, 8, 9, 10, 11, 12, 13, 14, 15, 16, 17, 18, 19, 20, 21, 22, 23, 24, 25, 26, 27, 28, 29, 30, 31, 32, 33, 34, 35, 36, 37, 38, 39, 40, 41, 42, 43, 44, 45, 46, 47, 48, 49, 50], \"y\": [0.057383160590568034, 0.07586248349261537, 0.10893074552785796, 0.16436871423399996, 0.23828600584218929, 0.32192925687250884, 0.43572298211143184, 0.6244065949007572, 0.7634878146372188, 0.9920478610572779, 1.2449228060326627, 1.5561535075408282, 2.003547640958816, 2.2972716155071473, 2.9129248469279876, 3.446880019202934, 4.151039481365159, 5.0283210212413, 5.798617007474011, 6.232394797701017, 7.23903159789149, 8.024889119199608, 8.7864317419524, 9.615083484717893, 10.235599695849796, 10.968937036278412, 11.408550402158696, 12.101038713014365, 12.780883276621264, 13.573548969524873, 15.048004417919808, 15.548891328159511, 16.130503701602894, 16.46993968543524, 16.96985399973273, 17.5952331905757, 18.324680147235465, 18.50072001277602, 19.145551122463253, 19.652273608356236, 20.29126914239019, 20.793128648572104, 21.379604001726555, 21.740437096287582, 22.17226969463016, 22.750964280246908, 23.210029564971453, 23.368562703552175, 23.655478506505013, 23.833463563929996, 24.369363928089367]}, {\"line\": {\"color\": \"magenta\", \"width\": 2}, \"mode\": \"lines\", \"name\": \"Rep\\u00fablica Tcheca\", \"type\": \"scatter\", \"x\": [0, 1, 2, 3, 4, 5, 6, 7, 8, 9, 10, 11, 12, 13, 14, 15, 16, 17, 18, 19, 20, 21, 22, 23, 24, 25, 26, 27, 28, 29, 30, 31, 32, 33, 34, 35, 36, 37, 38, 39, 40, 41, 42, 43, 44, 45, 46, 47, 48, 49, 50, 51], \"y\": [0.059290239367871936, 0.08846480159650733, 0.10916932962973247, 0.14116723659017127, 0.20139859086864437, 0.28045224335914026, 0.3237435292467928, 0.40844387120089554, 0.49126198333379606, 0.6531337479571925, 0.8507678791834322, 0.9364093360481363, 1.0963988708503303, 1.1632180295030115, 1.3119141853779919, 1.5566040621342887, 1.9405789456595544, 2.1448008812600023, 2.506189006930841, 2.6624140820906304, 2.825226961624628, 3.1132081242685774, 3.377661414147498, 3.6308213250992054, 3.9432714754187845, 4.208665880208306, 4.316894094927438, 4.538056098918706, 4.721573506485929, 4.999202405113265, 5.24106893713776, 5.394470667565745, 5.554460202367939, 5.638219429411441, 5.7022152433323186, 5.779386666001612, 5.931847281518998, 6.054192219897145, 6.163361549526878, 6.262178615139998, 6.387346898249949, 6.506868491896294, 6.626390085542639, 6.715796002049749, 6.764733977401008, 6.844728744802104, 6.919076822739595, 6.968014798090854, 7.010364969067906, 7.062126289150969, 7.132709907446054, 7.229644743237971]}, {\"line\": {\"color\": \"brown\", \"width\": 2}, \"name\": \"Cor\\u00e9ia do Sul\", \"type\": \"scatter\", \"x\": [0, 1, 2, 3, 4, 5, 6, 7, 8, 9, 10, 11, 12, 13, 14, 15, 16, 17, 18, 19, 20, 21, 22, 23, 24, 25, 26, 27, 28, 29, 30, 31, 32, 33, 34, 35, 36, 37, 38, 39, 40, 41, 42, 43, 44, 45, 46, 47, 48, 49, 50, 51, 52, 53, 54, 55, 56, 57, 58, 59, 60, 61, 62, 63, 64, 65, 66, 67, 68, 69, 70, 71], \"y\": [0.015493290088462038, 0.0300182495463952, 0.06681481350649254, 0.11639334178957106, 0.1475735880926009, 0.17275018448635174, 0.2219413805172187, 0.3088974711387119, 0.391592906985878, 0.5676354156160279, 0.6828667606489643, 0.8157217231575263, 0.9319213988209916, 1.0318531198915717, 1.1166788831259014, 1.2169979364486931, 1.3105386753577828, 1.3816141436386022, 1.4296433429128346, 1.4550136054326912, 1.501880807950289, 1.5239587463263473, 1.5452620201979825, 1.5659842956913006, 1.5807029212753394, 1.595034214607167, 1.611302169200052, 1.629313118927889, 1.658750370095967, 1.6755993230671695, 1.7040682436047185, 1.7230475239630845, 1.735442156033854, 1.750160781617893, 1.7695273942284706, 1.7896686713434713, 1.8072922888190968, 1.83556754323054, 1.8559024864716465, 1.871008444307897, 1.8952167100711188, 1.8952167100711188, 1.9320132740312161, 1.9486685608763128, 1.9668731767302559, 1.9825601329448235, 1.9916624408717951, 2.0007647487987663, 2.0110290534823725, 2.0185820324004977, 2.023811017805354, 2.023811017805354, 2.035818317623912, 2.0406599707765563, 2.045888956181412, 2.051117941586268, 2.0553785963605953, 2.0596392511349224, 2.0631252414048262, 2.0646745704136724, 2.0671922300530476, 2.0689352251879995, 2.071065552575163, 2.072614881584009, 2.073776878340644, 2.0757135396017015, 2.0776502008627595, 2.079586862123817, 2.082298187889298, 2.08404118302425, 2.084815847528673, 2.086558842663625]}, {\"line\": {\"color\": \"grey\", \"width\": 2}, \"mode\": \"lines\", \"name\": \"Taiwan\", \"type\": \"scatter\", \"x\": [0, 1, 2, 3, 4, 5, 6, 7, 8, 9, 10, 11, 12, 13, 14, 15, 16, 17, 18, 19, 20, 21, 22, 23, 24, 25, 26, 27, 28, 29, 30, 31, 32, 33, 34, 35, 36, 37, 38, 39, 40, 41, 42, 43, 44, 45, 46, 47, 48], \"y\": [0.022287213043721794, 0.024810293765652563, 0.024810293765652563, 0.02817440139489359, 0.03237953593144487, 0.045415452994753844, 0.045415452994753844, 0.0567693162434423, 0.06433855840923461, 0.06938471985309615, 0.08200012346275, 0.09083090598950769, 0.09882066160895513, 0.1059693903210923, 0.11227709212591923, 0.11900530738440128, 0.12867711681846922, 0.12867711681846922, 0.13540533207695127, 0.14255406078908844, 0.14255406078908844, 0.1492822760475705, 0.15264638367681152, 0.15264638367681152, 0.15685151821336282, 0.1581130585743282, 0.15937459893529357, 0.1597951123889487, 0.1597951123889487, 0.16189767965722435, 0.16315922001818975, 0.16526178728646537, 0.16610281419377562, 0.16610281419377562, 0.16610281419377562, 0.16610281419377562, 0.16736435455474102, 0.17661565053515385, 0.1774566774424641, 0.17871821780342947, 0.1791387312570846, 0.17955924471073972, 0.17997975816439488, 0.18040027161804997, 0.18040027161804997, 0.18040027161804997, 0.18040027161804997, 0.18040027161804997, 0.18040027161804997]}, {\"line\": {\"color\": \"lavenderblush\", \"width\": 2}, \"name\": \"Hong Kong\", \"type\": \"scatter\", \"x\": [], \"y\": []}, {\"line\": {\"color\": \"pink\", \"width\": 2}, \"name\": \"Jap\\u00e3o\", \"type\": \"scatter\", \"x\": [0, 1, 2, 3, 4, 5, 6, 7, 8, 9, 10, 11, 12, 13, 14, 15, 16, 17, 18, 19, 20, 21, 22, 23, 24, 25, 26, 27, 28, 29, 30, 31, 32, 33, 34, 35, 36, 37, 38, 39, 40, 41, 42, 43, 44, 45, 46, 47, 48, 49, 50, 51, 52, 53, 54, 55, 56, 57, 58, 59, 60, 61, 62, 63, 64, 65, 66, 67, 68, 69, 70, 71, 72, 73, 74, 75], \"y\": [0.004109726537215549, 0.004662958955686873, 0.004662958955686873, 0.005216191374158198, 0.006638789021655888, 0.007350087845404732, 0.008298486277069859, 0.010432382748316395, 0.011380781179981522, 0.011380781179981522, 0.012961445232756734, 0.014700175690809465, 0.016596972554139718, 0.01817763660691493, 0.018888935430663775, 0.020074433470245186, 0.020074433470245186, 0.02118089830718783, 0.0250535252364871, 0.02758258772092744, 0.03224554667661431, 0.03596010720063606, 0.038568202887715154, 0.04062306615632293, 0.04489085909881601, 0.04892155243339279, 0.05334741178116338, 0.05824747034476654, 0.06164589805823324, 0.06433302694795111, 0.06512335897433871, 0.06551852498753251, 0.06899598590363798, 0.07508154250682254, 0.0795864350572319, 0.08266872996014356, 0.08606715767361026, 0.08914945257652193, 0.09428661074804136, 0.1002141009459484, 0.10780128839926942, 0.11847077075550211, 0.13380321206742163, 0.14747595612392722, 0.15435184475349942, 0.15435184475349942, 0.1721343153472205, 0.20682989130563642, 0.23196244974476227, 0.25851760583138583, 0.2887873224420311, 0.3016697344721491, 0.30870368950699884, 0.33644434363320375, 0.36884795671509557, 0.4225905345094528, 0.5333160514063563, 0.573385885144208, 0.6042088341733246, 0.6401689413739606, 0.6782629450458432, 0.7244973685895181, 0.7741302198466598, 0.8188630125401982, 0.8496859615693149, 0.8786911469377401, 0.9085656975351916, 0.9303788614634894, 0.9673664002984295, 1.0188960484189014, 1.0418156771841418, 1.0578594173198101, 1.0729547590238135, 1.0947679229521114, 1.1134197587748589, 1.1286731668841397]}, {\"line\": {\"color\": \"lightgreen\", \"width\": 2}, \"name\": \"China\", \"type\": \"scatter\", \"x\": [0, 1, 2, 3, 4, 5, 6, 7, 8, 9, 10, 11, 12, 13, 14, 15, 16, 17, 18, 19, 20, 21, 22, 23, 24, 25, 26, 27, 28, 29, 30, 31, 32, 33, 34, 35, 36, 37, 38, 39, 40, 41, 42, 43, 44, 45, 46, 47, 48, 49, 50, 51, 52, 53, 54, 55, 56, 57, 58, 59, 60, 61, 62, 63, 64, 65, 66, 67, 68, 69, 70, 71, 72, 73, 74, 75, 76, 77, 78, 79, 80, 81, 82, 83, 84, 85, 86, 87, 88, 89, 90, 91, 92, 93, 94, 95, 96, 97, 98, 99, 100, 101, 102, 103, 104, 105, 106, 107, 108, 109, 110, 111, 112, 113, 114, 115, 116, 117], \"y\": [0.0004236284132602874, 0.0004236284132602874, 0.0004236284132602874, 0.0004236284132602874, 0.0004236284132602874, 0.0004236284132602874, 0.0004236284132602874, 0.0004236284132602874, 0.0004236284132602874, 0.0004236284132602874, 0.0004236284132602874, 0.0004236284132602874, 0.0004523489836508153, 0.0005744114078105591, 0.0015509108010885095, 0.0016873335104435174, 0.0027715350426859475, 0.003776755006354426, 0.004473228838324729, 0.006332885771111414, 0.009499328656667121, 0.014274123484092394, 0.019924895708428772, 0.03251168568207765, 0.043037774730206146, 0.0555312228500858, 0.06974790519339714, 0.08479030393543617, 0.10338687326330301, 0.12357743424784415, 0.1468195558363789, 0.17462106797441, 0.2013814594357844, 0.22407071004430146, 0.24861243744300762, 0.26733106919503424, 0.28868481328039175, 0.3065633683484954, 0.3211246975364931, 0.429839236607239, 0.45967990924299756, 0.47790311115578754, 0.492313657349235, 0.5070473099595758, 0.5206177794691003, 0.5331830290149562, 0.5360120051984233, 0.5424095122529133, 0.5483403100385573, 0.5529858622992253, 0.554551133385509, 0.5582489068232895, 0.5611927652883186, 0.564344847888679, 0.5667071148032999, 0.5697802158350865, 0.5739016176861272, 0.5753735469186417, 0.5762854250285411, 0.5771398619976593, 0.5779799386815822, 0.5792005629231797, 0.5799257573255405, 0.5802560438850315, 0.580579150301925, 0.5807227531538777, 0.580930977289209, 0.5811033007115521, 0.5812612638487, 0.581397686558055, 0.5815556496952029, 0.5817351532601438, 0.582043899391842, 0.5822090426715875, 0.5825249689458832, 0.5832358030630489, 0.5836091704781257, 0.5840758797469717, 0.585066739425445, 0.5855621692646816, 0.5861222203872969, 0.5868545949322553, 0.5875295283364328, 0.5883839653055509, 0.5891953214190834, 0.5898989753936513, 0.5905021073718524, 0.5908898350721246, 0.5916078493318877, 0.592110459313722, 0.5925556281547751, 0.5929002749994615, 0.5933813445535028, 0.5937834325389701, 0.5944009248023666, 0.5950184170657629, 0.5954133249086327, 0.5959805561738456, 0.5966483094354254, 0.5974524854063601, 0.5981274188105375, 0.5984792457978215, 0.5988382529277032, 0.6013656631220696, 0.6015882475425962, 0.6017174901093536, 0.6018180121057204, 0.6020477766688447, 0.6021554788078091, 0.6022416405189807, 0.6022990816597618, 0.6024067837987263, 0.6024785852247025, 0.6025001256524954, 0.6026868093600339, 0.6027011696452291, 0.6027298902156197, 0.6028160519267912]}],\n",
              "                        {\"legend\": {\"borderwidth\": 0, \"font\": {\"size\": 8}, \"orientation\": \"v\", \"yanchor\": \"top\"}, \"template\": {\"data\": {\"bar\": [{\"error_x\": {\"color\": \"#2a3f5f\"}, \"error_y\": {\"color\": \"#2a3f5f\"}, \"marker\": {\"line\": {\"color\": \"#E5ECF6\", \"width\": 0.5}}, \"type\": \"bar\"}], \"barpolar\": [{\"marker\": {\"line\": {\"color\": \"#E5ECF6\", \"width\": 0.5}}, \"type\": \"barpolar\"}], \"carpet\": [{\"aaxis\": {\"endlinecolor\": \"#2a3f5f\", \"gridcolor\": \"white\", \"linecolor\": \"white\", \"minorgridcolor\": \"white\", \"startlinecolor\": \"#2a3f5f\"}, \"baxis\": {\"endlinecolor\": \"#2a3f5f\", \"gridcolor\": \"white\", \"linecolor\": \"white\", \"minorgridcolor\": \"white\", \"startlinecolor\": \"#2a3f5f\"}, \"type\": \"carpet\"}], \"choropleth\": [{\"colorbar\": {\"outlinewidth\": 0, \"ticks\": \"\"}, \"type\": \"choropleth\"}], \"contour\": [{\"colorbar\": {\"outlinewidth\": 0, \"ticks\": \"\"}, \"colorscale\": [[0.0, \"#0d0887\"], [0.1111111111111111, \"#46039f\"], [0.2222222222222222, \"#7201a8\"], [0.3333333333333333, \"#9c179e\"], [0.4444444444444444, \"#bd3786\"], [0.5555555555555556, \"#d8576b\"], [0.6666666666666666, \"#ed7953\"], [0.7777777777777778, \"#fb9f3a\"], [0.8888888888888888, \"#fdca26\"], [1.0, \"#f0f921\"]], \"type\": \"contour\"}], \"contourcarpet\": [{\"colorbar\": {\"outlinewidth\": 0, \"ticks\": \"\"}, \"type\": \"contourcarpet\"}], \"heatmap\": [{\"colorbar\": {\"outlinewidth\": 0, \"ticks\": \"\"}, \"colorscale\": [[0.0, \"#0d0887\"], [0.1111111111111111, \"#46039f\"], [0.2222222222222222, \"#7201a8\"], [0.3333333333333333, \"#9c179e\"], [0.4444444444444444, \"#bd3786\"], [0.5555555555555556, \"#d8576b\"], [0.6666666666666666, \"#ed7953\"], [0.7777777777777778, \"#fb9f3a\"], [0.8888888888888888, \"#fdca26\"], [1.0, \"#f0f921\"]], \"type\": \"heatmap\"}], \"heatmapgl\": [{\"colorbar\": {\"outlinewidth\": 0, \"ticks\": \"\"}, \"colorscale\": [[0.0, \"#0d0887\"], [0.1111111111111111, \"#46039f\"], [0.2222222222222222, \"#7201a8\"], [0.3333333333333333, \"#9c179e\"], [0.4444444444444444, \"#bd3786\"], [0.5555555555555556, \"#d8576b\"], [0.6666666666666666, \"#ed7953\"], [0.7777777777777778, \"#fb9f3a\"], [0.8888888888888888, \"#fdca26\"], [1.0, \"#f0f921\"]], \"type\": \"heatmapgl\"}], \"histogram\": [{\"marker\": {\"colorbar\": {\"outlinewidth\": 0, \"ticks\": \"\"}}, \"type\": \"histogram\"}], \"histogram2d\": [{\"colorbar\": {\"outlinewidth\": 0, \"ticks\": \"\"}, \"colorscale\": [[0.0, \"#0d0887\"], [0.1111111111111111, \"#46039f\"], [0.2222222222222222, \"#7201a8\"], [0.3333333333333333, \"#9c179e\"], [0.4444444444444444, \"#bd3786\"], [0.5555555555555556, \"#d8576b\"], [0.6666666666666666, \"#ed7953\"], [0.7777777777777778, \"#fb9f3a\"], [0.8888888888888888, \"#fdca26\"], [1.0, \"#f0f921\"]], \"type\": \"histogram2d\"}], \"histogram2dcontour\": [{\"colorbar\": {\"outlinewidth\": 0, \"ticks\": \"\"}, \"colorscale\": [[0.0, \"#0d0887\"], [0.1111111111111111, \"#46039f\"], [0.2222222222222222, \"#7201a8\"], [0.3333333333333333, \"#9c179e\"], [0.4444444444444444, \"#bd3786\"], [0.5555555555555556, \"#d8576b\"], [0.6666666666666666, \"#ed7953\"], [0.7777777777777778, \"#fb9f3a\"], [0.8888888888888888, \"#fdca26\"], [1.0, \"#f0f921\"]], \"type\": \"histogram2dcontour\"}], \"mesh3d\": [{\"colorbar\": {\"outlinewidth\": 0, \"ticks\": \"\"}, \"type\": \"mesh3d\"}], \"parcoords\": [{\"line\": {\"colorbar\": {\"outlinewidth\": 0, \"ticks\": \"\"}}, \"type\": \"parcoords\"}], \"pie\": [{\"automargin\": true, \"type\": \"pie\"}], \"scatter\": [{\"marker\": {\"colorbar\": {\"outlinewidth\": 0, \"ticks\": \"\"}}, \"type\": \"scatter\"}], \"scatter3d\": [{\"line\": {\"colorbar\": {\"outlinewidth\": 0, \"ticks\": \"\"}}, \"marker\": {\"colorbar\": {\"outlinewidth\": 0, \"ticks\": \"\"}}, \"type\": \"scatter3d\"}], \"scattercarpet\": [{\"marker\": {\"colorbar\": {\"outlinewidth\": 0, \"ticks\": \"\"}}, \"type\": \"scattercarpet\"}], \"scattergeo\": [{\"marker\": {\"colorbar\": {\"outlinewidth\": 0, \"ticks\": \"\"}}, \"type\": \"scattergeo\"}], \"scattergl\": [{\"marker\": {\"colorbar\": {\"outlinewidth\": 0, \"ticks\": \"\"}}, \"type\": \"scattergl\"}], \"scattermapbox\": [{\"marker\": {\"colorbar\": {\"outlinewidth\": 0, \"ticks\": \"\"}}, \"type\": \"scattermapbox\"}], \"scatterpolar\": [{\"marker\": {\"colorbar\": {\"outlinewidth\": 0, \"ticks\": \"\"}}, \"type\": \"scatterpolar\"}], \"scatterpolargl\": [{\"marker\": {\"colorbar\": {\"outlinewidth\": 0, \"ticks\": \"\"}}, \"type\": \"scatterpolargl\"}], \"scatterternary\": [{\"marker\": {\"colorbar\": {\"outlinewidth\": 0, \"ticks\": \"\"}}, \"type\": \"scatterternary\"}], \"surface\": [{\"colorbar\": {\"outlinewidth\": 0, \"ticks\": \"\"}, \"colorscale\": [[0.0, \"#0d0887\"], [0.1111111111111111, \"#46039f\"], [0.2222222222222222, \"#7201a8\"], [0.3333333333333333, \"#9c179e\"], [0.4444444444444444, \"#bd3786\"], [0.5555555555555556, \"#d8576b\"], [0.6666666666666666, \"#ed7953\"], [0.7777777777777778, \"#fb9f3a\"], [0.8888888888888888, \"#fdca26\"], [1.0, \"#f0f921\"]], \"type\": \"surface\"}], \"table\": [{\"cells\": {\"fill\": {\"color\": \"#EBF0F8\"}, \"line\": {\"color\": \"white\"}}, \"header\": {\"fill\": {\"color\": \"#C8D4E3\"}, \"line\": {\"color\": \"white\"}}, \"type\": \"table\"}]}, \"layout\": {\"annotationdefaults\": {\"arrowcolor\": \"#2a3f5f\", \"arrowhead\": 0, \"arrowwidth\": 1}, \"coloraxis\": {\"colorbar\": {\"outlinewidth\": 0, \"ticks\": \"\"}}, \"colorscale\": {\"diverging\": [[0, \"#8e0152\"], [0.1, \"#c51b7d\"], [0.2, \"#de77ae\"], [0.3, \"#f1b6da\"], [0.4, \"#fde0ef\"], [0.5, \"#f7f7f7\"], [0.6, \"#e6f5d0\"], [0.7, \"#b8e186\"], [0.8, \"#7fbc41\"], [0.9, \"#4d9221\"], [1, \"#276419\"]], \"sequential\": [[0.0, \"#0d0887\"], [0.1111111111111111, \"#46039f\"], [0.2222222222222222, \"#7201a8\"], [0.3333333333333333, \"#9c179e\"], [0.4444444444444444, \"#bd3786\"], [0.5555555555555556, \"#d8576b\"], [0.6666666666666666, \"#ed7953\"], [0.7777777777777778, \"#fb9f3a\"], [0.8888888888888888, \"#fdca26\"], [1.0, \"#f0f921\"]], \"sequentialminus\": [[0.0, \"#0d0887\"], [0.1111111111111111, \"#46039f\"], [0.2222222222222222, \"#7201a8\"], [0.3333333333333333, \"#9c179e\"], [0.4444444444444444, \"#bd3786\"], [0.5555555555555556, \"#d8576b\"], [0.6666666666666666, \"#ed7953\"], [0.7777777777777778, \"#fb9f3a\"], [0.8888888888888888, \"#fdca26\"], [1.0, \"#f0f921\"]]}, \"colorway\": [\"#636efa\", \"#EF553B\", \"#00cc96\", \"#ab63fa\", \"#FFA15A\", \"#19d3f3\", \"#FF6692\", \"#B6E880\", \"#FF97FF\", \"#FECB52\"], \"font\": {\"color\": \"#2a3f5f\"}, \"geo\": {\"bgcolor\": \"white\", \"lakecolor\": \"white\", \"landcolor\": \"#E5ECF6\", \"showlakes\": true, \"showland\": true, \"subunitcolor\": \"white\"}, \"hoverlabel\": {\"align\": \"left\"}, \"hovermode\": \"closest\", \"mapbox\": {\"style\": \"light\"}, \"paper_bgcolor\": \"white\", \"plot_bgcolor\": \"#E5ECF6\", \"polar\": {\"angularaxis\": {\"gridcolor\": \"white\", \"linecolor\": \"white\", \"ticks\": \"\"}, \"bgcolor\": \"#E5ECF6\", \"radialaxis\": {\"gridcolor\": \"white\", \"linecolor\": \"white\", \"ticks\": \"\"}}, \"scene\": {\"xaxis\": {\"backgroundcolor\": \"#E5ECF6\", \"gridcolor\": \"white\", \"gridwidth\": 2, \"linecolor\": \"white\", \"showbackground\": true, \"ticks\": \"\", \"zerolinecolor\": \"white\"}, \"yaxis\": {\"backgroundcolor\": \"#E5ECF6\", \"gridcolor\": \"white\", \"gridwidth\": 2, \"linecolor\": \"white\", \"showbackground\": true, \"ticks\": \"\", \"zerolinecolor\": \"white\"}, \"zaxis\": {\"backgroundcolor\": \"#E5ECF6\", \"gridcolor\": \"white\", \"gridwidth\": 2, \"linecolor\": \"white\", \"showbackground\": true, \"ticks\": \"\", \"zerolinecolor\": \"white\"}}, \"shapedefaults\": {\"line\": {\"color\": \"#2a3f5f\"}}, \"ternary\": {\"aaxis\": {\"gridcolor\": \"white\", \"linecolor\": \"white\", \"ticks\": \"\"}, \"baxis\": {\"gridcolor\": \"white\", \"linecolor\": \"white\", \"ticks\": \"\"}, \"bgcolor\": \"#E5ECF6\", \"caxis\": {\"gridcolor\": \"white\", \"linecolor\": \"white\", \"ticks\": \"\"}}, \"title\": {\"x\": 0.05}, \"xaxis\": {\"automargin\": true, \"gridcolor\": \"white\", \"linecolor\": \"white\", \"ticks\": \"\", \"title\": {\"standoff\": 15}, \"zerolinecolor\": \"white\", \"zerolinewidth\": 2}, \"yaxis\": {\"automargin\": true, \"gridcolor\": \"white\", \"linecolor\": \"white\", \"ticks\": \"\", \"title\": {\"standoff\": 15}, \"zerolinecolor\": \"white\", \"zerolinewidth\": 2}}}, \"title\": {\"text\": \"COVID-19 - Contamina\\u00e7\\u00e3o relativa  01-05-2020 \\nCasos a cada 10 mil habitantes - E. Logar\\u00edtimica\"}, \"xaxis\": {\"tickangle\": 0, \"tickfont\": {\"size\": 10}, \"title\": {\"text\": \"Dias desde o caso 50\"}}, \"yaxis\": {\"title\": {\"text\": \"Casos a cada 10000 hab.\"}, \"type\": \"log\"}},\n",
              "                        {\"responsive\": true}\n",
              "                    ).then(function(){\n",
              "                            \n",
              "var gd = document.getElementById('2bce09f5-ed89-45fa-9ae9-0e4f17116780');\n",
              "var x = new MutationObserver(function (mutations, observer) {{\n",
              "        var display = window.getComputedStyle(gd).display;\n",
              "        if (!display || display === 'none') {{\n",
              "            console.log([gd, 'removed!']);\n",
              "            Plotly.purge(gd);\n",
              "            observer.disconnect();\n",
              "        }}\n",
              "}});\n",
              "\n",
              "// Listen for the removal of the full notebook cells\n",
              "var notebookContainer = gd.closest('#notebook-container');\n",
              "if (notebookContainer) {{\n",
              "    x.observe(notebookContainer, {childList: true});\n",
              "}}\n",
              "\n",
              "// Listen for the clearing of the current output cell\n",
              "var outputEl = gd.closest('.output');\n",
              "if (outputEl) {{\n",
              "    x.observe(outputEl, {childList: true});\n",
              "}}\n",
              "\n",
              "                        })\n",
              "                };\n",
              "                \n",
              "            </script>\n",
              "        </div>\n",
              "</body>\n",
              "</html>"
            ]
          },
          "metadata": {
            "tags": []
          }
        }
      ]
    },
    {
      "cell_type": "markdown",
      "metadata": {
        "colab_type": "text",
        "id": "Lus3_NdWU6m3"
      },
      "source": [
        "<center> <h2> Óbitos </h2> </center>"
      ]
    },
    {
      "cell_type": "markdown",
      "metadata": {
        "id": "gzWWup5seb4G",
        "colab_type": "text"
      },
      "source": [
        "Os gráficos a seguir apresentam os óbitos contabilizados por COVID-19, nas escalas aritmética e logarítmica."
      ]
    },
    {
      "cell_type": "code",
      "metadata": {
        "id": "otGKxWg1L6qr",
        "colab_type": "code",
        "colab": {}
      },
      "source": [
        "#hide\n",
        "def preprocessing_death(data):\n",
        "  data.sort_index(ascending=False,inplace=True)\n",
        "  data['Cumulativo'] = data['cases'].cumsum()\n",
        "  data['deathcum'] = data['deaths'].cumsum()\n",
        "  data = data[data['deathcum']>=5]\n",
        "  data = data.reset_index(drop=True)\n",
        "  data = data.drop(['cases'],axis=1)\n",
        "  return data"
      ],
      "execution_count": 0,
      "outputs": []
    },
    {
      "cell_type": "code",
      "metadata": {
        "id": "Cw9l2GDmOm0z",
        "colab_type": "code",
        "colab": {}
      },
      "source": [
        "#hide\n",
        "paises_death_list = []\n",
        "for i in countries:\n",
        "  y = preprocessing_death(i)\n",
        "  paises_death_list.append(y)"
      ],
      "execution_count": 0,
      "outputs": []
    },
    {
      "cell_type": "code",
      "metadata": {
        "id": "ROM8tA2EO9ns",
        "colab_type": "code",
        "outputId": "13134106-6633-4a17-ead0-47d86d8401d1",
        "colab": {
          "base_uri": "https://localhost:8080/",
          "height": 85
        }
      },
      "source": [
        "#hide\n",
        "paises = pd.concat(paises_death_list)\n",
        "paises['indice'] = paises.index\n",
        "paises['relativa'] = 10000*(paises['Cumulativo']/paises['popData2018'])\n",
        "paises['letalidade']= 100*paises['deathcum']/paises['Cumulativo']\n",
        "paises = paises.sort_values('indice')\n",
        "paises['countriesAndTerritories'].unique()"
      ],
      "execution_count": 23,
      "outputs": [
        {
          "output_type": "execute_result",
          "data": {
            "text/plain": [
              "array(['Brazil', 'Czechia', 'Germany', 'United_States_of_America',\n",
              "       'Taiwan', 'New_Zealand', 'South_Korea', 'United_Kingdom', 'France',\n",
              "       'Japan', 'Spain', 'Portugal', 'Italy', 'Argentina', 'China'],\n",
              "      dtype=object)"
            ]
          },
          "metadata": {
            "tags": []
          },
          "execution_count": 23
        }
      ]
    },
    {
      "cell_type": "code",
      "metadata": {
        "id": "ANZ4V_sZPRPc",
        "colab_type": "code",
        "colab": {}
      },
      "source": [
        "#hide\n",
        "final_data = paises\n",
        "final_data = final_data.sort_values(['indice','countriesAndTerritories'])"
      ],
      "execution_count": 0,
      "outputs": []
    },
    {
      "cell_type": "code",
      "metadata": {
        "id": "COOdewElI6E_",
        "colab_type": "code",
        "outputId": "78e67832-307c-40e6-d76a-49af409d9f58",
        "colab": {
          "base_uri": "https://localhost:8080/",
          "height": 542
        }
      },
      "source": [
        "#hide_input\n",
        "import plotly.graph_objects as go\n",
        "fig = go.Figure()\n",
        "fig.add_trace(go.Scatter(x=final_data['indice'][final_data['countriesAndTerritories']=='Brazil'], \n",
        "                         y=final_data['deathcum'][final_data['countriesAndTerritories']=='Brazil'], name='Brasil',line=dict(color='black', width=5)))\n",
        "fig.add_trace(go.Scatter(x=final_data['indice'][final_data['countriesAndTerritories']=='France'], \n",
        "                         y=final_data['deathcum'][final_data['countriesAndTerritories']=='France'], name='França',line=dict(color='red', width=2)))\n",
        "fig.add_trace(go.Scatter(x=final_data['indice'][final_data['countriesAndTerritories']=='Spain'], \n",
        "                         y=final_data['deathcum'][final_data['countriesAndTerritories']=='Spain'], name='Espanha',line=dict(color='blue', width=2)))\n",
        "fig.add_trace(go.Scatter(x=final_data['indice'][final_data['countriesAndTerritories']=='Italy'], \n",
        "                         y=final_data['deathcum'][final_data['countriesAndTerritories']=='Italy'], name='Itália',line=dict(color='green', width=2)))\n",
        "fig.add_trace(go.Scatter(x=final_data['indice'][final_data['countriesAndTerritories']=='United_Kingdom'], \n",
        "                         y=final_data['deathcum'][final_data['countriesAndTerritories']=='United_Kingdom'], name='Reino Unido',line=dict(color='yellowgreen', width=2)))\n",
        "fig.add_trace(go.Scatter(x=final_data['indice'][final_data['countriesAndTerritories']=='Argentina'], \n",
        "                         y=final_data['deathcum'][final_data['countriesAndTerritories']=='Argentina'],mode='lines', name='Argentina',line=dict(color='darkgreen', width=2)))\n",
        "fig.add_trace(go.Scatter(x=final_data['indice'][final_data['countriesAndTerritories']=='Germany'], \n",
        "                         y=final_data['deathcum'][final_data['countriesAndTerritories']=='Germany'], name='Alemanha',line=dict(color='darkslateblue', width=2)))\n",
        "fig.add_trace(go.Scatter(x=final_data['indice'][final_data['countriesAndTerritories']=='United_States_of_America'], \n",
        "                         y=final_data['deathcum'][final_data['countriesAndTerritories']=='United_States_of_America'], name='EUA',line=dict(color='mediumpurple', width=2)))\n",
        "fig.add_trace(go.Scatter(x=final_data['indice'][final_data['countriesAndTerritories']=='New_Zealand'], \n",
        "                         y=final_data['deathcum'][final_data['countriesAndTerritories']=='New_Zealand'],mode='lines', name='Nova Zelândia',line=dict(color='yellow', width=2)))\n",
        "fig.add_trace(go.Scatter(x=final_data['indice'][final_data['countriesAndTerritories']=='Portugal'], \n",
        "                         y=final_data['deathcum'][final_data['countriesAndTerritories']=='Portugal'], name='Portugal',line=dict(color='darkgrey', width=2)))\n",
        "\n",
        "\n",
        "fig.add_trace(go.Scatter(x=final_data['indice'][final_data['countriesAndTerritories']=='Czechia'], \n",
        "                         y=final_data['deathcum'][final_data['countriesAndTerritories']=='Czechia'],mode='lines', name='República Tcheca',line=dict(color='magenta', width=2)))\n",
        "fig.add_trace(go.Scatter(x=final_data['indice'][final_data['countriesAndTerritories']=='South_Korea'], \n",
        "                         y=final_data['deathcum'][final_data['countriesAndTerritories']=='South_Korea'], name='Coréia do Sul',line=dict(color='brown', width=2)))\n",
        "fig.add_trace(go.Scatter(x=final_data['indice'][final_data['countriesAndTerritories']=='Taiwan'], \n",
        "                         y=final_data['deathcum'][final_data['countriesAndTerritories']=='Taiwan'],mode='lines', name='Taiwan',line=dict(color='grey', width=2)))\n",
        "fig.add_trace(go.Scatter(x=final_data['indice'][final_data['countriesAndTerritories']=='Hong_Kong'], \n",
        "                         y=final_data['deathcum'][final_data['countriesAndTerritories']=='Hong_Kong'], name='Hong Kong',line=dict(color='lavenderblush', width=2)))\n",
        "fig.add_trace(go.Scatter(x=final_data['indice'][final_data['countriesAndTerritories']=='Japan'], \n",
        "                         y=final_data['deathcum'][final_data['countriesAndTerritories']=='Japan'], name='Japão',line=dict(color='pink', width=2)))\n",
        "fig.add_trace(go.Scatter(x=final_data['indice'][final_data['countriesAndTerritories']=='China'], \n",
        "                         y=final_data['deathcum'][final_data['countriesAndTerritories']=='China'], name='China',line=dict(color='lightgreen', width=2)))\n",
        "\n",
        "fig.update_xaxes(tickangle=0, tickfont=dict(size=10))\n",
        "\n",
        "\n",
        "fig.update_layout(title='COVID-19 - Óbitos-  {} - E. Aritmética' .format(today),\n",
        "                   xaxis_title='Dias desde o 5º óbito',\n",
        "                   yaxis_title='Óbitos',legend= {'borderwidth':0,'orientation':'v','yanchor':'top','font':{'size':8}})"
      ],
      "execution_count": 25,
      "outputs": [
        {
          "output_type": "display_data",
          "data": {
            "text/html": [
              "<html>\n",
              "<head><meta charset=\"utf-8\" /></head>\n",
              "<body>\n",
              "    <div>\n",
              "            <script src=\"https://cdnjs.cloudflare.com/ajax/libs/mathjax/2.7.5/MathJax.js?config=TeX-AMS-MML_SVG\"></script><script type=\"text/javascript\">if (window.MathJax) {MathJax.Hub.Config({SVG: {font: \"STIX-Web\"}});}</script>\n",
              "                <script type=\"text/javascript\">window.PlotlyConfig = {MathJaxConfig: 'local'};</script>\n",
              "        <script src=\"https://cdn.plot.ly/plotly-latest.min.js\"></script>    \n",
              "            <div id=\"2e9b3b3e-1c8f-4dc0-b280-29bcf7624a43\" class=\"plotly-graph-div\" style=\"height:525px; width:100%;\"></div>\n",
              "            <script type=\"text/javascript\">\n",
              "                \n",
              "                    window.PLOTLYENV=window.PLOTLYENV || {};\n",
              "                    \n",
              "                if (document.getElementById(\"2e9b3b3e-1c8f-4dc0-b280-29bcf7624a43\")) {\n",
              "                    Plotly.newPlot(\n",
              "                        '2e9b3b3e-1c8f-4dc0-b280-29bcf7624a43',\n",
              "                        [{\"line\": {\"color\": \"black\", \"width\": 5}, \"name\": \"Brasil\", \"type\": \"scatter\", \"x\": [0, 1, 2, 3, 4, 5, 6, 7, 8, 9, 10, 11, 12, 13, 14, 15, 16, 17, 18, 19, 20, 21, 22, 23, 24, 25, 26, 27, 28, 29, 30, 31, 32, 33, 34, 35, 36, 37, 38, 39, 40, 41, 42], \"y\": [6, 11, 18, 25, 34, 46, 57, 77, 92, 114, 136, 159, 201, 241, 299, 359, 432, 486, 553, 667, 800, 941, 1056, 1124, 1223, 1328, 1532, 1736, 1924, 2141, 2347, 2462, 2575, 2741, 2906, 3313, 3670, 4016, 4205, 4543, 5017, 5466, 5901]}, {\"line\": {\"color\": \"red\", \"width\": 2}, \"name\": \"Fran\\u00e7a\", \"type\": \"scatter\", \"x\": [0, 1, 2, 3, 4, 5, 6, 7, 8, 9, 10, 11, 12, 13, 14, 15, 16, 17, 18, 19, 20, 21, 22, 23, 24, 25, 26, 27, 28, 29, 30, 31, 32, 33, 34, 35, 36, 37, 38, 39, 40, 41, 42, 43, 44, 45, 46, 47, 48, 49, 50, 51, 52, 53, 54, 55, 56], \"y\": [7, 9, 10, 19, 30, 33, 48, 61, 79, 91, 127, 148, 175, 244, 372, 450, 562, 674, 860, 1100, 1331, 1696, 1995, 2314, 2606, 3024, 3523, 4032, 4503, 6507, 7560, 8078, 8911, 10328, 10869, 12210, 13197, 13832, 14393, 14967, 15729, 17167, 17920, 18681, 19323, 19718, 20265, 20796, 21340, 21856, 22245, 22614, 22856, 23293, 23660, 24087, 24376]}, {\"line\": {\"color\": \"blue\", \"width\": 2}, \"name\": \"Espanha\", \"type\": \"scatter\", \"x\": [0, 1, 2, 3, 4, 5, 6, 7, 8, 9, 10, 11, 12, 13, 14, 15, 16, 17, 18, 19, 20, 21, 22, 23, 24, 25, 26, 27, 28, 29, 30, 31, 32, 33, 34, 35, 36, 37, 38, 39, 40, 41, 42, 43, 44, 45, 46, 47, 48, 49, 50, 51, 52, 53, 54], \"y\": [5, 5, 5, 28, 35, 47, 84, 121, 136, 288, 309, 491, 598, 767, 1002, 1326, 1720, 2182, 2696, 3434, 4089, 4858, 5690, 6528, 7340, 8189, 9053, 10003, 10935, 11744, 12418, 13055, 13798, 14555, 15238, 15843, 16353, 16972, 17489, 18276, 18893, 19478, 20043, 20453, 20852, 21282, 21717, 22157, 22524, 22902, 23190, 23190, 23822, 24275, 24543]}, {\"line\": {\"color\": \"green\", \"width\": 2}, \"name\": \"It\\u00e1lia\", \"type\": \"scatter\", \"x\": [0, 1, 2, 3, 4, 5, 6, 7, 8, 9, 10, 11, 12, 13, 14, 15, 16, 17, 18, 19, 20, 21, 22, 23, 24, 25, 26, 27, 28, 29, 30, 31, 32, 33, 34, 35, 36, 37, 38, 39, 40, 41, 42, 43, 44, 45, 46, 47, 48, 49, 50, 51, 52, 53, 54, 55, 56, 57, 58, 59, 60, 61, 62, 63, 64, 65, 66], \"y\": [6, 11, 12, 17, 21, 29, 35, 52, 80, 107, 148, 197, 233, 366, 464, 631, 827, 1016, 1268, 1441, 1811, 2158, 2505, 2978, 3407, 4032, 4827, 5476, 6077, 6820, 7505, 8165, 9136, 10023, 10781, 11591, 12430, 13157, 13917, 14681, 15362, 15889, 16525, 17129, 17669, 18281, 18851, 19470, 19901, 20465, 21069, 21647, 22172, 22747, 23227, 23660, 24114, 24648, 25085, 25549, 25969, 26384, 26644, 26977, 27359, 27682, 27967]}, {\"line\": {\"color\": \"yellowgreen\", \"width\": 2}, \"name\": \"Reino Unido\", \"type\": \"scatter\", \"x\": [0, 1, 2, 3, 4, 5, 6, 7, 8, 9, 10, 11, 12, 13, 14, 15, 16, 17, 18, 19, 20, 21, 22, 23, 24, 25, 26, 27, 28, 29, 30, 31, 32, 33, 34, 35, 36, 37, 38, 39, 40, 41, 42, 43, 44, 45, 46, 47, 48, 49, 50, 51], \"y\": [7, 7, 9, 10, 28, 43, 65, 81, 115, 158, 194, 250, 285, 359, 508, 694, 877, 1161, 1455, 1669, 2043, 2425, 3095, 3747, 4461, 5221, 5865, 6433, 7471, 8505, 9608, 10760, 11599, 12285, 13029, 14073, 14915, 15944, 16879, 17994, 18492, 19051, 20223, 21060, 21787, 22792, 23635, 24055, 24393, 25302, 26097, 26771]}, {\"line\": {\"color\": \"darkgreen\", \"width\": 2}, \"mode\": \"lines\", \"name\": \"Argentina\", \"type\": \"scatter\", \"x\": [0, 1, 2, 3, 4, 5, 6, 7, 8, 9, 10, 11, 12, 13, 14, 15, 16, 17, 18, 19, 20, 21, 22, 23, 24, 25, 26, 27, 28, 29, 30, 31, 32, 33, 34, 35, 36, 37], \"y\": [6, 8, 12, 17, 19, 20, 24, 24, 31, 34, 37, 43, 46, 53, 60, 65, 79, 82, 89, 95, 98, 105, 109, 115, 122, 132, 134, 142, 151, 159, 165, 167, 185, 186, 197, 207, 214, 218]}, {\"line\": {\"color\": \"darkslateblue\", \"width\": 2}, \"name\": \"Alemanha\", \"type\": \"scatter\", \"x\": [0, 1, 2, 3, 4, 5, 6, 7, 8, 9, 10, 11, 12, 13, 14, 15, 16, 17, 18, 19, 20, 21, 22, 23, 24, 25, 26, 27, 28, 29, 30, 31, 32, 33, 34, 35, 36, 37, 38, 39, 40, 41, 42, 43, 44, 45, 46, 47, 48, 49], \"y\": [5, 5, 8, 12, 13, 13, 13, 43, 45, 67, 94, 126, 149, 198, 253, 325, 389, 455, 583, 732, 872, 1017, 1158, 1342, 1434, 1607, 1861, 2107, 2373, 2544, 2673, 2799, 2969, 3254, 3569, 3868, 4110, 4294, 4404, 4598, 4879, 5094, 5321, 5500, 5640, 5750, 5913, 6115, 6288, 6288]}, {\"line\": {\"color\": \"mediumpurple\", \"width\": 2}, \"name\": \"EUA\", \"type\": \"scatter\", \"x\": [0, 1, 2, 3, 4, 5, 6, 7, 8, 9, 10, 11, 12, 13, 14, 15, 16, 17, 18, 19, 20, 21, 22, 23, 24, 25, 26, 27, 28, 29, 30, 31, 32, 33, 34, 35, 36, 37, 38, 39, 40, 41, 42, 43, 44, 45, 46, 47, 48, 49, 50, 51, 52, 53, 54, 55, 56, 57, 58, 59], \"y\": [6, 9, 11, 12, 14, 17, 21, 26, 28, 30, 40, 47, 57, 69, 85, 108, 150, 150, 260, 340, 471, 590, 801, 1050, 1296, 1707, 2191, 2509, 3170, 4079, 5138, 6053, 7157, 8501, 9647, 10989, 12895, 14817, 16690, 18777, 20608, 22108, 23649, 26057, 30985, 33284, 37054, 38910, 40682, 42539, 45063, 46784, 49963, 51017, 53189, 54876, 56245, 58355, 60966, 63006]}, {\"line\": {\"color\": \"yellow\", \"width\": 2}, \"mode\": \"lines\", \"name\": \"Nova Zel\\u00e2ndia\", \"type\": \"scatter\", \"x\": [0, 1, 2, 3, 4, 5, 6, 7, 8, 9, 10, 11, 12, 13, 14, 15, 16, 17, 18], \"y\": [5, 9, 9, 9, 11, 11, 12, 12, 13, 14, 16, 17, 18, 18, 19, 19, 19, 19, 19]}, {\"line\": {\"color\": \"darkgrey\", \"width\": 2}, \"name\": \"Portugal\", \"type\": \"scatter\", \"x\": [0, 1, 2, 3, 4, 5, 6, 7, 8, 9, 10, 11, 12, 13, 14, 15, 16, 17, 18, 19, 20, 21, 22, 23, 24, 25, 26, 27, 28, 29, 30, 31, 32, 33, 34, 35, 36, 37, 38, 39, 40, 41], \"y\": [6, 12, 14, 23, 33, 43, 60, 76, 100, 119, 140, 160, 187, 209, 246, 266, 295, 311, 345, 380, 409, 435, 470, 504, 535, 567, 599, 629, 657, 687, 714, 735, 762, 785, 820, 854, 880, 903, 928, 948, 973, 989]}, {\"line\": {\"color\": \"magenta\", \"width\": 2}, \"mode\": \"lines\", \"name\": \"Rep\\u00fablica Tcheca\", \"type\": \"scatter\", \"x\": [0, 1, 2, 3, 4, 5, 6, 7, 8, 9, 10, 11, 12, 13, 14, 15, 16, 17, 18, 19, 20, 21, 22, 23, 24, 25, 26, 27, 28, 29, 30, 31, 32, 33, 34, 35, 36], \"y\": [6, 9, 9, 11, 16, 24, 31, 39, 44, 53, 59, 67, 78, 88, 99, 112, 119, 129, 138, 143, 161, 166, 169, 173, 181, 188, 196, 201, 210, 213, 215, 218, 221, 223, 227, 227, 236]}, {\"line\": {\"color\": \"brown\", \"width\": 2}, \"name\": \"Cor\\u00e9ia do Sul\", \"type\": \"scatter\", \"x\": [0, 1, 2, 3, 4, 5, 6, 7, 8, 9, 10, 11, 12, 13, 14, 15, 16, 17, 18, 19, 20, 21, 22, 23, 24, 25, 26, 27, 28, 29, 30, 31, 32, 33, 34, 35, 36, 37, 38, 39, 40, 41, 42, 43, 44, 45, 46, 47, 48, 49, 50, 51, 52, 53, 54, 55, 56, 57, 58, 59, 60, 61, 62, 63, 64, 65, 66, 67, 68], \"y\": [5, 7, 8, 11, 12, 13, 16, 17, 22, 28, 32, 35, 42, 44, 50, 51, 54, 60, 66, 67, 72, 75, 75, 81, 86, 91, 100, 103, 104, 113, 120, 126, 131, 139, 144, 152, 158, 163, 163, 169, 174, 177, 183, 186, 192, 200, 204, 208, 208, 214, 217, 222, 225, 229, 230, 232, 234, 236, 237, 238, 240, 240, 240, 242, 243, 244, 246, 247, 248]}, {\"line\": {\"color\": \"grey\", \"width\": 2}, \"mode\": \"lines\", \"name\": \"Taiwan\", \"type\": \"scatter\", \"x\": [0, 1, 2, 3, 4, 5, 6, 7, 8, 9, 10, 11, 12, 13, 14, 15, 16, 17, 18, 19, 20, 21, 22, 23, 24, 25, 26, 27, 28, 29, 30, 31, 32], \"y\": [5, 5, 5, 5, 5, 5, 5, 5, 5, 5, 5, 5, 5, 6, 6, 6, 6, 6, 6, 6, 6, 6, 6, 6, 6, 6, 6, 6, 6, 6, 6, 6, 6]}, {\"line\": {\"color\": \"lavenderblush\", \"width\": 2}, \"name\": \"Hong Kong\", \"type\": \"scatter\", \"x\": [], \"y\": []}, {\"line\": {\"color\": \"pink\", \"width\": 2}, \"name\": \"Jap\\u00e3o\", \"type\": \"scatter\", \"x\": [0, 1, 2, 3, 4, 5, 6, 7, 8, 9, 10, 11, 12, 13, 14, 15, 16, 17, 18, 19, 20, 21, 22, 23, 24, 25, 26, 27, 28, 29, 30, 31, 32, 33, 34, 35, 36, 37, 38, 39, 40, 41, 42, 43, 44, 45, 46, 47, 48, 49, 50, 51, 52, 53, 54, 55, 56, 57, 58, 59, 60, 61], \"y\": [5, 6, 6, 6, 6, 6, 6, 6, 7, 9, 12, 15, 19, 21, 22, 24, 28, 28, 29, 33, 35, 36, 41, 42, 43, 45, 46, 49, 52, 54, 56, 56, 57, 63, 69, 70, 73, 80, 80, 81, 85, 88, 98, 102, 109, 119, 136, 148, 154, 161, 171, 186, 186, 287, 317, 334, 348, 351, 376, 389, 415, 432]}, {\"line\": {\"color\": \"lightgreen\", \"width\": 2}, \"name\": \"China\", \"type\": \"scatter\", \"x\": [0, 1, 2, 3, 4, 5, 6, 7, 8, 9, 10, 11, 12, 13, 14, 15, 16, 17, 18, 19, 20, 21, 22, 23, 24, 25, 26, 27, 28, 29, 30, 31, 32, 33, 34, 35, 36, 37, 38, 39, 40, 41, 42, 43, 44, 45, 46, 47, 48, 49, 50, 51, 52, 53, 54, 55, 56, 57, 58, 59, 60, 61, 62, 63, 64, 65, 66, 67, 68, 69, 70, 71, 72, 73, 74, 75, 76, 77, 78, 79, 80, 81, 82, 83, 84, 85, 86, 87, 88, 89, 90, 91, 92, 93, 94, 95, 96, 97, 98, 99, 100, 101], \"y\": [6, 17, 17, 26, 41, 56, 81, 106, 132, 170, 213, 259, 304, 361, 426, 492, 564, 637, 723, 812, 909, 1017, 1114, 1368, 1381, 1524, 1666, 1771, 1869, 2008, 2120, 2238, 2347, 2445, 2595, 2665, 2717, 2746, 2790, 2837, 2872, 2914, 2946, 2983, 3014, 3044, 3072, 3099, 3122, 3139, 3161, 3172, 3179, 3194, 3203, 3216, 3225, 3241, 3249, 3253, 3259, 3265, 3274, 3281, 3285, 3291, 3296, 3299, 3304, 3306, 3309, 3310, 3316, 3326, 3330, 3333, 3335, 3335, 3337, 3339, 3340, 3343, 3343, 3345, 3345, 3346, 3346, 4636, 4636, 4636, 4636, 4636, 4636, 4636, 4636, 4636, 4636, 4637, 4637, 4637, 4637, 4637]}],\n",
              "                        {\"legend\": {\"borderwidth\": 0, \"font\": {\"size\": 8}, \"orientation\": \"v\", \"yanchor\": \"top\"}, \"template\": {\"data\": {\"bar\": [{\"error_x\": {\"color\": \"#2a3f5f\"}, \"error_y\": {\"color\": \"#2a3f5f\"}, \"marker\": {\"line\": {\"color\": \"#E5ECF6\", \"width\": 0.5}}, \"type\": \"bar\"}], \"barpolar\": [{\"marker\": {\"line\": {\"color\": \"#E5ECF6\", \"width\": 0.5}}, \"type\": \"barpolar\"}], \"carpet\": [{\"aaxis\": {\"endlinecolor\": \"#2a3f5f\", \"gridcolor\": \"white\", \"linecolor\": \"white\", \"minorgridcolor\": \"white\", \"startlinecolor\": \"#2a3f5f\"}, \"baxis\": {\"endlinecolor\": \"#2a3f5f\", \"gridcolor\": \"white\", \"linecolor\": \"white\", \"minorgridcolor\": \"white\", \"startlinecolor\": \"#2a3f5f\"}, \"type\": \"carpet\"}], \"choropleth\": [{\"colorbar\": {\"outlinewidth\": 0, \"ticks\": \"\"}, \"type\": \"choropleth\"}], \"contour\": [{\"colorbar\": {\"outlinewidth\": 0, \"ticks\": \"\"}, \"colorscale\": [[0.0, \"#0d0887\"], [0.1111111111111111, \"#46039f\"], [0.2222222222222222, \"#7201a8\"], [0.3333333333333333, \"#9c179e\"], [0.4444444444444444, \"#bd3786\"], [0.5555555555555556, \"#d8576b\"], [0.6666666666666666, \"#ed7953\"], [0.7777777777777778, \"#fb9f3a\"], [0.8888888888888888, \"#fdca26\"], [1.0, \"#f0f921\"]], \"type\": \"contour\"}], \"contourcarpet\": [{\"colorbar\": {\"outlinewidth\": 0, \"ticks\": \"\"}, \"type\": \"contourcarpet\"}], \"heatmap\": [{\"colorbar\": {\"outlinewidth\": 0, \"ticks\": \"\"}, \"colorscale\": [[0.0, \"#0d0887\"], [0.1111111111111111, \"#46039f\"], [0.2222222222222222, \"#7201a8\"], [0.3333333333333333, \"#9c179e\"], [0.4444444444444444, \"#bd3786\"], [0.5555555555555556, \"#d8576b\"], [0.6666666666666666, \"#ed7953\"], [0.7777777777777778, \"#fb9f3a\"], [0.8888888888888888, \"#fdca26\"], [1.0, \"#f0f921\"]], \"type\": \"heatmap\"}], \"heatmapgl\": [{\"colorbar\": {\"outlinewidth\": 0, \"ticks\": \"\"}, \"colorscale\": [[0.0, \"#0d0887\"], [0.1111111111111111, \"#46039f\"], [0.2222222222222222, \"#7201a8\"], [0.3333333333333333, \"#9c179e\"], [0.4444444444444444, \"#bd3786\"], [0.5555555555555556, \"#d8576b\"], [0.6666666666666666, \"#ed7953\"], [0.7777777777777778, \"#fb9f3a\"], [0.8888888888888888, \"#fdca26\"], [1.0, \"#f0f921\"]], \"type\": \"heatmapgl\"}], \"histogram\": [{\"marker\": {\"colorbar\": {\"outlinewidth\": 0, \"ticks\": \"\"}}, \"type\": \"histogram\"}], \"histogram2d\": [{\"colorbar\": {\"outlinewidth\": 0, \"ticks\": \"\"}, \"colorscale\": [[0.0, \"#0d0887\"], [0.1111111111111111, \"#46039f\"], [0.2222222222222222, \"#7201a8\"], [0.3333333333333333, \"#9c179e\"], [0.4444444444444444, \"#bd3786\"], [0.5555555555555556, \"#d8576b\"], [0.6666666666666666, \"#ed7953\"], [0.7777777777777778, \"#fb9f3a\"], [0.8888888888888888, \"#fdca26\"], [1.0, \"#f0f921\"]], \"type\": \"histogram2d\"}], \"histogram2dcontour\": [{\"colorbar\": {\"outlinewidth\": 0, \"ticks\": \"\"}, \"colorscale\": [[0.0, \"#0d0887\"], [0.1111111111111111, \"#46039f\"], [0.2222222222222222, \"#7201a8\"], [0.3333333333333333, \"#9c179e\"], [0.4444444444444444, \"#bd3786\"], [0.5555555555555556, \"#d8576b\"], [0.6666666666666666, \"#ed7953\"], [0.7777777777777778, \"#fb9f3a\"], [0.8888888888888888, \"#fdca26\"], [1.0, \"#f0f921\"]], \"type\": \"histogram2dcontour\"}], \"mesh3d\": [{\"colorbar\": {\"outlinewidth\": 0, \"ticks\": \"\"}, \"type\": \"mesh3d\"}], \"parcoords\": [{\"line\": {\"colorbar\": {\"outlinewidth\": 0, \"ticks\": \"\"}}, \"type\": \"parcoords\"}], \"pie\": [{\"automargin\": true, \"type\": \"pie\"}], \"scatter\": [{\"marker\": {\"colorbar\": {\"outlinewidth\": 0, \"ticks\": \"\"}}, \"type\": \"scatter\"}], \"scatter3d\": [{\"line\": {\"colorbar\": {\"outlinewidth\": 0, \"ticks\": \"\"}}, \"marker\": {\"colorbar\": {\"outlinewidth\": 0, \"ticks\": \"\"}}, \"type\": \"scatter3d\"}], \"scattercarpet\": [{\"marker\": {\"colorbar\": {\"outlinewidth\": 0, \"ticks\": \"\"}}, \"type\": \"scattercarpet\"}], \"scattergeo\": [{\"marker\": {\"colorbar\": {\"outlinewidth\": 0, \"ticks\": \"\"}}, \"type\": \"scattergeo\"}], \"scattergl\": [{\"marker\": {\"colorbar\": {\"outlinewidth\": 0, \"ticks\": \"\"}}, \"type\": \"scattergl\"}], \"scattermapbox\": [{\"marker\": {\"colorbar\": {\"outlinewidth\": 0, \"ticks\": \"\"}}, \"type\": \"scattermapbox\"}], \"scatterpolar\": [{\"marker\": {\"colorbar\": {\"outlinewidth\": 0, \"ticks\": \"\"}}, \"type\": \"scatterpolar\"}], \"scatterpolargl\": [{\"marker\": {\"colorbar\": {\"outlinewidth\": 0, \"ticks\": \"\"}}, \"type\": \"scatterpolargl\"}], \"scatterternary\": [{\"marker\": {\"colorbar\": {\"outlinewidth\": 0, \"ticks\": \"\"}}, \"type\": \"scatterternary\"}], \"surface\": [{\"colorbar\": {\"outlinewidth\": 0, \"ticks\": \"\"}, \"colorscale\": [[0.0, \"#0d0887\"], [0.1111111111111111, \"#46039f\"], [0.2222222222222222, \"#7201a8\"], [0.3333333333333333, \"#9c179e\"], [0.4444444444444444, \"#bd3786\"], [0.5555555555555556, \"#d8576b\"], [0.6666666666666666, \"#ed7953\"], [0.7777777777777778, \"#fb9f3a\"], [0.8888888888888888, \"#fdca26\"], [1.0, \"#f0f921\"]], \"type\": \"surface\"}], \"table\": [{\"cells\": {\"fill\": {\"color\": \"#EBF0F8\"}, \"line\": {\"color\": \"white\"}}, \"header\": {\"fill\": {\"color\": \"#C8D4E3\"}, \"line\": {\"color\": \"white\"}}, \"type\": \"table\"}]}, \"layout\": {\"annotationdefaults\": {\"arrowcolor\": \"#2a3f5f\", \"arrowhead\": 0, \"arrowwidth\": 1}, \"coloraxis\": {\"colorbar\": {\"outlinewidth\": 0, \"ticks\": \"\"}}, \"colorscale\": {\"diverging\": [[0, \"#8e0152\"], [0.1, \"#c51b7d\"], [0.2, \"#de77ae\"], [0.3, \"#f1b6da\"], [0.4, \"#fde0ef\"], [0.5, \"#f7f7f7\"], [0.6, \"#e6f5d0\"], [0.7, \"#b8e186\"], [0.8, \"#7fbc41\"], [0.9, \"#4d9221\"], [1, \"#276419\"]], \"sequential\": [[0.0, \"#0d0887\"], [0.1111111111111111, \"#46039f\"], [0.2222222222222222, \"#7201a8\"], [0.3333333333333333, \"#9c179e\"], [0.4444444444444444, \"#bd3786\"], [0.5555555555555556, \"#d8576b\"], [0.6666666666666666, \"#ed7953\"], [0.7777777777777778, \"#fb9f3a\"], [0.8888888888888888, \"#fdca26\"], [1.0, \"#f0f921\"]], \"sequentialminus\": [[0.0, \"#0d0887\"], [0.1111111111111111, \"#46039f\"], [0.2222222222222222, \"#7201a8\"], [0.3333333333333333, \"#9c179e\"], [0.4444444444444444, \"#bd3786\"], [0.5555555555555556, \"#d8576b\"], [0.6666666666666666, \"#ed7953\"], [0.7777777777777778, \"#fb9f3a\"], [0.8888888888888888, \"#fdca26\"], [1.0, \"#f0f921\"]]}, \"colorway\": [\"#636efa\", \"#EF553B\", \"#00cc96\", \"#ab63fa\", \"#FFA15A\", \"#19d3f3\", \"#FF6692\", \"#B6E880\", \"#FF97FF\", \"#FECB52\"], \"font\": {\"color\": \"#2a3f5f\"}, \"geo\": {\"bgcolor\": \"white\", \"lakecolor\": \"white\", \"landcolor\": \"#E5ECF6\", \"showlakes\": true, \"showland\": true, \"subunitcolor\": \"white\"}, \"hoverlabel\": {\"align\": \"left\"}, \"hovermode\": \"closest\", \"mapbox\": {\"style\": \"light\"}, \"paper_bgcolor\": \"white\", \"plot_bgcolor\": \"#E5ECF6\", \"polar\": {\"angularaxis\": {\"gridcolor\": \"white\", \"linecolor\": \"white\", \"ticks\": \"\"}, \"bgcolor\": \"#E5ECF6\", \"radialaxis\": {\"gridcolor\": \"white\", \"linecolor\": \"white\", \"ticks\": \"\"}}, \"scene\": {\"xaxis\": {\"backgroundcolor\": \"#E5ECF6\", \"gridcolor\": \"white\", \"gridwidth\": 2, \"linecolor\": \"white\", \"showbackground\": true, \"ticks\": \"\", \"zerolinecolor\": \"white\"}, \"yaxis\": {\"backgroundcolor\": \"#E5ECF6\", \"gridcolor\": \"white\", \"gridwidth\": 2, \"linecolor\": \"white\", \"showbackground\": true, \"ticks\": \"\", \"zerolinecolor\": \"white\"}, \"zaxis\": {\"backgroundcolor\": \"#E5ECF6\", \"gridcolor\": \"white\", \"gridwidth\": 2, \"linecolor\": \"white\", \"showbackground\": true, \"ticks\": \"\", \"zerolinecolor\": \"white\"}}, \"shapedefaults\": {\"line\": {\"color\": \"#2a3f5f\"}}, \"ternary\": {\"aaxis\": {\"gridcolor\": \"white\", \"linecolor\": \"white\", \"ticks\": \"\"}, \"baxis\": {\"gridcolor\": \"white\", \"linecolor\": \"white\", \"ticks\": \"\"}, \"bgcolor\": \"#E5ECF6\", \"caxis\": {\"gridcolor\": \"white\", \"linecolor\": \"white\", \"ticks\": \"\"}}, \"title\": {\"x\": 0.05}, \"xaxis\": {\"automargin\": true, \"gridcolor\": \"white\", \"linecolor\": \"white\", \"ticks\": \"\", \"title\": {\"standoff\": 15}, \"zerolinecolor\": \"white\", \"zerolinewidth\": 2}, \"yaxis\": {\"automargin\": true, \"gridcolor\": \"white\", \"linecolor\": \"white\", \"ticks\": \"\", \"title\": {\"standoff\": 15}, \"zerolinecolor\": \"white\", \"zerolinewidth\": 2}}}, \"title\": {\"text\": \"COVID-19 - \\u00d3bitos-  01-05-2020 - E. Aritm\\u00e9tica\"}, \"xaxis\": {\"tickangle\": 0, \"tickfont\": {\"size\": 10}, \"title\": {\"text\": \"Dias desde o 5\\u00ba \\u00f3bito\"}}, \"yaxis\": {\"title\": {\"text\": \"\\u00d3bitos\"}}},\n",
              "                        {\"responsive\": true}\n",
              "                    ).then(function(){\n",
              "                            \n",
              "var gd = document.getElementById('2e9b3b3e-1c8f-4dc0-b280-29bcf7624a43');\n",
              "var x = new MutationObserver(function (mutations, observer) {{\n",
              "        var display = window.getComputedStyle(gd).display;\n",
              "        if (!display || display === 'none') {{\n",
              "            console.log([gd, 'removed!']);\n",
              "            Plotly.purge(gd);\n",
              "            observer.disconnect();\n",
              "        }}\n",
              "}});\n",
              "\n",
              "// Listen for the removal of the full notebook cells\n",
              "var notebookContainer = gd.closest('#notebook-container');\n",
              "if (notebookContainer) {{\n",
              "    x.observe(notebookContainer, {childList: true});\n",
              "}}\n",
              "\n",
              "// Listen for the clearing of the current output cell\n",
              "var outputEl = gd.closest('.output');\n",
              "if (outputEl) {{\n",
              "    x.observe(outputEl, {childList: true});\n",
              "}}\n",
              "\n",
              "                        })\n",
              "                };\n",
              "                \n",
              "            </script>\n",
              "        </div>\n",
              "</body>\n",
              "</html>"
            ]
          },
          "metadata": {
            "tags": []
          }
        }
      ]
    },
    {
      "cell_type": "code",
      "metadata": {
        "id": "-vWZL8YNJQut",
        "colab_type": "code",
        "outputId": "e61143c4-79b4-4dbb-d9d7-9903e83163a2",
        "colab": {
          "base_uri": "https://localhost:8080/",
          "height": 542
        }
      },
      "source": [
        "#hide_input\n",
        "import plotly.graph_objects as go\n",
        "fig = go.Figure()\n",
        "fig.add_trace(go.Scatter(x=final_data['indice'][final_data['countriesAndTerritories']=='Brazil'], \n",
        "                         y=final_data['deathcum'][final_data['countriesAndTerritories']=='Brazil'], name='Brasil',line=dict(color='black', width=5)))\n",
        "fig.add_trace(go.Scatter(x=final_data['indice'][final_data['countriesAndTerritories']=='France'], \n",
        "                         y=final_data['deathcum'][final_data['countriesAndTerritories']=='France'], name='França',line=dict(color='red', width=2)))\n",
        "fig.add_trace(go.Scatter(x=final_data['indice'][final_data['countriesAndTerritories']=='Spain'], \n",
        "                         y=final_data['deathcum'][final_data['countriesAndTerritories']=='Spain'], name='Espanha',line=dict(color='blue', width=2)))\n",
        "fig.add_trace(go.Scatter(x=final_data['indice'][final_data['countriesAndTerritories']=='Italy'], \n",
        "                         y=final_data['deathcum'][final_data['countriesAndTerritories']=='Italy'], name='Itália',line=dict(color='green', width=2)))\n",
        "fig.add_trace(go.Scatter(x=final_data['indice'][final_data['countriesAndTerritories']=='United_Kingdom'], \n",
        "                         y=final_data['deathcum'][final_data['countriesAndTerritories']=='United_Kingdom'], name='Reino Unido',line=dict(color='yellowgreen', width=2)))\n",
        "fig.add_trace(go.Scatter(x=final_data['indice'][final_data['countriesAndTerritories']=='Argentina'], \n",
        "                         y=final_data['deathcum'][final_data['countriesAndTerritories']=='Argentina'],mode='lines', name='Argentina',line=dict(color='darkgreen', width=2)))\n",
        "fig.add_trace(go.Scatter(x=final_data['indice'][final_data['countriesAndTerritories']=='Germany'], \n",
        "                         y=final_data['deathcum'][final_data['countriesAndTerritories']=='Germany'], name='Alemanha',line=dict(color='darkslateblue', width=2)))\n",
        "fig.add_trace(go.Scatter(x=final_data['indice'][final_data['countriesAndTerritories']=='United_States_of_America'], \n",
        "                         y=final_data['deathcum'][final_data['countriesAndTerritories']=='United_States_of_America'], name='EUA',line=dict(color='mediumpurple', width=2)))\n",
        "fig.add_trace(go.Scatter(x=final_data['indice'][final_data['countriesAndTerritories']=='New_Zealand'], \n",
        "                         y=final_data['deathcum'][final_data['countriesAndTerritories']=='New_Zealand'],mode='lines', name='Nova Zelândia',line=dict(color='yellow', width=2)))\n",
        "fig.add_trace(go.Scatter(x=final_data['indice'][final_data['countriesAndTerritories']=='Portugal'], \n",
        "                         y=final_data['deathcum'][final_data['countriesAndTerritories']=='Portugal'], name='Portugal',line=dict(color='darkgrey', width=2)))\n",
        "\n",
        "fig.add_trace(go.Scatter(x=final_data['indice'][final_data['countriesAndTerritories']=='Czechia'], \n",
        "                         y=final_data['deathcum'][final_data['countriesAndTerritories']=='Czechia'],mode='lines', name='República Tcheca',line=dict(color='magenta', width=2)))\n",
        "fig.add_trace(go.Scatter(x=final_data['indice'][final_data['countriesAndTerritories']=='South_Korea'], \n",
        "                         y=final_data['deathcum'][final_data['countriesAndTerritories']=='South_Korea'], name='Coréia do Sul',line=dict(color='brown', width=2)))\n",
        "fig.add_trace(go.Scatter(x=final_data['indice'][final_data['countriesAndTerritories']=='Taiwan'], \n",
        "                         y=final_data['deathcum'][final_data['countriesAndTerritories']=='Taiwan'],mode='lines', name='Taiwan',line=dict(color='grey', width=2)))\n",
        "fig.add_trace(go.Scatter(x=final_data['indice'][final_data['countriesAndTerritories']=='Hong_Kong'], \n",
        "                         y=final_data['deathcum'][final_data['countriesAndTerritories']=='Hong_Kong'], name='Hong Kong',line=dict(color='lavenderblush', width=2)))\n",
        "fig.add_trace(go.Scatter(x=final_data['indice'][final_data['countriesAndTerritories']=='Japan'], \n",
        "                         y=final_data['deathcum'][final_data['countriesAndTerritories']=='Japan'], name='Japão',line=dict(color='pink', width=2)))\n",
        "fig.add_trace(go.Scatter(x=final_data['indice'][final_data['countriesAndTerritories']=='China'], \n",
        "                         y=final_data['deathcum'][final_data['countriesAndTerritories']=='China'], name='China',line=dict(color='lightgreen', width=2)))\n",
        "\n",
        "fig.update_xaxes(tickangle=0, tickfont=dict(size=10),tick0=0)\n",
        "\n",
        "\n",
        "fig.update_layout(title='COVID-19 - Óbitos-  {} E. Logarítmica' .format(today),\n",
        "                   xaxis_title='Dias desde o 5º óbito',\n",
        "                   yaxis_title='Óbitos',yaxis_type=\"log\",legend= {'borderwidth':0,'orientation':'v','yanchor':'top','font':{'size':8}})"
      ],
      "execution_count": 26,
      "outputs": [
        {
          "output_type": "display_data",
          "data": {
            "text/html": [
              "<html>\n",
              "<head><meta charset=\"utf-8\" /></head>\n",
              "<body>\n",
              "    <div>\n",
              "            <script src=\"https://cdnjs.cloudflare.com/ajax/libs/mathjax/2.7.5/MathJax.js?config=TeX-AMS-MML_SVG\"></script><script type=\"text/javascript\">if (window.MathJax) {MathJax.Hub.Config({SVG: {font: \"STIX-Web\"}});}</script>\n",
              "                <script type=\"text/javascript\">window.PlotlyConfig = {MathJaxConfig: 'local'};</script>\n",
              "        <script src=\"https://cdn.plot.ly/plotly-latest.min.js\"></script>    \n",
              "            <div id=\"ad50e547-ef68-40e3-95e6-528e6607d03c\" class=\"plotly-graph-div\" style=\"height:525px; width:100%;\"></div>\n",
              "            <script type=\"text/javascript\">\n",
              "                \n",
              "                    window.PLOTLYENV=window.PLOTLYENV || {};\n",
              "                    \n",
              "                if (document.getElementById(\"ad50e547-ef68-40e3-95e6-528e6607d03c\")) {\n",
              "                    Plotly.newPlot(\n",
              "                        'ad50e547-ef68-40e3-95e6-528e6607d03c',\n",
              "                        [{\"line\": {\"color\": \"black\", \"width\": 5}, \"name\": \"Brasil\", \"type\": \"scatter\", \"x\": [0, 1, 2, 3, 4, 5, 6, 7, 8, 9, 10, 11, 12, 13, 14, 15, 16, 17, 18, 19, 20, 21, 22, 23, 24, 25, 26, 27, 28, 29, 30, 31, 32, 33, 34, 35, 36, 37, 38, 39, 40, 41, 42], \"y\": [6, 11, 18, 25, 34, 46, 57, 77, 92, 114, 136, 159, 201, 241, 299, 359, 432, 486, 553, 667, 800, 941, 1056, 1124, 1223, 1328, 1532, 1736, 1924, 2141, 2347, 2462, 2575, 2741, 2906, 3313, 3670, 4016, 4205, 4543, 5017, 5466, 5901]}, {\"line\": {\"color\": \"red\", \"width\": 2}, \"name\": \"Fran\\u00e7a\", \"type\": \"scatter\", \"x\": [0, 1, 2, 3, 4, 5, 6, 7, 8, 9, 10, 11, 12, 13, 14, 15, 16, 17, 18, 19, 20, 21, 22, 23, 24, 25, 26, 27, 28, 29, 30, 31, 32, 33, 34, 35, 36, 37, 38, 39, 40, 41, 42, 43, 44, 45, 46, 47, 48, 49, 50, 51, 52, 53, 54, 55, 56], \"y\": [7, 9, 10, 19, 30, 33, 48, 61, 79, 91, 127, 148, 175, 244, 372, 450, 562, 674, 860, 1100, 1331, 1696, 1995, 2314, 2606, 3024, 3523, 4032, 4503, 6507, 7560, 8078, 8911, 10328, 10869, 12210, 13197, 13832, 14393, 14967, 15729, 17167, 17920, 18681, 19323, 19718, 20265, 20796, 21340, 21856, 22245, 22614, 22856, 23293, 23660, 24087, 24376]}, {\"line\": {\"color\": \"blue\", \"width\": 2}, \"name\": \"Espanha\", \"type\": \"scatter\", \"x\": [0, 1, 2, 3, 4, 5, 6, 7, 8, 9, 10, 11, 12, 13, 14, 15, 16, 17, 18, 19, 20, 21, 22, 23, 24, 25, 26, 27, 28, 29, 30, 31, 32, 33, 34, 35, 36, 37, 38, 39, 40, 41, 42, 43, 44, 45, 46, 47, 48, 49, 50, 51, 52, 53, 54], \"y\": [5, 5, 5, 28, 35, 47, 84, 121, 136, 288, 309, 491, 598, 767, 1002, 1326, 1720, 2182, 2696, 3434, 4089, 4858, 5690, 6528, 7340, 8189, 9053, 10003, 10935, 11744, 12418, 13055, 13798, 14555, 15238, 15843, 16353, 16972, 17489, 18276, 18893, 19478, 20043, 20453, 20852, 21282, 21717, 22157, 22524, 22902, 23190, 23190, 23822, 24275, 24543]}, {\"line\": {\"color\": \"green\", \"width\": 2}, \"name\": \"It\\u00e1lia\", \"type\": \"scatter\", \"x\": [0, 1, 2, 3, 4, 5, 6, 7, 8, 9, 10, 11, 12, 13, 14, 15, 16, 17, 18, 19, 20, 21, 22, 23, 24, 25, 26, 27, 28, 29, 30, 31, 32, 33, 34, 35, 36, 37, 38, 39, 40, 41, 42, 43, 44, 45, 46, 47, 48, 49, 50, 51, 52, 53, 54, 55, 56, 57, 58, 59, 60, 61, 62, 63, 64, 65, 66], \"y\": [6, 11, 12, 17, 21, 29, 35, 52, 80, 107, 148, 197, 233, 366, 464, 631, 827, 1016, 1268, 1441, 1811, 2158, 2505, 2978, 3407, 4032, 4827, 5476, 6077, 6820, 7505, 8165, 9136, 10023, 10781, 11591, 12430, 13157, 13917, 14681, 15362, 15889, 16525, 17129, 17669, 18281, 18851, 19470, 19901, 20465, 21069, 21647, 22172, 22747, 23227, 23660, 24114, 24648, 25085, 25549, 25969, 26384, 26644, 26977, 27359, 27682, 27967]}, {\"line\": {\"color\": \"yellowgreen\", \"width\": 2}, \"name\": \"Reino Unido\", \"type\": \"scatter\", \"x\": [0, 1, 2, 3, 4, 5, 6, 7, 8, 9, 10, 11, 12, 13, 14, 15, 16, 17, 18, 19, 20, 21, 22, 23, 24, 25, 26, 27, 28, 29, 30, 31, 32, 33, 34, 35, 36, 37, 38, 39, 40, 41, 42, 43, 44, 45, 46, 47, 48, 49, 50, 51], \"y\": [7, 7, 9, 10, 28, 43, 65, 81, 115, 158, 194, 250, 285, 359, 508, 694, 877, 1161, 1455, 1669, 2043, 2425, 3095, 3747, 4461, 5221, 5865, 6433, 7471, 8505, 9608, 10760, 11599, 12285, 13029, 14073, 14915, 15944, 16879, 17994, 18492, 19051, 20223, 21060, 21787, 22792, 23635, 24055, 24393, 25302, 26097, 26771]}, {\"line\": {\"color\": \"darkgreen\", \"width\": 2}, \"mode\": \"lines\", \"name\": \"Argentina\", \"type\": \"scatter\", \"x\": [0, 1, 2, 3, 4, 5, 6, 7, 8, 9, 10, 11, 12, 13, 14, 15, 16, 17, 18, 19, 20, 21, 22, 23, 24, 25, 26, 27, 28, 29, 30, 31, 32, 33, 34, 35, 36, 37], \"y\": [6, 8, 12, 17, 19, 20, 24, 24, 31, 34, 37, 43, 46, 53, 60, 65, 79, 82, 89, 95, 98, 105, 109, 115, 122, 132, 134, 142, 151, 159, 165, 167, 185, 186, 197, 207, 214, 218]}, {\"line\": {\"color\": \"darkslateblue\", \"width\": 2}, \"name\": \"Alemanha\", \"type\": \"scatter\", \"x\": [0, 1, 2, 3, 4, 5, 6, 7, 8, 9, 10, 11, 12, 13, 14, 15, 16, 17, 18, 19, 20, 21, 22, 23, 24, 25, 26, 27, 28, 29, 30, 31, 32, 33, 34, 35, 36, 37, 38, 39, 40, 41, 42, 43, 44, 45, 46, 47, 48, 49], \"y\": [5, 5, 8, 12, 13, 13, 13, 43, 45, 67, 94, 126, 149, 198, 253, 325, 389, 455, 583, 732, 872, 1017, 1158, 1342, 1434, 1607, 1861, 2107, 2373, 2544, 2673, 2799, 2969, 3254, 3569, 3868, 4110, 4294, 4404, 4598, 4879, 5094, 5321, 5500, 5640, 5750, 5913, 6115, 6288, 6288]}, {\"line\": {\"color\": \"mediumpurple\", \"width\": 2}, \"name\": \"EUA\", \"type\": \"scatter\", \"x\": [0, 1, 2, 3, 4, 5, 6, 7, 8, 9, 10, 11, 12, 13, 14, 15, 16, 17, 18, 19, 20, 21, 22, 23, 24, 25, 26, 27, 28, 29, 30, 31, 32, 33, 34, 35, 36, 37, 38, 39, 40, 41, 42, 43, 44, 45, 46, 47, 48, 49, 50, 51, 52, 53, 54, 55, 56, 57, 58, 59], \"y\": [6, 9, 11, 12, 14, 17, 21, 26, 28, 30, 40, 47, 57, 69, 85, 108, 150, 150, 260, 340, 471, 590, 801, 1050, 1296, 1707, 2191, 2509, 3170, 4079, 5138, 6053, 7157, 8501, 9647, 10989, 12895, 14817, 16690, 18777, 20608, 22108, 23649, 26057, 30985, 33284, 37054, 38910, 40682, 42539, 45063, 46784, 49963, 51017, 53189, 54876, 56245, 58355, 60966, 63006]}, {\"line\": {\"color\": \"yellow\", \"width\": 2}, \"mode\": \"lines\", \"name\": \"Nova Zel\\u00e2ndia\", \"type\": \"scatter\", \"x\": [0, 1, 2, 3, 4, 5, 6, 7, 8, 9, 10, 11, 12, 13, 14, 15, 16, 17, 18], \"y\": [5, 9, 9, 9, 11, 11, 12, 12, 13, 14, 16, 17, 18, 18, 19, 19, 19, 19, 19]}, {\"line\": {\"color\": \"darkgrey\", \"width\": 2}, \"name\": \"Portugal\", \"type\": \"scatter\", \"x\": [0, 1, 2, 3, 4, 5, 6, 7, 8, 9, 10, 11, 12, 13, 14, 15, 16, 17, 18, 19, 20, 21, 22, 23, 24, 25, 26, 27, 28, 29, 30, 31, 32, 33, 34, 35, 36, 37, 38, 39, 40, 41], \"y\": [6, 12, 14, 23, 33, 43, 60, 76, 100, 119, 140, 160, 187, 209, 246, 266, 295, 311, 345, 380, 409, 435, 470, 504, 535, 567, 599, 629, 657, 687, 714, 735, 762, 785, 820, 854, 880, 903, 928, 948, 973, 989]}, {\"line\": {\"color\": \"magenta\", \"width\": 2}, \"mode\": \"lines\", \"name\": \"Rep\\u00fablica Tcheca\", \"type\": \"scatter\", \"x\": [0, 1, 2, 3, 4, 5, 6, 7, 8, 9, 10, 11, 12, 13, 14, 15, 16, 17, 18, 19, 20, 21, 22, 23, 24, 25, 26, 27, 28, 29, 30, 31, 32, 33, 34, 35, 36], \"y\": [6, 9, 9, 11, 16, 24, 31, 39, 44, 53, 59, 67, 78, 88, 99, 112, 119, 129, 138, 143, 161, 166, 169, 173, 181, 188, 196, 201, 210, 213, 215, 218, 221, 223, 227, 227, 236]}, {\"line\": {\"color\": \"brown\", \"width\": 2}, \"name\": \"Cor\\u00e9ia do Sul\", \"type\": \"scatter\", \"x\": [0, 1, 2, 3, 4, 5, 6, 7, 8, 9, 10, 11, 12, 13, 14, 15, 16, 17, 18, 19, 20, 21, 22, 23, 24, 25, 26, 27, 28, 29, 30, 31, 32, 33, 34, 35, 36, 37, 38, 39, 40, 41, 42, 43, 44, 45, 46, 47, 48, 49, 50, 51, 52, 53, 54, 55, 56, 57, 58, 59, 60, 61, 62, 63, 64, 65, 66, 67, 68], \"y\": [5, 7, 8, 11, 12, 13, 16, 17, 22, 28, 32, 35, 42, 44, 50, 51, 54, 60, 66, 67, 72, 75, 75, 81, 86, 91, 100, 103, 104, 113, 120, 126, 131, 139, 144, 152, 158, 163, 163, 169, 174, 177, 183, 186, 192, 200, 204, 208, 208, 214, 217, 222, 225, 229, 230, 232, 234, 236, 237, 238, 240, 240, 240, 242, 243, 244, 246, 247, 248]}, {\"line\": {\"color\": \"grey\", \"width\": 2}, \"mode\": \"lines\", \"name\": \"Taiwan\", \"type\": \"scatter\", \"x\": [0, 1, 2, 3, 4, 5, 6, 7, 8, 9, 10, 11, 12, 13, 14, 15, 16, 17, 18, 19, 20, 21, 22, 23, 24, 25, 26, 27, 28, 29, 30, 31, 32], \"y\": [5, 5, 5, 5, 5, 5, 5, 5, 5, 5, 5, 5, 5, 6, 6, 6, 6, 6, 6, 6, 6, 6, 6, 6, 6, 6, 6, 6, 6, 6, 6, 6, 6]}, {\"line\": {\"color\": \"lavenderblush\", \"width\": 2}, \"name\": \"Hong Kong\", \"type\": \"scatter\", \"x\": [], \"y\": []}, {\"line\": {\"color\": \"pink\", \"width\": 2}, \"name\": \"Jap\\u00e3o\", \"type\": \"scatter\", \"x\": [0, 1, 2, 3, 4, 5, 6, 7, 8, 9, 10, 11, 12, 13, 14, 15, 16, 17, 18, 19, 20, 21, 22, 23, 24, 25, 26, 27, 28, 29, 30, 31, 32, 33, 34, 35, 36, 37, 38, 39, 40, 41, 42, 43, 44, 45, 46, 47, 48, 49, 50, 51, 52, 53, 54, 55, 56, 57, 58, 59, 60, 61], \"y\": [5, 6, 6, 6, 6, 6, 6, 6, 7, 9, 12, 15, 19, 21, 22, 24, 28, 28, 29, 33, 35, 36, 41, 42, 43, 45, 46, 49, 52, 54, 56, 56, 57, 63, 69, 70, 73, 80, 80, 81, 85, 88, 98, 102, 109, 119, 136, 148, 154, 161, 171, 186, 186, 287, 317, 334, 348, 351, 376, 389, 415, 432]}, {\"line\": {\"color\": \"lightgreen\", \"width\": 2}, \"name\": \"China\", \"type\": \"scatter\", \"x\": [0, 1, 2, 3, 4, 5, 6, 7, 8, 9, 10, 11, 12, 13, 14, 15, 16, 17, 18, 19, 20, 21, 22, 23, 24, 25, 26, 27, 28, 29, 30, 31, 32, 33, 34, 35, 36, 37, 38, 39, 40, 41, 42, 43, 44, 45, 46, 47, 48, 49, 50, 51, 52, 53, 54, 55, 56, 57, 58, 59, 60, 61, 62, 63, 64, 65, 66, 67, 68, 69, 70, 71, 72, 73, 74, 75, 76, 77, 78, 79, 80, 81, 82, 83, 84, 85, 86, 87, 88, 89, 90, 91, 92, 93, 94, 95, 96, 97, 98, 99, 100, 101], \"y\": [6, 17, 17, 26, 41, 56, 81, 106, 132, 170, 213, 259, 304, 361, 426, 492, 564, 637, 723, 812, 909, 1017, 1114, 1368, 1381, 1524, 1666, 1771, 1869, 2008, 2120, 2238, 2347, 2445, 2595, 2665, 2717, 2746, 2790, 2837, 2872, 2914, 2946, 2983, 3014, 3044, 3072, 3099, 3122, 3139, 3161, 3172, 3179, 3194, 3203, 3216, 3225, 3241, 3249, 3253, 3259, 3265, 3274, 3281, 3285, 3291, 3296, 3299, 3304, 3306, 3309, 3310, 3316, 3326, 3330, 3333, 3335, 3335, 3337, 3339, 3340, 3343, 3343, 3345, 3345, 3346, 3346, 4636, 4636, 4636, 4636, 4636, 4636, 4636, 4636, 4636, 4636, 4637, 4637, 4637, 4637, 4637]}],\n",
              "                        {\"legend\": {\"borderwidth\": 0, \"font\": {\"size\": 8}, \"orientation\": \"v\", \"yanchor\": \"top\"}, \"template\": {\"data\": {\"bar\": [{\"error_x\": {\"color\": \"#2a3f5f\"}, \"error_y\": {\"color\": \"#2a3f5f\"}, \"marker\": {\"line\": {\"color\": \"#E5ECF6\", \"width\": 0.5}}, \"type\": \"bar\"}], \"barpolar\": [{\"marker\": {\"line\": {\"color\": \"#E5ECF6\", \"width\": 0.5}}, \"type\": \"barpolar\"}], \"carpet\": [{\"aaxis\": {\"endlinecolor\": \"#2a3f5f\", \"gridcolor\": \"white\", \"linecolor\": \"white\", \"minorgridcolor\": \"white\", \"startlinecolor\": \"#2a3f5f\"}, \"baxis\": {\"endlinecolor\": \"#2a3f5f\", \"gridcolor\": \"white\", \"linecolor\": \"white\", \"minorgridcolor\": \"white\", \"startlinecolor\": \"#2a3f5f\"}, \"type\": \"carpet\"}], \"choropleth\": [{\"colorbar\": {\"outlinewidth\": 0, \"ticks\": \"\"}, \"type\": \"choropleth\"}], \"contour\": [{\"colorbar\": {\"outlinewidth\": 0, \"ticks\": \"\"}, \"colorscale\": [[0.0, \"#0d0887\"], [0.1111111111111111, \"#46039f\"], [0.2222222222222222, \"#7201a8\"], [0.3333333333333333, \"#9c179e\"], [0.4444444444444444, \"#bd3786\"], [0.5555555555555556, \"#d8576b\"], [0.6666666666666666, \"#ed7953\"], [0.7777777777777778, \"#fb9f3a\"], [0.8888888888888888, \"#fdca26\"], [1.0, \"#f0f921\"]], \"type\": \"contour\"}], \"contourcarpet\": [{\"colorbar\": {\"outlinewidth\": 0, \"ticks\": \"\"}, \"type\": \"contourcarpet\"}], \"heatmap\": [{\"colorbar\": {\"outlinewidth\": 0, \"ticks\": \"\"}, \"colorscale\": [[0.0, \"#0d0887\"], [0.1111111111111111, \"#46039f\"], [0.2222222222222222, \"#7201a8\"], [0.3333333333333333, \"#9c179e\"], [0.4444444444444444, \"#bd3786\"], [0.5555555555555556, \"#d8576b\"], [0.6666666666666666, \"#ed7953\"], [0.7777777777777778, \"#fb9f3a\"], [0.8888888888888888, \"#fdca26\"], [1.0, \"#f0f921\"]], \"type\": \"heatmap\"}], \"heatmapgl\": [{\"colorbar\": {\"outlinewidth\": 0, \"ticks\": \"\"}, \"colorscale\": [[0.0, \"#0d0887\"], [0.1111111111111111, \"#46039f\"], [0.2222222222222222, \"#7201a8\"], [0.3333333333333333, \"#9c179e\"], [0.4444444444444444, \"#bd3786\"], [0.5555555555555556, \"#d8576b\"], [0.6666666666666666, \"#ed7953\"], [0.7777777777777778, \"#fb9f3a\"], [0.8888888888888888, \"#fdca26\"], [1.0, \"#f0f921\"]], \"type\": \"heatmapgl\"}], \"histogram\": [{\"marker\": {\"colorbar\": {\"outlinewidth\": 0, \"ticks\": \"\"}}, \"type\": \"histogram\"}], \"histogram2d\": [{\"colorbar\": {\"outlinewidth\": 0, \"ticks\": \"\"}, \"colorscale\": [[0.0, \"#0d0887\"], [0.1111111111111111, \"#46039f\"], [0.2222222222222222, \"#7201a8\"], [0.3333333333333333, \"#9c179e\"], [0.4444444444444444, \"#bd3786\"], [0.5555555555555556, \"#d8576b\"], [0.6666666666666666, \"#ed7953\"], [0.7777777777777778, \"#fb9f3a\"], [0.8888888888888888, \"#fdca26\"], [1.0, \"#f0f921\"]], \"type\": \"histogram2d\"}], \"histogram2dcontour\": [{\"colorbar\": {\"outlinewidth\": 0, \"ticks\": \"\"}, \"colorscale\": [[0.0, \"#0d0887\"], [0.1111111111111111, \"#46039f\"], [0.2222222222222222, \"#7201a8\"], [0.3333333333333333, \"#9c179e\"], [0.4444444444444444, \"#bd3786\"], [0.5555555555555556, \"#d8576b\"], [0.6666666666666666, \"#ed7953\"], [0.7777777777777778, \"#fb9f3a\"], [0.8888888888888888, \"#fdca26\"], [1.0, \"#f0f921\"]], \"type\": \"histogram2dcontour\"}], \"mesh3d\": [{\"colorbar\": {\"outlinewidth\": 0, \"ticks\": \"\"}, \"type\": \"mesh3d\"}], \"parcoords\": [{\"line\": {\"colorbar\": {\"outlinewidth\": 0, \"ticks\": \"\"}}, \"type\": \"parcoords\"}], \"pie\": [{\"automargin\": true, \"type\": \"pie\"}], \"scatter\": [{\"marker\": {\"colorbar\": {\"outlinewidth\": 0, \"ticks\": \"\"}}, \"type\": \"scatter\"}], \"scatter3d\": [{\"line\": {\"colorbar\": {\"outlinewidth\": 0, \"ticks\": \"\"}}, \"marker\": {\"colorbar\": {\"outlinewidth\": 0, \"ticks\": \"\"}}, \"type\": \"scatter3d\"}], \"scattercarpet\": [{\"marker\": {\"colorbar\": {\"outlinewidth\": 0, \"ticks\": \"\"}}, \"type\": \"scattercarpet\"}], \"scattergeo\": [{\"marker\": {\"colorbar\": {\"outlinewidth\": 0, \"ticks\": \"\"}}, \"type\": \"scattergeo\"}], \"scattergl\": [{\"marker\": {\"colorbar\": {\"outlinewidth\": 0, \"ticks\": \"\"}}, \"type\": \"scattergl\"}], \"scattermapbox\": [{\"marker\": {\"colorbar\": {\"outlinewidth\": 0, \"ticks\": \"\"}}, \"type\": \"scattermapbox\"}], \"scatterpolar\": [{\"marker\": {\"colorbar\": {\"outlinewidth\": 0, \"ticks\": \"\"}}, \"type\": \"scatterpolar\"}], \"scatterpolargl\": [{\"marker\": {\"colorbar\": {\"outlinewidth\": 0, \"ticks\": \"\"}}, \"type\": \"scatterpolargl\"}], \"scatterternary\": [{\"marker\": {\"colorbar\": {\"outlinewidth\": 0, \"ticks\": \"\"}}, \"type\": \"scatterternary\"}], \"surface\": [{\"colorbar\": {\"outlinewidth\": 0, \"ticks\": \"\"}, \"colorscale\": [[0.0, \"#0d0887\"], [0.1111111111111111, \"#46039f\"], [0.2222222222222222, \"#7201a8\"], [0.3333333333333333, \"#9c179e\"], [0.4444444444444444, \"#bd3786\"], [0.5555555555555556, \"#d8576b\"], [0.6666666666666666, \"#ed7953\"], [0.7777777777777778, \"#fb9f3a\"], [0.8888888888888888, \"#fdca26\"], [1.0, \"#f0f921\"]], \"type\": \"surface\"}], \"table\": [{\"cells\": {\"fill\": {\"color\": \"#EBF0F8\"}, \"line\": {\"color\": \"white\"}}, \"header\": {\"fill\": {\"color\": \"#C8D4E3\"}, \"line\": {\"color\": \"white\"}}, \"type\": \"table\"}]}, \"layout\": {\"annotationdefaults\": {\"arrowcolor\": \"#2a3f5f\", \"arrowhead\": 0, \"arrowwidth\": 1}, \"coloraxis\": {\"colorbar\": {\"outlinewidth\": 0, \"ticks\": \"\"}}, \"colorscale\": {\"diverging\": [[0, \"#8e0152\"], [0.1, \"#c51b7d\"], [0.2, \"#de77ae\"], [0.3, \"#f1b6da\"], [0.4, \"#fde0ef\"], [0.5, \"#f7f7f7\"], [0.6, \"#e6f5d0\"], [0.7, \"#b8e186\"], [0.8, \"#7fbc41\"], [0.9, \"#4d9221\"], [1, \"#276419\"]], \"sequential\": [[0.0, \"#0d0887\"], [0.1111111111111111, \"#46039f\"], [0.2222222222222222, \"#7201a8\"], [0.3333333333333333, \"#9c179e\"], [0.4444444444444444, \"#bd3786\"], [0.5555555555555556, \"#d8576b\"], [0.6666666666666666, \"#ed7953\"], [0.7777777777777778, \"#fb9f3a\"], [0.8888888888888888, \"#fdca26\"], [1.0, \"#f0f921\"]], \"sequentialminus\": [[0.0, \"#0d0887\"], [0.1111111111111111, \"#46039f\"], [0.2222222222222222, \"#7201a8\"], [0.3333333333333333, \"#9c179e\"], [0.4444444444444444, \"#bd3786\"], [0.5555555555555556, \"#d8576b\"], [0.6666666666666666, \"#ed7953\"], [0.7777777777777778, \"#fb9f3a\"], [0.8888888888888888, \"#fdca26\"], [1.0, \"#f0f921\"]]}, \"colorway\": [\"#636efa\", \"#EF553B\", \"#00cc96\", \"#ab63fa\", \"#FFA15A\", \"#19d3f3\", \"#FF6692\", \"#B6E880\", \"#FF97FF\", \"#FECB52\"], \"font\": {\"color\": \"#2a3f5f\"}, \"geo\": {\"bgcolor\": \"white\", \"lakecolor\": \"white\", \"landcolor\": \"#E5ECF6\", \"showlakes\": true, \"showland\": true, \"subunitcolor\": \"white\"}, \"hoverlabel\": {\"align\": \"left\"}, \"hovermode\": \"closest\", \"mapbox\": {\"style\": \"light\"}, \"paper_bgcolor\": \"white\", \"plot_bgcolor\": \"#E5ECF6\", \"polar\": {\"angularaxis\": {\"gridcolor\": \"white\", \"linecolor\": \"white\", \"ticks\": \"\"}, \"bgcolor\": \"#E5ECF6\", \"radialaxis\": {\"gridcolor\": \"white\", \"linecolor\": \"white\", \"ticks\": \"\"}}, \"scene\": {\"xaxis\": {\"backgroundcolor\": \"#E5ECF6\", \"gridcolor\": \"white\", \"gridwidth\": 2, \"linecolor\": \"white\", \"showbackground\": true, \"ticks\": \"\", \"zerolinecolor\": \"white\"}, \"yaxis\": {\"backgroundcolor\": \"#E5ECF6\", \"gridcolor\": \"white\", \"gridwidth\": 2, \"linecolor\": \"white\", \"showbackground\": true, \"ticks\": \"\", \"zerolinecolor\": \"white\"}, \"zaxis\": {\"backgroundcolor\": \"#E5ECF6\", \"gridcolor\": \"white\", \"gridwidth\": 2, \"linecolor\": \"white\", \"showbackground\": true, \"ticks\": \"\", \"zerolinecolor\": \"white\"}}, \"shapedefaults\": {\"line\": {\"color\": \"#2a3f5f\"}}, \"ternary\": {\"aaxis\": {\"gridcolor\": \"white\", \"linecolor\": \"white\", \"ticks\": \"\"}, \"baxis\": {\"gridcolor\": \"white\", \"linecolor\": \"white\", \"ticks\": \"\"}, \"bgcolor\": \"#E5ECF6\", \"caxis\": {\"gridcolor\": \"white\", \"linecolor\": \"white\", \"ticks\": \"\"}}, \"title\": {\"x\": 0.05}, \"xaxis\": {\"automargin\": true, \"gridcolor\": \"white\", \"linecolor\": \"white\", \"ticks\": \"\", \"title\": {\"standoff\": 15}, \"zerolinecolor\": \"white\", \"zerolinewidth\": 2}, \"yaxis\": {\"automargin\": true, \"gridcolor\": \"white\", \"linecolor\": \"white\", \"ticks\": \"\", \"title\": {\"standoff\": 15}, \"zerolinecolor\": \"white\", \"zerolinewidth\": 2}}}, \"title\": {\"text\": \"COVID-19 - \\u00d3bitos-  01-05-2020 E. Logar\\u00edtmica\"}, \"xaxis\": {\"tick0\": 0, \"tickangle\": 0, \"tickfont\": {\"size\": 10}, \"title\": {\"text\": \"Dias desde o 5\\u00ba \\u00f3bito\"}}, \"yaxis\": {\"title\": {\"text\": \"\\u00d3bitos\"}, \"type\": \"log\"}},\n",
              "                        {\"responsive\": true}\n",
              "                    ).then(function(){\n",
              "                            \n",
              "var gd = document.getElementById('ad50e547-ef68-40e3-95e6-528e6607d03c');\n",
              "var x = new MutationObserver(function (mutations, observer) {{\n",
              "        var display = window.getComputedStyle(gd).display;\n",
              "        if (!display || display === 'none') {{\n",
              "            console.log([gd, 'removed!']);\n",
              "            Plotly.purge(gd);\n",
              "            observer.disconnect();\n",
              "        }}\n",
              "}});\n",
              "\n",
              "// Listen for the removal of the full notebook cells\n",
              "var notebookContainer = gd.closest('#notebook-container');\n",
              "if (notebookContainer) {{\n",
              "    x.observe(notebookContainer, {childList: true});\n",
              "}}\n",
              "\n",
              "// Listen for the clearing of the current output cell\n",
              "var outputEl = gd.closest('.output');\n",
              "if (outputEl) {{\n",
              "    x.observe(outputEl, {childList: true});\n",
              "}}\n",
              "\n",
              "                        })\n",
              "                };\n",
              "                \n",
              "            </script>\n",
              "        </div>\n",
              "</body>\n",
              "</html>"
            ]
          },
          "metadata": {
            "tags": []
          }
        }
      ]
    },
    {
      "cell_type": "markdown",
      "metadata": {
        "id": "cYi0f2alTqSz",
        "colab_type": "text"
      },
      "source": [
        "<center> <h2> Letalidade </h2> </center>"
      ]
    },
    {
      "cell_type": "markdown",
      "metadata": {
        "id": "WRzRwgpjtfeN",
        "colab_type": "text"
      },
      "source": [
        "O gráfco a seguir aponta o número de mortes dividido pelo número de casos confirmados. É **importantíssimo** notar a grande dependência desses números da quantidade de testes disponíveis. Quanto mais testes realizados, mais confiáveis os dados."
      ]
    },
    {
      "cell_type": "code",
      "metadata": {
        "colab_type": "code",
        "id": "6o33lNAoCImC",
        "outputId": "435cdbf4-5f5c-4ebe-cbf7-1dc8fb0abb5b",
        "colab": {
          "base_uri": "https://localhost:8080/",
          "height": 542
        }
      },
      "source": [
        "#hide_input\n",
        "import plotly.express as px\n",
        "fig = px.bar(final_data[final_data['dateRep']==yesterday],x=\"letalidade\", y='countriesAndTerritories', color='countriesAndTerritories',orientation='h',\n",
        "             color_discrete_sequence=px.colors.qualitative.G10,title=\"Letalidade - {}\".format(today))\n",
        "fig.update_layout(yaxis_type = 'category')\n",
        "fig.update_layout(legend= {'title':'País','borderwidth':0,'orientation':'v','yanchor':'top','font':{'size':8}})\n",
        "\n",
        "\n"
      ],
      "execution_count": 27,
      "outputs": [
        {
          "output_type": "display_data",
          "data": {
            "text/html": [
              "<html>\n",
              "<head><meta charset=\"utf-8\" /></head>\n",
              "<body>\n",
              "    <div>\n",
              "            <script src=\"https://cdnjs.cloudflare.com/ajax/libs/mathjax/2.7.5/MathJax.js?config=TeX-AMS-MML_SVG\"></script><script type=\"text/javascript\">if (window.MathJax) {MathJax.Hub.Config({SVG: {font: \"STIX-Web\"}});}</script>\n",
              "                <script type=\"text/javascript\">window.PlotlyConfig = {MathJaxConfig: 'local'};</script>\n",
              "        <script src=\"https://cdn.plot.ly/plotly-latest.min.js\"></script>    \n",
              "            <div id=\"657b78fe-e95b-4dda-9bbf-db6e461fafa5\" class=\"plotly-graph-div\" style=\"height:525px; width:100%;\"></div>\n",
              "            <script type=\"text/javascript\">\n",
              "                \n",
              "                    window.PLOTLYENV=window.PLOTLYENV || {};\n",
              "                    \n",
              "                if (document.getElementById(\"657b78fe-e95b-4dda-9bbf-db6e461fafa5\")) {\n",
              "                    Plotly.newPlot(\n",
              "                        '657b78fe-e95b-4dda-9bbf-db6e461fafa5',\n",
              "                        [{\"alignmentgroup\": \"True\", \"hovertemplate\": \"countriesAndTerritories=%{y}<br>letalidade=%{x}<extra></extra>\", \"legendgroup\": \"New_Zealand\", \"marker\": {\"color\": \"#3366CC\"}, \"name\": \"New_Zealand\", \"offsetgroup\": \"New_Zealand\", \"orientation\": \"h\", \"showlegend\": true, \"textposition\": \"auto\", \"type\": \"bar\", \"x\": [1.6829052258635961], \"xaxis\": \"x\", \"y\": [\"New_Zealand\"], \"yaxis\": \"y\"}, {\"alignmentgroup\": \"True\", \"hovertemplate\": \"countriesAndTerritories=%{y}<br>letalidade=%{x}<extra></extra>\", \"legendgroup\": \"Taiwan\", \"marker\": {\"color\": \"#DC3912\"}, \"name\": \"Taiwan\", \"offsetgroup\": \"Taiwan\", \"orientation\": \"h\", \"showlegend\": true, \"textposition\": \"auto\", \"type\": \"bar\", \"x\": [1.3986013986013985], \"xaxis\": \"x\", \"y\": [\"Taiwan\"], \"yaxis\": \"y\"}, {\"alignmentgroup\": \"True\", \"hovertemplate\": \"countriesAndTerritories=%{y}<br>letalidade=%{x}<extra></extra>\", \"legendgroup\": \"Czechia\", \"marker\": {\"color\": \"#FF9900\"}, \"name\": \"Czechia\", \"offsetgroup\": \"Czechia\", \"orientation\": \"h\", \"showlegend\": true, \"textposition\": \"auto\", \"type\": \"bar\", \"x\": [2.995118089457712], \"xaxis\": \"x\", \"y\": [\"Czechia\"], \"yaxis\": \"y\"}, {\"alignmentgroup\": \"True\", \"hovertemplate\": \"countriesAndTerritories=%{y}<br>letalidade=%{x}<extra></extra>\", \"legendgroup\": \"Argentina\", \"marker\": {\"color\": \"#109618\"}, \"name\": \"Argentina\", \"offsetgroup\": \"Argentina\", \"orientation\": \"h\", \"showlegend\": true, \"textposition\": \"auto\", \"type\": \"bar\", \"x\": [5.00936329588015], \"xaxis\": \"x\", \"y\": [\"Argentina\"], \"yaxis\": \"y\"}, {\"alignmentgroup\": \"True\", \"hovertemplate\": \"countriesAndTerritories=%{y}<br>letalidade=%{x}<extra></extra>\", \"legendgroup\": \"Portugal\", \"marker\": {\"color\": \"#990099\"}, \"name\": \"Portugal\", \"offsetgroup\": \"Portugal\", \"orientation\": \"h\", \"showlegend\": true, \"textposition\": \"auto\", \"type\": \"bar\", \"x\": [3.9706182411752704], \"xaxis\": \"x\", \"y\": [\"Portugal\"], \"yaxis\": \"y\"}, {\"alignmentgroup\": \"True\", \"hovertemplate\": \"countriesAndTerritories=%{y}<br>letalidade=%{x}<extra></extra>\", \"legendgroup\": \"Brazil\", \"marker\": {\"color\": \"#0099C6\"}, \"name\": \"Brazil\", \"offsetgroup\": \"Brazil\", \"orientation\": \"h\", \"showlegend\": true, \"textposition\": \"auto\", \"type\": \"bar\", \"x\": [6.993168035618331], \"xaxis\": \"x\", \"y\": [\"Brazil\"], \"yaxis\": \"y\"}, {\"alignmentgroup\": \"True\", \"hovertemplate\": \"countriesAndTerritories=%{y}<br>letalidade=%{x}<extra></extra>\", \"legendgroup\": \"Germany\", \"marker\": {\"color\": \"#DD4477\"}, \"name\": \"Germany\", \"offsetgroup\": \"Germany\", \"orientation\": \"h\", \"showlegend\": true, \"textposition\": \"auto\", \"type\": \"bar\", \"x\": [3.951759375058918], \"xaxis\": \"x\", \"y\": [\"Germany\"], \"yaxis\": \"y\"}, {\"alignmentgroup\": \"True\", \"hovertemplate\": \"countriesAndTerritories=%{y}<br>letalidade=%{x}<extra></extra>\", \"legendgroup\": \"United_Kingdom\", \"marker\": {\"color\": \"#66AA00\"}, \"name\": \"United_Kingdom\", \"offsetgroup\": \"United_Kingdom\", \"orientation\": \"h\", \"showlegend\": true, \"textposition\": \"auto\", \"type\": \"bar\", \"x\": [15.795207630991218], \"xaxis\": \"x\", \"y\": [\"United_Kingdom\"], \"yaxis\": \"y\"}, {\"alignmentgroup\": \"True\", \"hovertemplate\": \"countriesAndTerritories=%{y}<br>letalidade=%{x}<extra></extra>\", \"legendgroup\": \"France\", \"marker\": {\"color\": \"#B82E2E\"}, \"name\": \"France\", \"offsetgroup\": \"France\", \"orientation\": \"h\", \"showlegend\": true, \"textposition\": \"auto\", \"type\": \"bar\", \"x\": [18.753211566310085], \"xaxis\": \"x\", \"y\": [\"France\"], \"yaxis\": \"y\"}, {\"alignmentgroup\": \"True\", \"hovertemplate\": \"countriesAndTerritories=%{y}<br>letalidade=%{x}<extra></extra>\", \"legendgroup\": \"United_States_of_America\", \"marker\": {\"color\": \"#316395\"}, \"name\": \"United_States_of_America\", \"offsetgroup\": \"United_States_of_America\", \"orientation\": \"h\", \"showlegend\": true, \"textposition\": \"auto\", \"type\": \"bar\", \"x\": [5.8626283645972865], \"xaxis\": \"x\", \"y\": [\"United_States_of_America\"], \"yaxis\": \"y\"}, {\"alignmentgroup\": \"True\", \"hovertemplate\": \"countriesAndTerritories=%{y}<br>letalidade=%{x}<extra></extra>\", \"legendgroup\": \"Japan\", \"marker\": {\"color\": \"#3366CC\"}, \"name\": \"Japan\", \"offsetgroup\": \"Japan\", \"orientation\": \"h\", \"showlegend\": true, \"textposition\": \"auto\", \"type\": \"bar\", \"x\": [2.945769449176604], \"xaxis\": \"x\", \"y\": [\"Japan\"], \"yaxis\": \"y\"}, {\"alignmentgroup\": \"True\", \"hovertemplate\": \"countriesAndTerritories=%{y}<br>letalidade=%{x}<extra></extra>\", \"legendgroup\": \"Italy\", \"marker\": {\"color\": \"#DC3912\"}, \"name\": \"Italy\", \"offsetgroup\": \"Italy\", \"orientation\": \"h\", \"showlegend\": true, \"textposition\": \"auto\", \"type\": \"bar\", \"x\": [13.596868230913941], \"xaxis\": \"x\", \"y\": [\"Italy\"], \"yaxis\": \"y\"}, {\"alignmentgroup\": \"True\", \"hovertemplate\": \"countriesAndTerritories=%{y}<br>letalidade=%{x}<extra></extra>\", \"legendgroup\": \"South_Korea\", \"marker\": {\"color\": \"#FF9900\"}, \"name\": \"South_Korea\", \"offsetgroup\": \"South_Korea\", \"orientation\": \"h\", \"showlegend\": true, \"textposition\": \"auto\", \"type\": \"bar\", \"x\": [2.29447282861124], \"xaxis\": \"x\", \"y\": [\"South_Korea\"], \"yaxis\": \"y\"}, {\"alignmentgroup\": \"True\", \"hovertemplate\": \"countriesAndTerritories=%{y}<br>letalidade=%{x}<extra></extra>\", \"legendgroup\": \"China\", \"marker\": {\"color\": \"#109618\"}, \"name\": \"China\", \"offsetgroup\": \"China\", \"orientation\": \"h\", \"showlegend\": true, \"textposition\": \"auto\", \"type\": \"bar\", \"x\": [5.523920709044124], \"xaxis\": \"x\", \"y\": [\"China\"], \"yaxis\": \"y\"}],\n",
              "                        {\"barmode\": \"relative\", \"legend\": {\"borderwidth\": 0, \"font\": {\"size\": 8}, \"orientation\": \"v\", \"title\": {\"text\": \"Pa\\u00eds\"}, \"tracegroupgap\": 0, \"yanchor\": \"top\"}, \"template\": {\"data\": {\"bar\": [{\"error_x\": {\"color\": \"#2a3f5f\"}, \"error_y\": {\"color\": \"#2a3f5f\"}, \"marker\": {\"line\": {\"color\": \"#E5ECF6\", \"width\": 0.5}}, \"type\": \"bar\"}], \"barpolar\": [{\"marker\": {\"line\": {\"color\": \"#E5ECF6\", \"width\": 0.5}}, \"type\": \"barpolar\"}], \"carpet\": [{\"aaxis\": {\"endlinecolor\": \"#2a3f5f\", \"gridcolor\": \"white\", \"linecolor\": \"white\", \"minorgridcolor\": \"white\", \"startlinecolor\": \"#2a3f5f\"}, \"baxis\": {\"endlinecolor\": \"#2a3f5f\", \"gridcolor\": \"white\", \"linecolor\": \"white\", \"minorgridcolor\": \"white\", \"startlinecolor\": \"#2a3f5f\"}, \"type\": \"carpet\"}], \"choropleth\": [{\"colorbar\": {\"outlinewidth\": 0, \"ticks\": \"\"}, \"type\": \"choropleth\"}], \"contour\": [{\"colorbar\": {\"outlinewidth\": 0, \"ticks\": \"\"}, \"colorscale\": [[0.0, \"#0d0887\"], [0.1111111111111111, \"#46039f\"], [0.2222222222222222, \"#7201a8\"], [0.3333333333333333, \"#9c179e\"], [0.4444444444444444, \"#bd3786\"], [0.5555555555555556, \"#d8576b\"], [0.6666666666666666, \"#ed7953\"], [0.7777777777777778, \"#fb9f3a\"], [0.8888888888888888, \"#fdca26\"], [1.0, \"#f0f921\"]], \"type\": \"contour\"}], \"contourcarpet\": [{\"colorbar\": {\"outlinewidth\": 0, \"ticks\": \"\"}, \"type\": \"contourcarpet\"}], \"heatmap\": [{\"colorbar\": {\"outlinewidth\": 0, \"ticks\": \"\"}, \"colorscale\": [[0.0, \"#0d0887\"], [0.1111111111111111, \"#46039f\"], [0.2222222222222222, \"#7201a8\"], [0.3333333333333333, \"#9c179e\"], [0.4444444444444444, \"#bd3786\"], [0.5555555555555556, \"#d8576b\"], [0.6666666666666666, \"#ed7953\"], [0.7777777777777778, \"#fb9f3a\"], [0.8888888888888888, \"#fdca26\"], [1.0, \"#f0f921\"]], \"type\": \"heatmap\"}], \"heatmapgl\": [{\"colorbar\": {\"outlinewidth\": 0, \"ticks\": \"\"}, \"colorscale\": [[0.0, \"#0d0887\"], [0.1111111111111111, \"#46039f\"], [0.2222222222222222, \"#7201a8\"], [0.3333333333333333, \"#9c179e\"], [0.4444444444444444, \"#bd3786\"], [0.5555555555555556, \"#d8576b\"], [0.6666666666666666, \"#ed7953\"], [0.7777777777777778, \"#fb9f3a\"], [0.8888888888888888, \"#fdca26\"], [1.0, \"#f0f921\"]], \"type\": \"heatmapgl\"}], \"histogram\": [{\"marker\": {\"colorbar\": {\"outlinewidth\": 0, \"ticks\": \"\"}}, \"type\": \"histogram\"}], \"histogram2d\": [{\"colorbar\": {\"outlinewidth\": 0, \"ticks\": \"\"}, \"colorscale\": [[0.0, \"#0d0887\"], [0.1111111111111111, \"#46039f\"], [0.2222222222222222, \"#7201a8\"], [0.3333333333333333, \"#9c179e\"], [0.4444444444444444, \"#bd3786\"], [0.5555555555555556, \"#d8576b\"], [0.6666666666666666, \"#ed7953\"], [0.7777777777777778, \"#fb9f3a\"], [0.8888888888888888, \"#fdca26\"], [1.0, \"#f0f921\"]], \"type\": \"histogram2d\"}], \"histogram2dcontour\": [{\"colorbar\": {\"outlinewidth\": 0, \"ticks\": \"\"}, \"colorscale\": [[0.0, \"#0d0887\"], [0.1111111111111111, \"#46039f\"], [0.2222222222222222, \"#7201a8\"], [0.3333333333333333, \"#9c179e\"], [0.4444444444444444, \"#bd3786\"], [0.5555555555555556, \"#d8576b\"], [0.6666666666666666, \"#ed7953\"], [0.7777777777777778, \"#fb9f3a\"], [0.8888888888888888, \"#fdca26\"], [1.0, \"#f0f921\"]], \"type\": \"histogram2dcontour\"}], \"mesh3d\": [{\"colorbar\": {\"outlinewidth\": 0, \"ticks\": \"\"}, \"type\": \"mesh3d\"}], \"parcoords\": [{\"line\": {\"colorbar\": {\"outlinewidth\": 0, \"ticks\": \"\"}}, \"type\": \"parcoords\"}], \"pie\": [{\"automargin\": true, \"type\": \"pie\"}], \"scatter\": [{\"marker\": {\"colorbar\": {\"outlinewidth\": 0, \"ticks\": \"\"}}, \"type\": \"scatter\"}], \"scatter3d\": [{\"line\": {\"colorbar\": {\"outlinewidth\": 0, \"ticks\": \"\"}}, \"marker\": {\"colorbar\": {\"outlinewidth\": 0, \"ticks\": \"\"}}, \"type\": \"scatter3d\"}], \"scattercarpet\": [{\"marker\": {\"colorbar\": {\"outlinewidth\": 0, \"ticks\": \"\"}}, \"type\": \"scattercarpet\"}], \"scattergeo\": [{\"marker\": {\"colorbar\": {\"outlinewidth\": 0, \"ticks\": \"\"}}, \"type\": \"scattergeo\"}], \"scattergl\": [{\"marker\": {\"colorbar\": {\"outlinewidth\": 0, \"ticks\": \"\"}}, \"type\": \"scattergl\"}], \"scattermapbox\": [{\"marker\": {\"colorbar\": {\"outlinewidth\": 0, \"ticks\": \"\"}}, \"type\": \"scattermapbox\"}], \"scatterpolar\": [{\"marker\": {\"colorbar\": {\"outlinewidth\": 0, \"ticks\": \"\"}}, \"type\": \"scatterpolar\"}], \"scatterpolargl\": [{\"marker\": {\"colorbar\": {\"outlinewidth\": 0, \"ticks\": \"\"}}, \"type\": \"scatterpolargl\"}], \"scatterternary\": [{\"marker\": {\"colorbar\": {\"outlinewidth\": 0, \"ticks\": \"\"}}, \"type\": \"scatterternary\"}], \"surface\": [{\"colorbar\": {\"outlinewidth\": 0, \"ticks\": \"\"}, \"colorscale\": [[0.0, \"#0d0887\"], [0.1111111111111111, \"#46039f\"], [0.2222222222222222, \"#7201a8\"], [0.3333333333333333, \"#9c179e\"], [0.4444444444444444, \"#bd3786\"], [0.5555555555555556, \"#d8576b\"], [0.6666666666666666, \"#ed7953\"], [0.7777777777777778, \"#fb9f3a\"], [0.8888888888888888, \"#fdca26\"], [1.0, \"#f0f921\"]], \"type\": \"surface\"}], \"table\": [{\"cells\": {\"fill\": {\"color\": \"#EBF0F8\"}, \"line\": {\"color\": \"white\"}}, \"header\": {\"fill\": {\"color\": \"#C8D4E3\"}, \"line\": {\"color\": \"white\"}}, \"type\": \"table\"}]}, \"layout\": {\"annotationdefaults\": {\"arrowcolor\": \"#2a3f5f\", \"arrowhead\": 0, \"arrowwidth\": 1}, \"coloraxis\": {\"colorbar\": {\"outlinewidth\": 0, \"ticks\": \"\"}}, \"colorscale\": {\"diverging\": [[0, \"#8e0152\"], [0.1, \"#c51b7d\"], [0.2, \"#de77ae\"], [0.3, \"#f1b6da\"], [0.4, \"#fde0ef\"], [0.5, \"#f7f7f7\"], [0.6, \"#e6f5d0\"], [0.7, \"#b8e186\"], [0.8, \"#7fbc41\"], [0.9, \"#4d9221\"], [1, \"#276419\"]], \"sequential\": [[0.0, \"#0d0887\"], [0.1111111111111111, \"#46039f\"], [0.2222222222222222, \"#7201a8\"], [0.3333333333333333, \"#9c179e\"], [0.4444444444444444, \"#bd3786\"], [0.5555555555555556, \"#d8576b\"], [0.6666666666666666, \"#ed7953\"], [0.7777777777777778, \"#fb9f3a\"], [0.8888888888888888, \"#fdca26\"], [1.0, \"#f0f921\"]], \"sequentialminus\": [[0.0, \"#0d0887\"], [0.1111111111111111, \"#46039f\"], [0.2222222222222222, \"#7201a8\"], [0.3333333333333333, \"#9c179e\"], [0.4444444444444444, \"#bd3786\"], [0.5555555555555556, \"#d8576b\"], [0.6666666666666666, \"#ed7953\"], [0.7777777777777778, \"#fb9f3a\"], [0.8888888888888888, \"#fdca26\"], [1.0, \"#f0f921\"]]}, \"colorway\": [\"#636efa\", \"#EF553B\", \"#00cc96\", \"#ab63fa\", \"#FFA15A\", \"#19d3f3\", \"#FF6692\", \"#B6E880\", \"#FF97FF\", \"#FECB52\"], \"font\": {\"color\": \"#2a3f5f\"}, \"geo\": {\"bgcolor\": \"white\", \"lakecolor\": \"white\", \"landcolor\": \"#E5ECF6\", \"showlakes\": true, \"showland\": true, \"subunitcolor\": \"white\"}, \"hoverlabel\": {\"align\": \"left\"}, \"hovermode\": \"closest\", \"mapbox\": {\"style\": \"light\"}, \"paper_bgcolor\": \"white\", \"plot_bgcolor\": \"#E5ECF6\", \"polar\": {\"angularaxis\": {\"gridcolor\": \"white\", \"linecolor\": \"white\", \"ticks\": \"\"}, \"bgcolor\": \"#E5ECF6\", \"radialaxis\": {\"gridcolor\": \"white\", \"linecolor\": \"white\", \"ticks\": \"\"}}, \"scene\": {\"xaxis\": {\"backgroundcolor\": \"#E5ECF6\", \"gridcolor\": \"white\", \"gridwidth\": 2, \"linecolor\": \"white\", \"showbackground\": true, \"ticks\": \"\", \"zerolinecolor\": \"white\"}, \"yaxis\": {\"backgroundcolor\": \"#E5ECF6\", \"gridcolor\": \"white\", \"gridwidth\": 2, \"linecolor\": \"white\", \"showbackground\": true, \"ticks\": \"\", \"zerolinecolor\": \"white\"}, \"zaxis\": {\"backgroundcolor\": \"#E5ECF6\", \"gridcolor\": \"white\", \"gridwidth\": 2, \"linecolor\": \"white\", \"showbackground\": true, \"ticks\": \"\", \"zerolinecolor\": \"white\"}}, \"shapedefaults\": {\"line\": {\"color\": \"#2a3f5f\"}}, \"ternary\": {\"aaxis\": {\"gridcolor\": \"white\", \"linecolor\": \"white\", \"ticks\": \"\"}, \"baxis\": {\"gridcolor\": \"white\", \"linecolor\": \"white\", \"ticks\": \"\"}, \"bgcolor\": \"#E5ECF6\", \"caxis\": {\"gridcolor\": \"white\", \"linecolor\": \"white\", \"ticks\": \"\"}}, \"title\": {\"x\": 0.05}, \"xaxis\": {\"automargin\": true, \"gridcolor\": \"white\", \"linecolor\": \"white\", \"ticks\": \"\", \"title\": {\"standoff\": 15}, \"zerolinecolor\": \"white\", \"zerolinewidth\": 2}, \"yaxis\": {\"automargin\": true, \"gridcolor\": \"white\", \"linecolor\": \"white\", \"ticks\": \"\", \"title\": {\"standoff\": 15}, \"zerolinecolor\": \"white\", \"zerolinewidth\": 2}}}, \"title\": {\"text\": \"Letalidade - 01-05-2020\"}, \"xaxis\": {\"anchor\": \"y\", \"domain\": [0.0, 1.0], \"title\": {\"text\": \"letalidade\"}}, \"yaxis\": {\"anchor\": \"x\", \"categoryarray\": [\"China\", \"South_Korea\", \"Italy\", \"Japan\", \"United_States_of_America\", \"France\", \"United_Kingdom\", \"Germany\", \"Brazil\", \"Portugal\", \"Argentina\", \"Czechia\", \"Taiwan\", \"New_Zealand\"], \"categoryorder\": \"array\", \"domain\": [0.0, 1.0], \"title\": {\"text\": \"countriesAndTerritories\"}, \"type\": \"category\"}},\n",
              "                        {\"responsive\": true}\n",
              "                    ).then(function(){\n",
              "                            \n",
              "var gd = document.getElementById('657b78fe-e95b-4dda-9bbf-db6e461fafa5');\n",
              "var x = new MutationObserver(function (mutations, observer) {{\n",
              "        var display = window.getComputedStyle(gd).display;\n",
              "        if (!display || display === 'none') {{\n",
              "            console.log([gd, 'removed!']);\n",
              "            Plotly.purge(gd);\n",
              "            observer.disconnect();\n",
              "        }}\n",
              "}});\n",
              "\n",
              "// Listen for the removal of the full notebook cells\n",
              "var notebookContainer = gd.closest('#notebook-container');\n",
              "if (notebookContainer) {{\n",
              "    x.observe(notebookContainer, {childList: true});\n",
              "}}\n",
              "\n",
              "// Listen for the clearing of the current output cell\n",
              "var outputEl = gd.closest('.output');\n",
              "if (outputEl) {{\n",
              "    x.observe(outputEl, {childList: true});\n",
              "}}\n",
              "\n",
              "                        })\n",
              "                };\n",
              "                \n",
              "            </script>\n",
              "        </div>\n",
              "</body>\n",
              "</html>"
            ]
          },
          "metadata": {
            "tags": []
          }
        }
      ]
    },
    {
      "cell_type": "markdown",
      "metadata": {
        "id": "ygcwLcMKe2iF",
        "colab_type": "text"
      },
      "source": [
        "O gráfico a seguir apresenta a curva de letalidade dos países. Novamente reiteramos que: mais do que de fato apresentar uma flutuação da letalidade do vírus, que muito provavelmente não varia tão abruptamente, esses gráficos demonstram, por exemplo, um aumento na quantidade de testes (quando a taxa de letalidade cai), uma mudança na forma de contabilizar os óbitos, entre outros.\n"
      ]
    },
    {
      "cell_type": "code",
      "metadata": {
        "id": "GFIHQG9MYlnJ",
        "colab_type": "code",
        "outputId": "2f71cbb6-b837-4ecc-f0c0-7914270270b0",
        "colab": {
          "base_uri": "https://localhost:8080/",
          "height": 542
        }
      },
      "source": [
        "#hide_input\n",
        "fig = go.Figure()\n",
        "fig.add_trace(go.Scatter(x=final_data['indice'][final_data['countriesAndTerritories']=='Brazil'], \n",
        "                         y=final_data['letalidade'][final_data['countriesAndTerritories']=='Brazil'], name='Brasil',line=dict(color='black', width=5)))\n",
        "fig.add_trace(go.Scatter(x=final_data['indice'][final_data['countriesAndTerritories']=='France'], \n",
        "                         y=final_data['letalidade'][final_data['countriesAndTerritories']=='France'], name='França',line=dict(color='red', width=2)))\n",
        "fig.add_trace(go.Scatter(x=final_data['indice'][final_data['countriesAndTerritories']=='Spain'], \n",
        "                         y=final_data['letalidade'][final_data['countriesAndTerritories']=='Spain'], name='Espanha',line=dict(color='blue', width=2)))\n",
        "fig.add_trace(go.Scatter(x=final_data['indice'][final_data['countriesAndTerritories']=='Italy'], \n",
        "                         y=final_data['letalidade'][final_data['countriesAndTerritories']=='Italy'], name='Itália',line=dict(color='green', width=2)))\n",
        "fig.add_trace(go.Scatter(x=final_data['indice'][final_data['countriesAndTerritories']=='United_Kingdom'], \n",
        "                         y=final_data['letalidade'][final_data['countriesAndTerritories']=='United_Kingdom'], name='Reino Unido',line=dict(color='yellowgreen', width=2)))\n",
        "fig.add_trace(go.Scatter(x=final_data['indice'][final_data['countriesAndTerritories']=='Argentina'], \n",
        "                         y=final_data['letalidade'][final_data['countriesAndTerritories']=='Argentina'],mode='lines', name='Argentina',line=dict(color='darkgreen', width=2)))\n",
        "fig.add_trace(go.Scatter(x=final_data['indice'][final_data['countriesAndTerritories']=='Germany'], \n",
        "                         y=final_data['letalidade'][final_data['countriesAndTerritories']=='Germany'], name='Alemanha',line=dict(color='darkslateblue', width=2)))\n",
        "fig.add_trace(go.Scatter(x=final_data['indice'][final_data['countriesAndTerritories']=='United_States_of_America'], \n",
        "                         y=final_data['letalidade'][final_data['countriesAndTerritories']=='United_States_of_America'], name='EUA',line=dict(color='mediumpurple', width=2)))\n",
        "fig.add_trace(go.Scatter(x=final_data['indice'][final_data['countriesAndTerritories']=='New_Zealand'], \n",
        "                         y=final_data['letalidade'][final_data['countriesAndTerritories']=='New_Zealand'],mode='lines', name='Nova Zelândia',line=dict(color='yellow', width=2)))\n",
        "fig.add_trace(go.Scatter(x=final_data['indice'][final_data['countriesAndTerritories']=='Portugal'], \n",
        "                         y=final_data['letalidade'][final_data['countriesAndTerritories']=='Portugal'], name='Portugal',line=dict(color='darkgrey', width=2)))\n",
        "\n",
        "fig.add_trace(go.Scatter(x=final_data['indice'][final_data['countriesAndTerritories']=='Czechia'], \n",
        "                         y=final_data['letalidade'][final_data['countriesAndTerritories']=='Czechia'],mode='lines', name='República Tcheca',line=dict(color='magenta', width=2)))\n",
        "fig.add_trace(go.Scatter(x=final_data['indice'][final_data['countriesAndTerritories']=='South_Korea'], \n",
        "                         y=final_data['letalidade'][final_data['countriesAndTerritories']=='South_Korea'], name='Coréia do Sul',line=dict(color='brown', width=2)))\n",
        "fig.add_trace(go.Scatter(x=final_data['indice'][final_data['countriesAndTerritories']=='Taiwan'], \n",
        "                         y=final_data['letalidade'][final_data['countriesAndTerritories']=='Taiwan'],mode='lines', name='Taiwan',line=dict(color='grey', width=2)))\n",
        "fig.add_trace(go.Scatter(x=final_data['indice'][final_data['countriesAndTerritories']=='Hong_Kong'], \n",
        "                         y=final_data['letalidade'][final_data['countriesAndTerritories']=='Hong_Kong'], name='Hong Kong',line=dict(color='lavenderblush', width=2)))\n",
        "fig.add_trace(go.Scatter(x=final_data['indice'][final_data['countriesAndTerritories']=='Japan'], \n",
        "                         y=final_data['letalidade'][final_data['countriesAndTerritories']=='Japan'], name='Japão',line=dict(color='pink', width=2)))\n",
        "fig.add_trace(go.Scatter(x=final_data['indice'][final_data['countriesAndTerritories']=='China'], \n",
        "                         y=final_data['letalidade'][final_data['countriesAndTerritories']=='China'], name='China',line=dict(color='lightgreen', width=2)))\n",
        "\n",
        "fig.update_xaxes(tickangle=0, tickfont=dict(size=10))\n",
        "\n",
        "fig.update_layout(title='COVID-19 - Curvas de letalidade' .format(today),\n",
        "                   xaxis_title='Dias desde o 5º óbito',\n",
        "                   yaxis_title='Letalidade (%)',legend= {'borderwidth':0,'orientation':'v','yanchor':'top','font':{'size':8}})"
      ],
      "execution_count": 28,
      "outputs": [
        {
          "output_type": "display_data",
          "data": {
            "text/html": [
              "<html>\n",
              "<head><meta charset=\"utf-8\" /></head>\n",
              "<body>\n",
              "    <div>\n",
              "            <script src=\"https://cdnjs.cloudflare.com/ajax/libs/mathjax/2.7.5/MathJax.js?config=TeX-AMS-MML_SVG\"></script><script type=\"text/javascript\">if (window.MathJax) {MathJax.Hub.Config({SVG: {font: \"STIX-Web\"}});}</script>\n",
              "                <script type=\"text/javascript\">window.PlotlyConfig = {MathJaxConfig: 'local'};</script>\n",
              "        <script src=\"https://cdn.plot.ly/plotly-latest.min.js\"></script>    \n",
              "            <div id=\"cd4d213a-c9a8-4f83-a128-9b58ba602277\" class=\"plotly-graph-div\" style=\"height:525px; width:100%;\"></div>\n",
              "            <script type=\"text/javascript\">\n",
              "                \n",
              "                    window.PLOTLYENV=window.PLOTLYENV || {};\n",
              "                    \n",
              "                if (document.getElementById(\"cd4d213a-c9a8-4f83-a128-9b58ba602277\")) {\n",
              "                    Plotly.newPlot(\n",
              "                        'cd4d213a-c9a8-4f83-a128-9b58ba602277',\n",
              "                        [{\"line\": {\"color\": \"black\", \"width\": 5}, \"name\": \"Brasil\", \"type\": \"scatter\", \"x\": [0, 1, 2, 3, 4, 5, 6, 7, 8, 9, 10, 11, 12, 13, 14, 15, 16, 17, 18, 19, 20, 21, 22, 23, 24, 25, 26, 27, 28, 29, 30, 31, 32, 33, 34, 35, 36, 37, 38, 39, 40, 41, 42], \"y\": [0.966183574879227, 1.2168141592920354, 1.5957446808510638, 1.6170763260025873, 1.7979904812268641, 2.089959109495684, 2.342786683107275, 2.641509433962264, 2.6924202516827624, 2.9200819672131146, 3.1954887218045114, 3.4723738807599913, 3.5158299807591393, 3.5254534815681686, 3.7800252844500632, 3.9642226148409896, 4.203152364273205, 4.366576819407008, 4.586927670869277, 4.862579281183932, 5.0229170590820615, 5.269642157137257, 5.377329666972197, 5.422878371206639, 5.51671252650097, 5.66794707639778, 6.064444620378434, 6.129943502824859, 6.323746918652424, 6.356510896027552, 6.412743517582448, 6.369327883272106, 6.345334023311402, 6.362728939854685, 6.350940839652949, 6.694011153317708, 6.925181620907633, 6.863901280144935, 6.7945320579110655, 6.831476218402731, 6.979105806415713, 6.993168035618331, 6.91145467322558]}, {\"line\": {\"color\": \"red\", \"width\": 2}, \"name\": \"Fran\\u00e7a\", \"type\": \"scatter\", \"x\": [0, 1, 2, 3, 4, 5, 6, 7, 8, 9, 10, 11, 12, 13, 14, 15, 16, 17, 18, 19, 20, 21, 22, 23, 24, 25, 26, 27, 28, 29, 30, 31, 32, 33, 34, 35, 36, 37, 38, 39, 40, 41, 42, 43, 44, 45, 46, 47, 48, 49, 50, 51, 52, 53, 54, 55, 56], \"y\": [1.6548463356973995, 1.468189233278956, 1.3966480446927374, 1.6873889875666075, 2.1246458923512748, 1.8497757847533631, 2.104340201665936, 2.121001390820584, 2.157880360557225, 2.0226717048232943, 2.3418771897473722, 2.231267902909694, 2.263906856403622, 2.6713378585504706, 3.383356070941337, 3.5680304471931494, 3.88685247942458, 4.207766262954177, 4.331184528605963, 4.932293067886288, 5.274838505132168, 5.817184016463728, 6.052056789224609, 6.1583499667332005, 6.4867824961417835, 6.787878787878788, 6.758364027010436, 7.075049570969837, 7.618644784705186, 10.113774130373962, 11.019604985059399, 11.461732739294531, 11.978760586100282, 13.212736832678752, 13.247123634945398, 14.142747932448398, 14.554016498301646, 14.747840921206953, 15.086527677326709, 15.260614217545577, 15.186390275457889, 16.163870214488824, 16.463476255661618, 17.099000475963827, 17.280296187657058, 17.510612223149742, 17.67445511394856, 17.725273601309194, 17.91004691525879, 18.092116155094203, 18.147776499669597, 18.22034581110914, 18.347180413405578, 18.520314860459568, 18.65415697559822, 18.753211566310085, 18.81139981941797]}, {\"line\": {\"color\": \"blue\", \"width\": 2}, \"name\": \"Espanha\", \"type\": \"scatter\", \"x\": [0, 1, 2, 3, 4, 5, 6, 7, 8, 9, 10, 11, 12, 13, 14, 15, 16, 17, 18, 19, 20, 21, 22, 23, 24, 25, 26, 27, 28, 29, 30, 31, 32, 33, 34, 35, 36, 37, 38, 39, 40, 41, 42, 43, 44, 45, 46, 47, 48, 49, 50, 51, 52, 53, 54], \"y\": [1.3368983957219251, 1.1627906976744187, 0.8488964346349746, 2.3255813953488373, 2.135448444173276, 2.196261682242991, 2.796271637816245, 2.859844008508627, 2.363984008343473, 3.714691087321037, 3.361984550103362, 4.392556808015745, 4.359871682706328, 4.473085670962851, 5.015015015015015, 5.319746449490492, 6.0198796024079515, 6.594336486445647, 6.795553651097724, 7.212770426381012, 7.27735459528725, 7.583633837556003, 7.875650537039087, 8.284579362158459, 8.615529080345091, 8.673226219854476, 8.86367196678938, 9.074003519657468, 9.289779967717271, 9.415084658799385, 9.496860636743934, 9.66807867764678, 9.81994164116433, 9.922285091008249, 9.99567059811343, 10.089668963584721, 10.103674962311247, 10.222926291569037, 10.318237598527398, 10.298426723166388, 10.409136988716503, 10.477450727257079, 10.548503220917015, 10.84590991526053, 10.9079685922485, 10.941058530190475, 11.015917460510698, 11.0677642686594, 11.097698572632181, 11.122605084869235, 11.16869106215745, 11.071061991263457, 11.302206639370318, 11.40115631912905, 11.499051233396585]}, {\"line\": {\"color\": \"green\", \"width\": 2}, \"name\": \"It\\u00e1lia\", \"type\": \"scatter\", \"x\": [0, 1, 2, 3, 4, 5, 6, 7, 8, 9, 10, 11, 12, 13, 14, 15, 16, 17, 18, 19, 20, 21, 22, 23, 24, 25, 26, 27, 28, 29, 30, 31, 32, 33, 34, 35, 36, 37, 38, 39, 40, 41, 42, 43, 44, 45, 46, 47, 48, 49, 50, 51, 52, 53, 54, 55, 56, 57, 58, 59, 60, 61, 62, 63, 64, 65, 66], \"y\": [2.6200873362445414, 3.4161490683229814, 3.0, 2.6153846153846154, 2.364864864864865, 2.5709219858156027, 2.0722320899940794, 2.5540275049115913, 3.1974420463629096, 3.463904176108773, 3.83618455158113, 4.249352890422778, 3.9605643379228286, 4.96271186440678, 5.058874836458788, 6.217361316385851, 6.636173968865351, 6.722689075630252, 7.180067950169875, 6.810984544122513, 7.552126772310259, 7.7126518942101505, 7.950866501618739, 8.338700193206956, 8.302668453758987, 8.574892069500862, 9.009294859830527, 9.259697656329264, 9.506155458569932, 9.858910604834046, 10.089264108837684, 10.137945591576752, 10.562093921246735, 10.838956657150273, 11.036042952635404, 11.392877854116907, 11.74947065940714, 11.898818890516758, 12.076326339355443, 12.25182972118137, 12.325887412542524, 12.322021279895772, 12.46727575878745, 12.633310223769415, 12.673035819311156, 12.728196844582458, 12.773670693942822, 12.786413696632977, 12.727435518632925, 12.829434037964843, 12.966495987395993, 13.10708122672641, 13.12410841654779, 13.191713931127271, 13.202785277817252, 13.219945019332632, 13.305890921932594, 13.398783411340693, 13.39102211640607, 13.448753243882026, 13.455858731359523, 13.505945707982043, 13.478689768559505, 13.528137442707132, 13.577330587330339, 13.596868230913941, 13.611696509833887]}, {\"line\": {\"color\": \"yellowgreen\", \"width\": 2}, \"name\": \"Reino Unido\", \"type\": \"scatter\", \"x\": [0, 1, 2, 3, 4, 5, 6, 7, 8, 9, 10, 11, 12, 13, 14, 15, 16, 17, 18, 19, 20, 21, 22, 23, 24, 25, 26, 27, 28, 29, 30, 31, 32, 33, 34, 35, 36, 37, 38, 39, 40, 41, 42, 43, 44, 45, 46, 47, 48, 49, 50, 51], \"y\": [1.876675603217158, 1.5350877192982457, 1.5254237288135593, 1.4144271570014144, 2.456140350877193, 3.0913012221423437, 4.212572909915749, 4.153846153846154, 4.3726235741444865, 4.821483063777846, 4.870700477027366, 4.982064567556796, 5.014956888967095, 5.398496240601504, 6.289463909867525, 7.283030748242208, 7.522731171727569, 7.9832221687409755, 8.51424893206156, 8.549328962196496, 9.22722550923626, 9.642147117296222, 10.500780348781978, 11.112758763864997, 11.68780129951792, 12.459728420399495, 12.268334518679664, 12.465121686560224, 13.524130190796857, 14.003918792089967, 14.76404874225917, 15.311930783242259, 14.683951336228178, 14.576584914391486, 14.701932950429356, 14.991531111182129, 15.145822332344936, 15.465647522140204, 15.529201781179848, 15.75422222611345, 15.40140088450615, 15.272199642464908, 15.671398902699854, 15.77587175549646, 15.778762728312982, 15.886912396141192, 15.929018648442819, 15.73868097356713, 15.52221140446328, 15.701386949641627, 15.795207630991218, 15.632426877193392]}, {\"line\": {\"color\": \"darkgreen\", \"width\": 2}, \"mode\": \"lines\", \"name\": \"Argentina\", \"type\": \"scatter\", \"x\": [0, 1, 2, 3, 4, 5, 6, 7, 8, 9, 10, 11, 12, 13, 14, 15, 16, 17, 18, 19, 20, 21, 22, 23, 24, 25, 26, 27, 28, 29, 30, 31, 32, 33, 34, 35, 36, 37], \"y\": [1.550387596899225, 1.593625498007968, 2.037351443123939, 2.463768115942029, 2.5503355704697985, 2.4390243902439024, 2.484472049689441, 2.484472049689441, 2.736098852603707, 3.000882612533098, 2.924901185770751, 2.963473466574776, 2.9601029601029603, 3.2555282555282554, 3.498542274052478, 3.6211699164345403, 4.171066525871172, 4.151898734177215, 4.16471689284043, 4.312301407172038, 4.313380281690141, 4.317434210526316, 4.4819078947368425, 4.4921875, 4.5899172310007526, 4.667609618104668, 4.573378839590443, 4.701986754966887, 4.821200510855683, 4.853479853479853, 4.820333041191937, 4.878761320479112, 4.911069816830369, 4.937616140164587, 4.93734335839599, 5.031599416626155, 5.00936329588015, 4.937712344280861]}, {\"line\": {\"color\": \"darkslateblue\", \"width\": 2}, \"name\": \"Alemanha\", \"type\": \"scatter\", \"x\": [0, 1, 2, 3, 4, 5, 6, 7, 8, 9, 10, 11, 12, 13, 14, 15, 16, 17, 18, 19, 20, 21, 22, 23, 24, 25, 26, 27, 28, 29, 30, 31, 32, 33, 34, 35, 36, 37, 38, 39, 40, 41, 42, 43, 44, 45, 46, 47, 48, 49], \"y\": [0.21105951878429718, 0.16329196603527107, 0.21080368906455862, 0.24803637866887143, 0.2162341982701264, 0.18166573504751257, 0.15857526225908758, 0.3041448578299618, 0.24742948259745973, 0.31216512137166286, 0.37943004763058047, 0.431329590579214, 0.47220637637066615, 0.5423468828749863, 0.5982784714339765, 0.6689720472603021, 0.7402896454602547, 0.7940940346958009, 0.9416439196937638, 1.086601549743194, 1.186039552786921, 1.276099176872114, 1.3499965025997342, 1.4632444337832828, 1.5032864735666887, 1.619551524313429, 1.8028054403843918, 1.9472837840335668, 2.090288482713059, 2.1621989155008583, 2.218643913047087, 2.275313780321259, 2.373339301987242, 2.5504765487835463, 2.7359141433499423, 2.8902338788014648, 2.9904175670661166, 3.0694010593508083, 3.1085888531255295, 3.2051416103780226, 3.3487995387593177, 3.44082244707726, 3.538298876867731, 3.6080242459229326, 3.6581806388843847, 3.7050640170626252, 3.782214063209605, 3.8790669939926796, 3.951759375058918, 3.951759375058918]}, {\"line\": {\"color\": \"mediumpurple\", \"width\": 2}, \"name\": \"EUA\", \"type\": \"scatter\", \"x\": [0, 1, 2, 3, 4, 5, 6, 7, 8, 9, 10, 11, 12, 13, 14, 15, 16, 17, 18, 19, 20, 21, 22, 23, 24, 25, 26, 27, 28, 29, 30, 31, 32, 33, 34, 35, 36, 37, 38, 39, 40, 41, 42, 43, 44, 45, 46, 47, 48, 49, 50, 51, 52, 53, 54, 55, 56, 57, 58, 59], \"y\": [5.825242718446602, 7.2, 6.918238993710692, 5.150214592274678, 4.1420118343195265, 3.9260969976905313, 3.7906137184115525, 3.4482758620689653, 2.731707317073171, 2.2865853658536586, 2.4052916416115453, 2.1619135234590616, 1.9315486275838698, 1.8282988871224166, 1.8236429950654367, 1.6804107670763964, 1.5932023366967605, 1.0526315789473684, 1.3249082755809214, 1.2711705985718025, 1.3378401408850764, 1.2704017914818484, 1.4502724918976662, 1.5174726132323613, 1.5071344675605587, 1.6305905278642798, 1.7575101271407372, 1.754238769445901, 1.9256469444781923, 2.15116708329378, 2.3707900941763835, 2.4651787896065813, 2.5747845951828467, 2.7226113497119178, 2.857227479378619, 2.9845517061565037, 3.233377381152381, 3.4288134181222403, 3.5812914536095084, 3.7437195948640243, 3.8886614045449486, 3.965055571398082, 4.05925910668493, 4.275031336338997, 4.843949323394782, 4.957911968909524, 5.277114748121521, 5.293258203802004, 5.355100192579313, 5.400049761853984, 5.4619103777872855, 5.552146911630148, 5.748344401338286, 5.728874235843167, 5.664110545411175, 5.681274652917974, 5.69021630814274, 5.762984367701216, 5.8626283645972865, 5.889368925414039]}, {\"line\": {\"color\": \"yellow\", \"width\": 2}, \"mode\": \"lines\", \"name\": \"Nova Zel\\u00e2ndia\", \"type\": \"scatter\", \"x\": [0, 1, 2, 3, 4, 5, 6, 7, 8, 9, 10, 11, 12, 13, 14, 15, 16, 17, 18], \"y\": [0.4699248120300752, 0.8395522388059702, 0.8348794063079777, 0.8302583025830258, 1.0128913443830572, 1.0054844606946984, 1.092896174863388, 1.085972850678733, 1.1743450767841013, 1.2589928057553956, 1.4388489208633093, 1.5260323159784561, 1.611459265890779, 1.6057091882247994, 1.6934046345811051, 1.690391459074733, 1.6873889875666075, 1.6829052258635961, 1.6784452296819787]}, {\"line\": {\"color\": \"darkgrey\", \"width\": 2}, \"name\": \"Portugal\", \"type\": \"scatter\", \"x\": [0, 1, 2, 3, 4, 5, 6, 7, 8, 9, 10, 11, 12, 13, 14, 15, 16, 17, 18, 19, 20, 21, 22, 23, 24, 25, 26, 27, 28, 29, 30, 31, 32, 33, 34, 35, 36, 37, 38, 39, 40, 41], \"y\": [0.5882352941176471, 0.9375, 0.875, 1.116504854368932, 1.397121083827265, 1.4357262103505843, 1.693002257336343, 1.780693533270853, 1.9342359767891684, 1.9959745051995974, 2.184769038701623, 2.149670831653903, 2.2663919524906073, 2.3134823998228913, 2.488367388225774, 2.5275560623337134, 2.615712005674765, 2.651321398124467, 2.7728660986979587, 2.891712959439921, 2.930639151619375, 2.81153050672182, 2.939888659535873, 3.0388905637624357, 3.159324436045825, 3.249656121045392, 3.311038637996794, 3.3384639881110343, 3.453895489433288, 3.4899669799339597, 3.533603880035633, 3.522983271820927, 3.564245287431592, 3.571103630242926, 3.6684113989173714, 3.7461069438961268, 3.761969904240766, 3.7839423399262486, 3.8623215549173846, 3.8977057807746074, 3.9706182411752704, 3.9471583652618136]}, {\"line\": {\"color\": \"magenta\", \"width\": 2}, \"mode\": \"lines\", \"name\": \"Rep\\u00fablica Tcheca\", \"type\": \"scatter\", \"x\": [0, 1, 2, 3, 4, 5, 6, 7, 8, 9, 10, 11, 12, 13, 14, 15, 16, 17, 18, 19, 20, 21, 22, 23, 24, 25, 26, 27, 28, 29, 30, 31, 32, 33, 34, 35, 36], \"y\": [0.36275695284159615, 0.4364694471387003, 0.39491004826678366, 0.41306796845662785, 0.5655708731000354, 0.7994670219853431, 0.9371221281741233, 1.0866536639732516, 1.1404872991187143, 1.2649164677804297, 1.319320214669052, 1.460649662088511, 1.6175860638739112, 1.7540362766593582, 1.8637048192771084, 2.0111330579996407, 2.076064200976971, 2.185699762792274, 2.303455182774161, 2.3601254332398085, 2.6217228464419478, 2.6336665080120576, 2.6270791232706356, 2.6416246755229804, 2.7201683198076343, 2.770001473405039, 2.834827885449812, 2.8547081380485726, 2.942825112107623, 2.963272120200334, 2.9561391447820706, 2.9651795429815015, 2.9848730415991356, 2.993690428245402, 3.025053304904051, 2.995118089457712, 3.072116636292632]}, {\"line\": {\"color\": \"brown\", \"width\": 2}, \"name\": \"Cor\\u00e9ia do Sul\", \"type\": \"scatter\", \"x\": [0, 1, 2, 3, 4, 5, 6, 7, 8, 9, 10, 11, 12, 13, 14, 15, 16, 17, 18, 19, 20, 21, 22, 23, 24, 25, 26, 27, 28, 29, 30, 31, 32, 33, 34, 35, 36, 37, 38, 39, 40, 41, 42, 43, 44, 45, 46, 47, 48, 49, 50, 51, 52, 53, 54, 55, 56, 57, 58, 59, 60, 61, 62, 63, 64, 65, 66, 67, 68], \"y\": [0.831946755407654, 0.9186351706036745, 0.8968609865470852, 0.9598603839441536, 0.7523510971786834, 0.6429277942631059, 0.5458887751620607, 0.4821327283040272, 0.5223171889838556, 0.5818786367414797, 0.6006006006006006, 0.6070065903572668, 0.668364099299809, 0.6502142751588592, 0.7008690776562938, 0.6908696830127337, 0.7187541594569413, 0.7736943907156673, 0.8387342737323675, 0.8397042235869157, 0.8904279000742024, 0.9188924283263906, 0.9106362311801846, 0.9735576923076923, 1.0222275050517058, 1.0624635143023935, 1.155802126675913, 1.170587566768951, 1.1689333483196582, 1.2610199754491687, 1.327874294566781, 1.3790084272737222, 1.4175954983226924, 1.4894984997856837, 1.519307870858831, 1.5861421266826672, 1.635441465686782, 1.665644798692009, 1.665644798692009, 1.694065757818765, 1.72927847346452, 1.7428121307601419, 1.7876330956334863, 1.808634772462077, 1.8584841738457072, 1.926040061633282, 1.9572100163100834, 1.9904306220095693, 1.9904306220095693, 2.0357686453576864, 2.059409699155357, 2.101476713366149, 2.12444528373147, 2.157731084518986, 2.1626704278326283, 2.177790293813949, 2.1949160491511117, 2.2109799512834925, 2.218477955630441, 2.225547035720965, 2.242571481965988, 2.2413149047441165, 2.239223735771599, 2.255779269202088, 2.2629912460420933, 2.269345238095238, 2.2860328965709504, 2.29447282861124, 2.301837757564507]}, {\"line\": {\"color\": \"grey\", \"width\": 2}, \"mode\": \"lines\", \"name\": \"Taiwan\", \"type\": \"scatter\", \"x\": [0, 1, 2, 3, 4, 5, 6, 7, 8, 9, 10, 11, 12, 13, 14, 15, 16, 17, 18, 19, 20, 21, 22, 23, 24, 25, 26, 27, 28, 29, 30, 31, 32], \"y\": [1.6339869281045751, 1.6339869281045751, 1.5527950310559007, 1.4749262536873156, 1.4749262536873156, 1.408450704225352, 1.3774104683195592, 1.3774104683195592, 1.3404825737265416, 1.3297872340425532, 1.3192612137203166, 1.3157894736842106, 1.3157894736842106, 1.5584415584415585, 1.5463917525773196, 1.5267175572519085, 1.518987341772152, 1.518987341772152, 1.518987341772152, 1.518987341772152, 1.5075376884422111, 1.4285714285714286, 1.4218009478672986, 1.411764705882353, 1.408450704225352, 1.405152224824356, 1.4018691588785046, 1.3986013986013985, 1.3986013986013985, 1.3986013986013985, 1.3986013986013985, 1.3986013986013985, 1.3986013986013985]}, {\"line\": {\"color\": \"lavenderblush\", \"width\": 2}, \"name\": \"Hong Kong\", \"type\": \"scatter\", \"x\": [], \"y\": []}, {\"line\": {\"color\": \"pink\", \"width\": 2}, \"name\": \"Jap\\u00e3o\", \"type\": \"scatter\", \"x\": [0, 1, 2, 3, 4, 5, 6, 7, 8, 9, 10, 11, 12, 13, 14, 15, 16, 17, 18, 19, 20, 21, 22, 23, 24, 25, 26, 27, 28, 29, 30, 31, 32, 33, 34, 35, 36, 37, 38, 39, 40, 41, 42, 43, 44, 45, 46, 47, 48, 49, 50, 51, 52, 53, 54, 55, 56, 57, 58, 59, 60, 61], \"y\": [2.092050209205021, 2.3622047244094486, 2.3622047244094486, 2.2388059701492535, 1.8927444794952681, 1.7191977077363896, 1.4705882352941178, 1.3186813186813187, 1.4344262295081966, 1.7509727626459144, 2.112676056338028, 2.4232633279483036, 2.814814814814815, 2.8493894165535956, 2.8205128205128207, 2.9484029484029484, 3.3980582524271843, 3.3775633293124248, 3.3218785796105386, 3.473684210526316, 3.4756703078450846, 3.4416826003824093, 3.7649219467401287, 3.723404255319149, 3.604358759430008, 3.548895899053628, 3.372434017595308, 3.268845897264843, 3.0714707619610158, 2.8938906752411575, 2.867383512544803, 2.867383512544803, 2.6170798898071626, 2.407336645013374, 2.3509369676320273, 2.140018343014369, 1.9978106185002737, 2.095886822111606, 2.048131080389145, 1.9027484143763214, 1.8212984786800943, 1.6457826818776884, 1.4522821576763485, 1.4059269469331495, 1.4257684761281884, 1.4691358024691359, 1.5847121883010953, 1.6144867459365113, 1.5722307299642675, 1.553904063314352, 1.59054971630546, 1.6729627630868862, 1.6179540709812108, 2.437988447162759, 2.5898692810457518, 2.5907539559416692, 2.6399635867091487, 2.6223384385506163, 2.769593400117855, 2.808258735200693, 2.945769449176604, 3.0249982494223095]}, {\"line\": {\"color\": \"lightgreen\", \"width\": 2}, \"name\": \"China\", \"type\": \"scatter\", \"x\": [0, 1, 2, 3, 4, 5, 6, 7, 8, 9, 10, 11, 12, 13, 14, 15, 16, 17, 18, 19, 20, 21, 22, 23, 24, 25, 26, 27, 28, 29, 30, 31, 32, 33, 34, 35, 36, 37, 38, 39, 40, 41, 42, 43, 44, 45, 46, 47, 48, 49, 50, 51, 52, 53, 54, 55, 56, 57, 58, 59, 60, 61, 62, 63, 64, 65, 66, 67, 68, 69, 70, 71, 72, 73, 74, 75, 76, 77, 78, 79, 80, 81, 82, 83, 84, 85, 86, 87, 88, 89, 90, 91, 92, 93, 94, 95, 96, 97, 98, 99, 100, 101], \"y\": [1.5544041450777202, 3.2319391634980987, 2.7287319422150884, 2.947845804988662, 3.0990173847316704, 2.816901408450704, 2.918918918918919, 2.3409893992932864, 2.2022022022022023, 2.1980863718644943, 2.1927115503397157, 2.193242442205098, 2.1112577262309884, 2.097495787577712, 2.0833333333333335, 2.023026315789474, 2.010910257781581, 2.0412087031755695, 2.088086642599278, 2.1809196390201975, 2.2608565885688705, 2.381956155143339, 2.4908326625525445, 2.2851415685291907, 2.1571047000203056, 2.2896978620472064, 2.4297756905755037, 2.5078591860432184, 2.5776466045126054, 2.7040857550701607, 2.839843540695494, 2.9625511298201026, 3.073236522672812, 3.1746650046743534, 3.359919206567056, 3.4276968192516946, 3.4762471372458705, 3.493727575765287, 3.534912007297883, 3.5750740344023693, 3.593188955197738, 3.6364090149000425, 3.6705249124730566, 3.7111221696939536, 3.7442389157359903, 3.773538125875513, 3.803486529318542, 3.8347316059098673, 3.8610420608713936, 3.8811063440448077, 3.9069066099767635, 3.9193396925814263, 3.9269214615707684, 3.944524718115915, 3.954565096610902, 3.969390274006418, 3.9783871803412163, 3.996990849221814, 4.004683840749414, 4.004727375690948, 4.009547126634761, 4.0137191748826, 4.017966717392372, 4.0231505891873995, 4.0242064901814265, 4.026525393659844, 4.028010314443888, 4.0258218827032435, 4.026371269452467, 4.024002823861631, 4.023540569788792, 4.022115559876056, 4.024516050731234, 4.0332262171830475, 4.035043076811226, 4.036330608537693, 4.0354783282108375, 4.032745652857384, 4.030972168534983, 4.029202365150235, 4.027735905939101, 4.027516746180907, 4.023009254245039, 4.019997836772465, 4.015461628032604, 4.014300796621557, 4.011894199179876, 5.5352580175275214, 5.533210001790296, 5.532021526675656, 5.53109751005166, 5.528986630729048, 5.527997710579033, 5.527206829128714, 5.526679700538839, 5.525691605382662, 5.525033071541789, 5.526027266660311, 5.524315566251281, 5.524183940910174, 5.523920709044124, 5.523131163943018]}],\n",
              "                        {\"legend\": {\"borderwidth\": 0, \"font\": {\"size\": 8}, \"orientation\": \"v\", \"yanchor\": \"top\"}, \"template\": {\"data\": {\"bar\": [{\"error_x\": {\"color\": \"#2a3f5f\"}, \"error_y\": {\"color\": \"#2a3f5f\"}, \"marker\": {\"line\": {\"color\": \"#E5ECF6\", \"width\": 0.5}}, \"type\": \"bar\"}], \"barpolar\": [{\"marker\": {\"line\": {\"color\": \"#E5ECF6\", \"width\": 0.5}}, \"type\": \"barpolar\"}], \"carpet\": [{\"aaxis\": {\"endlinecolor\": \"#2a3f5f\", \"gridcolor\": \"white\", \"linecolor\": \"white\", \"minorgridcolor\": \"white\", \"startlinecolor\": \"#2a3f5f\"}, \"baxis\": {\"endlinecolor\": \"#2a3f5f\", \"gridcolor\": \"white\", \"linecolor\": \"white\", \"minorgridcolor\": \"white\", \"startlinecolor\": \"#2a3f5f\"}, \"type\": \"carpet\"}], \"choropleth\": [{\"colorbar\": {\"outlinewidth\": 0, \"ticks\": \"\"}, \"type\": \"choropleth\"}], \"contour\": [{\"colorbar\": {\"outlinewidth\": 0, \"ticks\": \"\"}, \"colorscale\": [[0.0, \"#0d0887\"], [0.1111111111111111, \"#46039f\"], [0.2222222222222222, \"#7201a8\"], [0.3333333333333333, \"#9c179e\"], [0.4444444444444444, \"#bd3786\"], [0.5555555555555556, \"#d8576b\"], [0.6666666666666666, \"#ed7953\"], [0.7777777777777778, \"#fb9f3a\"], [0.8888888888888888, \"#fdca26\"], [1.0, \"#f0f921\"]], \"type\": \"contour\"}], \"contourcarpet\": [{\"colorbar\": {\"outlinewidth\": 0, \"ticks\": \"\"}, \"type\": \"contourcarpet\"}], \"heatmap\": [{\"colorbar\": {\"outlinewidth\": 0, \"ticks\": \"\"}, \"colorscale\": [[0.0, \"#0d0887\"], [0.1111111111111111, \"#46039f\"], [0.2222222222222222, \"#7201a8\"], [0.3333333333333333, \"#9c179e\"], [0.4444444444444444, \"#bd3786\"], [0.5555555555555556, \"#d8576b\"], [0.6666666666666666, \"#ed7953\"], [0.7777777777777778, \"#fb9f3a\"], [0.8888888888888888, \"#fdca26\"], [1.0, \"#f0f921\"]], \"type\": \"heatmap\"}], \"heatmapgl\": [{\"colorbar\": {\"outlinewidth\": 0, \"ticks\": \"\"}, \"colorscale\": [[0.0, \"#0d0887\"], [0.1111111111111111, \"#46039f\"], [0.2222222222222222, \"#7201a8\"], [0.3333333333333333, \"#9c179e\"], [0.4444444444444444, \"#bd3786\"], [0.5555555555555556, \"#d8576b\"], [0.6666666666666666, \"#ed7953\"], [0.7777777777777778, \"#fb9f3a\"], [0.8888888888888888, \"#fdca26\"], [1.0, \"#f0f921\"]], \"type\": \"heatmapgl\"}], \"histogram\": [{\"marker\": {\"colorbar\": {\"outlinewidth\": 0, \"ticks\": \"\"}}, \"type\": \"histogram\"}], \"histogram2d\": [{\"colorbar\": {\"outlinewidth\": 0, \"ticks\": \"\"}, \"colorscale\": [[0.0, \"#0d0887\"], [0.1111111111111111, \"#46039f\"], [0.2222222222222222, \"#7201a8\"], [0.3333333333333333, \"#9c179e\"], [0.4444444444444444, \"#bd3786\"], [0.5555555555555556, \"#d8576b\"], [0.6666666666666666, \"#ed7953\"], [0.7777777777777778, \"#fb9f3a\"], [0.8888888888888888, \"#fdca26\"], [1.0, \"#f0f921\"]], \"type\": \"histogram2d\"}], \"histogram2dcontour\": [{\"colorbar\": {\"outlinewidth\": 0, \"ticks\": \"\"}, \"colorscale\": [[0.0, \"#0d0887\"], [0.1111111111111111, \"#46039f\"], [0.2222222222222222, \"#7201a8\"], [0.3333333333333333, \"#9c179e\"], [0.4444444444444444, \"#bd3786\"], [0.5555555555555556, \"#d8576b\"], [0.6666666666666666, \"#ed7953\"], [0.7777777777777778, \"#fb9f3a\"], [0.8888888888888888, \"#fdca26\"], [1.0, \"#f0f921\"]], \"type\": \"histogram2dcontour\"}], \"mesh3d\": [{\"colorbar\": {\"outlinewidth\": 0, \"ticks\": \"\"}, \"type\": \"mesh3d\"}], \"parcoords\": [{\"line\": {\"colorbar\": {\"outlinewidth\": 0, \"ticks\": \"\"}}, \"type\": \"parcoords\"}], \"pie\": [{\"automargin\": true, \"type\": \"pie\"}], \"scatter\": [{\"marker\": {\"colorbar\": {\"outlinewidth\": 0, \"ticks\": \"\"}}, \"type\": \"scatter\"}], \"scatter3d\": [{\"line\": {\"colorbar\": {\"outlinewidth\": 0, \"ticks\": \"\"}}, \"marker\": {\"colorbar\": {\"outlinewidth\": 0, \"ticks\": \"\"}}, \"type\": \"scatter3d\"}], \"scattercarpet\": [{\"marker\": {\"colorbar\": {\"outlinewidth\": 0, \"ticks\": \"\"}}, \"type\": \"scattercarpet\"}], \"scattergeo\": [{\"marker\": {\"colorbar\": {\"outlinewidth\": 0, \"ticks\": \"\"}}, \"type\": \"scattergeo\"}], \"scattergl\": [{\"marker\": {\"colorbar\": {\"outlinewidth\": 0, \"ticks\": \"\"}}, \"type\": \"scattergl\"}], \"scattermapbox\": [{\"marker\": {\"colorbar\": {\"outlinewidth\": 0, \"ticks\": \"\"}}, \"type\": \"scattermapbox\"}], \"scatterpolar\": [{\"marker\": {\"colorbar\": {\"outlinewidth\": 0, \"ticks\": \"\"}}, \"type\": \"scatterpolar\"}], \"scatterpolargl\": [{\"marker\": {\"colorbar\": {\"outlinewidth\": 0, \"ticks\": \"\"}}, \"type\": \"scatterpolargl\"}], \"scatterternary\": [{\"marker\": {\"colorbar\": {\"outlinewidth\": 0, \"ticks\": \"\"}}, \"type\": \"scatterternary\"}], \"surface\": [{\"colorbar\": {\"outlinewidth\": 0, \"ticks\": \"\"}, \"colorscale\": [[0.0, \"#0d0887\"], [0.1111111111111111, \"#46039f\"], [0.2222222222222222, \"#7201a8\"], [0.3333333333333333, \"#9c179e\"], [0.4444444444444444, \"#bd3786\"], [0.5555555555555556, \"#d8576b\"], [0.6666666666666666, \"#ed7953\"], [0.7777777777777778, \"#fb9f3a\"], [0.8888888888888888, \"#fdca26\"], [1.0, \"#f0f921\"]], \"type\": \"surface\"}], \"table\": [{\"cells\": {\"fill\": {\"color\": \"#EBF0F8\"}, \"line\": {\"color\": \"white\"}}, \"header\": {\"fill\": {\"color\": \"#C8D4E3\"}, \"line\": {\"color\": \"white\"}}, \"type\": \"table\"}]}, \"layout\": {\"annotationdefaults\": {\"arrowcolor\": \"#2a3f5f\", \"arrowhead\": 0, \"arrowwidth\": 1}, \"coloraxis\": {\"colorbar\": {\"outlinewidth\": 0, \"ticks\": \"\"}}, \"colorscale\": {\"diverging\": [[0, \"#8e0152\"], [0.1, \"#c51b7d\"], [0.2, \"#de77ae\"], [0.3, \"#f1b6da\"], [0.4, \"#fde0ef\"], [0.5, \"#f7f7f7\"], [0.6, \"#e6f5d0\"], [0.7, \"#b8e186\"], [0.8, \"#7fbc41\"], [0.9, \"#4d9221\"], [1, \"#276419\"]], \"sequential\": [[0.0, \"#0d0887\"], [0.1111111111111111, \"#46039f\"], [0.2222222222222222, \"#7201a8\"], [0.3333333333333333, \"#9c179e\"], [0.4444444444444444, \"#bd3786\"], [0.5555555555555556, \"#d8576b\"], [0.6666666666666666, \"#ed7953\"], [0.7777777777777778, \"#fb9f3a\"], [0.8888888888888888, \"#fdca26\"], [1.0, \"#f0f921\"]], \"sequentialminus\": [[0.0, \"#0d0887\"], [0.1111111111111111, \"#46039f\"], [0.2222222222222222, \"#7201a8\"], [0.3333333333333333, \"#9c179e\"], [0.4444444444444444, \"#bd3786\"], [0.5555555555555556, \"#d8576b\"], [0.6666666666666666, \"#ed7953\"], [0.7777777777777778, \"#fb9f3a\"], [0.8888888888888888, \"#fdca26\"], [1.0, \"#f0f921\"]]}, \"colorway\": [\"#636efa\", \"#EF553B\", \"#00cc96\", \"#ab63fa\", \"#FFA15A\", \"#19d3f3\", \"#FF6692\", \"#B6E880\", \"#FF97FF\", \"#FECB52\"], \"font\": {\"color\": \"#2a3f5f\"}, \"geo\": {\"bgcolor\": \"white\", \"lakecolor\": \"white\", \"landcolor\": \"#E5ECF6\", \"showlakes\": true, \"showland\": true, \"subunitcolor\": \"white\"}, \"hoverlabel\": {\"align\": \"left\"}, \"hovermode\": \"closest\", \"mapbox\": {\"style\": \"light\"}, \"paper_bgcolor\": \"white\", \"plot_bgcolor\": \"#E5ECF6\", \"polar\": {\"angularaxis\": {\"gridcolor\": \"white\", \"linecolor\": \"white\", \"ticks\": \"\"}, \"bgcolor\": \"#E5ECF6\", \"radialaxis\": {\"gridcolor\": \"white\", \"linecolor\": \"white\", \"ticks\": \"\"}}, \"scene\": {\"xaxis\": {\"backgroundcolor\": \"#E5ECF6\", \"gridcolor\": \"white\", \"gridwidth\": 2, \"linecolor\": \"white\", \"showbackground\": true, \"ticks\": \"\", \"zerolinecolor\": \"white\"}, \"yaxis\": {\"backgroundcolor\": \"#E5ECF6\", \"gridcolor\": \"white\", \"gridwidth\": 2, \"linecolor\": \"white\", \"showbackground\": true, \"ticks\": \"\", \"zerolinecolor\": \"white\"}, \"zaxis\": {\"backgroundcolor\": \"#E5ECF6\", \"gridcolor\": \"white\", \"gridwidth\": 2, \"linecolor\": \"white\", \"showbackground\": true, \"ticks\": \"\", \"zerolinecolor\": \"white\"}}, \"shapedefaults\": {\"line\": {\"color\": \"#2a3f5f\"}}, \"ternary\": {\"aaxis\": {\"gridcolor\": \"white\", \"linecolor\": \"white\", \"ticks\": \"\"}, \"baxis\": {\"gridcolor\": \"white\", \"linecolor\": \"white\", \"ticks\": \"\"}, \"bgcolor\": \"#E5ECF6\", \"caxis\": {\"gridcolor\": \"white\", \"linecolor\": \"white\", \"ticks\": \"\"}}, \"title\": {\"x\": 0.05}, \"xaxis\": {\"automargin\": true, \"gridcolor\": \"white\", \"linecolor\": \"white\", \"ticks\": \"\", \"title\": {\"standoff\": 15}, \"zerolinecolor\": \"white\", \"zerolinewidth\": 2}, \"yaxis\": {\"automargin\": true, \"gridcolor\": \"white\", \"linecolor\": \"white\", \"ticks\": \"\", \"title\": {\"standoff\": 15}, \"zerolinecolor\": \"white\", \"zerolinewidth\": 2}}}, \"title\": {\"text\": \"COVID-19 - Curvas de letalidade\"}, \"xaxis\": {\"tickangle\": 0, \"tickfont\": {\"size\": 10}, \"title\": {\"text\": \"Dias desde o 5\\u00ba \\u00f3bito\"}}, \"yaxis\": {\"title\": {\"text\": \"Letalidade (%)\"}}},\n",
              "                        {\"responsive\": true}\n",
              "                    ).then(function(){\n",
              "                            \n",
              "var gd = document.getElementById('cd4d213a-c9a8-4f83-a128-9b58ba602277');\n",
              "var x = new MutationObserver(function (mutations, observer) {{\n",
              "        var display = window.getComputedStyle(gd).display;\n",
              "        if (!display || display === 'none') {{\n",
              "            console.log([gd, 'removed!']);\n",
              "            Plotly.purge(gd);\n",
              "            observer.disconnect();\n",
              "        }}\n",
              "}});\n",
              "\n",
              "// Listen for the removal of the full notebook cells\n",
              "var notebookContainer = gd.closest('#notebook-container');\n",
              "if (notebookContainer) {{\n",
              "    x.observe(notebookContainer, {childList: true});\n",
              "}}\n",
              "\n",
              "// Listen for the clearing of the current output cell\n",
              "var outputEl = gd.closest('.output');\n",
              "if (outputEl) {{\n",
              "    x.observe(outputEl, {childList: true});\n",
              "}}\n",
              "\n",
              "                        })\n",
              "                };\n",
              "                \n",
              "            </script>\n",
              "        </div>\n",
              "</body>\n",
              "</html>"
            ]
          },
          "metadata": {
            "tags": []
          }
        }
      ]
    },
    {
      "cell_type": "code",
      "metadata": {
        "id": "stK7iA7aU5up",
        "colab_type": "code",
        "outputId": "4be82a8c-b3f5-4672-cccb-9875f4c62545",
        "colab": {
          "base_uri": "https://localhost:8080/",
          "height": 173
        }
      },
      "source": [
        "#hide\n",
        "pro_bra = data3[data3['countriesAndTerritories']=='Brazil']\n",
        "pro_bra['dateRep'] = pd.to_datetime(pro_bra['dateRep'],infer_datetime_format=True)\n",
        "pro_bra.sort_values('dateRep',inplace=True)\n",
        "\n",
        "pro_bra['death_cum'] = pro_bra['deaths'].cumsum()\n",
        "pro_bra['case_cum'] = pro_bra['cases'].cumsum()\n",
        "\n",
        "pro_bra.drop(['day', 'month','year',\"geoId\",'countryterritoryCode',\"popData2018\",'countriesAndTerritories'], axis = 1,inplace=True)\n",
        "pro_bra.tail(4)"
      ],
      "execution_count": 29,
      "outputs": [
        {
          "output_type": "execute_result",
          "data": {
            "text/html": [
              "<div>\n",
              "<style scoped>\n",
              "    .dataframe tbody tr th:only-of-type {\n",
              "        vertical-align: middle;\n",
              "    }\n",
              "\n",
              "    .dataframe tbody tr th {\n",
              "        vertical-align: top;\n",
              "    }\n",
              "\n",
              "    .dataframe thead th {\n",
              "        text-align: right;\n",
              "    }\n",
              "</style>\n",
              "<table border=\"1\" class=\"dataframe\">\n",
              "  <thead>\n",
              "    <tr style=\"text-align: right;\">\n",
              "      <th></th>\n",
              "      <th>dateRep</th>\n",
              "      <th>cases</th>\n",
              "      <th>deaths</th>\n",
              "      <th>continentExp</th>\n",
              "      <th>death_cum</th>\n",
              "      <th>case_cum</th>\n",
              "    </tr>\n",
              "  </thead>\n",
              "  <tbody>\n",
              "    <tr>\n",
              "      <th>1865</th>\n",
              "      <td>2020-04-28</td>\n",
              "      <td>4613</td>\n",
              "      <td>338</td>\n",
              "      <td>America</td>\n",
              "      <td>4543</td>\n",
              "      <td>66501</td>\n",
              "    </tr>\n",
              "    <tr>\n",
              "      <th>1864</th>\n",
              "      <td>2020-04-29</td>\n",
              "      <td>5385</td>\n",
              "      <td>474</td>\n",
              "      <td>America</td>\n",
              "      <td>5017</td>\n",
              "      <td>71886</td>\n",
              "    </tr>\n",
              "    <tr>\n",
              "      <th>1863</th>\n",
              "      <td>2020-04-30</td>\n",
              "      <td>6276</td>\n",
              "      <td>449</td>\n",
              "      <td>America</td>\n",
              "      <td>5466</td>\n",
              "      <td>78162</td>\n",
              "    </tr>\n",
              "    <tr>\n",
              "      <th>1862</th>\n",
              "      <td>2020-05-01</td>\n",
              "      <td>7218</td>\n",
              "      <td>435</td>\n",
              "      <td>America</td>\n",
              "      <td>5901</td>\n",
              "      <td>85380</td>\n",
              "    </tr>\n",
              "  </tbody>\n",
              "</table>\n",
              "</div>"
            ],
            "text/plain": [
              "        dateRep  cases  deaths continentExp  death_cum  case_cum\n",
              "1865 2020-04-28   4613     338      America       4543     66501\n",
              "1864 2020-04-29   5385     474      America       5017     71886\n",
              "1863 2020-04-30   6276     449      America       5466     78162\n",
              "1862 2020-05-01   7218     435      America       5901     85380"
            ]
          },
          "metadata": {
            "tags": []
          },
          "execution_count": 29
        }
      ]
    },
    {
      "cell_type": "code",
      "metadata": {
        "id": "DbuqNT4UVwbl",
        "colab_type": "code",
        "outputId": "0e45be8a-1834-4e1c-f44b-1b467b4ac31e",
        "colab": {
          "base_uri": "https://localhost:8080/",
          "height": 49
        }
      },
      "source": [
        "#hide\n",
        "let_ger = ((final_data['deathcum'][final_data['countriesAndTerritories']=='Germany'].values[-1]/final_data['Cumulativo'][final_data['countriesAndTerritories']=='Germany'].values[-1])*100).round(2)\n",
        "pro_bra['Alemanha'] = (pro_bra['death_cum']/let_ger*100).round(2)\n",
        "pro_bra = pro_bra[pro_bra['dateRep']>='2020-03-17']\n",
        "pro_bra = pro_bra[pro_bra['dateRep']<=today]\n",
        "\n",
        "pro_bra.sort_values('dateRep',ascending=False)\n",
        "pro_bra.tail(3)\n",
        "\n",
        "O gráfico abaixo representa uma estimativa simples da quantidade de casos atualmente no Brasil. Uma vez que a baixa quantidade de testes tem levado os números a uma subnotificação, o cálculo foi realizado com base no número de óbitos registrados por COVID-19 no Brasil e na taxa da Alemanha, país que tem testado massivamente sua população. Desse modo os números são os seguintes:\n"
      ],
      "execution_count": 30,
      "outputs": [
        {
          "output_type": "execute_result",
          "data": {
            "text/html": [
              "<div>\n",
              "<style scoped>\n",
              "    .dataframe tbody tr th:only-of-type {\n",
              "        vertical-align: middle;\n",
              "    }\n",
              "\n",
              "    .dataframe tbody tr th {\n",
              "        vertical-align: top;\n",
              "    }\n",
              "\n",
              "    .dataframe thead th {\n",
              "        text-align: right;\n",
              "    }\n",
              "</style>\n",
              "<table border=\"1\" class=\"dataframe\">\n",
              "  <thead>\n",
              "    <tr style=\"text-align: right;\">\n",
              "      <th></th>\n",
              "      <th>dateRep</th>\n",
              "      <th>cases</th>\n",
              "      <th>deaths</th>\n",
              "      <th>continentExp</th>\n",
              "      <th>death_cum</th>\n",
              "      <th>case_cum</th>\n",
              "      <th>Alemanha</th>\n",
              "    </tr>\n",
              "  </thead>\n",
              "  <tbody>\n",
              "  </tbody>\n",
              "</table>\n",
              "</div>"
            ],
            "text/plain": [
              "Empty DataFrame\n",
              "Columns: [dateRep, cases, deaths, continentExp, death_cum, case_cum, Alemanha]\n",
              "Index: []"
            ]
          },
          "metadata": {
            "tags": []
          },
          "execution_count": 30
        }
      ]
    },
    {
      "cell_type": "code",
      "metadata": {
        "id": "xsMegz3oXF1e",
        "colab_type": "code",
        "outputId": "4907e854-bba7-408a-f843-1da30e0f138a",
        "colab": {
          "base_uri": "https://localhost:8080/",
          "height": 324
        }
      },
      "source": [
        "#hide\n",
        "print(\"Número atual de casos registrados no Brasil hoje: \"+ str(pro_bra.iloc[-1,-2])  )\n",
        "print(\"Estimativa de casos no Brasil hoje caso a letalidade seja próxima à da Alemanha: \"+ str(int(pro_bra.iloc[-1,-1]))  )\n"
      ],
      "execution_count": 32,
      "outputs": [
        {
          "output_type": "error",
          "ename": "IndexError",
          "evalue": "ignored",
          "traceback": [
            "\u001b[0;31m---------------------------------------------------------------------------\u001b[0m",
            "\u001b[0;31mIndexError\u001b[0m                                Traceback (most recent call last)",
            "\u001b[0;32m<ipython-input-32-d3613a192950>\u001b[0m in \u001b[0;36m<module>\u001b[0;34m()\u001b[0m\n\u001b[0;32m----> 1\u001b[0;31m \u001b[0mprint\u001b[0m\u001b[0;34m(\u001b[0m\u001b[0;34m\"Número atual de casos registrados no Brasil hoje: \"\u001b[0m\u001b[0;34m+\u001b[0m \u001b[0mstr\u001b[0m\u001b[0;34m(\u001b[0m\u001b[0mpro_bra\u001b[0m\u001b[0;34m.\u001b[0m\u001b[0miloc\u001b[0m\u001b[0;34m[\u001b[0m\u001b[0;34m-\u001b[0m\u001b[0;36m1\u001b[0m\u001b[0;34m,\u001b[0m\u001b[0;34m-\u001b[0m\u001b[0;36m2\u001b[0m\u001b[0;34m]\u001b[0m\u001b[0;34m)\u001b[0m  \u001b[0;34m)\u001b[0m\u001b[0;34m\u001b[0m\u001b[0;34m\u001b[0m\u001b[0m\n\u001b[0m\u001b[1;32m      2\u001b[0m \u001b[0mprint\u001b[0m\u001b[0;34m(\u001b[0m\u001b[0;34m\"Estimativa de casos no Brasil hoje caso a letalidade seja próxima à da Alemanha: \"\u001b[0m\u001b[0;34m+\u001b[0m \u001b[0mstr\u001b[0m\u001b[0;34m(\u001b[0m\u001b[0mint\u001b[0m\u001b[0;34m(\u001b[0m\u001b[0mpro_bra\u001b[0m\u001b[0;34m.\u001b[0m\u001b[0miloc\u001b[0m\u001b[0;34m[\u001b[0m\u001b[0;34m-\u001b[0m\u001b[0;36m1\u001b[0m\u001b[0;34m,\u001b[0m\u001b[0;34m-\u001b[0m\u001b[0;36m1\u001b[0m\u001b[0;34m]\u001b[0m\u001b[0;34m)\u001b[0m\u001b[0;34m)\u001b[0m  \u001b[0;34m)\u001b[0m\u001b[0;34m\u001b[0m\u001b[0;34m\u001b[0m\u001b[0m\n",
            "\u001b[0;32m/usr/local/lib/python3.6/dist-packages/pandas/core/indexing.py\u001b[0m in \u001b[0;36m__getitem__\u001b[0;34m(self, key)\u001b[0m\n\u001b[1;32m   1760\u001b[0m                 \u001b[0;32mexcept\u001b[0m \u001b[0;34m(\u001b[0m\u001b[0mKeyError\u001b[0m\u001b[0;34m,\u001b[0m \u001b[0mIndexError\u001b[0m\u001b[0;34m,\u001b[0m \u001b[0mAttributeError\u001b[0m\u001b[0;34m)\u001b[0m\u001b[0;34m:\u001b[0m\u001b[0;34m\u001b[0m\u001b[0;34m\u001b[0m\u001b[0m\n\u001b[1;32m   1761\u001b[0m                     \u001b[0;32mpass\u001b[0m\u001b[0;34m\u001b[0m\u001b[0;34m\u001b[0m\u001b[0m\n\u001b[0;32m-> 1762\u001b[0;31m             \u001b[0;32mreturn\u001b[0m \u001b[0mself\u001b[0m\u001b[0;34m.\u001b[0m\u001b[0m_getitem_tuple\u001b[0m\u001b[0;34m(\u001b[0m\u001b[0mkey\u001b[0m\u001b[0;34m)\u001b[0m\u001b[0;34m\u001b[0m\u001b[0;34m\u001b[0m\u001b[0m\n\u001b[0m\u001b[1;32m   1763\u001b[0m         \u001b[0;32melse\u001b[0m\u001b[0;34m:\u001b[0m\u001b[0;34m\u001b[0m\u001b[0;34m\u001b[0m\u001b[0m\n\u001b[1;32m   1764\u001b[0m             \u001b[0;31m# we by definition only have the 0th axis\u001b[0m\u001b[0;34m\u001b[0m\u001b[0;34m\u001b[0m\u001b[0;34m\u001b[0m\u001b[0m\n",
            "\u001b[0;32m/usr/local/lib/python3.6/dist-packages/pandas/core/indexing.py\u001b[0m in \u001b[0;36m_getitem_tuple\u001b[0;34m(self, tup)\u001b[0m\n\u001b[1;32m   2065\u001b[0m     \u001b[0;32mdef\u001b[0m \u001b[0m_getitem_tuple\u001b[0m\u001b[0;34m(\u001b[0m\u001b[0mself\u001b[0m\u001b[0;34m,\u001b[0m \u001b[0mtup\u001b[0m\u001b[0;34m:\u001b[0m \u001b[0mTuple\u001b[0m\u001b[0;34m)\u001b[0m\u001b[0;34m:\u001b[0m\u001b[0;34m\u001b[0m\u001b[0;34m\u001b[0m\u001b[0m\n\u001b[1;32m   2066\u001b[0m \u001b[0;34m\u001b[0m\u001b[0m\n\u001b[0;32m-> 2067\u001b[0;31m         \u001b[0mself\u001b[0m\u001b[0;34m.\u001b[0m\u001b[0m_has_valid_tuple\u001b[0m\u001b[0;34m(\u001b[0m\u001b[0mtup\u001b[0m\u001b[0;34m)\u001b[0m\u001b[0;34m\u001b[0m\u001b[0;34m\u001b[0m\u001b[0m\n\u001b[0m\u001b[1;32m   2068\u001b[0m         \u001b[0;32mtry\u001b[0m\u001b[0;34m:\u001b[0m\u001b[0;34m\u001b[0m\u001b[0;34m\u001b[0m\u001b[0m\n\u001b[1;32m   2069\u001b[0m             \u001b[0;32mreturn\u001b[0m \u001b[0mself\u001b[0m\u001b[0;34m.\u001b[0m\u001b[0m_getitem_lowerdim\u001b[0m\u001b[0;34m(\u001b[0m\u001b[0mtup\u001b[0m\u001b[0;34m)\u001b[0m\u001b[0;34m\u001b[0m\u001b[0;34m\u001b[0m\u001b[0m\n",
            "\u001b[0;32m/usr/local/lib/python3.6/dist-packages/pandas/core/indexing.py\u001b[0m in \u001b[0;36m_has_valid_tuple\u001b[0;34m(self, key)\u001b[0m\n\u001b[1;32m    701\u001b[0m                 \u001b[0;32mraise\u001b[0m \u001b[0mIndexingError\u001b[0m\u001b[0;34m(\u001b[0m\u001b[0;34m\"Too many indexers\"\u001b[0m\u001b[0;34m)\u001b[0m\u001b[0;34m\u001b[0m\u001b[0;34m\u001b[0m\u001b[0m\n\u001b[1;32m    702\u001b[0m             \u001b[0;32mtry\u001b[0m\u001b[0;34m:\u001b[0m\u001b[0;34m\u001b[0m\u001b[0;34m\u001b[0m\u001b[0m\n\u001b[0;32m--> 703\u001b[0;31m                 \u001b[0mself\u001b[0m\u001b[0;34m.\u001b[0m\u001b[0m_validate_key\u001b[0m\u001b[0;34m(\u001b[0m\u001b[0mk\u001b[0m\u001b[0;34m,\u001b[0m \u001b[0mi\u001b[0m\u001b[0;34m)\u001b[0m\u001b[0;34m\u001b[0m\u001b[0;34m\u001b[0m\u001b[0m\n\u001b[0m\u001b[1;32m    704\u001b[0m             \u001b[0;32mexcept\u001b[0m \u001b[0mValueError\u001b[0m\u001b[0;34m:\u001b[0m\u001b[0;34m\u001b[0m\u001b[0;34m\u001b[0m\u001b[0m\n\u001b[1;32m    705\u001b[0m                 raise ValueError(\n",
            "\u001b[0;32m/usr/local/lib/python3.6/dist-packages/pandas/core/indexing.py\u001b[0m in \u001b[0;36m_validate_key\u001b[0;34m(self, key, axis)\u001b[0m\n\u001b[1;32m   1992\u001b[0m             \u001b[0;32mreturn\u001b[0m\u001b[0;34m\u001b[0m\u001b[0;34m\u001b[0m\u001b[0m\n\u001b[1;32m   1993\u001b[0m         \u001b[0;32melif\u001b[0m \u001b[0mis_integer\u001b[0m\u001b[0;34m(\u001b[0m\u001b[0mkey\u001b[0m\u001b[0;34m)\u001b[0m\u001b[0;34m:\u001b[0m\u001b[0;34m\u001b[0m\u001b[0;34m\u001b[0m\u001b[0m\n\u001b[0;32m-> 1994\u001b[0;31m             \u001b[0mself\u001b[0m\u001b[0;34m.\u001b[0m\u001b[0m_validate_integer\u001b[0m\u001b[0;34m(\u001b[0m\u001b[0mkey\u001b[0m\u001b[0;34m,\u001b[0m \u001b[0maxis\u001b[0m\u001b[0;34m)\u001b[0m\u001b[0;34m\u001b[0m\u001b[0;34m\u001b[0m\u001b[0m\n\u001b[0m\u001b[1;32m   1995\u001b[0m         \u001b[0;32melif\u001b[0m \u001b[0misinstance\u001b[0m\u001b[0;34m(\u001b[0m\u001b[0mkey\u001b[0m\u001b[0;34m,\u001b[0m \u001b[0mtuple\u001b[0m\u001b[0;34m)\u001b[0m\u001b[0;34m:\u001b[0m\u001b[0;34m\u001b[0m\u001b[0;34m\u001b[0m\u001b[0m\n\u001b[1;32m   1996\u001b[0m             \u001b[0;31m# a tuple should already have been caught by this point\u001b[0m\u001b[0;34m\u001b[0m\u001b[0;34m\u001b[0m\u001b[0;34m\u001b[0m\u001b[0m\n",
            "\u001b[0;32m/usr/local/lib/python3.6/dist-packages/pandas/core/indexing.py\u001b[0m in \u001b[0;36m_validate_integer\u001b[0;34m(self, key, axis)\u001b[0m\n\u001b[1;32m   2061\u001b[0m         \u001b[0mlen_axis\u001b[0m \u001b[0;34m=\u001b[0m \u001b[0mlen\u001b[0m\u001b[0;34m(\u001b[0m\u001b[0mself\u001b[0m\u001b[0;34m.\u001b[0m\u001b[0mobj\u001b[0m\u001b[0;34m.\u001b[0m\u001b[0m_get_axis\u001b[0m\u001b[0;34m(\u001b[0m\u001b[0maxis\u001b[0m\u001b[0;34m)\u001b[0m\u001b[0;34m)\u001b[0m\u001b[0;34m\u001b[0m\u001b[0;34m\u001b[0m\u001b[0m\n\u001b[1;32m   2062\u001b[0m         \u001b[0;32mif\u001b[0m \u001b[0mkey\u001b[0m \u001b[0;34m>=\u001b[0m \u001b[0mlen_axis\u001b[0m \u001b[0;32mor\u001b[0m \u001b[0mkey\u001b[0m \u001b[0;34m<\u001b[0m \u001b[0;34m-\u001b[0m\u001b[0mlen_axis\u001b[0m\u001b[0;34m:\u001b[0m\u001b[0;34m\u001b[0m\u001b[0;34m\u001b[0m\u001b[0m\n\u001b[0;32m-> 2063\u001b[0;31m             \u001b[0;32mraise\u001b[0m \u001b[0mIndexError\u001b[0m\u001b[0;34m(\u001b[0m\u001b[0;34m\"single positional indexer is out-of-bounds\"\u001b[0m\u001b[0;34m)\u001b[0m\u001b[0;34m\u001b[0m\u001b[0;34m\u001b[0m\u001b[0m\n\u001b[0m\u001b[1;32m   2064\u001b[0m \u001b[0;34m\u001b[0m\u001b[0m\n\u001b[1;32m   2065\u001b[0m     \u001b[0;32mdef\u001b[0m \u001b[0m_getitem_tuple\u001b[0m\u001b[0;34m(\u001b[0m\u001b[0mself\u001b[0m\u001b[0;34m,\u001b[0m \u001b[0mtup\u001b[0m\u001b[0;34m:\u001b[0m \u001b[0mTuple\u001b[0m\u001b[0;34m)\u001b[0m\u001b[0;34m:\u001b[0m\u001b[0;34m\u001b[0m\u001b[0;34m\u001b[0m\u001b[0m\n",
            "\u001b[0;31mIndexError\u001b[0m: single positional indexer is out-of-bounds"
          ]
        }
      ]
    },
    {
      "cell_type": "code",
      "metadata": {
        "id": "o6tcaHJ-ZnBU",
        "colab_type": "code",
        "outputId": "5831f853-dcad-45bb-f3dd-4272bf9d9781",
        "colab": {
          "base_uri": "https://localhost:8080/",
          "height": 542
        }
      },
      "source": [
        "#hide\n",
        "\n",
        "import plotly.graph_objects as go\n",
        "pro_bra = pro_bra[pro_bra['dateRep']<=today_us]\n",
        "fig = go.Figure()\n",
        "fig.add_trace(go.Scatter(x=pro_bra['dateRep'], y=pro_bra['case_cum'], name='Brasil registrado',\n",
        "                         line=dict(color='firebrick', width=4)))\n",
        "fig.add_trace(go.Scatter(x=pro_bra['dateRep'], y=pro_bra['Alemanha'], name='Projeção Alemanha',\n",
        "                         line=dict(color='blue', width=2)))\n",
        "\n",
        "fig.update_xaxes(tickangle=45, tickfont=dict(size=10))\n",
        "fig.update_layout(title='Projeção de casos no Brasil baseados nas taxas de letalidade da Alemanha',\n",
        "                   xaxis_title='Data',\n",
        "                   yaxis_title='Projeção')"
      ],
      "execution_count": 33,
      "outputs": [
        {
          "output_type": "display_data",
          "data": {
            "text/html": [
              "<html>\n",
              "<head><meta charset=\"utf-8\" /></head>\n",
              "<body>\n",
              "    <div>\n",
              "            <script src=\"https://cdnjs.cloudflare.com/ajax/libs/mathjax/2.7.5/MathJax.js?config=TeX-AMS-MML_SVG\"></script><script type=\"text/javascript\">if (window.MathJax) {MathJax.Hub.Config({SVG: {font: \"STIX-Web\"}});}</script>\n",
              "                <script type=\"text/javascript\">window.PlotlyConfig = {MathJaxConfig: 'local'};</script>\n",
              "        <script src=\"https://cdn.plot.ly/plotly-latest.min.js\"></script>    \n",
              "            <div id=\"4d4627de-7977-4aa9-b7de-a38709ebb3cf\" class=\"plotly-graph-div\" style=\"height:525px; width:100%;\"></div>\n",
              "            <script type=\"text/javascript\">\n",
              "                \n",
              "                    window.PLOTLYENV=window.PLOTLYENV || {};\n",
              "                    \n",
              "                if (document.getElementById(\"4d4627de-7977-4aa9-b7de-a38709ebb3cf\")) {\n",
              "                    Plotly.newPlot(\n",
              "                        '4d4627de-7977-4aa9-b7de-a38709ebb3cf',\n",
              "                        [{\"line\": {\"color\": \"firebrick\", \"width\": 4}, \"name\": \"Brasil registrado\", \"type\": \"scatter\", \"x\": [], \"y\": []}, {\"line\": {\"color\": \"blue\", \"width\": 2}, \"name\": \"Proje\\u00e7\\u00e3o Alemanha\", \"type\": \"scatter\", \"x\": [], \"y\": []}],\n",
              "                        {\"template\": {\"data\": {\"bar\": [{\"error_x\": {\"color\": \"#2a3f5f\"}, \"error_y\": {\"color\": \"#2a3f5f\"}, \"marker\": {\"line\": {\"color\": \"#E5ECF6\", \"width\": 0.5}}, \"type\": \"bar\"}], \"barpolar\": [{\"marker\": {\"line\": {\"color\": \"#E5ECF6\", \"width\": 0.5}}, \"type\": \"barpolar\"}], \"carpet\": [{\"aaxis\": {\"endlinecolor\": \"#2a3f5f\", \"gridcolor\": \"white\", \"linecolor\": \"white\", \"minorgridcolor\": \"white\", \"startlinecolor\": \"#2a3f5f\"}, \"baxis\": {\"endlinecolor\": \"#2a3f5f\", \"gridcolor\": \"white\", \"linecolor\": \"white\", \"minorgridcolor\": \"white\", \"startlinecolor\": \"#2a3f5f\"}, \"type\": \"carpet\"}], \"choropleth\": [{\"colorbar\": {\"outlinewidth\": 0, \"ticks\": \"\"}, \"type\": \"choropleth\"}], \"contour\": [{\"colorbar\": {\"outlinewidth\": 0, \"ticks\": \"\"}, \"colorscale\": [[0.0, \"#0d0887\"], [0.1111111111111111, \"#46039f\"], [0.2222222222222222, \"#7201a8\"], [0.3333333333333333, \"#9c179e\"], [0.4444444444444444, \"#bd3786\"], [0.5555555555555556, \"#d8576b\"], [0.6666666666666666, \"#ed7953\"], [0.7777777777777778, \"#fb9f3a\"], [0.8888888888888888, \"#fdca26\"], [1.0, \"#f0f921\"]], \"type\": \"contour\"}], \"contourcarpet\": [{\"colorbar\": {\"outlinewidth\": 0, \"ticks\": \"\"}, \"type\": \"contourcarpet\"}], \"heatmap\": [{\"colorbar\": {\"outlinewidth\": 0, \"ticks\": \"\"}, \"colorscale\": [[0.0, \"#0d0887\"], [0.1111111111111111, \"#46039f\"], [0.2222222222222222, \"#7201a8\"], [0.3333333333333333, \"#9c179e\"], [0.4444444444444444, \"#bd3786\"], [0.5555555555555556, \"#d8576b\"], [0.6666666666666666, \"#ed7953\"], [0.7777777777777778, \"#fb9f3a\"], [0.8888888888888888, \"#fdca26\"], [1.0, \"#f0f921\"]], \"type\": \"heatmap\"}], \"heatmapgl\": [{\"colorbar\": {\"outlinewidth\": 0, \"ticks\": \"\"}, \"colorscale\": [[0.0, \"#0d0887\"], [0.1111111111111111, \"#46039f\"], [0.2222222222222222, \"#7201a8\"], [0.3333333333333333, \"#9c179e\"], [0.4444444444444444, \"#bd3786\"], [0.5555555555555556, \"#d8576b\"], [0.6666666666666666, \"#ed7953\"], [0.7777777777777778, \"#fb9f3a\"], [0.8888888888888888, \"#fdca26\"], [1.0, \"#f0f921\"]], \"type\": \"heatmapgl\"}], \"histogram\": [{\"marker\": {\"colorbar\": {\"outlinewidth\": 0, \"ticks\": \"\"}}, \"type\": \"histogram\"}], \"histogram2d\": [{\"colorbar\": {\"outlinewidth\": 0, \"ticks\": \"\"}, \"colorscale\": [[0.0, \"#0d0887\"], [0.1111111111111111, \"#46039f\"], [0.2222222222222222, \"#7201a8\"], [0.3333333333333333, \"#9c179e\"], [0.4444444444444444, \"#bd3786\"], [0.5555555555555556, \"#d8576b\"], [0.6666666666666666, \"#ed7953\"], [0.7777777777777778, \"#fb9f3a\"], [0.8888888888888888, \"#fdca26\"], [1.0, \"#f0f921\"]], \"type\": \"histogram2d\"}], \"histogram2dcontour\": [{\"colorbar\": {\"outlinewidth\": 0, \"ticks\": \"\"}, \"colorscale\": [[0.0, \"#0d0887\"], [0.1111111111111111, \"#46039f\"], [0.2222222222222222, \"#7201a8\"], [0.3333333333333333, \"#9c179e\"], [0.4444444444444444, \"#bd3786\"], [0.5555555555555556, \"#d8576b\"], [0.6666666666666666, \"#ed7953\"], [0.7777777777777778, \"#fb9f3a\"], [0.8888888888888888, \"#fdca26\"], [1.0, \"#f0f921\"]], \"type\": \"histogram2dcontour\"}], \"mesh3d\": [{\"colorbar\": {\"outlinewidth\": 0, \"ticks\": \"\"}, \"type\": \"mesh3d\"}], \"parcoords\": [{\"line\": {\"colorbar\": {\"outlinewidth\": 0, \"ticks\": \"\"}}, \"type\": \"parcoords\"}], \"pie\": [{\"automargin\": true, \"type\": \"pie\"}], \"scatter\": [{\"marker\": {\"colorbar\": {\"outlinewidth\": 0, \"ticks\": \"\"}}, \"type\": \"scatter\"}], \"scatter3d\": [{\"line\": {\"colorbar\": {\"outlinewidth\": 0, \"ticks\": \"\"}}, \"marker\": {\"colorbar\": {\"outlinewidth\": 0, \"ticks\": \"\"}}, \"type\": \"scatter3d\"}], \"scattercarpet\": [{\"marker\": {\"colorbar\": {\"outlinewidth\": 0, \"ticks\": \"\"}}, \"type\": \"scattercarpet\"}], \"scattergeo\": [{\"marker\": {\"colorbar\": {\"outlinewidth\": 0, \"ticks\": \"\"}}, \"type\": \"scattergeo\"}], \"scattergl\": [{\"marker\": {\"colorbar\": {\"outlinewidth\": 0, \"ticks\": \"\"}}, \"type\": \"scattergl\"}], \"scattermapbox\": [{\"marker\": {\"colorbar\": {\"outlinewidth\": 0, \"ticks\": \"\"}}, \"type\": \"scattermapbox\"}], \"scatterpolar\": [{\"marker\": {\"colorbar\": {\"outlinewidth\": 0, \"ticks\": \"\"}}, \"type\": \"scatterpolar\"}], \"scatterpolargl\": [{\"marker\": {\"colorbar\": {\"outlinewidth\": 0, \"ticks\": \"\"}}, \"type\": \"scatterpolargl\"}], \"scatterternary\": [{\"marker\": {\"colorbar\": {\"outlinewidth\": 0, \"ticks\": \"\"}}, \"type\": \"scatterternary\"}], \"surface\": [{\"colorbar\": {\"outlinewidth\": 0, \"ticks\": \"\"}, \"colorscale\": [[0.0, \"#0d0887\"], [0.1111111111111111, \"#46039f\"], [0.2222222222222222, \"#7201a8\"], [0.3333333333333333, \"#9c179e\"], [0.4444444444444444, \"#bd3786\"], [0.5555555555555556, \"#d8576b\"], [0.6666666666666666, \"#ed7953\"], [0.7777777777777778, \"#fb9f3a\"], [0.8888888888888888, \"#fdca26\"], [1.0, \"#f0f921\"]], \"type\": \"surface\"}], \"table\": [{\"cells\": {\"fill\": {\"color\": \"#EBF0F8\"}, \"line\": {\"color\": \"white\"}}, \"header\": {\"fill\": {\"color\": \"#C8D4E3\"}, \"line\": {\"color\": \"white\"}}, \"type\": \"table\"}]}, \"layout\": {\"annotationdefaults\": {\"arrowcolor\": \"#2a3f5f\", \"arrowhead\": 0, \"arrowwidth\": 1}, \"coloraxis\": {\"colorbar\": {\"outlinewidth\": 0, \"ticks\": \"\"}}, \"colorscale\": {\"diverging\": [[0, \"#8e0152\"], [0.1, \"#c51b7d\"], [0.2, \"#de77ae\"], [0.3, \"#f1b6da\"], [0.4, \"#fde0ef\"], [0.5, \"#f7f7f7\"], [0.6, \"#e6f5d0\"], [0.7, \"#b8e186\"], [0.8, \"#7fbc41\"], [0.9, \"#4d9221\"], [1, \"#276419\"]], \"sequential\": [[0.0, \"#0d0887\"], [0.1111111111111111, \"#46039f\"], [0.2222222222222222, \"#7201a8\"], [0.3333333333333333, \"#9c179e\"], [0.4444444444444444, \"#bd3786\"], [0.5555555555555556, \"#d8576b\"], [0.6666666666666666, \"#ed7953\"], [0.7777777777777778, \"#fb9f3a\"], [0.8888888888888888, \"#fdca26\"], [1.0, \"#f0f921\"]], \"sequentialminus\": [[0.0, \"#0d0887\"], [0.1111111111111111, \"#46039f\"], [0.2222222222222222, \"#7201a8\"], [0.3333333333333333, \"#9c179e\"], [0.4444444444444444, \"#bd3786\"], [0.5555555555555556, \"#d8576b\"], [0.6666666666666666, \"#ed7953\"], [0.7777777777777778, \"#fb9f3a\"], [0.8888888888888888, \"#fdca26\"], [1.0, \"#f0f921\"]]}, \"colorway\": [\"#636efa\", \"#EF553B\", \"#00cc96\", \"#ab63fa\", \"#FFA15A\", \"#19d3f3\", \"#FF6692\", \"#B6E880\", \"#FF97FF\", \"#FECB52\"], \"font\": {\"color\": \"#2a3f5f\"}, \"geo\": {\"bgcolor\": \"white\", \"lakecolor\": \"white\", \"landcolor\": \"#E5ECF6\", \"showlakes\": true, \"showland\": true, \"subunitcolor\": \"white\"}, \"hoverlabel\": {\"align\": \"left\"}, \"hovermode\": \"closest\", \"mapbox\": {\"style\": \"light\"}, \"paper_bgcolor\": \"white\", \"plot_bgcolor\": \"#E5ECF6\", \"polar\": {\"angularaxis\": {\"gridcolor\": \"white\", \"linecolor\": \"white\", \"ticks\": \"\"}, \"bgcolor\": \"#E5ECF6\", \"radialaxis\": {\"gridcolor\": \"white\", \"linecolor\": \"white\", \"ticks\": \"\"}}, \"scene\": {\"xaxis\": {\"backgroundcolor\": \"#E5ECF6\", \"gridcolor\": \"white\", \"gridwidth\": 2, \"linecolor\": \"white\", \"showbackground\": true, \"ticks\": \"\", \"zerolinecolor\": \"white\"}, \"yaxis\": {\"backgroundcolor\": \"#E5ECF6\", \"gridcolor\": \"white\", \"gridwidth\": 2, \"linecolor\": \"white\", \"showbackground\": true, \"ticks\": \"\", \"zerolinecolor\": \"white\"}, \"zaxis\": {\"backgroundcolor\": \"#E5ECF6\", \"gridcolor\": \"white\", \"gridwidth\": 2, \"linecolor\": \"white\", \"showbackground\": true, \"ticks\": \"\", \"zerolinecolor\": \"white\"}}, \"shapedefaults\": {\"line\": {\"color\": \"#2a3f5f\"}}, \"ternary\": {\"aaxis\": {\"gridcolor\": \"white\", \"linecolor\": \"white\", \"ticks\": \"\"}, \"baxis\": {\"gridcolor\": \"white\", \"linecolor\": \"white\", \"ticks\": \"\"}, \"bgcolor\": \"#E5ECF6\", \"caxis\": {\"gridcolor\": \"white\", \"linecolor\": \"white\", \"ticks\": \"\"}}, \"title\": {\"x\": 0.05}, \"xaxis\": {\"automargin\": true, \"gridcolor\": \"white\", \"linecolor\": \"white\", \"ticks\": \"\", \"title\": {\"standoff\": 15}, \"zerolinecolor\": \"white\", \"zerolinewidth\": 2}, \"yaxis\": {\"automargin\": true, \"gridcolor\": \"white\", \"linecolor\": \"white\", \"ticks\": \"\", \"title\": {\"standoff\": 15}, \"zerolinecolor\": \"white\", \"zerolinewidth\": 2}}}, \"title\": {\"text\": \"Proje\\u00e7\\u00e3o de casos no Brasil baseados nas taxas de letalidade da Alemanha\"}, \"xaxis\": {\"tickangle\": 45, \"tickfont\": {\"size\": 10}, \"title\": {\"text\": \"Data\"}}, \"yaxis\": {\"title\": {\"text\": \"Proje\\u00e7\\u00e3o\"}}},\n",
              "                        {\"responsive\": true}\n",
              "                    ).then(function(){\n",
              "                            \n",
              "var gd = document.getElementById('4d4627de-7977-4aa9-b7de-a38709ebb3cf');\n",
              "var x = new MutationObserver(function (mutations, observer) {{\n",
              "        var display = window.getComputedStyle(gd).display;\n",
              "        if (!display || display === 'none') {{\n",
              "            console.log([gd, 'removed!']);\n",
              "            Plotly.purge(gd);\n",
              "            observer.disconnect();\n",
              "        }}\n",
              "}});\n",
              "\n",
              "// Listen for the removal of the full notebook cells\n",
              "var notebookContainer = gd.closest('#notebook-container');\n",
              "if (notebookContainer) {{\n",
              "    x.observe(notebookContainer, {childList: true});\n",
              "}}\n",
              "\n",
              "// Listen for the clearing of the current output cell\n",
              "var outputEl = gd.closest('.output');\n",
              "if (outputEl) {{\n",
              "    x.observe(outputEl, {childList: true});\n",
              "}}\n",
              "\n",
              "                        })\n",
              "                };\n",
              "                \n",
              "            </script>\n",
              "        </div>\n",
              "</body>\n",
              "</html>"
            ]
          },
          "metadata": {
            "tags": []
          }
        }
      ]
    },
    {
      "cell_type": "code",
      "metadata": {
        "id": "oWv-09wacftD",
        "colab_type": "code",
        "colab": {}
      },
      "source": [
        "#hide\n",
        "scand = ['Denmark','Norway','Sweden','Finland','Iceland']"
      ],
      "execution_count": 0,
      "outputs": []
    },
    {
      "cell_type": "code",
      "metadata": {
        "id": "GzodccrY0ECu",
        "colab_type": "code",
        "colab": {}
      },
      "source": [
        "#hide\n",
        "scandinavia = data3[data3['countriesAndTerritories'].isin(scand)]\n",
        "scandinavia"
      ],
      "execution_count": 0,
      "outputs": []
    },
    {
      "cell_type": "code",
      "metadata": {
        "id": "pTLVkb2JIVLn",
        "colab_type": "code",
        "colab": {}
      },
      "source": [
        "#hide\n",
        "final_data=final_data.fillna(method='bfill')\n",
        "final_data = final_data.sort_values(by=['dateRep','countriesAndTerritories'])\n",
        "final_data['dateRep']=final_data['dateRep'].astype(str)\n"
      ],
      "execution_count": 0,
      "outputs": []
    },
    {
      "cell_type": "code",
      "metadata": {
        "id": "YysPfAjlKeBg",
        "colab_type": "code",
        "colab": {}
      },
      "source": [
        "#hide\n",
        "final_data.tail()"
      ],
      "execution_count": 0,
      "outputs": []
    },
    {
      "cell_type": "code",
      "metadata": {
        "id": "v4FJJAs64LOW",
        "colab_type": "code",
        "colab": {}
      },
      "source": [
        "#hide\n",
        "import plotly.express as px\n",
        "fig = px.bar(final_data,x=\"deathcum\", y='countriesAndTerritories', color='countriesAndTerritories',orientation='h',\n",
        "             color_discrete_sequence=px.colors.qualitative.G10,title=\"Letalidade - {}\",animation_frame=\"dateRep\",animation_group='countriesAndTerritories', range_x=[0,30000])\n",
        "fig.update_layout(yaxis_type = 'category')\n",
        "fig.update_layout(legend= {'title':'País','borderwidth':0,'orientation':'v','yanchor':'top','font':{'size':8}})\n",
        "fig.show()"
      ],
      "execution_count": 0,
      "outputs": []
    },
    {
      "cell_type": "code",
      "metadata": {
        "id": "D6tzWTpthVJx",
        "colab_type": "code",
        "colab": {}
      },
      "source": [
        ""
      ],
      "execution_count": 0,
      "outputs": []
    },
    {
      "cell_type": "code",
      "metadata": {
        "id": "qouM_8MwIgi5",
        "colab_type": "code",
        "colab": {}
      },
      "source": [
        ""
      ],
      "execution_count": 0,
      "outputs": []
    }
  ]
}